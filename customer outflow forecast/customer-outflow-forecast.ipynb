{
 "cells": [
  {
   "cell_type": "markdown",
   "metadata": {},
   "source": [
    "<img src=\"http://s3.amazonaws.com/pix.iemoji.com/images/emoji/apple/ios-12/256/waving-hand.png\" align=left width=44, heigth=44>\n",
    "<div class=\"alert alert-info\">\n",
    "<b> Комментарий ревьюера</b>\n",
    "\n",
    "\n",
    "Привет, Наталья! Давай знакомиться! Меня зовут Дмитрий Махортов, и я буду проверять твой проект. Сразу предлагаю общение на «ты» 🙂, но если тебе это не комфортно, то дай знать, и мы перейдем на «вы». \n",
    "\n",
    "Моя основная цель — не указать на совершенные тобою ошибки, а поделиться своим опытом и помочь тебе погрузиться в увлекательный мир работы с данными и вырасти в крепкого профи. Это отдаленная цель. А ближайшая - сделать твою работу еще лучше )).\n",
    "   \n",
    "    \n",
    "Все ключевые этапы в работе выполнены, и я вижу что с проектом ты справшяешься. Есть моменты, которые нужно доработать, но я уверен, у тебя все получится.\n",
    " \n",
    "Есть несколько аспектов, которые потребуют твоего внимания. Комментарии по ним выделены <span style='background-color:#F7B3A4'> красным цветом </span> и обозначены значком 🛑. После их доработки проект будет принят. Осталось совсем немного, буду ждать твою работу на повторное ревью 🙂\n",
    "\n",
    "\n",
    "<span style='background-color:#B7EBA7'> Зеленым цветом </span> и значком ✅ отмечены удачные и элегантные решения, на которые можно опираться в будущих проектах. Или советы «со звездочкой», которые помогут тебе в будущем.\n",
    "\n",
    "<span style='background-color:#F9EDA6'>Жёлтым цветом </span> и значком ⚠️ выделено то, что в следующий раз можно сделать по-другому. Ты можешь учесть эти комментарии при выполнении будущих заданий или доработать проект сейчас (однако это не обязательно).\n",
    "\n",
    "Давай работать над проектом в диалоге: **если ты что-то меняешь в проекте по моим рекомендациям — пиши об этом**. Выбери для своих комментариев какой-то заметный цвет, так мне будет легче отследить изменения. Пожалуйста, **не перемещай, не изменяй и не удаляй мои комментарии**. Всё это поможет выполнить повторную проверку твоего проекта оперативнее. \n",
    "</div>"
   ]
  },
  {
   "cell_type": "markdown",
   "metadata": {
    "toc": true
   },
   "source": [
    "<h1>Содержание<span class=\"tocSkip\"></span></h1>\n",
    "<div class=\"toc\"><ul class=\"toc-item\"><li><span><a href=\"#Подготовка-данных\" data-toc-modified-id=\"Подготовка-данных-1\"><span class=\"toc-item-num\">1&nbsp;&nbsp;</span>Подготовка данных</a></span></li><li><span><a href=\"#Исследование-задачи\" data-toc-modified-id=\"Исследование-задачи-2\"><span class=\"toc-item-num\">2&nbsp;&nbsp;</span>Исследование задачи</a></span></li><li><span><a href=\"#Борьба-с-дисбалансом\" data-toc-modified-id=\"Борьба-с-дисбалансом-3\"><span class=\"toc-item-num\">3&nbsp;&nbsp;</span>Борьба с дисбалансом</a></span><ul class=\"toc-item\"><li><span><a href=\"#Изменение-порога\" data-toc-modified-id=\"Изменение-порога-3.1\"><span class=\"toc-item-num\">3.1&nbsp;&nbsp;</span>Изменение порога</a></span></li><li><span><a href=\"#Увеличение-выборки-редкого-класса\" data-toc-modified-id=\"Увеличение-выборки-редкого-класса-3.2\"><span class=\"toc-item-num\">3.2&nbsp;&nbsp;</span>Увеличение выборки редкого класса</a></span></li><li><span><a href=\"#Уменьшение-выборки-частого-класса\" data-toc-modified-id=\"Уменьшение-выборки-частого-класса-3.3\"><span class=\"toc-item-num\">3.3&nbsp;&nbsp;</span>Уменьшение выборки частого класса</a></span></li><li><span><a href=\"#Пропорциональное-разбиение\" data-toc-modified-id=\"Пропорциональное-разбиение-3.4\"><span class=\"toc-item-num\">3.4&nbsp;&nbsp;</span>Пропорциональное разбиение</a></span></li></ul></li><li><span><a href=\"#Тестирование-модели\" data-toc-modified-id=\"Тестирование-модели-4\"><span class=\"toc-item-num\">4&nbsp;&nbsp;</span>Тестирование модели</a></span></li><li><span><a href=\"#Чек-лист-готовности-проекта\" data-toc-modified-id=\"Чек-лист-готовности-проекта-5\"><span class=\"toc-item-num\">5&nbsp;&nbsp;</span>Чек-лист готовности проекта</a></span></li></ul></div>"
   ]
  },
  {
   "cell_type": "markdown",
   "metadata": {},
   "source": [
    "# Отток клиентов"
   ]
  },
  {
   "cell_type": "markdown",
   "metadata": {},
   "source": [
    "Из «Бета-Банка» стали уходить клиенты. Каждый месяц. Немного, но заметно. Банковские маркетологи посчитали: сохранять текущих клиентов дешевле, чем привлекать новых.\n",
    "\n",
    "Нужно спрогнозировать, уйдёт клиент из банка в ближайшее время или нет. Вам предоставлены исторические данные о поведении клиентов и расторжении договоров с банком. \n",
    "\n",
    "Постройте модель с предельно большим значением *F1*-меры. Чтобы сдать проект успешно, нужно довести метрику до 0.59. Проверьте *F1*-меру на тестовой выборке самостоятельно.\n",
    "\n",
    "Дополнительно измеряйте *AUC-ROC*, сравнивайте её значение с *F1*-мерой.\n",
    "\n",
    "Источник данных: [https://www.kaggle.com/barelydedicated/bank-customer-churn-modeling](https://www.kaggle.com/barelydedicated/bank-customer-churn-modeling)"
   ]
  },
  {
   "cell_type": "markdown",
   "metadata": {},
   "source": [
    "## Подготовка данных"
   ]
  },
  {
   "cell_type": "code",
   "execution_count": 60,
   "metadata": {},
   "outputs": [],
   "source": [
    "import pandas as pd\n",
    "from sklearn.tree import DecisionTreeClassifier\n",
    "from sklearn.ensemble import RandomForestClassifier\n",
    "from sklearn.linear_model import LogisticRegression \n",
    "from sklearn.model_selection import train_test_split\n",
    "from sklearn.preprocessing import StandardScaler \n",
    "from sklearn.metrics import f1_score\n",
    "from sklearn.metrics import recall_score\n",
    "from sklearn.metrics import precision_score\n",
    "from sklearn.metrics import precision_recall_curve\n",
    "import matplotlib.pyplot as plt\n",
    "from sklearn.metrics import roc_auc_score\n",
    "from sklearn.utils import shuffle\n",
    "import numpy as np"
   ]
  },
  {
   "cell_type": "markdown",
   "metadata": {},
   "source": [
    "<img src=\"https://emojigraph.org/media/apple/check-mark-button_2705.png\" align=left width=33, heigth=33>\n",
    "<div class=\"alert alert-success\">\n",
    "Отлично, все нужные библиотеки импортированы в начале ноутбука.Это хорошая практика.</div>"
   ]
  },
  {
   "cell_type": "code",
   "execution_count": 61,
   "metadata": {},
   "outputs": [],
   "source": [
    "data = pd.read_csv('/datasets/Churn.csv')"
   ]
  },
  {
   "cell_type": "code",
   "execution_count": 62,
   "metadata": {},
   "outputs": [
    {
     "name": "stdout",
     "output_type": "stream",
     "text": [
      "<class 'pandas.core.frame.DataFrame'>\n",
      "RangeIndex: 10000 entries, 0 to 9999\n",
      "Data columns (total 14 columns):\n",
      " #   Column           Non-Null Count  Dtype  \n",
      "---  ------           --------------  -----  \n",
      " 0   RowNumber        10000 non-null  int64  \n",
      " 1   CustomerId       10000 non-null  int64  \n",
      " 2   Surname          10000 non-null  object \n",
      " 3   CreditScore      10000 non-null  int64  \n",
      " 4   Geography        10000 non-null  object \n",
      " 5   Gender           10000 non-null  object \n",
      " 6   Age              10000 non-null  int64  \n",
      " 7   Tenure           9091 non-null   float64\n",
      " 8   Balance          10000 non-null  float64\n",
      " 9   NumOfProducts    10000 non-null  int64  \n",
      " 10  HasCrCard        10000 non-null  int64  \n",
      " 11  IsActiveMember   10000 non-null  int64  \n",
      " 12  EstimatedSalary  10000 non-null  float64\n",
      " 13  Exited           10000 non-null  int64  \n",
      "dtypes: float64(3), int64(8), object(3)\n",
      "memory usage: 1.1+ MB\n"
     ]
    }
   ],
   "source": [
    "data.info()"
   ]
  },
  {
   "cell_type": "code",
   "execution_count": 63,
   "metadata": {},
   "outputs": [
    {
     "data": {
      "text/html": [
       "<div>\n",
       "<style scoped>\n",
       "    .dataframe tbody tr th:only-of-type {\n",
       "        vertical-align: middle;\n",
       "    }\n",
       "\n",
       "    .dataframe tbody tr th {\n",
       "        vertical-align: top;\n",
       "    }\n",
       "\n",
       "    .dataframe thead th {\n",
       "        text-align: right;\n",
       "    }\n",
       "</style>\n",
       "<table border=\"1\" class=\"dataframe\">\n",
       "  <thead>\n",
       "    <tr style=\"text-align: right;\">\n",
       "      <th></th>\n",
       "      <th>RowNumber</th>\n",
       "      <th>CustomerId</th>\n",
       "      <th>Surname</th>\n",
       "      <th>CreditScore</th>\n",
       "      <th>Geography</th>\n",
       "      <th>Gender</th>\n",
       "      <th>Age</th>\n",
       "      <th>Tenure</th>\n",
       "      <th>Balance</th>\n",
       "      <th>NumOfProducts</th>\n",
       "      <th>HasCrCard</th>\n",
       "      <th>IsActiveMember</th>\n",
       "      <th>EstimatedSalary</th>\n",
       "      <th>Exited</th>\n",
       "    </tr>\n",
       "  </thead>\n",
       "  <tbody>\n",
       "    <tr>\n",
       "      <th>0</th>\n",
       "      <td>1</td>\n",
       "      <td>15634602</td>\n",
       "      <td>Hargrave</td>\n",
       "      <td>619</td>\n",
       "      <td>France</td>\n",
       "      <td>Female</td>\n",
       "      <td>42</td>\n",
       "      <td>2.0</td>\n",
       "      <td>0.00</td>\n",
       "      <td>1</td>\n",
       "      <td>1</td>\n",
       "      <td>1</td>\n",
       "      <td>101348.88</td>\n",
       "      <td>1</td>\n",
       "    </tr>\n",
       "    <tr>\n",
       "      <th>1</th>\n",
       "      <td>2</td>\n",
       "      <td>15647311</td>\n",
       "      <td>Hill</td>\n",
       "      <td>608</td>\n",
       "      <td>Spain</td>\n",
       "      <td>Female</td>\n",
       "      <td>41</td>\n",
       "      <td>1.0</td>\n",
       "      <td>83807.86</td>\n",
       "      <td>1</td>\n",
       "      <td>0</td>\n",
       "      <td>1</td>\n",
       "      <td>112542.58</td>\n",
       "      <td>0</td>\n",
       "    </tr>\n",
       "    <tr>\n",
       "      <th>2</th>\n",
       "      <td>3</td>\n",
       "      <td>15619304</td>\n",
       "      <td>Onio</td>\n",
       "      <td>502</td>\n",
       "      <td>France</td>\n",
       "      <td>Female</td>\n",
       "      <td>42</td>\n",
       "      <td>8.0</td>\n",
       "      <td>159660.80</td>\n",
       "      <td>3</td>\n",
       "      <td>1</td>\n",
       "      <td>0</td>\n",
       "      <td>113931.57</td>\n",
       "      <td>1</td>\n",
       "    </tr>\n",
       "    <tr>\n",
       "      <th>3</th>\n",
       "      <td>4</td>\n",
       "      <td>15701354</td>\n",
       "      <td>Boni</td>\n",
       "      <td>699</td>\n",
       "      <td>France</td>\n",
       "      <td>Female</td>\n",
       "      <td>39</td>\n",
       "      <td>1.0</td>\n",
       "      <td>0.00</td>\n",
       "      <td>2</td>\n",
       "      <td>0</td>\n",
       "      <td>0</td>\n",
       "      <td>93826.63</td>\n",
       "      <td>0</td>\n",
       "    </tr>\n",
       "    <tr>\n",
       "      <th>4</th>\n",
       "      <td>5</td>\n",
       "      <td>15737888</td>\n",
       "      <td>Mitchell</td>\n",
       "      <td>850</td>\n",
       "      <td>Spain</td>\n",
       "      <td>Female</td>\n",
       "      <td>43</td>\n",
       "      <td>2.0</td>\n",
       "      <td>125510.82</td>\n",
       "      <td>1</td>\n",
       "      <td>1</td>\n",
       "      <td>1</td>\n",
       "      <td>79084.10</td>\n",
       "      <td>0</td>\n",
       "    </tr>\n",
       "  </tbody>\n",
       "</table>\n",
       "</div>"
      ],
      "text/plain": [
       "   RowNumber  CustomerId   Surname  CreditScore Geography  Gender  Age  \\\n",
       "0          1    15634602  Hargrave          619    France  Female   42   \n",
       "1          2    15647311      Hill          608     Spain  Female   41   \n",
       "2          3    15619304      Onio          502    France  Female   42   \n",
       "3          4    15701354      Boni          699    France  Female   39   \n",
       "4          5    15737888  Mitchell          850     Spain  Female   43   \n",
       "\n",
       "   Tenure    Balance  NumOfProducts  HasCrCard  IsActiveMember  \\\n",
       "0     2.0       0.00              1          1               1   \n",
       "1     1.0   83807.86              1          0               1   \n",
       "2     8.0  159660.80              3          1               0   \n",
       "3     1.0       0.00              2          0               0   \n",
       "4     2.0  125510.82              1          1               1   \n",
       "\n",
       "   EstimatedSalary  Exited  \n",
       "0        101348.88       1  \n",
       "1        112542.58       0  \n",
       "2        113931.57       1  \n",
       "3         93826.63       0  \n",
       "4         79084.10       0  "
      ]
     },
     "execution_count": 63,
     "metadata": {},
     "output_type": "execute_result"
    }
   ],
   "source": [
    "data.head()"
   ]
  },
  {
   "cell_type": "markdown",
   "metadata": {},
   "source": [
    "Выводы после первого просмотра данных:\n",
    "\n",
    "1. есть лишний столбец RowNumber. Он появился, видимо, по ошибке.\n",
    "2. Есть пропуски в столбце Tenure. Возможно, их можно заменить на 0, но это не очевидно. Пропусков менее 10%, поэтому легче их удалить\n",
    "3. есть столбцы, которые не понадобятся для обучения — CustomerId и Surname. Нужно, чтобы они не попали в признаки\n",
    "4. остаются категориальные признаки Geography и Gender. Их нужно будет перевести в числе количественные\n",
    "5. будущие признаки разного машстаба. Необходимо провести стандартизацию"
   ]
  },
  {
   "cell_type": "markdown",
   "metadata": {},
   "source": [
    "<img src=\"https://emojigraph.org/media/apple/check-mark-button_2705.png\" align=left width=33, heigth=33>\n",
    "<div class=\"alert alert-success\">\n",
    "👍 Данные загружены и ты с ними познакомилась. Есть первые выводы.</div>"
   ]
  },
  {
   "cell_type": "markdown",
   "metadata": {},
   "source": [
    "<img src=\"https://upload.wikimedia.org/wikipedia/commons/b/ba/Warning_sign_4.0.png\" align=left width=44, heigth=33>\n",
    "<div class=\"alert alert-warning\">\n",
    "К неинфомативным столбцам я бы отнес также CustomerId и Surname. Внутренний id пользователя и его фамилия не могут влиять на тариф.\n",
    "</div>"
   ]
  },
  {
   "cell_type": "code",
   "execution_count": 64,
   "metadata": {},
   "outputs": [],
   "source": [
    "#избавляемся от ненужного столбца\n",
    "\n",
    "data = data.drop(labels=['RowNumber'], axis=1)"
   ]
  },
  {
   "cell_type": "markdown",
   "metadata": {},
   "source": [
    "<img src=\"https://emojigraph.org/media/apple/check-mark-button_2705.png\" align=left width=33, heigth=33>\n",
    "<div class=\"alert alert-success\">\n",
    "👍 Удалена одна неинформативная колонка.\n",
    "</div>"
   ]
  },
  {
   "cell_type": "markdown",
   "metadata": {},
   "source": [
    "<img src=\"https://upload.wikimedia.org/wikipedia/commons/b/ba/Warning_sign_4.0.png\" align=left width=44, heigth=33>\n",
    "<div class=\"alert alert-warning\">\n",
    "Было бы неплохо сразу удалить и 'CustomerId', 'Surname', хотя я вижу, что ты удаляешь их чуть ниже.\n",
    "</div>"
   ]
  },
  {
   "cell_type": "code",
   "execution_count": 65,
   "metadata": {},
   "outputs": [],
   "source": [
    "#избавляемся от пропусков в Tenure\n",
    "\n",
    "data.dropna(subset=['Tenure'],inplace=True) "
   ]
  },
  {
   "cell_type": "markdown",
   "metadata": {},
   "source": [
    "<img src=\"https://upload.wikimedia.org/wikipedia/commons/b/ba/Warning_sign_4.0.png\" align=left width=44, heigth=33>\n",
    "<div class=\"alert alert-warning\">\n",
    "Ты приняла решение удалить пропуски, что являетя не самым лучшим решение в данной ситуации, т.к. мы теряем 9% даных, а это достаточно много.  Рекомендованный вариант - заполнение медианным значением. Рекомендую освежить в памяти теорию (Спринт 3, Работа с пропусками, Работа с пропусками в количественных переменных).\n",
    "</div>"
   ]
  },
  {
   "cell_type": "code",
   "execution_count": 66,
   "metadata": {
    "scrolled": true
   },
   "outputs": [],
   "source": [
    "#прямое кодирование категориальных признаков\n",
    "\n",
    "data_ohe = pd.get_dummies(data, columns = ['Geography','Gender'],drop_first = True)"
   ]
  },
  {
   "cell_type": "markdown",
   "metadata": {},
   "source": [
    "<img src=\"https://emojigraph.org/media/apple/check-mark-button_2705.png\" align=left width=33, heigth=33>\n",
    "<div class=\"alert alert-success\">\n",
    "Отлично, после кодирования нет избыточных переменных (использован аргумент drop_first=True)</div>"
   ]
  },
  {
   "cell_type": "code",
   "execution_count": 67,
   "metadata": {},
   "outputs": [],
   "source": [
    "#выделение признаков и целевого признака\n",
    "\n",
    "features = data_ohe.drop(columns =['Exited','CustomerId','Surname'], axis =1)\n",
    "target = data_ohe['Exited']"
   ]
  },
  {
   "cell_type": "markdown",
   "metadata": {},
   "source": [
    "Сразу посмотрим на соотношение классов"
   ]
  },
  {
   "cell_type": "code",
   "execution_count": 68,
   "metadata": {},
   "outputs": [
    {
     "data": {
      "text/plain": [
       "0    0.796062\n",
       "1    0.203938\n",
       "Name: Exited, dtype: float64"
      ]
     },
     "execution_count": 68,
     "metadata": {},
     "output_type": "execute_result"
    }
   ],
   "source": [
    "target.value_counts(normalize=True)\n"
   ]
  },
  {
   "cell_type": "markdown",
   "metadata": {},
   "source": [
    "<img src=\"https://upload.wikimedia.org/wikipedia/commons/b/ba/Warning_sign_4.0.png\" align=left width=44, heigth=33>\n",
    "<div class=\"alert alert-warning\">\n",
    "Лучше нормализовать частоты классов используя value_counts(normalize=True)\n",
    "</div>"
   ]
  },
  {
   "cell_type": "code",
   "execution_count": 69,
   "metadata": {},
   "outputs": [
    {
     "data": {
      "text/plain": [
       "<AxesSubplot:>"
      ]
     },
     "execution_count": 69,
     "metadata": {},
     "output_type": "execute_result"
    },
    {
     "data": {
      "image/png": "[encoded data removed]",
      "text/plain": [
       "<Figure size 432x288 with 1 Axes>"
      ]
     },
     "metadata": {
      "needs_background": "light"
     },
     "output_type": "display_data"
    }
   ],
   "source": [
    "target.value_counts().plot(kind='bar')"
   ]
  },
  {
   "cell_type": "markdown",
   "metadata": {},
   "source": [
    "<img src=\"https://upload.wikimedia.org/wikipedia/commons/thumb/8/81/Stop_sign.png/240px-Stop_sign.png\" align=left width=35, heigth=35>\n",
    "<div class=\"alert alert-danger\">\n",
    "Баланс классов исследован, но  прошу дополнительно проиллюстрировать баланс классов с помощью графика (хорошо подойдет столбчатая диаграмма) или таблицы. \n",
    "</div>"
   ]
  },
  {
   "cell_type": "markdown",
   "metadata": {},
   "source": [
    "<div class=\"alert alert-block alert-info\">\n",
    "Добавила нормировку частот и график\n",
    "</div>"
   ]
  },
  {
   "cell_type": "markdown",
   "metadata": {},
   "source": [
    "<img src=\"https://emojigraph.org/media/apple/check-mark-button_2705.png\" align=left width=33, heigth=33>\n",
    "<div class=\"alert alert-success\">\n",
    "<b>v2</b> 👍 </div>"
   ]
  },
  {
   "cell_type": "markdown",
   "metadata": {},
   "source": [
    "Соотношение классов — примерно 1:4. Не самое плохое, но будет влиять на работу модели"
   ]
  },
  {
   "cell_type": "markdown",
   "metadata": {},
   "source": [
    "<img src=\"https://upload.wikimedia.org/wikipedia/commons/thumb/8/81/Stop_sign.png/240px-Stop_sign.png\" align=left width=35, heigth=35>\n",
    "<div class=\"alert alert-danger\">\n",
    "Здесь нарушена последовательность шагов.\n",
    "Нормирование безусловно нужно. Но любые операции с данными нужно производить после разбиения на обучениие/валидацию тест.\n",
    "Обычно мы обучаем scaler на обучающих данных, затем применяем его ко всем (обучающим и валидационным/тестовым).\n",
    "</div>"
   ]
  },
  {
   "cell_type": "markdown",
   "metadata": {},
   "source": [
    "<div class=\"alert alert-block alert-info\">\n",
    "Перенесла нормировку ниже\n",
    "</div>"
   ]
  },
  {
   "cell_type": "markdown",
   "metadata": {},
   "source": [
    "<img src=\"https://emojigraph.org/media/apple/check-mark-button_2705.png\" align=left width=33, heigth=33>\n",
    "<div class=\"alert alert-success\">\n",
    "<b>v2</b> 👍 </div>"
   ]
  },
  {
   "cell_type": "code",
   "execution_count": 70,
   "metadata": {},
   "outputs": [],
   "source": [
    "# разбивка данных на выборки в соотношении 60-20-20\n",
    "\n",
    "features_train, features_valid,  target_train, target_valid = train_test_split(\n",
    "    features, target, test_size=0.4, random_state=1)\n",
    "\n",
    "features_valid, features_test,  target_valid, target_test = train_test_split(\n",
    "    features_valid, target_valid, test_size=0.5, random_state=1)"
   ]
  },
  {
   "cell_type": "markdown",
   "metadata": {},
   "source": [
    "<img src=\"https://emojigraph.org/media/apple/check-mark-button_2705.png\" align=left width=33, heigth=33>\n",
    "<div class=\"alert alert-success\">\n",
    "\n",
    "👍 Корректно разделила данные на три выборки. В будущем рекомендую обратить внимание на аргумент stratify метода train_test_split.  Стратификация особенно важна, когда у нас мало данных и возможен дисбаланс классов в обучении / валидации / тесте.\n",
    "   Также рекомендую после разбиения проверить размерность получившихся выборок с помощью ```.shape()```.\n",
    "    \n",
    "</div>"
   ]
  },
  {
   "cell_type": "code",
   "execution_count": 71,
   "metadata": {},
   "outputs": [],
   "source": [
    "#масштабирование признаков\n",
    "scaler = StandardScaler().fit(features_train)\n",
    "\n",
    "features_train = pd.DataFrame(scaler.transform(features_train),\n",
    "                        index = features_train.index, \n",
    "                        columns = features_train.columns)\n",
    "\n",
    "features_valid = pd.DataFrame(scaler.transform(features_valid),\n",
    "                        index = features_valid.index, \n",
    "                        columns = features_valid.columns)\n",
    "\n",
    "features_test = pd.DataFrame(scaler.transform(features_test),\n",
    "                        index = features_test.index, \n",
    "                        columns = features_test.columns)"
   ]
  },
  {
   "cell_type": "markdown",
   "metadata": {},
   "source": [
    "## Исследование задачи"
   ]
  },
  {
   "cell_type": "markdown",
   "metadata": {},
   "source": [
    "Сначала исследуем разные модели без дополнительной обработки "
   ]
  },
  {
   "cell_type": "code",
   "execution_count": 72,
   "metadata": {
    "scrolled": false
   },
   "outputs": [
    {
     "data": {
      "text/plain": [
       "0.5674740484429066"
      ]
     },
     "execution_count": 72,
     "metadata": {},
     "output_type": "execute_result"
    }
   ],
   "source": [
    "#Подборка лучших параметров модели случайного леса\n",
    "\n",
    "best_result = 0\n",
    "for est in range(5, 61, 5):\n",
    "    for depth in range (1, 20):\n",
    "        model = RandomForestClassifier(random_state=12345, n_estimators=est, max_depth=depth)\n",
    "        model.fit(features_train,target_train)\n",
    "        predictions = model.predict(features_valid) \n",
    "        result = f1_score(target_valid, predictions)\n",
    "       \n",
    "        if result > best_result:\n",
    "            best_forest_model = model \n",
    "            best_result = result\n",
    "            best_n_estimators = est\n",
    "            best_max_depth = depth\n",
    "            \n",
    "predicted_valid = best_forest_model.predict(features_valid)\n",
    "f1_score(target_valid, predicted_valid)"
   ]
  },
  {
   "cell_type": "code",
   "execution_count": 73,
   "metadata": {},
   "outputs": [
    {
     "data": {
      "text/plain": [
       "0.8430053466629283"
      ]
     },
     "execution_count": 73,
     "metadata": {},
     "output_type": "execute_result"
    }
   ],
   "source": [
    "probabilities_valid = model.predict_proba(features_valid)\n",
    "probabilities_one_valid = probabilities_valid[:, 1]\n",
    "roc_auc_score(target_valid,probabilities_one_valid)"
   ]
  },
  {
   "cell_type": "markdown",
   "metadata": {},
   "source": [
    "<img src=\"https://emojigraph.org/media/apple/check-mark-button_2705.png\" align=left width=33, heigth=33>\n",
    "<div class=\"alert alert-success\">\n",
    "👍  И круто, что помнишь, что ROC-AUC расчитывается с помощью predict_proba \n",
    "</div>"
   ]
  },
  {
   "cell_type": "markdown",
   "metadata": {},
   "source": [
    "F1 уже почти достиг искомого значения в 0.59, AUC-ROC уже достаточно высокий"
   ]
  },
  {
   "cell_type": "code",
   "execution_count": 74,
   "metadata": {},
   "outputs": [
    {
     "data": {
      "text/plain": [
       "0.2594142259414226"
      ]
     },
     "execution_count": 74,
     "metadata": {},
     "output_type": "execute_result"
    }
   ],
   "source": [
    "#Модель логистической регрессии\n",
    "\n",
    "model = LogisticRegression(random_state=1, \n",
    "                           solver= 'liblinear',\n",
    "                           max_iter=100)\n",
    "model.fit(features_train,target_train)\n",
    "predicted_valid = model.predict(features_valid) \n",
    "f1_score(target_valid, predicted_valid)"
   ]
  },
  {
   "cell_type": "code",
   "execution_count": 75,
   "metadata": {
    "scrolled": true
   },
   "outputs": [
    {
     "data": {
      "text/plain": [
       "0.7560142706590994"
      ]
     },
     "execution_count": 75,
     "metadata": {},
     "output_type": "execute_result"
    }
   ],
   "source": [
    "probabilities_valid = model.predict_proba(features_valid)\n",
    "probabilities_one_valid = probabilities_valid[:, 1]\n",
    "roc_auc_score(target_valid,probabilities_one_valid)"
   ]
  },
  {
   "cell_type": "markdown",
   "metadata": {},
   "source": [
    "Вывод:\n",
    "\n",
    "Логистическая регрессия дает разультат гораздо хуже, а случайный лес дал почти желаемый результат. "
   ]
  },
  {
   "cell_type": "markdown",
   "metadata": {},
   "source": [
    "<img src=\"https://emojigraph.org/media/apple/check-mark-button_2705.png\" align=left width=33, heigth=33>\n",
    "<div class=\"alert alert-success\">\n",
    "👍 </div>"
   ]
  },
  {
   "cell_type": "markdown",
   "metadata": {},
   "source": [
    "## Борьба с дисбалансом"
   ]
  },
  {
   "cell_type": "code",
   "execution_count": 92,
   "metadata": {},
   "outputs": [
    {
     "data": {
      "text/plain": [
       "0.4681724845995894"
      ]
     },
     "execution_count": 92,
     "metadata": {},
     "output_type": "execute_result"
    }
   ],
   "source": [
    "#попытка улучшить модель логистической регрессии с помощью взвешивания классов\n",
    "\n",
    "model = LogisticRegression(random_state=12345, \n",
    "                           solver= 'liblinear',\n",
    "                           max_iter=100,\n",
    "                           class_weight='balanced') #применяем взвешивание классов\n",
    "\n",
    "model.fit(features_train,target_train)\n",
    "predicted_valid = model.predict(features_valid) \n",
    "f1_score(target_valid, predicted_valid)"
   ]
  },
  {
   "cell_type": "code",
   "execution_count": 93,
   "metadata": {},
   "outputs": [
    {
     "data": {
      "text/plain": [
       "0.7563101257867716"
      ]
     },
     "execution_count": 93,
     "metadata": {},
     "output_type": "execute_result"
    }
   ],
   "source": [
    "probabilities_valid = model.predict_proba(features_valid)\n",
    "probabilities_one_valid = probabilities_valid[:, 1]\n",
    "roc_auc_score(target_valid,probabilities_one_valid)"
   ]
  },
  {
   "cell_type": "markdown",
   "metadata": {},
   "source": [
    "F1 логистической регрессии увеличилась почти в два раза, но еще слишком мала, AUC-ROC практически не изменился"
   ]
  },
  {
   "cell_type": "markdown",
   "metadata": {},
   "source": [
    "<img src=\"https://emojigraph.org/media/apple/check-mark-button_2705.png\" align=left width=33, heigth=33>\n",
    "<div class=\"alert alert-success\">\n",
    "👍 </div>"
   ]
  },
  {
   "cell_type": "markdown",
   "metadata": {},
   "source": [
    "<img src=\"https://upload.wikimedia.org/wikipedia/commons/thumb/8/81/Stop_sign.png/240px-Stop_sign.png\" align=left width=35, heigth=35>\n",
    "<div class=\"alert alert-danger\">\n",
    "Здесь и во всех дальнейших экспериментах прошу вычислить обе метрики - F1 и AUC-ROC.\n",
    "</div>"
   ]
  },
  {
   "cell_type": "markdown",
   "metadata": {},
   "source": [
    "<div class=\"alert alert-block alert-info\">\n",
    "Добавила вычисление AUC-ROC\n",
    "</div>"
   ]
  },
  {
   "cell_type": "markdown",
   "metadata": {},
   "source": [
    "<img src=\"https://emojigraph.org/media/apple/check-mark-button_2705.png\" align=left width=33, heigth=33>\n",
    "<div class=\"alert alert-success\">\n",
    "<b>v2</b> 👍 </div>"
   ]
  },
  {
   "cell_type": "markdown",
   "metadata": {},
   "source": [
    "### Изменение порога"
   ]
  },
  {
   "cell_type": "code",
   "execution_count": 77,
   "metadata": {},
   "outputs": [
    {
     "data": {
      "image/png": "[encoded data removed]",
      "text/plain": [
       "<Figure size 432x432 with 1 Axes>"
      ]
     },
     "metadata": {
      "needs_background": "light"
     },
     "output_type": "display_data"
    }
   ],
   "source": [
    "# проверка соотношения точности и полноты при изменении порога классификации\n",
    "\n",
    "probabilities_valid = model.predict_proba(features_valid)\n",
    "precision, recall, thresholds = precision_recall_curve(target_valid, \n",
    "                                                       probabilities_valid[:, 1])\n",
    "\n",
    "plt.figure(figsize=(6, 6))\n",
    "plt.step(recall, precision, where='post')\n",
    "plt.xlabel('Recall')\n",
    "plt.ylabel('Precision')\n",
    "plt.ylim([0.0, 1.0])\n",
    "plt.xlim([0.0, 1.0])\n",
    "plt.title('Кривая Precision-Recall')\n",
    "plt.show() \n"
   ]
  },
  {
   "cell_type": "code",
   "execution_count": 78,
   "metadata": {},
   "outputs": [
    {
     "name": "stdout",
     "output_type": "stream",
     "text": [
      "Порог = 0.00 | Точность = 0.194, Полнота = 1.000, F1 = 0.325\n",
      "Порог = 0.02 | Точность = 0.194, Полнота = 1.000, F1 = 0.325\n",
      "Порог = 0.04 | Точность = 0.194, Полнота = 1.000, F1 = 0.325\n",
      "Порог = 0.06 | Точность = 0.195, Полнота = 0.997, F1 = 0.326\n",
      "Порог = 0.08 | Точность = 0.197, Полнота = 0.997, F1 = 0.328\n",
      "Порог = 0.10 | Точность = 0.200, Полнота = 0.994, F1 = 0.334\n",
      "Порог = 0.12 | Точность = 0.204, Полнота = 0.994, F1 = 0.339\n",
      "Порог = 0.14 | Точность = 0.210, Полнота = 0.989, F1 = 0.346\n",
      "Порог = 0.16 | Точность = 0.218, Полнота = 0.986, F1 = 0.357\n",
      "Порог = 0.18 | Точность = 0.224, Полнота = 0.975, F1 = 0.364\n",
      "Порог = 0.20 | Точность = 0.231, Полнота = 0.969, F1 = 0.374\n",
      "Порог = 0.22 | Точность = 0.238, Полнота = 0.955, F1 = 0.381\n",
      "Порог = 0.24 | Точность = 0.244, Полнота = 0.938, F1 = 0.388\n",
      "Порог = 0.26 | Точность = 0.251, Полнота = 0.926, F1 = 0.395\n",
      "Порог = 0.28 | Точность = 0.257, Полнота = 0.907, F1 = 0.400\n",
      "Порог = 0.30 | Точность = 0.264, Полнота = 0.884, F1 = 0.406\n",
      "Порог = 0.32 | Точность = 0.273, Полнота = 0.867, F1 = 0.415\n",
      "Порог = 0.34 | Точность = 0.282, Полнота = 0.839, F1 = 0.423\n",
      "Порог = 0.36 | Точность = 0.294, Полнота = 0.830, F1 = 0.434\n",
      "Порог = 0.38 | Точность = 0.300, Полнота = 0.807, F1 = 0.438\n",
      "Порог = 0.40 | Точность = 0.312, Полнота = 0.785, F1 = 0.447\n",
      "Порог = 0.42 | Точность = 0.326, Полнота = 0.776, F1 = 0.459\n",
      "Порог = 0.44 | Точность = 0.333, Полнота = 0.739, F1 = 0.459\n",
      "Порог = 0.46 | Точность = 0.347, Полнота = 0.697, F1 = 0.463\n",
      "Порог = 0.48 | Точность = 0.362, Полнота = 0.683, F1 = 0.473\n",
      "Порог = 0.50 | Точность = 0.367, Полнота = 0.646, F1 = 0.468\n",
      "Порог = 0.52 | Точность = 0.383, Полнота = 0.626, F1 = 0.475\n",
      "Порог = 0.54 | Точность = 0.403, Полнота = 0.606, F1 = 0.484\n",
      "Порог = 0.56 | Точность = 0.405, Полнота = 0.564, F1 = 0.472\n",
      "Порог = 0.58 | Точность = 0.421, Полнота = 0.535, F1 = 0.471\n",
      "Порог = 0.60 | Точность = 0.424, Полнота = 0.496, F1 = 0.457\n",
      "Порог = 0.62 | Точность = 0.446, Полнота = 0.467, F1 = 0.456\n",
      "Порог = 0.64 | Точность = 0.464, Полнота = 0.442, F1 = 0.453\n",
      "Порог = 0.66 | Точность = 0.474, Полнота = 0.414, F1 = 0.442\n",
      "Порог = 0.68 | Точность = 0.489, Полнота = 0.380, F1 = 0.427\n"
     ]
    }
   ],
   "source": [
    "probabilities_one_valid = probabilities_valid[:, 1]\n",
    "for threshold in np.arange(0, 0.7, 0.02):\n",
    "    predicted_valid = probabilities_one_valid > threshold \n",
    "    precision = precision_score(target_valid,predicted_valid)\n",
    "    recall = recall_score(target_valid,predicted_valid)\n",
    "    f1 = f1_score(target_valid,predicted_valid)\n",
    "    print(\"Порог = {:.2f} | Точность = {:.3f}, Полнота = {:.3f}, F1 = {:.3f}\".format(\n",
    "    threshold, precision, recall, f1))\n"
   ]
  },
  {
   "cell_type": "markdown",
   "metadata": {},
   "source": [
    "Вывод:\n",
    "\n",
    "Учитывая, что данном случае для задачи важнее полнота (лучше в число потенциальных \"отказников\" попадут лишние), можно было бы установить порог ниже 0.5. Однако заметного повышения F1 это не дает"
   ]
  },
  {
   "cell_type": "markdown",
   "metadata": {},
   "source": [
    "### Увеличение выборки редкого класса"
   ]
  },
  {
   "cell_type": "code",
   "execution_count": 96,
   "metadata": {},
   "outputs": [],
   "source": [
    "def upsample(features, target, repeat):\n",
    "    features_zeros = features[target == 0]\n",
    "    features_ones = features[target == 1]\n",
    "    target_zeros = target[target == 0]\n",
    "    target_ones = target[target == 1]\n",
    "    features_upsampled = pd.concat([features_zeros] + [features_ones] * repeat)\n",
    "    target_upsampled = pd.concat([target_zeros] + [target_ones] * repeat)\n",
    "    features_upsampled, target_upsampled = shuffle(\n",
    "    features_upsampled, target_upsampled, random_state=1)\n",
    "    return features_upsampled, target_upsampled\n",
    "\n",
    "\n",
    "#частоту редкого класса 1 увеличиваем в 4 раза, так как исходное соотношение 1:4\n",
    "features_upsampled, target_upsampled = upsample(features_train, \n",
    "                                                target_train, 4)"
   ]
  },
  {
   "cell_type": "markdown",
   "metadata": {},
   "source": [
    "<img src=\"https://emojigraph.org/media/apple/check-mark-button_2705.png\" align=left width=33, heigth=33>\n",
    "<div class=\"alert alert-success\">\n",
    "👍 Молодец, что обернула код upsamle в функцию</div>"
   ]
  },
  {
   "cell_type": "markdown",
   "metadata": {},
   "source": [
    "<img src=\"https://upload.wikimedia.org/wikipedia/commons/b/ba/Warning_sign_4.0.png\" align=left width=44, heigth=33>\n",
    "<div class=\"alert alert-warning\">\n",
    "Если соотношение 1:4, то и увеличить количество редкого класса надо в 4 раза, тогда будет 4:4\n",
    "</div>"
   ]
  },
  {
   "cell_type": "markdown",
   "metadata": {},
   "source": [
    "<div class=\"alert alert-block alert-info\">\n",
    "Не знаю, почему увеличила в 3 раза) исправила на 4. И ниже, в уменьшении выборки тоже исправила соотношение\n",
    "</div>"
   ]
  },
  {
   "cell_type": "markdown",
   "metadata": {},
   "source": [
    "<img src=\"https://emojigraph.org/media/apple/check-mark-button_2705.png\" align=left width=33, heigth=33>\n",
    "<div class=\"alert alert-success\">\n",
    "<b>v2</b> 👍 </div>"
   ]
  },
  {
   "cell_type": "code",
   "execution_count": 97,
   "metadata": {},
   "outputs": [
    {
     "data": {
      "text/plain": [
       "0.4738095238095238"
      ]
     },
     "execution_count": 97,
     "metadata": {},
     "output_type": "execute_result"
    }
   ],
   "source": [
    "#Проверка модели логистической регрессии на увеличенной выборке\n",
    "\n",
    "\n",
    "model = LogisticRegression(random_state=1, solver = 'liblinear')\n",
    "model.fit(features_upsampled,target_upsampled)\n",
    "\n",
    "predicted_valid = model.predict(features_valid)\n",
    "f1_score(target_valid, predicted_valid)"
   ]
  },
  {
   "cell_type": "markdown",
   "metadata": {},
   "source": [
    "<img src=\"https://upload.wikimedia.org/wikipedia/commons/b/ba/Warning_sign_4.0.png\" align=left width=44, heigth=33>\n",
    "<div class=\"alert alert-warning\">\n",
    "Комментарий противоречит содержанию\n",
    "</div>"
   ]
  },
  {
   "cell_type": "code",
   "execution_count": 81,
   "metadata": {
    "scrolled": true
   },
   "outputs": [
    {
     "data": {
      "text/plain": [
       "0.7564474180355605"
      ]
     },
     "execution_count": 81,
     "metadata": {},
     "output_type": "execute_result"
    }
   ],
   "source": [
    "probabilities_valid = model.predict_proba(features_valid)\n",
    "probabilities_one_valid = probabilities_valid[:, 1]\n",
    "roc_auc_score(target_valid,probabilities_one_valid)"
   ]
  },
  {
   "cell_type": "markdown",
   "metadata": {},
   "source": [
    "<img src=\"https://emojigraph.org/media/apple/check-mark-button_2705.png\" align=left width=33, heigth=33>\n",
    "<div class=\"alert alert-success\">\n",
    "👍 Исследована логистическая регрессия + upsampling</div>"
   ]
  },
  {
   "cell_type": "code",
   "execution_count": 115,
   "metadata": {},
   "outputs": [
    {
     "name": "stdout",
     "output_type": "stream",
     "text": [
      "количество деревьев: 20\n",
      "глубина: 7\n",
      "CPU times: user 4.26 s, sys: 19.6 ms, total: 4.28 s\n",
      "Wall time: 4.28 s\n"
     ]
    },
    {
     "data": {
      "text/plain": [
       "0.6021220159151194"
      ]
     },
     "execution_count": 115,
     "metadata": {},
     "output_type": "execute_result"
    }
   ],
   "source": [
    "%%time\n",
    "\n",
    "#Проверка модели случайного леса на увеличенной выборке\n",
    "\n",
    "best_result = 0\n",
    "\n",
    "for est in range(5, 61, 5):\n",
    "    for depth in range (1, 20):\n",
    "        \n",
    "        model = RandomForestClassifier(random_state=1, \n",
    "                                       n_estimators=est, \n",
    "                                       max_depth=depth)\n",
    "        model.fit(features_upsampled, target_upsampled)\n",
    "        predictions = model.predict(features_valid) \n",
    "        result = f1_score(target_valid, predictions)\n",
    "        \n",
    "        \n",
    "        \n",
    "        if result > best_result:\n",
    "            best_forest_model_upsampled = model \n",
    "            best_result = result\n",
    "            best_n = est\n",
    "            best_depth = depth\n",
    "\n",
    "        if result > 0.6:            \n",
    "            print('количество деревьев:', est)\n",
    "            print('глубина:', depth)\n",
    "            break\n",
    "            \n",
    "    if result>0.6:\n",
    "        break\n",
    "            \n",
    "\n",
    "predicted_valid = best_forest_model_upsampled.predict(features_valid)\n",
    "f1_score(target_valid, predicted_valid)"
   ]
  },
  {
   "cell_type": "code",
   "execution_count": 83,
   "metadata": {},
   "outputs": [
    {
     "data": {
      "text/plain": [
       "0.8446296493246574"
      ]
     },
     "execution_count": 83,
     "metadata": {},
     "output_type": "execute_result"
    }
   ],
   "source": [
    "probabilities_valid = model.predict_proba(features_valid)\n",
    "probabilities_one_valid = probabilities_valid[:, 1]\n",
    "roc_auc_score(target_valid,probabilities_one_valid)"
   ]
  },
  {
   "cell_type": "markdown",
   "metadata": {},
   "source": [
    "<img src=\"https://emojigraph.org/media/apple/check-mark-button_2705.png\" align=left width=33, heigth=33>\n",
    "<div class=\"alert alert-success\">\n",
    "👍 Исследован случайный лес + upsampling</div>"
   ]
  },
  {
   "cell_type": "markdown",
   "metadata": {},
   "source": [
    "Вывод\n",
    "\n",
    "Увеличение выборки редкого класса позволяет добиться желаемой F1 с помощью модели случайного леса. На логистическую регрессию увеличение практически не повлияло\n",
    "\n",
    "AUC-ROC для модели с наилучшим пока F1 также самое высокое"
   ]
  },
  {
   "cell_type": "markdown",
   "metadata": {},
   "source": [
    "### Уменьшение выборки частого класса"
   ]
  },
  {
   "cell_type": "code",
   "execution_count": 84,
   "metadata": {},
   "outputs": [],
   "source": [
    "def downsample(features, target, fraction):\n",
    "    features_zeros = features[target == 0]\n",
    "    features_ones = features[target == 1]\n",
    "    target_zeros = target[target == 0]\n",
    "    target_ones = target[target == 1]\n",
    "    features_downsampled = pd.concat(\n",
    "        [features_zeros.sample(frac=fraction, random_state=1)] + [features_ones])\n",
    "    target_downsampled = pd.concat(\n",
    "        [target_zeros.sample(frac=fraction, random_state=1)] + [target_ones])\n",
    "    features_downsampled, target_downsampled = shuffle(\n",
    "    features_downsampled, target_downsampled, random_state=1)\n",
    "    return features_downsampled, target_downsampled\n",
    "\n",
    "#частоту редкого класса 1 уменьшаем примерно в 4 раза, \n",
    "#так как исходное соотношение 1:4\n",
    "\n",
    "features_downsampled, target_downsampled = downsample(features_train, target_train, 0.25)\n",
    "\n"
   ]
  },
  {
   "cell_type": "markdown",
   "metadata": {},
   "source": [
    "<img src=\"https://emojigraph.org/media/apple/check-mark-button_2705.png\" align=left width=33, heigth=33>\n",
    "<div class=\"alert alert-success\">\n",
    "👍 Молодец, что обернула код downsample в функцию. </div>"
   ]
  },
  {
   "cell_type": "markdown",
   "metadata": {},
   "source": [
    "<img src=\"https://upload.wikimedia.org/wikipedia/commons/b/ba/Warning_sign_4.0.png\" align=left width=44, heigth=33>\n",
    "<div class=\"alert alert-warning\">\n",
    "Лучше 0.25. А баланс классов после dowmsampling ты можешь проверить сама.\n",
    "</div>"
   ]
  },
  {
   "cell_type": "code",
   "execution_count": 85,
   "metadata": {},
   "outputs": [
    {
     "data": {
      "text/plain": [
       "0.4764150943396226"
      ]
     },
     "execution_count": 85,
     "metadata": {},
     "output_type": "execute_result"
    }
   ],
   "source": [
    "#Проверка модели логистической регресии на уменьшенной выборке\n",
    "\n",
    "model = LogisticRegression(random_state=1, solver='liblinear').fit(features_downsampled, target_downsampled)\n",
    "predicted_valid = model.predict(features_valid)\n",
    "\n",
    "f1_score(target_valid, predicted_valid)"
   ]
  },
  {
   "cell_type": "code",
   "execution_count": 86,
   "metadata": {},
   "outputs": [
    {
     "data": {
      "text/plain": [
       "0.7551499095998222"
      ]
     },
     "execution_count": 86,
     "metadata": {},
     "output_type": "execute_result"
    }
   ],
   "source": [
    "probabilities_valid = model.predict_proba(features_valid)\n",
    "probabilities_one_valid = probabilities_valid[:, 1]\n",
    "roc_auc_score(target_valid,probabilities_one_valid)"
   ]
  },
  {
   "cell_type": "markdown",
   "metadata": {},
   "source": [
    "<img src=\"https://emojigraph.org/media/apple/check-mark-button_2705.png\" align=left width=33, heigth=33>\n",
    "<div class=\"alert alert-success\">\n",
    "👍 Исследована логистическая регрессия + downsampling</div>"
   ]
  },
  {
   "cell_type": "code",
   "execution_count": 116,
   "metadata": {},
   "outputs": [
    {
     "name": "stdout",
     "output_type": "stream",
     "text": [
      "CPU times: user 14 s, sys: 76 ms, total: 14.1 s\n",
      "Wall time: 14.1 s\n"
     ]
    },
    {
     "data": {
      "text/plain": [
       "0.5904522613065326"
      ]
     },
     "execution_count": 116,
     "metadata": {},
     "output_type": "execute_result"
    }
   ],
   "source": [
    "%%time\n",
    "\n",
    "#Проверка модели случайного леса на уменьшенной выборке\n",
    "\n",
    "best_result = 0\n",
    "\n",
    "\n",
    "for est in range(5, 61, 5):\n",
    "        for depth in range (1, 20):\n",
    "        \n",
    "            model = RandomForestClassifier(random_state=1, \n",
    "                                           n_estimators=est, \n",
    "                                           max_depth=depth)\n",
    "            model.fit(features_downsampled, target_downsampled)\n",
    "            predictions = model.predict(features_valid) \n",
    "            result = f1_score(target_valid, predictions)\n",
    "\n",
    "            if result > best_result:\n",
    "                best_forest_model = model \n",
    "                best_result = result\n",
    "\n",
    "            if result >= 0.59:\n",
    "                break  \n",
    "            \n",
    "        if result >= 0.59:\n",
    "            break  \n",
    "            \n",
    "predicted_valid = best_forest_model.predict(features_valid)\n",
    "f1_score(target_valid, predicted_valid)"
   ]
  },
  {
   "cell_type": "code",
   "execution_count": 88,
   "metadata": {},
   "outputs": [
    {
     "data": {
      "text/plain": [
       "0.8349698827214804"
      ]
     },
     "execution_count": 88,
     "metadata": {},
     "output_type": "execute_result"
    }
   ],
   "source": [
    "probabilities_valid = model.predict_proba(features_valid)\n",
    "probabilities_one_valid = probabilities_valid[:, 1]\n",
    "roc_auc_score(target_valid,probabilities_one_valid)"
   ]
  },
  {
   "cell_type": "markdown",
   "metadata": {},
   "source": [
    "<img src=\"https://emojigraph.org/media/apple/check-mark-button_2705.png\" align=left width=33, heigth=33>\n",
    "<div class=\"alert alert-success\">\n",
    "👍 Исследован случайный лес + downsampling</div>"
   ]
  },
  {
   "cell_type": "markdown",
   "metadata": {},
   "source": [
    "Вывод\n",
    "\n",
    "Уменьшение выборки редкого класса позволяет добиться желаемой F1 с помощью модели случайного леса. Но работет немного хуже, чем увеличение выборки. На логистическую регрессию уменьшение также не повлияло"
   ]
  },
  {
   "cell_type": "markdown",
   "metadata": {},
   "source": [
    "### Пропорциональное разбиение"
   ]
  },
  {
   "cell_type": "markdown",
   "metadata": {},
   "source": [
    "Попробуем по-другому провести само разделение на выборки. Разделим данные с учетом их соотношения в исходных данных с помощью параметра startify"
   ]
  },
  {
   "cell_type": "code",
   "execution_count": 118,
   "metadata": {},
   "outputs": [
    {
     "name": "stdout",
     "output_type": "stream",
     "text": [
      "CPU times: user 36.4 s, sys: 159 ms, total: 36.6 s\n",
      "Wall time: 36.6 s\n"
     ]
    },
    {
     "data": {
      "text/plain": [
       "0.5953947368421053"
      ]
     },
     "execution_count": 118,
     "metadata": {},
     "output_type": "execute_result"
    }
   ],
   "source": [
    "\n",
    "%%time\n",
    "\n",
    "X = data_ohe.drop(columns =['Exited','CustomerId','Surname'], axis =1)\n",
    "y = data_ohe['Exited']\n",
    "\n",
    "#разбивка на выборки с учетом соотношения\n",
    "X_train, X_valid, y_train, y_valid = train_test_split(X, y, test_size=0.4, random_state=1, stratify=y)\n",
    "X_valid, X_test, y_valid, y_test = train_test_split(X_valid, y_valid, test_size=0.5, random_state=1, stratify=y_valid)\n",
    "\n",
    "#поиск лучшей модели случайного леса\n",
    "best_result = 0\n",
    "for est in range(5, 61, 5):\n",
    "    for depth in range (1, 20):\n",
    "        model = RandomForestClassifier(random_state=1, n_estimators=est, max_depth=depth)\n",
    "        model.fit(X_train,y_train)\n",
    "        predictions = model.predict(X_valid) \n",
    "        result = f1_score(y_valid, predictions)\n",
    "       \n",
    "        if result > best_result:\n",
    "            best_forest_model = model \n",
    "            best_result = result\n",
    "            best_n_estimators = est\n",
    "            best_max_depth = depth\n",
    "        if result >= 0.59:\n",
    "                break \n",
    "    \n",
    "    if result>0.6:\n",
    "        break\n",
    "        \n",
    "        \n",
    "predicted_valid = best_forest_model.predict(X_valid)\n",
    "f1_score(y_valid, predicted_valid)\n",
    "\n"
   ]
  },
  {
   "cell_type": "markdown",
   "metadata": {},
   "source": [
    "Вывод: \n",
    "\n",
    "Разбивка на выборки с учетом исходного соотношения классов позволяет добиться искомой F1 без дополнительной обработки. Однако при увеличении выборки редкого класса результат все же лучше"
   ]
  },
  {
   "cell_type": "markdown",
   "metadata": {},
   "source": [
    "<img src=\"https://upload.wikimedia.org/wikipedia/commons/b/ba/Warning_sign_4.0.png\" align=left width=44, heigth=33>\n",
    "<div class=\"alert alert-warning\">\n",
    "Стратификация разделения это не метод борьбы с дисбалансом, хотя помогает получить более \"равномерные\" выборки. И этот метод нам точно не поможет, если тестовая выборка уже кем-то отделена и по ней оцениваются наши алгоритмы. Но ты безусловно молодец, что экспериментируешь с новыми подходами.\n",
    "</div>"
   ]
  },
  {
   "cell_type": "markdown",
   "metadata": {},
   "source": [
    "<img src=\"https://upload.wikimedia.org/wikipedia/commons/thumb/8/81/Stop_sign.png/240px-Stop_sign.png\" align=left width=35, heigth=35>\n",
    "<div class=\"alert alert-danger\">\n",
    "Ты проделала большую работу по экспериментам. Прошу тебя написать вывод: какой пайплайн показал лучшее решение. Под пайплайном я имею в виду: метод борьбы с дисбалансом + алгоритм машиного обучения + гиперпараметры.</div>"
   ]
  },
  {
   "cell_type": "markdown",
   "metadata": {},
   "source": [
    "<div class=\"alert alert-block alert-info\">\n",
    "Добавила вывод\n",
    "</div>"
   ]
  },
  {
   "cell_type": "markdown",
   "metadata": {},
   "source": [
    "**Вывод**:\n",
    "\n",
    "Лучше всех показала себя следубщая схема: увеличение выборки редкого класса и затем применение модели случайного леса с 20 деревьями максимальной глубины 7\n",
    "\n"
   ]
  },
  {
   "cell_type": "markdown",
   "metadata": {},
   "source": [
    "<img src=\"https://emojigraph.org/media/apple/check-mark-button_2705.png\" align=left width=33, heigth=33>\n",
    "<div class=\"alert alert-success\">\n",
    "<b>v2</b> 👍 </div>"
   ]
  },
  {
   "cell_type": "markdown",
   "metadata": {},
   "source": [
    "## Тестирование модели"
   ]
  },
  {
   "cell_type": "code",
   "execution_count": 119,
   "metadata": {},
   "outputs": [
    {
     "data": {
      "text/plain": [
       "0.6268292682926829"
      ]
     },
     "execution_count": 119,
     "metadata": {},
     "output_type": "execute_result"
    }
   ],
   "source": [
    "predicted_test = best_forest_model_upsampled.predict(features_test)\n",
    "f1_score(target_test, predicted_test)"
   ]
  },
  {
   "cell_type": "code",
   "execution_count": 120,
   "metadata": {},
   "outputs": [
    {
     "data": {
      "text/plain": [
       "0.8397480397180674"
      ]
     },
     "execution_count": 120,
     "metadata": {},
     "output_type": "execute_result"
    }
   ],
   "source": [
    "probabilities_valid = best_forest_model_upsampled.predict_proba(features_valid)\n",
    "probabilities_one_valid = probabilities_valid[:, 1]\n",
    "roc_auc_score(target_valid,probabilities_one_valid)"
   ]
  },
  {
   "cell_type": "markdown",
   "metadata": {},
   "source": [
    "<img src=\"https://emojigraph.org/media/apple/check-mark-button_2705.png\" align=left width=33, heigth=33>\n",
    "<div class=\"alert alert-success\">\n",
    "👏 Поздравляю. Во первых, были корректно использованы выборки: обучение на обучающей, подбор параметров на валидационной и финальное тестирование на тестовой. Как итог получена требуемая точность на тестовой выборке.\n",
    "</div>"
   ]
  },
  {
   "cell_type": "markdown",
   "metadata": {},
   "source": [
    "<img src=\"https://upload.wikimedia.org/wikipedia/commons/thumb/8/81/Stop_sign.png/240px-Stop_sign.png\" align=left width=35, heigth=35>\n",
    "<div class=\"alert alert-danger\">\n",
    "Прошу вычислить обе метрики - F1 и AUC-ROC.\n",
    "</div>"
   ]
  },
  {
   "cell_type": "markdown",
   "metadata": {},
   "source": [
    "<div class=\"alert alert-block alert-info\">\n",
    "Добавила расчет AUC-ROC\n",
    "</div>"
   ]
  },
  {
   "cell_type": "markdown",
   "metadata": {},
   "source": [
    "<img src=\"https://emojigraph.org/media/apple/check-mark-button_2705.png\" align=left width=33, heigth=33>\n",
    "<div class=\"alert alert-success\">\n",
    "<b>v2</b> 👍 </div>"
   ]
  },
  {
   "cell_type": "markdown",
   "metadata": {},
   "source": [
    "## Чек-лист готовности проекта"
   ]
  },
  {
   "cell_type": "markdown",
   "metadata": {},
   "source": [
    "Поставьте 'x' в выполненных пунктах. Далее нажмите Shift+Enter."
   ]
  },
  {
   "cell_type": "markdown",
   "metadata": {},
   "source": [
    "- [x]  Jupyter Notebook открыт\n",
    "- [x]  Весь код выполняется без ошибок\n",
    "- [x]  Ячейки с кодом расположены в порядке исполнения\n",
    "- [x]  Выполнен шаг 1: данные подготовлены\n",
    "- [x]  Выполнен шаг 2: задача исследована\n",
    "    - [x]  Исследован баланс классов\n",
    "    - [x]  Изучены модели без учёта дисбаланса\n",
    "    - [x]  Написаны выводы по результатам исследования\n",
    "- [x]  Выполнен шаг 3: учтён дисбаланс\n",
    "    - [x]  Применено несколько способов борьбы с дисбалансом\n",
    "    - [x]  Написаны выводы по результатам исследования\n",
    "- [x]  Выполнен шаг 4: проведено тестирование\n",
    "- [x]  Удалось достичь *F1*-меры не менее 0.59\n",
    "- [x]  Исследована метрика *AUC-ROC*"
   ]
  },
  {
   "cell_type": "markdown",
   "metadata": {},
   "source": [
    "<img src=\"http://s3.amazonaws.com/pix.iemoji.com/images/emoji/apple/ios-12/256/waving-hand.png\" align=left width=44, heigth=44>\n",
    "<div class=\"alert alert-info\">\n",
    "<b> Заключительный комментарий</b>\n",
    "\n",
    "Подведем итоги:\n",
    "\n",
    "Ты провела грамотную подготовку данных, поборола дисбалланс классов и получила требуемую точность.\n",
    "Очень хорошо, что ты описываешь свои действия, пишешь выводы.\n",
    "Мне понравилось, что ты описываешь свои действия в markdown ячейках. А также то, что твой проект хорошо структурирован. \n",
    "    \n",
    "\n",
    "В ревью достаточно много красных комментариев, но уверен что ты легко их исправишь, более того, надеюсь это поможет тебе лучше разобраться в теме:\n",
    "   - Нужно визуализировать дисбаланс классов\n",
    "   - Нужно обучить скалер только на обучающем наборе данных\n",
    "   - В части экспериментов ты пропустила рассчет метрики ROC-AUC\n",
    "   - Нужно написать выводы по итогам раздела \"Борьба с дисбалансом\" и выбрать лучшую модель как результат проделанной работы.\n",
    "    \n",
    "Желтые комментарии на твое усмотрение.\n",
    "    \n",
    "Ты также можешь обращаться ко мне с уточнающими вопросами по ревью, с удовольствием отвечу на  них. \n",
    "\n",
    "Жду твоих исправлений :)\n",
    "</div>"
   ]
  },
  {
   "cell_type": "markdown",
   "metadata": {},
   "source": [
    "<img src=\"http://s3.amazonaws.com/pix.iemoji.com/images/emoji/apple/ios-12/256/waving-hand.png\" align=left width=44, heigth=44>\n",
    "<div class=\"alert alert-info\">\n",
    "<b> Заключительный комментарий v2</b>\n",
    "\n",
    "И снова привет ))\n",
    "Вижу, что ты проделала серьезную работу \"над ошибками\". Теперь проект может быть принят.\n",
    "    \n",
    "Поздравляю с завершением и желаю дальнейших успехов!\n",
    "</div>"
   ]
  },
  {
   "cell_type": "code",
   "execution_count": null,
   "metadata": {},
   "outputs": [],
   "source": []
  }
 ],
 "metadata": {
  "ExecuteTimeLog": [
   {
    "duration": 434,
    "start_time": "2022-07-10T11:28:40.052Z"
   },
   {
    "duration": 72,
    "start_time": "2022-07-10T11:29:23.621Z"
   },
   {
    "duration": 14,
    "start_time": "2022-07-10T11:30:09.700Z"
   },
   {
    "duration": 94,
    "start_time": "2022-07-10T11:30:19.851Z"
   },
   {
    "duration": 21,
    "start_time": "2022-07-10T11:30:23.644Z"
   },
   {
    "duration": 75,
    "start_time": "2022-07-10T11:34:09.384Z"
   },
   {
    "duration": 9,
    "start_time": "2022-07-10T11:34:16.277Z"
   },
   {
    "duration": 14,
    "start_time": "2022-07-10T11:34:33.992Z"
   },
   {
    "duration": 4,
    "start_time": "2022-07-10T11:34:45.336Z"
   },
   {
    "duration": 21,
    "start_time": "2022-07-10T11:34:48.316Z"
   },
   {
    "duration": 5,
    "start_time": "2022-07-10T11:35:38.566Z"
   },
   {
    "duration": 3,
    "start_time": "2022-07-10T11:36:00.260Z"
   },
   {
    "duration": 3,
    "start_time": "2022-07-10T11:37:26.400Z"
   },
   {
    "duration": 13,
    "start_time": "2022-07-10T11:37:52.346Z"
   },
   {
    "duration": 6,
    "start_time": "2022-07-10T11:38:37.633Z"
   },
   {
    "duration": 4,
    "start_time": "2022-07-10T11:38:42.047Z"
   },
   {
    "duration": 39,
    "start_time": "2022-07-10T11:38:51.860Z"
   },
   {
    "duration": 6,
    "start_time": "2022-07-10T11:39:11.001Z"
   },
   {
    "duration": 4,
    "start_time": "2022-07-10T11:39:29.981Z"
   },
   {
    "duration": 8,
    "start_time": "2022-07-10T11:39:47.153Z"
   },
   {
    "duration": 17,
    "start_time": "2022-07-10T11:39:54.460Z"
   },
   {
    "duration": 725,
    "start_time": "2022-07-10T11:45:28.603Z"
   },
   {
    "duration": 11,
    "start_time": "2022-07-10T11:47:49.380Z"
   },
   {
    "duration": 66,
    "start_time": "2022-07-10T11:48:31.413Z"
   },
   {
    "duration": 21,
    "start_time": "2022-07-10T11:48:48.444Z"
   },
   {
    "duration": 210,
    "start_time": "2022-07-10T12:25:31.909Z"
   },
   {
    "duration": 49,
    "start_time": "2022-07-10T12:25:40.357Z"
   },
   {
    "duration": 13,
    "start_time": "2022-07-10T12:26:17.978Z"
   },
   {
    "duration": 12,
    "start_time": "2022-07-10T12:26:29.138Z"
   },
   {
    "duration": 4,
    "start_time": "2022-07-10T12:26:33.681Z"
   },
   {
    "duration": 31,
    "start_time": "2022-07-10T12:26:33.687Z"
   },
   {
    "duration": 13,
    "start_time": "2022-07-10T12:26:33.720Z"
   },
   {
    "duration": 14,
    "start_time": "2022-07-10T12:26:33.735Z"
   },
   {
    "duration": 5,
    "start_time": "2022-07-10T12:26:33.751Z"
   },
   {
    "duration": 23,
    "start_time": "2022-07-10T12:26:33.758Z"
   },
   {
    "duration": 24,
    "start_time": "2022-07-10T12:26:33.783Z"
   },
   {
    "duration": 4,
    "start_time": "2022-07-10T12:26:33.809Z"
   },
   {
    "duration": 8,
    "start_time": "2022-07-10T12:26:33.815Z"
   },
   {
    "duration": 9,
    "start_time": "2022-07-10T12:26:33.824Z"
   },
   {
    "duration": 35,
    "start_time": "2022-07-10T12:26:33.834Z"
   },
   {
    "duration": 5,
    "start_time": "2022-07-10T12:27:33.117Z"
   },
   {
    "duration": 6,
    "start_time": "2022-07-10T12:27:33.724Z"
   },
   {
    "duration": 12,
    "start_time": "2022-07-10T12:27:34.297Z"
   },
   {
    "duration": 26,
    "start_time": "2022-07-10T12:27:35.242Z"
   },
   {
    "duration": 9,
    "start_time": "2022-07-10T12:28:39.904Z"
   },
   {
    "duration": 15,
    "start_time": "2022-07-10T12:29:47.475Z"
   },
   {
    "duration": 14,
    "start_time": "2022-07-10T12:30:09.118Z"
   },
   {
    "duration": 13,
    "start_time": "2022-07-10T12:30:17.196Z"
   },
   {
    "duration": 6,
    "start_time": "2022-07-10T12:30:25.772Z"
   },
   {
    "duration": 4,
    "start_time": "2022-07-10T12:31:13.988Z"
   },
   {
    "duration": 8,
    "start_time": "2022-07-10T12:32:13.170Z"
   },
   {
    "duration": 23,
    "start_time": "2022-07-10T12:32:19.857Z"
   },
   {
    "duration": 8,
    "start_time": "2022-07-10T12:34:56.152Z"
   },
   {
    "duration": 18,
    "start_time": "2022-07-10T12:34:57.252Z"
   },
   {
    "duration": 9,
    "start_time": "2022-07-10T12:35:17.639Z"
   },
   {
    "duration": 11,
    "start_time": "2022-07-10T12:35:18.466Z"
   },
   {
    "duration": 6,
    "start_time": "2022-07-10T12:35:38.371Z"
   },
   {
    "duration": 4,
    "start_time": "2022-07-10T12:40:34.993Z"
   },
   {
    "duration": 25,
    "start_time": "2022-07-10T12:40:35.551Z"
   },
   {
    "duration": 9,
    "start_time": "2022-07-10T12:40:43.516Z"
   },
   {
    "duration": 6,
    "start_time": "2022-07-10T12:40:44.281Z"
   },
   {
    "duration": 4,
    "start_time": "2022-07-10T12:40:52.700Z"
   },
   {
    "duration": 42,
    "start_time": "2022-07-10T12:40:52.706Z"
   },
   {
    "duration": 15,
    "start_time": "2022-07-10T12:40:52.750Z"
   },
   {
    "duration": 22,
    "start_time": "2022-07-10T12:40:52.767Z"
   },
   {
    "duration": 12,
    "start_time": "2022-07-10T12:40:52.792Z"
   },
   {
    "duration": 24,
    "start_time": "2022-07-10T12:40:52.806Z"
   },
   {
    "duration": 5,
    "start_time": "2022-07-10T12:40:52.832Z"
   },
   {
    "duration": 17,
    "start_time": "2022-07-10T12:40:52.838Z"
   },
   {
    "duration": 20,
    "start_time": "2022-07-10T12:40:52.857Z"
   },
   {
    "duration": 12,
    "start_time": "2022-07-10T12:40:52.878Z"
   },
   {
    "duration": 9,
    "start_time": "2022-07-10T12:40:52.892Z"
   },
   {
    "duration": 4,
    "start_time": "2022-07-10T12:40:52.902Z"
   },
   {
    "duration": 19,
    "start_time": "2022-07-10T12:40:52.908Z"
   },
   {
    "duration": 13,
    "start_time": "2022-07-10T12:43:00.663Z"
   },
   {
    "duration": 8,
    "start_time": "2022-07-10T12:43:17.944Z"
   },
   {
    "duration": 3,
    "start_time": "2022-07-10T12:43:20.953Z"
   },
   {
    "duration": 5,
    "start_time": "2022-07-10T12:43:38.683Z"
   },
   {
    "duration": 5,
    "start_time": "2022-07-10T12:50:55.096Z"
   },
   {
    "duration": 5,
    "start_time": "2022-07-10T12:50:55.490Z"
   },
   {
    "duration": 17,
    "start_time": "2022-07-10T12:50:57.287Z"
   },
   {
    "duration": 8,
    "start_time": "2022-07-10T12:51:08.083Z"
   },
   {
    "duration": 15,
    "start_time": "2022-07-10T12:51:09.288Z"
   },
   {
    "duration": 28,
    "start_time": "2022-07-10T12:51:59.264Z"
   },
   {
    "duration": 5,
    "start_time": "2022-07-10T12:52:54.124Z"
   },
   {
    "duration": 9,
    "start_time": "2022-07-10T12:52:57.786Z"
   },
   {
    "duration": 118,
    "start_time": "2022-07-10T13:08:23.960Z"
   },
   {
    "duration": 12,
    "start_time": "2022-07-10T13:08:39.106Z"
   },
   {
    "duration": 4,
    "start_time": "2022-07-10T13:09:10.481Z"
   },
   {
    "duration": 32,
    "start_time": "2022-07-10T13:09:10.488Z"
   },
   {
    "duration": 14,
    "start_time": "2022-07-10T13:09:10.522Z"
   },
   {
    "duration": 18,
    "start_time": "2022-07-10T13:09:10.538Z"
   },
   {
    "duration": 22,
    "start_time": "2022-07-10T13:09:10.559Z"
   },
   {
    "duration": 14,
    "start_time": "2022-07-10T13:09:10.583Z"
   },
   {
    "duration": 5,
    "start_time": "2022-07-10T13:09:10.599Z"
   },
   {
    "duration": 20,
    "start_time": "2022-07-10T13:09:10.606Z"
   },
   {
    "duration": 11,
    "start_time": "2022-07-10T13:09:10.628Z"
   },
   {
    "duration": 17,
    "start_time": "2022-07-10T13:09:10.641Z"
   },
   {
    "duration": 44,
    "start_time": "2022-07-10T13:09:10.660Z"
   },
   {
    "duration": 12,
    "start_time": "2022-07-10T13:09:10.705Z"
   },
   {
    "duration": 13,
    "start_time": "2022-07-10T13:09:10.720Z"
   },
   {
    "duration": 15,
    "start_time": "2022-07-10T13:09:10.736Z"
   },
   {
    "duration": 7,
    "start_time": "2022-07-10T13:09:26.985Z"
   },
   {
    "duration": 11,
    "start_time": "2022-07-10T13:09:27.411Z"
   },
   {
    "duration": 95,
    "start_time": "2022-07-10T13:09:55.458Z"
   },
   {
    "duration": 10,
    "start_time": "2022-07-10T13:10:00.235Z"
   },
   {
    "duration": 16,
    "start_time": "2022-07-10T13:10:12.301Z"
   },
   {
    "duration": 10,
    "start_time": "2022-07-10T13:11:18.460Z"
   },
   {
    "duration": 7,
    "start_time": "2022-07-10T13:11:25.861Z"
   },
   {
    "duration": 7,
    "start_time": "2022-07-10T13:12:31.580Z"
   },
   {
    "duration": 5,
    "start_time": "2022-07-10T13:12:42.945Z"
   },
   {
    "duration": 12,
    "start_time": "2022-07-10T13:12:51.791Z"
   },
   {
    "duration": 12,
    "start_time": "2022-07-10T13:13:49.896Z"
   },
   {
    "duration": 7,
    "start_time": "2022-07-10T13:14:52.966Z"
   },
   {
    "duration": 11,
    "start_time": "2022-07-10T13:14:54.545Z"
   },
   {
    "duration": 4,
    "start_time": "2022-07-10T13:14:58.664Z"
   },
   {
    "duration": 30,
    "start_time": "2022-07-10T13:14:58.670Z"
   },
   {
    "duration": 12,
    "start_time": "2022-07-10T13:14:58.701Z"
   },
   {
    "duration": 6,
    "start_time": "2022-07-10T13:14:58.714Z"
   },
   {
    "duration": 15,
    "start_time": "2022-07-10T13:14:58.722Z"
   },
   {
    "duration": 4,
    "start_time": "2022-07-10T13:14:58.739Z"
   },
   {
    "duration": 34,
    "start_time": "2022-07-10T13:14:58.744Z"
   },
   {
    "duration": 6,
    "start_time": "2022-07-10T13:14:58.779Z"
   },
   {
    "duration": 22,
    "start_time": "2022-07-10T13:14:58.787Z"
   },
   {
    "duration": 4,
    "start_time": "2022-07-10T13:14:58.811Z"
   },
   {
    "duration": 19,
    "start_time": "2022-07-10T13:14:58.816Z"
   },
   {
    "duration": 34,
    "start_time": "2022-07-10T13:14:58.837Z"
   },
   {
    "duration": 11,
    "start_time": "2022-07-10T13:14:58.873Z"
   },
   {
    "duration": 10,
    "start_time": "2022-07-10T13:14:58.887Z"
   },
   {
    "duration": 41,
    "start_time": "2022-07-10T13:16:10.172Z"
   },
   {
    "duration": 35,
    "start_time": "2022-07-10T13:16:21.282Z"
   },
   {
    "duration": 8247,
    "start_time": "2022-07-10T13:16:35.524Z"
   },
   {
    "duration": 3,
    "start_time": "2022-07-10T13:16:50.519Z"
   },
   {
    "duration": 7699,
    "start_time": "2022-07-10T13:17:24.124Z"
   },
   {
    "duration": 4,
    "start_time": "2022-07-10T13:17:31.825Z"
   },
   {
    "duration": 4,
    "start_time": "2022-07-10T13:19:09.183Z"
   },
   {
    "duration": 11,
    "start_time": "2022-07-10T13:19:23.817Z"
   },
   {
    "duration": 10,
    "start_time": "2022-07-10T13:20:07.763Z"
   },
   {
    "duration": 18,
    "start_time": "2022-07-10T13:20:13.287Z"
   },
   {
    "duration": 6,
    "start_time": "2022-07-10T13:20:14.123Z"
   },
   {
    "duration": 388,
    "start_time": "2022-07-10T13:21:01.086Z"
   },
   {
    "duration": 6,
    "start_time": "2022-07-10T13:21:03.135Z"
   },
   {
    "duration": 7,
    "start_time": "2022-07-10T13:21:04.085Z"
   },
   {
    "duration": 8552,
    "start_time": "2022-07-10T13:21:18.855Z"
   },
   {
    "duration": 31,
    "start_time": "2022-07-10T13:21:27.409Z"
   },
   {
    "duration": 7,
    "start_time": "2022-07-10T13:21:27.443Z"
   },
   {
    "duration": 38165,
    "start_time": "2022-07-10T13:21:40.892Z"
   },
   {
    "duration": 21,
    "start_time": "2022-07-10T13:22:19.066Z"
   },
   {
    "duration": 15,
    "start_time": "2022-07-10T13:22:19.089Z"
   },
   {
    "duration": 16,
    "start_time": "2022-07-10T13:23:01.624Z"
   },
   {
    "duration": 256,
    "start_time": "2022-07-10T13:23:06.980Z"
   },
   {
    "duration": 11,
    "start_time": "2022-07-10T13:23:32.731Z"
   },
   {
    "duration": 544,
    "start_time": "2022-07-10T13:23:40.440Z"
   },
   {
    "duration": 8,
    "start_time": "2022-07-10T13:23:41.493Z"
   },
   {
    "duration": 122,
    "start_time": "2022-07-10T13:23:46.955Z"
   },
   {
    "duration": 9,
    "start_time": "2022-07-10T13:23:47.535Z"
   },
   {
    "duration": 204,
    "start_time": "2022-07-10T13:24:34.278Z"
   },
   {
    "duration": 58,
    "start_time": "2022-07-10T13:24:41.415Z"
   },
   {
    "duration": 680,
    "start_time": "2022-07-10T13:24:45.985Z"
   },
   {
    "duration": 23,
    "start_time": "2022-07-10T13:24:56.164Z"
   },
   {
    "duration": 382,
    "start_time": "2022-07-10T13:25:01.404Z"
   },
   {
    "duration": 11,
    "start_time": "2022-07-10T13:25:02.191Z"
   },
   {
    "duration": 37356,
    "start_time": "2022-07-10T13:25:19.096Z"
   },
   {
    "duration": 36,
    "start_time": "2022-07-10T13:25:56.454Z"
   },
   {
    "duration": 4,
    "start_time": "2022-07-10T13:27:26.279Z"
   },
   {
    "duration": 119,
    "start_time": "2022-07-10T13:27:41.291Z"
   },
   {
    "duration": 7,
    "start_time": "2022-07-10T13:27:45.795Z"
   },
   {
    "duration": 5,
    "start_time": "2022-07-10T13:29:15.324Z"
   },
   {
    "duration": 7,
    "start_time": "2022-07-10T13:29:19.631Z"
   },
   {
    "duration": 7,
    "start_time": "2022-07-10T13:29:20.050Z"
   },
   {
    "duration": 471,
    "start_time": "2022-07-10T13:31:34.993Z"
   },
   {
    "duration": 5,
    "start_time": "2022-07-10T13:31:52.039Z"
   },
   {
    "duration": 34,
    "start_time": "2022-07-10T13:33:06.343Z"
   },
   {
    "duration": 72,
    "start_time": "2022-07-10T13:54:15.851Z"
   },
   {
    "duration": 121,
    "start_time": "2022-07-10T13:54:22.449Z"
   },
   {
    "duration": 105,
    "start_time": "2022-07-10T13:56:23.584Z"
   },
   {
    "duration": 12,
    "start_time": "2022-07-10T13:56:32.193Z"
   },
   {
    "duration": 44,
    "start_time": "2022-07-10T13:58:05.333Z"
   },
   {
    "duration": 6,
    "start_time": "2022-07-10T13:58:32.492Z"
   },
   {
    "duration": 18,
    "start_time": "2022-07-10T13:58:39.036Z"
   },
   {
    "duration": 402,
    "start_time": "2022-07-10T13:58:48.598Z"
   },
   {
    "duration": 303,
    "start_time": "2022-07-10T13:58:53.397Z"
   },
   {
    "duration": 298,
    "start_time": "2022-07-10T13:59:16.156Z"
   },
   {
    "duration": 4,
    "start_time": "2022-07-10T14:05:28.045Z"
   },
   {
    "duration": 38,
    "start_time": "2022-07-10T14:05:48.051Z"
   },
   {
    "duration": 7,
    "start_time": "2022-07-10T14:05:58.740Z"
   },
   {
    "duration": 6,
    "start_time": "2022-07-10T14:07:08.878Z"
   },
   {
    "duration": 22,
    "start_time": "2022-07-10T14:07:50.552Z"
   },
   {
    "duration": 8,
    "start_time": "2022-07-10T14:08:01.399Z"
   },
   {
    "duration": 25,
    "start_time": "2022-07-10T14:08:05.895Z"
   },
   {
    "duration": 30,
    "start_time": "2022-07-10T14:08:16.413Z"
   },
   {
    "duration": 49,
    "start_time": "2022-07-10T14:08:26.663Z"
   },
   {
    "duration": 115,
    "start_time": "2022-07-10T14:09:08.856Z"
   },
   {
    "duration": 4,
    "start_time": "2022-07-10T14:09:14.394Z"
   },
   {
    "duration": 37,
    "start_time": "2022-07-10T14:09:14.400Z"
   },
   {
    "duration": 13,
    "start_time": "2022-07-10T14:09:14.439Z"
   },
   {
    "duration": 8,
    "start_time": "2022-07-10T14:09:14.453Z"
   },
   {
    "duration": 48,
    "start_time": "2022-07-10T14:09:14.466Z"
   },
   {
    "duration": 5,
    "start_time": "2022-07-10T14:09:14.516Z"
   },
   {
    "duration": 17,
    "start_time": "2022-07-10T14:09:14.523Z"
   },
   {
    "duration": 6,
    "start_time": "2022-07-10T14:09:14.541Z"
   },
   {
    "duration": 37,
    "start_time": "2022-07-10T14:09:14.548Z"
   },
   {
    "duration": 18,
    "start_time": "2022-07-10T14:09:14.589Z"
   },
   {
    "duration": 11,
    "start_time": "2022-07-10T14:09:14.609Z"
   },
   {
    "duration": 16,
    "start_time": "2022-07-10T14:09:14.622Z"
   },
   {
    "duration": 10,
    "start_time": "2022-07-10T14:09:14.639Z"
   },
   {
    "duration": 10,
    "start_time": "2022-07-10T14:09:14.652Z"
   },
   {
    "duration": 39926,
    "start_time": "2022-07-10T14:09:14.664Z"
   },
   {
    "duration": 19,
    "start_time": "2022-07-10T14:09:54.595Z"
   },
   {
    "duration": 5,
    "start_time": "2022-07-10T14:09:54.616Z"
   },
   {
    "duration": 6,
    "start_time": "2022-07-10T14:09:54.622Z"
   },
   {
    "duration": 42,
    "start_time": "2022-07-10T14:09:54.629Z"
   },
   {
    "duration": 107,
    "start_time": "2022-07-10T14:09:54.679Z"
   },
   {
    "duration": 459,
    "start_time": "2022-07-10T14:09:54.788Z"
   },
   {
    "duration": 19,
    "start_time": "2022-07-10T14:09:55.248Z"
   },
   {
    "duration": 5,
    "start_time": "2022-07-10T14:09:55.272Z"
   },
   {
    "duration": 88,
    "start_time": "2022-07-10T14:09:55.279Z"
   },
   {
    "duration": 24,
    "start_time": "2022-07-10T14:10:07.506Z"
   },
   {
    "duration": 26,
    "start_time": "2022-07-10T14:10:17.294Z"
   },
   {
    "duration": 14,
    "start_time": "2022-07-10T14:10:21.396Z"
   },
   {
    "duration": 42,
    "start_time": "2022-07-10T14:10:28.761Z"
   },
   {
    "duration": 33,
    "start_time": "2022-07-10T14:10:47.739Z"
   },
   {
    "duration": 41,
    "start_time": "2022-07-10T14:10:51.262Z"
   },
   {
    "duration": 30,
    "start_time": "2022-07-10T14:11:56.583Z"
   },
   {
    "duration": 29,
    "start_time": "2022-07-10T14:12:02.704Z"
   },
   {
    "duration": 40,
    "start_time": "2022-07-10T14:12:32.633Z"
   },
   {
    "duration": 24975,
    "start_time": "2022-07-10T14:21:16.130Z"
   },
   {
    "duration": 20,
    "start_time": "2022-07-10T14:21:41.107Z"
   },
   {
    "duration": 23660,
    "start_time": "2022-07-10T14:22:54.556Z"
   },
   {
    "duration": 48909,
    "start_time": "2022-07-10T14:23:18.217Z"
   },
   {
    "duration": 28,
    "start_time": "2022-07-10T14:26:01.816Z"
   },
   {
    "duration": 17,
    "start_time": "2022-07-10T14:29:41.663Z"
   },
   {
    "duration": 6,
    "start_time": "2022-07-10T14:33:51.601Z"
   },
   {
    "duration": 5,
    "start_time": "2022-07-10T14:36:28.052Z"
   },
   {
    "duration": 26,
    "start_time": "2022-07-10T14:36:28.088Z"
   },
   {
    "duration": 12,
    "start_time": "2022-07-10T14:36:28.116Z"
   },
   {
    "duration": 13,
    "start_time": "2022-07-10T14:36:28.130Z"
   },
   {
    "duration": 11,
    "start_time": "2022-07-10T14:36:28.145Z"
   },
   {
    "duration": 9,
    "start_time": "2022-07-10T14:36:28.158Z"
   },
   {
    "duration": 10,
    "start_time": "2022-07-10T14:36:36.477Z"
   },
   {
    "duration": 6,
    "start_time": "2022-07-10T14:43:48.656Z"
   },
   {
    "duration": 8,
    "start_time": "2022-07-10T14:45:37.932Z"
   },
   {
    "duration": 8,
    "start_time": "2022-07-10T14:46:53.102Z"
   },
   {
    "duration": 7,
    "start_time": "2022-07-10T14:48:26.811Z"
   },
   {
    "duration": 5,
    "start_time": "2022-07-10T14:52:18.206Z"
   },
   {
    "duration": 33,
    "start_time": "2022-07-10T14:52:18.214Z"
   },
   {
    "duration": 13,
    "start_time": "2022-07-10T14:52:18.249Z"
   },
   {
    "duration": 11,
    "start_time": "2022-07-10T14:52:18.265Z"
   },
   {
    "duration": 5,
    "start_time": "2022-07-10T14:52:18.278Z"
   },
   {
    "duration": 8,
    "start_time": "2022-07-10T14:52:18.284Z"
   },
   {
    "duration": 10,
    "start_time": "2022-07-10T14:52:18.293Z"
   },
   {
    "duration": 10,
    "start_time": "2022-07-10T14:52:18.305Z"
   },
   {
    "duration": 0,
    "start_time": "2022-07-10T14:52:18.317Z"
   },
   {
    "duration": 0,
    "start_time": "2022-07-10T14:52:18.318Z"
   },
   {
    "duration": 0,
    "start_time": "2022-07-10T14:52:18.320Z"
   },
   {
    "duration": 0,
    "start_time": "2022-07-10T14:52:18.322Z"
   },
   {
    "duration": 0,
    "start_time": "2022-07-10T14:52:18.323Z"
   },
   {
    "duration": 0,
    "start_time": "2022-07-10T14:52:18.325Z"
   },
   {
    "duration": 0,
    "start_time": "2022-07-10T14:52:18.326Z"
   },
   {
    "duration": 0,
    "start_time": "2022-07-10T14:52:18.327Z"
   },
   {
    "duration": 0,
    "start_time": "2022-07-10T14:52:18.328Z"
   },
   {
    "duration": 0,
    "start_time": "2022-07-10T14:52:18.330Z"
   },
   {
    "duration": 0,
    "start_time": "2022-07-10T14:52:18.331Z"
   },
   {
    "duration": 0,
    "start_time": "2022-07-10T14:52:18.332Z"
   },
   {
    "duration": 5,
    "start_time": "2022-07-10T14:52:18.373Z"
   },
   {
    "duration": 86,
    "start_time": "2022-07-10T14:52:18.380Z"
   },
   {
    "duration": 110,
    "start_time": "2022-07-10T14:52:18.468Z"
   },
   {
    "duration": 21593,
    "start_time": "2022-07-10T14:52:18.581Z"
   },
   {
    "duration": 45542,
    "start_time": "2022-07-10T14:52:40.175Z"
   },
   {
    "duration": 26,
    "start_time": "2022-07-10T14:53:25.718Z"
   },
   {
    "duration": 4,
    "start_time": "2022-07-10T14:54:50.200Z"
   },
   {
    "duration": 30,
    "start_time": "2022-07-10T14:54:50.206Z"
   },
   {
    "duration": 12,
    "start_time": "2022-07-10T14:54:50.238Z"
   },
   {
    "duration": 12,
    "start_time": "2022-07-10T14:54:50.251Z"
   },
   {
    "duration": 9,
    "start_time": "2022-07-10T14:54:50.265Z"
   },
   {
    "duration": 13,
    "start_time": "2022-07-10T14:54:50.276Z"
   },
   {
    "duration": 10,
    "start_time": "2022-07-10T14:54:50.291Z"
   },
   {
    "duration": 9,
    "start_time": "2022-07-10T14:54:50.303Z"
   },
   {
    "duration": 0,
    "start_time": "2022-07-10T14:54:50.314Z"
   },
   {
    "duration": 0,
    "start_time": "2022-07-10T14:54:50.315Z"
   },
   {
    "duration": 0,
    "start_time": "2022-07-10T14:54:50.317Z"
   },
   {
    "duration": 0,
    "start_time": "2022-07-10T14:54:50.318Z"
   },
   {
    "duration": 0,
    "start_time": "2022-07-10T14:54:50.319Z"
   },
   {
    "duration": 4,
    "start_time": "2022-07-10T14:54:52.059Z"
   },
   {
    "duration": 48,
    "start_time": "2022-07-10T14:54:52.065Z"
   },
   {
    "duration": 12,
    "start_time": "2022-07-10T14:54:52.115Z"
   },
   {
    "duration": 15,
    "start_time": "2022-07-10T14:54:52.129Z"
   },
   {
    "duration": 7,
    "start_time": "2022-07-10T14:54:52.145Z"
   },
   {
    "duration": 10,
    "start_time": "2022-07-10T14:54:52.154Z"
   },
   {
    "duration": 13,
    "start_time": "2022-07-10T14:54:52.166Z"
   },
   {
    "duration": 12,
    "start_time": "2022-07-10T14:54:52.181Z"
   },
   {
    "duration": 0,
    "start_time": "2022-07-10T14:54:52.195Z"
   },
   {
    "duration": 0,
    "start_time": "2022-07-10T14:54:52.196Z"
   },
   {
    "duration": 0,
    "start_time": "2022-07-10T14:54:52.197Z"
   },
   {
    "duration": 0,
    "start_time": "2022-07-10T14:54:52.198Z"
   },
   {
    "duration": 0,
    "start_time": "2022-07-10T14:54:52.199Z"
   },
   {
    "duration": 0,
    "start_time": "2022-07-10T14:54:52.200Z"
   },
   {
    "duration": 0,
    "start_time": "2022-07-10T14:54:52.201Z"
   },
   {
    "duration": 0,
    "start_time": "2022-07-10T14:54:52.203Z"
   },
   {
    "duration": 0,
    "start_time": "2022-07-10T14:54:52.204Z"
   },
   {
    "duration": 0,
    "start_time": "2022-07-10T14:54:52.205Z"
   },
   {
    "duration": 0,
    "start_time": "2022-07-10T14:54:52.206Z"
   },
   {
    "duration": 0,
    "start_time": "2022-07-10T14:54:52.207Z"
   },
   {
    "duration": 0,
    "start_time": "2022-07-10T14:54:52.208Z"
   },
   {
    "duration": 0,
    "start_time": "2022-07-10T14:54:52.209Z"
   },
   {
    "duration": 0,
    "start_time": "2022-07-10T14:54:52.210Z"
   },
   {
    "duration": 0,
    "start_time": "2022-07-10T14:54:52.211Z"
   },
   {
    "duration": 0,
    "start_time": "2022-07-10T14:54:52.212Z"
   },
   {
    "duration": 0,
    "start_time": "2022-07-10T14:54:52.213Z"
   },
   {
    "duration": 0,
    "start_time": "2022-07-10T14:54:52.215Z"
   },
   {
    "duration": 4,
    "start_time": "2022-07-10T14:54:57.172Z"
   },
   {
    "duration": 31,
    "start_time": "2022-07-10T14:54:57.178Z"
   },
   {
    "duration": 14,
    "start_time": "2022-07-10T14:54:57.211Z"
   },
   {
    "duration": 13,
    "start_time": "2022-07-10T14:54:57.227Z"
   },
   {
    "duration": 23,
    "start_time": "2022-07-10T14:54:57.243Z"
   },
   {
    "duration": 10,
    "start_time": "2022-07-10T14:54:57.268Z"
   },
   {
    "duration": 13,
    "start_time": "2022-07-10T14:54:57.279Z"
   },
   {
    "duration": 13,
    "start_time": "2022-07-10T14:54:57.294Z"
   },
   {
    "duration": 0,
    "start_time": "2022-07-10T14:54:57.309Z"
   },
   {
    "duration": 0,
    "start_time": "2022-07-10T14:54:57.310Z"
   },
   {
    "duration": 0,
    "start_time": "2022-07-10T14:54:57.311Z"
   },
   {
    "duration": 0,
    "start_time": "2022-07-10T14:54:57.312Z"
   },
   {
    "duration": 0,
    "start_time": "2022-07-10T14:54:57.313Z"
   },
   {
    "duration": 0,
    "start_time": "2022-07-10T14:54:57.315Z"
   },
   {
    "duration": 0,
    "start_time": "2022-07-10T14:54:57.316Z"
   },
   {
    "duration": 0,
    "start_time": "2022-07-10T14:54:57.317Z"
   },
   {
    "duration": 0,
    "start_time": "2022-07-10T14:54:57.318Z"
   },
   {
    "duration": 0,
    "start_time": "2022-07-10T14:54:57.319Z"
   },
   {
    "duration": 0,
    "start_time": "2022-07-10T14:54:57.320Z"
   },
   {
    "duration": 0,
    "start_time": "2022-07-10T14:54:57.321Z"
   },
   {
    "duration": 0,
    "start_time": "2022-07-10T14:54:57.322Z"
   },
   {
    "duration": 0,
    "start_time": "2022-07-10T14:54:57.324Z"
   },
   {
    "duration": 0,
    "start_time": "2022-07-10T14:54:57.324Z"
   },
   {
    "duration": 0,
    "start_time": "2022-07-10T14:54:57.325Z"
   },
   {
    "duration": 0,
    "start_time": "2022-07-10T14:54:57.364Z"
   },
   {
    "duration": 0,
    "start_time": "2022-07-10T14:54:57.365Z"
   },
   {
    "duration": 0,
    "start_time": "2022-07-10T14:54:57.366Z"
   },
   {
    "duration": 4,
    "start_time": "2022-07-10T14:55:14.287Z"
   },
   {
    "duration": 34,
    "start_time": "2022-07-10T14:55:14.293Z"
   },
   {
    "duration": 12,
    "start_time": "2022-07-10T14:55:14.329Z"
   },
   {
    "duration": 12,
    "start_time": "2022-07-10T14:55:14.342Z"
   },
   {
    "duration": 7,
    "start_time": "2022-07-10T14:55:14.356Z"
   },
   {
    "duration": 8,
    "start_time": "2022-07-10T14:55:14.365Z"
   },
   {
    "duration": 10,
    "start_time": "2022-07-10T14:55:14.374Z"
   },
   {
    "duration": 6,
    "start_time": "2022-07-10T14:55:14.386Z"
   },
   {
    "duration": 6,
    "start_time": "2022-07-10T14:55:14.393Z"
   },
   {
    "duration": 9,
    "start_time": "2022-07-10T14:55:14.401Z"
   },
   {
    "duration": 6,
    "start_time": "2022-07-10T14:55:14.412Z"
   },
   {
    "duration": 46,
    "start_time": "2022-07-10T14:55:14.419Z"
   },
   {
    "duration": 0,
    "start_time": "2022-07-10T14:55:14.467Z"
   },
   {
    "duration": 0,
    "start_time": "2022-07-10T14:55:14.469Z"
   },
   {
    "duration": 0,
    "start_time": "2022-07-10T14:55:14.470Z"
   },
   {
    "duration": 0,
    "start_time": "2022-07-10T14:55:14.471Z"
   },
   {
    "duration": 0,
    "start_time": "2022-07-10T14:55:14.473Z"
   },
   {
    "duration": 0,
    "start_time": "2022-07-10T14:55:14.474Z"
   },
   {
    "duration": 0,
    "start_time": "2022-07-10T14:55:14.475Z"
   },
   {
    "duration": 0,
    "start_time": "2022-07-10T14:55:14.477Z"
   },
   {
    "duration": 0,
    "start_time": "2022-07-10T14:55:14.478Z"
   },
   {
    "duration": 0,
    "start_time": "2022-07-10T14:55:14.480Z"
   },
   {
    "duration": 0,
    "start_time": "2022-07-10T14:55:14.481Z"
   },
   {
    "duration": 0,
    "start_time": "2022-07-10T14:55:14.483Z"
   },
   {
    "duration": 0,
    "start_time": "2022-07-10T14:55:14.483Z"
   },
   {
    "duration": 0,
    "start_time": "2022-07-10T14:55:14.484Z"
   },
   {
    "duration": 0,
    "start_time": "2022-07-10T14:55:14.485Z"
   },
   {
    "duration": 18,
    "start_time": "2022-07-10T14:56:18.625Z"
   },
   {
    "duration": 4,
    "start_time": "2022-07-10T14:56:18.644Z"
   },
   {
    "duration": 40,
    "start_time": "2022-07-10T14:56:18.651Z"
   },
   {
    "duration": 13,
    "start_time": "2022-07-10T14:56:18.693Z"
   },
   {
    "duration": 14,
    "start_time": "2022-07-10T14:56:18.708Z"
   },
   {
    "duration": 5,
    "start_time": "2022-07-10T14:56:18.724Z"
   },
   {
    "duration": 10,
    "start_time": "2022-07-10T14:56:18.731Z"
   },
   {
    "duration": 26,
    "start_time": "2022-07-10T14:56:18.743Z"
   },
   {
    "duration": 5,
    "start_time": "2022-07-10T14:56:18.772Z"
   },
   {
    "duration": 10,
    "start_time": "2022-07-10T14:56:18.779Z"
   },
   {
    "duration": 11,
    "start_time": "2022-07-10T14:56:18.791Z"
   },
   {
    "duration": 7,
    "start_time": "2022-07-10T14:56:18.804Z"
   },
   {
    "duration": 35500,
    "start_time": "2022-07-10T14:56:18.812Z"
   },
   {
    "duration": 4,
    "start_time": "2022-07-10T14:56:54.313Z"
   },
   {
    "duration": 15,
    "start_time": "2022-07-10T14:56:54.318Z"
   },
   {
    "duration": 8,
    "start_time": "2022-07-10T14:56:54.335Z"
   },
   {
    "duration": 31,
    "start_time": "2022-07-10T14:56:54.345Z"
   },
   {
    "duration": 93,
    "start_time": "2022-07-10T14:56:54.378Z"
   },
   {
    "duration": 111,
    "start_time": "2022-07-10T14:56:54.473Z"
   },
   {
    "duration": 381,
    "start_time": "2022-07-10T14:56:54.587Z"
   },
   {
    "duration": 7,
    "start_time": "2022-07-10T14:56:54.970Z"
   },
   {
    "duration": 6,
    "start_time": "2022-07-10T14:56:54.978Z"
   },
   {
    "duration": 27,
    "start_time": "2022-07-10T14:56:54.985Z"
   },
   {
    "duration": 113,
    "start_time": "2022-07-10T14:56:55.070Z"
   },
   {
    "duration": 21515,
    "start_time": "2022-07-10T14:56:55.186Z"
   },
   {
    "duration": 43422,
    "start_time": "2022-07-10T14:57:16.702Z"
   },
   {
    "duration": 36,
    "start_time": "2022-07-10T14:58:00.127Z"
   },
   {
    "duration": 21,
    "start_time": "2022-07-10T14:59:27.828Z"
   },
   {
    "duration": 17,
    "start_time": "2022-07-10T14:59:31.631Z"
   },
   {
    "duration": 18,
    "start_time": "2022-07-10T14:59:35.401Z"
   },
   {
    "duration": 11,
    "start_time": "2022-07-10T15:02:09.379Z"
   },
   {
    "duration": 4,
    "start_time": "2022-07-10T15:02:23.249Z"
   },
   {
    "duration": 5,
    "start_time": "2022-07-10T15:04:25.610Z"
   },
   {
    "duration": 38,
    "start_time": "2022-07-10T15:04:25.617Z"
   },
   {
    "duration": 12,
    "start_time": "2022-07-10T15:04:25.657Z"
   },
   {
    "duration": 14,
    "start_time": "2022-07-10T15:04:25.671Z"
   },
   {
    "duration": 15,
    "start_time": "2022-07-10T15:04:25.687Z"
   },
   {
    "duration": 19,
    "start_time": "2022-07-10T15:04:25.704Z"
   },
   {
    "duration": 11,
    "start_time": "2022-07-10T15:04:25.725Z"
   },
   {
    "duration": 8,
    "start_time": "2022-07-10T15:04:25.738Z"
   },
   {
    "duration": 7,
    "start_time": "2022-07-10T15:04:25.748Z"
   },
   {
    "duration": 9,
    "start_time": "2022-07-10T15:04:25.759Z"
   },
   {
    "duration": 18,
    "start_time": "2022-07-10T15:04:25.770Z"
   },
   {
    "duration": 37765,
    "start_time": "2022-07-10T15:04:25.790Z"
   },
   {
    "duration": 8,
    "start_time": "2022-07-10T15:05:03.556Z"
   },
   {
    "duration": 5,
    "start_time": "2022-07-10T15:05:03.565Z"
   },
   {
    "duration": 96,
    "start_time": "2022-07-10T15:05:03.572Z"
   },
   {
    "duration": 97,
    "start_time": "2022-07-10T15:05:03.671Z"
   },
   {
    "duration": 96,
    "start_time": "2022-07-10T15:05:03.769Z"
   },
   {
    "duration": 301,
    "start_time": "2022-07-10T15:05:03.868Z"
   },
   {
    "duration": 41,
    "start_time": "2022-07-10T15:05:04.172Z"
   },
   {
    "duration": 5,
    "start_time": "2022-07-10T15:05:04.215Z"
   },
   {
    "duration": 47,
    "start_time": "2022-07-10T15:05:04.222Z"
   },
   {
    "duration": 193,
    "start_time": "2022-07-10T15:05:04.271Z"
   },
   {
    "duration": 182,
    "start_time": "2022-07-10T15:05:04.467Z"
   },
   {
    "duration": 208,
    "start_time": "2022-07-10T15:05:04.650Z"
   },
   {
    "duration": 27,
    "start_time": "2022-07-10T15:05:04.864Z"
   },
   {
    "duration": 21293,
    "start_time": "2022-07-10T15:07:17.733Z"
   },
   {
    "duration": 44081,
    "start_time": "2022-07-10T15:08:03.824Z"
   },
   {
    "duration": 11269,
    "start_time": "2022-07-10T15:09:03.391Z"
   },
   {
    "duration": 21,
    "start_time": "2022-07-10T15:09:21.373Z"
   },
   {
    "duration": 11661,
    "start_time": "2022-07-10T15:09:34.179Z"
   },
   {
    "duration": 41,
    "start_time": "2022-07-10T15:11:10.977Z"
   },
   {
    "duration": 21471,
    "start_time": "2022-07-10T15:11:24.009Z"
   },
   {
    "duration": 14253,
    "start_time": "2022-07-10T15:12:13.288Z"
   },
   {
    "duration": 21,
    "start_time": "2022-07-10T15:12:36.247Z"
   },
   {
    "duration": 17,
    "start_time": "2022-07-10T15:12:39.927Z"
   },
   {
    "duration": 14179,
    "start_time": "2022-07-10T15:12:44.608Z"
   },
   {
    "duration": 50,
    "start_time": "2022-07-10T15:16:50.726Z"
   },
   {
    "duration": 5,
    "start_time": "2022-07-10T15:17:08.804Z"
   },
   {
    "duration": 42,
    "start_time": "2022-07-10T15:17:08.811Z"
   },
   {
    "duration": 21,
    "start_time": "2022-07-10T15:17:08.855Z"
   },
   {
    "duration": 18,
    "start_time": "2022-07-10T15:17:08.879Z"
   },
   {
    "duration": 10,
    "start_time": "2022-07-10T15:17:08.899Z"
   },
   {
    "duration": 11,
    "start_time": "2022-07-10T15:17:08.910Z"
   },
   {
    "duration": 12,
    "start_time": "2022-07-10T15:17:08.923Z"
   },
   {
    "duration": 6,
    "start_time": "2022-07-10T15:17:08.937Z"
   },
   {
    "duration": 8,
    "start_time": "2022-07-10T15:17:08.945Z"
   },
   {
    "duration": 33,
    "start_time": "2022-07-10T15:17:08.955Z"
   },
   {
    "duration": 8,
    "start_time": "2022-07-10T15:17:08.990Z"
   },
   {
    "duration": 37258,
    "start_time": "2022-07-10T15:17:09.000Z"
   },
   {
    "duration": 14,
    "start_time": "2022-07-10T15:17:46.260Z"
   },
   {
    "duration": 20,
    "start_time": "2022-07-10T15:17:46.276Z"
   },
   {
    "duration": 69,
    "start_time": "2022-07-10T15:17:46.298Z"
   },
   {
    "duration": 16,
    "start_time": "2022-07-10T15:17:46.369Z"
   },
   {
    "duration": 107,
    "start_time": "2022-07-10T15:17:46.387Z"
   },
   {
    "duration": 473,
    "start_time": "2022-07-10T15:17:46.496Z"
   },
   {
    "duration": 49,
    "start_time": "2022-07-10T15:17:46.972Z"
   },
   {
    "duration": 4,
    "start_time": "2022-07-10T15:17:47.023Z"
   },
   {
    "duration": 52,
    "start_time": "2022-07-10T15:17:47.028Z"
   },
   {
    "duration": 202,
    "start_time": "2022-07-10T15:17:47.082Z"
   },
   {
    "duration": 22132,
    "start_time": "2022-07-10T15:17:47.287Z"
   },
   {
    "duration": 14112,
    "start_time": "2022-07-10T15:18:09.421Z"
   },
   {
    "duration": 18,
    "start_time": "2022-07-10T15:18:23.535Z"
   },
   {
    "duration": 77,
    "start_time": "2022-07-10T15:19:57.248Z"
   },
   {
    "duration": 175,
    "start_time": "2022-07-10T15:20:20.241Z"
   },
   {
    "duration": 15,
    "start_time": "2022-07-10T15:25:44.151Z"
   },
   {
    "duration": 4,
    "start_time": "2022-07-10T15:27:59.961Z"
   },
   {
    "duration": 34,
    "start_time": "2022-07-10T15:27:59.967Z"
   },
   {
    "duration": 12,
    "start_time": "2022-07-10T15:28:00.003Z"
   },
   {
    "duration": 26,
    "start_time": "2022-07-10T15:28:00.016Z"
   },
   {
    "duration": 15,
    "start_time": "2022-07-10T15:28:00.044Z"
   },
   {
    "duration": 20,
    "start_time": "2022-07-10T15:28:00.060Z"
   },
   {
    "duration": 24,
    "start_time": "2022-07-10T15:28:00.081Z"
   },
   {
    "duration": 6,
    "start_time": "2022-07-10T15:28:00.106Z"
   },
   {
    "duration": 15,
    "start_time": "2022-07-10T15:28:00.113Z"
   },
   {
    "duration": 13,
    "start_time": "2022-07-10T15:28:00.130Z"
   },
   {
    "duration": 7,
    "start_time": "2022-07-10T15:28:00.146Z"
   },
   {
    "duration": 36273,
    "start_time": "2022-07-10T15:28:00.155Z"
   },
   {
    "duration": 5,
    "start_time": "2022-07-10T15:28:36.430Z"
   },
   {
    "duration": 4,
    "start_time": "2022-07-10T15:28:36.437Z"
   },
   {
    "duration": 125,
    "start_time": "2022-07-10T15:28:36.443Z"
   },
   {
    "duration": 97,
    "start_time": "2022-07-10T15:28:36.571Z"
   },
   {
    "duration": 94,
    "start_time": "2022-07-10T15:28:36.669Z"
   },
   {
    "duration": 402,
    "start_time": "2022-07-10T15:28:36.765Z"
   },
   {
    "duration": 138,
    "start_time": "2022-07-10T15:28:37.168Z"
   },
   {
    "duration": 9,
    "start_time": "2022-07-10T15:28:37.308Z"
   },
   {
    "duration": 57,
    "start_time": "2022-07-10T15:28:37.318Z"
   },
   {
    "duration": 13675,
    "start_time": "2022-07-10T15:28:37.378Z"
   },
   {
    "duration": 14,
    "start_time": "2022-07-10T15:28:51.055Z"
   },
   {
    "duration": 21,
    "start_time": "2022-07-10T15:28:51.071Z"
   },
   {
    "duration": 21043,
    "start_time": "2022-07-10T15:28:51.095Z"
   },
   {
    "duration": 33,
    "start_time": "2022-07-10T15:29:12.140Z"
   },
   {
    "duration": 76,
    "start_time": "2022-07-10T15:29:20.975Z"
   },
   {
    "duration": 105,
    "start_time": "2022-07-10T15:32:44.678Z"
   },
   {
    "duration": 145,
    "start_time": "2022-07-10T15:32:53.993Z"
   },
   {
    "duration": 32,
    "start_time": "2022-07-10T15:38:24.552Z"
   },
   {
    "duration": 32,
    "start_time": "2022-07-10T15:38:27.600Z"
   },
   {
    "duration": 33,
    "start_time": "2022-07-10T15:38:37.913Z"
   },
   {
    "duration": 4,
    "start_time": "2022-07-10T15:39:06.133Z"
   },
   {
    "duration": 29,
    "start_time": "2022-07-10T15:39:06.139Z"
   },
   {
    "duration": 13,
    "start_time": "2022-07-10T15:39:06.169Z"
   },
   {
    "duration": 17,
    "start_time": "2022-07-10T15:39:06.184Z"
   },
   {
    "duration": 6,
    "start_time": "2022-07-10T15:39:06.203Z"
   },
   {
    "duration": 8,
    "start_time": "2022-07-10T15:39:06.210Z"
   },
   {
    "duration": 9,
    "start_time": "2022-07-10T15:39:06.220Z"
   },
   {
    "duration": 6,
    "start_time": "2022-07-10T15:39:06.231Z"
   },
   {
    "duration": 5,
    "start_time": "2022-07-10T15:39:06.264Z"
   },
   {
    "duration": 10,
    "start_time": "2022-07-10T15:39:06.271Z"
   },
   {
    "duration": 6,
    "start_time": "2022-07-10T15:39:06.283Z"
   },
   {
    "duration": 36147,
    "start_time": "2022-07-10T15:39:06.291Z"
   },
   {
    "duration": 36,
    "start_time": "2022-07-10T15:39:42.440Z"
   },
   {
    "duration": 86,
    "start_time": "2022-07-10T15:39:42.479Z"
   },
   {
    "duration": 101,
    "start_time": "2022-07-10T15:39:42.568Z"
   },
   {
    "duration": 113,
    "start_time": "2022-07-10T15:39:42.671Z"
   },
   {
    "duration": 380,
    "start_time": "2022-07-10T15:39:42.786Z"
   },
   {
    "duration": 143,
    "start_time": "2022-07-10T15:39:43.167Z"
   },
   {
    "duration": 8,
    "start_time": "2022-07-10T15:39:43.312Z"
   },
   {
    "duration": 44,
    "start_time": "2022-07-10T15:39:43.322Z"
   },
   {
    "duration": 104,
    "start_time": "2022-07-10T15:39:43.368Z"
   },
   {
    "duration": 13513,
    "start_time": "2022-07-10T15:39:43.565Z"
   },
   {
    "duration": 26,
    "start_time": "2022-07-10T15:39:57.080Z"
   },
   {
    "duration": 9,
    "start_time": "2022-07-10T15:39:57.108Z"
   },
   {
    "duration": 51,
    "start_time": "2022-07-10T15:39:57.119Z"
   },
   {
    "duration": 102,
    "start_time": "2022-07-10T15:39:57.173Z"
   },
   {
    "duration": 21148,
    "start_time": "2022-07-10T15:39:57.278Z"
   },
   {
    "duration": 37,
    "start_time": "2022-07-10T15:40:18.427Z"
   },
   {
    "duration": 23,
    "start_time": "2022-07-10T15:40:18.467Z"
   },
   {
    "duration": 15,
    "start_time": "2022-07-10T15:44:32.711Z"
   },
   {
    "duration": 13394,
    "start_time": "2022-07-10T15:46:04.095Z"
   },
   {
    "duration": 13136,
    "start_time": "2022-07-10T15:49:31.982Z"
   },
   {
    "duration": 4,
    "start_time": "2022-07-10T15:49:50.156Z"
   },
   {
    "duration": 31,
    "start_time": "2022-07-10T15:49:50.162Z"
   },
   {
    "duration": 12,
    "start_time": "2022-07-10T15:49:50.195Z"
   },
   {
    "duration": 13,
    "start_time": "2022-07-10T15:49:50.208Z"
   },
   {
    "duration": 6,
    "start_time": "2022-07-10T15:49:50.223Z"
   },
   {
    "duration": 16,
    "start_time": "2022-07-10T15:49:50.231Z"
   },
   {
    "duration": 15,
    "start_time": "2022-07-10T15:49:50.248Z"
   },
   {
    "duration": 6,
    "start_time": "2022-07-10T15:49:50.265Z"
   },
   {
    "duration": 9,
    "start_time": "2022-07-10T15:49:50.273Z"
   },
   {
    "duration": 18,
    "start_time": "2022-07-10T15:49:50.284Z"
   },
   {
    "duration": 7,
    "start_time": "2022-07-10T15:49:50.304Z"
   },
   {
    "duration": 35672,
    "start_time": "2022-07-10T15:49:50.313Z"
   },
   {
    "duration": 34,
    "start_time": "2022-07-10T15:50:25.987Z"
   },
   {
    "duration": 43,
    "start_time": "2022-07-10T15:50:26.023Z"
   },
   {
    "duration": 105,
    "start_time": "2022-07-10T15:50:26.068Z"
   },
   {
    "duration": 18,
    "start_time": "2022-07-10T15:50:26.263Z"
   },
   {
    "duration": 311,
    "start_time": "2022-07-10T15:50:26.365Z"
   },
   {
    "duration": 147,
    "start_time": "2022-07-10T15:50:26.679Z"
   },
   {
    "duration": 11,
    "start_time": "2022-07-10T15:50:26.828Z"
   },
   {
    "duration": 39,
    "start_time": "2022-07-10T15:50:26.840Z"
   },
   {
    "duration": 90,
    "start_time": "2022-07-10T15:50:26.882Z"
   },
   {
    "duration": 13722,
    "start_time": "2022-07-10T15:50:26.973Z"
   },
   {
    "duration": 27,
    "start_time": "2022-07-10T15:50:40.697Z"
   },
   {
    "duration": 11,
    "start_time": "2022-07-10T15:50:40.728Z"
   },
   {
    "duration": 31,
    "start_time": "2022-07-10T15:50:40.741Z"
   },
   {
    "duration": 98,
    "start_time": "2022-07-10T15:50:40.774Z"
   },
   {
    "duration": 21125,
    "start_time": "2022-07-10T15:50:40.873Z"
   },
   {
    "duration": 32,
    "start_time": "2022-07-10T15:51:02.000Z"
   },
   {
    "duration": 13246,
    "start_time": "2022-07-10T15:51:02.034Z"
   },
   {
    "duration": 13,
    "start_time": "2022-07-10T15:51:15.282Z"
   },
   {
    "duration": 25,
    "start_time": "2022-07-10T15:51:30.449Z"
   },
   {
    "duration": 260,
    "start_time": "2022-07-10T15:52:13.224Z"
   },
   {
    "duration": 15,
    "start_time": "2022-07-10T15:53:31.396Z"
   },
   {
    "duration": 9,
    "start_time": "2022-07-10T15:54:27.073Z"
   },
   {
    "duration": 4,
    "start_time": "2022-07-10T15:54:31.197Z"
   },
   {
    "duration": 40,
    "start_time": "2022-07-10T15:54:31.204Z"
   },
   {
    "duration": 14,
    "start_time": "2022-07-10T15:54:31.246Z"
   },
   {
    "duration": 24,
    "start_time": "2022-07-10T15:54:31.262Z"
   },
   {
    "duration": 26,
    "start_time": "2022-07-10T15:54:31.288Z"
   },
   {
    "duration": 11,
    "start_time": "2022-07-10T15:54:31.316Z"
   },
   {
    "duration": 13,
    "start_time": "2022-07-10T15:54:31.328Z"
   },
   {
    "duration": 5,
    "start_time": "2022-07-10T15:54:31.343Z"
   },
   {
    "duration": 14,
    "start_time": "2022-07-10T15:54:31.350Z"
   },
   {
    "duration": 19,
    "start_time": "2022-07-10T15:54:31.366Z"
   },
   {
    "duration": 12,
    "start_time": "2022-07-10T15:54:31.388Z"
   },
   {
    "duration": 36923,
    "start_time": "2022-07-10T15:54:31.402Z"
   },
   {
    "duration": 38,
    "start_time": "2022-07-10T15:55:08.326Z"
   },
   {
    "duration": 18,
    "start_time": "2022-07-10T15:55:08.366Z"
   },
   {
    "duration": 179,
    "start_time": "2022-07-10T15:55:08.385Z"
   },
   {
    "duration": 116,
    "start_time": "2022-07-10T15:55:08.567Z"
   },
   {
    "duration": 400,
    "start_time": "2022-07-10T15:55:08.685Z"
   },
   {
    "duration": 163,
    "start_time": "2022-07-10T15:55:09.086Z"
   },
   {
    "duration": 17,
    "start_time": "2022-07-10T15:55:09.250Z"
   },
   {
    "duration": 96,
    "start_time": "2022-07-10T15:55:09.269Z"
   },
   {
    "duration": 102,
    "start_time": "2022-07-10T15:55:09.368Z"
   },
   {
    "duration": 13664,
    "start_time": "2022-07-10T15:55:09.472Z"
   },
   {
    "duration": 36,
    "start_time": "2022-07-10T15:55:23.138Z"
   },
   {
    "duration": 10,
    "start_time": "2022-07-10T15:55:23.177Z"
   },
   {
    "duration": 75,
    "start_time": "2022-07-10T15:55:23.189Z"
   },
   {
    "duration": 104,
    "start_time": "2022-07-10T15:55:23.266Z"
   },
   {
    "duration": 21236,
    "start_time": "2022-07-10T15:55:23.376Z"
   },
   {
    "duration": 31,
    "start_time": "2022-07-10T15:55:44.613Z"
   },
   {
    "duration": 13310,
    "start_time": "2022-07-10T15:55:44.646Z"
   },
   {
    "duration": 18,
    "start_time": "2022-07-10T15:55:57.958Z"
   },
   {
    "duration": 3,
    "start_time": "2022-07-10T15:56:30.080Z"
   },
   {
    "duration": 46,
    "start_time": "2022-07-10T15:56:30.085Z"
   },
   {
    "duration": 13,
    "start_time": "2022-07-10T15:56:30.133Z"
   },
   {
    "duration": 13,
    "start_time": "2022-07-10T15:56:30.149Z"
   },
   {
    "duration": 8,
    "start_time": "2022-07-10T15:56:30.164Z"
   },
   {
    "duration": 15,
    "start_time": "2022-07-10T15:56:30.174Z"
   },
   {
    "duration": 17,
    "start_time": "2022-07-10T15:56:30.190Z"
   },
   {
    "duration": 5,
    "start_time": "2022-07-10T15:56:30.208Z"
   },
   {
    "duration": 6,
    "start_time": "2022-07-10T15:56:30.215Z"
   },
   {
    "duration": 9,
    "start_time": "2022-07-10T15:56:30.224Z"
   },
   {
    "duration": 7,
    "start_time": "2022-07-10T15:56:30.235Z"
   },
   {
    "duration": 36212,
    "start_time": "2022-07-10T15:56:30.243Z"
   },
   {
    "duration": 40,
    "start_time": "2022-07-10T15:57:06.457Z"
   },
   {
    "duration": 18,
    "start_time": "2022-07-10T15:57:06.499Z"
   },
   {
    "duration": 106,
    "start_time": "2022-07-10T15:57:06.566Z"
   },
   {
    "duration": 205,
    "start_time": "2022-07-10T15:57:06.674Z"
   },
   {
    "duration": 388,
    "start_time": "2022-07-10T15:57:06.884Z"
   },
   {
    "duration": 163,
    "start_time": "2022-07-10T15:57:07.274Z"
   },
   {
    "duration": 8,
    "start_time": "2022-07-10T15:57:07.439Z"
   },
   {
    "duration": 30,
    "start_time": "2022-07-10T15:57:07.449Z"
   },
   {
    "duration": 183,
    "start_time": "2022-07-10T15:57:07.481Z"
   },
   {
    "duration": 13941,
    "start_time": "2022-07-10T15:57:07.666Z"
   },
   {
    "duration": 24,
    "start_time": "2022-07-10T15:57:21.610Z"
   },
   {
    "duration": 10,
    "start_time": "2022-07-10T15:57:21.636Z"
   },
   {
    "duration": 29,
    "start_time": "2022-07-10T15:57:21.648Z"
   },
   {
    "duration": 196,
    "start_time": "2022-07-10T15:57:21.679Z"
   },
   {
    "duration": 21125,
    "start_time": "2022-07-10T15:57:21.877Z"
   },
   {
    "duration": 33,
    "start_time": "2022-07-10T15:57:43.003Z"
   },
   {
    "duration": 39,
    "start_time": "2022-07-10T15:57:43.038Z"
   },
   {
    "duration": 0,
    "start_time": "2022-07-10T15:57:43.079Z"
   },
   {
    "duration": 35078,
    "start_time": "2022-07-10T15:58:29.053Z"
   },
   {
    "duration": 4,
    "start_time": "2022-07-10T15:59:27.893Z"
   },
   {
    "duration": 33,
    "start_time": "2022-07-10T15:59:27.899Z"
   },
   {
    "duration": 11,
    "start_time": "2022-07-10T15:59:27.933Z"
   },
   {
    "duration": 13,
    "start_time": "2022-07-10T15:59:27.945Z"
   },
   {
    "duration": 8,
    "start_time": "2022-07-10T15:59:27.960Z"
   },
   {
    "duration": 8,
    "start_time": "2022-07-10T15:59:27.970Z"
   },
   {
    "duration": 11,
    "start_time": "2022-07-10T15:59:27.979Z"
   },
   {
    "duration": 7,
    "start_time": "2022-07-10T15:59:27.992Z"
   },
   {
    "duration": 6,
    "start_time": "2022-07-10T15:59:28.000Z"
   },
   {
    "duration": 11,
    "start_time": "2022-07-10T15:59:28.008Z"
   },
   {
    "duration": 6,
    "start_time": "2022-07-10T15:59:28.020Z"
   },
   {
    "duration": 35884,
    "start_time": "2022-07-10T15:59:28.027Z"
   },
   {
    "duration": 35,
    "start_time": "2022-07-10T16:00:03.914Z"
   },
   {
    "duration": 29,
    "start_time": "2022-07-10T16:00:03.951Z"
   },
   {
    "duration": 184,
    "start_time": "2022-07-10T16:00:03.982Z"
   },
   {
    "duration": 112,
    "start_time": "2022-07-10T16:00:04.168Z"
   },
   {
    "duration": 385,
    "start_time": "2022-07-10T16:00:04.368Z"
   },
   {
    "duration": 156,
    "start_time": "2022-07-10T16:00:04.755Z"
   },
   {
    "duration": 9,
    "start_time": "2022-07-10T16:00:04.912Z"
   },
   {
    "duration": 43,
    "start_time": "2022-07-10T16:00:04.922Z"
   },
   {
    "duration": 103,
    "start_time": "2022-07-10T16:00:04.967Z"
   },
   {
    "duration": 14003,
    "start_time": "2022-07-10T16:00:05.072Z"
   },
   {
    "duration": 27,
    "start_time": "2022-07-10T16:00:19.076Z"
   },
   {
    "duration": 10,
    "start_time": "2022-07-10T16:00:19.104Z"
   },
   {
    "duration": 50,
    "start_time": "2022-07-10T16:00:19.116Z"
   },
   {
    "duration": 98,
    "start_time": "2022-07-10T16:00:19.168Z"
   },
   {
    "duration": 21278,
    "start_time": "2022-07-10T16:00:19.268Z"
   },
   {
    "duration": 37,
    "start_time": "2022-07-10T16:00:40.548Z"
   },
   {
    "duration": 35780,
    "start_time": "2022-07-10T16:00:40.586Z"
   },
   {
    "duration": 16,
    "start_time": "2022-07-10T16:01:16.368Z"
   },
   {
    "duration": 1627,
    "start_time": "2022-07-10T19:22:47.469Z"
   },
   {
    "duration": 51,
    "start_time": "2022-07-10T19:22:49.098Z"
   },
   {
    "duration": 13,
    "start_time": "2022-07-10T19:22:49.150Z"
   },
   {
    "duration": 44,
    "start_time": "2022-07-10T19:22:49.165Z"
   },
   {
    "duration": 4,
    "start_time": "2022-07-10T19:22:49.211Z"
   },
   {
    "duration": 38,
    "start_time": "2022-07-10T19:22:49.216Z"
   },
   {
    "duration": 18,
    "start_time": "2022-07-10T19:22:49.256Z"
   },
   {
    "duration": 42,
    "start_time": "2022-07-10T19:22:49.275Z"
   },
   {
    "duration": 35,
    "start_time": "2022-07-10T19:22:49.319Z"
   },
   {
    "duration": 27,
    "start_time": "2022-07-10T19:22:49.358Z"
   },
   {
    "duration": 30,
    "start_time": "2022-07-10T19:22:49.387Z"
   },
   {
    "duration": 35194,
    "start_time": "2022-07-10T19:22:49.419Z"
   },
   {
    "duration": 33,
    "start_time": "2022-07-10T19:23:24.615Z"
   },
   {
    "duration": 152,
    "start_time": "2022-07-10T19:23:24.650Z"
   },
   {
    "duration": 97,
    "start_time": "2022-07-10T19:23:24.803Z"
   },
   {
    "duration": 119,
    "start_time": "2022-07-10T19:23:24.903Z"
   },
   {
    "duration": 411,
    "start_time": "2022-07-10T19:23:25.026Z"
   },
   {
    "duration": 146,
    "start_time": "2022-07-10T19:23:25.439Z"
   },
   {
    "duration": 15,
    "start_time": "2022-07-10T19:23:25.586Z"
   },
   {
    "duration": 99,
    "start_time": "2022-07-10T19:23:25.603Z"
   },
   {
    "duration": 99,
    "start_time": "2022-07-10T19:23:25.703Z"
   },
   {
    "duration": 13378,
    "start_time": "2022-07-10T19:23:25.804Z"
   },
   {
    "duration": 30,
    "start_time": "2022-07-10T19:23:39.184Z"
   },
   {
    "duration": 9,
    "start_time": "2022-07-10T19:23:39.215Z"
   },
   {
    "duration": 15,
    "start_time": "2022-07-10T19:23:39.226Z"
   },
   {
    "duration": 72,
    "start_time": "2022-07-10T19:23:39.242Z"
   },
   {
    "duration": 20484,
    "start_time": "2022-07-10T19:23:39.401Z"
   },
   {
    "duration": 36,
    "start_time": "2022-07-10T19:23:59.888Z"
   },
   {
    "duration": 33686,
    "start_time": "2022-07-10T19:23:59.926Z"
   },
   {
    "duration": 16,
    "start_time": "2022-07-10T19:24:33.614Z"
   },
   {
    "duration": 58,
    "start_time": "2022-07-11T13:58:36.903Z"
   },
   {
    "duration": 1847,
    "start_time": "2022-07-11T13:58:40.554Z"
   },
   {
    "duration": 71,
    "start_time": "2022-07-11T13:58:42.404Z"
   },
   {
    "duration": 21,
    "start_time": "2022-07-11T13:58:42.478Z"
   },
   {
    "duration": 28,
    "start_time": "2022-07-11T13:58:42.502Z"
   },
   {
    "duration": 6,
    "start_time": "2022-07-11T13:58:42.534Z"
   },
   {
    "duration": 13,
    "start_time": "2022-07-11T13:58:42.542Z"
   },
   {
    "duration": 17,
    "start_time": "2022-07-11T13:58:42.558Z"
   },
   {
    "duration": 6,
    "start_time": "2022-07-11T13:58:42.576Z"
   },
   {
    "duration": 9,
    "start_time": "2022-07-11T13:58:42.609Z"
   },
   {
    "duration": 26,
    "start_time": "2022-07-11T13:58:42.620Z"
   },
   {
    "duration": 14,
    "start_time": "2022-07-11T13:58:42.650Z"
   },
   {
    "duration": 37728,
    "start_time": "2022-07-11T13:58:42.667Z"
   },
   {
    "duration": 41,
    "start_time": "2022-07-11T13:59:20.397Z"
   },
   {
    "duration": 84,
    "start_time": "2022-07-11T13:59:20.441Z"
   },
   {
    "duration": 98,
    "start_time": "2022-07-11T13:59:20.527Z"
   },
   {
    "duration": 126,
    "start_time": "2022-07-11T13:59:20.714Z"
   },
   {
    "duration": 406,
    "start_time": "2022-07-11T13:59:20.843Z"
   },
   {
    "duration": 170,
    "start_time": "2022-07-11T13:59:21.251Z"
   },
   {
    "duration": 15,
    "start_time": "2022-07-11T13:59:21.423Z"
   },
   {
    "duration": 70,
    "start_time": "2022-07-11T13:59:21.440Z"
   },
   {
    "duration": 95,
    "start_time": "2022-07-11T13:59:21.529Z"
   },
   {
    "duration": 14251,
    "start_time": "2022-07-11T13:59:21.626Z"
   },
   {
    "duration": 33,
    "start_time": "2022-07-11T13:59:35.879Z"
   },
   {
    "duration": 10,
    "start_time": "2022-07-11T13:59:35.914Z"
   },
   {
    "duration": 18,
    "start_time": "2022-07-11T13:59:35.925Z"
   },
   {
    "duration": 187,
    "start_time": "2022-07-11T13:59:35.946Z"
   },
   {
    "duration": 23707,
    "start_time": "2022-07-11T13:59:36.135Z"
   },
   {
    "duration": 84,
    "start_time": "2022-07-11T13:59:59.844Z"
   },
   {
    "duration": 40033,
    "start_time": "2022-07-11T13:59:59.929Z"
   },
   {
    "duration": 18,
    "start_time": "2022-07-11T14:00:39.963Z"
   },
   {
    "duration": 71,
    "start_time": "2022-07-11T14:00:39.983Z"
   },
   {
    "duration": 81,
    "start_time": "2022-07-11T14:01:52.888Z"
   },
   {
    "duration": 19,
    "start_time": "2022-07-11T14:01:59.189Z"
   },
   {
    "duration": 10,
    "start_time": "2022-07-11T14:05:51.026Z"
   },
   {
    "duration": 100,
    "start_time": "2022-07-11T14:07:22.465Z"
   },
   {
    "duration": 116,
    "start_time": "2022-07-11T14:09:29.996Z"
   },
   {
    "duration": 29,
    "start_time": "2022-07-11T14:09:36.761Z"
   },
   {
    "duration": 106,
    "start_time": "2022-07-11T14:09:43.785Z"
   },
   {
    "duration": 5,
    "start_time": "2022-07-11T14:11:51.565Z"
   },
   {
    "duration": 42,
    "start_time": "2022-07-11T14:11:51.573Z"
   },
   {
    "duration": 16,
    "start_time": "2022-07-11T14:11:51.617Z"
   },
   {
    "duration": 16,
    "start_time": "2022-07-11T14:11:51.635Z"
   },
   {
    "duration": 13,
    "start_time": "2022-07-11T14:11:51.654Z"
   },
   {
    "duration": 19,
    "start_time": "2022-07-11T14:11:51.669Z"
   },
   {
    "duration": 10,
    "start_time": "2022-07-11T14:11:51.710Z"
   },
   {
    "duration": 6,
    "start_time": "2022-07-11T14:11:51.722Z"
   },
   {
    "duration": 10,
    "start_time": "2022-07-11T14:11:51.730Z"
   },
   {
    "duration": 155,
    "start_time": "2022-07-11T14:11:51.742Z"
   },
   {
    "duration": 15,
    "start_time": "2022-07-11T14:11:51.899Z"
   },
   {
    "duration": 20,
    "start_time": "2022-07-11T14:11:51.916Z"
   },
   {
    "duration": 0,
    "start_time": "2022-07-11T14:11:51.939Z"
   },
   {
    "duration": 0,
    "start_time": "2022-07-11T14:11:51.940Z"
   },
   {
    "duration": 0,
    "start_time": "2022-07-11T14:11:51.941Z"
   },
   {
    "duration": 0,
    "start_time": "2022-07-11T14:11:51.942Z"
   },
   {
    "duration": 0,
    "start_time": "2022-07-11T14:11:51.943Z"
   },
   {
    "duration": 0,
    "start_time": "2022-07-11T14:11:51.944Z"
   },
   {
    "duration": 0,
    "start_time": "2022-07-11T14:11:51.945Z"
   },
   {
    "duration": 0,
    "start_time": "2022-07-11T14:11:51.947Z"
   },
   {
    "duration": 0,
    "start_time": "2022-07-11T14:11:51.948Z"
   },
   {
    "duration": 0,
    "start_time": "2022-07-11T14:11:51.949Z"
   },
   {
    "duration": 0,
    "start_time": "2022-07-11T14:11:51.951Z"
   },
   {
    "duration": 0,
    "start_time": "2022-07-11T14:11:51.952Z"
   },
   {
    "duration": 0,
    "start_time": "2022-07-11T14:11:51.953Z"
   },
   {
    "duration": 0,
    "start_time": "2022-07-11T14:11:51.954Z"
   },
   {
    "duration": 0,
    "start_time": "2022-07-11T14:11:51.955Z"
   },
   {
    "duration": 0,
    "start_time": "2022-07-11T14:11:51.956Z"
   },
   {
    "duration": 0,
    "start_time": "2022-07-11T14:11:51.957Z"
   },
   {
    "duration": 0,
    "start_time": "2022-07-11T14:11:51.957Z"
   },
   {
    "duration": 0,
    "start_time": "2022-07-11T14:11:51.958Z"
   },
   {
    "duration": 21,
    "start_time": "2022-07-11T14:12:33.500Z"
   },
   {
    "duration": 12,
    "start_time": "2022-07-11T14:13:27.785Z"
   },
   {
    "duration": 4,
    "start_time": "2022-07-11T14:13:32.465Z"
   },
   {
    "duration": 44,
    "start_time": "2022-07-11T14:13:32.471Z"
   },
   {
    "duration": 13,
    "start_time": "2022-07-11T14:13:32.517Z"
   },
   {
    "duration": 17,
    "start_time": "2022-07-11T14:13:32.531Z"
   },
   {
    "duration": 6,
    "start_time": "2022-07-11T14:13:32.550Z"
   },
   {
    "duration": 22,
    "start_time": "2022-07-11T14:13:32.557Z"
   },
   {
    "duration": 9,
    "start_time": "2022-07-11T14:13:32.581Z"
   },
   {
    "duration": 21,
    "start_time": "2022-07-11T14:13:32.592Z"
   },
   {
    "duration": 8,
    "start_time": "2022-07-11T14:13:32.614Z"
   },
   {
    "duration": 126,
    "start_time": "2022-07-11T14:13:32.623Z"
   },
   {
    "duration": 7,
    "start_time": "2022-07-11T14:13:32.751Z"
   },
   {
    "duration": 14,
    "start_time": "2022-07-11T14:13:32.759Z"
   },
   {
    "duration": 36314,
    "start_time": "2022-07-11T14:13:32.774Z"
   },
   {
    "duration": 39,
    "start_time": "2022-07-11T14:14:09.091Z"
   },
   {
    "duration": 88,
    "start_time": "2022-07-11T14:14:09.132Z"
   },
   {
    "duration": 97,
    "start_time": "2022-07-11T14:14:09.223Z"
   },
   {
    "duration": 118,
    "start_time": "2022-07-11T14:14:09.411Z"
   },
   {
    "duration": 378,
    "start_time": "2022-07-11T14:14:09.533Z"
   },
   {
    "duration": 152,
    "start_time": "2022-07-11T14:14:09.913Z"
   },
   {
    "duration": 10,
    "start_time": "2022-07-11T14:14:10.066Z"
   },
   {
    "duration": 37,
    "start_time": "2022-07-11T14:14:10.078Z"
   },
   {
    "duration": 97,
    "start_time": "2022-07-11T14:14:10.120Z"
   },
   {
    "duration": 13744,
    "start_time": "2022-07-11T14:14:10.219Z"
   },
   {
    "duration": 24,
    "start_time": "2022-07-11T14:14:23.964Z"
   },
   {
    "duration": 19,
    "start_time": "2022-07-11T14:14:23.990Z"
   },
   {
    "duration": 14,
    "start_time": "2022-07-11T14:14:24.011Z"
   },
   {
    "duration": 183,
    "start_time": "2022-07-11T14:14:24.028Z"
   },
   {
    "duration": 19914,
    "start_time": "2022-07-11T14:14:24.213Z"
   },
   {
    "duration": 34,
    "start_time": "2022-07-11T14:14:44.128Z"
   },
   {
    "duration": 37488,
    "start_time": "2022-07-11T14:14:44.164Z"
   },
   {
    "duration": 18,
    "start_time": "2022-07-11T14:15:21.654Z"
   },
   {
    "duration": 16,
    "start_time": "2022-07-11T14:16:03.020Z"
   },
   {
    "duration": 18,
    "start_time": "2022-07-11T14:18:38.607Z"
   },
   {
    "duration": 10,
    "start_time": "2022-07-11T14:18:39.569Z"
   },
   {
    "duration": 10,
    "start_time": "2022-07-11T14:19:35.110Z"
   },
   {
    "duration": 24,
    "start_time": "2022-07-11T14:19:42.285Z"
   },
   {
    "duration": 10,
    "start_time": "2022-07-11T14:19:47.648Z"
   },
   {
    "duration": 22,
    "start_time": "2022-07-11T14:19:49.883Z"
   },
   {
    "duration": 16,
    "start_time": "2022-07-11T14:22:05.640Z"
   },
   {
    "duration": 11,
    "start_time": "2022-07-11T14:22:06.660Z"
   },
   {
    "duration": 19,
    "start_time": "2022-07-11T14:22:32.094Z"
   },
   {
    "duration": 16,
    "start_time": "2022-07-11T14:22:33.639Z"
   },
   {
    "duration": 65,
    "start_time": "2022-07-11T14:22:49.872Z"
   },
   {
    "duration": 183,
    "start_time": "2022-07-11T14:23:17.624Z"
   },
   {
    "duration": 13540,
    "start_time": "2022-07-11T14:27:29.381Z"
   },
   {
    "duration": 4,
    "start_time": "2022-07-11T14:28:21.073Z"
   },
   {
    "duration": 3,
    "start_time": "2022-07-11T14:28:28.010Z"
   },
   {
    "duration": 13795,
    "start_time": "2022-07-11T14:29:52.906Z"
   },
   {
    "duration": 14018,
    "start_time": "2022-07-11T14:30:45.829Z"
   },
   {
    "duration": 13861,
    "start_time": "2022-07-11T14:31:16.509Z"
   },
   {
    "duration": 42,
    "start_time": "2022-07-11T14:32:21.959Z"
   },
   {
    "duration": 13847,
    "start_time": "2022-07-11T14:32:37.965Z"
   },
   {
    "duration": 31294,
    "start_time": "2022-07-11T14:33:39.446Z"
   },
   {
    "duration": 13539,
    "start_time": "2022-07-11T14:34:12.441Z"
   },
   {
    "duration": 4289,
    "start_time": "2022-07-11T14:35:14.009Z"
   },
   {
    "duration": 4286,
    "start_time": "2022-07-11T14:35:34.001Z"
   },
   {
    "duration": 14090,
    "start_time": "2022-07-11T14:36:36.558Z"
   },
   {
    "duration": 36638,
    "start_time": "2022-07-11T14:38:06.192Z"
   },
   {
    "duration": 15,
    "start_time": "2022-07-11T14:38:49.678Z"
   },
   {
    "duration": 18,
    "start_time": "2022-07-11T14:38:51.302Z"
   },
   {
    "duration": 122,
    "start_time": "2022-07-11T14:40:13.645Z"
   }
  ],
  "kernelspec": {
   "display_name": "Python 3 (ipykernel)",
   "language": "python",
   "name": "python3"
  },
  "language_info": {
   "codemirror_mode": {
    "name": "ipython",
    "version": 3
   },
   "file_extension": ".py",
   "mimetype": "text/x-python",
   "name": "python",
   "nbconvert_exporter": "python",
   "pygments_lexer": "ipython3",
   "version": "3.9.5"
  },
  "toc": {
   "base_numbering": 1,
   "nav_menu": {},
   "number_sections": true,
   "sideBar": true,
   "skip_h1_title": true,
   "title_cell": "Содержание",
   "title_sidebar": "Contents",
   "toc_cell": true,
   "toc_position": {
    "height": "calc(100% - 180px)",
    "left": "10px",
    "top": "150px",
    "width": "195.33px"
   },
   "toc_section_display": true,
   "toc_window_display": true
  }
 },
 "nbformat": 4,
 "nbformat_minor": 2
}
