{
 "cells": [
  {
   "cell_type": "markdown",
   "metadata": {},
   "source": [
    "Привет, Наталья! Как дела?) ☺️\n",
    "<br> Меня зовут Дуолан 👋 Буду проверять твой проект. Давай вместе доведем его до идеала 😉\n",
    "<br> Дальнейшее общение будет происходить на «ты», если это не вызывает никаких проблем.\n",
    "<br> Желательно реагировать на каждый мой комментарий («исправил», «не понятно как исправить ошибку», ...)\n",
    "<br> Пожалуйста, не удаляй мои комментарии, они будут необходимы для повторного ревью.\n",
    "\n",
    "Комментарии будут в <font color='green'>зеленой</font>, <font color='blue'>синей</font> или <font color='red'>красной</font> рамках:\n",
    "\n",
    "<div class=\"alert alert-block alert-success\">\n",
    "<b>✔️ Успех:</b> Если все сделано отлично\n",
    "</div>\n",
    "\n",
    "<div class=\"alert alert-block alert-warning\">\n",
    "<b>⚠️ Совет:</b> Если можно немного улучшить\n",
    "</div>\n",
    "\n",
    "<div class=\"alert alert-block alert-danger\">\n",
    "<b>❌ Замечание:</b> Если требуются исправления\n",
    "</div>\n",
    "\n",
    "Работа не может быть принята с красными комментариями.\n",
    "\n",
    "-------------------\n",
    "\n",
    "Будет очень хорошо, если ты будешь помечать свои действия следующим образом:\n",
    "\n",
    "<div class=\"alert alert-block alert-info\">\n",
    "<b>Комментарий студента:</b> ...\n",
    "</div>\n",
    "\n",
    "<div class=\"alert alert-block alert-info\">\n",
    "<b>Изменения:</b> Были внесены следующие изменения ...\n",
    "</div>"
   ]
  },
  {
   "cell_type": "markdown",
   "metadata": {},
   "source": [
    "# Определение стоимости автомобилей"
   ]
  },
  {
   "cell_type": "markdown",
   "metadata": {},
   "source": [
    "Сервис по продаже автомобилей с пробегом «Не бит, не крашен» разрабатывает приложение для привлечения новых клиентов. В нём можно быстро узнать рыночную стоимость своего автомобиля. В вашем распоряжении исторические данные: технические характеристики, комплектации и цены автомобилей. Вам нужно построить модель для определения стоимости. \n",
    "\n",
    "Заказчику важны:\n",
    "\n",
    "- качество предсказания;\n",
    "- скорость предсказания;\n",
    "- время обучения."
   ]
  },
  {
   "cell_type": "markdown",
   "metadata": {},
   "source": [
    "<div class=\"alert alert-block alert-warning\">\n",
    "<b>⚠️ Совет:</b> \n",
    "\n",
    "Важно чтобы в проектах было подробное описание: когда потенциальные работодатели будут смотреть твой проект в портфолио, им нужно будет понимать задачу, чтобы можно было оценить её решение. Вот что можно добавить:\n",
    "    \n",
    "* Описание целей и задачи проекта\n",
    "* Описание данных\n",
    "* План работы\n",
    "\n",
    "И рекомендую писать введение от первого лица. Так работа выглядит более самостоятельной)\n",
    "</div>"
   ]
  },
  {
   "cell_type": "markdown",
   "metadata": {},
   "source": [
    "## Подготовка данных"
   ]
  },
  {
   "cell_type": "code",
   "execution_count": 171,
   "metadata": {},
   "outputs": [
    {
     "name": "stdout",
     "output_type": "stream",
     "text": [
      "Traceback (most recent call last):\n",
      "  File \"/opt/conda/lib/python3.9/site-packages/conda/gateways/connection/__init__.py\", line 21, in <module>\n",
      "    from requests import ConnectionError, HTTPError, Session\n",
      "ImportError: cannot import name 'ConnectionError' from 'requests' (unknown location)\n",
      "\n",
      "During handling of the above exception, another exception occurred:\n",
      "\n",
      "Traceback (most recent call last):\n",
      "  File \"/opt/conda/lib/python3.9/site-packages/conda/exceptions.py\", line 1079, in __call__\n",
      "    return func(*args, **kwargs)\n",
      "  File \"/opt/conda/lib/python3.9/site-packages/conda/cli/main.py\", line 84, in _main\n",
      "    exit_code = do_call(args, p)\n",
      "  File \"/opt/conda/lib/python3.9/site-packages/conda/cli/conda_argparse.py\", line 81, in do_call\n",
      "    module = import_module(relative_mod, __name__.rsplit('.', 1)[0])\n",
      "  File \"/opt/conda/lib/python3.9/importlib/__init__.py\", line 127, in import_module\n",
      "    return _bootstrap._gcd_import(name[level:], package, level)\n",
      "  File \"<frozen importlib._bootstrap>\", line 1030, in _gcd_import\n",
      "  File \"<frozen importlib._bootstrap>\", line 1007, in _find_and_load\n",
      "  File \"<frozen importlib._bootstrap>\", line 986, in _find_and_load_unlocked\n",
      "  File \"<frozen importlib._bootstrap>\", line 680, in _load_unlocked\n",
      "  File \"<frozen importlib._bootstrap_external>\", line 855, in exec_module\n",
      "  File \"<frozen importlib._bootstrap>\", line 228, in _call_with_frames_removed\n",
      "  File \"/opt/conda/lib/python3.9/site-packages/conda/cli/main_update.py\", line 8, in <module>\n",
      "    from .install import install\n",
      "  File \"/opt/conda/lib/python3.9/site-packages/conda/cli/install.py\", line 19, in <module>\n",
      "    from ..core.index import calculate_channel_urls, get_index\n",
      "  File \"/opt/conda/lib/python3.9/site-packages/conda/core/index.py\", line 13, in <module>\n",
      "    from .package_cache_data import PackageCacheData\n",
      "  File \"/opt/conda/lib/python3.9/site-packages/conda/core/package_cache_data.py\", line 14, in <module>\n",
      "    from .path_actions import CacheUrlAction, ExtractPackageAction\n",
      "  File \"/opt/conda/lib/python3.9/site-packages/conda/core/path_actions.py\", line 30, in <module>\n",
      "    from ..gateways.connection.download import download\n",
      "  File \"/opt/conda/lib/python3.9/site-packages/conda/gateways/connection/__init__.py\", line 39, in <module>\n",
      "    from pip._vendor.requests import ConnectionError, HTTPError, Session\n",
      "  File \"/opt/conda/lib/python3.9/site-packages/pip/_vendor/requests/__init__.py\", line 43, in <module>\n",
      "    from pip._vendor import urllib3\n",
      "  File \"/opt/conda/lib/python3.9/site-packages/pip/_vendor/urllib3/__init__.py\", line 13, in <module>\n",
      "    from .connectionpool import HTTPConnectionPool, HTTPSConnectionPool, connection_from_url\n",
      "  File \"/opt/conda/lib/python3.9/site-packages/pip/_vendor/urllib3/connectionpool.py\", line 40, in <module>\n",
      "    from .response import HTTPResponse\n",
      "  File \"/opt/conda/lib/python3.9/site-packages/pip/_vendor/urllib3/response.py\", line 157, in <module>\n",
      "    class HTTPResponse(io.IOBase):\n",
      "  File \"/opt/conda/lib/python3.9/site-packages/pip/_vendor/urllib3/response.py\", line 390, in HTTPResponse\n",
      "    DECODER_ERROR_CLASSES += (brotli.error,)\n",
      "AttributeError: module 'brotli' has no attribute 'error'\n",
      "\n",
      "During handling of the above exception, another exception occurred:\n",
      "\n",
      "Traceback (most recent call last):\n",
      "  File \"/opt/conda/lib/python3.9/site-packages/conda/gateways/connection/__init__.py\", line 21, in <module>\n",
      "    from requests import ConnectionError, HTTPError, Session\n",
      "ImportError: cannot import name 'ConnectionError' from 'requests' (unknown location)\n",
      "\n",
      "During handling of the above exception, another exception occurred:\n",
      "\n",
      "Traceback (most recent call last):\n",
      "  File \"/opt/conda/bin/conda\", line 13, in <module>\n",
      "    sys.exit(main())\n",
      "  File \"/opt/conda/lib/python3.9/site-packages/conda/cli/main.py\", line 152, in main\n",
      "    return conda_exception_handler(_main, *args, **kwargs)\n",
      "  File \"/opt/conda/lib/python3.9/site-packages/conda/exceptions.py\", line 1371, in conda_exception_handler\n",
      "    return_value = exception_handler(func, *args, **kwargs)\n",
      "  File \"/opt/conda/lib/python3.9/site-packages/conda/exceptions.py\", line 1082, in __call__\n",
      "    return self.handle_exception(exc_val, exc_tb)\n",
      "  File \"/opt/conda/lib/python3.9/site-packages/conda/exceptions.py\", line 1126, in handle_exception\n",
      "    return self.handle_unexpected_exception(exc_val, exc_tb)\n",
      "  File \"/opt/conda/lib/python3.9/site-packages/conda/exceptions.py\", line 1137, in handle_unexpected_exception\n",
      "    self.print_unexpected_error_report(error_report)\n",
      "  File \"/opt/conda/lib/python3.9/site-packages/conda/exceptions.py\", line 1207, in print_unexpected_error_report\n",
      "    from .cli.main_info import get_env_vars_str, get_main_info_str\n",
      "  File \"/opt/conda/lib/python3.9/site-packages/conda/cli/main_info.py\", line 19, in <module>\n",
      "    from ..core.index import _supplement_index_with_system\n",
      "  File \"/opt/conda/lib/python3.9/site-packages/conda/core/index.py\", line 13, in <module>\n",
      "    from .package_cache_data import PackageCacheData\n",
      "  File \"/opt/conda/lib/python3.9/site-packages/conda/core/package_cache_data.py\", line 14, in <module>\n",
      "    from .path_actions import CacheUrlAction, ExtractPackageAction\n",
      "  File \"/opt/conda/lib/python3.9/site-packages/conda/core/path_actions.py\", line 30, in <module>\n",
      "    from ..gateways.connection.download import download\n",
      "  File \"/opt/conda/lib/python3.9/site-packages/conda/gateways/connection/__init__.py\", line 39, in <module>\n",
      "    from pip._vendor.requests import ConnectionError, HTTPError, Session\n",
      "  File \"/opt/conda/lib/python3.9/site-packages/pip/_vendor/requests/__init__.py\", line 43, in <module>\n",
      "    from pip._vendor import urllib3\n",
      "  File \"/opt/conda/lib/python3.9/site-packages/pip/_vendor/urllib3/__init__.py\", line 13, in <module>\n",
      "    from .connectionpool import HTTPConnectionPool, HTTPSConnectionPool, connection_from_url\n",
      "  File \"/opt/conda/lib/python3.9/site-packages/pip/_vendor/urllib3/connectionpool.py\", line 40, in <module>\n",
      "    from .response import HTTPResponse\n",
      "  File \"/opt/conda/lib/python3.9/site-packages/pip/_vendor/urllib3/response.py\", line 157, in <module>\n",
      "    class HTTPResponse(io.IOBase):\n",
      "  File \"/opt/conda/lib/python3.9/site-packages/pip/_vendor/urllib3/response.py\", line 390, in HTTPResponse\n",
      "    DECODER_ERROR_CLASSES += (brotli.error,)\n",
      "AttributeError: module 'brotli' has no attribute 'error'\n",
      "\n",
      "Note: you may need to restart the kernel to use updated packages.\n"
     ]
    }
   ],
   "source": [
    "conda update -n base conda"
   ]
  },
  {
   "cell_type": "code",
   "execution_count": 172,
   "metadata": {},
   "outputs": [],
   "source": [
    "import pandas as pd\n",
    "import numpy as np\n",
    "import time\n",
    "\n",
    "import category_encoders as ce\n",
    "from sklearn.model_selection import train_test_split\n",
    "from sklearn.compose import ColumnTransformer\n",
    "from sklearn.preprocessing import StandardScaler \n",
    "from sklearn.metrics import mean_squared_error\n",
    "from sklearn.model_selection import cross_val_score\n",
    "from sklearn.model_selection import GridSearchCV\n",
    "from catboost import CatBoostRegressor\n",
    "from sklearn.ensemble import RandomForestRegressor\n",
    "import lightgbm\n",
    "from sklearn.linear_model import LinearRegression\n",
    "from sklearn.linear_model import ElasticNet\n",
    "from sklearn.linear_model import Lasso\n",
    "from sklearn.dummy import DummyRegressor"
   ]
  },
  {
   "cell_type": "markdown",
   "metadata": {},
   "source": [
    "<div class=\"alert alert-block alert-success\">\n",
    "<b>✔️ Успех:</b>\n",
    "\n",
    "Правильное решение — выделять отдельную ячейку в начале проекта под подключение библиотек и настройки. Tак код легче поддерживать 👌 Но также стоит соблюдать рекомендации PEP-8 при написании кода. У импортов есть тоже определенные правила. Это сделано для повышения читабельности и простоты работы с кодом.\n",
    "\n",
    "https://pythonworld.ru/osnovy/pep-8-rukovodstvo-po-napisaniyu-koda-na-python.html\n",
    "</div>"
   ]
  },
  {
   "cell_type": "code",
   "execution_count": 173,
   "metadata": {},
   "outputs": [],
   "source": [
    "autos = pd.read_csv('/datasets/autos.csv')"
   ]
  },
  {
   "cell_type": "code",
   "execution_count": 174,
   "metadata": {},
   "outputs": [
    {
     "name": "stdout",
     "output_type": "stream",
     "text": [
      "<class 'pandas.core.frame.DataFrame'>\n",
      "RangeIndex: 354369 entries, 0 to 354368\n",
      "Data columns (total 16 columns):\n",
      " #   Column             Non-Null Count   Dtype \n",
      "---  ------             --------------   ----- \n",
      " 0   DateCrawled        354369 non-null  object\n",
      " 1   Price              354369 non-null  int64 \n",
      " 2   VehicleType        316879 non-null  object\n",
      " 3   RegistrationYear   354369 non-null  int64 \n",
      " 4   Gearbox            334536 non-null  object\n",
      " 5   Power              354369 non-null  int64 \n",
      " 6   Model              334664 non-null  object\n",
      " 7   Kilometer          354369 non-null  int64 \n",
      " 8   RegistrationMonth  354369 non-null  int64 \n",
      " 9   FuelType           321474 non-null  object\n",
      " 10  Brand              354369 non-null  object\n",
      " 11  NotRepaired        283215 non-null  object\n",
      " 12  DateCreated        354369 non-null  object\n",
      " 13  NumberOfPictures   354369 non-null  int64 \n",
      " 14  PostalCode         354369 non-null  int64 \n",
      " 15  LastSeen           354369 non-null  object\n",
      "dtypes: int64(7), object(9)\n",
      "memory usage: 43.3+ MB\n"
     ]
    }
   ],
   "source": [
    "autos.info()"
   ]
  },
  {
   "cell_type": "markdown",
   "metadata": {},
   "source": [
    "Выводы:\n",
    "\n",
    "Есть пропуски в признаках\n",
    "- VehicalType\n",
    "- Gearbox\n",
    "- Model\n",
    "- fueltype\n",
    "- nor repaired\n",
    "\n",
    "Есть признаки, которые не понадобятся для модели:\n",
    "\n",
    " - DateCrawled\n",
    " - RegistrationMonth\n",
    " - DateCreated\n",
    " - LastSeen\n",
    " - PostalCode\n",
    " - LastSeen\n",
    " \n",
    "Из информативных признаков два количественных  - Power и Kilometer, остальные категориальные. \n"
   ]
  },
  {
   "cell_type": "markdown",
   "metadata": {},
   "source": [
    "Посмотрим теперь ближе на нужные нам признаки"
   ]
  },
  {
   "cell_type": "markdown",
   "metadata": {},
   "source": [
    "<div class=\"alert alert-block alert-success\">\n",
    "<b>✔️ Успех:</b>\n",
    "\n",
    "Спасибо за информативный вывод)\n",
    "</div>"
   ]
  },
  {
   "cell_type": "markdown",
   "metadata": {},
   "source": [
    "### Цена автомобиля"
   ]
  },
  {
   "cell_type": "code",
   "execution_count": 175,
   "metadata": {},
   "outputs": [
    {
     "data": {
      "text/plain": [
       "count    354369.000000\n",
       "mean       4416.656776\n",
       "std        4514.158514\n",
       "min           0.000000\n",
       "10%         499.000000\n",
       "50%        2700.000000\n",
       "99%       18800.000000\n",
       "max       20000.000000\n",
       "Name: Price, dtype: float64"
      ]
     },
     "execution_count": 175,
     "metadata": {},
     "output_type": "execute_result"
    },
    {
     "data": {
      "image/png": "[encoded data removed]",
      "text/plain": [
       "<Figure size 432x288 with 1 Axes>"
      ]
     },
     "metadata": {
      "needs_background": "light"
     },
     "output_type": "display_data"
    }
   ],
   "source": [
    "autos.Price.hist(bins = 100)\n",
    "autos.Price.describe(percentiles = [.1,.99])"
   ]
  },
  {
   "cell_type": "markdown",
   "metadata": {},
   "source": [
    "Внешне распределение выглядит адекватно, но из описания видно, что нужно удалить нулевые и слишком маленькие значения цены. Так как речь идет об авто с пробегом, то цена может быть и совсем маленькая, поэтому определим границу в 100. Все что ниже будет считать ошибками заполнения данных. "
   ]
  },
  {
   "cell_type": "code",
   "execution_count": 176,
   "metadata": {},
   "outputs": [],
   "source": [
    "autos = autos.drop(autos[autos['Price']<100].index)"
   ]
  },
  {
   "cell_type": "markdown",
   "metadata": {},
   "source": [
    "<div class=\"alert alert-block alert-success\">\n",
    "<b>✔️ Успех:</b>\n",
    "\n",
    "В данных остались машины только с адекватной ценой 👍\n",
    "</div>"
   ]
  },
  {
   "cell_type": "markdown",
   "metadata": {},
   "source": [
    "### Количество фотографий"
   ]
  },
  {
   "cell_type": "code",
   "execution_count": 177,
   "metadata": {},
   "outputs": [
    {
     "data": {
      "text/plain": [
       "0    341055\n",
       "Name: NumberOfPictures, dtype: int64"
      ]
     },
     "execution_count": 177,
     "metadata": {},
     "output_type": "execute_result"
    }
   ],
   "source": [
    "autos.NumberOfPictures.value_counts()"
   ]
  },
  {
   "cell_type": "markdown",
   "metadata": {},
   "source": [
    "Этот признак мог бы влиять на цену, но оказался бесполезным"
   ]
  },
  {
   "cell_type": "markdown",
   "metadata": {},
   "source": [
    "### Год регистрации авто"
   ]
  },
  {
   "cell_type": "code",
   "execution_count": 178,
   "metadata": {},
   "outputs": [
    {
     "data": {
      "text/plain": [
       "2000    22661\n",
       "1999    21846\n",
       "2005    21363\n",
       "2006    19641\n",
       "2001    19574\n",
       "        ...  \n",
       "1949        1\n",
       "2222        1\n",
       "5300        1\n",
       "8888        1\n",
       "2290        1\n",
       "Name: RegistrationYear, Length: 138, dtype: int64"
      ]
     },
     "execution_count": 178,
     "metadata": {},
     "output_type": "execute_result"
    },
    {
     "data": {
      "image/png": "[encoded data removed]",
      "text/plain": [
       "<Figure size 432x288 with 1 Axes>"
      ]
     },
     "metadata": {
      "needs_background": "light"
     },
     "output_type": "display_data"
    }
   ],
   "source": [
    "autos.RegistrationYear.hist(bins = 50)\n",
    "autos.RegistrationYear.value_counts()\n"
   ]
  },
  {
   "cell_type": "markdown",
   "metadata": {},
   "source": [
    "Необходимо удалить все объекты с годом регистрации больше 2022 и меньше 1949"
   ]
  },
  {
   "cell_type": "code",
   "execution_count": 179,
   "metadata": {},
   "outputs": [],
   "source": [
    "autos = autos.drop(autos[autos['RegistrationYear']>2016].index)\n",
    "autos = autos.drop(autos[autos['RegistrationYear']<1949].index)"
   ]
  },
  {
   "cell_type": "code",
   "execution_count": 180,
   "metadata": {},
   "outputs": [
    {
     "data": {
      "text/plain": [
       "2000    22661\n",
       "1999    21846\n",
       "2005    21363\n",
       "2006    19641\n",
       "2001    19574\n",
       "        ...  \n",
       "1957       13\n",
       "1951       10\n",
       "1954        9\n",
       "1952        8\n",
       "1949        1\n",
       "Name: RegistrationYear, Length: 68, dtype: int64"
      ]
     },
     "execution_count": 180,
     "metadata": {},
     "output_type": "execute_result"
    },
    {
     "data": {
      "image/png": "[encoded data removed]",
      "text/plain": [
       "<Figure size 432x288 with 1 Axes>"
      ]
     },
     "metadata": {
      "needs_background": "light"
     },
     "output_type": "display_data"
    }
   ],
   "source": [
    "autos.RegistrationYear.hist(bins = 50)\n",
    "autos.RegistrationYear.value_counts()"
   ]
  },
  {
   "cell_type": "markdown",
   "metadata": {},
   "source": [
    "<div class=\"alert alert-block alert-danger\">\n",
    "<b>❌ Замечание:</b>\n",
    "\n",
    "Год регистрации нужно ограничить сверху 2016 годом. Максимальный год — год выгрузки (date_crawled) 2016.\n",
    "</div>"
   ]
  },
  {
   "cell_type": "markdown",
   "metadata": {},
   "source": [
    "<div class=\"alert alert-block alert-info\">\n",
    "<b>Изменения:</b> Изменила верхнюю границу на 2016\n",
    "</div>"
   ]
  },
  {
   "cell_type": "markdown",
   "metadata": {},
   "source": [
    "<div class=\"alert alert-block alert-success\">\n",
    "<b>✔️ Успешно исправлено</b>\n",
    "</div>"
   ]
  },
  {
   "cell_type": "markdown",
   "metadata": {},
   "source": [
    "### Мощность авто"
   ]
  },
  {
   "cell_type": "code",
   "execution_count": 181,
   "metadata": {},
   "outputs": [
    {
     "data": {
      "text/plain": [
       "count    327224.000000\n",
       "mean        112.360903\n",
       "std         185.292462\n",
       "min           0.000000\n",
       "50%         105.000000\n",
       "99%         300.000000\n",
       "max       20000.000000\n",
       "Name: Power, dtype: float64"
      ]
     },
     "execution_count": 181,
     "metadata": {},
     "output_type": "execute_result"
    },
    {
     "data": {
      "image/png": "[encoded data removed]",
      "text/plain": [
       "<Figure size 432x288 with 1 Axes>"
      ]
     },
     "metadata": {
      "needs_background": "light"
     },
     "output_type": "display_data"
    }
   ],
   "source": [
    "autos.Power.hist(bins= 100)\n",
    "autos.Power.describe(percentiles = [.99])"
   ]
  },
  {
   "cell_type": "markdown",
   "metadata": {},
   "source": [
    "Видно, что есть выпадающие значения. Уберем все объекты с нулевой мощностью и выше 1000"
   ]
  },
  {
   "cell_type": "code",
   "execution_count": 182,
   "metadata": {},
   "outputs": [
    {
     "data": {
      "text/plain": [
       "count    295410.000000\n",
       "mean        120.793910\n",
       "std          54.743019\n",
       "min           1.000000\n",
       "50%         111.000000\n",
       "99%         305.000000\n",
       "max        1000.000000\n",
       "Name: Power, dtype: float64"
      ]
     },
     "execution_count": 182,
     "metadata": {},
     "output_type": "execute_result"
    },
    {
     "data": {
      "image/png": "[encoded data removed]",
      "text/plain": [
       "<Figure size 432x288 with 1 Axes>"
      ]
     },
     "metadata": {
      "needs_background": "light"
     },
     "output_type": "display_data"
    }
   ],
   "source": [
    "autos.drop(autos[(autos.Power ==0) | (autos.Power >1000)].index,inplace = True)\n",
    "autos.Power.hist(bins= 100)\n",
    "autos.Power.describe(percentiles = [.99])"
   ]
  },
  {
   "cell_type": "markdown",
   "metadata": {},
   "source": [
    "<div class=\"alert alert-block alert-success\">\n",
    "<b>✔️ Успех:</b>\n",
    "\n",
    "Мощность ограничили 👍\n",
    "</div>"
   ]
  },
  {
   "cell_type": "markdown",
   "metadata": {},
   "source": [
    "### Вид топлива"
   ]
  },
  {
   "cell_type": "code",
   "execution_count": 183,
   "metadata": {},
   "outputs": [
    {
     "data": {
      "text/plain": [
       "petrol      186819\n",
       "gasoline     87717\n",
       "lpg           4677\n",
       "cng            480\n",
       "hybrid         201\n",
       "other           90\n",
       "electric        75\n",
       "Name: FuelType, dtype: int64"
      ]
     },
     "execution_count": 183,
     "metadata": {},
     "output_type": "execute_result"
    }
   ],
   "source": [
    "autos.FuelType.value_counts()"
   ]
  },
  {
   "cell_type": "markdown",
   "metadata": {},
   "source": [
    "Petrol и Gasoline, если верить википедии, это одно и то же. Поэтому переименуем в одну категорию"
   ]
  },
  {
   "cell_type": "code",
   "execution_count": 184,
   "metadata": {},
   "outputs": [],
   "source": [
    "autos.FuelType.replace(to_replace = 'gasoline',value ='petrol',inplace = True)"
   ]
  },
  {
   "cell_type": "markdown",
   "metadata": {},
   "source": [
    "<div class=\"alert alert-block alert-success\">\n",
    "<b>✔️ Успех:</b> Согласен 👍\n",
    "</div>"
   ]
  },
  {
   "cell_type": "markdown",
   "metadata": {},
   "source": [
    "### Удаление дубликатов"
   ]
  },
  {
   "cell_type": "code",
   "execution_count": 185,
   "metadata": {},
   "outputs": [],
   "source": [
    "autos.drop_duplicates(keep='first',inplace=True)"
   ]
  },
  {
   "cell_type": "markdown",
   "metadata": {},
   "source": [
    "<div class=\"alert alert-block alert-info\">\n",
    "<b>Изменения:</b> Добавила удаление дубликатов до изменения данных\n",
    "</div>"
   ]
  },
  {
   "cell_type": "markdown",
   "metadata": {},
   "source": [
    "### Обработка пропусков"
   ]
  },
  {
   "cell_type": "markdown",
   "metadata": {},
   "source": [
    "Пропуски в категориальных признаках заполнить осмысленно не получится. Поэтому исопльзуем заглушки"
   ]
  },
  {
   "cell_type": "code",
   "execution_count": 186,
   "metadata": {},
   "outputs": [],
   "source": [
    "nan_columns = ['VehicleType','Gearbox','Model','FuelType','NotRepaired']"
   ]
  },
  {
   "cell_type": "code",
   "execution_count": 187,
   "metadata": {},
   "outputs": [],
   "source": [
    "autos[nan_columns] = autos[nan_columns].fillna(value = 'N/A')"
   ]
  },
  {
   "cell_type": "code",
   "execution_count": 188,
   "metadata": {
    "scrolled": false
   },
   "outputs": [
    {
     "name": "stdout",
     "output_type": "stream",
     "text": [
      "<class 'pandas.core.frame.DataFrame'>\n",
      "Int64Index: 295406 entries, 1 to 354368\n",
      "Data columns (total 16 columns):\n",
      " #   Column             Non-Null Count   Dtype \n",
      "---  ------             --------------   ----- \n",
      " 0   DateCrawled        295406 non-null  object\n",
      " 1   Price              295406 non-null  int64 \n",
      " 2   VehicleType        295406 non-null  object\n",
      " 3   RegistrationYear   295406 non-null  int64 \n",
      " 4   Gearbox            295406 non-null  object\n",
      " 5   Power              295406 non-null  int64 \n",
      " 6   Model              295406 non-null  object\n",
      " 7   Kilometer          295406 non-null  int64 \n",
      " 8   RegistrationMonth  295406 non-null  int64 \n",
      " 9   FuelType           295406 non-null  object\n",
      " 10  Brand              295406 non-null  object\n",
      " 11  NotRepaired        295406 non-null  object\n",
      " 12  DateCreated        295406 non-null  object\n",
      " 13  NumberOfPictures   295406 non-null  int64 \n",
      " 14  PostalCode         295406 non-null  int64 \n",
      " 15  LastSeen           295406 non-null  object\n",
      "dtypes: int64(7), object(9)\n",
      "memory usage: 38.3+ MB\n"
     ]
    }
   ],
   "source": [
    "autos.info()"
   ]
  },
  {
   "cell_type": "markdown",
   "metadata": {},
   "source": [
    "Вывод:\n",
    "\n",
    "Пришлось удалить около 15% данных. Это довольно много, но в данном случае заполнять пробелы вместо удаления было бы нецелесообразно"
   ]
  },
  {
   "cell_type": "markdown",
   "metadata": {},
   "source": [
    "<div class=\"alert alert-block alert-success\">\n",
    "<b>✔️ Успех:</b>\n",
    "\n",
    "Пропуски успешно заполнены 👍 Модели теперь не будут капризничать)\n",
    "</div>"
   ]
  },
  {
   "cell_type": "markdown",
   "metadata": {},
   "source": [
    "### Подготовка данных для модели"
   ]
  },
  {
   "cell_type": "code",
   "execution_count": 189,
   "metadata": {},
   "outputs": [],
   "source": [
    "#убираем неинформативные столбцы\n",
    "\n",
    "data = autos.drop(columns = ['DateCrawled','RegistrationMonth', 'DateCreated','LastSeen', 'NumberOfPictures','PostalCode'])"
   ]
  },
  {
   "cell_type": "markdown",
   "metadata": {},
   "source": [
    "<div class=\"alert alert-block alert-success\">\n",
    "<b>✔️ Успех:</b>\n",
    "\n",
    "Удалить неинформативные признаки - хорошее решение 👍\n",
    "</div>"
   ]
  },
  {
   "cell_type": "markdown",
   "metadata": {},
   "source": [
    "<div class=\"alert alert-block alert-warning\">\n",
    "<b>⚠️ Совет:</b>\n",
    "\n",
    "Стоит проверить данные на наличие дубликатов\n",
    "</div>"
   ]
  },
  {
   "cell_type": "markdown",
   "metadata": {},
   "source": [
    "<div class=\"alert alert-block alert-info\">\n",
    "<b>Комментарий студента:</b> добавила выше очистку от дубликатов\n",
    "</div>"
   ]
  },
  {
   "cell_type": "markdown",
   "metadata": {},
   "source": [
    "<div class=\"alert alert-block alert-success\">\n",
    "<b>✔️ Успешно исправлено</b>\n",
    "</div>"
   ]
  },
  {
   "cell_type": "code",
   "execution_count": 190,
   "metadata": {},
   "outputs": [
    {
     "data": {
      "text/plain": [
       "Price               3548\n",
       "VehicleType            9\n",
       "RegistrationYear      68\n",
       "Gearbox                3\n",
       "Power                478\n",
       "Model                250\n",
       "Kilometer             13\n",
       "FuelType               7\n",
       "Brand                 40\n",
       "NotRepaired            3\n",
       "dtype: int64"
      ]
     },
     "execution_count": 190,
     "metadata": {},
     "output_type": "execute_result"
    }
   ],
   "source": [
    "data.nunique()"
   ]
  },
  {
   "cell_type": "markdown",
   "metadata": {},
   "source": [
    "Выделим отдельно категориальные и количественные признаки. Причем NotRepaired и Gearbox пока оставим отдельно, так как у них только две (плюс N/A) возможных категории. Для них используем OH кодирование.  По остальным категориальным признакам применим бинарное кодирование, чтобы не множить лишних столбцов и ускорить работу модели. "
   ]
  },
  {
   "cell_type": "code",
   "execution_count": 191,
   "metadata": {},
   "outputs": [],
   "source": [
    "cat_columns = ['RegistrationYear', 'VehicleType','Model','FuelType','Brand']\n",
    "num_columns = ['Power','Kilometer']"
   ]
  },
  {
   "cell_type": "code",
   "execution_count": 192,
   "metadata": {},
   "outputs": [],
   "source": [
    "encoder = ce.BinaryEncoder(cols=cat_columns, drop_invariant = False)\n",
    "encoder.fit(data)\n",
    "data_enc = encoder.transform(data)\n"
   ]
  },
  {
   "cell_type": "markdown",
   "metadata": {},
   "source": [
    "<div class=\"alert alert-block alert-success\">\n",
    "<b>✔️ Успех:</b>\n",
    "\n",
    "Хорошо, что преобразованы только категориальные признаки 👍\n",
    "</div>"
   ]
  },
  {
   "cell_type": "code",
   "execution_count": 193,
   "metadata": {},
   "outputs": [],
   "source": [
    "data_enc = pd.get_dummies(data_enc, \n",
    "                      columns = ['Gearbox','NotRepaired'],\n",
    "                      drop_first = True)"
   ]
  },
  {
   "cell_type": "markdown",
   "metadata": {},
   "source": [
    "<div class=\"alert alert-block alert-warning\">\n",
    "<b>⚠️ Совет:</b>\n",
    "\n",
    "Кодировать данные стоит после разбиения. Так у нас не будет утечки данных.\n",
    "\n",
    "Подробнее об этом можно прочитать здесь https://datascience.stackexchange.com/questions/108663/why-label-encoding-before-split-is-data-leakage\n",
    "    \n",
    "Также советую для линейных моделей использовать полностью OHE кодирвание, а для \"деревьев\" - Ordinal Encoding\n",
    "</div>"
   ]
  },
  {
   "cell_type": "markdown",
   "metadata": {},
   "source": [
    "Выделим целевой признак, а также обучающую и тестовую выборки"
   ]
  },
  {
   "cell_type": "code",
   "execution_count": 194,
   "metadata": {},
   "outputs": [],
   "source": [
    "X = data_enc.drop(columns =['Price'], axis =1)\n",
    "y = data_enc['Price']"
   ]
  },
  {
   "cell_type": "code",
   "execution_count": 195,
   "metadata": {},
   "outputs": [],
   "source": [
    "X_train, X_valid,  y_train, y_valid = train_test_split(X, y, test_size=0.4, random_state=1)\n",
    "\n",
    "X_valid, X_test,  y_valid, y_test = train_test_split(X_valid, y_valid, test_size=0.5, random_state=1)"
   ]
  },
  {
   "cell_type": "markdown",
   "metadata": {},
   "source": [
    "<div class=\"alert alert-block alert-info\">\n",
    "<b>Изменения:</b> Поменяла подход и добавила валидационную выборку. Раньше была только тестовая\n",
    "</div>"
   ]
  },
  {
   "cell_type": "markdown",
   "metadata": {},
   "source": [
    "<div class=\"alert alert-block alert-success\">\n",
    "<b>✔️ Успех:</b> \n",
    "\n",
    "Данные поделены верно, пропорции выбраны адекватные 👍\n",
    "</div>"
   ]
  },
  {
   "cell_type": "markdown",
   "metadata": {},
   "source": [
    "Теперь проведем масштабирование количественных признаков"
   ]
  },
  {
   "cell_type": "code",
   "execution_count": 196,
   "metadata": {},
   "outputs": [
    {
     "name": "stderr",
     "output_type": "stream",
     "text": [
      "/tmp/ipykernel_1395/3417274158.py:3: SettingWithCopyWarning: \n",
      "A value is trying to be set on a copy of a slice from a DataFrame.\n",
      "Try using .loc[row_indexer,col_indexer] = value instead\n",
      "\n",
      "See the caveats in the documentation: https://pandas.pydata.org/pandas-docs/stable/user_guide/indexing.html#returning-a-view-versus-a-copy\n",
      "  X_train[num_columns] = scaler.transform(X_train[num_columns].values)\n",
      "/opt/conda/lib/python3.9/site-packages/pandas/core/indexing.py:1738: SettingWithCopyWarning: \n",
      "A value is trying to be set on a copy of a slice from a DataFrame.\n",
      "Try using .loc[row_indexer,col_indexer] = value instead\n",
      "\n",
      "See the caveats in the documentation: https://pandas.pydata.org/pandas-docs/stable/user_guide/indexing.html#returning-a-view-versus-a-copy\n",
      "  self._setitem_single_column(loc, value[:, i].tolist(), pi)\n"
     ]
    }
   ],
   "source": [
    "scaler = StandardScaler().fit(X_train[num_columns].values)\n",
    "\n",
    "X_train[num_columns] = scaler.transform(X_train[num_columns].values)\n",
    "X_test[num_columns] = scaler.transform(X_test[num_columns].values)\n",
    "X_valid[num_columns] = scaler.transform(X_valid[num_columns].values)\n",
    "\n"
   ]
  },
  {
   "cell_type": "code",
   "execution_count": 199,
   "metadata": {},
   "outputs": [
    {
     "data": {
      "text/html": [
       "<div>\n",
       "<style scoped>\n",
       "    .dataframe tbody tr th:only-of-type {\n",
       "        vertical-align: middle;\n",
       "    }\n",
       "\n",
       "    .dataframe tbody tr th {\n",
       "        vertical-align: top;\n",
       "    }\n",
       "\n",
       "    .dataframe thead th {\n",
       "        text-align: right;\n",
       "    }\n",
       "</style>\n",
       "<table border=\"1\" class=\"dataframe\">\n",
       "  <thead>\n",
       "    <tr style=\"text-align: right;\">\n",
       "      <th></th>\n",
       "      <th>Power</th>\n",
       "      <th>Kilometer</th>\n",
       "    </tr>\n",
       "  </thead>\n",
       "  <tbody>\n",
       "    <tr>\n",
       "      <th>202149</th>\n",
       "      <td>-0.744547</td>\n",
       "      <td>-1.575731</td>\n",
       "    </tr>\n",
       "    <tr>\n",
       "      <th>76476</th>\n",
       "      <td>0.711256</td>\n",
       "      <td>0.591571</td>\n",
       "    </tr>\n",
       "    <tr>\n",
       "      <th>258275</th>\n",
       "      <td>-0.089436</td>\n",
       "      <td>-0.762993</td>\n",
       "    </tr>\n",
       "    <tr>\n",
       "      <th>333179</th>\n",
       "      <td>-0.944720</td>\n",
       "      <td>0.591571</td>\n",
       "    </tr>\n",
       "    <tr>\n",
       "      <th>87628</th>\n",
       "      <td>-1.108498</td>\n",
       "      <td>-3.336664</td>\n",
       "    </tr>\n",
       "    <tr>\n",
       "      <th>...</th>\n",
       "      <td>...</td>\n",
       "      <td>...</td>\n",
       "    </tr>\n",
       "    <tr>\n",
       "      <th>202966</th>\n",
       "      <td>0.019750</td>\n",
       "      <td>0.591571</td>\n",
       "    </tr>\n",
       "    <tr>\n",
       "      <th>226035</th>\n",
       "      <td>0.256318</td>\n",
       "      <td>-1.304818</td>\n",
       "    </tr>\n",
       "    <tr>\n",
       "      <th>70496</th>\n",
       "      <td>-0.708152</td>\n",
       "      <td>0.591571</td>\n",
       "    </tr>\n",
       "    <tr>\n",
       "      <th>213973</th>\n",
       "      <td>0.401898</td>\n",
       "      <td>-1.575731</td>\n",
       "    </tr>\n",
       "    <tr>\n",
       "      <th>332108</th>\n",
       "      <td>-1.108498</td>\n",
       "      <td>0.591571</td>\n",
       "    </tr>\n",
       "  </tbody>\n",
       "</table>\n",
       "<p>59082 rows × 2 columns</p>\n",
       "</div>"
      ],
      "text/plain": [
       "           Power  Kilometer\n",
       "202149 -0.744547  -1.575731\n",
       "76476   0.711256   0.591571\n",
       "258275 -0.089436  -0.762993\n",
       "333179 -0.944720   0.591571\n",
       "87628  -1.108498  -3.336664\n",
       "...          ...        ...\n",
       "202966  0.019750   0.591571\n",
       "226035  0.256318  -1.304818\n",
       "70496  -0.708152   0.591571\n",
       "213973  0.401898  -1.575731\n",
       "332108 -1.108498   0.591571\n",
       "\n",
       "[59082 rows x 2 columns]"
      ]
     },
     "execution_count": 199,
     "metadata": {},
     "output_type": "execute_result"
    }
   ],
   "source": [
    "X_test[num_columns] "
   ]
  },
  {
   "cell_type": "markdown",
   "metadata": {},
   "source": [
    "<div class=\"alert alert-block alert-success\">\n",
    "<b>✔️ Успех:</b>\n",
    "\n",
    "Отлично, признаки масштабированы 👍 Не забыли, что fit нужно делать только на train выборке.\n",
    "</div>"
   ]
  },
  {
   "cell_type": "markdown",
   "metadata": {},
   "source": [
    "## Обучение моделей"
   ]
  },
  {
   "cell_type": "markdown",
   "metadata": {},
   "source": [
    "Применим два варианта бустинга и несколько линейных моделей для сравнения"
   ]
  },
  {
   "cell_type": "code",
   "execution_count": 200,
   "metadata": {},
   "outputs": [
    {
     "data": {
      "application/vnd.jupyter.widget-view+json": {
       "model_id": "0334f8c70c624cdca3ea23d26e82a520",
       "version_major": 2,
       "version_minor": 0
      },
      "text/plain": [
       "MetricVisualizer(layout=Layout(align_self='stretch', height='500px'))"
      ]
     },
     "metadata": {},
     "output_type": "display_data"
    },
    {
     "name": "stdout",
     "output_type": "stream",
     "text": [
      "\n",
      "bestTest = 2210.456776\n",
      "bestIteration = 999\n",
      "\n",
      "0:\tloss: 2210.4567763\tbest: 2210.4567763 (0)\ttotal: 19s\tremaining: 1m 35s\n",
      "\n",
      "bestTest = 1973.281801\n",
      "bestIteration = 999\n",
      "\n",
      "1:\tloss: 1973.2818013\tbest: 1973.2818013 (1)\ttotal: 37s\tremaining: 1m 13s\n",
      "\n",
      "bestTest = 1830.734833\n",
      "bestIteration = 999\n",
      "\n",
      "2:\tloss: 1830.7348327\tbest: 1830.7348327 (2)\ttotal: 1m 1s\tremaining: 1m 1s\n",
      "\n",
      "bestTest = 1704.424608\n",
      "bestIteration = 997\n",
      "\n",
      "3:\tloss: 1704.4246078\tbest: 1704.4246078 (3)\ttotal: 1m 26s\tremaining: 43.1s\n",
      "\n",
      "bestTest = 1613.49748\n",
      "bestIteration = 999\n",
      "\n",
      "4:\tloss: 1613.4974797\tbest: 1613.4974797 (4)\ttotal: 2m 32s\tremaining: 30.5s\n",
      "\n",
      "bestTest = 1576.623944\n",
      "bestIteration = 993\n",
      "\n",
      "5:\tloss: 1576.6239445\tbest: 1576.6239445 (5)\ttotal: 3m 35s\tremaining: 0us\n",
      "Estimating final quality...\n",
      "Training on fold [0/3]\n",
      "\n",
      "bestTest = 1567.901501\n",
      "bestIteration = 998\n",
      "\n",
      "Training on fold [1/3]\n",
      "\n",
      "bestTest = 1581.556527\n",
      "bestIteration = 999\n",
      "\n",
      "Training on fold [2/3]\n",
      "\n",
      "bestTest = 1585.78297\n",
      "bestIteration = 999\n",
      "\n"
     ]
    }
   ],
   "source": [
    "cbr = CatBoostRegressor(silent = True, random_state =1)\n",
    "\n",
    "grid = {'learning_rate': [0.03, 0.1],\n",
    "        'depth': [4, 6, 10]}\n",
    "\n",
    "grid_search_result = cbr.grid_search(grid, X=X_train, y=y_train, plot=True)"
   ]
  },
  {
   "cell_type": "code",
   "execution_count": 201,
   "metadata": {},
   "outputs": [],
   "source": [
    "gbm = lightgbm.LGBMRegressor(random_state =1)\n",
    "\n",
    "RFR = RandomForestRegressor(random_state=1)\n"
   ]
  },
  {
   "cell_type": "markdown",
   "metadata": {},
   "source": [
    "<div class=\"alert alert-block alert-danger\">\n",
    "<b>❌ Замечание:</b>\n",
    "\n",
    "Стоит добавить оптимизацию (подбор гиперпараметров) хотя бы для одной модели.\n",
    "</div>"
   ]
  },
  {
   "cell_type": "markdown",
   "metadata": {},
   "source": [
    "<div class=\"alert alert-block alert-info\">\n",
    "<b>Изменения:</b> Добавила подбор параметров. Только для регрессии CatBoost, чтобы код был не слишком долгим.\n",
    "</div>"
   ]
  },
  {
   "cell_type": "markdown",
   "metadata": {},
   "source": [
    "<div class=\"alert alert-block alert-success\">\n",
    "<b>✔️ Успешно исправлено</b>\n",
    "</div>"
   ]
  },
  {
   "cell_type": "markdown",
   "metadata": {},
   "source": [
    "<div class=\"alert alert-block alert-danger\">\n",
    "<b>❌ Замечание:</b>\n",
    "\n",
    "Можешь добавить обучение одной простой модели?) Например, Случайный лес\n",
    "</div>"
   ]
  },
  {
   "cell_type": "markdown",
   "metadata": {},
   "source": [
    "<div class=\"alert alert-block alert-info\">\n",
    "<b>Изменения:</b> Добавила выше модель со случайным лесом\n",
    "</div>"
   ]
  },
  {
   "cell_type": "markdown",
   "metadata": {},
   "source": [
    "<div class=\"alert alert-block alert-success\">\n",
    "<b>✔️ Успешно исправлено</b>\n",
    "</div>"
   ]
  },
  {
   "cell_type": "code",
   "execution_count": 202,
   "metadata": {},
   "outputs": [
    {
     "data": {
      "text/html": [
       "<div>\n",
       "<style scoped>\n",
       "    .dataframe tbody tr th:only-of-type {\n",
       "        vertical-align: middle;\n",
       "    }\n",
       "\n",
       "    .dataframe tbody tr th {\n",
       "        vertical-align: top;\n",
       "    }\n",
       "\n",
       "    .dataframe thead th {\n",
       "        text-align: right;\n",
       "    }\n",
       "</style>\n",
       "<table border=\"1\" class=\"dataframe\">\n",
       "  <thead>\n",
       "    <tr style=\"text-align: right;\">\n",
       "      <th></th>\n",
       "      <th>model</th>\n",
       "      <th>RMSE</th>\n",
       "      <th>fit time</th>\n",
       "      <th>prediction time</th>\n",
       "    </tr>\n",
       "  </thead>\n",
       "  <tbody>\n",
       "    <tr>\n",
       "      <th>0</th>\n",
       "      <td>&lt;catboost.core.CatBoostRegressor object at 0x7...</td>\n",
       "      <td>1542.602722</td>\n",
       "      <td>72.864227</td>\n",
       "      <td>0.328459</td>\n",
       "    </tr>\n",
       "    <tr>\n",
       "      <th>1</th>\n",
       "      <td>LGBMRegressor(random_state=1)</td>\n",
       "      <td>1861.884904</td>\n",
       "      <td>380.983899</td>\n",
       "      <td>0.591447</td>\n",
       "    </tr>\n",
       "    <tr>\n",
       "      <th>2</th>\n",
       "      <td>(DecisionTreeRegressor(max_features='auto', ra...</td>\n",
       "      <td>1770.902252</td>\n",
       "      <td>95.878635</td>\n",
       "      <td>2.564658</td>\n",
       "    </tr>\n",
       "  </tbody>\n",
       "</table>\n",
       "</div>"
      ],
      "text/plain": [
       "                                               model         RMSE    fit time  \\\n",
       "0  <catboost.core.CatBoostRegressor object at 0x7...  1542.602722   72.864227   \n",
       "1                      LGBMRegressor(random_state=1)  1861.884904  380.983899   \n",
       "2  (DecisionTreeRegressor(max_features='auto', ra...  1770.902252   95.878635   \n",
       "\n",
       "   prediction time  \n",
       "0         0.328459  \n",
       "1         0.591447  \n",
       "2         2.564658  "
      ]
     },
     "execution_count": 202,
     "metadata": {},
     "output_type": "execute_result"
    }
   ],
   "source": [
    "results = pd.DataFrame(columns =['model','RMSE', 'fit time','prediction time'])\n",
    "\n",
    "for model in [cbr,gbm, RFR]:\n",
    "    \n",
    "    start_fit = time.time()\n",
    "    model.fit(X_train, y_train)\n",
    "    fit_time = time.time()-start_fit\n",
    "    \n",
    "    start_pred = time.time()\n",
    "    y_pred = model.predict(X_valid)\n",
    "    pred_time = time.time()-start_pred\n",
    "    \n",
    "    results = results.append({'model': model,\n",
    "                             'RMSE': mean_squared_error(y_valid, y_pred) ** 0.5, \n",
    "                              'fit time': fit_time,\n",
    "                              'prediction time': pred_time}, \n",
    "                             ignore_index=True)  \n",
    "results"
   ]
  },
  {
   "cell_type": "code",
   "execution_count": 203,
   "metadata": {},
   "outputs": [
    {
     "data": {
      "text/plain": [
       "4599.128295119111"
      ]
     },
     "execution_count": 203,
     "metadata": {},
     "output_type": "execute_result"
    }
   ],
   "source": [
    "#проверка на адекватность. сравнение с константным регрессором. \n",
    "\n",
    "dummy_pred = DummyRegressor().fit(X_train,y_train).predict(X_test)\n",
    "mean_squared_error(y_test, dummy_pred) ** 0.5\n"
   ]
  },
  {
   "cell_type": "markdown",
   "metadata": {},
   "source": [
    "Промежуточные итоги:\n",
    "\n",
    " - Обучено три модели. Для CatBoostRegressor проведен подбор гиперпараметров\n",
    " - Все три модели на тестовой выборке достгили требуемого RMSE меньше 2500\n",
    " - Минимальное время обучения - 71 секунда для CatBoost Regressor\n",
    " - Дольше всех обучается LGBM - 377 секунд\n",
    " - Лучшая метрика у СatBoost - 1525\n",
    " - Предсказания строятся дольше всех у модели случайного леса\n",
    " - По сравнению с константной моделью все три модели показали себя адекватными"
   ]
  },
  {
   "cell_type": "markdown",
   "metadata": {},
   "source": [
    "## Анализ моделей"
   ]
  },
  {
   "cell_type": "markdown",
   "metadata": {},
   "source": [
    "<div class=\"alert alert-block alert-danger\">\n",
    "<b>❌ Замечание:</b>\n",
    "\n",
    "В анализе моделей нужно смотреть на время их обучения и предсказания. Можешь добавить?)\n",
    "\n",
    "В сравнении нужно смотреть отдельно на время обучения и время предсказания для каждой модели.\n",
    "</div>"
   ]
  },
  {
   "cell_type": "markdown",
   "metadata": {},
   "source": [
    "<div class=\"alert alert-block alert-danger\">\n",
    "<b>❌ Замечание:</b>\n",
    "\n",
    "Если валидациционной выборки нет, то анализ моделей должен выглядеть так:\n",
    "\n",
    "1. RMSE вычисляется с помощью кросс-валидации на тренировочной выборке\n",
    "2. Время обучения = время model.fit(X_train, y_train)\n",
    "3. Время предсказания = model.predict(X_train)\n",
    "</div>"
   ]
  },
  {
   "cell_type": "markdown",
   "metadata": {},
   "source": [
    "<div class=\"alert alert-block alert-info\">\n",
    "<b>Изменения:</b> Добавила в сравнительную таблицу выше измерения времени обучения и предсказания\n",
    "</div>"
   ]
  },
  {
   "cell_type": "markdown",
   "metadata": {},
   "source": [
    "<div class=\"alert alert-block alert-success\">\n",
    "<b>✔️ Успешно исправлено</b>\n",
    "</div>"
   ]
  },
  {
   "cell_type": "markdown",
   "metadata": {},
   "source": [
    "Из итоговой таблицы видно, что лучше всех справляется CatBoostRegressor. Ее можно порекомендовать заказчику для нового сервиса. \n",
    "Проведем финальное тестирование модели:"
   ]
  },
  {
   "cell_type": "code",
   "execution_count": 204,
   "metadata": {},
   "outputs": [
    {
     "data": {
      "text/plain": [
       "1525.357975406152"
      ]
     },
     "execution_count": 204,
     "metadata": {},
     "output_type": "execute_result"
    }
   ],
   "source": [
    "  \n",
    "y_pred = cbr.predict(X_test)\n",
    "mean_squared_error(y_test, y_pred) ** 0.5\n"
   ]
  },
  {
   "cell_type": "markdown",
   "metadata": {},
   "source": [
    "<div class=\"alert alert-block alert-danger\">\n",
    "<b>❌ Замечание:</b>\n",
    "\n",
    "После анализа моделей нужно порекомендовать заказчику одну модель и провести на ней финальное тестирование.\n",
    "\n",
    "Рассчитай финальную метрику лучшей модели на тестовой выборке (до этого тестовая выборка нигде не должна использоваться). RMSE должно быть меньше 2500. Если метрика не дотягивает, попробуй исправить мои замечания, также можешь потюнить гиперпараметры (на этапе обучения моделей, не на тестовой выборке!)\n",
    "</div>"
   ]
  },
  {
   "cell_type": "markdown",
   "metadata": {},
   "source": [
    "<div class=\"alert alert-block alert-info\">\n",
    "<b>Изменения:</b> Добавила финальное тестирование\n",
    "</div>"
   ]
  },
  {
   "cell_type": "markdown",
   "metadata": {},
   "source": [
    "<div class=\"alert alert-block alert-success\">\n",
    "<b>✔️ Успешно исправлено</b>\n",
    "</div>"
   ]
  },
  {
   "cell_type": "markdown",
   "metadata": {},
   "source": [
    "**Выводы:**\n",
    "\n",
    "- Проведен обзор данных, выделены информативные для обучения признаки\n",
    "\n",
    "- Удалены выпдающие значения и дубликаты \n",
    "\n",
    "- Проведено кодирование и масштабирование данных\n",
    "\n",
    "- Обучено три модели, проанализировано время предсказания и качество моделей\n",
    "\n",
    "- Все модели оказались адекватны по сравнению с константной моделью\n",
    "\n",
    "- Достигнута требуемая RMSE. Лучшие результаты - 1525 у CatBoost \n",
    "\n",
    "**Для сервиса по определению рыночной стоимости рекомендуется CatBoostRegressor с параметрами, указанными ниже. RMSE на тестовой выборке для этой модели составила**"
   ]
  },
  {
   "cell_type": "markdown",
   "metadata": {},
   "source": [
    "<div class=\"alert alert-block alert-warning\">\n",
    "<b>⚠️ Совет:</b>\n",
    "\n",
    "К выводу стоит добавить краткий обзор выполненной работы.\n",
    "</div>"
   ]
  },
  {
   "cell_type": "markdown",
   "metadata": {},
   "source": [
    "<div class=\"alert alert-block alert-info\">\n",
    "<b>Изменения:</b> Дополнила вывод\n",
    "</div>"
   ]
  },
  {
   "cell_type": "markdown",
   "metadata": {},
   "source": [
    "<div class=\"alert alert-block alert-success\">\n",
    "<b>✔️ Успешно исправлено</b>\n",
    "</div>"
   ]
  },
  {
   "cell_type": "markdown",
   "metadata": {},
   "source": [
    "<div class=\"alert alert-block alert-info\">\n",
    "<b>Комментарий студента:</b> Большое спасибо за полезные ссылки! Это был не очень понятный по теории спринт, так что очень пригодились и еще пригодятсяэти рекомендации\n",
    "</div>"
   ]
  },
  {
   "cell_type": "markdown",
   "metadata": {},
   "source": [
    "<div class=\"alert alert-block alert-info\">\n",
    "<b>Комментарий ревьюера:</b>\n",
    "\n",
    "Спасибо за качественный проект)\n",
    "</div>"
   ]
  },
  {
   "cell_type": "markdown",
   "metadata": {},
   "source": [
    "# <font color='orange'>Общее впечатление</font>\n",
    "* Этот проект выполнен очень хорошо\n",
    "* Видно, что приложено много усилий\n",
    "* Молодец, что структурируешь ноутбук, приятно проверять такие работы\n",
    "* У тебя чистый и лаконичный код\n",
    "* Мне было интересно читать твои промежуточные выводы\n",
    "* Твой уровень подачи материала находится на высоком уровне\n",
    "* Исправь, пожалуйста, мои замечания. Затем отправляй на повторную проверку\n",
    "* Жду новую версию проекта 👋"
   ]
  },
  {
   "cell_type": "markdown",
   "metadata": {},
   "source": [
    "# <font color='orange'>2. Общее впечатление</font>\n",
    "* Спасибо за быстрое внесение правок\n",
    "* Теперь проект выглядит лучше )\n",
    "* Критических замечаний нет\n",
    "* Молодец, отличная работа!\n",
    "* Надеюсь, ревью было полезным\n",
    "* Удачи в дальнейшем обучении 👋"
   ]
  },
  {
   "cell_type": "markdown",
   "metadata": {},
   "source": [
    "# <font color='orange'>Рекомендации 🔥</font>\n",
    "* Доступное объяснение про работу градиентного бустинга https://www.youtube.com/watch?v=ZNJ3lKyI-EY&t=995s\n",
    "* После просмотра видео можешь почитать статью про ансамбли и бустинги https://habr.com/ru/company/ods/blog/645887/\n",
    "* Подбор гиперпараметров для CatBoost https://habr.com/ru/company/otus/blog/527554/\n",
    "* Подбор гиперпараметров для LightGBM https://programmersought.com/article/40776531516/\n",
    "* Разумные способы кодирования категориальных данных для машинного обучения https://machinelearningmastery.ru/smarter-ways-to-encode-categorical-data-for-machine-learning-part-1-of-3-6dca2f71b159/\n",
    "* Статья про \"непонятную\" метрику ROC-AUC https://dyakonov.org/2017/07/28/auc-roc-площадь-под-кривой-ошибок/\n",
    "* Хочешь подтянуть математику для DS?) https://academy.stepik.org/math-for-data-science\n",
    "* Результы обучения моделей можно визуализировать 😎 https://www.datatechnotes.com/2019/08/elasticnet-regression-example-in-python.html\n",
    "* В нашем деле нужно быть всегда в курсе всех новинок, новостей и тд, вот тут публикуют новости в области DS: https://www.infoq.com/data-analysis/news/\n",
    "* Всем аналитикам данных рекомендую книгу Даниела Канемана \"Думай медленно, решай быстро\""
   ]
  }
 ],
 "metadata": {
  "ExecuteTimeLog": [
   {
    "duration": 374,
    "start_time": "2022-09-03T07:15:48.416Z"
   },
   {
    "duration": 3,
    "start_time": "2022-09-03T07:16:03.228Z"
   },
   {
    "duration": 1176,
    "start_time": "2022-09-03T07:16:15.616Z"
   },
   {
    "duration": 26,
    "start_time": "2022-09-03T07:16:21.366Z"
   },
   {
    "duration": 149,
    "start_time": "2022-09-03T07:16:26.493Z"
   },
   {
    "duration": 59,
    "start_time": "2022-09-03T07:18:55.457Z"
   },
   {
    "duration": 9,
    "start_time": "2022-09-03T07:18:59.563Z"
   },
   {
    "duration": 8,
    "start_time": "2022-09-03T07:19:13.551Z"
   },
   {
    "duration": 41,
    "start_time": "2022-09-03T07:19:16.393Z"
   },
   {
    "duration": 31,
    "start_time": "2022-09-03T07:20:30.526Z"
   },
   {
    "duration": 32,
    "start_time": "2022-09-03T07:20:51.591Z"
   },
   {
    "duration": 18,
    "start_time": "2022-09-03T07:21:10.517Z"
   },
   {
    "duration": 30,
    "start_time": "2022-09-03T07:21:48.573Z"
   },
   {
    "duration": 51,
    "start_time": "2022-09-03T07:22:07.366Z"
   },
   {
    "duration": 34,
    "start_time": "2022-09-03T07:39:08.518Z"
   },
   {
    "duration": 20,
    "start_time": "2022-09-03T07:39:46.058Z"
   },
   {
    "duration": 681,
    "start_time": "2022-09-03T07:40:24.729Z"
   },
   {
    "duration": 199,
    "start_time": "2022-09-03T07:40:39.169Z"
   },
   {
    "duration": 19,
    "start_time": "2022-09-03T07:40:53.522Z"
   },
   {
    "duration": 18,
    "start_time": "2022-09-03T07:41:00.048Z"
   },
   {
    "duration": 8,
    "start_time": "2022-09-03T07:41:12.216Z"
   },
   {
    "duration": 15,
    "start_time": "2022-09-03T07:41:22.311Z"
   },
   {
    "duration": 16,
    "start_time": "2022-09-03T07:41:35.909Z"
   },
   {
    "duration": 18,
    "start_time": "2022-09-03T07:41:40.632Z"
   },
   {
    "duration": 17,
    "start_time": "2022-09-03T07:41:53.493Z"
   },
   {
    "duration": 16,
    "start_time": "2022-09-03T07:41:57.102Z"
   },
   {
    "duration": 124,
    "start_time": "2022-09-03T07:42:14.087Z"
   },
   {
    "duration": 32,
    "start_time": "2022-09-03T07:42:26.937Z"
   },
   {
    "duration": 24,
    "start_time": "2022-09-03T07:42:32.053Z"
   },
   {
    "duration": 16,
    "start_time": "2022-09-03T07:43:07.024Z"
   },
   {
    "duration": 19,
    "start_time": "2022-09-03T07:43:20.751Z"
   },
   {
    "duration": 252,
    "start_time": "2022-09-03T07:44:02.123Z"
   },
   {
    "duration": 25,
    "start_time": "2022-09-03T07:44:20.729Z"
   },
   {
    "duration": 243,
    "start_time": "2022-09-03T07:44:23.183Z"
   },
   {
    "duration": 255,
    "start_time": "2022-09-03T07:44:36.638Z"
   },
   {
    "duration": 240,
    "start_time": "2022-09-03T07:44:52.959Z"
   },
   {
    "duration": 224,
    "start_time": "2022-09-03T07:44:57.970Z"
   },
   {
    "duration": 352,
    "start_time": "2022-09-03T07:45:01.429Z"
   },
   {
    "duration": 142,
    "start_time": "2022-09-03T07:45:10.536Z"
   },
   {
    "duration": 45,
    "start_time": "2022-09-03T07:48:44.304Z"
   },
   {
    "duration": 60,
    "start_time": "2022-09-03T07:48:58.036Z"
   },
   {
    "duration": 153,
    "start_time": "2022-09-03T07:49:11.689Z"
   },
   {
    "duration": 8,
    "start_time": "2022-09-03T07:49:32.172Z"
   },
   {
    "duration": 125,
    "start_time": "2022-09-03T07:49:43.870Z"
   },
   {
    "duration": 8,
    "start_time": "2022-09-03T07:50:27.443Z"
   },
   {
    "duration": 31,
    "start_time": "2022-09-03T07:50:34.819Z"
   },
   {
    "duration": 12,
    "start_time": "2022-09-03T08:15:04.456Z"
   },
   {
    "duration": 30,
    "start_time": "2022-09-03T08:15:11.205Z"
   },
   {
    "duration": 4,
    "start_time": "2022-09-03T08:15:33.234Z"
   },
   {
    "duration": 7,
    "start_time": "2022-09-03T08:15:39.937Z"
   },
   {
    "duration": 801,
    "start_time": "2022-09-03T08:15:45.341Z"
   },
   {
    "duration": 18,
    "start_time": "2022-09-03T08:19:14.977Z"
   },
   {
    "duration": 123,
    "start_time": "2022-09-03T08:19:22.236Z"
   },
   {
    "duration": 3,
    "start_time": "2022-09-03T08:20:29.543Z"
   },
   {
    "duration": 86,
    "start_time": "2022-09-03T08:42:35.120Z"
   },
   {
    "duration": 117,
    "start_time": "2022-09-03T08:42:56.265Z"
   },
   {
    "duration": 65,
    "start_time": "2022-09-03T08:42:58.570Z"
   },
   {
    "duration": 89,
    "start_time": "2022-09-03T08:43:11.669Z"
   },
   {
    "duration": 2,
    "start_time": "2022-09-03T08:43:17.827Z"
   },
   {
    "duration": 746,
    "start_time": "2022-09-03T08:43:18.086Z"
   },
   {
    "duration": 118,
    "start_time": "2022-09-03T08:43:18.834Z"
   },
   {
    "duration": 16,
    "start_time": "2022-09-03T08:43:18.954Z"
   },
   {
    "duration": 58,
    "start_time": "2022-09-03T08:43:18.996Z"
   },
   {
    "duration": 123,
    "start_time": "2022-09-03T08:43:19.710Z"
   },
   {
    "duration": 32,
    "start_time": "2022-09-03T08:43:20.270Z"
   },
   {
    "duration": 3,
    "start_time": "2022-09-03T08:43:23.494Z"
   },
   {
    "duration": 77,
    "start_time": "2022-09-03T08:43:24.143Z"
   },
   {
    "duration": 115,
    "start_time": "2022-09-03T08:43:30.489Z"
   },
   {
    "duration": 93,
    "start_time": "2022-09-03T08:44:21.159Z"
   },
   {
    "duration": 122,
    "start_time": "2022-09-03T08:44:22.080Z"
   },
   {
    "duration": 20,
    "start_time": "2022-09-03T08:44:59.787Z"
   },
   {
    "duration": 11,
    "start_time": "2022-09-03T08:48:38.682Z"
   },
   {
    "duration": 16,
    "start_time": "2022-09-03T09:07:21.650Z"
   },
   {
    "duration": 19,
    "start_time": "2022-09-03T09:07:28.310Z"
   },
   {
    "duration": 9,
    "start_time": "2022-09-03T09:07:51.669Z"
   },
   {
    "duration": 8,
    "start_time": "2022-09-03T09:08:06.685Z"
   },
   {
    "duration": 27,
    "start_time": "2022-09-03T09:08:22.895Z"
   },
   {
    "duration": 8,
    "start_time": "2022-09-03T09:08:23.383Z"
   },
   {
    "duration": 7,
    "start_time": "2022-09-03T09:08:35.307Z"
   },
   {
    "duration": 9,
    "start_time": "2022-09-03T09:09:46.547Z"
   },
   {
    "duration": 133,
    "start_time": "2022-09-03T09:11:07.954Z"
   },
   {
    "duration": 276,
    "start_time": "2022-09-03T09:13:39.177Z"
   },
   {
    "duration": 253,
    "start_time": "2022-09-03T09:13:48.374Z"
   },
   {
    "duration": 3,
    "start_time": "2022-09-03T09:16:05.211Z"
   },
   {
    "duration": 757,
    "start_time": "2022-09-03T09:16:05.216Z"
   },
   {
    "duration": 143,
    "start_time": "2022-09-03T09:16:05.974Z"
   },
   {
    "duration": 356,
    "start_time": "2022-09-03T09:16:06.119Z"
   },
   {
    "duration": 10,
    "start_time": "2022-09-03T09:18:44.743Z"
   },
   {
    "duration": 138,
    "start_time": "2022-09-03T09:19:05.706Z"
   },
   {
    "duration": 186,
    "start_time": "2022-09-03T09:19:12.734Z"
   },
   {
    "duration": 21,
    "start_time": "2022-09-03T09:19:57.269Z"
   },
   {
    "duration": 45,
    "start_time": "2022-09-03T09:21:02.512Z"
   },
   {
    "duration": 319,
    "start_time": "2022-09-03T09:21:12.387Z"
   },
   {
    "duration": 10,
    "start_time": "2022-09-03T09:21:58.747Z"
   },
   {
    "duration": 148,
    "start_time": "2022-09-03T09:22:10.452Z"
   },
   {
    "duration": 203,
    "start_time": "2022-09-03T09:22:12.343Z"
   },
   {
    "duration": 8,
    "start_time": "2022-09-03T09:23:07.006Z"
   },
   {
    "duration": 49,
    "start_time": "2022-09-03T09:23:11.294Z"
   },
   {
    "duration": 45,
    "start_time": "2022-09-03T09:23:27.372Z"
   },
   {
    "duration": 27,
    "start_time": "2022-09-03T09:23:49.173Z"
   },
   {
    "duration": 22,
    "start_time": "2022-09-03T09:23:53.577Z"
   },
   {
    "duration": 24,
    "start_time": "2022-09-03T09:24:49.189Z"
   },
   {
    "duration": 25,
    "start_time": "2022-09-03T09:25:04.781Z"
   },
   {
    "duration": 24,
    "start_time": "2022-09-03T09:25:40.369Z"
   },
   {
    "duration": 26,
    "start_time": "2022-09-03T09:26:03.704Z"
   },
   {
    "duration": 22,
    "start_time": "2022-09-03T09:26:21.243Z"
   },
   {
    "duration": 5,
    "start_time": "2022-09-03T09:27:00.999Z"
   },
   {
    "duration": 8,
    "start_time": "2022-09-03T09:27:12.994Z"
   },
   {
    "duration": 6,
    "start_time": "2022-09-03T09:27:31.603Z"
   },
   {
    "duration": 17,
    "start_time": "2022-09-03T09:35:27.117Z"
   },
   {
    "duration": 16,
    "start_time": "2022-09-03T09:35:36.749Z"
   },
   {
    "duration": 246,
    "start_time": "2022-09-03T09:35:41.433Z"
   },
   {
    "duration": 204,
    "start_time": "2022-09-03T09:35:57.404Z"
   },
   {
    "duration": 12,
    "start_time": "2022-09-03T09:36:31.246Z"
   },
   {
    "duration": 372,
    "start_time": "2022-09-03T09:36:55.137Z"
   },
   {
    "duration": 3,
    "start_time": "2022-09-03T09:36:59.475Z"
   },
   {
    "duration": 742,
    "start_time": "2022-09-03T09:36:59.480Z"
   },
   {
    "duration": 20,
    "start_time": "2022-09-03T09:37:00.224Z"
   },
   {
    "duration": 271,
    "start_time": "2022-09-03T09:37:00.246Z"
   },
   {
    "duration": 47,
    "start_time": "2022-09-03T09:37:00.519Z"
   },
   {
    "duration": 20,
    "start_time": "2022-09-03T09:37:00.568Z"
   },
   {
    "duration": 205,
    "start_time": "2022-09-03T09:37:00.589Z"
   },
   {
    "duration": 141,
    "start_time": "2022-09-03T09:37:00.796Z"
   },
   {
    "duration": 208,
    "start_time": "2022-09-03T09:37:00.939Z"
   },
   {
    "duration": 44,
    "start_time": "2022-09-03T09:37:01.149Z"
   },
   {
    "duration": 9,
    "start_time": "2022-09-03T09:39:05.851Z"
   },
   {
    "duration": 154,
    "start_time": "2022-09-03T09:39:12.391Z"
   },
   {
    "duration": 162,
    "start_time": "2022-09-03T09:39:24.109Z"
   },
   {
    "duration": 151,
    "start_time": "2022-09-03T09:39:57.660Z"
   },
   {
    "duration": 169,
    "start_time": "2022-09-03T09:40:02.608Z"
   },
   {
    "duration": 365,
    "start_time": "2022-09-03T09:40:14.418Z"
   },
   {
    "duration": 50,
    "start_time": "2022-09-03T09:40:49.875Z"
   },
   {
    "duration": 40,
    "start_time": "2022-09-03T09:41:47.914Z"
   },
   {
    "duration": 335,
    "start_time": "2022-09-03T09:41:55.728Z"
   },
   {
    "duration": 9,
    "start_time": "2022-09-03T09:42:51.340Z"
   },
   {
    "duration": 7,
    "start_time": "2022-09-03T09:44:29.414Z"
   },
   {
    "duration": 9,
    "start_time": "2022-09-03T09:44:34.985Z"
   },
   {
    "duration": 53,
    "start_time": "2022-09-03T09:45:00.022Z"
   },
   {
    "duration": 46,
    "start_time": "2022-09-03T09:45:23.510Z"
   },
   {
    "duration": 69,
    "start_time": "2022-09-03T09:46:13.663Z"
   },
   {
    "duration": 308,
    "start_time": "2022-09-03T09:46:25.803Z"
   },
   {
    "duration": 4,
    "start_time": "2022-09-03T09:46:53.750Z"
   },
   {
    "duration": 730,
    "start_time": "2022-09-03T09:46:53.757Z"
   },
   {
    "duration": 21,
    "start_time": "2022-09-03T09:46:54.489Z"
   },
   {
    "duration": 287,
    "start_time": "2022-09-03T09:46:54.512Z"
   },
   {
    "duration": 48,
    "start_time": "2022-09-03T09:46:54.802Z"
   },
   {
    "duration": 7,
    "start_time": "2022-09-03T09:46:54.852Z"
   },
   {
    "duration": 199,
    "start_time": "2022-09-03T09:46:54.861Z"
   },
   {
    "duration": 118,
    "start_time": "2022-09-03T09:46:55.062Z"
   },
   {
    "duration": 200,
    "start_time": "2022-09-03T09:46:55.187Z"
   },
   {
    "duration": 252,
    "start_time": "2022-09-03T09:46:55.389Z"
   },
   {
    "duration": 451,
    "start_time": "2022-09-03T09:47:02.686Z"
   },
   {
    "duration": 320,
    "start_time": "2022-09-03T09:47:10.390Z"
   },
   {
    "duration": 257,
    "start_time": "2022-09-03T09:47:38.215Z"
   },
   {
    "duration": 154,
    "start_time": "2022-09-03T09:47:42.740Z"
   },
   {
    "duration": 9,
    "start_time": "2022-09-03T09:50:01.762Z"
   },
   {
    "duration": 31,
    "start_time": "2022-09-03T09:50:10.283Z"
   },
   {
    "duration": 57,
    "start_time": "2022-09-03T09:52:29.663Z"
   },
   {
    "duration": 171,
    "start_time": "2022-09-03T09:52:59.017Z"
   },
   {
    "duration": 30,
    "start_time": "2022-09-03T09:53:04.182Z"
   },
   {
    "duration": 31,
    "start_time": "2022-09-03T09:53:24.587Z"
   },
   {
    "duration": 3,
    "start_time": "2022-09-03T09:54:10.323Z"
   },
   {
    "duration": 743,
    "start_time": "2022-09-03T09:54:10.328Z"
   },
   {
    "duration": 24,
    "start_time": "2022-09-03T09:54:11.073Z"
   },
   {
    "duration": 282,
    "start_time": "2022-09-03T09:54:11.099Z"
   },
   {
    "duration": 50,
    "start_time": "2022-09-03T09:54:11.386Z"
   },
   {
    "duration": 8,
    "start_time": "2022-09-03T09:54:11.438Z"
   },
   {
    "duration": 213,
    "start_time": "2022-09-03T09:54:11.448Z"
   },
   {
    "duration": 124,
    "start_time": "2022-09-03T09:54:11.663Z"
   },
   {
    "duration": 210,
    "start_time": "2022-09-03T09:54:11.789Z"
   },
   {
    "duration": 403,
    "start_time": "2022-09-03T09:54:12.001Z"
   },
   {
    "duration": 329,
    "start_time": "2022-09-03T09:54:12.406Z"
   },
   {
    "duration": 171,
    "start_time": "2022-09-03T09:54:12.738Z"
   },
   {
    "duration": 30,
    "start_time": "2022-09-03T09:54:12.911Z"
   },
   {
    "duration": 35,
    "start_time": "2022-09-03T09:54:16.824Z"
   },
   {
    "duration": 33,
    "start_time": "2022-09-03T09:54:25.417Z"
   },
   {
    "duration": 35,
    "start_time": "2022-09-03T09:54:30.594Z"
   },
   {
    "duration": 36,
    "start_time": "2022-09-03T09:54:37.255Z"
   },
   {
    "duration": 31,
    "start_time": "2022-09-03T09:55:12.058Z"
   },
   {
    "duration": 73,
    "start_time": "2022-09-03T09:55:30.841Z"
   },
   {
    "duration": 26,
    "start_time": "2022-09-03T09:56:16.199Z"
   },
   {
    "duration": 29,
    "start_time": "2022-09-03T09:56:18.786Z"
   },
   {
    "duration": 12,
    "start_time": "2022-09-03T09:57:33.793Z"
   },
   {
    "duration": 10,
    "start_time": "2022-09-03T09:57:45.396Z"
   },
   {
    "duration": 29,
    "start_time": "2022-09-03T09:57:46.114Z"
   },
   {
    "duration": 3,
    "start_time": "2022-09-03T09:57:50.930Z"
   },
   {
    "duration": 693,
    "start_time": "2022-09-03T09:57:50.934Z"
   },
   {
    "duration": 21,
    "start_time": "2022-09-03T09:57:51.629Z"
   },
   {
    "duration": 263,
    "start_time": "2022-09-03T09:57:51.651Z"
   },
   {
    "duration": 44,
    "start_time": "2022-09-03T09:57:51.916Z"
   },
   {
    "duration": 7,
    "start_time": "2022-09-03T09:57:51.962Z"
   },
   {
    "duration": 201,
    "start_time": "2022-09-03T09:57:51.970Z"
   },
   {
    "duration": 110,
    "start_time": "2022-09-03T09:57:52.172Z"
   },
   {
    "duration": 195,
    "start_time": "2022-09-03T09:57:52.283Z"
   },
   {
    "duration": 255,
    "start_time": "2022-09-03T09:57:52.479Z"
   },
   {
    "duration": 438,
    "start_time": "2022-09-03T09:57:52.736Z"
   },
   {
    "duration": 169,
    "start_time": "2022-09-03T09:57:53.176Z"
   },
   {
    "duration": 39,
    "start_time": "2022-09-03T09:57:53.348Z"
   },
   {
    "duration": 11,
    "start_time": "2022-09-03T09:57:59.080Z"
   },
   {
    "duration": 30,
    "start_time": "2022-09-03T09:57:59.723Z"
   },
   {
    "duration": 29,
    "start_time": "2022-09-03T09:58:20.951Z"
   },
   {
    "duration": 7,
    "start_time": "2022-09-03T09:59:37.800Z"
   },
   {
    "duration": 6,
    "start_time": "2022-09-03T09:59:44.863Z"
   },
   {
    "duration": 4,
    "start_time": "2022-09-03T10:01:34.462Z"
   },
   {
    "duration": 4,
    "start_time": "2022-09-03T10:01:42.775Z"
   },
   {
    "duration": 4,
    "start_time": "2022-09-03T10:02:13.072Z"
   },
   {
    "duration": 85,
    "start_time": "2022-09-03T10:02:20.355Z"
   },
   {
    "duration": 112,
    "start_time": "2022-09-03T10:02:36.655Z"
   },
   {
    "duration": 3,
    "start_time": "2022-09-03T10:02:53.679Z"
   },
   {
    "duration": 710,
    "start_time": "2022-09-03T10:02:53.684Z"
   },
   {
    "duration": 132,
    "start_time": "2022-09-03T10:02:54.396Z"
   },
   {
    "duration": 276,
    "start_time": "2022-09-03T10:02:54.530Z"
   },
   {
    "duration": 54,
    "start_time": "2022-09-03T10:02:54.808Z"
   },
   {
    "duration": 7,
    "start_time": "2022-09-03T10:02:54.864Z"
   },
   {
    "duration": 179,
    "start_time": "2022-09-03T10:02:54.886Z"
   },
   {
    "duration": 115,
    "start_time": "2022-09-03T10:02:55.067Z"
   },
   {
    "duration": 205,
    "start_time": "2022-09-03T10:02:55.183Z"
   },
   {
    "duration": 258,
    "start_time": "2022-09-03T10:02:55.390Z"
   },
   {
    "duration": 455,
    "start_time": "2022-09-03T10:02:55.649Z"
   },
   {
    "duration": 183,
    "start_time": "2022-09-03T10:02:56.106Z"
   },
   {
    "duration": 34,
    "start_time": "2022-09-03T10:02:56.291Z"
   },
   {
    "duration": 39,
    "start_time": "2022-09-03T10:02:56.329Z"
   },
   {
    "duration": 43,
    "start_time": "2022-09-03T10:02:56.370Z"
   },
   {
    "duration": 111,
    "start_time": "2022-09-03T10:02:56.415Z"
   },
   {
    "duration": 115,
    "start_time": "2022-09-03T10:02:56.527Z"
   },
   {
    "duration": 20,
    "start_time": "2022-09-03T10:02:56.643Z"
   },
   {
    "duration": 82,
    "start_time": "2022-09-03T10:02:56.665Z"
   },
   {
    "duration": 4,
    "start_time": "2022-09-03T10:03:19.639Z"
   },
   {
    "duration": 136,
    "start_time": "2022-09-03T10:03:56.568Z"
   },
   {
    "duration": 402,
    "start_time": "2022-09-04T04:47:23.994Z"
   },
   {
    "duration": 1055,
    "start_time": "2022-09-04T04:47:24.398Z"
   },
   {
    "duration": 129,
    "start_time": "2022-09-04T04:47:25.455Z"
   },
   {
    "duration": 684,
    "start_time": "2022-09-04T04:47:25.586Z"
   },
   {
    "duration": 108,
    "start_time": "2022-09-04T04:47:26.273Z"
   },
   {
    "duration": 9,
    "start_time": "2022-09-04T04:47:26.387Z"
   },
   {
    "duration": 208,
    "start_time": "2022-09-04T04:47:26.398Z"
   },
   {
    "duration": 159,
    "start_time": "2022-09-04T04:47:26.608Z"
   },
   {
    "duration": 253,
    "start_time": "2022-09-04T04:47:26.769Z"
   },
   {
    "duration": 259,
    "start_time": "2022-09-04T04:47:27.024Z"
   },
   {
    "duration": 332,
    "start_time": "2022-09-04T04:47:27.287Z"
   },
   {
    "duration": 174,
    "start_time": "2022-09-04T04:47:27.621Z"
   },
   {
    "duration": 30,
    "start_time": "2022-09-04T04:47:27.797Z"
   },
   {
    "duration": 16,
    "start_time": "2022-09-04T04:47:27.830Z"
   },
   {
    "duration": 3,
    "start_time": "2022-09-04T04:47:27.848Z"
   },
   {
    "duration": 95,
    "start_time": "2022-09-04T04:47:27.853Z"
   },
   {
    "duration": 113,
    "start_time": "2022-09-04T04:47:27.950Z"
   },
   {
    "duration": 22,
    "start_time": "2022-09-04T04:47:28.065Z"
   },
   {
    "duration": 74,
    "start_time": "2022-09-04T04:47:28.088Z"
   },
   {
    "duration": 10,
    "start_time": "2022-09-04T04:49:45.377Z"
   },
   {
    "duration": 17,
    "start_time": "2022-09-04T05:01:15.589Z"
   },
   {
    "duration": 80,
    "start_time": "2022-09-04T05:01:16.036Z"
   },
   {
    "duration": 587,
    "start_time": "2022-09-04T05:01:27.104Z"
   },
   {
    "duration": 34,
    "start_time": "2022-09-04T05:01:35.549Z"
   },
   {
    "duration": 72,
    "start_time": "2022-09-04T05:03:00.866Z"
   },
   {
    "duration": 556,
    "start_time": "2022-09-04T05:04:13.719Z"
   },
   {
    "duration": 164,
    "start_time": "2022-09-04T05:04:25.801Z"
   },
   {
    "duration": 818,
    "start_time": "2022-09-04T05:04:25.967Z"
   },
   {
    "duration": 128,
    "start_time": "2022-09-04T05:04:26.787Z"
   },
   {
    "duration": 269,
    "start_time": "2022-09-04T05:04:26.917Z"
   },
   {
    "duration": 58,
    "start_time": "2022-09-04T05:04:27.188Z"
   },
   {
    "duration": 7,
    "start_time": "2022-09-04T05:04:27.248Z"
   },
   {
    "duration": 201,
    "start_time": "2022-09-04T05:04:27.256Z"
   },
   {
    "duration": 125,
    "start_time": "2022-09-04T05:04:27.458Z"
   },
   {
    "duration": 208,
    "start_time": "2022-09-04T05:04:27.587Z"
   },
   {
    "duration": 269,
    "start_time": "2022-09-04T05:04:27.797Z"
   },
   {
    "duration": 404,
    "start_time": "2022-09-04T05:04:28.068Z"
   },
   {
    "duration": 171,
    "start_time": "2022-09-04T05:04:28.473Z"
   },
   {
    "duration": 29,
    "start_time": "2022-09-04T05:04:28.646Z"
   },
   {
    "duration": 21,
    "start_time": "2022-09-04T05:04:28.676Z"
   },
   {
    "duration": 5,
    "start_time": "2022-09-04T05:04:28.698Z"
   },
   {
    "duration": 95,
    "start_time": "2022-09-04T05:04:28.705Z"
   },
   {
    "duration": 113,
    "start_time": "2022-09-04T05:04:28.801Z"
   },
   {
    "duration": 15,
    "start_time": "2022-09-04T05:04:28.916Z"
   },
   {
    "duration": 89,
    "start_time": "2022-09-04T05:04:28.933Z"
   },
   {
    "duration": 617,
    "start_time": "2022-09-04T05:04:29.024Z"
   },
   {
    "duration": 32,
    "start_time": "2022-09-04T05:04:29.643Z"
   },
   {
    "duration": 64791,
    "start_time": "2022-09-04T05:06:25.924Z"
   },
   {
    "duration": 74,
    "start_time": "2022-09-04T05:07:43.546Z"
   },
   {
    "duration": 10592,
    "start_time": "2022-09-04T05:07:46.351Z"
   },
   {
    "duration": 2,
    "start_time": "2022-09-04T05:08:00.689Z"
   },
   {
    "duration": 749,
    "start_time": "2022-09-04T05:08:00.693Z"
   },
   {
    "duration": 153,
    "start_time": "2022-09-04T05:08:01.444Z"
   },
   {
    "duration": 260,
    "start_time": "2022-09-04T05:08:01.598Z"
   },
   {
    "duration": 71,
    "start_time": "2022-09-04T05:08:01.860Z"
   },
   {
    "duration": 9,
    "start_time": "2022-09-04T05:08:01.932Z"
   },
   {
    "duration": 194,
    "start_time": "2022-09-04T05:08:01.942Z"
   },
   {
    "duration": 124,
    "start_time": "2022-09-04T05:08:02.138Z"
   },
   {
    "duration": 215,
    "start_time": "2022-09-04T05:08:02.263Z"
   },
   {
    "duration": 258,
    "start_time": "2022-09-04T05:08:02.486Z"
   },
   {
    "duration": 425,
    "start_time": "2022-09-04T05:08:02.746Z"
   },
   {
    "duration": 173,
    "start_time": "2022-09-04T05:08:03.172Z"
   },
   {
    "duration": 40,
    "start_time": "2022-09-04T05:08:03.347Z"
   },
   {
    "duration": 13,
    "start_time": "2022-09-04T05:08:03.388Z"
   },
   {
    "duration": 21,
    "start_time": "2022-09-04T05:08:03.403Z"
   },
   {
    "duration": 84,
    "start_time": "2022-09-04T05:08:03.426Z"
   },
   {
    "duration": 129,
    "start_time": "2022-09-04T05:08:03.512Z"
   },
   {
    "duration": 16,
    "start_time": "2022-09-04T05:08:03.642Z"
   },
   {
    "duration": 91,
    "start_time": "2022-09-04T05:08:03.662Z"
   },
   {
    "duration": 672,
    "start_time": "2022-09-04T05:08:03.755Z"
   },
   {
    "duration": 37,
    "start_time": "2022-09-04T05:08:04.429Z"
   },
   {
    "duration": 525,
    "start_time": "2022-09-04T06:02:41.011Z"
   },
   {
    "duration": 549,
    "start_time": "2022-09-04T06:07:56.322Z"
   },
   {
    "duration": 785,
    "start_time": "2022-09-04T06:08:02.211Z"
   },
   {
    "duration": 755,
    "start_time": "2022-09-04T06:08:07.594Z"
   },
   {
    "duration": 774,
    "start_time": "2022-09-04T06:08:31.609Z"
   },
   {
    "duration": 761,
    "start_time": "2022-09-04T06:08:41.140Z"
   },
   {
    "duration": 2709,
    "start_time": "2022-09-04T06:10:08.402Z"
   },
   {
    "duration": 2761,
    "start_time": "2022-09-04T06:10:54.365Z"
   },
   {
    "duration": 134,
    "start_time": "2022-09-04T06:10:57.128Z"
   },
   {
    "duration": 80,
    "start_time": "2022-09-04T06:11:01.954Z"
   },
   {
    "duration": 21,
    "start_time": "2022-09-04T06:17:56.647Z"
   },
   {
    "duration": 3,
    "start_time": "2022-09-04T06:18:07.979Z"
   },
   {
    "duration": 841,
    "start_time": "2022-09-04T06:18:07.983Z"
   },
   {
    "duration": 173,
    "start_time": "2022-09-04T06:18:08.826Z"
   },
   {
    "duration": 315,
    "start_time": "2022-09-04T06:18:09.001Z"
   },
   {
    "duration": 82,
    "start_time": "2022-09-04T06:18:09.318Z"
   },
   {
    "duration": 12,
    "start_time": "2022-09-04T06:18:09.403Z"
   },
   {
    "duration": 241,
    "start_time": "2022-09-04T06:18:09.417Z"
   },
   {
    "duration": 137,
    "start_time": "2022-09-04T06:18:09.660Z"
   },
   {
    "duration": 240,
    "start_time": "2022-09-04T06:18:09.800Z"
   },
   {
    "duration": 328,
    "start_time": "2022-09-04T06:18:10.041Z"
   },
   {
    "duration": 495,
    "start_time": "2022-09-04T06:18:10.375Z"
   },
   {
    "duration": 197,
    "start_time": "2022-09-04T06:18:10.872Z"
   },
   {
    "duration": 48,
    "start_time": "2022-09-04T06:18:11.071Z"
   },
   {
    "duration": 21,
    "start_time": "2022-09-04T06:18:11.121Z"
   },
   {
    "duration": 9,
    "start_time": "2022-09-04T06:18:11.144Z"
   },
   {
    "duration": 114,
    "start_time": "2022-09-04T06:18:11.155Z"
   },
   {
    "duration": 155,
    "start_time": "2022-09-04T06:18:11.270Z"
   },
   {
    "duration": 13,
    "start_time": "2022-09-04T06:18:11.427Z"
   },
   {
    "duration": 110,
    "start_time": "2022-09-04T06:18:11.442Z"
   },
   {
    "duration": 2646,
    "start_time": "2022-09-04T06:18:11.553Z"
   },
   {
    "duration": 122,
    "start_time": "2022-09-04T06:18:14.201Z"
   },
   {
    "duration": 49,
    "start_time": "2022-09-04T06:18:14.325Z"
   },
   {
    "duration": 2,
    "start_time": "2022-09-04T06:18:57.260Z"
   },
   {
    "duration": 867,
    "start_time": "2022-09-04T06:18:57.264Z"
   },
   {
    "duration": 174,
    "start_time": "2022-09-04T06:18:58.134Z"
   },
   {
    "duration": 295,
    "start_time": "2022-09-04T06:18:58.310Z"
   },
   {
    "duration": 64,
    "start_time": "2022-09-04T06:18:58.607Z"
   },
   {
    "duration": 21,
    "start_time": "2022-09-04T06:18:58.673Z"
   },
   {
    "duration": 209,
    "start_time": "2022-09-04T06:18:58.696Z"
   },
   {
    "duration": 138,
    "start_time": "2022-09-04T06:18:58.908Z"
   },
   {
    "duration": 244,
    "start_time": "2022-09-04T06:18:59.047Z"
   },
   {
    "duration": 333,
    "start_time": "2022-09-04T06:18:59.292Z"
   },
   {
    "duration": 382,
    "start_time": "2022-09-04T06:18:59.626Z"
   },
   {
    "duration": 318,
    "start_time": "2022-09-04T06:19:00.009Z"
   },
   {
    "duration": 31,
    "start_time": "2022-09-04T06:19:00.329Z"
   },
   {
    "duration": 26,
    "start_time": "2022-09-04T06:19:00.362Z"
   },
   {
    "duration": 4,
    "start_time": "2022-09-04T06:19:00.390Z"
   },
   {
    "duration": 122,
    "start_time": "2022-09-04T06:19:00.396Z"
   },
   {
    "duration": 145,
    "start_time": "2022-09-04T06:19:00.521Z"
   },
   {
    "duration": 28,
    "start_time": "2022-09-04T06:19:00.668Z"
   },
   {
    "duration": 91,
    "start_time": "2022-09-04T06:19:00.699Z"
   },
   {
    "duration": 2674,
    "start_time": "2022-09-04T06:19:00.802Z"
   },
   {
    "duration": 125,
    "start_time": "2022-09-04T06:19:03.477Z"
   },
   {
    "duration": 54,
    "start_time": "2022-09-04T06:19:03.606Z"
   },
   {
    "duration": 4,
    "start_time": "2022-09-04T06:19:24.254Z"
   },
   {
    "duration": 36,
    "start_time": "2022-09-04T06:37:52.201Z"
   },
   {
    "duration": 9,
    "start_time": "2022-09-04T06:37:53.800Z"
   },
   {
    "duration": 18,
    "start_time": "2022-09-04T06:38:07.303Z"
   },
   {
    "duration": 143,
    "start_time": "2022-09-04T06:38:11.600Z"
   },
   {
    "duration": 273,
    "start_time": "2022-09-04T06:38:37.331Z"
   },
   {
    "duration": 34,
    "start_time": "2022-09-04T06:38:51.438Z"
   },
   {
    "duration": 28,
    "start_time": "2022-09-04T06:46:36.914Z"
   },
   {
    "duration": 139,
    "start_time": "2022-09-04T06:47:50.354Z"
   },
   {
    "duration": 11,
    "start_time": "2022-09-04T06:47:50.924Z"
   },
   {
    "duration": 3,
    "start_time": "2022-09-04T06:47:59.301Z"
   },
   {
    "duration": 741,
    "start_time": "2022-09-04T06:47:59.305Z"
   },
   {
    "duration": 156,
    "start_time": "2022-09-04T06:48:00.048Z"
   },
   {
    "duration": 280,
    "start_time": "2022-09-04T06:48:00.206Z"
   },
   {
    "duration": 69,
    "start_time": "2022-09-04T06:48:00.488Z"
   },
   {
    "duration": 7,
    "start_time": "2022-09-04T06:48:00.558Z"
   },
   {
    "duration": 190,
    "start_time": "2022-09-04T06:48:00.567Z"
   },
   {
    "duration": 142,
    "start_time": "2022-09-04T06:48:00.759Z"
   },
   {
    "duration": 197,
    "start_time": "2022-09-04T06:48:00.902Z"
   },
   {
    "duration": 272,
    "start_time": "2022-09-04T06:48:01.100Z"
   },
   {
    "duration": 333,
    "start_time": "2022-09-04T06:48:01.374Z"
   },
   {
    "duration": 294,
    "start_time": "2022-09-04T06:48:01.708Z"
   },
   {
    "duration": 33,
    "start_time": "2022-09-04T06:48:02.004Z"
   },
   {
    "duration": 47,
    "start_time": "2022-09-04T06:48:02.041Z"
   },
   {
    "duration": 44,
    "start_time": "2022-09-04T06:48:02.090Z"
   },
   {
    "duration": 91,
    "start_time": "2022-09-04T06:48:02.135Z"
   },
   {
    "duration": 134,
    "start_time": "2022-09-04T06:48:02.228Z"
   },
   {
    "duration": 26,
    "start_time": "2022-09-04T06:48:02.364Z"
   },
   {
    "duration": 78,
    "start_time": "2022-09-04T06:48:02.391Z"
   },
   {
    "duration": 2533,
    "start_time": "2022-09-04T06:48:02.471Z"
   },
   {
    "duration": 117,
    "start_time": "2022-09-04T06:48:05.006Z"
   },
   {
    "duration": 34,
    "start_time": "2022-09-04T06:48:05.125Z"
   },
   {
    "duration": 152,
    "start_time": "2022-09-04T06:48:05.161Z"
   },
   {
    "duration": 13,
    "start_time": "2022-09-04T06:48:05.315Z"
   },
   {
    "duration": 38,
    "start_time": "2022-09-04T06:48:05.330Z"
   },
   {
    "duration": 4,
    "start_time": "2022-09-04T06:48:11.918Z"
   },
   {
    "duration": 25,
    "start_time": "2022-09-04T06:48:35.990Z"
   },
   {
    "duration": 10,
    "start_time": "2022-09-04T06:50:49.386Z"
   },
   {
    "duration": 4,
    "start_time": "2022-09-04T06:51:00.300Z"
   },
   {
    "duration": 65,
    "start_time": "2022-09-04T06:51:08.976Z"
   },
   {
    "duration": 6,
    "start_time": "2022-09-04T06:51:17.622Z"
   },
   {
    "duration": 10,
    "start_time": "2022-09-04T06:52:10.972Z"
   },
   {
    "duration": 10,
    "start_time": "2022-09-04T06:52:18.932Z"
   },
   {
    "duration": 11,
    "start_time": "2022-09-04T06:54:11.990Z"
   },
   {
    "duration": 11,
    "start_time": "2022-09-04T06:54:15.698Z"
   },
   {
    "duration": 12,
    "start_time": "2022-09-04T06:54:58.698Z"
   },
   {
    "duration": 11,
    "start_time": "2022-09-04T06:55:36.638Z"
   },
   {
    "duration": 15,
    "start_time": "2022-09-04T06:56:04.486Z"
   },
   {
    "duration": 55,
    "start_time": "2022-09-04T07:01:29.659Z"
   },
   {
    "duration": 12,
    "start_time": "2022-09-04T07:01:45.817Z"
   },
   {
    "duration": 1013,
    "start_time": "2022-09-04T07:02:12.059Z"
   },
   {
    "duration": 68,
    "start_time": "2022-09-04T07:03:04.322Z"
   },
   {
    "duration": 3,
    "start_time": "2022-09-04T07:03:08.123Z"
   },
   {
    "duration": 24,
    "start_time": "2022-09-04T07:04:02.247Z"
   },
   {
    "duration": 1238,
    "start_time": "2022-09-04T07:27:34.061Z"
   },
   {
    "duration": 0,
    "start_time": "2022-09-04T07:27:35.301Z"
   },
   {
    "duration": 4,
    "start_time": "2022-09-04T07:27:37.738Z"
   },
   {
    "duration": 748,
    "start_time": "2022-09-04T07:27:37.746Z"
   },
   {
    "duration": 151,
    "start_time": "2022-09-04T07:27:38.495Z"
   },
   {
    "duration": 294,
    "start_time": "2022-09-04T07:27:38.648Z"
   },
   {
    "duration": 69,
    "start_time": "2022-09-04T07:27:38.944Z"
   },
   {
    "duration": 7,
    "start_time": "2022-09-04T07:27:39.015Z"
   },
   {
    "duration": 216,
    "start_time": "2022-09-04T07:27:39.024Z"
   },
   {
    "duration": 129,
    "start_time": "2022-09-04T07:27:39.241Z"
   },
   {
    "duration": 214,
    "start_time": "2022-09-04T07:27:39.374Z"
   },
   {
    "duration": 262,
    "start_time": "2022-09-04T07:27:39.590Z"
   },
   {
    "duration": 470,
    "start_time": "2022-09-04T07:27:39.854Z"
   },
   {
    "duration": 180,
    "start_time": "2022-09-04T07:27:40.326Z"
   },
   {
    "duration": 29,
    "start_time": "2022-09-04T07:27:40.508Z"
   },
   {
    "duration": 18,
    "start_time": "2022-09-04T07:27:40.539Z"
   },
   {
    "duration": 28,
    "start_time": "2022-09-04T07:27:40.559Z"
   },
   {
    "duration": 84,
    "start_time": "2022-09-04T07:27:40.589Z"
   },
   {
    "duration": 142,
    "start_time": "2022-09-04T07:27:40.675Z"
   },
   {
    "duration": 14,
    "start_time": "2022-09-04T07:27:40.819Z"
   },
   {
    "duration": 88,
    "start_time": "2022-09-04T07:27:40.834Z"
   },
   {
    "duration": 2252,
    "start_time": "2022-09-04T07:27:40.923Z"
   },
   {
    "duration": 62,
    "start_time": "2022-09-04T07:27:43.177Z"
   },
   {
    "duration": 13,
    "start_time": "2022-09-04T07:27:43.240Z"
   },
   {
    "duration": 104,
    "start_time": "2022-09-04T07:27:43.255Z"
   },
   {
    "duration": 11,
    "start_time": "2022-09-04T07:29:10.721Z"
   },
   {
    "duration": 10,
    "start_time": "2022-09-04T07:29:27.624Z"
   },
   {
    "duration": 30,
    "start_time": "2022-09-04T07:29:48.372Z"
   },
   {
    "duration": 29,
    "start_time": "2022-09-04T07:32:52.976Z"
   },
   {
    "duration": 16,
    "start_time": "2022-09-04T07:33:25.921Z"
   },
   {
    "duration": 23,
    "start_time": "2022-09-04T07:34:47.241Z"
   },
   {
    "duration": 67,
    "start_time": "2022-09-04T07:34:47.646Z"
   },
   {
    "duration": 24,
    "start_time": "2022-09-04T07:34:49.074Z"
   },
   {
    "duration": 4,
    "start_time": "2022-09-04T07:35:12.105Z"
   },
   {
    "duration": 849,
    "start_time": "2022-09-04T07:35:12.111Z"
   },
   {
    "duration": 152,
    "start_time": "2022-09-04T07:35:12.961Z"
   },
   {
    "duration": 284,
    "start_time": "2022-09-04T07:35:13.115Z"
   },
   {
    "duration": 71,
    "start_time": "2022-09-04T07:35:13.401Z"
   },
   {
    "duration": 17,
    "start_time": "2022-09-04T07:35:13.474Z"
   },
   {
    "duration": 197,
    "start_time": "2022-09-04T07:35:13.492Z"
   },
   {
    "duration": 137,
    "start_time": "2022-09-04T07:35:13.691Z"
   },
   {
    "duration": 203,
    "start_time": "2022-09-04T07:35:13.830Z"
   },
   {
    "duration": 310,
    "start_time": "2022-09-04T07:35:14.035Z"
   },
   {
    "duration": 350,
    "start_time": "2022-09-04T07:35:14.346Z"
   },
   {
    "duration": 299,
    "start_time": "2022-09-04T07:35:14.698Z"
   },
   {
    "duration": 29,
    "start_time": "2022-09-04T07:35:14.998Z"
   },
   {
    "duration": 38,
    "start_time": "2022-09-04T07:35:15.029Z"
   },
   {
    "duration": 5,
    "start_time": "2022-09-04T07:35:15.069Z"
   },
   {
    "duration": 90,
    "start_time": "2022-09-04T07:35:15.076Z"
   },
   {
    "duration": 137,
    "start_time": "2022-09-04T07:35:15.168Z"
   },
   {
    "duration": 16,
    "start_time": "2022-09-04T07:35:15.307Z"
   },
   {
    "duration": 94,
    "start_time": "2022-09-04T07:35:15.325Z"
   },
   {
    "duration": 2493,
    "start_time": "2022-09-04T07:35:15.421Z"
   },
   {
    "duration": 71,
    "start_time": "2022-09-04T07:35:17.916Z"
   },
   {
    "duration": 26,
    "start_time": "2022-09-04T07:35:17.988Z"
   },
   {
    "duration": 89,
    "start_time": "2022-09-04T07:35:18.017Z"
   },
   {
    "duration": 20,
    "start_time": "2022-09-04T07:35:18.109Z"
   },
   {
    "duration": 35,
    "start_time": "2022-09-04T07:35:52.422Z"
   },
   {
    "duration": 14,
    "start_time": "2022-09-04T07:35:58.103Z"
   },
   {
    "duration": 63,
    "start_time": "2022-09-04T07:36:16.551Z"
   },
   {
    "duration": 2417,
    "start_time": "2022-09-04T07:36:53.806Z"
   },
   {
    "duration": 147,
    "start_time": "2022-09-04T07:36:56.226Z"
   },
   {
    "duration": 45,
    "start_time": "2022-09-04T07:36:56.376Z"
   },
   {
    "duration": 214,
    "start_time": "2022-09-04T07:36:56.424Z"
   },
   {
    "duration": 27,
    "start_time": "2022-09-04T07:36:56.640Z"
   },
   {
    "duration": 61877,
    "start_time": "2022-09-04T07:37:18.521Z"
   },
   {
    "duration": 49033,
    "start_time": "2022-09-04T07:39:34.366Z"
   },
   {
    "duration": 10,
    "start_time": "2022-09-04T07:40:42.967Z"
   },
   {
    "duration": 130,
    "start_time": "2022-09-04T07:41:05.868Z"
   },
   {
    "duration": 77,
    "start_time": "2022-09-04T07:42:15.222Z"
   },
   {
    "duration": 39,
    "start_time": "2022-09-04T07:42:34.051Z"
   },
   {
    "duration": 129,
    "start_time": "2022-09-04T07:42:56.669Z"
   },
   {
    "duration": 106,
    "start_time": "2022-09-04T07:43:02.902Z"
   },
   {
    "duration": 110,
    "start_time": "2022-09-04T07:43:22.293Z"
   },
   {
    "duration": 93,
    "start_time": "2022-09-04T07:44:31.604Z"
   },
   {
    "duration": 35,
    "start_time": "2022-09-04T07:44:50.264Z"
   },
   {
    "duration": 6566,
    "start_time": "2022-09-04T07:45:14.732Z"
   },
   {
    "duration": 354,
    "start_time": "2022-09-04T07:45:49.647Z"
   },
   {
    "duration": 6576,
    "start_time": "2022-09-04T07:46:24.515Z"
   },
   {
    "duration": 9795,
    "start_time": "2022-09-04T07:46:39.104Z"
   },
   {
    "duration": 6596,
    "start_time": "2022-09-04T07:46:54.200Z"
   },
   {
    "duration": 469,
    "start_time": "2022-09-04T07:47:29.919Z"
   },
   {
    "duration": 6836,
    "start_time": "2022-09-04T07:49:10.159Z"
   },
   {
    "duration": 364,
    "start_time": "2022-09-04T07:49:20.040Z"
   },
   {
    "duration": 34,
    "start_time": "2022-09-04T07:57:54.019Z"
   },
   {
    "duration": 98,
    "start_time": "2022-09-04T07:58:12.110Z"
   },
   {
    "duration": 8374,
    "start_time": "2022-09-04T07:59:15.418Z"
   },
   {
    "duration": 510,
    "start_time": "2022-09-04T07:59:30.281Z"
   },
   {
    "duration": 433,
    "start_time": "2022-09-04T08:01:12.656Z"
   },
   {
    "duration": 9,
    "start_time": "2022-09-04T08:06:33.995Z"
   },
   {
    "duration": 4,
    "start_time": "2022-09-04T08:06:44.422Z"
   },
   {
    "duration": 32087,
    "start_time": "2022-09-04T08:06:48.118Z"
   },
   {
    "duration": 31135,
    "start_time": "2022-09-04T08:09:11.899Z"
   },
   {
    "duration": 3,
    "start_time": "2022-09-04T08:44:50.173Z"
   },
   {
    "duration": 6,
    "start_time": "2022-09-04T08:50:35.910Z"
   },
   {
    "duration": 589,
    "start_time": "2022-09-04T08:51:09.845Z"
   },
   {
    "duration": 649,
    "start_time": "2022-09-04T08:51:15.989Z"
   },
   {
    "duration": 5,
    "start_time": "2022-09-04T08:51:20.241Z"
   },
   {
    "duration": 611,
    "start_time": "2022-09-04T08:51:22.608Z"
   },
   {
    "duration": 551,
    "start_time": "2022-09-04T08:51:33.461Z"
   },
   {
    "duration": 587,
    "start_time": "2022-09-04T08:51:59.810Z"
   },
   {
    "duration": 3,
    "start_time": "2022-09-04T08:55:13.492Z"
   },
   {
    "duration": 768,
    "start_time": "2022-09-04T08:55:13.496Z"
   },
   {
    "duration": 154,
    "start_time": "2022-09-04T08:55:14.266Z"
   },
   {
    "duration": 290,
    "start_time": "2022-09-04T08:55:14.421Z"
   },
   {
    "duration": 75,
    "start_time": "2022-09-04T08:55:14.712Z"
   },
   {
    "duration": 8,
    "start_time": "2022-09-04T08:55:14.789Z"
   },
   {
    "duration": 195,
    "start_time": "2022-09-04T08:55:14.799Z"
   },
   {
    "duration": 0,
    "start_time": "2022-09-04T08:57:15.786Z"
   },
   {
    "duration": 0,
    "start_time": "2022-09-04T08:57:15.801Z"
   },
   {
    "duration": 0,
    "start_time": "2022-09-04T08:57:15.802Z"
   },
   {
    "duration": 0,
    "start_time": "2022-09-04T08:57:15.803Z"
   },
   {
    "duration": 0,
    "start_time": "2022-09-04T08:57:15.804Z"
   },
   {
    "duration": 0,
    "start_time": "2022-09-04T08:57:15.805Z"
   },
   {
    "duration": 0,
    "start_time": "2022-09-04T08:57:15.807Z"
   },
   {
    "duration": 0,
    "start_time": "2022-09-04T08:57:15.808Z"
   },
   {
    "duration": 0,
    "start_time": "2022-09-04T08:57:15.809Z"
   },
   {
    "duration": 0,
    "start_time": "2022-09-04T08:57:15.810Z"
   },
   {
    "duration": 0,
    "start_time": "2022-09-04T08:57:15.811Z"
   },
   {
    "duration": 0,
    "start_time": "2022-09-04T08:57:15.812Z"
   },
   {
    "duration": 0,
    "start_time": "2022-09-04T08:57:15.813Z"
   },
   {
    "duration": 0,
    "start_time": "2022-09-04T08:57:15.817Z"
   },
   {
    "duration": 0,
    "start_time": "2022-09-04T08:57:15.819Z"
   },
   {
    "duration": 0,
    "start_time": "2022-09-04T08:57:15.820Z"
   },
   {
    "duration": 0,
    "start_time": "2022-09-04T08:57:15.821Z"
   },
   {
    "duration": 0,
    "start_time": "2022-09-04T08:57:15.822Z"
   },
   {
    "duration": 0,
    "start_time": "2022-09-04T08:57:15.824Z"
   },
   {
    "duration": 0,
    "start_time": "2022-09-04T08:57:15.825Z"
   },
   {
    "duration": 0,
    "start_time": "2022-09-04T08:57:15.827Z"
   },
   {
    "duration": 0,
    "start_time": "2022-09-04T08:57:15.828Z"
   },
   {
    "duration": 0,
    "start_time": "2022-09-04T08:57:15.830Z"
   },
   {
    "duration": 0,
    "start_time": "2022-09-04T08:57:15.831Z"
   },
   {
    "duration": 0,
    "start_time": "2022-09-04T08:57:15.832Z"
   },
   {
    "duration": 0,
    "start_time": "2022-09-04T08:57:15.834Z"
   },
   {
    "duration": 0,
    "start_time": "2022-09-04T08:57:15.835Z"
   },
   {
    "duration": 0,
    "start_time": "2022-09-04T08:57:15.837Z"
   },
   {
    "duration": 4,
    "start_time": "2022-09-04T08:58:00.270Z"
   },
   {
    "duration": 839,
    "start_time": "2022-09-04T08:58:00.276Z"
   },
   {
    "duration": 183,
    "start_time": "2022-09-04T08:58:01.117Z"
   },
   {
    "duration": 298,
    "start_time": "2022-09-04T08:58:01.302Z"
   },
   {
    "duration": 85,
    "start_time": "2022-09-04T08:58:01.603Z"
   },
   {
    "duration": 15,
    "start_time": "2022-09-04T08:58:01.691Z"
   },
   {
    "duration": 216,
    "start_time": "2022-09-04T08:58:01.708Z"
   },
   {
    "duration": 139,
    "start_time": "2022-09-04T08:58:01.926Z"
   },
   {
    "duration": 226,
    "start_time": "2022-09-04T08:58:02.067Z"
   },
   {
    "duration": 313,
    "start_time": "2022-09-04T08:58:02.295Z"
   },
   {
    "duration": 352,
    "start_time": "2022-09-04T08:58:02.613Z"
   },
   {
    "duration": 192,
    "start_time": "2022-09-04T08:58:02.968Z"
   },
   {
    "duration": 38,
    "start_time": "2022-09-04T08:58:03.161Z"
   },
   {
    "duration": 18,
    "start_time": "2022-09-04T08:58:03.201Z"
   },
   {
    "duration": 3,
    "start_time": "2022-09-04T08:58:03.220Z"
   },
   {
    "duration": 114,
    "start_time": "2022-09-04T08:58:03.225Z"
   },
   {
    "duration": 162,
    "start_time": "2022-09-04T08:58:03.341Z"
   },
   {
    "duration": 16,
    "start_time": "2022-09-04T08:58:03.505Z"
   },
   {
    "duration": 99,
    "start_time": "2022-09-04T08:58:03.523Z"
   },
   {
    "duration": 2622,
    "start_time": "2022-09-04T08:58:03.624Z"
   },
   {
    "duration": 166,
    "start_time": "2022-09-04T08:58:06.248Z"
   },
   {
    "duration": 42,
    "start_time": "2022-09-04T08:58:06.417Z"
   },
   {
    "duration": 143,
    "start_time": "2022-09-04T08:58:06.462Z"
   },
   {
    "duration": 104452,
    "start_time": "2022-09-04T08:58:06.608Z"
   },
   {
    "duration": 10,
    "start_time": "2022-09-04T08:59:51.061Z"
   },
   {
    "duration": 0,
    "start_time": "2022-09-04T08:59:51.072Z"
   },
   {
    "duration": 0,
    "start_time": "2022-09-04T08:59:51.074Z"
   },
   {
    "duration": 0,
    "start_time": "2022-09-04T08:59:51.075Z"
   },
   {
    "duration": 3,
    "start_time": "2022-09-04T08:59:55.552Z"
   },
   {
    "duration": 901,
    "start_time": "2022-09-04T08:59:55.557Z"
   },
   {
    "duration": 228,
    "start_time": "2022-09-04T08:59:56.460Z"
   },
   {
    "duration": 420,
    "start_time": "2022-09-04T08:59:56.691Z"
   },
   {
    "duration": 90,
    "start_time": "2022-09-04T08:59:57.114Z"
   },
   {
    "duration": 7,
    "start_time": "2022-09-04T08:59:57.206Z"
   },
   {
    "duration": 210,
    "start_time": "2022-09-04T08:59:57.215Z"
   },
   {
    "duration": 137,
    "start_time": "2022-09-04T08:59:57.427Z"
   },
   {
    "duration": 262,
    "start_time": "2022-09-04T08:59:57.566Z"
   },
   {
    "duration": 290,
    "start_time": "2022-09-04T08:59:57.829Z"
   },
   {
    "duration": 347,
    "start_time": "2022-09-04T08:59:58.121Z"
   },
   {
    "duration": 200,
    "start_time": "2022-09-04T08:59:58.469Z"
   },
   {
    "duration": 46,
    "start_time": "2022-09-04T08:59:58.671Z"
   },
   {
    "duration": 13,
    "start_time": "2022-09-04T08:59:58.720Z"
   },
   {
    "duration": 9,
    "start_time": "2022-09-04T08:59:58.735Z"
   },
   {
    "duration": 102,
    "start_time": "2022-09-04T08:59:58.745Z"
   },
   {
    "duration": 157,
    "start_time": "2022-09-04T08:59:58.849Z"
   },
   {
    "duration": 16,
    "start_time": "2022-09-04T08:59:59.009Z"
   },
   {
    "duration": 97,
    "start_time": "2022-09-04T08:59:59.026Z"
   },
   {
    "duration": 2596,
    "start_time": "2022-09-04T08:59:59.125Z"
   },
   {
    "duration": 128,
    "start_time": "2022-09-04T09:00:01.723Z"
   },
   {
    "duration": 46,
    "start_time": "2022-09-04T09:00:01.853Z"
   },
   {
    "duration": 150,
    "start_time": "2022-09-04T09:00:01.902Z"
   },
   {
    "duration": 105424,
    "start_time": "2022-09-04T09:00:02.053Z"
   },
   {
    "duration": 12,
    "start_time": "2022-09-04T09:01:47.479Z"
   },
   {
    "duration": 0,
    "start_time": "2022-09-04T09:01:47.493Z"
   },
   {
    "duration": 0,
    "start_time": "2022-09-04T09:01:47.494Z"
   },
   {
    "duration": 1,
    "start_time": "2022-09-04T09:01:47.495Z"
   },
   {
    "duration": 0,
    "start_time": "2022-09-04T09:01:47.497Z"
   },
   {
    "duration": 23,
    "start_time": "2022-09-04T09:01:50.386Z"
   },
   {
    "duration": 15096,
    "start_time": "2022-09-04T09:02:09.500Z"
   },
   {
    "duration": 491,
    "start_time": "2022-09-04T09:02:38.797Z"
   },
   {
    "duration": 31306,
    "start_time": "2022-09-04T09:03:56.462Z"
   },
   {
    "duration": 5,
    "start_time": "2022-09-04T09:04:31.488Z"
   },
   {
    "duration": 575,
    "start_time": "2022-09-04T09:04:31.830Z"
   },
   {
    "duration": 97717,
    "start_time": "2022-09-04T09:06:15.652Z"
   },
   {
    "duration": 45735,
    "start_time": "2022-09-04T09:08:39.563Z"
   },
   {
    "duration": 56,
    "start_time": "2022-09-04T09:19:28.319Z"
   },
   {
    "duration": 25,
    "start_time": "2022-09-04T09:19:44.297Z"
   },
   {
    "duration": 60,
    "start_time": "2022-09-04T09:19:48.646Z"
   },
   {
    "duration": 592,
    "start_time": "2022-09-04T09:20:00.170Z"
   },
   {
    "duration": 60,
    "start_time": "2022-09-04T09:20:04.140Z"
   },
   {
    "duration": 593,
    "start_time": "2022-09-04T09:20:31.797Z"
   },
   {
    "duration": 3,
    "start_time": "2022-09-04T09:20:53.530Z"
   },
   {
    "duration": 64,
    "start_time": "2022-09-04T09:21:08.693Z"
   },
   {
    "duration": 5,
    "start_time": "2022-09-04T09:21:16.787Z"
   },
   {
    "duration": 38,
    "start_time": "2022-09-04T09:21:22.275Z"
   },
   {
    "duration": 29551,
    "start_time": "2022-09-04T09:21:33.638Z"
   },
   {
    "duration": 29822,
    "start_time": "2022-09-04T09:23:54.469Z"
   },
   {
    "duration": 28547,
    "start_time": "2022-09-04T09:24:53.247Z"
   },
   {
    "duration": 58,
    "start_time": "2022-09-04T09:26:37.662Z"
   },
   {
    "duration": 635,
    "start_time": "2022-09-04T09:26:55.967Z"
   },
   {
    "duration": 11,
    "start_time": "2022-09-04T09:27:09.326Z"
   },
   {
    "duration": 10,
    "start_time": "2022-09-04T09:27:29.786Z"
   },
   {
    "duration": 49,
    "start_time": "2022-09-04T09:29:00.559Z"
   },
   {
    "duration": 614,
    "start_time": "2022-09-04T09:29:10.824Z"
   },
   {
    "duration": 658,
    "start_time": "2022-09-04T09:29:44.067Z"
   },
   {
    "duration": 9684,
    "start_time": "2022-09-04T09:34:16.946Z"
   },
   {
    "duration": 33,
    "start_time": "2022-09-04T09:34:33.486Z"
   },
   {
    "duration": 15,
    "start_time": "2022-09-04T09:35:09.790Z"
   },
   {
    "duration": 4,
    "start_time": "2022-09-04T09:35:20.626Z"
   },
   {
    "duration": 15,
    "start_time": "2022-09-04T09:35:24.442Z"
   },
   {
    "duration": 52,
    "start_time": "2022-09-04T09:36:32.750Z"
   },
   {
    "duration": 50,
    "start_time": "2022-09-04T09:36:42.037Z"
   },
   {
    "duration": 49,
    "start_time": "2022-09-04T09:36:53.037Z"
   },
   {
    "duration": 6833,
    "start_time": "2022-09-04T09:37:10.433Z"
   },
   {
    "duration": 2511,
    "start_time": "2022-09-04T09:38:00.528Z"
   },
   {
    "duration": 859,
    "start_time": "2022-09-04T09:38:03.041Z"
   },
   {
    "duration": 824,
    "start_time": "2022-09-04T09:38:03.902Z"
   },
   {
    "duration": 136,
    "start_time": "2022-09-04T09:38:04.728Z"
   },
   {
    "duration": 490,
    "start_time": "2022-09-04T09:38:04.866Z"
   },
   {
    "duration": 85,
    "start_time": "2022-09-04T09:38:05.357Z"
   },
   {
    "duration": 9,
    "start_time": "2022-09-04T09:38:05.443Z"
   },
   {
    "duration": 204,
    "start_time": "2022-09-04T09:38:05.453Z"
   },
   {
    "duration": 152,
    "start_time": "2022-09-04T09:38:05.659Z"
   },
   {
    "duration": 219,
    "start_time": "2022-09-04T09:38:05.812Z"
   },
   {
    "duration": 457,
    "start_time": "2022-09-04T09:38:06.034Z"
   },
   {
    "duration": 369,
    "start_time": "2022-09-04T09:38:06.494Z"
   },
   {
    "duration": 174,
    "start_time": "2022-09-04T09:38:06.864Z"
   },
   {
    "duration": 31,
    "start_time": "2022-09-04T09:38:07.041Z"
   },
   {
    "duration": 18,
    "start_time": "2022-09-04T09:38:07.086Z"
   },
   {
    "duration": 5,
    "start_time": "2022-09-04T09:38:07.106Z"
   },
   {
    "duration": 105,
    "start_time": "2022-09-04T09:38:07.113Z"
   },
   {
    "duration": 117,
    "start_time": "2022-09-04T09:38:07.220Z"
   },
   {
    "duration": 15,
    "start_time": "2022-09-04T09:38:07.339Z"
   },
   {
    "duration": 89,
    "start_time": "2022-09-04T09:38:07.356Z"
   },
   {
    "duration": 2521,
    "start_time": "2022-09-04T09:38:07.447Z"
   },
   {
    "duration": 126,
    "start_time": "2022-09-04T09:38:09.970Z"
   },
   {
    "duration": 35,
    "start_time": "2022-09-04T09:38:10.097Z"
   },
   {
    "duration": 114,
    "start_time": "2022-09-04T09:38:10.134Z"
   },
   {
    "duration": 34746,
    "start_time": "2022-09-04T09:38:10.250Z"
   },
   {
    "duration": 505,
    "start_time": "2022-09-04T09:38:44.998Z"
   },
   {
    "duration": 30604,
    "start_time": "2022-09-04T09:38:45.504Z"
   },
   {
    "duration": 175,
    "start_time": "2022-09-04T09:39:16.109Z"
   },
   {
    "duration": 32801,
    "start_time": "2022-09-04T09:39:16.286Z"
   },
   {
    "duration": 16,
    "start_time": "2022-09-04T09:39:49.089Z"
   },
   {
    "duration": 3,
    "start_time": "2022-09-04T09:46:19.921Z"
   },
   {
    "duration": 62,
    "start_time": "2022-09-04T09:46:29.697Z"
   },
   {
    "duration": 277859,
    "start_time": "2022-09-04T09:46:59.462Z"
   },
   {
    "duration": 3,
    "start_time": "2022-09-04T09:51:37.323Z"
   },
   {
    "duration": 832,
    "start_time": "2022-09-04T09:51:37.327Z"
   },
   {
    "duration": 137,
    "start_time": "2022-09-04T09:51:38.161Z"
   },
   {
    "duration": 278,
    "start_time": "2022-09-04T09:51:38.300Z"
   },
   {
    "duration": 72,
    "start_time": "2022-09-04T09:51:38.580Z"
   },
   {
    "duration": 8,
    "start_time": "2022-09-04T09:51:38.653Z"
   },
   {
    "duration": 208,
    "start_time": "2022-09-04T09:51:38.663Z"
   },
   {
    "duration": 135,
    "start_time": "2022-09-04T09:51:38.873Z"
   },
   {
    "duration": 213,
    "start_time": "2022-09-04T09:51:39.011Z"
   },
   {
    "duration": 383,
    "start_time": "2022-09-04T09:51:39.226Z"
   },
   {
    "duration": 333,
    "start_time": "2022-09-04T09:51:39.611Z"
   },
   {
    "duration": 176,
    "start_time": "2022-09-04T09:51:39.946Z"
   },
   {
    "duration": 28,
    "start_time": "2022-09-04T09:51:40.124Z"
   },
   {
    "duration": 17,
    "start_time": "2022-09-04T09:51:40.154Z"
   },
   {
    "duration": 14,
    "start_time": "2022-09-04T09:51:40.173Z"
   },
   {
    "duration": 85,
    "start_time": "2022-09-04T09:51:40.189Z"
   },
   {
    "duration": 142,
    "start_time": "2022-09-04T09:51:40.275Z"
   },
   {
    "duration": 19,
    "start_time": "2022-09-04T09:51:40.419Z"
   },
   {
    "duration": 91,
    "start_time": "2022-09-04T09:51:40.440Z"
   },
   {
    "duration": 2384,
    "start_time": "2022-09-04T09:51:40.533Z"
   },
   {
    "duration": 116,
    "start_time": "2022-09-04T09:51:42.919Z"
   },
   {
    "duration": 36,
    "start_time": "2022-09-04T09:51:43.037Z"
   },
   {
    "duration": 98,
    "start_time": "2022-09-04T09:51:43.075Z"
   },
   {
    "duration": 17600,
    "start_time": "2022-09-04T09:51:43.175Z"
   },
   {
    "duration": 18,
    "start_time": "2022-09-04T09:52:00.778Z"
   },
   {
    "duration": 0,
    "start_time": "2022-09-04T09:52:00.798Z"
   },
   {
    "duration": 0,
    "start_time": "2022-09-04T09:52:00.800Z"
   },
   {
    "duration": 0,
    "start_time": "2022-09-04T09:52:00.801Z"
   },
   {
    "duration": 5,
    "start_time": "2022-09-04T09:52:04.771Z"
   },
   {
    "duration": 798,
    "start_time": "2022-09-04T09:52:04.779Z"
   },
   {
    "duration": 170,
    "start_time": "2022-09-04T09:52:05.578Z"
   },
   {
    "duration": 345,
    "start_time": "2022-09-04T09:52:05.752Z"
   },
   {
    "duration": 66,
    "start_time": "2022-09-04T09:52:06.099Z"
   },
   {
    "duration": 23,
    "start_time": "2022-09-04T09:52:06.167Z"
   },
   {
    "duration": 316,
    "start_time": "2022-09-04T09:52:06.193Z"
   },
   {
    "duration": 170,
    "start_time": "2022-09-04T09:52:06.511Z"
   },
   {
    "duration": 246,
    "start_time": "2022-09-04T09:52:06.684Z"
   },
   {
    "duration": 289,
    "start_time": "2022-09-04T09:52:06.933Z"
   },
   {
    "duration": 476,
    "start_time": "2022-09-04T09:52:07.224Z"
   },
   {
    "duration": 178,
    "start_time": "2022-09-04T09:52:07.702Z"
   },
   {
    "duration": 44,
    "start_time": "2022-09-04T09:52:07.887Z"
   },
   {
    "duration": 18,
    "start_time": "2022-09-04T09:52:07.933Z"
   },
   {
    "duration": 21,
    "start_time": "2022-09-04T09:52:07.953Z"
   },
   {
    "duration": 110,
    "start_time": "2022-09-04T09:52:07.975Z"
   },
   {
    "duration": 133,
    "start_time": "2022-09-04T09:52:08.086Z"
   },
   {
    "duration": 18,
    "start_time": "2022-09-04T09:52:08.221Z"
   },
   {
    "duration": 92,
    "start_time": "2022-09-04T09:52:08.241Z"
   },
   {
    "duration": 2501,
    "start_time": "2022-09-04T09:52:08.336Z"
   },
   {
    "duration": 118,
    "start_time": "2022-09-04T09:52:10.839Z"
   },
   {
    "duration": 37,
    "start_time": "2022-09-04T09:52:10.958Z"
   },
   {
    "duration": 116,
    "start_time": "2022-09-04T09:52:10.997Z"
   },
   {
    "duration": 153948,
    "start_time": "2022-09-04T09:52:11.116Z"
   },
   {
    "duration": 10,
    "start_time": "2022-09-04T09:54:45.065Z"
   },
   {
    "duration": 0,
    "start_time": "2022-09-04T09:54:45.078Z"
   },
   {
    "duration": 0,
    "start_time": "2022-09-04T09:54:45.079Z"
   },
   {
    "duration": 0,
    "start_time": "2022-09-04T09:54:45.080Z"
   },
   {
    "duration": 3,
    "start_time": "2022-09-04T09:54:48.386Z"
   },
   {
    "duration": 16,
    "start_time": "2022-09-04T09:54:48.390Z"
   },
   {
    "duration": 745,
    "start_time": "2022-09-04T09:54:48.408Z"
   },
   {
    "duration": 150,
    "start_time": "2022-09-04T09:54:49.155Z"
   },
   {
    "duration": 276,
    "start_time": "2022-09-04T09:54:49.307Z"
   },
   {
    "duration": 65,
    "start_time": "2022-09-04T09:54:49.586Z"
   },
   {
    "duration": 12,
    "start_time": "2022-09-04T09:54:49.653Z"
   },
   {
    "duration": 200,
    "start_time": "2022-09-04T09:54:49.669Z"
   },
   {
    "duration": 126,
    "start_time": "2022-09-04T09:54:49.870Z"
   },
   {
    "duration": 214,
    "start_time": "2022-09-04T09:54:49.998Z"
   },
   {
    "duration": 251,
    "start_time": "2022-09-04T09:54:50.213Z"
   },
   {
    "duration": 440,
    "start_time": "2022-09-04T09:54:50.465Z"
   },
   {
    "duration": 204,
    "start_time": "2022-09-04T09:54:50.907Z"
   },
   {
    "duration": 33,
    "start_time": "2022-09-04T09:54:51.113Z"
   },
   {
    "duration": 27,
    "start_time": "2022-09-04T09:54:51.148Z"
   },
   {
    "duration": 6,
    "start_time": "2022-09-04T09:54:51.177Z"
   },
   {
    "duration": 99,
    "start_time": "2022-09-04T09:54:51.186Z"
   },
   {
    "duration": 138,
    "start_time": "2022-09-04T09:54:51.287Z"
   },
   {
    "duration": 15,
    "start_time": "2022-09-04T09:54:51.427Z"
   },
   {
    "duration": 88,
    "start_time": "2022-09-04T09:54:51.445Z"
   },
   {
    "duration": 2377,
    "start_time": "2022-09-04T09:54:51.534Z"
   },
   {
    "duration": 117,
    "start_time": "2022-09-04T09:54:53.913Z"
   },
   {
    "duration": 39,
    "start_time": "2022-09-04T09:54:54.031Z"
   },
   {
    "duration": 118,
    "start_time": "2022-09-04T09:54:54.072Z"
   },
   {
    "duration": 17806,
    "start_time": "2022-09-04T09:54:54.192Z"
   },
   {
    "duration": 589,
    "start_time": "2022-09-04T09:55:11.999Z"
   },
   {
    "duration": 30507,
    "start_time": "2022-09-04T09:55:12.589Z"
   },
   {
    "duration": 27292,
    "start_time": "2022-09-04T09:55:43.098Z"
   },
   {
    "duration": 14,
    "start_time": "2022-09-04T09:56:10.392Z"
   },
   {
    "duration": 64,
    "start_time": "2022-09-04T09:56:56.223Z"
   },
   {
    "duration": 60,
    "start_time": "2022-09-04T09:57:00.987Z"
   },
   {
    "duration": 132857,
    "start_time": "2022-09-04T09:57:12.494Z"
   },
   {
    "duration": 28587,
    "start_time": "2022-09-04T09:59:53.204Z"
   },
   {
    "duration": 544,
    "start_time": "2022-09-04T10:00:59.555Z"
   },
   {
    "duration": 11,
    "start_time": "2022-09-04T10:05:04.540Z"
   },
   {
    "duration": 4,
    "start_time": "2022-09-04T10:05:21.748Z"
   },
   {
    "duration": 6,
    "start_time": "2022-09-04T10:05:25.080Z"
   },
   {
    "duration": 57,
    "start_time": "2022-09-04T10:11:43.240Z"
   },
   {
    "duration": 231,
    "start_time": "2022-09-04T10:16:07.441Z"
   },
   {
    "duration": 16,
    "start_time": "2022-09-04T10:19:38.891Z"
   },
   {
    "duration": 3,
    "start_time": "2022-09-04T10:22:48.733Z"
   },
   {
    "duration": 2251,
    "start_time": "2022-09-04T10:22:49.261Z"
   },
   {
    "duration": 8,
    "start_time": "2022-09-04T10:23:05.936Z"
   },
   {
    "duration": 171,
    "start_time": "2022-09-04T10:41:21.393Z"
   },
   {
    "duration": 119,
    "start_time": "2022-09-04T10:41:42.795Z"
   },
   {
    "duration": 79,
    "start_time": "2022-09-04T10:42:02.499Z"
   },
   {
    "duration": 183,
    "start_time": "2022-09-04T10:43:15.465Z"
   },
   {
    "duration": 92,
    "start_time": "2022-09-04T10:51:27.852Z"
   },
   {
    "duration": 103,
    "start_time": "2022-09-04T10:51:44.051Z"
   },
   {
    "duration": 4,
    "start_time": "2022-09-04T10:51:51.438Z"
   },
   {
    "duration": 13,
    "start_time": "2022-09-04T10:52:07.530Z"
   },
   {
    "duration": 9,
    "start_time": "2022-09-04T10:53:59.923Z"
   },
   {
    "duration": 15,
    "start_time": "2022-09-04T10:54:33.277Z"
   },
   {
    "duration": 5,
    "start_time": "2022-09-04T10:54:39.781Z"
   },
   {
    "duration": 755,
    "start_time": "2022-09-04T10:54:39.788Z"
   },
   {
    "duration": 147,
    "start_time": "2022-09-04T10:54:40.544Z"
   },
   {
    "duration": 269,
    "start_time": "2022-09-04T10:54:40.693Z"
   },
   {
    "duration": 72,
    "start_time": "2022-09-04T10:54:40.965Z"
   },
   {
    "duration": 8,
    "start_time": "2022-09-04T10:54:41.039Z"
   },
   {
    "duration": 210,
    "start_time": "2022-09-04T10:54:41.048Z"
   },
   {
    "duration": 123,
    "start_time": "2022-09-04T10:54:41.260Z"
   },
   {
    "duration": 209,
    "start_time": "2022-09-04T10:54:41.384Z"
   },
   {
    "duration": 269,
    "start_time": "2022-09-04T10:54:41.595Z"
   },
   {
    "duration": 472,
    "start_time": "2022-09-04T10:54:41.866Z"
   },
   {
    "duration": 31,
    "start_time": "2022-09-04T10:54:42.339Z"
   },
   {
    "duration": 24,
    "start_time": "2022-09-04T10:54:42.372Z"
   },
   {
    "duration": 3,
    "start_time": "2022-09-04T10:54:42.398Z"
   },
   {
    "duration": 93,
    "start_time": "2022-09-04T10:54:42.403Z"
   },
   {
    "duration": 130,
    "start_time": "2022-09-04T10:54:42.498Z"
   },
   {
    "duration": 17,
    "start_time": "2022-09-04T10:54:42.630Z"
   },
   {
    "duration": 182,
    "start_time": "2022-09-04T10:54:42.649Z"
   },
   {
    "duration": 3,
    "start_time": "2022-09-04T10:54:42.832Z"
   },
   {
    "duration": 2245,
    "start_time": "2022-09-04T10:54:42.836Z"
   },
   {
    "duration": 112,
    "start_time": "2022-09-04T10:54:45.083Z"
   },
   {
    "duration": 105,
    "start_time": "2022-09-04T10:54:45.198Z"
   },
   {
    "duration": 36,
    "start_time": "2022-09-04T10:54:45.306Z"
   },
   {
    "duration": 110,
    "start_time": "2022-09-04T10:54:45.344Z"
   },
   {
    "duration": 4,
    "start_time": "2022-09-04T10:54:57.643Z"
   },
   {
    "duration": 720,
    "start_time": "2022-09-04T10:54:57.649Z"
   },
   {
    "duration": 146,
    "start_time": "2022-09-04T10:54:58.371Z"
   },
   {
    "duration": 278,
    "start_time": "2022-09-04T10:54:58.519Z"
   },
   {
    "duration": 69,
    "start_time": "2022-09-04T10:54:58.799Z"
   },
   {
    "duration": 18,
    "start_time": "2022-09-04T10:54:58.869Z"
   },
   {
    "duration": 190,
    "start_time": "2022-09-04T10:54:58.889Z"
   },
   {
    "duration": 125,
    "start_time": "2022-09-04T10:54:59.080Z"
   },
   {
    "duration": 211,
    "start_time": "2022-09-04T10:54:59.207Z"
   },
   {
    "duration": 259,
    "start_time": "2022-09-04T10:54:59.420Z"
   },
   {
    "duration": 331,
    "start_time": "2022-09-04T10:54:59.681Z"
   },
   {
    "duration": 36,
    "start_time": "2022-09-04T10:55:00.014Z"
   },
   {
    "duration": 17,
    "start_time": "2022-09-04T10:55:00.051Z"
   },
   {
    "duration": 17,
    "start_time": "2022-09-04T10:55:00.071Z"
   },
   {
    "duration": 85,
    "start_time": "2022-09-04T10:55:00.090Z"
   },
   {
    "duration": 144,
    "start_time": "2022-09-04T10:55:00.177Z"
   },
   {
    "duration": 15,
    "start_time": "2022-09-04T10:55:00.322Z"
   },
   {
    "duration": 203,
    "start_time": "2022-09-04T10:55:00.339Z"
   },
   {
    "duration": 3,
    "start_time": "2022-09-04T10:55:00.543Z"
   },
   {
    "duration": 2469,
    "start_time": "2022-09-04T10:55:00.547Z"
   },
   {
    "duration": 121,
    "start_time": "2022-09-04T10:55:03.018Z"
   },
   {
    "duration": 36,
    "start_time": "2022-09-04T10:55:03.141Z"
   },
   {
    "duration": 91,
    "start_time": "2022-09-04T10:55:03.187Z"
   },
   {
    "duration": 19,
    "start_time": "2022-09-04T10:55:03.280Z"
   },
   {
    "duration": 4,
    "start_time": "2022-09-04T10:55:09.636Z"
   },
   {
    "duration": 4,
    "start_time": "2022-09-04T10:57:20.174Z"
   },
   {
    "duration": 767,
    "start_time": "2022-09-04T10:57:20.180Z"
   },
   {
    "duration": 157,
    "start_time": "2022-09-04T10:57:20.948Z"
   },
   {
    "duration": 283,
    "start_time": "2022-09-04T10:57:21.106Z"
   },
   {
    "duration": 66,
    "start_time": "2022-09-04T10:57:21.391Z"
   },
   {
    "duration": 8,
    "start_time": "2022-09-04T10:57:21.458Z"
   },
   {
    "duration": 199,
    "start_time": "2022-09-04T10:57:21.467Z"
   },
   {
    "duration": 130,
    "start_time": "2022-09-04T10:57:21.668Z"
   },
   {
    "duration": 211,
    "start_time": "2022-09-04T10:57:21.800Z"
   },
   {
    "duration": 278,
    "start_time": "2022-09-04T10:57:22.013Z"
   },
   {
    "duration": 344,
    "start_time": "2022-09-04T10:57:22.293Z"
   },
   {
    "duration": 48,
    "start_time": "2022-09-04T10:57:22.640Z"
   },
   {
    "duration": 23,
    "start_time": "2022-09-04T10:57:22.690Z"
   },
   {
    "duration": 5,
    "start_time": "2022-09-04T10:57:22.715Z"
   },
   {
    "duration": 86,
    "start_time": "2022-09-04T10:57:22.722Z"
   },
   {
    "duration": 137,
    "start_time": "2022-09-04T10:57:22.810Z"
   },
   {
    "duration": 16,
    "start_time": "2022-09-04T10:57:22.949Z"
   },
   {
    "duration": 191,
    "start_time": "2022-09-04T10:57:22.967Z"
   },
   {
    "duration": 3,
    "start_time": "2022-09-04T10:57:23.160Z"
   },
   {
    "duration": 2364,
    "start_time": "2022-09-04T10:57:23.164Z"
   },
   {
    "duration": 114,
    "start_time": "2022-09-04T10:57:25.530Z"
   },
   {
    "duration": 35,
    "start_time": "2022-09-04T10:57:25.645Z"
   },
   {
    "duration": 85,
    "start_time": "2022-09-04T10:57:25.687Z"
   },
   {
    "duration": 107,
    "start_time": "2022-09-04T10:57:26.643Z"
   },
   {
    "duration": 113,
    "start_time": "2022-09-04T10:57:32.304Z"
   },
   {
    "duration": 79,
    "start_time": "2022-09-04T10:57:49.238Z"
   },
   {
    "duration": 5,
    "start_time": "2022-09-04T10:58:10.755Z"
   },
   {
    "duration": 749,
    "start_time": "2022-09-04T10:58:10.763Z"
   },
   {
    "duration": 158,
    "start_time": "2022-09-04T10:58:11.513Z"
   },
   {
    "duration": 288,
    "start_time": "2022-09-04T10:58:11.672Z"
   },
   {
    "duration": 77,
    "start_time": "2022-09-04T10:58:11.962Z"
   },
   {
    "duration": 8,
    "start_time": "2022-09-04T10:58:12.041Z"
   },
   {
    "duration": 309,
    "start_time": "2022-09-04T10:58:12.050Z"
   },
   {
    "duration": 144,
    "start_time": "2022-09-04T10:58:12.361Z"
   },
   {
    "duration": 209,
    "start_time": "2022-09-04T10:58:12.507Z"
   },
   {
    "duration": 281,
    "start_time": "2022-09-04T10:58:12.717Z"
   },
   {
    "duration": 342,
    "start_time": "2022-09-04T10:58:13.000Z"
   },
   {
    "duration": 31,
    "start_time": "2022-09-04T10:58:13.343Z"
   },
   {
    "duration": 11,
    "start_time": "2022-09-04T10:58:13.387Z"
   },
   {
    "duration": 3,
    "start_time": "2022-09-04T10:58:13.401Z"
   },
   {
    "duration": 96,
    "start_time": "2022-09-04T10:58:13.406Z"
   },
   {
    "duration": 142,
    "start_time": "2022-09-04T10:58:13.504Z"
   },
   {
    "duration": 16,
    "start_time": "2022-09-04T10:58:13.648Z"
   },
   {
    "duration": 216,
    "start_time": "2022-09-04T10:58:13.666Z"
   },
   {
    "duration": 3,
    "start_time": "2022-09-04T10:58:13.887Z"
   },
   {
    "duration": 2456,
    "start_time": "2022-09-04T10:58:13.892Z"
   },
   {
    "duration": 146,
    "start_time": "2022-09-04T10:58:16.351Z"
   },
   {
    "duration": 40,
    "start_time": "2022-09-04T10:58:16.499Z"
   },
   {
    "duration": 120,
    "start_time": "2022-09-04T10:58:16.540Z"
   },
   {
    "duration": 11,
    "start_time": "2022-09-04T10:58:26.478Z"
   },
   {
    "duration": 131,
    "start_time": "2022-09-04T10:58:40.139Z"
   },
   {
    "duration": 104,
    "start_time": "2022-09-04T10:59:06.575Z"
   },
   {
    "duration": 85,
    "start_time": "2022-09-04T11:00:26.482Z"
   },
   {
    "duration": 3316,
    "start_time": "2022-09-04T11:01:42.680Z"
   },
   {
    "duration": 31194,
    "start_time": "2022-09-04T11:01:45.998Z"
   },
   {
    "duration": 16204,
    "start_time": "2022-09-04T11:02:17.194Z"
   },
   {
    "duration": 201,
    "start_time": "2022-09-04T11:02:33.496Z"
   },
   {
    "duration": 2,
    "start_time": "2022-09-04T11:06:50.466Z"
   },
   {
    "duration": 4,
    "start_time": "2022-09-04T11:06:55.143Z"
   },
   {
    "duration": 732,
    "start_time": "2022-09-04T11:06:55.149Z"
   },
   {
    "duration": 163,
    "start_time": "2022-09-04T11:06:55.883Z"
   },
   {
    "duration": 360,
    "start_time": "2022-09-04T11:06:56.048Z"
   },
   {
    "duration": 108,
    "start_time": "2022-09-04T11:06:56.411Z"
   },
   {
    "duration": 11,
    "start_time": "2022-09-04T11:06:56.521Z"
   },
   {
    "duration": 232,
    "start_time": "2022-09-04T11:06:56.534Z"
   },
   {
    "duration": 131,
    "start_time": "2022-09-04T11:06:56.769Z"
   },
   {
    "duration": 202,
    "start_time": "2022-09-04T11:06:56.901Z"
   },
   {
    "duration": 376,
    "start_time": "2022-09-04T11:06:57.105Z"
   },
   {
    "duration": 345,
    "start_time": "2022-09-04T11:06:57.484Z"
   },
   {
    "duration": 32,
    "start_time": "2022-09-04T11:06:57.831Z"
   },
   {
    "duration": 26,
    "start_time": "2022-09-04T11:06:57.865Z"
   },
   {
    "duration": 4,
    "start_time": "2022-09-04T11:06:57.894Z"
   },
   {
    "duration": 91,
    "start_time": "2022-09-04T11:06:57.900Z"
   },
   {
    "duration": 147,
    "start_time": "2022-09-04T11:06:57.993Z"
   },
   {
    "duration": 16,
    "start_time": "2022-09-04T11:06:58.142Z"
   },
   {
    "duration": 186,
    "start_time": "2022-09-04T11:06:58.160Z"
   },
   {
    "duration": 3,
    "start_time": "2022-09-04T11:06:58.347Z"
   },
   {
    "duration": 2343,
    "start_time": "2022-09-04T11:06:58.352Z"
   },
   {
    "duration": 117,
    "start_time": "2022-09-04T11:07:00.697Z"
   },
   {
    "duration": 36,
    "start_time": "2022-09-04T11:07:00.816Z"
   },
   {
    "duration": 122,
    "start_time": "2022-09-04T11:07:00.854Z"
   },
   {
    "duration": 2,
    "start_time": "2022-09-04T11:07:00.978Z"
   },
   {
    "duration": 32600,
    "start_time": "2022-09-04T11:07:00.987Z"
   },
   {
    "duration": 31039,
    "start_time": "2022-09-04T11:07:33.589Z"
   },
   {
    "duration": 29065,
    "start_time": "2022-09-04T11:08:04.630Z"
   },
   {
    "duration": 705,
    "start_time": "2022-09-04T11:08:33.697Z"
   },
   {
    "duration": 6,
    "start_time": "2022-09-04T11:08:34.404Z"
   },
   {
    "duration": 138,
    "start_time": "2022-09-04T11:10:16.051Z"
   },
   {
    "duration": 16385,
    "start_time": "2022-09-04T11:10:22.103Z"
   },
   {
    "duration": 548,
    "start_time": "2022-09-04T11:10:40.449Z"
   },
   {
    "duration": 30767,
    "start_time": "2022-09-04T11:10:58.650Z"
   },
   {
    "duration": 517,
    "start_time": "2022-09-04T11:11:39.001Z"
   },
   {
    "duration": 4,
    "start_time": "2022-09-04T11:11:45.390Z"
   },
   {
    "duration": 760,
    "start_time": "2022-09-04T11:11:45.396Z"
   },
   {
    "duration": 180,
    "start_time": "2022-09-04T11:11:46.158Z"
   },
   {
    "duration": 349,
    "start_time": "2022-09-04T11:11:46.341Z"
   },
   {
    "duration": 72,
    "start_time": "2022-09-04T11:11:46.693Z"
   },
   {
    "duration": 7,
    "start_time": "2022-09-04T11:11:46.767Z"
   },
   {
    "duration": 188,
    "start_time": "2022-09-04T11:11:46.786Z"
   },
   {
    "duration": 139,
    "start_time": "2022-09-04T11:11:46.976Z"
   },
   {
    "duration": 206,
    "start_time": "2022-09-04T11:11:47.116Z"
   },
   {
    "duration": 269,
    "start_time": "2022-09-04T11:11:47.323Z"
   },
   {
    "duration": 452,
    "start_time": "2022-09-04T11:11:47.594Z"
   },
   {
    "duration": 31,
    "start_time": "2022-09-04T11:11:48.047Z"
   },
   {
    "duration": 17,
    "start_time": "2022-09-04T11:11:48.086Z"
   },
   {
    "duration": 3,
    "start_time": "2022-09-04T11:11:48.106Z"
   },
   {
    "duration": 87,
    "start_time": "2022-09-04T11:11:48.110Z"
   },
   {
    "duration": 135,
    "start_time": "2022-09-04T11:11:48.199Z"
   },
   {
    "duration": 15,
    "start_time": "2022-09-04T11:11:48.337Z"
   },
   {
    "duration": 185,
    "start_time": "2022-09-04T11:11:48.353Z"
   },
   {
    "duration": 3,
    "start_time": "2022-09-04T11:11:48.539Z"
   },
   {
    "duration": 2382,
    "start_time": "2022-09-04T11:11:48.544Z"
   },
   {
    "duration": 112,
    "start_time": "2022-09-04T11:11:50.928Z"
   },
   {
    "duration": 46,
    "start_time": "2022-09-04T11:11:51.041Z"
   },
   {
    "duration": 110,
    "start_time": "2022-09-04T11:11:51.089Z"
   },
   {
    "duration": 142,
    "start_time": "2022-09-04T11:11:51.201Z"
   },
   {
    "duration": 8047,
    "start_time": "2022-09-04T11:11:51.345Z"
   },
   {
    "duration": 31617,
    "start_time": "2022-09-04T11:11:59.394Z"
   },
   {
    "duration": 16382,
    "start_time": "2022-09-04T11:12:31.013Z"
   },
   {
    "duration": 613,
    "start_time": "2022-09-04T11:12:47.487Z"
   },
   {
    "duration": 6,
    "start_time": "2022-09-04T11:12:48.102Z"
   },
   {
    "duration": 4,
    "start_time": "2022-09-04T11:18:26.176Z"
   },
   {
    "duration": 817,
    "start_time": "2022-09-04T11:18:26.182Z"
   },
   {
    "duration": 157,
    "start_time": "2022-09-04T11:18:27.001Z"
   },
   {
    "duration": 284,
    "start_time": "2022-09-04T11:18:27.160Z"
   },
   {
    "duration": 78,
    "start_time": "2022-09-04T11:18:27.446Z"
   },
   {
    "duration": 8,
    "start_time": "2022-09-04T11:18:27.526Z"
   },
   {
    "duration": 212,
    "start_time": "2022-09-04T11:18:27.536Z"
   },
   {
    "duration": 131,
    "start_time": "2022-09-04T11:18:27.750Z"
   },
   {
    "duration": 213,
    "start_time": "2022-09-04T11:18:27.883Z"
   },
   {
    "duration": 260,
    "start_time": "2022-09-04T11:18:28.098Z"
   },
   {
    "duration": 349,
    "start_time": "2022-09-04T11:18:28.360Z"
   },
   {
    "duration": 29,
    "start_time": "2022-09-04T11:18:28.710Z"
   },
   {
    "duration": 14,
    "start_time": "2022-09-04T11:18:28.741Z"
   },
   {
    "duration": 9,
    "start_time": "2022-09-04T11:18:28.759Z"
   },
   {
    "duration": 93,
    "start_time": "2022-09-04T11:18:28.770Z"
   },
   {
    "duration": 144,
    "start_time": "2022-09-04T11:18:28.865Z"
   },
   {
    "duration": 16,
    "start_time": "2022-09-04T11:18:29.011Z"
   },
   {
    "duration": 191,
    "start_time": "2022-09-04T11:18:29.029Z"
   },
   {
    "duration": 3,
    "start_time": "2022-09-04T11:18:29.222Z"
   },
   {
    "duration": 2430,
    "start_time": "2022-09-04T11:18:29.227Z"
   },
   {
    "duration": 115,
    "start_time": "2022-09-04T11:18:31.659Z"
   },
   {
    "duration": 43,
    "start_time": "2022-09-04T11:18:31.776Z"
   },
   {
    "duration": 107,
    "start_time": "2022-09-04T11:18:31.821Z"
   },
   {
    "duration": 138,
    "start_time": "2022-09-04T11:18:31.929Z"
   },
   {
    "duration": 15127,
    "start_time": "2022-09-04T11:18:32.068Z"
   },
   {
    "duration": 31478,
    "start_time": "2022-09-04T11:18:47.196Z"
   },
   {
    "duration": 29414,
    "start_time": "2022-09-04T11:19:18.676Z"
   },
   {
    "duration": 626,
    "start_time": "2022-09-04T11:19:48.093Z"
   },
   {
    "duration": 6,
    "start_time": "2022-09-04T11:19:48.721Z"
   },
   {
    "duration": 15040,
    "start_time": "2022-09-04T11:24:53.452Z"
   },
   {
    "duration": 549,
    "start_time": "2022-09-04T11:25:15.257Z"
   },
   {
    "duration": 8050,
    "start_time": "2022-09-04T11:25:30.848Z"
   },
   {
    "duration": 67,
    "start_time": "2022-09-04T11:25:50.715Z"
   },
   {
    "duration": 4,
    "start_time": "2022-09-04T11:29:15.926Z"
   },
   {
    "duration": 951,
    "start_time": "2022-09-04T11:29:15.932Z"
   },
   {
    "duration": 166,
    "start_time": "2022-09-04T11:29:16.886Z"
   },
   {
    "duration": 349,
    "start_time": "2022-09-04T11:29:17.054Z"
   },
   {
    "duration": 82,
    "start_time": "2022-09-04T11:29:17.405Z"
   },
   {
    "duration": 11,
    "start_time": "2022-09-04T11:29:17.490Z"
   },
   {
    "duration": 301,
    "start_time": "2022-09-04T11:29:17.503Z"
   },
   {
    "duration": 133,
    "start_time": "2022-09-04T11:29:17.806Z"
   },
   {
    "duration": 223,
    "start_time": "2022-09-04T11:29:17.942Z"
   },
   {
    "duration": 262,
    "start_time": "2022-09-04T11:29:18.167Z"
   },
   {
    "duration": 329,
    "start_time": "2022-09-04T11:29:18.431Z"
   },
   {
    "duration": 43,
    "start_time": "2022-09-04T11:29:18.763Z"
   },
   {
    "duration": 30,
    "start_time": "2022-09-04T11:29:18.809Z"
   },
   {
    "duration": 5,
    "start_time": "2022-09-04T11:29:18.842Z"
   },
   {
    "duration": 88,
    "start_time": "2022-09-04T11:29:18.849Z"
   },
   {
    "duration": 149,
    "start_time": "2022-09-04T11:29:18.939Z"
   },
   {
    "duration": 17,
    "start_time": "2022-09-04T11:29:19.089Z"
   },
   {
    "duration": 195,
    "start_time": "2022-09-04T11:29:19.108Z"
   },
   {
    "duration": 3,
    "start_time": "2022-09-04T11:29:19.304Z"
   },
   {
    "duration": 2312,
    "start_time": "2022-09-04T11:29:19.309Z"
   },
   {
    "duration": 112,
    "start_time": "2022-09-04T11:29:21.623Z"
   },
   {
    "duration": 35,
    "start_time": "2022-09-04T11:29:21.737Z"
   },
   {
    "duration": 96,
    "start_time": "2022-09-04T11:29:21.774Z"
   },
   {
    "duration": 142,
    "start_time": "2022-09-04T11:29:21.872Z"
   },
   {
    "duration": 268780,
    "start_time": "2022-09-04T11:29:22.015Z"
   },
   {
    "duration": 9612,
    "start_time": "2022-09-04T11:33:50.796Z"
   },
   {
    "duration": 4,
    "start_time": "2022-09-04T11:34:24.718Z"
   },
   {
    "duration": 732,
    "start_time": "2022-09-04T11:34:24.724Z"
   },
   {
    "duration": 149,
    "start_time": "2022-09-04T11:34:25.458Z"
   },
   {
    "duration": 273,
    "start_time": "2022-09-04T11:34:25.609Z"
   },
   {
    "duration": 64,
    "start_time": "2022-09-04T11:34:25.888Z"
   },
   {
    "duration": 8,
    "start_time": "2022-09-04T11:34:25.953Z"
   },
   {
    "duration": 346,
    "start_time": "2022-09-04T11:34:25.962Z"
   },
   {
    "duration": 158,
    "start_time": "2022-09-04T11:34:26.310Z"
   },
   {
    "duration": 235,
    "start_time": "2022-09-04T11:34:26.470Z"
   },
   {
    "duration": 270,
    "start_time": "2022-09-04T11:34:26.706Z"
   },
   {
    "duration": 323,
    "start_time": "2022-09-04T11:34:26.978Z"
   },
   {
    "duration": 29,
    "start_time": "2022-09-04T11:34:27.302Z"
   },
   {
    "duration": 27,
    "start_time": "2022-09-04T11:34:27.332Z"
   },
   {
    "duration": 6,
    "start_time": "2022-09-04T11:34:27.362Z"
   },
   {
    "duration": 107,
    "start_time": "2022-09-04T11:34:27.369Z"
   },
   {
    "duration": 143,
    "start_time": "2022-09-04T11:34:27.478Z"
   },
   {
    "duration": 19,
    "start_time": "2022-09-04T11:34:27.623Z"
   },
   {
    "duration": 181,
    "start_time": "2022-09-04T11:34:27.644Z"
   },
   {
    "duration": 3,
    "start_time": "2022-09-04T11:34:27.827Z"
   },
   {
    "duration": 2274,
    "start_time": "2022-09-04T11:34:27.831Z"
   },
   {
    "duration": 114,
    "start_time": "2022-09-04T11:34:30.107Z"
   },
   {
    "duration": 36,
    "start_time": "2022-09-04T11:34:30.223Z"
   },
   {
    "duration": 97,
    "start_time": "2022-09-04T11:34:30.261Z"
   },
   {
    "duration": 128,
    "start_time": "2022-09-04T11:34:30.359Z"
   },
   {
    "duration": 13914,
    "start_time": "2022-09-04T11:34:30.489Z"
   },
   {
    "duration": 16379,
    "start_time": "2022-09-04T11:35:15.713Z"
   },
   {
    "duration": 607,
    "start_time": "2022-09-04T11:35:32.097Z"
   },
   {
    "duration": 6,
    "start_time": "2022-09-04T11:35:32.705Z"
   },
   {
    "duration": 6093,
    "start_time": "2022-09-04T11:35:32.713Z"
   },
   {
    "duration": 3,
    "start_time": "2022-09-04T11:35:41.561Z"
   },
   {
    "duration": 803,
    "start_time": "2022-09-04T11:35:41.566Z"
   },
   {
    "duration": 169,
    "start_time": "2022-09-04T11:35:42.371Z"
   },
   {
    "duration": 303,
    "start_time": "2022-09-04T11:35:42.541Z"
   },
   {
    "duration": 83,
    "start_time": "2022-09-04T11:35:42.847Z"
   },
   {
    "duration": 7,
    "start_time": "2022-09-04T11:35:42.932Z"
   },
   {
    "duration": 215,
    "start_time": "2022-09-04T11:35:42.941Z"
   },
   {
    "duration": 156,
    "start_time": "2022-09-04T11:35:43.158Z"
   },
   {
    "duration": 224,
    "start_time": "2022-09-04T11:35:43.315Z"
   },
   {
    "duration": 432,
    "start_time": "2022-09-04T11:35:43.540Z"
   },
   {
    "duration": 391,
    "start_time": "2022-09-04T11:35:43.973Z"
   },
   {
    "duration": 47,
    "start_time": "2022-09-04T11:35:44.366Z"
   },
   {
    "duration": 12,
    "start_time": "2022-09-04T11:35:44.414Z"
   },
   {
    "duration": 9,
    "start_time": "2022-09-04T11:35:44.429Z"
   },
   {
    "duration": 112,
    "start_time": "2022-09-04T11:35:44.439Z"
   },
   {
    "duration": 160,
    "start_time": "2022-09-04T11:35:44.553Z"
   },
   {
    "duration": 27,
    "start_time": "2022-09-04T11:35:44.715Z"
   },
   {
    "duration": 206,
    "start_time": "2022-09-04T11:35:44.744Z"
   },
   {
    "duration": 3,
    "start_time": "2022-09-04T11:35:44.951Z"
   },
   {
    "duration": 2506,
    "start_time": "2022-09-04T11:35:44.955Z"
   },
   {
    "duration": 121,
    "start_time": "2022-09-04T11:35:47.462Z"
   },
   {
    "duration": 46,
    "start_time": "2022-09-04T11:35:47.585Z"
   },
   {
    "duration": 113,
    "start_time": "2022-09-04T11:35:47.633Z"
   },
   {
    "duration": 142,
    "start_time": "2022-09-04T11:35:47.747Z"
   },
   {
    "duration": 29201,
    "start_time": "2022-09-04T11:35:47.891Z"
   },
   {
    "duration": 31556,
    "start_time": "2022-09-04T11:36:17.094Z"
   },
   {
    "duration": 22938,
    "start_time": "2022-09-04T11:36:48.652Z"
   },
   {
    "duration": 613,
    "start_time": "2022-09-04T11:37:11.592Z"
   },
   {
    "duration": 6,
    "start_time": "2022-09-04T11:37:12.207Z"
   },
   {
    "duration": 88,
    "start_time": "2022-09-05T06:50:33.299Z"
   },
   {
    "duration": 42,
    "start_time": "2022-09-05T06:50:43.220Z"
   },
   {
    "duration": 404,
    "start_time": "2022-09-05T06:50:47.033Z"
   },
   {
    "duration": 0,
    "start_time": "2022-09-05T06:50:47.439Z"
   },
   {
    "duration": 0,
    "start_time": "2022-09-05T06:50:47.440Z"
   },
   {
    "duration": 0,
    "start_time": "2022-09-05T06:50:47.441Z"
   },
   {
    "duration": 0,
    "start_time": "2022-09-05T06:50:47.443Z"
   },
   {
    "duration": 0,
    "start_time": "2022-09-05T06:50:47.444Z"
   },
   {
    "duration": 0,
    "start_time": "2022-09-05T06:50:47.445Z"
   },
   {
    "duration": 0,
    "start_time": "2022-09-05T06:50:47.446Z"
   },
   {
    "duration": 7,
    "start_time": "2022-09-05T06:50:57.452Z"
   },
   {
    "duration": 7,
    "start_time": "2022-09-05T06:50:57.733Z"
   },
   {
    "duration": 70632,
    "start_time": "2022-09-05T06:51:30.917Z"
   },
   {
    "duration": 3,
    "start_time": "2022-09-05T06:52:58.626Z"
   },
   {
    "duration": 1026,
    "start_time": "2022-09-05T06:52:59.505Z"
   },
   {
    "duration": 3085,
    "start_time": "2022-09-05T06:53:02.167Z"
   },
   {
    "duration": 134,
    "start_time": "2022-09-05T06:53:05.253Z"
   },
   {
    "duration": 620,
    "start_time": "2022-09-05T06:53:05.389Z"
   },
   {
    "duration": 101,
    "start_time": "2022-09-05T06:53:06.011Z"
   },
   {
    "duration": 8,
    "start_time": "2022-09-05T06:53:08.105Z"
   },
   {
    "duration": 190,
    "start_time": "2022-09-05T06:53:12.735Z"
   },
   {
    "duration": 154,
    "start_time": "2022-09-05T06:53:16.495Z"
   },
   {
    "duration": 303,
    "start_time": "2022-09-05T06:53:18.887Z"
   },
   {
    "duration": 268,
    "start_time": "2022-09-05T06:53:32.831Z"
   },
   {
    "duration": 330,
    "start_time": "2022-09-05T06:53:35.341Z"
   },
   {
    "duration": 29,
    "start_time": "2022-09-05T06:53:40.909Z"
   },
   {
    "duration": 13,
    "start_time": "2022-09-05T06:53:42.821Z"
   },
   {
    "duration": 3,
    "start_time": "2022-09-05T06:53:53.548Z"
   },
   {
    "duration": 90,
    "start_time": "2022-09-05T06:53:53.924Z"
   },
   {
    "duration": 113,
    "start_time": "2022-09-05T06:53:54.207Z"
   },
   {
    "duration": 15,
    "start_time": "2022-09-05T06:54:05.943Z"
   },
   {
    "duration": 58,
    "start_time": "2022-09-05T06:56:35.205Z"
   },
   {
    "duration": 134,
    "start_time": "2022-09-05T06:56:39.206Z"
   },
   {
    "duration": 124,
    "start_time": "2022-09-05T06:56:44.388Z"
   },
   {
    "duration": 129,
    "start_time": "2022-09-05T06:56:49.098Z"
   },
   {
    "duration": 153,
    "start_time": "2022-09-05T06:57:30.109Z"
   },
   {
    "duration": 154,
    "start_time": "2022-09-05T07:01:04.527Z"
   },
   {
    "duration": 179,
    "start_time": "2022-09-05T07:01:43.911Z"
   },
   {
    "duration": 146,
    "start_time": "2022-09-05T07:03:20.239Z"
   },
   {
    "duration": 146,
    "start_time": "2022-09-05T07:03:22.941Z"
   },
   {
    "duration": 129,
    "start_time": "2022-09-05T07:03:41.270Z"
   },
   {
    "duration": 133,
    "start_time": "2022-09-05T07:04:07.818Z"
   },
   {
    "duration": 133,
    "start_time": "2022-09-05T07:04:24.064Z"
   },
   {
    "duration": 142,
    "start_time": "2022-09-05T07:04:39.906Z"
   },
   {
    "duration": 151,
    "start_time": "2022-09-05T07:04:53.743Z"
   },
   {
    "duration": 150,
    "start_time": "2022-09-05T07:05:23.124Z"
   },
   {
    "duration": 180,
    "start_time": "2022-09-05T07:05:37.175Z"
   },
   {
    "duration": 155,
    "start_time": "2022-09-05T07:06:18.913Z"
   },
   {
    "duration": 156,
    "start_time": "2022-09-05T07:06:28.720Z"
   },
   {
    "duration": 383,
    "start_time": "2022-09-05T07:07:14.983Z"
   },
   {
    "duration": 382,
    "start_time": "2022-09-05T07:07:34.478Z"
   },
   {
    "duration": 10,
    "start_time": "2022-09-05T07:07:56.061Z"
   },
   {
    "duration": 393,
    "start_time": "2022-09-05T07:08:00.546Z"
   },
   {
    "duration": 2,
    "start_time": "2022-09-05T07:08:32.537Z"
   },
   {
    "duration": 17,
    "start_time": "2022-09-05T07:08:32.541Z"
   },
   {
    "duration": 882,
    "start_time": "2022-09-05T07:08:32.560Z"
   },
   {
    "duration": 155,
    "start_time": "2022-09-05T07:08:33.445Z"
   },
   {
    "duration": 478,
    "start_time": "2022-09-05T07:08:36.596Z"
   },
   {
    "duration": 446,
    "start_time": "2022-09-05T07:09:43.085Z"
   },
   {
    "duration": 1502,
    "start_time": "2022-09-05T07:10:01.617Z"
   },
   {
    "duration": 560,
    "start_time": "2022-09-05T07:10:09.568Z"
   },
   {
    "duration": 541,
    "start_time": "2022-09-05T08:25:16.615Z"
   },
   {
    "duration": 233,
    "start_time": "2022-09-05T08:26:52.091Z"
   },
   {
    "duration": 86,
    "start_time": "2022-09-05T08:28:04.160Z"
   },
   {
    "duration": 3,
    "start_time": "2022-09-05T08:28:09.714Z"
   },
   {
    "duration": 5,
    "start_time": "2022-09-05T08:28:09.719Z"
   },
   {
    "duration": 878,
    "start_time": "2022-09-05T08:28:09.725Z"
   },
   {
    "duration": 148,
    "start_time": "2022-09-05T08:28:10.605Z"
   },
   {
    "duration": 298,
    "start_time": "2022-09-05T08:28:10.755Z"
   },
   {
    "duration": 74,
    "start_time": "2022-09-05T08:28:11.054Z"
   },
   {
    "duration": 9,
    "start_time": "2022-09-05T08:28:11.130Z"
   },
   {
    "duration": 207,
    "start_time": "2022-09-05T08:28:11.141Z"
   },
   {
    "duration": 149,
    "start_time": "2022-09-05T08:28:11.350Z"
   },
   {
    "duration": 228,
    "start_time": "2022-09-05T08:28:11.501Z"
   },
   {
    "duration": 380,
    "start_time": "2022-09-05T08:28:11.731Z"
   },
   {
    "duration": 508,
    "start_time": "2022-09-05T08:28:12.113Z"
   },
   {
    "duration": 32,
    "start_time": "2022-09-05T08:28:12.622Z"
   },
   {
    "duration": 18,
    "start_time": "2022-09-05T08:28:12.658Z"
   },
   {
    "duration": 470,
    "start_time": "2022-09-05T08:28:12.692Z"
   },
   {
    "duration": 3,
    "start_time": "2022-09-05T08:28:13.164Z"
   },
   {
    "duration": 94,
    "start_time": "2022-09-05T08:28:13.169Z"
   },
   {
    "duration": 138,
    "start_time": "2022-09-05T08:28:13.266Z"
   },
   {
    "duration": 16,
    "start_time": "2022-09-05T08:28:13.406Z"
   },
   {
    "duration": 208,
    "start_time": "2022-09-05T08:28:13.424Z"
   },
   {
    "duration": 3,
    "start_time": "2022-09-05T08:28:13.634Z"
   },
   {
    "duration": 2486,
    "start_time": "2022-09-05T08:28:13.639Z"
   },
   {
    "duration": 117,
    "start_time": "2022-09-05T08:28:16.127Z"
   },
   {
    "duration": 45,
    "start_time": "2022-09-05T08:28:16.246Z"
   },
   {
    "duration": 102,
    "start_time": "2022-09-05T08:28:16.293Z"
   },
   {
    "duration": 136,
    "start_time": "2022-09-05T08:28:16.397Z"
   },
   {
    "duration": 40485,
    "start_time": "2022-09-05T08:28:55.013Z"
   },
   {
    "duration": 3,
    "start_time": "2022-09-05T08:29:38.236Z"
   },
   {
    "duration": 8,
    "start_time": "2022-09-05T08:29:38.242Z"
   },
   {
    "duration": 902,
    "start_time": "2022-09-05T08:29:38.252Z"
   },
   {
    "duration": 151,
    "start_time": "2022-09-05T08:29:39.156Z"
   },
   {
    "duration": 403,
    "start_time": "2022-09-05T08:29:39.311Z"
   },
   {
    "duration": 95,
    "start_time": "2022-09-05T08:29:39.717Z"
   },
   {
    "duration": 12,
    "start_time": "2022-09-05T08:29:39.814Z"
   },
   {
    "duration": 249,
    "start_time": "2022-09-05T08:29:39.828Z"
   },
   {
    "duration": 153,
    "start_time": "2022-09-05T08:29:40.080Z"
   },
   {
    "duration": 250,
    "start_time": "2022-09-05T08:29:40.235Z"
   },
   {
    "duration": 307,
    "start_time": "2022-09-05T08:29:40.487Z"
   },
   {
    "duration": 360,
    "start_time": "2022-09-05T08:29:40.796Z"
   },
   {
    "duration": 37,
    "start_time": "2022-09-05T08:29:41.158Z"
   },
   {
    "duration": 12,
    "start_time": "2022-09-05T08:29:41.198Z"
   },
   {
    "duration": 435,
    "start_time": "2022-09-05T08:29:41.212Z"
   },
   {
    "duration": 3,
    "start_time": "2022-09-05T08:29:41.649Z"
   },
   {
    "duration": 99,
    "start_time": "2022-09-05T08:29:41.653Z"
   },
   {
    "duration": 172,
    "start_time": "2022-09-05T08:29:41.754Z"
   },
   {
    "duration": 18,
    "start_time": "2022-09-05T08:29:41.929Z"
   },
   {
    "duration": 238,
    "start_time": "2022-09-05T08:29:41.950Z"
   },
   {
    "duration": 3,
    "start_time": "2022-09-05T08:29:42.192Z"
   },
   {
    "duration": 2527,
    "start_time": "2022-09-05T08:29:42.196Z"
   },
   {
    "duration": 122,
    "start_time": "2022-09-05T08:29:44.725Z"
   },
   {
    "duration": 42,
    "start_time": "2022-09-05T08:29:44.849Z"
   },
   {
    "duration": 118,
    "start_time": "2022-09-05T08:29:44.893Z"
   },
   {
    "duration": 156,
    "start_time": "2022-09-05T08:29:45.013Z"
   },
   {
    "duration": 2,
    "start_time": "2022-09-05T08:36:18.295Z"
   },
   {
    "duration": 10,
    "start_time": "2022-09-05T08:36:18.300Z"
   },
   {
    "duration": 830,
    "start_time": "2022-09-05T08:36:18.312Z"
   },
   {
    "duration": 154,
    "start_time": "2022-09-05T08:36:19.144Z"
   },
   {
    "duration": 323,
    "start_time": "2022-09-05T08:36:19.300Z"
   },
   {
    "duration": 72,
    "start_time": "2022-09-05T08:36:19.625Z"
   },
   {
    "duration": 8,
    "start_time": "2022-09-05T08:36:19.699Z"
   },
   {
    "duration": 213,
    "start_time": "2022-09-05T08:36:19.709Z"
   },
   {
    "duration": 153,
    "start_time": "2022-09-05T08:36:19.924Z"
   },
   {
    "duration": 234,
    "start_time": "2022-09-05T08:36:20.079Z"
   },
   {
    "duration": 282,
    "start_time": "2022-09-05T08:36:20.316Z"
   },
   {
    "duration": 362,
    "start_time": "2022-09-05T08:36:20.601Z"
   },
   {
    "duration": 36,
    "start_time": "2022-09-05T08:36:20.965Z"
   },
   {
    "duration": 19,
    "start_time": "2022-09-05T08:36:21.002Z"
   },
   {
    "duration": 445,
    "start_time": "2022-09-05T08:36:21.023Z"
   },
   {
    "duration": 3,
    "start_time": "2022-09-05T08:36:21.470Z"
   },
   {
    "duration": 100,
    "start_time": "2022-09-05T08:36:21.474Z"
   },
   {
    "duration": 134,
    "start_time": "2022-09-05T08:36:21.576Z"
   },
   {
    "duration": 17,
    "start_time": "2022-09-05T08:36:21.712Z"
   },
   {
    "duration": 265,
    "start_time": "2022-09-05T08:36:21.731Z"
   },
   {
    "duration": 5,
    "start_time": "2022-09-05T08:36:21.998Z"
   },
   {
    "duration": 2518,
    "start_time": "2022-09-05T08:36:22.004Z"
   },
   {
    "duration": 118,
    "start_time": "2022-09-05T08:36:24.524Z"
   },
   {
    "duration": 19,
    "start_time": "2022-09-05T08:36:24.645Z"
   },
   {
    "duration": 117,
    "start_time": "2022-09-05T08:36:24.666Z"
   },
   {
    "duration": 161,
    "start_time": "2022-09-05T08:36:24.785Z"
   },
   {
    "duration": 399355,
    "start_time": "2022-09-05T08:36:24.949Z"
   },
   {
    "duration": 33753,
    "start_time": "2022-09-05T08:43:04.307Z"
   },
   {
    "duration": 23337,
    "start_time": "2022-09-05T08:43:38.062Z"
   },
   {
    "duration": 724,
    "start_time": "2022-09-05T08:44:01.402Z"
   },
   {
    "duration": 6,
    "start_time": "2022-09-05T08:44:02.128Z"
   },
   {
    "duration": 139,
    "start_time": "2022-09-05T08:46:37.514Z"
   },
   {
    "duration": 7528,
    "start_time": "2022-09-05T08:46:55.762Z"
   },
   {
    "duration": 89276,
    "start_time": "2022-09-05T08:47:04.316Z"
   },
   {
    "duration": 65,
    "start_time": "2022-09-05T08:49:00.660Z"
   },
   {
    "duration": 53,
    "start_time": "2022-09-05T08:49:02.628Z"
   },
   {
    "duration": 104539,
    "start_time": "2022-09-05T08:49:11.515Z"
   },
   {
    "duration": 91,
    "start_time": "2022-09-05T08:50:56.056Z"
   },
   {
    "duration": 10,
    "start_time": "2022-09-05T08:50:56.149Z"
   },
   {
    "duration": 36348,
    "start_time": "2022-09-05T08:57:28.349Z"
   },
   {
    "duration": 82,
    "start_time": "2022-09-05T08:58:04.700Z"
   },
   {
    "duration": 97,
    "start_time": "2022-09-05T08:58:06.737Z"
   },
   {
    "duration": 2293,
    "start_time": "2022-09-05T08:58:53.926Z"
   },
   {
    "duration": 2339,
    "start_time": "2022-09-05T08:59:37.118Z"
   },
   {
    "duration": 14956,
    "start_time": "2022-09-05T08:59:49.276Z"
   },
   {
    "duration": 29,
    "start_time": "2022-09-05T09:01:48.151Z"
   },
   {
    "duration": 20,
    "start_time": "2022-09-05T09:01:48.185Z"
   },
   {
    "duration": 951,
    "start_time": "2022-09-05T09:01:48.208Z"
   },
   {
    "duration": 182,
    "start_time": "2022-09-05T09:01:49.161Z"
   },
   {
    "duration": 547,
    "start_time": "2022-09-05T09:01:49.346Z"
   },
   {
    "duration": 97,
    "start_time": "2022-09-05T09:01:49.895Z"
   },
   {
    "duration": 11,
    "start_time": "2022-09-05T09:01:49.994Z"
   },
   {
    "duration": 233,
    "start_time": "2022-09-05T09:01:50.008Z"
   },
   {
    "duration": 172,
    "start_time": "2022-09-05T09:01:50.243Z"
   },
   {
    "duration": 241,
    "start_time": "2022-09-05T09:01:50.418Z"
   },
   {
    "duration": 390,
    "start_time": "2022-09-05T09:01:50.661Z"
   },
   {
    "duration": 394,
    "start_time": "2022-09-05T09:01:51.054Z"
   },
   {
    "duration": 48,
    "start_time": "2022-09-05T09:01:51.451Z"
   },
   {
    "duration": 23,
    "start_time": "2022-09-05T09:01:51.502Z"
   },
   {
    "duration": 838,
    "start_time": "2022-09-05T09:01:51.527Z"
   },
   {
    "duration": 4,
    "start_time": "2022-09-05T09:01:52.368Z"
   },
   {
    "duration": 1251,
    "start_time": "2022-09-05T09:01:52.375Z"
   },
   {
    "duration": 591,
    "start_time": "2022-09-05T09:01:53.629Z"
   },
   {
    "duration": 1197,
    "start_time": "2022-09-05T09:01:54.223Z"
   },
   {
    "duration": 0,
    "start_time": "2022-09-05T09:01:55.423Z"
   },
   {
    "duration": 0,
    "start_time": "2022-09-05T09:01:55.425Z"
   },
   {
    "duration": 0,
    "start_time": "2022-09-05T09:01:55.427Z"
   },
   {
    "duration": 0,
    "start_time": "2022-09-05T09:01:55.428Z"
   },
   {
    "duration": 0,
    "start_time": "2022-09-05T09:01:55.430Z"
   },
   {
    "duration": 0,
    "start_time": "2022-09-05T09:01:55.432Z"
   },
   {
    "duration": 0,
    "start_time": "2022-09-05T09:01:55.433Z"
   },
   {
    "duration": 0,
    "start_time": "2022-09-05T09:01:55.434Z"
   },
   {
    "duration": 0,
    "start_time": "2022-09-05T09:01:55.436Z"
   },
   {
    "duration": 0,
    "start_time": "2022-09-05T09:01:55.437Z"
   },
   {
    "duration": 0,
    "start_time": "2022-09-05T09:01:55.439Z"
   },
   {
    "duration": 0,
    "start_time": "2022-09-05T09:01:55.441Z"
   },
   {
    "duration": 0,
    "start_time": "2022-09-05T09:01:55.443Z"
   },
   {
    "duration": 0,
    "start_time": "2022-09-05T09:01:55.448Z"
   },
   {
    "duration": 5,
    "start_time": "2022-09-05T09:02:04.225Z"
   },
   {
    "duration": 2809,
    "start_time": "2022-09-05T09:02:04.233Z"
   },
   {
    "duration": 978,
    "start_time": "2022-09-05T09:02:07.044Z"
   },
   {
    "duration": 152,
    "start_time": "2022-09-05T09:02:08.024Z"
   },
   {
    "duration": 487,
    "start_time": "2022-09-05T09:02:08.191Z"
   },
   {
    "duration": 90,
    "start_time": "2022-09-05T09:02:08.680Z"
   },
   {
    "duration": 22,
    "start_time": "2022-09-05T09:02:08.772Z"
   },
   {
    "duration": 232,
    "start_time": "2022-09-05T09:02:08.796Z"
   },
   {
    "duration": 179,
    "start_time": "2022-09-05T09:02:09.030Z"
   },
   {
    "duration": 318,
    "start_time": "2022-09-05T09:02:09.211Z"
   },
   {
    "duration": 422,
    "start_time": "2022-09-05T09:02:09.532Z"
   },
   {
    "duration": 412,
    "start_time": "2022-09-05T09:02:09.956Z"
   },
   {
    "duration": 54,
    "start_time": "2022-09-05T09:02:10.371Z"
   },
   {
    "duration": 33,
    "start_time": "2022-09-05T09:02:10.430Z"
   },
   {
    "duration": 517,
    "start_time": "2022-09-05T09:02:10.466Z"
   },
   {
    "duration": 8,
    "start_time": "2022-09-05T09:02:10.985Z"
   },
   {
    "duration": 101,
    "start_time": "2022-09-05T09:02:10.996Z"
   },
   {
    "duration": 209,
    "start_time": "2022-09-05T09:02:11.099Z"
   },
   {
    "duration": 18,
    "start_time": "2022-09-05T09:02:11.311Z"
   },
   {
    "duration": 254,
    "start_time": "2022-09-05T09:02:11.332Z"
   },
   {
    "duration": 5,
    "start_time": "2022-09-05T09:02:11.588Z"
   },
   {
    "duration": 5719,
    "start_time": "2022-09-05T09:02:11.594Z"
   },
   {
    "duration": 300,
    "start_time": "2022-09-05T09:02:17.315Z"
   },
   {
    "duration": 115,
    "start_time": "2022-09-05T09:02:17.618Z"
   },
   {
    "duration": 214,
    "start_time": "2022-09-05T09:02:17.735Z"
   },
   {
    "duration": 168,
    "start_time": "2022-09-05T09:02:17.951Z"
   },
   {
    "duration": 391804,
    "start_time": "2022-09-05T09:02:18.121Z"
   },
   {
    "duration": 215,
    "start_time": "2022-09-05T09:08:49.927Z"
   },
   {
    "duration": 12,
    "start_time": "2022-09-05T09:08:50.145Z"
   },
   {
    "duration": 0,
    "start_time": "2022-09-05T09:08:50.160Z"
   },
   {
    "duration": 0,
    "start_time": "2022-09-05T09:08:50.161Z"
   },
   {
    "duration": 0,
    "start_time": "2022-09-05T09:08:50.164Z"
   },
   {
    "duration": 36029,
    "start_time": "2022-09-05T09:17:30.002Z"
   },
   {
    "duration": 36469,
    "start_time": "2022-09-05T09:18:44.896Z"
   },
   {
    "duration": 1195,
    "start_time": "2022-09-05T09:22:26.301Z"
   },
   {
    "duration": 2193,
    "start_time": "2022-09-05T09:22:30.909Z"
   },
   {
    "duration": 19650,
    "start_time": "2022-09-05T09:22:43.461Z"
   },
   {
    "duration": 35168,
    "start_time": "2022-09-05T09:24:16.929Z"
   },
   {
    "duration": 94,
    "start_time": "2022-09-05T09:26:59.319Z"
   },
   {
    "duration": 666,
    "start_time": "2022-09-05T09:27:19.472Z"
   },
   {
    "duration": 34961,
    "start_time": "2022-09-05T09:27:43.813Z"
   },
   {
    "duration": 6449,
    "start_time": "2022-09-05T09:28:18.777Z"
   },
   {
    "duration": 10,
    "start_time": "2022-09-05T09:29:42.750Z"
   },
   {
    "duration": 10,
    "start_time": "2022-09-05T09:29:51.323Z"
   },
   {
    "duration": 9,
    "start_time": "2022-09-05T09:34:25.653Z"
   },
   {
    "duration": 10,
    "start_time": "2022-09-05T09:34:39.217Z"
   },
   {
    "duration": 14,
    "start_time": "2022-09-05T09:34:51.544Z"
   },
   {
    "duration": 12,
    "start_time": "2022-09-05T09:38:12.500Z"
   },
   {
    "duration": 49216,
    "start_time": "2022-09-05T09:38:32.990Z"
   },
   {
    "duration": 36447,
    "start_time": "2022-09-05T09:39:35.126Z"
   },
   {
    "duration": 5179,
    "start_time": "2022-09-05T09:41:29.239Z"
   },
   {
    "duration": 34004,
    "start_time": "2022-09-05T09:41:38.014Z"
   },
   {
    "duration": 5,
    "start_time": "2022-09-05T09:42:14.576Z"
   },
   {
    "duration": 4,
    "start_time": "2022-09-05T09:43:08.468Z"
   },
   {
    "duration": 100,
    "start_time": "2022-09-05T09:43:19.539Z"
   },
   {
    "duration": 69,
    "start_time": "2022-09-05T09:43:24.311Z"
   },
   {
    "duration": 9,
    "start_time": "2022-09-05T09:43:29.838Z"
   },
   {
    "duration": 7,
    "start_time": "2022-09-05T09:43:34.735Z"
   },
   {
    "duration": 508308,
    "start_time": "2022-09-05T09:44:10.051Z"
   },
   {
    "duration": 266,
    "start_time": "2022-09-05T09:52:38.360Z"
   },
   {
    "duration": 34,
    "start_time": "2022-09-05T10:01:49.965Z"
   },
   {
    "duration": 6,
    "start_time": "2022-09-05T10:05:32.005Z"
   },
   {
    "duration": 158630,
    "start_time": "2022-09-05T10:06:11.450Z"
   },
   {
    "duration": 197000,
    "start_time": "2022-09-05T10:09:01.910Z"
   },
   {
    "duration": 8463,
    "start_time": "2022-09-05T10:12:32.849Z"
   },
   {
    "duration": 121402,
    "start_time": "2022-09-05T10:12:42.664Z"
   },
   {
    "duration": 5,
    "start_time": "2022-09-05T10:16:46.052Z"
   },
   {
    "duration": 3714,
    "start_time": "2022-09-05T10:18:37.603Z"
   },
   {
    "duration": 0,
    "start_time": "2022-09-05T10:20:06.531Z"
   },
   {
    "duration": 81569,
    "start_time": "2022-09-05T10:21:37.917Z"
   },
   {
    "duration": 80370,
    "start_time": "2022-09-05T10:22:59.488Z"
   },
   {
    "duration": 361767,
    "start_time": "2022-09-05T10:25:02.811Z"
   },
   {
    "duration": 0,
    "start_time": "2022-09-05T10:31:04.579Z"
   },
   {
    "duration": 2,
    "start_time": "2022-09-05T10:31:19.412Z"
   },
   {
    "duration": 10,
    "start_time": "2022-09-05T10:31:19.418Z"
   },
   {
    "duration": 915,
    "start_time": "2022-09-05T10:31:19.430Z"
   },
   {
    "duration": 167,
    "start_time": "2022-09-05T10:31:20.347Z"
   },
   {
    "duration": 432,
    "start_time": "2022-09-05T10:31:20.516Z"
   },
   {
    "duration": 77,
    "start_time": "2022-09-05T10:31:20.951Z"
   },
   {
    "duration": 8,
    "start_time": "2022-09-05T10:31:21.031Z"
   },
   {
    "duration": 230,
    "start_time": "2022-09-05T10:31:21.041Z"
   },
   {
    "duration": 148,
    "start_time": "2022-09-05T10:31:21.273Z"
   },
   {
    "duration": 237,
    "start_time": "2022-09-05T10:31:21.423Z"
   },
   {
    "duration": 398,
    "start_time": "2022-09-05T10:31:21.662Z"
   },
   {
    "duration": 403,
    "start_time": "2022-09-05T10:31:22.062Z"
   },
   {
    "duration": 45,
    "start_time": "2022-09-05T10:31:22.466Z"
   },
   {
    "duration": 14,
    "start_time": "2022-09-05T10:31:22.513Z"
   },
   {
    "duration": 448,
    "start_time": "2022-09-05T10:31:22.530Z"
   },
   {
    "duration": 3,
    "start_time": "2022-09-05T10:31:22.980Z"
   },
   {
    "duration": 123,
    "start_time": "2022-09-05T10:31:22.984Z"
   },
   {
    "duration": 134,
    "start_time": "2022-09-05T10:31:23.109Z"
   },
   {
    "duration": 17,
    "start_time": "2022-09-05T10:31:23.245Z"
   },
   {
    "duration": 217,
    "start_time": "2022-09-05T10:31:23.264Z"
   },
   {
    "duration": 10,
    "start_time": "2022-09-05T10:31:23.483Z"
   },
   {
    "duration": 2237,
    "start_time": "2022-09-05T10:31:23.497Z"
   },
   {
    "duration": 94,
    "start_time": "2022-09-05T10:31:25.736Z"
   },
   {
    "duration": 19,
    "start_time": "2022-09-05T10:31:25.832Z"
   },
   {
    "duration": 125,
    "start_time": "2022-09-05T10:31:25.853Z"
   },
   {
    "duration": 0,
    "start_time": "2022-09-05T10:31:25.980Z"
   },
   {
    "duration": 0,
    "start_time": "2022-09-05T10:31:25.983Z"
   },
   {
    "duration": 0,
    "start_time": "2022-09-05T10:31:25.984Z"
   },
   {
    "duration": 0,
    "start_time": "2022-09-05T10:31:25.991Z"
   },
   {
    "duration": 0,
    "start_time": "2022-09-05T10:31:25.992Z"
   },
   {
    "duration": 0,
    "start_time": "2022-09-05T10:31:25.993Z"
   },
   {
    "duration": 0,
    "start_time": "2022-09-05T10:31:25.994Z"
   },
   {
    "duration": 0,
    "start_time": "2022-09-05T10:31:25.995Z"
   },
   {
    "duration": 0,
    "start_time": "2022-09-05T10:31:25.995Z"
   },
   {
    "duration": 135,
    "start_time": "2022-09-05T10:31:48.345Z"
   },
   {
    "duration": 106,
    "start_time": "2022-09-05T10:31:52.428Z"
   },
   {
    "duration": 4,
    "start_time": "2022-09-05T10:31:52.536Z"
   },
   {
    "duration": 467698,
    "start_time": "2022-09-05T10:31:52.542Z"
   },
   {
    "duration": 5,
    "start_time": "2022-09-05T10:39:40.244Z"
   },
   {
    "duration": 7,
    "start_time": "2022-09-05T10:39:40.251Z"
   },
   {
    "duration": 6,
    "start_time": "2022-09-05T10:39:40.260Z"
   },
   {
    "duration": 549871,
    "start_time": "2022-09-05T10:39:40.267Z"
   },
   {
    "duration": 6,
    "start_time": "2022-09-05T10:48:50.140Z"
   },
   {
    "duration": 306,
    "start_time": "2022-09-05T10:48:50.148Z"
   },
   {
    "duration": 329,
    "start_time": "2022-09-05T11:00:02.374Z"
   },
   {
    "duration": 73428,
    "start_time": "2022-09-05T11:00:36.433Z"
   },
   {
    "duration": 2070,
    "start_time": "2022-09-05T11:03:32.715Z"
   },
   {
    "duration": 2,
    "start_time": "2022-09-05T11:04:07.470Z"
   },
   {
    "duration": 16,
    "start_time": "2022-09-05T11:04:07.474Z"
   },
   {
    "duration": 1079,
    "start_time": "2022-09-05T11:04:07.492Z"
   },
   {
    "duration": 197,
    "start_time": "2022-09-05T11:04:08.573Z"
   },
   {
    "duration": 492,
    "start_time": "2022-09-05T11:04:08.771Z"
   },
   {
    "duration": 92,
    "start_time": "2022-09-05T11:04:09.265Z"
   },
   {
    "duration": 9,
    "start_time": "2022-09-05T11:04:09.360Z"
   },
   {
    "duration": 267,
    "start_time": "2022-09-05T11:04:09.371Z"
   },
   {
    "duration": 154,
    "start_time": "2022-09-05T11:04:09.641Z"
   },
   {
    "duration": 269,
    "start_time": "2022-09-05T11:04:09.796Z"
   },
   {
    "duration": 391,
    "start_time": "2022-09-05T11:04:10.067Z"
   },
   {
    "duration": 403,
    "start_time": "2022-09-05T11:04:10.460Z"
   },
   {
    "duration": 38,
    "start_time": "2022-09-05T11:04:10.865Z"
   },
   {
    "duration": 43,
    "start_time": "2022-09-05T11:04:10.905Z"
   },
   {
    "duration": 557,
    "start_time": "2022-09-05T11:04:10.950Z"
   },
   {
    "duration": 6,
    "start_time": "2022-09-05T11:04:11.509Z"
   },
   {
    "duration": 122,
    "start_time": "2022-09-05T11:04:11.516Z"
   },
   {
    "duration": 170,
    "start_time": "2022-09-05T11:04:11.640Z"
   },
   {
    "duration": 45,
    "start_time": "2022-09-05T11:04:11.812Z"
   },
   {
    "duration": 291,
    "start_time": "2022-09-05T11:04:11.860Z"
   },
   {
    "duration": 3,
    "start_time": "2022-09-05T11:04:12.154Z"
   },
   {
    "duration": 2659,
    "start_time": "2022-09-05T11:04:12.159Z"
   },
   {
    "duration": 93,
    "start_time": "2022-09-05T11:04:14.820Z"
   },
   {
    "duration": 23,
    "start_time": "2022-09-05T11:04:14.918Z"
   },
   {
    "duration": 160,
    "start_time": "2022-09-05T11:04:14.943Z"
   },
   {
    "duration": 132,
    "start_time": "2022-09-05T11:04:15.113Z"
   },
   {
    "duration": 5,
    "start_time": "2022-09-05T11:04:15.247Z"
   },
   {
    "duration": 4,
    "start_time": "2022-09-05T11:04:23.267Z"
   },
   {
    "duration": 2047,
    "start_time": "2022-09-05T11:04:23.273Z"
   },
   {
    "duration": 1919,
    "start_time": "2022-09-05T11:04:25.327Z"
   },
   {
    "duration": 487,
    "start_time": "2022-09-05T11:04:27.248Z"
   },
   {
    "duration": 756,
    "start_time": "2022-09-05T11:04:27.740Z"
   },
   {
    "duration": 105,
    "start_time": "2022-09-05T11:04:28.498Z"
   },
   {
    "duration": 14,
    "start_time": "2022-09-05T11:04:28.606Z"
   },
   {
    "duration": 255,
    "start_time": "2022-09-05T11:04:28.622Z"
   },
   {
    "duration": 187,
    "start_time": "2022-09-05T11:04:28.879Z"
   },
   {
    "duration": 360,
    "start_time": "2022-09-05T11:04:29.067Z"
   },
   {
    "duration": 318,
    "start_time": "2022-09-05T11:04:29.429Z"
   },
   {
    "duration": 397,
    "start_time": "2022-09-05T11:04:29.748Z"
   },
   {
    "duration": 32,
    "start_time": "2022-09-05T11:04:30.147Z"
   },
   {
    "duration": 49,
    "start_time": "2022-09-05T11:04:30.192Z"
   },
   {
    "duration": 505,
    "start_time": "2022-09-05T11:04:30.243Z"
   },
   {
    "duration": 3,
    "start_time": "2022-09-05T11:04:30.750Z"
   },
   {
    "duration": 117,
    "start_time": "2022-09-05T11:04:30.755Z"
   },
   {
    "duration": 157,
    "start_time": "2022-09-05T11:04:30.874Z"
   },
   {
    "duration": 34,
    "start_time": "2022-09-05T11:04:31.033Z"
   },
   {
    "duration": 276,
    "start_time": "2022-09-05T11:04:31.069Z"
   },
   {
    "duration": 4,
    "start_time": "2022-09-05T11:04:31.347Z"
   },
   {
    "duration": 3152,
    "start_time": "2022-09-05T11:04:31.352Z"
   },
   {
    "duration": 129,
    "start_time": "2022-09-05T11:04:34.506Z"
   },
   {
    "duration": 36,
    "start_time": "2022-09-05T11:04:34.637Z"
   },
   {
    "duration": 187,
    "start_time": "2022-09-05T11:04:34.674Z"
   },
   {
    "duration": 173,
    "start_time": "2022-09-05T11:04:34.864Z"
   },
   {
    "duration": 5,
    "start_time": "2022-09-05T11:04:35.039Z"
   },
   {
    "duration": 485125,
    "start_time": "2022-09-05T11:04:35.045Z"
   },
   {
    "duration": 4,
    "start_time": "2022-09-05T11:12:40.172Z"
   },
   {
    "duration": 17,
    "start_time": "2022-09-05T11:12:40.177Z"
   },
   {
    "duration": 34,
    "start_time": "2022-09-05T11:12:40.196Z"
   },
   {
    "duration": 457211,
    "start_time": "2022-09-05T11:12:40.232Z"
   },
   {
    "duration": 8,
    "start_time": "2022-09-05T11:20:17.445Z"
   },
   {
    "duration": 365,
    "start_time": "2022-09-05T11:20:17.455Z"
   },
   {
    "duration": 0,
    "start_time": "2022-09-05T11:20:18.217Z"
   },
   {
    "duration": 0,
    "start_time": "2022-09-05T11:20:18.221Z"
   },
   {
    "duration": 333,
    "start_time": "2022-09-05T11:23:45.510Z"
   },
   {
    "duration": 83,
    "start_time": "2022-09-05T11:27:11.582Z"
   },
   {
    "duration": 117063,
    "start_time": "2022-09-05T11:27:16.976Z"
   },
   {
    "duration": 113,
    "start_time": "2022-09-05T11:29:22.784Z"
   },
   {
    "duration": 13,
    "start_time": "2022-09-05T11:29:32.547Z"
   },
   {
    "duration": 12,
    "start_time": "2022-09-05T11:29:37.770Z"
   },
   {
    "duration": 134,
    "start_time": "2022-09-05T11:29:46.276Z"
   },
   {
    "duration": 48,
    "start_time": "2022-09-05T11:29:49.080Z"
   },
   {
    "duration": 12,
    "start_time": "2022-09-05T11:29:55.109Z"
   },
   {
    "duration": 12,
    "start_time": "2022-09-05T11:29:58.554Z"
   },
   {
    "duration": 106,
    "start_time": "2022-09-05T11:30:01.283Z"
   },
   {
    "duration": 99,
    "start_time": "2022-09-05T11:30:12.958Z"
   },
   {
    "duration": 13,
    "start_time": "2022-09-05T11:30:13.859Z"
   },
   {
    "duration": 1421,
    "start_time": "2022-09-05T11:30:55.232Z"
   },
   {
    "duration": 108,
    "start_time": "2022-09-05T11:31:41.623Z"
   },
   {
    "duration": 101,
    "start_time": "2022-09-05T11:32:02.527Z"
   },
   {
    "duration": 100,
    "start_time": "2022-09-05T11:32:20.095Z"
   },
   {
    "duration": 19,
    "start_time": "2022-09-05T11:32:31.331Z"
   },
   {
    "duration": 116,
    "start_time": "2022-09-05T11:32:42.337Z"
   },
   {
    "duration": 9,
    "start_time": "2022-09-05T11:33:51.664Z"
   },
   {
    "duration": 43,
    "start_time": "2022-09-05T11:33:59.808Z"
   },
   {
    "duration": 13,
    "start_time": "2022-09-05T11:34:09.360Z"
   },
   {
    "duration": 1350,
    "start_time": "2022-09-05T11:34:19.608Z"
   },
   {
    "duration": 5,
    "start_time": "2022-09-05T11:34:20.961Z"
   },
   {
    "duration": 988,
    "start_time": "2022-09-05T11:34:20.968Z"
   },
   {
    "duration": 198,
    "start_time": "2022-09-05T11:34:21.958Z"
   },
   {
    "duration": 328,
    "start_time": "2022-09-05T11:34:22.160Z"
   },
   {
    "duration": 78,
    "start_time": "2022-09-05T11:34:22.491Z"
   },
   {
    "duration": 8,
    "start_time": "2022-09-05T11:34:22.571Z"
   },
   {
    "duration": 229,
    "start_time": "2022-09-05T11:34:22.581Z"
   },
   {
    "duration": 151,
    "start_time": "2022-09-05T11:34:22.811Z"
   },
   {
    "duration": 247,
    "start_time": "2022-09-05T11:34:22.964Z"
   },
   {
    "duration": 437,
    "start_time": "2022-09-05T11:34:23.213Z"
   },
   {
    "duration": 445,
    "start_time": "2022-09-05T11:34:23.652Z"
   },
   {
    "duration": 35,
    "start_time": "2022-09-05T11:34:24.109Z"
   },
   {
    "duration": 19,
    "start_time": "2022-09-05T11:34:24.148Z"
   },
   {
    "duration": 454,
    "start_time": "2022-09-05T11:34:24.169Z"
   },
   {
    "duration": 3,
    "start_time": "2022-09-05T11:34:24.624Z"
   },
   {
    "duration": 104,
    "start_time": "2022-09-05T11:34:24.629Z"
   },
   {
    "duration": 134,
    "start_time": "2022-09-05T11:34:24.734Z"
   },
   {
    "duration": 36,
    "start_time": "2022-09-05T11:34:24.870Z"
   },
   {
    "duration": 212,
    "start_time": "2022-09-05T11:34:24.908Z"
   },
   {
    "duration": 3,
    "start_time": "2022-09-05T11:34:25.122Z"
   },
   {
    "duration": 2685,
    "start_time": "2022-09-05T11:34:25.127Z"
   },
   {
    "duration": 123,
    "start_time": "2022-09-05T11:34:27.813Z"
   },
   {
    "duration": 38,
    "start_time": "2022-09-05T11:34:27.938Z"
   },
   {
    "duration": 185,
    "start_time": "2022-09-05T11:34:27.978Z"
   },
   {
    "duration": 49,
    "start_time": "2022-09-05T11:34:28.165Z"
   },
   {
    "duration": 10,
    "start_time": "2022-09-05T11:34:30.844Z"
   },
   {
    "duration": 107,
    "start_time": "2022-09-05T11:34:34.224Z"
   },
   {
    "duration": 11,
    "start_time": "2022-09-05T11:34:41.139Z"
   },
   {
    "duration": 57,
    "start_time": "2022-09-05T11:34:44.730Z"
   },
   {
    "duration": 12,
    "start_time": "2022-09-05T11:34:46.346Z"
   },
   {
    "duration": 11,
    "start_time": "2022-09-05T11:34:56.979Z"
   },
   {
    "duration": 12,
    "start_time": "2022-09-05T11:35:47.160Z"
   },
   {
    "duration": 44,
    "start_time": "2022-09-05T11:35:51.208Z"
   },
   {
    "duration": 12,
    "start_time": "2022-09-05T11:35:52.555Z"
   },
   {
    "duration": 39,
    "start_time": "2022-09-05T11:36:03.972Z"
   },
   {
    "duration": 12,
    "start_time": "2022-09-05T11:36:04.684Z"
   },
   {
    "duration": 34,
    "start_time": "2022-09-05T11:36:10.684Z"
   },
   {
    "duration": 14,
    "start_time": "2022-09-05T11:36:11.882Z"
   },
   {
    "duration": 38,
    "start_time": "2022-09-05T11:39:42.768Z"
   },
   {
    "duration": 27,
    "start_time": "2022-09-05T11:39:50.826Z"
   },
   {
    "duration": 17,
    "start_time": "2022-09-05T11:39:51.858Z"
   },
   {
    "duration": 42,
    "start_time": "2022-09-05T11:40:56.981Z"
   },
   {
    "duration": 15,
    "start_time": "2022-09-05T11:41:01.941Z"
   },
   {
    "duration": 12,
    "start_time": "2022-09-05T11:41:20.515Z"
   },
   {
    "duration": 43,
    "start_time": "2022-09-05T11:41:38.550Z"
   },
   {
    "duration": 12,
    "start_time": "2022-09-05T11:41:40.617Z"
   },
   {
    "duration": 1389,
    "start_time": "2022-09-05T11:41:56.291Z"
   },
   {
    "duration": 5,
    "start_time": "2022-09-05T11:41:57.682Z"
   },
   {
    "duration": 1040,
    "start_time": "2022-09-05T11:41:57.689Z"
   },
   {
    "duration": 184,
    "start_time": "2022-09-05T11:41:58.731Z"
   },
   {
    "duration": 340,
    "start_time": "2022-09-05T11:41:58.919Z"
   },
   {
    "duration": 88,
    "start_time": "2022-09-05T11:41:59.261Z"
   },
   {
    "duration": 8,
    "start_time": "2022-09-05T11:41:59.351Z"
   },
   {
    "duration": 259,
    "start_time": "2022-09-05T11:41:59.361Z"
   },
   {
    "duration": 196,
    "start_time": "2022-09-05T11:41:59.626Z"
   },
   {
    "duration": 242,
    "start_time": "2022-09-05T11:41:59.824Z"
   },
   {
    "duration": 335,
    "start_time": "2022-09-05T11:42:00.068Z"
   },
   {
    "duration": 515,
    "start_time": "2022-09-05T11:42:00.410Z"
   },
   {
    "duration": 35,
    "start_time": "2022-09-05T11:42:00.927Z"
   },
   {
    "duration": 63,
    "start_time": "2022-09-05T11:42:00.967Z"
   },
   {
    "duration": 559,
    "start_time": "2022-09-05T11:42:01.031Z"
   },
   {
    "duration": 3,
    "start_time": "2022-09-05T11:42:01.592Z"
   },
   {
    "duration": 266,
    "start_time": "2022-09-05T11:42:01.610Z"
   },
   {
    "duration": 194,
    "start_time": "2022-09-05T11:42:01.878Z"
   },
   {
    "duration": 65,
    "start_time": "2022-09-05T11:42:02.074Z"
   },
   {
    "duration": 238,
    "start_time": "2022-09-05T11:42:02.142Z"
   },
   {
    "duration": 2,
    "start_time": "2022-09-05T11:42:02.382Z"
   },
   {
    "duration": 2580,
    "start_time": "2022-09-05T11:42:02.386Z"
   },
   {
    "duration": 134,
    "start_time": "2022-09-05T11:42:04.968Z"
   },
   {
    "duration": 35,
    "start_time": "2022-09-05T11:42:05.105Z"
   },
   {
    "duration": 160,
    "start_time": "2022-09-05T11:42:05.142Z"
   },
   {
    "duration": 57,
    "start_time": "2022-09-05T11:42:05.310Z"
   },
   {
    "duration": 11,
    "start_time": "2022-09-05T11:42:06.228Z"
   },
   {
    "duration": 11,
    "start_time": "2022-09-05T11:42:10.834Z"
   },
   {
    "duration": 11,
    "start_time": "2022-09-05T11:42:16.226Z"
   },
   {
    "duration": 132,
    "start_time": "2022-09-05T11:42:27.610Z"
   },
   {
    "duration": 11,
    "start_time": "2022-09-05T11:42:30.667Z"
   },
   {
    "duration": 39,
    "start_time": "2022-09-05T11:42:36.022Z"
   },
   {
    "duration": 11,
    "start_time": "2022-09-05T11:42:36.854Z"
   },
   {
    "duration": 11,
    "start_time": "2022-09-05T11:42:42.918Z"
   },
   {
    "duration": 1427,
    "start_time": "2022-09-05T11:42:47.223Z"
   },
   {
    "duration": 4,
    "start_time": "2022-09-05T11:42:48.653Z"
   },
   {
    "duration": 976,
    "start_time": "2022-09-05T11:42:48.660Z"
   },
   {
    "duration": 185,
    "start_time": "2022-09-05T11:42:49.638Z"
   },
   {
    "duration": 324,
    "start_time": "2022-09-05T11:42:49.826Z"
   },
   {
    "duration": 93,
    "start_time": "2022-09-05T11:42:50.152Z"
   },
   {
    "duration": 8,
    "start_time": "2022-09-05T11:42:50.247Z"
   },
   {
    "duration": 229,
    "start_time": "2022-09-05T11:42:50.257Z"
   },
   {
    "duration": 167,
    "start_time": "2022-09-05T11:42:50.493Z"
   },
   {
    "duration": 237,
    "start_time": "2022-09-05T11:42:50.662Z"
   },
   {
    "duration": 318,
    "start_time": "2022-09-05T11:42:50.900Z"
   },
   {
    "duration": 388,
    "start_time": "2022-09-05T11:42:51.224Z"
   },
   {
    "duration": 32,
    "start_time": "2022-09-05T11:42:51.613Z"
   },
   {
    "duration": 13,
    "start_time": "2022-09-05T11:42:51.648Z"
   },
   {
    "duration": 565,
    "start_time": "2022-09-05T11:42:51.663Z"
   },
   {
    "duration": 4,
    "start_time": "2022-09-05T11:42:52.230Z"
   },
   {
    "duration": 111,
    "start_time": "2022-09-05T11:42:52.236Z"
   },
   {
    "duration": 161,
    "start_time": "2022-09-05T11:42:52.348Z"
   },
   {
    "duration": 21,
    "start_time": "2022-09-05T11:42:52.511Z"
   },
   {
    "duration": 217,
    "start_time": "2022-09-05T11:42:52.534Z"
   },
   {
    "duration": 2,
    "start_time": "2022-09-05T11:42:52.753Z"
   },
   {
    "duration": 2598,
    "start_time": "2022-09-05T11:42:52.757Z"
   },
   {
    "duration": 130,
    "start_time": "2022-09-05T11:42:55.357Z"
   },
   {
    "duration": 37,
    "start_time": "2022-09-05T11:42:55.489Z"
   },
   {
    "duration": 150,
    "start_time": "2022-09-05T11:42:55.528Z"
   },
   {
    "duration": 64,
    "start_time": "2022-09-05T11:42:57.517Z"
   },
   {
    "duration": 16,
    "start_time": "2022-09-05T11:42:58.807Z"
   },
   {
    "duration": 138,
    "start_time": "2022-09-05T11:43:02.951Z"
   },
   {
    "duration": 12,
    "start_time": "2022-09-05T11:43:04.128Z"
   },
   {
    "duration": 1423,
    "start_time": "2022-09-05T11:43:10.806Z"
   },
   {
    "duration": 6,
    "start_time": "2022-09-05T11:43:12.232Z"
   },
   {
    "duration": 2497,
    "start_time": "2022-09-05T11:43:12.241Z"
   },
   {
    "duration": 0,
    "start_time": "2022-09-05T11:43:14.742Z"
   },
   {
    "duration": 0,
    "start_time": "2022-09-05T11:43:14.744Z"
   },
   {
    "duration": 0,
    "start_time": "2022-09-05T11:43:14.745Z"
   },
   {
    "duration": 0,
    "start_time": "2022-09-05T11:43:14.747Z"
   },
   {
    "duration": 0,
    "start_time": "2022-09-05T11:43:14.748Z"
   },
   {
    "duration": 0,
    "start_time": "2022-09-05T11:43:14.749Z"
   },
   {
    "duration": 0,
    "start_time": "2022-09-05T11:43:14.751Z"
   },
   {
    "duration": 0,
    "start_time": "2022-09-05T11:43:14.752Z"
   },
   {
    "duration": 0,
    "start_time": "2022-09-05T11:43:14.753Z"
   },
   {
    "duration": 0,
    "start_time": "2022-09-05T11:43:14.754Z"
   },
   {
    "duration": 0,
    "start_time": "2022-09-05T11:43:14.755Z"
   },
   {
    "duration": 0,
    "start_time": "2022-09-05T11:43:14.757Z"
   },
   {
    "duration": 0,
    "start_time": "2022-09-05T11:43:14.758Z"
   },
   {
    "duration": 0,
    "start_time": "2022-09-05T11:43:14.759Z"
   },
   {
    "duration": 0,
    "start_time": "2022-09-05T11:43:14.761Z"
   },
   {
    "duration": 0,
    "start_time": "2022-09-05T11:43:14.761Z"
   },
   {
    "duration": 0,
    "start_time": "2022-09-05T11:43:14.763Z"
   },
   {
    "duration": 0,
    "start_time": "2022-09-05T11:43:14.764Z"
   },
   {
    "duration": 0,
    "start_time": "2022-09-05T11:43:14.765Z"
   },
   {
    "duration": 0,
    "start_time": "2022-09-05T11:43:14.766Z"
   },
   {
    "duration": 0,
    "start_time": "2022-09-05T11:43:14.767Z"
   },
   {
    "duration": 0,
    "start_time": "2022-09-05T11:43:14.768Z"
   },
   {
    "duration": 0,
    "start_time": "2022-09-05T11:43:14.769Z"
   },
   {
    "duration": 0,
    "start_time": "2022-09-05T11:43:14.770Z"
   },
   {
    "duration": 0,
    "start_time": "2022-09-05T11:43:14.771Z"
   },
   {
    "duration": 0,
    "start_time": "2022-09-05T11:43:14.772Z"
   },
   {
    "duration": 0,
    "start_time": "2022-09-05T11:43:14.774Z"
   },
   {
    "duration": 0,
    "start_time": "2022-09-05T11:43:14.776Z"
   },
   {
    "duration": 0,
    "start_time": "2022-09-05T11:43:14.777Z"
   },
   {
    "duration": 1389,
    "start_time": "2022-09-05T11:43:22.377Z"
   },
   {
    "duration": 5,
    "start_time": "2022-09-05T11:43:23.768Z"
   },
   {
    "duration": 1000,
    "start_time": "2022-09-05T11:43:23.775Z"
   },
   {
    "duration": 205,
    "start_time": "2022-09-05T11:43:24.777Z"
   },
   {
    "duration": 516,
    "start_time": "2022-09-05T11:43:24.992Z"
   },
   {
    "duration": 71,
    "start_time": "2022-09-05T11:43:25.510Z"
   },
   {
    "duration": 13,
    "start_time": "2022-09-05T11:43:25.584Z"
   },
   {
    "duration": 251,
    "start_time": "2022-09-05T11:43:25.600Z"
   },
   {
    "duration": 164,
    "start_time": "2022-09-05T11:43:25.853Z"
   },
   {
    "duration": 236,
    "start_time": "2022-09-05T11:43:26.019Z"
   },
   {
    "duration": 312,
    "start_time": "2022-09-05T11:43:26.257Z"
   },
   {
    "duration": 404,
    "start_time": "2022-09-05T11:43:26.570Z"
   },
   {
    "duration": 48,
    "start_time": "2022-09-05T11:43:26.976Z"
   },
   {
    "duration": 13,
    "start_time": "2022-09-05T11:43:27.027Z"
   },
   {
    "duration": 496,
    "start_time": "2022-09-05T11:43:27.042Z"
   },
   {
    "duration": 3,
    "start_time": "2022-09-05T11:43:27.540Z"
   },
   {
    "duration": 106,
    "start_time": "2022-09-05T11:43:27.545Z"
   },
   {
    "duration": 165,
    "start_time": "2022-09-05T11:43:27.653Z"
   },
   {
    "duration": 24,
    "start_time": "2022-09-05T11:43:27.821Z"
   },
   {
    "duration": 231,
    "start_time": "2022-09-05T11:43:27.847Z"
   },
   {
    "duration": 3,
    "start_time": "2022-09-05T11:43:28.080Z"
   },
   {
    "duration": 2727,
    "start_time": "2022-09-05T11:43:28.085Z"
   },
   {
    "duration": 115,
    "start_time": "2022-09-05T11:43:30.814Z"
   },
   {
    "duration": 36,
    "start_time": "2022-09-05T11:43:30.931Z"
   },
   {
    "duration": 184,
    "start_time": "2022-09-05T11:43:30.969Z"
   },
   {
    "duration": 162,
    "start_time": "2022-09-05T11:43:37.950Z"
   },
   {
    "duration": 12,
    "start_time": "2022-09-05T11:43:38.839Z"
   },
   {
    "duration": 11,
    "start_time": "2022-09-05T11:43:44.504Z"
   },
   {
    "duration": 13,
    "start_time": "2022-09-05T11:43:50.070Z"
   },
   {
    "duration": 467441,
    "start_time": "2022-09-05T11:43:56.760Z"
   },
   {
    "duration": 4,
    "start_time": "2022-09-05T11:51:44.203Z"
   },
   {
    "duration": 553280,
    "start_time": "2022-09-05T11:51:44.209Z"
   },
   {
    "duration": 26,
    "start_time": "2022-09-05T12:00:57.491Z"
   },
   {
    "duration": 326,
    "start_time": "2022-09-05T12:00:57.519Z"
   }
  ],
  "kernelspec": {
   "display_name": "Python 3 (ipykernel)",
   "language": "python",
   "name": "python3"
  },
  "language_info": {
   "codemirror_mode": {
    "name": "ipython",
    "version": 3
   },
   "file_extension": ".py",
   "mimetype": "text/x-python",
   "name": "python",
   "nbconvert_exporter": "python",
   "pygments_lexer": "ipython3",
   "version": "3.9.5"
  },
  "toc": {
   "base_numbering": 1,
   "nav_menu": {},
   "number_sections": true,
   "sideBar": true,
   "skip_h1_title": true,
   "title_cell": "Table of Contents",
   "title_sidebar": "Contents",
   "toc_cell": false,
   "toc_position": {
    "height": "calc(100% - 180px)",
    "left": "10px",
    "top": "150px",
    "width": "165px"
   },
   "toc_section_display": true,
   "toc_window_display": true
  }
 },
 "nbformat": 4,
 "nbformat_minor": 2
}
