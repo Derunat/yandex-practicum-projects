{
 "cells": [
  {
   "cell_type": "markdown",
   "id": "4e98f627",
   "metadata": {},
   "source": [
    "Привет, Наталья!\n",
    "\n",
    "Меня зовут Вячеслав Погорелый, и я буду проводить ревью твоего первого проекта. \n",
    "\n",
    "Предлагаю перейти на \"ты\", если не против)\n",
    "\n",
    "Но если это не удобно - дай знать, и мы перейдем на \"вы\". Моя главная задача — не находить сделанные тобою ошибки, а передать свой опыт и помочь тебе стать аналитиком данных.\n",
    "\n",
    "Я отметил комментарии и замечания разным цветом далее по тексту markdown:\n",
    "\n",
    "---    \n",
    "<div class=\"alert alert-block alert-danger\">\n",
    "    \n",
    "### Ошибка\n",
    "    \n",
    "Критическое замечание, которые следует исправить.\n",
    "</div> \n",
    "    \n",
    "---\n",
    "    \n",
    "<div class=\"alert alert-block alert-warning\">\n",
    "    \n",
    "### Совет\n",
    "    \n",
    "Замечание\\совет на будущее.\n",
    "</div>\n",
    "    \n",
    "---\n",
    "    \n",
    "<div class=\"alert alert-block alert-success\">\n",
    "    \n",
    "### Успех\n",
    "    \n",
    "Когда всё сделано правильно.\n",
    "</div>\n",
    "    \n",
    "    \n",
    "    \n",
    "Будет здорово, если для ответов ты выберешь любой **<font color=\"maroon\">читабельный и заметный цвет</font>**, так мне будет проще все проверить.\n",
    "\n",
    "\n",
    "При доработке проекта попрошу тебя сохранить и не видоизменять заметки ревьюера, это осложняет повторную проверку."
   ]
  },
  {
   "cell_type": "markdown",
   "id": "4aeef070",
   "metadata": {},
   "source": [
    "<div class=\"alert alert-block alert-success\">\n",
    "    \n",
    "## Итоговый комментарии от ревьюера:\n",
    "    \n",
    "#### Успех \n",
    "\n",
    "Спасибо тебе за проект. В работе я отметил несколько сильных сторон. Ты здорово умеешь делать Предобработку, проверку Гипотез и строить понятные графики. Эти навыки тебе очень пригодятся в дальнейших проектах. Так держать:)\n",
    "    \n",
    "    \n",
    "В проекте есть несколько замечаний. Уверен, учесть их в работе тебе не составит труда. Буду ждать доработанный проект. Удачи!\n",
    "</div>"
   ]
  },
  {
   "cell_type": "markdown",
   "id": "3d71a849",
   "metadata": {},
   "source": [
    "<div class=\"alert alert-block alert-success\">\n",
    "    \n",
    "## Итоговый комментарии от ревьюера ver.2\n",
    "    \n",
    "#### Успех \n",
    "\n",
    "Благодарю тебя за исправления замечаний. Вот сейчас я могу принять проект. Ты проделала хорошую работу. Надеюсь, ты в дальнейшем будешь использовать рекомендации и совершенствовать свои навыки с каждым новым проектом. \n",
    "    \n",
    "Желаю удачи, ты справишься:)\n",
    "</div>"
   ]
  },
  {
   "cell_type": "markdown",
   "id": "ce1ade52",
   "metadata": {},
   "source": [
    "# Введение"
   ]
  },
  {
   "cell_type": "markdown",
   "id": "5c9a3f66",
   "metadata": {},
   "source": [
    "Данные: информация о 500 пользователях \"Мегалайна\" за 2018 год \n",
    "Задача: проанализировать поведение клиентов и сделать вывод — какой тариф лучше. Выяснить, отличается ли средняя выручка по пользователям с разными тарифами и в разных регионах"
   ]
  },
  {
   "cell_type": "markdown",
   "id": "7c665ced",
   "metadata": {},
   "source": [
    "# Чтение и проверка данных"
   ]
  },
  {
   "cell_type": "code",
   "execution_count": 301,
   "id": "ed23deef",
   "metadata": {},
   "outputs": [],
   "source": [
    "\n",
    "import pandas as pd\n",
    "import numpy as np\n",
    "from scipy import stats as st\n"
   ]
  },
  {
   "cell_type": "code",
   "execution_count": 302,
   "id": "00b2ce99",
   "metadata": {},
   "outputs": [],
   "source": [
    "calls = pd.read_csv('/datasets/calls.csv')\n",
    "internet = pd.read_csv('/datasets/internet.csv')\n",
    "messages = pd.read_csv('/datasets/messages.csv')\n",
    "tariffs = pd.read_csv('/datasets/tariffs.csv')\n",
    "users = pd.read_csv('/datasets/users.csv')\n"
   ]
  },
  {
   "cell_type": "markdown",
   "id": "6311a5c2",
   "metadata": {},
   "source": [
    "<div class=\"alert alert-block alert-success\">\n",
    " \n",
    "### Комментарий ревьюера\n",
    "    \n",
    "#### Успех\n",
    "    \n",
    "Супер. Мы сохранили таблицы в переменные. \n",
    "</div>"
   ]
  },
  {
   "cell_type": "markdown",
   "id": "071d14b5",
   "metadata": {},
   "source": [
    "По очереди смотрим на все данные и ищем возможные ошибки"
   ]
  },
  {
   "cell_type": "code",
   "execution_count": 303,
   "id": "2ce39c2b",
   "metadata": {},
   "outputs": [
    {
     "name": "stdout",
     "output_type": "stream",
     "text": [
      "<class 'pandas.core.frame.DataFrame'>\n",
      "RangeIndex: 202607 entries, 0 to 202606\n",
      "Data columns (total 4 columns):\n",
      " #   Column     Non-Null Count   Dtype  \n",
      "---  ------     --------------   -----  \n",
      " 0   id         202607 non-null  object \n",
      " 1   call_date  202607 non-null  object \n",
      " 2   duration   202607 non-null  float64\n",
      " 3   user_id    202607 non-null  int64  \n",
      "dtypes: float64(1), int64(1), object(2)\n",
      "memory usage: 6.2+ MB\n"
     ]
    },
    {
     "data": {
      "text/html": [
       "<div>\n",
       "<style scoped>\n",
       "    .dataframe tbody tr th:only-of-type {\n",
       "        vertical-align: middle;\n",
       "    }\n",
       "\n",
       "    .dataframe tbody tr th {\n",
       "        vertical-align: top;\n",
       "    }\n",
       "\n",
       "    .dataframe thead th {\n",
       "        text-align: right;\n",
       "    }\n",
       "</style>\n",
       "<table border=\"1\" class=\"dataframe\">\n",
       "  <thead>\n",
       "    <tr style=\"text-align: right;\">\n",
       "      <th></th>\n",
       "      <th>id</th>\n",
       "      <th>call_date</th>\n",
       "      <th>duration</th>\n",
       "      <th>user_id</th>\n",
       "    </tr>\n",
       "  </thead>\n",
       "  <tbody>\n",
       "    <tr>\n",
       "      <th>0</th>\n",
       "      <td>1000_0</td>\n",
       "      <td>2018-07-25</td>\n",
       "      <td>0.00</td>\n",
       "      <td>1000</td>\n",
       "    </tr>\n",
       "    <tr>\n",
       "      <th>1</th>\n",
       "      <td>1000_1</td>\n",
       "      <td>2018-08-17</td>\n",
       "      <td>0.00</td>\n",
       "      <td>1000</td>\n",
       "    </tr>\n",
       "    <tr>\n",
       "      <th>2</th>\n",
       "      <td>1000_2</td>\n",
       "      <td>2018-06-11</td>\n",
       "      <td>2.85</td>\n",
       "      <td>1000</td>\n",
       "    </tr>\n",
       "    <tr>\n",
       "      <th>3</th>\n",
       "      <td>1000_3</td>\n",
       "      <td>2018-09-21</td>\n",
       "      <td>13.80</td>\n",
       "      <td>1000</td>\n",
       "    </tr>\n",
       "    <tr>\n",
       "      <th>4</th>\n",
       "      <td>1000_4</td>\n",
       "      <td>2018-12-15</td>\n",
       "      <td>5.18</td>\n",
       "      <td>1000</td>\n",
       "    </tr>\n",
       "  </tbody>\n",
       "</table>\n",
       "</div>"
      ],
      "text/plain": [
       "       id   call_date  duration  user_id\n",
       "0  1000_0  2018-07-25      0.00     1000\n",
       "1  1000_1  2018-08-17      0.00     1000\n",
       "2  1000_2  2018-06-11      2.85     1000\n",
       "3  1000_3  2018-09-21     13.80     1000\n",
       "4  1000_4  2018-12-15      5.18     1000"
      ]
     },
     "execution_count": 303,
     "metadata": {},
     "output_type": "execute_result"
    }
   ],
   "source": [
    "calls.info()\n",
    "calls.head()"
   ]
  },
  {
   "cell_type": "markdown",
   "id": "74b35b49",
   "metadata": {},
   "source": [
    "Вывод: В столбце call_date необходимо поменять тип на дату-время"
   ]
  },
  {
   "cell_type": "markdown",
   "id": "776dc39a",
   "metadata": {},
   "source": [
    "<div class=\"alert alert-block alert-success\">\n",
    " \n",
    "### Комментарий ревьюера\n",
    "    \n",
    "#### Успех\n",
    "    \n",
    "Да, так и есть \n",
    "</div>"
   ]
  },
  {
   "cell_type": "code",
   "execution_count": 304,
   "id": "7db7f0b6",
   "metadata": {},
   "outputs": [
    {
     "name": "stdout",
     "output_type": "stream",
     "text": [
      "<class 'pandas.core.frame.DataFrame'>\n",
      "RangeIndex: 149396 entries, 0 to 149395\n",
      "Data columns (total 5 columns):\n",
      " #   Column        Non-Null Count   Dtype  \n",
      "---  ------        --------------   -----  \n",
      " 0   Unnamed: 0    149396 non-null  int64  \n",
      " 1   id            149396 non-null  object \n",
      " 2   mb_used       149396 non-null  float64\n",
      " 3   session_date  149396 non-null  object \n",
      " 4   user_id       149396 non-null  int64  \n",
      "dtypes: float64(1), int64(2), object(2)\n",
      "memory usage: 5.7+ MB\n"
     ]
    },
    {
     "data": {
      "text/html": [
       "<div>\n",
       "<style scoped>\n",
       "    .dataframe tbody tr th:only-of-type {\n",
       "        vertical-align: middle;\n",
       "    }\n",
       "\n",
       "    .dataframe tbody tr th {\n",
       "        vertical-align: top;\n",
       "    }\n",
       "\n",
       "    .dataframe thead th {\n",
       "        text-align: right;\n",
       "    }\n",
       "</style>\n",
       "<table border=\"1\" class=\"dataframe\">\n",
       "  <thead>\n",
       "    <tr style=\"text-align: right;\">\n",
       "      <th></th>\n",
       "      <th>Unnamed: 0</th>\n",
       "      <th>id</th>\n",
       "      <th>mb_used</th>\n",
       "      <th>session_date</th>\n",
       "      <th>user_id</th>\n",
       "    </tr>\n",
       "  </thead>\n",
       "  <tbody>\n",
       "    <tr>\n",
       "      <th>0</th>\n",
       "      <td>0</td>\n",
       "      <td>1000_0</td>\n",
       "      <td>112.95</td>\n",
       "      <td>2018-11-25</td>\n",
       "      <td>1000</td>\n",
       "    </tr>\n",
       "    <tr>\n",
       "      <th>1</th>\n",
       "      <td>1</td>\n",
       "      <td>1000_1</td>\n",
       "      <td>1052.81</td>\n",
       "      <td>2018-09-07</td>\n",
       "      <td>1000</td>\n",
       "    </tr>\n",
       "    <tr>\n",
       "      <th>2</th>\n",
       "      <td>2</td>\n",
       "      <td>1000_2</td>\n",
       "      <td>1197.26</td>\n",
       "      <td>2018-06-25</td>\n",
       "      <td>1000</td>\n",
       "    </tr>\n",
       "    <tr>\n",
       "      <th>3</th>\n",
       "      <td>3</td>\n",
       "      <td>1000_3</td>\n",
       "      <td>550.27</td>\n",
       "      <td>2018-08-22</td>\n",
       "      <td>1000</td>\n",
       "    </tr>\n",
       "    <tr>\n",
       "      <th>4</th>\n",
       "      <td>4</td>\n",
       "      <td>1000_4</td>\n",
       "      <td>302.56</td>\n",
       "      <td>2018-09-24</td>\n",
       "      <td>1000</td>\n",
       "    </tr>\n",
       "  </tbody>\n",
       "</table>\n",
       "</div>"
      ],
      "text/plain": [
       "   Unnamed: 0      id  mb_used session_date  user_id\n",
       "0           0  1000_0   112.95   2018-11-25     1000\n",
       "1           1  1000_1  1052.81   2018-09-07     1000\n",
       "2           2  1000_2  1197.26   2018-06-25     1000\n",
       "3           3  1000_3   550.27   2018-08-22     1000\n",
       "4           4  1000_4   302.56   2018-09-24     1000"
      ]
     },
     "execution_count": 304,
     "metadata": {},
     "output_type": "execute_result"
    }
   ],
   "source": [
    "internet.info()\n",
    "internet.head()"
   ]
  },
  {
   "cell_type": "markdown",
   "id": "59fff892",
   "metadata": {},
   "source": [
    "Вывод: есть случайный столбец Unnamed: 0\t. Информации он не содержит, дублирует индекс строки. Его нужно удалить. \n",
    "В столбце session_date\tпоменять тип на дату-время"
   ]
  },
  {
   "cell_type": "markdown",
   "id": "6801ee3d",
   "metadata": {},
   "source": [
    "<div class=\"alert alert-block alert-warning\">\n",
    " \n",
    "### Комментарий ревьюера\n",
    "    \n",
    "#### Совет\n",
    "    \n",
    "Unnamed: 0 возникает, когда данные сохраняют с указанием индекса pd.DataFrame().to_csv(..., index=column). Если при чтении указать этот столбец pd.read_csv(..., index_col=0) - данные сразу прочитаются корректно..\n",
    "</div>"
   ]
  },
  {
   "cell_type": "code",
   "execution_count": 305,
   "id": "0d359ff4",
   "metadata": {},
   "outputs": [
    {
     "name": "stdout",
     "output_type": "stream",
     "text": [
      "<class 'pandas.core.frame.DataFrame'>\n",
      "RangeIndex: 123036 entries, 0 to 123035\n",
      "Data columns (total 3 columns):\n",
      " #   Column        Non-Null Count   Dtype \n",
      "---  ------        --------------   ----- \n",
      " 0   id            123036 non-null  object\n",
      " 1   message_date  123036 non-null  object\n",
      " 2   user_id       123036 non-null  int64 \n",
      "dtypes: int64(1), object(2)\n",
      "memory usage: 2.8+ MB\n"
     ]
    },
    {
     "data": {
      "text/html": [
       "<div>\n",
       "<style scoped>\n",
       "    .dataframe tbody tr th:only-of-type {\n",
       "        vertical-align: middle;\n",
       "    }\n",
       "\n",
       "    .dataframe tbody tr th {\n",
       "        vertical-align: top;\n",
       "    }\n",
       "\n",
       "    .dataframe thead th {\n",
       "        text-align: right;\n",
       "    }\n",
       "</style>\n",
       "<table border=\"1\" class=\"dataframe\">\n",
       "  <thead>\n",
       "    <tr style=\"text-align: right;\">\n",
       "      <th></th>\n",
       "      <th>id</th>\n",
       "      <th>message_date</th>\n",
       "      <th>user_id</th>\n",
       "    </tr>\n",
       "  </thead>\n",
       "  <tbody>\n",
       "    <tr>\n",
       "      <th>0</th>\n",
       "      <td>1000_0</td>\n",
       "      <td>2018-06-27</td>\n",
       "      <td>1000</td>\n",
       "    </tr>\n",
       "    <tr>\n",
       "      <th>1</th>\n",
       "      <td>1000_1</td>\n",
       "      <td>2018-10-08</td>\n",
       "      <td>1000</td>\n",
       "    </tr>\n",
       "    <tr>\n",
       "      <th>2</th>\n",
       "      <td>1000_2</td>\n",
       "      <td>2018-08-04</td>\n",
       "      <td>1000</td>\n",
       "    </tr>\n",
       "    <tr>\n",
       "      <th>3</th>\n",
       "      <td>1000_3</td>\n",
       "      <td>2018-06-16</td>\n",
       "      <td>1000</td>\n",
       "    </tr>\n",
       "    <tr>\n",
       "      <th>4</th>\n",
       "      <td>1000_4</td>\n",
       "      <td>2018-12-05</td>\n",
       "      <td>1000</td>\n",
       "    </tr>\n",
       "  </tbody>\n",
       "</table>\n",
       "</div>"
      ],
      "text/plain": [
       "       id message_date  user_id\n",
       "0  1000_0   2018-06-27     1000\n",
       "1  1000_1   2018-10-08     1000\n",
       "2  1000_2   2018-08-04     1000\n",
       "3  1000_3   2018-06-16     1000\n",
       "4  1000_4   2018-12-05     1000"
      ]
     },
     "execution_count": 305,
     "metadata": {},
     "output_type": "execute_result"
    }
   ],
   "source": [
    "messages.info()\n",
    "messages.head()"
   ]
  },
  {
   "cell_type": "markdown",
   "id": "2ed77211",
   "metadata": {},
   "source": [
    "Вывод: В столбце message_date необходимо поменять тип на дату-время"
   ]
  },
  {
   "cell_type": "markdown",
   "id": "2a479059",
   "metadata": {},
   "source": [
    "<div class=\"alert alert-block alert-success\">\n",
    " \n",
    "### Комментарий ревьюера\n",
    "    \n",
    "#### Успех\n",
    "    \n",
    "И здесь согласен. \n",
    "</div>"
   ]
  },
  {
   "cell_type": "code",
   "execution_count": 306,
   "id": "cf8df11d",
   "metadata": {},
   "outputs": [
    {
     "name": "stdout",
     "output_type": "stream",
     "text": [
      "<class 'pandas.core.frame.DataFrame'>\n",
      "RangeIndex: 2 entries, 0 to 1\n",
      "Data columns (total 8 columns):\n",
      " #   Column                 Non-Null Count  Dtype \n",
      "---  ------                 --------------  ----- \n",
      " 0   messages_included      2 non-null      int64 \n",
      " 1   mb_per_month_included  2 non-null      int64 \n",
      " 2   minutes_included       2 non-null      int64 \n",
      " 3   rub_monthly_fee        2 non-null      int64 \n",
      " 4   rub_per_gb             2 non-null      int64 \n",
      " 5   rub_per_message        2 non-null      int64 \n",
      " 6   rub_per_minute         2 non-null      int64 \n",
      " 7   tariff_name            2 non-null      object\n",
      "dtypes: int64(7), object(1)\n",
      "memory usage: 256.0+ bytes\n"
     ]
    },
    {
     "data": {
      "text/html": [
       "<div>\n",
       "<style scoped>\n",
       "    .dataframe tbody tr th:only-of-type {\n",
       "        vertical-align: middle;\n",
       "    }\n",
       "\n",
       "    .dataframe tbody tr th {\n",
       "        vertical-align: top;\n",
       "    }\n",
       "\n",
       "    .dataframe thead th {\n",
       "        text-align: right;\n",
       "    }\n",
       "</style>\n",
       "<table border=\"1\" class=\"dataframe\">\n",
       "  <thead>\n",
       "    <tr style=\"text-align: right;\">\n",
       "      <th></th>\n",
       "      <th>messages_included</th>\n",
       "      <th>mb_per_month_included</th>\n",
       "      <th>minutes_included</th>\n",
       "      <th>rub_monthly_fee</th>\n",
       "      <th>rub_per_gb</th>\n",
       "      <th>rub_per_message</th>\n",
       "      <th>rub_per_minute</th>\n",
       "      <th>tariff_name</th>\n",
       "    </tr>\n",
       "  </thead>\n",
       "  <tbody>\n",
       "    <tr>\n",
       "      <th>0</th>\n",
       "      <td>50</td>\n",
       "      <td>15360</td>\n",
       "      <td>500</td>\n",
       "      <td>550</td>\n",
       "      <td>200</td>\n",
       "      <td>3</td>\n",
       "      <td>3</td>\n",
       "      <td>smart</td>\n",
       "    </tr>\n",
       "    <tr>\n",
       "      <th>1</th>\n",
       "      <td>1000</td>\n",
       "      <td>30720</td>\n",
       "      <td>3000</td>\n",
       "      <td>1950</td>\n",
       "      <td>150</td>\n",
       "      <td>1</td>\n",
       "      <td>1</td>\n",
       "      <td>ultra</td>\n",
       "    </tr>\n",
       "  </tbody>\n",
       "</table>\n",
       "</div>"
      ],
      "text/plain": [
       "   messages_included  mb_per_month_included  minutes_included  \\\n",
       "0                 50                  15360               500   \n",
       "1               1000                  30720              3000   \n",
       "\n",
       "   rub_monthly_fee  rub_per_gb  rub_per_message  rub_per_minute tariff_name  \n",
       "0              550         200                3               3       smart  \n",
       "1             1950         150                1               1       ultra  "
      ]
     },
     "execution_count": 306,
     "metadata": {},
     "output_type": "execute_result"
    }
   ],
   "source": [
    "tariffs.info()\n",
    "tariffs.head()"
   ]
  },
  {
   "cell_type": "markdown",
   "id": "ce18f006",
   "metadata": {},
   "source": [
    "С этим файлом проблем нет"
   ]
  },
  {
   "cell_type": "code",
   "execution_count": 307,
   "id": "5581f626",
   "metadata": {},
   "outputs": [
    {
     "name": "stdout",
     "output_type": "stream",
     "text": [
      "<class 'pandas.core.frame.DataFrame'>\n",
      "RangeIndex: 500 entries, 0 to 499\n",
      "Data columns (total 8 columns):\n",
      " #   Column      Non-Null Count  Dtype \n",
      "---  ------      --------------  ----- \n",
      " 0   user_id     500 non-null    int64 \n",
      " 1   age         500 non-null    int64 \n",
      " 2   churn_date  38 non-null     object\n",
      " 3   city        500 non-null    object\n",
      " 4   first_name  500 non-null    object\n",
      " 5   last_name   500 non-null    object\n",
      " 6   reg_date    500 non-null    object\n",
      " 7   tariff      500 non-null    object\n",
      "dtypes: int64(2), object(6)\n",
      "memory usage: 31.4+ KB\n"
     ]
    },
    {
     "data": {
      "text/html": [
       "<div>\n",
       "<style scoped>\n",
       "    .dataframe tbody tr th:only-of-type {\n",
       "        vertical-align: middle;\n",
       "    }\n",
       "\n",
       "    .dataframe tbody tr th {\n",
       "        vertical-align: top;\n",
       "    }\n",
       "\n",
       "    .dataframe thead th {\n",
       "        text-align: right;\n",
       "    }\n",
       "</style>\n",
       "<table border=\"1\" class=\"dataframe\">\n",
       "  <thead>\n",
       "    <tr style=\"text-align: right;\">\n",
       "      <th></th>\n",
       "      <th>user_id</th>\n",
       "      <th>age</th>\n",
       "      <th>churn_date</th>\n",
       "      <th>city</th>\n",
       "      <th>first_name</th>\n",
       "      <th>last_name</th>\n",
       "      <th>reg_date</th>\n",
       "      <th>tariff</th>\n",
       "    </tr>\n",
       "  </thead>\n",
       "  <tbody>\n",
       "    <tr>\n",
       "      <th>0</th>\n",
       "      <td>1000</td>\n",
       "      <td>52</td>\n",
       "      <td>NaN</td>\n",
       "      <td>Краснодар</td>\n",
       "      <td>Рафаил</td>\n",
       "      <td>Верещагин</td>\n",
       "      <td>2018-05-25</td>\n",
       "      <td>ultra</td>\n",
       "    </tr>\n",
       "    <tr>\n",
       "      <th>1</th>\n",
       "      <td>1001</td>\n",
       "      <td>41</td>\n",
       "      <td>NaN</td>\n",
       "      <td>Москва</td>\n",
       "      <td>Иван</td>\n",
       "      <td>Ежов</td>\n",
       "      <td>2018-11-01</td>\n",
       "      <td>smart</td>\n",
       "    </tr>\n",
       "    <tr>\n",
       "      <th>2</th>\n",
       "      <td>1002</td>\n",
       "      <td>59</td>\n",
       "      <td>NaN</td>\n",
       "      <td>Стерлитамак</td>\n",
       "      <td>Евгений</td>\n",
       "      <td>Абрамович</td>\n",
       "      <td>2018-06-17</td>\n",
       "      <td>smart</td>\n",
       "    </tr>\n",
       "    <tr>\n",
       "      <th>3</th>\n",
       "      <td>1003</td>\n",
       "      <td>23</td>\n",
       "      <td>NaN</td>\n",
       "      <td>Москва</td>\n",
       "      <td>Белла</td>\n",
       "      <td>Белякова</td>\n",
       "      <td>2018-08-17</td>\n",
       "      <td>ultra</td>\n",
       "    </tr>\n",
       "    <tr>\n",
       "      <th>4</th>\n",
       "      <td>1004</td>\n",
       "      <td>68</td>\n",
       "      <td>NaN</td>\n",
       "      <td>Новокузнецк</td>\n",
       "      <td>Татьяна</td>\n",
       "      <td>Авдеенко</td>\n",
       "      <td>2018-05-14</td>\n",
       "      <td>ultra</td>\n",
       "    </tr>\n",
       "  </tbody>\n",
       "</table>\n",
       "</div>"
      ],
      "text/plain": [
       "   user_id  age churn_date         city first_name  last_name    reg_date  \\\n",
       "0     1000   52        NaN    Краснодар     Рафаил  Верещагин  2018-05-25   \n",
       "1     1001   41        NaN       Москва       Иван       Ежов  2018-11-01   \n",
       "2     1002   59        NaN  Стерлитамак    Евгений  Абрамович  2018-06-17   \n",
       "3     1003   23        NaN       Москва      Белла   Белякова  2018-08-17   \n",
       "4     1004   68        NaN  Новокузнецк    Татьяна   Авдеенко  2018-05-14   \n",
       "\n",
       "  tariff  \n",
       "0  ultra  \n",
       "1  smart  \n",
       "2  smart  \n",
       "3  ultra  \n",
       "4  ultra  "
      ]
     },
     "execution_count": 307,
     "metadata": {},
     "output_type": "execute_result"
    }
   ],
   "source": [
    "users.info()\n",
    "users.head()"
   ]
  },
  {
   "cell_type": "markdown",
   "id": "2bc21210",
   "metadata": {},
   "source": [
    "Вывод: Нужно проверить city на наличие дубликатов, в столбце reg_date поменять тип на дату-время"
   ]
  },
  {
   "cell_type": "markdown",
   "id": "fde06005",
   "metadata": {},
   "source": [
    "**Выводы после просмотра всех файлов**"
   ]
  },
  {
   "cell_type": "markdown",
   "id": "58099a21",
   "metadata": {},
   "source": [
    "В calls:\n",
    "\n",
    " - поменять тип call_date  на дату-время\n",
    "\n",
    "В internet:\n",
    " - удалить столбец \tUnnamed: 0\n",
    " - поменять тип session_date на дату-время\n",
    " \n",
    "В messages:\n",
    " - поменять тип message_date на дату-время\n",
    " \n",
    "В users:\n",
    " - проверить city на наличие дубликатов\n",
    " - поменять тип reg_date на дату-время"
   ]
  },
  {
   "cell_type": "markdown",
   "id": "0a5d1ac8",
   "metadata": {},
   "source": [
    "<div class=\"alert alert-block alert-success\">\n",
    " \n",
    "### Комментарий ревьюера\n",
    "    \n",
    "#### Успех\n",
    "    \n",
    "Хорошее знакомство с данными получилось. Мы получили первичную информацию и составили неболбшой план дальнейших действий. \n",
    "</div>"
   ]
  },
  {
   "cell_type": "markdown",
   "id": "0893d869",
   "metadata": {},
   "source": [
    "## Поиск выпадающих значений "
   ]
  },
  {
   "cell_type": "code",
   "execution_count": 308,
   "id": "6749fdce",
   "metadata": {},
   "outputs": [
    {
     "data": {
      "text/plain": [
       "count    202607.000000\n",
       "mean          6.755887\n",
       "std           5.843365\n",
       "min           0.000000\n",
       "25%           1.300000\n",
       "50%           6.000000\n",
       "75%          10.700000\n",
       "max          38.000000\n",
       "Name: duration, dtype: float64"
      ]
     },
     "execution_count": 308,
     "metadata": {},
     "output_type": "execute_result"
    },
    {
     "data": {
      "image/png": "[encoded data removed]",
      "text/plain": [
       "<Figure size 432x288 with 1 Axes>"
      ]
     },
     "metadata": {
      "needs_background": "light"
     },
     "output_type": "display_data"
    }
   ],
   "source": [
    "calls['duration'].hist(bins=100)\n",
    "calls['duration'].describe()"
   ]
  },
  {
   "cell_type": "markdown",
   "id": "030dd4b4",
   "metadata": {},
   "source": [
    "Известно, что звонки с нулевой продолжительностью - это не ошибка, а пропущенные звонки. Удалять не будем. \n",
    "В остальном данные рапсределены нормально. Максимальная длительность разговора, 38 минут, также выглядит реалистично"
   ]
  },
  {
   "cell_type": "markdown",
   "id": "7fdc7b25",
   "metadata": {},
   "source": [
    "<div class=\"alert alert-block alert-success\">\n",
    " \n",
    "### Комментарий ревьюера\n",
    "    \n",
    "#### Успех\n",
    "    \n",
    "Очень хорошо, что рассмотрела распределение по звонкам. \n",
    "</div>"
   ]
  },
  {
   "cell_type": "code",
   "execution_count": 309,
   "id": "ce68c44c",
   "metadata": {},
   "outputs": [
    {
     "data": {
      "text/plain": [
       "count    149396.000000\n",
       "mean        370.192426\n",
       "std         278.300951\n",
       "min           0.000000\n",
       "25%         138.187500\n",
       "50%         348.015000\n",
       "75%         559.552500\n",
       "max        1724.830000\n",
       "Name: mb_used, dtype: float64"
      ]
     },
     "execution_count": 309,
     "metadata": {},
     "output_type": "execute_result"
    },
    {
     "data": {
      "image/png": "[encoded data removed]",
      "text/plain": [
       "<Figure size 432x288 with 1 Axes>"
      ]
     },
     "metadata": {
      "needs_background": "light"
     },
     "output_type": "display_data"
    }
   ],
   "source": [
    "internet['mb_used'].hist(bins=100)\n",
    "internet['mb_used'].describe()"
   ]
  },
  {
   "cell_type": "markdown",
   "id": "a0d7fa22",
   "metadata": {},
   "source": [
    "Нулевые интернет-сессии, учитывая, что Мегалайн округляет мегабайтыы до гигабайт, есть смысл удалить"
   ]
  },
  {
   "cell_type": "markdown",
   "id": "2b5533a3",
   "metadata": {},
   "source": [
    "<div class=\"alert alert-block alert-success\">\n",
    " \n",
    "### Комментарий ревьюера\n",
    "    \n",
    "#### Успех\n",
    "    \n",
    "Верно. Нулевые сессии символизируют неудачные попытки выхода в интернет. \n",
    "</div>"
   ]
  },
  {
   "cell_type": "code",
   "execution_count": 310,
   "id": "1bdcae0c",
   "metadata": {},
   "outputs": [
    {
     "data": {
      "text/plain": [
       "count    129798.000000\n",
       "mean        426.087210\n",
       "std         255.596447\n",
       "min           0.030000\n",
       "25%         227.460000\n",
       "50%         400.540000\n",
       "75%         592.947500\n",
       "max        1724.830000\n",
       "Name: mb_used, dtype: float64"
      ]
     },
     "execution_count": 310,
     "metadata": {},
     "output_type": "execute_result"
    },
    {
     "data": {
      "image/png": "[encoded data removed]",
      "text/plain": [
       "<Figure size 432x288 with 1 Axes>"
      ]
     },
     "metadata": {
      "needs_background": "light"
     },
     "output_type": "display_data"
    }
   ],
   "source": [
    "internet = internet.drop(internet[internet['mb_used']==0].index)\n",
    "internet['mb_used'].hist(bins=100)\n",
    "internet['mb_used'].describe()"
   ]
  },
  {
   "cell_type": "markdown",
   "id": "9068a21a",
   "metadata": {},
   "source": [
    "<div class=\"alert alert-block alert-success\">\n",
    " \n",
    "### Комментарий ревьюера\n",
    "    \n",
    "#### Успех\n",
    "    \n",
    "Вот а теперь все здорово. \n",
    "</div>"
   ]
  },
  {
   "cell_type": "markdown",
   "id": "4b1b2ab4",
   "metadata": {},
   "source": [
    "# Подготовка данных"
   ]
  },
  {
   "cell_type": "code",
   "execution_count": 311,
   "id": "4029c47a",
   "metadata": {},
   "outputs": [],
   "source": [
    "#удаление лишнего столбца\n",
    "internet = internet.drop(columns=['Unnamed: 0'])\n",
    "\n",
    "#перевод нужных столбцов в формат дата-время\n",
    "internet['session_date'] = pd.to_datetime(internet['session_date'], format='%Y-%m-%d')\n",
    "calls['call_date'] = pd.to_datetime(calls['call_date'], format='%Y-%m-%d')\n",
    "users['reg_date'] = pd.to_datetime(users['reg_date'], format='%Y-%m-%d')\n",
    "messages['message_date'] = pd.to_datetime(messages['message_date'], format='%Y-%m-%d')"
   ]
  },
  {
   "cell_type": "markdown",
   "id": "94b94a6d",
   "metadata": {},
   "source": [
    "<div class=\"alert alert-block alert-success\">\n",
    " \n",
    "### Комментарий ревьюера\n",
    "    \n",
    "#### Успех\n",
    "    \n",
    "Методы использованы отличные для преобразования в формат даты. \n",
    "</div>"
   ]
  },
  {
   "cell_type": "code",
   "execution_count": 312,
   "id": "5d700c57",
   "metadata": {},
   "outputs": [
    {
     "data": {
      "text/plain": [
       "['Архангельск',\n",
       " 'Астрахань',\n",
       " 'Балашиха',\n",
       " 'Барнаул',\n",
       " 'Белгород',\n",
       " 'Брянск',\n",
       " 'Владивосток',\n",
       " 'Владикавказ',\n",
       " 'Владимир',\n",
       " 'Волгоград',\n",
       " 'Волжский',\n",
       " 'Вологда',\n",
       " 'Воронеж',\n",
       " 'Грозный',\n",
       " 'Екатеринбург',\n",
       " 'Иваново',\n",
       " 'Ижевск',\n",
       " 'Иркутск',\n",
       " 'Казань',\n",
       " 'Калининград',\n",
       " 'Калуга',\n",
       " 'Кемерово',\n",
       " 'Киров',\n",
       " 'Кострома',\n",
       " 'Краснодар',\n",
       " 'Красноярск',\n",
       " 'Курган',\n",
       " 'Курск',\n",
       " 'Липецк',\n",
       " 'Магнитогорск',\n",
       " 'Махачкала',\n",
       " 'Москва',\n",
       " 'Мурманск',\n",
       " 'Набережные Челны',\n",
       " 'Нижневартовск',\n",
       " 'Нижний Новгород',\n",
       " 'Нижний Тагил',\n",
       " 'Новокузнецк',\n",
       " 'Новороссийск',\n",
       " 'Новосибирск',\n",
       " 'Омск',\n",
       " 'Оренбург',\n",
       " 'Орёл',\n",
       " 'Пенза',\n",
       " 'Пермь',\n",
       " 'Петрозаводск',\n",
       " 'Подольск',\n",
       " 'Ростов-на-Дону',\n",
       " 'Рязань',\n",
       " 'Самара',\n",
       " 'Санкт-Петербург',\n",
       " 'Саранск',\n",
       " 'Саратов',\n",
       " 'Севастополь',\n",
       " 'Смоленск',\n",
       " 'Сочи',\n",
       " 'Ставрополь',\n",
       " 'Стерлитамак',\n",
       " 'Сургут',\n",
       " 'Тамбов',\n",
       " 'Тверь',\n",
       " 'Тольятти',\n",
       " 'Томск',\n",
       " 'Тула',\n",
       " 'Тюмень',\n",
       " 'Улан-Удэ',\n",
       " 'Ульяновск',\n",
       " 'Уфа',\n",
       " 'Хабаровск',\n",
       " 'Химки',\n",
       " 'Чебоксары',\n",
       " 'Челябинск',\n",
       " 'Череповец',\n",
       " 'Чита',\n",
       " 'Якутск',\n",
       " 'Ярославль']"
      ]
     },
     "execution_count": 312,
     "metadata": {},
     "output_type": "execute_result"
    }
   ],
   "source": [
    "#поиск возможных дубликатов\n",
    "sorted(users['city'].unique())"
   ]
  },
  {
   "cell_type": "markdown",
   "id": "92a475b1",
   "metadata": {},
   "source": [
    "<div class=\"alert alert-block alert-warning\">\n",
    " \n",
    "### Комментарий ревьюера\n",
    "    \n",
    "#### Совет\n",
    "    \n",
    "Для сортировки столбца таблицы лучше используй sort_values()\n",
    "</div>"
   ]
  },
  {
   "cell_type": "markdown",
   "id": "fddb9f04",
   "metadata": {},
   "source": [
    "Дубликатов нет"
   ]
  },
  {
   "cell_type": "code",
   "execution_count": 313,
   "id": "db7d9145",
   "metadata": {},
   "outputs": [],
   "source": [
    "#Во всех файлах делаем новый столбец с месяцем\n",
    "\n",
    "calls['month'] = pd.DatetimeIndex(calls['call_date']).month\n",
    "messages['month'] = pd.DatetimeIndex(messages['message_date']).month \n",
    "internet['month'] = pd.DatetimeIndex(internet['session_date']).month \n",
    "\n"
   ]
  },
  {
   "cell_type": "markdown",
   "id": "335c82d8",
   "metadata": {},
   "source": [
    "<div class=\"alert alert-block alert-success\">\n",
    " \n",
    "### Комментарий ревьюера\n",
    "    \n",
    "#### Успех\n",
    "    \n",
    "С этим тоже проблем не возникло.\n",
    "</div>"
   ]
  },
  {
   "cell_type": "code",
   "execution_count": 314,
   "id": "a0ef88b0",
   "metadata": {},
   "outputs": [],
   "source": [
    "#Для дальнейших расчетов формируем сгруппированные по пользователям данные о потраченых минутах, мегабайтах и смс\n",
    "\n",
    "\n",
    "messages_grouped=messages.groupby(by=['user_id', 'month'])['id'].count().unstack(fill_value=0).stack()\n",
    "calls_grouped=calls.groupby(by=['user_id', 'month'])['id'].count().unstack(fill_value=0).stack()\n",
    "internet_grouped=internet.groupby(by=['user_id', 'month'])['id'].count().unstack(fill_value=0).stack()\n",
    "\n"
   ]
  },
  {
   "cell_type": "code",
   "execution_count": 315,
   "id": "744ee34f",
   "metadata": {},
   "outputs": [
    {
     "data": {
      "text/plain": [
       "user_id  month\n",
       "1000     1         0\n",
       "         2         0\n",
       "         3         0\n",
       "         4         0\n",
       "         5        22\n",
       "         6        60\n",
       "         7        75\n",
       "         8        81\n",
       "         9        57\n",
       "         10       73\n",
       "         11       58\n",
       "         12       70\n",
       "1002     1         0\n",
       "         2         0\n",
       "         3         0\n",
       "dtype: int64"
      ]
     },
     "execution_count": 315,
     "metadata": {},
     "output_type": "execute_result"
    }
   ],
   "source": [
    "messages_grouped.head(15)"
   ]
  },
  {
   "cell_type": "markdown",
   "id": "a695ab57",
   "metadata": {},
   "source": [
    "<div class=\"alert alert-block alert-danger\">\n",
    " \n",
    "### Комментарий ревьюера\n",
    "    \n",
    "#### Ошибка\n",
    "    \n",
    "Достаточно интересный способ группировки таблиц, однако, он может родить дополнительные проблемы при подсчете выручки, так как у тебя сюда попадают месяца, где по расходам стоят 0. Лучше calls.pivot_table(index=['user_id', 'month'], values='duration', aggfunc=['count', 'sum']).reset_index()\n",
    "    \n",
    "    \n",
    "А еще, перед группировкой таблицы по звонкам тебе надо округлить длительность по звонкам. Лучше через метод np.ceil()\n",
    "    \n",
    "А по интернету лучше это делать после группировки.\n",
    "</div>"
   ]
  },
  {
   "cell_type": "markdown",
   "id": "35d1cb34",
   "metadata": {},
   "source": [
    " **<font color=\"maroon\">Изначально я группировала с помощью pivot_table, но в таком виде мне не удалось наладить работу функции gain_calculation. Она вовращала результат типа array, с которым ничего нельзя было сделать, даже перевести в скаляр. Пришлось перейти на groupby. Округление минут и Мб у меня в функции подсчета. Мне показалось так логичнее, потому что округление нужно только для рассчета, а сами данные я оставляю нетронутыми, вдруг еще понадобятся.</font>**\n",
    " \n",
    " "
   ]
  },
  {
   "cell_type": "markdown",
   "id": "565d59bd",
   "metadata": {},
   "source": [
    "<div class=\"alert alert-block alert-success\">\n",
    " \n",
    "# Комментарий ревьюера ver.2\n",
    "    \n",
    "#### Успех\n",
    "    \n",
    "Такой метод, который использовала ты, жизнеспособен, но достаточно сложный функционально. Он в большинстве своем приводит к большему количеству проблем и сложностей. Поэтому, я бы хотел, чтобы ты обращала внимание на это в будущем. \n",
    "</div>"
   ]
  },
  {
   "cell_type": "markdown",
   "id": "8c870d25",
   "metadata": {},
   "source": [
    " **<font color=\"maroon\">Внесла изменения в функцию ниже</font>**"
   ]
  },
  {
   "cell_type": "code",
   "execution_count": 316,
   "id": "62d176c6",
   "metadata": {},
   "outputs": [],
   "source": [
    "\n",
    "\n",
    "def gain_calculation(row, month):\n",
    "      \n",
    "    user_id=row['user_id']\n",
    "    tariff= row['tariff']\n",
    "    tariff_info=tariffs[tariffs['tariff_name']==str(tariff)]   \n",
    "    \n",
    "    try:\n",
    "        msg = messages_grouped[user_id,month].squeeze()\n",
    "    except:\n",
    "        msg=0\n",
    "    \n",
    "    try:\n",
    "        mins = np.ceil(calls_grouped[user_id,month].squeeze()) #берем в рассчет округленное значение\n",
    "    except:\n",
    "        mins=0\n",
    "    \n",
    "    try:\n",
    "        mb = np.ceil(internet_grouped[user_id,month].squeeze()/1024) #берем в рассчет округленное значение\n",
    "    except:\n",
    "        mb=0\n",
    "   \n",
    "    \n",
    "    msg_lim = tariff_info['messages_included'].squeeze()\n",
    "    min_lim = tariff_info['minutes_included'].squeeze()\n",
    "    mb_lim = tariff_info['mb_per_month_included'].squeeze()\n",
    "    \n",
    "    msg_fee = tariff_info['rub_per_message'].squeeze()\n",
    "    min_fee = tariff_info['rub_per_minute'].squeeze()\n",
    "    mb_fee = tariff_info['rub_per_gb'].squeeze() \n",
    "    \n",
    "    fee = tariff_info['rub_monthly_fee'].squeeze()\n",
    "    \n",
    "    if msg_lim>=msg:\n",
    "        msg_over = 0\n",
    "    else:\n",
    "        msg_over= msg-msg_lim\n",
    "    \n",
    "    if min_lim>=mins:\n",
    "        min_over = 0\n",
    "    else:\n",
    "        min_over= mins-min_lim  \n",
    "    \n",
    "    if mb_lim>=mb:\n",
    "        mb_over = 0\n",
    "    else:\n",
    "        mb_over= mb-mb_lim    \n",
    "        \n",
    "        \n",
    "   # вот здесь добавила еще параметр on, чтобы не считать абонентскую плату тем, кто еще не начал пользоваться\n",
    "\n",
    "    if mins+msg+mb==0:\n",
    "        on =0\n",
    "    else:\n",
    "        on=1\n",
    "    \n",
    "    gain = fee*on+msg_over*msg_fee+min_over*min_fee+mb_over*mb_fee # и тут домножение на on\n",
    "    \n",
    "    return gain\n",
    "    \n",
    "    "
   ]
  },
  {
   "cell_type": "markdown",
   "id": "ff08eccc",
   "metadata": {},
   "source": [
    "<div class=\"alert alert-block alert-success\">\n",
    " \n",
    "# Комментарий ревьюера ver.2\n",
    "    \n",
    "#### Успех\n",
    "    \n",
    "Так намного лучше  \n",
    "</div>"
   ]
  },
  {
   "cell_type": "code",
   "execution_count": 317,
   "id": "41e232f8",
   "metadata": {
    "scrolled": true
   },
   "outputs": [
    {
     "data": {
      "text/html": [
       "<div>\n",
       "<style scoped>\n",
       "    .dataframe tbody tr th:only-of-type {\n",
       "        vertical-align: middle;\n",
       "    }\n",
       "\n",
       "    .dataframe tbody tr th {\n",
       "        vertical-align: top;\n",
       "    }\n",
       "\n",
       "    .dataframe thead th {\n",
       "        text-align: right;\n",
       "    }\n",
       "</style>\n",
       "<table border=\"1\" class=\"dataframe\">\n",
       "  <thead>\n",
       "    <tr style=\"text-align: right;\">\n",
       "      <th></th>\n",
       "      <th></th>\n",
       "      <th>1</th>\n",
       "      <th>2</th>\n",
       "      <th>3</th>\n",
       "      <th>4</th>\n",
       "      <th>5</th>\n",
       "      <th>6</th>\n",
       "      <th>7</th>\n",
       "      <th>8</th>\n",
       "      <th>9</th>\n",
       "      <th>10</th>\n",
       "      <th>11</th>\n",
       "      <th>12</th>\n",
       "    </tr>\n",
       "    <tr>\n",
       "      <th>user_id</th>\n",
       "      <th>tariff</th>\n",
       "      <th></th>\n",
       "      <th></th>\n",
       "      <th></th>\n",
       "      <th></th>\n",
       "      <th></th>\n",
       "      <th></th>\n",
       "      <th></th>\n",
       "      <th></th>\n",
       "      <th></th>\n",
       "      <th></th>\n",
       "      <th></th>\n",
       "      <th></th>\n",
       "    </tr>\n",
       "  </thead>\n",
       "  <tbody>\n",
       "    <tr>\n",
       "      <th>1000</th>\n",
       "      <th>ultra</th>\n",
       "      <td>0</td>\n",
       "      <td>0</td>\n",
       "      <td>0</td>\n",
       "      <td>0</td>\n",
       "      <td>1950</td>\n",
       "      <td>1950</td>\n",
       "      <td>1950</td>\n",
       "      <td>1950</td>\n",
       "      <td>1950</td>\n",
       "      <td>1950</td>\n",
       "      <td>1950</td>\n",
       "      <td>1950</td>\n",
       "    </tr>\n",
       "    <tr>\n",
       "      <th>1001</th>\n",
       "      <th>smart</th>\n",
       "      <td>0</td>\n",
       "      <td>0</td>\n",
       "      <td>0</td>\n",
       "      <td>0</td>\n",
       "      <td>0</td>\n",
       "      <td>0</td>\n",
       "      <td>0</td>\n",
       "      <td>0</td>\n",
       "      <td>0</td>\n",
       "      <td>0</td>\n",
       "      <td>550</td>\n",
       "      <td>550</td>\n",
       "    </tr>\n",
       "    <tr>\n",
       "      <th>1002</th>\n",
       "      <th>smart</th>\n",
       "      <td>0</td>\n",
       "      <td>0</td>\n",
       "      <td>0</td>\n",
       "      <td>0</td>\n",
       "      <td>0</td>\n",
       "      <td>550</td>\n",
       "      <td>550</td>\n",
       "      <td>550</td>\n",
       "      <td>550</td>\n",
       "      <td>550</td>\n",
       "      <td>550</td>\n",
       "      <td>550</td>\n",
       "    </tr>\n",
       "    <tr>\n",
       "      <th>1003</th>\n",
       "      <th>ultra</th>\n",
       "      <td>0</td>\n",
       "      <td>0</td>\n",
       "      <td>0</td>\n",
       "      <td>0</td>\n",
       "      <td>0</td>\n",
       "      <td>0</td>\n",
       "      <td>0</td>\n",
       "      <td>1950</td>\n",
       "      <td>1950</td>\n",
       "      <td>1950</td>\n",
       "      <td>1950</td>\n",
       "      <td>1950</td>\n",
       "    </tr>\n",
       "    <tr>\n",
       "      <th>1004</th>\n",
       "      <th>ultra</th>\n",
       "      <td>0</td>\n",
       "      <td>0</td>\n",
       "      <td>0</td>\n",
       "      <td>0</td>\n",
       "      <td>1950</td>\n",
       "      <td>1950</td>\n",
       "      <td>1950</td>\n",
       "      <td>1950</td>\n",
       "      <td>1950</td>\n",
       "      <td>1950</td>\n",
       "      <td>1950</td>\n",
       "      <td>1950</td>\n",
       "    </tr>\n",
       "    <tr>\n",
       "      <th>...</th>\n",
       "      <th>...</th>\n",
       "      <td>...</td>\n",
       "      <td>...</td>\n",
       "      <td>...</td>\n",
       "      <td>...</td>\n",
       "      <td>...</td>\n",
       "      <td>...</td>\n",
       "      <td>...</td>\n",
       "      <td>...</td>\n",
       "      <td>...</td>\n",
       "      <td>...</td>\n",
       "      <td>...</td>\n",
       "      <td>...</td>\n",
       "    </tr>\n",
       "    <tr>\n",
       "      <th>1495</th>\n",
       "      <th>ultra</th>\n",
       "      <td>0</td>\n",
       "      <td>0</td>\n",
       "      <td>0</td>\n",
       "      <td>0</td>\n",
       "      <td>0</td>\n",
       "      <td>0</td>\n",
       "      <td>0</td>\n",
       "      <td>1950</td>\n",
       "      <td>1950</td>\n",
       "      <td>1950</td>\n",
       "      <td>1950</td>\n",
       "      <td>1950</td>\n",
       "    </tr>\n",
       "    <tr>\n",
       "      <th>1496</th>\n",
       "      <th>smart</th>\n",
       "      <td>550</td>\n",
       "      <td>550</td>\n",
       "      <td>550</td>\n",
       "      <td>550</td>\n",
       "      <td>550</td>\n",
       "      <td>550</td>\n",
       "      <td>550</td>\n",
       "      <td>550</td>\n",
       "      <td>550</td>\n",
       "      <td>550</td>\n",
       "      <td>550</td>\n",
       "      <td>553</td>\n",
       "    </tr>\n",
       "    <tr>\n",
       "      <th>1497</th>\n",
       "      <th>smart</th>\n",
       "      <td>0</td>\n",
       "      <td>0</td>\n",
       "      <td>0</td>\n",
       "      <td>0</td>\n",
       "      <td>0</td>\n",
       "      <td>0</td>\n",
       "      <td>0</td>\n",
       "      <td>0</td>\n",
       "      <td>0</td>\n",
       "      <td>550</td>\n",
       "      <td>550</td>\n",
       "      <td>550</td>\n",
       "    </tr>\n",
       "    <tr>\n",
       "      <th>1498</th>\n",
       "      <th>smart</th>\n",
       "      <td>0</td>\n",
       "      <td>0</td>\n",
       "      <td>0</td>\n",
       "      <td>0</td>\n",
       "      <td>0</td>\n",
       "      <td>0</td>\n",
       "      <td>550</td>\n",
       "      <td>586</td>\n",
       "      <td>550</td>\n",
       "      <td>550</td>\n",
       "      <td>0</td>\n",
       "      <td>0</td>\n",
       "    </tr>\n",
       "    <tr>\n",
       "      <th>1499</th>\n",
       "      <th>smart</th>\n",
       "      <td>0</td>\n",
       "      <td>0</td>\n",
       "      <td>0</td>\n",
       "      <td>0</td>\n",
       "      <td>0</td>\n",
       "      <td>0</td>\n",
       "      <td>0</td>\n",
       "      <td>0</td>\n",
       "      <td>550</td>\n",
       "      <td>550</td>\n",
       "      <td>577</td>\n",
       "      <td>598</td>\n",
       "    </tr>\n",
       "  </tbody>\n",
       "</table>\n",
       "<p>500 rows × 12 columns</p>\n",
       "</div>"
      ],
      "text/plain": [
       "                 1    2    3    4     5     6     7     8     9     10    11  \\\n",
       "user_id tariff                                                                 \n",
       "1000    ultra     0    0    0    0  1950  1950  1950  1950  1950  1950  1950   \n",
       "1001    smart     0    0    0    0     0     0     0     0     0     0   550   \n",
       "1002    smart     0    0    0    0     0   550   550   550   550   550   550   \n",
       "1003    ultra     0    0    0    0     0     0     0  1950  1950  1950  1950   \n",
       "1004    ultra     0    0    0    0  1950  1950  1950  1950  1950  1950  1950   \n",
       "...             ...  ...  ...  ...   ...   ...   ...   ...   ...   ...   ...   \n",
       "1495    ultra     0    0    0    0     0     0     0  1950  1950  1950  1950   \n",
       "1496    smart   550  550  550  550   550   550   550   550   550   550   550   \n",
       "1497    smart     0    0    0    0     0     0     0     0     0   550   550   \n",
       "1498    smart     0    0    0    0     0     0   550   586   550   550     0   \n",
       "1499    smart     0    0    0    0     0     0     0     0   550   550   577   \n",
       "\n",
       "                  12  \n",
       "user_id tariff        \n",
       "1000    ultra   1950  \n",
       "1001    smart    550  \n",
       "1002    smart    550  \n",
       "1003    ultra   1950  \n",
       "1004    ultra   1950  \n",
       "...              ...  \n",
       "1495    ultra   1950  \n",
       "1496    smart    553  \n",
       "1497    smart    550  \n",
       "1498    smart      0  \n",
       "1499    smart    598  \n",
       "\n",
       "[500 rows x 12 columns]"
      ]
     },
     "execution_count": 317,
     "metadata": {},
     "output_type": "execute_result"
    }
   ],
   "source": [
    "#новая таблица для хранения данных о помесячной плате для каждого абонента\n",
    "\n",
    "gain=pd.DataFrame()\n",
    "gain['user_id']=users['user_id']\n",
    "gain['tariff']=users['tariff']\n",
    "\n",
    "for i in range(1,13):\n",
    "    gain[i]=gain.apply(gain_calculation,month=i,axis=1)\n",
    "    \n",
    "    \n",
    "gain = gain.set_index(['user_id','tariff'])\n",
    "\n",
    "gain\n"
   ]
  },
  {
   "cell_type": "markdown",
   "id": "7f923b7d",
   "metadata": {},
   "source": [
    "<div class=\"alert alert-block alert-danger\">\n",
    " \n",
    "### Комментарий ревьюера\n",
    "    \n",
    "#### Ошибка\n",
    "    \n",
    "А вот тут видно, что рассчеты у тебя неправильные. Некоторые пользователи не начали пользоваться тарифом в начале года, а у тебя по каждому рассчет, будто с Января он уже был. \n",
    "\n",
    "Особенно это у тебя видно, если ты выведешь calls_grouped. Там по пользователю 1000 начинается расход только с 5 месяца. \n",
    "\n",
    "В общем, чтобы это все исправить, используй лучше тот способ, который я оставил выше. \n",
    "    \n",
    "После того, как ты верно сгруппируешь все таблицы, попробуй соединить их методом merge, а дальше уже функция по подсчету выручки.\n",
    "</div>"
   ]
  },
  {
   "cell_type": "markdown",
   "id": "776e54fe",
   "metadata": {},
   "source": [
    " **<font color=\"maroon\">Рассчеты поправила, но способ менять не стала)</font>**"
   ]
  },
  {
   "cell_type": "markdown",
   "id": "9f676b52",
   "metadata": {},
   "source": [
    "<div class=\"alert alert-block alert-success\">\n",
    " \n",
    "# Комментарий ревьюера ver.2\n",
    "    \n",
    "#### Успех\n",
    "    \n",
    "Сейчас корректно  \n",
    "</div>"
   ]
  },
  {
   "cell_type": "code",
   "execution_count": 318,
   "id": "2fc9b558",
   "metadata": {},
   "outputs": [
    {
     "data": {
      "text/html": [
       "<div>\n",
       "<style scoped>\n",
       "    .dataframe tbody tr th:only-of-type {\n",
       "        vertical-align: middle;\n",
       "    }\n",
       "\n",
       "    .dataframe tbody tr th {\n",
       "        vertical-align: top;\n",
       "    }\n",
       "\n",
       "    .dataframe thead th {\n",
       "        text-align: right;\n",
       "    }\n",
       "</style>\n",
       "<table border=\"1\" class=\"dataframe\">\n",
       "  <thead>\n",
       "    <tr style=\"text-align: right;\">\n",
       "      <th></th>\n",
       "      <th></th>\n",
       "      <th>1</th>\n",
       "      <th>2</th>\n",
       "      <th>3</th>\n",
       "      <th>4</th>\n",
       "      <th>5</th>\n",
       "      <th>6</th>\n",
       "      <th>7</th>\n",
       "      <th>8</th>\n",
       "      <th>9</th>\n",
       "      <th>10</th>\n",
       "      <th>11</th>\n",
       "      <th>12</th>\n",
       "      <th>mean</th>\n",
       "    </tr>\n",
       "    <tr>\n",
       "      <th>user_id</th>\n",
       "      <th>tariff</th>\n",
       "      <th></th>\n",
       "      <th></th>\n",
       "      <th></th>\n",
       "      <th></th>\n",
       "      <th></th>\n",
       "      <th></th>\n",
       "      <th></th>\n",
       "      <th></th>\n",
       "      <th></th>\n",
       "      <th></th>\n",
       "      <th></th>\n",
       "      <th></th>\n",
       "      <th></th>\n",
       "    </tr>\n",
       "  </thead>\n",
       "  <tbody>\n",
       "    <tr>\n",
       "      <th>1000</th>\n",
       "      <th>ultra</th>\n",
       "      <td>0</td>\n",
       "      <td>0</td>\n",
       "      <td>0</td>\n",
       "      <td>0</td>\n",
       "      <td>1950</td>\n",
       "      <td>1950</td>\n",
       "      <td>1950</td>\n",
       "      <td>1950</td>\n",
       "      <td>1950</td>\n",
       "      <td>1950</td>\n",
       "      <td>1950</td>\n",
       "      <td>1950</td>\n",
       "      <td>1950.00</td>\n",
       "    </tr>\n",
       "    <tr>\n",
       "      <th>1001</th>\n",
       "      <th>smart</th>\n",
       "      <td>0</td>\n",
       "      <td>0</td>\n",
       "      <td>0</td>\n",
       "      <td>0</td>\n",
       "      <td>0</td>\n",
       "      <td>0</td>\n",
       "      <td>0</td>\n",
       "      <td>0</td>\n",
       "      <td>0</td>\n",
       "      <td>0</td>\n",
       "      <td>550</td>\n",
       "      <td>550</td>\n",
       "      <td>550.00</td>\n",
       "    </tr>\n",
       "    <tr>\n",
       "      <th>1002</th>\n",
       "      <th>smart</th>\n",
       "      <td>0</td>\n",
       "      <td>0</td>\n",
       "      <td>0</td>\n",
       "      <td>0</td>\n",
       "      <td>0</td>\n",
       "      <td>550</td>\n",
       "      <td>550</td>\n",
       "      <td>550</td>\n",
       "      <td>550</td>\n",
       "      <td>550</td>\n",
       "      <td>550</td>\n",
       "      <td>550</td>\n",
       "      <td>550.00</td>\n",
       "    </tr>\n",
       "    <tr>\n",
       "      <th>1003</th>\n",
       "      <th>ultra</th>\n",
       "      <td>0</td>\n",
       "      <td>0</td>\n",
       "      <td>0</td>\n",
       "      <td>0</td>\n",
       "      <td>0</td>\n",
       "      <td>0</td>\n",
       "      <td>0</td>\n",
       "      <td>1950</td>\n",
       "      <td>1950</td>\n",
       "      <td>1950</td>\n",
       "      <td>1950</td>\n",
       "      <td>1950</td>\n",
       "      <td>1950.00</td>\n",
       "    </tr>\n",
       "    <tr>\n",
       "      <th>1004</th>\n",
       "      <th>ultra</th>\n",
       "      <td>0</td>\n",
       "      <td>0</td>\n",
       "      <td>0</td>\n",
       "      <td>0</td>\n",
       "      <td>1950</td>\n",
       "      <td>1950</td>\n",
       "      <td>1950</td>\n",
       "      <td>1950</td>\n",
       "      <td>1950</td>\n",
       "      <td>1950</td>\n",
       "      <td>1950</td>\n",
       "      <td>1950</td>\n",
       "      <td>1950.00</td>\n",
       "    </tr>\n",
       "    <tr>\n",
       "      <th>...</th>\n",
       "      <th>...</th>\n",
       "      <td>...</td>\n",
       "      <td>...</td>\n",
       "      <td>...</td>\n",
       "      <td>...</td>\n",
       "      <td>...</td>\n",
       "      <td>...</td>\n",
       "      <td>...</td>\n",
       "      <td>...</td>\n",
       "      <td>...</td>\n",
       "      <td>...</td>\n",
       "      <td>...</td>\n",
       "      <td>...</td>\n",
       "      <td>...</td>\n",
       "    </tr>\n",
       "    <tr>\n",
       "      <th>1495</th>\n",
       "      <th>ultra</th>\n",
       "      <td>0</td>\n",
       "      <td>0</td>\n",
       "      <td>0</td>\n",
       "      <td>0</td>\n",
       "      <td>0</td>\n",
       "      <td>0</td>\n",
       "      <td>0</td>\n",
       "      <td>1950</td>\n",
       "      <td>1950</td>\n",
       "      <td>1950</td>\n",
       "      <td>1950</td>\n",
       "      <td>1950</td>\n",
       "      <td>1950.00</td>\n",
       "    </tr>\n",
       "    <tr>\n",
       "      <th>1496</th>\n",
       "      <th>smart</th>\n",
       "      <td>550</td>\n",
       "      <td>550</td>\n",
       "      <td>550</td>\n",
       "      <td>550</td>\n",
       "      <td>550</td>\n",
       "      <td>550</td>\n",
       "      <td>550</td>\n",
       "      <td>550</td>\n",
       "      <td>550</td>\n",
       "      <td>550</td>\n",
       "      <td>550</td>\n",
       "      <td>553</td>\n",
       "      <td>550.25</td>\n",
       "    </tr>\n",
       "    <tr>\n",
       "      <th>1497</th>\n",
       "      <th>smart</th>\n",
       "      <td>0</td>\n",
       "      <td>0</td>\n",
       "      <td>0</td>\n",
       "      <td>0</td>\n",
       "      <td>0</td>\n",
       "      <td>0</td>\n",
       "      <td>0</td>\n",
       "      <td>0</td>\n",
       "      <td>0</td>\n",
       "      <td>550</td>\n",
       "      <td>550</td>\n",
       "      <td>550</td>\n",
       "      <td>550.00</td>\n",
       "    </tr>\n",
       "    <tr>\n",
       "      <th>1498</th>\n",
       "      <th>smart</th>\n",
       "      <td>0</td>\n",
       "      <td>0</td>\n",
       "      <td>0</td>\n",
       "      <td>0</td>\n",
       "      <td>0</td>\n",
       "      <td>0</td>\n",
       "      <td>550</td>\n",
       "      <td>586</td>\n",
       "      <td>550</td>\n",
       "      <td>550</td>\n",
       "      <td>0</td>\n",
       "      <td>0</td>\n",
       "      <td>559.00</td>\n",
       "    </tr>\n",
       "    <tr>\n",
       "      <th>1499</th>\n",
       "      <th>smart</th>\n",
       "      <td>0</td>\n",
       "      <td>0</td>\n",
       "      <td>0</td>\n",
       "      <td>0</td>\n",
       "      <td>0</td>\n",
       "      <td>0</td>\n",
       "      <td>0</td>\n",
       "      <td>0</td>\n",
       "      <td>550</td>\n",
       "      <td>550</td>\n",
       "      <td>577</td>\n",
       "      <td>598</td>\n",
       "      <td>568.75</td>\n",
       "    </tr>\n",
       "  </tbody>\n",
       "</table>\n",
       "<p>500 rows × 13 columns</p>\n",
       "</div>"
      ],
      "text/plain": [
       "                  1    2    3    4     5     6     7     8     9    10    11  \\\n",
       "user_id tariff                                                                 \n",
       "1000    ultra     0    0    0    0  1950  1950  1950  1950  1950  1950  1950   \n",
       "1001    smart     0    0    0    0     0     0     0     0     0     0   550   \n",
       "1002    smart     0    0    0    0     0   550   550   550   550   550   550   \n",
       "1003    ultra     0    0    0    0     0     0     0  1950  1950  1950  1950   \n",
       "1004    ultra     0    0    0    0  1950  1950  1950  1950  1950  1950  1950   \n",
       "...             ...  ...  ...  ...   ...   ...   ...   ...   ...   ...   ...   \n",
       "1495    ultra     0    0    0    0     0     0     0  1950  1950  1950  1950   \n",
       "1496    smart   550  550  550  550   550   550   550   550   550   550   550   \n",
       "1497    smart     0    0    0    0     0     0     0     0     0   550   550   \n",
       "1498    smart     0    0    0    0     0     0   550   586   550   550     0   \n",
       "1499    smart     0    0    0    0     0     0     0     0   550   550   577   \n",
       "\n",
       "                  12     mean  \n",
       "user_id tariff                 \n",
       "1000    ultra   1950  1950.00  \n",
       "1001    smart    550   550.00  \n",
       "1002    smart    550   550.00  \n",
       "1003    ultra   1950  1950.00  \n",
       "1004    ultra   1950  1950.00  \n",
       "...              ...      ...  \n",
       "1495    ultra   1950  1950.00  \n",
       "1496    smart    553   550.25  \n",
       "1497    smart    550   550.00  \n",
       "1498    smart      0   559.00  \n",
       "1499    smart    598   568.75  \n",
       "\n",
       "[500 rows x 13 columns]"
      ]
     },
     "execution_count": 318,
     "metadata": {},
     "output_type": "execute_result"
    }
   ],
   "source": [
    "\n",
    "# расчет средней месячной платы\n",
    "gain['mean']=gain[gain[:]!=0].mean(axis=1)\n",
    "gain"
   ]
  },
  {
   "cell_type": "markdown",
   "id": "838adae4",
   "metadata": {},
   "source": [
    "# Анализ данных"
   ]
  },
  {
   "cell_type": "markdown",
   "id": "b87a7d6a",
   "metadata": {},
   "source": [
    "Для дальнейшего анализа удобнее сделать сводные таблицы по звонкаи, сообщениям и интернет-сессиям"
   ]
  },
  {
   "cell_type": "code",
   "execution_count": 319,
   "id": "b64cd61b",
   "metadata": {
    "scrolled": true
   },
   "outputs": [],
   "source": [
    "#количество сделанных звонков и израсходованных минут разговора по месяцам\n",
    "calls_pivot = calls.pivot_table(index='user_id',\n",
    "                                columns='month', \n",
    "                                values = 'duration', \n",
    "                                aggfunc=['sum'],\n",
    "                                fill_value=0)\n",
    "\n",
    "#количество отправленных сообщений по месяцам\n",
    "messages_pivot = messages.pivot_table(index=['user_id'],\n",
    "                                      columns='month', \n",
    "                                      values = 'id',\n",
    "                                      aggfunc=['count'],\n",
    "                                      fill_value=0,\n",
    "                                      )\n",
    "\n",
    "#объем израсходованного интернет-трафика по месяцам\n",
    "internet_pivot = internet.pivot_table(index='user_id',\n",
    "                                      columns='month', \n",
    "                                      values = 'mb_used',\n",
    "                                      aggfunc=['sum'],\n",
    "                                      fill_value=0,)\n"
   ]
  },
  {
   "cell_type": "code",
   "execution_count": 320,
   "id": "8c8af86b",
   "metadata": {},
   "outputs": [],
   "source": [
    "messages_pivot.columns = messages_pivot.columns.droplevel(0)\n",
    "calls_pivot.columns = calls_pivot.columns.droplevel(0)\n",
    "internet_pivot.columns = internet_pivot.columns.droplevel(0)"
   ]
  },
  {
   "cell_type": "markdown",
   "id": "f40d243a",
   "metadata": {},
   "source": [
    "## Количество сообщений пользователей двух тарифов"
   ]
  },
  {
   "cell_type": "code",
   "execution_count": 321,
   "id": "c37b59a7",
   "metadata": {},
   "outputs": [
    {
     "data": {
      "text/html": [
       "<div>\n",
       "<style scoped>\n",
       "    .dataframe tbody tr th:only-of-type {\n",
       "        vertical-align: middle;\n",
       "    }\n",
       "\n",
       "    .dataframe tbody tr th {\n",
       "        vertical-align: top;\n",
       "    }\n",
       "\n",
       "    .dataframe thead th {\n",
       "        text-align: right;\n",
       "    }\n",
       "</style>\n",
       "<table border=\"1\" class=\"dataframe\">\n",
       "  <thead>\n",
       "    <tr style=\"text-align: right;\">\n",
       "      <th></th>\n",
       "      <th>user_id</th>\n",
       "      <th>1</th>\n",
       "      <th>2</th>\n",
       "      <th>3</th>\n",
       "      <th>4</th>\n",
       "      <th>5</th>\n",
       "      <th>6</th>\n",
       "      <th>7</th>\n",
       "      <th>8</th>\n",
       "      <th>9</th>\n",
       "      <th>10</th>\n",
       "      <th>11</th>\n",
       "      <th>12</th>\n",
       "      <th>mean</th>\n",
       "      <th>tariff</th>\n",
       "    </tr>\n",
       "  </thead>\n",
       "  <tbody>\n",
       "    <tr>\n",
       "      <th>0</th>\n",
       "      <td>1000</td>\n",
       "      <td>0</td>\n",
       "      <td>0</td>\n",
       "      <td>0</td>\n",
       "      <td>0</td>\n",
       "      <td>22</td>\n",
       "      <td>60</td>\n",
       "      <td>75</td>\n",
       "      <td>81</td>\n",
       "      <td>57</td>\n",
       "      <td>73</td>\n",
       "      <td>58</td>\n",
       "      <td>70</td>\n",
       "      <td>41.333333</td>\n",
       "      <td>ultra</td>\n",
       "    </tr>\n",
       "    <tr>\n",
       "      <th>1</th>\n",
       "      <td>1002</td>\n",
       "      <td>0</td>\n",
       "      <td>0</td>\n",
       "      <td>0</td>\n",
       "      <td>0</td>\n",
       "      <td>0</td>\n",
       "      <td>4</td>\n",
       "      <td>11</td>\n",
       "      <td>13</td>\n",
       "      <td>4</td>\n",
       "      <td>10</td>\n",
       "      <td>16</td>\n",
       "      <td>12</td>\n",
       "      <td>5.833333</td>\n",
       "      <td>smart</td>\n",
       "    </tr>\n",
       "    <tr>\n",
       "      <th>2</th>\n",
       "      <td>1003</td>\n",
       "      <td>0</td>\n",
       "      <td>0</td>\n",
       "      <td>0</td>\n",
       "      <td>0</td>\n",
       "      <td>0</td>\n",
       "      <td>0</td>\n",
       "      <td>0</td>\n",
       "      <td>37</td>\n",
       "      <td>91</td>\n",
       "      <td>83</td>\n",
       "      <td>94</td>\n",
       "      <td>75</td>\n",
       "      <td>31.666667</td>\n",
       "      <td>ultra</td>\n",
       "    </tr>\n",
       "    <tr>\n",
       "      <th>3</th>\n",
       "      <td>1004</td>\n",
       "      <td>0</td>\n",
       "      <td>0</td>\n",
       "      <td>0</td>\n",
       "      <td>0</td>\n",
       "      <td>95</td>\n",
       "      <td>134</td>\n",
       "      <td>181</td>\n",
       "      <td>151</td>\n",
       "      <td>146</td>\n",
       "      <td>165</td>\n",
       "      <td>158</td>\n",
       "      <td>162</td>\n",
       "      <td>99.333333</td>\n",
       "      <td>ultra</td>\n",
       "    </tr>\n",
       "    <tr>\n",
       "      <th>4</th>\n",
       "      <td>1005</td>\n",
       "      <td>7</td>\n",
       "      <td>38</td>\n",
       "      <td>56</td>\n",
       "      <td>41</td>\n",
       "      <td>42</td>\n",
       "      <td>47</td>\n",
       "      <td>56</td>\n",
       "      <td>64</td>\n",
       "      <td>52</td>\n",
       "      <td>44</td>\n",
       "      <td>51</td>\n",
       "      <td>54</td>\n",
       "      <td>46.000000</td>\n",
       "      <td>smart</td>\n",
       "    </tr>\n",
       "    <tr>\n",
       "      <th>...</th>\n",
       "      <td>...</td>\n",
       "      <td>...</td>\n",
       "      <td>...</td>\n",
       "      <td>...</td>\n",
       "      <td>...</td>\n",
       "      <td>...</td>\n",
       "      <td>...</td>\n",
       "      <td>...</td>\n",
       "      <td>...</td>\n",
       "      <td>...</td>\n",
       "      <td>...</td>\n",
       "      <td>...</td>\n",
       "      <td>...</td>\n",
       "      <td>...</td>\n",
       "      <td>...</td>\n",
       "    </tr>\n",
       "    <tr>\n",
       "      <th>421</th>\n",
       "      <td>1495</td>\n",
       "      <td>0</td>\n",
       "      <td>0</td>\n",
       "      <td>0</td>\n",
       "      <td>0</td>\n",
       "      <td>0</td>\n",
       "      <td>0</td>\n",
       "      <td>0</td>\n",
       "      <td>13</td>\n",
       "      <td>82</td>\n",
       "      <td>82</td>\n",
       "      <td>79</td>\n",
       "      <td>84</td>\n",
       "      <td>28.333333</td>\n",
       "      <td>ultra</td>\n",
       "    </tr>\n",
       "    <tr>\n",
       "      <th>422</th>\n",
       "      <td>1496</td>\n",
       "      <td>9</td>\n",
       "      <td>45</td>\n",
       "      <td>46</td>\n",
       "      <td>49</td>\n",
       "      <td>40</td>\n",
       "      <td>35</td>\n",
       "      <td>42</td>\n",
       "      <td>41</td>\n",
       "      <td>29</td>\n",
       "      <td>35</td>\n",
       "      <td>46</td>\n",
       "      <td>51</td>\n",
       "      <td>39.000000</td>\n",
       "      <td>smart</td>\n",
       "    </tr>\n",
       "    <tr>\n",
       "      <th>423</th>\n",
       "      <td>1497</td>\n",
       "      <td>0</td>\n",
       "      <td>0</td>\n",
       "      <td>0</td>\n",
       "      <td>0</td>\n",
       "      <td>0</td>\n",
       "      <td>0</td>\n",
       "      <td>0</td>\n",
       "      <td>0</td>\n",
       "      <td>0</td>\n",
       "      <td>20</td>\n",
       "      <td>14</td>\n",
       "      <td>17</td>\n",
       "      <td>4.250000</td>\n",
       "      <td>smart</td>\n",
       "    </tr>\n",
       "    <tr>\n",
       "      <th>424</th>\n",
       "      <td>1498</td>\n",
       "      <td>0</td>\n",
       "      <td>0</td>\n",
       "      <td>0</td>\n",
       "      <td>0</td>\n",
       "      <td>0</td>\n",
       "      <td>0</td>\n",
       "      <td>20</td>\n",
       "      <td>62</td>\n",
       "      <td>44</td>\n",
       "      <td>42</td>\n",
       "      <td>0</td>\n",
       "      <td>0</td>\n",
       "      <td>14.000000</td>\n",
       "      <td>smart</td>\n",
       "    </tr>\n",
       "    <tr>\n",
       "      <th>425</th>\n",
       "      <td>1499</td>\n",
       "      <td>0</td>\n",
       "      <td>0</td>\n",
       "      <td>0</td>\n",
       "      <td>0</td>\n",
       "      <td>0</td>\n",
       "      <td>0</td>\n",
       "      <td>0</td>\n",
       "      <td>0</td>\n",
       "      <td>11</td>\n",
       "      <td>48</td>\n",
       "      <td>59</td>\n",
       "      <td>66</td>\n",
       "      <td>15.333333</td>\n",
       "      <td>smart</td>\n",
       "    </tr>\n",
       "  </tbody>\n",
       "</table>\n",
       "<p>426 rows × 15 columns</p>\n",
       "</div>"
      ],
      "text/plain": [
       "     user_id  1   2   3   4   5    6    7    8    9   10   11   12       mean  \\\n",
       "0       1000  0   0   0   0  22   60   75   81   57   73   58   70  41.333333   \n",
       "1       1002  0   0   0   0   0    4   11   13    4   10   16   12   5.833333   \n",
       "2       1003  0   0   0   0   0    0    0   37   91   83   94   75  31.666667   \n",
       "3       1004  0   0   0   0  95  134  181  151  146  165  158  162  99.333333   \n",
       "4       1005  7  38  56  41  42   47   56   64   52   44   51   54  46.000000   \n",
       "..       ... ..  ..  ..  ..  ..  ...  ...  ...  ...  ...  ...  ...        ...   \n",
       "421     1495  0   0   0   0   0    0    0   13   82   82   79   84  28.333333   \n",
       "422     1496  9  45  46  49  40   35   42   41   29   35   46   51  39.000000   \n",
       "423     1497  0   0   0   0   0    0    0    0    0   20   14   17   4.250000   \n",
       "424     1498  0   0   0   0   0    0   20   62   44   42    0    0  14.000000   \n",
       "425     1499  0   0   0   0   0    0    0    0   11   48   59   66  15.333333   \n",
       "\n",
       "    tariff  \n",
       "0    ultra  \n",
       "1    smart  \n",
       "2    ultra  \n",
       "3    ultra  \n",
       "4    smart  \n",
       "..     ...  \n",
       "421  ultra  \n",
       "422  smart  \n",
       "423  smart  \n",
       "424  smart  \n",
       "425  smart  \n",
       "\n",
       "[426 rows x 15 columns]"
      ]
     },
     "execution_count": 321,
     "metadata": {},
     "output_type": "execute_result"
    }
   ],
   "source": [
    "#Добавляем расчет среднего \n",
    "messages_pivot['mean']=messages_pivot.mean(axis=1)\n",
    "messages_pivot = messages_pivot.merge(users[['user_id','tariff']],on='user_id', how='left')\n",
    "messages_pivot "
   ]
  },
  {
   "cell_type": "code",
   "execution_count": 322,
   "id": "527cd437",
   "metadata": {},
   "outputs": [
    {
     "data": {
      "text/plain": [
       "count    426.000000\n",
       "mean      24.068075\n",
       "std       22.300629\n",
       "min        0.083333\n",
       "25%        7.145833\n",
       "50%       17.958333\n",
       "75%       34.500000\n",
       "max      121.916667\n",
       "Name: mean, dtype: float64"
      ]
     },
     "execution_count": 322,
     "metadata": {},
     "output_type": "execute_result"
    },
    {
     "data": {
      "image/png": "[encoded data removed]",
      "text/plain": [
       "<Figure size 432x288 with 1 Axes>"
      ]
     },
     "metadata": {
      "needs_background": "light"
     },
     "output_type": "display_data"
    }
   ],
   "source": [
    "messages_pivot['mean'].hist(bins=50)\n",
    "messages_pivot['mean'].describe()"
   ]
  },
  {
   "cell_type": "markdown",
   "id": "e2fefcd4",
   "metadata": {},
   "source": [
    "<div class=\"alert alert-block alert-success\">\n",
    " \n",
    "### Комментарий ревьюера\n",
    "    \n",
    "#### Успех\n",
    "    \n",
    "График хороший получился\n",
    "</div>"
   ]
  },
  {
   "cell_type": "code",
   "execution_count": 323,
   "id": "86d11d68",
   "metadata": {},
   "outputs": [
    {
     "data": {
      "text/html": [
       "<div>\n",
       "<style scoped>\n",
       "    .dataframe tbody tr th:only-of-type {\n",
       "        vertical-align: middle;\n",
       "    }\n",
       "\n",
       "    .dataframe tbody tr th {\n",
       "        vertical-align: top;\n",
       "    }\n",
       "\n",
       "    .dataframe thead th {\n",
       "        text-align: right;\n",
       "    }\n",
       "</style>\n",
       "<table border=\"1\" class=\"dataframe\">\n",
       "  <thead>\n",
       "    <tr style=\"text-align: right;\">\n",
       "      <th></th>\n",
       "      <th>user_id</th>\n",
       "      <th>1</th>\n",
       "      <th>2</th>\n",
       "      <th>3</th>\n",
       "      <th>4</th>\n",
       "      <th>5</th>\n",
       "      <th>6</th>\n",
       "      <th>7</th>\n",
       "      <th>8</th>\n",
       "      <th>9</th>\n",
       "      <th>10</th>\n",
       "      <th>11</th>\n",
       "      <th>12</th>\n",
       "      <th>mean</th>\n",
       "    </tr>\n",
       "    <tr>\n",
       "      <th>tariff</th>\n",
       "      <th></th>\n",
       "      <th></th>\n",
       "      <th></th>\n",
       "      <th></th>\n",
       "      <th></th>\n",
       "      <th></th>\n",
       "      <th></th>\n",
       "      <th></th>\n",
       "      <th></th>\n",
       "      <th></th>\n",
       "      <th></th>\n",
       "      <th></th>\n",
       "      <th></th>\n",
       "      <th></th>\n",
       "    </tr>\n",
       "  </thead>\n",
       "  <tbody>\n",
       "    <tr>\n",
       "      <th>smart</th>\n",
       "      <td>1245.301325</td>\n",
       "      <td>2.052980</td>\n",
       "      <td>4.625828</td>\n",
       "      <td>8.122517</td>\n",
       "      <td>11.400662</td>\n",
       "      <td>15.768212</td>\n",
       "      <td>18.139073</td>\n",
       "      <td>22.463576</td>\n",
       "      <td>26.175497</td>\n",
       "      <td>28.960265</td>\n",
       "      <td>32.870861</td>\n",
       "      <td>35.655629</td>\n",
       "      <td>40.165563</td>\n",
       "      <td>20.533389</td>\n",
       "    </tr>\n",
       "    <tr>\n",
       "      <th>ultra</th>\n",
       "      <td>1269.677419</td>\n",
       "      <td>2.451613</td>\n",
       "      <td>4.250000</td>\n",
       "      <td>9.637097</td>\n",
       "      <td>14.000000</td>\n",
       "      <td>20.451613</td>\n",
       "      <td>28.266129</td>\n",
       "      <td>36.580645</td>\n",
       "      <td>41.798387</td>\n",
       "      <td>48.491935</td>\n",
       "      <td>57.959677</td>\n",
       "      <td>60.290323</td>\n",
       "      <td>67.943548</td>\n",
       "      <td>32.676747</td>\n",
       "    </tr>\n",
       "  </tbody>\n",
       "</table>\n",
       "</div>"
      ],
      "text/plain": [
       "            user_id         1         2         3          4          5  \\\n",
       "tariff                                                                    \n",
       "smart   1245.301325  2.052980  4.625828  8.122517  11.400662  15.768212   \n",
       "ultra   1269.677419  2.451613  4.250000  9.637097  14.000000  20.451613   \n",
       "\n",
       "                6          7          8          9         10         11  \\\n",
       "tariff                                                                     \n",
       "smart   18.139073  22.463576  26.175497  28.960265  32.870861  35.655629   \n",
       "ultra   28.266129  36.580645  41.798387  48.491935  57.959677  60.290323   \n",
       "\n",
       "               12       mean  \n",
       "tariff                        \n",
       "smart   40.165563  20.533389  \n",
       "ultra   67.943548  32.676747  "
      ]
     },
     "execution_count": 323,
     "metadata": {},
     "output_type": "execute_result"
    }
   ],
   "source": [
    "#группировка по двум тарифам\n",
    "\n",
    "messages_pivot.groupby('tariff').mean()"
   ]
  },
  {
   "cell_type": "code",
   "execution_count": 324,
   "id": "0da4d223",
   "metadata": {},
   "outputs": [
    {
     "data": {
      "text/plain": [
       "count    302.000000\n",
       "mean      20.533389\n",
       "std       18.532110\n",
       "min        0.083333\n",
       "25%        6.250000\n",
       "50%       15.000000\n",
       "75%       29.895833\n",
       "max       91.000000\n",
       "Name: mean, dtype: float64"
      ]
     },
     "metadata": {},
     "output_type": "display_data"
    },
    {
     "data": {
      "text/plain": [
       "count    124.000000\n",
       "mean      32.676747\n",
       "std       27.794582\n",
       "min        0.666667\n",
       "25%       12.458333\n",
       "50%       24.625000\n",
       "75%       43.437500\n",
       "max      121.916667\n",
       "Name: mean, dtype: float64"
      ]
     },
     "metadata": {},
     "output_type": "display_data"
    },
    {
     "data": {
      "text/plain": [
       "<AxesSubplot:>"
      ]
     },
     "execution_count": 324,
     "metadata": {},
     "output_type": "execute_result"
    },
    {
     "data": {
      "image/png": "[encoded data removed]",
      "text/plain": [
       "<Figure size 432x288 with 1 Axes>"
      ]
     },
     "metadata": {
      "needs_background": "light"
     },
     "output_type": "display_data"
    }
   ],
   "source": [
    "#сравнение средних и распределений\n",
    "\n",
    "display(messages_pivot[messages_pivot['tariff']=='smart']['mean'].describe())\n",
    "display(messages_pivot[messages_pivot['tariff']=='ultra']['mean'].describe())\n",
    "messages_pivot[messages_pivot['tariff']=='smart']['mean'].hist(bins=30)\n",
    "messages_pivot[messages_pivot['tariff']=='ultra']['mean'].hist(bins=30)"
   ]
  },
  {
   "cell_type": "markdown",
   "id": "8ce0ffd8",
   "metadata": {},
   "source": [
    "<div class=\"alert alert-block alert-warning\">\n",
    " \n",
    "### Комментарий ревьюера\n",
    "    \n",
    "####  Совет\n",
    "    \n",
    "Здорово, что решила показать разницу по двум тарифам не одном графике, но надо подписать легенды, чтобы нам сразу было понятно, где какой тариф находится. \n",
    "</div>"
   ]
  },
  {
   "cell_type": "markdown",
   "id": "f42b3b48",
   "metadata": {},
   "source": [
    "Из сравнения распределений видно, что пользователи двух тарифов отправляют разные количества сообщений. Для строгости проверим нулевую гипотезу:\n",
    "\n",
    "Н_0 среднее количество сообщений пользователей тарифа \"Ультра\" равно среднему количеству сообщений ползьователей тарифа \"Смарт\"\n",
    "\n",
    "Альтернативная гипотеза: \n",
    "Н_1 среднее количество сообщений пользователей тарифа \"Ультра\" не равно среднему количеству сообщений ползьователей тарифа \"Смарт\"\n",
    "\n"
   ]
  },
  {
   "cell_type": "code",
   "execution_count": 325,
   "id": "daa4d86f",
   "metadata": {},
   "outputs": [
    {
     "data": {
      "text/plain": [
       "Ttest_indResult(statistic=-4.473862885300851, pvalue=1.4028987870419034e-05)"
      ]
     },
     "execution_count": 325,
     "metadata": {},
     "output_type": "execute_result"
    }
   ],
   "source": [
    "\n",
    "#Проверка гипотезы о равенстве среднего двух генеральных совокупностей по взятым из них выборкам\n",
    "st.ttest_ind(messages_pivot[messages_pivot['tariff']=='smart']['mean'], \n",
    "             messages_pivot[messages_pivot['tariff']=='ultra']['mean'], \n",
    "             equal_var = False)"
   ]
  },
  {
   "cell_type": "markdown",
   "id": "e6d585f1",
   "metadata": {},
   "source": [
    "p-value меньше 1%. Вероятность получить такое или большее различие по двум выборкам почти нулевая. Можно сказать, что среднее количество сообщений пользователей тарфиов Ультра и Смарт не равно"
   ]
  },
  {
   "cell_type": "markdown",
   "id": "d59d0c99",
   "metadata": {},
   "source": [
    "<div class=\"alert alert-block alert-success\">\n",
    " \n",
    "### Комментарий ревьюера\n",
    "    \n",
    "#### Успех\n",
    "    \n",
    "Классно, что решила на это посмотреть. \n",
    "</div>"
   ]
  },
  {
   "cell_type": "markdown",
   "id": "ca6de006",
   "metadata": {},
   "source": [
    "## Интернет-трафик пользователей разных тарифов"
   ]
  },
  {
   "cell_type": "code",
   "execution_count": 326,
   "id": "2bee239d",
   "metadata": {},
   "outputs": [
    {
     "data": {
      "text/html": [
       "<div>\n",
       "<style scoped>\n",
       "    .dataframe tbody tr th:only-of-type {\n",
       "        vertical-align: middle;\n",
       "    }\n",
       "\n",
       "    .dataframe tbody tr th {\n",
       "        vertical-align: top;\n",
       "    }\n",
       "\n",
       "    .dataframe thead th {\n",
       "        text-align: right;\n",
       "    }\n",
       "</style>\n",
       "<table border=\"1\" class=\"dataframe\">\n",
       "  <thead>\n",
       "    <tr style=\"text-align: right;\">\n",
       "      <th></th>\n",
       "      <th>user_id</th>\n",
       "      <th>1</th>\n",
       "      <th>2</th>\n",
       "      <th>3</th>\n",
       "      <th>4</th>\n",
       "      <th>5</th>\n",
       "      <th>6</th>\n",
       "      <th>7</th>\n",
       "      <th>8</th>\n",
       "      <th>9</th>\n",
       "      <th>10</th>\n",
       "      <th>11</th>\n",
       "      <th>12</th>\n",
       "      <th>mean</th>\n",
       "      <th>tariff</th>\n",
       "    </tr>\n",
       "  </thead>\n",
       "  <tbody>\n",
       "    <tr>\n",
       "      <th>0</th>\n",
       "      <td>1000</td>\n",
       "      <td>0.0</td>\n",
       "      <td>0.0</td>\n",
       "      <td>0.0</td>\n",
       "      <td>0.0</td>\n",
       "      <td>3.0</td>\n",
       "      <td>23.0</td>\n",
       "      <td>14.0</td>\n",
       "      <td>14.0</td>\n",
       "      <td>15.0</td>\n",
       "      <td>15.0</td>\n",
       "      <td>15.0</td>\n",
       "      <td>10.0</td>\n",
       "      <td>13.625000</td>\n",
       "      <td>ultra</td>\n",
       "    </tr>\n",
       "    <tr>\n",
       "      <th>1</th>\n",
       "      <td>1001</td>\n",
       "      <td>0.0</td>\n",
       "      <td>0.0</td>\n",
       "      <td>0.0</td>\n",
       "      <td>0.0</td>\n",
       "      <td>0.0</td>\n",
       "      <td>0.0</td>\n",
       "      <td>0.0</td>\n",
       "      <td>0.0</td>\n",
       "      <td>0.0</td>\n",
       "      <td>0.0</td>\n",
       "      <td>18.0</td>\n",
       "      <td>14.0</td>\n",
       "      <td>16.000000</td>\n",
       "      <td>smart</td>\n",
       "    </tr>\n",
       "    <tr>\n",
       "      <th>2</th>\n",
       "      <td>1002</td>\n",
       "      <td>0.0</td>\n",
       "      <td>0.0</td>\n",
       "      <td>0.0</td>\n",
       "      <td>0.0</td>\n",
       "      <td>0.0</td>\n",
       "      <td>11.0</td>\n",
       "      <td>18.0</td>\n",
       "      <td>20.0</td>\n",
       "      <td>17.0</td>\n",
       "      <td>14.0</td>\n",
       "      <td>19.0</td>\n",
       "      <td>18.0</td>\n",
       "      <td>16.714286</td>\n",
       "      <td>smart</td>\n",
       "    </tr>\n",
       "    <tr>\n",
       "      <th>3</th>\n",
       "      <td>1003</td>\n",
       "      <td>0.0</td>\n",
       "      <td>0.0</td>\n",
       "      <td>0.0</td>\n",
       "      <td>0.0</td>\n",
       "      <td>0.0</td>\n",
       "      <td>0.0</td>\n",
       "      <td>0.0</td>\n",
       "      <td>9.0</td>\n",
       "      <td>13.0</td>\n",
       "      <td>15.0</td>\n",
       "      <td>12.0</td>\n",
       "      <td>10.0</td>\n",
       "      <td>11.800000</td>\n",
       "      <td>ultra</td>\n",
       "    </tr>\n",
       "    <tr>\n",
       "      <th>4</th>\n",
       "      <td>1004</td>\n",
       "      <td>0.0</td>\n",
       "      <td>0.0</td>\n",
       "      <td>0.0</td>\n",
       "      <td>0.0</td>\n",
       "      <td>14.0</td>\n",
       "      <td>18.0</td>\n",
       "      <td>22.0</td>\n",
       "      <td>28.0</td>\n",
       "      <td>15.0</td>\n",
       "      <td>19.0</td>\n",
       "      <td>16.0</td>\n",
       "      <td>18.0</td>\n",
       "      <td>18.750000</td>\n",
       "      <td>ultra</td>\n",
       "    </tr>\n",
       "    <tr>\n",
       "      <th>...</th>\n",
       "      <td>...</td>\n",
       "      <td>...</td>\n",
       "      <td>...</td>\n",
       "      <td>...</td>\n",
       "      <td>...</td>\n",
       "      <td>...</td>\n",
       "      <td>...</td>\n",
       "      <td>...</td>\n",
       "      <td>...</td>\n",
       "      <td>...</td>\n",
       "      <td>...</td>\n",
       "      <td>...</td>\n",
       "      <td>...</td>\n",
       "      <td>...</td>\n",
       "      <td>...</td>\n",
       "    </tr>\n",
       "    <tr>\n",
       "      <th>492</th>\n",
       "      <td>1495</td>\n",
       "      <td>0.0</td>\n",
       "      <td>0.0</td>\n",
       "      <td>0.0</td>\n",
       "      <td>0.0</td>\n",
       "      <td>0.0</td>\n",
       "      <td>0.0</td>\n",
       "      <td>0.0</td>\n",
       "      <td>3.0</td>\n",
       "      <td>33.0</td>\n",
       "      <td>29.0</td>\n",
       "      <td>39.0</td>\n",
       "      <td>23.0</td>\n",
       "      <td>25.400000</td>\n",
       "      <td>ultra</td>\n",
       "    </tr>\n",
       "    <tr>\n",
       "      <th>493</th>\n",
       "      <td>1496</td>\n",
       "      <td>4.0</td>\n",
       "      <td>28.0</td>\n",
       "      <td>25.0</td>\n",
       "      <td>21.0</td>\n",
       "      <td>24.0</td>\n",
       "      <td>20.0</td>\n",
       "      <td>24.0</td>\n",
       "      <td>23.0</td>\n",
       "      <td>27.0</td>\n",
       "      <td>28.0</td>\n",
       "      <td>25.0</td>\n",
       "      <td>21.0</td>\n",
       "      <td>22.500000</td>\n",
       "      <td>smart</td>\n",
       "    </tr>\n",
       "    <tr>\n",
       "      <th>494</th>\n",
       "      <td>1497</td>\n",
       "      <td>0.0</td>\n",
       "      <td>0.0</td>\n",
       "      <td>0.0</td>\n",
       "      <td>0.0</td>\n",
       "      <td>0.0</td>\n",
       "      <td>0.0</td>\n",
       "      <td>0.0</td>\n",
       "      <td>0.0</td>\n",
       "      <td>0.0</td>\n",
       "      <td>12.0</td>\n",
       "      <td>14.0</td>\n",
       "      <td>20.0</td>\n",
       "      <td>15.333333</td>\n",
       "      <td>smart</td>\n",
       "    </tr>\n",
       "    <tr>\n",
       "      <th>495</th>\n",
       "      <td>1498</td>\n",
       "      <td>0.0</td>\n",
       "      <td>0.0</td>\n",
       "      <td>0.0</td>\n",
       "      <td>0.0</td>\n",
       "      <td>0.0</td>\n",
       "      <td>0.0</td>\n",
       "      <td>8.0</td>\n",
       "      <td>24.0</td>\n",
       "      <td>22.0</td>\n",
       "      <td>21.0</td>\n",
       "      <td>0.0</td>\n",
       "      <td>0.0</td>\n",
       "      <td>18.750000</td>\n",
       "      <td>smart</td>\n",
       "    </tr>\n",
       "    <tr>\n",
       "      <th>496</th>\n",
       "      <td>1499</td>\n",
       "      <td>0.0</td>\n",
       "      <td>0.0</td>\n",
       "      <td>0.0</td>\n",
       "      <td>0.0</td>\n",
       "      <td>0.0</td>\n",
       "      <td>0.0</td>\n",
       "      <td>0.0</td>\n",
       "      <td>0.0</td>\n",
       "      <td>2.0</td>\n",
       "      <td>18.0</td>\n",
       "      <td>18.0</td>\n",
       "      <td>13.0</td>\n",
       "      <td>12.750000</td>\n",
       "      <td>smart</td>\n",
       "    </tr>\n",
       "  </tbody>\n",
       "</table>\n",
       "<p>497 rows × 15 columns</p>\n",
       "</div>"
      ],
      "text/plain": [
       "     user_id    1     2     3     4     5     6     7     8     9    10    11  \\\n",
       "0       1000  0.0   0.0   0.0   0.0   3.0  23.0  14.0  14.0  15.0  15.0  15.0   \n",
       "1       1001  0.0   0.0   0.0   0.0   0.0   0.0   0.0   0.0   0.0   0.0  18.0   \n",
       "2       1002  0.0   0.0   0.0   0.0   0.0  11.0  18.0  20.0  17.0  14.0  19.0   \n",
       "3       1003  0.0   0.0   0.0   0.0   0.0   0.0   0.0   9.0  13.0  15.0  12.0   \n",
       "4       1004  0.0   0.0   0.0   0.0  14.0  18.0  22.0  28.0  15.0  19.0  16.0   \n",
       "..       ...  ...   ...   ...   ...   ...   ...   ...   ...   ...   ...   ...   \n",
       "492     1495  0.0   0.0   0.0   0.0   0.0   0.0   0.0   3.0  33.0  29.0  39.0   \n",
       "493     1496  4.0  28.0  25.0  21.0  24.0  20.0  24.0  23.0  27.0  28.0  25.0   \n",
       "494     1497  0.0   0.0   0.0   0.0   0.0   0.0   0.0   0.0   0.0  12.0  14.0   \n",
       "495     1498  0.0   0.0   0.0   0.0   0.0   0.0   8.0  24.0  22.0  21.0   0.0   \n",
       "496     1499  0.0   0.0   0.0   0.0   0.0   0.0   0.0   0.0   2.0  18.0  18.0   \n",
       "\n",
       "       12       mean tariff  \n",
       "0    10.0  13.625000  ultra  \n",
       "1    14.0  16.000000  smart  \n",
       "2    18.0  16.714286  smart  \n",
       "3    10.0  11.800000  ultra  \n",
       "4    18.0  18.750000  ultra  \n",
       "..    ...        ...    ...  \n",
       "492  23.0  25.400000  ultra  \n",
       "493  21.0  22.500000  smart  \n",
       "494  20.0  15.333333  smart  \n",
       "495   0.0  18.750000  smart  \n",
       "496  13.0  12.750000  smart  \n",
       "\n",
       "[497 rows x 15 columns]"
      ]
     },
     "execution_count": 326,
     "metadata": {},
     "output_type": "execute_result"
    }
   ],
   "source": [
    "#округление\n",
    "internet_pivot.loc[:,1:12] = np.ceil(internet_pivot.loc[:,1:12]/1024)\n",
    "\n",
    "#расчет среднего \n",
    "internet_pivot['mean']=internet_pivot[internet_pivot[:]!=0].mean(axis=1)\n",
    "\n",
    "#добавление информации о тарифах\n",
    "internet_pivot = internet_pivot.merge(users[['user_id','tariff']],on='user_id', how='left')\n",
    "internet_pivot "
   ]
  },
  {
   "cell_type": "code",
   "execution_count": 327,
   "id": "eafad80f",
   "metadata": {},
   "outputs": [
    {
     "data": {
      "text/plain": [
       "count    497.000000\n",
       "mean      17.353831\n",
       "std        5.474147\n",
       "min        2.500000\n",
       "25%       14.111111\n",
       "50%       16.800000\n",
       "75%       19.583333\n",
       "max       38.500000\n",
       "Name: mean, dtype: float64"
      ]
     },
     "execution_count": 327,
     "metadata": {},
     "output_type": "execute_result"
    },
    {
     "data": {
      "image/png": "[encoded data removed]",
      "text/plain": [
       "<Figure size 432x288 with 1 Axes>"
      ]
     },
     "metadata": {
      "needs_background": "light"
     },
     "output_type": "display_data"
    }
   ],
   "source": [
    "internet_pivot['mean'].hist(bins=50)\n",
    "internet_pivot['mean'].describe()"
   ]
  },
  {
   "cell_type": "markdown",
   "id": "a7422bef",
   "metadata": {},
   "source": [
    "<div class=\"alert alert-block alert-danger\">\n",
    " \n",
    "### Комментарий ревьюера\n",
    "    \n",
    "#### Ошибка\n",
    "    \n",
    "Поскольку у нас тарификация в Гб, то и график надо в Гб отобразить.\n",
    "</div>"
   ]
  },
  {
   "cell_type": "markdown",
   "id": "ec9c7625",
   "metadata": {},
   "source": [
    "<div class=\"alert alert-block alert-success\">\n",
    " \n",
    "# Комментарий ревьюера ver.2\n",
    "    \n",
    "#### Успех\n",
    "    \n",
    "Сейчас отлично  \n",
    "</div>"
   ]
  },
  {
   "cell_type": "markdown",
   "id": "099a46a3",
   "metadata": {},
   "source": [
    " **<font color=\"maroon\">исправила</font>**"
   ]
  },
  {
   "cell_type": "code",
   "execution_count": 328,
   "id": "889241e2",
   "metadata": {},
   "outputs": [
    {
     "data": {
      "text/html": [
       "<div>\n",
       "<style scoped>\n",
       "    .dataframe tbody tr th:only-of-type {\n",
       "        vertical-align: middle;\n",
       "    }\n",
       "\n",
       "    .dataframe tbody tr th {\n",
       "        vertical-align: top;\n",
       "    }\n",
       "\n",
       "    .dataframe thead th {\n",
       "        text-align: right;\n",
       "    }\n",
       "</style>\n",
       "<table border=\"1\" class=\"dataframe\">\n",
       "  <thead>\n",
       "    <tr style=\"text-align: right;\">\n",
       "      <th></th>\n",
       "      <th>user_id</th>\n",
       "      <th>1</th>\n",
       "      <th>2</th>\n",
       "      <th>3</th>\n",
       "      <th>4</th>\n",
       "      <th>5</th>\n",
       "      <th>6</th>\n",
       "      <th>7</th>\n",
       "      <th>8</th>\n",
       "      <th>9</th>\n",
       "      <th>10</th>\n",
       "      <th>11</th>\n",
       "      <th>12</th>\n",
       "      <th>mean</th>\n",
       "    </tr>\n",
       "    <tr>\n",
       "      <th>tariff</th>\n",
       "      <th></th>\n",
       "      <th></th>\n",
       "      <th></th>\n",
       "      <th></th>\n",
       "      <th></th>\n",
       "      <th></th>\n",
       "      <th></th>\n",
       "      <th></th>\n",
       "      <th></th>\n",
       "      <th></th>\n",
       "      <th></th>\n",
       "      <th></th>\n",
       "      <th></th>\n",
       "      <th></th>\n",
       "    </tr>\n",
       "  </thead>\n",
       "  <tbody>\n",
       "    <tr>\n",
       "      <th>smart</th>\n",
       "      <td>1243.771429</td>\n",
       "      <td>0.848571</td>\n",
       "      <td>1.962857</td>\n",
       "      <td>3.351429</td>\n",
       "      <td>4.360000</td>\n",
       "      <td>6.408571</td>\n",
       "      <td>7.474286</td>\n",
       "      <td>9.117143</td>\n",
       "      <td>11.237143</td>\n",
       "      <td>12.177143</td>\n",
       "      <td>14.180000</td>\n",
       "      <td>15.348571</td>\n",
       "      <td>17.525714</td>\n",
       "      <td>16.343947</td>\n",
       "    </tr>\n",
       "    <tr>\n",
       "      <th>ultra</th>\n",
       "      <td>1262.979592</td>\n",
       "      <td>0.809524</td>\n",
       "      <td>1.959184</td>\n",
       "      <td>4.442177</td>\n",
       "      <td>6.346939</td>\n",
       "      <td>8.829932</td>\n",
       "      <td>10.823129</td>\n",
       "      <td>12.693878</td>\n",
       "      <td>14.265306</td>\n",
       "      <td>15.054422</td>\n",
       "      <td>16.789116</td>\n",
       "      <td>18.054422</td>\n",
       "      <td>20.557823</td>\n",
       "      <td>19.758316</td>\n",
       "    </tr>\n",
       "  </tbody>\n",
       "</table>\n",
       "</div>"
      ],
      "text/plain": [
       "            user_id         1         2         3         4         5  \\\n",
       "tariff                                                                  \n",
       "smart   1243.771429  0.848571  1.962857  3.351429  4.360000  6.408571   \n",
       "ultra   1262.979592  0.809524  1.959184  4.442177  6.346939  8.829932   \n",
       "\n",
       "                6          7          8          9         10         11  \\\n",
       "tariff                                                                     \n",
       "smart    7.474286   9.117143  11.237143  12.177143  14.180000  15.348571   \n",
       "ultra   10.823129  12.693878  14.265306  15.054422  16.789116  18.054422   \n",
       "\n",
       "               12       mean  \n",
       "tariff                        \n",
       "smart   17.525714  16.343947  \n",
       "ultra   20.557823  19.758316  "
      ]
     },
     "execution_count": 328,
     "metadata": {},
     "output_type": "execute_result"
    }
   ],
   "source": [
    "#группировка по двум тарифам\n",
    "\n",
    "internet_pivot.groupby('tariff').mean()"
   ]
  },
  {
   "cell_type": "code",
   "execution_count": 329,
   "id": "35f0bb50",
   "metadata": {},
   "outputs": [
    {
     "data": {
      "text/plain": [
       "count    350.000000\n",
       "mean      16.343947\n",
       "std        3.543999\n",
       "min        5.727273\n",
       "25%       14.027778\n",
       "50%       16.333333\n",
       "75%       18.720455\n",
       "max       27.250000\n",
       "Name: mean, dtype: float64"
      ]
     },
     "metadata": {},
     "output_type": "display_data"
    },
    {
     "data": {
      "text/plain": [
       "count    147.000000\n",
       "mean      19.758316\n",
       "std        7.969557\n",
       "min        2.500000\n",
       "25%       15.000000\n",
       "50%       19.111111\n",
       "75%       25.791667\n",
       "max       38.500000\n",
       "Name: mean, dtype: float64"
      ]
     },
     "metadata": {},
     "output_type": "display_data"
    },
    {
     "data": {
      "text/plain": [
       "<AxesSubplot:>"
      ]
     },
     "execution_count": 329,
     "metadata": {},
     "output_type": "execute_result"
    },
    {
     "data": {
      "image/png": "[encoded data removed]",
      "text/plain": [
       "<Figure size 432x288 with 1 Axes>"
      ]
     },
     "metadata": {
      "needs_background": "light"
     },
     "output_type": "display_data"
    }
   ],
   "source": [
    "#сравнение средних и распределений\n",
    "\n",
    "display(internet_pivot[internet_pivot['tariff']=='smart']['mean'].describe())\n",
    "display(internet_pivot[internet_pivot['tariff']=='ultra']['mean'].describe())\n",
    "internet_pivot[internet_pivot['tariff']=='smart']['mean'].hist(bins=50)\n",
    "internet_pivot[internet_pivot['tariff']=='ultra']['mean'].hist(bins=50)"
   ]
  },
  {
   "cell_type": "markdown",
   "id": "e8869100",
   "metadata": {},
   "source": [
    "<div class=\"alert alert-block alert-danger\">\n",
    " \n",
    "### Комментарий ревьюера\n",
    "    \n",
    "#### Ошибка\n",
    "    \n",
    "Ну и тут тоже  \n",
    "</div>"
   ]
  },
  {
   "cell_type": "markdown",
   "id": "0b35665c",
   "metadata": {},
   "source": [
    "<div class=\"alert alert-block alert-success\">\n",
    " \n",
    "# Комментарий ревьюера ver.2\n",
    "    \n",
    "#### Успех\n",
    "    \n",
    "Ну и тут хорошо выходит \n",
    "</div>"
   ]
  },
  {
   "cell_type": "markdown",
   "id": "255bdfd9",
   "metadata": {},
   "source": [
    "Из сравнения распределений видно, что у пользователей двух тарифов разный расход трафика. Для строгости проверим нулевую гипотезу:\n",
    "\n",
    "Н_0 среднее количество потраченных мегабайт у пользователей тарифа \"Ультра\" равно среднему количеству потраченных мегабайт ползьователей тарифа \"Смарт\"\n",
    "\n",
    "Альтернативная гипотеза: \n",
    "Н_1 среднее потраченных мегабайт пользователей тарифа \"Ультра\" не равно среднему количеству потраченных мегабайт ползьователей тарифа \"Смарт\"\n"
   ]
  },
  {
   "cell_type": "code",
   "execution_count": 330,
   "id": "8112e5c1",
   "metadata": {},
   "outputs": [
    {
     "data": {
      "text/plain": [
       "Ttest_indResult(statistic=-4.991252934758521, pvalue=1.4694250905467666e-06)"
      ]
     },
     "execution_count": 330,
     "metadata": {},
     "output_type": "execute_result"
    }
   ],
   "source": [
    "\n",
    "#Проверка гипотезы о равенстве среднего двух генеральных совокупностей по взятым из них выборкам\n",
    "st.ttest_ind(internet_pivot[internet_pivot['tariff']=='smart']['mean'], \n",
    "             internet_pivot[internet_pivot['tariff']=='ultra']['mean'], \n",
    "             equal_var = False)"
   ]
  },
  {
   "cell_type": "markdown",
   "id": "ea06572a",
   "metadata": {},
   "source": [
    "p-value меньше 1%. Нулевая гипотеза не отвергнута"
   ]
  },
  {
   "cell_type": "markdown",
   "id": "54d16a8e",
   "metadata": {},
   "source": [
    "## Расход минут у пользователей разных тарифов"
   ]
  },
  {
   "cell_type": "code",
   "execution_count": 331,
   "id": "492d0809",
   "metadata": {},
   "outputs": [
    {
     "data": {
      "text/html": [
       "<div>\n",
       "<style scoped>\n",
       "    .dataframe tbody tr th:only-of-type {\n",
       "        vertical-align: middle;\n",
       "    }\n",
       "\n",
       "    .dataframe tbody tr th {\n",
       "        vertical-align: top;\n",
       "    }\n",
       "\n",
       "    .dataframe thead th {\n",
       "        text-align: right;\n",
       "    }\n",
       "</style>\n",
       "<table border=\"1\" class=\"dataframe\">\n",
       "  <thead>\n",
       "    <tr style=\"text-align: right;\">\n",
       "      <th></th>\n",
       "      <th>user_id</th>\n",
       "      <th>1</th>\n",
       "      <th>2</th>\n",
       "      <th>3</th>\n",
       "      <th>4</th>\n",
       "      <th>5</th>\n",
       "      <th>6</th>\n",
       "      <th>7</th>\n",
       "      <th>8</th>\n",
       "      <th>9</th>\n",
       "      <th>10</th>\n",
       "      <th>11</th>\n",
       "      <th>12</th>\n",
       "      <th>mean</th>\n",
       "      <th>tariff</th>\n",
       "    </tr>\n",
       "  </thead>\n",
       "  <tbody>\n",
       "    <tr>\n",
       "      <th>0</th>\n",
       "      <td>1000</td>\n",
       "      <td>0.00</td>\n",
       "      <td>0.00</td>\n",
       "      <td>0.00</td>\n",
       "      <td>0.00</td>\n",
       "      <td>150.06</td>\n",
       "      <td>158.90</td>\n",
       "      <td>318.80</td>\n",
       "      <td>389.87</td>\n",
       "      <td>440.14</td>\n",
       "      <td>328.45</td>\n",
       "      <td>319.04</td>\n",
       "      <td>312.98</td>\n",
       "      <td>201.520000</td>\n",
       "      <td>ultra</td>\n",
       "    </tr>\n",
       "    <tr>\n",
       "      <th>1</th>\n",
       "      <td>1001</td>\n",
       "      <td>0.00</td>\n",
       "      <td>0.00</td>\n",
       "      <td>0.00</td>\n",
       "      <td>0.00</td>\n",
       "      <td>0.00</td>\n",
       "      <td>0.00</td>\n",
       "      <td>0.00</td>\n",
       "      <td>0.00</td>\n",
       "      <td>0.00</td>\n",
       "      <td>0.00</td>\n",
       "      <td>408.12</td>\n",
       "      <td>391.34</td>\n",
       "      <td>66.621667</td>\n",
       "      <td>smart</td>\n",
       "    </tr>\n",
       "    <tr>\n",
       "      <th>2</th>\n",
       "      <td>1002</td>\n",
       "      <td>0.00</td>\n",
       "      <td>0.00</td>\n",
       "      <td>0.00</td>\n",
       "      <td>0.00</td>\n",
       "      <td>0.00</td>\n",
       "      <td>110.37</td>\n",
       "      <td>204.75</td>\n",
       "      <td>269.71</td>\n",
       "      <td>195.85</td>\n",
       "      <td>199.48</td>\n",
       "      <td>228.03</td>\n",
       "      <td>222.98</td>\n",
       "      <td>119.264167</td>\n",
       "      <td>smart</td>\n",
       "    </tr>\n",
       "    <tr>\n",
       "      <th>3</th>\n",
       "      <td>1003</td>\n",
       "      <td>0.00</td>\n",
       "      <td>0.00</td>\n",
       "      <td>0.00</td>\n",
       "      <td>0.00</td>\n",
       "      <td>0.00</td>\n",
       "      <td>0.00</td>\n",
       "      <td>0.00</td>\n",
       "      <td>355.67</td>\n",
       "      <td>904.89</td>\n",
       "      <td>809.07</td>\n",
       "      <td>775.39</td>\n",
       "      <td>755.50</td>\n",
       "      <td>300.043333</td>\n",
       "      <td>ultra</td>\n",
       "    </tr>\n",
       "    <tr>\n",
       "      <th>4</th>\n",
       "      <td>1004</td>\n",
       "      <td>0.00</td>\n",
       "      <td>0.00</td>\n",
       "      <td>0.00</td>\n",
       "      <td>0.00</td>\n",
       "      <td>32.29</td>\n",
       "      <td>159.14</td>\n",
       "      <td>124.42</td>\n",
       "      <td>128.01</td>\n",
       "      <td>110.57</td>\n",
       "      <td>133.61</td>\n",
       "      <td>109.72</td>\n",
       "      <td>123.45</td>\n",
       "      <td>76.767500</td>\n",
       "      <td>ultra</td>\n",
       "    </tr>\n",
       "    <tr>\n",
       "      <th>...</th>\n",
       "      <td>...</td>\n",
       "      <td>...</td>\n",
       "      <td>...</td>\n",
       "      <td>...</td>\n",
       "      <td>...</td>\n",
       "      <td>...</td>\n",
       "      <td>...</td>\n",
       "      <td>...</td>\n",
       "      <td>...</td>\n",
       "      <td>...</td>\n",
       "      <td>...</td>\n",
       "      <td>...</td>\n",
       "      <td>...</td>\n",
       "      <td>...</td>\n",
       "      <td>...</td>\n",
       "    </tr>\n",
       "    <tr>\n",
       "      <th>487</th>\n",
       "      <td>1495</td>\n",
       "      <td>0.00</td>\n",
       "      <td>0.00</td>\n",
       "      <td>0.00</td>\n",
       "      <td>0.00</td>\n",
       "      <td>0.00</td>\n",
       "      <td>0.00</td>\n",
       "      <td>0.00</td>\n",
       "      <td>87.03</td>\n",
       "      <td>766.62</td>\n",
       "      <td>971.33</td>\n",
       "      <td>892.65</td>\n",
       "      <td>970.94</td>\n",
       "      <td>307.380833</td>\n",
       "      <td>ultra</td>\n",
       "    </tr>\n",
       "    <tr>\n",
       "      <th>488</th>\n",
       "      <td>1496</td>\n",
       "      <td>45.76</td>\n",
       "      <td>561.41</td>\n",
       "      <td>521.95</td>\n",
       "      <td>494.29</td>\n",
       "      <td>459.74</td>\n",
       "      <td>529.21</td>\n",
       "      <td>550.06</td>\n",
       "      <td>497.78</td>\n",
       "      <td>457.39</td>\n",
       "      <td>426.65</td>\n",
       "      <td>633.22</td>\n",
       "      <td>483.91</td>\n",
       "      <td>471.780833</td>\n",
       "      <td>smart</td>\n",
       "    </tr>\n",
       "    <tr>\n",
       "      <th>489</th>\n",
       "      <td>1497</td>\n",
       "      <td>0.00</td>\n",
       "      <td>0.00</td>\n",
       "      <td>0.00</td>\n",
       "      <td>0.00</td>\n",
       "      <td>0.00</td>\n",
       "      <td>0.00</td>\n",
       "      <td>0.00</td>\n",
       "      <td>0.00</td>\n",
       "      <td>0.00</td>\n",
       "      <td>463.26</td>\n",
       "      <td>346.09</td>\n",
       "      <td>515.33</td>\n",
       "      <td>110.390000</td>\n",
       "      <td>smart</td>\n",
       "    </tr>\n",
       "    <tr>\n",
       "      <th>490</th>\n",
       "      <td>1498</td>\n",
       "      <td>0.00</td>\n",
       "      <td>0.00</td>\n",
       "      <td>0.00</td>\n",
       "      <td>0.00</td>\n",
       "      <td>0.00</td>\n",
       "      <td>0.00</td>\n",
       "      <td>166.25</td>\n",
       "      <td>376.04</td>\n",
       "      <td>446.68</td>\n",
       "      <td>232.63</td>\n",
       "      <td>0.00</td>\n",
       "      <td>0.00</td>\n",
       "      <td>101.800000</td>\n",
       "      <td>smart</td>\n",
       "    </tr>\n",
       "    <tr>\n",
       "      <th>491</th>\n",
       "      <td>1499</td>\n",
       "      <td>0.00</td>\n",
       "      <td>0.00</td>\n",
       "      <td>0.00</td>\n",
       "      <td>0.00</td>\n",
       "      <td>0.00</td>\n",
       "      <td>0.00</td>\n",
       "      <td>0.00</td>\n",
       "      <td>0.00</td>\n",
       "      <td>64.65</td>\n",
       "      <td>429.91</td>\n",
       "      <td>576.50</td>\n",
       "      <td>465.16</td>\n",
       "      <td>128.018333</td>\n",
       "      <td>smart</td>\n",
       "    </tr>\n",
       "  </tbody>\n",
       "</table>\n",
       "<p>492 rows × 15 columns</p>\n",
       "</div>"
      ],
      "text/plain": [
       "     user_id      1       2       3       4       5       6       7       8  \\\n",
       "0       1000   0.00    0.00    0.00    0.00  150.06  158.90  318.80  389.87   \n",
       "1       1001   0.00    0.00    0.00    0.00    0.00    0.00    0.00    0.00   \n",
       "2       1002   0.00    0.00    0.00    0.00    0.00  110.37  204.75  269.71   \n",
       "3       1003   0.00    0.00    0.00    0.00    0.00    0.00    0.00  355.67   \n",
       "4       1004   0.00    0.00    0.00    0.00   32.29  159.14  124.42  128.01   \n",
       "..       ...    ...     ...     ...     ...     ...     ...     ...     ...   \n",
       "487     1495   0.00    0.00    0.00    0.00    0.00    0.00    0.00   87.03   \n",
       "488     1496  45.76  561.41  521.95  494.29  459.74  529.21  550.06  497.78   \n",
       "489     1497   0.00    0.00    0.00    0.00    0.00    0.00    0.00    0.00   \n",
       "490     1498   0.00    0.00    0.00    0.00    0.00    0.00  166.25  376.04   \n",
       "491     1499   0.00    0.00    0.00    0.00    0.00    0.00    0.00    0.00   \n",
       "\n",
       "          9      10      11      12        mean tariff  \n",
       "0    440.14  328.45  319.04  312.98  201.520000  ultra  \n",
       "1      0.00    0.00  408.12  391.34   66.621667  smart  \n",
       "2    195.85  199.48  228.03  222.98  119.264167  smart  \n",
       "3    904.89  809.07  775.39  755.50  300.043333  ultra  \n",
       "4    110.57  133.61  109.72  123.45   76.767500  ultra  \n",
       "..      ...     ...     ...     ...         ...    ...  \n",
       "487  766.62  971.33  892.65  970.94  307.380833  ultra  \n",
       "488  457.39  426.65  633.22  483.91  471.780833  smart  \n",
       "489    0.00  463.26  346.09  515.33  110.390000  smart  \n",
       "490  446.68  232.63    0.00    0.00  101.800000  smart  \n",
       "491   64.65  429.91  576.50  465.16  128.018333  smart  \n",
       "\n",
       "[492 rows x 15 columns]"
      ]
     },
     "execution_count": 331,
     "metadata": {},
     "output_type": "execute_result"
    }
   ],
   "source": [
    "#расчет среднего\n",
    "calls_pivot['mean']=calls_pivot.mean(axis=1)\n",
    "\n",
    "#добавление информации о тарифе\n",
    "calls_pivot = calls_pivot.merge(users[['user_id','tariff']],on='user_id', how='left')\n",
    "calls_pivot "
   ]
  },
  {
   "cell_type": "code",
   "execution_count": 332,
   "id": "618b45d5",
   "metadata": {},
   "outputs": [
    {
     "data": {
      "text/plain": [
       "count     492.000000\n",
       "mean      231.841131\n",
       "std       164.464085\n",
       "min         5.240833\n",
       "25%       101.735417\n",
       "50%       195.549583\n",
       "75%       332.042292\n",
       "max      1021.516667\n",
       "Name: mean, dtype: float64"
      ]
     },
     "execution_count": 332,
     "metadata": {},
     "output_type": "execute_result"
    },
    {
     "data": {
      "image/png": "[encoded data removed]",
      "text/plain": [
       "<Figure size 432x288 with 1 Axes>"
      ]
     },
     "metadata": {
      "needs_background": "light"
     },
     "output_type": "display_data"
    }
   ],
   "source": [
    "calls_pivot['mean'].hist(bins=100)\n",
    "calls_pivot['mean'].describe()"
   ]
  },
  {
   "cell_type": "markdown",
   "id": "d697b8a0",
   "metadata": {},
   "source": [
    "<div class=\"alert alert-block alert-success\">\n",
    " \n",
    "### Комментарий ревьюера\n",
    "    \n",
    "#### Успех\n",
    "    \n",
    "Тут хорошо \n",
    "</div>"
   ]
  },
  {
   "cell_type": "code",
   "execution_count": 333,
   "id": "14942ec2",
   "metadata": {},
   "outputs": [
    {
     "data": {
      "text/html": [
       "<div>\n",
       "<style scoped>\n",
       "    .dataframe tbody tr th:only-of-type {\n",
       "        vertical-align: middle;\n",
       "    }\n",
       "\n",
       "    .dataframe tbody tr th {\n",
       "        vertical-align: top;\n",
       "    }\n",
       "\n",
       "    .dataframe thead th {\n",
       "        text-align: right;\n",
       "    }\n",
       "</style>\n",
       "<table border=\"1\" class=\"dataframe\">\n",
       "  <thead>\n",
       "    <tr style=\"text-align: right;\">\n",
       "      <th></th>\n",
       "      <th>user_id</th>\n",
       "      <th>1</th>\n",
       "      <th>2</th>\n",
       "      <th>3</th>\n",
       "      <th>4</th>\n",
       "      <th>5</th>\n",
       "      <th>6</th>\n",
       "      <th>7</th>\n",
       "      <th>8</th>\n",
       "      <th>9</th>\n",
       "      <th>10</th>\n",
       "      <th>11</th>\n",
       "      <th>12</th>\n",
       "      <th>mean</th>\n",
       "    </tr>\n",
       "    <tr>\n",
       "      <th>tariff</th>\n",
       "      <th></th>\n",
       "      <th></th>\n",
       "      <th></th>\n",
       "      <th></th>\n",
       "      <th></th>\n",
       "      <th></th>\n",
       "      <th></th>\n",
       "      <th></th>\n",
       "      <th></th>\n",
       "      <th></th>\n",
       "      <th></th>\n",
       "      <th></th>\n",
       "      <th></th>\n",
       "      <th></th>\n",
       "    </tr>\n",
       "  </thead>\n",
       "  <tbody>\n",
       "    <tr>\n",
       "      <th>smart</th>\n",
       "      <td>1243.068768</td>\n",
       "      <td>18.806418</td>\n",
       "      <td>47.025444</td>\n",
       "      <td>81.164871</td>\n",
       "      <td>111.108682</td>\n",
       "      <td>147.550946</td>\n",
       "      <td>175.368195</td>\n",
       "      <td>222.020659</td>\n",
       "      <td>267.921404</td>\n",
       "      <td>301.361032</td>\n",
       "      <td>338.877937</td>\n",
       "      <td>371.763009</td>\n",
       "      <td>436.165616</td>\n",
       "      <td>209.927851</td>\n",
       "    </tr>\n",
       "    <tr>\n",
       "      <th>ultra</th>\n",
       "      <td>1263.650350</td>\n",
       "      <td>25.475524</td>\n",
       "      <td>47.088811</td>\n",
       "      <td>119.631538</td>\n",
       "      <td>166.111818</td>\n",
       "      <td>225.702727</td>\n",
       "      <td>266.057413</td>\n",
       "      <td>327.888252</td>\n",
       "      <td>360.608811</td>\n",
       "      <td>409.427692</td>\n",
       "      <td>453.146713</td>\n",
       "      <td>478.747832</td>\n",
       "      <td>543.974406</td>\n",
       "      <td>285.321795</td>\n",
       "    </tr>\n",
       "  </tbody>\n",
       "</table>\n",
       "</div>"
      ],
      "text/plain": [
       "            user_id          1          2           3           4           5  \\\n",
       "tariff                                                                          \n",
       "smart   1243.068768  18.806418  47.025444   81.164871  111.108682  147.550946   \n",
       "ultra   1263.650350  25.475524  47.088811  119.631538  166.111818  225.702727   \n",
       "\n",
       "                 6           7           8           9          10  \\\n",
       "tariff                                                               \n",
       "smart   175.368195  222.020659  267.921404  301.361032  338.877937   \n",
       "ultra   266.057413  327.888252  360.608811  409.427692  453.146713   \n",
       "\n",
       "                11          12        mean  \n",
       "tariff                                      \n",
       "smart   371.763009  436.165616  209.927851  \n",
       "ultra   478.747832  543.974406  285.321795  "
      ]
     },
     "execution_count": 333,
     "metadata": {},
     "output_type": "execute_result"
    }
   ],
   "source": [
    "#группировка по двум тарифам\n",
    "calls_pivot.groupby('tariff').mean()"
   ]
  },
  {
   "cell_type": "code",
   "execution_count": 334,
   "id": "5e82d02e",
   "metadata": {},
   "outputs": [
    {
     "data": {
      "text/plain": [
       "count    349.000000\n",
       "mean     209.927851\n",
       "std      137.208158\n",
       "min       10.846667\n",
       "25%      101.800000\n",
       "50%      181.331667\n",
       "75%      300.046667\n",
       "max      672.752500\n",
       "Name: mean, dtype: float64"
      ]
     },
     "metadata": {},
     "output_type": "display_data"
    },
    {
     "data": {
      "text/plain": [
       "count     143.000000\n",
       "mean      285.321795\n",
       "std       208.156114\n",
       "min         5.240833\n",
       "25%        97.379583\n",
       "50%       255.837500\n",
       "75%       405.062083\n",
       "max      1021.516667\n",
       "Name: mean, dtype: float64"
      ]
     },
     "metadata": {},
     "output_type": "display_data"
    },
    {
     "data": {
      "text/plain": [
       "<AxesSubplot:>"
      ]
     },
     "execution_count": 334,
     "metadata": {},
     "output_type": "execute_result"
    },
    {
     "data": {
      "image/png": "[encoded data removed]",
      "text/plain": [
       "<Figure size 432x288 with 1 Axes>"
      ]
     },
     "metadata": {
      "needs_background": "light"
     },
     "output_type": "display_data"
    }
   ],
   "source": [
    "#сравнение средних и распределений\n",
    "display(calls_pivot[calls_pivot['tariff']=='smart']['mean'].describe())\n",
    "display(calls_pivot[calls_pivot['tariff']=='ultra']['mean'].describe())\n",
    "calls_pivot[calls_pivot['tariff']=='smart']['mean'].hist(bins=50)\n",
    "calls_pivot[calls_pivot['tariff']=='ultra']['mean'].hist(bins=50)"
   ]
  },
  {
   "cell_type": "markdown",
   "id": "5424db5e",
   "metadata": {},
   "source": [
    "<div class=\"alert alert-block alert-success\">\n",
    " \n",
    "### Комментарий ревьюера\n",
    "    \n",
    "#### Успех\n",
    "    \n",
    "И здесь согласен\n",
    "</div>"
   ]
  },
  {
   "cell_type": "markdown",
   "id": "6ef6c473",
   "metadata": {},
   "source": [
    "Из сравнения распределений видно, что у пользователей двух тарифов разный расход минут. Для строгости проверим нулевую гипотезу:\n",
    "\n",
    "Н_0 среднее количество потраченных минут у пользователей тарифа \"Ультра\" равно среднему количеству потраченных минут у  ползьователей тарифа \"Смарт\"\n",
    "\n",
    "Альтернативная гипотеза: \n",
    "\n",
    "Н_1 среднее количество потраченных минут у  пользователей тарифа \"Ультра\" не равно среднему количеству потраченных минут у ползьователей тарифа \"Смарт\"\n"
   ]
  },
  {
   "cell_type": "code",
   "execution_count": 335,
   "id": "143c08ee",
   "metadata": {},
   "outputs": [
    {
     "data": {
      "text/plain": [
       "Ttest_indResult(statistic=-3.990590948598475, pvalue=9.330686362524667e-05)"
      ]
     },
     "execution_count": 335,
     "metadata": {},
     "output_type": "execute_result"
    }
   ],
   "source": [
    "\n",
    "#Проверка гипотезы о равенстве среднего двух генеральных совокупностей по взятым из них выборкам\n",
    "st.ttest_ind(calls_pivot[calls_pivot['tariff']=='smart']['mean'], \n",
    "             calls_pivot[calls_pivot['tariff']=='ultra']['mean'], \n",
    "             equal_var = False)"
   ]
  },
  {
   "cell_type": "markdown",
   "id": "86ac4277",
   "metadata": {},
   "source": [
    "p-value меньше 1%. Нулевая гипотеза не отвергнута"
   ]
  },
  {
   "cell_type": "markdown",
   "id": "422438b1",
   "metadata": {},
   "source": [
    "# Проверка Гипотез"
   ]
  },
  {
   "cell_type": "markdown",
   "id": "bd27dd78",
   "metadata": {},
   "source": [
    "## Гипотеза 1. Средняя выручка пользователей тарифов «Ультра» и «Смарт» различаются\n"
   ]
  },
  {
   "cell_type": "markdown",
   "id": "5a3271d6",
   "metadata": {},
   "source": [
    "Нулевая гипотеза звучит так:\n",
    "\n",
    "H_0 средняя выручка пользователей тарифа \"Ультра\" равна средней выручке пользователей тарифа \"Смарт\"\n",
    "\n",
    "Для того, чтобы ее проверить, можно рассчитать средние и сравнить распределения, так как значений у нас не много. Но для учебных целей применим и статистический тест "
   ]
  },
  {
   "cell_type": "markdown",
   "id": "6c8a5cd0",
   "metadata": {},
   "source": [
    "<div class=\"alert alert-block alert-success\">\n",
    " \n",
    "### Комментарий ревьюера\n",
    "    \n",
    "#### Успех\n",
    "    \n",
    "Гипотеза задана, отлично\n",
    "</div>"
   ]
  },
  {
   "cell_type": "code",
   "execution_count": 336,
   "id": "9c3cf0fb",
   "metadata": {},
   "outputs": [],
   "source": [
    "gain.reset_index(inplace=True)\n",
    "gain['mean']=gain['mean'].fillna(0)"
   ]
  },
  {
   "cell_type": "code",
   "execution_count": 337,
   "id": "47ab1a4c",
   "metadata": {},
   "outputs": [
    {
     "data": {
      "text/plain": [
       "count    351.000000\n",
       "mean     566.021652\n",
       "std       47.760997\n",
       "min        0.000000\n",
       "25%      550.000000\n",
       "50%      550.000000\n",
       "75%      562.500000\n",
       "max      767.125000\n",
       "Name: mean, dtype: float64"
      ]
     },
     "metadata": {},
     "output_type": "display_data"
    },
    {
     "data": {
      "text/plain": [
       "count     149.000000\n",
       "mean     1936.912752\n",
       "std       159.750225\n",
       "min         0.000000\n",
       "25%      1950.000000\n",
       "50%      1950.000000\n",
       "75%      1950.000000\n",
       "max      1950.000000\n",
       "Name: mean, dtype: float64"
      ]
     },
     "metadata": {},
     "output_type": "display_data"
    }
   ],
   "source": [
    "display(gain[gain['tariff']=='smart']['mean'].describe())\n",
    "display(gain[gain['tariff']=='ultra']['mean'].describe())\n"
   ]
  },
  {
   "cell_type": "markdown",
   "id": "83f675d8",
   "metadata": {},
   "source": [
    "В наших данных ни один пользователь тарифа \"Ультра\" не вышел за лимит минут, мегабайт и смс, поэтому все 149 абонентов платили по 1950 рублей. Статистический тест должен выдать p-value=0. Нулевая гипотеза опровергнута"
   ]
  },
  {
   "cell_type": "code",
   "execution_count": 338,
   "id": "235a54a2",
   "metadata": {},
   "outputs": [
    {
     "data": {
      "text/plain": [
       "Ttest_indResult(statistic=-102.81764566122219, pvalue=1.3701896016607504e-147)"
      ]
     },
     "execution_count": 338,
     "metadata": {},
     "output_type": "execute_result"
    }
   ],
   "source": [
    "st.ttest_ind(gain[gain['tariff']=='smart']['mean'], \n",
    "             gain[gain['tariff']=='ultra']['mean'], \n",
    "             equal_var = False)"
   ]
  },
  {
   "cell_type": "markdown",
   "id": "d1a5f89a",
   "metadata": {},
   "source": [
    "<div class=\"alert alert-block alert-success\">\n",
    " \n",
    "### Комментарий ревьюера\n",
    "    \n",
    "#### Успех\n",
    "    \n",
    "Хороший подход к проверке гипотез. Согласен с выводом.\n",
    "</div>"
   ]
  },
  {
   "cell_type": "markdown",
   "id": "c4e4ab80",
   "metadata": {},
   "source": [
    "Найдем максимальную переплату у пользователей Смарт"
   ]
  },
  {
   "cell_type": "code",
   "execution_count": 339,
   "id": "a7bed763",
   "metadata": {},
   "outputs": [
    {
     "data": {
      "text/plain": [
       "user_id       1499\n",
       "tariff       smart\n",
       "1              622\n",
       "2              655\n",
       "3              730\n",
       "4              715\n",
       "5              709\n",
       "6              802\n",
       "7              811\n",
       "8              802\n",
       "9              808\n",
       "10             817\n",
       "11             772\n",
       "12             829\n",
       "mean       767.125\n",
       "dtype: object"
      ]
     },
     "execution_count": 339,
     "metadata": {},
     "output_type": "execute_result"
    }
   ],
   "source": [
    "gain[gain['tariff']=='smart'].max()"
   ]
  },
  {
   "cell_type": "markdown",
   "id": "07609cce",
   "metadata": {},
   "source": [
    "## Гипотеза 2. Средняя выручка пользователей из Москвы отличается от выручки пользователей из других регионов."
   ]
  },
  {
   "cell_type": "markdown",
   "id": "3840e1d7",
   "metadata": {},
   "source": [
    "Нулевая гипотеза звучит так:\n",
    "\n",
    "H_0 средняя выручка пользователей из Москвы равна средней выручке пользователей из других регионов\n",
    "\n",
    "Альтернативная гипотеза: \n",
    "\n",
    "\n",
    "H_0 средняя выручка пользователей из Москвы не равна средней выручке пользователей из других регионов\n"
   ]
  },
  {
   "cell_type": "code",
   "execution_count": 340,
   "id": "16a7c22d",
   "metadata": {},
   "outputs": [],
   "source": [
    "gain = gain.merge(users[['user_id','city']],on='user_id', how='left')\n"
   ]
  },
  {
   "cell_type": "code",
   "execution_count": 341,
   "id": "70b14f77",
   "metadata": {},
   "outputs": [
    {
     "data": {
      "text/plain": [
       "count      99.000000\n",
       "mean     1012.318182\n",
       "std       651.864740\n",
       "min       550.000000\n",
       "25%       550.000000\n",
       "50%       553.750000\n",
       "75%      1950.000000\n",
       "max      1950.000000\n",
       "Name: mean, dtype: float64"
      ]
     },
     "metadata": {},
     "output_type": "display_data"
    },
    {
     "data": {
      "text/plain": [
       "count     401.000000\n",
       "mean      965.222194\n",
       "std       631.133525\n",
       "min         0.000000\n",
       "25%       550.000000\n",
       "50%       558.000000\n",
       "75%      1950.000000\n",
       "max      1950.000000\n",
       "Name: mean, dtype: float64"
      ]
     },
     "metadata": {},
     "output_type": "display_data"
    }
   ],
   "source": [
    "display(gain[gain['city']=='Москва']['mean'].describe())\n",
    "display(gain[gain['city']!='Москва']['mean'].describe())\n"
   ]
  },
  {
   "cell_type": "code",
   "execution_count": 342,
   "id": "a9e9aede",
   "metadata": {},
   "outputs": [
    {
     "data": {
      "text/plain": [
       "Ttest_indResult(statistic=0.6605909898847435, pvalue=0.5091800954223995)"
      ]
     },
     "execution_count": 342,
     "metadata": {},
     "output_type": "execute_result"
    }
   ],
   "source": [
    "st.ttest_ind(gain[gain['city']=='Москва']['mean'], \n",
    "             gain[gain['city']!='Москва']['mean'], \n",
    "             equal_var = True)"
   ]
  },
  {
   "cell_type": "markdown",
   "id": "feb840be",
   "metadata": {},
   "source": [
    "Вероятность случайно получить такое или большее различие средних больше 50%. Опровергнуть нулевую гипотезу не получилось"
   ]
  },
  {
   "cell_type": "markdown",
   "id": "74069203",
   "metadata": {},
   "source": [
    "<div class=\"alert alert-block alert-success\">\n",
    " \n",
    "### Комментарий ревьюера\n",
    "    \n",
    "#### Успех\n",
    "    \n",
    "Аналогично\n",
    "</div>"
   ]
  },
  {
   "cell_type": "markdown",
   "id": "dd6c9584",
   "metadata": {},
   "source": [
    "# Вывод"
   ]
  },
  {
   "cell_type": "markdown",
   "id": "75aac15d",
   "metadata": {},
   "source": [
    "Тариф \"Ультра\" приносит больше денег. Пользователи этого тарифа не выходят за заданный лимит, но ежемесячная плата в три раза выше ежемесячной платы по тарифу Смарт\n",
    "\n",
    "Из данной выборки следует, что траты абонентов из Москвы не отличается от трат абонентов из других регионов. Однако москвичей в базе всего 99. Возможно на более крупной выборке будут другие результаты\n",
    "\n",
    "Максимальная переплата у абонентов тарифа Смарт — менее 300 рублей. Это значит, что советовать им переходить на Ультра нет смысла. Даже регуялрная перплата в 300 рублей не сделает переход выгодным. \n",
    "\n",
    "Возможное предложение -- ввести третий, промежуточный тариф, для тех кто переплачивает за Смарт. \n",
    "\n",
    "Рекомендуется провести то же исследование на другой выборке абонентов. Например, взять только тех, кто был с компанией весь год. В текущей выборке слишком много пользователей, пользовавшихся услугами Мегалайн 2-4 месяца. Учитывая, что всего в выборке 500 человек, это влияет на результаты.\n"
   ]
  },
  {
   "cell_type": "markdown",
   "id": "0bb54863",
   "metadata": {},
   "source": [
    "<div class=\"alert alert-block alert-danger\">\n",
    " \n",
    "### Комментарий ревьюера\n",
    "    \n",
    "#### Ошибка\n",
    "    \n",
    "А вот здесь похвалить не могу, увы. \n",
    "    \n",
    "У тебя было такое машстабное исследование, а вывод всего на пару предложений. Нужно в вывод добавлять больше инсайтов. Они могут рассказывать об ошибках в данных, о каких-то интересных наблюдениях и так далее.  \n",
    "    \n",
    "    \n",
    "А еще будет здорово, если оставишь в проекте рекомендации.\n",
    "</div>"
   ]
  },
  {
   "cell_type": "markdown",
   "id": "e0f8c987",
   "metadata": {},
   "source": [
    "<div class=\"alert alert-block alert-success\">\n",
    " \n",
    "# Комментарий ревьюера ver.2\n",
    "    \n",
    "#### Успех\n",
    "    \n",
    "Вот а сейчас хороший и полноценный вывод получается. \n",
    "</div>"
   ]
  },
  {
   "cell_type": "markdown",
   "id": "5157321f",
   "metadata": {},
   "source": [
    "<div class=\"alert alert-block alert-info\">\n",
    "\n",
    "## Итоговый комментарии от ревьюера:\n",
    "    \n",
    "#### Успех\n",
    "\n",
    "Благодарю тебя за выполнение проекта. Мне очень понравилось, как ты разобралась с предобработкой данных. Твои решения последовательны и в работе нет лишнего кода. Ты строишь хорошие графики и верно проверяешь Гипотезы. Однако, в проекте есть несколько замечаний, которые надо исправить:\n",
    "\n",
    "* Требуется сделать округление таблицы по расходу звонков до группировки и округлить расход по интернету после Группировки таблицы.\n",
    "* Необходимо пересчитать таблицу по выручке.\n",
    "* Построить график расхода по интернету в Гб.\n",
    "* Переписать итоговый вывод.\n",
    "       \n",
    "Еще я оставил рекомендации. Очень надеюсь, что ты учтешь их в этом и последующих проектах.\n",
    "       \n",
    "Жду проект после доработки. Уверен, ты справишься.\n",
    "</div>"
   ]
  }
 ],
 "metadata": {
  "ExecuteTimeLog": [
   {
    "duration": 3,
    "start_time": "2022-05-29T12:22:49.000Z"
   },
   {
    "duration": 416,
    "start_time": "2022-05-29T12:22:49.004Z"
   },
   {
    "duration": 28,
    "start_time": "2022-05-29T12:22:49.422Z"
   },
   {
    "duration": 24,
    "start_time": "2022-05-29T12:22:49.451Z"
   },
   {
    "duration": 20,
    "start_time": "2022-05-29T12:22:49.477Z"
   },
   {
    "duration": 13,
    "start_time": "2022-05-29T12:22:49.498Z"
   },
   {
    "duration": 19,
    "start_time": "2022-05-29T12:22:49.512Z"
   },
   {
    "duration": 254,
    "start_time": "2022-05-29T12:22:49.532Z"
   },
   {
    "duration": 273,
    "start_time": "2022-05-29T12:22:49.787Z"
   },
   {
    "duration": 267,
    "start_time": "2022-05-29T12:22:50.062Z"
   },
   {
    "duration": 76,
    "start_time": "2022-05-29T12:22:50.331Z"
   },
   {
    "duration": 4,
    "start_time": "2022-05-29T12:22:50.409Z"
   },
   {
    "duration": 46,
    "start_time": "2022-05-29T12:22:50.415Z"
   },
   {
    "duration": 51,
    "start_time": "2022-05-29T12:22:52.181Z"
   },
   {
    "duration": 58,
    "start_time": "2022-05-29T12:22:53.606Z"
   },
   {
    "duration": 7,
    "start_time": "2022-05-29T12:23:01.627Z"
   },
   {
    "duration": 7,
    "start_time": "2022-05-29T12:26:01.647Z"
   },
   {
    "duration": 6,
    "start_time": "2022-05-29T12:31:06.317Z"
   },
   {
    "duration": 71,
    "start_time": "2022-05-29T12:31:28.097Z"
   },
   {
    "duration": 7,
    "start_time": "2022-05-29T12:31:43.442Z"
   },
   {
    "duration": 16,
    "start_time": "2022-05-29T12:43:04.974Z"
   },
   {
    "duration": 2,
    "start_time": "2022-05-29T12:43:09.260Z"
   },
   {
    "duration": 407,
    "start_time": "2022-05-29T12:43:09.264Z"
   },
   {
    "duration": 32,
    "start_time": "2022-05-29T12:43:09.673Z"
   },
   {
    "duration": 28,
    "start_time": "2022-05-29T12:43:09.706Z"
   },
   {
    "duration": 46,
    "start_time": "2022-05-29T12:43:09.736Z"
   },
   {
    "duration": 17,
    "start_time": "2022-05-29T12:43:09.784Z"
   },
   {
    "duration": 16,
    "start_time": "2022-05-29T12:43:09.802Z"
   },
   {
    "duration": 284,
    "start_time": "2022-05-29T12:43:09.820Z"
   },
   {
    "duration": 360,
    "start_time": "2022-05-29T12:43:10.106Z"
   },
   {
    "duration": 252,
    "start_time": "2022-05-29T12:43:10.468Z"
   },
   {
    "duration": 73,
    "start_time": "2022-05-29T12:43:10.723Z"
   },
   {
    "duration": 5,
    "start_time": "2022-05-29T12:43:10.798Z"
   },
   {
    "duration": 46,
    "start_time": "2022-05-29T12:43:10.805Z"
   },
   {
    "duration": 63,
    "start_time": "2022-05-29T12:43:10.853Z"
   },
   {
    "duration": 9,
    "start_time": "2022-05-29T12:43:10.918Z"
   },
   {
    "duration": 4286,
    "start_time": "2022-05-29T12:43:10.929Z"
   },
   {
    "duration": 17,
    "start_time": "2022-05-29T12:43:15.216Z"
   },
   {
    "duration": 17,
    "start_time": "2022-05-29T12:43:16.460Z"
   },
   {
    "duration": 17,
    "start_time": "2022-05-29T12:43:17.897Z"
   },
   {
    "duration": 3,
    "start_time": "2022-05-29T12:50:44.164Z"
   },
   {
    "duration": 502,
    "start_time": "2022-05-29T12:50:44.169Z"
   },
   {
    "duration": 35,
    "start_time": "2022-05-29T12:50:44.673Z"
   },
   {
    "duration": 42,
    "start_time": "2022-05-29T12:50:44.710Z"
   },
   {
    "duration": 40,
    "start_time": "2022-05-29T12:50:44.754Z"
   },
   {
    "duration": 17,
    "start_time": "2022-05-29T12:50:44.796Z"
   },
   {
    "duration": 20,
    "start_time": "2022-05-29T12:50:44.815Z"
   },
   {
    "duration": 315,
    "start_time": "2022-05-29T12:50:44.837Z"
   },
   {
    "duration": 262,
    "start_time": "2022-05-29T12:50:45.154Z"
   },
   {
    "duration": 259,
    "start_time": "2022-05-29T12:50:45.418Z"
   },
   {
    "duration": 66,
    "start_time": "2022-05-29T12:50:45.680Z"
   },
   {
    "duration": 6,
    "start_time": "2022-05-29T12:50:45.747Z"
   },
   {
    "duration": 61,
    "start_time": "2022-05-29T12:50:45.754Z"
   },
   {
    "duration": 68,
    "start_time": "2022-05-29T12:50:45.817Z"
   },
   {
    "duration": 7,
    "start_time": "2022-05-29T12:50:45.886Z"
   },
   {
    "duration": 4280,
    "start_time": "2022-05-29T12:50:45.895Z"
   },
   {
    "duration": 27,
    "start_time": "2022-05-29T12:50:50.178Z"
   },
   {
    "duration": 107,
    "start_time": "2022-05-29T12:50:50.208Z"
   },
   {
    "duration": 3,
    "start_time": "2022-05-29T12:50:50.317Z"
   },
   {
    "duration": 6,
    "start_time": "2022-05-29T12:50:50.321Z"
   },
   {
    "duration": 22,
    "start_time": "2022-05-29T12:50:50.328Z"
   },
   {
    "duration": 302,
    "start_time": "2022-05-29T12:50:50.351Z"
   },
   {
    "duration": 26,
    "start_time": "2022-05-29T12:50:50.655Z"
   },
   {
    "duration": 202,
    "start_time": "2022-05-29T12:50:50.682Z"
   },
   {
    "duration": 7,
    "start_time": "2022-05-29T12:50:50.886Z"
   },
   {
    "duration": 38,
    "start_time": "2022-05-29T12:50:50.894Z"
   },
   {
    "duration": 173,
    "start_time": "2022-05-29T12:50:50.933Z"
   },
   {
    "duration": 25,
    "start_time": "2022-05-29T12:50:51.108Z"
   },
   {
    "duration": 281,
    "start_time": "2022-05-29T12:50:51.138Z"
   },
   {
    "duration": 7,
    "start_time": "2022-05-29T12:50:51.421Z"
   },
   {
    "duration": 60,
    "start_time": "2022-05-29T12:50:51.430Z"
   },
   {
    "duration": 257,
    "start_time": "2022-05-29T12:50:51.491Z"
   },
   {
    "duration": 28,
    "start_time": "2022-05-29T12:50:51.750Z"
   },
   {
    "duration": 250,
    "start_time": "2022-05-29T12:50:51.780Z"
   },
   {
    "duration": 10,
    "start_time": "2022-05-29T12:50:52.032Z"
   },
   {
    "duration": 18,
    "start_time": "2022-05-29T12:50:52.044Z"
   },
   {
    "duration": 237,
    "start_time": "2022-05-29T12:50:52.064Z"
   },
   {
    "duration": 7,
    "start_time": "2022-05-29T12:51:20.249Z"
   },
   {
    "duration": 8,
    "start_time": "2022-05-29T12:51:45.160Z"
   },
   {
    "duration": 87,
    "start_time": "2022-05-29T12:51:58.692Z"
   },
   {
    "duration": 59,
    "start_time": "2022-05-31T16:13:30.481Z"
   },
   {
    "duration": 795,
    "start_time": "2022-05-31T16:13:34.809Z"
   },
   {
    "duration": 1019,
    "start_time": "2022-05-31T16:13:35.606Z"
   },
   {
    "duration": 35,
    "start_time": "2022-05-31T16:13:36.626Z"
   },
   {
    "duration": 24,
    "start_time": "2022-05-31T16:13:36.663Z"
   },
   {
    "duration": 43,
    "start_time": "2022-05-31T16:13:36.688Z"
   },
   {
    "duration": 24,
    "start_time": "2022-05-31T16:13:36.732Z"
   },
   {
    "duration": 16,
    "start_time": "2022-05-31T16:13:36.757Z"
   },
   {
    "duration": 708,
    "start_time": "2022-05-31T16:13:36.774Z"
   },
   {
    "duration": 318,
    "start_time": "2022-05-31T16:13:37.484Z"
   },
   {
    "duration": 258,
    "start_time": "2022-05-31T16:13:37.804Z"
   },
   {
    "duration": 79,
    "start_time": "2022-05-31T16:13:38.064Z"
   },
   {
    "duration": 5,
    "start_time": "2022-05-31T16:13:38.144Z"
   },
   {
    "duration": 47,
    "start_time": "2022-05-31T16:13:38.150Z"
   },
   {
    "duration": 65,
    "start_time": "2022-05-31T16:13:38.199Z"
   },
   {
    "duration": 6,
    "start_time": "2022-05-31T16:13:38.266Z"
   },
   {
    "duration": 8,
    "start_time": "2022-05-31T16:13:38.274Z"
   },
   {
    "duration": 4027,
    "start_time": "2022-05-31T16:13:38.283Z"
   },
   {
    "duration": 24,
    "start_time": "2022-05-31T16:13:42.312Z"
   },
   {
    "duration": 95,
    "start_time": "2022-05-31T16:13:42.338Z"
   },
   {
    "duration": 4,
    "start_time": "2022-05-31T16:13:42.435Z"
   },
   {
    "duration": 7,
    "start_time": "2022-05-31T16:13:42.440Z"
   },
   {
    "duration": 21,
    "start_time": "2022-05-31T16:13:42.449Z"
   },
   {
    "duration": 184,
    "start_time": "2022-05-31T16:13:42.472Z"
   },
   {
    "duration": 17,
    "start_time": "2022-05-31T16:13:42.657Z"
   },
   {
    "duration": 217,
    "start_time": "2022-05-31T16:13:42.676Z"
   },
   {
    "duration": 7,
    "start_time": "2022-05-31T16:13:42.894Z"
   },
   {
    "duration": 38,
    "start_time": "2022-05-31T16:13:42.902Z"
   },
   {
    "duration": 171,
    "start_time": "2022-05-31T16:13:42.943Z"
   },
   {
    "duration": 28,
    "start_time": "2022-05-31T16:13:43.116Z"
   },
   {
    "duration": 289,
    "start_time": "2022-05-31T16:13:43.147Z"
   },
   {
    "duration": 7,
    "start_time": "2022-05-31T16:13:43.438Z"
   },
   {
    "duration": 34,
    "start_time": "2022-05-31T16:13:43.447Z"
   },
   {
    "duration": 361,
    "start_time": "2022-05-31T16:13:43.483Z"
   },
   {
    "duration": 18,
    "start_time": "2022-05-31T16:13:43.846Z"
   },
   {
    "duration": 290,
    "start_time": "2022-05-31T16:13:43.866Z"
   },
   {
    "duration": 7,
    "start_time": "2022-05-31T16:13:44.158Z"
   },
   {
    "duration": 16,
    "start_time": "2022-05-31T16:13:44.167Z"
   },
   {
    "duration": 195,
    "start_time": "2022-05-31T16:13:44.185Z"
   },
   {
    "duration": 7,
    "start_time": "2022-05-31T16:13:44.381Z"
   },
   {
    "duration": 18,
    "start_time": "2022-05-31T16:13:44.389Z"
   },
   {
    "duration": 40,
    "start_time": "2022-05-31T16:13:44.408Z"
   },
   {
    "duration": 23,
    "start_time": "2022-05-31T16:13:44.450Z"
   },
   {
    "duration": 6,
    "start_time": "2022-05-31T16:14:09.119Z"
   },
   {
    "duration": 838,
    "start_time": "2022-06-01T10:44:59.691Z"
   },
   {
    "duration": 1138,
    "start_time": "2022-06-01T10:45:00.531Z"
   },
   {
    "duration": 35,
    "start_time": "2022-06-01T10:45:01.671Z"
   },
   {
    "duration": 27,
    "start_time": "2022-06-01T10:45:01.708Z"
   },
   {
    "duration": 56,
    "start_time": "2022-06-01T10:45:01.737Z"
   },
   {
    "duration": 16,
    "start_time": "2022-06-01T10:45:01.795Z"
   },
   {
    "duration": 39,
    "start_time": "2022-06-01T10:45:01.812Z"
   },
   {
    "duration": 986,
    "start_time": "2022-06-01T10:45:01.854Z"
   },
   {
    "duration": 389,
    "start_time": "2022-06-01T10:45:02.842Z"
   },
   {
    "duration": 311,
    "start_time": "2022-06-01T10:45:03.243Z"
   },
   {
    "duration": 92,
    "start_time": "2022-06-01T10:45:03.556Z"
   },
   {
    "duration": 6,
    "start_time": "2022-06-01T10:45:03.651Z"
   },
   {
    "duration": 57,
    "start_time": "2022-06-01T10:45:03.658Z"
   },
   {
    "duration": 68,
    "start_time": "2022-06-01T10:45:03.725Z"
   },
   {
    "duration": 6,
    "start_time": "2022-06-01T10:45:03.795Z"
   },
   {
    "duration": 32,
    "start_time": "2022-06-01T10:45:03.803Z"
   },
   {
    "duration": 4685,
    "start_time": "2022-06-01T10:45:03.837Z"
   },
   {
    "duration": 23,
    "start_time": "2022-06-01T10:45:08.526Z"
   },
   {
    "duration": 118,
    "start_time": "2022-06-01T10:45:08.551Z"
   },
   {
    "duration": 5,
    "start_time": "2022-06-01T10:45:08.671Z"
   },
   {
    "duration": 7,
    "start_time": "2022-06-01T10:45:08.678Z"
   },
   {
    "duration": 29,
    "start_time": "2022-06-01T10:45:08.686Z"
   },
   {
    "duration": 228,
    "start_time": "2022-06-01T10:45:08.717Z"
   },
   {
    "duration": 20,
    "start_time": "2022-06-01T10:45:08.947Z"
   },
   {
    "duration": 287,
    "start_time": "2022-06-01T10:45:08.969Z"
   },
   {
    "duration": 9,
    "start_time": "2022-06-01T10:45:09.258Z"
   },
   {
    "duration": 36,
    "start_time": "2022-06-01T10:45:09.269Z"
   },
   {
    "duration": 205,
    "start_time": "2022-06-01T10:45:09.307Z"
   },
   {
    "duration": 40,
    "start_time": "2022-06-01T10:45:09.514Z"
   },
   {
    "duration": 288,
    "start_time": "2022-06-01T10:45:09.556Z"
   },
   {
    "duration": 9,
    "start_time": "2022-06-01T10:45:09.846Z"
   },
   {
    "duration": 38,
    "start_time": "2022-06-01T10:45:09.856Z"
   },
   {
    "duration": 418,
    "start_time": "2022-06-01T10:45:09.895Z"
   },
   {
    "duration": 31,
    "start_time": "2022-06-01T10:45:10.315Z"
   },
   {
    "duration": 315,
    "start_time": "2022-06-01T10:45:10.349Z"
   },
   {
    "duration": 8,
    "start_time": "2022-06-01T10:45:10.666Z"
   },
   {
    "duration": 8,
    "start_time": "2022-06-01T10:45:10.676Z"
   },
   {
    "duration": 227,
    "start_time": "2022-06-01T10:45:10.686Z"
   },
   {
    "duration": 19,
    "start_time": "2022-06-01T10:45:10.915Z"
   },
   {
    "duration": 26,
    "start_time": "2022-06-01T10:45:10.939Z"
   },
   {
    "duration": 14,
    "start_time": "2022-06-01T10:45:10.969Z"
   },
   {
    "duration": 6,
    "start_time": "2022-06-01T10:45:10.984Z"
   },
   {
    "duration": 3,
    "start_time": "2022-06-01T10:54:15.874Z"
   },
   {
    "duration": 564,
    "start_time": "2022-06-01T10:54:15.880Z"
   },
   {
    "duration": 37,
    "start_time": "2022-06-01T10:54:16.445Z"
   },
   {
    "duration": 26,
    "start_time": "2022-06-01T10:54:16.484Z"
   },
   {
    "duration": 37,
    "start_time": "2022-06-01T10:54:16.512Z"
   },
   {
    "duration": 35,
    "start_time": "2022-06-01T10:54:16.551Z"
   },
   {
    "duration": 19,
    "start_time": "2022-06-01T10:54:16.588Z"
   },
   {
    "duration": 335,
    "start_time": "2022-06-01T10:54:16.608Z"
   },
   {
    "duration": 318,
    "start_time": "2022-06-01T10:54:16.945Z"
   },
   {
    "duration": 312,
    "start_time": "2022-06-01T10:54:17.265Z"
   },
   {
    "duration": 90,
    "start_time": "2022-06-01T10:54:17.579Z"
   },
   {
    "duration": 5,
    "start_time": "2022-06-01T10:54:17.671Z"
   },
   {
    "duration": 70,
    "start_time": "2022-06-01T10:54:17.678Z"
   },
   {
    "duration": 60,
    "start_time": "2022-06-01T10:54:17.752Z"
   },
   {
    "duration": 18,
    "start_time": "2022-06-01T10:54:17.815Z"
   },
   {
    "duration": 64,
    "start_time": "2022-06-01T10:54:17.837Z"
   },
   {
    "duration": 0,
    "start_time": "2022-06-01T10:54:17.903Z"
   },
   {
    "duration": 0,
    "start_time": "2022-06-01T10:54:17.904Z"
   },
   {
    "duration": 0,
    "start_time": "2022-06-01T10:54:17.906Z"
   },
   {
    "duration": 0,
    "start_time": "2022-06-01T10:54:17.907Z"
   },
   {
    "duration": 0,
    "start_time": "2022-06-01T10:54:17.909Z"
   },
   {
    "duration": 0,
    "start_time": "2022-06-01T10:54:17.910Z"
   },
   {
    "duration": 0,
    "start_time": "2022-06-01T10:54:17.911Z"
   },
   {
    "duration": 0,
    "start_time": "2022-06-01T10:54:17.913Z"
   },
   {
    "duration": 0,
    "start_time": "2022-06-01T10:54:17.914Z"
   },
   {
    "duration": 0,
    "start_time": "2022-06-01T10:54:17.916Z"
   },
   {
    "duration": 0,
    "start_time": "2022-06-01T10:54:17.917Z"
   },
   {
    "duration": 0,
    "start_time": "2022-06-01T10:54:17.919Z"
   },
   {
    "duration": 0,
    "start_time": "2022-06-01T10:54:17.920Z"
   },
   {
    "duration": 0,
    "start_time": "2022-06-01T10:54:17.921Z"
   },
   {
    "duration": 0,
    "start_time": "2022-06-01T10:54:17.923Z"
   },
   {
    "duration": 0,
    "start_time": "2022-06-01T10:54:17.924Z"
   },
   {
    "duration": 0,
    "start_time": "2022-06-01T10:54:17.925Z"
   },
   {
    "duration": 0,
    "start_time": "2022-06-01T10:54:17.927Z"
   },
   {
    "duration": 0,
    "start_time": "2022-06-01T10:54:17.928Z"
   },
   {
    "duration": 0,
    "start_time": "2022-06-01T10:54:17.929Z"
   },
   {
    "duration": 0,
    "start_time": "2022-06-01T10:54:17.933Z"
   },
   {
    "duration": 0,
    "start_time": "2022-06-01T10:54:17.934Z"
   },
   {
    "duration": 0,
    "start_time": "2022-06-01T10:54:17.935Z"
   },
   {
    "duration": 0,
    "start_time": "2022-06-01T10:54:17.936Z"
   },
   {
    "duration": 0,
    "start_time": "2022-06-01T10:54:17.937Z"
   },
   {
    "duration": 0,
    "start_time": "2022-06-01T10:54:17.938Z"
   },
   {
    "duration": 4,
    "start_time": "2022-06-01T10:54:32.676Z"
   },
   {
    "duration": 491,
    "start_time": "2022-06-01T10:54:32.682Z"
   },
   {
    "duration": 29,
    "start_time": "2022-06-01T10:54:33.175Z"
   },
   {
    "duration": 30,
    "start_time": "2022-06-01T10:54:33.206Z"
   },
   {
    "duration": 36,
    "start_time": "2022-06-01T10:54:33.239Z"
   },
   {
    "duration": 16,
    "start_time": "2022-06-01T10:54:33.277Z"
   },
   {
    "duration": 40,
    "start_time": "2022-06-01T10:54:33.295Z"
   },
   {
    "duration": 465,
    "start_time": "2022-06-01T10:54:33.337Z"
   },
   {
    "duration": 327,
    "start_time": "2022-06-01T10:54:33.803Z"
   },
   {
    "duration": 330,
    "start_time": "2022-06-01T10:54:34.132Z"
   },
   {
    "duration": 79,
    "start_time": "2022-06-01T10:54:34.464Z"
   },
   {
    "duration": 9,
    "start_time": "2022-06-01T10:54:34.544Z"
   },
   {
    "duration": 74,
    "start_time": "2022-06-01T10:54:34.555Z"
   },
   {
    "duration": 64,
    "start_time": "2022-06-01T10:54:34.633Z"
   },
   {
    "duration": 6,
    "start_time": "2022-06-01T10:54:34.698Z"
   },
   {
    "duration": 58,
    "start_time": "2022-06-01T10:54:34.706Z"
   },
   {
    "duration": 5466,
    "start_time": "2022-06-01T10:54:34.766Z"
   },
   {
    "duration": 35,
    "start_time": "2022-06-01T10:54:40.235Z"
   },
   {
    "duration": 110,
    "start_time": "2022-06-01T10:54:40.273Z"
   },
   {
    "duration": 5,
    "start_time": "2022-06-01T10:54:40.385Z"
   },
   {
    "duration": 14,
    "start_time": "2022-06-01T10:54:40.392Z"
   },
   {
    "duration": 105,
    "start_time": "2022-06-01T10:54:40.408Z"
   },
   {
    "duration": 257,
    "start_time": "2022-06-01T10:54:40.515Z"
   },
   {
    "duration": 18,
    "start_time": "2022-06-01T10:54:40.774Z"
   },
   {
    "duration": 295,
    "start_time": "2022-06-01T10:54:40.794Z"
   },
   {
    "duration": 8,
    "start_time": "2022-06-01T10:54:41.091Z"
   },
   {
    "duration": 56,
    "start_time": "2022-06-01T10:54:41.100Z"
   },
   {
    "duration": 232,
    "start_time": "2022-06-01T10:54:41.158Z"
   },
   {
    "duration": 17,
    "start_time": "2022-06-01T10:54:41.392Z"
   },
   {
    "duration": 335,
    "start_time": "2022-06-01T10:54:41.411Z"
   },
   {
    "duration": 8,
    "start_time": "2022-06-01T10:54:41.748Z"
   },
   {
    "duration": 35,
    "start_time": "2022-06-01T10:54:41.761Z"
   },
   {
    "duration": 463,
    "start_time": "2022-06-01T10:54:41.798Z"
   },
   {
    "duration": 20,
    "start_time": "2022-06-01T10:54:42.263Z"
   },
   {
    "duration": 324,
    "start_time": "2022-06-01T10:54:42.285Z"
   },
   {
    "duration": 17,
    "start_time": "2022-06-01T10:54:42.611Z"
   },
   {
    "duration": 32,
    "start_time": "2022-06-01T10:54:42.634Z"
   },
   {
    "duration": 232,
    "start_time": "2022-06-01T10:54:42.668Z"
   },
   {
    "duration": 7,
    "start_time": "2022-06-01T10:54:42.902Z"
   },
   {
    "duration": 19,
    "start_time": "2022-06-01T10:54:42.911Z"
   },
   {
    "duration": 51,
    "start_time": "2022-06-01T10:54:42.938Z"
   },
   {
    "duration": 16,
    "start_time": "2022-06-01T10:54:42.991Z"
   },
   {
    "duration": 3,
    "start_time": "2022-06-01T11:01:03.711Z"
   },
   {
    "duration": 505,
    "start_time": "2022-06-01T11:01:03.717Z"
   },
   {
    "duration": 38,
    "start_time": "2022-06-01T11:01:04.224Z"
   },
   {
    "duration": 36,
    "start_time": "2022-06-01T11:01:04.264Z"
   },
   {
    "duration": 55,
    "start_time": "2022-06-01T11:01:04.303Z"
   },
   {
    "duration": 21,
    "start_time": "2022-06-01T11:01:04.363Z"
   },
   {
    "duration": 29,
    "start_time": "2022-06-01T11:01:04.386Z"
   },
   {
    "duration": 338,
    "start_time": "2022-06-01T11:01:04.418Z"
   },
   {
    "duration": 321,
    "start_time": "2022-06-01T11:01:04.760Z"
   },
   {
    "duration": 334,
    "start_time": "2022-06-01T11:01:05.083Z"
   },
   {
    "duration": 92,
    "start_time": "2022-06-01T11:01:05.419Z"
   },
   {
    "duration": 6,
    "start_time": "2022-06-01T11:01:05.513Z"
   },
   {
    "duration": 93,
    "start_time": "2022-06-01T11:01:05.521Z"
   },
   {
    "duration": 150,
    "start_time": "2022-06-01T11:01:05.617Z"
   },
   {
    "duration": 0,
    "start_time": "2022-06-01T11:01:05.769Z"
   },
   {
    "duration": 0,
    "start_time": "2022-06-01T11:01:05.770Z"
   },
   {
    "duration": 0,
    "start_time": "2022-06-01T11:01:05.771Z"
   },
   {
    "duration": 0,
    "start_time": "2022-06-01T11:01:05.771Z"
   },
   {
    "duration": 0,
    "start_time": "2022-06-01T11:01:05.976Z"
   },
   {
    "duration": 0,
    "start_time": "2022-06-01T11:01:05.978Z"
   },
   {
    "duration": 0,
    "start_time": "2022-06-01T11:01:05.979Z"
   },
   {
    "duration": 0,
    "start_time": "2022-06-01T11:01:05.980Z"
   },
   {
    "duration": 0,
    "start_time": "2022-06-01T11:01:05.982Z"
   },
   {
    "duration": 0,
    "start_time": "2022-06-01T11:01:05.983Z"
   },
   {
    "duration": 0,
    "start_time": "2022-06-01T11:01:05.985Z"
   },
   {
    "duration": 0,
    "start_time": "2022-06-01T11:01:05.986Z"
   },
   {
    "duration": 0,
    "start_time": "2022-06-01T11:01:05.988Z"
   },
   {
    "duration": 0,
    "start_time": "2022-06-01T11:01:05.989Z"
   },
   {
    "duration": 0,
    "start_time": "2022-06-01T11:01:05.989Z"
   },
   {
    "duration": 0,
    "start_time": "2022-06-01T11:01:05.991Z"
   },
   {
    "duration": 0,
    "start_time": "2022-06-01T11:01:05.992Z"
   },
   {
    "duration": 0,
    "start_time": "2022-06-01T11:01:05.993Z"
   },
   {
    "duration": 0,
    "start_time": "2022-06-01T11:01:05.994Z"
   },
   {
    "duration": 0,
    "start_time": "2022-06-01T11:01:05.996Z"
   },
   {
    "duration": 0,
    "start_time": "2022-06-01T11:01:05.997Z"
   },
   {
    "duration": 0,
    "start_time": "2022-06-01T11:01:05.998Z"
   },
   {
    "duration": 0,
    "start_time": "2022-06-01T11:01:05.999Z"
   },
   {
    "duration": 0,
    "start_time": "2022-06-01T11:01:06.000Z"
   },
   {
    "duration": 0,
    "start_time": "2022-06-01T11:01:06.001Z"
   },
   {
    "duration": 0,
    "start_time": "2022-06-01T11:01:06.003Z"
   },
   {
    "duration": 0,
    "start_time": "2022-06-01T11:01:06.032Z"
   },
   {
    "duration": 0,
    "start_time": "2022-06-01T11:01:06.034Z"
   },
   {
    "duration": 3,
    "start_time": "2022-06-01T11:01:50.443Z"
   },
   {
    "duration": 459,
    "start_time": "2022-06-01T11:01:50.449Z"
   },
   {
    "duration": 39,
    "start_time": "2022-06-01T11:01:50.910Z"
   },
   {
    "duration": 30,
    "start_time": "2022-06-01T11:01:50.952Z"
   },
   {
    "duration": 44,
    "start_time": "2022-06-01T11:01:50.985Z"
   },
   {
    "duration": 22,
    "start_time": "2022-06-01T11:01:51.034Z"
   },
   {
    "duration": 25,
    "start_time": "2022-06-01T11:01:51.058Z"
   },
   {
    "duration": 327,
    "start_time": "2022-06-01T11:01:51.085Z"
   },
   {
    "duration": 318,
    "start_time": "2022-06-01T11:01:51.414Z"
   },
   {
    "duration": 303,
    "start_time": "2022-06-01T11:01:51.739Z"
   },
   {
    "duration": 92,
    "start_time": "2022-06-01T11:01:52.045Z"
   },
   {
    "duration": 6,
    "start_time": "2022-06-01T11:01:52.144Z"
   },
   {
    "duration": 59,
    "start_time": "2022-06-01T11:01:52.152Z"
   },
   {
    "duration": 87,
    "start_time": "2022-06-01T11:01:52.213Z"
   },
   {
    "duration": 7,
    "start_time": "2022-06-01T11:01:52.301Z"
   },
   {
    "duration": 30,
    "start_time": "2022-06-01T11:01:52.310Z"
   },
   {
    "duration": 4859,
    "start_time": "2022-06-01T11:01:52.343Z"
   },
   {
    "duration": 34,
    "start_time": "2022-06-01T11:01:57.205Z"
   },
   {
    "duration": 116,
    "start_time": "2022-06-01T11:01:57.240Z"
   },
   {
    "duration": 3,
    "start_time": "2022-06-01T11:01:57.358Z"
   },
   {
    "duration": 6,
    "start_time": "2022-06-01T11:01:57.363Z"
   },
   {
    "duration": 23,
    "start_time": "2022-06-01T11:01:57.371Z"
   },
   {
    "duration": 270,
    "start_time": "2022-06-01T11:01:57.395Z"
   },
   {
    "duration": 18,
    "start_time": "2022-06-01T11:01:57.667Z"
   },
   {
    "duration": 264,
    "start_time": "2022-06-01T11:01:57.687Z"
   },
   {
    "duration": 8,
    "start_time": "2022-06-01T11:01:57.953Z"
   },
   {
    "duration": 33,
    "start_time": "2022-06-01T11:01:57.963Z"
   },
   {
    "duration": 215,
    "start_time": "2022-06-01T11:01:58.001Z"
   },
   {
    "duration": 35,
    "start_time": "2022-06-01T11:01:58.226Z"
   },
   {
    "duration": 448,
    "start_time": "2022-06-01T11:01:58.263Z"
   },
   {
    "duration": 28,
    "start_time": "2022-06-01T11:01:58.713Z"
   },
   {
    "duration": 27,
    "start_time": "2022-06-01T11:01:58.744Z"
   },
   {
    "duration": 280,
    "start_time": "2022-06-01T11:01:58.774Z"
   },
   {
    "duration": 17,
    "start_time": "2022-06-01T11:01:59.056Z"
   },
   {
    "duration": 369,
    "start_time": "2022-06-01T11:01:59.075Z"
   },
   {
    "duration": 7,
    "start_time": "2022-06-01T11:01:59.446Z"
   },
   {
    "duration": 6,
    "start_time": "2022-06-01T11:01:59.455Z"
   },
   {
    "duration": 230,
    "start_time": "2022-06-01T11:01:59.463Z"
   },
   {
    "duration": 6,
    "start_time": "2022-06-01T11:01:59.695Z"
   },
   {
    "duration": 27,
    "start_time": "2022-06-01T11:01:59.703Z"
   },
   {
    "duration": 19,
    "start_time": "2022-06-01T11:01:59.732Z"
   },
   {
    "duration": 8,
    "start_time": "2022-06-01T11:01:59.753Z"
   },
   {
    "duration": 19,
    "start_time": "2022-06-01T11:06:40.377Z"
   },
   {
    "duration": 15,
    "start_time": "2022-06-01T11:06:56.567Z"
   },
   {
    "duration": 15,
    "start_time": "2022-06-01T11:11:36.762Z"
   },
   {
    "duration": 281,
    "start_time": "2022-06-01T11:11:56.892Z"
   },
   {
    "duration": 525,
    "start_time": "2022-06-01T11:12:06.951Z"
   },
   {
    "duration": 711,
    "start_time": "2022-06-01T11:12:16.569Z"
   },
   {
    "duration": 16,
    "start_time": "2022-06-01T11:12:22.752Z"
   },
   {
    "duration": 36,
    "start_time": "2022-06-01T11:12:26.017Z"
   },
   {
    "duration": 10,
    "start_time": "2022-06-01T11:12:53.893Z"
   },
   {
    "duration": 23,
    "start_time": "2022-06-01T11:13:04.068Z"
   },
   {
    "duration": 32,
    "start_time": "2022-06-01T11:13:12.943Z"
   },
   {
    "duration": 37,
    "start_time": "2022-06-01T11:14:08.046Z"
   },
   {
    "duration": 188,
    "start_time": "2022-06-01T11:14:11.915Z"
   },
   {
    "duration": 4,
    "start_time": "2022-06-01T11:17:38.716Z"
   },
   {
    "duration": 444,
    "start_time": "2022-06-01T11:17:38.722Z"
   },
   {
    "duration": 43,
    "start_time": "2022-06-01T11:17:39.168Z"
   },
   {
    "duration": 38,
    "start_time": "2022-06-01T11:17:39.213Z"
   },
   {
    "duration": 31,
    "start_time": "2022-06-01T11:17:39.254Z"
   },
   {
    "duration": 39,
    "start_time": "2022-06-01T11:17:39.287Z"
   },
   {
    "duration": 24,
    "start_time": "2022-06-01T11:17:39.329Z"
   },
   {
    "duration": 308,
    "start_time": "2022-06-01T11:17:39.355Z"
   },
   {
    "duration": 306,
    "start_time": "2022-06-01T11:17:39.665Z"
   },
   {
    "duration": 503,
    "start_time": "2022-06-01T11:17:39.973Z"
   },
   {
    "duration": 88,
    "start_time": "2022-06-01T11:17:40.478Z"
   },
   {
    "duration": 6,
    "start_time": "2022-06-01T11:17:40.568Z"
   },
   {
    "duration": 65,
    "start_time": "2022-06-01T11:17:40.578Z"
   },
   {
    "duration": 52,
    "start_time": "2022-06-01T11:17:40.645Z"
   },
   {
    "duration": 6,
    "start_time": "2022-06-01T11:17:40.699Z"
   },
   {
    "duration": 24,
    "start_time": "2022-06-01T11:17:40.707Z"
   },
   {
    "duration": 4752,
    "start_time": "2022-06-01T11:17:40.733Z"
   },
   {
    "duration": 26,
    "start_time": "2022-06-01T11:17:45.487Z"
   },
   {
    "duration": 93,
    "start_time": "2022-06-01T11:17:45.526Z"
   },
   {
    "duration": 4,
    "start_time": "2022-06-01T11:17:45.625Z"
   },
   {
    "duration": 25,
    "start_time": "2022-06-01T11:17:45.630Z"
   },
   {
    "duration": 263,
    "start_time": "2022-06-01T11:17:45.656Z"
   },
   {
    "duration": 26,
    "start_time": "2022-06-01T11:17:45.925Z"
   },
   {
    "duration": 289,
    "start_time": "2022-06-01T11:17:45.954Z"
   },
   {
    "duration": 12,
    "start_time": "2022-06-01T11:17:46.245Z"
   },
   {
    "duration": 37,
    "start_time": "2022-06-01T11:17:46.260Z"
   },
   {
    "duration": 204,
    "start_time": "2022-06-01T11:17:46.298Z"
   },
   {
    "duration": 25,
    "start_time": "2022-06-01T11:17:46.504Z"
   },
   {
    "duration": 305,
    "start_time": "2022-06-01T11:17:46.531Z"
   },
   {
    "duration": 8,
    "start_time": "2022-06-01T11:17:46.838Z"
   },
   {
    "duration": 36,
    "start_time": "2022-06-01T11:17:46.848Z"
   },
   {
    "duration": 304,
    "start_time": "2022-06-01T11:17:46.886Z"
   },
   {
    "duration": 30,
    "start_time": "2022-06-01T11:17:47.196Z"
   },
   {
    "duration": 482,
    "start_time": "2022-06-01T11:17:47.228Z"
   },
   {
    "duration": 15,
    "start_time": "2022-06-01T11:17:47.712Z"
   },
   {
    "duration": 11,
    "start_time": "2022-06-01T11:17:47.729Z"
   },
   {
    "duration": 218,
    "start_time": "2022-06-01T11:17:47.745Z"
   },
   {
    "duration": 6,
    "start_time": "2022-06-01T11:17:47.965Z"
   },
   {
    "duration": 13,
    "start_time": "2022-06-01T11:17:47.973Z"
   },
   {
    "duration": 39,
    "start_time": "2022-06-01T11:17:47.988Z"
   },
   {
    "duration": 8,
    "start_time": "2022-06-01T11:17:48.029Z"
   },
   {
    "duration": 56,
    "start_time": "2022-06-01T11:22:01.780Z"
   },
   {
    "duration": 56,
    "start_time": "2022-06-01T12:32:59.787Z"
   },
   {
    "duration": 805,
    "start_time": "2022-06-01T12:33:03.616Z"
   },
   {
    "duration": 931,
    "start_time": "2022-06-01T12:33:04.424Z"
   },
   {
    "duration": 48,
    "start_time": "2022-06-01T12:33:05.357Z"
   },
   {
    "duration": 50,
    "start_time": "2022-06-01T12:33:05.407Z"
   },
   {
    "duration": 22,
    "start_time": "2022-06-01T12:33:05.461Z"
   },
   {
    "duration": 17,
    "start_time": "2022-06-01T12:33:05.484Z"
   },
   {
    "duration": 19,
    "start_time": "2022-06-01T12:33:05.502Z"
   },
   {
    "duration": 761,
    "start_time": "2022-06-01T12:33:05.522Z"
   },
   {
    "duration": 346,
    "start_time": "2022-06-01T12:33:06.285Z"
   },
   {
    "duration": 308,
    "start_time": "2022-06-01T12:33:06.633Z"
   },
   {
    "duration": 79,
    "start_time": "2022-06-01T12:33:06.942Z"
   },
   {
    "duration": 6,
    "start_time": "2022-06-01T12:33:07.023Z"
   },
   {
    "duration": 66,
    "start_time": "2022-06-01T12:33:07.031Z"
   },
   {
    "duration": 62,
    "start_time": "2022-06-01T12:33:07.100Z"
   },
   {
    "duration": 5,
    "start_time": "2022-06-01T12:33:07.164Z"
   },
   {
    "duration": 6,
    "start_time": "2022-06-01T12:33:07.171Z"
   },
   {
    "duration": 4383,
    "start_time": "2022-06-01T12:33:07.179Z"
   },
   {
    "duration": 20,
    "start_time": "2022-06-01T12:33:11.563Z"
   },
   {
    "duration": 108,
    "start_time": "2022-06-01T12:33:11.584Z"
   },
   {
    "duration": 4,
    "start_time": "2022-06-01T12:33:11.693Z"
   },
   {
    "duration": 30,
    "start_time": "2022-06-01T12:33:11.699Z"
   },
   {
    "duration": 225,
    "start_time": "2022-06-01T12:33:11.731Z"
   },
   {
    "duration": 19,
    "start_time": "2022-06-01T12:33:11.958Z"
   },
   {
    "duration": 240,
    "start_time": "2022-06-01T12:33:11.979Z"
   },
   {
    "duration": 10,
    "start_time": "2022-06-01T12:33:12.221Z"
   },
   {
    "duration": 834,
    "start_time": "2022-06-01T12:33:12.233Z"
   },
   {
    "duration": 0,
    "start_time": "2022-06-01T12:33:13.069Z"
   },
   {
    "duration": 0,
    "start_time": "2022-06-01T12:33:13.070Z"
   },
   {
    "duration": 0,
    "start_time": "2022-06-01T12:33:13.072Z"
   },
   {
    "duration": 0,
    "start_time": "2022-06-01T12:33:13.073Z"
   },
   {
    "duration": 0,
    "start_time": "2022-06-01T12:33:13.075Z"
   },
   {
    "duration": 0,
    "start_time": "2022-06-01T12:33:13.077Z"
   },
   {
    "duration": 0,
    "start_time": "2022-06-01T12:33:13.079Z"
   },
   {
    "duration": 0,
    "start_time": "2022-06-01T12:33:13.080Z"
   },
   {
    "duration": 0,
    "start_time": "2022-06-01T12:33:13.082Z"
   },
   {
    "duration": 0,
    "start_time": "2022-06-01T12:33:13.084Z"
   },
   {
    "duration": 0,
    "start_time": "2022-06-01T12:33:13.085Z"
   },
   {
    "duration": 0,
    "start_time": "2022-06-01T12:33:13.087Z"
   },
   {
    "duration": 0,
    "start_time": "2022-06-01T12:33:13.089Z"
   },
   {
    "duration": 0,
    "start_time": "2022-06-01T12:33:13.090Z"
   },
   {
    "duration": 0,
    "start_time": "2022-06-01T12:33:13.092Z"
   },
   {
    "duration": 36,
    "start_time": "2022-06-01T12:33:22.573Z"
   },
   {
    "duration": 35,
    "start_time": "2022-06-01T12:33:44.388Z"
   },
   {
    "duration": 2,
    "start_time": "2022-06-01T12:34:04.244Z"
   },
   {
    "duration": 389,
    "start_time": "2022-06-01T12:34:04.248Z"
   },
   {
    "duration": 29,
    "start_time": "2022-06-01T12:34:04.640Z"
   },
   {
    "duration": 27,
    "start_time": "2022-06-01T12:34:04.670Z"
   },
   {
    "duration": 22,
    "start_time": "2022-06-01T12:34:04.700Z"
   },
   {
    "duration": 17,
    "start_time": "2022-06-01T12:34:04.752Z"
   },
   {
    "duration": 30,
    "start_time": "2022-06-01T12:34:04.771Z"
   },
   {
    "duration": 286,
    "start_time": "2022-06-01T12:34:04.803Z"
   },
   {
    "duration": 349,
    "start_time": "2022-06-01T12:34:05.091Z"
   },
   {
    "duration": 363,
    "start_time": "2022-06-01T12:34:05.442Z"
   },
   {
    "duration": 75,
    "start_time": "2022-06-01T12:34:05.807Z"
   },
   {
    "duration": 5,
    "start_time": "2022-06-01T12:34:05.884Z"
   },
   {
    "duration": 61,
    "start_time": "2022-06-01T12:34:05.892Z"
   },
   {
    "duration": 48,
    "start_time": "2022-06-01T12:34:05.956Z"
   },
   {
    "duration": 5,
    "start_time": "2022-06-01T12:34:06.006Z"
   },
   {
    "duration": 14,
    "start_time": "2022-06-01T12:34:06.012Z"
   },
   {
    "duration": 4498,
    "start_time": "2022-06-01T12:34:06.027Z"
   },
   {
    "duration": 29,
    "start_time": "2022-06-01T12:34:10.526Z"
   },
   {
    "duration": 87,
    "start_time": "2022-06-01T12:34:10.557Z"
   },
   {
    "duration": 4,
    "start_time": "2022-06-01T12:34:10.652Z"
   },
   {
    "duration": 24,
    "start_time": "2022-06-01T12:34:10.657Z"
   },
   {
    "duration": 214,
    "start_time": "2022-06-01T12:34:10.683Z"
   },
   {
    "duration": 18,
    "start_time": "2022-06-01T12:34:10.899Z"
   },
   {
    "duration": 238,
    "start_time": "2022-06-01T12:34:10.919Z"
   },
   {
    "duration": 7,
    "start_time": "2022-06-01T12:34:11.159Z"
   },
   {
    "duration": 34,
    "start_time": "2022-06-01T12:34:11.168Z"
   },
   {
    "duration": 202,
    "start_time": "2022-06-01T12:34:11.204Z"
   },
   {
    "duration": 18,
    "start_time": "2022-06-01T12:34:11.408Z"
   },
   {
    "duration": 293,
    "start_time": "2022-06-01T12:34:11.427Z"
   },
   {
    "duration": 6,
    "start_time": "2022-06-01T12:34:11.722Z"
   },
   {
    "duration": 46,
    "start_time": "2022-06-01T12:34:11.730Z"
   },
   {
    "duration": 257,
    "start_time": "2022-06-01T12:34:11.777Z"
   },
   {
    "duration": 23,
    "start_time": "2022-06-01T12:34:12.035Z"
   },
   {
    "duration": 369,
    "start_time": "2022-06-01T12:34:12.060Z"
   },
   {
    "duration": 7,
    "start_time": "2022-06-01T12:34:12.431Z"
   },
   {
    "duration": 18,
    "start_time": "2022-06-01T12:34:12.440Z"
   },
   {
    "duration": 241,
    "start_time": "2022-06-01T12:34:12.460Z"
   },
   {
    "duration": 6,
    "start_time": "2022-06-01T12:34:12.703Z"
   },
   {
    "duration": 11,
    "start_time": "2022-06-01T12:34:12.711Z"
   },
   {
    "duration": 30,
    "start_time": "2022-06-01T12:34:12.723Z"
   },
   {
    "duration": 6,
    "start_time": "2022-06-01T12:34:12.756Z"
   },
   {
    "duration": 39,
    "start_time": "2022-06-01T12:38:41.508Z"
   },
   {
    "duration": 39,
    "start_time": "2022-06-01T12:38:57.728Z"
   },
   {
    "duration": 39,
    "start_time": "2022-06-01T12:39:01.385Z"
   },
   {
    "duration": 3,
    "start_time": "2022-06-01T12:39:11.209Z"
   },
   {
    "duration": 410,
    "start_time": "2022-06-01T12:39:11.214Z"
   },
   {
    "duration": 43,
    "start_time": "2022-06-01T12:39:11.625Z"
   },
   {
    "duration": 28,
    "start_time": "2022-06-01T12:39:11.670Z"
   },
   {
    "duration": 22,
    "start_time": "2022-06-01T12:39:11.700Z"
   },
   {
    "duration": 39,
    "start_time": "2022-06-01T12:39:11.724Z"
   },
   {
    "duration": 22,
    "start_time": "2022-06-01T12:39:11.765Z"
   },
   {
    "duration": 308,
    "start_time": "2022-06-01T12:39:11.790Z"
   },
   {
    "duration": 284,
    "start_time": "2022-06-01T12:39:12.100Z"
   },
   {
    "duration": 327,
    "start_time": "2022-06-01T12:39:12.386Z"
   },
   {
    "duration": 75,
    "start_time": "2022-06-01T12:39:12.716Z"
   },
   {
    "duration": 6,
    "start_time": "2022-06-01T12:39:12.793Z"
   },
   {
    "duration": 65,
    "start_time": "2022-06-01T12:39:12.800Z"
   },
   {
    "duration": 57,
    "start_time": "2022-06-01T12:39:12.869Z"
   },
   {
    "duration": 5,
    "start_time": "2022-06-01T12:39:12.928Z"
   },
   {
    "duration": 21,
    "start_time": "2022-06-01T12:39:12.935Z"
   },
   {
    "duration": 4788,
    "start_time": "2022-06-01T12:39:12.957Z"
   },
   {
    "duration": 24,
    "start_time": "2022-06-01T12:39:17.746Z"
   },
   {
    "duration": 108,
    "start_time": "2022-06-01T12:39:17.772Z"
   },
   {
    "duration": 4,
    "start_time": "2022-06-01T12:39:17.882Z"
   },
   {
    "duration": 33,
    "start_time": "2022-06-01T12:39:17.888Z"
   },
   {
    "duration": 204,
    "start_time": "2022-06-01T12:39:17.923Z"
   },
   {
    "duration": 34,
    "start_time": "2022-06-01T12:39:18.129Z"
   },
   {
    "duration": 247,
    "start_time": "2022-06-01T12:39:18.165Z"
   },
   {
    "duration": 7,
    "start_time": "2022-06-01T12:39:18.414Z"
   },
   {
    "duration": 51,
    "start_time": "2022-06-01T12:39:18.423Z"
   },
   {
    "duration": 308,
    "start_time": "2022-06-01T12:39:18.476Z"
   },
   {
    "duration": 19,
    "start_time": "2022-06-01T12:39:18.785Z"
   },
   {
    "duration": 278,
    "start_time": "2022-06-01T12:39:18.806Z"
   },
   {
    "duration": 7,
    "start_time": "2022-06-01T12:39:19.086Z"
   },
   {
    "duration": 36,
    "start_time": "2022-06-01T12:39:19.094Z"
   },
   {
    "duration": 281,
    "start_time": "2022-06-01T12:39:19.132Z"
   },
   {
    "duration": 17,
    "start_time": "2022-06-01T12:39:19.415Z"
   },
   {
    "duration": 279,
    "start_time": "2022-06-01T12:39:19.434Z"
   },
   {
    "duration": 7,
    "start_time": "2022-06-01T12:39:19.715Z"
   },
   {
    "duration": 8,
    "start_time": "2022-06-01T12:39:19.724Z"
   },
   {
    "duration": 225,
    "start_time": "2022-06-01T12:39:19.734Z"
   },
   {
    "duration": 7,
    "start_time": "2022-06-01T12:39:19.960Z"
   },
   {
    "duration": 12,
    "start_time": "2022-06-01T12:39:19.969Z"
   },
   {
    "duration": 18,
    "start_time": "2022-06-01T12:39:19.983Z"
   },
   {
    "duration": 7,
    "start_time": "2022-06-01T12:39:20.005Z"
   },
   {
    "duration": 24,
    "start_time": "2022-06-01T12:39:33.705Z"
   },
   {
    "duration": 3,
    "start_time": "2022-06-01T12:39:50.197Z"
   },
   {
    "duration": 475,
    "start_time": "2022-06-01T12:39:50.202Z"
   },
   {
    "duration": 74,
    "start_time": "2022-06-01T12:39:50.679Z"
   },
   {
    "duration": 26,
    "start_time": "2022-06-01T12:39:50.755Z"
   },
   {
    "duration": 73,
    "start_time": "2022-06-01T12:39:50.783Z"
   },
   {
    "duration": 18,
    "start_time": "2022-06-01T12:39:50.857Z"
   },
   {
    "duration": 26,
    "start_time": "2022-06-01T12:39:50.877Z"
   },
   {
    "duration": 507,
    "start_time": "2022-06-01T12:39:50.905Z"
   },
   {
    "duration": 410,
    "start_time": "2022-06-01T12:39:51.414Z"
   },
   {
    "duration": 294,
    "start_time": "2022-06-01T12:39:51.826Z"
   },
   {
    "duration": 83,
    "start_time": "2022-06-01T12:39:52.122Z"
   },
   {
    "duration": 7,
    "start_time": "2022-06-01T12:39:52.207Z"
   },
   {
    "duration": 63,
    "start_time": "2022-06-01T12:39:52.216Z"
   },
   {
    "duration": 52,
    "start_time": "2022-06-01T12:39:52.284Z"
   },
   {
    "duration": 16,
    "start_time": "2022-06-01T12:39:52.338Z"
   },
   {
    "duration": 10,
    "start_time": "2022-06-01T12:39:52.356Z"
   },
   {
    "duration": 4809,
    "start_time": "2022-06-01T12:39:52.367Z"
   },
   {
    "duration": 18,
    "start_time": "2022-06-01T12:39:57.177Z"
   },
   {
    "duration": 91,
    "start_time": "2022-06-01T12:39:57.196Z"
   },
   {
    "duration": 3,
    "start_time": "2022-06-01T12:39:57.289Z"
   },
   {
    "duration": 34,
    "start_time": "2022-06-01T12:39:57.294Z"
   },
   {
    "duration": 211,
    "start_time": "2022-06-01T12:39:57.329Z"
   },
   {
    "duration": 25,
    "start_time": "2022-06-01T12:39:57.541Z"
   },
   {
    "duration": 233,
    "start_time": "2022-06-01T12:39:57.567Z"
   },
   {
    "duration": 8,
    "start_time": "2022-06-01T12:39:57.802Z"
   },
   {
    "duration": 50,
    "start_time": "2022-06-01T12:39:57.812Z"
   },
   {
    "duration": 194,
    "start_time": "2022-06-01T12:39:57.864Z"
   },
   {
    "duration": 18,
    "start_time": "2022-06-01T12:39:58.060Z"
   },
   {
    "duration": 289,
    "start_time": "2022-06-01T12:39:58.080Z"
   },
   {
    "duration": 7,
    "start_time": "2022-06-01T12:39:58.370Z"
   },
   {
    "duration": 34,
    "start_time": "2022-06-01T12:39:58.379Z"
   },
   {
    "duration": 265,
    "start_time": "2022-06-01T12:39:58.415Z"
   },
   {
    "duration": 16,
    "start_time": "2022-06-01T12:39:58.681Z"
   },
   {
    "duration": 432,
    "start_time": "2022-06-01T12:39:58.698Z"
   },
   {
    "duration": 8,
    "start_time": "2022-06-01T12:39:59.132Z"
   },
   {
    "duration": 14,
    "start_time": "2022-06-01T12:39:59.141Z"
   },
   {
    "duration": 217,
    "start_time": "2022-06-01T12:39:59.157Z"
   },
   {
    "duration": 7,
    "start_time": "2022-06-01T12:39:59.375Z"
   },
   {
    "duration": 14,
    "start_time": "2022-06-01T12:39:59.383Z"
   },
   {
    "duration": 17,
    "start_time": "2022-06-01T12:39:59.399Z"
   },
   {
    "duration": 6,
    "start_time": "2022-06-01T12:39:59.420Z"
   },
   {
    "duration": 42,
    "start_time": "2022-06-01T12:43:11.567Z"
   },
   {
    "duration": 23,
    "start_time": "2022-06-01T12:43:40.708Z"
   },
   {
    "duration": 5,
    "start_time": "2022-06-01T12:44:13.427Z"
   },
   {
    "duration": 24,
    "start_time": "2022-06-01T12:44:39.908Z"
   },
   {
    "duration": 255,
    "start_time": "2022-06-01T12:45:03.108Z"
   },
   {
    "duration": 278,
    "start_time": "2022-06-01T12:48:19.888Z"
   },
   {
    "duration": 383,
    "start_time": "2022-06-01T12:48:40.086Z"
   },
   {
    "duration": 177,
    "start_time": "2022-06-01T12:48:46.070Z"
   },
   {
    "duration": 24,
    "start_time": "2022-06-01T12:50:50.088Z"
   },
   {
    "duration": 3,
    "start_time": "2022-06-01T12:50:54.055Z"
   },
   {
    "duration": 414,
    "start_time": "2022-06-01T12:50:54.060Z"
   },
   {
    "duration": 39,
    "start_time": "2022-06-01T12:50:54.475Z"
   },
   {
    "duration": 27,
    "start_time": "2022-06-01T12:50:54.516Z"
   },
   {
    "duration": 23,
    "start_time": "2022-06-01T12:50:54.551Z"
   },
   {
    "duration": 162,
    "start_time": "2022-06-01T12:50:54.575Z"
   },
   {
    "duration": 31,
    "start_time": "2022-06-01T12:50:54.739Z"
   },
   {
    "duration": 312,
    "start_time": "2022-06-01T12:50:54.771Z"
   },
   {
    "duration": 409,
    "start_time": "2022-06-01T12:50:55.085Z"
   },
   {
    "duration": 284,
    "start_time": "2022-06-01T12:50:55.495Z"
   },
   {
    "duration": 76,
    "start_time": "2022-06-01T12:50:55.781Z"
   },
   {
    "duration": 6,
    "start_time": "2022-06-01T12:50:55.859Z"
   },
   {
    "duration": 74,
    "start_time": "2022-06-01T12:50:55.867Z"
   },
   {
    "duration": 51,
    "start_time": "2022-06-01T12:50:55.944Z"
   },
   {
    "duration": 7,
    "start_time": "2022-06-01T12:50:55.996Z"
   },
   {
    "duration": 35,
    "start_time": "2022-06-01T12:50:56.005Z"
   },
   {
    "duration": 4465,
    "start_time": "2022-06-01T12:50:56.042Z"
   },
   {
    "duration": 20,
    "start_time": "2022-06-01T12:51:00.509Z"
   },
   {
    "duration": 91,
    "start_time": "2022-06-01T12:51:00.531Z"
   },
   {
    "duration": 3,
    "start_time": "2022-06-01T12:51:00.624Z"
   },
   {
    "duration": 37,
    "start_time": "2022-06-01T12:51:00.629Z"
   },
   {
    "duration": 203,
    "start_time": "2022-06-01T12:51:00.668Z"
   },
   {
    "duration": 19,
    "start_time": "2022-06-01T12:51:00.873Z"
   },
   {
    "duration": 230,
    "start_time": "2022-06-01T12:51:00.894Z"
   },
   {
    "duration": 7,
    "start_time": "2022-06-01T12:51:01.125Z"
   },
   {
    "duration": 53,
    "start_time": "2022-06-01T12:51:01.134Z"
   },
   {
    "duration": 215,
    "start_time": "2022-06-01T12:51:01.188Z"
   },
   {
    "duration": 21,
    "start_time": "2022-06-01T12:51:01.404Z"
   },
   {
    "duration": 359,
    "start_time": "2022-06-01T12:51:01.428Z"
   },
   {
    "duration": 8,
    "start_time": "2022-06-01T12:51:01.789Z"
   },
   {
    "duration": 91,
    "start_time": "2022-06-01T12:51:01.799Z"
   },
   {
    "duration": 465,
    "start_time": "2022-06-01T12:51:01.892Z"
   },
   {
    "duration": 19,
    "start_time": "2022-06-01T12:51:02.358Z"
   },
   {
    "duration": 348,
    "start_time": "2022-06-01T12:51:02.379Z"
   },
   {
    "duration": 6,
    "start_time": "2022-06-01T12:51:02.729Z"
   },
   {
    "duration": 17,
    "start_time": "2022-06-01T12:51:02.737Z"
   },
   {
    "duration": 175,
    "start_time": "2022-06-01T12:51:02.756Z"
   },
   {
    "duration": 7,
    "start_time": "2022-06-01T12:51:02.933Z"
   },
   {
    "duration": 24,
    "start_time": "2022-06-01T12:51:02.942Z"
   },
   {
    "duration": 20,
    "start_time": "2022-06-01T12:51:02.968Z"
   },
   {
    "duration": 14,
    "start_time": "2022-06-01T12:51:02.992Z"
   },
   {
    "duration": 8,
    "start_time": "2022-06-01T12:52:53.426Z"
   },
   {
    "duration": 3,
    "start_time": "2022-06-01T12:53:01.269Z"
   },
   {
    "duration": 445,
    "start_time": "2022-06-01T12:53:01.274Z"
   },
   {
    "duration": 29,
    "start_time": "2022-06-01T12:53:01.721Z"
   },
   {
    "duration": 86,
    "start_time": "2022-06-01T12:53:01.751Z"
   },
   {
    "duration": 43,
    "start_time": "2022-06-01T12:53:01.839Z"
   },
   {
    "duration": 30,
    "start_time": "2022-06-01T12:53:01.883Z"
   },
   {
    "duration": 26,
    "start_time": "2022-06-01T12:53:01.915Z"
   },
   {
    "duration": 344,
    "start_time": "2022-06-01T12:53:01.943Z"
   },
   {
    "duration": 290,
    "start_time": "2022-06-01T12:53:02.289Z"
   },
   {
    "duration": 305,
    "start_time": "2022-06-01T12:53:02.581Z"
   },
   {
    "duration": 85,
    "start_time": "2022-06-01T12:53:02.889Z"
   },
   {
    "duration": 6,
    "start_time": "2022-06-01T12:53:02.976Z"
   },
   {
    "duration": 52,
    "start_time": "2022-06-01T12:53:02.984Z"
   },
   {
    "duration": 72,
    "start_time": "2022-06-01T12:53:03.038Z"
   },
   {
    "duration": 7,
    "start_time": "2022-06-01T12:53:03.112Z"
   },
   {
    "duration": 11,
    "start_time": "2022-06-01T12:53:03.120Z"
   },
   {
    "duration": 4849,
    "start_time": "2022-06-01T12:53:03.132Z"
   },
   {
    "duration": 21,
    "start_time": "2022-06-01T12:53:07.982Z"
   },
   {
    "duration": 101,
    "start_time": "2022-06-01T12:53:08.004Z"
   },
   {
    "duration": 4,
    "start_time": "2022-06-01T12:53:08.106Z"
   },
   {
    "duration": 59,
    "start_time": "2022-06-01T12:53:08.111Z"
   },
   {
    "duration": 216,
    "start_time": "2022-06-01T12:53:08.173Z"
   },
   {
    "duration": 19,
    "start_time": "2022-06-01T12:53:08.391Z"
   },
   {
    "duration": 251,
    "start_time": "2022-06-01T12:53:08.413Z"
   },
   {
    "duration": 10,
    "start_time": "2022-06-01T12:53:08.666Z"
   },
   {
    "duration": 34,
    "start_time": "2022-06-01T12:53:08.678Z"
   },
   {
    "duration": 204,
    "start_time": "2022-06-01T12:53:08.715Z"
   },
   {
    "duration": 18,
    "start_time": "2022-06-01T12:53:08.921Z"
   },
   {
    "duration": 492,
    "start_time": "2022-06-01T12:53:08.951Z"
   },
   {
    "duration": 11,
    "start_time": "2022-06-01T12:53:09.444Z"
   },
   {
    "duration": 40,
    "start_time": "2022-06-01T12:53:09.463Z"
   },
   {
    "duration": 295,
    "start_time": "2022-06-01T12:53:09.505Z"
   },
   {
    "duration": 18,
    "start_time": "2022-06-01T12:53:09.801Z"
   },
   {
    "duration": 312,
    "start_time": "2022-06-01T12:53:09.821Z"
   },
   {
    "duration": 7,
    "start_time": "2022-06-01T12:53:10.135Z"
   },
   {
    "duration": 27,
    "start_time": "2022-06-01T12:53:10.156Z"
   },
   {
    "duration": 22,
    "start_time": "2022-06-01T12:53:10.185Z"
   },
   {
    "duration": 7,
    "start_time": "2022-06-01T12:53:10.209Z"
   },
   {
    "duration": 27,
    "start_time": "2022-06-01T12:53:10.217Z"
   },
   {
    "duration": 41,
    "start_time": "2022-06-01T12:53:10.246Z"
   },
   {
    "duration": 8,
    "start_time": "2022-06-01T12:53:10.289Z"
   },
   {
    "duration": 6,
    "start_time": "2022-06-01T12:56:48.549Z"
   },
   {
    "duration": 14,
    "start_time": "2022-06-01T12:57:35.932Z"
   },
   {
    "duration": 10,
    "start_time": "2022-06-01T12:57:41.828Z"
   },
   {
    "duration": 18,
    "start_time": "2022-06-01T12:57:42.272Z"
   },
   {
    "duration": 8,
    "start_time": "2022-06-01T12:57:44.828Z"
   },
   {
    "duration": 6,
    "start_time": "2022-06-01T12:57:57.858Z"
   },
   {
    "duration": 21,
    "start_time": "2022-06-01T12:57:58.628Z"
   },
   {
    "duration": 7,
    "start_time": "2022-06-01T12:58:00.770Z"
   },
   {
    "duration": 3,
    "start_time": "2022-06-01T12:58:32.760Z"
   },
   {
    "duration": 387,
    "start_time": "2022-06-01T12:58:32.773Z"
   },
   {
    "duration": 27,
    "start_time": "2022-06-01T12:58:33.163Z"
   },
   {
    "duration": 28,
    "start_time": "2022-06-01T12:58:33.192Z"
   },
   {
    "duration": 37,
    "start_time": "2022-06-01T12:58:33.223Z"
   },
   {
    "duration": 15,
    "start_time": "2022-06-01T12:58:33.262Z"
   },
   {
    "duration": 25,
    "start_time": "2022-06-01T12:58:33.279Z"
   },
   {
    "duration": 338,
    "start_time": "2022-06-01T12:58:33.306Z"
   },
   {
    "duration": 289,
    "start_time": "2022-06-01T12:58:33.645Z"
   },
   {
    "duration": 321,
    "start_time": "2022-06-01T12:58:33.936Z"
   },
   {
    "duration": 69,
    "start_time": "2022-06-01T12:58:34.260Z"
   },
   {
    "duration": 5,
    "start_time": "2022-06-01T12:58:34.331Z"
   },
   {
    "duration": 47,
    "start_time": "2022-06-01T12:58:34.351Z"
   },
   {
    "duration": 67,
    "start_time": "2022-06-01T12:58:34.400Z"
   },
   {
    "duration": 6,
    "start_time": "2022-06-01T12:58:34.469Z"
   },
   {
    "duration": 7,
    "start_time": "2022-06-01T12:58:34.477Z"
   },
   {
    "duration": 4732,
    "start_time": "2022-06-01T12:58:34.486Z"
   },
   {
    "duration": 32,
    "start_time": "2022-06-01T12:58:39.221Z"
   },
   {
    "duration": 88,
    "start_time": "2022-06-01T12:58:39.255Z"
   },
   {
    "duration": 6,
    "start_time": "2022-06-01T12:58:39.352Z"
   },
   {
    "duration": 44,
    "start_time": "2022-06-01T12:58:39.361Z"
   },
   {
    "duration": 197,
    "start_time": "2022-06-01T12:58:39.408Z"
   },
   {
    "duration": 19,
    "start_time": "2022-06-01T12:58:39.606Z"
   },
   {
    "duration": 253,
    "start_time": "2022-06-01T12:58:39.627Z"
   },
   {
    "duration": 8,
    "start_time": "2022-06-01T12:58:39.882Z"
   },
   {
    "duration": 36,
    "start_time": "2022-06-01T12:58:39.892Z"
   },
   {
    "duration": 412,
    "start_time": "2022-06-01T12:58:39.930Z"
   },
   {
    "duration": 30,
    "start_time": "2022-06-01T12:58:40.345Z"
   },
   {
    "duration": 304,
    "start_time": "2022-06-01T12:58:40.381Z"
   },
   {
    "duration": 7,
    "start_time": "2022-06-01T12:58:40.686Z"
   },
   {
    "duration": 30,
    "start_time": "2022-06-01T12:58:40.695Z"
   },
   {
    "duration": 278,
    "start_time": "2022-06-01T12:58:40.727Z"
   },
   {
    "duration": 18,
    "start_time": "2022-06-01T12:58:41.007Z"
   },
   {
    "duration": 289,
    "start_time": "2022-06-01T12:58:41.027Z"
   },
   {
    "duration": 7,
    "start_time": "2022-06-01T12:58:41.318Z"
   },
   {
    "duration": 7,
    "start_time": "2022-06-01T12:58:41.327Z"
   },
   {
    "duration": 27,
    "start_time": "2022-06-01T12:58:41.336Z"
   },
   {
    "duration": 8,
    "start_time": "2022-06-01T12:58:41.365Z"
   },
   {
    "duration": 14,
    "start_time": "2022-06-01T12:58:41.375Z"
   },
   {
    "duration": 18,
    "start_time": "2022-06-01T12:58:41.391Z"
   },
   {
    "duration": 7,
    "start_time": "2022-06-01T12:58:41.411Z"
   },
   {
    "duration": 8,
    "start_time": "2022-06-01T13:02:52.109Z"
   },
   {
    "duration": 21,
    "start_time": "2022-06-01T13:03:07.688Z"
   },
   {
    "duration": 9,
    "start_time": "2022-06-01T13:03:12.907Z"
   },
   {
    "duration": 3,
    "start_time": "2022-06-01T13:07:31.159Z"
   },
   {
    "duration": 470,
    "start_time": "2022-06-01T13:07:31.164Z"
   },
   {
    "duration": 32,
    "start_time": "2022-06-01T13:07:31.636Z"
   },
   {
    "duration": 25,
    "start_time": "2022-06-01T13:07:31.672Z"
   },
   {
    "duration": 21,
    "start_time": "2022-06-01T13:07:31.699Z"
   },
   {
    "duration": 52,
    "start_time": "2022-06-01T13:07:31.722Z"
   },
   {
    "duration": 73,
    "start_time": "2022-06-01T13:07:31.775Z"
   },
   {
    "duration": 360,
    "start_time": "2022-06-01T13:07:31.850Z"
   },
   {
    "duration": 283,
    "start_time": "2022-06-01T13:07:32.212Z"
   },
   {
    "duration": 313,
    "start_time": "2022-06-01T13:07:32.498Z"
   },
   {
    "duration": 81,
    "start_time": "2022-06-01T13:07:32.813Z"
   },
   {
    "duration": 6,
    "start_time": "2022-06-01T13:07:32.896Z"
   },
   {
    "duration": 64,
    "start_time": "2022-06-01T13:07:32.903Z"
   },
   {
    "duration": 45,
    "start_time": "2022-06-01T13:07:32.969Z"
   },
   {
    "duration": 5,
    "start_time": "2022-06-01T13:07:33.016Z"
   },
   {
    "duration": 11,
    "start_time": "2022-06-01T13:07:33.023Z"
   },
   {
    "duration": 4843,
    "start_time": "2022-06-01T13:07:33.036Z"
   },
   {
    "duration": 20,
    "start_time": "2022-06-01T13:07:37.881Z"
   },
   {
    "duration": 99,
    "start_time": "2022-06-01T13:07:37.902Z"
   },
   {
    "duration": 4,
    "start_time": "2022-06-01T13:07:38.002Z"
   },
   {
    "duration": 37,
    "start_time": "2022-06-01T13:07:38.007Z"
   },
   {
    "duration": 240,
    "start_time": "2022-06-01T13:07:38.046Z"
   },
   {
    "duration": 22,
    "start_time": "2022-06-01T13:07:38.288Z"
   },
   {
    "duration": 262,
    "start_time": "2022-06-01T13:07:38.312Z"
   },
   {
    "duration": 7,
    "start_time": "2022-06-01T13:07:38.576Z"
   },
   {
    "duration": 38,
    "start_time": "2022-06-01T13:07:38.584Z"
   },
   {
    "duration": 404,
    "start_time": "2022-06-01T13:07:38.623Z"
   },
   {
    "duration": 28,
    "start_time": "2022-06-01T13:07:39.031Z"
   },
   {
    "duration": 274,
    "start_time": "2022-06-01T13:07:39.060Z"
   },
   {
    "duration": 30,
    "start_time": "2022-06-01T13:07:39.336Z"
   },
   {
    "duration": 36,
    "start_time": "2022-06-01T13:07:39.367Z"
   },
   {
    "duration": 262,
    "start_time": "2022-06-01T13:07:39.405Z"
   },
   {
    "duration": 20,
    "start_time": "2022-06-01T13:07:39.669Z"
   },
   {
    "duration": 311,
    "start_time": "2022-06-01T13:07:39.691Z"
   },
   {
    "duration": 7,
    "start_time": "2022-06-01T13:07:40.004Z"
   },
   {
    "duration": 8,
    "start_time": "2022-06-01T13:07:40.013Z"
   },
   {
    "duration": 38,
    "start_time": "2022-06-01T13:07:40.023Z"
   },
   {
    "duration": 8,
    "start_time": "2022-06-01T13:07:40.065Z"
   },
   {
    "duration": 12,
    "start_time": "2022-06-01T13:07:40.075Z"
   },
   {
    "duration": 21,
    "start_time": "2022-06-01T13:07:40.088Z"
   },
   {
    "duration": 19,
    "start_time": "2022-06-01T13:07:40.111Z"
   },
   {
    "duration": 29,
    "start_time": "2022-06-01T13:07:40.132Z"
   }
  ],
  "kernelspec": {
   "display_name": "Python 3 (ipykernel)",
   "language": "python",
   "name": "python3"
  },
  "language_info": {
   "codemirror_mode": {
    "name": "ipython",
    "version": 3
   },
   "file_extension": ".py",
   "mimetype": "text/x-python",
   "name": "python",
   "nbconvert_exporter": "python",
   "pygments_lexer": "ipython3",
   "version": "3.9.5"
  },
  "toc": {
   "base_numbering": 1,
   "nav_menu": {},
   "number_sections": true,
   "sideBar": true,
   "skip_h1_title": true,
   "title_cell": "Table of Contents",
   "title_sidebar": "Contents",
   "toc_cell": false,
   "toc_position": {},
   "toc_section_display": true,
   "toc_window_display": true
  }
 },
 "nbformat": 4,
 "nbformat_minor": 5
}
