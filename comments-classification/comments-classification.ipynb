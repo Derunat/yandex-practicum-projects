{
 "cells": [
  {
   "cell_type": "markdown",
   "metadata": {
    "toc": true
   },
   "source": [
    "<h1>Содержание<span class=\"tocSkip\"></span></h1>\n",
    "<div class=\"toc\"><ul class=\"toc-item\"><li><span><a href=\"#Подготовка\" data-toc-modified-id=\"Подготовка-1\"><span class=\"toc-item-num\">1&nbsp;&nbsp;</span>Подготовка</a></span><ul class=\"toc-item\"><li><span><a href=\"#Предобработка-текста\" data-toc-modified-id=\"Предобработка-текста-1.1\"><span class=\"toc-item-num\">1.1&nbsp;&nbsp;</span>Предобработка текста</a></span></li></ul></li><li><span><a href=\"#Обучение\" data-toc-modified-id=\"Обучение-2\"><span class=\"toc-item-num\">2&nbsp;&nbsp;</span>Обучение</a></span><ul class=\"toc-item\"><li><span><a href=\"#Подготовка-данных\" data-toc-modified-id=\"Подготовка-данных-2.1\"><span class=\"toc-item-num\">2.1&nbsp;&nbsp;</span>Подготовка данных</a></span></li><li><span><a href=\"#Логистическая-регрессия\" data-toc-modified-id=\"Логистическая-регрессия-2.2\"><span class=\"toc-item-num\">2.2&nbsp;&nbsp;</span>Логистическая регрессия</a></span></li><li><span><a href=\"#Случайный-лес\" data-toc-modified-id=\"Случайный-лес-2.3\"><span class=\"toc-item-num\">2.3&nbsp;&nbsp;</span>Случайный лес</a></span></li><li><span><a href=\"#CatBoost\" data-toc-modified-id=\"CatBoost-2.4\"><span class=\"toc-item-num\">2.4&nbsp;&nbsp;</span>CatBoost</a></span></li><li><span><a href=\"#Сравнение-моделей\" data-toc-modified-id=\"Сравнение-моделей-2.5\"><span class=\"toc-item-num\">2.5&nbsp;&nbsp;</span>Сравнение моделей</a></span></li></ul></li><li><span><a href=\"#Выводы\" data-toc-modified-id=\"Выводы-3\"><span class=\"toc-item-num\">3&nbsp;&nbsp;</span>Выводы</a></span></li><li><span><a href=\"#Чек-лист-проверки\" data-toc-modified-id=\"Чек-лист-проверки-4\"><span class=\"toc-item-num\">4&nbsp;&nbsp;</span>Чек-лист проверки</a></span></li></ul></div>"
   ]
  },
  {
   "cell_type": "markdown",
   "metadata": {},
   "source": [
    "# Проект для «Викишоп»"
   ]
  },
  {
   "cell_type": "markdown",
   "metadata": {},
   "source": [
    "Интернет-магазин «Викишоп» запускает новый сервис. Теперь пользователи могут редактировать и дополнять описания товаров, как в вики-сообществах. То есть клиенты предлагают свои правки и комментируют изменения других. Магазину нужен инструмент, который будет искать токсичные комментарии и отправлять их на модерацию. \n",
    "\n",
    "Обучите модель классифицировать комментарии на позитивные и негативные. В вашем распоряжении набор данных с разметкой о токсичности правок.\n",
    "\n",
    "Нужно построить модель со значением метрики качества *F1* не меньше 0.75. \n",
    "\n",
    "\n",
    "**Описание данных**\n",
    "\n",
    "Данные находятся в файле `toxic_comments.csv`. Столбец *text* в нём содержит текст комментария, а *toxic* — целевой признак."
   ]
  },
  {
   "cell_type": "markdown",
   "metadata": {},
   "source": [
    "## Подготовка"
   ]
  },
  {
   "cell_type": "markdown",
   "metadata": {},
   "source": [
    "import sys\n",
    "!{sys.executable} -m spacy download en_core_web_sm"
   ]
  },
  {
   "cell_type": "code",
   "execution_count": 236,
   "metadata": {},
   "outputs": [],
   "source": [
    "import pandas\n",
    "import numpy as np\n",
    "import nltk\n",
    "import re \n",
    "import string\n",
    "import spacy\n",
    "\n",
    "from tqdm import notebook \n",
    "\n",
    "from sklearn.feature_extraction.text import TfidfVectorizer\n",
    "from nltk.stem import WordNetLemmatizer\n",
    "from scipy.sparse import vstack\n",
    "\n",
    "from sklearn.model_selection import train_test_split\n",
    "from sklearn.metrics import f1_score\n",
    "from sklearn.utils import shuffle\n",
    "from sklearn.model_selection import GridSearchCV\n",
    "\n",
    "from sklearn.linear_model import LogisticRegression\n",
    "from sklearn.dummy import DummyClassifier\n",
    "from sklearn.ensemble import RandomForestClassifier\n",
    "from catboost import CatBoostClassifier"
   ]
  },
  {
   "cell_type": "code",
   "execution_count": 237,
   "metadata": {},
   "outputs": [],
   "source": [
    "comments = pandas.read_csv('/datasets/toxic_comments.csv')"
   ]
  },
  {
   "cell_type": "code",
   "execution_count": 238,
   "metadata": {
    "scrolled": true
   },
   "outputs": [
    {
     "data": {
      "text/html": [
       "<div>\n",
       "<style scoped>\n",
       "    .dataframe tbody tr th:only-of-type {\n",
       "        vertical-align: middle;\n",
       "    }\n",
       "\n",
       "    .dataframe tbody tr th {\n",
       "        vertical-align: top;\n",
       "    }\n",
       "\n",
       "    .dataframe thead th {\n",
       "        text-align: right;\n",
       "    }\n",
       "</style>\n",
       "<table border=\"1\" class=\"dataframe\">\n",
       "  <thead>\n",
       "    <tr style=\"text-align: right;\">\n",
       "      <th></th>\n",
       "      <th>Unnamed: 0</th>\n",
       "      <th>text</th>\n",
       "      <th>toxic</th>\n",
       "    </tr>\n",
       "  </thead>\n",
       "  <tbody>\n",
       "    <tr>\n",
       "      <th>0</th>\n",
       "      <td>0</td>\n",
       "      <td>Explanation\\nWhy the edits made under my username Hardcore Metallica Fan were reverted? They weren't vandalisms, just closure on some GAs after I voted at New York Dolls FAC. And please don't remove the template from the talk page since I'm retired now.89.205.38.27</td>\n",
       "      <td>0</td>\n",
       "    </tr>\n",
       "    <tr>\n",
       "      <th>1</th>\n",
       "      <td>1</td>\n",
       "      <td>D'aww! He matches this background colour I'm seemingly stuck with. Thanks.  (talk) 21:51, January 11, 2016 (UTC)</td>\n",
       "      <td>0</td>\n",
       "    </tr>\n",
       "    <tr>\n",
       "      <th>2</th>\n",
       "      <td>2</td>\n",
       "      <td>Hey man, I'm really not trying to edit war. It's just that this guy is constantly removing relevant information and talking to me through edits instead of my talk page. He seems to care more about the formatting than the actual info.</td>\n",
       "      <td>0</td>\n",
       "    </tr>\n",
       "    <tr>\n",
       "      <th>3</th>\n",
       "      <td>3</td>\n",
       "      <td>\"\\nMore\\nI can't make any real suggestions on improvement - I wondered if the section statistics should be later on, or a subsection of \"\"types of accidents\"\"  -I think the references may need tidying so that they are all in the exact same format ie date format etc. I can do that later on, if no-one else does first - if you have any preferences for formatting style on references or want to do it yourself please let me know.\\n\\nThere appears to be a backlog on articles for review so I guess there may be a delay until a reviewer turns up. It's listed in the relevant form eg Wikipedia:Good_article_nominations#Transport  \"</td>\n",
       "      <td>0</td>\n",
       "    </tr>\n",
       "    <tr>\n",
       "      <th>4</th>\n",
       "      <td>4</td>\n",
       "      <td>You, sir, are my hero. Any chance you remember what page that's on?</td>\n",
       "      <td>0</td>\n",
       "    </tr>\n",
       "    <tr>\n",
       "      <th>...</th>\n",
       "      <td>...</td>\n",
       "      <td>...</td>\n",
       "      <td>...</td>\n",
       "    </tr>\n",
       "    <tr>\n",
       "      <th>159287</th>\n",
       "      <td>159446</td>\n",
       "      <td>\":::::And for the second time of asking, when your view completely contradicts the coverage in reliable sources, why should anyone care what you feel? You can't even give a consistent argument - is the opening only supposed to mention significant aspects, or the \"\"most significant\"\" ones?   \\n\\n\"</td>\n",
       "      <td>0</td>\n",
       "    </tr>\n",
       "    <tr>\n",
       "      <th>159288</th>\n",
       "      <td>159447</td>\n",
       "      <td>You should be ashamed of yourself \\n\\nThat is a horrible thing you put on my talk page.  128.61.19.93</td>\n",
       "      <td>0</td>\n",
       "    </tr>\n",
       "    <tr>\n",
       "      <th>159289</th>\n",
       "      <td>159448</td>\n",
       "      <td>Spitzer \\n\\nUmm, theres no actual article for prostitution ring.  - Crunch Captain.</td>\n",
       "      <td>0</td>\n",
       "    </tr>\n",
       "    <tr>\n",
       "      <th>159290</th>\n",
       "      <td>159449</td>\n",
       "      <td>And it looks like it was actually you who put on the speedy to have the first version deleted now that I look at it.</td>\n",
       "      <td>0</td>\n",
       "    </tr>\n",
       "    <tr>\n",
       "      <th>159291</th>\n",
       "      <td>159450</td>\n",
       "      <td>\"\\nAnd ... I really don't think you understand.  I came here and my idea was bad right away.  What kind of community goes \"\"you have bad ideas\"\" go away, instead of helping rewrite them.   \"</td>\n",
       "      <td>0</td>\n",
       "    </tr>\n",
       "  </tbody>\n",
       "</table>\n",
       "<p>159292 rows × 3 columns</p>\n",
       "</div>"
      ],
      "text/plain": [
       "        Unnamed: 0  \\\n",
       "0       0            \n",
       "1       1            \n",
       "2       2            \n",
       "3       3            \n",
       "4       4            \n",
       "...    ..            \n",
       "159287  159446       \n",
       "159288  159447       \n",
       "159289  159448       \n",
       "159290  159449       \n",
       "159291  159450       \n",
       "\n",
       "                                                                                                                                                                                                                                                                                                                                                                                                                                                                                                                                                                                                                                                      text  \\\n",
       "0       Explanation\\nWhy the edits made under my username Hardcore Metallica Fan were reverted? They weren't vandalisms, just closure on some GAs after I voted at New York Dolls FAC. And please don't remove the template from the talk page since I'm retired now.89.205.38.27                                                                                                                                                                                                                                                                                                                                                                            \n",
       "1       D'aww! He matches this background colour I'm seemingly stuck with. Thanks.  (talk) 21:51, January 11, 2016 (UTC)                                                                                                                                                                                                                                                                                                                                                                                                                                                                                                                                     \n",
       "2       Hey man, I'm really not trying to edit war. It's just that this guy is constantly removing relevant information and talking to me through edits instead of my talk page. He seems to care more about the formatting than the actual info.                                                                                                                                                                                                                                                                                                                                                                                                            \n",
       "3       \"\\nMore\\nI can't make any real suggestions on improvement - I wondered if the section statistics should be later on, or a subsection of \"\"types of accidents\"\"  -I think the references may need tidying so that they are all in the exact same format ie date format etc. I can do that later on, if no-one else does first - if you have any preferences for formatting style on references or want to do it yourself please let me know.\\n\\nThere appears to be a backlog on articles for review so I guess there may be a delay until a reviewer turns up. It's listed in the relevant form eg Wikipedia:Good_article_nominations#Transport  \"   \n",
       "4       You, sir, are my hero. Any chance you remember what page that's on?                                                                                                                                                                                                                                                                                                                                                                                                                                                                                                                                                                                  \n",
       "...                                                                     ...                                                                                                                                                                                                                                                                                                                                                                                                                                                                                                                                                                                  \n",
       "159287  \":::::And for the second time of asking, when your view completely contradicts the coverage in reliable sources, why should anyone care what you feel? You can't even give a consistent argument - is the opening only supposed to mention significant aspects, or the \"\"most significant\"\" ones?   \\n\\n\"                                                                                                                                                                                                                                                                                                                                            \n",
       "159288  You should be ashamed of yourself \\n\\nThat is a horrible thing you put on my talk page.  128.61.19.93                                                                                                                                                                                                                                                                                                                                                                                                                                                                                                                                                \n",
       "159289  Spitzer \\n\\nUmm, theres no actual article for prostitution ring.  - Crunch Captain.                                                                                                                                                                                                                                                                                                                                                                                                                                                                                                                                                                  \n",
       "159290  And it looks like it was actually you who put on the speedy to have the first version deleted now that I look at it.                                                                                                                                                                                                                                                                                                                                                                                                                                                                                                                                 \n",
       "159291  \"\\nAnd ... I really don't think you understand.  I came here and my idea was bad right away.  What kind of community goes \"\"you have bad ideas\"\" go away, instead of helping rewrite them.   \"                                                                                                                                                                                                                                                                                                                                                                                                                                                       \n",
       "\n",
       "        toxic  \n",
       "0       0      \n",
       "1       0      \n",
       "2       0      \n",
       "3       0      \n",
       "4       0      \n",
       "...    ..      \n",
       "159287  0      \n",
       "159288  0      \n",
       "159289  0      \n",
       "159290  0      \n",
       "159291  0      \n",
       "\n",
       "[159292 rows x 3 columns]"
      ]
     },
     "execution_count": 238,
     "metadata": {},
     "output_type": "execute_result"
    }
   ],
   "source": [
    "comments"
   ]
  },
  {
   "cell_type": "markdown",
   "metadata": {},
   "source": [
    "Есть столбец Unnamed:0, который, видимо, появился по ошибке, его удалим"
   ]
  },
  {
   "cell_type": "code",
   "execution_count": 239,
   "metadata": {},
   "outputs": [],
   "source": [
    "comments.drop(columns ='Unnamed: 0', inplace = True)\n"
   ]
  },
  {
   "cell_type": "markdown",
   "metadata": {},
   "source": [
    "Скорее всего классы будут несбаланированы. Заранее узнаем какое соотношение классов в исходных данных"
   ]
  },
  {
   "cell_type": "code",
   "execution_count": 240,
   "metadata": {},
   "outputs": [
    {
     "data": {
      "text/plain": [
       "0    89.838787\n",
       "1    10.161213\n",
       "Name: toxic, dtype: float64"
      ]
     },
     "execution_count": 240,
     "metadata": {},
     "output_type": "execute_result"
    }
   ],
   "source": [
    "(comments['toxic'].value_counts()) / len(comments) * 100"
   ]
  },
  {
   "cell_type": "markdown",
   "metadata": {},
   "source": [
    "Так как нужно всего лишь классифицировать токсичные комментарии c f1 не менее 0.75, считаю, что использовать BERT будет лишним. С этим должны справиться и более простые методы.\n",
    "\n",
    "В исходном корпусе 160 тысяч записей. Кажется, это слишком много. Чтобы не перегружать код, возьмем случайную выборку из 40 000 записей"
   ]
  },
  {
   "cell_type": "code",
   "execution_count": 257,
   "metadata": {},
   "outputs": [],
   "source": [
    "df = comments.sample(50000, random_state= 1).reset_index()"
   ]
  },
  {
   "cell_type": "markdown",
   "metadata": {},
   "source": [
    "И сразу проверим, что исходное соотношение классов сохраняется"
   ]
  },
  {
   "cell_type": "code",
   "execution_count": 258,
   "metadata": {},
   "outputs": [
    {
     "data": {
      "text/plain": [
       "0    89.754\n",
       "1    10.246\n",
       "Name: toxic, dtype: float64"
      ]
     },
     "execution_count": 258,
     "metadata": {},
     "output_type": "execute_result"
    }
   ],
   "source": [
    "(df['toxic'].value_counts()) / len(df) * 100"
   ]
  },
  {
   "cell_type": "markdown",
   "metadata": {},
   "source": [
    "### Предобработка текста"
   ]
  },
  {
   "cell_type": "markdown",
   "metadata": {},
   "source": [
    "Так как BERT не используется, нужно провести полную подготовку текста."
   ]
  },
  {
   "cell_type": "code",
   "execution_count": 259,
   "metadata": {},
   "outputs": [],
   "source": [
    "#убираем специальные символы\n",
    "df['text'] = df['text'].str.replace(r'[\\n\"]', '', regex=True)\n",
    "\n",
    "#убираем пунктуацию\n",
    "df['text'] = df['text'].str.replace(r'[^a-zA-Z]', ' ', regex=True) \n",
    "\n",
    "#приводим к нижнему регистру\n",
    "df['text'] = df['text'].str.lower()"
   ]
  },
  {
   "cell_type": "code",
   "execution_count": 260,
   "metadata": {},
   "outputs": [
    {
     "data": {
      "application/vnd.jupyter.widget-view+json": {
       "model_id": "ac2c603da6f44b53808bbb0e21f6c503",
       "version_major": 2,
       "version_minor": 0
      },
      "text/plain": [
       "  0%|          | 0/50000 [00:00<?, ?it/s]"
      ]
     },
     "metadata": {},
     "output_type": "display_data"
    }
   ],
   "source": [
    "#Лемматизация\n",
    "nlp = spacy.load('en_core_web_sm', disable=['parser', 'ner'])\n",
    "\n",
    "\n",
    "for i in notebook.tqdm(range(df.shape[0])):\n",
    "    doc = nlp(df.loc[i,'text'])\n",
    "    df.loc[i,'lemm']=\" \".join([token.lemma_ for token in doc])\n"
   ]
  },
  {
   "cell_type": "code",
   "execution_count": 261,
   "metadata": {},
   "outputs": [
    {
     "data": {
      "text/plain": [
       "0    bite I that be all    cunt                                                                                                                                                                                                                                                    \n",
       "1    actually   I m certain this will be the last break for the u s    also   the boiling rock be not confirm   so you should not count that in your calculation   but I agree it should be leave out until some official word be announce   the same go for the other book   rau  \n",
       "Name: lemm, dtype: object"
      ]
     },
     "execution_count": 261,
     "metadata": {},
     "output_type": "execute_result"
    }
   ],
   "source": [
    "df['lemm'].head(2)"
   ]
  },
  {
   "cell_type": "markdown",
   "metadata": {},
   "source": [
    "## Обучение"
   ]
  },
  {
   "cell_type": "markdown",
   "metadata": {},
   "source": [
    "### Подготовка данных"
   ]
  },
  {
   "cell_type": "markdown",
   "metadata": {},
   "source": [
    "Так как известно, что классы не сбалансированы, подготовим функцию для увеличения выборки редкого класса:"
   ]
  },
  {
   "cell_type": "code",
   "execution_count": 262,
   "metadata": {},
   "outputs": [],
   "source": [
    "def upsample(features, target, repeat):\n",
    "    features_zeros = features[target == 0]\n",
    "    features_ones = features[target == 1]\n",
    "    target_zeros = target[target == 0]\n",
    "    target_ones = target[target == 1]\n",
    "    features_upsampled = vstack([features_zeros] + [features_ones] * repeat)\n",
    "    target_upsampled = pandas.concat([target_zeros] + [target_ones] * repeat)\n",
    "    features_upsampled, target_upsampled = shuffle(\n",
    "    features_upsampled, target_upsampled, random_state=1)\n",
    "    return features_upsampled, target_upsampled"
   ]
  },
  {
   "cell_type": "markdown",
   "metadata": {},
   "source": [
    "Теперь все готово для обучения"
   ]
  },
  {
   "cell_type": "code",
   "execution_count": 263,
   "metadata": {},
   "outputs": [],
   "source": [
    "#Выделение признаков и таргета\n",
    "X = df['lemm']\n",
    "y = df['toxic']"
   ]
  },
  {
   "cell_type": "code",
   "execution_count": 264,
   "metadata": {},
   "outputs": [],
   "source": [
    "#разделение на обучающую и тестовую выборки\n",
    "\n",
    "X_train, X_valid,y_train, y_valid = train_test_split(X, y, test_size=0.4, random_state=1, stratify =y)\n",
    "X_valid, X_test,y_valid, y_test = train_test_split(X_valid, y_valid, test_size=0.5, random_state=1, stratify =y_valid)"
   ]
  },
  {
   "cell_type": "code",
   "execution_count": 265,
   "metadata": {},
   "outputs": [],
   "source": [
    "vector = TfidfVectorizer()\n",
    "vector.fit(X_train)\n",
    "X_train = vector.transform(X_train)\n",
    "X_test = vector.transform(X_test)\n",
    "X_valid = vector.transform(X_valid)"
   ]
  },
  {
   "cell_type": "code",
   "execution_count": 266,
   "metadata": {},
   "outputs": [],
   "source": [
    "#увеличение частоты редкого класса\n",
    "\n",
    "X_train, y_train = upsample(X_train, y_train, 4)"
   ]
  },
  {
   "cell_type": "markdown",
   "metadata": {},
   "source": [
    "Для начала проверим, что получается для модели, которая все записи считает токсичными. Это будет полезно для оценки адекватности моделей"
   ]
  },
  {
   "cell_type": "code",
   "execution_count": 267,
   "metadata": {},
   "outputs": [
    {
     "data": {
      "text/plain": [
       "0.18594104308390022"
      ]
     },
     "execution_count": 267,
     "metadata": {},
     "output_type": "execute_result"
    }
   ],
   "source": [
    "dummy_pred = DummyClassifier(strategy='constant',constant=1).fit(X_train,y_train).predict(X_valid)\n",
    "f1_score(y_test,dummy_pred)"
   ]
  },
  {
   "cell_type": "markdown",
   "metadata": {},
   "source": [
    "Опробуем теперь несколько моделей - логистическую регрессию, случайный лес и CatBoost"
   ]
  },
  {
   "cell_type": "markdown",
   "metadata": {},
   "source": [
    "### Логистическая регрессия"
   ]
  },
  {
   "cell_type": "code",
   "execution_count": 268,
   "metadata": {},
   "outputs": [
    {
     "data": {
      "text/plain": [
       "0.7540322580645161"
      ]
     },
     "execution_count": 268,
     "metadata": {},
     "output_type": "execute_result"
    }
   ],
   "source": [
    "lr = LogisticRegression()\n",
    "lr.fit(X_train,y_train)\n"
   ]
  },
  {
   "cell_type": "markdown",
   "metadata": {},
   "source": [
    "### Случайный лес"
   ]
  },
  {
   "cell_type": "code",
   "execution_count": 269,
   "metadata": {},
   "outputs": [
    {
     "name": "stdout",
     "output_type": "stream",
     "text": [
      "CPU times: user 3min 50s, sys: 393 ms, total: 3min 50s\n",
      "Wall time: 3min 51s\n"
     ]
    },
    {
     "data": {
      "text/plain": [
       "GridSearchCV(estimator=RandomForestClassifier(random_state=1),\n",
       "             param_grid={'max_depth': [100, 200, 300],\n",
       "                         'n_estimators': [6, 8, 10]},\n",
       "             scoring='f1')"
      ]
     },
     "execution_count": 269,
     "metadata": {},
     "output_type": "execute_result"
    }
   ],
   "source": [
    "%%time\n",
    "rfc = RandomForestClassifier(random_state=1)\n",
    "\n",
    "rfc_parameters = {'max_depth'    : [100,200, 300],\n",
    "                  'n_estimators' : [6,8,10]\n",
    "                 }\n",
    "\n",
    "grid_rfc = GridSearchCV(estimator=rfc, param_grid = rfc_parameters,  scoring='f1')\n",
    "grid_rfc.fit(X_train, y_train);"
   ]
  },
  {
   "cell_type": "markdown",
   "metadata": {},
   "source": [
    "### CatBoost"
   ]
  },
  {
   "cell_type": "code",
   "execution_count": 271,
   "metadata": {},
   "outputs": [
    {
     "data": {
      "text/plain": [
       "0.7520325203252034"
      ]
     },
     "execution_count": 271,
     "metadata": {},
     "output_type": "execute_result"
    }
   ],
   "source": [
    "cbc = CatBoostClassifier(custom_metric='F1',silent = True, random_state =1, iterations = 100)\n",
    "cbc.fit(X_train,y_train)"
   ]
  },
  {
   "cell_type": "markdown",
   "metadata": {},
   "source": [
    "### Сравнение моделей"
   ]
  },
  {
   "cell_type": "code",
   "execution_count": 274,
   "metadata": {},
   "outputs": [
    {
     "data": {
      "text/html": [
       "<div>\n",
       "<style scoped>\n",
       "    .dataframe tbody tr th:only-of-type {\n",
       "        vertical-align: middle;\n",
       "    }\n",
       "\n",
       "    .dataframe tbody tr th {\n",
       "        vertical-align: top;\n",
       "    }\n",
       "\n",
       "    .dataframe thead th {\n",
       "        text-align: right;\n",
       "    }\n",
       "</style>\n",
       "<table border=\"1\" class=\"dataframe\">\n",
       "  <thead>\n",
       "    <tr style=\"text-align: right;\">\n",
       "      <th></th>\n",
       "      <th>model</th>\n",
       "      <th>f1</th>\n",
       "    </tr>\n",
       "  </thead>\n",
       "  <tbody>\n",
       "    <tr>\n",
       "      <th>0</th>\n",
       "      <td>Logistic Regression</td>\n",
       "      <td>0.754032</td>\n",
       "    </tr>\n",
       "    <tr>\n",
       "      <th>1</th>\n",
       "      <td>Random Forest</td>\n",
       "      <td>0.517845</td>\n",
       "    </tr>\n",
       "    <tr>\n",
       "      <th>2</th>\n",
       "      <td>Cat Boost</td>\n",
       "      <td>0.752033</td>\n",
       "    </tr>\n",
       "  </tbody>\n",
       "</table>\n",
       "</div>"
      ],
      "text/plain": [
       "                 model        f1\n",
       "0  Logistic Regression  0.754032\n",
       "1  Random Forest        0.517845\n",
       "2  Cat Boost            0.752033"
      ]
     },
     "execution_count": 274,
     "metadata": {},
     "output_type": "execute_result"
    }
   ],
   "source": [
    "models = [lr,rfc,cbc]\n",
    "model_names = ['Logistic Regression', 'Random Forest', 'Cat Boost']\n",
    "results = pandas.DataFrame(columns=['model','f1'])\n",
    "for i in range(len(models)):\n",
    "    model = models[i]\n",
    "    name = model_names[i]\n",
    "    pred = model.predict(X_valid)\n",
    "    f1 = f1_score(y_valid,pred)\n",
    "    results = results.append({'model': name,\n",
    "                             'f1': f1}, \n",
    "                             ignore_index=True)  \n",
    "results"
   ]
  },
  {
   "cell_type": "markdown",
   "metadata": {},
   "source": [
    "Две модели из трех достигли требуемой f1, лучше всех справилась логистическая регрессия с f1 равной 0,754. Проверим ее окончательно на тестовой выборке:"
   ]
  },
  {
   "cell_type": "code",
   "execution_count": 276,
   "metadata": {},
   "outputs": [
    {
     "data": {
      "text/plain": [
       "0.7590000000000001"
      ]
     },
     "execution_count": 276,
     "metadata": {},
     "output_type": "execute_result"
    }
   ],
   "source": [
    "pred_lr = lr.predict(X_test)\n",
    "f1_score(y_test,pred_lr)"
   ]
  },
  {
   "cell_type": "markdown",
   "metadata": {},
   "source": [
    "## Выводы"
   ]
  },
  {
   "cell_type": "markdown",
   "metadata": {},
   "source": [
    "- из исходной выборки случайным образом выделено 50 000 записей. Этого достаточно, чтобы добиться требуемого значения метрики и при этом не перегружать оперативную память\n",
    "- обучено несколько моделей\n",
    "- модель логистической регрессии дает f1 равное 0.76\n",
    "- магазину Викишоп можно рекомендовать использовать полученную модель для поиска токсичных записей"
   ]
  }
 ],
 "metadata": {
  "ExecuteTimeLog": [
   {
    "duration": 399,
    "start_time": "2022-09-26T15:51:26.940Z"
   },
   {
    "duration": 73,
    "start_time": "2022-09-26T15:51:45.455Z"
   },
   {
    "duration": 2,
    "start_time": "2022-09-26T15:51:50.814Z"
   },
   {
    "duration": 13,
    "start_time": "2022-09-26T15:51:51.072Z"
   },
   {
    "duration": 40,
    "start_time": "2022-09-26T15:51:53.679Z"
   },
   {
    "duration": 45,
    "start_time": "2022-09-26T15:53:24.854Z"
   },
   {
    "duration": 2502,
    "start_time": "2022-09-26T15:53:31.757Z"
   },
   {
    "duration": 18,
    "start_time": "2022-09-26T15:53:38.624Z"
   },
   {
    "duration": 28,
    "start_time": "2022-09-26T16:21:30.611Z"
   },
   {
    "duration": 31,
    "start_time": "2022-09-26T16:21:42.438Z"
   },
   {
    "duration": 15,
    "start_time": "2022-09-26T16:22:04.542Z"
   },
   {
    "duration": 11,
    "start_time": "2022-09-26T16:22:08.166Z"
   },
   {
    "duration": 2,
    "start_time": "2022-09-26T16:22:12.130Z"
   },
   {
    "duration": 847,
    "start_time": "2022-09-26T16:22:12.134Z"
   },
   {
    "duration": 12,
    "start_time": "2022-09-26T16:22:12.983Z"
   },
   {
    "duration": 35,
    "start_time": "2022-09-26T16:22:12.997Z"
   },
   {
    "duration": 945,
    "start_time": "2022-09-26T17:02:43.397Z"
   },
   {
    "duration": 5,
    "start_time": "2022-09-26T17:11:33.410Z"
   },
   {
    "duration": 2208,
    "start_time": "2022-09-26T17:12:25.436Z"
   },
   {
    "duration": 12,
    "start_time": "2022-09-26T17:12:27.647Z"
   },
   {
    "duration": 5,
    "start_time": "2022-09-26T17:20:06.111Z"
   },
   {
    "duration": 68,
    "start_time": "2022-09-26T17:23:18.612Z"
   },
   {
    "duration": 3,
    "start_time": "2022-09-26T17:23:26.820Z"
   },
   {
    "duration": 12,
    "start_time": "2022-09-26T17:23:29.150Z"
   },
   {
    "duration": 1247,
    "start_time": "2022-09-26T17:23:33.732Z"
   },
   {
    "duration": 29110,
    "start_time": "2022-09-26T17:23:57.240Z"
   },
   {
    "duration": 5,
    "start_time": "2022-09-26T17:24:47.085Z"
   },
   {
    "duration": 64745,
    "start_time": "2022-09-26T17:24:49.687Z"
   },
   {
    "duration": 0,
    "start_time": "2022-09-26T17:25:54.434Z"
   },
   {
    "duration": 86,
    "start_time": "2022-09-26T17:26:15.306Z"
   },
   {
    "duration": 1358,
    "start_time": "2022-09-26T17:26:24.233Z"
   },
   {
    "duration": 2438,
    "start_time": "2022-09-26T17:26:25.593Z"
   },
   {
    "duration": 19,
    "start_time": "2022-09-26T17:26:28.032Z"
   },
   {
    "duration": 17,
    "start_time": "2022-09-26T17:26:28.053Z"
   },
   {
    "duration": 1902,
    "start_time": "2022-09-26T17:26:28.072Z"
   },
   {
    "duration": 188310,
    "start_time": "2022-09-26T17:26:29.976Z"
   },
   {
    "duration": 14,
    "start_time": "2022-09-26T17:29:38.288Z"
   },
   {
    "duration": 79,
    "start_time": "2022-09-26T17:30:42.202Z"
   },
   {
    "duration": 3513,
    "start_time": "2022-09-26T17:30:54.967Z"
   },
   {
    "duration": 76,
    "start_time": "2022-09-26T17:31:01.611Z"
   },
   {
    "duration": 3565,
    "start_time": "2022-09-26T17:31:27.392Z"
   },
   {
    "duration": 28,
    "start_time": "2022-09-26T17:31:32.675Z"
   },
   {
    "duration": 2543,
    "start_time": "2022-09-26T17:33:04.402Z"
   },
   {
    "duration": 32,
    "start_time": "2022-09-26T17:33:08.633Z"
   },
   {
    "duration": 45,
    "start_time": "2022-09-26T17:35:22.947Z"
   },
   {
    "duration": 117,
    "start_time": "2022-09-26T17:37:58.836Z"
   },
   {
    "duration": 1404,
    "start_time": "2022-09-26T17:38:03.830Z"
   },
   {
    "duration": 2425,
    "start_time": "2022-09-26T17:38:05.236Z"
   },
   {
    "duration": 19,
    "start_time": "2022-09-26T17:38:07.663Z"
   },
   {
    "duration": 13,
    "start_time": "2022-09-26T17:38:09.386Z"
   },
   {
    "duration": 1888,
    "start_time": "2022-09-26T17:38:10.580Z"
   },
   {
    "duration": 603,
    "start_time": "2022-09-26T17:38:14.901Z"
   },
   {
    "duration": 1795,
    "start_time": "2022-09-26T17:38:29.047Z"
   },
   {
    "duration": 6,
    "start_time": "2022-09-26T17:38:40.784Z"
   },
   {
    "duration": 453,
    "start_time": "2022-09-26T17:43:00.311Z"
   },
   {
    "duration": 27814,
    "start_time": "2022-09-26T17:43:42.554Z"
   },
   {
    "duration": 31241,
    "start_time": "2022-09-26T17:44:49.888Z"
   },
   {
    "duration": 7581,
    "start_time": "2022-09-26T17:47:13.540Z"
   },
   {
    "duration": 179,
    "start_time": "2022-09-26T17:49:52.069Z"
   },
   {
    "duration": 3,
    "start_time": "2022-09-26T17:49:57.172Z"
   },
   {
    "duration": 2626,
    "start_time": "2022-09-26T17:49:57.177Z"
   },
   {
    "duration": 22,
    "start_time": "2022-09-26T17:49:59.805Z"
   },
   {
    "duration": 55,
    "start_time": "2022-09-26T17:49:59.828Z"
   },
   {
    "duration": 2966,
    "start_time": "2022-09-26T17:49:59.886Z"
   },
   {
    "duration": 3793,
    "start_time": "2022-09-26T17:50:55.214Z"
   },
   {
    "duration": 1062,
    "start_time": "2022-09-26T17:52:18.287Z"
   },
   {
    "duration": 1378,
    "start_time": "2022-09-26T17:52:41.997Z"
   },
   {
    "duration": 2737,
    "start_time": "2022-09-26T17:52:43.377Z"
   },
   {
    "duration": 28,
    "start_time": "2022-09-26T17:52:46.116Z"
   },
   {
    "duration": 22,
    "start_time": "2022-09-26T17:52:46.146Z"
   },
   {
    "duration": 2030,
    "start_time": "2022-09-26T17:52:46.171Z"
   },
   {
    "duration": 1012,
    "start_time": "2022-09-26T17:52:56.280Z"
   },
   {
    "duration": 3942,
    "start_time": "2022-09-26T17:53:27.514Z"
   },
   {
    "duration": 61,
    "start_time": "2022-09-26T17:53:37.037Z"
   },
   {
    "duration": 1360,
    "start_time": "2022-09-26T17:54:46.315Z"
   },
   {
    "duration": 2550,
    "start_time": "2022-09-26T17:54:47.678Z"
   },
   {
    "duration": 20,
    "start_time": "2022-09-26T17:54:50.230Z"
   },
   {
    "duration": 16,
    "start_time": "2022-09-26T17:54:50.251Z"
   },
   {
    "duration": 1944,
    "start_time": "2022-09-26T17:54:50.269Z"
   },
   {
    "duration": 101,
    "start_time": "2022-09-26T17:56:41.460Z"
   },
   {
    "duration": 1399,
    "start_time": "2022-09-26T17:56:45.950Z"
   },
   {
    "duration": 124,
    "start_time": "2022-09-26T17:56:49.310Z"
   },
   {
    "duration": 4,
    "start_time": "2022-09-26T17:56:53.072Z"
   },
   {
    "duration": 2542,
    "start_time": "2022-09-26T17:56:53.078Z"
   },
   {
    "duration": 21,
    "start_time": "2022-09-26T17:56:55.622Z"
   },
   {
    "duration": 15,
    "start_time": "2022-09-26T17:56:55.644Z"
   },
   {
    "duration": 1933,
    "start_time": "2022-09-26T17:56:55.662Z"
   },
   {
    "duration": 114,
    "start_time": "2022-09-26T17:57:43.035Z"
   },
   {
    "duration": 1421,
    "start_time": "2022-09-26T17:57:48.763Z"
   },
   {
    "duration": 2523,
    "start_time": "2022-09-26T17:57:50.186Z"
   },
   {
    "duration": 24,
    "start_time": "2022-09-26T17:57:52.711Z"
   },
   {
    "duration": 35,
    "start_time": "2022-09-26T17:57:52.738Z"
   },
   {
    "duration": 2020,
    "start_time": "2022-09-26T17:57:52.775Z"
   },
   {
    "duration": 132,
    "start_time": "2022-09-26T17:58:01.653Z"
   },
   {
    "duration": 6,
    "start_time": "2022-09-26T17:58:24.372Z"
   },
   {
    "duration": 1349,
    "start_time": "2022-09-26T17:58:30.352Z"
   },
   {
    "duration": 60,
    "start_time": "2022-09-26T17:59:01.520Z"
   },
   {
    "duration": 71,
    "start_time": "2022-09-26T17:59:09.217Z"
   },
   {
    "duration": 6,
    "start_time": "2022-09-26T18:14:05.127Z"
   },
   {
    "duration": 74,
    "start_time": "2022-09-26T18:14:18.000Z"
   },
   {
    "duration": 64,
    "start_time": "2022-09-26T18:14:24.318Z"
   },
   {
    "duration": 6,
    "start_time": "2022-09-26T18:14:41.262Z"
   },
   {
    "duration": 6,
    "start_time": "2022-09-26T18:14:52.064Z"
   },
   {
    "duration": 6,
    "start_time": "2022-09-26T18:15:01.089Z"
   },
   {
    "duration": 5,
    "start_time": "2022-09-26T18:15:10.980Z"
   },
   {
    "duration": 87,
    "start_time": "2022-09-26T18:15:42.681Z"
   },
   {
    "duration": 6,
    "start_time": "2022-09-26T18:16:08.027Z"
   },
   {
    "duration": 13396,
    "start_time": "2022-09-26T18:17:07.997Z"
   },
   {
    "duration": 24,
    "start_time": "2022-09-26T18:17:45.031Z"
   },
   {
    "duration": 171835,
    "start_time": "2022-09-26T18:17:51.950Z"
   },
   {
    "duration": 55,
    "start_time": "2022-09-26T18:20:58.756Z"
   },
   {
    "duration": 4,
    "start_time": "2022-09-26T18:21:12.242Z"
   },
   {
    "duration": 49,
    "start_time": "2022-09-26T18:22:54.186Z"
   },
   {
    "duration": 12,
    "start_time": "2022-09-26T18:23:02.454Z"
   },
   {
    "duration": 61,
    "start_time": "2022-09-26T18:23:07.636Z"
   },
   {
    "duration": 7008,
    "start_time": "2022-09-26T18:23:13.490Z"
   },
   {
    "duration": 20471,
    "start_time": "2022-09-26T18:24:01.123Z"
   },
   {
    "duration": 1451,
    "start_time": "2022-09-26T18:25:12.187Z"
   },
   {
    "duration": 2575,
    "start_time": "2022-09-26T18:25:13.640Z"
   },
   {
    "duration": 22,
    "start_time": "2022-09-26T18:25:16.216Z"
   },
   {
    "duration": 19,
    "start_time": "2022-09-26T18:25:16.240Z"
   },
   {
    "duration": 1992,
    "start_time": "2022-09-26T18:25:16.261Z"
   },
   {
    "duration": 4,
    "start_time": "2022-09-26T18:25:27.033Z"
   },
   {
    "duration": 49,
    "start_time": "2022-09-26T18:25:30.545Z"
   },
   {
    "duration": 1327,
    "start_time": "2022-09-26T18:25:48.156Z"
   },
   {
    "duration": 177,
    "start_time": "2022-09-26T18:26:08.941Z"
   },
   {
    "duration": 13,
    "start_time": "2022-09-26T18:26:38.427Z"
   },
   {
    "duration": 5,
    "start_time": "2022-09-26T18:26:46.374Z"
   },
   {
    "duration": 6,
    "start_time": "2022-09-26T18:28:59.257Z"
   },
   {
    "duration": 5,
    "start_time": "2022-09-26T18:29:45.257Z"
   },
   {
    "duration": 5,
    "start_time": "2022-09-26T18:29:50.709Z"
   },
   {
    "duration": 6,
    "start_time": "2022-09-26T18:30:03.360Z"
   },
   {
    "duration": 5,
    "start_time": "2022-09-26T18:30:19.399Z"
   },
   {
    "duration": 6,
    "start_time": "2022-09-26T18:30:24.773Z"
   },
   {
    "duration": 149771,
    "start_time": "2022-09-26T18:30:43.012Z"
   },
   {
    "duration": 10,
    "start_time": "2022-09-26T18:34:02.540Z"
   },
   {
    "duration": 118,
    "start_time": "2022-09-26T18:37:02.475Z"
   },
   {
    "duration": 74,
    "start_time": "2022-09-26T18:37:05.915Z"
   },
   {
    "duration": 1385,
    "start_time": "2022-09-26T18:37:14.379Z"
   },
   {
    "duration": 2678,
    "start_time": "2022-09-26T18:37:16.125Z"
   },
   {
    "duration": 20,
    "start_time": "2022-09-26T18:37:18.805Z"
   },
   {
    "duration": 147,
    "start_time": "2022-09-26T18:37:22.130Z"
   },
   {
    "duration": 3,
    "start_time": "2022-09-26T18:38:17.859Z"
   },
   {
    "duration": 851,
    "start_time": "2022-09-26T18:38:17.864Z"
   },
   {
    "duration": 13,
    "start_time": "2022-09-26T18:38:18.716Z"
   },
   {
    "duration": 17,
    "start_time": "2022-09-26T18:38:18.731Z"
   },
   {
    "duration": 2052,
    "start_time": "2022-09-26T18:38:18.750Z"
   },
   {
    "duration": 1469,
    "start_time": "2022-09-26T18:39:41.912Z"
   },
   {
    "duration": 2570,
    "start_time": "2022-09-26T18:39:43.383Z"
   },
   {
    "duration": 18,
    "start_time": "2022-09-26T18:39:45.955Z"
   },
   {
    "duration": 14,
    "start_time": "2022-09-26T18:39:45.975Z"
   },
   {
    "duration": 1970,
    "start_time": "2022-09-26T18:39:45.991Z"
   },
   {
    "duration": 148165,
    "start_time": "2022-09-26T18:39:47.963Z"
   },
   {
    "duration": 97,
    "start_time": "2022-09-26T18:42:25.881Z"
   },
   {
    "duration": 57,
    "start_time": "2022-09-26T18:42:43.456Z"
   },
   {
    "duration": 1560,
    "start_time": "2022-09-26T18:42:48.883Z"
   },
   {
    "duration": 2448,
    "start_time": "2022-09-26T18:42:50.446Z"
   },
   {
    "duration": 18,
    "start_time": "2022-09-26T18:42:52.896Z"
   },
   {
    "duration": 72,
    "start_time": "2022-09-26T18:42:52.915Z"
   },
   {
    "duration": 2039,
    "start_time": "2022-09-26T18:42:52.989Z"
   },
   {
    "duration": 1380,
    "start_time": "2022-09-26T18:43:38.251Z"
   },
   {
    "duration": 907,
    "start_time": "2022-09-26T18:43:39.633Z"
   },
   {
    "duration": 19,
    "start_time": "2022-09-26T18:43:40.542Z"
   },
   {
    "duration": 16,
    "start_time": "2022-09-26T18:43:40.563Z"
   },
   {
    "duration": 2029,
    "start_time": "2022-09-26T18:43:40.581Z"
   },
   {
    "duration": 150558,
    "start_time": "2022-09-26T18:43:42.613Z"
   },
   {
    "duration": 1458,
    "start_time": "2022-09-26T18:47:53.296Z"
   },
   {
    "duration": 186,
    "start_time": "2022-09-26T18:48:33.181Z"
   },
   {
    "duration": 28,
    "start_time": "2022-09-26T18:48:39.528Z"
   },
   {
    "duration": 5,
    "start_time": "2022-09-26T18:48:43.290Z"
   },
   {
    "duration": 2536,
    "start_time": "2022-09-26T18:48:43.297Z"
   },
   {
    "duration": 26,
    "start_time": "2022-09-26T18:48:45.835Z"
   },
   {
    "duration": 17,
    "start_time": "2022-09-26T18:48:45.864Z"
   },
   {
    "duration": 2010,
    "start_time": "2022-09-26T18:48:45.883Z"
   },
   {
    "duration": 153170,
    "start_time": "2022-09-26T18:48:47.895Z"
   },
   {
    "duration": 6270,
    "start_time": "2022-09-26T18:51:41.836Z"
   },
   {
    "duration": 65,
    "start_time": "2022-09-26T18:52:13.381Z"
   },
   {
    "duration": 76,
    "start_time": "2022-09-26T18:52:28.147Z"
   },
   {
    "duration": 4,
    "start_time": "2022-09-26T18:52:32.424Z"
   },
   {
    "duration": 75,
    "start_time": "2022-09-26T18:52:39.125Z"
   },
   {
    "duration": 9,
    "start_time": "2022-09-26T18:54:03.835Z"
   },
   {
    "duration": 94,
    "start_time": "2022-09-26T18:54:08.986Z"
   },
   {
    "duration": 8,
    "start_time": "2022-09-26T18:54:25.366Z"
   },
   {
    "duration": 8,
    "start_time": "2022-09-26T18:54:31.556Z"
   },
   {
    "duration": 9,
    "start_time": "2022-09-26T18:55:54.363Z"
   },
   {
    "duration": 9,
    "start_time": "2022-09-26T18:56:03.860Z"
   },
   {
    "duration": 91,
    "start_time": "2022-09-26T18:56:10.319Z"
   },
   {
    "duration": 62,
    "start_time": "2022-09-26T18:58:00.899Z"
   },
   {
    "duration": 9,
    "start_time": "2022-09-26T18:58:07.592Z"
   },
   {
    "duration": 10,
    "start_time": "2022-09-26T18:58:14.081Z"
   },
   {
    "duration": 7,
    "start_time": "2022-09-26T18:59:51.545Z"
   },
   {
    "duration": 9,
    "start_time": "2022-09-26T19:00:06.772Z"
   },
   {
    "duration": 1614,
    "start_time": "2022-09-26T19:00:53.205Z"
   },
   {
    "duration": 1687,
    "start_time": "2022-09-26T19:00:54.826Z"
   },
   {
    "duration": 0,
    "start_time": "2022-09-26T19:00:56.515Z"
   },
   {
    "duration": 0,
    "start_time": "2022-09-26T19:00:56.516Z"
   },
   {
    "duration": 0,
    "start_time": "2022-09-26T19:00:56.518Z"
   },
   {
    "duration": 0,
    "start_time": "2022-09-26T19:00:56.519Z"
   },
   {
    "duration": 0,
    "start_time": "2022-09-26T19:00:56.521Z"
   },
   {
    "duration": 3,
    "start_time": "2022-09-26T19:01:00.210Z"
   },
   {
    "duration": 2712,
    "start_time": "2022-09-26T19:01:00.215Z"
   },
   {
    "duration": 20,
    "start_time": "2022-09-26T19:01:02.929Z"
   },
   {
    "duration": 17,
    "start_time": "2022-09-26T19:01:02.951Z"
   },
   {
    "duration": 2041,
    "start_time": "2022-09-26T19:01:02.970Z"
   },
   {
    "duration": 101461,
    "start_time": "2022-09-26T19:01:10.165Z"
   },
   {
    "duration": 19,
    "start_time": "2022-09-26T19:03:05.138Z"
   },
   {
    "duration": 49,
    "start_time": "2022-09-26T19:03:16.392Z"
   },
   {
    "duration": 40949,
    "start_time": "2022-09-26T19:04:11.722Z"
   },
   {
    "duration": 16,
    "start_time": "2022-09-26T19:05:14.079Z"
   },
   {
    "duration": 4,
    "start_time": "2022-09-26T19:05:18.221Z"
   },
   {
    "duration": 49,
    "start_time": "2022-09-26T19:05:28.096Z"
   },
   {
    "duration": 1461,
    "start_time": "2022-09-26T19:05:35.147Z"
   },
   {
    "duration": 2623,
    "start_time": "2022-09-26T19:05:36.610Z"
   },
   {
    "duration": 19,
    "start_time": "2022-09-26T19:05:39.235Z"
   },
   {
    "duration": 27,
    "start_time": "2022-09-26T19:05:39.256Z"
   },
   {
    "duration": 18,
    "start_time": "2022-09-26T19:05:39.285Z"
   },
   {
    "duration": 104,
    "start_time": "2022-09-26T19:05:42.866Z"
   },
   {
    "duration": 3,
    "start_time": "2022-09-26T19:05:45.842Z"
   },
   {
    "duration": 867,
    "start_time": "2022-09-26T19:05:45.848Z"
   },
   {
    "duration": 13,
    "start_time": "2022-09-26T19:05:46.716Z"
   },
   {
    "duration": 21,
    "start_time": "2022-09-26T19:05:46.731Z"
   },
   {
    "duration": 11,
    "start_time": "2022-09-26T19:05:56.538Z"
   },
   {
    "duration": 12,
    "start_time": "2022-09-26T19:05:59.750Z"
   },
   {
    "duration": 1927,
    "start_time": "2022-09-26T19:06:03.153Z"
   },
   {
    "duration": 35,
    "start_time": "2022-09-26T19:06:09.532Z"
   },
   {
    "duration": 2,
    "start_time": "2022-09-26T19:06:34.163Z"
   },
   {
    "duration": 811,
    "start_time": "2022-09-26T19:06:34.167Z"
   },
   {
    "duration": 15,
    "start_time": "2022-09-26T19:06:34.980Z"
   },
   {
    "duration": 25,
    "start_time": "2022-09-26T19:06:34.996Z"
   },
   {
    "duration": 11,
    "start_time": "2022-09-26T19:06:35.023Z"
   },
   {
    "duration": 149,
    "start_time": "2022-09-26T19:06:35.036Z"
   },
   {
    "duration": 9856,
    "start_time": "2022-09-26T19:06:35.188Z"
   },
   {
    "duration": 584,
    "start_time": "2022-09-26T19:06:45.046Z"
   },
   {
    "duration": 3,
    "start_time": "2022-09-26T19:07:30.943Z"
   },
   {
    "duration": 11,
    "start_time": "2022-09-26T19:08:36.186Z"
   },
   {
    "duration": 4,
    "start_time": "2022-09-26T19:08:39.750Z"
   },
   {
    "duration": 16,
    "start_time": "2022-09-26T19:08:42.716Z"
   },
   {
    "duration": 6,
    "start_time": "2022-09-26T19:09:05.628Z"
   },
   {
    "duration": 6,
    "start_time": "2022-09-26T19:09:09.955Z"
   },
   {
    "duration": 10,
    "start_time": "2022-09-26T19:09:36.440Z"
   },
   {
    "duration": 12,
    "start_time": "2022-09-26T19:09:47.088Z"
   },
   {
    "duration": 4,
    "start_time": "2022-09-26T19:09:49.428Z"
   },
   {
    "duration": 66,
    "start_time": "2022-09-26T19:09:53.463Z"
   },
   {
    "duration": 15,
    "start_time": "2022-09-26T19:22:31.922Z"
   },
   {
    "duration": 3,
    "start_time": "2022-09-26T19:22:38.079Z"
   },
   {
    "duration": 19,
    "start_time": "2022-09-26T19:22:38.972Z"
   },
   {
    "duration": 62,
    "start_time": "2022-09-26T19:23:04.329Z"
   },
   {
    "duration": 1094,
    "start_time": "2022-09-26T19:43:09.979Z"
   },
   {
    "duration": 945,
    "start_time": "2022-09-26T19:43:27.508Z"
   },
   {
    "duration": 10268,
    "start_time": "2022-09-26T19:43:53.387Z"
   },
   {
    "duration": 520,
    "start_time": "2022-09-26T19:44:13.015Z"
   },
   {
    "duration": 24,
    "start_time": "2022-09-26T19:44:14.321Z"
   },
   {
    "duration": 633,
    "start_time": "2022-09-26T19:44:17.248Z"
   },
   {
    "duration": 3,
    "start_time": "2022-09-26T19:44:32.574Z"
   },
   {
    "duration": 20,
    "start_time": "2022-09-26T19:44:38.418Z"
   },
   {
    "duration": 6,
    "start_time": "2022-09-26T19:45:05.367Z"
   },
   {
    "duration": 6,
    "start_time": "2022-09-26T19:46:52.105Z"
   },
   {
    "duration": 32,
    "start_time": "2022-09-26T19:46:57.708Z"
   },
   {
    "duration": 6,
    "start_time": "2022-09-26T19:47:11.218Z"
   },
   {
    "duration": 914,
    "start_time": "2022-09-26T19:47:11.227Z"
   },
   {
    "duration": 16,
    "start_time": "2022-09-26T19:47:12.143Z"
   },
   {
    "duration": 20,
    "start_time": "2022-09-26T19:47:12.162Z"
   },
   {
    "duration": 13,
    "start_time": "2022-09-26T19:47:12.185Z"
   },
   {
    "duration": 18,
    "start_time": "2022-09-26T19:47:12.221Z"
   },
   {
    "duration": 9,
    "start_time": "2022-09-26T19:47:38.134Z"
   },
   {
    "duration": 883,
    "start_time": "2022-09-26T19:48:03.740Z"
   },
   {
    "duration": 758,
    "start_time": "2022-09-26T19:49:09.845Z"
   },
   {
    "duration": 874,
    "start_time": "2022-09-26T19:49:17.917Z"
   },
   {
    "duration": 12,
    "start_time": "2022-09-26T19:49:21.396Z"
   },
   {
    "duration": 901,
    "start_time": "2022-09-26T19:49:37.435Z"
   },
   {
    "duration": 901,
    "start_time": "2022-09-26T19:49:42.504Z"
   },
   {
    "duration": 113,
    "start_time": "2022-09-26T19:51:08.647Z"
   },
   {
    "duration": 3,
    "start_time": "2022-09-26T19:51:15.072Z"
   },
   {
    "duration": 36,
    "start_time": "2022-09-26T19:51:18.949Z"
   },
   {
    "duration": 3,
    "start_time": "2022-09-26T19:51:33.269Z"
   },
   {
    "duration": 27,
    "start_time": "2022-09-26T19:51:33.988Z"
   },
   {
    "duration": 5,
    "start_time": "2022-09-26T19:51:42.104Z"
   },
   {
    "duration": 25,
    "start_time": "2022-09-26T19:51:43.693Z"
   },
   {
    "duration": 27,
    "start_time": "2022-09-26T19:51:44.652Z"
   },
   {
    "duration": 7,
    "start_time": "2022-09-26T19:51:45.831Z"
   },
   {
    "duration": 239,
    "start_time": "2022-09-26T19:52:58.307Z"
   },
   {
    "duration": 6,
    "start_time": "2022-09-26T19:52:58.817Z"
   },
   {
    "duration": 4,
    "start_time": "2022-09-26T19:53:38.648Z"
   },
   {
    "duration": 902,
    "start_time": "2022-09-26T19:53:38.654Z"
   },
   {
    "duration": 12,
    "start_time": "2022-09-26T19:53:39.558Z"
   },
   {
    "duration": 20,
    "start_time": "2022-09-26T19:53:39.571Z"
   },
   {
    "duration": 8,
    "start_time": "2022-09-26T19:53:39.594Z"
   },
   {
    "duration": 20,
    "start_time": "2022-09-26T19:53:39.621Z"
   },
   {
    "duration": 23,
    "start_time": "2022-09-26T19:53:39.643Z"
   },
   {
    "duration": 881,
    "start_time": "2022-09-26T19:53:39.668Z"
   },
   {
    "duration": 0,
    "start_time": "2022-09-26T19:53:40.551Z"
   },
   {
    "duration": 0,
    "start_time": "2022-09-26T19:53:40.553Z"
   },
   {
    "duration": 0,
    "start_time": "2022-09-26T19:53:40.554Z"
   },
   {
    "duration": 0,
    "start_time": "2022-09-26T19:53:40.555Z"
   },
   {
    "duration": 0,
    "start_time": "2022-09-26T19:53:40.557Z"
   },
   {
    "duration": 0,
    "start_time": "2022-09-26T19:53:40.558Z"
   },
   {
    "duration": 0,
    "start_time": "2022-09-26T19:53:40.560Z"
   },
   {
    "duration": 778,
    "start_time": "2022-09-26T19:55:45.383Z"
   },
   {
    "duration": 939,
    "start_time": "2022-09-26T19:56:16.485Z"
   },
   {
    "duration": 7,
    "start_time": "2022-09-26T19:56:23.160Z"
   },
   {
    "duration": 11,
    "start_time": "2022-09-26T19:56:23.647Z"
   },
   {
    "duration": 9,
    "start_time": "2022-09-26T19:56:24.077Z"
   },
   {
    "duration": 865,
    "start_time": "2022-09-26T19:56:24.530Z"
   },
   {
    "duration": 39,
    "start_time": "2022-09-26T19:56:41.876Z"
   },
   {
    "duration": 1382,
    "start_time": "2022-09-26T19:58:22.739Z"
   },
   {
    "duration": 12,
    "start_time": "2022-09-26T19:58:31.181Z"
   },
   {
    "duration": 13,
    "start_time": "2022-09-26T19:58:31.719Z"
   },
   {
    "duration": 16,
    "start_time": "2022-09-26T19:58:32.000Z"
   },
   {
    "duration": 2623,
    "start_time": "2022-09-26T19:58:32.465Z"
   },
   {
    "duration": 829,
    "start_time": "2022-09-26T19:58:37.563Z"
   },
   {
    "duration": 9,
    "start_time": "2022-09-26T19:59:02.416Z"
   },
   {
    "duration": 14,
    "start_time": "2022-09-26T19:59:02.920Z"
   },
   {
    "duration": 12,
    "start_time": "2022-09-26T19:59:03.090Z"
   },
   {
    "duration": 1264,
    "start_time": "2022-09-26T19:59:03.569Z"
   },
   {
    "duration": 1581,
    "start_time": "2022-09-26T19:59:09.650Z"
   },
   {
    "duration": 42,
    "start_time": "2022-09-26T20:00:48.949Z"
   },
   {
    "duration": 8,
    "start_time": "2022-09-26T20:01:07.177Z"
   },
   {
    "duration": 48,
    "start_time": "2022-09-26T20:01:07.597Z"
   },
   {
    "duration": 10,
    "start_time": "2022-09-26T20:01:12.913Z"
   },
   {
    "duration": 8,
    "start_time": "2022-09-26T20:01:13.879Z"
   },
   {
    "duration": 16,
    "start_time": "2022-09-26T20:01:14.629Z"
   },
   {
    "duration": 936,
    "start_time": "2022-09-26T20:01:15.409Z"
   },
   {
    "duration": 14,
    "start_time": "2022-09-26T20:01:16.842Z"
   },
   {
    "duration": 67,
    "start_time": "2022-09-26T20:01:19.440Z"
   },
   {
    "duration": 3,
    "start_time": "2022-09-26T20:01:21.314Z"
   },
   {
    "duration": 5,
    "start_time": "2022-09-26T20:01:21.598Z"
   },
   {
    "duration": 39,
    "start_time": "2022-09-26T20:01:21.871Z"
   },
   {
    "duration": 27,
    "start_time": "2022-09-26T20:01:22.139Z"
   },
   {
    "duration": 6,
    "start_time": "2022-09-26T20:01:22.968Z"
   },
   {
    "duration": 4,
    "start_time": "2022-09-26T20:01:33.389Z"
   },
   {
    "duration": 810,
    "start_time": "2022-09-26T20:01:33.395Z"
   },
   {
    "duration": 20,
    "start_time": "2022-09-26T20:01:34.207Z"
   },
   {
    "duration": 23,
    "start_time": "2022-09-26T20:01:34.229Z"
   },
   {
    "duration": 11,
    "start_time": "2022-09-26T20:01:34.254Z"
   },
   {
    "duration": 81,
    "start_time": "2022-09-26T20:01:34.267Z"
   },
   {
    "duration": 18,
    "start_time": "2022-09-26T20:01:34.350Z"
   },
   {
    "duration": 8176,
    "start_time": "2022-09-26T20:01:34.370Z"
   },
   {
    "duration": 13,
    "start_time": "2022-09-26T20:01:42.548Z"
   },
   {
    "duration": 610,
    "start_time": "2022-09-26T20:01:42.563Z"
   },
   {
    "duration": 3,
    "start_time": "2022-09-26T20:01:43.174Z"
   },
   {
    "duration": 16,
    "start_time": "2022-09-26T20:01:43.179Z"
   },
   {
    "duration": 6523,
    "start_time": "2022-09-26T20:01:43.197Z"
   },
   {
    "duration": 2910,
    "start_time": "2022-09-26T20:01:49.724Z"
   },
   {
    "duration": 13,
    "start_time": "2022-09-26T20:01:52.723Z"
   },
   {
    "duration": 16,
    "start_time": "2022-09-26T20:04:35.258Z"
   },
   {
    "duration": 80,
    "start_time": "2022-09-26T20:04:35.923Z"
   },
   {
    "duration": 10,
    "start_time": "2022-09-26T20:04:36.095Z"
   },
   {
    "duration": 7629,
    "start_time": "2022-09-26T20:04:36.275Z"
   },
   {
    "duration": 27,
    "start_time": "2022-09-26T20:04:43.906Z"
   },
   {
    "duration": 424,
    "start_time": "2022-09-26T20:04:43.935Z"
   },
   {
    "duration": 3,
    "start_time": "2022-09-26T20:04:51.497Z"
   },
   {
    "duration": 6,
    "start_time": "2022-09-26T20:04:51.730Z"
   },
   {
    "duration": 18,
    "start_time": "2022-09-26T20:04:51.936Z"
   },
   {
    "duration": 14,
    "start_time": "2022-09-26T20:04:52.134Z"
   },
   {
    "duration": 9,
    "start_time": "2022-09-26T20:04:52.642Z"
   },
   {
    "duration": 18,
    "start_time": "2022-09-26T20:07:12.582Z"
   },
   {
    "duration": 635,
    "start_time": "2022-09-26T20:07:16.631Z"
   },
   {
    "duration": 12,
    "start_time": "2022-09-26T20:07:17.269Z"
   },
   {
    "duration": 155769,
    "start_time": "2022-09-26T20:07:17.283Z"
   },
   {
    "duration": 5346,
    "start_time": "2022-09-26T20:09:53.054Z"
   },
   {
    "duration": 3,
    "start_time": "2022-09-26T20:09:58.403Z"
   },
   {
    "duration": 35,
    "start_time": "2022-09-26T20:09:58.408Z"
   },
   {
    "duration": 30974,
    "start_time": "2022-09-26T20:09:58.446Z"
   },
   {
    "duration": 33112,
    "start_time": "2022-09-26T20:10:29.422Z"
   },
   {
    "duration": 89,
    "start_time": "2022-09-26T20:11:02.537Z"
   },
   {
    "duration": 71,
    "start_time": "2022-09-26T20:11:58.202Z"
   },
   {
    "duration": 54,
    "start_time": "2022-09-26T20:12:07.706Z"
   },
   {
    "duration": 23,
    "start_time": "2022-09-26T20:12:11.642Z"
   },
   {
    "duration": 27,
    "start_time": "2022-09-26T20:12:18.542Z"
   },
   {
    "duration": 102,
    "start_time": "2022-09-26T20:12:23.592Z"
   },
   {
    "duration": 29,
    "start_time": "2022-09-26T20:12:23.697Z"
   },
   {
    "duration": 3865,
    "start_time": "2022-09-26T20:12:23.728Z"
   },
   {
    "duration": 76,
    "start_time": "2022-09-26T20:12:27.595Z"
   },
   {
    "duration": 3,
    "start_time": "2022-09-26T20:12:27.673Z"
   },
   {
    "duration": 25,
    "start_time": "2022-09-26T20:12:27.678Z"
   },
   {
    "duration": 0,
    "start_time": "2022-09-26T20:12:27.705Z"
   },
   {
    "duration": 0,
    "start_time": "2022-09-26T20:12:27.708Z"
   },
   {
    "duration": 0,
    "start_time": "2022-09-26T20:12:27.709Z"
   },
   {
    "duration": 15,
    "start_time": "2022-09-26T20:13:22.391Z"
   },
   {
    "duration": 27,
    "start_time": "2022-09-26T20:13:47.380Z"
   },
   {
    "duration": 31,
    "start_time": "2022-09-26T20:13:48.170Z"
   },
   {
    "duration": 3954,
    "start_time": "2022-09-26T20:13:48.607Z"
   },
   {
    "duration": 10,
    "start_time": "2022-09-26T20:14:29.408Z"
   },
   {
    "duration": 8,
    "start_time": "2022-09-26T20:14:54.955Z"
   },
   {
    "duration": 11,
    "start_time": "2022-09-26T20:16:04.589Z"
   },
   {
    "duration": 9,
    "start_time": "2022-09-26T20:16:05.086Z"
   },
   {
    "duration": 12,
    "start_time": "2022-09-26T20:16:12.690Z"
   },
   {
    "duration": 7,
    "start_time": "2022-09-26T20:16:13.059Z"
   },
   {
    "duration": 7,
    "start_time": "2022-09-26T20:16:22.008Z"
   },
   {
    "duration": 9,
    "start_time": "2022-09-26T20:16:22.487Z"
   },
   {
    "duration": 9,
    "start_time": "2022-09-26T20:16:23.181Z"
   },
   {
    "duration": 12,
    "start_time": "2022-09-26T20:16:31.489Z"
   },
   {
    "duration": 7,
    "start_time": "2022-09-26T20:16:31.853Z"
   },
   {
    "duration": 148,
    "start_time": "2022-09-26T20:16:40.256Z"
   },
   {
    "duration": 39421,
    "start_time": "2022-09-26T20:16:40.406Z"
   },
   {
    "duration": 73,
    "start_time": "2022-09-26T20:17:19.829Z"
   },
   {
    "duration": 3,
    "start_time": "2022-09-26T20:17:19.904Z"
   },
   {
    "duration": 19,
    "start_time": "2022-09-26T20:17:19.910Z"
   },
   {
    "duration": 0,
    "start_time": "2022-09-26T20:17:19.930Z"
   },
   {
    "duration": 1,
    "start_time": "2022-09-26T20:17:19.931Z"
   },
   {
    "duration": 0,
    "start_time": "2022-09-26T20:17:19.933Z"
   },
   {
    "duration": 9,
    "start_time": "2022-09-26T20:17:34.003Z"
   },
   {
    "duration": 8,
    "start_time": "2022-09-26T20:17:34.405Z"
   },
   {
    "duration": 27,
    "start_time": "2022-09-26T20:17:37.452Z"
   },
   {
    "duration": 240,
    "start_time": "2022-09-26T20:17:37.886Z"
   },
   {
    "duration": 62,
    "start_time": "2022-09-26T20:17:38.725Z"
   },
   {
    "duration": 16,
    "start_time": "2022-09-26T20:18:10.282Z"
   },
   {
    "duration": 13,
    "start_time": "2022-09-26T20:18:34.400Z"
   },
   {
    "duration": 4,
    "start_time": "2022-09-26T20:18:39.426Z"
   },
   {
    "duration": 855,
    "start_time": "2022-09-26T20:18:39.433Z"
   },
   {
    "duration": 16,
    "start_time": "2022-09-26T20:18:40.290Z"
   },
   {
    "duration": 38,
    "start_time": "2022-09-26T20:18:40.308Z"
   },
   {
    "duration": 22,
    "start_time": "2022-09-26T20:18:40.349Z"
   },
   {
    "duration": 10,
    "start_time": "2022-09-26T20:18:40.373Z"
   },
   {
    "duration": 9,
    "start_time": "2022-09-26T20:18:40.385Z"
   },
   {
    "duration": 26,
    "start_time": "2022-09-26T20:18:40.396Z"
   },
   {
    "duration": 6,
    "start_time": "2022-09-26T20:18:40.424Z"
   },
   {
    "duration": 307,
    "start_time": "2022-09-26T20:18:40.431Z"
   },
   {
    "duration": 17,
    "start_time": "2022-09-26T20:18:40.740Z"
   },
   {
    "duration": 64,
    "start_time": "2022-09-26T20:18:40.759Z"
   },
   {
    "duration": 4,
    "start_time": "2022-09-26T20:18:40.825Z"
   },
   {
    "duration": 23,
    "start_time": "2022-09-26T20:18:40.833Z"
   },
   {
    "duration": 0,
    "start_time": "2022-09-26T20:18:40.859Z"
   },
   {
    "duration": 0,
    "start_time": "2022-09-26T20:18:40.860Z"
   },
   {
    "duration": 0,
    "start_time": "2022-09-26T20:18:40.861Z"
   },
   {
    "duration": 854,
    "start_time": "2022-09-26T20:19:57.675Z"
   },
   {
    "duration": 41,
    "start_time": "2022-09-26T20:20:35.305Z"
   },
   {
    "duration": 4,
    "start_time": "2022-09-26T20:20:46.080Z"
   },
   {
    "duration": 862,
    "start_time": "2022-09-26T20:20:46.087Z"
   },
   {
    "duration": 15,
    "start_time": "2022-09-26T20:20:46.952Z"
   },
   {
    "duration": 26,
    "start_time": "2022-09-26T20:20:46.969Z"
   },
   {
    "duration": 24,
    "start_time": "2022-09-26T20:20:46.997Z"
   },
   {
    "duration": 11,
    "start_time": "2022-09-26T20:20:47.023Z"
   },
   {
    "duration": 14,
    "start_time": "2022-09-26T20:20:47.036Z"
   },
   {
    "duration": 18,
    "start_time": "2022-09-26T20:20:47.052Z"
   },
   {
    "duration": 19,
    "start_time": "2022-09-26T20:20:47.072Z"
   },
   {
    "duration": 914,
    "start_time": "2022-09-26T20:20:47.093Z"
   },
   {
    "duration": 0,
    "start_time": "2022-09-26T20:20:48.009Z"
   },
   {
    "duration": 0,
    "start_time": "2022-09-26T20:20:48.011Z"
   },
   {
    "duration": 0,
    "start_time": "2022-09-26T20:20:48.012Z"
   },
   {
    "duration": 0,
    "start_time": "2022-09-26T20:20:48.014Z"
   },
   {
    "duration": 0,
    "start_time": "2022-09-26T20:20:48.016Z"
   },
   {
    "duration": 0,
    "start_time": "2022-09-26T20:20:48.018Z"
   },
   {
    "duration": 0,
    "start_time": "2022-09-26T20:20:48.020Z"
   },
   {
    "duration": 261,
    "start_time": "2022-09-26T20:21:03.970Z"
   },
   {
    "duration": 11,
    "start_time": "2022-09-26T20:21:18.539Z"
   },
   {
    "duration": 10,
    "start_time": "2022-09-26T20:21:18.983Z"
   },
   {
    "duration": 11,
    "start_time": "2022-09-26T20:21:19.966Z"
   },
   {
    "duration": 8,
    "start_time": "2022-09-26T20:21:21.486Z"
   },
   {
    "duration": 1094,
    "start_time": "2022-09-26T20:21:22.349Z"
   },
   {
    "duration": 14,
    "start_time": "2022-09-26T20:21:24.906Z"
   },
   {
    "duration": 11,
    "start_time": "2022-09-26T20:21:37.581Z"
   },
   {
    "duration": 9,
    "start_time": "2022-09-26T20:21:37.650Z"
   },
   {
    "duration": 11,
    "start_time": "2022-09-26T20:21:38.036Z"
   },
   {
    "duration": 14,
    "start_time": "2022-09-26T20:21:39.574Z"
   },
   {
    "duration": 1097,
    "start_time": "2022-09-26T20:21:40.358Z"
   },
   {
    "duration": 15,
    "start_time": "2022-09-26T20:21:42.278Z"
   },
   {
    "duration": 938,
    "start_time": "2022-09-26T20:22:08.733Z"
   },
   {
    "duration": 6,
    "start_time": "2022-09-26T20:22:28.925Z"
   },
   {
    "duration": 19,
    "start_time": "2022-09-26T20:22:41.516Z"
   },
   {
    "duration": 4,
    "start_time": "2022-09-26T20:22:46.846Z"
   },
   {
    "duration": 836,
    "start_time": "2022-09-26T20:22:46.853Z"
   },
   {
    "duration": 14,
    "start_time": "2022-09-26T20:22:47.692Z"
   },
   {
    "duration": 32,
    "start_time": "2022-09-26T20:22:47.708Z"
   },
   {
    "duration": 15,
    "start_time": "2022-09-26T20:22:47.742Z"
   },
   {
    "duration": 15,
    "start_time": "2022-09-26T20:22:47.759Z"
   },
   {
    "duration": 10,
    "start_time": "2022-09-26T20:22:47.776Z"
   },
   {
    "duration": 32,
    "start_time": "2022-09-26T20:22:47.789Z"
   },
   {
    "duration": 13,
    "start_time": "2022-09-26T20:22:47.824Z"
   },
   {
    "duration": 21,
    "start_time": "2022-09-26T20:22:47.839Z"
   },
   {
    "duration": 5,
    "start_time": "2022-09-26T20:22:51.961Z"
   },
   {
    "duration": 1129,
    "start_time": "2022-09-26T20:23:12.227Z"
   },
   {
    "duration": 14,
    "start_time": "2022-09-26T20:23:17.453Z"
   },
   {
    "duration": 16,
    "start_time": "2022-09-26T20:23:29.266Z"
   },
   {
    "duration": 14,
    "start_time": "2022-09-26T20:23:36.269Z"
   },
   {
    "duration": 14,
    "start_time": "2022-09-26T20:24:08.030Z"
   },
   {
    "duration": 11,
    "start_time": "2022-09-26T20:24:08.340Z"
   },
   {
    "duration": 9,
    "start_time": "2022-09-26T20:24:50.700Z"
   },
   {
    "duration": 7,
    "start_time": "2022-09-26T20:24:51.395Z"
   },
   {
    "duration": 19,
    "start_time": "2022-09-26T20:24:52.032Z"
   },
   {
    "duration": 8,
    "start_time": "2022-09-26T20:24:57.548Z"
   },
   {
    "duration": 17,
    "start_time": "2022-09-26T20:24:57.878Z"
   },
   {
    "duration": 5,
    "start_time": "2022-09-26T20:24:59.291Z"
   },
   {
    "duration": 838,
    "start_time": "2022-09-26T20:25:00.894Z"
   },
   {
    "duration": 82,
    "start_time": "2022-09-26T20:25:09.715Z"
   },
   {
    "duration": 20,
    "start_time": "2022-09-26T20:25:22.708Z"
   },
   {
    "duration": 805,
    "start_time": "2022-09-26T20:25:34.642Z"
   },
   {
    "duration": 17,
    "start_time": "2022-09-26T20:25:36.240Z"
   },
   {
    "duration": 66,
    "start_time": "2022-09-26T20:25:37.376Z"
   },
   {
    "duration": 4,
    "start_time": "2022-09-26T20:25:39.021Z"
   },
   {
    "duration": 5,
    "start_time": "2022-09-26T20:25:39.362Z"
   },
   {
    "duration": 37,
    "start_time": "2022-09-26T20:25:39.695Z"
   },
   {
    "duration": 33,
    "start_time": "2022-09-26T20:25:40.537Z"
   },
   {
    "duration": 7,
    "start_time": "2022-09-26T20:25:41.327Z"
   },
   {
    "duration": 25,
    "start_time": "2022-09-26T20:26:05.277Z"
   },
   {
    "duration": 10,
    "start_time": "2022-09-26T20:26:05.638Z"
   },
   {
    "duration": 643,
    "start_time": "2022-09-26T20:26:13.885Z"
   },
   {
    "duration": 135222,
    "start_time": "2022-09-26T20:26:14.531Z"
   },
   {
    "duration": 17,
    "start_time": "2022-09-26T20:28:29.755Z"
   },
   {
    "duration": 5344,
    "start_time": "2022-09-26T20:28:29.775Z"
   },
   {
    "duration": 3,
    "start_time": "2022-09-26T20:28:35.121Z"
   },
   {
    "duration": 24,
    "start_time": "2022-09-26T20:28:35.126Z"
   },
   {
    "duration": 37871,
    "start_time": "2022-09-26T20:28:35.151Z"
   },
   {
    "duration": 30808,
    "start_time": "2022-09-26T20:29:13.024Z"
   },
   {
    "duration": 91,
    "start_time": "2022-09-26T20:29:43.835Z"
   },
   {
    "duration": 13,
    "start_time": "2022-09-26T20:30:13.470Z"
   },
   {
    "duration": 8,
    "start_time": "2022-09-26T20:30:13.850Z"
   },
   {
    "duration": 20,
    "start_time": "2022-09-26T20:30:17.131Z"
   },
   {
    "duration": 9,
    "start_time": "2022-09-26T20:30:17.386Z"
   },
   {
    "duration": 19,
    "start_time": "2022-09-26T20:30:20.800Z"
   },
   {
    "duration": 8,
    "start_time": "2022-09-26T20:30:21.109Z"
   },
   {
    "duration": 402,
    "start_time": "2022-09-26T20:30:25.419Z"
   },
   {
    "duration": 54917,
    "start_time": "2022-09-26T20:30:27.912Z"
   },
   {
    "duration": 2499,
    "start_time": "2022-09-26T20:31:25.628Z"
   },
   {
    "duration": 3,
    "start_time": "2022-09-26T20:31:34.434Z"
   },
   {
    "duration": 34,
    "start_time": "2022-09-26T20:31:34.442Z"
   },
   {
    "duration": 17052,
    "start_time": "2022-09-26T20:31:34.478Z"
   },
   {
    "duration": 18594,
    "start_time": "2022-09-26T20:31:51.533Z"
   },
   {
    "duration": 9,
    "start_time": "2022-09-26T20:32:10.130Z"
   },
   {
    "duration": 1328,
    "start_time": "2022-09-27T09:23:15.398Z"
   },
   {
    "duration": 3038,
    "start_time": "2022-09-27T09:23:16.728Z"
   },
   {
    "duration": 15,
    "start_time": "2022-09-27T09:23:19.768Z"
   },
   {
    "duration": 12,
    "start_time": "2022-09-27T09:23:19.786Z"
   },
   {
    "duration": 12,
    "start_time": "2022-09-27T09:23:19.800Z"
   },
   {
    "duration": 16,
    "start_time": "2022-09-27T09:23:19.813Z"
   },
   {
    "duration": 6,
    "start_time": "2022-09-27T09:23:19.830Z"
   },
   {
    "duration": 288,
    "start_time": "2022-09-27T09:23:19.837Z"
   },
   {
    "duration": 41865,
    "start_time": "2022-09-27T09:23:20.127Z"
   },
   {
    "duration": 2105,
    "start_time": "2022-09-27T09:24:01.993Z"
   },
   {
    "duration": 2,
    "start_time": "2022-09-27T09:24:04.100Z"
   },
   {
    "duration": 20,
    "start_time": "2022-09-27T09:24:04.104Z"
   },
   {
    "duration": 12398,
    "start_time": "2022-09-27T09:24:04.125Z"
   },
   {
    "duration": 7702,
    "start_time": "2022-09-27T09:24:16.525Z"
   },
   {
    "duration": 97,
    "start_time": "2022-09-27T09:24:24.229Z"
   },
   {
    "duration": 4,
    "start_time": "2022-09-27T09:36:09.465Z"
   },
   {
    "duration": 103,
    "start_time": "2022-09-27T09:36:18.712Z"
   },
   {
    "duration": 17,
    "start_time": "2022-09-27T09:36:36.538Z"
   },
   {
    "duration": 8997,
    "start_time": "2022-09-27T09:37:13.025Z"
   },
   {
    "duration": 6,
    "start_time": "2022-09-27T09:37:28.491Z"
   },
   {
    "duration": 15,
    "start_time": "2022-09-27T09:37:33.577Z"
   },
   {
    "duration": 3,
    "start_time": "2022-09-27T09:37:58.566Z"
   },
   {
    "duration": 3,
    "start_time": "2022-09-27T09:38:03.418Z"
   },
   {
    "duration": 14,
    "start_time": "2022-09-27T09:38:08.888Z"
   },
   {
    "duration": 3,
    "start_time": "2022-09-27T09:38:18.286Z"
   },
   {
    "duration": 11817,
    "start_time": "2022-09-27T09:38:41.511Z"
   },
   {
    "duration": 91,
    "start_time": "2022-09-27T09:38:53.330Z"
   },
   {
    "duration": 3,
    "start_time": "2022-09-27T09:39:05.728Z"
   },
   {
    "duration": 5,
    "start_time": "2022-09-27T09:39:06.148Z"
   },
   {
    "duration": 17,
    "start_time": "2022-09-27T09:39:11.023Z"
   },
   {
    "duration": 4,
    "start_time": "2022-09-27T09:41:09.998Z"
   },
   {
    "duration": 7,
    "start_time": "2022-09-27T09:41:30.070Z"
   },
   {
    "duration": 6,
    "start_time": "2022-09-27T09:42:28.709Z"
   },
   {
    "duration": 9,
    "start_time": "2022-09-27T09:42:58.662Z"
   },
   {
    "duration": 6,
    "start_time": "2022-09-27T09:43:22.747Z"
   },
   {
    "duration": 6,
    "start_time": "2022-09-27T09:43:25.732Z"
   },
   {
    "duration": 16,
    "start_time": "2022-09-27T10:17:52.068Z"
   },
   {
    "duration": 25,
    "start_time": "2022-09-27T10:18:08.824Z"
   },
   {
    "duration": 12872,
    "start_time": "2022-09-27T10:18:08.851Z"
   },
   {
    "duration": 95,
    "start_time": "2022-09-27T10:18:21.728Z"
   },
   {
    "duration": 8,
    "start_time": "2022-09-27T10:18:21.824Z"
   },
   {
    "duration": 11,
    "start_time": "2022-09-27T10:18:38.162Z"
   },
   {
    "duration": 11,
    "start_time": "2022-09-27T10:18:41.500Z"
   },
   {
    "duration": 14017,
    "start_time": "2022-09-27T10:18:41.512Z"
   },
   {
    "duration": 91,
    "start_time": "2022-09-27T10:18:55.532Z"
   },
   {
    "duration": 10,
    "start_time": "2022-09-27T10:18:55.625Z"
   },
   {
    "duration": 15,
    "start_time": "2022-09-27T10:19:09.287Z"
   },
   {
    "duration": 4,
    "start_time": "2022-09-27T10:19:58.722Z"
   },
   {
    "duration": 17,
    "start_time": "2022-09-27T10:20:56.565Z"
   },
   {
    "duration": 3,
    "start_time": "2022-09-27T10:21:09.502Z"
   },
   {
    "duration": 20,
    "start_time": "2022-09-27T10:21:11.600Z"
   },
   {
    "duration": 4,
    "start_time": "2022-09-27T10:21:35.729Z"
   },
   {
    "duration": 2855,
    "start_time": "2022-09-27T10:23:31.391Z"
   },
   {
    "duration": 1213,
    "start_time": "2022-09-27T10:23:49.576Z"
   },
   {
    "duration": 3047,
    "start_time": "2022-09-27T10:23:50.791Z"
   },
   {
    "duration": 16,
    "start_time": "2022-09-27T10:23:53.840Z"
   },
   {
    "duration": 12,
    "start_time": "2022-09-27T10:23:53.857Z"
   },
   {
    "duration": 13,
    "start_time": "2022-09-27T10:23:53.871Z"
   },
   {
    "duration": 13,
    "start_time": "2022-09-27T10:23:53.885Z"
   },
   {
    "duration": 6,
    "start_time": "2022-09-27T10:23:53.900Z"
   },
   {
    "duration": 293,
    "start_time": "2022-09-27T10:23:53.923Z"
   },
   {
    "duration": 43111,
    "start_time": "2022-09-27T10:23:54.222Z"
   },
   {
    "duration": 2592,
    "start_time": "2022-09-27T10:24:37.335Z"
   },
   {
    "duration": 4,
    "start_time": "2022-09-27T10:24:39.929Z"
   },
   {
    "duration": 2939,
    "start_time": "2022-09-27T10:24:39.935Z"
   },
   {
    "duration": 1277,
    "start_time": "2022-09-27T10:26:03.036Z"
   },
   {
    "duration": 3159,
    "start_time": "2022-09-27T10:26:04.314Z"
   },
   {
    "duration": 16,
    "start_time": "2022-09-27T10:26:07.475Z"
   },
   {
    "duration": 13,
    "start_time": "2022-09-27T10:26:09.847Z"
   },
   {
    "duration": 9,
    "start_time": "2022-09-27T10:26:10.008Z"
   },
   {
    "duration": 16,
    "start_time": "2022-09-27T10:26:10.268Z"
   },
   {
    "duration": 6,
    "start_time": "2022-09-27T10:26:10.656Z"
   },
   {
    "duration": 313,
    "start_time": "2022-09-27T10:26:11.257Z"
   },
   {
    "duration": 42616,
    "start_time": "2022-09-27T10:26:12.185Z"
   },
   {
    "duration": 3,
    "start_time": "2022-09-27T10:27:19.095Z"
   },
   {
    "duration": 4,
    "start_time": "2022-09-27T10:27:28.580Z"
   },
   {
    "duration": 107,
    "start_time": "2022-09-27T10:27:29.301Z"
   },
   {
    "duration": 2216,
    "start_time": "2022-09-27T10:27:38.478Z"
   },
   {
    "duration": 4,
    "start_time": "2022-09-27T10:27:42.239Z"
   },
   {
    "duration": 3,
    "start_time": "2022-09-27T10:27:42.842Z"
   },
   {
    "duration": 16,
    "start_time": "2022-09-27T10:27:45.103Z"
   },
   {
    "duration": 25,
    "start_time": "2022-09-27T10:27:47.929Z"
   },
   {
    "duration": 4,
    "start_time": "2022-09-27T10:28:42.791Z"
   },
   {
    "duration": 3,
    "start_time": "2022-09-27T10:28:43.136Z"
   },
   {
    "duration": 22,
    "start_time": "2022-09-27T10:28:43.728Z"
   },
   {
    "duration": 41,
    "start_time": "2022-09-27T10:28:45.119Z"
   },
   {
    "duration": 3,
    "start_time": "2022-09-27T10:29:07.069Z"
   },
   {
    "duration": 2,
    "start_time": "2022-09-27T10:29:07.302Z"
   },
   {
    "duration": 20,
    "start_time": "2022-09-27T10:29:07.556Z"
   },
   {
    "duration": 22,
    "start_time": "2022-09-27T10:29:08.040Z"
   },
   {
    "duration": 143,
    "start_time": "2022-09-27T10:32:50.909Z"
   },
   {
    "duration": 27,
    "start_time": "2022-09-27T10:33:02.357Z"
   },
   {
    "duration": 215961,
    "start_time": "2022-09-27T10:33:05.204Z"
   },
   {
    "duration": 22,
    "start_time": "2022-09-27T10:51:48.295Z"
   },
   {
    "duration": 12,
    "start_time": "2022-09-27T10:52:23.497Z"
   },
   {
    "duration": 6,
    "start_time": "2022-09-27T10:52:23.945Z"
   },
   {
    "duration": 137,
    "start_time": "2022-09-27T10:52:24.793Z"
   },
   {
    "duration": 14475,
    "start_time": "2022-09-27T10:52:25.514Z"
   },
   {
    "duration": 836,
    "start_time": "2022-09-27T10:52:42.383Z"
   },
   {
    "duration": 4,
    "start_time": "2022-09-27T10:52:45.215Z"
   },
   {
    "duration": 13,
    "start_time": "2022-09-27T10:52:45.390Z"
   },
   {
    "duration": 5644,
    "start_time": "2022-09-27T10:52:45.685Z"
   },
   {
    "duration": 93,
    "start_time": "2022-09-27T10:52:51.333Z"
   },
   {
    "duration": 6,
    "start_time": "2022-09-27T10:52:53.822Z"
   },
   {
    "duration": 12,
    "start_time": "2022-09-27T10:52:55.019Z"
   },
   {
    "duration": 81,
    "start_time": "2022-09-27T10:55:22.834Z"
   },
   {
    "duration": 37288,
    "start_time": "2022-09-27T10:55:47.241Z"
   },
   {
    "duration": 4,
    "start_time": "2022-09-27T10:56:32.729Z"
   },
   {
    "duration": 10,
    "start_time": "2022-09-27T10:56:46.528Z"
   },
   {
    "duration": 1193,
    "start_time": "2022-09-27T10:56:59.345Z"
   },
   {
    "duration": 1201,
    "start_time": "2022-09-27T10:57:26.572Z"
   },
   {
    "duration": 1430,
    "start_time": "2022-09-27T10:57:40.579Z"
   },
   {
    "duration": 75479,
    "start_time": "2022-09-27T10:57:55.719Z"
   },
   {
    "duration": 5,
    "start_time": "2022-09-27T10:59:18.732Z"
   },
   {
    "duration": 2027,
    "start_time": "2022-09-27T10:59:25.614Z"
   },
   {
    "duration": 3436,
    "start_time": "2022-09-27T10:59:33.456Z"
   },
   {
    "duration": 889,
    "start_time": "2022-09-27T10:59:40.254Z"
   },
   {
    "duration": 1638,
    "start_time": "2022-09-27T10:59:44.231Z"
   },
   {
    "duration": 826,
    "start_time": "2022-09-27T10:59:50.540Z"
   },
   {
    "duration": 407,
    "start_time": "2022-09-27T10:59:54.759Z"
   },
   {
    "duration": 167,
    "start_time": "2022-09-27T10:59:59.639Z"
   },
   {
    "duration": 296,
    "start_time": "2022-09-27T11:00:03.180Z"
   },
   {
    "duration": 473,
    "start_time": "2022-09-27T11:00:05.803Z"
   },
   {
    "duration": 395,
    "start_time": "2022-09-27T11:00:12.913Z"
   },
   {
    "duration": 348,
    "start_time": "2022-09-27T11:00:20.224Z"
   },
   {
    "duration": 255,
    "start_time": "2022-09-27T11:00:24.455Z"
   },
   {
    "duration": 422,
    "start_time": "2022-09-27T11:00:28.245Z"
   },
   {
    "duration": 445,
    "start_time": "2022-09-27T11:00:31.385Z"
   },
   {
    "duration": 355,
    "start_time": "2022-09-27T11:00:34.391Z"
   },
   {
    "duration": 375,
    "start_time": "2022-09-27T11:00:39.997Z"
   },
   {
    "duration": 348,
    "start_time": "2022-09-27T11:00:44.719Z"
   },
   {
    "duration": 413,
    "start_time": "2022-09-27T11:00:47.470Z"
   },
   {
    "duration": 341,
    "start_time": "2022-09-27T11:00:50.470Z"
   },
   {
    "duration": 319,
    "start_time": "2022-09-27T11:00:53.428Z"
   },
   {
    "duration": 316,
    "start_time": "2022-09-27T11:00:56.841Z"
   },
   {
    "duration": 34032,
    "start_time": "2022-09-27T11:01:21.618Z"
   },
   {
    "duration": 5,
    "start_time": "2022-09-27T11:02:00.325Z"
   },
   {
    "duration": 1072,
    "start_time": "2022-09-27T11:02:08.113Z"
   },
   {
    "duration": 310,
    "start_time": "2022-09-27T11:02:16.928Z"
   },
   {
    "duration": 1052,
    "start_time": "2022-09-27T11:02:23.684Z"
   },
   {
    "duration": 1025,
    "start_time": "2022-09-27T11:02:28.790Z"
   },
   {
    "duration": 931,
    "start_time": "2022-09-27T11:02:33.903Z"
   },
   {
    "duration": 1112,
    "start_time": "2022-09-27T11:02:37.562Z"
   },
   {
    "duration": 1024,
    "start_time": "2022-09-27T11:02:41.076Z"
   },
   {
    "duration": 4,
    "start_time": "2022-09-27T11:04:16.276Z"
   },
   {
    "duration": 0,
    "start_time": "2022-09-27T11:11:05.660Z"
   },
   {
    "duration": 0,
    "start_time": "2022-09-27T11:11:05.662Z"
   },
   {
    "duration": 82,
    "start_time": "2022-09-27T11:11:08.135Z"
   },
   {
    "duration": 72,
    "start_time": "2022-09-27T11:11:13.558Z"
   },
   {
    "duration": 3,
    "start_time": "2022-09-27T11:11:18.069Z"
   },
   {
    "duration": 16049,
    "start_time": "2022-09-27T11:11:24.962Z"
   },
   {
    "duration": 3,
    "start_time": "2022-09-27T11:11:43.294Z"
   },
   {
    "duration": 1232289,
    "start_time": "2022-09-27T11:11:44.012Z"
   },
   {
    "duration": 1,
    "start_time": "2022-09-27T11:32:16.302Z"
   },
   {
    "duration": 12,
    "start_time": "2022-09-27T11:32:21.236Z"
   },
   {
    "duration": 18,
    "start_time": "2022-09-27T11:33:23.121Z"
   },
   {
    "duration": 2615,
    "start_time": "2022-09-27T11:38:37.547Z"
   },
   {
    "duration": 7,
    "start_time": "2022-09-27T11:42:00.408Z"
   },
   {
    "duration": 730,
    "start_time": "2022-09-27T11:42:00.417Z"
   },
   {
    "duration": 10,
    "start_time": "2022-09-27T11:42:01.149Z"
   },
   {
    "duration": 46,
    "start_time": "2022-09-27T11:42:01.160Z"
   },
   {
    "duration": 17,
    "start_time": "2022-09-27T11:42:01.209Z"
   },
   {
    "duration": 33,
    "start_time": "2022-09-27T11:42:01.227Z"
   },
   {
    "duration": 36,
    "start_time": "2022-09-27T11:42:01.262Z"
   },
   {
    "duration": 163,
    "start_time": "2022-09-27T11:42:01.300Z"
   },
   {
    "duration": 15375,
    "start_time": "2022-09-27T11:42:01.465Z"
   },
   {
    "duration": 1035,
    "start_time": "2022-09-27T11:42:16.842Z"
   },
   {
    "duration": 4,
    "start_time": "2022-09-27T11:42:17.879Z"
   },
   {
    "duration": 50,
    "start_time": "2022-09-27T11:42:17.886Z"
   },
   {
    "duration": 5395,
    "start_time": "2022-09-27T11:42:17.938Z"
   },
   {
    "duration": 91,
    "start_time": "2022-09-27T11:42:23.336Z"
   },
   {
    "duration": 19,
    "start_time": "2022-09-27T11:42:23.429Z"
   },
   {
    "duration": 22691,
    "start_time": "2022-09-27T11:42:23.449Z"
   },
   {
    "duration": 4,
    "start_time": "2022-09-27T11:42:46.142Z"
   },
   {
    "duration": 38,
    "start_time": "2022-09-27T11:42:46.148Z"
   },
   {
    "duration": 10,
    "start_time": "2022-09-27T11:42:46.188Z"
   },
   {
    "duration": 75433,
    "start_time": "2022-09-27T11:42:46.200Z"
   },
   {
    "duration": 0,
    "start_time": "2022-09-27T11:44:01.635Z"
   },
   {
    "duration": 0,
    "start_time": "2022-09-27T11:44:01.638Z"
   },
   {
    "duration": 0,
    "start_time": "2022-09-27T11:44:01.639Z"
   },
   {
    "duration": 4,
    "start_time": "2022-09-27T11:44:07.200Z"
   },
   {
    "duration": 660,
    "start_time": "2022-09-27T11:44:07.205Z"
   },
   {
    "duration": 11,
    "start_time": "2022-09-27T11:44:07.867Z"
   },
   {
    "duration": 27,
    "start_time": "2022-09-27T11:44:07.879Z"
   },
   {
    "duration": 12,
    "start_time": "2022-09-27T11:44:07.908Z"
   },
   {
    "duration": 12,
    "start_time": "2022-09-27T11:44:10.639Z"
   },
   {
    "duration": 7,
    "start_time": "2022-09-27T11:44:11.602Z"
   },
   {
    "duration": 67,
    "start_time": "2022-09-27T11:44:15.218Z"
   },
   {
    "duration": 6551,
    "start_time": "2022-09-27T11:44:15.287Z"
   },
   {
    "duration": 466,
    "start_time": "2022-09-27T11:44:21.840Z"
   },
   {
    "duration": 3,
    "start_time": "2022-09-27T11:44:22.307Z"
   },
   {
    "duration": 15,
    "start_time": "2022-09-27T11:44:22.312Z"
   },
   {
    "duration": 1597,
    "start_time": "2022-09-27T11:44:22.329Z"
   },
   {
    "duration": 0,
    "start_time": "2022-09-27T11:44:23.928Z"
   },
   {
    "duration": 0,
    "start_time": "2022-09-27T11:44:23.929Z"
   },
   {
    "duration": 0,
    "start_time": "2022-09-27T11:44:23.930Z"
   },
   {
    "duration": 0,
    "start_time": "2022-09-27T11:44:24.021Z"
   },
   {
    "duration": 0,
    "start_time": "2022-09-27T11:44:24.022Z"
   },
   {
    "duration": 8,
    "start_time": "2022-09-27T11:46:18.184Z"
   },
   {
    "duration": 2129,
    "start_time": "2022-09-27T11:46:18.595Z"
   },
   {
    "duration": 1719,
    "start_time": "2022-09-27T11:47:55.304Z"
   },
   {
    "duration": 4,
    "start_time": "2022-09-27T11:48:13.788Z"
   },
   {
    "duration": 696,
    "start_time": "2022-09-27T11:48:13.794Z"
   },
   {
    "duration": 9,
    "start_time": "2022-09-27T11:48:14.492Z"
   },
   {
    "duration": 22,
    "start_time": "2022-09-27T11:48:14.502Z"
   },
   {
    "duration": 10,
    "start_time": "2022-09-27T11:48:14.527Z"
   },
   {
    "duration": 16,
    "start_time": "2022-09-27T11:48:14.539Z"
   },
   {
    "duration": 6,
    "start_time": "2022-09-27T11:48:14.556Z"
   },
   {
    "duration": 76,
    "start_time": "2022-09-27T11:48:14.564Z"
   },
   {
    "duration": 6902,
    "start_time": "2022-09-27T11:48:14.642Z"
   },
   {
    "duration": 449,
    "start_time": "2022-09-27T11:48:21.546Z"
   },
   {
    "duration": 3,
    "start_time": "2022-09-27T11:48:21.998Z"
   },
   {
    "duration": 20,
    "start_time": "2022-09-27T11:48:22.003Z"
   },
   {
    "duration": 3099,
    "start_time": "2022-09-27T11:48:22.025Z"
   },
   {
    "duration": 2,
    "start_time": "2022-09-27T11:48:26.830Z"
   },
   {
    "duration": 8,
    "start_time": "2022-09-27T11:48:30.273Z"
   },
   {
    "duration": 7,
    "start_time": "2022-09-27T11:48:48.623Z"
   },
   {
    "duration": 5000,
    "start_time": "2022-09-27T11:48:49.923Z"
   },
   {
    "duration": 5,
    "start_time": "2022-09-27T11:49:12.418Z"
   },
   {
    "duration": 692,
    "start_time": "2022-09-27T11:49:12.426Z"
   },
   {
    "duration": 10,
    "start_time": "2022-09-27T11:49:13.122Z"
   },
   {
    "duration": 31,
    "start_time": "2022-09-27T11:49:13.134Z"
   },
   {
    "duration": 9,
    "start_time": "2022-09-27T11:49:13.168Z"
   },
   {
    "duration": 11,
    "start_time": "2022-09-27T11:49:13.178Z"
   },
   {
    "duration": 18,
    "start_time": "2022-09-27T11:49:13.190Z"
   },
   {
    "duration": 69,
    "start_time": "2022-09-27T11:49:13.209Z"
   },
   {
    "duration": 6876,
    "start_time": "2022-09-27T11:49:13.280Z"
   },
   {
    "duration": 464,
    "start_time": "2022-09-27T11:49:20.158Z"
   },
   {
    "duration": 3,
    "start_time": "2022-09-27T11:49:20.624Z"
   },
   {
    "duration": 3,
    "start_time": "2022-09-27T11:49:23.716Z"
   },
   {
    "duration": 7,
    "start_time": "2022-09-27T11:49:24.774Z"
   },
   {
    "duration": 4034,
    "start_time": "2022-09-27T11:49:25.395Z"
   },
   {
    "duration": 1652,
    "start_time": "2022-09-27T11:49:50.471Z"
   },
   {
    "duration": 10,
    "start_time": "2022-09-27T11:50:01.337Z"
   },
   {
    "duration": 4,
    "start_time": "2022-09-27T11:50:06.851Z"
   },
   {
    "duration": 5,
    "start_time": "2022-09-27T11:50:12.426Z"
   },
   {
    "duration": 1921,
    "start_time": "2022-09-27T11:50:20.304Z"
   },
   {
    "duration": 1511,
    "start_time": "2022-09-27T11:50:48.508Z"
   },
   {
    "duration": 777,
    "start_time": "2022-09-27T11:50:50.021Z"
   },
   {
    "duration": 25,
    "start_time": "2022-09-27T11:50:50.800Z"
   },
   {
    "duration": 15,
    "start_time": "2022-09-27T11:50:50.827Z"
   },
   {
    "duration": 18,
    "start_time": "2022-09-27T11:50:50.844Z"
   },
   {
    "duration": 9,
    "start_time": "2022-09-27T11:50:50.869Z"
   },
   {
    "duration": 8,
    "start_time": "2022-09-27T11:50:50.880Z"
   },
   {
    "duration": 78,
    "start_time": "2022-09-27T11:50:50.890Z"
   },
   {
    "duration": 7620,
    "start_time": "2022-09-27T11:50:50.970Z"
   },
   {
    "duration": 452,
    "start_time": "2022-09-27T11:50:58.592Z"
   },
   {
    "duration": 3,
    "start_time": "2022-09-27T11:50:59.046Z"
   },
   {
    "duration": 20,
    "start_time": "2022-09-27T11:50:59.050Z"
   },
   {
    "duration": 10,
    "start_time": "2022-09-27T11:50:59.072Z"
   },
   {
    "duration": 10,
    "start_time": "2022-09-27T11:50:59.084Z"
   },
   {
    "duration": 2910,
    "start_time": "2022-09-27T11:50:59.096Z"
   },
   {
    "duration": 0,
    "start_time": "2022-09-27T11:51:02.007Z"
   },
   {
    "duration": 0,
    "start_time": "2022-09-27T11:51:02.009Z"
   },
   {
    "duration": 0,
    "start_time": "2022-09-27T11:51:02.010Z"
   },
   {
    "duration": 0,
    "start_time": "2022-09-27T11:51:02.010Z"
   },
   {
    "duration": 0,
    "start_time": "2022-09-27T11:51:02.022Z"
   },
   {
    "duration": 1686,
    "start_time": "2022-09-27T11:51:22.436Z"
   },
   {
    "duration": 2686,
    "start_time": "2022-09-27T11:51:36.041Z"
   },
   {
    "duration": 2980,
    "start_time": "2022-09-27T11:51:40.842Z"
   },
   {
    "duration": 7,
    "start_time": "2022-09-27T11:51:43.824Z"
   },
   {
    "duration": 102,
    "start_time": "2022-09-27T11:51:43.833Z"
   },
   {
    "duration": 119,
    "start_time": "2022-09-27T11:51:43.937Z"
   },
   {
    "duration": 8,
    "start_time": "2022-09-27T11:51:44.058Z"
   },
   {
    "duration": 0,
    "start_time": "2022-09-27T11:51:44.067Z"
   },
   {
    "duration": 12587,
    "start_time": "2022-09-27T11:51:52.371Z"
   },
   {
    "duration": 4,
    "start_time": "2022-09-27T11:52:04.960Z"
   },
   {
    "duration": 3,
    "start_time": "2022-09-27T11:52:14.063Z"
   },
   {
    "duration": 9,
    "start_time": "2022-09-27T11:52:15.395Z"
   },
   {
    "duration": 12,
    "start_time": "2022-09-27T11:52:19.898Z"
   },
   {
    "duration": 139,
    "start_time": "2022-09-27T11:52:49.311Z"
   },
   {
    "duration": 9,
    "start_time": "2022-09-27T11:52:50.049Z"
   },
   {
    "duration": 10,
    "start_time": "2022-09-27T11:53:11.214Z"
   },
   {
    "duration": 10,
    "start_time": "2022-09-27T11:53:15.674Z"
   },
   {
    "duration": 12,
    "start_time": "2022-09-27T11:53:15.686Z"
   },
   {
    "duration": 141,
    "start_time": "2022-09-27T11:53:15.699Z"
   },
   {
    "duration": 13673,
    "start_time": "2022-09-27T11:53:15.841Z"
   },
   {
    "duration": 892,
    "start_time": "2022-09-27T11:53:29.516Z"
   },
   {
    "duration": 11,
    "start_time": "2022-09-27T11:53:30.410Z"
   },
   {
    "duration": 33,
    "start_time": "2022-09-27T11:53:30.423Z"
   },
   {
    "duration": 29,
    "start_time": "2022-09-27T11:53:30.458Z"
   },
   {
    "duration": 21,
    "start_time": "2022-09-27T11:53:30.489Z"
   },
   {
    "duration": 4714,
    "start_time": "2022-09-27T11:53:30.512Z"
   },
   {
    "duration": 95,
    "start_time": "2022-09-27T11:53:35.228Z"
   },
   {
    "duration": 9,
    "start_time": "2022-09-27T11:53:35.324Z"
   },
   {
    "duration": 32241,
    "start_time": "2022-09-27T11:53:35.334Z"
   },
   {
    "duration": 4,
    "start_time": "2022-09-27T11:54:07.577Z"
   },
   {
    "duration": 336,
    "start_time": "2022-09-27T11:54:07.583Z"
   },
   {
    "duration": 11,
    "start_time": "2022-09-27T11:54:07.921Z"
   },
   {
    "duration": 14,
    "start_time": "2022-09-27T11:57:15.731Z"
   },
   {
    "duration": 13,
    "start_time": "2022-09-27T11:57:19.755Z"
   },
   {
    "duration": 6,
    "start_time": "2022-09-27T11:57:19.769Z"
   },
   {
    "duration": 295,
    "start_time": "2022-09-27T11:57:19.777Z"
   },
   {
    "duration": 42824,
    "start_time": "2022-09-27T11:57:20.074Z"
   },
   {
    "duration": 2199,
    "start_time": "2022-09-27T11:58:02.900Z"
   },
   {
    "duration": 3,
    "start_time": "2022-09-27T11:58:05.101Z"
   },
   {
    "duration": 23,
    "start_time": "2022-09-27T11:58:05.105Z"
   },
   {
    "duration": 3,
    "start_time": "2022-09-27T11:58:05.130Z"
   },
   {
    "duration": 7,
    "start_time": "2022-09-27T11:58:05.135Z"
   },
   {
    "duration": 12977,
    "start_time": "2022-09-27T11:58:05.145Z"
   },
   {
    "duration": 6,
    "start_time": "2022-09-27T11:58:18.123Z"
   },
   {
    "duration": 9,
    "start_time": "2022-09-27T11:58:18.131Z"
   },
   {
    "duration": 108264,
    "start_time": "2022-09-27T11:58:18.141Z"
   },
   {
    "duration": 3,
    "start_time": "2022-09-27T12:00:06.407Z"
   },
   {
    "duration": 1377,
    "start_time": "2022-09-27T12:00:06.411Z"
   },
   {
    "duration": 20,
    "start_time": "2022-09-27T12:00:07.790Z"
   },
   {
    "duration": 1397,
    "start_time": "2022-09-27T12:00:59.236Z"
   },
   {
    "duration": 19,
    "start_time": "2022-09-27T12:01:02.029Z"
   },
   {
    "duration": 1048,
    "start_time": "2022-09-27T12:01:21.314Z"
   },
   {
    "duration": 16,
    "start_time": "2022-09-27T12:01:22.363Z"
   },
   {
    "duration": 1402,
    "start_time": "2022-09-27T12:01:25.430Z"
   },
   {
    "duration": 19,
    "start_time": "2022-09-27T12:01:26.834Z"
   },
   {
    "duration": 3330,
    "start_time": "2022-09-27T12:02:03.821Z"
   },
   {
    "duration": 33,
    "start_time": "2022-09-27T12:02:07.153Z"
   },
   {
    "duration": 687,
    "start_time": "2022-09-27T12:02:09.442Z"
   },
   {
    "duration": 13,
    "start_time": "2022-09-27T12:02:10.131Z"
   },
   {
    "duration": 514,
    "start_time": "2022-09-27T12:02:14.184Z"
   },
   {
    "duration": 12,
    "start_time": "2022-09-27T12:02:14.700Z"
   },
   {
    "duration": 1327,
    "start_time": "2022-09-27T12:02:18.277Z"
   },
   {
    "duration": 27,
    "start_time": "2022-09-27T12:02:19.605Z"
   },
   {
    "duration": 1676,
    "start_time": "2022-09-27T12:02:23.129Z"
   },
   {
    "duration": 25,
    "start_time": "2022-09-27T12:02:24.807Z"
   },
   {
    "duration": 1336,
    "start_time": "2022-09-27T12:02:28.931Z"
   },
   {
    "duration": 18,
    "start_time": "2022-09-27T12:02:30.269Z"
   },
   {
    "duration": 1603,
    "start_time": "2022-09-27T12:02:47.594Z"
   },
   {
    "duration": 24,
    "start_time": "2022-09-27T12:02:49.199Z"
   },
   {
    "duration": 1630,
    "start_time": "2022-09-27T12:02:52.261Z"
   },
   {
    "duration": 20,
    "start_time": "2022-09-27T12:02:55.150Z"
   },
   {
    "duration": 1487,
    "start_time": "2022-09-27T12:02:58.972Z"
   },
   {
    "duration": 21,
    "start_time": "2022-09-27T12:03:00.461Z"
   },
   {
    "duration": 11,
    "start_time": "2022-09-27T12:03:08.942Z"
   },
   {
    "duration": 11,
    "start_time": "2022-09-27T12:03:11.991Z"
   },
   {
    "duration": 8,
    "start_time": "2022-09-27T12:03:12.004Z"
   },
   {
    "duration": 147,
    "start_time": "2022-09-27T12:03:12.014Z"
   },
   {
    "duration": 13911,
    "start_time": "2022-09-27T12:03:12.163Z"
   },
   {
    "duration": 876,
    "start_time": "2022-09-27T12:03:26.076Z"
   },
   {
    "duration": 2,
    "start_time": "2022-09-27T12:03:26.954Z"
   },
   {
    "duration": 30,
    "start_time": "2022-09-27T12:03:26.957Z"
   },
   {
    "duration": 14,
    "start_time": "2022-09-27T12:03:26.989Z"
   },
   {
    "duration": 20,
    "start_time": "2022-09-27T12:03:27.004Z"
   },
   {
    "duration": 5399,
    "start_time": "2022-09-27T12:03:27.026Z"
   },
   {
    "duration": 98,
    "start_time": "2022-09-27T12:03:32.428Z"
   },
   {
    "duration": 19,
    "start_time": "2022-09-27T12:03:32.528Z"
   },
   {
    "duration": 34851,
    "start_time": "2022-09-27T12:03:32.549Z"
   },
   {
    "duration": 3,
    "start_time": "2022-09-27T12:04:07.402Z"
   },
   {
    "duration": 396,
    "start_time": "2022-09-27T12:04:07.421Z"
   },
   {
    "duration": 15,
    "start_time": "2022-09-27T12:04:07.819Z"
   },
   {
    "duration": 305,
    "start_time": "2022-09-27T12:05:10.595Z"
   },
   {
    "duration": 12,
    "start_time": "2022-09-27T12:05:11.566Z"
   },
   {
    "duration": 11,
    "start_time": "2022-09-27T12:05:24.086Z"
   },
   {
    "duration": 6,
    "start_time": "2022-09-27T12:05:24.628Z"
   },
   {
    "duration": 183,
    "start_time": "2022-09-27T12:05:25.761Z"
   },
   {
    "duration": 23010,
    "start_time": "2022-09-27T12:05:26.475Z"
   },
   {
    "duration": 1329,
    "start_time": "2022-09-27T12:06:04.936Z"
   },
   {
    "duration": 735,
    "start_time": "2022-09-27T12:06:06.267Z"
   },
   {
    "duration": 22,
    "start_time": "2022-09-27T12:06:07.004Z"
   },
   {
    "duration": 12,
    "start_time": "2022-09-27T12:06:07.028Z"
   },
   {
    "duration": 10,
    "start_time": "2022-09-27T12:06:07.042Z"
   },
   {
    "duration": 9,
    "start_time": "2022-09-27T12:06:07.054Z"
   },
   {
    "duration": 5,
    "start_time": "2022-09-27T12:06:07.065Z"
   },
   {
    "duration": 196,
    "start_time": "2022-09-27T12:06:07.071Z"
   },
   {
    "duration": 21968,
    "start_time": "2022-09-27T12:06:07.268Z"
   },
   {
    "duration": 1243,
    "start_time": "2022-09-27T12:06:29.237Z"
   },
   {
    "duration": 3,
    "start_time": "2022-09-27T12:06:30.482Z"
   },
   {
    "duration": 41,
    "start_time": "2022-09-27T12:06:30.487Z"
   },
   {
    "duration": 9700,
    "start_time": "2022-09-27T12:06:30.530Z"
   },
   {
    "duration": 6,
    "start_time": "2022-09-27T12:06:40.323Z"
   },
   {
    "duration": 13,
    "start_time": "2022-09-27T12:06:40.330Z"
   },
   {
    "duration": 63583,
    "start_time": "2022-09-27T12:06:40.345Z"
   },
   {
    "duration": 3,
    "start_time": "2022-09-27T12:07:43.930Z"
   },
   {
    "duration": 3510,
    "start_time": "2022-09-27T12:07:43.934Z"
   },
   {
    "duration": 42,
    "start_time": "2022-09-27T12:07:47.445Z"
   },
   {
    "duration": 3,
    "start_time": "2022-09-27T12:08:34.202Z"
   },
   {
    "duration": 649,
    "start_time": "2022-09-27T12:08:34.207Z"
   },
   {
    "duration": 9,
    "start_time": "2022-09-27T12:08:34.858Z"
   },
   {
    "duration": 13,
    "start_time": "2022-09-27T12:08:34.868Z"
   },
   {
    "duration": 6,
    "start_time": "2022-09-27T12:08:34.883Z"
   },
   {
    "duration": 32,
    "start_time": "2022-09-27T12:08:34.890Z"
   },
   {
    "duration": 6,
    "start_time": "2022-09-27T12:08:34.923Z"
   },
   {
    "duration": 567,
    "start_time": "2022-09-27T12:08:34.930Z"
   },
   {
    "duration": 111158,
    "start_time": "2022-09-27T12:08:35.498Z"
   },
   {
    "duration": 4126,
    "start_time": "2022-09-27T12:10:26.658Z"
   },
   {
    "duration": 2,
    "start_time": "2022-09-27T12:10:30.786Z"
   },
   {
    "duration": 60,
    "start_time": "2022-09-27T12:10:30.789Z"
   },
   {
    "duration": 29271,
    "start_time": "2022-09-27T12:10:30.851Z"
   },
   {
    "duration": 7,
    "start_time": "2022-09-27T12:11:00.124Z"
   },
   {
    "duration": 15,
    "start_time": "2022-09-27T12:11:00.132Z"
   },
   {
    "duration": 342023,
    "start_time": "2022-09-27T12:11:00.148Z"
   },
   {
    "duration": 3,
    "start_time": "2022-09-27T12:16:42.173Z"
   },
   {
    "duration": 10581,
    "start_time": "2022-09-27T12:16:42.178Z"
   },
   {
    "duration": 77,
    "start_time": "2022-09-27T12:16:52.761Z"
   },
   {
    "duration": 15,
    "start_time": "2022-09-27T12:17:10.945Z"
   },
   {
    "duration": 12,
    "start_time": "2022-09-27T12:17:15.294Z"
   },
   {
    "duration": 17,
    "start_time": "2022-09-27T12:17:15.307Z"
   },
   {
    "duration": 243,
    "start_time": "2022-09-27T12:17:15.325Z"
   },
   {
    "duration": 5669,
    "start_time": "2022-09-27T12:17:15.570Z"
   },
   {
    "duration": 0,
    "start_time": "2022-09-27T12:17:21.241Z"
   },
   {
    "duration": 0,
    "start_time": "2022-09-27T12:17:21.243Z"
   },
   {
    "duration": 0,
    "start_time": "2022-09-27T12:17:21.244Z"
   },
   {
    "duration": 0,
    "start_time": "2022-09-27T12:17:21.245Z"
   },
   {
    "duration": 0,
    "start_time": "2022-09-27T12:17:21.247Z"
   },
   {
    "duration": 0,
    "start_time": "2022-09-27T12:17:21.248Z"
   },
   {
    "duration": 0,
    "start_time": "2022-09-27T12:17:21.250Z"
   },
   {
    "duration": 0,
    "start_time": "2022-09-27T12:17:21.251Z"
   },
   {
    "duration": 0,
    "start_time": "2022-09-27T12:17:21.252Z"
   },
   {
    "duration": 1,
    "start_time": "2022-09-27T12:17:21.253Z"
   },
   {
    "duration": 11,
    "start_time": "2022-09-27T12:17:24.790Z"
   },
   {
    "duration": 9,
    "start_time": "2022-09-27T12:17:30.665Z"
   },
   {
    "duration": 21,
    "start_time": "2022-09-27T12:17:30.676Z"
   },
   {
    "duration": 161,
    "start_time": "2022-09-27T12:17:30.699Z"
   },
   {
    "duration": 13966,
    "start_time": "2022-09-27T12:17:30.862Z"
   },
   {
    "duration": 826,
    "start_time": "2022-09-27T12:17:44.831Z"
   },
   {
    "duration": 2,
    "start_time": "2022-09-27T12:17:45.659Z"
   },
   {
    "duration": 29,
    "start_time": "2022-09-27T12:17:45.663Z"
   },
   {
    "duration": 6128,
    "start_time": "2022-09-27T12:17:45.694Z"
   },
   {
    "duration": 5,
    "start_time": "2022-09-27T12:17:51.824Z"
   },
   {
    "duration": 103,
    "start_time": "2022-09-27T12:17:51.831Z"
   },
   {
    "duration": 34427,
    "start_time": "2022-09-27T12:17:51.935Z"
   },
   {
    "duration": 3,
    "start_time": "2022-09-27T12:18:26.363Z"
   },
   {
    "duration": 315,
    "start_time": "2022-09-27T12:18:26.368Z"
   },
   {
    "duration": 10,
    "start_time": "2022-09-27T12:18:26.685Z"
   },
   {
    "duration": 336,
    "start_time": "2022-09-27T12:18:48.751Z"
   },
   {
    "duration": 321,
    "start_time": "2022-09-27T12:18:49.557Z"
   },
   {
    "duration": 771,
    "start_time": "2022-09-27T12:19:02.609Z"
   },
   {
    "duration": 315,
    "start_time": "2022-09-27T12:19:08.587Z"
   },
   {
    "duration": 368,
    "start_time": "2022-09-27T12:19:13.067Z"
   },
   {
    "duration": 358,
    "start_time": "2022-09-27T12:19:15.740Z"
   },
   {
    "duration": 361,
    "start_time": "2022-09-27T12:19:19.197Z"
   },
   {
    "duration": 335,
    "start_time": "2022-09-27T12:19:22.670Z"
   },
   {
    "duration": 248,
    "start_time": "2022-09-27T12:19:35.320Z"
   },
   {
    "duration": 256,
    "start_time": "2022-09-27T12:19:39.144Z"
   },
   {
    "duration": 245,
    "start_time": "2022-09-27T12:19:43.192Z"
   },
   {
    "duration": 248,
    "start_time": "2022-09-27T12:19:45.556Z"
   },
   {
    "duration": 261,
    "start_time": "2022-09-27T12:19:48.099Z"
   },
   {
    "duration": 172,
    "start_time": "2022-09-27T12:19:50.405Z"
   },
   {
    "duration": 109,
    "start_time": "2022-09-27T12:19:59.169Z"
   },
   {
    "duration": 141,
    "start_time": "2022-09-27T12:20:01.756Z"
   },
   {
    "duration": 146,
    "start_time": "2022-09-27T12:20:03.990Z"
   },
   {
    "duration": 97,
    "start_time": "2022-09-27T12:20:08.701Z"
   },
   {
    "duration": 31,
    "start_time": "2022-09-27T12:20:12.508Z"
   },
   {
    "duration": 62,
    "start_time": "2022-09-27T12:20:15.046Z"
   },
   {
    "duration": 70,
    "start_time": "2022-09-27T12:20:17.840Z"
   },
   {
    "duration": 79,
    "start_time": "2022-09-27T12:20:20.298Z"
   },
   {
    "duration": 68,
    "start_time": "2022-09-27T12:20:22.726Z"
   },
   {
    "duration": 840,
    "start_time": "2022-09-27T12:20:26.845Z"
   },
   {
    "duration": 1516,
    "start_time": "2022-09-27T12:20:30.867Z"
   },
   {
    "duration": 1810,
    "start_time": "2022-09-27T12:20:35.357Z"
   },
   {
    "duration": 1548,
    "start_time": "2022-09-27T12:20:41.519Z"
   },
   {
    "duration": 851,
    "start_time": "2022-09-27T12:20:46.633Z"
   },
   {
    "duration": 10,
    "start_time": "2022-09-27T12:21:00.699Z"
   },
   {
    "duration": 7,
    "start_time": "2022-09-27T12:21:01.299Z"
   },
   {
    "duration": 79,
    "start_time": "2022-09-27T12:21:03.793Z"
   },
   {
    "duration": 7146,
    "start_time": "2022-09-27T12:21:05.328Z"
   },
   {
    "duration": 845,
    "start_time": "2022-09-27T12:21:18.627Z"
   },
   {
    "duration": 234,
    "start_time": "2022-09-27T12:21:24.633Z"
   },
   {
    "duration": 141,
    "start_time": "2022-09-27T12:21:27.224Z"
   },
   {
    "duration": 100,
    "start_time": "2022-09-27T12:21:30.585Z"
   },
   {
    "duration": 120,
    "start_time": "2022-09-27T12:21:32.982Z"
   },
   {
    "duration": 190,
    "start_time": "2022-09-27T12:21:35.900Z"
   },
   {
    "duration": 230,
    "start_time": "2022-09-27T12:21:38.507Z"
   },
   {
    "duration": 240,
    "start_time": "2022-09-27T12:21:43.534Z"
   },
   {
    "duration": 316,
    "start_time": "2022-09-27T12:21:46.273Z"
   },
   {
    "duration": 361,
    "start_time": "2022-09-27T12:21:49.327Z"
   },
   {
    "duration": 348,
    "start_time": "2022-09-27T12:21:51.884Z"
   },
   {
    "duration": 349,
    "start_time": "2022-09-27T12:21:54.593Z"
   },
   {
    "duration": 333,
    "start_time": "2022-09-27T12:21:57.767Z"
   },
   {
    "duration": 343,
    "start_time": "2022-09-27T12:22:00.951Z"
   },
   {
    "duration": 330,
    "start_time": "2022-09-27T12:22:04.395Z"
   },
   {
    "duration": 311,
    "start_time": "2022-09-27T12:22:07.530Z"
   },
   {
    "duration": 325,
    "start_time": "2022-09-27T12:22:09.769Z"
   },
   {
    "duration": 320,
    "start_time": "2022-09-27T12:22:12.164Z"
   },
   {
    "duration": 328,
    "start_time": "2022-09-27T12:22:14.552Z"
   },
   {
    "duration": 324,
    "start_time": "2022-09-27T12:22:17.093Z"
   },
   {
    "duration": 408,
    "start_time": "2022-09-27T12:22:28.158Z"
   },
   {
    "duration": 381,
    "start_time": "2022-09-27T12:22:31.600Z"
   },
   {
    "duration": 320,
    "start_time": "2022-09-27T12:22:34.531Z"
   },
   {
    "duration": 300,
    "start_time": "2022-09-27T12:22:38.572Z"
   },
   {
    "duration": 441,
    "start_time": "2022-09-27T12:22:41.225Z"
   },
   {
    "duration": 309,
    "start_time": "2022-09-27T12:22:45.051Z"
   },
   {
    "duration": 347,
    "start_time": "2022-09-27T12:22:48.066Z"
   },
   {
    "duration": 298,
    "start_time": "2022-09-27T12:22:52.192Z"
   },
   {
    "duration": 7228,
    "start_time": "2022-09-27T12:22:54.654Z"
   },
   {
    "duration": 586,
    "start_time": "2022-09-27T12:23:04.860Z"
   },
   {
    "duration": 546,
    "start_time": "2022-09-27T12:23:17.403Z"
   },
   {
    "duration": 542,
    "start_time": "2022-09-27T12:23:20.527Z"
   },
   {
    "duration": 522,
    "start_time": "2022-09-27T12:23:23.298Z"
   },
   {
    "duration": 494,
    "start_time": "2022-09-27T12:23:26.846Z"
   },
   {
    "duration": 998,
    "start_time": "2022-09-27T12:23:33.648Z"
   },
   {
    "duration": 1094,
    "start_time": "2022-09-27T12:23:38.410Z"
   },
   {
    "duration": 327,
    "start_time": "2022-09-27T12:24:42.348Z"
   },
   {
    "duration": 353,
    "start_time": "2022-09-27T12:30:32.793Z"
   },
   {
    "duration": 367,
    "start_time": "2022-09-27T12:30:36.151Z"
   },
   {
    "duration": 342,
    "start_time": "2022-09-27T12:30:38.757Z"
   },
   {
    "duration": 318,
    "start_time": "2022-09-27T12:30:40.770Z"
   },
   {
    "duration": 318,
    "start_time": "2022-09-27T12:30:43.405Z"
   },
   {
    "duration": 347,
    "start_time": "2022-09-27T12:30:47.570Z"
   },
   {
    "duration": 311,
    "start_time": "2022-09-27T12:30:52.720Z"
   },
   {
    "duration": 316,
    "start_time": "2022-09-27T12:30:56.844Z"
   },
   {
    "duration": 312,
    "start_time": "2022-09-27T12:31:00.555Z"
   },
   {
    "duration": 32540,
    "start_time": "2022-09-27T12:31:11.749Z"
   },
   {
    "duration": 735,
    "start_time": "2022-09-27T12:31:52.993Z"
   },
   {
    "duration": 632,
    "start_time": "2022-09-27T12:32:16.472Z"
   },
   {
    "duration": 10,
    "start_time": "2022-09-27T12:32:33.305Z"
   },
   {
    "duration": 3453,
    "start_time": "2022-09-27T12:32:39.458Z"
   },
   {
    "duration": 1297,
    "start_time": "2022-09-27T12:35:31.669Z"
   },
   {
    "duration": 770,
    "start_time": "2022-09-27T12:35:32.968Z"
   },
   {
    "duration": 16,
    "start_time": "2022-09-27T12:35:33.739Z"
   },
   {
    "duration": 25,
    "start_time": "2022-09-27T12:35:33.756Z"
   },
   {
    "duration": 21,
    "start_time": "2022-09-27T12:35:33.783Z"
   },
   {
    "duration": 11,
    "start_time": "2022-09-27T12:35:33.805Z"
   },
   {
    "duration": 19,
    "start_time": "2022-09-27T12:35:33.821Z"
   },
   {
    "duration": 76,
    "start_time": "2022-09-27T12:35:33.841Z"
   },
   {
    "duration": 8065,
    "start_time": "2022-09-27T12:35:33.918Z"
   },
   {
    "duration": 454,
    "start_time": "2022-09-27T12:35:41.984Z"
   },
   {
    "duration": 3,
    "start_time": "2022-09-27T12:35:42.440Z"
   },
   {
    "duration": 22,
    "start_time": "2022-09-27T12:35:42.444Z"
   },
   {
    "duration": 3165,
    "start_time": "2022-09-27T12:35:42.468Z"
   },
   {
    "duration": 97,
    "start_time": "2022-09-27T12:35:45.725Z"
   },
   {
    "duration": 7,
    "start_time": "2022-09-27T12:35:45.824Z"
   },
   {
    "duration": 14421,
    "start_time": "2022-09-27T12:35:45.832Z"
   },
   {
    "duration": 4,
    "start_time": "2022-09-27T12:36:00.255Z"
   },
   {
    "duration": 162,
    "start_time": "2022-09-27T12:36:00.260Z"
   },
   {
    "duration": 136,
    "start_time": "2022-09-27T12:36:00.424Z"
   },
   {
    "duration": 0,
    "start_time": "2022-09-27T12:40:01.937Z"
   },
   {
    "duration": 0,
    "start_time": "2022-09-27T12:40:01.938Z"
   },
   {
    "duration": 0,
    "start_time": "2022-09-27T12:40:01.939Z"
   },
   {
    "duration": 0,
    "start_time": "2022-09-27T12:40:01.940Z"
   },
   {
    "duration": 0,
    "start_time": "2022-09-27T12:40:01.941Z"
   },
   {
    "duration": 0,
    "start_time": "2022-09-27T12:40:01.942Z"
   },
   {
    "duration": 0,
    "start_time": "2022-09-27T12:40:01.943Z"
   },
   {
    "duration": 0,
    "start_time": "2022-09-27T12:40:01.944Z"
   },
   {
    "duration": 0,
    "start_time": "2022-09-27T12:40:01.944Z"
   },
   {
    "duration": 0,
    "start_time": "2022-09-27T12:40:01.945Z"
   },
   {
    "duration": 0,
    "start_time": "2022-09-27T12:40:01.946Z"
   },
   {
    "duration": 0,
    "start_time": "2022-09-27T12:40:01.947Z"
   },
   {
    "duration": 0,
    "start_time": "2022-09-27T12:40:01.948Z"
   },
   {
    "duration": 0,
    "start_time": "2022-09-27T12:40:01.948Z"
   },
   {
    "duration": 0,
    "start_time": "2022-09-27T12:40:01.949Z"
   },
   {
    "duration": 1365,
    "start_time": "2022-09-27T12:40:19.769Z"
   },
   {
    "duration": 721,
    "start_time": "2022-09-27T12:40:21.136Z"
   },
   {
    "duration": 15,
    "start_time": "2022-09-27T12:40:21.859Z"
   },
   {
    "duration": 25,
    "start_time": "2022-09-27T12:40:21.876Z"
   },
   {
    "duration": 17,
    "start_time": "2022-09-27T12:40:21.902Z"
   },
   {
    "duration": 11,
    "start_time": "2022-09-27T12:40:21.921Z"
   },
   {
    "duration": 13,
    "start_time": "2022-09-27T12:40:21.933Z"
   },
   {
    "duration": 131,
    "start_time": "2022-09-27T12:40:21.947Z"
   },
   {
    "duration": 14658,
    "start_time": "2022-09-27T12:40:22.080Z"
   },
   {
    "duration": 1012,
    "start_time": "2022-09-27T12:40:36.740Z"
   },
   {
    "duration": 2,
    "start_time": "2022-09-27T12:40:37.754Z"
   },
   {
    "duration": 15,
    "start_time": "2022-09-27T12:40:37.758Z"
   },
   {
    "duration": 8554,
    "start_time": "2022-09-27T12:40:37.774Z"
   },
   {
    "duration": 92,
    "start_time": "2022-09-27T12:40:46.331Z"
   },
   {
    "duration": 13,
    "start_time": "2022-09-27T12:40:46.424Z"
   },
   {
    "duration": 35672,
    "start_time": "2022-09-27T12:40:46.439Z"
   },
   {
    "duration": 9,
    "start_time": "2022-09-27T12:41:22.113Z"
   },
   {
    "duration": 315,
    "start_time": "2022-09-27T12:41:22.123Z"
   },
   {
    "duration": 304,
    "start_time": "2022-09-27T12:41:22.440Z"
   },
   {
    "duration": 98732,
    "start_time": "2022-09-27T12:41:22.746Z"
   },
   {
    "duration": 53393,
    "start_time": "2022-09-27T12:43:11.933Z"
   },
   {
    "duration": 82023,
    "start_time": "2022-09-27T12:44:28.931Z"
   },
   {
    "duration": 0,
    "start_time": "2022-09-27T12:45:50.955Z"
   },
   {
    "duration": 272238,
    "start_time": "2022-09-27T12:46:33.504Z"
   },
   {
    "duration": 47,
    "start_time": "2022-09-27T12:51:44.599Z"
   },
   {
    "duration": 10,
    "start_time": "2022-09-27T12:51:56.456Z"
   },
   {
    "duration": 10,
    "start_time": "2022-09-27T12:52:31.888Z"
   },
   {
    "duration": 636,
    "start_time": "2022-09-27T12:52:35.936Z"
   },
   {
    "duration": 618,
    "start_time": "2022-09-27T12:52:43.046Z"
   },
   {
    "duration": 196654,
    "start_time": "2022-09-27T12:52:53.308Z"
   },
   {
    "duration": 66348,
    "start_time": "2022-09-27T12:56:13.598Z"
   },
   {
    "duration": 706,
    "start_time": "2022-09-27T12:57:24.756Z"
   },
   {
    "duration": 684,
    "start_time": "2022-09-27T12:57:33.564Z"
   },
   {
    "duration": 148397,
    "start_time": "2022-09-27T12:57:38.914Z"
   },
   {
    "duration": 44,
    "start_time": "2022-09-27T13:00:33.744Z"
   },
   {
    "duration": 13132,
    "start_time": "2022-09-27T13:01:44.213Z"
   },
   {
    "duration": 779,
    "start_time": "2022-09-27T13:01:59.294Z"
   },
   {
    "duration": 141792,
    "start_time": "2022-09-27T13:02:04.012Z"
   },
   {
    "duration": 57,
    "start_time": "2022-09-27T13:08:04.769Z"
   },
   {
    "duration": 14,
    "start_time": "2022-09-27T13:19:30.350Z"
   },
   {
    "duration": 21,
    "start_time": "2022-09-27T13:19:52.879Z"
   },
   {
    "duration": 4,
    "start_time": "2022-09-27T13:20:02.808Z"
   },
   {
    "duration": 17,
    "start_time": "2022-09-27T13:20:03.212Z"
   },
   {
    "duration": 5,
    "start_time": "2022-09-27T13:20:44.983Z"
   },
   {
    "duration": 26,
    "start_time": "2022-09-27T13:20:45.200Z"
   },
   {
    "duration": 4,
    "start_time": "2022-09-27T13:22:01.193Z"
   },
   {
    "duration": 16,
    "start_time": "2022-09-27T13:22:05.442Z"
   },
   {
    "duration": 11566,
    "start_time": "2022-09-27T13:22:34.859Z"
   },
   {
    "duration": 95,
    "start_time": "2022-09-27T13:22:46.428Z"
   },
   {
    "duration": 13,
    "start_time": "2022-09-27T13:22:55.290Z"
   },
   {
    "duration": 2348,
    "start_time": "2022-09-27T13:22:56.679Z"
   },
   {
    "duration": 7,
    "start_time": "2022-09-27T13:23:00.980Z"
   },
   {
    "duration": 17,
    "start_time": "2022-09-27T13:23:09.041Z"
   },
   {
    "duration": 6067,
    "start_time": "2022-09-27T13:23:09.958Z"
   },
   {
    "duration": 97,
    "start_time": "2022-09-27T13:23:16.031Z"
   },
   {
    "duration": 10,
    "start_time": "2022-09-27T13:23:20.569Z"
   },
   {
    "duration": 5227,
    "start_time": "2022-09-27T13:23:20.895Z"
   },
   {
    "duration": 7,
    "start_time": "2022-09-27T13:23:26.124Z"
   },
   {
    "duration": 11,
    "start_time": "2022-09-27T13:23:32.812Z"
   },
   {
    "duration": 3280,
    "start_time": "2022-09-27T13:23:33.150Z"
   },
   {
    "duration": 94,
    "start_time": "2022-09-27T13:23:36.432Z"
   },
   {
    "duration": 10,
    "start_time": "2022-09-27T13:23:41.045Z"
   },
   {
    "duration": 10148,
    "start_time": "2022-09-27T13:23:41.385Z"
   },
   {
    "duration": 6,
    "start_time": "2022-09-27T13:23:51.623Z"
   },
   {
    "duration": 11,
    "start_time": "2022-09-27T13:24:00.575Z"
   },
   {
    "duration": 8376,
    "start_time": "2022-09-27T13:24:01.751Z"
   },
   {
    "duration": 96,
    "start_time": "2022-09-27T13:24:10.130Z"
   },
   {
    "duration": 4,
    "start_time": "2022-09-27T13:24:25.056Z"
   },
   {
    "duration": 10,
    "start_time": "2022-09-27T13:24:26.768Z"
   },
   {
    "duration": 6412,
    "start_time": "2022-09-27T13:24:28.310Z"
   },
   {
    "duration": 6,
    "start_time": "2022-09-27T13:24:34.724Z"
   },
   {
    "duration": 4,
    "start_time": "2022-09-27T13:24:58.687Z"
   },
   {
    "duration": 17,
    "start_time": "2022-09-27T13:24:59.137Z"
   },
   {
    "duration": 3,
    "start_time": "2022-09-27T13:25:23.984Z"
   },
   {
    "duration": 9,
    "start_time": "2022-09-27T13:25:24.396Z"
   },
   {
    "duration": 3,
    "start_time": "2022-09-27T13:25:25.109Z"
   },
   {
    "duration": 4,
    "start_time": "2022-09-27T13:25:25.323Z"
   },
   {
    "duration": 16,
    "start_time": "2022-09-27T13:25:26.244Z"
   },
   {
    "duration": 18,
    "start_time": "2022-09-27T13:25:44.142Z"
   },
   {
    "duration": 20,
    "start_time": "2022-09-27T13:25:48.504Z"
   },
   {
    "duration": 16,
    "start_time": "2022-09-27T13:26:12.807Z"
   },
   {
    "duration": 4765,
    "start_time": "2022-09-27T13:26:14.157Z"
   },
   {
    "duration": 6,
    "start_time": "2022-09-27T13:26:18.924Z"
   },
   {
    "duration": 11,
    "start_time": "2022-09-27T13:26:24.233Z"
   },
   {
    "duration": 6701,
    "start_time": "2022-09-27T13:26:24.921Z"
   },
   {
    "duration": 6,
    "start_time": "2022-09-27T13:26:31.624Z"
   },
   {
    "duration": 11,
    "start_time": "2022-09-27T13:26:33.857Z"
   },
   {
    "duration": 4354,
    "start_time": "2022-09-27T13:26:34.171Z"
   },
   {
    "duration": 95,
    "start_time": "2022-09-27T13:26:38.528Z"
   },
   {
    "duration": 10,
    "start_time": "2022-09-27T13:26:41.228Z"
   },
   {
    "duration": 4350,
    "start_time": "2022-09-27T13:26:41.472Z"
   },
   {
    "duration": 98,
    "start_time": "2022-09-27T13:26:45.824Z"
   },
   {
    "duration": 10,
    "start_time": "2022-09-27T13:26:49.014Z"
   },
   {
    "duration": 4784,
    "start_time": "2022-09-27T13:26:49.245Z"
   },
   {
    "duration": 94,
    "start_time": "2022-09-27T13:26:54.031Z"
   },
   {
    "duration": 7361,
    "start_time": "2022-09-27T13:27:11.162Z"
   },
   {
    "duration": 96,
    "start_time": "2022-09-27T13:27:18.526Z"
   },
   {
    "duration": 9,
    "start_time": "2022-09-27T13:27:20.653Z"
   },
   {
    "duration": 6880,
    "start_time": "2022-09-27T13:27:21.142Z"
   },
   {
    "duration": 97,
    "start_time": "2022-09-27T13:27:28.025Z"
   },
   {
    "duration": 6,
    "start_time": "2022-09-27T13:27:31.500Z"
   },
   {
    "duration": 47730,
    "start_time": "2022-09-27T13:27:33.261Z"
   },
   {
    "duration": 3,
    "start_time": "2022-09-27T13:28:53.703Z"
   },
   {
    "duration": 2367,
    "start_time": "2022-09-27T13:28:54.161Z"
   },
   {
    "duration": 27,
    "start_time": "2022-09-27T13:28:57.671Z"
   },
   {
    "duration": 551,
    "start_time": "2022-09-27T13:29:32.547Z"
   },
   {
    "duration": 12,
    "start_time": "2022-09-27T13:29:36.630Z"
   },
   {
    "duration": 528,
    "start_time": "2022-09-27T13:29:39.848Z"
   },
   {
    "duration": 12,
    "start_time": "2022-09-27T13:29:40.378Z"
   },
   {
    "duration": 512,
    "start_time": "2022-09-27T13:29:46.347Z"
   },
   {
    "duration": 402,
    "start_time": "2022-09-27T13:29:50.017Z"
   },
   {
    "duration": 437,
    "start_time": "2022-09-27T13:29:53.640Z"
   },
   {
    "duration": 660,
    "start_time": "2022-09-27T13:29:58.580Z"
   },
   {
    "duration": 714,
    "start_time": "2022-09-27T13:30:02.263Z"
   },
   {
    "duration": 737,
    "start_time": "2022-09-27T13:30:06.481Z"
   },
   {
    "duration": 451,
    "start_time": "2022-09-27T13:30:09.553Z"
   },
   {
    "duration": 388,
    "start_time": "2022-09-27T13:30:23.583Z"
   },
   {
    "duration": 12,
    "start_time": "2022-09-27T13:30:47.523Z"
   },
   {
    "duration": 11,
    "start_time": "2022-09-27T13:30:50.260Z"
   },
   {
    "duration": 21,
    "start_time": "2022-09-27T13:30:50.273Z"
   },
   {
    "duration": 220,
    "start_time": "2022-09-27T13:30:50.295Z"
   },
   {
    "duration": 21862,
    "start_time": "2022-09-27T13:30:50.517Z"
   },
   {
    "duration": 1314,
    "start_time": "2022-09-27T13:31:12.380Z"
   },
   {
    "duration": 3,
    "start_time": "2022-09-27T13:31:13.695Z"
   },
   {
    "duration": 22,
    "start_time": "2022-09-27T13:31:13.700Z"
   },
   {
    "duration": 4,
    "start_time": "2022-09-27T13:31:13.723Z"
   },
   {
    "duration": 18,
    "start_time": "2022-09-27T13:31:13.728Z"
   },
   {
    "duration": 5374,
    "start_time": "2022-09-27T13:31:13.748Z"
   },
   {
    "duration": 96,
    "start_time": "2022-09-27T13:31:19.127Z"
   },
   {
    "duration": 8,
    "start_time": "2022-09-27T13:31:19.224Z"
   },
   {
    "duration": 27962,
    "start_time": "2022-09-27T13:31:19.234Z"
   },
   {
    "duration": 9,
    "start_time": "2022-09-27T13:31:47.198Z"
   },
   {
    "duration": 0,
    "start_time": "2022-09-27T13:31:47.208Z"
   },
   {
    "duration": 0,
    "start_time": "2022-09-27T13:31:47.209Z"
   },
   {
    "duration": 63576,
    "start_time": "2022-09-27T13:31:48.785Z"
   },
   {
    "duration": 4,
    "start_time": "2022-09-27T13:33:07.350Z"
   },
   {
    "duration": 2394,
    "start_time": "2022-09-27T13:33:08.368Z"
   },
   {
    "duration": 23,
    "start_time": "2022-09-27T13:33:11.412Z"
   },
   {
    "duration": 30,
    "start_time": "2022-09-27T13:33:24.124Z"
   },
   {
    "duration": 17179,
    "start_time": "2022-09-27T13:33:24.347Z"
   },
   {
    "duration": 95,
    "start_time": "2022-09-27T13:33:41.528Z"
   },
   {
    "duration": 7,
    "start_time": "2022-09-27T13:33:43.937Z"
   },
   {
    "duration": 78,
    "start_time": "2022-09-27T13:33:47.801Z"
   },
   {
    "duration": 30834,
    "start_time": "2022-09-27T13:33:48.093Z"
   },
   {
    "duration": 97,
    "start_time": "2022-09-27T13:34:18.929Z"
   },
   {
    "duration": 318,
    "start_time": "2022-09-27T13:34:25.210Z"
   },
   {
    "duration": 46693,
    "start_time": "2022-09-27T13:34:25.529Z"
   },
   {
    "duration": 6,
    "start_time": "2022-09-27T13:35:12.225Z"
   },
   {
    "duration": 1826,
    "start_time": "2022-09-27T13:35:25.585Z"
   },
   {
    "duration": 6054,
    "start_time": "2022-09-27T13:35:27.413Z"
   },
   {
    "duration": 4,
    "start_time": "2022-09-27T13:35:35.976Z"
   },
   {
    "duration": 803,
    "start_time": "2022-09-27T13:35:35.982Z"
   },
   {
    "duration": 12,
    "start_time": "2022-09-27T13:35:36.787Z"
   },
   {
    "duration": 26,
    "start_time": "2022-09-27T13:35:36.801Z"
   },
   {
    "duration": 11,
    "start_time": "2022-09-27T13:35:36.829Z"
   },
   {
    "duration": 13,
    "start_time": "2022-09-27T13:35:36.842Z"
   },
   {
    "duration": 7,
    "start_time": "2022-09-27T13:35:36.857Z"
   },
   {
    "duration": 245,
    "start_time": "2022-09-27T13:35:36.865Z"
   },
   {
    "duration": 7718,
    "start_time": "2022-09-27T13:35:37.111Z"
   },
   {
    "duration": 0,
    "start_time": "2022-09-27T13:35:44.831Z"
   },
   {
    "duration": 0,
    "start_time": "2022-09-27T13:35:44.832Z"
   },
   {
    "duration": 0,
    "start_time": "2022-09-27T13:35:44.833Z"
   },
   {
    "duration": 0,
    "start_time": "2022-09-27T13:35:44.833Z"
   },
   {
    "duration": 4,
    "start_time": "2022-09-27T13:35:52.675Z"
   },
   {
    "duration": 688,
    "start_time": "2022-09-27T13:35:52.680Z"
   },
   {
    "duration": 15,
    "start_time": "2022-09-27T13:35:53.370Z"
   },
   {
    "duration": 17,
    "start_time": "2022-09-27T13:35:53.387Z"
   },
   {
    "duration": 21,
    "start_time": "2022-09-27T13:35:53.406Z"
   },
   {
    "duration": 15,
    "start_time": "2022-09-27T13:35:53.428Z"
   },
   {
    "duration": 7,
    "start_time": "2022-09-27T13:35:53.444Z"
   },
   {
    "duration": 227,
    "start_time": "2022-09-27T13:35:53.452Z"
   },
   {
    "duration": 24761,
    "start_time": "2022-09-27T13:35:53.681Z"
   },
   {
    "duration": 1290,
    "start_time": "2022-09-27T13:36:18.445Z"
   },
   {
    "duration": 3,
    "start_time": "2022-09-27T13:36:19.736Z"
   },
   {
    "duration": 23,
    "start_time": "2022-09-27T13:36:19.740Z"
   },
   {
    "duration": 4,
    "start_time": "2022-09-27T13:36:19.765Z"
   },
   {
    "duration": 3,
    "start_time": "2022-09-27T13:36:41.157Z"
   },
   {
    "duration": 14,
    "start_time": "2022-09-27T13:36:41.607Z"
   },
   {
    "duration": 5,
    "start_time": "2022-09-27T13:36:42.115Z"
   },
   {
    "duration": 18,
    "start_time": "2022-09-27T13:36:42.605Z"
   },
   {
    "duration": 13596,
    "start_time": "2022-09-27T13:36:43.126Z"
   },
   {
    "duration": 5,
    "start_time": "2022-09-27T13:36:56.724Z"
   },
   {
    "duration": 15,
    "start_time": "2022-09-27T13:37:06.115Z"
   },
   {
    "duration": 4,
    "start_time": "2022-09-27T13:37:06.539Z"
   },
   {
    "duration": 15,
    "start_time": "2022-09-27T13:37:07.078Z"
   },
   {
    "duration": 8927,
    "start_time": "2022-09-27T13:37:07.895Z"
   },
   {
    "duration": 7,
    "start_time": "2022-09-27T13:37:16.824Z"
   },
   {
    "duration": 3,
    "start_time": "2022-09-27T13:37:25.855Z"
   },
   {
    "duration": 16,
    "start_time": "2022-09-27T13:37:26.066Z"
   },
   {
    "duration": 13,
    "start_time": "2022-09-27T13:37:26.241Z"
   },
   {
    "duration": 6219,
    "start_time": "2022-09-27T13:37:26.607Z"
   },
   {
    "duration": 6,
    "start_time": "2022-09-27T13:37:32.921Z"
   },
   {
    "duration": 3,
    "start_time": "2022-09-27T13:37:37.669Z"
   },
   {
    "duration": 12,
    "start_time": "2022-09-27T13:37:37.862Z"
   },
   {
    "duration": 12,
    "start_time": "2022-09-27T13:37:38.147Z"
   },
   {
    "duration": 8115,
    "start_time": "2022-09-27T13:37:38.516Z"
   },
   {
    "duration": 97,
    "start_time": "2022-09-27T13:37:46.725Z"
   },
   {
    "duration": 12,
    "start_time": "2022-09-27T13:37:52.613Z"
   },
   {
    "duration": 11,
    "start_time": "2022-09-27T13:37:53.329Z"
   },
   {
    "duration": 6740,
    "start_time": "2022-09-27T13:37:53.591Z"
   },
   {
    "duration": 8,
    "start_time": "2022-09-27T13:38:00.422Z"
   },
   {
    "duration": 11,
    "start_time": "2022-09-27T13:38:06.848Z"
   },
   {
    "duration": 13,
    "start_time": "2022-09-27T13:38:07.093Z"
   },
   {
    "duration": 3293,
    "start_time": "2022-09-27T13:38:07.329Z"
   },
   {
    "duration": 6,
    "start_time": "2022-09-27T13:38:10.624Z"
   },
   {
    "duration": 2,
    "start_time": "2022-09-27T13:38:14.983Z"
   },
   {
    "duration": 13,
    "start_time": "2022-09-27T13:38:15.165Z"
   },
   {
    "duration": 13,
    "start_time": "2022-09-27T13:38:15.343Z"
   },
   {
    "duration": 7575,
    "start_time": "2022-09-27T13:38:15.552Z"
   },
   {
    "duration": 96,
    "start_time": "2022-09-27T13:38:23.132Z"
   },
   {
    "duration": 11,
    "start_time": "2022-09-27T13:38:44.966Z"
   },
   {
    "duration": 7,
    "start_time": "2022-09-27T13:38:46.350Z"
   },
   {
    "duration": 87,
    "start_time": "2022-09-27T13:38:47.208Z"
   },
   {
    "duration": 6674,
    "start_time": "2022-09-27T13:38:47.516Z"
   },
   {
    "duration": 457,
    "start_time": "2022-09-27T13:38:54.192Z"
   },
   {
    "duration": 3,
    "start_time": "2022-09-27T13:38:54.651Z"
   },
   {
    "duration": 5,
    "start_time": "2022-09-27T13:38:54.656Z"
   },
   {
    "duration": 9,
    "start_time": "2022-09-27T13:38:54.663Z"
   },
   {
    "duration": 7,
    "start_time": "2022-09-27T13:38:54.674Z"
   },
   {
    "duration": 3140,
    "start_time": "2022-09-27T13:38:54.683Z"
   },
   {
    "duration": 8,
    "start_time": "2022-09-27T13:38:57.825Z"
   },
   {
    "duration": 11,
    "start_time": "2022-09-27T13:39:02.798Z"
   },
   {
    "duration": 8,
    "start_time": "2022-09-27T13:39:02.998Z"
   },
   {
    "duration": 132,
    "start_time": "2022-09-27T13:39:03.364Z"
   },
   {
    "duration": 14164,
    "start_time": "2022-09-27T13:39:03.520Z"
   },
   {
    "duration": 846,
    "start_time": "2022-09-27T13:39:17.685Z"
   },
   {
    "duration": 4,
    "start_time": "2022-09-27T13:39:18.532Z"
   },
   {
    "duration": 6,
    "start_time": "2022-09-27T13:39:18.538Z"
   },
   {
    "duration": 15,
    "start_time": "2022-09-27T13:39:18.545Z"
   },
   {
    "duration": 10,
    "start_time": "2022-09-27T13:39:18.562Z"
   },
   {
    "duration": 9547,
    "start_time": "2022-09-27T13:39:18.574Z"
   },
   {
    "duration": 5,
    "start_time": "2022-09-27T13:39:28.123Z"
   },
   {
    "duration": 10,
    "start_time": "2022-09-27T13:39:41.497Z"
   },
   {
    "duration": 11,
    "start_time": "2022-09-27T13:39:41.711Z"
   },
   {
    "duration": 3709,
    "start_time": "2022-09-27T13:39:42.013Z"
   },
   {
    "duration": 95,
    "start_time": "2022-09-27T13:39:45.728Z"
   },
   {
    "duration": 18,
    "start_time": "2022-09-27T13:39:45.824Z"
   },
   {
    "duration": 9,
    "start_time": "2022-09-27T13:39:50.359Z"
   },
   {
    "duration": 12,
    "start_time": "2022-09-27T13:39:50.469Z"
   },
   {
    "duration": 2899,
    "start_time": "2022-09-27T13:39:50.729Z"
   },
   {
    "duration": 93,
    "start_time": "2022-09-27T13:39:53.630Z"
   },
   {
    "duration": 9,
    "start_time": "2022-09-27T13:39:58.057Z"
   },
   {
    "duration": 10,
    "start_time": "2022-09-27T13:39:58.257Z"
   },
   {
    "duration": 11621,
    "start_time": "2022-09-27T13:39:58.601Z"
   },
   {
    "duration": 10,
    "start_time": "2022-09-27T13:40:10.224Z"
   },
   {
    "duration": 147,
    "start_time": "2022-09-27T13:40:10.238Z"
   },
   {
    "duration": 9,
    "start_time": "2022-09-27T13:40:24.311Z"
   },
   {
    "duration": 10,
    "start_time": "2022-09-27T13:40:24.494Z"
   },
   {
    "duration": 7108,
    "start_time": "2022-09-27T13:40:24.719Z"
   },
   {
    "duration": 97,
    "start_time": "2022-09-27T13:40:31.829Z"
   },
   {
    "duration": 94,
    "start_time": "2022-09-27T13:40:31.930Z"
   },
   {
    "duration": 53354,
    "start_time": "2022-09-27T13:41:54.926Z"
   },
   {
    "duration": 2982,
    "start_time": "2022-09-27T13:44:31.848Z"
   },
   {
    "duration": 91,
    "start_time": "2022-09-27T13:44:34.832Z"
   },
   {
    "duration": 21,
    "start_time": "2022-09-27T13:44:34.925Z"
   },
   {
    "duration": 543,
    "start_time": "2022-09-27T13:44:43.684Z"
   },
   {
    "duration": 93,
    "start_time": "2022-09-27T13:44:44.229Z"
   },
   {
    "duration": 154,
    "start_time": "2022-09-27T13:44:51.256Z"
   },
   {
    "duration": 6,
    "start_time": "2022-09-27T13:44:52.589Z"
   },
   {
    "duration": 235,
    "start_time": "2022-09-27T13:44:56.186Z"
   },
   {
    "duration": 6,
    "start_time": "2022-09-27T13:44:56.963Z"
   },
   {
    "duration": 17,
    "start_time": "2022-09-27T13:45:21.983Z"
   },
   {
    "duration": 9,
    "start_time": "2022-09-27T13:45:22.238Z"
   },
   {
    "duration": 194,
    "start_time": "2022-09-27T13:45:23.308Z"
   },
   {
    "duration": 24774,
    "start_time": "2022-09-27T13:45:23.525Z"
   },
   {
    "duration": 1460,
    "start_time": "2022-09-27T13:45:48.302Z"
   },
   {
    "duration": 7,
    "start_time": "2022-09-27T13:45:49.764Z"
   },
   {
    "duration": 27,
    "start_time": "2022-09-27T13:45:49.774Z"
   },
   {
    "duration": 26,
    "start_time": "2022-09-27T13:45:49.803Z"
   },
   {
    "duration": 38,
    "start_time": "2022-09-27T13:45:49.831Z"
   },
   {
    "duration": 14,
    "start_time": "2022-09-27T13:45:49.871Z"
   },
   {
    "duration": 0,
    "start_time": "2022-09-27T13:45:49.887Z"
   },
   {
    "duration": 13324,
    "start_time": "2022-09-27T13:46:44.801Z"
   },
   {
    "duration": 95,
    "start_time": "2022-09-27T13:46:58.128Z"
   },
   {
    "duration": 11,
    "start_time": "2022-09-27T13:50:01.800Z"
   },
   {
    "duration": 6,
    "start_time": "2022-09-27T13:50:02.013Z"
   },
   {
    "duration": 138,
    "start_time": "2022-09-27T13:50:02.352Z"
   },
   {
    "duration": 15029,
    "start_time": "2022-09-27T13:50:02.538Z"
   },
   {
    "duration": 864,
    "start_time": "2022-09-27T13:50:17.569Z"
   },
   {
    "duration": 5,
    "start_time": "2022-09-27T13:50:18.434Z"
   },
   {
    "duration": 8,
    "start_time": "2022-09-27T13:50:18.440Z"
   },
   {
    "duration": 18,
    "start_time": "2022-09-27T13:50:18.449Z"
   },
   {
    "duration": 9,
    "start_time": "2022-09-27T13:50:18.468Z"
   },
   {
    "duration": 7850,
    "start_time": "2022-09-27T13:50:18.479Z"
   },
   {
    "duration": 6,
    "start_time": "2022-09-27T13:50:42.195Z"
   },
   {
    "duration": 4,
    "start_time": "2022-09-27T13:51:16.779Z"
   },
   {
    "duration": 10,
    "start_time": "2022-09-27T13:51:27.081Z"
   },
   {
    "duration": 16,
    "start_time": "2022-09-27T13:51:27.497Z"
   },
   {
    "duration": 17,
    "start_time": "2022-09-27T13:51:53.861Z"
   },
   {
    "duration": 3,
    "start_time": "2022-09-27T13:52:07.373Z"
   },
   {
    "duration": 10,
    "start_time": "2022-09-27T13:52:07.569Z"
   },
   {
    "duration": 10,
    "start_time": "2022-09-27T13:52:07.932Z"
   },
   {
    "duration": 40164,
    "start_time": "2022-09-27T13:54:11.055Z"
   },
   {
    "duration": 1355969,
    "start_time": "2022-09-27T13:55:14.117Z"
   },
   {
    "duration": 300793,
    "start_time": "2022-09-27T14:18:20.406Z"
   },
   {
    "duration": 49,
    "start_time": "2022-09-27T14:24:33.337Z"
   },
   {
    "duration": 1039,
    "start_time": "2022-09-27T15:12:41.299Z"
   },
   {
    "duration": 35,
    "start_time": "2022-09-27T15:13:06.171Z"
   },
   {
    "duration": 18,
    "start_time": "2022-09-27T15:14:12.872Z"
   },
   {
    "duration": 12,
    "start_time": "2022-09-27T15:14:56.111Z"
   },
   {
    "duration": 30792,
    "start_time": "2022-09-27T15:24:57.456Z"
   },
   {
    "duration": 43,
    "start_time": "2022-09-27T15:25:44.946Z"
   },
   {
    "duration": 4902,
    "start_time": "2022-09-27T15:25:49.806Z"
   },
   {
    "duration": 41,
    "start_time": "2022-09-27T15:25:57.706Z"
   },
   {
    "duration": 60310,
    "start_time": "2022-09-27T15:26:01.448Z"
   },
   {
    "duration": 58,
    "start_time": "2022-09-27T15:27:12.613Z"
   },
   {
    "duration": 30642,
    "start_time": "2022-09-27T15:27:17.942Z"
   },
   {
    "duration": 46,
    "start_time": "2022-09-27T15:27:48.586Z"
   },
   {
    "duration": 12154,
    "start_time": "2022-09-27T15:27:59.479Z"
   },
   {
    "duration": 8,
    "start_time": "2022-09-27T15:28:36.094Z"
   },
   {
    "duration": 5971,
    "start_time": "2022-09-27T15:28:40.458Z"
   },
   {
    "duration": 93,
    "start_time": "2022-09-27T15:28:46.431Z"
   },
   {
    "duration": 12,
    "start_time": "2022-09-27T15:28:50.354Z"
   },
   {
    "duration": 8075,
    "start_time": "2022-09-27T15:28:51.052Z"
   },
   {
    "duration": 7,
    "start_time": "2022-09-27T15:28:59.129Z"
   },
   {
    "duration": 9,
    "start_time": "2022-09-27T15:29:03.740Z"
   },
   {
    "duration": 10,
    "start_time": "2022-09-27T15:29:05.050Z"
   },
   {
    "duration": 5743,
    "start_time": "2022-09-27T15:29:05.379Z"
   },
   {
    "duration": 96,
    "start_time": "2022-09-27T15:29:11.126Z"
   },
   {
    "duration": 9941,
    "start_time": "2022-09-27T15:29:55.380Z"
   },
   {
    "duration": 11252,
    "start_time": "2022-09-27T15:30:10.348Z"
   },
   {
    "duration": 1007,
    "start_time": "2022-09-27T15:33:43.799Z"
   },
   {
    "duration": 8,
    "start_time": "2022-09-27T15:33:55.571Z"
   },
   {
    "duration": 8,
    "start_time": "2022-09-27T15:34:07.979Z"
   },
   {
    "duration": 1307,
    "start_time": "2022-09-27T15:34:33.145Z"
   },
   {
    "duration": 3212,
    "start_time": "2022-09-27T15:34:34.454Z"
   },
   {
    "duration": 17,
    "start_time": "2022-09-27T15:34:37.668Z"
   },
   {
    "duration": 14,
    "start_time": "2022-09-27T15:34:37.687Z"
   },
   {
    "duration": 19,
    "start_time": "2022-09-27T15:34:37.703Z"
   },
   {
    "duration": 11,
    "start_time": "2022-09-27T15:34:37.724Z"
   },
   {
    "duration": 8,
    "start_time": "2022-09-27T15:34:37.736Z"
   },
   {
    "duration": 139,
    "start_time": "2022-09-27T15:34:37.745Z"
   },
   {
    "duration": 15750,
    "start_time": "2022-09-27T15:34:37.886Z"
   },
   {
    "duration": 919,
    "start_time": "2022-09-27T15:34:53.638Z"
   },
   {
    "duration": 4,
    "start_time": "2022-09-27T15:34:54.559Z"
   },
   {
    "duration": 10,
    "start_time": "2022-09-27T15:34:54.567Z"
   },
   {
    "duration": 15,
    "start_time": "2022-09-27T15:34:54.579Z"
   },
   {
    "duration": 32,
    "start_time": "2022-09-27T15:34:54.597Z"
   },
   {
    "duration": 6591,
    "start_time": "2022-09-27T15:34:54.631Z"
   },
   {
    "duration": 8,
    "start_time": "2022-09-27T15:35:01.224Z"
   },
   {
    "duration": 24,
    "start_time": "2022-09-27T15:35:01.322Z"
   },
   {
    "duration": 33856,
    "start_time": "2022-09-27T15:35:01.348Z"
   },
   {
    "duration": 4,
    "start_time": "2022-09-27T15:35:35.205Z"
   },
   {
    "duration": 1286,
    "start_time": "2022-09-27T15:35:35.211Z"
   },
   {
    "duration": 11952,
    "start_time": "2022-09-27T15:35:36.499Z"
   },
   {
    "duration": 1052,
    "start_time": "2022-09-27T15:36:22.517Z"
   },
   {
    "duration": 1362,
    "start_time": "2022-09-27T15:37:56.837Z"
   },
   {
    "duration": 3136,
    "start_time": "2022-09-27T15:37:58.200Z"
   },
   {
    "duration": 17,
    "start_time": "2022-09-27T15:38:01.338Z"
   },
   {
    "duration": 56,
    "start_time": "2022-09-27T15:38:01.357Z"
   },
   {
    "duration": 35,
    "start_time": "2022-09-27T15:38:01.415Z"
   },
   {
    "duration": 17,
    "start_time": "2022-09-27T15:38:01.452Z"
   },
   {
    "duration": 27,
    "start_time": "2022-09-27T15:38:01.471Z"
   },
   {
    "duration": 139,
    "start_time": "2022-09-27T15:38:01.499Z"
   },
   {
    "duration": 15060,
    "start_time": "2022-09-27T15:38:01.640Z"
   },
   {
    "duration": 884,
    "start_time": "2022-09-27T15:38:16.702Z"
   },
   {
    "duration": 3,
    "start_time": "2022-09-27T15:38:17.588Z"
   },
   {
    "duration": 13,
    "start_time": "2022-09-27T15:38:17.592Z"
   },
   {
    "duration": 12,
    "start_time": "2022-09-27T15:38:17.607Z"
   },
   {
    "duration": 16,
    "start_time": "2022-09-27T15:38:17.622Z"
   },
   {
    "duration": 6688,
    "start_time": "2022-09-27T15:38:17.639Z"
   },
   {
    "duration": 95,
    "start_time": "2022-09-27T15:38:24.330Z"
   },
   {
    "duration": 6,
    "start_time": "2022-09-27T15:38:24.426Z"
   },
   {
    "duration": 34822,
    "start_time": "2022-09-27T15:38:24.434Z"
   },
   {
    "duration": 4,
    "start_time": "2022-09-27T15:38:59.258Z"
   },
   {
    "duration": 1212,
    "start_time": "2022-09-27T15:38:59.264Z"
   },
   {
    "duration": 11592,
    "start_time": "2022-09-27T15:39:00.477Z"
   },
   {
    "duration": 11360,
    "start_time": "2022-09-27T15:39:18.556Z"
   },
   {
    "duration": 26,
    "start_time": "2022-09-27T15:42:15.177Z"
   },
   {
    "duration": 6,
    "start_time": "2022-09-27T15:42:15.403Z"
   },
   {
    "duration": 616,
    "start_time": "2022-09-27T15:42:15.843Z"
   },
   {
    "duration": 118546,
    "start_time": "2022-09-27T15:42:16.461Z"
   },
   {
    "duration": 4420,
    "start_time": "2022-09-27T15:44:15.008Z"
   },
   {
    "duration": 4,
    "start_time": "2022-09-27T15:44:19.430Z"
   },
   {
    "duration": 9,
    "start_time": "2022-09-27T15:44:19.435Z"
   },
   {
    "duration": 38,
    "start_time": "2022-09-27T15:44:19.447Z"
   },
   {
    "duration": 51,
    "start_time": "2022-09-27T15:44:19.487Z"
   },
   {
    "duration": 29782,
    "start_time": "2022-09-27T15:44:19.540Z"
   },
   {
    "duration": 98,
    "start_time": "2022-09-27T15:44:49.325Z"
   },
   {
    "duration": 9,
    "start_time": "2022-09-27T15:46:19.273Z"
   },
   {
    "duration": 433141,
    "start_time": "2022-09-27T15:46:19.604Z"
   },
   {
    "duration": 4,
    "start_time": "2022-09-27T15:53:32.747Z"
   },
   {
    "duration": 18690,
    "start_time": "2022-09-27T15:53:32.753Z"
   },
   {
    "duration": 36039,
    "start_time": "2022-09-27T15:53:51.446Z"
   },
   {
    "duration": 0,
    "start_time": "2022-09-27T15:54:27.486Z"
   },
   {
    "duration": 0,
    "start_time": "2022-09-27T15:54:27.488Z"
   },
   {
    "duration": 18354,
    "start_time": "2022-09-27T15:54:30.421Z"
   },
   {
    "duration": 99,
    "start_time": "2022-09-27T15:54:48.777Z"
   },
   {
    "duration": 80,
    "start_time": "2022-09-27T15:54:48.878Z"
   },
   {
    "duration": 0,
    "start_time": "2022-09-27T15:54:48.960Z"
   },
   {
    "duration": 13,
    "start_time": "2022-09-27T16:47:36.793Z"
   },
   {
    "duration": 118416,
    "start_time": "2022-09-27T16:47:53.091Z"
   },
   {
    "duration": 46,
    "start_time": "2022-09-27T16:52:40.200Z"
   },
   {
    "duration": 53,
    "start_time": "2022-09-27T16:52:43.632Z"
   },
   {
    "duration": 6505,
    "start_time": "2022-09-27T16:52:46.591Z"
   },
   {
    "duration": 22,
    "start_time": "2022-09-27T16:52:56.990Z"
   },
   {
    "duration": 10,
    "start_time": "2022-09-27T16:52:57.061Z"
   },
   {
    "duration": 617,
    "start_time": "2022-09-27T16:52:57.705Z"
   },
   {
    "duration": 2021,
    "start_time": "2022-09-27T16:52:58.324Z"
   },
   {
    "duration": 0,
    "start_time": "2022-09-27T16:53:00.350Z"
   },
   {
    "duration": 5,
    "start_time": "2022-09-27T16:53:00.957Z"
   },
   {
    "duration": 242,
    "start_time": "2022-09-27T16:53:00.966Z"
   },
   {
    "duration": 85,
    "start_time": "2022-09-27T16:53:01.211Z"
   },
   {
    "duration": 0,
    "start_time": "2022-09-27T16:53:01.298Z"
   },
   {
    "duration": 105478,
    "start_time": "2022-09-27T16:53:13.454Z"
   },
   {
    "duration": 4761,
    "start_time": "2022-09-27T16:54:58.933Z"
   },
   {
    "duration": 6,
    "start_time": "2022-09-27T16:55:03.696Z"
   },
   {
    "duration": 44,
    "start_time": "2022-09-27T16:55:03.705Z"
   },
   {
    "duration": 58,
    "start_time": "2022-09-27T16:55:03.752Z"
   },
   {
    "duration": 41,
    "start_time": "2022-09-27T16:55:03.813Z"
   },
   {
    "duration": 36475,
    "start_time": "2022-09-27T16:55:03.856Z"
   },
   {
    "duration": 82,
    "start_time": "2022-09-27T16:55:40.340Z"
   },
   {
    "duration": 25,
    "start_time": "2022-09-27T16:55:52.967Z"
   },
   {
    "duration": 7,
    "start_time": "2022-09-27T16:55:53.444Z"
   },
   {
    "duration": 413,
    "start_time": "2022-09-27T16:55:53.903Z"
   },
   {
    "duration": 87782,
    "start_time": "2022-09-27T16:55:54.321Z"
   },
   {
    "duration": 4,
    "start_time": "2022-09-27T16:58:25.768Z"
   },
   {
    "duration": 6,
    "start_time": "2022-09-27T16:58:26.051Z"
   },
   {
    "duration": 18,
    "start_time": "2022-09-27T16:58:26.223Z"
   },
   {
    "duration": 74,
    "start_time": "2022-09-27T16:58:26.446Z"
   },
   {
    "duration": 4,
    "start_time": "2022-09-27T16:58:32.545Z"
   },
   {
    "duration": 16,
    "start_time": "2022-09-27T16:58:33.366Z"
   },
   {
    "duration": 4719,
    "start_time": "2022-09-27T16:58:36.951Z"
   },
   {
    "duration": 6,
    "start_time": "2022-09-27T16:58:41.673Z"
   },
   {
    "duration": 12,
    "start_time": "2022-09-27T16:58:41.682Z"
   },
   {
    "duration": 32,
    "start_time": "2022-09-27T16:58:41.697Z"
   },
   {
    "duration": 22,
    "start_time": "2022-09-27T16:58:41.858Z"
   },
   {
    "duration": 24317,
    "start_time": "2022-09-27T16:58:42.114Z"
   },
   {
    "duration": 27,
    "start_time": "2022-09-27T16:59:06.439Z"
   },
   {
    "duration": 24,
    "start_time": "2022-09-27T16:59:22.890Z"
   },
   {
    "duration": 8,
    "start_time": "2022-09-27T16:59:23.283Z"
   },
   {
    "duration": 116817,
    "start_time": "2022-09-27T16:59:24.004Z"
   },
   {
    "duration": 4147,
    "start_time": "2022-09-27T17:01:20.825Z"
   },
   {
    "duration": 4,
    "start_time": "2022-09-27T17:01:24.974Z"
   },
   {
    "duration": 23,
    "start_time": "2022-09-27T17:01:24.979Z"
   },
   {
    "duration": 50,
    "start_time": "2022-09-27T17:01:25.004Z"
   },
   {
    "duration": 64,
    "start_time": "2022-09-27T17:01:25.057Z"
   },
   {
    "duration": 34129,
    "start_time": "2022-09-27T17:01:25.124Z"
   },
   {
    "duration": 8,
    "start_time": "2022-09-27T17:01:59.256Z"
   },
   {
    "duration": 106943,
    "start_time": "2022-09-27T17:03:29.923Z"
   },
   {
    "duration": 134,
    "start_time": "2022-09-27T17:05:16.868Z"
   },
   {
    "duration": 78,
    "start_time": "2022-09-27T17:06:53.406Z"
   },
   {
    "duration": 3,
    "start_time": "2022-09-27T17:06:59.091Z"
   },
   {
    "duration": 21,
    "start_time": "2022-09-27T17:07:17.663Z"
   },
   {
    "duration": 28,
    "start_time": "2022-09-27T17:07:40.883Z"
   },
   {
    "duration": 11,
    "start_time": "2022-09-27T17:09:53.120Z"
   },
   {
    "duration": 6,
    "start_time": "2022-09-27T17:19:52.382Z"
   },
   {
    "duration": 9,
    "start_time": "2022-09-27T17:21:27.122Z"
   },
   {
    "duration": 8,
    "start_time": "2022-09-27T17:21:37.155Z"
   },
   {
    "duration": 5,
    "start_time": "2022-09-27T17:24:46.400Z"
   },
   {
    "duration": 1774,
    "start_time": "2022-09-27T17:39:22.166Z"
   },
   {
    "duration": 2337,
    "start_time": "2022-09-27T17:39:23.942Z"
   },
   {
    "duration": 20,
    "start_time": "2022-09-27T17:39:26.281Z"
   },
   {
    "duration": 23,
    "start_time": "2022-09-27T17:39:26.303Z"
   },
   {
    "duration": 22,
    "start_time": "2022-09-27T17:39:26.328Z"
   },
   {
    "duration": 19,
    "start_time": "2022-09-27T17:39:26.352Z"
   },
   {
    "duration": 6,
    "start_time": "2022-09-27T17:39:26.373Z"
   },
   {
    "duration": 87694,
    "start_time": "2022-09-27T17:39:26.381Z"
   },
   {
    "duration": 5,
    "start_time": "2022-09-27T17:40:54.076Z"
   },
   {
    "duration": 117,
    "start_time": "2022-09-27T18:11:50.227Z"
   },
   {
    "duration": 5,
    "start_time": "2022-09-27T18:12:00.138Z"
   },
   {
    "duration": 5,
    "start_time": "2022-09-27T18:12:18.822Z"
   },
   {
    "duration": 10,
    "start_time": "2022-09-27T18:13:29.560Z"
   },
   {
    "duration": 6,
    "start_time": "2022-09-27T18:14:00.262Z"
   },
   {
    "duration": 6,
    "start_time": "2022-09-27T18:14:10.916Z"
   },
   {
    "duration": 6,
    "start_time": "2022-09-27T18:14:21.130Z"
   },
   {
    "duration": 6,
    "start_time": "2022-09-27T18:14:37.394Z"
   },
   {
    "duration": 1429,
    "start_time": "2022-09-28T10:19:55.274Z"
   },
   {
    "duration": 3142,
    "start_time": "2022-09-28T10:19:56.706Z"
   },
   {
    "duration": 14,
    "start_time": "2022-09-28T10:19:59.850Z"
   },
   {
    "duration": 12,
    "start_time": "2022-09-28T10:19:59.866Z"
   },
   {
    "duration": 19,
    "start_time": "2022-09-28T10:19:59.881Z"
   },
   {
    "duration": 16,
    "start_time": "2022-09-28T10:19:59.902Z"
   },
   {
    "duration": 5,
    "start_time": "2022-09-28T10:19:59.920Z"
   },
   {
    "duration": 83081,
    "start_time": "2022-09-28T10:19:59.927Z"
   },
   {
    "duration": 5,
    "start_time": "2022-09-28T10:21:23.010Z"
   },
   {
    "duration": 3400,
    "start_time": "2022-09-28T10:21:23.022Z"
   },
   {
    "duration": 4,
    "start_time": "2022-09-28T10:21:26.424Z"
   },
   {
    "duration": 6,
    "start_time": "2022-09-28T10:21:26.430Z"
   },
   {
    "duration": 27,
    "start_time": "2022-09-28T10:21:26.437Z"
   },
   {
    "duration": 36,
    "start_time": "2022-09-28T10:21:26.467Z"
   },
   {
    "duration": 22,
    "start_time": "2022-09-28T10:21:26.505Z"
   },
   {
    "duration": 29201,
    "start_time": "2022-09-28T10:21:26.529Z"
   },
   {
    "duration": 91,
    "start_time": "2022-09-28T10:21:55.732Z"
   },
   {
    "duration": 282998,
    "start_time": "2022-09-28T10:21:55.825Z"
   },
   {
    "duration": 11334,
    "start_time": "2022-09-28T10:26:38.832Z"
   },
   {
    "duration": 93080,
    "start_time": "2022-09-28T10:26:50.167Z"
   },
   {
    "duration": 3821,
    "start_time": "2022-09-28T10:47:32.312Z"
   },
   {
    "duration": 7585,
    "start_time": "2022-09-28T10:48:37.959Z"
   },
   {
    "duration": 6843,
    "start_time": "2022-09-28T10:49:00.831Z"
   },
   {
    "duration": 88,
    "start_time": "2022-09-28T10:49:11.321Z"
   },
   {
    "duration": 16557,
    "start_time": "2022-09-28T10:49:25.533Z"
   },
   {
    "duration": 510,
    "start_time": "2022-09-28T10:49:49.081Z"
   },
   {
    "duration": 6,
    "start_time": "2022-09-28T10:50:03.495Z"
   },
   {
    "duration": 5,
    "start_time": "2022-09-28T10:57:53.613Z"
   },
   {
    "duration": 5,
    "start_time": "2022-09-28T11:01:29.797Z"
   },
   {
    "duration": 16,
    "start_time": "2022-09-28T11:03:32.320Z"
   },
   {
    "duration": 16,
    "start_time": "2022-09-28T11:03:55.616Z"
   },
   {
    "duration": 78,
    "start_time": "2022-09-28T11:04:28.786Z"
   },
   {
    "duration": 37,
    "start_time": "2022-09-28T11:04:31.927Z"
   },
   {
    "duration": 78,
    "start_time": "2022-09-28T11:07:11.104Z"
   },
   {
    "duration": 7,
    "start_time": "2022-09-28T11:07:16.060Z"
   },
   {
    "duration": 227,
    "start_time": "2022-09-28T11:08:06.055Z"
   },
   {
    "duration": 4,
    "start_time": "2022-09-28T11:08:08.788Z"
   },
   {
    "duration": 5,
    "start_time": "2022-09-28T11:08:15.649Z"
   },
   {
    "duration": 4,
    "start_time": "2022-09-28T11:10:47.549Z"
   },
   {
    "duration": 4,
    "start_time": "2022-09-28T11:10:59.342Z"
   },
   {
    "duration": 175,
    "start_time": "2022-09-28T11:13:09.516Z"
   },
   {
    "duration": 498,
    "start_time": "2022-09-28T11:13:17.854Z"
   },
   {
    "duration": 4,
    "start_time": "2022-09-28T11:13:30.237Z"
   },
   {
    "duration": 169,
    "start_time": "2022-09-28T11:14:02.269Z"
   },
   {
    "duration": 450,
    "start_time": "2022-09-28T11:14:12.772Z"
   },
   {
    "duration": 149,
    "start_time": "2022-09-28T11:15:16.371Z"
   },
   {
    "duration": 176,
    "start_time": "2022-09-28T11:15:22.614Z"
   },
   {
    "duration": 156,
    "start_time": "2022-09-28T11:16:00.332Z"
   },
   {
    "duration": 815,
    "start_time": "2022-09-28T11:16:18.079Z"
   },
   {
    "duration": 4,
    "start_time": "2022-09-28T11:16:26.241Z"
   },
   {
    "duration": 674,
    "start_time": "2022-09-28T11:16:26.247Z"
   },
   {
    "duration": 13,
    "start_time": "2022-09-28T11:16:26.925Z"
   },
   {
    "duration": 30,
    "start_time": "2022-09-28T11:16:26.940Z"
   },
   {
    "duration": 28,
    "start_time": "2022-09-28T11:16:26.972Z"
   },
   {
    "duration": 33,
    "start_time": "2022-09-28T11:16:27.001Z"
   },
   {
    "duration": 20,
    "start_time": "2022-09-28T11:16:27.036Z"
   },
   {
    "duration": 4,
    "start_time": "2022-09-28T11:16:37.104Z"
   },
   {
    "duration": 938,
    "start_time": "2022-09-28T11:16:42.155Z"
   },
   {
    "duration": 6,
    "start_time": "2022-09-28T11:16:45.032Z"
   },
   {
    "duration": 877,
    "start_time": "2022-09-28T11:17:31.714Z"
   },
   {
    "duration": 4,
    "start_time": "2022-09-28T11:17:34.292Z"
   },
   {
    "duration": 29,
    "start_time": "2022-09-28T11:18:02.633Z"
   },
   {
    "duration": 577,
    "start_time": "2022-09-28T11:18:04.724Z"
   },
   {
    "duration": 4,
    "start_time": "2022-09-28T11:18:08.759Z"
   },
   {
    "duration": 6,
    "start_time": "2022-09-28T11:18:10.993Z"
   },
   {
    "duration": 446,
    "start_time": "2022-09-28T11:18:25.641Z"
   },
   {
    "duration": 14124,
    "start_time": "2022-09-28T11:18:39.332Z"
   },
   {
    "duration": 11,
    "start_time": "2022-09-28T11:19:03.173Z"
   },
   {
    "duration": 6,
    "start_time": "2022-09-28T11:19:03.744Z"
   },
   {
    "duration": 246,
    "start_time": "2022-09-28T11:19:05.242Z"
   },
   {
    "duration": 73460,
    "start_time": "2022-09-28T11:19:06.687Z"
   },
   {
    "duration": 4,
    "start_time": "2022-09-28T11:21:15.083Z"
   },
   {
    "duration": 4,
    "start_time": "2022-09-28T11:24:26.877Z"
   },
   {
    "duration": 75989,
    "start_time": "2022-09-28T11:24:49.200Z"
   },
   {
    "duration": 32,
    "start_time": "2022-09-28T11:27:07.366Z"
   },
   {
    "duration": 34,
    "start_time": "2022-09-28T11:28:45.358Z"
   },
   {
    "duration": 5,
    "start_time": "2022-09-28T11:28:56.136Z"
   },
   {
    "duration": 683,
    "start_time": "2022-09-28T11:28:56.143Z"
   },
   {
    "duration": 11,
    "start_time": "2022-09-28T11:28:56.828Z"
   },
   {
    "duration": 20,
    "start_time": "2022-09-28T11:28:56.841Z"
   },
   {
    "duration": 21,
    "start_time": "2022-09-28T11:28:56.863Z"
   },
   {
    "duration": 18,
    "start_time": "2022-09-28T11:28:56.886Z"
   },
   {
    "duration": 5,
    "start_time": "2022-09-28T11:28:56.906Z"
   },
   {
    "duration": 245,
    "start_time": "2022-09-28T11:28:56.912Z"
   },
   {
    "duration": 77501,
    "start_time": "2022-09-28T11:28:57.159Z"
   },
   {
    "duration": 6,
    "start_time": "2022-09-28T11:30:14.662Z"
   },
   {
    "duration": 8,
    "start_time": "2022-09-28T11:30:14.670Z"
   },
   {
    "duration": 7,
    "start_time": "2022-09-28T11:30:14.679Z"
   },
   {
    "duration": 16,
    "start_time": "2022-09-28T11:30:14.687Z"
   },
   {
    "duration": 3,
    "start_time": "2022-09-28T11:30:21.666Z"
   },
   {
    "duration": 2,
    "start_time": "2022-09-28T11:30:22.131Z"
   },
   {
    "duration": 12,
    "start_time": "2022-09-28T11:30:22.579Z"
   },
   {
    "duration": 487,
    "start_time": "2022-09-28T11:30:23.383Z"
   },
   {
    "duration": 9,
    "start_time": "2022-09-28T11:30:27.645Z"
   },
   {
    "duration": 8,
    "start_time": "2022-09-28T11:30:29.332Z"
   },
   {
    "duration": 5339,
    "start_time": "2022-09-28T11:30:32.497Z"
   },
   {
    "duration": 0,
    "start_time": "2022-09-28T11:30:37.839Z"
   },
   {
    "duration": 27,
    "start_time": "2022-09-28T11:31:26.831Z"
   },
   {
    "duration": 9,
    "start_time": "2022-09-28T11:31:38.691Z"
   },
   {
    "duration": 3,
    "start_time": "2022-09-28T11:31:44.565Z"
   },
   {
    "duration": 645,
    "start_time": "2022-09-28T11:31:44.570Z"
   },
   {
    "duration": 13,
    "start_time": "2022-09-28T11:31:45.217Z"
   },
   {
    "duration": 21,
    "start_time": "2022-09-28T11:31:45.231Z"
   },
   {
    "duration": 13,
    "start_time": "2022-09-28T11:31:45.255Z"
   },
   {
    "duration": 9,
    "start_time": "2022-09-28T11:31:45.270Z"
   },
   {
    "duration": 8,
    "start_time": "2022-09-28T11:31:45.281Z"
   },
   {
    "duration": 50,
    "start_time": "2022-09-28T11:31:45.291Z"
   },
   {
    "duration": 8105,
    "start_time": "2022-09-28T11:31:45.343Z"
   },
   {
    "duration": 6,
    "start_time": "2022-09-28T11:31:53.450Z"
   },
   {
    "duration": 6,
    "start_time": "2022-09-28T11:31:53.457Z"
   },
   {
    "duration": 6,
    "start_time": "2022-09-28T11:31:53.464Z"
   },
   {
    "duration": 10,
    "start_time": "2022-09-28T11:31:53.472Z"
   },
   {
    "duration": 65,
    "start_time": "2022-09-28T11:32:00.657Z"
   },
   {
    "duration": 6,
    "start_time": "2022-09-28T11:32:02.470Z"
   },
   {
    "duration": 6,
    "start_time": "2022-09-28T11:32:03.392Z"
   },
   {
    "duration": 40,
    "start_time": "2022-09-28T11:32:06.749Z"
   },
   {
    "duration": 6,
    "start_time": "2022-09-28T11:32:09.249Z"
   },
   {
    "duration": 59,
    "start_time": "2022-09-28T11:33:28.384Z"
   },
   {
    "duration": 21,
    "start_time": "2022-09-28T11:33:51.756Z"
   },
   {
    "duration": 4,
    "start_time": "2022-09-28T11:33:58.553Z"
   },
   {
    "duration": 628,
    "start_time": "2022-09-28T11:33:58.559Z"
   },
   {
    "duration": 11,
    "start_time": "2022-09-28T11:33:59.189Z"
   },
   {
    "duration": 21,
    "start_time": "2022-09-28T11:33:59.201Z"
   },
   {
    "duration": 8,
    "start_time": "2022-09-28T11:33:59.224Z"
   },
   {
    "duration": 11,
    "start_time": "2022-09-28T11:33:59.234Z"
   },
   {
    "duration": 9,
    "start_time": "2022-09-28T11:33:59.246Z"
   },
   {
    "duration": 33,
    "start_time": "2022-09-28T11:33:59.256Z"
   },
   {
    "duration": 8093,
    "start_time": "2022-09-28T11:33:59.290Z"
   },
   {
    "duration": 5,
    "start_time": "2022-09-28T11:34:07.384Z"
   },
   {
    "duration": 6,
    "start_time": "2022-09-28T11:34:07.390Z"
   },
   {
    "duration": 6,
    "start_time": "2022-09-28T11:34:07.397Z"
   },
   {
    "duration": 6,
    "start_time": "2022-09-28T11:34:07.421Z"
   },
   {
    "duration": 70,
    "start_time": "2022-09-28T11:34:09.300Z"
   },
   {
    "duration": 7,
    "start_time": "2022-09-28T11:34:10.066Z"
   },
   {
    "duration": 6,
    "start_time": "2022-09-28T11:34:10.589Z"
   },
   {
    "duration": 42,
    "start_time": "2022-09-28T11:34:11.828Z"
   },
   {
    "duration": 5,
    "start_time": "2022-09-28T11:34:12.462Z"
   },
   {
    "duration": 39,
    "start_time": "2022-09-28T11:34:21.750Z"
   },
   {
    "duration": 5,
    "start_time": "2022-09-28T11:34:22.172Z"
   },
   {
    "duration": 44,
    "start_time": "2022-09-28T11:34:29.096Z"
   },
   {
    "duration": 6,
    "start_time": "2022-09-28T11:34:29.679Z"
   },
   {
    "duration": 6,
    "start_time": "2022-09-28T11:34:57.730Z"
   },
   {
    "duration": 5,
    "start_time": "2022-09-28T11:35:59.182Z"
   },
   {
    "duration": 7,
    "start_time": "2022-09-28T11:36:05.172Z"
   },
   {
    "duration": 6,
    "start_time": "2022-09-28T11:36:13.233Z"
   },
   {
    "duration": 5,
    "start_time": "2022-09-28T11:36:18.185Z"
   },
   {
    "duration": 6,
    "start_time": "2022-09-28T11:36:24.509Z"
   },
   {
    "duration": 6,
    "start_time": "2022-09-28T11:36:29.986Z"
   },
   {
    "duration": 4,
    "start_time": "2022-09-28T11:40:06.413Z"
   },
   {
    "duration": 678,
    "start_time": "2022-09-28T11:40:06.419Z"
   },
   {
    "duration": 9,
    "start_time": "2022-09-28T11:40:07.099Z"
   },
   {
    "duration": 27,
    "start_time": "2022-09-28T11:40:07.110Z"
   },
   {
    "duration": 10,
    "start_time": "2022-09-28T11:40:07.139Z"
   },
   {
    "duration": 25,
    "start_time": "2022-09-28T11:40:07.150Z"
   },
   {
    "duration": 15,
    "start_time": "2022-09-28T11:40:07.177Z"
   },
   {
    "duration": 515,
    "start_time": "2022-09-28T11:40:07.194Z"
   },
   {
    "duration": 154150,
    "start_time": "2022-09-28T11:40:07.711Z"
   },
   {
    "duration": 5,
    "start_time": "2022-09-28T11:42:41.863Z"
   },
   {
    "duration": 7,
    "start_time": "2022-09-28T11:42:41.871Z"
   },
   {
    "duration": 5,
    "start_time": "2022-09-28T11:42:41.880Z"
   },
   {
    "duration": 40,
    "start_time": "2022-09-28T11:42:41.886Z"
   },
   {
    "duration": 10,
    "start_time": "2022-09-28T11:42:41.929Z"
   },
   {
    "duration": 1369,
    "start_time": "2022-09-28T11:42:41.941Z"
   },
   {
    "duration": 26,
    "start_time": "2022-09-28T11:42:43.311Z"
   },
   {
    "duration": 6,
    "start_time": "2022-09-28T11:42:43.339Z"
   },
   {
    "duration": 15384,
    "start_time": "2022-09-28T11:42:43.346Z"
   },
   {
    "duration": 89,
    "start_time": "2022-09-28T11:42:58.734Z"
   },
   {
    "duration": 57986,
    "start_time": "2022-09-28T11:42:58.830Z"
   },
   {
    "duration": 1298,
    "start_time": "2022-09-28T11:43:56.818Z"
   },
   {
    "duration": 41549,
    "start_time": "2022-09-28T11:43:58.117Z"
   },
   {
    "duration": 16,
    "start_time": "2022-09-28T11:44:39.668Z"
   },
   {
    "duration": 1318,
    "start_time": "2022-09-28T11:45:00.397Z"
   },
   {
    "duration": 95,
    "start_time": "2022-09-28T11:45:03.764Z"
   },
   {
    "duration": 97,
    "start_time": "2022-09-28T11:46:30.501Z"
   },
   {
    "duration": 6,
    "start_time": "2022-09-28T11:47:52.810Z"
   },
   {
    "duration": 6,
    "start_time": "2022-09-28T11:47:56.838Z"
   },
   {
    "duration": 6,
    "start_time": "2022-09-28T11:48:24.286Z"
   },
   {
    "duration": 20,
    "start_time": "2022-09-28T11:48:31.434Z"
   },
   {
    "duration": 7,
    "start_time": "2022-09-28T11:48:34.142Z"
   },
   {
    "duration": 8185,
    "start_time": "2022-09-28T11:48:35.345Z"
   },
   {
    "duration": 28,
    "start_time": "2022-09-28T11:48:48.846Z"
   },
   {
    "duration": 7,
    "start_time": "2022-09-28T11:48:50.044Z"
   },
   {
    "duration": 24515,
    "start_time": "2022-09-28T11:48:51.412Z"
   },
   {
    "duration": 4,
    "start_time": "2022-09-28T11:49:44.255Z"
   },
   {
    "duration": 649,
    "start_time": "2022-09-28T11:49:44.261Z"
   },
   {
    "duration": 23,
    "start_time": "2022-09-28T11:49:44.911Z"
   },
   {
    "duration": 14,
    "start_time": "2022-09-28T11:49:44.935Z"
   },
   {
    "duration": 10,
    "start_time": "2022-09-28T11:49:44.951Z"
   },
   {
    "duration": 15,
    "start_time": "2022-09-28T11:49:44.962Z"
   },
   {
    "duration": 6,
    "start_time": "2022-09-28T11:49:44.979Z"
   },
   {
    "duration": 1049,
    "start_time": "2022-09-28T11:49:44.987Z"
   },
   {
    "duration": 365825,
    "start_time": "2022-09-28T11:49:46.040Z"
   },
   {
    "duration": 4,
    "start_time": "2022-09-28T11:55:51.867Z"
   },
   {
    "duration": 6,
    "start_time": "2022-09-28T11:55:51.873Z"
   },
   {
    "duration": 5,
    "start_time": "2022-09-28T11:55:51.881Z"
   },
   {
    "duration": 53,
    "start_time": "2022-09-28T11:55:51.888Z"
   },
   {
    "duration": 3105,
    "start_time": "2022-09-28T11:55:51.944Z"
   },
   {
    "duration": 120,
    "start_time": "2022-09-28T11:55:55.050Z"
   },
   {
    "duration": 0,
    "start_time": "2022-09-28T11:55:55.172Z"
   },
   {
    "duration": 0,
    "start_time": "2022-09-28T11:55:55.173Z"
   },
   {
    "duration": 0,
    "start_time": "2022-09-28T11:55:55.174Z"
   },
   {
    "duration": 0,
    "start_time": "2022-09-28T11:55:55.175Z"
   },
   {
    "duration": 0,
    "start_time": "2022-09-28T11:55:55.176Z"
   },
   {
    "duration": 0,
    "start_time": "2022-09-28T11:55:55.177Z"
   },
   {
    "duration": 35,
    "start_time": "2022-09-28T11:56:53.416Z"
   },
   {
    "duration": 8,
    "start_time": "2022-09-28T11:56:56.861Z"
   },
   {
    "duration": 20061,
    "start_time": "2022-09-28T11:56:56.871Z"
   },
   {
    "duration": 145784,
    "start_time": "2022-09-28T11:57:16.934Z"
   },
   {
    "duration": 3272,
    "start_time": "2022-09-28T11:59:42.724Z"
   },
   {
    "duration": 71477,
    "start_time": "2022-09-28T11:59:45.998Z"
   },
   {
    "duration": 168,
    "start_time": "2022-09-28T12:00:57.477Z"
   },
   {
    "duration": 37,
    "start_time": "2022-09-28T12:02:07.643Z"
   },
   {
    "duration": 12637,
    "start_time": "2022-09-28T12:02:09.988Z"
   },
   {
    "duration": 86,
    "start_time": "2022-09-28T12:02:55.353Z"
   },
   {
    "duration": 14,
    "start_time": "2022-09-28T12:02:56.282Z"
   },
   {
    "duration": 38846,
    "start_time": "2022-09-28T12:02:57.598Z"
   },
   {
    "duration": 181,
    "start_time": "2022-09-28T12:04:01.769Z"
   },
   {
    "duration": 17263,
    "start_time": "2022-09-28T12:04:03.986Z"
   },
   {
    "duration": 0,
    "start_time": "2022-09-28T12:04:21.253Z"
   },
   {
    "duration": 0,
    "start_time": "2022-09-28T12:04:21.254Z"
   },
   {
    "duration": 0,
    "start_time": "2022-09-28T12:04:21.256Z"
   },
   {
    "duration": 0,
    "start_time": "2022-09-28T12:04:21.257Z"
   },
   {
    "duration": 3,
    "start_time": "2022-09-28T12:04:24.752Z"
   },
   {
    "duration": 29,
    "start_time": "2022-09-28T12:04:24.991Z"
   },
   {
    "duration": 3206,
    "start_time": "2022-09-28T12:04:25.175Z"
   },
   {
    "duration": 16,
    "start_time": "2022-09-28T12:04:28.383Z"
   },
   {
    "duration": 7,
    "start_time": "2022-09-28T12:04:28.401Z"
   },
   {
    "duration": 19434,
    "start_time": "2022-09-28T12:04:30.010Z"
   },
   {
    "duration": 3,
    "start_time": "2022-09-28T12:04:56.052Z"
   },
   {
    "duration": 28,
    "start_time": "2022-09-28T12:04:56.437Z"
   },
   {
    "duration": 2775,
    "start_time": "2022-09-28T12:04:56.619Z"
   },
   {
    "duration": 19,
    "start_time": "2022-09-28T12:04:59.396Z"
   },
   {
    "duration": 12,
    "start_time": "2022-09-28T12:04:59.426Z"
   },
   {
    "duration": 27482,
    "start_time": "2022-09-28T12:04:59.440Z"
   },
   {
    "duration": 29,
    "start_time": "2022-09-28T12:05:35.817Z"
   },
   {
    "duration": 3,
    "start_time": "2022-09-28T12:05:38.841Z"
   },
   {
    "duration": 40,
    "start_time": "2022-09-28T12:05:39.055Z"
   },
   {
    "duration": 3022,
    "start_time": "2022-09-28T12:05:39.237Z"
   },
   {
    "duration": 18,
    "start_time": "2022-09-28T12:05:42.261Z"
   },
   {
    "duration": 8,
    "start_time": "2022-09-28T12:05:42.280Z"
   },
   {
    "duration": 20450,
    "start_time": "2022-09-28T12:05:42.290Z"
   },
   {
    "duration": 25,
    "start_time": "2022-09-28T12:06:12.677Z"
   },
   {
    "duration": 2927,
    "start_time": "2022-09-28T12:06:12.883Z"
   },
   {
    "duration": 23,
    "start_time": "2022-09-28T12:06:15.812Z"
   },
   {
    "duration": 15,
    "start_time": "2022-09-28T12:06:15.837Z"
   },
   {
    "duration": 20668,
    "start_time": "2022-09-28T12:06:15.854Z"
   },
   {
    "duration": 4,
    "start_time": "2022-09-28T12:06:46.449Z"
   },
   {
    "duration": 721,
    "start_time": "2022-09-28T12:06:46.456Z"
   },
   {
    "duration": 11,
    "start_time": "2022-09-28T12:06:47.179Z"
   },
   {
    "duration": 14,
    "start_time": "2022-09-28T12:06:47.191Z"
   },
   {
    "duration": 33,
    "start_time": "2022-09-28T12:06:47.208Z"
   },
   {
    "duration": 17,
    "start_time": "2022-09-28T12:06:47.242Z"
   },
   {
    "duration": 6,
    "start_time": "2022-09-28T12:06:47.261Z"
   },
   {
    "duration": 1055,
    "start_time": "2022-09-28T12:06:47.268Z"
   },
   {
    "duration": 348965,
    "start_time": "2022-09-28T12:06:48.329Z"
   },
   {
    "duration": 6,
    "start_time": "2022-09-28T12:12:37.296Z"
   },
   {
    "duration": 7,
    "start_time": "2022-09-28T12:12:37.303Z"
   },
   {
    "duration": 21,
    "start_time": "2022-09-28T12:12:37.311Z"
   },
   {
    "duration": 31,
    "start_time": "2022-09-28T12:12:37.334Z"
   },
   {
    "duration": 2999,
    "start_time": "2022-09-28T12:12:37.368Z"
   },
   {
    "duration": 27,
    "start_time": "2022-09-28T12:12:40.368Z"
   },
   {
    "duration": 8,
    "start_time": "2022-09-28T12:12:40.397Z"
   },
   {
    "duration": 20920,
    "start_time": "2022-09-28T12:12:40.406Z"
   },
   {
    "duration": 161713,
    "start_time": "2022-09-28T12:13:01.329Z"
   },
   {
    "duration": 3944,
    "start_time": "2022-09-28T12:15:43.043Z"
   },
   {
    "duration": 70452,
    "start_time": "2022-09-28T12:15:46.989Z"
   },
   {
    "duration": 162,
    "start_time": "2022-09-28T12:16:57.442Z"
   },
   {
    "duration": 18,
    "start_time": "2022-09-28T12:18:54.871Z"
   },
   {
    "duration": 6,
    "start_time": "2022-09-28T12:18:58.737Z"
   },
   {
    "duration": 1290,
    "start_time": "2022-09-28T12:18:58.745Z"
   },
   {
    "duration": 475948,
    "start_time": "2022-09-28T12:19:00.037Z"
   },
   {
    "duration": 4,
    "start_time": "2022-09-28T12:26:55.987Z"
   },
   {
    "duration": 27,
    "start_time": "2022-09-28T12:26:55.993Z"
   },
   {
    "duration": 21,
    "start_time": "2022-09-28T12:26:56.030Z"
   },
   {
    "duration": 69,
    "start_time": "2022-09-28T12:26:56.053Z"
   },
   {
    "duration": 3452,
    "start_time": "2022-09-28T12:26:56.124Z"
   },
   {
    "duration": 31,
    "start_time": "2022-09-28T12:26:59.578Z"
   },
   {
    "duration": 21,
    "start_time": "2022-09-28T12:26:59.611Z"
   },
   {
    "duration": 19595,
    "start_time": "2022-09-28T12:26:59.634Z"
   },
   {
    "duration": 231928,
    "start_time": "2022-09-28T12:27:19.233Z"
   },
   {
    "duration": 6028,
    "start_time": "2022-09-28T12:31:11.163Z"
   },
   {
    "duration": 88405,
    "start_time": "2022-09-28T12:31:17.193Z"
   },
   {
    "duration": 189,
    "start_time": "2022-09-28T12:32:45.600Z"
   },
   {
    "duration": 171,
    "start_time": "2022-09-28T12:34:10.437Z"
   },
   {
    "duration": 185,
    "start_time": "2022-09-28T12:34:14.751Z"
   },
   {
    "duration": 9,
    "start_time": "2022-09-28T12:34:51.902Z"
   },
   {
    "duration": 9,
    "start_time": "2022-09-28T12:34:57.288Z"
   }
  ],
  "kernelspec": {
   "display_name": "Python 3 (ipykernel)",
   "language": "python",
   "name": "python3"
  },
  "language_info": {
   "codemirror_mode": {
    "name": "ipython",
    "version": 3
   },
   "file_extension": ".py",
   "mimetype": "text/x-python",
   "name": "python",
   "nbconvert_exporter": "python",
   "pygments_lexer": "ipython3",
   "version": "3.9.5"
  },
  "toc": {
   "base_numbering": 1,
   "nav_menu": {},
   "number_sections": true,
   "sideBar": true,
   "skip_h1_title": true,
   "title_cell": "Содержание",
   "title_sidebar": "Contents",
   "toc_cell": true,
   "toc_position": {
    "height": "calc(100% - 180px)",
    "left": "10px",
    "top": "150px",
    "width": "302.391px"
   },
   "toc_section_display": true,
   "toc_window_display": true
  }
 },
 "nbformat": 4,
 "nbformat_minor": 2
}
