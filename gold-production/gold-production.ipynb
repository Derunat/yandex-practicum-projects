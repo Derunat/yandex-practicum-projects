{
 "cells": [
  {
   "cell_type": "markdown",
   "metadata": {
    "toc": true
   },
   "source": [
    "<h1>Содержание<span class=\"tocSkip\"></span></h1>\n",
    "<div class=\"toc\"><ul class=\"toc-item\"><li><span><a href=\"#Подготовка-данных\" data-toc-modified-id=\"Подготовка-данных-1\"><span class=\"toc-item-num\">1&nbsp;&nbsp;</span>Подготовка данных</a></span><ul class=\"toc-item\"><li><span><a href=\"#Проверка-расчета-эффективности\" data-toc-modified-id=\"Проверка-расчета-эффективности-1.1\"><span class=\"toc-item-num\">1.1&nbsp;&nbsp;</span>Проверка расчета эффективности</a></span></li><li><span><a href=\"#Анализ-признаков\" data-toc-modified-id=\"Анализ-признаков-1.2\"><span class=\"toc-item-num\">1.2&nbsp;&nbsp;</span>Анализ признаков</a></span></li><li><span><a href=\"#Предобработка-данных\" data-toc-modified-id=\"Предобработка-данных-1.3\"><span class=\"toc-item-num\">1.3&nbsp;&nbsp;</span>Предобработка данных</a></span><ul class=\"toc-item\"><li><span><a href=\"#Проверка-на-дубликаты\" data-toc-modified-id=\"Проверка-на-дубликаты-1.3.1\"><span class=\"toc-item-num\">1.3.1&nbsp;&nbsp;</span>Проверка на дубликаты</a></span></li><li><span><a href=\"#Анализ-и-заполнение-пропусков\" data-toc-modified-id=\"Анализ-и-заполнение-пропусков-1.3.2\"><span class=\"toc-item-num\">1.3.2&nbsp;&nbsp;</span>Анализ и заполнение пропусков</a></span></li></ul></li></ul></li><li><span><a href=\"#Анализ-данных\" data-toc-modified-id=\"Анализ-данных-2\"><span class=\"toc-item-num\">2&nbsp;&nbsp;</span>Анализ данных</a></span><ul class=\"toc-item\"><li><span><a href=\"#Изменение-концентрации-металлов\" data-toc-modified-id=\"Изменение-концентрации-металлов-2.1\"><span class=\"toc-item-num\">2.1&nbsp;&nbsp;</span>Изменение концентрации металлов</a></span></li><li><span><a href=\"#Сравнение-размеров-гранул\" data-toc-modified-id=\"Сравнение-размеров-гранул-2.2\"><span class=\"toc-item-num\">2.2&nbsp;&nbsp;</span>Сравнение размеров гранул</a></span></li><li><span><a href=\"#Суммарная-концетрация\" data-toc-modified-id=\"Суммарная-концетрация-2.3\"><span class=\"toc-item-num\">2.3&nbsp;&nbsp;</span>Суммарная концетрация</a></span></li></ul></li><li><span><a href=\"#Модель\" data-toc-modified-id=\"Модель-3\"><span class=\"toc-item-num\">3&nbsp;&nbsp;</span>Модель</a></span><ul class=\"toc-item\"><li><span><a href=\"#Проверка-на-тестовой-выборке\" data-toc-modified-id=\"Проверка-на-тестовой-выборке-3.1\"><span class=\"toc-item-num\">3.1&nbsp;&nbsp;</span>Проверка на тестовой выборке</a></span></li></ul></li><li><span><a href=\"#Чек-лист-готовности-проекта\" data-toc-modified-id=\"Чек-лист-готовности-проекта-4\"><span class=\"toc-item-num\">4&nbsp;&nbsp;</span>Чек-лист готовности проекта</a></span></li></ul></div>"
   ]
  },
  {
   "cell_type": "markdown",
   "metadata": {},
   "source": [
    "# Восстановление золота из руды"
   ]
  },
  {
   "cell_type": "markdown",
   "metadata": {},
   "source": [
    "Подготовьте прототип модели машинного обучения для «Цифры». Компания разрабатывает решения для эффективной работы промышленных предприятий.\n",
    "\n",
    "Модель должна предсказать коэффициент восстановления золота из золотосодержащей руды. Используйте данные с параметрами добычи и очистки. \n",
    "\n",
    "Модель поможет оптимизировать производство, чтобы не запускать предприятие с убыточными характеристиками.\n",
    "\n",
    "Вам нужно:\n",
    "\n",
    "1. Подготовить данные;\n",
    "2. Провести исследовательский анализ данных;\n",
    "3. Построить и обучить модель.\n",
    "\n",
    "Чтобы выполнить проект, обращайтесь к библиотекам *pandas*, *matplotlib* и *sklearn.* Вам поможет их документация."
   ]
  },
  {
   "cell_type": "markdown",
   "metadata": {},
   "source": [
    "## Подготовка данных"
   ]
  },
  {
   "cell_type": "code",
   "execution_count": 58,
   "metadata": {},
   "outputs": [],
   "source": [
    "import pandas as pd\n",
    "import sklearn.metrics\n",
    "import matplotlib.pyplot as plt\n",
    "import numpy as np\n",
    "from scipy.stats import ttest_ind\n",
    "\n",
    "from sklearn.model_selection import GridSearchCV\n",
    "from sklearn.preprocessing import StandardScaler \n",
    "from sklearn.metrics import  make_scorer\n",
    "from sklearn.model_selection import cross_val_score\n",
    "\n",
    "from sklearn.linear_model import LinearRegression\n",
    "from sklearn.linear_model import ElasticNet\n",
    "from sklearn.linear_model import Lasso\n",
    "\n",
    "\n",
    "from sklearn.tree import DecisionTreeRegressor\n",
    "from sklearn.ensemble import RandomForestRegressor\n",
    "\n",
    "from sklearn.dummy import DummyRegressor\n"
   ]
  },
  {
   "cell_type": "code",
   "execution_count": 59,
   "metadata": {},
   "outputs": [],
   "source": [
    "train =pd.read_csv('/datasets/gold_recovery_train_new.csv')\n",
    "test =pd.read_csv('/datasets/gold_recovery_test_new.csv')\n",
    "full =pd.read_csv('/datasets/gold_recovery_full_new.csv')"
   ]
  },
  {
   "cell_type": "markdown",
   "metadata": {},
   "source": [
    "### Проверка расчета эффективности"
   ]
  },
  {
   "cell_type": "code",
   "execution_count": 60,
   "metadata": {},
   "outputs": [],
   "source": [
    "#функция для расчета эффективности\n",
    "\n",
    "def recovery(c,f,t):\n",
    "    return c*(f-t)/f/(c-t)*100"
   ]
  },
  {
   "cell_type": "code",
   "execution_count": 61,
   "metadata": {},
   "outputs": [
    {
     "data": {
      "text/plain": [
       "1.0748911125799084e-14"
      ]
     },
     "execution_count": 61,
     "metadata": {},
     "output_type": "execute_result"
    }
   ],
   "source": [
    "train['recovery_test'] = recovery(train['rougher.output.concentrate_au'],\n",
    "                         train['rougher.input.feed_au'],\n",
    "                         train['rougher.output.tail_au'])\n",
    "\n",
    "sklearn.metrics.mean_absolute_error(train['rougher.output.recovery'],train['recovery_test'])\n"
   ]
  },
  {
   "cell_type": "markdown",
   "metadata": {},
   "source": [
    "Из MAE видно, что эффективность обогащения рассчитана правильно. Средняя ошибка почти равна нулю"
   ]
  },
  {
   "cell_type": "markdown",
   "metadata": {},
   "source": [
    "### Анализ признаков"
   ]
  },
  {
   "cell_type": "markdown",
   "metadata": {},
   "source": [
    "Сначала выясним, какие признаки недоступны в тестовой выборке"
   ]
  },
  {
   "cell_type": "code",
   "execution_count": 62,
   "metadata": {},
   "outputs": [
    {
     "data": {
      "text/plain": [
       "['final.output.concentrate_ag',\n",
       " 'final.output.concentrate_pb',\n",
       " 'final.output.concentrate_sol',\n",
       " 'final.output.concentrate_au',\n",
       " 'final.output.recovery',\n",
       " 'final.output.tail_ag',\n",
       " 'final.output.tail_pb',\n",
       " 'final.output.tail_sol',\n",
       " 'final.output.tail_au',\n",
       " 'primary_cleaner.output.concentrate_ag',\n",
       " 'primary_cleaner.output.concentrate_pb',\n",
       " 'primary_cleaner.output.concentrate_sol',\n",
       " 'primary_cleaner.output.concentrate_au',\n",
       " 'primary_cleaner.output.tail_ag',\n",
       " 'primary_cleaner.output.tail_pb',\n",
       " 'primary_cleaner.output.tail_sol',\n",
       " 'primary_cleaner.output.tail_au',\n",
       " 'rougher.calculation.sulfate_to_au_concentrate',\n",
       " 'rougher.calculation.floatbank10_sulfate_to_au_feed',\n",
       " 'rougher.calculation.floatbank11_sulfate_to_au_feed',\n",
       " 'rougher.calculation.au_pb_ratio',\n",
       " 'rougher.output.concentrate_ag',\n",
       " 'rougher.output.concentrate_pb',\n",
       " 'rougher.output.concentrate_sol',\n",
       " 'rougher.output.concentrate_au',\n",
       " 'rougher.output.recovery',\n",
       " 'rougher.output.tail_ag',\n",
       " 'rougher.output.tail_pb',\n",
       " 'rougher.output.tail_sol',\n",
       " 'rougher.output.tail_au',\n",
       " 'secondary_cleaner.output.tail_ag',\n",
       " 'secondary_cleaner.output.tail_pb',\n",
       " 'secondary_cleaner.output.tail_sol',\n",
       " 'secondary_cleaner.output.tail_au',\n",
       " 'recovery_test']"
      ]
     },
     "execution_count": 62,
     "metadata": {},
     "output_type": "execute_result"
    }
   ],
   "source": [
    "[item for item in train.columns if item not in test.columns] \n"
   ]
  },
  {
   "cell_type": "markdown",
   "metadata": {},
   "source": [
    "В наборе тестовых данных отстуствуют паремтры output для всех этапов процесса. Это те параметры, которые не известны, поэтому и нужно составить прогноз. Также отсутствуют значения рассчитанных параметров. Сразу выкинем их из обучающей выборки\n",
    "\n",
    "В тестовой выборке также не хватает целевых признаков. Их возьмем из датасета full, совместив значения по дате"
   ]
  },
  {
   "cell_type": "code",
   "execution_count": 63,
   "metadata": {
    "scrolled": true
   },
   "outputs": [],
   "source": [
    "target_columns = ['final.output.recovery','rougher.output.recovery']\n",
    "columns_to_drop = [item for item in train.columns if item not in test.columns and item not in target_columns]\n",
    "\n",
    "#удаляем из обучающей выборки ненужные параметры\n",
    "train.drop(columns = columns_to_drop, inplace=True)\n",
    "\n",
    "#добавляем в тестовую выборку целевые признаки по дате\n",
    "test = test.merge(full[['final.output.recovery','rougher.output.recovery','date']], how='left', on='date')\n"
   ]
  },
  {
   "cell_type": "markdown",
   "metadata": {},
   "source": [
    "### Предобработка данных"
   ]
  },
  {
   "cell_type": "markdown",
   "metadata": {},
   "source": [
    "#### Проверка на дубликаты"
   ]
  },
  {
   "cell_type": "code",
   "execution_count": 64,
   "metadata": {},
   "outputs": [
    {
     "data": {
      "text/plain": [
       "0"
      ]
     },
     "metadata": {},
     "output_type": "display_data"
    },
    {
     "data": {
      "text/plain": [
       "0"
      ]
     },
     "execution_count": 64,
     "metadata": {},
     "output_type": "execute_result"
    }
   ],
   "source": [
    "display(train.duplicated().sum())\n",
    "test.duplicated().sum()"
   ]
  },
  {
   "cell_type": "markdown",
   "metadata": {},
   "source": [
    "Повторов в обучающей и тестовой выборке нет"
   ]
  },
  {
   "cell_type": "markdown",
   "metadata": {},
   "source": [
    "#### Анализ и заполнение пропусков"
   ]
  },
  {
   "cell_type": "code",
   "execution_count": 65,
   "metadata": {},
   "outputs": [
    {
     "data": {
      "text/plain": [
       "date                                            0\n",
       "final.output.recovery                           0\n",
       "primary_cleaner.input.sulfate                  20\n",
       "primary_cleaner.input.depressant               32\n",
       "primary_cleaner.input.feed_size                 0\n",
       "primary_cleaner.input.xanthate                100\n",
       "primary_cleaner.state.floatbank8_a_air          4\n",
       "primary_cleaner.state.floatbank8_a_level        1\n",
       "primary_cleaner.state.floatbank8_b_air          4\n",
       "primary_cleaner.state.floatbank8_b_level        1\n",
       "primary_cleaner.state.floatbank8_c_air          2\n",
       "primary_cleaner.state.floatbank8_c_level        1\n",
       "primary_cleaner.state.floatbank8_d_air          3\n",
       "primary_cleaner.state.floatbank8_d_level        1\n",
       "rougher.input.feed_ag                           0\n",
       "rougher.input.feed_pb                         100\n",
       "rougher.input.feed_rate                         8\n",
       "rougher.input.feed_size                       144\n",
       "rougher.input.feed_sol                         78\n",
       "rougher.input.feed_au                           0\n",
       "rougher.input.floatbank10_sulfate              29\n",
       "rougher.input.floatbank10_xanthate              8\n",
       "rougher.input.floatbank11_sulfate              36\n",
       "rougher.input.floatbank11_xanthate            428\n",
       "rougher.output.recovery                         0\n",
       "rougher.state.floatbank10_a_air                 1\n",
       "rougher.state.floatbank10_a_level               1\n",
       "rougher.state.floatbank10_b_air                 1\n",
       "rougher.state.floatbank10_b_level               1\n",
       "rougher.state.floatbank10_c_air                 1\n",
       "rougher.state.floatbank10_c_level               1\n",
       "rougher.state.floatbank10_d_air                 0\n",
       "rougher.state.floatbank10_d_level               0\n",
       "rougher.state.floatbank10_e_air               436\n",
       "rougher.state.floatbank10_e_level               0\n",
       "rougher.state.floatbank10_f_air                 0\n",
       "rougher.state.floatbank10_f_level               0\n",
       "secondary_cleaner.state.floatbank2_a_air      217\n",
       "secondary_cleaner.state.floatbank2_a_level      1\n",
       "secondary_cleaner.state.floatbank2_b_air       21\n",
       "secondary_cleaner.state.floatbank2_b_level      1\n",
       "secondary_cleaner.state.floatbank3_a_air        4\n",
       "secondary_cleaner.state.floatbank3_a_level      1\n",
       "secondary_cleaner.state.floatbank3_b_air        1\n",
       "secondary_cleaner.state.floatbank3_b_level      1\n",
       "secondary_cleaner.state.floatbank4_a_air        6\n",
       "secondary_cleaner.state.floatbank4_a_level      1\n",
       "secondary_cleaner.state.floatbank4_b_air        1\n",
       "secondary_cleaner.state.floatbank4_b_level      1\n",
       "secondary_cleaner.state.floatbank5_a_air        1\n",
       "secondary_cleaner.state.floatbank5_a_level      1\n",
       "secondary_cleaner.state.floatbank5_b_air        1\n",
       "secondary_cleaner.state.floatbank5_b_level      1\n",
       "secondary_cleaner.state.floatbank6_a_air        2\n",
       "secondary_cleaner.state.floatbank6_a_level      1\n",
       "dtype: int64"
      ]
     },
     "execution_count": 65,
     "metadata": {},
     "output_type": "execute_result"
    }
   ],
   "source": [
    "train.isna().sum()"
   ]
  },
  {
   "cell_type": "markdown",
   "metadata": {},
   "source": [
    "В целевых признаках пропусков нет. Есть около 3% пропусков в rougher.input.floatbank11_xanthate и rougher.state.floatbank10_e_air. Если они не пересекаются, то удалением пропусков можем в сумме лишиться до 10% данных, это много. Так как дано, что близкие по дате данные похожи друг на друга, можно заменить пропуски предыдущим значением.\n",
    "\n",
    "Сначала проверим, как распределяются данные на примере признака с большим числом пропусков"
   ]
  },
  {
   "cell_type": "code",
   "execution_count": 66,
   "metadata": {},
   "outputs": [
    {
     "data": {
      "image/png": "[encoded data removed]",
      "text/plain": [
       "<Figure size 3600x720 with 1 Axes>"
      ]
     },
     "metadata": {
      "needs_background": "light"
     },
     "output_type": "display_data"
    }
   ],
   "source": [
    "\n",
    "plt.figure(figsize=(50,10))\n",
    "\n",
    "plt.scatter(x = train.index, y = train['rougher.state.floatbank10_e_air'])\n",
    "plt.show()"
   ]
  },
  {
   "cell_type": "markdown",
   "metadata": {},
   "source": [
    "Видно, что соседние значения обычно близки друг к другу, но есть и скачки. Поэтому заменим пропуски средним значением между предыдущим и следующим"
   ]
  },
  {
   "cell_type": "code",
   "execution_count": 67,
   "metadata": {},
   "outputs": [],
   "source": [
    "train.interpolate(inplace=True)"
   ]
  },
  {
   "cell_type": "markdown",
   "metadata": {},
   "source": [
    "Теперь посмотрим на пропуски в тестовой выборке"
   ]
  },
  {
   "cell_type": "code",
   "execution_count": 68,
   "metadata": {},
   "outputs": [
    {
     "data": {
      "text/plain": [
       "date                                           0\n",
       "primary_cleaner.input.sulfate                  4\n",
       "primary_cleaner.input.depressant               5\n",
       "primary_cleaner.input.feed_size                0\n",
       "primary_cleaner.input.xanthate                 4\n",
       "primary_cleaner.state.floatbank8_a_air         0\n",
       "primary_cleaner.state.floatbank8_a_level       0\n",
       "primary_cleaner.state.floatbank8_b_air         0\n",
       "primary_cleaner.state.floatbank8_b_level       0\n",
       "primary_cleaner.state.floatbank8_c_air         0\n",
       "primary_cleaner.state.floatbank8_c_level       0\n",
       "primary_cleaner.state.floatbank8_d_air         0\n",
       "primary_cleaner.state.floatbank8_d_level       0\n",
       "rougher.input.feed_ag                          0\n",
       "rougher.input.feed_pb                          0\n",
       "rougher.input.feed_rate                        3\n",
       "rougher.input.feed_size                        1\n",
       "rougher.input.feed_sol                        21\n",
       "rougher.input.feed_au                          0\n",
       "rougher.input.floatbank10_sulfate              5\n",
       "rougher.input.floatbank10_xanthate             0\n",
       "rougher.input.floatbank11_sulfate              8\n",
       "rougher.input.floatbank11_xanthate            25\n",
       "rougher.state.floatbank10_a_air                0\n",
       "rougher.state.floatbank10_a_level              0\n",
       "rougher.state.floatbank10_b_air                0\n",
       "rougher.state.floatbank10_b_level              0\n",
       "rougher.state.floatbank10_c_air                0\n",
       "rougher.state.floatbank10_c_level              0\n",
       "rougher.state.floatbank10_d_air                0\n",
       "rougher.state.floatbank10_d_level              0\n",
       "rougher.state.floatbank10_e_air                0\n",
       "rougher.state.floatbank10_e_level              0\n",
       "rougher.state.floatbank10_f_air                0\n",
       "rougher.state.floatbank10_f_level              0\n",
       "secondary_cleaner.state.floatbank2_a_air       3\n",
       "secondary_cleaner.state.floatbank2_a_level     0\n",
       "secondary_cleaner.state.floatbank2_b_air       2\n",
       "secondary_cleaner.state.floatbank2_b_level     0\n",
       "secondary_cleaner.state.floatbank3_a_air       9\n",
       "secondary_cleaner.state.floatbank3_a_level     0\n",
       "secondary_cleaner.state.floatbank3_b_air       0\n",
       "secondary_cleaner.state.floatbank3_b_level     0\n",
       "secondary_cleaner.state.floatbank4_a_air       0\n",
       "secondary_cleaner.state.floatbank4_a_level     0\n",
       "secondary_cleaner.state.floatbank4_b_air       0\n",
       "secondary_cleaner.state.floatbank4_b_level     0\n",
       "secondary_cleaner.state.floatbank5_a_air       0\n",
       "secondary_cleaner.state.floatbank5_a_level     0\n",
       "secondary_cleaner.state.floatbank5_b_air       0\n",
       "secondary_cleaner.state.floatbank5_b_level     0\n",
       "secondary_cleaner.state.floatbank6_a_air       0\n",
       "secondary_cleaner.state.floatbank6_a_level     0\n",
       "final.output.recovery                          0\n",
       "rougher.output.recovery                        0\n",
       "dtype: int64"
      ]
     },
     "execution_count": 68,
     "metadata": {},
     "output_type": "execute_result"
    }
   ],
   "source": [
    "test.isna().sum()"
   ]
  },
  {
   "cell_type": "markdown",
   "metadata": {},
   "source": [
    "В тестовой выборке пропуском совсем мало. Заполнять нецелесообразно, можно просто их удалить "
   ]
  },
  {
   "cell_type": "code",
   "execution_count": 69,
   "metadata": {},
   "outputs": [],
   "source": [
    "test.dropna(inplace=True)"
   ]
  },
  {
   "cell_type": "markdown",
   "metadata": {},
   "source": [
    "## Анализ данных"
   ]
  },
  {
   "cell_type": "markdown",
   "metadata": {},
   "source": [
    "### Изменение концентрации металлов"
   ]
  },
  {
   "cell_type": "code",
   "execution_count": 70,
   "metadata": {},
   "outputs": [],
   "source": [
    "au = pd.DataFrame()\n",
    "\n",
    "au['rougher'] = full['rougher.output.concentrate_au']\n",
    "au['primary'] = full['primary_cleaner.output.concentrate_au']\n",
    "au['final'] = full['final.output.concentrate_au']\n",
    "\n",
    "ag = pd.DataFrame()\n",
    "ag['rougher'] = full['rougher.output.concentrate_ag']\n",
    "ag['primary'] = full['primary_cleaner.output.concentrate_ag']\n",
    "ag['final'] = full['final.output.concentrate_ag']\n",
    "\n",
    "\n",
    "pb = pd.DataFrame()\n",
    "pb['rougher'] = full['rougher.output.concentrate_pb']\n",
    "pb['primary'] = full['primary_cleaner.output.concentrate_pb']\n",
    "pb['final'] = full['final.output.concentrate_pb']\n",
    "\n",
    "sol = pd.DataFrame()\n",
    "sol['rougher'] = full['rougher.output.concentrate_sol']\n",
    "sol['primary'] = full['primary_cleaner.output.concentrate_sol']\n",
    "sol['final'] = full['final.output.concentrate_sol']"
   ]
  },
  {
   "cell_type": "code",
   "execution_count": 71,
   "metadata": {},
   "outputs": [
    {
     "data": {
      "text/plain": [
       "rougher    19.772000\n",
       "primary    32.119400\n",
       "final      44.076513\n",
       "dtype: float64"
      ]
     },
     "metadata": {},
     "output_type": "display_data"
    },
    {
     "data": {
      "text/plain": [
       "rougher    11.994759\n",
       "primary     8.442408\n",
       "final       5.168470\n",
       "dtype: float64"
      ]
     },
     "metadata": {},
     "output_type": "display_data"
    },
    {
     "data": {
      "text/plain": [
       "rougher    7.606272\n",
       "primary    9.829530\n",
       "final      9.978895\n",
       "dtype: float64"
      ]
     },
     "execution_count": 71,
     "metadata": {},
     "output_type": "execute_result"
    }
   ],
   "source": [
    "display(au.mean())\n",
    "\n",
    "display(ag.mean())\n",
    "\n",
    "pb.mean()"
   ]
  },
  {
   "cell_type": "code",
   "execution_count": 72,
   "metadata": {},
   "outputs": [
    {
     "data": {
      "text/plain": [
       "<matplotlib.legend.Legend at 0x7f31ccafc4c0>"
      ]
     },
     "execution_count": 72,
     "metadata": {},
     "output_type": "execute_result"
    },
    {
     "data": {
      "image/png": "[encoded data removed]",
      "text/plain": [
       "<Figure size 432x288 with 1 Axes>"
      ]
     },
     "metadata": {
      "needs_background": "light"
     },
     "output_type": "display_data"
    }
   ],
   "source": [
    "fig, ax = plt.subplots()\n",
    "labels = ['rougher', 'primary', 'final']\n",
    "ax.bar(labels,au.mean(), label ='au', yerr = au.std())\n",
    "ax.bar(labels,ag.mean(), label ='ag', yerr = ag.std(), bottom = au.mean())\n",
    "ax.bar(labels,pb.mean(), label ='pb', yerr = pb.std(), bottom = ag.mean()+au.mean())\n",
    "#ax.bar(labels,sol.mean(), label ='sol', yerr = sol.std(), bottom = ag.mean()+au.mean()+pb.mean())\n",
    "ax.legend()"
   ]
  },
  {
   "cell_type": "markdown",
   "metadata": {},
   "source": [
    "Концентрация золота на этапах от сырья до финального вырастает от примерно 20% до 44%. Количество серебра снижается от 11% до 5%, а свинец, наоборот — добавляется на стадии первичной очистки"
   ]
  },
  {
   "cell_type": "markdown",
   "metadata": {},
   "source": [
    "### Сравнение размеров гранул"
   ]
  },
  {
   "cell_type": "code",
   "execution_count": 73,
   "metadata": {},
   "outputs": [
    {
     "data": {
      "image/png": "[encoded data removed]",
      "text/plain": [
       "<Figure size 432x288 with 1 Axes>"
      ]
     },
     "metadata": {
      "needs_background": "light"
     },
     "output_type": "display_data"
    }
   ],
   "source": [
    "plt.hist(train['primary_cleaner.input.feed_size'], bins=50, label='train',density=True)\n",
    "plt.hist(test['primary_cleaner.input.feed_size'], bins=50, label='test',density=True)\n",
    "plt.legend()\n",
    "plt.show()"
   ]
  },
  {
   "cell_type": "code",
   "execution_count": 74,
   "metadata": {},
   "outputs": [
    {
     "data": {
      "text/plain": [
       "2.9804815000366216e-07"
      ]
     },
     "execution_count": 74,
     "metadata": {},
     "output_type": "execute_result"
    }
   ],
   "source": [
    "ttest_ind(train['primary_cleaner.input.feed_size'],\n",
    "          test['primary_cleaner.input.feed_size']).pvalue"
   ]
  },
  {
   "cell_type": "markdown",
   "metadata": {},
   "source": [
    "Статистический тест показывает, что различие в среднем размере гранул в тестовой и обучающей выборке статистически значимо. Однако зрительно видно, что сами распределения очень похожи. Вероятно, дело в слишком большом различии в количестве данных. "
   ]
  },
  {
   "cell_type": "markdown",
   "metadata": {},
   "source": [
    "### Суммарная концетрация"
   ]
  },
  {
   "cell_type": "code",
   "execution_count": 75,
   "metadata": {},
   "outputs": [
    {
     "data": {
      "text/plain": [
       "<matplotlib.legend.Legend at 0x7f31d7a6b790>"
      ]
     },
     "execution_count": 75,
     "metadata": {},
     "output_type": "execute_result"
    },
    {
     "data": {
      "image/png": "[encoded data removed]",
      "text/plain": [
       "<Figure size 432x288 with 1 Axes>"
      ]
     },
     "metadata": {
      "needs_background": "light"
     },
     "output_type": "display_data"
    }
   ],
   "source": [
    "full_concentrate = pd.DataFrame()\n",
    "\n",
    "full_concentrate['rougher'] = full['rougher.input.feed_ag']+full['rougher.input.feed_pb'] + full['rougher.input.feed_au']     \n",
    "full_concentrate['rougher'].hist(bins=100, label = 'rougher',density=True)\n",
    "full_concentrate['rougher'].describe()    \n",
    "\n",
    "full_concentrate['floating'] = full['rougher.output.concentrate_ag']+full['rougher.output.concentrate_pb']+ full['rougher.output.concentrate_au']     \n",
    "full_concentrate['floating'].hist(bins=100, label = 'floating',density=True)\n",
    "full_concentrate['floating'].describe()\n",
    "\n",
    "full_concentrate['primary'] = full['primary_cleaner.output.concentrate_ag']+full['primary_cleaner.output.concentrate_pb'] + full['primary_cleaner.output.concentrate_au']     \n",
    "full_concentrate['primary'].hist(bins=100, label = 'primary',density=True)\n",
    "full_concentrate['primary'].describe()\n",
    "\n",
    "\n",
    "full_concentrate['final'] = full['final.output.concentrate_ag']+full['final.output.concentrate_pb']+full['final.output.concentrate_au']     \n",
    "full_concentrate['final'].hist(bins=100, label = 'final',density=True)\n",
    "full_concentrate['final'].describe()\n",
    "\n",
    "plt.legend()\n"
   ]
  },
  {
   "cell_type": "markdown",
   "metadata": {},
   "source": [
    "Видно, что с каждым шагом обогащения суммарная концентрация металлов возрастает, а само распределение становится уже. Это означает, что обогащение работает\n",
    "\n",
    "На некоторых или всех этапах есть нулевые значения. Вероятно, это ошибочные записи, их следует удалить. \n",
    "\n",
    "Однако из всех четырех параметров использоваться для обучения будет только один -- rougher.input.feed_. Остальные данные считаются неизвестными, их использовать не будем"
   ]
  },
  {
   "cell_type": "code",
   "execution_count": 76,
   "metadata": {},
   "outputs": [
    {
     "data": {
      "text/plain": [
       "0"
      ]
     },
     "metadata": {},
     "output_type": "display_data"
    },
    {
     "data": {
      "text/plain": [
       "0"
      ]
     },
     "metadata": {},
     "output_type": "display_data"
    },
    {
     "data": {
      "text/plain": [
       "0"
      ]
     },
     "metadata": {},
     "output_type": "display_data"
    }
   ],
   "source": [
    "display(train[train['rougher.input.feed_au']==0]['date'].count())\n",
    "display(train[train['rougher.input.feed_ag']==0]['date'].count())\n",
    "display(train[train['rougher.input.feed_pb']==0]['date'].count())"
   ]
  },
  {
   "cell_type": "markdown",
   "metadata": {},
   "source": [
    "В интересующем нас признаке аномальных нулей нет"
   ]
  },
  {
   "cell_type": "markdown",
   "metadata": {},
   "source": [
    "## Модель"
   ]
  },
  {
   "cell_type": "code",
   "execution_count": 77,
   "metadata": {},
   "outputs": [],
   "source": [
    "#функция для подсчета необходимой метрики качества\n",
    "\n",
    "def smape_score(y_true, y_pred):\n",
    "    \n",
    "    smape = abs(y_true-y_pred)/(abs(y_true)+abs(y_pred))*2*100\n",
    "    return smape.sum()/len(y_true)\n",
    "\n",
    "smape_scorer = make_scorer(smape_score,greater_is_better = False)"
   ]
  },
  {
   "cell_type": "markdown",
   "metadata": {},
   "source": [
    "Будем обучать модели отдельно для эффективности обогащения чернового и финального концентратов"
   ]
  },
  {
   "cell_type": "code",
   "execution_count": 78,
   "metadata": {},
   "outputs": [],
   "source": [
    "#разделение признаков в обучающей выборке\n",
    "\n",
    "x_train = train.drop(columns=target_columns).drop(columns='date')\n",
    "y_final_train = train['final.output.recovery']\n",
    "y_rougher_train = train['rougher.output.recovery']"
   ]
  },
  {
   "cell_type": "code",
   "execution_count": 79,
   "metadata": {},
   "outputs": [],
   "source": [
    "#разделение признаков в тестовой выборке\n",
    "\n",
    "x_test = test.drop(columns=target_columns).drop(columns='date')\n",
    "y_final_test = test['final.output.recovery']\n",
    "y_rougher_test=test['rougher.output.recovery']"
   ]
  },
  {
   "cell_type": "code",
   "execution_count": 80,
   "metadata": {},
   "outputs": [],
   "source": [
    "#масштабирование признаков\n",
    "\n",
    "scaler = StandardScaler().fit(x_train)\n",
    "\n",
    "x_train = pd.DataFrame(scaler.transform(x_train),\n",
    "                        index = x_train.index, \n",
    "                        columns = x_train.columns)\n",
    "\n",
    "x_test = pd.DataFrame(scaler.transform(x_test),\n",
    "                        index = x_test.index, \n",
    "                        columns = x_test.columns)"
   ]
  },
  {
   "cell_type": "markdown",
   "metadata": {},
   "source": [
    "Будем сравнивать несколько линейных моделей и модель случайного леса. Для последней сначала подберем лучшие гиперпараметры"
   ]
  },
  {
   "cell_type": "code",
   "execution_count": 81,
   "metadata": {},
   "outputs": [
    {
     "name": "stdout",
     "output_type": "stream",
     "text": [
      "CPU times: user 9min 32s, sys: 294 ms, total: 9min 33s\n",
      "Wall time: 9min 33s\n"
     ]
    },
    {
     "data": {
      "text/plain": [
       "GridSearchCV(cv=5, estimator=RandomForestRegressor(random_state=1), n_jobs=-1,\n",
       "             param_grid={'max_depth': [3, 4, 5, 6],\n",
       "                         'n_estimators': [60, 70, 80]},\n",
       "             scoring=make_scorer(smape_score, greater_is_better=False))"
      ]
     },
     "execution_count": 81,
     "metadata": {},
     "output_type": "execute_result"
    }
   ],
   "source": [
    "%%time\n",
    "RFR = RandomForestRegressor(random_state=1)\n",
    "\n",
    "RFR_parameters = {'max_depth'    : [3,4,5,6],\n",
    "                  'n_estimators' : [60,70,80]\n",
    "                 }\n",
    "\n",
    "grid_RFR = GridSearchCV(estimator=RFR, param_grid = RFR_parameters, cv = 5, n_jobs=-1, scoring=smape_scorer)\n",
    "grid_RFR.fit(x_train, y_rougher_train)\n"
   ]
  },
  {
   "cell_type": "code",
   "execution_count": 82,
   "metadata": {},
   "outputs": [
    {
     "data": {
      "text/plain": [
       "{'max_depth': 6, 'n_estimators': 80}"
      ]
     },
     "execution_count": 82,
     "metadata": {},
     "output_type": "execute_result"
    }
   ],
   "source": [
    "grid_RFR.best_params_"
   ]
  },
  {
   "cell_type": "code",
   "execution_count": 83,
   "metadata": {},
   "outputs": [],
   "source": [
    "#список моделей для перебора\n",
    "models = [LinearRegression(),ElasticNet(random_state=1), Lasso(random_state=1),RandomForestRegressor(n_estimators=80,max_depth=6,random_state=1)]\n"
   ]
  },
  {
   "cell_type": "code",
   "execution_count": 90,
   "metadata": {
    "scrolled": true
   },
   "outputs": [
    {
     "name": "stdout",
     "output_type": "stream",
     "text": [
      "CPU times: user 2min 17s, sys: 7.13 s, total: 2min 24s\n",
      "Wall time: 2min 24s\n"
     ]
    },
    {
     "data": {
      "text/html": [
       "<div>\n",
       "<style scoped>\n",
       "    .dataframe tbody tr th:only-of-type {\n",
       "        vertical-align: middle;\n",
       "    }\n",
       "\n",
       "    .dataframe tbody tr th {\n",
       "        vertical-align: top;\n",
       "    }\n",
       "\n",
       "    .dataframe thead th {\n",
       "        text-align: right;\n",
       "    }\n",
       "</style>\n",
       "<table border=\"1\" class=\"dataframe\">\n",
       "  <thead>\n",
       "    <tr style=\"text-align: right;\">\n",
       "      <th></th>\n",
       "      <th>model</th>\n",
       "      <th>rougher smape</th>\n",
       "      <th>final smape</th>\n",
       "      <th>overall smape</th>\n",
       "    </tr>\n",
       "  </thead>\n",
       "  <tbody>\n",
       "    <tr>\n",
       "      <th>0</th>\n",
       "      <td>LinearRegression()</td>\n",
       "      <td>12.767081</td>\n",
       "      <td>12.268816</td>\n",
       "      <td>12.393382</td>\n",
       "    </tr>\n",
       "    <tr>\n",
       "      <th>1</th>\n",
       "      <td>ElasticNet(random_state=1)</td>\n",
       "      <td>11.000173</td>\n",
       "      <td>10.116052</td>\n",
       "      <td>10.337082</td>\n",
       "    </tr>\n",
       "    <tr>\n",
       "      <th>2</th>\n",
       "      <td>Lasso(random_state=1)</td>\n",
       "      <td>11.040036</td>\n",
       "      <td>10.180669</td>\n",
       "      <td>10.395510</td>\n",
       "    </tr>\n",
       "    <tr>\n",
       "      <th>3</th>\n",
       "      <td>RandomForestRegressor(max_depth=6, n_estimator...</td>\n",
       "      <td>10.957621</td>\n",
       "      <td>10.394840</td>\n",
       "      <td>10.535535</td>\n",
       "    </tr>\n",
       "  </tbody>\n",
       "</table>\n",
       "</div>"
      ],
      "text/plain": [
       "                                               model  rougher smape  \\\n",
       "0                                 LinearRegression()      12.767081   \n",
       "1                         ElasticNet(random_state=1)      11.000173   \n",
       "2                              Lasso(random_state=1)      11.040036   \n",
       "3  RandomForestRegressor(max_depth=6, n_estimator...      10.957621   \n",
       "\n",
       "   final smape  overall smape  \n",
       "0    12.268816      12.393382  \n",
       "1    10.116052      10.337082  \n",
       "2    10.180669      10.395510  \n",
       "3    10.394840      10.535535  "
      ]
     },
     "execution_count": 90,
     "metadata": {},
     "output_type": "execute_result"
    }
   ],
   "source": [
    "%%time\n",
    "\n",
    "\n",
    "results = pd.DataFrame(columns =['model','rougher smape','final smape'])\n",
    "\n",
    "smape_scorer = make_scorer(smape_score)\n",
    "\n",
    "#проверка качества моделей кросс-валидацией и сравнение между собой\n",
    "\n",
    "for model in models:\n",
    "    scores_rough = cross_val_score(model,x_train,y_rougher_train,cv=5,scoring=smape_scorer)\n",
    "    scores_final = cross_val_score(model,x_train,y_final_train,cv=5,scoring=smape_scorer)\n",
    "    results = results.append({'model': model,\n",
    "                                'rougher smape': scores_rough.mean(), \n",
    "                                'final smape':scores_final.mean()}, \n",
    "                             ignore_index=True)    \n",
    "    \n",
    "results['overall smape'] = .25*results['rougher smape']+.75*results['final smape']\n",
    "results"
   ]
  },
  {
   "cell_type": "markdown",
   "metadata": {},
   "source": [
    "Лучше всего показала себя модель ElasticNet"
   ]
  },
  {
   "cell_type": "markdown",
   "metadata": {},
   "source": [
    "### Проверка на тестовой выборке"
   ]
  },
  {
   "cell_type": "code",
   "execution_count": 85,
   "metadata": {},
   "outputs": [
    {
     "name": "stdout",
     "output_type": "stream",
     "text": [
      "CPU times: user 138 ms, sys: 471 ms, total: 609 ms\n",
      "Wall time: 557 ms\n"
     ]
    },
    {
     "data": {
      "text/plain": [
       "8.316508408898168"
      ]
     },
     "execution_count": 85,
     "metadata": {},
     "output_type": "execute_result"
    }
   ],
   "source": [
    "%%time\n",
    "\n",
    "y_rougher_pred  = ElasticNet(random_state=1).fit(x_train,y_rougher_train).predict(x_test)\n",
    "y_final_pred  = ElasticNet(random_state=1).fit(x_train,y_final_train).predict(x_test)\n",
    "\n",
    "\n",
    ".25*smape_score(y_rougher_test, y_rougher_pred)+.75*smape_score(y_final_test, y_final_pred)"
   ]
  },
  {
   "cell_type": "code",
   "execution_count": 100,
   "metadata": {},
   "outputs": [
    {
     "name": "stdout",
     "output_type": "stream",
     "text": [
      "CPU times: user 133 ms, sys: 379 ms, total: 512 ms\n",
      "Wall time: 457 ms\n"
     ]
    },
    {
     "data": {
      "text/plain": [
       "8.232146124876145"
      ]
     },
     "execution_count": 100,
     "metadata": {},
     "output_type": "execute_result"
    }
   ],
   "source": [
    "%%time\n",
    "\n",
    "y_rougher_pred  = ElasticNet(random_state=1,l1_ratio=1).fit(x_train,y_rougher_train).predict(x_test)\n",
    "y_final_pred  = ElasticNet(random_state=1,l1_ratio=1).fit(x_train,y_final_train).predict(x_test)\n",
    "\n",
    "\n",
    ".25*smape_score(y_rougher_test, y_rougher_pred)+.75*smape_score(y_final_test, y_final_pred)"
   ]
  },
  {
   "cell_type": "markdown",
   "metadata": {},
   "source": [
    "На тестовой выборке результат получился лучше, чем на обучающей\n",
    "\n",
    "Итоговая sMAPE составила около 8%"
   ]
  },
  {
   "cell_type": "code",
   "execution_count": 92,
   "metadata": {},
   "outputs": [
    {
     "data": {
      "text/plain": [
       "9.875451652283319"
      ]
     },
     "execution_count": 92,
     "metadata": {},
     "output_type": "execute_result"
    }
   ],
   "source": [
    "dummy_final_pred = DummyRegressor().fit(x_train,y_final_train).predict(x_test)\n",
    "dummy_rougher_pred = DummyRegressor().fit(x_train,y_rougher_train).predict(x_test)\n",
    "\n",
    ".25*smape_score(y_rougher_test,dummy_rougher_pred)+.75*smape_score(y_final_test, dummy_final_pred)\n",
    "\n"
   ]
  },
  {
   "cell_type": "markdown",
   "metadata": {},
   "source": [
    "Для константной модели sMAPE почти такой же. Получается, об адекватности модели говорить нельзя"
   ]
  },
  {
   "cell_type": "markdown",
   "metadata": {},
   "source": [
    "**Вывод**\n",
    "\n",
    " - построена модель для предсказания эффективности восстановления золота из руды\n",
    " - среди нескольких моделей выбрана лучшая, которая дала требуемую метрику sMAPE 10,33%\n",
    " - на тестовой выборке sMAPE составила 8,3%\n",
    " - По сравнению с константной, модель не вполне адекватная\n",
    " - Нужно искать другие модели, которые дадут sMAPE меньше\n",
    "\n",
    " "
   ]
  }
 ],
 "metadata": {
  "ExecuteTimeLog": [
   {
    "duration": 377,
    "start_time": "2022-07-30T09:33:08.067Z"
   },
   {
    "duration": 93,
    "start_time": "2022-07-30T09:33:36.730Z"
   },
   {
    "duration": 16,
    "start_time": "2022-07-30T09:35:28.863Z"
   },
   {
    "duration": 788,
    "start_time": "2022-07-30T09:35:40.761Z"
   },
   {
    "duration": 33,
    "start_time": "2022-07-30T09:35:48.356Z"
   },
   {
    "duration": 18,
    "start_time": "2022-07-30T09:36:01.499Z"
   },
   {
    "duration": 7,
    "start_time": "2022-07-30T10:02:37.385Z"
   },
   {
    "duration": 2301,
    "start_time": "2022-07-30T10:02:41.878Z"
   },
   {
    "duration": 16,
    "start_time": "2022-07-30T10:02:44.181Z"
   },
   {
    "duration": 13,
    "start_time": "2022-07-30T10:02:44.219Z"
   },
   {
    "duration": 17,
    "start_time": "2022-07-30T10:04:20.630Z"
   },
   {
    "duration": 55,
    "start_time": "2022-07-30T10:17:52.528Z"
   },
   {
    "duration": 3,
    "start_time": "2022-07-30T10:18:01.647Z"
   },
   {
    "duration": 14,
    "start_time": "2022-07-30T10:19:49.279Z"
   },
   {
    "duration": 10,
    "start_time": "2022-07-30T10:20:07.051Z"
   },
   {
    "duration": 8,
    "start_time": "2022-07-30T10:20:11.327Z"
   },
   {
    "duration": 6,
    "start_time": "2022-07-30T10:20:21.589Z"
   },
   {
    "duration": 14,
    "start_time": "2022-07-30T10:20:58.280Z"
   },
   {
    "duration": 679,
    "start_time": "2022-07-30T10:36:28.258Z"
   },
   {
    "duration": 14,
    "start_time": "2022-07-30T10:46:51.083Z"
   },
   {
    "duration": 43,
    "start_time": "2022-07-30T10:47:49.858Z"
   },
   {
    "duration": 35,
    "start_time": "2022-07-30T10:48:08.970Z"
   },
   {
    "duration": 13,
    "start_time": "2022-07-30T10:53:01.836Z"
   },
   {
    "duration": 758,
    "start_time": "2022-07-30T10:53:12.128Z"
   },
   {
    "duration": 855,
    "start_time": "2022-07-30T10:57:00.263Z"
   },
   {
    "duration": 3,
    "start_time": "2022-07-30T10:57:28.705Z"
   },
   {
    "duration": 775,
    "start_time": "2022-07-30T10:58:17.403Z"
   },
   {
    "duration": 4,
    "start_time": "2022-07-30T10:58:35.633Z"
   },
   {
    "duration": 4,
    "start_time": "2022-07-30T10:59:23.619Z"
   },
   {
    "duration": 9,
    "start_time": "2022-07-30T10:59:42.348Z"
   },
   {
    "duration": 11,
    "start_time": "2022-07-30T11:01:05.900Z"
   },
   {
    "duration": 9,
    "start_time": "2022-07-30T11:01:18.395Z"
   },
   {
    "duration": 8,
    "start_time": "2022-07-30T11:01:35.853Z"
   },
   {
    "duration": 12,
    "start_time": "2022-07-30T11:03:39.797Z"
   },
   {
    "duration": 12,
    "start_time": "2022-07-30T11:04:03.084Z"
   },
   {
    "duration": 7,
    "start_time": "2022-07-30T11:04:21.584Z"
   },
   {
    "duration": 20,
    "start_time": "2022-07-30T11:04:22.768Z"
   },
   {
    "duration": 12,
    "start_time": "2022-07-30T11:04:33.538Z"
   },
   {
    "duration": 3,
    "start_time": "2022-07-30T11:06:16.360Z"
   },
   {
    "duration": 7,
    "start_time": "2022-07-30T11:06:16.732Z"
   },
   {
    "duration": 12,
    "start_time": "2022-07-30T11:06:17.763Z"
   },
   {
    "duration": 3,
    "start_time": "2022-07-30T11:06:24.623Z"
   },
   {
    "duration": 7,
    "start_time": "2022-07-30T11:06:26.786Z"
   },
   {
    "duration": 12,
    "start_time": "2022-07-30T11:06:28.558Z"
   },
   {
    "duration": 3,
    "start_time": "2022-07-30T11:06:40.824Z"
   },
   {
    "duration": 8,
    "start_time": "2022-07-30T11:06:42.462Z"
   },
   {
    "duration": 13,
    "start_time": "2022-07-30T11:06:44.473Z"
   },
   {
    "duration": 8,
    "start_time": "2022-07-30T11:07:04.692Z"
   },
   {
    "duration": 18,
    "start_time": "2022-07-30T11:14:30.202Z"
   },
   {
    "duration": 13,
    "start_time": "2022-07-30T11:14:33.231Z"
   },
   {
    "duration": 3,
    "start_time": "2022-07-30T16:24:23.842Z"
   },
   {
    "duration": 984,
    "start_time": "2022-07-30T16:24:23.846Z"
   },
   {
    "duration": 20,
    "start_time": "2022-07-30T16:24:24.832Z"
   },
   {
    "duration": 3,
    "start_time": "2022-07-30T16:24:24.854Z"
   },
   {
    "duration": 17,
    "start_time": "2022-07-30T16:24:24.859Z"
   },
   {
    "duration": 37,
    "start_time": "2022-07-30T16:24:24.877Z"
   },
   {
    "duration": 10,
    "start_time": "2022-07-30T16:24:24.916Z"
   },
   {
    "duration": 0,
    "start_time": "2022-07-30T16:24:24.928Z"
   },
   {
    "duration": 7,
    "start_time": "2022-07-30T16:24:47.032Z"
   },
   {
    "duration": 9,
    "start_time": "2022-07-30T16:24:48.403Z"
   },
   {
    "duration": 592,
    "start_time": "2022-07-30T16:25:13.003Z"
   },
   {
    "duration": 159,
    "start_time": "2022-07-30T16:25:36.761Z"
   },
   {
    "duration": 10,
    "start_time": "2022-07-30T16:25:51.094Z"
   },
   {
    "duration": 10,
    "start_time": "2022-07-30T16:26:29.657Z"
   },
   {
    "duration": 1270,
    "start_time": "2022-07-30T16:29:51.722Z"
   },
   {
    "duration": 7,
    "start_time": "2022-07-30T16:29:57.982Z"
   },
   {
    "duration": 9,
    "start_time": "2022-07-30T16:30:05.127Z"
   },
   {
    "duration": 21,
    "start_time": "2022-07-30T16:30:36.949Z"
   },
   {
    "duration": 10,
    "start_time": "2022-07-30T16:32:51.830Z"
   },
   {
    "duration": 6,
    "start_time": "2022-07-30T16:33:27.272Z"
   },
   {
    "duration": 10,
    "start_time": "2022-07-30T16:33:48.181Z"
   },
   {
    "duration": 9,
    "start_time": "2022-07-30T16:36:41.213Z"
   },
   {
    "duration": 10,
    "start_time": "2022-07-30T16:36:43.532Z"
   },
   {
    "duration": 8,
    "start_time": "2022-07-30T16:36:45.006Z"
   },
   {
    "duration": 7,
    "start_time": "2022-07-30T16:36:45.396Z"
   },
   {
    "duration": 6,
    "start_time": "2022-07-30T16:36:46.036Z"
   },
   {
    "duration": 13,
    "start_time": "2022-07-30T16:37:48.586Z"
   },
   {
    "duration": 10,
    "start_time": "2022-07-30T16:37:49.528Z"
   },
   {
    "duration": 7,
    "start_time": "2022-07-30T16:37:49.822Z"
   },
   {
    "duration": 7,
    "start_time": "2022-07-30T16:37:50.376Z"
   },
   {
    "duration": 7,
    "start_time": "2022-07-30T16:38:00.322Z"
   },
   {
    "duration": 3,
    "start_time": "2022-07-30T16:41:54.708Z"
   },
   {
    "duration": 11,
    "start_time": "2022-07-30T17:47:08.929Z"
   },
   {
    "duration": 120,
    "start_time": "2022-07-30T17:47:35.853Z"
   },
   {
    "duration": 3,
    "start_time": "2022-07-30T17:48:24.798Z"
   },
   {
    "duration": 136,
    "start_time": "2022-07-30T17:48:38.657Z"
   },
   {
    "duration": 11,
    "start_time": "2022-07-30T17:49:46.527Z"
   },
   {
    "duration": 14,
    "start_time": "2022-07-30T17:50:09.928Z"
   },
   {
    "duration": 235,
    "start_time": "2022-07-30T17:52:01.455Z"
   },
   {
    "duration": 10,
    "start_time": "2022-07-30T17:52:26.727Z"
   },
   {
    "duration": 9,
    "start_time": "2022-07-30T17:52:34.096Z"
   },
   {
    "duration": 118,
    "start_time": "2022-07-30T17:52:36.277Z"
   },
   {
    "duration": 120,
    "start_time": "2022-07-30T17:53:03.845Z"
   },
   {
    "duration": 198,
    "start_time": "2022-07-30T17:53:49.677Z"
   },
   {
    "duration": 112,
    "start_time": "2022-07-30T17:53:55.451Z"
   },
   {
    "duration": 92,
    "start_time": "2022-07-30T17:54:25.003Z"
   },
   {
    "duration": 94,
    "start_time": "2022-07-30T17:54:39.197Z"
   },
   {
    "duration": 114,
    "start_time": "2022-07-30T17:55:14.796Z"
   },
   {
    "duration": 123,
    "start_time": "2022-07-30T17:55:30.324Z"
   },
   {
    "duration": 118,
    "start_time": "2022-07-30T17:55:40.226Z"
   },
   {
    "duration": 121,
    "start_time": "2022-07-30T17:56:11.259Z"
   },
   {
    "duration": 116,
    "start_time": "2022-07-30T17:56:17.926Z"
   },
   {
    "duration": 162,
    "start_time": "2022-07-30T17:57:02.083Z"
   },
   {
    "duration": 161,
    "start_time": "2022-07-30T17:57:24.277Z"
   },
   {
    "duration": 145,
    "start_time": "2022-07-30T17:57:33.196Z"
   },
   {
    "duration": 162,
    "start_time": "2022-07-30T17:57:51.483Z"
   },
   {
    "duration": 15,
    "start_time": "2022-07-30T17:59:18.048Z"
   },
   {
    "duration": 10,
    "start_time": "2022-07-30T17:59:19.003Z"
   },
   {
    "duration": 8,
    "start_time": "2022-07-30T17:59:19.229Z"
   },
   {
    "duration": 8,
    "start_time": "2022-07-30T17:59:19.455Z"
   },
   {
    "duration": 10,
    "start_time": "2022-07-30T17:59:19.732Z"
   },
   {
    "duration": 153,
    "start_time": "2022-07-30T17:59:20.927Z"
   },
   {
    "duration": 15,
    "start_time": "2022-07-30T17:59:37.398Z"
   },
   {
    "duration": 11,
    "start_time": "2022-07-30T17:59:37.928Z"
   },
   {
    "duration": 7,
    "start_time": "2022-07-30T17:59:38.127Z"
   },
   {
    "duration": 7,
    "start_time": "2022-07-30T17:59:38.338Z"
   },
   {
    "duration": 8,
    "start_time": "2022-07-30T17:59:38.478Z"
   },
   {
    "duration": 325,
    "start_time": "2022-07-30T17:59:38.795Z"
   },
   {
    "duration": 17,
    "start_time": "2022-07-30T18:00:09.330Z"
   },
   {
    "duration": 11,
    "start_time": "2022-07-30T18:00:09.760Z"
   },
   {
    "duration": 7,
    "start_time": "2022-07-30T18:00:10.058Z"
   },
   {
    "duration": 9,
    "start_time": "2022-07-30T18:00:10.653Z"
   },
   {
    "duration": 10,
    "start_time": "2022-07-30T18:00:11.797Z"
   },
   {
    "duration": 171,
    "start_time": "2022-07-30T18:00:12.353Z"
   },
   {
    "duration": 186,
    "start_time": "2022-07-30T18:00:31.028Z"
   },
   {
    "duration": 191,
    "start_time": "2022-07-30T18:02:09.488Z"
   },
   {
    "duration": 197,
    "start_time": "2022-07-30T18:02:39.863Z"
   },
   {
    "duration": 159,
    "start_time": "2022-07-30T18:02:50.662Z"
   },
   {
    "duration": 9,
    "start_time": "2022-07-30T18:07:32.367Z"
   },
   {
    "duration": 12,
    "start_time": "2022-07-30T18:07:45.196Z"
   },
   {
    "duration": 202,
    "start_time": "2022-07-30T18:08:31.867Z"
   },
   {
    "duration": 306,
    "start_time": "2022-07-30T18:08:37.574Z"
   },
   {
    "duration": 262,
    "start_time": "2022-07-30T18:08:48.677Z"
   },
   {
    "duration": 54,
    "start_time": "2022-07-31T11:08:02.397Z"
   },
   {
    "duration": 1530,
    "start_time": "2022-07-31T11:08:22.572Z"
   },
   {
    "duration": 3291,
    "start_time": "2022-07-31T11:08:24.105Z"
   },
   {
    "duration": 19,
    "start_time": "2022-07-31T11:08:27.397Z"
   },
   {
    "duration": 3,
    "start_time": "2022-07-31T11:08:27.417Z"
   },
   {
    "duration": 27,
    "start_time": "2022-07-31T11:08:27.422Z"
   },
   {
    "duration": 25,
    "start_time": "2022-07-31T11:08:27.451Z"
   },
   {
    "duration": 17,
    "start_time": "2022-07-31T11:08:27.478Z"
   },
   {
    "duration": 189,
    "start_time": "2022-07-31T11:08:27.497Z"
   },
   {
    "duration": 263,
    "start_time": "2022-07-31T11:08:27.688Z"
   },
   {
    "duration": 291,
    "start_time": "2022-07-31T11:08:27.953Z"
   },
   {
    "duration": 149,
    "start_time": "2022-07-31T11:08:28.246Z"
   },
   {
    "duration": 266,
    "start_time": "2022-07-31T11:08:49.789Z"
   },
   {
    "duration": 159,
    "start_time": "2022-07-31T11:09:09.344Z"
   },
   {
    "duration": 261,
    "start_time": "2022-07-31T11:09:20.538Z"
   },
   {
    "duration": 270,
    "start_time": "2022-07-31T11:09:51.050Z"
   },
   {
    "duration": 267,
    "start_time": "2022-07-31T11:10:11.250Z"
   },
   {
    "duration": 272,
    "start_time": "2022-07-31T11:10:21.538Z"
   },
   {
    "duration": 416,
    "start_time": "2022-07-31T11:10:33.359Z"
   },
   {
    "duration": 381,
    "start_time": "2022-07-31T11:10:41.274Z"
   },
   {
    "duration": 134,
    "start_time": "2022-07-31T11:11:04.682Z"
   },
   {
    "duration": 322,
    "start_time": "2022-07-31T11:11:08.242Z"
   },
   {
    "duration": 3,
    "start_time": "2022-07-31T11:11:55.214Z"
   },
   {
    "duration": 5,
    "start_time": "2022-07-31T11:12:15.497Z"
   },
   {
    "duration": 6,
    "start_time": "2022-07-31T11:12:25.649Z"
   },
   {
    "duration": 225,
    "start_time": "2022-07-31T11:14:11.710Z"
   },
   {
    "duration": 7,
    "start_time": "2022-07-31T11:25:24.625Z"
   },
   {
    "duration": 152,
    "start_time": "2022-07-31T11:25:29.698Z"
   },
   {
    "duration": 7,
    "start_time": "2022-07-31T11:27:57.310Z"
   },
   {
    "duration": 9,
    "start_time": "2022-07-31T11:28:44.554Z"
   },
   {
    "duration": 27,
    "start_time": "2022-07-31T11:29:10.809Z"
   },
   {
    "duration": 17,
    "start_time": "2022-07-31T11:29:21.209Z"
   },
   {
    "duration": 6,
    "start_time": "2022-07-31T11:29:40.980Z"
   },
   {
    "duration": 118,
    "start_time": "2022-07-31T11:30:51.379Z"
   },
   {
    "duration": 34,
    "start_time": "2022-07-31T11:30:53.959Z"
   },
   {
    "duration": 7,
    "start_time": "2022-07-31T11:31:00.789Z"
   },
   {
    "duration": 28,
    "start_time": "2022-07-31T11:31:23.551Z"
   },
   {
    "duration": 25,
    "start_time": "2022-07-31T11:31:30.870Z"
   },
   {
    "duration": 13,
    "start_time": "2022-07-31T11:31:42.629Z"
   },
   {
    "duration": 3,
    "start_time": "2022-07-31T11:35:14.462Z"
   },
   {
    "duration": 5,
    "start_time": "2022-07-31T11:35:17.442Z"
   },
   {
    "duration": 6,
    "start_time": "2022-07-31T11:35:39.639Z"
   },
   {
    "duration": 7,
    "start_time": "2022-07-31T11:35:45.597Z"
   },
   {
    "duration": 60,
    "start_time": "2022-07-31T11:35:52.791Z"
   },
   {
    "duration": 5,
    "start_time": "2022-07-31T11:35:57.569Z"
   },
   {
    "duration": 77,
    "start_time": "2022-07-31T12:08:07.938Z"
   },
   {
    "duration": 4,
    "start_time": "2022-07-31T12:08:15.339Z"
   },
   {
    "duration": 12,
    "start_time": "2022-07-31T12:11:57.888Z"
   },
   {
    "duration": 3,
    "start_time": "2022-07-31T12:12:53.475Z"
   },
   {
    "duration": 5,
    "start_time": "2022-07-31T12:13:00.968Z"
   },
   {
    "duration": 11,
    "start_time": "2022-07-31T12:13:33.647Z"
   },
   {
    "duration": 22,
    "start_time": "2022-07-31T12:13:40.815Z"
   },
   {
    "duration": 47,
    "start_time": "2022-07-31T12:15:27.275Z"
   },
   {
    "duration": 65,
    "start_time": "2022-07-31T12:15:45.039Z"
   },
   {
    "duration": 59,
    "start_time": "2022-07-31T12:16:52.387Z"
   },
   {
    "duration": 4,
    "start_time": "2022-07-31T12:17:16.373Z"
   },
   {
    "duration": 37,
    "start_time": "2022-07-31T12:18:20.537Z"
   },
   {
    "duration": 10,
    "start_time": "2022-07-31T12:18:32.343Z"
   },
   {
    "duration": 8,
    "start_time": "2022-07-31T12:18:36.293Z"
   },
   {
    "duration": 19,
    "start_time": "2022-07-31T12:18:41.269Z"
   },
   {
    "duration": 4,
    "start_time": "2022-07-31T12:18:59.764Z"
   },
   {
    "duration": 832,
    "start_time": "2022-07-31T12:18:59.770Z"
   },
   {
    "duration": 35,
    "start_time": "2022-07-31T12:19:00.604Z"
   },
   {
    "duration": 5,
    "start_time": "2022-07-31T12:19:00.641Z"
   },
   {
    "duration": 20,
    "start_time": "2022-07-31T12:19:00.649Z"
   },
   {
    "duration": 18,
    "start_time": "2022-07-31T12:19:00.671Z"
   },
   {
    "duration": 72,
    "start_time": "2022-07-31T12:19:00.690Z"
   },
   {
    "duration": 31,
    "start_time": "2022-07-31T12:19:00.763Z"
   },
   {
    "duration": 882,
    "start_time": "2022-07-31T12:19:00.796Z"
   },
   {
    "duration": 0,
    "start_time": "2022-07-31T12:19:01.680Z"
   },
   {
    "duration": 0,
    "start_time": "2022-07-31T12:19:01.682Z"
   },
   {
    "duration": 0,
    "start_time": "2022-07-31T12:19:01.683Z"
   },
   {
    "duration": 5,
    "start_time": "2022-07-31T12:19:42.383Z"
   },
   {
    "duration": 3,
    "start_time": "2022-07-31T12:19:50.369Z"
   },
   {
    "duration": 764,
    "start_time": "2022-07-31T12:19:50.374Z"
   },
   {
    "duration": 18,
    "start_time": "2022-07-31T12:19:51.140Z"
   },
   {
    "duration": 4,
    "start_time": "2022-07-31T12:19:51.159Z"
   },
   {
    "duration": 23,
    "start_time": "2022-07-31T12:19:51.165Z"
   },
   {
    "duration": 24,
    "start_time": "2022-07-31T12:19:51.189Z"
   },
   {
    "duration": 42,
    "start_time": "2022-07-31T12:19:51.215Z"
   },
   {
    "duration": 44,
    "start_time": "2022-07-31T12:19:51.259Z"
   },
   {
    "duration": 5,
    "start_time": "2022-07-31T12:19:51.305Z"
   },
   {
    "duration": 3,
    "start_time": "2022-07-31T12:20:01.664Z"
   },
   {
    "duration": 845,
    "start_time": "2022-07-31T12:20:01.670Z"
   },
   {
    "duration": 3,
    "start_time": "2022-07-31T12:20:02.517Z"
   },
   {
    "duration": 23,
    "start_time": "2022-07-31T12:20:02.529Z"
   },
   {
    "duration": 5,
    "start_time": "2022-07-31T12:20:02.555Z"
   },
   {
    "duration": 18,
    "start_time": "2022-07-31T12:20:02.562Z"
   },
   {
    "duration": 51,
    "start_time": "2022-07-31T12:20:02.582Z"
   },
   {
    "duration": 6,
    "start_time": "2022-07-31T12:20:02.639Z"
   },
   {
    "duration": 1676,
    "start_time": "2022-07-31T12:20:02.646Z"
   },
   {
    "duration": 0,
    "start_time": "2022-07-31T12:20:04.333Z"
   },
   {
    "duration": 0,
    "start_time": "2022-07-31T12:20:04.334Z"
   },
   {
    "duration": 0,
    "start_time": "2022-07-31T12:20:04.335Z"
   },
   {
    "duration": 15,
    "start_time": "2022-07-31T12:20:44.539Z"
   },
   {
    "duration": 9,
    "start_time": "2022-07-31T12:21:12.461Z"
   },
   {
    "duration": 19,
    "start_time": "2022-07-31T12:22:14.182Z"
   },
   {
    "duration": 56,
    "start_time": "2022-07-31T12:23:01.990Z"
   },
   {
    "duration": 81,
    "start_time": "2022-07-31T12:24:16.824Z"
   },
   {
    "duration": 82,
    "start_time": "2022-07-31T12:24:38.060Z"
   },
   {
    "duration": 94,
    "start_time": "2022-07-31T12:24:44.245Z"
   },
   {
    "duration": 84,
    "start_time": "2022-07-31T12:24:51.943Z"
   },
   {
    "duration": 82,
    "start_time": "2022-07-31T12:24:57.171Z"
   },
   {
    "duration": 39,
    "start_time": "2022-07-31T12:25:41.629Z"
   },
   {
    "duration": 3,
    "start_time": "2022-07-31T12:26:05.753Z"
   },
   {
    "duration": 797,
    "start_time": "2022-07-31T12:26:05.759Z"
   },
   {
    "duration": 3,
    "start_time": "2022-07-31T12:26:06.558Z"
   },
   {
    "duration": 19,
    "start_time": "2022-07-31T12:26:06.563Z"
   },
   {
    "duration": 6,
    "start_time": "2022-07-31T12:26:06.585Z"
   },
   {
    "duration": 46,
    "start_time": "2022-07-31T12:26:06.592Z"
   },
   {
    "duration": 16,
    "start_time": "2022-07-31T12:26:06.640Z"
   },
   {
    "duration": 8,
    "start_time": "2022-07-31T12:26:06.658Z"
   },
   {
    "duration": 121,
    "start_time": "2022-07-31T12:26:06.668Z"
   },
   {
    "duration": 14,
    "start_time": "2022-07-31T12:26:06.792Z"
   },
   {
    "duration": 1,
    "start_time": "2022-07-31T12:26:06.826Z"
   },
   {
    "duration": 0,
    "start_time": "2022-07-31T12:26:06.828Z"
   },
   {
    "duration": 0,
    "start_time": "2022-07-31T12:26:06.829Z"
   },
   {
    "duration": 0,
    "start_time": "2022-07-31T12:26:06.829Z"
   },
   {
    "duration": 0,
    "start_time": "2022-07-31T12:26:06.830Z"
   },
   {
    "duration": 22,
    "start_time": "2022-07-31T12:26:18.228Z"
   },
   {
    "duration": 20,
    "start_time": "2022-07-31T12:26:36.325Z"
   },
   {
    "duration": 15,
    "start_time": "2022-07-31T12:26:41.444Z"
   },
   {
    "duration": 18,
    "start_time": "2022-07-31T12:27:15.265Z"
   },
   {
    "duration": 20,
    "start_time": "2022-07-31T12:27:39.163Z"
   },
   {
    "duration": 3,
    "start_time": "2022-07-31T12:27:46.036Z"
   },
   {
    "duration": 731,
    "start_time": "2022-07-31T12:27:46.042Z"
   },
   {
    "duration": 4,
    "start_time": "2022-07-31T12:27:46.774Z"
   },
   {
    "duration": 12,
    "start_time": "2022-07-31T12:27:46.780Z"
   },
   {
    "duration": 5,
    "start_time": "2022-07-31T12:27:46.794Z"
   },
   {
    "duration": 15,
    "start_time": "2022-07-31T12:27:46.826Z"
   },
   {
    "duration": 26,
    "start_time": "2022-07-31T12:27:46.843Z"
   },
   {
    "duration": 8,
    "start_time": "2022-07-31T12:27:46.872Z"
   },
   {
    "duration": 114,
    "start_time": "2022-07-31T12:27:46.882Z"
   },
   {
    "duration": 34,
    "start_time": "2022-07-31T12:27:46.998Z"
   },
   {
    "duration": 7,
    "start_time": "2022-07-31T12:27:47.034Z"
   },
   {
    "duration": 1059,
    "start_time": "2022-07-31T12:27:47.043Z"
   },
   {
    "duration": 0,
    "start_time": "2022-07-31T12:27:48.104Z"
   },
   {
    "duration": 0,
    "start_time": "2022-07-31T12:27:48.105Z"
   },
   {
    "duration": 0,
    "start_time": "2022-07-31T12:27:48.106Z"
   },
   {
    "duration": 12,
    "start_time": "2022-07-31T12:29:43.464Z"
   },
   {
    "duration": 6,
    "start_time": "2022-07-31T12:29:53.188Z"
   },
   {
    "duration": 5,
    "start_time": "2022-07-31T12:30:24.475Z"
   },
   {
    "duration": 156,
    "start_time": "2022-07-31T12:30:42.114Z"
   },
   {
    "duration": 13,
    "start_time": "2022-07-31T12:31:25.757Z"
   },
   {
    "duration": 12,
    "start_time": "2022-07-31T12:31:46.289Z"
   },
   {
    "duration": 98,
    "start_time": "2022-07-31T12:32:12.347Z"
   },
   {
    "duration": 12,
    "start_time": "2022-07-31T12:32:15.496Z"
   },
   {
    "duration": 1073,
    "start_time": "2022-07-31T12:32:37.868Z"
   },
   {
    "duration": 159,
    "start_time": "2022-07-31T12:32:49.597Z"
   },
   {
    "duration": 12,
    "start_time": "2022-07-31T12:33:06.414Z"
   },
   {
    "duration": 19,
    "start_time": "2022-07-31T12:33:10.417Z"
   },
   {
    "duration": 155,
    "start_time": "2022-07-31T12:33:18.237Z"
   },
   {
    "duration": 239,
    "start_time": "2022-07-31T12:34:03.967Z"
   },
   {
    "duration": 127,
    "start_time": "2022-07-31T12:34:52.548Z"
   },
   {
    "duration": 191,
    "start_time": "2022-07-31T12:35:00.552Z"
   },
   {
    "duration": 167,
    "start_time": "2022-07-31T12:35:04.622Z"
   },
   {
    "duration": 156,
    "start_time": "2022-07-31T12:35:11.252Z"
   },
   {
    "duration": 168,
    "start_time": "2022-07-31T12:35:15.542Z"
   },
   {
    "duration": 201,
    "start_time": "2022-07-31T12:35:18.837Z"
   },
   {
    "duration": 216,
    "start_time": "2022-07-31T12:36:05.971Z"
   },
   {
    "duration": 175,
    "start_time": "2022-07-31T12:36:14.417Z"
   },
   {
    "duration": 166,
    "start_time": "2022-07-31T12:37:02.841Z"
   },
   {
    "duration": 179,
    "start_time": "2022-07-31T12:38:00.154Z"
   },
   {
    "duration": 171,
    "start_time": "2022-07-31T12:38:06.068Z"
   },
   {
    "duration": 276,
    "start_time": "2022-07-31T12:38:21.577Z"
   },
   {
    "duration": 251,
    "start_time": "2022-07-31T12:38:28.988Z"
   },
   {
    "duration": 237,
    "start_time": "2022-07-31T12:38:36.028Z"
   },
   {
    "duration": 168,
    "start_time": "2022-07-31T12:38:43.368Z"
   },
   {
    "duration": 322,
    "start_time": "2022-07-31T12:38:49.454Z"
   },
   {
    "duration": 420,
    "start_time": "2022-07-31T12:38:56.039Z"
   },
   {
    "duration": 381,
    "start_time": "2022-07-31T12:39:16.287Z"
   },
   {
    "duration": 377,
    "start_time": "2022-07-31T12:42:52.790Z"
   },
   {
    "duration": 26,
    "start_time": "2022-07-31T12:44:08.990Z"
   },
   {
    "duration": 18,
    "start_time": "2022-07-31T12:48:32.440Z"
   },
   {
    "duration": 3,
    "start_time": "2022-07-31T12:48:37.500Z"
   },
   {
    "duration": 635,
    "start_time": "2022-07-31T12:48:37.529Z"
   },
   {
    "duration": 3,
    "start_time": "2022-07-31T12:48:38.166Z"
   },
   {
    "duration": 10,
    "start_time": "2022-07-31T12:48:38.171Z"
   },
   {
    "duration": 6,
    "start_time": "2022-07-31T12:48:38.183Z"
   },
   {
    "duration": 32,
    "start_time": "2022-07-31T12:48:38.192Z"
   },
   {
    "duration": 15,
    "start_time": "2022-07-31T12:48:38.225Z"
   },
   {
    "duration": 8,
    "start_time": "2022-07-31T12:48:38.242Z"
   },
   {
    "duration": 99,
    "start_time": "2022-07-31T12:48:38.252Z"
   },
   {
    "duration": 328,
    "start_time": "2022-07-31T12:48:38.352Z"
   },
   {
    "duration": 6,
    "start_time": "2022-07-31T12:48:38.683Z"
   },
   {
    "duration": 5,
    "start_time": "2022-07-31T12:48:38.691Z"
   },
   {
    "duration": 38,
    "start_time": "2022-07-31T12:48:38.698Z"
   },
   {
    "duration": 241,
    "start_time": "2022-07-31T12:48:38.737Z"
   },
   {
    "duration": 379,
    "start_time": "2022-07-31T12:48:38.982Z"
   },
   {
    "duration": 4,
    "start_time": "2022-07-31T12:48:39.363Z"
   },
   {
    "duration": 10,
    "start_time": "2022-07-31T12:56:28.692Z"
   },
   {
    "duration": 10,
    "start_time": "2022-07-31T12:56:36.042Z"
   },
   {
    "duration": 44,
    "start_time": "2022-07-31T12:57:48.873Z"
   },
   {
    "duration": 8,
    "start_time": "2022-07-31T12:57:54.541Z"
   },
   {
    "duration": 14,
    "start_time": "2022-07-31T12:58:04.859Z"
   },
   {
    "duration": 9,
    "start_time": "2022-07-31T12:58:12.062Z"
   },
   {
    "duration": 236,
    "start_time": "2022-07-31T12:58:42.592Z"
   },
   {
    "duration": 3,
    "start_time": "2022-07-31T13:05:01.766Z"
   },
   {
    "duration": 661,
    "start_time": "2022-07-31T13:05:01.771Z"
   },
   {
    "duration": 2,
    "start_time": "2022-07-31T13:05:02.434Z"
   },
   {
    "duration": 21,
    "start_time": "2022-07-31T13:05:02.438Z"
   },
   {
    "duration": 8,
    "start_time": "2022-07-31T13:05:02.461Z"
   },
   {
    "duration": 15,
    "start_time": "2022-07-31T13:05:02.470Z"
   },
   {
    "duration": 4,
    "start_time": "2022-07-31T13:05:02.487Z"
   },
   {
    "duration": 125,
    "start_time": "2022-07-31T13:05:02.522Z"
   },
   {
    "duration": 8,
    "start_time": "2022-07-31T13:05:02.649Z"
   },
   {
    "duration": 384,
    "start_time": "2022-07-31T13:05:02.659Z"
   },
   {
    "duration": 51,
    "start_time": "2022-07-31T13:05:03.045Z"
   },
   {
    "duration": 33,
    "start_time": "2022-07-31T13:05:03.099Z"
   },
   {
    "duration": 9,
    "start_time": "2022-07-31T13:05:03.134Z"
   },
   {
    "duration": 27,
    "start_time": "2022-07-31T13:05:03.146Z"
   },
   {
    "duration": 251,
    "start_time": "2022-07-31T13:05:03.175Z"
   },
   {
    "duration": 323,
    "start_time": "2022-07-31T13:05:03.428Z"
   },
   {
    "duration": 6,
    "start_time": "2022-07-31T13:05:03.754Z"
   },
   {
    "duration": 22,
    "start_time": "2022-07-31T13:05:15.234Z"
   },
   {
    "duration": 7,
    "start_time": "2022-07-31T13:05:16.114Z"
   },
   {
    "duration": 8,
    "start_time": "2022-07-31T13:05:35.624Z"
   },
   {
    "duration": 4,
    "start_time": "2022-07-31T13:05:38.274Z"
   },
   {
    "duration": 746,
    "start_time": "2022-07-31T13:05:38.280Z"
   },
   {
    "duration": 4,
    "start_time": "2022-07-31T13:05:39.028Z"
   },
   {
    "duration": 53,
    "start_time": "2022-07-31T13:05:39.034Z"
   },
   {
    "duration": 31,
    "start_time": "2022-07-31T13:05:39.090Z"
   },
   {
    "duration": 23,
    "start_time": "2022-07-31T13:05:39.123Z"
   },
   {
    "duration": 45,
    "start_time": "2022-07-31T13:05:39.149Z"
   },
   {
    "duration": 149,
    "start_time": "2022-07-31T13:05:39.198Z"
   },
   {
    "duration": 10,
    "start_time": "2022-07-31T13:05:39.350Z"
   },
   {
    "duration": 351,
    "start_time": "2022-07-31T13:05:39.362Z"
   },
   {
    "duration": 36,
    "start_time": "2022-07-31T13:05:39.723Z"
   },
   {
    "duration": 12,
    "start_time": "2022-07-31T13:05:39.761Z"
   },
   {
    "duration": 9,
    "start_time": "2022-07-31T13:05:39.775Z"
   },
   {
    "duration": 49,
    "start_time": "2022-07-31T13:05:39.786Z"
   },
   {
    "duration": 214,
    "start_time": "2022-07-31T13:05:39.837Z"
   },
   {
    "duration": 314,
    "start_time": "2022-07-31T13:05:40.053Z"
   },
   {
    "duration": 6,
    "start_time": "2022-07-31T13:05:40.369Z"
   },
   {
    "duration": 3,
    "start_time": "2022-07-31T13:05:48.014Z"
   },
   {
    "duration": 716,
    "start_time": "2022-07-31T13:05:48.019Z"
   },
   {
    "duration": 3,
    "start_time": "2022-07-31T13:05:48.737Z"
   },
   {
    "duration": 14,
    "start_time": "2022-07-31T13:05:48.743Z"
   },
   {
    "duration": 14,
    "start_time": "2022-07-31T13:05:48.760Z"
   },
   {
    "duration": 18,
    "start_time": "2022-07-31T13:05:48.776Z"
   },
   {
    "duration": 4,
    "start_time": "2022-07-31T13:05:48.796Z"
   },
   {
    "duration": 149,
    "start_time": "2022-07-31T13:05:48.824Z"
   },
   {
    "duration": 9,
    "start_time": "2022-07-31T13:05:48.975Z"
   },
   {
    "duration": 410,
    "start_time": "2022-07-31T13:05:48.986Z"
   },
   {
    "duration": 35,
    "start_time": "2022-07-31T13:05:49.399Z"
   },
   {
    "duration": 10,
    "start_time": "2022-07-31T13:05:49.436Z"
   },
   {
    "duration": 10,
    "start_time": "2022-07-31T13:05:49.447Z"
   },
   {
    "duration": 18,
    "start_time": "2022-07-31T13:05:49.459Z"
   },
   {
    "duration": 231,
    "start_time": "2022-07-31T13:05:49.479Z"
   },
   {
    "duration": 459,
    "start_time": "2022-07-31T13:05:49.712Z"
   },
   {
    "duration": 5,
    "start_time": "2022-07-31T13:05:50.173Z"
   },
   {
    "duration": 5,
    "start_time": "2022-07-31T13:25:35.740Z"
   },
   {
    "duration": 28,
    "start_time": "2022-07-31T13:29:22.087Z"
   },
   {
    "duration": 13,
    "start_time": "2022-07-31T13:29:39.664Z"
   },
   {
    "duration": 9,
    "start_time": "2022-07-31T13:29:57.677Z"
   },
   {
    "duration": 5,
    "start_time": "2022-07-31T13:30:03.429Z"
   },
   {
    "duration": 639,
    "start_time": "2022-07-31T13:30:03.436Z"
   },
   {
    "duration": 4,
    "start_time": "2022-07-31T13:30:04.077Z"
   },
   {
    "duration": 14,
    "start_time": "2022-07-31T13:30:04.082Z"
   },
   {
    "duration": 5,
    "start_time": "2022-07-31T13:30:04.099Z"
   },
   {
    "duration": 11,
    "start_time": "2022-07-31T13:30:04.124Z"
   },
   {
    "duration": 5,
    "start_time": "2022-07-31T13:30:04.136Z"
   },
   {
    "duration": 135,
    "start_time": "2022-07-31T13:30:04.143Z"
   },
   {
    "duration": 9,
    "start_time": "2022-07-31T13:30:04.279Z"
   },
   {
    "duration": 362,
    "start_time": "2022-07-31T13:30:04.289Z"
   },
   {
    "duration": 24,
    "start_time": "2022-07-31T13:30:04.653Z"
   },
   {
    "duration": 8,
    "start_time": "2022-07-31T13:30:04.679Z"
   },
   {
    "duration": 36,
    "start_time": "2022-07-31T13:30:04.689Z"
   },
   {
    "duration": 19,
    "start_time": "2022-07-31T13:30:04.727Z"
   },
   {
    "duration": 243,
    "start_time": "2022-07-31T13:30:04.749Z"
   },
   {
    "duration": 323,
    "start_time": "2022-07-31T13:30:04.994Z"
   },
   {
    "duration": 9,
    "start_time": "2022-07-31T13:30:05.318Z"
   },
   {
    "duration": 9,
    "start_time": "2022-07-31T13:30:05.329Z"
   },
   {
    "duration": 18,
    "start_time": "2022-07-31T13:30:05.340Z"
   },
   {
    "duration": 9,
    "start_time": "2022-07-31T13:31:11.426Z"
   },
   {
    "duration": 3,
    "start_time": "2022-07-31T13:31:15.199Z"
   },
   {
    "duration": 6,
    "start_time": "2022-07-31T13:32:02.376Z"
   },
   {
    "duration": 22,
    "start_time": "2022-07-31T13:32:58.627Z"
   },
   {
    "duration": 24,
    "start_time": "2022-07-31T13:33:02.219Z"
   },
   {
    "duration": 9,
    "start_time": "2022-07-31T13:33:06.290Z"
   },
   {
    "duration": 6,
    "start_time": "2022-07-31T13:33:07.897Z"
   },
   {
    "duration": 10,
    "start_time": "2022-07-31T13:33:13.121Z"
   },
   {
    "duration": 5,
    "start_time": "2022-07-31T13:42:24.977Z"
   },
   {
    "duration": 7,
    "start_time": "2022-07-31T14:30:56.635Z"
   },
   {
    "duration": 12,
    "start_time": "2022-07-31T14:30:57.438Z"
   },
   {
    "duration": 55,
    "start_time": "2022-07-31T14:31:03.293Z"
   },
   {
    "duration": 370,
    "start_time": "2022-07-31T14:31:48.424Z"
   },
   {
    "duration": 479,
    "start_time": "2022-07-31T14:31:58.331Z"
   },
   {
    "duration": 9,
    "start_time": "2022-07-31T14:32:17.003Z"
   },
   {
    "duration": 92,
    "start_time": "2022-07-31T14:32:19.732Z"
   },
   {
    "duration": 18,
    "start_time": "2022-07-31T15:20:40.212Z"
   },
   {
    "duration": 2,
    "start_time": "2022-07-31T15:20:47.177Z"
   },
   {
    "duration": 13,
    "start_time": "2022-07-31T15:24:15.755Z"
   },
   {
    "duration": 12,
    "start_time": "2022-07-31T15:24:39.433Z"
   },
   {
    "duration": 21,
    "start_time": "2022-07-31T15:24:54.304Z"
   },
   {
    "duration": 22,
    "start_time": "2022-07-31T15:25:15.995Z"
   },
   {
    "duration": 986,
    "start_time": "2022-07-31T15:25:22.339Z"
   },
   {
    "duration": 9,
    "start_time": "2022-07-31T15:26:07.850Z"
   },
   {
    "duration": 3,
    "start_time": "2022-07-31T15:26:08.491Z"
   },
   {
    "duration": 120,
    "start_time": "2022-07-31T15:26:08.997Z"
   },
   {
    "duration": 298,
    "start_time": "2022-07-31T15:26:16.534Z"
   },
   {
    "duration": 3,
    "start_time": "2022-07-31T15:26:28.774Z"
   },
   {
    "duration": 9,
    "start_time": "2022-07-31T15:26:29.162Z"
   },
   {
    "duration": 3,
    "start_time": "2022-07-31T15:26:29.466Z"
   },
   {
    "duration": 168,
    "start_time": "2022-07-31T15:26:30.064Z"
   },
   {
    "duration": 3,
    "start_time": "2022-07-31T15:26:43.412Z"
   },
   {
    "duration": 8,
    "start_time": "2022-07-31T15:26:43.702Z"
   },
   {
    "duration": 3,
    "start_time": "2022-07-31T15:26:44.061Z"
   },
   {
    "duration": 2173,
    "start_time": "2022-07-31T15:26:44.451Z"
   },
   {
    "duration": 9,
    "start_time": "2022-07-31T15:27:07.055Z"
   },
   {
    "duration": 3,
    "start_time": "2022-07-31T15:27:07.424Z"
   },
   {
    "duration": 4235,
    "start_time": "2022-07-31T15:27:08.033Z"
   },
   {
    "duration": 3062,
    "start_time": "2022-07-31T15:28:52.061Z"
   },
   {
    "duration": 942,
    "start_time": "2022-07-31T15:29:22.586Z"
   },
   {
    "duration": 4,
    "start_time": "2022-07-31T15:59:34.272Z"
   },
   {
    "duration": 8,
    "start_time": "2022-07-31T15:59:34.646Z"
   },
   {
    "duration": 1823,
    "start_time": "2022-07-31T15:59:34.904Z"
   },
   {
    "duration": 3,
    "start_time": "2022-07-31T16:01:28.523Z"
   },
   {
    "duration": 9,
    "start_time": "2022-07-31T16:01:29.097Z"
   },
   {
    "duration": 1384,
    "start_time": "2022-07-31T16:01:29.944Z"
   },
   {
    "duration": 3,
    "start_time": "2022-07-31T16:01:39.581Z"
   },
   {
    "duration": 9,
    "start_time": "2022-07-31T16:01:39.869Z"
   },
   {
    "duration": 2638,
    "start_time": "2022-07-31T16:01:40.201Z"
   },
   {
    "duration": 8,
    "start_time": "2022-07-31T16:02:02.222Z"
   },
   {
    "duration": 8,
    "start_time": "2022-07-31T16:02:02.803Z"
   },
   {
    "duration": 1353,
    "start_time": "2022-07-31T16:02:03.477Z"
   },
   {
    "duration": 3,
    "start_time": "2022-07-31T16:02:27.083Z"
   },
   {
    "duration": 8,
    "start_time": "2022-07-31T16:02:28.182Z"
   },
   {
    "duration": 1736,
    "start_time": "2022-07-31T16:02:30.192Z"
   },
   {
    "duration": 3,
    "start_time": "2022-07-31T16:02:49.153Z"
   },
   {
    "duration": 9,
    "start_time": "2022-07-31T16:02:49.740Z"
   },
   {
    "duration": 1286,
    "start_time": "2022-07-31T16:02:50.440Z"
   },
   {
    "duration": 2,
    "start_time": "2022-07-31T16:02:56.805Z"
   },
   {
    "duration": 7,
    "start_time": "2022-07-31T16:02:57.382Z"
   },
   {
    "duration": 1108,
    "start_time": "2022-07-31T16:02:57.940Z"
   },
   {
    "duration": 3,
    "start_time": "2022-07-31T16:03:05.083Z"
   },
   {
    "duration": 8,
    "start_time": "2022-07-31T16:03:05.356Z"
   },
   {
    "duration": 1883,
    "start_time": "2022-07-31T16:03:05.644Z"
   },
   {
    "duration": 4,
    "start_time": "2022-07-31T16:03:17.493Z"
   },
   {
    "duration": 8,
    "start_time": "2022-07-31T16:03:17.983Z"
   },
   {
    "duration": 2645,
    "start_time": "2022-07-31T16:03:18.488Z"
   },
   {
    "duration": 4,
    "start_time": "2022-07-31T16:03:55.023Z"
   },
   {
    "duration": 4,
    "start_time": "2022-07-31T16:03:58.557Z"
   },
   {
    "duration": 9,
    "start_time": "2022-07-31T16:03:58.865Z"
   },
   {
    "duration": 1063,
    "start_time": "2022-07-31T16:03:59.166Z"
   },
   {
    "duration": 3,
    "start_time": "2022-07-31T16:04:28.838Z"
   },
   {
    "duration": 10,
    "start_time": "2022-07-31T16:04:29.091Z"
   },
   {
    "duration": 379,
    "start_time": "2022-07-31T16:04:29.348Z"
   },
   {
    "duration": 3,
    "start_time": "2022-07-31T16:04:34.138Z"
   },
   {
    "duration": 8,
    "start_time": "2022-07-31T16:04:34.364Z"
   },
   {
    "duration": 1985,
    "start_time": "2022-07-31T16:04:34.655Z"
   },
   {
    "duration": 1340,
    "start_time": "2022-07-31T16:05:04.683Z"
   },
   {
    "duration": 4,
    "start_time": "2022-07-31T16:05:39.215Z"
   },
   {
    "duration": 9,
    "start_time": "2022-07-31T16:05:39.788Z"
   },
   {
    "duration": 1594,
    "start_time": "2022-07-31T16:05:40.037Z"
   },
   {
    "duration": 3,
    "start_time": "2022-07-31T16:08:16.203Z"
   },
   {
    "duration": 10,
    "start_time": "2022-07-31T16:08:42.759Z"
   },
   {
    "duration": 25,
    "start_time": "2022-07-31T16:08:58.149Z"
   },
   {
    "duration": 13,
    "start_time": "2022-07-31T16:09:01.882Z"
   },
   {
    "duration": 5203,
    "start_time": "2022-07-31T16:09:22.736Z"
   },
   {
    "duration": 5207,
    "start_time": "2022-07-31T16:09:29.036Z"
   },
   {
    "duration": 9,
    "start_time": "2022-07-31T16:19:37.771Z"
   },
   {
    "duration": 1485,
    "start_time": "2022-07-31T16:19:43.042Z"
   },
   {
    "duration": 4,
    "start_time": "2022-07-31T16:22:18.573Z"
   },
   {
    "duration": 1567,
    "start_time": "2022-07-31T16:33:48.157Z"
   },
   {
    "duration": 3,
    "start_time": "2022-07-31T16:34:01.389Z"
   },
   {
    "duration": 8,
    "start_time": "2022-07-31T16:34:01.666Z"
   },
   {
    "duration": 1709,
    "start_time": "2022-07-31T16:34:02.016Z"
   },
   {
    "duration": 3,
    "start_time": "2022-07-31T16:34:54.965Z"
   },
   {
    "duration": 9,
    "start_time": "2022-07-31T16:34:55.728Z"
   },
   {
    "duration": 1617,
    "start_time": "2022-07-31T16:34:56.508Z"
   },
   {
    "duration": 4,
    "start_time": "2022-07-31T16:35:13.964Z"
   },
   {
    "duration": 8,
    "start_time": "2022-07-31T16:35:14.257Z"
   },
   {
    "duration": 2021,
    "start_time": "2022-07-31T16:35:14.509Z"
   },
   {
    "duration": 3,
    "start_time": "2022-07-31T16:38:02.241Z"
   },
   {
    "duration": 8,
    "start_time": "2022-07-31T16:38:02.580Z"
   },
   {
    "duration": 1224,
    "start_time": "2022-07-31T16:38:02.800Z"
   },
   {
    "duration": 3,
    "start_time": "2022-07-31T16:39:04.535Z"
   },
   {
    "duration": 9,
    "start_time": "2022-07-31T16:39:04.850Z"
   },
   {
    "duration": 2677,
    "start_time": "2022-07-31T16:39:05.046Z"
   },
   {
    "duration": 4,
    "start_time": "2022-07-31T16:39:10.971Z"
   },
   {
    "duration": 10,
    "start_time": "2022-07-31T16:39:11.241Z"
   },
   {
    "duration": 3686,
    "start_time": "2022-07-31T16:39:11.560Z"
   },
   {
    "duration": 3,
    "start_time": "2022-07-31T16:41:50.702Z"
   },
   {
    "duration": 8,
    "start_time": "2022-07-31T16:41:51.001Z"
   },
   {
    "duration": 1322,
    "start_time": "2022-07-31T16:41:51.402Z"
   },
   {
    "duration": 3,
    "start_time": "2022-07-31T16:42:01.306Z"
   },
   {
    "duration": 10,
    "start_time": "2022-07-31T16:42:01.632Z"
   },
   {
    "duration": 1335,
    "start_time": "2022-07-31T16:42:01.993Z"
   },
   {
    "duration": 1577,
    "start_time": "2022-07-31T16:42:11.048Z"
   },
   {
    "duration": 4,
    "start_time": "2022-07-31T16:42:13.441Z"
   },
   {
    "duration": 10,
    "start_time": "2022-07-31T16:42:13.690Z"
   },
   {
    "duration": 1216,
    "start_time": "2022-07-31T16:42:13.921Z"
   },
   {
    "duration": 1422,
    "start_time": "2022-07-31T16:43:34.801Z"
   },
   {
    "duration": 2672,
    "start_time": "2022-07-31T16:43:43.956Z"
   },
   {
    "duration": 74,
    "start_time": "2022-07-31T16:47:41.537Z"
   },
   {
    "duration": 11,
    "start_time": "2022-07-31T16:48:08.393Z"
   },
   {
    "duration": 13,
    "start_time": "2022-07-31T16:48:30.967Z"
   },
   {
    "duration": 0,
    "start_time": "2022-07-31T16:53:37.127Z"
   },
   {
    "duration": 4,
    "start_time": "2022-07-31T16:54:12.167Z"
   },
   {
    "duration": 251084,
    "start_time": "2022-07-31T16:54:15.313Z"
   },
   {
    "duration": 8946,
    "start_time": "2022-07-31T16:58:46.095Z"
   },
   {
    "duration": 8139,
    "start_time": "2022-07-31T16:59:30.473Z"
   },
   {
    "duration": 17043,
    "start_time": "2022-07-31T16:59:54.509Z"
   },
   {
    "duration": 38004,
    "start_time": "2022-07-31T17:01:45.662Z"
   },
   {
    "duration": 57138,
    "start_time": "2022-07-31T17:02:39.599Z"
   },
   {
    "duration": 13,
    "start_time": "2022-07-31T17:08:51.256Z"
   },
   {
    "duration": 3427,
    "start_time": "2022-07-31T17:08:58.607Z"
   },
   {
    "duration": 20149,
    "start_time": "2022-07-31T17:09:02.036Z"
   },
   {
    "duration": 0,
    "start_time": "2022-07-31T17:11:41.846Z"
   },
   {
    "duration": 54386,
    "start_time": "2022-07-31T17:11:44.687Z"
   },
   {
    "duration": 59913,
    "start_time": "2022-07-31T17:13:46.562Z"
   },
   {
    "duration": 6633,
    "start_time": "2022-07-31T17:14:58.847Z"
   },
   {
    "duration": 80201,
    "start_time": "2022-07-31T17:15:07.128Z"
   },
   {
    "duration": 82008,
    "start_time": "2022-07-31T17:17:00.691Z"
   },
   {
    "duration": 92834,
    "start_time": "2022-07-31T17:21:07.371Z"
   },
   {
    "duration": 46,
    "start_time": "2022-07-31T17:22:40.207Z"
   },
   {
    "duration": 25,
    "start_time": "2022-07-31T18:03:49.711Z"
   },
   {
    "duration": 4,
    "start_time": "2022-07-31T18:03:54.882Z"
   },
   {
    "duration": 814,
    "start_time": "2022-07-31T18:03:54.888Z"
   },
   {
    "duration": 3,
    "start_time": "2022-07-31T18:03:55.704Z"
   },
   {
    "duration": 22,
    "start_time": "2022-07-31T18:03:55.709Z"
   },
   {
    "duration": 17,
    "start_time": "2022-07-31T18:03:55.733Z"
   },
   {
    "duration": 24,
    "start_time": "2022-07-31T18:03:55.753Z"
   },
   {
    "duration": 6,
    "start_time": "2022-07-31T18:03:55.779Z"
   },
   {
    "duration": 138,
    "start_time": "2022-07-31T18:03:55.787Z"
   },
   {
    "duration": 10,
    "start_time": "2022-07-31T18:03:55.928Z"
   },
   {
    "duration": 434,
    "start_time": "2022-07-31T18:03:55.941Z"
   },
   {
    "duration": 47,
    "start_time": "2022-07-31T18:03:56.377Z"
   },
   {
    "duration": 9,
    "start_time": "2022-07-31T18:03:56.426Z"
   },
   {
    "duration": 20,
    "start_time": "2022-07-31T18:03:56.437Z"
   },
   {
    "duration": 26,
    "start_time": "2022-07-31T18:03:56.459Z"
   },
   {
    "duration": 283,
    "start_time": "2022-07-31T18:03:56.487Z"
   },
   {
    "duration": 392,
    "start_time": "2022-07-31T18:03:56.772Z"
   },
   {
    "duration": 8,
    "start_time": "2022-07-31T18:03:57.166Z"
   },
   {
    "duration": 7,
    "start_time": "2022-07-31T18:03:57.175Z"
   },
   {
    "duration": 46,
    "start_time": "2022-07-31T18:03:57.184Z"
   },
   {
    "duration": 0,
    "start_time": "2022-07-31T18:03:57.232Z"
   },
   {
    "duration": 0,
    "start_time": "2022-07-31T18:03:57.233Z"
   },
   {
    "duration": 0,
    "start_time": "2022-07-31T18:03:57.234Z"
   },
   {
    "duration": 23,
    "start_time": "2022-07-31T18:04:19.952Z"
   },
   {
    "duration": 5,
    "start_time": "2022-07-31T18:04:25.542Z"
   },
   {
    "duration": 729,
    "start_time": "2022-07-31T18:04:25.549Z"
   },
   {
    "duration": 4,
    "start_time": "2022-07-31T18:04:26.279Z"
   },
   {
    "duration": 43,
    "start_time": "2022-07-31T18:04:26.285Z"
   },
   {
    "duration": 25,
    "start_time": "2022-07-31T18:04:26.330Z"
   },
   {
    "duration": 48,
    "start_time": "2022-07-31T18:04:26.357Z"
   },
   {
    "duration": 35,
    "start_time": "2022-07-31T18:04:26.407Z"
   },
   {
    "duration": 287,
    "start_time": "2022-07-31T18:04:26.445Z"
   },
   {
    "duration": 11,
    "start_time": "2022-07-31T18:04:26.734Z"
   },
   {
    "duration": 367,
    "start_time": "2022-07-31T18:04:26.747Z"
   },
   {
    "duration": 29,
    "start_time": "2022-07-31T18:04:27.117Z"
   },
   {
    "duration": 9,
    "start_time": "2022-07-31T18:04:27.148Z"
   },
   {
    "duration": 7,
    "start_time": "2022-07-31T18:04:27.159Z"
   },
   {
    "duration": 61,
    "start_time": "2022-07-31T18:04:27.170Z"
   },
   {
    "duration": 230,
    "start_time": "2022-07-31T18:04:27.233Z"
   },
   {
    "duration": 372,
    "start_time": "2022-07-31T18:04:27.466Z"
   },
   {
    "duration": 6,
    "start_time": "2022-07-31T18:04:27.839Z"
   },
   {
    "duration": 10,
    "start_time": "2022-07-31T18:04:27.847Z"
   },
   {
    "duration": 28,
    "start_time": "2022-07-31T18:04:27.859Z"
   },
   {
    "duration": 0,
    "start_time": "2022-07-31T18:04:27.889Z"
   },
   {
    "duration": 0,
    "start_time": "2022-07-31T18:04:27.891Z"
   },
   {
    "duration": 0,
    "start_time": "2022-07-31T18:04:27.894Z"
   },
   {
    "duration": 20,
    "start_time": "2022-07-31T18:04:54.302Z"
   },
   {
    "duration": 4,
    "start_time": "2022-07-31T18:05:08.639Z"
   },
   {
    "duration": 824,
    "start_time": "2022-07-31T18:05:08.646Z"
   },
   {
    "duration": 3,
    "start_time": "2022-07-31T18:05:09.472Z"
   },
   {
    "duration": 38,
    "start_time": "2022-07-31T18:05:09.478Z"
   },
   {
    "duration": 39,
    "start_time": "2022-07-31T18:05:09.519Z"
   },
   {
    "duration": 37,
    "start_time": "2022-07-31T18:05:09.560Z"
   },
   {
    "duration": 18,
    "start_time": "2022-07-31T18:05:09.599Z"
   },
   {
    "duration": 144,
    "start_time": "2022-07-31T18:05:09.618Z"
   },
   {
    "duration": 10,
    "start_time": "2022-07-31T18:05:09.764Z"
   },
   {
    "duration": 382,
    "start_time": "2022-07-31T18:05:09.776Z"
   },
   {
    "duration": 24,
    "start_time": "2022-07-31T18:05:10.159Z"
   },
   {
    "duration": 12,
    "start_time": "2022-07-31T18:05:10.185Z"
   },
   {
    "duration": 27,
    "start_time": "2022-07-31T18:05:10.199Z"
   },
   {
    "duration": 35,
    "start_time": "2022-07-31T18:05:10.229Z"
   },
   {
    "duration": 223,
    "start_time": "2022-07-31T18:05:10.266Z"
   },
   {
    "duration": 379,
    "start_time": "2022-07-31T18:05:10.491Z"
   },
   {
    "duration": 8,
    "start_time": "2022-07-31T18:05:10.872Z"
   },
   {
    "duration": 29,
    "start_time": "2022-07-31T18:05:10.882Z"
   },
   {
    "duration": 48,
    "start_time": "2022-07-31T18:05:10.913Z"
   },
   {
    "duration": 0,
    "start_time": "2022-07-31T18:05:10.963Z"
   },
   {
    "duration": 0,
    "start_time": "2022-07-31T18:05:10.964Z"
   },
   {
    "duration": 0,
    "start_time": "2022-07-31T18:05:10.965Z"
   },
   {
    "duration": 9,
    "start_time": "2022-07-31T18:06:00.301Z"
   },
   {
    "duration": 12,
    "start_time": "2022-07-31T18:06:05.381Z"
   },
   {
    "duration": 726,
    "start_time": "2022-07-31T18:06:21.187Z"
   },
   {
    "duration": 14,
    "start_time": "2022-07-31T18:06:29.052Z"
   },
   {
    "duration": 4,
    "start_time": "2022-07-31T18:06:37.349Z"
   },
   {
    "duration": 29,
    "start_time": "2022-07-31T18:06:43.812Z"
   },
   {
    "duration": 18,
    "start_time": "2022-07-31T18:06:49.531Z"
   },
   {
    "duration": 2964,
    "start_time": "2022-07-31T18:06:53.372Z"
   },
   {
    "duration": 92092,
    "start_time": "2022-07-31T18:07:09.571Z"
   },
   {
    "duration": 4670,
    "start_time": "2022-07-31T18:08:58.461Z"
   },
   {
    "duration": 49551,
    "start_time": "2022-07-31T18:09:05.282Z"
   },
   {
    "duration": 6,
    "start_time": "2022-07-31T18:28:23.654Z"
   },
   {
    "duration": 24,
    "start_time": "2022-07-31T18:30:33.469Z"
   },
   {
    "duration": 554,
    "start_time": "2022-07-31T18:31:26.473Z"
   },
   {
    "duration": 969,
    "start_time": "2022-07-31T18:31:44.259Z"
   },
   {
    "duration": 1134,
    "start_time": "2022-07-31T18:33:18.192Z"
   },
   {
    "duration": 933,
    "start_time": "2022-07-31T18:35:06.798Z"
   },
   {
    "duration": 954,
    "start_time": "2022-07-31T18:35:17.670Z"
   },
   {
    "duration": 1018,
    "start_time": "2022-07-31T18:35:28.314Z"
   },
   {
    "duration": 4,
    "start_time": "2022-07-31T18:35:50.099Z"
   },
   {
    "duration": 43294,
    "start_time": "2022-07-31T18:36:51.234Z"
   },
   {
    "duration": 11,
    "start_time": "2022-07-31T18:38:15.149Z"
   },
   {
    "duration": 4,
    "start_time": "2022-07-31T18:38:33.507Z"
   },
   {
    "duration": 5907,
    "start_time": "2022-07-31T18:38:37.276Z"
   },
   {
    "duration": 11,
    "start_time": "2022-07-31T18:39:23.624Z"
   },
   {
    "duration": 0,
    "start_time": "2022-07-31T18:40:42.851Z"
   },
   {
    "duration": 8626,
    "start_time": "2022-07-31T18:41:28.706Z"
   },
   {
    "duration": 10,
    "start_time": "2022-07-31T18:41:57.746Z"
   },
   {
    "duration": 52,
    "start_time": "2022-08-01T14:20:07.421Z"
   },
   {
    "duration": 1671,
    "start_time": "2022-08-01T14:20:16.867Z"
   },
   {
    "duration": 1979,
    "start_time": "2022-08-01T14:20:18.540Z"
   },
   {
    "duration": 3,
    "start_time": "2022-08-01T14:20:20.520Z"
   },
   {
    "duration": 13,
    "start_time": "2022-08-01T14:20:20.524Z"
   },
   {
    "duration": 4,
    "start_time": "2022-08-01T14:20:20.538Z"
   },
   {
    "duration": 19,
    "start_time": "2022-08-01T14:20:20.543Z"
   },
   {
    "duration": 4,
    "start_time": "2022-08-01T14:20:20.564Z"
   },
   {
    "duration": 105,
    "start_time": "2022-08-01T14:20:20.570Z"
   },
   {
    "duration": 8,
    "start_time": "2022-08-01T14:20:20.676Z"
   },
   {
    "duration": 328,
    "start_time": "2022-08-01T14:20:20.685Z"
   },
   {
    "duration": 22,
    "start_time": "2022-08-01T14:20:21.015Z"
   },
   {
    "duration": 27,
    "start_time": "2022-08-01T14:20:21.039Z"
   },
   {
    "duration": 9,
    "start_time": "2022-08-01T14:20:21.068Z"
   },
   {
    "duration": 17,
    "start_time": "2022-08-01T14:20:21.079Z"
   },
   {
    "duration": 187,
    "start_time": "2022-08-01T14:20:21.098Z"
   },
   {
    "duration": 291,
    "start_time": "2022-08-01T14:20:21.286Z"
   },
   {
    "duration": 5,
    "start_time": "2022-08-01T14:20:21.578Z"
   },
   {
    "duration": 6,
    "start_time": "2022-08-01T14:20:21.584Z"
   },
   {
    "duration": 13,
    "start_time": "2022-08-01T14:20:21.591Z"
   },
   {
    "duration": 89,
    "start_time": "2022-08-01T14:20:21.605Z"
   },
   {
    "duration": 0,
    "start_time": "2022-08-01T14:20:21.696Z"
   },
   {
    "duration": 14,
    "start_time": "2022-08-01T14:20:57.989Z"
   },
   {
    "duration": 1408,
    "start_time": "2022-08-01T14:21:13.373Z"
   },
   {
    "duration": 19,
    "start_time": "2022-08-01T14:21:31.001Z"
   },
   {
    "duration": 1436,
    "start_time": "2022-08-01T14:24:03.068Z"
   },
   {
    "duration": 26,
    "start_time": "2022-08-01T14:24:23.528Z"
   },
   {
    "duration": 6,
    "start_time": "2022-08-01T14:24:43.067Z"
   },
   {
    "duration": 791,
    "start_time": "2022-08-01T14:24:43.075Z"
   },
   {
    "duration": 3,
    "start_time": "2022-08-01T14:24:43.870Z"
   },
   {
    "duration": 24,
    "start_time": "2022-08-01T14:24:43.874Z"
   },
   {
    "duration": 32,
    "start_time": "2022-08-01T14:24:43.900Z"
   },
   {
    "duration": 35,
    "start_time": "2022-08-01T14:24:43.934Z"
   },
   {
    "duration": 11,
    "start_time": "2022-08-01T14:24:43.972Z"
   },
   {
    "duration": 121,
    "start_time": "2022-08-01T14:24:43.984Z"
   },
   {
    "duration": 8,
    "start_time": "2022-08-01T14:24:44.107Z"
   },
   {
    "duration": 353,
    "start_time": "2022-08-01T14:24:44.117Z"
   },
   {
    "duration": 23,
    "start_time": "2022-08-01T14:24:44.472Z"
   },
   {
    "duration": 7,
    "start_time": "2022-08-01T14:24:44.497Z"
   },
   {
    "duration": 9,
    "start_time": "2022-08-01T14:24:44.506Z"
   },
   {
    "duration": 42,
    "start_time": "2022-08-01T14:24:44.518Z"
   },
   {
    "duration": 348,
    "start_time": "2022-08-01T14:24:44.562Z"
   },
   {
    "duration": 366,
    "start_time": "2022-08-01T14:24:44.914Z"
   },
   {
    "duration": 5,
    "start_time": "2022-08-01T14:24:45.282Z"
   },
   {
    "duration": 5,
    "start_time": "2022-08-01T14:24:45.289Z"
   },
   {
    "duration": 10,
    "start_time": "2022-08-01T14:24:45.295Z"
   },
   {
    "duration": 17,
    "start_time": "2022-08-01T14:25:13.164Z"
   },
   {
    "duration": 641,
    "start_time": "2022-08-01T14:25:31.187Z"
   },
   {
    "duration": 804,
    "start_time": "2022-08-01T14:26:02.118Z"
   },
   {
    "duration": 1372,
    "start_time": "2022-08-01T14:27:02.946Z"
   },
   {
    "duration": 78,
    "start_time": "2022-08-01T14:27:18.024Z"
   },
   {
    "duration": 15,
    "start_time": "2022-08-01T14:27:21.835Z"
   },
   {
    "duration": 14,
    "start_time": "2022-08-01T14:27:35.188Z"
   },
   {
    "duration": 16,
    "start_time": "2022-08-01T14:28:03.031Z"
   },
   {
    "duration": 17,
    "start_time": "2022-08-01T14:28:03.844Z"
   },
   {
    "duration": 2,
    "start_time": "2022-08-01T14:31:49.094Z"
   },
   {
    "duration": 28,
    "start_time": "2022-08-01T14:34:10.785Z"
   },
   {
    "duration": 7,
    "start_time": "2022-08-01T14:34:25.325Z"
   },
   {
    "duration": 726,
    "start_time": "2022-08-01T14:34:25.334Z"
   },
   {
    "duration": 5,
    "start_time": "2022-08-01T14:34:26.065Z"
   },
   {
    "duration": 17,
    "start_time": "2022-08-01T14:34:26.072Z"
   },
   {
    "duration": 6,
    "start_time": "2022-08-01T14:34:26.092Z"
   },
   {
    "duration": 16,
    "start_time": "2022-08-01T14:34:26.100Z"
   },
   {
    "duration": 5,
    "start_time": "2022-08-01T14:34:26.118Z"
   },
   {
    "duration": 147,
    "start_time": "2022-08-01T14:34:26.126Z"
   },
   {
    "duration": 9,
    "start_time": "2022-08-01T14:34:26.275Z"
   },
   {
    "duration": 344,
    "start_time": "2022-08-01T14:34:26.286Z"
   },
   {
    "duration": 33,
    "start_time": "2022-08-01T14:34:26.631Z"
   },
   {
    "duration": 7,
    "start_time": "2022-08-01T14:34:26.668Z"
   },
   {
    "duration": 7,
    "start_time": "2022-08-01T14:34:26.677Z"
   },
   {
    "duration": 15,
    "start_time": "2022-08-01T14:34:26.686Z"
   },
   {
    "duration": 219,
    "start_time": "2022-08-01T14:34:26.702Z"
   },
   {
    "duration": 314,
    "start_time": "2022-08-01T14:34:26.923Z"
   },
   {
    "duration": 14,
    "start_time": "2022-08-01T14:34:27.239Z"
   },
   {
    "duration": 3,
    "start_time": "2022-08-01T14:34:27.254Z"
   },
   {
    "duration": 15,
    "start_time": "2022-08-01T14:34:27.264Z"
   },
   {
    "duration": 16,
    "start_time": "2022-08-01T14:34:27.281Z"
   },
   {
    "duration": 33,
    "start_time": "2022-08-01T14:34:43.936Z"
   },
   {
    "duration": 19,
    "start_time": "2022-08-01T14:35:02.170Z"
   },
   {
    "duration": 27,
    "start_time": "2022-08-01T14:35:27.685Z"
   },
   {
    "duration": 13,
    "start_time": "2022-08-01T14:35:37.630Z"
   },
   {
    "duration": 12,
    "start_time": "2022-08-01T14:35:49.231Z"
   },
   {
    "duration": 27,
    "start_time": "2022-08-01T14:36:01.096Z"
   },
   {
    "duration": 4,
    "start_time": "2022-08-01T14:36:22.183Z"
   },
   {
    "duration": 669,
    "start_time": "2022-08-01T14:36:22.189Z"
   },
   {
    "duration": 4,
    "start_time": "2022-08-01T14:36:22.859Z"
   },
   {
    "duration": 11,
    "start_time": "2022-08-01T14:36:22.868Z"
   },
   {
    "duration": 7,
    "start_time": "2022-08-01T14:36:22.880Z"
   },
   {
    "duration": 13,
    "start_time": "2022-08-01T14:36:22.889Z"
   },
   {
    "duration": 4,
    "start_time": "2022-08-01T14:36:22.904Z"
   },
   {
    "duration": 119,
    "start_time": "2022-08-01T14:36:22.909Z"
   },
   {
    "duration": 8,
    "start_time": "2022-08-01T14:36:23.030Z"
   },
   {
    "duration": 336,
    "start_time": "2022-08-01T14:36:23.052Z"
   },
   {
    "duration": 21,
    "start_time": "2022-08-01T14:36:23.390Z"
   },
   {
    "duration": 6,
    "start_time": "2022-08-01T14:36:23.412Z"
   },
   {
    "duration": 6,
    "start_time": "2022-08-01T14:36:23.420Z"
   },
   {
    "duration": 44,
    "start_time": "2022-08-01T14:36:23.428Z"
   },
   {
    "duration": 211,
    "start_time": "2022-08-01T14:36:23.473Z"
   },
   {
    "duration": 316,
    "start_time": "2022-08-01T14:36:23.686Z"
   },
   {
    "duration": 5,
    "start_time": "2022-08-01T14:36:24.005Z"
   },
   {
    "duration": 7,
    "start_time": "2022-08-01T14:36:24.012Z"
   },
   {
    "duration": 11,
    "start_time": "2022-08-01T14:36:24.020Z"
   },
   {
    "duration": 19,
    "start_time": "2022-08-01T14:36:27.950Z"
   },
   {
    "duration": 39,
    "start_time": "2022-08-01T14:36:34.751Z"
   },
   {
    "duration": 4,
    "start_time": "2022-08-01T14:37:26.093Z"
   },
   {
    "duration": 8,
    "start_time": "2022-08-01T14:40:32.585Z"
   },
   {
    "duration": 3,
    "start_time": "2022-08-01T14:40:57.067Z"
   },
   {
    "duration": 10,
    "start_time": "2022-08-01T14:48:45.498Z"
   },
   {
    "duration": 9,
    "start_time": "2022-08-01T14:48:54.672Z"
   },
   {
    "duration": 4,
    "start_time": "2022-08-01T14:49:11.179Z"
   },
   {
    "duration": 2447,
    "start_time": "2022-08-01T14:49:15.014Z"
   },
   {
    "duration": 4736,
    "start_time": "2022-08-01T14:49:43.836Z"
   },
   {
    "duration": 4859,
    "start_time": "2022-08-01T14:50:06.896Z"
   },
   {
    "duration": 74,
    "start_time": "2022-08-01T14:51:42.467Z"
   },
   {
    "duration": 6,
    "start_time": "2022-08-01T14:51:50.580Z"
   },
   {
    "duration": 9,
    "start_time": "2022-08-01T14:59:55.563Z"
   },
   {
    "duration": 16,
    "start_time": "2022-08-01T15:00:02.550Z"
   },
   {
    "duration": 2774,
    "start_time": "2022-08-01T15:00:37.862Z"
   },
   {
    "duration": 2917,
    "start_time": "2022-08-01T15:00:55.785Z"
   },
   {
    "duration": 2822,
    "start_time": "2022-08-01T15:01:19.071Z"
   },
   {
    "duration": 4565,
    "start_time": "2022-08-01T15:02:41.894Z"
   },
   {
    "duration": 2596,
    "start_time": "2022-08-01T15:03:33.679Z"
   },
   {
    "duration": 2466,
    "start_time": "2022-08-01T15:03:44.769Z"
   },
   {
    "duration": 4658,
    "start_time": "2022-08-01T15:03:59.996Z"
   },
   {
    "duration": 1642,
    "start_time": "2022-08-01T15:04:17.027Z"
   },
   {
    "duration": 1863,
    "start_time": "2022-08-01T15:04:48.696Z"
   },
   {
    "duration": 1748,
    "start_time": "2022-08-01T15:07:45.527Z"
   },
   {
    "duration": 4326,
    "start_time": "2022-08-01T15:14:19.335Z"
   },
   {
    "duration": 3,
    "start_time": "2022-08-01T15:14:43.689Z"
   },
   {
    "duration": 5,
    "start_time": "2022-08-01T15:14:45.999Z"
   },
   {
    "duration": 5292,
    "start_time": "2022-08-01T15:14:47.282Z"
   },
   {
    "duration": 6,
    "start_time": "2022-08-01T15:15:01.848Z"
   },
   {
    "duration": 4432,
    "start_time": "2022-08-01T15:15:02.741Z"
   },
   {
    "duration": 5,
    "start_time": "2022-08-01T15:15:11.579Z"
   },
   {
    "duration": 4032,
    "start_time": "2022-08-01T15:15:15.323Z"
   },
   {
    "duration": 5,
    "start_time": "2022-08-01T15:17:44.987Z"
   },
   {
    "duration": 4794,
    "start_time": "2022-08-01T15:18:02.082Z"
   },
   {
    "duration": 3562,
    "start_time": "2022-08-01T15:18:13.999Z"
   },
   {
    "duration": 3873,
    "start_time": "2022-08-01T15:18:24.881Z"
   },
   {
    "duration": 5180,
    "start_time": "2022-08-01T15:18:55.880Z"
   },
   {
    "duration": 3432,
    "start_time": "2022-08-01T15:19:07.920Z"
   },
   {
    "duration": 5,
    "start_time": "2022-08-01T15:19:25.517Z"
   },
   {
    "duration": 3853,
    "start_time": "2022-08-01T15:19:27.102Z"
   },
   {
    "duration": 4,
    "start_time": "2022-08-01T15:19:43.635Z"
   },
   {
    "duration": 3515,
    "start_time": "2022-08-01T15:19:45.539Z"
   },
   {
    "duration": 8,
    "start_time": "2022-08-01T15:22:35.913Z"
   },
   {
    "duration": 3,
    "start_time": "2022-08-01T15:24:23.622Z"
   },
   {
    "duration": 3,
    "start_time": "2022-08-01T15:24:38.077Z"
   },
   {
    "duration": 3,
    "start_time": "2022-08-01T15:25:13.048Z"
   },
   {
    "duration": 63977,
    "start_time": "2022-08-01T15:25:15.083Z"
   },
   {
    "duration": 9,
    "start_time": "2022-08-01T15:27:51.479Z"
   },
   {
    "duration": 3,
    "start_time": "2022-08-01T15:28:21.821Z"
   },
   {
    "duration": 3,
    "start_time": "2022-08-01T15:28:30.241Z"
   },
   {
    "duration": 40662,
    "start_time": "2022-08-01T15:28:32.200Z"
   },
   {
    "duration": 2,
    "start_time": "2022-08-01T15:32:32.957Z"
   },
   {
    "duration": 62395,
    "start_time": "2022-08-01T15:32:33.559Z"
   },
   {
    "duration": 3,
    "start_time": "2022-08-01T15:33:56.700Z"
   },
   {
    "duration": 3,
    "start_time": "2022-08-01T15:34:04.490Z"
   },
   {
    "duration": 38265,
    "start_time": "2022-08-01T15:34:12.589Z"
   },
   {
    "duration": 11,
    "start_time": "2022-08-01T15:39:51.030Z"
   },
   {
    "duration": 10,
    "start_time": "2022-08-01T15:40:05.887Z"
   },
   {
    "duration": 9,
    "start_time": "2022-08-01T15:40:12.651Z"
   },
   {
    "duration": 139018,
    "start_time": "2022-08-01T15:40:18.668Z"
   },
   {
    "duration": 4,
    "start_time": "2022-08-01T15:46:57.101Z"
   },
   {
    "duration": 9,
    "start_time": "2022-08-01T15:47:13.836Z"
   },
   {
    "duration": 22,
    "start_time": "2022-08-01T15:47:32.496Z"
   },
   {
    "duration": 34501,
    "start_time": "2022-08-01T15:47:55.120Z"
   },
   {
    "duration": 28389,
    "start_time": "2022-08-01T15:48:32.302Z"
   },
   {
    "duration": 0,
    "start_time": "2022-08-01T15:50:02.537Z"
   },
   {
    "duration": 9,
    "start_time": "2022-08-01T15:50:05.529Z"
   },
   {
    "duration": 96,
    "start_time": "2022-08-01T16:00:36.062Z"
   },
   {
    "duration": 234472,
    "start_time": "2022-08-01T16:00:44.807Z"
   },
   {
    "duration": 1,
    "start_time": "2022-08-01T16:08:58.542Z"
   },
   {
    "duration": 0,
    "start_time": "2022-08-01T16:09:51.392Z"
   },
   {
    "duration": 264257,
    "start_time": "2022-08-01T16:09:54.008Z"
   },
   {
    "duration": 47302,
    "start_time": "2022-08-01T16:15:49.164Z"
   },
   {
    "duration": 0,
    "start_time": "2022-08-01T16:16:36.468Z"
   },
   {
    "duration": 10961,
    "start_time": "2022-08-01T16:18:30.770Z"
   },
   {
    "duration": 41133,
    "start_time": "2022-08-01T16:18:41.733Z"
   },
   {
    "duration": 72,
    "start_time": "2022-08-01T16:22:44.747Z"
   },
   {
    "duration": 3,
    "start_time": "2022-08-01T16:22:59.757Z"
   },
   {
    "duration": 134528,
    "start_time": "2022-08-01T16:23:06.966Z"
   },
   {
    "duration": 8,
    "start_time": "2022-08-01T16:32:34.158Z"
   },
   {
    "duration": 11526,
    "start_time": "2022-08-01T16:32:49.487Z"
   },
   {
    "duration": 21709,
    "start_time": "2022-08-01T16:34:15.930Z"
   },
   {
    "duration": 22131,
    "start_time": "2022-08-01T16:34:49.668Z"
   },
   {
    "duration": 21679,
    "start_time": "2022-08-01T16:35:20.101Z"
   },
   {
    "duration": 3926,
    "start_time": "2022-08-01T16:38:38.827Z"
   },
   {
    "duration": 38,
    "start_time": "2022-08-01T16:39:39.450Z"
   },
   {
    "duration": 399897,
    "start_time": "2022-08-01T16:40:02.143Z"
   },
   {
    "duration": 22304,
    "start_time": "2022-08-01T16:46:42.041Z"
   },
   {
    "duration": 7,
    "start_time": "2022-08-01T16:50:33.447Z"
   },
   {
    "duration": 8,
    "start_time": "2022-08-01T16:53:28.714Z"
   },
   {
    "duration": 4,
    "start_time": "2022-08-01T16:53:50.267Z"
   },
   {
    "duration": 26652,
    "start_time": "2022-08-01T16:55:10.533Z"
   },
   {
    "duration": 35077,
    "start_time": "2022-08-01T16:55:49.919Z"
   },
   {
    "duration": 31086,
    "start_time": "2022-08-01T16:56:43.751Z"
   },
   {
    "duration": 3,
    "start_time": "2022-08-01T16:59:14.120Z"
   },
   {
    "duration": 1345,
    "start_time": "2022-08-01T17:00:19.427Z"
   },
   {
    "duration": 3,
    "start_time": "2022-08-01T17:00:32.396Z"
   },
   {
    "duration": 592,
    "start_time": "2022-08-01T17:00:32.872Z"
   },
   {
    "duration": 3,
    "start_time": "2022-08-01T17:00:34.956Z"
   },
   {
    "duration": 7,
    "start_time": "2022-08-01T17:00:36.635Z"
   },
   {
    "duration": 20,
    "start_time": "2022-08-01T17:08:03.842Z"
   },
   {
    "duration": 151,
    "start_time": "2022-08-01T17:11:47.928Z"
   },
   {
    "duration": 6,
    "start_time": "2022-08-01T17:13:24.168Z"
   },
   {
    "duration": 17,
    "start_time": "2022-08-01T17:13:46.070Z"
   },
   {
    "duration": 10,
    "start_time": "2022-08-01T17:14:36.848Z"
   },
   {
    "duration": 16,
    "start_time": "2022-08-01T17:15:08.848Z"
   },
   {
    "duration": 4,
    "start_time": "2022-08-01T17:15:12.998Z"
   },
   {
    "duration": 6,
    "start_time": "2022-08-01T17:15:18.138Z"
   },
   {
    "duration": 7,
    "start_time": "2022-08-01T17:19:46.996Z"
   },
   {
    "duration": 626255,
    "start_time": "2022-08-01T17:20:51.700Z"
   },
   {
    "duration": 4,
    "start_time": "2022-08-01T17:37:10.372Z"
   },
   {
    "duration": 643,
    "start_time": "2022-08-01T17:37:10.378Z"
   },
   {
    "duration": 4,
    "start_time": "2022-08-01T17:37:11.022Z"
   },
   {
    "duration": 12,
    "start_time": "2022-08-01T17:37:11.027Z"
   },
   {
    "duration": 13,
    "start_time": "2022-08-01T17:37:11.042Z"
   },
   {
    "duration": 24,
    "start_time": "2022-08-01T17:37:11.057Z"
   },
   {
    "duration": 120,
    "start_time": "2022-08-01T17:37:11.083Z"
   },
   {
    "duration": 8,
    "start_time": "2022-08-01T17:37:11.204Z"
   },
   {
    "duration": 325,
    "start_time": "2022-08-01T17:37:11.214Z"
   },
   {
    "duration": 28,
    "start_time": "2022-08-01T17:37:11.540Z"
   },
   {
    "duration": 7,
    "start_time": "2022-08-01T17:37:11.569Z"
   },
   {
    "duration": 7,
    "start_time": "2022-08-01T17:37:11.578Z"
   },
   {
    "duration": 15,
    "start_time": "2022-08-01T17:37:11.587Z"
   },
   {
    "duration": 12,
    "start_time": "2022-08-01T17:37:11.605Z"
   },
   {
    "duration": 196,
    "start_time": "2022-08-01T17:37:11.618Z"
   },
   {
    "duration": 297,
    "start_time": "2022-08-01T17:37:11.816Z"
   },
   {
    "duration": 5,
    "start_time": "2022-08-01T17:37:12.114Z"
   },
   {
    "duration": 4,
    "start_time": "2022-08-01T17:37:12.121Z"
   },
   {
    "duration": 14,
    "start_time": "2022-08-01T17:37:12.127Z"
   },
   {
    "duration": 6,
    "start_time": "2022-08-01T17:37:12.152Z"
   },
   {
    "duration": 26,
    "start_time": "2022-08-01T17:37:12.160Z"
   },
   {
    "duration": 624768,
    "start_time": "2022-08-01T17:37:12.187Z"
   },
   {
    "duration": 3,
    "start_time": "2022-08-01T17:47:36.957Z"
   },
   {
    "duration": 7,
    "start_time": "2022-08-01T17:47:36.962Z"
   },
   {
    "duration": 0,
    "start_time": "2022-08-01T17:47:36.970Z"
   },
   {
    "duration": 0,
    "start_time": "2022-08-01T17:47:36.971Z"
   },
   {
    "duration": 3,
    "start_time": "2022-08-01T17:47:49.258Z"
   },
   {
    "duration": 3,
    "start_time": "2022-08-01T17:51:50.504Z"
   },
   {
    "duration": 121517,
    "start_time": "2022-08-01T17:51:50.508Z"
   },
   {
    "duration": 11,
    "start_time": "2022-08-01T17:55:20.807Z"
   },
   {
    "duration": 3,
    "start_time": "2022-08-01T17:56:01.828Z"
   },
   {
    "duration": 120815,
    "start_time": "2022-08-01T17:56:08.609Z"
   },
   {
    "duration": 513,
    "start_time": "2022-08-01T17:59:24.141Z"
   },
   {
    "duration": 46,
    "start_time": "2022-08-02T16:50:37.762Z"
   },
   {
    "duration": 1388,
    "start_time": "2022-08-02T16:50:43.171Z"
   },
   {
    "duration": 2839,
    "start_time": "2022-08-02T16:50:44.561Z"
   },
   {
    "duration": 3,
    "start_time": "2022-08-02T16:50:47.402Z"
   },
   {
    "duration": 17,
    "start_time": "2022-08-02T16:50:47.406Z"
   },
   {
    "duration": 20,
    "start_time": "2022-08-02T16:50:47.426Z"
   },
   {
    "duration": 35,
    "start_time": "2022-08-02T16:50:47.447Z"
   },
   {
    "duration": 101,
    "start_time": "2022-08-02T16:50:47.484Z"
   },
   {
    "duration": 7,
    "start_time": "2022-08-02T16:50:47.587Z"
   },
   {
    "duration": 333,
    "start_time": "2022-08-02T16:50:47.596Z"
   },
   {
    "duration": 30,
    "start_time": "2022-08-02T16:50:47.931Z"
   },
   {
    "duration": 7,
    "start_time": "2022-08-02T16:50:47.963Z"
   },
   {
    "duration": 13,
    "start_time": "2022-08-02T16:50:47.971Z"
   },
   {
    "duration": 23,
    "start_time": "2022-08-02T16:50:47.986Z"
   },
   {
    "duration": 13,
    "start_time": "2022-08-02T16:50:48.012Z"
   },
   {
    "duration": 168,
    "start_time": "2022-08-02T16:50:48.026Z"
   },
   {
    "duration": 291,
    "start_time": "2022-08-02T16:50:48.195Z"
   },
   {
    "duration": 5,
    "start_time": "2022-08-02T16:50:48.488Z"
   },
   {
    "duration": 9,
    "start_time": "2022-08-02T16:50:48.494Z"
   },
   {
    "duration": 30,
    "start_time": "2022-08-02T16:50:48.504Z"
   },
   {
    "duration": 19,
    "start_time": "2022-08-02T16:50:48.536Z"
   },
   {
    "duration": 30,
    "start_time": "2022-08-02T16:50:48.556Z"
   },
   {
    "duration": 634017,
    "start_time": "2022-08-02T16:50:48.587Z"
   },
   {
    "duration": 4,
    "start_time": "2022-08-02T17:01:22.605Z"
   },
   {
    "duration": 8,
    "start_time": "2022-08-02T17:01:22.611Z"
   },
   {
    "duration": 73245,
    "start_time": "2022-08-02T17:01:22.620Z"
   },
   {
    "duration": 603,
    "start_time": "2022-08-02T17:02:35.867Z"
   },
   {
    "duration": 0,
    "start_time": "2022-08-02T17:02:36.570Z"
   },
   {
    "duration": 10,
    "start_time": "2022-08-02T17:02:38.957Z"
   },
   {
    "duration": 148,
    "start_time": "2022-08-02T17:02:57.625Z"
   },
   {
    "duration": 262,
    "start_time": "2022-08-02T17:03:03.155Z"
   },
   {
    "duration": 259,
    "start_time": "2022-08-02T17:03:10.930Z"
   },
   {
    "duration": 17,
    "start_time": "2022-08-02T17:04:46.940Z"
   },
   {
    "duration": 1242,
    "start_time": "2022-08-02T17:07:43.229Z"
   },
   {
    "duration": 349,
    "start_time": "2022-08-02T17:08:05.962Z"
   },
   {
    "duration": 547,
    "start_time": "2022-08-02T17:10:02.182Z"
   },
   {
    "duration": 1481,
    "start_time": "2022-08-02T17:11:26.330Z"
   },
   {
    "duration": 700,
    "start_time": "2022-08-02T17:11:32.381Z"
   },
   {
    "duration": 652,
    "start_time": "2022-08-02T17:11:44.779Z"
   },
   {
    "duration": 903,
    "start_time": "2022-08-02T17:11:55.626Z"
   },
   {
    "duration": 855,
    "start_time": "2022-08-02T17:12:54.981Z"
   },
   {
    "duration": 1003,
    "start_time": "2022-08-02T17:13:24.270Z"
   },
   {
    "duration": 756,
    "start_time": "2022-08-02T17:14:13.829Z"
   },
   {
    "duration": 33,
    "start_time": "2022-08-02T17:19:51.660Z"
   },
   {
    "duration": 15,
    "start_time": "2022-08-02T17:20:21.129Z"
   },
   {
    "duration": 6,
    "start_time": "2022-08-02T17:20:27.928Z"
   },
   {
    "duration": 5,
    "start_time": "2022-08-02T17:20:40.080Z"
   },
   {
    "duration": 11,
    "start_time": "2022-08-02T17:21:03.688Z"
   },
   {
    "duration": 51,
    "start_time": "2022-08-02T17:22:40.420Z"
   },
   {
    "duration": 4,
    "start_time": "2022-08-02T17:34:26.079Z"
   },
   {
    "duration": 55,
    "start_time": "2022-08-02T17:34:39.124Z"
   },
   {
    "duration": 356085,
    "start_time": "2022-08-02T17:37:55.167Z"
   },
   {
    "duration": 6,
    "start_time": "2022-08-02T17:43:51.255Z"
   },
   {
    "duration": 23,
    "start_time": "2022-08-02T17:43:51.283Z"
   },
   {
    "duration": 6,
    "start_time": "2022-08-02T17:43:53.969Z"
   },
   {
    "duration": 681,
    "start_time": "2022-08-02T17:43:53.978Z"
   },
   {
    "duration": 3,
    "start_time": "2022-08-02T17:43:54.661Z"
   },
   {
    "duration": 20,
    "start_time": "2022-08-02T17:43:54.665Z"
   },
   {
    "duration": 21,
    "start_time": "2022-08-02T17:43:54.688Z"
   },
   {
    "duration": 48,
    "start_time": "2022-08-02T17:43:54.711Z"
   },
   {
    "duration": 110,
    "start_time": "2022-08-02T17:43:54.762Z"
   },
   {
    "duration": 7,
    "start_time": "2022-08-02T17:43:54.874Z"
   },
   {
    "duration": 323,
    "start_time": "2022-08-02T17:43:54.883Z"
   },
   {
    "duration": 34,
    "start_time": "2022-08-02T17:43:55.208Z"
   },
   {
    "duration": 18,
    "start_time": "2022-08-02T17:43:55.244Z"
   },
   {
    "duration": 30,
    "start_time": "2022-08-02T17:43:55.264Z"
   },
   {
    "duration": 55,
    "start_time": "2022-08-02T17:43:55.297Z"
   },
   {
    "duration": 27,
    "start_time": "2022-08-02T17:43:55.355Z"
   },
   {
    "duration": 207,
    "start_time": "2022-08-02T17:43:55.385Z"
   },
   {
    "duration": 478,
    "start_time": "2022-08-02T17:43:55.595Z"
   },
   {
    "duration": 4,
    "start_time": "2022-08-02T17:43:56.075Z"
   },
   {
    "duration": 765,
    "start_time": "2022-08-02T17:43:56.082Z"
   },
   {
    "duration": 10,
    "start_time": "2022-08-02T17:43:56.857Z"
   },
   {
    "duration": 6,
    "start_time": "2022-08-02T17:43:56.869Z"
   },
   {
    "duration": 13,
    "start_time": "2022-08-02T17:43:56.877Z"
   },
   {
    "duration": 9,
    "start_time": "2022-08-02T17:43:56.893Z"
   },
   {
    "duration": 24,
    "start_time": "2022-08-02T17:43:56.904Z"
   },
   {
    "duration": 662324,
    "start_time": "2022-08-02T17:43:56.930Z"
   },
   {
    "duration": 10,
    "start_time": "2022-08-02T17:54:59.255Z"
   },
   {
    "duration": 17,
    "start_time": "2022-08-02T17:54:59.276Z"
   },
   {
    "duration": 134004,
    "start_time": "2022-08-02T17:54:59.295Z"
   },
   {
    "duration": 1160,
    "start_time": "2022-08-02T17:57:13.301Z"
   },
   {
    "duration": 12,
    "start_time": "2022-08-02T17:57:14.469Z"
   },
   {
    "duration": 3,
    "start_time": "2022-08-02T18:13:14.986Z"
   },
   {
    "duration": 161618,
    "start_time": "2022-08-02T18:13:16.869Z"
   },
   {
    "duration": 1322,
    "start_time": "2022-08-04T08:16:08.681Z"
   },
   {
    "duration": 1734,
    "start_time": "2022-08-04T08:16:10.005Z"
   },
   {
    "duration": 3,
    "start_time": "2022-08-04T08:16:11.740Z"
   },
   {
    "duration": 12,
    "start_time": "2022-08-04T08:16:11.744Z"
   },
   {
    "duration": 3,
    "start_time": "2022-08-04T08:16:11.758Z"
   },
   {
    "duration": 26,
    "start_time": "2022-08-04T08:16:11.763Z"
   },
   {
    "duration": 99,
    "start_time": "2022-08-04T08:16:11.790Z"
   },
   {
    "duration": 7,
    "start_time": "2022-08-04T08:16:11.890Z"
   },
   {
    "duration": 288,
    "start_time": "2022-08-04T08:16:11.898Z"
   },
   {
    "duration": 18,
    "start_time": "2022-08-04T08:16:12.189Z"
   },
   {
    "duration": 5,
    "start_time": "2022-08-04T08:16:12.209Z"
   },
   {
    "duration": 8,
    "start_time": "2022-08-04T08:16:12.215Z"
   },
   {
    "duration": 33,
    "start_time": "2022-08-04T08:16:12.224Z"
   },
   {
    "duration": 11,
    "start_time": "2022-08-04T08:16:12.258Z"
   },
   {
    "duration": 147,
    "start_time": "2022-08-04T08:16:12.270Z"
   },
   {
    "duration": 246,
    "start_time": "2022-08-04T08:16:12.418Z"
   },
   {
    "duration": 5,
    "start_time": "2022-08-04T08:16:12.665Z"
   },
   {
    "duration": 722,
    "start_time": "2022-08-04T08:16:12.671Z"
   },
   {
    "duration": 9,
    "start_time": "2022-08-04T08:16:13.394Z"
   },
   {
    "duration": 3,
    "start_time": "2022-08-04T08:16:13.404Z"
   },
   {
    "duration": 9,
    "start_time": "2022-08-04T08:16:13.408Z"
   },
   {
    "duration": 7,
    "start_time": "2022-08-04T08:16:13.418Z"
   },
   {
    "duration": 35,
    "start_time": "2022-08-04T08:16:13.427Z"
   },
   {
    "duration": 90891,
    "start_time": "2022-08-04T08:16:13.463Z"
   },
   {
    "duration": 8,
    "start_time": "2022-08-04T08:17:44.355Z"
   },
   {
    "duration": 0,
    "start_time": "2022-08-04T08:17:44.364Z"
   },
   {
    "duration": 0,
    "start_time": "2022-08-04T08:17:44.365Z"
   },
   {
    "duration": 0,
    "start_time": "2022-08-04T08:17:44.366Z"
   },
   {
    "duration": 0,
    "start_time": "2022-08-04T08:17:44.367Z"
   },
   {
    "duration": 3,
    "start_time": "2022-08-04T08:17:50.751Z"
   },
   {
    "duration": 0,
    "start_time": "2022-08-04T08:20:14.166Z"
   },
   {
    "duration": 0,
    "start_time": "2022-08-04T08:20:14.168Z"
   },
   {
    "duration": 0,
    "start_time": "2022-08-04T08:20:14.168Z"
   },
   {
    "duration": 0,
    "start_time": "2022-08-04T08:20:14.169Z"
   },
   {
    "duration": 0,
    "start_time": "2022-08-04T08:20:14.256Z"
   },
   {
    "duration": 1,
    "start_time": "2022-08-04T08:20:14.256Z"
   },
   {
    "duration": 0,
    "start_time": "2022-08-04T08:20:14.257Z"
   },
   {
    "duration": 0,
    "start_time": "2022-08-04T08:20:14.258Z"
   },
   {
    "duration": 0,
    "start_time": "2022-08-04T08:20:14.259Z"
   },
   {
    "duration": 0,
    "start_time": "2022-08-04T08:20:14.260Z"
   },
   {
    "duration": 0,
    "start_time": "2022-08-04T08:20:14.261Z"
   },
   {
    "duration": 0,
    "start_time": "2022-08-04T08:20:14.261Z"
   },
   {
    "duration": 0,
    "start_time": "2022-08-04T08:20:14.262Z"
   },
   {
    "duration": 0,
    "start_time": "2022-08-04T08:20:14.262Z"
   },
   {
    "duration": 0,
    "start_time": "2022-08-04T08:20:14.264Z"
   },
   {
    "duration": 0,
    "start_time": "2022-08-04T08:20:14.265Z"
   },
   {
    "duration": 0,
    "start_time": "2022-08-04T08:20:14.265Z"
   },
   {
    "duration": 0,
    "start_time": "2022-08-04T08:20:14.267Z"
   },
   {
    "duration": 0,
    "start_time": "2022-08-04T08:20:14.268Z"
   },
   {
    "duration": 0,
    "start_time": "2022-08-04T08:20:14.268Z"
   },
   {
    "duration": 0,
    "start_time": "2022-08-04T08:20:14.270Z"
   },
   {
    "duration": 0,
    "start_time": "2022-08-04T08:20:14.270Z"
   },
   {
    "duration": 0,
    "start_time": "2022-08-04T08:20:14.271Z"
   },
   {
    "duration": 0,
    "start_time": "2022-08-04T08:20:14.272Z"
   },
   {
    "duration": 0,
    "start_time": "2022-08-04T08:20:14.273Z"
   },
   {
    "duration": 0,
    "start_time": "2022-08-04T08:20:14.274Z"
   },
   {
    "duration": 0,
    "start_time": "2022-08-04T08:20:14.275Z"
   },
   {
    "duration": 0,
    "start_time": "2022-08-04T08:20:14.275Z"
   },
   {
    "duration": 0,
    "start_time": "2022-08-04T08:20:14.277Z"
   },
   {
    "duration": 4,
    "start_time": "2022-08-04T08:21:39.733Z"
   },
   {
    "duration": 601,
    "start_time": "2022-08-04T08:21:39.739Z"
   },
   {
    "duration": 3,
    "start_time": "2022-08-04T08:21:40.341Z"
   },
   {
    "duration": 15,
    "start_time": "2022-08-04T08:21:40.345Z"
   },
   {
    "duration": 4,
    "start_time": "2022-08-04T08:21:40.361Z"
   },
   {
    "duration": 23,
    "start_time": "2022-08-04T08:21:40.366Z"
   },
   {
    "duration": 104,
    "start_time": "2022-08-04T08:21:40.391Z"
   },
   {
    "duration": 7,
    "start_time": "2022-08-04T08:21:40.496Z"
   },
   {
    "duration": 287,
    "start_time": "2022-08-04T08:21:40.504Z"
   },
   {
    "duration": 18,
    "start_time": "2022-08-04T08:21:40.793Z"
   },
   {
    "duration": 6,
    "start_time": "2022-08-04T08:21:40.813Z"
   },
   {
    "duration": 11,
    "start_time": "2022-08-04T08:21:40.820Z"
   },
   {
    "duration": 33,
    "start_time": "2022-08-04T08:21:40.833Z"
   },
   {
    "duration": 12,
    "start_time": "2022-08-04T08:21:40.868Z"
   },
   {
    "duration": 154,
    "start_time": "2022-08-04T08:21:40.881Z"
   },
   {
    "duration": 294,
    "start_time": "2022-08-04T08:21:41.037Z"
   },
   {
    "duration": 4,
    "start_time": "2022-08-04T08:21:41.333Z"
   },
   {
    "duration": 830,
    "start_time": "2022-08-04T08:21:41.338Z"
   },
   {
    "duration": 9,
    "start_time": "2022-08-04T08:21:42.169Z"
   },
   {
    "duration": 4,
    "start_time": "2022-08-04T08:21:42.180Z"
   },
   {
    "duration": 10,
    "start_time": "2022-08-04T08:21:42.186Z"
   },
   {
    "duration": 7,
    "start_time": "2022-08-04T08:21:42.198Z"
   },
   {
    "duration": 54,
    "start_time": "2022-08-04T08:21:42.207Z"
   },
   {
    "duration": 85,
    "start_time": "2022-08-04T08:21:42.263Z"
   },
   {
    "duration": 8,
    "start_time": "2022-08-04T08:21:42.349Z"
   },
   {
    "duration": 0,
    "start_time": "2022-08-04T08:21:42.358Z"
   },
   {
    "duration": 0,
    "start_time": "2022-08-04T08:21:42.359Z"
   },
   {
    "duration": 0,
    "start_time": "2022-08-04T08:21:42.360Z"
   },
   {
    "duration": 0,
    "start_time": "2022-08-04T08:21:42.361Z"
   },
   {
    "duration": 3,
    "start_time": "2022-08-04T08:23:04.460Z"
   },
   {
    "duration": 10,
    "start_time": "2022-08-04T08:32:46.186Z"
   },
   {
    "duration": 0,
    "start_time": "2022-08-04T08:32:46.197Z"
   },
   {
    "duration": 4,
    "start_time": "2022-08-04T08:33:54.173Z"
   },
   {
    "duration": 593,
    "start_time": "2022-08-04T08:33:54.178Z"
   },
   {
    "duration": 2,
    "start_time": "2022-08-04T08:33:54.773Z"
   },
   {
    "duration": 9,
    "start_time": "2022-08-04T08:33:54.777Z"
   },
   {
    "duration": 4,
    "start_time": "2022-08-04T08:33:54.788Z"
   },
   {
    "duration": 26,
    "start_time": "2022-08-04T08:33:54.794Z"
   },
   {
    "duration": 115,
    "start_time": "2022-08-04T08:33:54.822Z"
   },
   {
    "duration": 16,
    "start_time": "2022-08-04T08:33:54.939Z"
   },
   {
    "duration": 279,
    "start_time": "2022-08-04T08:33:54.957Z"
   },
   {
    "duration": 25,
    "start_time": "2022-08-04T08:33:55.237Z"
   },
   {
    "duration": 6,
    "start_time": "2022-08-04T08:33:55.264Z"
   },
   {
    "duration": 7,
    "start_time": "2022-08-04T08:33:55.271Z"
   },
   {
    "duration": 14,
    "start_time": "2022-08-04T08:33:55.280Z"
   },
   {
    "duration": 13,
    "start_time": "2022-08-04T08:33:55.297Z"
   },
   {
    "duration": 164,
    "start_time": "2022-08-04T08:33:55.311Z"
   },
   {
    "duration": 252,
    "start_time": "2022-08-04T08:33:55.477Z"
   },
   {
    "duration": 4,
    "start_time": "2022-08-04T08:33:55.731Z"
   },
   {
    "duration": 778,
    "start_time": "2022-08-04T08:33:55.736Z"
   },
   {
    "duration": 8,
    "start_time": "2022-08-04T08:33:56.515Z"
   },
   {
    "duration": 6,
    "start_time": "2022-08-04T08:33:56.525Z"
   },
   {
    "duration": 23,
    "start_time": "2022-08-04T08:33:56.532Z"
   },
   {
    "duration": 5,
    "start_time": "2022-08-04T08:33:56.557Z"
   },
   {
    "duration": 19,
    "start_time": "2022-08-04T08:33:56.563Z"
   },
   {
    "duration": 573332,
    "start_time": "2022-08-04T08:33:56.583Z"
   },
   {
    "duration": 4,
    "start_time": "2022-08-04T08:43:29.916Z"
   },
   {
    "duration": 9,
    "start_time": "2022-08-04T08:43:29.921Z"
   },
   {
    "duration": 142173,
    "start_time": "2022-08-04T08:43:29.931Z"
   },
   {
    "duration": 563,
    "start_time": "2022-08-04T08:45:52.105Z"
   },
   {
    "duration": 187,
    "start_time": "2022-08-04T08:45:52.669Z"
   },
   {
    "duration": 9,
    "start_time": "2022-08-04T09:19:20.501Z"
   },
   {
    "duration": 8,
    "start_time": "2022-08-04T09:23:11.478Z"
   },
   {
    "duration": 144929,
    "start_time": "2022-08-04T09:23:11.487Z"
   },
   {
    "duration": 11,
    "start_time": "2022-08-04T09:30:39.373Z"
   },
   {
    "duration": 9,
    "start_time": "2022-08-04T09:30:47.212Z"
   },
   {
    "duration": 462,
    "start_time": "2022-08-04T09:31:29.999Z"
   },
   {
    "duration": 1192,
    "start_time": "2022-08-04T09:31:36.769Z"
   },
   {
    "duration": 348,
    "start_time": "2022-08-04T09:31:43.807Z"
   },
   {
    "duration": 500,
    "start_time": "2022-08-04T09:32:46.862Z"
   },
   {
    "duration": 509,
    "start_time": "2022-08-04T09:32:52.551Z"
   },
   {
    "duration": 411,
    "start_time": "2022-08-04T09:32:57.652Z"
   },
   {
    "duration": 465,
    "start_time": "2022-08-04T09:33:03.092Z"
   },
   {
    "duration": 462,
    "start_time": "2022-08-04T09:33:09.300Z"
   }
  ],
  "kernelspec": {
   "display_name": "Python 3 (ipykernel)",
   "language": "python",
   "name": "python3"
  },
  "language_info": {
   "codemirror_mode": {
    "name": "ipython",
    "version": 3
   },
   "file_extension": ".py",
   "mimetype": "text/x-python",
   "name": "python",
   "nbconvert_exporter": "python",
   "pygments_lexer": "ipython3",
   "version": "3.9.5"
  },
  "toc": {
   "base_numbering": 1,
   "nav_menu": {},
   "number_sections": true,
   "sideBar": true,
   "skip_h1_title": true,
   "title_cell": "Содержание",
   "title_sidebar": "Contents",
   "toc_cell": true,
   "toc_position": {
    "height": "calc(100% - 180px)",
    "left": "10px",
    "top": "150px",
    "width": "165px"
   },
   "toc_section_display": true,
   "toc_window_display": true
  }
 },
 "nbformat": 4,
 "nbformat_minor": 2
}
