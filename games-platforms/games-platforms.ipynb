{
 "cells": [
  {
   "cell_type": "markdown",
   "metadata": {},
   "source": [
    "<div class=\"alert alert-info\">\n",
    "<h2> Итоговый вывод: <a class=\"tocSkip\"></h2>\n",
    "\n",
    "**Поздравляю с успешным завершением проекта!**\n",
    "    \n",
    "**Ты проделала большую работу и добилась отличного результата. Спасибо, что внимательно отнеслась ко всем моим комментариям :)**\n",
    "    \n",
    "**Рекомендации: советую уделить внимание визуализациям - это один из основных навыков аналитика!**\n",
    "    \n",
    "**С тобой приятно было работать. Уверен, ты справишься с будущими проектами и в полной мере осилишь специальность, успехов!**"
   ]
  },
  {
   "cell_type": "markdown",
   "metadata": {},
   "source": [
    "<div class=\"alert alert-info\">\n",
    "<h2> Комментарий ревьюера V2 <a class=\"tocSkip\"></h2>\n",
    "    \n",
    "Привет еще раз :)\n",
    "    \n",
    "Проект практически готов, ты правильно поняла все мои комментарии, спасибо!  \n",
    "    \n",
    "Пропущен достаточно важный момент, связанный с анализом влияния рейтинга ESRB на продажи в Японии - прочти [комментарий](#err1) и дополни вывод. \n",
    "    \n",
    "**Все остальное супер, жду маленькой доработки и принимаю проект!**"
   ]
  },
  {
   "cell_type": "markdown",
   "metadata": {},
   "source": [
    "<div style=\"border:solid Chocolate 2px; padding: 40px\">\n",
    "\n",
    "<b>Привет!👋</b>\n",
    "\n",
    "Меня зовут Максим Погребных, я буду ревьюером твоего проекта. Ты можешь обращаться ко мне на \"ты\"😏 Надеюсь, тебя также не смутит, если я буду обращаться к тебе на \"ты\", но если это неудобно, обязательно скажи об этом!\n",
    "\n",
    "Пожалуйста, не удаляй мои комментарии, они будут особенно полезны для нашей работы в случае повторной проверки проекта. \n",
    "\n",
    "Ты также можешь реагировать на мои комментарии своими, выделяя их цветами и наиболее понравившимся тебе способом оформления, но явно  отличающимся от моих комментариев. Это нужно, чтобы не создавалась путаница😉\n",
    "\n",
    "Ты можешь найти мои комментарии, обозначенные <font color='green'>зеленым</font>, <font color='gold'>желтым</font> и <font color='red'>красным</font> цветами, например:\n",
    "\n",
    "<br/>\n",
    "\n",
    "<div class=\"alert alert-success\">\n",
    "<h2> Комментарий ревьюера <a class=\"tocSkip\"> </h2>\n",
    "\n",
    "<b>Все отлично!👍:</b> В случае, если решение на отдельном шаге является полностью правильным.\n",
    "</div>\n",
    "\n",
    "<br/>\n",
    "\n",
    "<div class=\"alert alert-warning\">\n",
    "    <h2> Комментарий ревьюера <a class=\"tocSkip\"> </h2>\n",
    "    \n",
    "<b>Некоторые замечания и рекомендации💡:</b> В случае, когда решение на отдельном шаге станет еще лучше, если внести небольшие коррективы.\n",
    "</div>\n",
    "\n",
    "\n",
    "<br/>\n",
    "<div class=\"alert alert-block alert-danger\">\n",
    "<h2> Комментарий ревьюера <a class=\"tocSkip\"></h2>\n",
    "\n",
    "    \n",
    "<b>На доработку🤔:</b>\n",
    " В случае, когда решение на отдельном шаге требует существенной переработки и внесения правок. Напоминаю, что проект не может быть принят с первого раза, если ревью содержит комментарии, рекомендующие доработать шаги.\n",
    "</div>\n",
    "    \n",
    "Увидев у тебя неточность, в первый раз я лишь укажу на ее наличие и дам тебе возможность самому найти и исправить ее. На реальной работе твой руководитель будет поступать также, и я пытаюсь подготовить тебя именно к работе аналитиком. Но если ты пока не справишься с такой задачей - при следующей проверке я дам более точную подсказку!"
   ]
  },
  {
   "cell_type": "markdown",
   "metadata": {},
   "source": [
    "Задача — выявить определяющие успешность игры закономерности для планирования рекламной кампании интернет-магазина \"Стримчик\" на 2017 год"
   ]
  },
  {
   "cell_type": "markdown",
   "metadata": {},
   "source": [
    "# Чтение данных"
   ]
  },
  {
   "cell_type": "code",
   "execution_count": 1,
   "metadata": {},
   "outputs": [],
   "source": [
    "import pandas as pd\n",
    "import numpy as np\n",
    "import matplotlib.pyplot as plt\n",
    "import seaborn as sns\n",
    "from scipy import stats as st"
   ]
  },
  {
   "cell_type": "code",
   "execution_count": 2,
   "metadata": {},
   "outputs": [],
   "source": [
    "games = pd.read_csv('/datasets/games.csv')"
   ]
  },
  {
   "cell_type": "code",
   "execution_count": 3,
   "metadata": {},
   "outputs": [
    {
     "data": {
      "text/html": [
       "<div>\n",
       "<style scoped>\n",
       "    .dataframe tbody tr th:only-of-type {\n",
       "        vertical-align: middle;\n",
       "    }\n",
       "\n",
       "    .dataframe tbody tr th {\n",
       "        vertical-align: top;\n",
       "    }\n",
       "\n",
       "    .dataframe thead th {\n",
       "        text-align: right;\n",
       "    }\n",
       "</style>\n",
       "<table border=\"1\" class=\"dataframe\">\n",
       "  <thead>\n",
       "    <tr style=\"text-align: right;\">\n",
       "      <th></th>\n",
       "      <th>Name</th>\n",
       "      <th>Platform</th>\n",
       "      <th>Year_of_Release</th>\n",
       "      <th>Genre</th>\n",
       "      <th>NA_sales</th>\n",
       "      <th>EU_sales</th>\n",
       "      <th>JP_sales</th>\n",
       "      <th>Other_sales</th>\n",
       "      <th>Critic_Score</th>\n",
       "      <th>User_Score</th>\n",
       "      <th>Rating</th>\n",
       "    </tr>\n",
       "  </thead>\n",
       "  <tbody>\n",
       "    <tr>\n",
       "      <th>0</th>\n",
       "      <td>Wii Sports</td>\n",
       "      <td>Wii</td>\n",
       "      <td>2006.0</td>\n",
       "      <td>Sports</td>\n",
       "      <td>41.36</td>\n",
       "      <td>28.96</td>\n",
       "      <td>3.77</td>\n",
       "      <td>8.45</td>\n",
       "      <td>76.0</td>\n",
       "      <td>8</td>\n",
       "      <td>E</td>\n",
       "    </tr>\n",
       "    <tr>\n",
       "      <th>1</th>\n",
       "      <td>Super Mario Bros.</td>\n",
       "      <td>NES</td>\n",
       "      <td>1985.0</td>\n",
       "      <td>Platform</td>\n",
       "      <td>29.08</td>\n",
       "      <td>3.58</td>\n",
       "      <td>6.81</td>\n",
       "      <td>0.77</td>\n",
       "      <td>NaN</td>\n",
       "      <td>NaN</td>\n",
       "      <td>NaN</td>\n",
       "    </tr>\n",
       "    <tr>\n",
       "      <th>2</th>\n",
       "      <td>Mario Kart Wii</td>\n",
       "      <td>Wii</td>\n",
       "      <td>2008.0</td>\n",
       "      <td>Racing</td>\n",
       "      <td>15.68</td>\n",
       "      <td>12.76</td>\n",
       "      <td>3.79</td>\n",
       "      <td>3.29</td>\n",
       "      <td>82.0</td>\n",
       "      <td>8.3</td>\n",
       "      <td>E</td>\n",
       "    </tr>\n",
       "    <tr>\n",
       "      <th>3</th>\n",
       "      <td>Wii Sports Resort</td>\n",
       "      <td>Wii</td>\n",
       "      <td>2009.0</td>\n",
       "      <td>Sports</td>\n",
       "      <td>15.61</td>\n",
       "      <td>10.93</td>\n",
       "      <td>3.28</td>\n",
       "      <td>2.95</td>\n",
       "      <td>80.0</td>\n",
       "      <td>8</td>\n",
       "      <td>E</td>\n",
       "    </tr>\n",
       "    <tr>\n",
       "      <th>4</th>\n",
       "      <td>Pokemon Red/Pokemon Blue</td>\n",
       "      <td>GB</td>\n",
       "      <td>1996.0</td>\n",
       "      <td>Role-Playing</td>\n",
       "      <td>11.27</td>\n",
       "      <td>8.89</td>\n",
       "      <td>10.22</td>\n",
       "      <td>1.00</td>\n",
       "      <td>NaN</td>\n",
       "      <td>NaN</td>\n",
       "      <td>NaN</td>\n",
       "    </tr>\n",
       "    <tr>\n",
       "      <th>...</th>\n",
       "      <td>...</td>\n",
       "      <td>...</td>\n",
       "      <td>...</td>\n",
       "      <td>...</td>\n",
       "      <td>...</td>\n",
       "      <td>...</td>\n",
       "      <td>...</td>\n",
       "      <td>...</td>\n",
       "      <td>...</td>\n",
       "      <td>...</td>\n",
       "      <td>...</td>\n",
       "    </tr>\n",
       "    <tr>\n",
       "      <th>16710</th>\n",
       "      <td>Samurai Warriors: Sanada Maru</td>\n",
       "      <td>PS3</td>\n",
       "      <td>2016.0</td>\n",
       "      <td>Action</td>\n",
       "      <td>0.00</td>\n",
       "      <td>0.00</td>\n",
       "      <td>0.01</td>\n",
       "      <td>0.00</td>\n",
       "      <td>NaN</td>\n",
       "      <td>NaN</td>\n",
       "      <td>NaN</td>\n",
       "    </tr>\n",
       "    <tr>\n",
       "      <th>16711</th>\n",
       "      <td>LMA Manager 2007</td>\n",
       "      <td>X360</td>\n",
       "      <td>2006.0</td>\n",
       "      <td>Sports</td>\n",
       "      <td>0.00</td>\n",
       "      <td>0.01</td>\n",
       "      <td>0.00</td>\n",
       "      <td>0.00</td>\n",
       "      <td>NaN</td>\n",
       "      <td>NaN</td>\n",
       "      <td>NaN</td>\n",
       "    </tr>\n",
       "    <tr>\n",
       "      <th>16712</th>\n",
       "      <td>Haitaka no Psychedelica</td>\n",
       "      <td>PSV</td>\n",
       "      <td>2016.0</td>\n",
       "      <td>Adventure</td>\n",
       "      <td>0.00</td>\n",
       "      <td>0.00</td>\n",
       "      <td>0.01</td>\n",
       "      <td>0.00</td>\n",
       "      <td>NaN</td>\n",
       "      <td>NaN</td>\n",
       "      <td>NaN</td>\n",
       "    </tr>\n",
       "    <tr>\n",
       "      <th>16713</th>\n",
       "      <td>Spirits &amp; Spells</td>\n",
       "      <td>GBA</td>\n",
       "      <td>2003.0</td>\n",
       "      <td>Platform</td>\n",
       "      <td>0.01</td>\n",
       "      <td>0.00</td>\n",
       "      <td>0.00</td>\n",
       "      <td>0.00</td>\n",
       "      <td>NaN</td>\n",
       "      <td>NaN</td>\n",
       "      <td>NaN</td>\n",
       "    </tr>\n",
       "    <tr>\n",
       "      <th>16714</th>\n",
       "      <td>Winning Post 8 2016</td>\n",
       "      <td>PSV</td>\n",
       "      <td>2016.0</td>\n",
       "      <td>Simulation</td>\n",
       "      <td>0.00</td>\n",
       "      <td>0.00</td>\n",
       "      <td>0.01</td>\n",
       "      <td>0.00</td>\n",
       "      <td>NaN</td>\n",
       "      <td>NaN</td>\n",
       "      <td>NaN</td>\n",
       "    </tr>\n",
       "  </tbody>\n",
       "</table>\n",
       "<p>16715 rows × 11 columns</p>\n",
       "</div>"
      ],
      "text/plain": [
       "                                Name Platform  Year_of_Release         Genre  \\\n",
       "0                         Wii Sports      Wii           2006.0        Sports   \n",
       "1                  Super Mario Bros.      NES           1985.0      Platform   \n",
       "2                     Mario Kart Wii      Wii           2008.0        Racing   \n",
       "3                  Wii Sports Resort      Wii           2009.0        Sports   \n",
       "4           Pokemon Red/Pokemon Blue       GB           1996.0  Role-Playing   \n",
       "...                              ...      ...              ...           ...   \n",
       "16710  Samurai Warriors: Sanada Maru      PS3           2016.0        Action   \n",
       "16711               LMA Manager 2007     X360           2006.0        Sports   \n",
       "16712        Haitaka no Psychedelica      PSV           2016.0     Adventure   \n",
       "16713               Spirits & Spells      GBA           2003.0      Platform   \n",
       "16714            Winning Post 8 2016      PSV           2016.0    Simulation   \n",
       "\n",
       "       NA_sales  EU_sales  JP_sales  Other_sales  Critic_Score User_Score  \\\n",
       "0         41.36     28.96      3.77         8.45          76.0          8   \n",
       "1         29.08      3.58      6.81         0.77           NaN        NaN   \n",
       "2         15.68     12.76      3.79         3.29          82.0        8.3   \n",
       "3         15.61     10.93      3.28         2.95          80.0          8   \n",
       "4         11.27      8.89     10.22         1.00           NaN        NaN   \n",
       "...         ...       ...       ...          ...           ...        ...   \n",
       "16710      0.00      0.00      0.01         0.00           NaN        NaN   \n",
       "16711      0.00      0.01      0.00         0.00           NaN        NaN   \n",
       "16712      0.00      0.00      0.01         0.00           NaN        NaN   \n",
       "16713      0.01      0.00      0.00         0.00           NaN        NaN   \n",
       "16714      0.00      0.00      0.01         0.00           NaN        NaN   \n",
       "\n",
       "      Rating  \n",
       "0          E  \n",
       "1        NaN  \n",
       "2          E  \n",
       "3          E  \n",
       "4        NaN  \n",
       "...      ...  \n",
       "16710    NaN  \n",
       "16711    NaN  \n",
       "16712    NaN  \n",
       "16713    NaN  \n",
       "16714    NaN  \n",
       "\n",
       "[16715 rows x 11 columns]"
      ]
     },
     "metadata": {},
     "output_type": "display_data"
    },
    {
     "name": "stdout",
     "output_type": "stream",
     "text": [
      "<class 'pandas.core.frame.DataFrame'>\n",
      "RangeIndex: 16715 entries, 0 to 16714\n",
      "Data columns (total 11 columns):\n",
      " #   Column           Non-Null Count  Dtype  \n",
      "---  ------           --------------  -----  \n",
      " 0   Name             16713 non-null  object \n",
      " 1   Platform         16715 non-null  object \n",
      " 2   Year_of_Release  16446 non-null  float64\n",
      " 3   Genre            16713 non-null  object \n",
      " 4   NA_sales         16715 non-null  float64\n",
      " 5   EU_sales         16715 non-null  float64\n",
      " 6   JP_sales         16715 non-null  float64\n",
      " 7   Other_sales      16715 non-null  float64\n",
      " 8   Critic_Score     8137 non-null   float64\n",
      " 9   User_Score       10014 non-null  object \n",
      " 10  Rating           9949 non-null   object \n",
      "dtypes: float64(6), object(5)\n",
      "memory usage: 1.4+ MB\n"
     ]
    }
   ],
   "source": [
    "display(games)\n",
    "games.info()"
   ]
  },
  {
   "cell_type": "markdown",
   "metadata": {},
   "source": [
    "Выводы из первого взгляда на таблицу данных:\n",
    "\n",
    " - нужно привести названия всех столбцов к нижнему регистру\n",
    " -  есть незначительное количество пропускоа в столбцах name, genre и year_of_release. Эти строки просто удалим \n",
    " -  есть много пропусков в столбцах с  оценками критиков, пользователей и с рейтингом. Нужно посмотреть подробнее на распределение значений в этих столбцах и понять, что делать с пропусками\n",
    " - год выпуска перевести в int, просто для удобства восприятия\n",
    " - user_score перевести в float\n"
   ]
  },
  {
   "cell_type": "markdown",
   "metadata": {},
   "source": [
    "# Подготовка данных"
   ]
  },
  {
   "cell_type": "code",
   "execution_count": 4,
   "metadata": {},
   "outputs": [],
   "source": [
    "games.columns = games.columns.str.lower() # приводим названия к нижнему регистру"
   ]
  },
  {
   "cell_type": "markdown",
   "metadata": {},
   "source": [
    "В столбце с годом есть меньше 300 пропусков, это менее 2% от всего объема данных. Учитывая, что год выпуска важен для дальнейшего исследования, удалим эти строки.\n",
    "\n",
    "В столбцах name и genre всего два пропуска. Эти строки тоже удаляем\n"
   ]
  },
  {
   "cell_type": "code",
   "execution_count": 5,
   "metadata": {},
   "outputs": [],
   "source": [
    "games.dropna(subset=['name','year_of_release','genre'],inplace=True) #удаление пропусков"
   ]
  },
  {
   "cell_type": "code",
   "execution_count": 6,
   "metadata": {
    "scrolled": false
   },
   "outputs": [],
   "source": [
    "games['year_of_release'] = games['year_of_release'].astype(int) #перевод года выпуска в int"
   ]
  },
  {
   "cell_type": "markdown",
   "metadata": {},
   "source": [
    "Выясним почему у user_score тип object"
   ]
  },
  {
   "cell_type": "code",
   "execution_count": 7,
   "metadata": {
    "scrolled": true
   },
   "outputs": [
    {
     "data": {
      "text/plain": [
       "array(['8', nan, '8.3', '8.5', '6.6', '8.4', '8.6', '7.7', '6.3', '7.4',\n",
       "       '8.2', '9', '7.9', '8.1', '8.7', '7.1', '3.4', '5.3', '4.8', '3.2',\n",
       "       '8.9', '6.4', '7.8', '7.5', '2.6', '7.2', '9.2', '7', '7.3', '4.3',\n",
       "       '7.6', '5.7', '5', '9.1', '6.5', 'tbd', '8.8', '6.9', '9.4', '6.8',\n",
       "       '6.1', '6.7', '5.4', '4', '4.9', '4.5', '9.3', '6.2', '4.2', '6',\n",
       "       '3.7', '4.1', '5.8', '5.6', '5.5', '4.4', '4.6', '5.9', '3.9',\n",
       "       '3.1', '2.9', '5.2', '3.3', '4.7', '5.1', '3.5', '2.5', '1.9', '3',\n",
       "       '2.7', '2.2', '2', '9.5', '2.1', '3.6', '2.8', '1.8', '3.8', '0',\n",
       "       '1.6', '9.6', '2.4', '1.7', '1.1', '0.3', '1.5', '0.7', '1.2',\n",
       "       '2.3', '0.5', '1.3', '0.2', '0.6', '1.4', '0.9', '1', '9.7'],\n",
       "      dtype=object)"
      ]
     },
     "execution_count": 7,
     "metadata": {},
     "output_type": "execute_result"
    }
   ],
   "source": [
    "games['user_score'].unique()"
   ]
  },
  {
   "cell_type": "markdown",
   "metadata": {},
   "source": [
    "Есть записи с не опредленным рейтингом (отсюда и тип object). С точки зрения дальнейшего исследования это то же самое, что NaN. Приведем tbd к NaN и заменим тип данных "
   ]
  },
  {
   "cell_type": "code",
   "execution_count": 8,
   "metadata": {},
   "outputs": [],
   "source": [
    "games.loc[games['user_score']=='tbd','user_score']=np.nan #замена tbd на NaN\n",
    "games['user_score'] = games['user_score'].astype(float) #приведение к типу float"
   ]
  },
  {
   "cell_type": "markdown",
   "metadata": {},
   "source": [
    "Посмотрим теперь подробнее на все колонки, чтобы найти возможные проблемы"
   ]
  },
  {
   "cell_type": "code",
   "execution_count": 9,
   "metadata": {},
   "outputs": [
    {
     "data": {
      "text/plain": [
       "Need for Speed: Most Wanted                             12\n",
       "FIFA 14                                                  9\n",
       "Ratatouille                                              9\n",
       "LEGO Marvel Super Heroes                                 9\n",
       "LEGO The Hobbit                                          8\n",
       "                                                        ..\n",
       "Double Dragon Advance                                    1\n",
       "Ultimate Block Party                                     1\n",
       "12-Sai. Koisuru Diary                                    1\n",
       "Medarot 3: Kabuto / Kuwagata Version                     1\n",
       "Spectral Souls: Resurrection of the Ethereal Empires     1\n",
       "Name: name, Length: 11426, dtype: int64"
      ]
     },
     "execution_count": 9,
     "metadata": {},
     "output_type": "execute_result"
    }
   ],
   "source": [
    "games['name'].value_counts()"
   ]
  },
  {
   "cell_type": "code",
   "execution_count": 10,
   "metadata": {},
   "outputs": [
    {
     "data": {
      "text/html": [
       "<div>\n",
       "<style scoped>\n",
       "    .dataframe tbody tr th:only-of-type {\n",
       "        vertical-align: middle;\n",
       "    }\n",
       "\n",
       "    .dataframe tbody tr th {\n",
       "        vertical-align: top;\n",
       "    }\n",
       "\n",
       "    .dataframe thead th {\n",
       "        text-align: right;\n",
       "    }\n",
       "</style>\n",
       "<table border=\"1\" class=\"dataframe\">\n",
       "  <thead>\n",
       "    <tr style=\"text-align: right;\">\n",
       "      <th></th>\n",
       "      <th>name</th>\n",
       "      <th>platform</th>\n",
       "      <th>year_of_release</th>\n",
       "      <th>genre</th>\n",
       "      <th>na_sales</th>\n",
       "      <th>eu_sales</th>\n",
       "      <th>jp_sales</th>\n",
       "      <th>other_sales</th>\n",
       "      <th>critic_score</th>\n",
       "      <th>user_score</th>\n",
       "      <th>rating</th>\n",
       "    </tr>\n",
       "  </thead>\n",
       "  <tbody>\n",
       "    <tr>\n",
       "      <th>730</th>\n",
       "      <td>LEGO Marvel Super Heroes</td>\n",
       "      <td>X360</td>\n",
       "      <td>2013</td>\n",
       "      <td>Action</td>\n",
       "      <td>1.24</td>\n",
       "      <td>0.79</td>\n",
       "      <td>0.00</td>\n",
       "      <td>0.19</td>\n",
       "      <td>80.0</td>\n",
       "      <td>7.6</td>\n",
       "      <td>E10+</td>\n",
       "    </tr>\n",
       "    <tr>\n",
       "      <th>945</th>\n",
       "      <td>LEGO Marvel Super Heroes</td>\n",
       "      <td>PS3</td>\n",
       "      <td>2013</td>\n",
       "      <td>Action</td>\n",
       "      <td>0.77</td>\n",
       "      <td>0.76</td>\n",
       "      <td>0.01</td>\n",
       "      <td>0.29</td>\n",
       "      <td>82.0</td>\n",
       "      <td>7.9</td>\n",
       "      <td>E10+</td>\n",
       "    </tr>\n",
       "    <tr>\n",
       "      <th>1139</th>\n",
       "      <td>LEGO Marvel Super Heroes</td>\n",
       "      <td>PS4</td>\n",
       "      <td>2013</td>\n",
       "      <td>Action</td>\n",
       "      <td>0.59</td>\n",
       "      <td>0.76</td>\n",
       "      <td>0.01</td>\n",
       "      <td>0.26</td>\n",
       "      <td>83.0</td>\n",
       "      <td>7.7</td>\n",
       "      <td>E10+</td>\n",
       "    </tr>\n",
       "    <tr>\n",
       "      <th>1959</th>\n",
       "      <td>LEGO Marvel Super Heroes</td>\n",
       "      <td>XOne</td>\n",
       "      <td>2013</td>\n",
       "      <td>Action</td>\n",
       "      <td>0.61</td>\n",
       "      <td>0.35</td>\n",
       "      <td>0.00</td>\n",
       "      <td>0.09</td>\n",
       "      <td>NaN</td>\n",
       "      <td>6.8</td>\n",
       "      <td>E10+</td>\n",
       "    </tr>\n",
       "    <tr>\n",
       "      <th>2313</th>\n",
       "      <td>LEGO Marvel Super Heroes</td>\n",
       "      <td>3DS</td>\n",
       "      <td>2013</td>\n",
       "      <td>Action</td>\n",
       "      <td>0.42</td>\n",
       "      <td>0.36</td>\n",
       "      <td>0.04</td>\n",
       "      <td>0.07</td>\n",
       "      <td>61.0</td>\n",
       "      <td>5.2</td>\n",
       "      <td>E10+</td>\n",
       "    </tr>\n",
       "    <tr>\n",
       "      <th>2778</th>\n",
       "      <td>LEGO Marvel Super Heroes</td>\n",
       "      <td>WiiU</td>\n",
       "      <td>2013</td>\n",
       "      <td>Action</td>\n",
       "      <td>0.31</td>\n",
       "      <td>0.35</td>\n",
       "      <td>0.02</td>\n",
       "      <td>0.06</td>\n",
       "      <td>82.0</td>\n",
       "      <td>8.0</td>\n",
       "      <td>E10+</td>\n",
       "    </tr>\n",
       "    <tr>\n",
       "      <th>3876</th>\n",
       "      <td>LEGO Marvel Super Heroes</td>\n",
       "      <td>PSV</td>\n",
       "      <td>2013</td>\n",
       "      <td>Action</td>\n",
       "      <td>0.11</td>\n",
       "      <td>0.29</td>\n",
       "      <td>0.00</td>\n",
       "      <td>0.11</td>\n",
       "      <td>NaN</td>\n",
       "      <td>NaN</td>\n",
       "      <td>NaN</td>\n",
       "    </tr>\n",
       "    <tr>\n",
       "      <th>5054</th>\n",
       "      <td>LEGO Marvel Super Heroes</td>\n",
       "      <td>DS</td>\n",
       "      <td>2013</td>\n",
       "      <td>Action</td>\n",
       "      <td>0.22</td>\n",
       "      <td>0.13</td>\n",
       "      <td>0.00</td>\n",
       "      <td>0.03</td>\n",
       "      <td>NaN</td>\n",
       "      <td>4.8</td>\n",
       "      <td>E10+</td>\n",
       "    </tr>\n",
       "    <tr>\n",
       "      <th>8369</th>\n",
       "      <td>LEGO Marvel Super Heroes</td>\n",
       "      <td>PC</td>\n",
       "      <td>2013</td>\n",
       "      <td>Action</td>\n",
       "      <td>0.04</td>\n",
       "      <td>0.12</td>\n",
       "      <td>0.00</td>\n",
       "      <td>0.01</td>\n",
       "      <td>78.0</td>\n",
       "      <td>8.1</td>\n",
       "      <td>E10+</td>\n",
       "    </tr>\n",
       "  </tbody>\n",
       "</table>\n",
       "</div>"
      ],
      "text/plain": [
       "                          name platform  year_of_release   genre  na_sales  \\\n",
       "730   LEGO Marvel Super Heroes     X360             2013  Action      1.24   \n",
       "945   LEGO Marvel Super Heroes      PS3             2013  Action      0.77   \n",
       "1139  LEGO Marvel Super Heroes      PS4             2013  Action      0.59   \n",
       "1959  LEGO Marvel Super Heroes     XOne             2013  Action      0.61   \n",
       "2313  LEGO Marvel Super Heroes      3DS             2013  Action      0.42   \n",
       "2778  LEGO Marvel Super Heroes     WiiU             2013  Action      0.31   \n",
       "3876  LEGO Marvel Super Heroes      PSV             2013  Action      0.11   \n",
       "5054  LEGO Marvel Super Heroes       DS             2013  Action      0.22   \n",
       "8369  LEGO Marvel Super Heroes       PC             2013  Action      0.04   \n",
       "\n",
       "      eu_sales  jp_sales  other_sales  critic_score  user_score rating  \n",
       "730       0.79      0.00         0.19          80.0         7.6   E10+  \n",
       "945       0.76      0.01         0.29          82.0         7.9   E10+  \n",
       "1139      0.76      0.01         0.26          83.0         7.7   E10+  \n",
       "1959      0.35      0.00         0.09           NaN         6.8   E10+  \n",
       "2313      0.36      0.04         0.07          61.0         5.2   E10+  \n",
       "2778      0.35      0.02         0.06          82.0         8.0   E10+  \n",
       "3876      0.29      0.00         0.11           NaN         NaN    NaN  \n",
       "5054      0.13      0.00         0.03           NaN         4.8   E10+  \n",
       "8369      0.12      0.00         0.01          78.0         8.1   E10+  "
      ]
     },
     "execution_count": 10,
     "metadata": {},
     "output_type": "execute_result"
    }
   ],
   "source": [
    "games[games['name']=='LEGO Marvel Super Heroes'] #для примера смотрим повторы игры"
   ]
  },
  {
   "cell_type": "markdown",
   "metadata": {},
   "source": [
    "Среди названий игр есть много повторов, но это не ошибка, а одни и те же игры на разных платформах."
   ]
  },
  {
   "cell_type": "code",
   "execution_count": 11,
   "metadata": {},
   "outputs": [
    {
     "data": {
      "text/plain": [
       "11426"
      ]
     },
     "execution_count": 11,
     "metadata": {},
     "output_type": "execute_result"
    }
   ],
   "source": [
    "len(games['name'].unique())"
   ]
  },
  {
   "cell_type": "markdown",
   "metadata": {},
   "source": [
    "Уникальных игр всего 11 тысяч"
   ]
  },
  {
   "cell_type": "markdown",
   "metadata": {},
   "source": [
    " На примере игры LEGO Marvel Super Heroes видно, что пропуски в колонке rating можно заполнить по крайней мере частично. Рейтинг игры не зависит от платформы, поэтому и для PSV можно присвоить рейтинг E10+ "
   ]
  },
  {
   "cell_type": "code",
   "execution_count": 12,
   "metadata": {},
   "outputs": [],
   "source": [
    "\n",
    "#вспомогательная сводная таблица с названиями игр и рейтингом. В качестве рейтинга берем первое не NaN значение для данной игры\n",
    "rating = games.pivot_table(index='name',\n",
    "                           values='rating', \n",
    "                           aggfunc='first').reset_index() \n",
    "\n",
    "rating_dict = dict(zip(rating.name,rating.rating)) #cоздание словаря, в котором каждой игре присвоен рейтинг"
   ]
  },
  {
   "cell_type": "code",
   "execution_count": 13,
   "metadata": {},
   "outputs": [],
   "source": [
    "\n",
    "#записываем в новую колонку рейтинг из словаря\n",
    "games['rating'] = games['rating'].fillna(games['name'].apply(lambda x: rating_dict.get(x)))"
   ]
  },
  {
   "cell_type": "code",
   "execution_count": 14,
   "metadata": {},
   "outputs": [
    {
     "name": "stdout",
     "output_type": "stream",
     "text": [
      "<class 'pandas.core.frame.DataFrame'>\n",
      "Int64Index: 16444 entries, 0 to 16714\n",
      "Data columns (total 11 columns):\n",
      " #   Column           Non-Null Count  Dtype  \n",
      "---  ------           --------------  -----  \n",
      " 0   name             16444 non-null  object \n",
      " 1   platform         16444 non-null  object \n",
      " 2   year_of_release  16444 non-null  int64  \n",
      " 3   genre            16444 non-null  object \n",
      " 4   na_sales         16444 non-null  float64\n",
      " 5   eu_sales         16444 non-null  float64\n",
      " 6   jp_sales         16444 non-null  float64\n",
      " 7   other_sales      16444 non-null  float64\n",
      " 8   critic_score     7983 non-null   float64\n",
      " 9   user_score       7463 non-null   float64\n",
      " 10  rating           10185 non-null  object \n",
      "dtypes: float64(6), int64(1), object(4)\n",
      "memory usage: 1.5+ MB\n"
     ]
    }
   ],
   "source": [
    "games.info()"
   ]
  },
  {
   "cell_type": "markdown",
   "metadata": {},
   "source": [
    "Число пропусков в рейтинге сократилось"
   ]
  },
  {
   "cell_type": "code",
   "execution_count": 15,
   "metadata": {},
   "outputs": [
    {
     "data": {
      "text/plain": [
       "['2600',\n",
       " '3DO',\n",
       " '3DS',\n",
       " 'DC',\n",
       " 'DS',\n",
       " 'GB',\n",
       " 'GBA',\n",
       " 'GC',\n",
       " 'GEN',\n",
       " 'GG',\n",
       " 'N64',\n",
       " 'NES',\n",
       " 'NG',\n",
       " 'PC',\n",
       " 'PCFX',\n",
       " 'PS',\n",
       " 'PS2',\n",
       " 'PS3',\n",
       " 'PS4',\n",
       " 'PSP',\n",
       " 'PSV',\n",
       " 'SAT',\n",
       " 'SCD',\n",
       " 'SNES',\n",
       " 'TG16',\n",
       " 'WS',\n",
       " 'Wii',\n",
       " 'WiiU',\n",
       " 'X360',\n",
       " 'XB',\n",
       " 'XOne']"
      ]
     },
     "execution_count": 15,
     "metadata": {},
     "output_type": "execute_result"
    }
   ],
   "source": [
    "sorted(games['platform'].unique())"
   ]
  },
  {
   "cell_type": "markdown",
   "metadata": {},
   "source": [
    "Здесь проблем не обнаружено"
   ]
  },
  {
   "cell_type": "code",
   "execution_count": 16,
   "metadata": {},
   "outputs": [
    {
     "data": {
      "text/plain": [
       "['Action',\n",
       " 'Adventure',\n",
       " 'Fighting',\n",
       " 'Misc',\n",
       " 'Platform',\n",
       " 'Puzzle',\n",
       " 'Racing',\n",
       " 'Role-Playing',\n",
       " 'Shooter',\n",
       " 'Simulation',\n",
       " 'Sports',\n",
       " 'Strategy']"
      ]
     },
     "execution_count": 16,
     "metadata": {},
     "output_type": "execute_result"
    }
   ],
   "source": [
    "sorted(games['genre'].unique())"
   ]
  },
  {
   "cell_type": "markdown",
   "metadata": {},
   "source": [
    "Здесь проблем тоже не обнаружено"
   ]
  },
  {
   "cell_type": "code",
   "execution_count": 17,
   "metadata": {},
   "outputs": [
    {
     "data": {
      "text/plain": [
       "<AxesSubplot:>"
      ]
     },
     "execution_count": 17,
     "metadata": {},
     "output_type": "execute_result"
    },
    {
     "data": {
      "image/png": "[encoded data removed]",
      "text/plain": [
       "<Figure size 432x288 with 1 Axes>"
      ]
     },
     "metadata": {
      "needs_background": "light"
     },
     "output_type": "display_data"
    }
   ],
   "source": [
    "games['year_of_release'].hist(bins=37)"
   ]
  },
  {
   "cell_type": "markdown",
   "metadata": {},
   "source": [
    "Странностей не обнаружено. Ниже отсечем ненужные данные и будем рассматривать только актуальный период"
   ]
  },
  {
   "cell_type": "code",
   "execution_count": 18,
   "metadata": {},
   "outputs": [
    {
     "data": {
      "text/plain": [
       "count    16444.000000\n",
       "mean         0.264012\n",
       "std          0.818378\n",
       "min          0.000000\n",
       "50%          0.080000\n",
       "99%          2.805700\n",
       "max         41.360000\n",
       "Name: na_sales, dtype: float64"
      ]
     },
     "execution_count": 18,
     "metadata": {},
     "output_type": "execute_result"
    },
    {
     "data": {
      "image/png": "[encoded data removed]",
      "text/plain": [
       "<Figure size 432x288 with 1 Axes>"
      ]
     },
     "metadata": {
      "needs_background": "light"
     },
     "output_type": "display_data"
    }
   ],
   "source": [
    "games['na_sales'].hist(bins=100)\n",
    "games['na_sales'].describe(percentiles=[0.99])"
   ]
  },
  {
   "cell_type": "code",
   "execution_count": 19,
   "metadata": {},
   "outputs": [
    {
     "data": {
      "text/plain": [
       "59"
      ]
     },
     "execution_count": 19,
     "metadata": {},
     "output_type": "execute_result"
    }
   ],
   "source": [
    "games[games['na_sales']>5]['name'].count()"
   ]
  },
  {
   "cell_type": "markdown",
   "metadata": {},
   "source": [
    "продажи 99% игр в Северной Америке не превысили 2.8 млн копий. Всего 59 продали выше 5 млн копий. Рассматривать их вместе с остальными не имеет смысла, они явно выделяется в отдельную категорию.\n",
    "Для дальнешего исследования создадим отдельный датафрейм df с отобранными данными. "
   ]
  },
  {
   "cell_type": "code",
   "execution_count": 20,
   "metadata": {},
   "outputs": [],
   "source": [
    "df = games[games['na_sales']<=5]"
   ]
  },
  {
   "cell_type": "code",
   "execution_count": 21,
   "metadata": {},
   "outputs": [
    {
     "data": {
      "text/plain": [
       "<AxesSubplot:>"
      ]
     },
     "execution_count": 21,
     "metadata": {},
     "output_type": "execute_result"
    },
    {
     "data": {
      "image/png": "[encoded data removed]",
      "text/plain": [
       "<Figure size 432x288 with 1 Axes>"
      ]
     },
     "metadata": {
      "needs_background": "light"
     },
     "output_type": "display_data"
    }
   ],
   "source": [
    "df['na_sales'].hist(bins=100)"
   ]
  },
  {
   "cell_type": "code",
   "execution_count": 22,
   "metadata": {},
   "outputs": [
    {
     "data": {
      "text/plain": [
       "count    16385.000000\n",
       "mean         0.129066\n",
       "std          0.339813\n",
       "min          0.000000\n",
       "50%          0.020000\n",
       "99%          1.641600\n",
       "max          9.200000\n",
       "Name: eu_sales, dtype: float64"
      ]
     },
     "execution_count": 22,
     "metadata": {},
     "output_type": "execute_result"
    },
    {
     "data": {
      "image/png": "[encoded data removed]",
      "text/plain": [
       "<Figure size 432x288 with 1 Axes>"
      ]
     },
     "metadata": {
      "needs_background": "light"
     },
     "output_type": "display_data"
    }
   ],
   "source": [
    "df['eu_sales'].hist(bins=100)\n",
    "df['eu_sales'].describe(percentiles=[0.99])"
   ]
  },
  {
   "cell_type": "markdown",
   "metadata": {},
   "source": [
    "99% продаж в Европе не превысили 1.6 млн копий. Не будем рассматривать игры, у которых в Европе более 3 млн продаж"
   ]
  },
  {
   "cell_type": "code",
   "execution_count": 23,
   "metadata": {},
   "outputs": [],
   "source": [
    "df = df[df['eu_sales']<=3]"
   ]
  },
  {
   "cell_type": "code",
   "execution_count": 24,
   "metadata": {},
   "outputs": [
    {
     "data": {
      "text/plain": [
       "count    16355.000000\n",
       "mean         0.069225\n",
       "std          0.237076\n",
       "min          0.000000\n",
       "50%          0.000000\n",
       "99%          1.100000\n",
       "max          4.870000\n",
       "Name: jp_sales, dtype: float64"
      ]
     },
     "execution_count": 24,
     "metadata": {},
     "output_type": "execute_result"
    },
    {
     "data": {
      "image/png": "[encoded data removed]",
      "text/plain": [
       "<Figure size 432x288 with 1 Axes>"
      ]
     },
     "metadata": {
      "needs_background": "light"
     },
     "output_type": "display_data"
    }
   ],
   "source": [
    "df['jp_sales'].hist(bins=100)\n",
    "df['jp_sales'].describe(percentiles=[0.99])"
   ]
  },
  {
   "cell_type": "markdown",
   "metadata": {},
   "source": [
    "99% продаж в Японии не превысили 1.1 млн копий. Не будем рассматривать игры, у которых в Европе более 3 млн продаж"
   ]
  },
  {
   "cell_type": "code",
   "execution_count": 25,
   "metadata": {},
   "outputs": [],
   "source": [
    "df = df[df['jp_sales']<=3]"
   ]
  },
  {
   "cell_type": "code",
   "execution_count": 26,
   "metadata": {},
   "outputs": [
    {
     "data": {
      "text/plain": [
       "count    16337.000000\n",
       "mean         0.040222\n",
       "std          0.119815\n",
       "min          0.000000\n",
       "50%          0.010000\n",
       "99%          0.480000\n",
       "max          7.530000\n",
       "Name: other_sales, dtype: float64"
      ]
     },
     "execution_count": 26,
     "metadata": {},
     "output_type": "execute_result"
    },
    {
     "data": {
      "image/png": "[encoded data removed]",
      "text/plain": [
       "<Figure size 432x288 with 1 Axes>"
      ]
     },
     "metadata": {
      "needs_background": "light"
     },
     "output_type": "display_data"
    }
   ],
   "source": [
    "df['other_sales'].hist(bins=50)\n",
    "df['other_sales'].describe(percentiles=[0.99])"
   ]
  },
  {
   "cell_type": "markdown",
   "metadata": {},
   "source": [
    "По продажам в других странах выбиваются игры, у которых число продаж первысило 0.48. Не будем включать в рассмотрение игры с продажами в других странах более 2 млн копий"
   ]
  },
  {
   "cell_type": "code",
   "execution_count": 27,
   "metadata": {},
   "outputs": [],
   "source": [
    "df = df[df['other_sales']<=2]\n"
   ]
  },
  {
   "cell_type": "code",
   "execution_count": 28,
   "metadata": {},
   "outputs": [
    {
     "data": {
      "text/plain": [
       "<AxesSubplot:>"
      ]
     },
     "execution_count": 28,
     "metadata": {},
     "output_type": "execute_result"
    },
    {
     "data": {
      "image/png": "[encoded data removed]",
      "text/plain": [
       "<Figure size 432x288 with 1 Axes>"
      ]
     },
     "metadata": {
      "needs_background": "light"
     },
     "output_type": "display_data"
    }
   ],
   "source": [
    "df['critic_score'].hist(bins=84)"
   ]
  },
  {
   "cell_type": "markdown",
   "metadata": {},
   "source": [
    "Здесь проблем не обнаружено"
   ]
  },
  {
   "cell_type": "markdown",
   "metadata": {},
   "source": [
    "Введем дополнительный столбец с суммарным количеством продаж во всем мире"
   ]
  },
  {
   "cell_type": "code",
   "execution_count": 29,
   "metadata": {},
   "outputs": [],
   "source": [
    "df['total_sales'] = df['na_sales']+df['eu_sales']+df['jp_sales']+df['other_sales']"
   ]
  },
  {
   "cell_type": "code",
   "execution_count": 30,
   "metadata": {},
   "outputs": [
    {
     "data": {
      "text/plain": [
       "0.9932498175626369"
      ]
     },
     "execution_count": 30,
     "metadata": {},
     "output_type": "execute_result"
    }
   ],
   "source": [
    "df.shape[0]/games.shape[0] #проверяем сколько данных удалили"
   ]
  },
  {
   "cell_type": "markdown",
   "metadata": {},
   "source": [
    "После удаления осталось 99% данных, это хорошо"
   ]
  },
  {
   "cell_type": "markdown",
   "metadata": {},
   "source": [
    "<div class=\"alert alert-success\">\n",
    "<h2> Комментарий ревьюера <a class=\"tocSkip\"> </h2>\n",
    "\n",
    "<b>Все отлично!👍:</b>  \n",
    "Хорошая логика рассуждения в процессе предобработки данных.  \n",
    "    \n",
    "*p.s.: удаление супер-популярных релизов не скажется на результатах анализа, но и выбросом это не является, поэтому можно было и оставить.*"
   ]
  },
  {
   "cell_type": "markdown",
   "metadata": {},
   "source": [
    "# Исследовательский анализ данных"
   ]
  },
  {
   "cell_type": "markdown",
   "metadata": {},
   "source": [
    "## Выпуск игр в разные годы"
   ]
  },
  {
   "cell_type": "code",
   "execution_count": 31,
   "metadata": {},
   "outputs": [
    {
     "data": {
      "text/plain": [
       "count    16333.000000\n",
       "mean      2006.492990\n",
       "std          5.858234\n",
       "min       1980.000000\n",
       "10%       1999.000000\n",
       "50%       2007.000000\n",
       "max       2016.000000\n",
       "Name: year_of_release, dtype: float64"
      ]
     },
     "execution_count": 31,
     "metadata": {},
     "output_type": "execute_result"
    },
    {
     "data": {
      "image/png": "[encoded data removed]",
      "text/plain": [
       "<Figure size 432x288 with 1 Axes>"
      ]
     },
     "metadata": {
      "needs_background": "light"
     },
     "output_type": "display_data"
    }
   ],
   "source": [
    "df['year_of_release'].hist(bins=37)\n",
    "df['year_of_release'].describe(percentiles=[0.1])"
   ]
  },
  {
   "cell_type": "markdown",
   "metadata": {},
   "source": [
    "Брать данные за все года с 1980 не имеет смысла. Далее будем исследовать только игры, вышедшие после 2000 года. Причины две:\n",
    "\n",
    "1. Как видно из описания распределения, 90% игр в датасете вышли после 1999 года\n",
    "2. визуально виден резкий рост количетсва игр после 2000 года (а именно в 2002)\n",
    "\n",
    "Можно взять и более новые игры, вышедшие, например, после 2007 года, но в таком случае придется пожертвовать слишком большим количеством данных"
   ]
  },
  {
   "cell_type": "code",
   "execution_count": 32,
   "metadata": {},
   "outputs": [],
   "source": [
    "df_all = df # на всякий случай сохраняем таблицу со всеми годами\n",
    "df = df[df['year_of_release']>2000] #новая таблица с данными за актуальный перид"
   ]
  },
  {
   "cell_type": "markdown",
   "metadata": {},
   "source": [
    "## Платформы"
   ]
  },
  {
   "cell_type": "code",
   "execution_count": 33,
   "metadata": {},
   "outputs": [
    {
     "data": {
      "text/plain": [
       "31"
      ]
     },
     "execution_count": 33,
     "metadata": {},
     "output_type": "execute_result"
    }
   ],
   "source": [
    "len(df_all['platform'].unique()) #выясняем сколько всего платформ"
   ]
  },
  {
   "cell_type": "code",
   "execution_count": 34,
   "metadata": {},
   "outputs": [],
   "source": [
    "#cводная таблица по платформам и годам\n",
    "\n",
    "platforms_pivot = df_all.pivot_table(values = 'total_sales',index='platform', columns='year_of_release', aggfunc='sum', fill_value=0)"
   ]
  },
  {
   "cell_type": "code",
   "execution_count": 35,
   "metadata": {},
   "outputs": [
    {
     "data": {
      "text/html": [
       "<div>\n",
       "<style scoped>\n",
       "    .dataframe tbody tr th:only-of-type {\n",
       "        vertical-align: middle;\n",
       "    }\n",
       "\n",
       "    .dataframe tbody tr th {\n",
       "        vertical-align: top;\n",
       "    }\n",
       "\n",
       "    .dataframe thead th {\n",
       "        text-align: right;\n",
       "    }\n",
       "</style>\n",
       "<table border=\"1\" class=\"dataframe\">\n",
       "  <thead>\n",
       "    <tr style=\"text-align: right;\">\n",
       "      <th>year_of_release</th>\n",
       "      <th>1980</th>\n",
       "      <th>1981</th>\n",
       "      <th>1982</th>\n",
       "      <th>1983</th>\n",
       "      <th>1984</th>\n",
       "      <th>1985</th>\n",
       "      <th>1986</th>\n",
       "      <th>1987</th>\n",
       "      <th>1988</th>\n",
       "      <th>1989</th>\n",
       "      <th>...</th>\n",
       "      <th>2007</th>\n",
       "      <th>2008</th>\n",
       "      <th>2009</th>\n",
       "      <th>2010</th>\n",
       "      <th>2011</th>\n",
       "      <th>2012</th>\n",
       "      <th>2013</th>\n",
       "      <th>2014</th>\n",
       "      <th>2015</th>\n",
       "      <th>2016</th>\n",
       "    </tr>\n",
       "    <tr>\n",
       "      <th>platform</th>\n",
       "      <th></th>\n",
       "      <th></th>\n",
       "      <th></th>\n",
       "      <th></th>\n",
       "      <th></th>\n",
       "      <th></th>\n",
       "      <th></th>\n",
       "      <th></th>\n",
       "      <th></th>\n",
       "      <th></th>\n",
       "      <th></th>\n",
       "      <th></th>\n",
       "      <th></th>\n",
       "      <th></th>\n",
       "      <th></th>\n",
       "      <th></th>\n",
       "      <th></th>\n",
       "      <th></th>\n",
       "      <th></th>\n",
       "      <th></th>\n",
       "      <th></th>\n",
       "    </tr>\n",
       "  </thead>\n",
       "  <tbody>\n",
       "    <tr>\n",
       "      <th>2600</th>\n",
       "      <td>11.38</td>\n",
       "      <td>35.68</td>\n",
       "      <td>21.07</td>\n",
       "      <td>5.84</td>\n",
       "      <td>0.27</td>\n",
       "      <td>0.45</td>\n",
       "      <td>0.67</td>\n",
       "      <td>1.94</td>\n",
       "      <td>0.74</td>\n",
       "      <td>0.63</td>\n",
       "      <td>...</td>\n",
       "      <td>0.00</td>\n",
       "      <td>0.00</td>\n",
       "      <td>0.00</td>\n",
       "      <td>0.00</td>\n",
       "      <td>0.00</td>\n",
       "      <td>0.00</td>\n",
       "      <td>0.00</td>\n",
       "      <td>0.00</td>\n",
       "      <td>0.00</td>\n",
       "      <td>0.00</td>\n",
       "    </tr>\n",
       "    <tr>\n",
       "      <th>3DO</th>\n",
       "      <td>0.00</td>\n",
       "      <td>0.00</td>\n",
       "      <td>0.00</td>\n",
       "      <td>0.00</td>\n",
       "      <td>0.00</td>\n",
       "      <td>0.00</td>\n",
       "      <td>0.00</td>\n",
       "      <td>0.00</td>\n",
       "      <td>0.00</td>\n",
       "      <td>0.00</td>\n",
       "      <td>...</td>\n",
       "      <td>0.00</td>\n",
       "      <td>0.00</td>\n",
       "      <td>0.00</td>\n",
       "      <td>0.00</td>\n",
       "      <td>0.00</td>\n",
       "      <td>0.00</td>\n",
       "      <td>0.00</td>\n",
       "      <td>0.00</td>\n",
       "      <td>0.00</td>\n",
       "      <td>0.00</td>\n",
       "    </tr>\n",
       "    <tr>\n",
       "      <th>3DS</th>\n",
       "      <td>0.00</td>\n",
       "      <td>0.00</td>\n",
       "      <td>0.00</td>\n",
       "      <td>0.00</td>\n",
       "      <td>0.00</td>\n",
       "      <td>0.00</td>\n",
       "      <td>0.00</td>\n",
       "      <td>0.00</td>\n",
       "      <td>0.00</td>\n",
       "      <td>0.00</td>\n",
       "      <td>...</td>\n",
       "      <td>0.00</td>\n",
       "      <td>0.00</td>\n",
       "      <td>0.00</td>\n",
       "      <td>0.00</td>\n",
       "      <td>50.55</td>\n",
       "      <td>32.29</td>\n",
       "      <td>38.53</td>\n",
       "      <td>28.80</td>\n",
       "      <td>27.78</td>\n",
       "      <td>15.14</td>\n",
       "    </tr>\n",
       "    <tr>\n",
       "      <th>DC</th>\n",
       "      <td>0.00</td>\n",
       "      <td>0.00</td>\n",
       "      <td>0.00</td>\n",
       "      <td>0.00</td>\n",
       "      <td>0.00</td>\n",
       "      <td>0.00</td>\n",
       "      <td>0.00</td>\n",
       "      <td>0.00</td>\n",
       "      <td>0.00</td>\n",
       "      <td>0.00</td>\n",
       "      <td>...</td>\n",
       "      <td>0.02</td>\n",
       "      <td>0.04</td>\n",
       "      <td>0.00</td>\n",
       "      <td>0.00</td>\n",
       "      <td>0.00</td>\n",
       "      <td>0.00</td>\n",
       "      <td>0.00</td>\n",
       "      <td>0.00</td>\n",
       "      <td>0.00</td>\n",
       "      <td>0.00</td>\n",
       "    </tr>\n",
       "    <tr>\n",
       "      <th>DS</th>\n",
       "      <td>0.00</td>\n",
       "      <td>0.00</td>\n",
       "      <td>0.00</td>\n",
       "      <td>0.00</td>\n",
       "      <td>0.00</td>\n",
       "      <td>0.02</td>\n",
       "      <td>0.00</td>\n",
       "      <td>0.00</td>\n",
       "      <td>0.00</td>\n",
       "      <td>0.00</td>\n",
       "      <td>...</td>\n",
       "      <td>146.94</td>\n",
       "      <td>145.31</td>\n",
       "      <td>98.30</td>\n",
       "      <td>69.89</td>\n",
       "      <td>26.18</td>\n",
       "      <td>2.95</td>\n",
       "      <td>1.54</td>\n",
       "      <td>0.00</td>\n",
       "      <td>0.00</td>\n",
       "      <td>0.00</td>\n",
       "    </tr>\n",
       "    <tr>\n",
       "      <th>GB</th>\n",
       "      <td>0.00</td>\n",
       "      <td>0.00</td>\n",
       "      <td>0.00</td>\n",
       "      <td>0.00</td>\n",
       "      <td>0.00</td>\n",
       "      <td>0.00</td>\n",
       "      <td>0.00</td>\n",
       "      <td>0.00</td>\n",
       "      <td>1.43</td>\n",
       "      <td>16.57</td>\n",
       "      <td>...</td>\n",
       "      <td>0.00</td>\n",
       "      <td>0.00</td>\n",
       "      <td>0.00</td>\n",
       "      <td>0.00</td>\n",
       "      <td>0.00</td>\n",
       "      <td>0.00</td>\n",
       "      <td>0.00</td>\n",
       "      <td>0.00</td>\n",
       "      <td>0.00</td>\n",
       "      <td>0.00</td>\n",
       "    </tr>\n",
       "    <tr>\n",
       "      <th>GBA</th>\n",
       "      <td>0.00</td>\n",
       "      <td>0.00</td>\n",
       "      <td>0.00</td>\n",
       "      <td>0.00</td>\n",
       "      <td>0.00</td>\n",
       "      <td>0.00</td>\n",
       "      <td>0.00</td>\n",
       "      <td>0.00</td>\n",
       "      <td>0.00</td>\n",
       "      <td>0.00</td>\n",
       "      <td>...</td>\n",
       "      <td>3.40</td>\n",
       "      <td>0.00</td>\n",
       "      <td>0.00</td>\n",
       "      <td>0.00</td>\n",
       "      <td>0.00</td>\n",
       "      <td>0.00</td>\n",
       "      <td>0.00</td>\n",
       "      <td>0.00</td>\n",
       "      <td>0.00</td>\n",
       "      <td>0.00</td>\n",
       "    </tr>\n",
       "    <tr>\n",
       "      <th>GC</th>\n",
       "      <td>0.00</td>\n",
       "      <td>0.00</td>\n",
       "      <td>0.00</td>\n",
       "      <td>0.00</td>\n",
       "      <td>0.00</td>\n",
       "      <td>0.00</td>\n",
       "      <td>0.00</td>\n",
       "      <td>0.00</td>\n",
       "      <td>0.00</td>\n",
       "      <td>0.00</td>\n",
       "      <td>...</td>\n",
       "      <td>0.27</td>\n",
       "      <td>0.00</td>\n",
       "      <td>0.00</td>\n",
       "      <td>0.00</td>\n",
       "      <td>0.00</td>\n",
       "      <td>0.00</td>\n",
       "      <td>0.00</td>\n",
       "      <td>0.00</td>\n",
       "      <td>0.00</td>\n",
       "      <td>0.00</td>\n",
       "    </tr>\n",
       "    <tr>\n",
       "      <th>GEN</th>\n",
       "      <td>0.00</td>\n",
       "      <td>0.00</td>\n",
       "      <td>0.00</td>\n",
       "      <td>0.00</td>\n",
       "      <td>0.00</td>\n",
       "      <td>0.00</td>\n",
       "      <td>0.00</td>\n",
       "      <td>0.00</td>\n",
       "      <td>0.00</td>\n",
       "      <td>0.00</td>\n",
       "      <td>...</td>\n",
       "      <td>0.00</td>\n",
       "      <td>0.00</td>\n",
       "      <td>0.00</td>\n",
       "      <td>0.00</td>\n",
       "      <td>0.00</td>\n",
       "      <td>0.00</td>\n",
       "      <td>0.00</td>\n",
       "      <td>0.00</td>\n",
       "      <td>0.00</td>\n",
       "      <td>0.00</td>\n",
       "    </tr>\n",
       "    <tr>\n",
       "      <th>GG</th>\n",
       "      <td>0.00</td>\n",
       "      <td>0.00</td>\n",
       "      <td>0.00</td>\n",
       "      <td>0.00</td>\n",
       "      <td>0.00</td>\n",
       "      <td>0.00</td>\n",
       "      <td>0.00</td>\n",
       "      <td>0.00</td>\n",
       "      <td>0.00</td>\n",
       "      <td>0.00</td>\n",
       "      <td>...</td>\n",
       "      <td>0.00</td>\n",
       "      <td>0.00</td>\n",
       "      <td>0.00</td>\n",
       "      <td>0.00</td>\n",
       "      <td>0.00</td>\n",
       "      <td>0.00</td>\n",
       "      <td>0.00</td>\n",
       "      <td>0.00</td>\n",
       "      <td>0.00</td>\n",
       "      <td>0.00</td>\n",
       "    </tr>\n",
       "    <tr>\n",
       "      <th>N64</th>\n",
       "      <td>0.00</td>\n",
       "      <td>0.00</td>\n",
       "      <td>0.00</td>\n",
       "      <td>0.00</td>\n",
       "      <td>0.00</td>\n",
       "      <td>0.00</td>\n",
       "      <td>0.00</td>\n",
       "      <td>0.00</td>\n",
       "      <td>0.00</td>\n",
       "      <td>0.00</td>\n",
       "      <td>...</td>\n",
       "      <td>0.00</td>\n",
       "      <td>0.00</td>\n",
       "      <td>0.00</td>\n",
       "      <td>0.00</td>\n",
       "      <td>0.00</td>\n",
       "      <td>0.00</td>\n",
       "      <td>0.00</td>\n",
       "      <td>0.00</td>\n",
       "      <td>0.00</td>\n",
       "      <td>0.00</td>\n",
       "    </tr>\n",
       "    <tr>\n",
       "      <th>NES</th>\n",
       "      <td>0.00</td>\n",
       "      <td>0.00</td>\n",
       "      <td>0.00</td>\n",
       "      <td>10.96</td>\n",
       "      <td>21.77</td>\n",
       "      <td>13.20</td>\n",
       "      <td>36.41</td>\n",
       "      <td>19.76</td>\n",
       "      <td>16.40</td>\n",
       "      <td>7.85</td>\n",
       "      <td>...</td>\n",
       "      <td>0.00</td>\n",
       "      <td>0.00</td>\n",
       "      <td>0.00</td>\n",
       "      <td>0.00</td>\n",
       "      <td>0.00</td>\n",
       "      <td>0.00</td>\n",
       "      <td>0.00</td>\n",
       "      <td>0.00</td>\n",
       "      <td>0.00</td>\n",
       "      <td>0.00</td>\n",
       "    </tr>\n",
       "    <tr>\n",
       "      <th>NG</th>\n",
       "      <td>0.00</td>\n",
       "      <td>0.00</td>\n",
       "      <td>0.00</td>\n",
       "      <td>0.00</td>\n",
       "      <td>0.00</td>\n",
       "      <td>0.00</td>\n",
       "      <td>0.00</td>\n",
       "      <td>0.00</td>\n",
       "      <td>0.00</td>\n",
       "      <td>0.00</td>\n",
       "      <td>...</td>\n",
       "      <td>0.00</td>\n",
       "      <td>0.00</td>\n",
       "      <td>0.00</td>\n",
       "      <td>0.00</td>\n",
       "      <td>0.00</td>\n",
       "      <td>0.00</td>\n",
       "      <td>0.00</td>\n",
       "      <td>0.00</td>\n",
       "      <td>0.00</td>\n",
       "      <td>0.00</td>\n",
       "    </tr>\n",
       "    <tr>\n",
       "      <th>PC</th>\n",
       "      <td>0.00</td>\n",
       "      <td>0.00</td>\n",
       "      <td>0.00</td>\n",
       "      <td>0.00</td>\n",
       "      <td>0.00</td>\n",
       "      <td>0.04</td>\n",
       "      <td>0.00</td>\n",
       "      <td>0.00</td>\n",
       "      <td>0.03</td>\n",
       "      <td>0.00</td>\n",
       "      <td>...</td>\n",
       "      <td>9.28</td>\n",
       "      <td>12.42</td>\n",
       "      <td>8.90</td>\n",
       "      <td>24.28</td>\n",
       "      <td>35.03</td>\n",
       "      <td>23.22</td>\n",
       "      <td>12.38</td>\n",
       "      <td>13.28</td>\n",
       "      <td>8.52</td>\n",
       "      <td>5.25</td>\n",
       "    </tr>\n",
       "    <tr>\n",
       "      <th>PCFX</th>\n",
       "      <td>0.00</td>\n",
       "      <td>0.00</td>\n",
       "      <td>0.00</td>\n",
       "      <td>0.00</td>\n",
       "      <td>0.00</td>\n",
       "      <td>0.00</td>\n",
       "      <td>0.00</td>\n",
       "      <td>0.00</td>\n",
       "      <td>0.00</td>\n",
       "      <td>0.00</td>\n",
       "      <td>...</td>\n",
       "      <td>0.00</td>\n",
       "      <td>0.00</td>\n",
       "      <td>0.00</td>\n",
       "      <td>0.00</td>\n",
       "      <td>0.00</td>\n",
       "      <td>0.00</td>\n",
       "      <td>0.00</td>\n",
       "      <td>0.00</td>\n",
       "      <td>0.00</td>\n",
       "      <td>0.00</td>\n",
       "    </tr>\n",
       "    <tr>\n",
       "      <th>PS</th>\n",
       "      <td>0.00</td>\n",
       "      <td>0.00</td>\n",
       "      <td>0.00</td>\n",
       "      <td>0.00</td>\n",
       "      <td>0.00</td>\n",
       "      <td>0.00</td>\n",
       "      <td>0.00</td>\n",
       "      <td>0.00</td>\n",
       "      <td>0.00</td>\n",
       "      <td>0.00</td>\n",
       "      <td>...</td>\n",
       "      <td>0.00</td>\n",
       "      <td>0.00</td>\n",
       "      <td>0.00</td>\n",
       "      <td>0.00</td>\n",
       "      <td>0.00</td>\n",
       "      <td>0.00</td>\n",
       "      <td>0.00</td>\n",
       "      <td>0.00</td>\n",
       "      <td>0.00</td>\n",
       "      <td>0.00</td>\n",
       "    </tr>\n",
       "    <tr>\n",
       "      <th>PS2</th>\n",
       "      <td>0.00</td>\n",
       "      <td>0.00</td>\n",
       "      <td>0.00</td>\n",
       "      <td>0.00</td>\n",
       "      <td>0.00</td>\n",
       "      <td>0.00</td>\n",
       "      <td>0.00</td>\n",
       "      <td>0.00</td>\n",
       "      <td>0.00</td>\n",
       "      <td>0.00</td>\n",
       "      <td>...</td>\n",
       "      <td>69.23</td>\n",
       "      <td>51.39</td>\n",
       "      <td>26.40</td>\n",
       "      <td>5.64</td>\n",
       "      <td>0.45</td>\n",
       "      <td>0.00</td>\n",
       "      <td>0.00</td>\n",
       "      <td>0.00</td>\n",
       "      <td>0.00</td>\n",
       "      <td>0.00</td>\n",
       "    </tr>\n",
       "    <tr>\n",
       "      <th>PS3</th>\n",
       "      <td>0.00</td>\n",
       "      <td>0.00</td>\n",
       "      <td>0.00</td>\n",
       "      <td>0.00</td>\n",
       "      <td>0.00</td>\n",
       "      <td>0.00</td>\n",
       "      <td>0.00</td>\n",
       "      <td>0.00</td>\n",
       "      <td>0.00</td>\n",
       "      <td>0.00</td>\n",
       "      <td>...</td>\n",
       "      <td>73.19</td>\n",
       "      <td>108.02</td>\n",
       "      <td>120.32</td>\n",
       "      <td>113.77</td>\n",
       "      <td>136.81</td>\n",
       "      <td>85.40</td>\n",
       "      <td>76.38</td>\n",
       "      <td>43.48</td>\n",
       "      <td>16.82</td>\n",
       "      <td>3.60</td>\n",
       "    </tr>\n",
       "    <tr>\n",
       "      <th>PS4</th>\n",
       "      <td>0.00</td>\n",
       "      <td>0.00</td>\n",
       "      <td>0.00</td>\n",
       "      <td>0.00</td>\n",
       "      <td>0.00</td>\n",
       "      <td>0.00</td>\n",
       "      <td>0.00</td>\n",
       "      <td>0.00</td>\n",
       "      <td>0.00</td>\n",
       "      <td>0.00</td>\n",
       "      <td>...</td>\n",
       "      <td>0.00</td>\n",
       "      <td>0.00</td>\n",
       "      <td>0.00</td>\n",
       "      <td>0.00</td>\n",
       "      <td>0.00</td>\n",
       "      <td>0.00</td>\n",
       "      <td>25.99</td>\n",
       "      <td>73.64</td>\n",
       "      <td>80.54</td>\n",
       "      <td>61.65</td>\n",
       "    </tr>\n",
       "    <tr>\n",
       "      <th>PSP</th>\n",
       "      <td>0.00</td>\n",
       "      <td>0.00</td>\n",
       "      <td>0.00</td>\n",
       "      <td>0.00</td>\n",
       "      <td>0.00</td>\n",
       "      <td>0.00</td>\n",
       "      <td>0.00</td>\n",
       "      <td>0.00</td>\n",
       "      <td>0.00</td>\n",
       "      <td>0.00</td>\n",
       "      <td>...</td>\n",
       "      <td>46.93</td>\n",
       "      <td>29.06</td>\n",
       "      <td>37.78</td>\n",
       "      <td>30.17</td>\n",
       "      <td>17.82</td>\n",
       "      <td>7.69</td>\n",
       "      <td>3.14</td>\n",
       "      <td>0.24</td>\n",
       "      <td>0.12</td>\n",
       "      <td>0.00</td>\n",
       "    </tr>\n",
       "    <tr>\n",
       "      <th>PSV</th>\n",
       "      <td>0.00</td>\n",
       "      <td>0.00</td>\n",
       "      <td>0.00</td>\n",
       "      <td>0.00</td>\n",
       "      <td>0.00</td>\n",
       "      <td>0.00</td>\n",
       "      <td>0.00</td>\n",
       "      <td>0.00</td>\n",
       "      <td>0.00</td>\n",
       "      <td>0.00</td>\n",
       "      <td>...</td>\n",
       "      <td>0.00</td>\n",
       "      <td>0.00</td>\n",
       "      <td>0.00</td>\n",
       "      <td>0.00</td>\n",
       "      <td>4.63</td>\n",
       "      <td>16.19</td>\n",
       "      <td>10.59</td>\n",
       "      <td>11.90</td>\n",
       "      <td>6.25</td>\n",
       "      <td>4.25</td>\n",
       "    </tr>\n",
       "    <tr>\n",
       "      <th>SAT</th>\n",
       "      <td>0.00</td>\n",
       "      <td>0.00</td>\n",
       "      <td>0.00</td>\n",
       "      <td>0.00</td>\n",
       "      <td>0.00</td>\n",
       "      <td>0.00</td>\n",
       "      <td>0.00</td>\n",
       "      <td>0.00</td>\n",
       "      <td>0.00</td>\n",
       "      <td>0.00</td>\n",
       "      <td>...</td>\n",
       "      <td>0.00</td>\n",
       "      <td>0.00</td>\n",
       "      <td>0.00</td>\n",
       "      <td>0.00</td>\n",
       "      <td>0.00</td>\n",
       "      <td>0.00</td>\n",
       "      <td>0.00</td>\n",
       "      <td>0.00</td>\n",
       "      <td>0.00</td>\n",
       "      <td>0.00</td>\n",
       "    </tr>\n",
       "    <tr>\n",
       "      <th>SCD</th>\n",
       "      <td>0.00</td>\n",
       "      <td>0.00</td>\n",
       "      <td>0.00</td>\n",
       "      <td>0.00</td>\n",
       "      <td>0.00</td>\n",
       "      <td>0.00</td>\n",
       "      <td>0.00</td>\n",
       "      <td>0.00</td>\n",
       "      <td>0.00</td>\n",
       "      <td>0.00</td>\n",
       "      <td>...</td>\n",
       "      <td>0.00</td>\n",
       "      <td>0.00</td>\n",
       "      <td>0.00</td>\n",
       "      <td>0.00</td>\n",
       "      <td>0.00</td>\n",
       "      <td>0.00</td>\n",
       "      <td>0.00</td>\n",
       "      <td>0.00</td>\n",
       "      <td>0.00</td>\n",
       "      <td>0.00</td>\n",
       "    </tr>\n",
       "    <tr>\n",
       "      <th>SNES</th>\n",
       "      <td>0.00</td>\n",
       "      <td>0.00</td>\n",
       "      <td>0.00</td>\n",
       "      <td>0.00</td>\n",
       "      <td>0.00</td>\n",
       "      <td>0.00</td>\n",
       "      <td>0.00</td>\n",
       "      <td>0.00</td>\n",
       "      <td>0.00</td>\n",
       "      <td>0.00</td>\n",
       "      <td>...</td>\n",
       "      <td>0.00</td>\n",
       "      <td>0.00</td>\n",
       "      <td>0.00</td>\n",
       "      <td>0.00</td>\n",
       "      <td>0.00</td>\n",
       "      <td>0.00</td>\n",
       "      <td>0.00</td>\n",
       "      <td>0.00</td>\n",
       "      <td>0.00</td>\n",
       "      <td>0.00</td>\n",
       "    </tr>\n",
       "    <tr>\n",
       "      <th>TG16</th>\n",
       "      <td>0.00</td>\n",
       "      <td>0.00</td>\n",
       "      <td>0.00</td>\n",
       "      <td>0.00</td>\n",
       "      <td>0.00</td>\n",
       "      <td>0.00</td>\n",
       "      <td>0.00</td>\n",
       "      <td>0.00</td>\n",
       "      <td>0.00</td>\n",
       "      <td>0.00</td>\n",
       "      <td>...</td>\n",
       "      <td>0.00</td>\n",
       "      <td>0.00</td>\n",
       "      <td>0.00</td>\n",
       "      <td>0.00</td>\n",
       "      <td>0.00</td>\n",
       "      <td>0.00</td>\n",
       "      <td>0.00</td>\n",
       "      <td>0.00</td>\n",
       "      <td>0.00</td>\n",
       "      <td>0.00</td>\n",
       "    </tr>\n",
       "    <tr>\n",
       "      <th>WS</th>\n",
       "      <td>0.00</td>\n",
       "      <td>0.00</td>\n",
       "      <td>0.00</td>\n",
       "      <td>0.00</td>\n",
       "      <td>0.00</td>\n",
       "      <td>0.00</td>\n",
       "      <td>0.00</td>\n",
       "      <td>0.00</td>\n",
       "      <td>0.00</td>\n",
       "      <td>0.00</td>\n",
       "      <td>...</td>\n",
       "      <td>0.00</td>\n",
       "      <td>0.00</td>\n",
       "      <td>0.00</td>\n",
       "      <td>0.00</td>\n",
       "      <td>0.00</td>\n",
       "      <td>0.00</td>\n",
       "      <td>0.00</td>\n",
       "      <td>0.00</td>\n",
       "      <td>0.00</td>\n",
       "      <td>0.00</td>\n",
       "    </tr>\n",
       "    <tr>\n",
       "      <th>Wii</th>\n",
       "      <td>0.00</td>\n",
       "      <td>0.00</td>\n",
       "      <td>0.00</td>\n",
       "      <td>0.00</td>\n",
       "      <td>0.00</td>\n",
       "      <td>0.00</td>\n",
       "      <td>0.00</td>\n",
       "      <td>0.00</td>\n",
       "      <td>0.00</td>\n",
       "      <td>0.00</td>\n",
       "      <td>...</td>\n",
       "      <td>110.72</td>\n",
       "      <td>122.96</td>\n",
       "      <td>124.08</td>\n",
       "      <td>110.13</td>\n",
       "      <td>49.53</td>\n",
       "      <td>21.71</td>\n",
       "      <td>8.59</td>\n",
       "      <td>3.75</td>\n",
       "      <td>1.14</td>\n",
       "      <td>0.18</td>\n",
       "    </tr>\n",
       "    <tr>\n",
       "      <th>WiiU</th>\n",
       "      <td>0.00</td>\n",
       "      <td>0.00</td>\n",
       "      <td>0.00</td>\n",
       "      <td>0.00</td>\n",
       "      <td>0.00</td>\n",
       "      <td>0.00</td>\n",
       "      <td>0.00</td>\n",
       "      <td>0.00</td>\n",
       "      <td>0.00</td>\n",
       "      <td>0.00</td>\n",
       "      <td>...</td>\n",
       "      <td>0.00</td>\n",
       "      <td>0.00</td>\n",
       "      <td>0.00</td>\n",
       "      <td>0.00</td>\n",
       "      <td>0.00</td>\n",
       "      <td>17.56</td>\n",
       "      <td>21.65</td>\n",
       "      <td>22.03</td>\n",
       "      <td>16.35</td>\n",
       "      <td>4.60</td>\n",
       "    </tr>\n",
       "    <tr>\n",
       "      <th>X360</th>\n",
       "      <td>0.00</td>\n",
       "      <td>0.00</td>\n",
       "      <td>0.00</td>\n",
       "      <td>0.00</td>\n",
       "      <td>0.00</td>\n",
       "      <td>0.00</td>\n",
       "      <td>0.00</td>\n",
       "      <td>0.00</td>\n",
       "      <td>0.00</td>\n",
       "      <td>0.00</td>\n",
       "      <td>...</td>\n",
       "      <td>73.97</td>\n",
       "      <td>124.26</td>\n",
       "      <td>106.82</td>\n",
       "      <td>123.73</td>\n",
       "      <td>120.32</td>\n",
       "      <td>71.19</td>\n",
       "      <td>52.89</td>\n",
       "      <td>34.74</td>\n",
       "      <td>11.96</td>\n",
       "      <td>1.52</td>\n",
       "    </tr>\n",
       "    <tr>\n",
       "      <th>XB</th>\n",
       "      <td>0.00</td>\n",
       "      <td>0.00</td>\n",
       "      <td>0.00</td>\n",
       "      <td>0.00</td>\n",
       "      <td>0.00</td>\n",
       "      <td>0.00</td>\n",
       "      <td>0.00</td>\n",
       "      <td>0.00</td>\n",
       "      <td>0.00</td>\n",
       "      <td>0.00</td>\n",
       "      <td>...</td>\n",
       "      <td>0.55</td>\n",
       "      <td>0.18</td>\n",
       "      <td>0.00</td>\n",
       "      <td>0.00</td>\n",
       "      <td>0.00</td>\n",
       "      <td>0.00</td>\n",
       "      <td>0.00</td>\n",
       "      <td>0.00</td>\n",
       "      <td>0.00</td>\n",
       "      <td>0.00</td>\n",
       "    </tr>\n",
       "    <tr>\n",
       "      <th>XOne</th>\n",
       "      <td>0.00</td>\n",
       "      <td>0.00</td>\n",
       "      <td>0.00</td>\n",
       "      <td>0.00</td>\n",
       "      <td>0.00</td>\n",
       "      <td>0.00</td>\n",
       "      <td>0.00</td>\n",
       "      <td>0.00</td>\n",
       "      <td>0.00</td>\n",
       "      <td>0.00</td>\n",
       "      <td>...</td>\n",
       "      <td>0.00</td>\n",
       "      <td>0.00</td>\n",
       "      <td>0.00</td>\n",
       "      <td>0.00</td>\n",
       "      <td>0.00</td>\n",
       "      <td>0.00</td>\n",
       "      <td>18.96</td>\n",
       "      <td>54.07</td>\n",
       "      <td>60.14</td>\n",
       "      <td>26.15</td>\n",
       "    </tr>\n",
       "  </tbody>\n",
       "</table>\n",
       "<p>31 rows × 37 columns</p>\n",
       "</div>"
      ],
      "text/plain": [
       "year_of_release   1980   1981   1982   1983   1984   1985   1986   1987  \\\n",
       "platform                                                                  \n",
       "2600             11.38  35.68  21.07   5.84   0.27   0.45   0.67   1.94   \n",
       "3DO               0.00   0.00   0.00   0.00   0.00   0.00   0.00   0.00   \n",
       "3DS               0.00   0.00   0.00   0.00   0.00   0.00   0.00   0.00   \n",
       "DC                0.00   0.00   0.00   0.00   0.00   0.00   0.00   0.00   \n",
       "DS                0.00   0.00   0.00   0.00   0.00   0.02   0.00   0.00   \n",
       "GB                0.00   0.00   0.00   0.00   0.00   0.00   0.00   0.00   \n",
       "GBA               0.00   0.00   0.00   0.00   0.00   0.00   0.00   0.00   \n",
       "GC                0.00   0.00   0.00   0.00   0.00   0.00   0.00   0.00   \n",
       "GEN               0.00   0.00   0.00   0.00   0.00   0.00   0.00   0.00   \n",
       "GG                0.00   0.00   0.00   0.00   0.00   0.00   0.00   0.00   \n",
       "N64               0.00   0.00   0.00   0.00   0.00   0.00   0.00   0.00   \n",
       "NES               0.00   0.00   0.00  10.96  21.77  13.20  36.41  19.76   \n",
       "NG                0.00   0.00   0.00   0.00   0.00   0.00   0.00   0.00   \n",
       "PC                0.00   0.00   0.00   0.00   0.00   0.04   0.00   0.00   \n",
       "PCFX              0.00   0.00   0.00   0.00   0.00   0.00   0.00   0.00   \n",
       "PS                0.00   0.00   0.00   0.00   0.00   0.00   0.00   0.00   \n",
       "PS2               0.00   0.00   0.00   0.00   0.00   0.00   0.00   0.00   \n",
       "PS3               0.00   0.00   0.00   0.00   0.00   0.00   0.00   0.00   \n",
       "PS4               0.00   0.00   0.00   0.00   0.00   0.00   0.00   0.00   \n",
       "PSP               0.00   0.00   0.00   0.00   0.00   0.00   0.00   0.00   \n",
       "PSV               0.00   0.00   0.00   0.00   0.00   0.00   0.00   0.00   \n",
       "SAT               0.00   0.00   0.00   0.00   0.00   0.00   0.00   0.00   \n",
       "SCD               0.00   0.00   0.00   0.00   0.00   0.00   0.00   0.00   \n",
       "SNES              0.00   0.00   0.00   0.00   0.00   0.00   0.00   0.00   \n",
       "TG16              0.00   0.00   0.00   0.00   0.00   0.00   0.00   0.00   \n",
       "WS                0.00   0.00   0.00   0.00   0.00   0.00   0.00   0.00   \n",
       "Wii               0.00   0.00   0.00   0.00   0.00   0.00   0.00   0.00   \n",
       "WiiU              0.00   0.00   0.00   0.00   0.00   0.00   0.00   0.00   \n",
       "X360              0.00   0.00   0.00   0.00   0.00   0.00   0.00   0.00   \n",
       "XB                0.00   0.00   0.00   0.00   0.00   0.00   0.00   0.00   \n",
       "XOne              0.00   0.00   0.00   0.00   0.00   0.00   0.00   0.00   \n",
       "\n",
       "year_of_release   1988   1989  ...    2007    2008    2009    2010    2011  \\\n",
       "platform                       ...                                           \n",
       "2600              0.74   0.63  ...    0.00    0.00    0.00    0.00    0.00   \n",
       "3DO               0.00   0.00  ...    0.00    0.00    0.00    0.00    0.00   \n",
       "3DS               0.00   0.00  ...    0.00    0.00    0.00    0.00   50.55   \n",
       "DC                0.00   0.00  ...    0.02    0.04    0.00    0.00    0.00   \n",
       "DS                0.00   0.00  ...  146.94  145.31   98.30   69.89   26.18   \n",
       "GB                1.43  16.57  ...    0.00    0.00    0.00    0.00    0.00   \n",
       "GBA               0.00   0.00  ...    3.40    0.00    0.00    0.00    0.00   \n",
       "GC                0.00   0.00  ...    0.27    0.00    0.00    0.00    0.00   \n",
       "GEN               0.00   0.00  ...    0.00    0.00    0.00    0.00    0.00   \n",
       "GG                0.00   0.00  ...    0.00    0.00    0.00    0.00    0.00   \n",
       "N64               0.00   0.00  ...    0.00    0.00    0.00    0.00    0.00   \n",
       "NES              16.40   7.85  ...    0.00    0.00    0.00    0.00    0.00   \n",
       "NG                0.00   0.00  ...    0.00    0.00    0.00    0.00    0.00   \n",
       "PC                0.03   0.00  ...    9.28   12.42    8.90   24.28   35.03   \n",
       "PCFX              0.00   0.00  ...    0.00    0.00    0.00    0.00    0.00   \n",
       "PS                0.00   0.00  ...    0.00    0.00    0.00    0.00    0.00   \n",
       "PS2               0.00   0.00  ...   69.23   51.39   26.40    5.64    0.45   \n",
       "PS3               0.00   0.00  ...   73.19  108.02  120.32  113.77  136.81   \n",
       "PS4               0.00   0.00  ...    0.00    0.00    0.00    0.00    0.00   \n",
       "PSP               0.00   0.00  ...   46.93   29.06   37.78   30.17   17.82   \n",
       "PSV               0.00   0.00  ...    0.00    0.00    0.00    0.00    4.63   \n",
       "SAT               0.00   0.00  ...    0.00    0.00    0.00    0.00    0.00   \n",
       "SCD               0.00   0.00  ...    0.00    0.00    0.00    0.00    0.00   \n",
       "SNES              0.00   0.00  ...    0.00    0.00    0.00    0.00    0.00   \n",
       "TG16              0.00   0.00  ...    0.00    0.00    0.00    0.00    0.00   \n",
       "WS                0.00   0.00  ...    0.00    0.00    0.00    0.00    0.00   \n",
       "Wii               0.00   0.00  ...  110.72  122.96  124.08  110.13   49.53   \n",
       "WiiU              0.00   0.00  ...    0.00    0.00    0.00    0.00    0.00   \n",
       "X360              0.00   0.00  ...   73.97  124.26  106.82  123.73  120.32   \n",
       "XB                0.00   0.00  ...    0.55    0.18    0.00    0.00    0.00   \n",
       "XOne              0.00   0.00  ...    0.00    0.00    0.00    0.00    0.00   \n",
       "\n",
       "year_of_release   2012   2013   2014   2015   2016  \n",
       "platform                                            \n",
       "2600              0.00   0.00   0.00   0.00   0.00  \n",
       "3DO               0.00   0.00   0.00   0.00   0.00  \n",
       "3DS              32.29  38.53  28.80  27.78  15.14  \n",
       "DC                0.00   0.00   0.00   0.00   0.00  \n",
       "DS                2.95   1.54   0.00   0.00   0.00  \n",
       "GB                0.00   0.00   0.00   0.00   0.00  \n",
       "GBA               0.00   0.00   0.00   0.00   0.00  \n",
       "GC                0.00   0.00   0.00   0.00   0.00  \n",
       "GEN               0.00   0.00   0.00   0.00   0.00  \n",
       "GG                0.00   0.00   0.00   0.00   0.00  \n",
       "N64               0.00   0.00   0.00   0.00   0.00  \n",
       "NES               0.00   0.00   0.00   0.00   0.00  \n",
       "NG                0.00   0.00   0.00   0.00   0.00  \n",
       "PC               23.22  12.38  13.28   8.52   5.25  \n",
       "PCFX              0.00   0.00   0.00   0.00   0.00  \n",
       "PS                0.00   0.00   0.00   0.00   0.00  \n",
       "PS2               0.00   0.00   0.00   0.00   0.00  \n",
       "PS3              85.40  76.38  43.48  16.82   3.60  \n",
       "PS4               0.00  25.99  73.64  80.54  61.65  \n",
       "PSP               7.69   3.14   0.24   0.12   0.00  \n",
       "PSV              16.19  10.59  11.90   6.25   4.25  \n",
       "SAT               0.00   0.00   0.00   0.00   0.00  \n",
       "SCD               0.00   0.00   0.00   0.00   0.00  \n",
       "SNES              0.00   0.00   0.00   0.00   0.00  \n",
       "TG16              0.00   0.00   0.00   0.00   0.00  \n",
       "WS                0.00   0.00   0.00   0.00   0.00  \n",
       "Wii              21.71   8.59   3.75   1.14   0.18  \n",
       "WiiU             17.56  21.65  22.03  16.35   4.60  \n",
       "X360             71.19  52.89  34.74  11.96   1.52  \n",
       "XB                0.00   0.00   0.00   0.00   0.00  \n",
       "XOne              0.00  18.96  54.07  60.14  26.15  \n",
       "\n",
       "[31 rows x 37 columns]"
      ]
     },
     "execution_count": 35,
     "metadata": {},
     "output_type": "execute_result"
    }
   ],
   "source": [
    "platforms_pivot"
   ]
  },
  {
   "cell_type": "markdown",
   "metadata": {},
   "source": [
    "Сначала посмотрим графики не в масштабе, чтобы увидеть как развивается каждая отдельная плафторма"
   ]
  },
  {
   "cell_type": "code",
   "execution_count": 36,
   "metadata": {},
   "outputs": [
    {
     "data": {
      "text/plain": [
       "array([<AxesSubplot:xlabel='year_of_release'>,\n",
       "       <AxesSubplot:xlabel='year_of_release'>,\n",
       "       <AxesSubplot:xlabel='year_of_release'>,\n",
       "       <AxesSubplot:xlabel='year_of_release'>,\n",
       "       <AxesSubplot:xlabel='year_of_release'>,\n",
       "       <AxesSubplot:xlabel='year_of_release'>,\n",
       "       <AxesSubplot:xlabel='year_of_release'>,\n",
       "       <AxesSubplot:xlabel='year_of_release'>,\n",
       "       <AxesSubplot:xlabel='year_of_release'>,\n",
       "       <AxesSubplot:xlabel='year_of_release'>,\n",
       "       <AxesSubplot:xlabel='year_of_release'>,\n",
       "       <AxesSubplot:xlabel='year_of_release'>,\n",
       "       <AxesSubplot:xlabel='year_of_release'>,\n",
       "       <AxesSubplot:xlabel='year_of_release'>,\n",
       "       <AxesSubplot:xlabel='year_of_release'>,\n",
       "       <AxesSubplot:xlabel='year_of_release'>,\n",
       "       <AxesSubplot:xlabel='year_of_release'>,\n",
       "       <AxesSubplot:xlabel='year_of_release'>,\n",
       "       <AxesSubplot:xlabel='year_of_release'>,\n",
       "       <AxesSubplot:xlabel='year_of_release'>,\n",
       "       <AxesSubplot:xlabel='year_of_release'>,\n",
       "       <AxesSubplot:xlabel='year_of_release'>,\n",
       "       <AxesSubplot:xlabel='year_of_release'>,\n",
       "       <AxesSubplot:xlabel='year_of_release'>,\n",
       "       <AxesSubplot:xlabel='year_of_release'>,\n",
       "       <AxesSubplot:xlabel='year_of_release'>,\n",
       "       <AxesSubplot:xlabel='year_of_release'>,\n",
       "       <AxesSubplot:xlabel='year_of_release'>,\n",
       "       <AxesSubplot:xlabel='year_of_release'>,\n",
       "       <AxesSubplot:xlabel='year_of_release'>,\n",
       "       <AxesSubplot:xlabel='year_of_release'>], dtype=object)"
      ]
     },
     "execution_count": 36,
     "metadata": {},
     "output_type": "execute_result"
    },
    {
     "data": {
      "image/png": "[encoded data removed]",
      "text/plain": [
       "<Figure size 1080x1440 with 31 Axes>"
      ]
     },
     "metadata": {
      "needs_background": "light"
     },
     "output_type": "display_data"
    }
   ],
   "source": [
    "platforms_pivot.T.plot(figsize=(15,20), subplots=True, sharey=False)\n",
    "\n"
   ]
  },
  {
   "cell_type": "markdown",
   "metadata": {},
   "source": [
    "<div class=\"alert alert-success\">\n",
    "<h2> Комментарий ревьюера <a class=\"tocSkip\"> </h2>\n",
    "\n",
    "<b>Все отлично!👍:</b>  \n",
    "Очень необычный подход к построению визуализации, здорово :)"
   ]
  },
  {
   "cell_type": "markdown",
   "metadata": {},
   "source": [
    "Видно, что \"волна\" одной платформы занимает около пяти лет, вместе с подъемом и затуханием. Некоторые (например PS3) остаются на рынке до 10 лет. Отдельно выделяется PC. Продажи для компьютера растут и падают, но остаются \"на плаву\" с 1990 года\n",
    "\n",
    "Учитвая, что нас интересует прогноз на 2017 год, особенное внимание следует уделить платформам, которые еще не завершили 5-летний цикл: 3DS, PS4, PSV, WiiU, XOne. Плюс PC, который всегда актуален. \n",
    "\n"
   ]
  },
  {
   "cell_type": "markdown",
   "metadata": {},
   "source": [
    "Посмотрим ближе на интересующий нас период"
   ]
  },
  {
   "cell_type": "code",
   "execution_count": 37,
   "metadata": {},
   "outputs": [],
   "source": [
    "platforms_pivot = df.pivot_table(values = 'total_sales',index='platform', columns='year_of_release', aggfunc='sum', fill_value=0)"
   ]
  },
  {
   "cell_type": "code",
   "execution_count": 38,
   "metadata": {},
   "outputs": [
    {
     "data": {
      "text/plain": [
       "array([<AxesSubplot:xlabel='year_of_release'>,\n",
       "       <AxesSubplot:xlabel='year_of_release'>,\n",
       "       <AxesSubplot:xlabel='year_of_release'>,\n",
       "       <AxesSubplot:xlabel='year_of_release'>,\n",
       "       <AxesSubplot:xlabel='year_of_release'>,\n",
       "       <AxesSubplot:xlabel='year_of_release'>,\n",
       "       <AxesSubplot:xlabel='year_of_release'>,\n",
       "       <AxesSubplot:xlabel='year_of_release'>,\n",
       "       <AxesSubplot:xlabel='year_of_release'>,\n",
       "       <AxesSubplot:xlabel='year_of_release'>,\n",
       "       <AxesSubplot:xlabel='year_of_release'>,\n",
       "       <AxesSubplot:xlabel='year_of_release'>,\n",
       "       <AxesSubplot:xlabel='year_of_release'>,\n",
       "       <AxesSubplot:xlabel='year_of_release'>,\n",
       "       <AxesSubplot:xlabel='year_of_release'>,\n",
       "       <AxesSubplot:xlabel='year_of_release'>,\n",
       "       <AxesSubplot:xlabel='year_of_release'>,\n",
       "       <AxesSubplot:xlabel='year_of_release'>,\n",
       "       <AxesSubplot:xlabel='year_of_release'>,\n",
       "       <AxesSubplot:xlabel='year_of_release'>], dtype=object)"
      ]
     },
     "execution_count": 38,
     "metadata": {},
     "output_type": "execute_result"
    },
    {
     "data": {
      "image/png": "[encoded data removed]",
      "text/plain": [
       "<Figure size 1080x2160 with 20 Axes>"
      ]
     },
     "metadata": {
      "needs_background": "light"
     },
     "output_type": "display_data"
    }
   ],
   "source": [
    "platforms_pivot.T.plot(figsize=(15,30), subplots=True, sharey=True)"
   ]
  },
  {
   "cell_type": "markdown",
   "metadata": {},
   "source": [
    "Теперь можно окончательно отбросить платформы, которые не важны для прогноза на 2017 год. В список актуальных попадут:\n",
    "3DS, PC, PS4, PSV,XOne\n",
    "\n",
    "При этом растущих платформ среди них нет. Выбираем те, которые лишь должны остаться актуальными в ближайший год"
   ]
  },
  {
   "cell_type": "markdown",
   "metadata": {},
   "source": [
    "\n",
    "\n",
    "<div class=\"alert alert-info\">\n",
    "<h2> Комментарий cтудента <a class=\"tocSkip\"></h2>\n",
    "    \n",
    "Внесла изменения ниже:"
   ]
  },
  {
   "cell_type": "markdown",
   "metadata": {},
   "source": [
    "Учитывая набор актуальных платформ, можно еще сократить актуальный период до 2010-2016. \n",
    "2010 выбран как старт действия платформы 3DS, которая пока сохраняет актуальность.\n",
    "\n",
    "Есть и минус: удалем большое количество данных"
   ]
  },
  {
   "cell_type": "code",
   "execution_count": 39,
   "metadata": {},
   "outputs": [],
   "source": [
    "df=df.query('year_of_release>2010')\n",
    "\n",
    "platforms_pivot = df.pivot_table(values = 'total_sales',index='platform', columns='year_of_release', aggfunc='sum', fill_value=0)"
   ]
  },
  {
   "cell_type": "markdown",
   "metadata": {},
   "source": [
    "<div class=\"alert alert-block alert-danger\">\n",
    "<h2> Комментарий ревьюера <a class=\"tocSkip\"></h2>\n",
    "\n",
    "    \n",
    "<b>На доработку🤔:</b>  \n",
    "И все таки - какой актуальный период мы выбираем?  \n",
    "    \n",
    "**N.B.** После выбора актуального периода нужно отфильтровать набор данных и *не использовать данные за прошлый период* (см. ТЗ шаг 3)."
   ]
  },
  {
   "cell_type": "code",
   "execution_count": 40,
   "metadata": {},
   "outputs": [
    {
     "data": {
      "text/plain": [
       "<AxesSubplot:>"
      ]
     },
     "execution_count": 40,
     "metadata": {},
     "output_type": "execute_result"
    },
    {
     "data": {
      "image/png": "[encoded data removed]",
      "text/plain": [
       "<Figure size 1080x720 with 1 Axes>"
      ]
     },
     "metadata": {
      "needs_background": "light"
     },
     "output_type": "display_data"
    }
   ],
   "source": [
    "platforms_pivot.T.boxplot(figsize=(15,10), showfliers = False)\n",
    "\n"
   ]
  },
  {
   "cell_type": "markdown",
   "metadata": {},
   "source": [
    "Видны лидеры среди платформ - PS3, PS4, X360. Учитывая это и предыдущие результаты, можно сказать, что самой прибыльной платформой 2017 года должна стать PS4, продолжатель серии PS. "
   ]
  },
  {
   "cell_type": "markdown",
   "metadata": {},
   "source": [
    "<div class=\"alert alert-info\">\n",
    "<h2> Комментарий cтудента <a class=\"tocSkip\"></h2>\n",
    "    \n",
    "Внесла изменения ниже:"
   ]
  },
  {
   "cell_type": "markdown",
   "metadata": {},
   "source": [
    "Тройка лидеров \"портит\" диаграмму и не дает рассмотреть менее прибыльные платформы. Построим второй график без учета трех крупных платформ"
   ]
  },
  {
   "cell_type": "code",
   "execution_count": 41,
   "metadata": {},
   "outputs": [
    {
     "data": {
      "text/plain": [
       "<AxesSubplot:>"
      ]
     },
     "execution_count": 41,
     "metadata": {},
     "output_type": "execute_result"
    },
    {
     "data": {
      "image/png": "[encoded data removed]",
      "text/plain": [
       "<Figure size 1080x720 with 1 Axes>"
      ]
     },
     "metadata": {
      "needs_background": "light"
     },
     "output_type": "display_data"
    }
   ],
   "source": [
    "platforms_pivot.query('~platform.isin([\"PS4\", \"PS3\",\"X360\"])').T.boxplot(figsize=(15,10), showfliers = False)"
   ]
  },
  {
   "cell_type": "markdown",
   "metadata": {},
   "source": [
    "<div class=\"alert alert-block alert-danger\">\n",
    "<h2> Комментарий ревьюера <a class=\"tocSkip\"></h2>\n",
    "\n",
    "    \n",
    "<b>На доработку🤔:</b>  \n",
    "Много платформ попало на график с разным масштабом размаха. Из-за этого не удается сделать выводы, основываясь на стат. параметрах, которые \"ящик\" показывает нам."
   ]
  },
  {
   "cell_type": "markdown",
   "metadata": {},
   "source": [
    "<div class=\"alert alert-info\">\n",
    "<h2> Комментарий cтудента <a class=\"tocSkip\"></h2>\n",
    "\n",
    "После изменения актуального периода график стал более читаемым. Плюс добавила график без лидирующих платформ\n"
   ]
  },
  {
   "cell_type": "markdown",
   "metadata": {},
   "source": [
    "<div class=\"alert alert-success\">\n",
    "<h2> Комментарий ревьюера V2<a class=\"tocSkip\"> </h2>\n",
    "\n",
    "<b>Все отлично!👍:</b>  \n",
    "Стало намного лучше, так держать!"
   ]
  },
  {
   "cell_type": "markdown",
   "metadata": {},
   "source": [
    "## Отзывы критиков и пользователей"
   ]
  },
  {
   "cell_type": "markdown",
   "metadata": {},
   "source": [
    "Посмотрим, как внутри одной платформы отзывы влияют на продажи. Для примера возьмем PS3, как последнюю популярную платформу, для которой цикл подъема и спада завершился"
   ]
  },
  {
   "cell_type": "code",
   "execution_count": 42,
   "metadata": {},
   "outputs": [
    {
     "data": {
      "text/plain": [
       "0.4792242118884417"
      ]
     },
     "execution_count": 42,
     "metadata": {},
     "output_type": "execute_result"
    },
    {
     "data": {
      "image/png": "[encoded data removed]",
      "text/plain": [
       "<Figure size 432x288 with 1 Axes>"
      ]
     },
     "metadata": {
      "needs_background": "light"
     },
     "output_type": "display_data"
    }
   ],
   "source": [
    "\n",
    "\n",
    "df[df['platform']=='PS3'].plot(y='total_sales',\n",
    "                                     x='critic_score',\n",
    "                                     kind='scatter',\n",
    "                                     label='Critic Score',\n",
    "                                     color='b',\n",
    "                                     alpha=0.3)\n",
    "\n",
    "\n",
    "\n",
    "df[df['platform']=='PS3']['total_sales'].corr(df[df['platform']=='PS3']['critic_score'])"
   ]
  },
  {
   "cell_type": "code",
   "execution_count": 43,
   "metadata": {},
   "outputs": [
    {
     "data": {
      "text/plain": [
       "0.1583841320317587"
      ]
     },
     "execution_count": 43,
     "metadata": {},
     "output_type": "execute_result"
    },
    {
     "data": {
      "image/png": "[encoded data removed]",
      "text/plain": [
       "<Figure size 432x288 with 1 Axes>"
      ]
     },
     "metadata": {
      "needs_background": "light"
     },
     "output_type": "display_data"
    }
   ],
   "source": [
    "df[df['platform']=='PS3'].plot(y='total_sales',\n",
    "                                     x='user_score',\n",
    "                                     kind='scatter',\n",
    "                                     label='User Score', \n",
    "                                     alpha=0.3,\n",
    "                                     color='g')\n",
    "df[df['platform']=='PS3']['total_sales'].corr(df[df['platform']=='PS3']['user_score'])"
   ]
  },
  {
   "cell_type": "markdown",
   "metadata": {},
   "source": [
    "Внешне диаграммы рассеяния выглядят похоже, однако коэффициент корреляции выше у связи отзывов критиков и продаж. В обоих случаях, связь хотя и наблюдается, но не слишком сильная. \n",
    "\n",
    "Однако если смотреть не только на цифры, но и на графики, видно, что высокое мнение критиков и игроков не обеспечивает больших продаж, но вот плохие отзывы их заметно снижают. "
   ]
  },
  {
   "cell_type": "markdown",
   "metadata": {},
   "source": [
    "Заодно выясним, с чем еще коррелируют продажи в разных регионах"
   ]
  },
  {
   "cell_type": "code",
   "execution_count": 44,
   "metadata": {},
   "outputs": [
    {
     "data": {
      "text/plain": [
       "<AxesSubplot:>"
      ]
     },
     "execution_count": 44,
     "metadata": {},
     "output_type": "execute_result"
    },
    {
     "data": {
      "image/png": "[encoded data removed]",
      "text/plain": [
       "<Figure size 432x288 with 2 Axes>"
      ]
     },
     "metadata": {
      "needs_background": "light"
     },
     "output_type": "display_data"
    }
   ],
   "source": [
    "\n",
    "sns.heatmap(df.query('platform == \"PS3\"')[['na_sales',\n",
    "                                           'eu_sales',\n",
    "                                           'total_sales',\n",
    "                                           'other_sales',\n",
    "                                           'critic_score',\n",
    "                                           'user_score']].corr())"
   ]
  },
  {
   "cell_type": "markdown",
   "metadata": {},
   "source": [
    "<div class=\"alert alert-success\">\n",
    "<h2> Комментарий ревьюера <a class=\"tocSkip\"> </h2>\n",
    "\n",
    "<b>Все отлично!👍:</b>  \n",
    "Прекрасный вывод относительно `PS3` 😏."
   ]
  },
  {
   "cell_type": "markdown",
   "metadata": {},
   "source": [
    "Выводы:\n",
    "\n",
    " - заметная зависимость продаж в Северной Америке и в Европе\n",
    " - заметная зависимость отзывлв критиков и отзывов пользователей \n",
    " - отзывы критиков важнее для продаж, чем отзывы пользователей во всех регионах "
   ]
  },
  {
   "cell_type": "markdown",
   "metadata": {},
   "source": [
    "<div class=\"alert alert-block alert-danger\">\n",
    "<h2> Комментарий ревьюера <a class=\"tocSkip\"></h2>\n",
    "\n",
    "    \n",
    "<b>На доработку🤔:</b>  \n",
    "Пропущен шаг сравнения влияния оценок выбранной платформы (в нашем случае `PS3`) с другими платформами :("
   ]
  },
  {
   "cell_type": "markdown",
   "metadata": {},
   "source": [
    "<div class=\"alert alert-info\">\n",
    "<h2> Комментарий cтудента <a class=\"tocSkip\"></h2>\n",
    "\n",
    "Добавила пропущенный пункт\n"
   ]
  },
  {
   "cell_type": "code",
   "execution_count": 45,
   "metadata": {},
   "outputs": [
    {
     "data": {
      "text/html": [
       "<div>\n",
       "<style scoped>\n",
       "    .dataframe tbody tr th:only-of-type {\n",
       "        vertical-align: middle;\n",
       "    }\n",
       "\n",
       "    .dataframe tbody tr th {\n",
       "        vertical-align: top;\n",
       "    }\n",
       "\n",
       "    .dataframe thead th {\n",
       "        text-align: right;\n",
       "    }\n",
       "</style>\n",
       "<table border=\"1\" class=\"dataframe\">\n",
       "  <thead>\n",
       "    <tr style=\"text-align: right;\">\n",
       "      <th></th>\n",
       "      <th>platform</th>\n",
       "      <th>critic</th>\n",
       "      <th>user</th>\n",
       "    </tr>\n",
       "  </thead>\n",
       "  <tbody>\n",
       "    <tr>\n",
       "      <th>0</th>\n",
       "      <td>3DS</td>\n",
       "      <td>0.345412</td>\n",
       "      <td>0.222643</td>\n",
       "    </tr>\n",
       "    <tr>\n",
       "      <th>1</th>\n",
       "      <td>XOne</td>\n",
       "      <td>0.416998</td>\n",
       "      <td>-0.068925</td>\n",
       "    </tr>\n",
       "    <tr>\n",
       "      <th>2</th>\n",
       "      <td>X360</td>\n",
       "      <td>0.474096</td>\n",
       "      <td>0.162104</td>\n",
       "    </tr>\n",
       "    <tr>\n",
       "      <th>3</th>\n",
       "      <td>PS3</td>\n",
       "      <td>0.479224</td>\n",
       "      <td>0.158384</td>\n",
       "    </tr>\n",
       "    <tr>\n",
       "      <th>4</th>\n",
       "      <td>WiiU</td>\n",
       "      <td>0.348380</td>\n",
       "      <td>0.400219</td>\n",
       "    </tr>\n",
       "    <tr>\n",
       "      <th>5</th>\n",
       "      <td>Wii</td>\n",
       "      <td>0.352736</td>\n",
       "      <td>0.111445</td>\n",
       "    </tr>\n",
       "    <tr>\n",
       "      <th>6</th>\n",
       "      <td>PS4</td>\n",
       "      <td>0.404693</td>\n",
       "      <td>0.018302</td>\n",
       "    </tr>\n",
       "    <tr>\n",
       "      <th>7</th>\n",
       "      <td>PC</td>\n",
       "      <td>0.314185</td>\n",
       "      <td>-0.048967</td>\n",
       "    </tr>\n",
       "    <tr>\n",
       "      <th>8</th>\n",
       "      <td>PSV</td>\n",
       "      <td>0.131763</td>\n",
       "      <td>0.013489</td>\n",
       "    </tr>\n",
       "    <tr>\n",
       "      <th>9</th>\n",
       "      <td>DS</td>\n",
       "      <td>0.261166</td>\n",
       "      <td>0.281029</td>\n",
       "    </tr>\n",
       "    <tr>\n",
       "      <th>10</th>\n",
       "      <td>PSP</td>\n",
       "      <td>0.358138</td>\n",
       "      <td>0.010035</td>\n",
       "    </tr>\n",
       "    <tr>\n",
       "      <th>11</th>\n",
       "      <td>PS2</td>\n",
       "      <td>NaN</td>\n",
       "      <td>-0.488144</td>\n",
       "    </tr>\n",
       "  </tbody>\n",
       "</table>\n",
       "</div>"
      ],
      "text/plain": [
       "   platform    critic      user\n",
       "0       3DS  0.345412  0.222643\n",
       "1      XOne  0.416998 -0.068925\n",
       "2      X360  0.474096  0.162104\n",
       "3       PS3  0.479224  0.158384\n",
       "4      WiiU  0.348380  0.400219\n",
       "5       Wii  0.352736  0.111445\n",
       "6       PS4  0.404693  0.018302\n",
       "7        PC  0.314185 -0.048967\n",
       "8       PSV  0.131763  0.013489\n",
       "9        DS  0.261166  0.281029\n",
       "10      PSP  0.358138  0.010035\n",
       "11      PS2       NaN -0.488144"
      ]
     },
     "execution_count": 45,
     "metadata": {},
     "output_type": "execute_result"
    }
   ],
   "source": [
    "# Функции для подсчета корреляции\n",
    "critic_corr = lambda x: x.total_sales.corr(x.critic_score) \n",
    "user_corr = lambda x: x.total_sales.corr(x.user_score)\n",
    "\n",
    "# новая табличка\n",
    "platforms = df.platform.unique()\n",
    "correlations = pd.DataFrame(data=platforms, columns=['platform'])\n",
    "\n",
    "correlations['critic'] = correlations.apply( lambda x: critic_corr(df[df['platform']==x['platform']]), axis=1)\n",
    "correlations['user'] = correlations.apply( lambda x: user_corr(df[df['platform']==x['platform']]), axis=1)\n",
    "correlations"
   ]
  },
  {
   "cell_type": "markdown",
   "metadata": {},
   "source": [
    "В данном случае имеет смысл рассматривать данные не только за выбранный актуальный период. Дело в том, что некоторые платформы за выбранный период уже были на спаде. Повторим вычисления для периода 2000-2016"
   ]
  },
  {
   "cell_type": "code",
   "execution_count": 46,
   "metadata": {},
   "outputs": [
    {
     "data": {
      "text/html": [
       "<div>\n",
       "<style scoped>\n",
       "    .dataframe tbody tr th:only-of-type {\n",
       "        vertical-align: middle;\n",
       "    }\n",
       "\n",
       "    .dataframe tbody tr th {\n",
       "        vertical-align: top;\n",
       "    }\n",
       "\n",
       "    .dataframe thead th {\n",
       "        text-align: right;\n",
       "    }\n",
       "</style>\n",
       "<table border=\"1\" class=\"dataframe\">\n",
       "  <thead>\n",
       "    <tr style=\"text-align: right;\">\n",
       "      <th></th>\n",
       "      <th>platform</th>\n",
       "      <th>critic</th>\n",
       "      <th>user</th>\n",
       "    </tr>\n",
       "  </thead>\n",
       "  <tbody>\n",
       "    <tr>\n",
       "      <th>0</th>\n",
       "      <td>3DS</td>\n",
       "      <td>0.345412</td>\n",
       "      <td>0.222643</td>\n",
       "    </tr>\n",
       "    <tr>\n",
       "      <th>1</th>\n",
       "      <td>XOne</td>\n",
       "      <td>0.416998</td>\n",
       "      <td>-0.068925</td>\n",
       "    </tr>\n",
       "    <tr>\n",
       "      <th>2</th>\n",
       "      <td>X360</td>\n",
       "      <td>0.491188</td>\n",
       "      <td>0.226389</td>\n",
       "    </tr>\n",
       "    <tr>\n",
       "      <th>3</th>\n",
       "      <td>PS3</td>\n",
       "      <td>0.510285</td>\n",
       "      <td>0.259918</td>\n",
       "    </tr>\n",
       "    <tr>\n",
       "      <th>4</th>\n",
       "      <td>WiiU</td>\n",
       "      <td>0.348380</td>\n",
       "      <td>0.400219</td>\n",
       "    </tr>\n",
       "    <tr>\n",
       "      <th>5</th>\n",
       "      <td>Wii</td>\n",
       "      <td>0.286121</td>\n",
       "      <td>0.169158</td>\n",
       "    </tr>\n",
       "    <tr>\n",
       "      <th>6</th>\n",
       "      <td>PS4</td>\n",
       "      <td>0.404693</td>\n",
       "      <td>0.018302</td>\n",
       "    </tr>\n",
       "    <tr>\n",
       "      <th>7</th>\n",
       "      <td>PC</td>\n",
       "      <td>0.266496</td>\n",
       "      <td>0.006774</td>\n",
       "    </tr>\n",
       "    <tr>\n",
       "      <th>8</th>\n",
       "      <td>PSV</td>\n",
       "      <td>0.131763</td>\n",
       "      <td>0.013489</td>\n",
       "    </tr>\n",
       "    <tr>\n",
       "      <th>9</th>\n",
       "      <td>DS</td>\n",
       "      <td>0.271028</td>\n",
       "      <td>0.133916</td>\n",
       "    </tr>\n",
       "    <tr>\n",
       "      <th>10</th>\n",
       "      <td>PSP</td>\n",
       "      <td>0.318014</td>\n",
       "      <td>0.213953</td>\n",
       "    </tr>\n",
       "    <tr>\n",
       "      <th>11</th>\n",
       "      <td>PS2</td>\n",
       "      <td>0.424243</td>\n",
       "      <td>0.193251</td>\n",
       "    </tr>\n",
       "  </tbody>\n",
       "</table>\n",
       "</div>"
      ],
      "text/plain": [
       "   platform    critic      user\n",
       "0       3DS  0.345412  0.222643\n",
       "1      XOne  0.416998 -0.068925\n",
       "2      X360  0.491188  0.226389\n",
       "3       PS3  0.510285  0.259918\n",
       "4      WiiU  0.348380  0.400219\n",
       "5       Wii  0.286121  0.169158\n",
       "6       PS4  0.404693  0.018302\n",
       "7        PC  0.266496  0.006774\n",
       "8       PSV  0.131763  0.013489\n",
       "9        DS  0.271028  0.133916\n",
       "10      PSP  0.318014  0.213953\n",
       "11      PS2  0.424243  0.193251"
      ]
     },
     "execution_count": 46,
     "metadata": {},
     "output_type": "execute_result"
    }
   ],
   "source": [
    "correlations['critic'] = correlations.apply( lambda x: critic_corr(df_all[df_all['platform']==x['platform']]), axis=1)\n",
    "correlations['user'] = correlations.apply( lambda x: user_corr(df_all[df_all['platform']==x['platform']]), axis=1)\n",
    "correlations"
   ]
  },
  {
   "cell_type": "code",
   "execution_count": 47,
   "metadata": {},
   "outputs": [
    {
     "data": {
      "text/plain": [
       "<AxesSubplot:>"
      ]
     },
     "execution_count": 47,
     "metadata": {},
     "output_type": "execute_result"
    },
    {
     "data": {
      "image/png": "[encoded data removed]",
      "text/plain": [
       "<Figure size 432x288 with 2 Axes>"
      ]
     },
     "metadata": {
      "needs_background": "light"
     },
     "output_type": "display_data"
    }
   ],
   "source": [
    "sns.heatmap(correlations[['critic','user']], yticklabels =correlations.platform)"
   ]
  },
  {
   "cell_type": "markdown",
   "metadata": {},
   "source": [
    "<b>Выводы:</b>\n",
    "    \n",
    " - почти для всех платформ отзывы критиков больше влияют на продажи, чем отзывы пользователей\n",
    " - Единственное исключение - WiiU, для нее отзывы пользователей важнее\n",
    " - в целом связь отзывов и продаж не очень сильная\n",
    " - самое сильное влияние отзывов - у PS3 и X360\n",
    " - меньше всего отзывы влияют на PSV\n"
   ]
  },
  {
   "cell_type": "markdown",
   "metadata": {},
   "source": [
    "## Жанры"
   ]
  },
  {
   "cell_type": "code",
   "execution_count": 48,
   "metadata": {},
   "outputs": [
    {
     "data": {
      "text/plain": [
       "Action          1264\n",
       "Role-Playing     458\n",
       "Adventure        410\n",
       "Sports           383\n",
       "Misc             373\n",
       "Shooter          319\n",
       "Racing           179\n",
       "Fighting         159\n",
       "Simulation       135\n",
       "Platform         121\n",
       "Strategy         117\n",
       "Puzzle            71\n",
       "Name: genre, dtype: int64"
      ]
     },
     "execution_count": 48,
     "metadata": {},
     "output_type": "execute_result"
    }
   ],
   "source": [
    "df['genre'].value_counts()"
   ]
  },
  {
   "cell_type": "code",
   "execution_count": 49,
   "metadata": {},
   "outputs": [
    {
     "data": {
      "text/plain": [
       "<AxesSubplot:>"
      ]
     },
     "execution_count": 49,
     "metadata": {},
     "output_type": "execute_result"
    },
    {
     "data": {
      "image/png": "[encoded data removed]",
      "text/plain": [
       "<Figure size 432x288 with 1 Axes>"
      ]
     },
     "metadata": {
      "needs_background": "light"
     },
     "output_type": "display_data"
    }
   ],
   "source": [
    "df['genre'].value_counts().plot(kind='bar')"
   ]
  },
  {
   "cell_type": "code",
   "execution_count": 50,
   "metadata": {},
   "outputs": [
    {
     "data": {
      "text/plain": [
       "<AxesSubplot:xlabel='genre'>"
      ]
     },
     "execution_count": 50,
     "metadata": {},
     "output_type": "execute_result"
    },
    {
     "data": {
      "image/png": "[encoded data removed]",
      "text/plain": [
       "<Figure size 720x360 with 1 Axes>"
      ]
     },
     "metadata": {
      "needs_background": "light"
     },
     "output_type": "display_data"
    }
   ],
   "source": [
    "genre_pivot = df.pivot_table(index='genre',values='total_sales', aggfunc=['mean','median'])\n",
    "genre_pivot.columns = ['mean','median']\n",
    "genre_pivot.sort_values(by='median', ascending=False).plot(kind='bar', figsize=(10,5))"
   ]
  },
  {
   "cell_type": "markdown",
   "metadata": {},
   "source": [
    "Выводы:\n",
    " - из 11 тысяч игр 3 тысячи относятся к жанру Экшн\n",
    " - По продажам среди жанров выделяется тройка самых не популярных: puzzle, strategy, adventure и тройка лидеров: shooter, platform, sports\n",
    " - Для всех жанров заметно серьезное отличие медианы от среднего, то есть в каждом жанре есть одна или несколько супер популярных игр, которые с отрывом превосходят по продажам конкурентов\n",
    " - сравнив количество игр и объем продаж, можно назвать самые результативные жанры (то есть мало игр, но с большим доходом):  platform, fighting, shooter. И самые не результативные: adventure, action, role-playing"
   ]
  },
  {
   "cell_type": "markdown",
   "metadata": {},
   "source": [
    "<div class=\"alert alert-success\">\n",
    "<h2> Комментарий ревьюера <a class=\"tocSkip\"> </h2>\n",
    "\n",
    "<b>Все отлично!👍:</b>  \n",
    "Данные трактованы верно!"
   ]
  },
  {
   "cell_type": "markdown",
   "metadata": {},
   "source": [
    "# Портрет пользователя каждого региона"
   ]
  },
  {
   "cell_type": "markdown",
   "metadata": {},
   "source": [
    "### Самые популярные платформы"
   ]
  },
  {
   "cell_type": "code",
   "execution_count": 51,
   "metadata": {},
   "outputs": [],
   "source": [
    "platform_regions = df.pivot_table(index='platform', \n",
    "                                  values=['na_sales', 'eu_sales','jp_sales'], \n",
    "                                  aggfunc='sum')\n",
    "\n",
    "\n",
    "regions =['na_sales','eu_sales','jp_sales']"
   ]
  },
  {
   "cell_type": "code",
   "execution_count": 52,
   "metadata": {},
   "outputs": [
    {
     "data": {
      "image/png": "[encoded data removed]",
      "text/plain": [
       "<Figure size 1080x360 with 3 Axes>"
      ]
     },
     "metadata": {},
     "output_type": "display_data"
    }
   ],
   "source": [
    "fig, axs = plt.subplots(1, len(regions), figsize=(15, 5))\n",
    "i=0\n",
    "\n",
    "for region in regions:\n",
    "    platform_regions.sort_values(by=region, ascending=False)[region].head(5).plot(kind='pie', title=region, ax=axs[i],autopct='%1.1f%%')\n",
    "    i+=1"
   ]
  },
  {
   "cell_type": "markdown",
   "metadata": {},
   "source": [
    "<div class=\"alert alert-block alert-danger\">\n",
    "<h2> Комментарий ревьюера <a class=\"tocSkip\"></h2>\n",
    "\n",
    "    \n",
    "<b>На доработку🤔:</b>  \n",
    "Подозреваю, произошла опечатка.  \n",
    "    \n",
    "Нужно будет обязательно исправить."
   ]
  },
  {
   "cell_type": "markdown",
   "metadata": {},
   "source": [
    "<div class=\"alert alert-info\">\n",
    "<h2> Комментарий cтудента <a class=\"tocSkip\"></h2>\n",
    "    \n",
    "\n",
    " Да, перед отправкой закралась опечатка. Поправила) "
   ]
  },
  {
   "cell_type": "markdown",
   "metadata": {},
   "source": [
    "Выводы:\n",
    "\n",
    " - В СА лидирует X360, в Европе - PS3, в Японии - 3DS\n",
    " - PS4 уже захватил европейский рынок и почти сравнялся по продажам с PS3\n",
    " - в Японии PS4 только попал в топ-5\n",
    " - В Европе и СА конкуренция между платформами более заметня, отрыв платформ-лидеров менее существенный, чем в Японии\n",
    " - В Японии PS3 и 3DS занимают почти 70% рынка\n",
    " \n"
   ]
  },
  {
   "cell_type": "markdown",
   "metadata": {},
   "source": [
    "### Самые популярные жанры"
   ]
  },
  {
   "cell_type": "code",
   "execution_count": 53,
   "metadata": {},
   "outputs": [
    {
     "data": {
      "image/png": "[encoded data removed]",
      "text/plain": [
       "<Figure size 1080x360 with 3 Axes>"
      ]
     },
     "metadata": {},
     "output_type": "display_data"
    }
   ],
   "source": [
    "\n",
    "genre_regions = df.pivot_table(index='genre', \n",
    "                                  values=['na_sales', 'eu_sales','jp_sales'], \n",
    "                                  aggfunc='sum').sort_values(by='eu_sales', ascending=False)\n",
    "\n",
    "fig, axs = plt.subplots(1, len(regions), figsize=(15, 5))\n",
    "i=0\n",
    "\n",
    "for region in regions:\n",
    "    genre_regions.sort_values(by=region, ascending=False)[region].head(5).plot(kind='pie', title=region, ax=axs[i],autopct='%1.1f%%')\n",
    "    i+=1\n",
    "    \n",
    "    \n"
   ]
  },
  {
   "cell_type": "markdown",
   "metadata": {},
   "source": [
    "<div class=\"alert alert-block alert-danger\">\n",
    "<h2> Комментарий ревьюера <a class=\"tocSkip\"></h2>\n",
    "\n",
    "    \n",
    "<b>На доработку🤔:</b>  \n",
    "На всякий случай напоминаю про использование выбранного актуального периода здесь в том числе."
   ]
  },
  {
   "cell_type": "markdown",
   "metadata": {},
   "source": [
    "<div class=\"alert alert-info\">\n",
    "<h2> Комментарий cтудента <a class=\"tocSkip\"></h2>\n",
    "    \n",
    "Да, в df сохранены только данные за выбранный актуальный период"
   ]
  },
  {
   "cell_type": "markdown",
   "metadata": {},
   "source": [
    "Выводы:\n",
    " - жанр Action лидирует в Европе и Северной Америке\n",
    " - лидеры в Северной Америке и Европе практически совпадает за одним исключением. В Европе больше любят Racing\n",
    " - В Японии больше всего популярны игры Role-Playing и Action. Вместе они занимают 75%\n",
    " - Японский рынок почти полностью отличается от СА и Европы. Action любят и тут тоже, но остальной набор различается"
   ]
  },
  {
   "cell_type": "markdown",
   "metadata": {},
   "source": [
    "### Влияние рейтинга"
   ]
  },
  {
   "cell_type": "code",
   "execution_count": 54,
   "metadata": {},
   "outputs": [
    {
     "data": {
      "image/png": "[encoded data removed]",
      "text/plain": [
       "<Figure size 1080x360 with 3 Axes>"
      ]
     },
     "metadata": {},
     "output_type": "display_data"
    }
   ],
   "source": [
    "rating_regions = df.pivot_table(index='rating', \n",
    "                                  values=['na_sales', 'eu_sales','jp_sales'], \n",
    "                                  aggfunc='sum').sort_values(by='eu_sales', ascending=False)\n",
    "\n",
    "fig, axs = plt.subplots(1, len(regions), figsize=(15, 5))\n",
    "i=0\n",
    "\n",
    "for region in regions:\n",
    "    rating_regions.sort_values(by=region, ascending=False)[region].head(4).plot(kind='pie', title=region, ax=axs[i],autopct='%1.1f%%')\n",
    "    i+=1"
   ]
  },
  {
   "cell_type": "markdown",
   "metadata": {},
   "source": [
    "<div class=\"alert alert-info\">\n",
    "<h2> Комментарий cтудента <a class=\"tocSkip\"></h2>\n",
    "    \n",
    "Внесла изменения ниже:"
   ]
  },
  {
   "cell_type": "code",
   "execution_count": 55,
   "metadata": {},
   "outputs": [
    {
     "data": {
      "image/png": "[encoded data removed]",
      "text/plain": [
       "<Figure size 432x288 with 1 Axes>"
      ]
     },
     "metadata": {
      "needs_background": "light"
     },
     "output_type": "display_data"
    }
   ],
   "source": [
    "\n",
    "na_data = df[['rating','na_sales']].assign(region=1)\n",
    "eu_data = df[['rating','eu_sales']].assign(region=2)\n",
    "jp_data = df[['rating','jp_sales']].assign(region=3)\n",
    "\n",
    "\n",
    "#вот здесь замнила нули на NaN чтобы они не портили график\n",
    "\n",
    "na_data['na_sales'] = na_data['na_sales'].replace({0:np.nan}) \n",
    "jp_data['jp_sales'] = jp_data['jp_sales'].replace({0:np.nan})\n",
    "eu_data['eu_sales'] = eu_data['eu_sales'].replace({0:np.nan})\n",
    "\n",
    "cdf = pd.concat([na_data, eu_data, jp_data])    \n",
    "mdf = pd.melt(cdf, id_vars=['rating'], var_name=['region'], value_vars=['na_sales','eu_sales', 'jp_sales'])\n",
    "\n",
    "\n",
    "ax = sns.boxplot(x=\"rating\", y=\"value\", hue=\"region\", data=mdf, showfliers = False)  \n",
    "plt.ylim(0,0.5)\n",
    "plt.show()"
   ]
  },
  {
   "cell_type": "code",
   "execution_count": 56,
   "metadata": {},
   "outputs": [
    {
     "data": {
      "text/html": [
       "<div>\n",
       "<style scoped>\n",
       "    .dataframe tbody tr th:only-of-type {\n",
       "        vertical-align: middle;\n",
       "    }\n",
       "\n",
       "    .dataframe tbody tr th {\n",
       "        vertical-align: top;\n",
       "    }\n",
       "\n",
       "    .dataframe thead th {\n",
       "        text-align: right;\n",
       "    }\n",
       "</style>\n",
       "<table border=\"1\" class=\"dataframe\">\n",
       "  <thead>\n",
       "    <tr style=\"text-align: right;\">\n",
       "      <th></th>\n",
       "      <th>name</th>\n",
       "      <th>platform</th>\n",
       "      <th>year_of_release</th>\n",
       "      <th>genre</th>\n",
       "      <th>na_sales</th>\n",
       "      <th>eu_sales</th>\n",
       "      <th>jp_sales</th>\n",
       "      <th>other_sales</th>\n",
       "      <th>critic_score</th>\n",
       "      <th>user_score</th>\n",
       "      <th>rating</th>\n",
       "      <th>total_sales</th>\n",
       "    </tr>\n",
       "  </thead>\n",
       "  <tbody>\n",
       "    <tr>\n",
       "      <th>4297</th>\n",
       "      <td>Nickelodeon Team Umizoomi</td>\n",
       "      <td>DS</td>\n",
       "      <td>2011</td>\n",
       "      <td>Action</td>\n",
       "      <td>0.42</td>\n",
       "      <td>0.0</td>\n",
       "      <td>0.0</td>\n",
       "      <td>0.03</td>\n",
       "      <td>NaN</td>\n",
       "      <td>NaN</td>\n",
       "      <td>EC</td>\n",
       "      <td>0.45</td>\n",
       "    </tr>\n",
       "  </tbody>\n",
       "</table>\n",
       "</div>"
      ],
      "text/plain": [
       "                           name platform  year_of_release   genre  na_sales  \\\n",
       "4297  Nickelodeon Team Umizoomi       DS             2011  Action      0.42   \n",
       "\n",
       "      eu_sales  jp_sales  other_sales  critic_score  user_score rating  \\\n",
       "4297       0.0       0.0         0.03           NaN         NaN     EC   \n",
       "\n",
       "      total_sales  \n",
       "4297         0.45  "
      ]
     },
     "execution_count": 56,
     "metadata": {},
     "output_type": "execute_result"
    }
   ],
   "source": [
    "df.query('rating==\"EC\"')"
   ]
  },
  {
   "cell_type": "code",
   "execution_count": 57,
   "metadata": {},
   "outputs": [
    {
     "data": {
      "text/html": [
       "<div>\n",
       "<style scoped>\n",
       "    .dataframe tbody tr th:only-of-type {\n",
       "        vertical-align: middle;\n",
       "    }\n",
       "\n",
       "    .dataframe tbody tr th {\n",
       "        vertical-align: top;\n",
       "    }\n",
       "\n",
       "    .dataframe thead th {\n",
       "        text-align: right;\n",
       "    }\n",
       "</style>\n",
       "<table border=\"1\" class=\"dataframe\">\n",
       "  <thead>\n",
       "    <tr style=\"text-align: right;\">\n",
       "      <th></th>\n",
       "      <th>name</th>\n",
       "      <th>platform</th>\n",
       "      <th>year_of_release</th>\n",
       "      <th>genre</th>\n",
       "      <th>na_sales</th>\n",
       "      <th>eu_sales</th>\n",
       "      <th>jp_sales</th>\n",
       "      <th>other_sales</th>\n",
       "      <th>critic_score</th>\n",
       "      <th>user_score</th>\n",
       "      <th>rating</th>\n",
       "      <th>total_sales</th>\n",
       "    </tr>\n",
       "  </thead>\n",
       "  <tbody>\n",
       "    <tr>\n",
       "      <th>14270</th>\n",
       "      <td>Supreme Ruler: Cold War</td>\n",
       "      <td>PC</td>\n",
       "      <td>2011</td>\n",
       "      <td>Strategy</td>\n",
       "      <td>0.0</td>\n",
       "      <td>0.03</td>\n",
       "      <td>0.0</td>\n",
       "      <td>0.01</td>\n",
       "      <td>63.0</td>\n",
       "      <td>6.8</td>\n",
       "      <td>RP</td>\n",
       "      <td>0.04</td>\n",
       "    </tr>\n",
       "  </tbody>\n",
       "</table>\n",
       "</div>"
      ],
      "text/plain": [
       "                          name platform  year_of_release     genre  na_sales  \\\n",
       "14270  Supreme Ruler: Cold War       PC             2011  Strategy       0.0   \n",
       "\n",
       "       eu_sales  jp_sales  other_sales  critic_score  user_score rating  \\\n",
       "14270      0.03       0.0         0.01          63.0         6.8     RP   \n",
       "\n",
       "       total_sales  \n",
       "14270         0.04  "
      ]
     },
     "execution_count": 57,
     "metadata": {},
     "output_type": "execute_result"
    }
   ],
   "source": [
    "df.query('rating==\"RP\"')"
   ]
  },
  {
   "cell_type": "markdown",
   "metadata": {},
   "source": [
    "В выборке оказалась одна игра с рейтингом EC и одна без назначенного рейтинга (RP). Плюс из 4 тысяч игр полторы тысячи имеют пропуски в cтолбце с рейтингом"
   ]
  },
  {
   "cell_type": "code",
   "execution_count": 58,
   "metadata": {},
   "outputs": [
    {
     "data": {
      "text/html": [
       "<div>\n",
       "<style scoped>\n",
       "    .dataframe tbody tr th:only-of-type {\n",
       "        vertical-align: middle;\n",
       "    }\n",
       "\n",
       "    .dataframe tbody tr th {\n",
       "        vertical-align: top;\n",
       "    }\n",
       "\n",
       "    .dataframe thead th {\n",
       "        text-align: right;\n",
       "    }\n",
       "</style>\n",
       "<table border=\"1\" class=\"dataframe\">\n",
       "  <thead>\n",
       "    <tr style=\"text-align: right;\">\n",
       "      <th></th>\n",
       "      <th>name</th>\n",
       "      <th>platform</th>\n",
       "      <th>year_of_release</th>\n",
       "      <th>genre</th>\n",
       "      <th>na_sales</th>\n",
       "      <th>eu_sales</th>\n",
       "      <th>jp_sales</th>\n",
       "      <th>other_sales</th>\n",
       "      <th>critic_score</th>\n",
       "      <th>user_score</th>\n",
       "      <th>rating</th>\n",
       "      <th>total_sales</th>\n",
       "    </tr>\n",
       "  </thead>\n",
       "  <tbody>\n",
       "    <tr>\n",
       "      <th>96</th>\n",
       "      <td>Super Smash Bros. for Wii U and 3DS</td>\n",
       "      <td>3DS</td>\n",
       "      <td>2014</td>\n",
       "      <td>Fighting</td>\n",
       "      <td>3.27</td>\n",
       "      <td>1.37</td>\n",
       "      <td>2.43</td>\n",
       "      <td>0.48</td>\n",
       "      <td>NaN</td>\n",
       "      <td>NaN</td>\n",
       "      <td>None</td>\n",
       "      <td>7.55</td>\n",
       "    </tr>\n",
       "    <tr>\n",
       "      <th>99</th>\n",
       "      <td>Call of Duty: Black Ops 3</td>\n",
       "      <td>XOne</td>\n",
       "      <td>2015</td>\n",
       "      <td>Shooter</td>\n",
       "      <td>4.59</td>\n",
       "      <td>2.11</td>\n",
       "      <td>0.01</td>\n",
       "      <td>0.68</td>\n",
       "      <td>NaN</td>\n",
       "      <td>NaN</td>\n",
       "      <td>None</td>\n",
       "      <td>7.39</td>\n",
       "    </tr>\n",
       "    <tr>\n",
       "      <th>108</th>\n",
       "      <td>Pokemon Sun/Moon</td>\n",
       "      <td>3DS</td>\n",
       "      <td>2016</td>\n",
       "      <td>Role-Playing</td>\n",
       "      <td>2.98</td>\n",
       "      <td>1.45</td>\n",
       "      <td>2.26</td>\n",
       "      <td>0.45</td>\n",
       "      <td>NaN</td>\n",
       "      <td>NaN</td>\n",
       "      <td>None</td>\n",
       "      <td>7.14</td>\n",
       "    </tr>\n",
       "    <tr>\n",
       "      <th>180</th>\n",
       "      <td>Minecraft</td>\n",
       "      <td>PS3</td>\n",
       "      <td>2014</td>\n",
       "      <td>Misc</td>\n",
       "      <td>2.03</td>\n",
       "      <td>2.37</td>\n",
       "      <td>0.00</td>\n",
       "      <td>0.87</td>\n",
       "      <td>NaN</td>\n",
       "      <td>NaN</td>\n",
       "      <td>None</td>\n",
       "      <td>5.27</td>\n",
       "    </tr>\n",
       "    <tr>\n",
       "      <th>184</th>\n",
       "      <td>Tomodachi Life</td>\n",
       "      <td>3DS</td>\n",
       "      <td>2013</td>\n",
       "      <td>Simulation</td>\n",
       "      <td>0.97</td>\n",
       "      <td>2.11</td>\n",
       "      <td>1.90</td>\n",
       "      <td>0.24</td>\n",
       "      <td>NaN</td>\n",
       "      <td>NaN</td>\n",
       "      <td>None</td>\n",
       "      <td>5.22</td>\n",
       "    </tr>\n",
       "    <tr>\n",
       "      <th>...</th>\n",
       "      <td>...</td>\n",
       "      <td>...</td>\n",
       "      <td>...</td>\n",
       "      <td>...</td>\n",
       "      <td>...</td>\n",
       "      <td>...</td>\n",
       "      <td>...</td>\n",
       "      <td>...</td>\n",
       "      <td>...</td>\n",
       "      <td>...</td>\n",
       "      <td>...</td>\n",
       "      <td>...</td>\n",
       "    </tr>\n",
       "    <tr>\n",
       "      <th>16703</th>\n",
       "      <td>Strawberry Nauts</td>\n",
       "      <td>PSV</td>\n",
       "      <td>2016</td>\n",
       "      <td>Adventure</td>\n",
       "      <td>0.00</td>\n",
       "      <td>0.00</td>\n",
       "      <td>0.01</td>\n",
       "      <td>0.00</td>\n",
       "      <td>NaN</td>\n",
       "      <td>NaN</td>\n",
       "      <td>None</td>\n",
       "      <td>0.01</td>\n",
       "    </tr>\n",
       "    <tr>\n",
       "      <th>16707</th>\n",
       "      <td>Aiyoku no Eustia</td>\n",
       "      <td>PSV</td>\n",
       "      <td>2014</td>\n",
       "      <td>Misc</td>\n",
       "      <td>0.00</td>\n",
       "      <td>0.00</td>\n",
       "      <td>0.01</td>\n",
       "      <td>0.00</td>\n",
       "      <td>NaN</td>\n",
       "      <td>NaN</td>\n",
       "      <td>None</td>\n",
       "      <td>0.01</td>\n",
       "    </tr>\n",
       "    <tr>\n",
       "      <th>16710</th>\n",
       "      <td>Samurai Warriors: Sanada Maru</td>\n",
       "      <td>PS3</td>\n",
       "      <td>2016</td>\n",
       "      <td>Action</td>\n",
       "      <td>0.00</td>\n",
       "      <td>0.00</td>\n",
       "      <td>0.01</td>\n",
       "      <td>0.00</td>\n",
       "      <td>NaN</td>\n",
       "      <td>NaN</td>\n",
       "      <td>None</td>\n",
       "      <td>0.01</td>\n",
       "    </tr>\n",
       "    <tr>\n",
       "      <th>16712</th>\n",
       "      <td>Haitaka no Psychedelica</td>\n",
       "      <td>PSV</td>\n",
       "      <td>2016</td>\n",
       "      <td>Adventure</td>\n",
       "      <td>0.00</td>\n",
       "      <td>0.00</td>\n",
       "      <td>0.01</td>\n",
       "      <td>0.00</td>\n",
       "      <td>NaN</td>\n",
       "      <td>NaN</td>\n",
       "      <td>None</td>\n",
       "      <td>0.01</td>\n",
       "    </tr>\n",
       "    <tr>\n",
       "      <th>16714</th>\n",
       "      <td>Winning Post 8 2016</td>\n",
       "      <td>PSV</td>\n",
       "      <td>2016</td>\n",
       "      <td>Simulation</td>\n",
       "      <td>0.00</td>\n",
       "      <td>0.00</td>\n",
       "      <td>0.01</td>\n",
       "      <td>0.00</td>\n",
       "      <td>NaN</td>\n",
       "      <td>NaN</td>\n",
       "      <td>None</td>\n",
       "      <td>0.01</td>\n",
       "    </tr>\n",
       "  </tbody>\n",
       "</table>\n",
       "<p>1526 rows × 12 columns</p>\n",
       "</div>"
      ],
      "text/plain": [
       "                                      name platform  year_of_release  \\\n",
       "96     Super Smash Bros. for Wii U and 3DS      3DS             2014   \n",
       "99               Call of Duty: Black Ops 3     XOne             2015   \n",
       "108                       Pokemon Sun/Moon      3DS             2016   \n",
       "180                              Minecraft      PS3             2014   \n",
       "184                         Tomodachi Life      3DS             2013   \n",
       "...                                    ...      ...              ...   \n",
       "16703                     Strawberry Nauts      PSV             2016   \n",
       "16707                     Aiyoku no Eustia      PSV             2014   \n",
       "16710        Samurai Warriors: Sanada Maru      PS3             2016   \n",
       "16712              Haitaka no Psychedelica      PSV             2016   \n",
       "16714                  Winning Post 8 2016      PSV             2016   \n",
       "\n",
       "              genre  na_sales  eu_sales  jp_sales  other_sales  critic_score  \\\n",
       "96         Fighting      3.27      1.37      2.43         0.48           NaN   \n",
       "99          Shooter      4.59      2.11      0.01         0.68           NaN   \n",
       "108    Role-Playing      2.98      1.45      2.26         0.45           NaN   \n",
       "180            Misc      2.03      2.37      0.00         0.87           NaN   \n",
       "184      Simulation      0.97      2.11      1.90         0.24           NaN   \n",
       "...             ...       ...       ...       ...          ...           ...   \n",
       "16703     Adventure      0.00      0.00      0.01         0.00           NaN   \n",
       "16707          Misc      0.00      0.00      0.01         0.00           NaN   \n",
       "16710        Action      0.00      0.00      0.01         0.00           NaN   \n",
       "16712     Adventure      0.00      0.00      0.01         0.00           NaN   \n",
       "16714    Simulation      0.00      0.00      0.01         0.00           NaN   \n",
       "\n",
       "       user_score rating  total_sales  \n",
       "96            NaN   None         7.55  \n",
       "99            NaN   None         7.39  \n",
       "108           NaN   None         7.14  \n",
       "180           NaN   None         5.27  \n",
       "184           NaN   None         5.22  \n",
       "...           ...    ...          ...  \n",
       "16703         NaN   None         0.01  \n",
       "16707         NaN   None         0.01  \n",
       "16710         NaN   None         0.01  \n",
       "16712         NaN   None         0.01  \n",
       "16714         NaN   None         0.01  \n",
       "\n",
       "[1526 rows x 12 columns]"
      ]
     },
     "execution_count": 58,
     "metadata": {},
     "output_type": "execute_result"
    }
   ],
   "source": [
    "df.query('rating.isna()')"
   ]
  },
  {
   "cell_type": "markdown",
   "metadata": {},
   "source": [
    "Тут есть игры и за 2013 год, поиск подсказывает, что по крайней мере у некоторых из этих игр рейтинг присвоен. Значит пропуски в столбце с рейтингом - недочет данных. В реальной задаче можно было бы уточнить недостающие данные. Сейчас просто имеем в виду, что данные не полные"
   ]
  },
  {
   "cell_type": "markdown",
   "metadata": {},
   "source": [
    "<div class=\"alert alert-block alert-danger\">\n",
    "<h2> Комментарий ревьюера <a class=\"tocSkip\"></h2>\n",
    "\n",
    "    \n",
    "<b>На доработку🤔:</b>  \n",
    "* Учитывая разницу в объемах рынка - построение всех регионов на одном графике здесь не подойдет.\n",
    "* Что можно сказать об играх без рейтинга? (туда входят как пропущенные значения так и значения `RP`)"
   ]
  },
  {
   "cell_type": "markdown",
   "metadata": {},
   "source": [
    "Выводы:\n",
    "\n",
    " - В Cеверной Америке и Европе лидируют игры жанра M\n",
    " - Игры жанра E популярны во всех трех регионах\n",
    " - В Японии лидируют игры жанра T\n",
    " - Ассортимент игр T в Японии меньше, чем игр Е, но покупают их больше\n",
    " - В Японии не большое количество игр М, но их часто покупают (игр М меньше всего, но по суммарным продажам они на 3 месте)\n"
   ]
  },
  {
   "cell_type": "markdown",
   "metadata": {},
   "source": [
    "<div class=\"alert alert-block alert-danger\" id=\"err1\">\n",
    "<h2> Комментарий ревьюера V2<a class=\"tocSkip\"></h2>\n",
    "\n",
    "    \n",
    "<b>На доработку🤔:</b>  \n",
    "    \n",
    "В данном случае большинство данных возрастного рейтинга для релизов в регионе Япония отсутствуют из-за того, что организация ESRB работает на североамериканском рынке. \n",
    "Если обратить внимание на количество игр без рейтинга в Японии, можно сделать качественный вывод о предпочтениях японских геймеров в выборе игр и популярности этих игр на мировом рынке. 😏"
   ]
  },
  {
   "cell_type": "markdown",
   "metadata": {},
   "source": [
    "<div class=\"alert alert-info\">\n",
    "<h2> Комментарий cтудента <a class=\"tocSkip\"></h2>\n",
    "    \n",
    "Добавила ниже описание безрейтинговых игр в Японии"
   ]
  },
  {
   "cell_type": "markdown",
   "metadata": {},
   "source": [
    "Посмотрим отдельно на продажи игр с отсутствующим рейтингом в трех регионах"
   ]
  },
  {
   "cell_type": "code",
   "execution_count": 59,
   "metadata": {},
   "outputs": [
    {
     "data": {
      "text/plain": [
       "<AxesSubplot:>"
      ]
     },
     "execution_count": 59,
     "metadata": {},
     "output_type": "execute_result"
    },
    {
     "data": {
      "image/png": "[encoded data removed]",
      "text/plain": [
       "<Figure size 432x288 with 1 Axes>"
      ]
     },
     "metadata": {
      "needs_background": "light"
     },
     "output_type": "display_data"
    }
   ],
   "source": [
    "df.query('rating.isna()')[['na_sales','eu_sales','jp_sales']].replace({0:np.nan}).boxplot(showfliers=False)"
   ]
  },
  {
   "cell_type": "markdown",
   "metadata": {},
   "source": [
    "Если не брать в рассчет нулевые продажи, то среднее получается примерно одинаковым, а разброс значений соотвествует объему рынка. Теперь посмотрим что будет, если не выкидывать нули"
   ]
  },
  {
   "cell_type": "code",
   "execution_count": 60,
   "metadata": {},
   "outputs": [
    {
     "data": {
      "text/plain": [
       "<AxesSubplot:>"
      ]
     },
     "execution_count": 60,
     "metadata": {},
     "output_type": "execute_result"
    },
    {
     "data": {
      "image/png": "[encoded data removed]",
      "text/plain": [
       "<Figure size 432x288 with 1 Axes>"
      ]
     },
     "metadata": {
      "needs_background": "light"
     },
     "output_type": "display_data"
    }
   ],
   "source": [
    "df.query('rating.isna()')[['na_sales','eu_sales','jp_sales']].boxplot(showfliers=False)"
   ]
  },
  {
   "cell_type": "markdown",
   "metadata": {},
   "source": [
    "Теперь видно, что японцы действительно покупают больше игр без присвоенного рейтинга. По уровню продаж они примерно соотвествуют играм рейтинга M в Японии"
   ]
  },
  {
   "cell_type": "markdown",
   "metadata": {},
   "source": [
    "# Проверка гипотез"
   ]
  },
  {
   "cell_type": "markdown",
   "metadata": {},
   "source": [
    "### Средние пользовательские рейтинги платформ Xbox One и PC одинаковые"
   ]
  },
  {
   "cell_type": "markdown",
   "metadata": {},
   "source": [
    "Нулевая гипотеза: \n",
    "\n",
    "Н_0 средний пользовательский рейтинг игр для платформы Xbox One равен среднему пользовательскому рейтингу игр для платформы PC\n",
    "\n",
    "Альтернативная гипотеза: \n",
    "\n",
    "Н_1 средний пользовательский рейтинг игр для платформы Xbox One не равен среднему пользовательскому рейтингу игр для платформы PC\n",
    "\n",
    "Для проверки используем статистический тест"
   ]
  },
  {
   "cell_type": "code",
   "execution_count": 61,
   "metadata": {},
   "outputs": [
    {
     "data": {
      "text/plain": [
       "Ttest_indResult(statistic=0.6395712666358779, pvalue=0.5228274193632001)"
      ]
     },
     "execution_count": 61,
     "metadata": {},
     "output_type": "execute_result"
    }
   ],
   "source": [
    "st.ttest_ind(df.query('platform==\"XOne\"').dropna()['user_score'], \n",
    "             df.query('platform==\"PC\"').dropna()['user_score'], \n",
    "             equal_var = False)"
   ]
  },
  {
   "cell_type": "markdown",
   "metadata": {},
   "source": [
    "Вероятность случайно получить такое или большее различие средних 52 %. Нулевая гипотеза не опровергнута, средний пользовательский рейтинг игр для платформы Xbox One равен среднему пользовательскому рейтингу игр для платформы PC"
   ]
  },
  {
   "cell_type": "markdown",
   "metadata": {},
   "source": [
    "### Средние пользовательские рейтинги жанров Action (англ. «действие», экшен-игры) и Sports (англ. «спортивные соревнования») разные"
   ]
  },
  {
   "cell_type": "markdown",
   "metadata": {},
   "source": [
    "Нулевая гипотеза: \n",
    "\n",
    "Н_0 средний пользовательский рейтинг игр жанра Action равен среднему пользовательскому рейтингу игр жанра Sports\n",
    "\n",
    "Альтернативная гипотеза: \n",
    "\n",
    "Н_1 средний пользовательский рейтинг игр жанра Action не равен среднему пользовательскому рейтингу игр жанра Sports\n",
    "\n",
    "Для проверки используем статистический тест"
   ]
  },
  {
   "cell_type": "code",
   "execution_count": 62,
   "metadata": {},
   "outputs": [
    {
     "data": {
      "text/plain": [
       "Ttest_indResult(statistic=6.941831714723705, pvalue=2.8287785988295567e-11)"
      ]
     },
     "execution_count": 62,
     "metadata": {},
     "output_type": "execute_result"
    }
   ],
   "source": [
    "st.ttest_ind(df.query('genre==\"Action\"').dropna()['user_score'], \n",
    "             df.query('genre==\"Sports\"').dropna()['user_score'], \n",
    "             equal_var = False)"
   ]
  },
  {
   "cell_type": "markdown",
   "metadata": {},
   "source": [
    "p-value меньше 1%. Нулевая гипотеза отвергнута. Cредний пользовательский рейтинг игр для платформы Xbox One не равен среднему пользовательскому рейтингу игр для платформы PC"
   ]
  },
  {
   "cell_type": "markdown",
   "metadata": {},
   "source": [
    "# Выводы"
   ]
  },
  {
   "cell_type": "markdown",
   "metadata": {},
   "source": [
    "1. Потенциально выгодные платформы для проведения рекламной кампании в 2017 году: 3DS, PC, PS4, PSV,XOne\n",
    "2. Самой многообещающей платформой на 2017 можно назваать PS4\n",
    "3. Обращать внимание при планировке надо на отзывы, в первую очередь - критиков. Тратить ресурсы на игры с низким рейтингом может быть нецелесообразно. Однако высокий рейтинг не гарантирует высокие продажи\n",
    "4. Жанровые и платформенные предпочтения пользователей разнятся в разных регионах. Если магазин Стримчик относится к Европе, следует обратить внимание на Action, Sports, Shooter\n",
    "5. Примерный \"срок жизни\" платформы - 5 лет. Есть исключения - линейка PS держится дольше, до 10 лет\n",
    "6. популярность PC ниже других платформ, но никогда не опускается до нуля\n",
    "7. Рынок Европы и Северной Америки с точки зрения распределения по жанрам и рейтингам практически совпадает\n",
    "8. Япония значительно отличается от 2 других регионов и по объемам, и по популярность платформ, жанров и рейтингов\n",
    "9. Главные жанры в Японии - Role Playing и Action\n",
    "10. Главные жанры в СА и Европе - Action и Shooter\n",
    "11. PS4 почти стал главной платформой в Европе, набирает обороты в СА и только зашел в топ-5 в Японии\n",
    "12. Самые результативные жанры (мало игр, большой доход): platform, fighting, shooter. Самые не результативные: adventure, action, role-playing\n",
    "\n"
   ]
  },
  {
   "cell_type": "markdown",
   "metadata": {},
   "source": [
    "<div class=\"alert alert-block alert-danger\">\n",
    "<h2> Комментарий ревьюера <a class=\"tocSkip\"></h2>\n",
    "\n",
    "    \n",
    "<b>На доработку🤔:</b>  \n",
    "На финальном выводе не стоит экономить - это результат такого большого исследования!"
   ]
  },
  {
   "cell_type": "markdown",
   "metadata": {},
   "source": [
    "<div class=\"alert alert-info\">\n",
    "<h2> Комментарий cтудента <a class=\"tocSkip\"></h2>\n",
    "\n",
    "Дополнила вывод\n"
   ]
  },
  {
   "cell_type": "markdown",
   "metadata": {},
   "source": [
    "<div class=\"alert alert-success\">\n",
    "<h2> Комментарий ревьюера V2<a class=\"tocSkip\"> </h2>\n",
    "\n",
    "<b>Все отлично!👍:</b>  \n",
    "Супер, теперь это уже рекомендации по которым можно построить различные стратегии!"
   ]
  },
  {
   "cell_type": "markdown",
   "metadata": {},
   "source": [
    "<div style=\"border:solid Chocolate 2px; padding: 40px\">\n",
    "\n",
    "**Общий вывод по проекту**\n",
    "\n",
    "Проект получился приятным для чтения.  \n",
    "    \n",
    "У тебя хорошие навыки в программировании. Недостает более развернутых выводов и работы над визуализациями - точки для развития. Далее - тезисно.\n",
    "\n",
    "**Отмечу отдельные положительные моменты проекта🙂**:\n",
    " \n",
    "* На разных шагах проекта ты предлагаешь очень интересные решения и методы для их реализации. Хорошая работа!\n",
    "* Уверенное владение питоном.\n",
    "* Умелое использование разнообразных функций импортированных библиотек и подходов в решении.\n",
    "* Грамотное оформление кода.\n",
    "* Хорошие аргументы в пользу принятия тех или иных решений.\n",
    "\n",
    "\n",
    "**На что стоит обратить внимание**💡:\n",
    "    \n",
    "* Оглавление для проекта упростит навигацию как для тебя, так и для меня 😉.\n",
    "* Выбрать актуальный период - с учетом полученных тобой фактов, не стоит брать слишком большое окно (прогноз делаем все таки на 2017 год).\n",
    "* Учесть выбранный актуальный период *во всех последующих шагах*.\n",
    "* Не поскупиться на финальный вывод.\n",
    "* Небольшие недочеты отмеченные красным комментарием, которые тебе точно не составит труда исправить - все знания уже имеются!\n",
    "* Остальные рекомендации ты найдешь в моих комментариях!\n",
    "\n",
    "\n",
    "**Желаю удачи и жду твой проект на повторное ревью!**😉\n",
    "</div>"
   ]
  },
  {
   "cell_type": "code",
   "execution_count": null,
   "metadata": {},
   "outputs": [],
   "source": []
  }
 ],
 "metadata": {
  "ExecuteTimeLog": [
   {
    "duration": 416,
    "start_time": "2022-06-03T15:40:00.060Z"
   },
   {
    "duration": 188,
    "start_time": "2022-06-03T15:40:19.336Z"
   },
   {
    "duration": 27,
    "start_time": "2022-06-03T15:40:21.994Z"
   },
   {
    "duration": 2,
    "start_time": "2022-06-03T15:43:02.106Z"
   },
   {
    "duration": 35,
    "start_time": "2022-06-03T15:43:33.295Z"
   },
   {
    "duration": 3,
    "start_time": "2022-06-03T15:54:06.635Z"
   },
   {
    "duration": 23,
    "start_time": "2022-06-03T15:54:10.557Z"
   },
   {
    "duration": 29,
    "start_time": "2022-06-03T15:57:29.638Z"
   },
   {
    "duration": 78,
    "start_time": "2022-06-03T15:57:36.591Z"
   },
   {
    "duration": 12,
    "start_time": "2022-06-03T15:58:02.107Z"
   },
   {
    "duration": 12,
    "start_time": "2022-06-03T15:58:06.127Z"
   },
   {
    "duration": 6,
    "start_time": "2022-06-03T15:58:32.625Z"
   },
   {
    "duration": 4,
    "start_time": "2022-06-03T15:58:50.429Z"
   },
   {
    "duration": 13,
    "start_time": "2022-06-03T15:58:56.110Z"
   },
   {
    "duration": 6,
    "start_time": "2022-06-03T15:59:46.310Z"
   },
   {
    "duration": 23,
    "start_time": "2022-06-03T16:00:00.662Z"
   },
   {
    "duration": 569,
    "start_time": "2022-06-03T16:01:46.310Z"
   },
   {
    "duration": 165,
    "start_time": "2022-06-03T16:01:55.305Z"
   },
   {
    "duration": 8,
    "start_time": "2022-06-03T16:18:53.245Z"
   },
   {
    "duration": 80,
    "start_time": "2022-06-06T09:39:25.443Z"
   },
   {
    "duration": 429,
    "start_time": "2022-06-06T09:39:29.516Z"
   },
   {
    "duration": 183,
    "start_time": "2022-06-06T09:39:29.947Z"
   },
   {
    "duration": 55,
    "start_time": "2022-06-06T09:39:30.132Z"
   },
   {
    "duration": 4,
    "start_time": "2022-06-06T09:39:30.188Z"
   },
   {
    "duration": 21,
    "start_time": "2022-06-06T09:39:30.194Z"
   },
   {
    "duration": 19,
    "start_time": "2022-06-06T09:39:30.217Z"
   },
   {
    "duration": 47,
    "start_time": "2022-06-06T09:47:12.978Z"
   },
   {
    "duration": 3,
    "start_time": "2022-06-06T09:47:16.325Z"
   },
   {
    "duration": 103,
    "start_time": "2022-06-06T09:47:16.331Z"
   },
   {
    "duration": 59,
    "start_time": "2022-06-06T09:47:16.437Z"
   },
   {
    "duration": 4,
    "start_time": "2022-06-06T09:47:16.498Z"
   },
   {
    "duration": 10,
    "start_time": "2022-06-06T09:47:16.504Z"
   },
   {
    "duration": 35,
    "start_time": "2022-06-06T09:47:16.516Z"
   },
   {
    "duration": 17,
    "start_time": "2022-06-06T09:47:31.345Z"
   },
   {
    "duration": 26,
    "start_time": "2022-06-06T09:47:37.865Z"
   },
   {
    "duration": 26,
    "start_time": "2022-06-06T09:47:45.916Z"
   },
   {
    "duration": 20,
    "start_time": "2022-06-06T09:47:49.629Z"
   },
   {
    "duration": 3,
    "start_time": "2022-06-06T09:49:39.601Z"
   },
   {
    "duration": 62,
    "start_time": "2022-06-06T09:49:39.606Z"
   },
   {
    "duration": 33,
    "start_time": "2022-06-06T09:49:39.670Z"
   },
   {
    "duration": 3,
    "start_time": "2022-06-06T09:49:39.705Z"
   },
   {
    "duration": 5,
    "start_time": "2022-06-06T09:49:39.710Z"
   },
   {
    "duration": 17,
    "start_time": "2022-06-06T09:49:39.729Z"
   },
   {
    "duration": 32,
    "start_time": "2022-06-06T09:49:39.751Z"
   },
   {
    "duration": 5,
    "start_time": "2022-06-06T09:49:59.349Z"
   },
   {
    "duration": 104,
    "start_time": "2022-06-06T09:49:59.357Z"
   },
   {
    "duration": 37,
    "start_time": "2022-06-06T09:49:59.463Z"
   },
   {
    "duration": 6,
    "start_time": "2022-06-06T09:49:59.502Z"
   },
   {
    "duration": 41,
    "start_time": "2022-06-06T09:49:59.510Z"
   },
   {
    "duration": 46,
    "start_time": "2022-06-06T09:49:59.552Z"
   },
   {
    "duration": 0,
    "start_time": "2022-06-06T09:49:59.600Z"
   },
   {
    "duration": 0,
    "start_time": "2022-06-06T09:49:59.602Z"
   },
   {
    "duration": 14,
    "start_time": "2022-06-06T09:50:05.508Z"
   },
   {
    "duration": 5,
    "start_time": "2022-06-06T09:50:16.296Z"
   },
   {
    "duration": 19,
    "start_time": "2022-06-06T09:50:21.976Z"
   },
   {
    "duration": 13,
    "start_time": "2022-06-06T09:50:33.212Z"
   },
   {
    "duration": 19,
    "start_time": "2022-06-06T09:51:15.148Z"
   },
   {
    "duration": 4,
    "start_time": "2022-06-06T09:51:51.878Z"
   },
   {
    "duration": 72,
    "start_time": "2022-06-06T09:51:51.884Z"
   },
   {
    "duration": 52,
    "start_time": "2022-06-06T09:51:51.958Z"
   },
   {
    "duration": 4,
    "start_time": "2022-06-06T09:51:52.012Z"
   },
   {
    "duration": 27,
    "start_time": "2022-06-06T09:51:52.022Z"
   },
   {
    "duration": 37,
    "start_time": "2022-06-06T09:51:52.051Z"
   },
   {
    "duration": 9,
    "start_time": "2022-06-06T09:51:52.090Z"
   },
   {
    "duration": 32,
    "start_time": "2022-06-06T09:51:52.101Z"
   },
   {
    "duration": 12,
    "start_time": "2022-06-06T09:52:53.860Z"
   },
   {
    "duration": 5,
    "start_time": "2022-06-06T09:52:54.206Z"
   },
   {
    "duration": 14,
    "start_time": "2022-06-06T09:52:55.951Z"
   },
   {
    "duration": 670,
    "start_time": "2022-06-06T09:53:37.155Z"
   },
   {
    "duration": 6,
    "start_time": "2022-06-06T09:54:01.441Z"
   },
   {
    "duration": 26,
    "start_time": "2022-06-06T09:55:53.532Z"
   },
   {
    "duration": 13,
    "start_time": "2022-06-06T09:56:06.800Z"
   },
   {
    "duration": 13,
    "start_time": "2022-06-06T09:56:29.389Z"
   },
   {
    "duration": 16,
    "start_time": "2022-06-06T09:56:33.491Z"
   },
   {
    "duration": 24,
    "start_time": "2022-06-06T09:56:54.414Z"
   },
   {
    "duration": 12,
    "start_time": "2022-06-06T10:05:52.704Z"
   },
   {
    "duration": 11,
    "start_time": "2022-06-06T10:06:05.997Z"
   },
   {
    "duration": 71,
    "start_time": "2022-06-06T10:08:38.826Z"
   },
   {
    "duration": 694,
    "start_time": "2022-06-06T10:11:54.106Z"
   },
   {
    "duration": 11,
    "start_time": "2022-06-06T10:12:01.416Z"
   },
   {
    "duration": 10,
    "start_time": "2022-06-06T10:13:29.250Z"
   },
   {
    "duration": 8,
    "start_time": "2022-06-06T10:25:11.214Z"
   },
   {
    "duration": 15,
    "start_time": "2022-06-06T10:27:17.854Z"
   },
   {
    "duration": 15,
    "start_time": "2022-06-06T10:27:24.628Z"
   },
   {
    "duration": 28,
    "start_time": "2022-06-06T10:27:33.555Z"
   },
   {
    "duration": 27,
    "start_time": "2022-06-06T10:27:45.969Z"
   },
   {
    "duration": 2,
    "start_time": "2022-06-06T10:28:18.995Z"
   },
   {
    "duration": 92,
    "start_time": "2022-06-06T10:28:18.999Z"
   },
   {
    "duration": 31,
    "start_time": "2022-06-06T10:28:19.092Z"
   },
   {
    "duration": 7,
    "start_time": "2022-06-06T10:28:19.126Z"
   },
   {
    "duration": 59,
    "start_time": "2022-06-06T10:28:19.135Z"
   },
   {
    "duration": 11,
    "start_time": "2022-06-06T10:28:19.195Z"
   },
   {
    "duration": 15,
    "start_time": "2022-06-06T10:28:19.208Z"
   },
   {
    "duration": 45,
    "start_time": "2022-06-06T10:28:19.225Z"
   },
   {
    "duration": 33,
    "start_time": "2022-06-06T10:28:19.273Z"
   },
   {
    "duration": 16,
    "start_time": "2022-06-06T10:28:19.308Z"
   },
   {
    "duration": 64,
    "start_time": "2022-06-06T10:28:19.326Z"
   },
   {
    "duration": 16,
    "start_time": "2022-06-06T10:28:19.391Z"
   },
   {
    "duration": 13,
    "start_time": "2022-06-06T10:29:26.029Z"
   },
   {
    "duration": 13,
    "start_time": "2022-06-06T10:29:35.154Z"
   },
   {
    "duration": 4,
    "start_time": "2022-06-06T10:29:53.167Z"
   },
   {
    "duration": 12,
    "start_time": "2022-06-06T10:30:30.746Z"
   },
   {
    "duration": 7,
    "start_time": "2022-06-06T10:31:59.366Z"
   },
   {
    "duration": 204,
    "start_time": "2022-06-06T10:32:28.899Z"
   },
   {
    "duration": 283,
    "start_time": "2022-06-06T10:32:31.769Z"
   },
   {
    "duration": 290,
    "start_time": "2022-06-06T10:32:37.629Z"
   },
   {
    "duration": 179,
    "start_time": "2022-06-06T10:32:45.991Z"
   },
   {
    "duration": 4,
    "start_time": "2022-06-06T10:33:21.006Z"
   },
   {
    "duration": 211,
    "start_time": "2022-06-06T10:33:37.223Z"
   },
   {
    "duration": 269,
    "start_time": "2022-06-06T10:33:54.522Z"
   },
   {
    "duration": 185,
    "start_time": "2022-06-06T10:33:59.888Z"
   },
   {
    "duration": 420,
    "start_time": "2022-06-06T10:34:12.153Z"
   },
   {
    "duration": 10,
    "start_time": "2022-06-06T10:34:34.025Z"
   },
   {
    "duration": 28,
    "start_time": "2022-06-06T10:35:14.564Z"
   },
   {
    "duration": 10,
    "start_time": "2022-06-06T10:37:29.879Z"
   },
   {
    "duration": 42,
    "start_time": "2022-06-06T10:37:41.628Z"
   },
   {
    "duration": 47,
    "start_time": "2022-06-06T10:37:53.385Z"
   },
   {
    "duration": 10,
    "start_time": "2022-06-06T10:38:04.605Z"
   },
   {
    "duration": 7,
    "start_time": "2022-06-06T10:55:38.684Z"
   },
   {
    "duration": 19,
    "start_time": "2022-06-06T10:57:13.424Z"
   },
   {
    "duration": 20,
    "start_time": "2022-06-06T10:57:16.880Z"
   },
   {
    "duration": 363,
    "start_time": "2022-06-06T10:57:37.892Z"
   },
   {
    "duration": 353,
    "start_time": "2022-06-06T10:57:41.953Z"
   },
   {
    "duration": 28,
    "start_time": "2022-06-06T10:58:07.567Z"
   },
   {
    "duration": 10,
    "start_time": "2022-06-06T10:58:31.358Z"
   },
   {
    "duration": 384,
    "start_time": "2022-06-06T10:58:31.728Z"
   },
   {
    "duration": 7,
    "start_time": "2022-06-06T10:58:37.719Z"
   },
   {
    "duration": 428,
    "start_time": "2022-06-06T10:58:38.159Z"
   },
   {
    "duration": 2274,
    "start_time": "2022-06-06T10:58:54.344Z"
   },
   {
    "duration": 627,
    "start_time": "2022-06-06T10:59:05.362Z"
   },
   {
    "duration": 253,
    "start_time": "2022-06-06T10:59:13.340Z"
   },
   {
    "duration": 588,
    "start_time": "2022-06-06T10:59:17.869Z"
   },
   {
    "duration": 324,
    "start_time": "2022-06-06T10:59:29.957Z"
   },
   {
    "duration": 373,
    "start_time": "2022-06-06T10:59:33.999Z"
   },
   {
    "duration": 261,
    "start_time": "2022-06-06T10:59:39.456Z"
   },
   {
    "duration": 265,
    "start_time": "2022-06-06T10:59:42.207Z"
   },
   {
    "duration": 400,
    "start_time": "2022-06-06T10:59:47.756Z"
   },
   {
    "duration": 334,
    "start_time": "2022-06-06T11:00:33.199Z"
   },
   {
    "duration": 208,
    "start_time": "2022-06-06T11:00:40.808Z"
   },
   {
    "duration": 315,
    "start_time": "2022-06-06T11:00:45.748Z"
   },
   {
    "duration": 254,
    "start_time": "2022-06-06T11:01:00.851Z"
   },
   {
    "duration": 281,
    "start_time": "2022-06-06T11:01:19.379Z"
   },
   {
    "duration": 326,
    "start_time": "2022-06-06T11:01:31.255Z"
   },
   {
    "duration": 278,
    "start_time": "2022-06-06T11:01:43.978Z"
   },
   {
    "duration": 7,
    "start_time": "2022-06-06T11:03:42.997Z"
   },
   {
    "duration": 383,
    "start_time": "2022-06-06T11:03:44.109Z"
   },
   {
    "duration": 500,
    "start_time": "2022-06-06T11:04:13.065Z"
   },
   {
    "duration": 298,
    "start_time": "2022-06-06T11:04:20.201Z"
   },
   {
    "duration": 8,
    "start_time": "2022-06-06T11:04:56.451Z"
   },
   {
    "duration": 15,
    "start_time": "2022-06-06T11:05:00.653Z"
   },
   {
    "duration": 193,
    "start_time": "2022-06-06T11:05:35.759Z"
   },
   {
    "duration": 246,
    "start_time": "2022-06-06T11:05:46.289Z"
   },
   {
    "duration": 7,
    "start_time": "2022-06-06T11:07:03.462Z"
   },
   {
    "duration": 10,
    "start_time": "2022-06-06T11:07:07.188Z"
   },
   {
    "duration": 342,
    "start_time": "2022-06-06T11:07:32.620Z"
   },
   {
    "duration": 297,
    "start_time": "2022-06-06T11:07:36.654Z"
   },
   {
    "duration": 371,
    "start_time": "2022-06-06T11:07:40.452Z"
   },
   {
    "duration": 185,
    "start_time": "2022-06-06T11:07:52.819Z"
   },
   {
    "duration": 308,
    "start_time": "2022-06-06T11:07:57.180Z"
   },
   {
    "duration": 15,
    "start_time": "2022-06-06T11:08:08.120Z"
   },
   {
    "duration": 5,
    "start_time": "2022-06-06T11:08:14.280Z"
   },
   {
    "duration": 6,
    "start_time": "2022-06-06T11:08:23.166Z"
   },
   {
    "duration": 12,
    "start_time": "2022-06-06T11:08:58.182Z"
   },
   {
    "duration": 10,
    "start_time": "2022-06-06T11:09:05.854Z"
   },
   {
    "duration": 5,
    "start_time": "2022-06-06T11:09:10.316Z"
   },
   {
    "duration": 43,
    "start_time": "2022-06-06T11:10:23.057Z"
   },
   {
    "duration": 10,
    "start_time": "2022-06-06T11:10:25.247Z"
   },
   {
    "duration": 309,
    "start_time": "2022-06-06T11:10:34.307Z"
   },
   {
    "duration": 7,
    "start_time": "2022-06-06T11:10:57.500Z"
   },
   {
    "duration": 484,
    "start_time": "2022-06-06T11:11:06.501Z"
   },
   {
    "duration": 277,
    "start_time": "2022-06-06T11:11:11.698Z"
   },
   {
    "duration": 291,
    "start_time": "2022-06-06T11:11:27.587Z"
   },
   {
    "duration": 314,
    "start_time": "2022-06-06T11:11:33.254Z"
   },
   {
    "duration": 7,
    "start_time": "2022-06-06T11:11:52.684Z"
   },
   {
    "duration": 13,
    "start_time": "2022-06-06T11:11:56.420Z"
   },
   {
    "duration": 292,
    "start_time": "2022-06-06T11:12:26.204Z"
   },
   {
    "duration": 279,
    "start_time": "2022-06-06T11:12:31.168Z"
   },
   {
    "duration": 326,
    "start_time": "2022-06-06T11:12:33.784Z"
   },
   {
    "duration": 321,
    "start_time": "2022-06-06T11:12:37.595Z"
   },
   {
    "duration": 316,
    "start_time": "2022-06-06T11:12:43.747Z"
   },
   {
    "duration": 338,
    "start_time": "2022-06-06T11:12:50.457Z"
   },
   {
    "duration": 13,
    "start_time": "2022-06-06T11:13:13.003Z"
   },
   {
    "duration": 1621,
    "start_time": "2022-06-06T11:13:17.380Z"
   },
   {
    "duration": 302,
    "start_time": "2022-06-06T11:13:20.282Z"
   },
   {
    "duration": 9,
    "start_time": "2022-06-06T11:13:26.394Z"
   },
   {
    "duration": 279,
    "start_time": "2022-06-06T11:14:06.421Z"
   },
   {
    "duration": 307,
    "start_time": "2022-06-06T11:14:09.811Z"
   },
   {
    "duration": 364,
    "start_time": "2022-06-06T11:14:34.424Z"
   },
   {
    "duration": 657,
    "start_time": "2022-06-06T11:14:39.307Z"
   },
   {
    "duration": 712,
    "start_time": "2022-06-06T11:15:11.780Z"
   },
   {
    "duration": 1606,
    "start_time": "2022-06-06T11:15:20.220Z"
   },
   {
    "duration": 17,
    "start_time": "2022-06-06T11:15:32.219Z"
   },
   {
    "duration": 8,
    "start_time": "2022-06-06T11:15:34.675Z"
   },
   {
    "duration": 34,
    "start_time": "2022-06-06T11:16:11.373Z"
   },
   {
    "duration": 18,
    "start_time": "2022-06-06T11:16:39.680Z"
   },
   {
    "duration": 20,
    "start_time": "2022-06-06T11:16:43.774Z"
   },
   {
    "duration": 8,
    "start_time": "2022-06-06T11:17:04.453Z"
   },
   {
    "duration": 14,
    "start_time": "2022-06-06T11:22:47.761Z"
   },
   {
    "duration": 19,
    "start_time": "2022-06-06T11:22:50.828Z"
   },
   {
    "duration": 11,
    "start_time": "2022-06-06T11:22:52.995Z"
   },
   {
    "duration": 11,
    "start_time": "2022-06-06T11:23:05.808Z"
   },
   {
    "duration": 11,
    "start_time": "2022-06-06T11:23:17.622Z"
   },
   {
    "duration": 7,
    "start_time": "2022-06-06T11:23:52.568Z"
   },
   {
    "duration": 8,
    "start_time": "2022-06-06T11:24:00.154Z"
   },
   {
    "duration": 9,
    "start_time": "2022-06-06T11:25:32.173Z"
   },
   {
    "duration": 27,
    "start_time": "2022-06-06T11:28:08.454Z"
   },
   {
    "duration": 6,
    "start_time": "2022-06-06T11:30:02.349Z"
   },
   {
    "duration": 110,
    "start_time": "2022-06-06T11:30:02.359Z"
   },
   {
    "duration": 49,
    "start_time": "2022-06-06T11:30:02.472Z"
   },
   {
    "duration": 20,
    "start_time": "2022-06-06T11:30:02.542Z"
   },
   {
    "duration": 98,
    "start_time": "2022-06-06T11:30:02.575Z"
   },
   {
    "duration": 60,
    "start_time": "2022-06-06T11:30:02.675Z"
   },
   {
    "duration": 36,
    "start_time": "2022-06-06T11:30:02.738Z"
   },
   {
    "duration": 46,
    "start_time": "2022-06-06T11:30:02.777Z"
   },
   {
    "duration": 38,
    "start_time": "2022-06-06T11:30:02.825Z"
   },
   {
    "duration": 71,
    "start_time": "2022-06-06T11:30:02.867Z"
   },
   {
    "duration": 32,
    "start_time": "2022-06-06T11:30:02.940Z"
   },
   {
    "duration": 89,
    "start_time": "2022-06-06T11:30:02.974Z"
   },
   {
    "duration": 32,
    "start_time": "2022-06-06T11:30:03.066Z"
   },
   {
    "duration": 359,
    "start_time": "2022-06-06T11:30:03.102Z"
   },
   {
    "duration": 406,
    "start_time": "2022-06-06T11:30:03.465Z"
   },
   {
    "duration": 8,
    "start_time": "2022-06-06T11:30:03.873Z"
   },
   {
    "duration": 20,
    "start_time": "2022-06-06T11:30:03.884Z"
   },
   {
    "duration": 437,
    "start_time": "2022-06-06T11:30:03.907Z"
   },
   {
    "duration": 422,
    "start_time": "2022-06-06T11:30:04.346Z"
   },
   {
    "duration": 7,
    "start_time": "2022-06-06T11:30:04.775Z"
   },
   {
    "duration": 380,
    "start_time": "2022-06-06T11:30:04.784Z"
   },
   {
    "duration": 9,
    "start_time": "2022-06-06T11:30:05.166Z"
   },
   {
    "duration": 263,
    "start_time": "2022-06-06T11:30:05.177Z"
   },
   {
    "duration": 19,
    "start_time": "2022-06-06T11:30:05.442Z"
   },
   {
    "duration": 347,
    "start_time": "2022-06-06T11:30:05.467Z"
   },
   {
    "duration": 21,
    "start_time": "2022-06-06T11:30:05.816Z"
   },
   {
    "duration": 32,
    "start_time": "2022-06-06T11:30:05.839Z"
   },
   {
    "duration": 15,
    "start_time": "2022-06-06T11:30:05.874Z"
   },
   {
    "duration": 375,
    "start_time": "2022-06-06T11:33:20.886Z"
   },
   {
    "duration": 333,
    "start_time": "2022-06-06T11:33:27.486Z"
   },
   {
    "duration": 309,
    "start_time": "2022-06-06T11:33:39.316Z"
   },
   {
    "duration": 323,
    "start_time": "2022-06-06T11:33:42.704Z"
   },
   {
    "duration": 293,
    "start_time": "2022-06-06T11:35:51.756Z"
   },
   {
    "duration": 235,
    "start_time": "2022-06-06T11:35:55.790Z"
   },
   {
    "duration": 229,
    "start_time": "2022-06-06T11:35:59.379Z"
   },
   {
    "duration": 33,
    "start_time": "2022-06-06T11:36:05.597Z"
   },
   {
    "duration": 13,
    "start_time": "2022-06-06T11:36:09.530Z"
   },
   {
    "duration": 4,
    "start_time": "2022-06-06T11:36:29.546Z"
   },
   {
    "duration": 9,
    "start_time": "2022-06-06T11:36:41.454Z"
   },
   {
    "duration": 10,
    "start_time": "2022-06-06T11:36:47.546Z"
   },
   {
    "duration": 5,
    "start_time": "2022-06-06T11:37:28.773Z"
   },
   {
    "duration": 5,
    "start_time": "2022-06-06T11:37:35.382Z"
   },
   {
    "duration": 5,
    "start_time": "2022-06-06T11:37:42.270Z"
   },
   {
    "duration": 7,
    "start_time": "2022-06-06T11:38:01.889Z"
   },
   {
    "duration": 8,
    "start_time": "2022-06-06T11:38:18.965Z"
   },
   {
    "duration": 223,
    "start_time": "2022-06-06T11:39:16.650Z"
   },
   {
    "duration": 5,
    "start_time": "2022-06-06T11:44:06.392Z"
   },
   {
    "duration": 4,
    "start_time": "2022-06-06T11:46:46.920Z"
   },
   {
    "duration": 11,
    "start_time": "2022-06-06T11:47:22.079Z"
   },
   {
    "duration": 2,
    "start_time": "2022-06-06T11:47:41.111Z"
   },
   {
    "duration": 107,
    "start_time": "2022-06-06T11:47:41.115Z"
   },
   {
    "duration": 48,
    "start_time": "2022-06-06T11:47:41.224Z"
   },
   {
    "duration": 4,
    "start_time": "2022-06-06T11:47:41.273Z"
   },
   {
    "duration": 21,
    "start_time": "2022-06-06T11:47:41.279Z"
   },
   {
    "duration": 9,
    "start_time": "2022-06-06T11:47:41.302Z"
   },
   {
    "duration": 11,
    "start_time": "2022-06-06T11:47:41.312Z"
   },
   {
    "duration": 44,
    "start_time": "2022-06-06T11:47:41.325Z"
   },
   {
    "duration": 11,
    "start_time": "2022-06-06T11:47:41.371Z"
   },
   {
    "duration": 20,
    "start_time": "2022-06-06T11:47:41.384Z"
   },
   {
    "duration": 8,
    "start_time": "2022-06-06T11:47:41.407Z"
   },
   {
    "duration": 11,
    "start_time": "2022-06-06T11:47:41.416Z"
   },
   {
    "duration": 34,
    "start_time": "2022-06-06T11:47:41.432Z"
   },
   {
    "duration": 207,
    "start_time": "2022-06-06T11:47:41.468Z"
   },
   {
    "duration": 277,
    "start_time": "2022-06-06T11:47:41.676Z"
   },
   {
    "duration": 6,
    "start_time": "2022-06-06T11:47:41.957Z"
   },
   {
    "duration": 8,
    "start_time": "2022-06-06T11:47:41.964Z"
   },
   {
    "duration": 604,
    "start_time": "2022-06-06T11:47:41.974Z"
   },
   {
    "duration": 281,
    "start_time": "2022-06-06T11:47:42.580Z"
   },
   {
    "duration": 6,
    "start_time": "2022-06-06T11:47:42.863Z"
   },
   {
    "duration": 288,
    "start_time": "2022-06-06T11:47:42.870Z"
   },
   {
    "duration": 7,
    "start_time": "2022-06-06T11:47:43.162Z"
   },
   {
    "duration": 228,
    "start_time": "2022-06-06T11:47:43.171Z"
   },
   {
    "duration": 5,
    "start_time": "2022-06-06T11:47:43.401Z"
   },
   {
    "duration": 250,
    "start_time": "2022-06-06T11:47:43.408Z"
   },
   {
    "duration": 12,
    "start_time": "2022-06-06T11:47:43.659Z"
   },
   {
    "duration": 13,
    "start_time": "2022-06-06T11:47:43.673Z"
   },
   {
    "duration": 10,
    "start_time": "2022-06-06T11:47:43.688Z"
   },
   {
    "duration": 18,
    "start_time": "2022-06-06T11:47:43.699Z"
   },
   {
    "duration": 11,
    "start_time": "2022-06-06T11:47:43.719Z"
   },
   {
    "duration": 249,
    "start_time": "2022-06-06T11:47:43.731Z"
   },
   {
    "duration": 5,
    "start_time": "2022-06-06T11:47:43.982Z"
   },
   {
    "duration": 20,
    "start_time": "2022-06-06T11:47:43.988Z"
   },
   {
    "duration": 14,
    "start_time": "2022-06-06T11:48:18.959Z"
   },
   {
    "duration": 49,
    "start_time": "2022-06-06T11:49:00.953Z"
   },
   {
    "duration": 567,
    "start_time": "2022-06-06T11:50:46.659Z"
   },
   {
    "duration": 8,
    "start_time": "2022-06-06T11:50:55.568Z"
   },
   {
    "duration": 95,
    "start_time": "2022-06-06T11:51:13.779Z"
   },
   {
    "duration": 18,
    "start_time": "2022-06-06T11:52:55.908Z"
   },
   {
    "duration": 119,
    "start_time": "2022-06-06T11:53:28.256Z"
   },
   {
    "duration": 8,
    "start_time": "2022-06-06T11:54:46.653Z"
   },
   {
    "duration": 34,
    "start_time": "2022-06-06T11:54:51.475Z"
   },
   {
    "duration": 6,
    "start_time": "2022-06-06T11:54:53.589Z"
   },
   {
    "duration": 994,
    "start_time": "2022-06-06T11:56:01.480Z"
   },
   {
    "duration": 77,
    "start_time": "2022-06-06T11:56:26.639Z"
   },
   {
    "duration": 21,
    "start_time": "2022-06-06T11:59:47.947Z"
   },
   {
    "duration": 713,
    "start_time": "2022-06-06T11:59:52.698Z"
   },
   {
    "duration": 671,
    "start_time": "2022-06-06T12:00:05.946Z"
   },
   {
    "duration": 719,
    "start_time": "2022-06-06T12:00:11.146Z"
   },
   {
    "duration": 744,
    "start_time": "2022-06-06T12:00:20.521Z"
   },
   {
    "duration": 4751,
    "start_time": "2022-06-06T12:01:26.353Z"
   },
   {
    "duration": 4120,
    "start_time": "2022-06-06T12:01:48.521Z"
   },
   {
    "duration": 4570,
    "start_time": "2022-06-06T12:02:02.748Z"
   },
   {
    "duration": 5027,
    "start_time": "2022-06-06T12:02:20.170Z"
   },
   {
    "duration": 4107,
    "start_time": "2022-06-06T12:03:23.198Z"
   },
   {
    "duration": 3940,
    "start_time": "2022-06-06T12:03:48.633Z"
   },
   {
    "duration": 4537,
    "start_time": "2022-06-06T12:03:54.177Z"
   },
   {
    "duration": 5,
    "start_time": "2022-06-06T12:06:24.416Z"
   },
   {
    "duration": 103,
    "start_time": "2022-06-06T12:07:49.084Z"
   },
   {
    "duration": 79,
    "start_time": "2022-06-06T12:08:10.795Z"
   },
   {
    "duration": 66,
    "start_time": "2022-06-06T12:08:15.599Z"
   },
   {
    "duration": 56,
    "start_time": "2022-06-06T12:08:20.123Z"
   },
   {
    "duration": 56,
    "start_time": "2022-06-06T12:10:01.209Z"
   },
   {
    "duration": 77,
    "start_time": "2022-06-06T12:10:04.386Z"
   },
   {
    "duration": 104,
    "start_time": "2022-06-06T12:10:07.253Z"
   },
   {
    "duration": 96,
    "start_time": "2022-06-06T12:10:18.461Z"
   },
   {
    "duration": 109,
    "start_time": "2022-06-06T12:10:28.899Z"
   },
   {
    "duration": 183,
    "start_time": "2022-06-06T12:10:33.986Z"
   },
   {
    "duration": 122,
    "start_time": "2022-06-06T12:10:48.789Z"
   },
   {
    "duration": 3675,
    "start_time": "2022-06-06T12:10:59.202Z"
   },
   {
    "duration": 3662,
    "start_time": "2022-06-06T12:11:38.583Z"
   },
   {
    "duration": 4299,
    "start_time": "2022-06-06T12:11:51.667Z"
   },
   {
    "duration": 4113,
    "start_time": "2022-06-06T12:12:01.302Z"
   },
   {
    "duration": 4043,
    "start_time": "2022-06-06T12:12:19.294Z"
   },
   {
    "duration": 4467,
    "start_time": "2022-06-06T12:17:27.060Z"
   },
   {
    "duration": 28,
    "start_time": "2022-06-06T12:24:47.884Z"
   },
   {
    "duration": 73,
    "start_time": "2022-06-06T12:24:51.298Z"
   },
   {
    "duration": 4147,
    "start_time": "2022-06-06T12:24:59.653Z"
   },
   {
    "duration": 3790,
    "start_time": "2022-06-06T12:25:23.425Z"
   },
   {
    "duration": 3654,
    "start_time": "2022-06-06T12:25:36.826Z"
   },
   {
    "duration": 3278,
    "start_time": "2022-06-06T12:25:53.615Z"
   },
   {
    "duration": 3502,
    "start_time": "2022-06-06T12:30:16.726Z"
   },
   {
    "duration": 5,
    "start_time": "2022-06-06T12:33:49.024Z"
   },
   {
    "duration": 385,
    "start_time": "2022-06-06T12:34:58.456Z"
   },
   {
    "duration": 0,
    "start_time": "2022-06-06T12:36:21.079Z"
   },
   {
    "duration": 0,
    "start_time": "2022-06-06T12:36:21.080Z"
   },
   {
    "duration": 0,
    "start_time": "2022-06-06T12:36:21.082Z"
   },
   {
    "duration": 0,
    "start_time": "2022-06-06T12:36:21.083Z"
   },
   {
    "duration": 0,
    "start_time": "2022-06-06T12:36:21.084Z"
   },
   {
    "duration": 0,
    "start_time": "2022-06-06T12:36:21.085Z"
   },
   {
    "duration": 0,
    "start_time": "2022-06-06T12:36:21.086Z"
   },
   {
    "duration": 0,
    "start_time": "2022-06-06T12:36:21.087Z"
   },
   {
    "duration": 1,
    "start_time": "2022-06-06T12:36:21.088Z"
   },
   {
    "duration": 0,
    "start_time": "2022-06-06T12:36:21.090Z"
   },
   {
    "duration": 0,
    "start_time": "2022-06-06T12:36:21.091Z"
   },
   {
    "duration": 0,
    "start_time": "2022-06-06T12:36:21.092Z"
   },
   {
    "duration": 0,
    "start_time": "2022-06-06T12:36:21.093Z"
   },
   {
    "duration": 0,
    "start_time": "2022-06-06T12:36:21.094Z"
   },
   {
    "duration": 0,
    "start_time": "2022-06-06T12:36:21.096Z"
   },
   {
    "duration": 0,
    "start_time": "2022-06-06T12:36:21.096Z"
   },
   {
    "duration": 0,
    "start_time": "2022-06-06T12:36:21.097Z"
   },
   {
    "duration": 0,
    "start_time": "2022-06-06T12:36:21.098Z"
   },
   {
    "duration": 0,
    "start_time": "2022-06-06T12:36:21.133Z"
   },
   {
    "duration": 0,
    "start_time": "2022-06-06T12:36:21.134Z"
   },
   {
    "duration": 0,
    "start_time": "2022-06-06T12:36:21.135Z"
   },
   {
    "duration": 0,
    "start_time": "2022-06-06T12:36:21.136Z"
   },
   {
    "duration": 0,
    "start_time": "2022-06-06T12:36:21.137Z"
   },
   {
    "duration": 0,
    "start_time": "2022-06-06T12:36:21.138Z"
   },
   {
    "duration": 0,
    "start_time": "2022-06-06T12:36:21.139Z"
   },
   {
    "duration": 0,
    "start_time": "2022-06-06T12:36:21.140Z"
   },
   {
    "duration": 0,
    "start_time": "2022-06-06T12:36:21.141Z"
   },
   {
    "duration": 0,
    "start_time": "2022-06-06T12:36:21.142Z"
   },
   {
    "duration": 0,
    "start_time": "2022-06-06T12:36:21.143Z"
   },
   {
    "duration": 0,
    "start_time": "2022-06-06T12:36:21.143Z"
   },
   {
    "duration": 0,
    "start_time": "2022-06-06T12:36:21.144Z"
   },
   {
    "duration": 1,
    "start_time": "2022-06-06T12:36:21.145Z"
   },
   {
    "duration": 0,
    "start_time": "2022-06-06T12:36:21.146Z"
   },
   {
    "duration": 0,
    "start_time": "2022-06-06T12:36:21.147Z"
   },
   {
    "duration": 0,
    "start_time": "2022-06-06T12:36:21.148Z"
   },
   {
    "duration": 0,
    "start_time": "2022-06-06T12:36:21.149Z"
   },
   {
    "duration": 0,
    "start_time": "2022-06-06T12:36:21.150Z"
   },
   {
    "duration": 0,
    "start_time": "2022-06-06T12:36:21.151Z"
   },
   {
    "duration": 0,
    "start_time": "2022-06-06T12:36:21.152Z"
   },
   {
    "duration": 0,
    "start_time": "2022-06-06T12:36:21.159Z"
   },
   {
    "duration": 0,
    "start_time": "2022-06-06T12:36:21.160Z"
   },
   {
    "duration": 3,
    "start_time": "2022-06-06T12:36:29.470Z"
   },
   {
    "duration": 60,
    "start_time": "2022-06-06T12:36:29.476Z"
   },
   {
    "duration": 45,
    "start_time": "2022-06-06T12:36:29.537Z"
   },
   {
    "duration": 4,
    "start_time": "2022-06-06T12:36:29.585Z"
   },
   {
    "duration": 18,
    "start_time": "2022-06-06T12:36:29.592Z"
   },
   {
    "duration": 21,
    "start_time": "2022-06-06T12:36:29.612Z"
   },
   {
    "duration": 39,
    "start_time": "2022-06-06T12:36:29.642Z"
   },
   {
    "duration": 21,
    "start_time": "2022-06-06T12:36:29.683Z"
   },
   {
    "duration": 50,
    "start_time": "2022-06-06T12:36:29.706Z"
   },
   {
    "duration": 36,
    "start_time": "2022-06-06T12:36:29.757Z"
   },
   {
    "duration": 14,
    "start_time": "2022-06-06T12:36:29.795Z"
   },
   {
    "duration": 8,
    "start_time": "2022-06-06T12:36:29.811Z"
   },
   {
    "duration": 7,
    "start_time": "2022-06-06T12:36:29.821Z"
   },
   {
    "duration": 262,
    "start_time": "2022-06-06T12:36:29.845Z"
   },
   {
    "duration": 366,
    "start_time": "2022-06-06T12:36:30.109Z"
   },
   {
    "duration": 6,
    "start_time": "2022-06-06T12:36:30.478Z"
   },
   {
    "duration": 86,
    "start_time": "2022-06-06T12:36:30.487Z"
   },
   {
    "duration": 421,
    "start_time": "2022-06-06T12:36:30.574Z"
   },
   {
    "duration": 320,
    "start_time": "2022-06-06T12:36:30.997Z"
   },
   {
    "duration": 23,
    "start_time": "2022-06-06T12:36:31.318Z"
   },
   {
    "duration": 424,
    "start_time": "2022-06-06T12:36:31.343Z"
   },
   {
    "duration": 7,
    "start_time": "2022-06-06T12:36:31.772Z"
   },
   {
    "duration": 342,
    "start_time": "2022-06-06T12:36:31.781Z"
   },
   {
    "duration": 12,
    "start_time": "2022-06-06T12:36:32.128Z"
   },
   {
    "duration": 354,
    "start_time": "2022-06-06T12:36:32.150Z"
   },
   {
    "duration": 6,
    "start_time": "2022-06-06T12:36:32.506Z"
   },
   {
    "duration": 18,
    "start_time": "2022-06-06T12:36:32.514Z"
   },
   {
    "duration": 51,
    "start_time": "2022-06-06T12:36:32.534Z"
   },
   {
    "duration": 17,
    "start_time": "2022-06-06T12:36:32.587Z"
   },
   {
    "duration": 15,
    "start_time": "2022-06-06T12:36:32.606Z"
   },
   {
    "duration": 285,
    "start_time": "2022-06-06T12:36:32.623Z"
   },
   {
    "duration": 6,
    "start_time": "2022-06-06T12:36:32.911Z"
   },
   {
    "duration": 7,
    "start_time": "2022-06-06T12:36:32.929Z"
   },
   {
    "duration": 59,
    "start_time": "2022-06-06T12:36:32.937Z"
   },
   {
    "duration": 28,
    "start_time": "2022-06-06T12:36:32.998Z"
   },
   {
    "duration": 70,
    "start_time": "2022-06-06T12:36:33.028Z"
   },
   {
    "duration": 63,
    "start_time": "2022-06-06T12:36:33.100Z"
   },
   {
    "duration": 5337,
    "start_time": "2022-06-06T12:36:33.174Z"
   },
   {
    "duration": 56,
    "start_time": "2022-06-06T12:36:38.513Z"
   },
   {
    "duration": 4186,
    "start_time": "2022-06-06T12:36:38.583Z"
   },
   {
    "duration": 4,
    "start_time": "2022-06-06T12:36:42.774Z"
   },
   {
    "duration": 477,
    "start_time": "2022-06-06T12:37:07.198Z"
   },
   {
    "duration": 492,
    "start_time": "2022-06-06T12:37:18.367Z"
   },
   {
    "duration": 669,
    "start_time": "2022-06-06T12:37:30.402Z"
   },
   {
    "duration": 25,
    "start_time": "2022-06-06T12:38:06.951Z"
   },
   {
    "duration": 592,
    "start_time": "2022-06-06T12:38:12.703Z"
   },
   {
    "duration": 909,
    "start_time": "2022-06-07T12:50:44.241Z"
   },
   {
    "duration": 111,
    "start_time": "2022-06-07T12:50:45.153Z"
   },
   {
    "duration": 50,
    "start_time": "2022-06-07T12:50:45.266Z"
   },
   {
    "duration": 5,
    "start_time": "2022-06-07T12:50:45.318Z"
   },
   {
    "duration": 22,
    "start_time": "2022-06-07T12:50:45.326Z"
   },
   {
    "duration": 48,
    "start_time": "2022-06-07T12:50:45.350Z"
   },
   {
    "duration": 21,
    "start_time": "2022-06-07T12:50:45.400Z"
   },
   {
    "duration": 20,
    "start_time": "2022-06-07T12:50:45.423Z"
   },
   {
    "duration": 22,
    "start_time": "2022-06-07T12:50:45.445Z"
   },
   {
    "duration": 35,
    "start_time": "2022-06-07T12:50:45.469Z"
   },
   {
    "duration": 11,
    "start_time": "2022-06-07T12:50:45.506Z"
   },
   {
    "duration": 22,
    "start_time": "2022-06-07T12:50:45.519Z"
   },
   {
    "duration": 34,
    "start_time": "2022-06-07T12:50:45.543Z"
   },
   {
    "duration": 218,
    "start_time": "2022-06-07T12:50:45.581Z"
   },
   {
    "duration": 275,
    "start_time": "2022-06-07T12:50:45.800Z"
   },
   {
    "duration": 6,
    "start_time": "2022-06-07T12:50:46.076Z"
   },
   {
    "duration": 9,
    "start_time": "2022-06-07T12:50:46.083Z"
   },
   {
    "duration": 295,
    "start_time": "2022-06-07T12:50:46.093Z"
   },
   {
    "duration": 272,
    "start_time": "2022-06-07T12:50:46.390Z"
   },
   {
    "duration": 6,
    "start_time": "2022-06-07T12:50:46.664Z"
   },
   {
    "duration": 337,
    "start_time": "2022-06-07T12:50:46.672Z"
   },
   {
    "duration": 5,
    "start_time": "2022-06-07T12:50:47.010Z"
   },
   {
    "duration": 226,
    "start_time": "2022-06-07T12:50:47.017Z"
   },
   {
    "duration": 12,
    "start_time": "2022-06-07T12:50:47.246Z"
   },
   {
    "duration": 233,
    "start_time": "2022-06-07T12:50:47.259Z"
   },
   {
    "duration": 5,
    "start_time": "2022-06-07T12:50:47.494Z"
   },
   {
    "duration": 10,
    "start_time": "2022-06-07T12:50:47.501Z"
   },
   {
    "duration": 9,
    "start_time": "2022-06-07T12:50:47.512Z"
   },
   {
    "duration": 9,
    "start_time": "2022-06-07T12:50:47.523Z"
   },
   {
    "duration": 5,
    "start_time": "2022-06-07T12:50:47.534Z"
   },
   {
    "duration": 215,
    "start_time": "2022-06-07T12:50:47.540Z"
   },
   {
    "duration": 6,
    "start_time": "2022-06-07T12:50:47.757Z"
   },
   {
    "duration": 18,
    "start_time": "2022-06-07T12:50:47.765Z"
   },
   {
    "duration": 19,
    "start_time": "2022-06-07T12:50:47.785Z"
   },
   {
    "duration": 24,
    "start_time": "2022-06-07T12:50:47.806Z"
   },
   {
    "duration": 59,
    "start_time": "2022-06-07T12:50:47.832Z"
   },
   {
    "duration": 3415,
    "start_time": "2022-06-07T12:50:47.893Z"
   },
   {
    "duration": 19,
    "start_time": "2022-06-07T12:50:51.309Z"
   },
   {
    "duration": 2356,
    "start_time": "2022-06-07T12:50:51.330Z"
   },
   {
    "duration": 3,
    "start_time": "2022-06-07T12:50:53.688Z"
   },
   {
    "duration": 428,
    "start_time": "2022-06-07T12:50:53.696Z"
   },
   {
    "duration": 6,
    "start_time": "2022-06-07T12:53:41.076Z"
   },
   {
    "duration": 28,
    "start_time": "2022-06-07T12:54:17.730Z"
   },
   {
    "duration": 6,
    "start_time": "2022-06-07T12:54:31.675Z"
   },
   {
    "duration": 16,
    "start_time": "2022-06-07T12:54:42.420Z"
   },
   {
    "duration": 4,
    "start_time": "2022-06-07T12:55:03.115Z"
   },
   {
    "duration": 94,
    "start_time": "2022-06-07T12:56:48.478Z"
   },
   {
    "duration": 17,
    "start_time": "2022-06-07T12:56:53.021Z"
   },
   {
    "duration": 10,
    "start_time": "2022-06-07T13:31:01.509Z"
   },
   {
    "duration": 24,
    "start_time": "2022-06-07T13:31:05.635Z"
   },
   {
    "duration": 25,
    "start_time": "2022-06-07T13:32:30.765Z"
   },
   {
    "duration": 27,
    "start_time": "2022-06-07T13:32:34.173Z"
   },
   {
    "duration": 24,
    "start_time": "2022-06-07T13:32:52.421Z"
   },
   {
    "duration": 29,
    "start_time": "2022-06-07T13:33:14.172Z"
   },
   {
    "duration": 5,
    "start_time": "2022-06-07T13:33:24.312Z"
   },
   {
    "duration": 3,
    "start_time": "2022-06-07T13:33:45.313Z"
   },
   {
    "duration": 56,
    "start_time": "2022-06-07T13:33:45.318Z"
   },
   {
    "duration": 31,
    "start_time": "2022-06-07T13:33:45.376Z"
   },
   {
    "duration": 4,
    "start_time": "2022-06-07T13:33:45.408Z"
   },
   {
    "duration": 17,
    "start_time": "2022-06-07T13:33:45.414Z"
   },
   {
    "duration": 22,
    "start_time": "2022-06-07T13:33:45.432Z"
   },
   {
    "duration": 19,
    "start_time": "2022-06-07T13:33:45.455Z"
   },
   {
    "duration": 15,
    "start_time": "2022-06-07T13:33:45.476Z"
   },
   {
    "duration": 17,
    "start_time": "2022-06-07T13:33:45.492Z"
   },
   {
    "duration": 19,
    "start_time": "2022-06-07T13:33:45.510Z"
   },
   {
    "duration": 14,
    "start_time": "2022-06-07T13:33:45.532Z"
   },
   {
    "duration": 40,
    "start_time": "2022-06-07T13:33:45.548Z"
   },
   {
    "duration": 35,
    "start_time": "2022-06-07T13:33:45.591Z"
   },
   {
    "duration": 0,
    "start_time": "2022-06-07T13:33:45.629Z"
   },
   {
    "duration": 0,
    "start_time": "2022-06-07T13:33:45.631Z"
   },
   {
    "duration": 0,
    "start_time": "2022-06-07T13:33:45.632Z"
   },
   {
    "duration": 0,
    "start_time": "2022-06-07T13:33:45.634Z"
   },
   {
    "duration": 0,
    "start_time": "2022-06-07T13:33:45.635Z"
   },
   {
    "duration": 0,
    "start_time": "2022-06-07T13:33:45.636Z"
   },
   {
    "duration": 0,
    "start_time": "2022-06-07T13:33:45.637Z"
   },
   {
    "duration": 0,
    "start_time": "2022-06-07T13:33:45.652Z"
   },
   {
    "duration": 0,
    "start_time": "2022-06-07T13:33:45.654Z"
   },
   {
    "duration": 1,
    "start_time": "2022-06-07T13:33:45.655Z"
   },
   {
    "duration": 0,
    "start_time": "2022-06-07T13:33:45.657Z"
   },
   {
    "duration": 0,
    "start_time": "2022-06-07T13:33:45.658Z"
   },
   {
    "duration": 0,
    "start_time": "2022-06-07T13:33:45.659Z"
   },
   {
    "duration": 0,
    "start_time": "2022-06-07T13:33:45.661Z"
   },
   {
    "duration": 0,
    "start_time": "2022-06-07T13:33:45.662Z"
   },
   {
    "duration": 0,
    "start_time": "2022-06-07T13:33:45.663Z"
   },
   {
    "duration": 0,
    "start_time": "2022-06-07T13:33:45.665Z"
   },
   {
    "duration": 0,
    "start_time": "2022-06-07T13:33:45.667Z"
   },
   {
    "duration": 0,
    "start_time": "2022-06-07T13:33:45.668Z"
   },
   {
    "duration": 0,
    "start_time": "2022-06-07T13:33:45.669Z"
   },
   {
    "duration": 0,
    "start_time": "2022-06-07T13:33:45.670Z"
   },
   {
    "duration": 0,
    "start_time": "2022-06-07T13:33:45.671Z"
   },
   {
    "duration": 0,
    "start_time": "2022-06-07T13:33:45.672Z"
   },
   {
    "duration": 0,
    "start_time": "2022-06-07T13:33:45.673Z"
   },
   {
    "duration": 0,
    "start_time": "2022-06-07T13:33:45.674Z"
   },
   {
    "duration": 0,
    "start_time": "2022-06-07T13:33:45.675Z"
   },
   {
    "duration": 0,
    "start_time": "2022-06-07T13:33:45.676Z"
   },
   {
    "duration": 0,
    "start_time": "2022-06-07T13:33:45.678Z"
   },
   {
    "duration": 0,
    "start_time": "2022-06-07T13:33:45.679Z"
   },
   {
    "duration": 0,
    "start_time": "2022-06-07T13:33:45.681Z"
   },
   {
    "duration": 30,
    "start_time": "2022-06-07T13:36:44.376Z"
   },
   {
    "duration": 33,
    "start_time": "2022-06-07T13:36:48.079Z"
   },
   {
    "duration": 35,
    "start_time": "2022-06-07T13:36:55.566Z"
   },
   {
    "duration": 32,
    "start_time": "2022-06-07T13:36:56.020Z"
   },
   {
    "duration": 46,
    "start_time": "2022-06-07T13:37:00.321Z"
   },
   {
    "duration": 8,
    "start_time": "2022-06-07T13:38:15.531Z"
   },
   {
    "duration": 18,
    "start_time": "2022-06-07T13:38:30.604Z"
   },
   {
    "duration": 8,
    "start_time": "2022-06-07T13:40:22.769Z"
   },
   {
    "duration": 18,
    "start_time": "2022-06-07T13:40:23.357Z"
   },
   {
    "duration": 15,
    "start_time": "2022-06-07T13:41:03.560Z"
   },
   {
    "duration": 17,
    "start_time": "2022-06-07T13:41:13.114Z"
   },
   {
    "duration": 18,
    "start_time": "2022-06-07T13:41:26.068Z"
   },
   {
    "duration": 10,
    "start_time": "2022-06-07T13:41:38.665Z"
   },
   {
    "duration": 22,
    "start_time": "2022-06-07T13:41:47.118Z"
   },
   {
    "duration": 3,
    "start_time": "2022-06-07T13:41:51.344Z"
   },
   {
    "duration": 55,
    "start_time": "2022-06-07T13:41:51.349Z"
   },
   {
    "duration": 37,
    "start_time": "2022-06-07T13:41:51.406Z"
   },
   {
    "duration": 3,
    "start_time": "2022-06-07T13:41:51.445Z"
   },
   {
    "duration": 27,
    "start_time": "2022-06-07T13:41:51.451Z"
   },
   {
    "duration": 16,
    "start_time": "2022-06-07T13:41:51.480Z"
   },
   {
    "duration": 15,
    "start_time": "2022-06-07T13:41:51.498Z"
   },
   {
    "duration": 18,
    "start_time": "2022-06-07T13:41:51.515Z"
   },
   {
    "duration": 14,
    "start_time": "2022-06-07T13:41:51.535Z"
   },
   {
    "duration": 20,
    "start_time": "2022-06-07T13:41:51.553Z"
   },
   {
    "duration": 9,
    "start_time": "2022-06-07T13:41:51.576Z"
   },
   {
    "duration": 26,
    "start_time": "2022-06-07T13:41:51.587Z"
   },
   {
    "duration": 24,
    "start_time": "2022-06-07T13:41:51.614Z"
   },
   {
    "duration": 0,
    "start_time": "2022-06-07T13:41:51.641Z"
   },
   {
    "duration": 0,
    "start_time": "2022-06-07T13:41:51.653Z"
   },
   {
    "duration": 0,
    "start_time": "2022-06-07T13:41:51.654Z"
   },
   {
    "duration": 0,
    "start_time": "2022-06-07T13:41:51.656Z"
   },
   {
    "duration": 1,
    "start_time": "2022-06-07T13:41:51.657Z"
   },
   {
    "duration": 0,
    "start_time": "2022-06-07T13:41:51.659Z"
   },
   {
    "duration": 1,
    "start_time": "2022-06-07T13:41:51.659Z"
   },
   {
    "duration": 0,
    "start_time": "2022-06-07T13:41:51.660Z"
   },
   {
    "duration": 0,
    "start_time": "2022-06-07T13:41:51.662Z"
   },
   {
    "duration": 0,
    "start_time": "2022-06-07T13:41:51.663Z"
   },
   {
    "duration": 0,
    "start_time": "2022-06-07T13:41:51.665Z"
   },
   {
    "duration": 0,
    "start_time": "2022-06-07T13:41:51.666Z"
   },
   {
    "duration": 0,
    "start_time": "2022-06-07T13:41:51.668Z"
   },
   {
    "duration": 0,
    "start_time": "2022-06-07T13:41:51.669Z"
   },
   {
    "duration": 0,
    "start_time": "2022-06-07T13:41:51.670Z"
   },
   {
    "duration": 0,
    "start_time": "2022-06-07T13:41:51.673Z"
   },
   {
    "duration": 0,
    "start_time": "2022-06-07T13:41:51.674Z"
   },
   {
    "duration": 0,
    "start_time": "2022-06-07T13:41:51.676Z"
   },
   {
    "duration": 0,
    "start_time": "2022-06-07T13:41:51.676Z"
   },
   {
    "duration": 0,
    "start_time": "2022-06-07T13:41:51.677Z"
   },
   {
    "duration": 0,
    "start_time": "2022-06-07T13:41:51.679Z"
   },
   {
    "duration": 0,
    "start_time": "2022-06-07T13:41:51.679Z"
   },
   {
    "duration": 0,
    "start_time": "2022-06-07T13:41:51.680Z"
   },
   {
    "duration": 0,
    "start_time": "2022-06-07T13:41:51.682Z"
   },
   {
    "duration": 0,
    "start_time": "2022-06-07T13:41:51.682Z"
   },
   {
    "duration": 0,
    "start_time": "2022-06-07T13:41:51.684Z"
   },
   {
    "duration": 0,
    "start_time": "2022-06-07T13:41:51.685Z"
   },
   {
    "duration": 0,
    "start_time": "2022-06-07T13:41:51.686Z"
   },
   {
    "duration": 0,
    "start_time": "2022-06-07T13:41:51.687Z"
   },
   {
    "duration": 0,
    "start_time": "2022-06-07T13:41:51.688Z"
   },
   {
    "duration": 0,
    "start_time": "2022-06-07T13:41:51.690Z"
   },
   {
    "duration": 2,
    "start_time": "2022-06-07T13:42:27.193Z"
   },
   {
    "duration": 61,
    "start_time": "2022-06-07T13:42:27.200Z"
   },
   {
    "duration": 37,
    "start_time": "2022-06-07T13:42:27.263Z"
   },
   {
    "duration": 5,
    "start_time": "2022-06-07T13:42:27.302Z"
   },
   {
    "duration": 38,
    "start_time": "2022-06-07T13:42:27.309Z"
   },
   {
    "duration": 21,
    "start_time": "2022-06-07T13:42:27.349Z"
   },
   {
    "duration": 22,
    "start_time": "2022-06-07T13:42:27.371Z"
   },
   {
    "duration": 38,
    "start_time": "2022-06-07T13:42:27.395Z"
   },
   {
    "duration": 19,
    "start_time": "2022-06-07T13:42:27.436Z"
   },
   {
    "duration": 17,
    "start_time": "2022-06-07T13:42:30.201Z"
   },
   {
    "duration": 3,
    "start_time": "2022-06-07T13:42:42.915Z"
   },
   {
    "duration": 79,
    "start_time": "2022-06-07T13:42:42.920Z"
   },
   {
    "duration": 41,
    "start_time": "2022-06-07T13:42:43.002Z"
   },
   {
    "duration": 4,
    "start_time": "2022-06-07T13:42:43.048Z"
   },
   {
    "duration": 19,
    "start_time": "2022-06-07T13:42:43.055Z"
   },
   {
    "duration": 12,
    "start_time": "2022-06-07T13:42:43.076Z"
   },
   {
    "duration": 5,
    "start_time": "2022-06-07T13:42:43.090Z"
   },
   {
    "duration": 23,
    "start_time": "2022-06-07T13:42:43.097Z"
   },
   {
    "duration": 31,
    "start_time": "2022-06-07T13:42:43.122Z"
   },
   {
    "duration": 19,
    "start_time": "2022-06-07T13:42:43.154Z"
   },
   {
    "duration": 35,
    "start_time": "2022-06-07T13:42:43.175Z"
   },
   {
    "duration": 44,
    "start_time": "2022-06-07T13:42:43.212Z"
   },
   {
    "duration": 28,
    "start_time": "2022-06-07T13:42:43.258Z"
   },
   {
    "duration": 0,
    "start_time": "2022-06-07T13:42:43.289Z"
   },
   {
    "duration": 0,
    "start_time": "2022-06-07T13:42:43.291Z"
   },
   {
    "duration": 0,
    "start_time": "2022-06-07T13:42:43.292Z"
   },
   {
    "duration": 0,
    "start_time": "2022-06-07T13:42:43.293Z"
   },
   {
    "duration": 0,
    "start_time": "2022-06-07T13:42:43.294Z"
   },
   {
    "duration": 0,
    "start_time": "2022-06-07T13:42:43.295Z"
   },
   {
    "duration": 0,
    "start_time": "2022-06-07T13:42:43.296Z"
   },
   {
    "duration": 0,
    "start_time": "2022-06-07T13:42:43.297Z"
   },
   {
    "duration": 0,
    "start_time": "2022-06-07T13:42:43.300Z"
   },
   {
    "duration": 0,
    "start_time": "2022-06-07T13:42:43.301Z"
   },
   {
    "duration": 0,
    "start_time": "2022-06-07T13:42:43.302Z"
   },
   {
    "duration": 0,
    "start_time": "2022-06-07T13:42:43.304Z"
   },
   {
    "duration": 0,
    "start_time": "2022-06-07T13:42:43.305Z"
   },
   {
    "duration": 0,
    "start_time": "2022-06-07T13:42:43.307Z"
   },
   {
    "duration": 0,
    "start_time": "2022-06-07T13:42:43.309Z"
   },
   {
    "duration": 0,
    "start_time": "2022-06-07T13:42:43.311Z"
   },
   {
    "duration": 0,
    "start_time": "2022-06-07T13:42:43.312Z"
   },
   {
    "duration": 0,
    "start_time": "2022-06-07T13:42:43.313Z"
   },
   {
    "duration": 0,
    "start_time": "2022-06-07T13:42:43.314Z"
   },
   {
    "duration": 0,
    "start_time": "2022-06-07T13:42:43.316Z"
   },
   {
    "duration": 0,
    "start_time": "2022-06-07T13:42:43.318Z"
   },
   {
    "duration": 0,
    "start_time": "2022-06-07T13:42:43.318Z"
   },
   {
    "duration": 0,
    "start_time": "2022-06-07T13:42:43.319Z"
   },
   {
    "duration": 0,
    "start_time": "2022-06-07T13:42:43.320Z"
   },
   {
    "duration": 0,
    "start_time": "2022-06-07T13:42:43.320Z"
   },
   {
    "duration": 0,
    "start_time": "2022-06-07T13:42:43.321Z"
   },
   {
    "duration": 0,
    "start_time": "2022-06-07T13:42:43.322Z"
   },
   {
    "duration": 0,
    "start_time": "2022-06-07T13:42:43.322Z"
   },
   {
    "duration": 0,
    "start_time": "2022-06-07T13:42:43.323Z"
   },
   {
    "duration": 0,
    "start_time": "2022-06-07T13:42:43.323Z"
   },
   {
    "duration": 0,
    "start_time": "2022-06-07T13:42:43.324Z"
   },
   {
    "duration": 25,
    "start_time": "2022-06-07T13:43:59.205Z"
   },
   {
    "duration": 8,
    "start_time": "2022-06-07T13:43:59.870Z"
   },
   {
    "duration": 17,
    "start_time": "2022-06-07T13:44:03.465Z"
   },
   {
    "duration": 33,
    "start_time": "2022-06-07T13:44:11.069Z"
   },
   {
    "duration": 3,
    "start_time": "2022-06-07T13:44:17.412Z"
   },
   {
    "duration": 68,
    "start_time": "2022-06-07T13:44:17.417Z"
   },
   {
    "duration": 39,
    "start_time": "2022-06-07T13:44:17.490Z"
   },
   {
    "duration": 3,
    "start_time": "2022-06-07T13:44:17.530Z"
   },
   {
    "duration": 20,
    "start_time": "2022-06-07T13:44:17.552Z"
   },
   {
    "duration": 19,
    "start_time": "2022-06-07T13:44:17.575Z"
   },
   {
    "duration": 10,
    "start_time": "2022-06-07T13:44:17.596Z"
   },
   {
    "duration": 19,
    "start_time": "2022-06-07T13:44:17.608Z"
   },
   {
    "duration": 10,
    "start_time": "2022-06-07T13:44:17.628Z"
   },
   {
    "duration": 22,
    "start_time": "2022-06-07T13:44:17.640Z"
   },
   {
    "duration": 11,
    "start_time": "2022-06-07T13:44:17.663Z"
   },
   {
    "duration": 31,
    "start_time": "2022-06-07T13:44:17.676Z"
   },
   {
    "duration": 28,
    "start_time": "2022-06-07T13:44:17.709Z"
   },
   {
    "duration": 0,
    "start_time": "2022-06-07T13:44:17.739Z"
   },
   {
    "duration": 0,
    "start_time": "2022-06-07T13:44:17.740Z"
   },
   {
    "duration": 0,
    "start_time": "2022-06-07T13:44:17.741Z"
   },
   {
    "duration": 0,
    "start_time": "2022-06-07T13:44:17.743Z"
   },
   {
    "duration": 0,
    "start_time": "2022-06-07T13:44:17.744Z"
   },
   {
    "duration": 0,
    "start_time": "2022-06-07T13:44:17.746Z"
   },
   {
    "duration": 0,
    "start_time": "2022-06-07T13:44:17.748Z"
   },
   {
    "duration": 0,
    "start_time": "2022-06-07T13:44:17.749Z"
   },
   {
    "duration": 0,
    "start_time": "2022-06-07T13:44:17.751Z"
   },
   {
    "duration": 0,
    "start_time": "2022-06-07T13:44:17.752Z"
   },
   {
    "duration": 0,
    "start_time": "2022-06-07T13:44:17.754Z"
   },
   {
    "duration": 0,
    "start_time": "2022-06-07T13:44:17.757Z"
   },
   {
    "duration": 0,
    "start_time": "2022-06-07T13:44:17.758Z"
   },
   {
    "duration": 0,
    "start_time": "2022-06-07T13:44:17.760Z"
   },
   {
    "duration": 0,
    "start_time": "2022-06-07T13:44:17.763Z"
   },
   {
    "duration": 0,
    "start_time": "2022-06-07T13:44:17.764Z"
   },
   {
    "duration": 0,
    "start_time": "2022-06-07T13:44:17.765Z"
   },
   {
    "duration": 0,
    "start_time": "2022-06-07T13:44:17.767Z"
   },
   {
    "duration": 0,
    "start_time": "2022-06-07T13:44:17.769Z"
   },
   {
    "duration": 0,
    "start_time": "2022-06-07T13:44:17.770Z"
   },
   {
    "duration": 0,
    "start_time": "2022-06-07T13:44:17.771Z"
   },
   {
    "duration": 0,
    "start_time": "2022-06-07T13:44:17.772Z"
   },
   {
    "duration": 0,
    "start_time": "2022-06-07T13:44:17.773Z"
   },
   {
    "duration": 0,
    "start_time": "2022-06-07T13:44:17.775Z"
   },
   {
    "duration": 0,
    "start_time": "2022-06-07T13:44:17.776Z"
   },
   {
    "duration": 0,
    "start_time": "2022-06-07T13:44:17.777Z"
   },
   {
    "duration": 0,
    "start_time": "2022-06-07T13:44:17.778Z"
   },
   {
    "duration": 0,
    "start_time": "2022-06-07T13:44:17.780Z"
   },
   {
    "duration": 0,
    "start_time": "2022-06-07T13:44:17.781Z"
   },
   {
    "duration": 0,
    "start_time": "2022-06-07T13:44:17.782Z"
   },
   {
    "duration": 0,
    "start_time": "2022-06-07T13:44:17.784Z"
   },
   {
    "duration": 15,
    "start_time": "2022-06-07T13:44:31.865Z"
   },
   {
    "duration": 23,
    "start_time": "2022-06-07T13:44:32.720Z"
   },
   {
    "duration": 2,
    "start_time": "2022-06-07T13:46:07.865Z"
   },
   {
    "duration": 4,
    "start_time": "2022-06-07T13:46:14.853Z"
   },
   {
    "duration": 9,
    "start_time": "2022-06-07T13:46:34.409Z"
   },
   {
    "duration": 9,
    "start_time": "2022-06-07T13:46:39.652Z"
   },
   {
    "duration": 9,
    "start_time": "2022-06-07T13:46:46.344Z"
   },
   {
    "duration": 22,
    "start_time": "2022-06-07T13:47:00.401Z"
   },
   {
    "duration": 7,
    "start_time": "2022-06-07T13:47:13.677Z"
   },
   {
    "duration": 7,
    "start_time": "2022-06-07T13:47:21.203Z"
   },
   {
    "duration": 8,
    "start_time": "2022-06-07T13:47:27.987Z"
   },
   {
    "duration": 5,
    "start_time": "2022-06-07T13:48:46.412Z"
   },
   {
    "duration": 19,
    "start_time": "2022-06-07T13:49:23.204Z"
   },
   {
    "duration": 5,
    "start_time": "2022-06-07T13:49:30.188Z"
   },
   {
    "duration": 28,
    "start_time": "2022-06-07T13:49:37.245Z"
   },
   {
    "duration": 5,
    "start_time": "2022-06-07T13:49:45.704Z"
   },
   {
    "duration": 37,
    "start_time": "2022-06-07T13:50:29.204Z"
   },
   {
    "duration": 9,
    "start_time": "2022-06-07T13:50:32.600Z"
   },
   {
    "duration": 21,
    "start_time": "2022-06-07T13:50:42.912Z"
   },
   {
    "duration": 11,
    "start_time": "2022-06-07T13:50:43.308Z"
   },
   {
    "duration": 31,
    "start_time": "2022-06-07T13:50:54.520Z"
   },
   {
    "duration": 30,
    "start_time": "2022-06-07T13:50:54.954Z"
   },
   {
    "duration": 22,
    "start_time": "2022-06-07T13:51:17.220Z"
   },
   {
    "duration": 43,
    "start_time": "2022-06-07T13:51:17.600Z"
   },
   {
    "duration": 25,
    "start_time": "2022-06-07T13:51:23.904Z"
   },
   {
    "duration": 41,
    "start_time": "2022-06-07T13:51:24.271Z"
   },
   {
    "duration": 27,
    "start_time": "2022-06-07T13:51:37.424Z"
   },
   {
    "duration": 46,
    "start_time": "2022-06-07T13:51:38.053Z"
   },
   {
    "duration": 29,
    "start_time": "2022-06-07T13:51:44.276Z"
   },
   {
    "duration": 52,
    "start_time": "2022-06-07T13:51:44.604Z"
   },
   {
    "duration": 22,
    "start_time": "2022-06-07T13:51:54.752Z"
   },
   {
    "duration": 34,
    "start_time": "2022-06-07T13:51:55.352Z"
   },
   {
    "duration": 37,
    "start_time": "2022-06-07T13:52:21.265Z"
   },
   {
    "duration": 3,
    "start_time": "2022-06-07T13:52:28.805Z"
   },
   {
    "duration": 55,
    "start_time": "2022-06-07T13:52:28.810Z"
   },
   {
    "duration": 36,
    "start_time": "2022-06-07T13:52:28.867Z"
   },
   {
    "duration": 3,
    "start_time": "2022-06-07T13:52:28.905Z"
   },
   {
    "duration": 17,
    "start_time": "2022-06-07T13:52:28.911Z"
   },
   {
    "duration": 23,
    "start_time": "2022-06-07T13:52:28.929Z"
   },
   {
    "duration": 4,
    "start_time": "2022-06-07T13:52:28.956Z"
   },
   {
    "duration": 36,
    "start_time": "2022-06-07T13:52:28.962Z"
   },
   {
    "duration": 18,
    "start_time": "2022-06-07T13:52:29.000Z"
   },
   {
    "duration": 17,
    "start_time": "2022-06-07T13:52:29.020Z"
   },
   {
    "duration": 10,
    "start_time": "2022-06-07T13:52:29.038Z"
   },
   {
    "duration": 30,
    "start_time": "2022-06-07T13:52:29.051Z"
   },
   {
    "duration": 30,
    "start_time": "2022-06-07T13:52:34.512Z"
   },
   {
    "duration": 23,
    "start_time": "2022-06-07T13:52:56.800Z"
   },
   {
    "duration": 9,
    "start_time": "2022-06-07T13:52:57.260Z"
   },
   {
    "duration": 11,
    "start_time": "2022-06-07T13:53:10.290Z"
   },
   {
    "duration": 10,
    "start_time": "2022-06-07T13:53:26.768Z"
   },
   {
    "duration": 4,
    "start_time": "2022-06-07T13:53:48.308Z"
   },
   {
    "duration": 4,
    "start_time": "2022-06-07T13:53:54.649Z"
   },
   {
    "duration": 13,
    "start_time": "2022-06-07T13:54:01.500Z"
   },
   {
    "duration": 17,
    "start_time": "2022-06-07T13:54:04.858Z"
   },
   {
    "duration": 12,
    "start_time": "2022-06-07T13:54:17.284Z"
   },
   {
    "duration": 9,
    "start_time": "2022-06-07T13:54:18.124Z"
   },
   {
    "duration": 56,
    "start_time": "2022-06-07T13:54:22.911Z"
   },
   {
    "duration": 10,
    "start_time": "2022-06-07T13:54:31.108Z"
   },
   {
    "duration": 3,
    "start_time": "2022-06-07T13:54:34.362Z"
   },
   {
    "duration": 100,
    "start_time": "2022-06-07T13:54:34.368Z"
   },
   {
    "duration": 42,
    "start_time": "2022-06-07T13:54:34.470Z"
   },
   {
    "duration": 4,
    "start_time": "2022-06-07T13:54:34.514Z"
   },
   {
    "duration": 65,
    "start_time": "2022-06-07T13:54:34.521Z"
   },
   {
    "duration": 43,
    "start_time": "2022-06-07T13:54:34.588Z"
   },
   {
    "duration": 21,
    "start_time": "2022-06-07T13:54:34.633Z"
   },
   {
    "duration": 46,
    "start_time": "2022-06-07T13:54:34.657Z"
   },
   {
    "duration": 16,
    "start_time": "2022-06-07T13:54:34.705Z"
   },
   {
    "duration": 20,
    "start_time": "2022-06-07T13:54:34.723Z"
   },
   {
    "duration": 16,
    "start_time": "2022-06-07T13:54:34.745Z"
   },
   {
    "duration": 32,
    "start_time": "2022-06-07T13:54:34.763Z"
   },
   {
    "duration": 28,
    "start_time": "2022-06-07T13:54:34.797Z"
   },
   {
    "duration": 10,
    "start_time": "2022-06-07T13:54:34.829Z"
   },
   {
    "duration": 32,
    "start_time": "2022-06-07T13:54:34.841Z"
   },
   {
    "duration": 11,
    "start_time": "2022-06-07T13:54:34.876Z"
   },
   {
    "duration": 37,
    "start_time": "2022-06-07T13:54:34.889Z"
   },
   {
    "duration": 680,
    "start_time": "2022-06-07T13:54:34.928Z"
   },
   {
    "duration": 0,
    "start_time": "2022-06-07T13:54:35.610Z"
   },
   {
    "duration": 0,
    "start_time": "2022-06-07T13:54:35.612Z"
   },
   {
    "duration": 0,
    "start_time": "2022-06-07T13:54:35.613Z"
   },
   {
    "duration": 0,
    "start_time": "2022-06-07T13:54:35.615Z"
   },
   {
    "duration": 0,
    "start_time": "2022-06-07T13:54:35.617Z"
   },
   {
    "duration": 0,
    "start_time": "2022-06-07T13:54:35.618Z"
   },
   {
    "duration": 0,
    "start_time": "2022-06-07T13:54:35.619Z"
   },
   {
    "duration": 0,
    "start_time": "2022-06-07T13:54:35.620Z"
   },
   {
    "duration": 0,
    "start_time": "2022-06-07T13:54:35.621Z"
   },
   {
    "duration": 0,
    "start_time": "2022-06-07T13:54:35.623Z"
   },
   {
    "duration": 0,
    "start_time": "2022-06-07T13:54:35.624Z"
   },
   {
    "duration": 0,
    "start_time": "2022-06-07T13:54:35.625Z"
   },
   {
    "duration": 0,
    "start_time": "2022-06-07T13:54:35.627Z"
   },
   {
    "duration": 0,
    "start_time": "2022-06-07T13:54:35.628Z"
   },
   {
    "duration": 0,
    "start_time": "2022-06-07T13:54:35.629Z"
   },
   {
    "duration": 0,
    "start_time": "2022-06-07T13:54:35.631Z"
   },
   {
    "duration": 0,
    "start_time": "2022-06-07T13:54:35.633Z"
   },
   {
    "duration": 0,
    "start_time": "2022-06-07T13:54:35.634Z"
   },
   {
    "duration": 0,
    "start_time": "2022-06-07T13:54:35.636Z"
   },
   {
    "duration": 0,
    "start_time": "2022-06-07T13:54:35.637Z"
   },
   {
    "duration": 0,
    "start_time": "2022-06-07T13:54:35.639Z"
   },
   {
    "duration": 0,
    "start_time": "2022-06-07T13:54:35.640Z"
   },
   {
    "duration": 0,
    "start_time": "2022-06-07T13:54:35.642Z"
   },
   {
    "duration": 0,
    "start_time": "2022-06-07T13:54:35.643Z"
   },
   {
    "duration": 0,
    "start_time": "2022-06-07T13:54:35.645Z"
   },
   {
    "duration": 0,
    "start_time": "2022-06-07T13:54:35.646Z"
   },
   {
    "duration": 0,
    "start_time": "2022-06-07T13:54:35.647Z"
   },
   {
    "duration": 0,
    "start_time": "2022-06-07T13:54:35.649Z"
   },
   {
    "duration": 0,
    "start_time": "2022-06-07T13:54:35.652Z"
   },
   {
    "duration": 0,
    "start_time": "2022-06-07T13:54:35.653Z"
   },
   {
    "duration": 0,
    "start_time": "2022-06-07T13:54:35.654Z"
   },
   {
    "duration": 0,
    "start_time": "2022-06-07T13:54:35.656Z"
   },
   {
    "duration": 6,
    "start_time": "2022-06-07T13:55:02.461Z"
   },
   {
    "duration": 13,
    "start_time": "2022-06-07T13:55:02.822Z"
   },
   {
    "duration": 5,
    "start_time": "2022-06-07T13:55:17.950Z"
   },
   {
    "duration": 72,
    "start_time": "2022-06-07T13:55:17.958Z"
   },
   {
    "duration": 50,
    "start_time": "2022-06-07T13:55:18.032Z"
   },
   {
    "duration": 4,
    "start_time": "2022-06-07T13:55:18.084Z"
   },
   {
    "duration": 32,
    "start_time": "2022-06-07T13:55:18.090Z"
   },
   {
    "duration": 17,
    "start_time": "2022-06-07T13:55:18.124Z"
   },
   {
    "duration": 7,
    "start_time": "2022-06-07T13:55:18.143Z"
   },
   {
    "duration": 44,
    "start_time": "2022-06-07T13:55:18.152Z"
   },
   {
    "duration": 25,
    "start_time": "2022-06-07T13:55:18.199Z"
   },
   {
    "duration": 31,
    "start_time": "2022-06-07T13:55:18.226Z"
   },
   {
    "duration": 15,
    "start_time": "2022-06-07T13:55:18.259Z"
   },
   {
    "duration": 36,
    "start_time": "2022-06-07T13:55:18.276Z"
   },
   {
    "duration": 22,
    "start_time": "2022-06-07T13:55:18.315Z"
   },
   {
    "duration": 24,
    "start_time": "2022-06-07T13:55:18.340Z"
   },
   {
    "duration": 43,
    "start_time": "2022-06-07T13:55:18.368Z"
   },
   {
    "duration": 6,
    "start_time": "2022-06-07T13:55:24.312Z"
   },
   {
    "duration": 9,
    "start_time": "2022-06-07T13:55:24.920Z"
   },
   {
    "duration": 11,
    "start_time": "2022-06-07T13:55:31.248Z"
   },
   {
    "duration": 30,
    "start_time": "2022-06-07T13:55:31.662Z"
   },
   {
    "duration": 12,
    "start_time": "2022-06-07T13:55:38.348Z"
   },
   {
    "duration": 24,
    "start_time": "2022-06-07T13:55:38.875Z"
   },
   {
    "duration": 3,
    "start_time": "2022-06-07T13:56:10.805Z"
   },
   {
    "duration": 63,
    "start_time": "2022-06-07T13:56:10.810Z"
   },
   {
    "duration": 43,
    "start_time": "2022-06-07T13:56:10.875Z"
   },
   {
    "duration": 4,
    "start_time": "2022-06-07T13:56:10.920Z"
   },
   {
    "duration": 37,
    "start_time": "2022-06-07T13:56:10.926Z"
   },
   {
    "duration": 16,
    "start_time": "2022-06-07T13:56:10.964Z"
   },
   {
    "duration": 8,
    "start_time": "2022-06-07T13:56:10.981Z"
   },
   {
    "duration": 16,
    "start_time": "2022-06-07T13:56:10.994Z"
   },
   {
    "duration": 12,
    "start_time": "2022-06-07T13:56:11.011Z"
   },
   {
    "duration": 40,
    "start_time": "2022-06-07T13:56:11.024Z"
   },
   {
    "duration": 24,
    "start_time": "2022-06-07T13:56:11.067Z"
   },
   {
    "duration": 20,
    "start_time": "2022-06-07T13:56:11.092Z"
   },
   {
    "duration": 22,
    "start_time": "2022-06-07T13:56:11.114Z"
   },
   {
    "duration": 12,
    "start_time": "2022-06-07T13:56:11.156Z"
   },
   {
    "duration": 24,
    "start_time": "2022-06-07T13:56:11.170Z"
   },
   {
    "duration": 8,
    "start_time": "2022-06-07T13:56:11.196Z"
   },
   {
    "duration": 12,
    "start_time": "2022-06-07T13:56:11.205Z"
   },
   {
    "duration": 510,
    "start_time": "2022-06-07T13:56:11.219Z"
   },
   {
    "duration": 0,
    "start_time": "2022-06-07T13:56:11.732Z"
   },
   {
    "duration": 0,
    "start_time": "2022-06-07T13:56:11.733Z"
   },
   {
    "duration": 0,
    "start_time": "2022-06-07T13:56:11.735Z"
   },
   {
    "duration": 0,
    "start_time": "2022-06-07T13:56:11.737Z"
   },
   {
    "duration": 0,
    "start_time": "2022-06-07T13:56:11.738Z"
   },
   {
    "duration": 0,
    "start_time": "2022-06-07T13:56:11.739Z"
   },
   {
    "duration": 0,
    "start_time": "2022-06-07T13:56:11.741Z"
   },
   {
    "duration": 0,
    "start_time": "2022-06-07T13:56:11.742Z"
   },
   {
    "duration": 0,
    "start_time": "2022-06-07T13:56:11.744Z"
   },
   {
    "duration": 0,
    "start_time": "2022-06-07T13:56:11.745Z"
   },
   {
    "duration": 0,
    "start_time": "2022-06-07T13:56:11.746Z"
   },
   {
    "duration": 0,
    "start_time": "2022-06-07T13:56:11.748Z"
   },
   {
    "duration": 0,
    "start_time": "2022-06-07T13:56:11.749Z"
   },
   {
    "duration": 0,
    "start_time": "2022-06-07T13:56:11.749Z"
   },
   {
    "duration": 0,
    "start_time": "2022-06-07T13:56:11.751Z"
   },
   {
    "duration": 0,
    "start_time": "2022-06-07T13:56:11.752Z"
   },
   {
    "duration": 0,
    "start_time": "2022-06-07T13:56:11.753Z"
   },
   {
    "duration": 0,
    "start_time": "2022-06-07T13:56:11.754Z"
   },
   {
    "duration": 0,
    "start_time": "2022-06-07T13:56:11.755Z"
   },
   {
    "duration": 0,
    "start_time": "2022-06-07T13:56:11.756Z"
   },
   {
    "duration": 0,
    "start_time": "2022-06-07T13:56:11.756Z"
   },
   {
    "duration": 0,
    "start_time": "2022-06-07T13:56:11.757Z"
   },
   {
    "duration": 0,
    "start_time": "2022-06-07T13:56:11.758Z"
   },
   {
    "duration": 0,
    "start_time": "2022-06-07T13:56:11.758Z"
   },
   {
    "duration": 0,
    "start_time": "2022-06-07T13:56:11.759Z"
   },
   {
    "duration": 0,
    "start_time": "2022-06-07T13:56:11.759Z"
   },
   {
    "duration": 0,
    "start_time": "2022-06-07T13:56:11.760Z"
   },
   {
    "duration": 0,
    "start_time": "2022-06-07T13:56:11.760Z"
   },
   {
    "duration": 0,
    "start_time": "2022-06-07T13:56:11.761Z"
   },
   {
    "duration": 0,
    "start_time": "2022-06-07T13:56:11.762Z"
   },
   {
    "duration": 0,
    "start_time": "2022-06-07T13:56:11.762Z"
   },
   {
    "duration": 0,
    "start_time": "2022-06-07T13:56:11.763Z"
   },
   {
    "duration": 22,
    "start_time": "2022-06-07T13:57:49.100Z"
   },
   {
    "duration": 52,
    "start_time": "2022-06-07T13:57:49.449Z"
   },
   {
    "duration": 4,
    "start_time": "2022-06-07T13:58:10.652Z"
   },
   {
    "duration": 58,
    "start_time": "2022-06-07T13:58:10.661Z"
   },
   {
    "duration": 40,
    "start_time": "2022-06-07T13:58:10.721Z"
   },
   {
    "duration": 16,
    "start_time": "2022-06-07T13:58:10.763Z"
   },
   {
    "duration": 25,
    "start_time": "2022-06-07T13:58:10.782Z"
   },
   {
    "duration": 11,
    "start_time": "2022-06-07T13:58:10.810Z"
   },
   {
    "duration": 5,
    "start_time": "2022-06-07T13:58:10.823Z"
   },
   {
    "duration": 32,
    "start_time": "2022-06-07T13:58:10.830Z"
   },
   {
    "duration": 16,
    "start_time": "2022-06-07T13:58:10.864Z"
   },
   {
    "duration": 34,
    "start_time": "2022-06-07T13:58:10.881Z"
   },
   {
    "duration": 12,
    "start_time": "2022-06-07T13:58:10.916Z"
   },
   {
    "duration": 41,
    "start_time": "2022-06-07T13:58:10.930Z"
   },
   {
    "duration": 36,
    "start_time": "2022-06-07T13:58:10.973Z"
   },
   {
    "duration": 52,
    "start_time": "2022-06-07T13:58:11.011Z"
   },
   {
    "duration": 8,
    "start_time": "2022-06-07T13:58:11.067Z"
   },
   {
    "duration": 0,
    "start_time": "2022-06-07T13:58:11.077Z"
   },
   {
    "duration": 0,
    "start_time": "2022-06-07T13:58:11.079Z"
   },
   {
    "duration": 0,
    "start_time": "2022-06-07T13:58:11.080Z"
   },
   {
    "duration": 0,
    "start_time": "2022-06-07T13:58:11.082Z"
   },
   {
    "duration": 0,
    "start_time": "2022-06-07T13:58:11.083Z"
   },
   {
    "duration": 0,
    "start_time": "2022-06-07T13:58:11.084Z"
   },
   {
    "duration": 0,
    "start_time": "2022-06-07T13:58:11.085Z"
   },
   {
    "duration": 0,
    "start_time": "2022-06-07T13:58:11.087Z"
   },
   {
    "duration": 0,
    "start_time": "2022-06-07T13:58:11.088Z"
   },
   {
    "duration": 0,
    "start_time": "2022-06-07T13:58:11.090Z"
   },
   {
    "duration": 0,
    "start_time": "2022-06-07T13:58:11.091Z"
   },
   {
    "duration": 0,
    "start_time": "2022-06-07T13:58:11.093Z"
   },
   {
    "duration": 0,
    "start_time": "2022-06-07T13:58:11.094Z"
   },
   {
    "duration": 0,
    "start_time": "2022-06-07T13:58:11.096Z"
   },
   {
    "duration": 0,
    "start_time": "2022-06-07T13:58:11.097Z"
   },
   {
    "duration": 0,
    "start_time": "2022-06-07T13:58:11.098Z"
   },
   {
    "duration": 0,
    "start_time": "2022-06-07T13:58:11.099Z"
   },
   {
    "duration": 0,
    "start_time": "2022-06-07T13:58:11.101Z"
   },
   {
    "duration": 0,
    "start_time": "2022-06-07T13:58:11.102Z"
   },
   {
    "duration": 0,
    "start_time": "2022-06-07T13:58:11.153Z"
   },
   {
    "duration": 0,
    "start_time": "2022-06-07T13:58:11.155Z"
   },
   {
    "duration": 0,
    "start_time": "2022-06-07T13:58:11.156Z"
   },
   {
    "duration": 0,
    "start_time": "2022-06-07T13:58:11.157Z"
   },
   {
    "duration": 0,
    "start_time": "2022-06-07T13:58:11.158Z"
   },
   {
    "duration": 0,
    "start_time": "2022-06-07T13:58:11.160Z"
   },
   {
    "duration": 0,
    "start_time": "2022-06-07T13:58:11.161Z"
   },
   {
    "duration": 0,
    "start_time": "2022-06-07T13:58:11.162Z"
   },
   {
    "duration": 0,
    "start_time": "2022-06-07T13:58:11.164Z"
   },
   {
    "duration": 0,
    "start_time": "2022-06-07T13:58:11.165Z"
   },
   {
    "duration": 0,
    "start_time": "2022-06-07T13:58:11.166Z"
   },
   {
    "duration": 0,
    "start_time": "2022-06-07T13:58:11.168Z"
   },
   {
    "duration": 0,
    "start_time": "2022-06-07T13:58:11.169Z"
   },
   {
    "duration": 0,
    "start_time": "2022-06-07T13:58:11.170Z"
   },
   {
    "duration": 0,
    "start_time": "2022-06-07T13:58:11.172Z"
   },
   {
    "duration": 0,
    "start_time": "2022-06-07T13:58:11.173Z"
   },
   {
    "duration": 7,
    "start_time": "2022-06-07T13:58:32.124Z"
   },
   {
    "duration": 14,
    "start_time": "2022-06-07T13:58:37.408Z"
   },
   {
    "duration": 19,
    "start_time": "2022-06-07T13:58:39.749Z"
   },
   {
    "duration": 49,
    "start_time": "2022-06-07T14:07:35.983Z"
   },
   {
    "duration": 89,
    "start_time": "2022-06-07T14:07:36.701Z"
   },
   {
    "duration": 34,
    "start_time": "2022-06-07T14:07:44.700Z"
   },
   {
    "duration": 48,
    "start_time": "2022-06-07T14:07:45.261Z"
   },
   {
    "duration": 47,
    "start_time": "2022-06-07T14:07:52.418Z"
   },
   {
    "duration": 61,
    "start_time": "2022-06-07T14:07:53.957Z"
   },
   {
    "duration": 31,
    "start_time": "2022-06-07T14:08:07.475Z"
   },
   {
    "duration": 15,
    "start_time": "2022-06-07T14:08:07.850Z"
   },
   {
    "duration": 22,
    "start_time": "2022-06-07T14:08:13.469Z"
   },
   {
    "duration": 6,
    "start_time": "2022-06-07T14:08:13.799Z"
   },
   {
    "duration": 40,
    "start_time": "2022-06-07T14:08:30.972Z"
   },
   {
    "duration": 31,
    "start_time": "2022-06-07T14:08:31.561Z"
   },
   {
    "duration": 39,
    "start_time": "2022-06-07T14:08:36.906Z"
   },
   {
    "duration": 59,
    "start_time": "2022-06-07T14:08:42.549Z"
   },
   {
    "duration": 57,
    "start_time": "2022-06-07T14:08:43.253Z"
   },
   {
    "duration": 36,
    "start_time": "2022-06-07T14:08:53.496Z"
   },
   {
    "duration": 46,
    "start_time": "2022-06-07T14:08:53.950Z"
   },
   {
    "duration": 22,
    "start_time": "2022-06-07T14:09:07.504Z"
   },
   {
    "duration": 9,
    "start_time": "2022-06-07T14:09:07.777Z"
   },
   {
    "duration": 40,
    "start_time": "2022-06-07T14:09:16.100Z"
   },
   {
    "duration": 33,
    "start_time": "2022-06-07T14:10:11.067Z"
   },
   {
    "duration": 10,
    "start_time": "2022-06-07T14:10:11.700Z"
   },
   {
    "duration": 31,
    "start_time": "2022-06-07T14:10:23.761Z"
   },
   {
    "duration": 24,
    "start_time": "2022-06-07T14:10:29.275Z"
   },
   {
    "duration": 31,
    "start_time": "2022-06-07T14:10:41.224Z"
   },
   {
    "duration": 9,
    "start_time": "2022-06-07T14:10:41.808Z"
   },
   {
    "duration": 23,
    "start_time": "2022-06-07T14:10:51.760Z"
   },
   {
    "duration": 401,
    "start_time": "2022-06-07T14:11:29.761Z"
   },
   {
    "duration": 11,
    "start_time": "2022-06-07T14:12:19.754Z"
   },
   {
    "duration": 30,
    "start_time": "2022-06-07T14:13:12.488Z"
   },
   {
    "duration": 9,
    "start_time": "2022-06-07T14:13:15.268Z"
   },
   {
    "duration": 28,
    "start_time": "2022-06-07T14:13:48.797Z"
   },
   {
    "duration": 29,
    "start_time": "2022-06-07T14:13:59.054Z"
   },
   {
    "duration": 30,
    "start_time": "2022-06-07T14:14:07.875Z"
   },
   {
    "duration": 36,
    "start_time": "2022-06-07T14:15:21.197Z"
   },
   {
    "duration": 130,
    "start_time": "2022-06-07T14:15:50.521Z"
   },
   {
    "duration": 28,
    "start_time": "2022-06-07T14:16:02.422Z"
   },
   {
    "duration": 25,
    "start_time": "2022-06-07T14:16:11.299Z"
   },
   {
    "duration": 11,
    "start_time": "2022-06-07T14:16:12.308Z"
   },
   {
    "duration": 342,
    "start_time": "2022-06-07T14:16:38.519Z"
   },
   {
    "duration": 12,
    "start_time": "2022-06-07T14:16:38.963Z"
   },
   {
    "duration": 189,
    "start_time": "2022-06-07T14:16:41.365Z"
   },
   {
    "duration": 162,
    "start_time": "2022-06-07T14:16:47.607Z"
   },
   {
    "duration": 9,
    "start_time": "2022-06-07T14:16:48.277Z"
   },
   {
    "duration": 34,
    "start_time": "2022-06-07T14:16:51.584Z"
   },
   {
    "duration": 11,
    "start_time": "2022-06-07T14:16:52.005Z"
   },
   {
    "duration": 14,
    "start_time": "2022-06-07T14:17:53.300Z"
   },
   {
    "duration": 10,
    "start_time": "2022-06-07T14:18:06.805Z"
   },
   {
    "duration": 14,
    "start_time": "2022-06-07T14:18:34.410Z"
   },
   {
    "duration": 3,
    "start_time": "2022-06-07T14:18:37.455Z"
   },
   {
    "duration": 71,
    "start_time": "2022-06-07T14:18:37.461Z"
   },
   {
    "duration": 46,
    "start_time": "2022-06-07T14:18:37.533Z"
   },
   {
    "duration": 4,
    "start_time": "2022-06-07T14:18:37.581Z"
   },
   {
    "duration": 28,
    "start_time": "2022-06-07T14:18:37.588Z"
   },
   {
    "duration": 14,
    "start_time": "2022-06-07T14:18:37.618Z"
   },
   {
    "duration": 19,
    "start_time": "2022-06-07T14:18:37.634Z"
   },
   {
    "duration": 14,
    "start_time": "2022-06-07T14:18:37.655Z"
   },
   {
    "duration": 12,
    "start_time": "2022-06-07T14:18:37.671Z"
   },
   {
    "duration": 24,
    "start_time": "2022-06-07T14:18:37.685Z"
   },
   {
    "duration": 12,
    "start_time": "2022-06-07T14:18:37.711Z"
   },
   {
    "duration": 46,
    "start_time": "2022-06-07T14:18:37.725Z"
   },
   {
    "duration": 30,
    "start_time": "2022-06-07T14:18:37.772Z"
   },
   {
    "duration": 10,
    "start_time": "2022-06-07T14:18:37.806Z"
   },
   {
    "duration": 0,
    "start_time": "2022-06-07T14:18:37.818Z"
   },
   {
    "duration": 0,
    "start_time": "2022-06-07T14:18:37.820Z"
   },
   {
    "duration": 0,
    "start_time": "2022-06-07T14:18:37.821Z"
   },
   {
    "duration": 0,
    "start_time": "2022-06-07T14:18:37.851Z"
   },
   {
    "duration": 0,
    "start_time": "2022-06-07T14:18:37.855Z"
   },
   {
    "duration": 0,
    "start_time": "2022-06-07T14:18:37.856Z"
   },
   {
    "duration": 0,
    "start_time": "2022-06-07T14:18:37.857Z"
   },
   {
    "duration": 0,
    "start_time": "2022-06-07T14:18:37.859Z"
   },
   {
    "duration": 0,
    "start_time": "2022-06-07T14:18:37.860Z"
   },
   {
    "duration": 0,
    "start_time": "2022-06-07T14:18:37.861Z"
   },
   {
    "duration": 0,
    "start_time": "2022-06-07T14:18:37.862Z"
   },
   {
    "duration": 0,
    "start_time": "2022-06-07T14:18:37.863Z"
   },
   {
    "duration": 0,
    "start_time": "2022-06-07T14:18:37.864Z"
   },
   {
    "duration": 0,
    "start_time": "2022-06-07T14:18:37.866Z"
   },
   {
    "duration": 0,
    "start_time": "2022-06-07T14:18:37.867Z"
   },
   {
    "duration": 0,
    "start_time": "2022-06-07T14:18:37.867Z"
   },
   {
    "duration": 0,
    "start_time": "2022-06-07T14:18:37.868Z"
   },
   {
    "duration": 0,
    "start_time": "2022-06-07T14:18:37.870Z"
   },
   {
    "duration": 0,
    "start_time": "2022-06-07T14:18:37.872Z"
   },
   {
    "duration": 0,
    "start_time": "2022-06-07T14:18:37.873Z"
   },
   {
    "duration": 0,
    "start_time": "2022-06-07T14:18:37.874Z"
   },
   {
    "duration": 0,
    "start_time": "2022-06-07T14:18:37.875Z"
   },
   {
    "duration": 0,
    "start_time": "2022-06-07T14:18:37.876Z"
   },
   {
    "duration": 0,
    "start_time": "2022-06-07T14:18:37.877Z"
   },
   {
    "duration": 0,
    "start_time": "2022-06-07T14:18:37.879Z"
   },
   {
    "duration": 0,
    "start_time": "2022-06-07T14:18:37.880Z"
   },
   {
    "duration": 0,
    "start_time": "2022-06-07T14:18:37.881Z"
   },
   {
    "duration": 0,
    "start_time": "2022-06-07T14:18:37.883Z"
   },
   {
    "duration": 0,
    "start_time": "2022-06-07T14:18:37.884Z"
   },
   {
    "duration": 0,
    "start_time": "2022-06-07T14:18:37.886Z"
   },
   {
    "duration": 0,
    "start_time": "2022-06-07T14:18:37.887Z"
   },
   {
    "duration": 0,
    "start_time": "2022-06-07T14:18:37.888Z"
   },
   {
    "duration": 0,
    "start_time": "2022-06-07T14:18:37.889Z"
   },
   {
    "duration": 0,
    "start_time": "2022-06-07T14:18:37.890Z"
   },
   {
    "duration": 25,
    "start_time": "2022-06-07T14:19:00.565Z"
   },
   {
    "duration": 42,
    "start_time": "2022-06-07T14:20:04.071Z"
   },
   {
    "duration": 96,
    "start_time": "2022-06-07T14:21:37.012Z"
   },
   {
    "duration": 3,
    "start_time": "2022-06-07T14:22:06.789Z"
   },
   {
    "duration": 9,
    "start_time": "2022-06-07T14:22:15.107Z"
   },
   {
    "duration": 13,
    "start_time": "2022-06-07T14:22:45.761Z"
   },
   {
    "duration": 13,
    "start_time": "2022-06-07T14:22:59.793Z"
   },
   {
    "duration": 12,
    "start_time": "2022-06-07T14:23:04.999Z"
   },
   {
    "duration": 3,
    "start_time": "2022-06-07T14:23:08.799Z"
   },
   {
    "duration": 59,
    "start_time": "2022-06-07T14:23:08.804Z"
   },
   {
    "duration": 31,
    "start_time": "2022-06-07T14:23:08.865Z"
   },
   {
    "duration": 7,
    "start_time": "2022-06-07T14:23:08.898Z"
   },
   {
    "duration": 23,
    "start_time": "2022-06-07T14:23:08.907Z"
   },
   {
    "duration": 21,
    "start_time": "2022-06-07T14:23:08.932Z"
   },
   {
    "duration": 28,
    "start_time": "2022-06-07T14:23:08.955Z"
   },
   {
    "duration": 25,
    "start_time": "2022-06-07T14:23:08.985Z"
   },
   {
    "duration": 28,
    "start_time": "2022-06-07T14:23:09.012Z"
   },
   {
    "duration": 27,
    "start_time": "2022-06-07T14:23:09.042Z"
   },
   {
    "duration": 48,
    "start_time": "2022-06-07T14:23:09.071Z"
   },
   {
    "duration": 25,
    "start_time": "2022-06-07T14:23:09.121Z"
   },
   {
    "duration": 24,
    "start_time": "2022-06-07T14:23:09.147Z"
   },
   {
    "duration": 10,
    "start_time": "2022-06-07T14:23:09.174Z"
   },
   {
    "duration": 15,
    "start_time": "2022-06-07T14:23:09.187Z"
   },
   {
    "duration": 12,
    "start_time": "2022-06-07T14:23:11.219Z"
   },
   {
    "duration": 13,
    "start_time": "2022-06-07T14:23:16.394Z"
   },
   {
    "duration": 33,
    "start_time": "2022-06-07T14:23:38.009Z"
   },
   {
    "duration": 57,
    "start_time": "2022-06-07T14:23:43.169Z"
   },
   {
    "duration": 11,
    "start_time": "2022-06-07T14:25:38.632Z"
   },
   {
    "duration": 33,
    "start_time": "2022-06-07T14:25:45.269Z"
   },
   {
    "duration": 9,
    "start_time": "2022-06-07T14:25:51.905Z"
   },
   {
    "duration": 31,
    "start_time": "2022-06-07T14:25:59.808Z"
   },
   {
    "duration": 12,
    "start_time": "2022-06-07T14:26:00.307Z"
   },
   {
    "duration": 28,
    "start_time": "2022-06-07T14:26:18.487Z"
   },
   {
    "duration": 11,
    "start_time": "2022-06-07T14:26:19.824Z"
   },
   {
    "duration": 6,
    "start_time": "2022-06-07T14:26:24.277Z"
   },
   {
    "duration": 126,
    "start_time": "2022-06-07T14:26:24.926Z"
   },
   {
    "duration": 20,
    "start_time": "2022-06-07T14:26:41.958Z"
   },
   {
    "duration": 12,
    "start_time": "2022-06-07T14:27:34.169Z"
   },
   {
    "duration": 17,
    "start_time": "2022-06-07T14:27:36.623Z"
   },
   {
    "duration": 19,
    "start_time": "2022-06-07T14:27:51.390Z"
   },
   {
    "duration": 3,
    "start_time": "2022-06-07T14:27:56.002Z"
   },
   {
    "duration": 57,
    "start_time": "2022-06-07T14:27:56.008Z"
   },
   {
    "duration": 35,
    "start_time": "2022-06-07T14:27:56.067Z"
   },
   {
    "duration": 4,
    "start_time": "2022-06-07T14:27:56.104Z"
   },
   {
    "duration": 20,
    "start_time": "2022-06-07T14:27:56.110Z"
   },
   {
    "duration": 41,
    "start_time": "2022-06-07T14:27:56.132Z"
   },
   {
    "duration": 13,
    "start_time": "2022-06-07T14:27:56.175Z"
   },
   {
    "duration": 18,
    "start_time": "2022-06-07T14:27:56.190Z"
   },
   {
    "duration": 23,
    "start_time": "2022-06-07T14:27:56.211Z"
   },
   {
    "duration": 29,
    "start_time": "2022-06-07T14:27:56.236Z"
   },
   {
    "duration": 10,
    "start_time": "2022-06-07T14:27:56.267Z"
   },
   {
    "duration": 28,
    "start_time": "2022-06-07T14:27:56.279Z"
   },
   {
    "duration": 54,
    "start_time": "2022-06-07T14:27:56.309Z"
   },
   {
    "duration": 3,
    "start_time": "2022-06-07T14:27:56.367Z"
   },
   {
    "duration": 16,
    "start_time": "2022-06-07T14:27:56.371Z"
   },
   {
    "duration": 17,
    "start_time": "2022-06-07T14:27:56.389Z"
   },
   {
    "duration": 21,
    "start_time": "2022-06-07T14:28:09.289Z"
   },
   {
    "duration": 3,
    "start_time": "2022-06-07T14:28:23.560Z"
   },
   {
    "duration": 53,
    "start_time": "2022-06-07T14:28:23.565Z"
   },
   {
    "duration": 33,
    "start_time": "2022-06-07T14:28:23.620Z"
   },
   {
    "duration": 4,
    "start_time": "2022-06-07T14:28:23.654Z"
   },
   {
    "duration": 16,
    "start_time": "2022-06-07T14:28:23.660Z"
   },
   {
    "duration": 8,
    "start_time": "2022-06-07T14:28:23.678Z"
   },
   {
    "duration": 4,
    "start_time": "2022-06-07T14:28:23.688Z"
   },
   {
    "duration": 32,
    "start_time": "2022-06-07T14:28:23.693Z"
   },
   {
    "duration": 29,
    "start_time": "2022-06-07T14:28:23.727Z"
   },
   {
    "duration": 19,
    "start_time": "2022-06-07T14:28:23.758Z"
   },
   {
    "duration": 10,
    "start_time": "2022-06-07T14:28:23.779Z"
   },
   {
    "duration": 21,
    "start_time": "2022-06-07T14:28:23.791Z"
   },
   {
    "duration": 55,
    "start_time": "2022-06-07T14:28:23.815Z"
   },
   {
    "duration": 11,
    "start_time": "2022-06-07T14:28:23.873Z"
   },
   {
    "duration": 23,
    "start_time": "2022-06-07T14:28:23.887Z"
   },
   {
    "duration": 10,
    "start_time": "2022-06-07T14:28:23.912Z"
   },
   {
    "duration": 247,
    "start_time": "2022-06-07T14:28:23.924Z"
   },
   {
    "duration": 273,
    "start_time": "2022-06-07T14:28:24.173Z"
   },
   {
    "duration": 7,
    "start_time": "2022-06-07T14:28:24.448Z"
   },
   {
    "duration": 31,
    "start_time": "2022-06-07T14:28:24.457Z"
   },
   {
    "duration": 240,
    "start_time": "2022-06-07T14:28:24.490Z"
   },
   {
    "duration": 252,
    "start_time": "2022-06-07T14:28:24.731Z"
   },
   {
    "duration": 5,
    "start_time": "2022-06-07T14:28:24.985Z"
   },
   {
    "duration": 472,
    "start_time": "2022-06-07T14:28:24.991Z"
   },
   {
    "duration": 7,
    "start_time": "2022-06-07T14:28:25.465Z"
   },
   {
    "duration": 223,
    "start_time": "2022-06-07T14:28:25.474Z"
   },
   {
    "duration": 5,
    "start_time": "2022-06-07T14:28:25.699Z"
   },
   {
    "duration": 233,
    "start_time": "2022-06-07T14:28:25.706Z"
   },
   {
    "duration": 15,
    "start_time": "2022-06-07T14:28:25.941Z"
   },
   {
    "duration": 8,
    "start_time": "2022-06-07T14:28:25.958Z"
   },
   {
    "duration": 18,
    "start_time": "2022-06-07T14:28:25.968Z"
   },
   {
    "duration": 7,
    "start_time": "2022-06-07T14:28:25.988Z"
   },
   {
    "duration": 5,
    "start_time": "2022-06-07T14:28:25.997Z"
   },
   {
    "duration": 245,
    "start_time": "2022-06-07T14:28:26.004Z"
   },
   {
    "duration": 6,
    "start_time": "2022-06-07T14:28:26.252Z"
   },
   {
    "duration": 9,
    "start_time": "2022-06-07T14:28:26.259Z"
   },
   {
    "duration": 18,
    "start_time": "2022-06-07T14:28:26.269Z"
   },
   {
    "duration": 19,
    "start_time": "2022-06-07T14:28:26.288Z"
   },
   {
    "duration": 83,
    "start_time": "2022-06-07T14:28:26.310Z"
   },
   {
    "duration": 3952,
    "start_time": "2022-06-07T14:28:26.395Z"
   },
   {
    "duration": 23,
    "start_time": "2022-06-07T14:28:30.354Z"
   },
   {
    "duration": 2371,
    "start_time": "2022-06-07T14:28:30.379Z"
   },
   {
    "duration": 3,
    "start_time": "2022-06-07T14:28:32.752Z"
   },
   {
    "duration": 567,
    "start_time": "2022-06-07T14:28:32.757Z"
   },
   {
    "duration": 168,
    "start_time": "2022-06-07T14:48:41.380Z"
   },
   {
    "duration": 158,
    "start_time": "2022-06-07T14:48:49.430Z"
   },
   {
    "duration": 158,
    "start_time": "2022-06-07T14:49:51.504Z"
   },
   {
    "duration": 624,
    "start_time": "2022-06-07T14:50:37.571Z"
   },
   {
    "duration": 154,
    "start_time": "2022-06-07T14:50:49.828Z"
   },
   {
    "duration": 20,
    "start_time": "2022-06-07T14:52:06.621Z"
   },
   {
    "duration": 206,
    "start_time": "2022-06-07T14:52:11.696Z"
   },
   {
    "duration": 221,
    "start_time": "2022-06-07T14:52:31.716Z"
   },
   {
    "duration": 238,
    "start_time": "2022-06-07T14:52:35.239Z"
   },
   {
    "duration": 231,
    "start_time": "2022-06-07T14:52:50.859Z"
   },
   {
    "duration": 185,
    "start_time": "2022-06-07T14:53:36.796Z"
   },
   {
    "duration": 166,
    "start_time": "2022-06-07T14:53:55.968Z"
   },
   {
    "duration": 211,
    "start_time": "2022-06-07T14:54:09.625Z"
   },
   {
    "duration": 644,
    "start_time": "2022-06-07T14:54:17.360Z"
   },
   {
    "duration": 191,
    "start_time": "2022-06-07T14:54:26.396Z"
   },
   {
    "duration": 228,
    "start_time": "2022-06-07T14:54:31.273Z"
   },
   {
    "duration": 13,
    "start_time": "2022-06-07T14:54:49.090Z"
   },
   {
    "duration": 200,
    "start_time": "2022-06-07T14:54:59.282Z"
   },
   {
    "duration": 222,
    "start_time": "2022-06-07T14:55:20.675Z"
   },
   {
    "duration": 222,
    "start_time": "2022-06-07T14:56:33.968Z"
   },
   {
    "duration": 211,
    "start_time": "2022-06-07T14:56:46.219Z"
   },
   {
    "duration": 261,
    "start_time": "2022-06-07T14:58:32.065Z"
   },
   {
    "duration": 214,
    "start_time": "2022-06-07T14:58:57.512Z"
   },
   {
    "duration": 229,
    "start_time": "2022-06-07T15:00:12.098Z"
   },
   {
    "duration": 33,
    "start_time": "2022-06-07T15:00:28.787Z"
   },
   {
    "duration": 311,
    "start_time": "2022-06-07T15:00:45.498Z"
   },
   {
    "duration": 13,
    "start_time": "2022-06-07T15:01:24.954Z"
   },
   {
    "duration": 13,
    "start_time": "2022-06-07T15:01:27.805Z"
   },
   {
    "duration": 448,
    "start_time": "2022-06-07T15:02:32.848Z"
   },
   {
    "duration": 13,
    "start_time": "2022-06-07T15:02:42.114Z"
   },
   {
    "duration": 4,
    "start_time": "2022-06-07T15:05:32.182Z"
   },
   {
    "duration": 7,
    "start_time": "2022-06-07T15:06:39.583Z"
   },
   {
    "duration": 2,
    "start_time": "2022-06-07T15:06:42.002Z"
   },
   {
    "duration": 64,
    "start_time": "2022-06-07T15:06:42.007Z"
   },
   {
    "duration": 32,
    "start_time": "2022-06-07T15:06:42.072Z"
   },
   {
    "duration": 3,
    "start_time": "2022-06-07T15:06:42.105Z"
   },
   {
    "duration": 19,
    "start_time": "2022-06-07T15:06:42.110Z"
   },
   {
    "duration": 26,
    "start_time": "2022-06-07T15:06:42.154Z"
   },
   {
    "duration": 4,
    "start_time": "2022-06-07T15:06:42.182Z"
   },
   {
    "duration": 13,
    "start_time": "2022-06-07T15:06:42.188Z"
   },
   {
    "duration": 12,
    "start_time": "2022-06-07T15:06:42.204Z"
   },
   {
    "duration": 16,
    "start_time": "2022-06-07T15:06:42.218Z"
   },
   {
    "duration": 20,
    "start_time": "2022-06-07T15:06:42.236Z"
   },
   {
    "duration": 20,
    "start_time": "2022-06-07T15:06:42.258Z"
   },
   {
    "duration": 5,
    "start_time": "2022-06-07T15:06:42.279Z"
   },
   {
    "duration": 22,
    "start_time": "2022-06-07T15:06:42.286Z"
   },
   {
    "duration": 8,
    "start_time": "2022-06-07T15:06:42.309Z"
   },
   {
    "duration": 10,
    "start_time": "2022-06-07T15:06:42.318Z"
   },
   {
    "duration": 6,
    "start_time": "2022-06-07T15:06:42.355Z"
   },
   {
    "duration": 210,
    "start_time": "2022-06-07T15:06:42.364Z"
   },
   {
    "duration": 284,
    "start_time": "2022-06-07T15:06:42.576Z"
   },
   {
    "duration": 7,
    "start_time": "2022-06-07T15:06:42.862Z"
   },
   {
    "duration": 12,
    "start_time": "2022-06-07T15:06:42.871Z"
   },
   {
    "duration": 254,
    "start_time": "2022-06-07T15:06:42.885Z"
   },
   {
    "duration": 477,
    "start_time": "2022-06-07T15:06:43.141Z"
   },
   {
    "duration": 7,
    "start_time": "2022-06-07T15:06:43.623Z"
   },
   {
    "duration": 254,
    "start_time": "2022-06-07T15:06:43.631Z"
   },
   {
    "duration": 6,
    "start_time": "2022-06-07T15:06:43.887Z"
   },
   {
    "duration": 224,
    "start_time": "2022-06-07T15:06:43.895Z"
   },
   {
    "duration": 5,
    "start_time": "2022-06-07T15:06:44.121Z"
   },
   {
    "duration": 238,
    "start_time": "2022-06-07T15:06:44.127Z"
   },
   {
    "duration": 5,
    "start_time": "2022-06-07T15:06:44.367Z"
   },
   {
    "duration": 16,
    "start_time": "2022-06-07T15:06:44.373Z"
   },
   {
    "duration": 195,
    "start_time": "2022-06-07T15:06:44.390Z"
   },
   {
    "duration": 6,
    "start_time": "2022-06-07T15:06:44.587Z"
   },
   {
    "duration": 5,
    "start_time": "2022-06-07T15:06:44.595Z"
   },
   {
    "duration": 19,
    "start_time": "2022-06-07T15:06:44.602Z"
   },
   {
    "duration": 44,
    "start_time": "2022-06-07T15:06:44.623Z"
   },
   {
    "duration": 56,
    "start_time": "2022-06-07T15:06:44.670Z"
   },
   {
    "duration": 3553,
    "start_time": "2022-06-07T15:06:44.727Z"
   },
   {
    "duration": 17,
    "start_time": "2022-06-07T15:06:48.282Z"
   },
   {
    "duration": 2456,
    "start_time": "2022-06-07T15:06:48.301Z"
   },
   {
    "duration": 5,
    "start_time": "2022-06-07T15:06:50.763Z"
   },
   {
    "duration": 402,
    "start_time": "2022-06-07T15:06:50.770Z"
   },
   {
    "duration": 14,
    "start_time": "2022-06-07T15:06:51.173Z"
   },
   {
    "duration": 12,
    "start_time": "2022-06-07T15:06:51.188Z"
   },
   {
    "duration": 276,
    "start_time": "2022-06-07T15:06:51.202Z"
   },
   {
    "duration": 269,
    "start_time": "2022-06-07T15:15:44.552Z"
   },
   {
    "duration": 263,
    "start_time": "2022-06-07T15:15:56.621Z"
   },
   {
    "duration": 781,
    "start_time": "2022-06-07T15:16:06.849Z"
   },
   {
    "duration": 256,
    "start_time": "2022-06-07T15:17:09.680Z"
   },
   {
    "duration": 237,
    "start_time": "2022-06-07T15:17:43.340Z"
   },
   {
    "duration": 263,
    "start_time": "2022-06-07T15:18:00.508Z"
   },
   {
    "duration": 317,
    "start_time": "2022-06-07T15:19:12.141Z"
   },
   {
    "duration": 395,
    "start_time": "2022-06-07T15:20:50.644Z"
   },
   {
    "duration": 239,
    "start_time": "2022-06-07T15:22:31.959Z"
   },
   {
    "duration": 259,
    "start_time": "2022-06-07T15:23:23.178Z"
   },
   {
    "duration": 26,
    "start_time": "2022-06-07T15:23:45.825Z"
   },
   {
    "duration": 259,
    "start_time": "2022-06-07T15:23:49.555Z"
   },
   {
    "duration": 334,
    "start_time": "2022-06-07T15:26:32.070Z"
   },
   {
    "duration": 372,
    "start_time": "2022-06-07T15:26:45.348Z"
   },
   {
    "duration": 129,
    "start_time": "2022-06-07T15:28:18.820Z"
   },
   {
    "duration": 161,
    "start_time": "2022-06-07T15:28:29.624Z"
   },
   {
    "duration": 275,
    "start_time": "2022-06-07T15:28:39.602Z"
   },
   {
    "duration": 291,
    "start_time": "2022-06-07T15:28:47.218Z"
   },
   {
    "duration": 41,
    "start_time": "2022-06-07T15:29:03.203Z"
   },
   {
    "duration": 287,
    "start_time": "2022-06-07T15:29:05.139Z"
   },
   {
    "duration": 242,
    "start_time": "2022-06-07T15:29:25.102Z"
   },
   {
    "duration": 15,
    "start_time": "2022-06-07T15:31:49.409Z"
   },
   {
    "duration": 3050,
    "start_time": "2022-06-07T15:32:19.288Z"
   },
   {
    "duration": 29,
    "start_time": "2022-06-07T15:33:40.578Z"
   },
   {
    "duration": 52,
    "start_time": "2022-06-07T15:34:20.108Z"
   },
   {
    "duration": 3290,
    "start_time": "2022-06-07T15:34:44.954Z"
   },
   {
    "duration": 759,
    "start_time": "2022-06-07T15:35:45.391Z"
   },
   {
    "duration": 31,
    "start_time": "2022-06-07T15:36:33.073Z"
   },
   {
    "duration": 1147,
    "start_time": "2022-06-07T15:36:52.014Z"
   },
   {
    "duration": 37,
    "start_time": "2022-06-07T15:38:26.872Z"
   },
   {
    "duration": 11,
    "start_time": "2022-06-07T15:38:46.206Z"
   },
   {
    "duration": 75,
    "start_time": "2022-06-07T15:38:51.969Z"
   },
   {
    "duration": 29,
    "start_time": "2022-06-07T15:38:55.136Z"
   },
   {
    "duration": 16,
    "start_time": "2022-06-07T15:39:11.591Z"
   },
   {
    "duration": 370,
    "start_time": "2022-06-07T15:39:27.787Z"
   },
   {
    "duration": 9,
    "start_time": "2022-06-07T15:39:52.787Z"
   },
   {
    "duration": 334,
    "start_time": "2022-06-07T15:39:57.667Z"
   },
   {
    "duration": 341,
    "start_time": "2022-06-07T15:40:33.604Z"
   },
   {
    "duration": 351,
    "start_time": "2022-06-07T15:40:55.989Z"
   },
   {
    "duration": 339,
    "start_time": "2022-06-07T15:41:00.648Z"
   },
   {
    "duration": 341,
    "start_time": "2022-06-07T15:41:06.441Z"
   },
   {
    "duration": 14,
    "start_time": "2022-06-07T15:42:09.186Z"
   },
   {
    "duration": 338,
    "start_time": "2022-06-07T15:42:29.649Z"
   },
   {
    "duration": 16,
    "start_time": "2022-06-07T15:54:38.564Z"
   },
   {
    "duration": 18,
    "start_time": "2022-06-07T15:54:49.401Z"
   },
   {
    "duration": 46,
    "start_time": "2022-06-07T15:56:17.835Z"
   },
   {
    "duration": 33,
    "start_time": "2022-06-07T15:56:30.818Z"
   },
   {
    "duration": 189,
    "start_time": "2022-06-07T15:57:50.123Z"
   },
   {
    "duration": 32,
    "start_time": "2022-06-07T16:02:35.711Z"
   },
   {
    "duration": 8,
    "start_time": "2022-06-07T16:02:48.084Z"
   },
   {
    "duration": 9,
    "start_time": "2022-06-07T16:03:09.192Z"
   },
   {
    "duration": 43,
    "start_time": "2022-06-07T16:04:31.394Z"
   },
   {
    "duration": 9,
    "start_time": "2022-06-07T16:04:54.326Z"
   },
   {
    "duration": 40,
    "start_time": "2022-06-07T16:04:57.826Z"
   },
   {
    "duration": 1016,
    "start_time": "2022-06-07T16:05:20.813Z"
   },
   {
    "duration": 30,
    "start_time": "2022-06-07T16:05:32.933Z"
   },
   {
    "duration": 51,
    "start_time": "2022-06-07T16:12:34.735Z"
   },
   {
    "duration": 5,
    "start_time": "2022-06-07T16:12:40.553Z"
   },
   {
    "duration": 152,
    "start_time": "2022-06-07T16:13:12.198Z"
   },
   {
    "duration": 38,
    "start_time": "2022-06-07T16:14:13.876Z"
   },
   {
    "duration": 34,
    "start_time": "2022-06-07T16:14:29.785Z"
   },
   {
    "duration": 11,
    "start_time": "2022-06-07T16:15:10.803Z"
   },
   {
    "duration": 451,
    "start_time": "2022-06-07T16:15:40.587Z"
   },
   {
    "duration": 16,
    "start_time": "2022-06-07T16:16:02.746Z"
   },
   {
    "duration": 510,
    "start_time": "2022-06-07T16:16:10.032Z"
   },
   {
    "duration": 20,
    "start_time": "2022-06-07T16:16:14.270Z"
   },
   {
    "duration": 31,
    "start_time": "2022-06-07T16:16:23.026Z"
   },
   {
    "duration": 26,
    "start_time": "2022-06-07T16:16:35.118Z"
   },
   {
    "duration": 29,
    "start_time": "2022-06-07T16:16:45.716Z"
   },
   {
    "duration": 24,
    "start_time": "2022-06-07T16:17:19.609Z"
   },
   {
    "duration": 55,
    "start_time": "2022-06-07T16:17:30.172Z"
   },
   {
    "duration": 34,
    "start_time": "2022-06-07T16:17:34.072Z"
   },
   {
    "duration": 21,
    "start_time": "2022-06-07T16:17:48.773Z"
   },
   {
    "duration": 6,
    "start_time": "2022-06-07T16:18:15.448Z"
   },
   {
    "duration": 16,
    "start_time": "2022-06-07T16:18:22.766Z"
   },
   {
    "duration": 455,
    "start_time": "2022-06-07T16:18:43.467Z"
   },
   {
    "duration": 93,
    "start_time": "2022-06-07T16:20:02.305Z"
   },
   {
    "duration": 4,
    "start_time": "2022-06-07T16:20:44.234Z"
   },
   {
    "duration": 4,
    "start_time": "2022-06-07T16:20:55.838Z"
   },
   {
    "duration": 19,
    "start_time": "2022-06-07T16:21:05.209Z"
   },
   {
    "duration": 4,
    "start_time": "2022-06-07T16:21:33.302Z"
   },
   {
    "duration": 356,
    "start_time": "2022-06-07T16:22:33.332Z"
   },
   {
    "duration": 310,
    "start_time": "2022-06-07T16:24:08.395Z"
   },
   {
    "duration": 9,
    "start_time": "2022-06-07T16:24:51.286Z"
   },
   {
    "duration": 4,
    "start_time": "2022-06-07T16:27:59.644Z"
   },
   {
    "duration": 59,
    "start_time": "2022-06-07T16:27:59.649Z"
   },
   {
    "duration": 32,
    "start_time": "2022-06-07T16:27:59.710Z"
   },
   {
    "duration": 3,
    "start_time": "2022-06-07T16:27:59.745Z"
   },
   {
    "duration": 46,
    "start_time": "2022-06-07T16:27:59.752Z"
   },
   {
    "duration": 11,
    "start_time": "2022-06-07T16:27:59.799Z"
   },
   {
    "duration": 11,
    "start_time": "2022-06-07T16:27:59.812Z"
   },
   {
    "duration": 13,
    "start_time": "2022-06-07T16:27:59.825Z"
   },
   {
    "duration": 21,
    "start_time": "2022-06-07T16:27:59.840Z"
   },
   {
    "duration": 32,
    "start_time": "2022-06-07T16:27:59.862Z"
   },
   {
    "duration": 12,
    "start_time": "2022-06-07T16:27:59.896Z"
   },
   {
    "duration": 17,
    "start_time": "2022-06-07T16:27:59.910Z"
   },
   {
    "duration": 8,
    "start_time": "2022-06-07T16:27:59.929Z"
   },
   {
    "duration": 38,
    "start_time": "2022-06-07T16:27:59.940Z"
   },
   {
    "duration": 7,
    "start_time": "2022-06-07T16:27:59.979Z"
   },
   {
    "duration": 11,
    "start_time": "2022-06-07T16:27:59.988Z"
   },
   {
    "duration": 7,
    "start_time": "2022-06-07T16:28:00.001Z"
   },
   {
    "duration": 233,
    "start_time": "2022-06-07T16:28:00.010Z"
   },
   {
    "duration": 268,
    "start_time": "2022-06-07T16:28:00.244Z"
   },
   {
    "duration": 7,
    "start_time": "2022-06-07T16:28:00.514Z"
   },
   {
    "duration": 20,
    "start_time": "2022-06-07T16:28:00.523Z"
   },
   {
    "duration": 249,
    "start_time": "2022-06-07T16:28:00.545Z"
   },
   {
    "duration": 259,
    "start_time": "2022-06-07T16:28:00.796Z"
   },
   {
    "duration": 7,
    "start_time": "2022-06-07T16:28:01.057Z"
   },
   {
    "duration": 663,
    "start_time": "2022-06-07T16:28:01.065Z"
   },
   {
    "duration": 5,
    "start_time": "2022-06-07T16:28:01.730Z"
   },
   {
    "duration": 340,
    "start_time": "2022-06-07T16:28:01.736Z"
   },
   {
    "duration": 7,
    "start_time": "2022-06-07T16:28:02.077Z"
   },
   {
    "duration": 245,
    "start_time": "2022-06-07T16:28:02.085Z"
   },
   {
    "duration": 5,
    "start_time": "2022-06-07T16:28:02.332Z"
   },
   {
    "duration": 21,
    "start_time": "2022-06-07T16:28:02.338Z"
   },
   {
    "duration": 189,
    "start_time": "2022-06-07T16:28:02.361Z"
   },
   {
    "duration": 16,
    "start_time": "2022-06-07T16:28:02.554Z"
   },
   {
    "duration": 49,
    "start_time": "2022-06-07T16:28:02.572Z"
   },
   {
    "duration": 21,
    "start_time": "2022-06-07T16:28:02.623Z"
   },
   {
    "duration": 62,
    "start_time": "2022-06-07T16:28:02.646Z"
   },
   {
    "duration": 3498,
    "start_time": "2022-06-07T16:28:02.711Z"
   },
   {
    "duration": 15,
    "start_time": "2022-06-07T16:28:06.211Z"
   },
   {
    "duration": 2212,
    "start_time": "2022-06-07T16:28:06.228Z"
   },
   {
    "duration": 20,
    "start_time": "2022-06-07T16:28:08.441Z"
   },
   {
    "duration": 399,
    "start_time": "2022-06-07T16:28:08.470Z"
   },
   {
    "duration": 198,
    "start_time": "2022-06-07T16:28:08.870Z"
   },
   {
    "duration": 175,
    "start_time": "2022-06-07T16:28:09.070Z"
   },
   {
    "duration": 398,
    "start_time": "2022-06-07T16:28:09.247Z"
   },
   {
    "duration": 34,
    "start_time": "2022-06-07T16:28:09.654Z"
   },
   {
    "duration": 10,
    "start_time": "2022-06-07T16:28:09.689Z"
   },
   {
    "duration": 9,
    "start_time": "2022-06-07T16:28:09.700Z"
   },
   {
    "duration": 11,
    "start_time": "2022-06-07T16:28:59.678Z"
   },
   {
    "duration": 16,
    "start_time": "2022-06-07T16:29:05.747Z"
   },
   {
    "duration": 146,
    "start_time": "2022-06-07T16:29:17.242Z"
   },
   {
    "duration": 18,
    "start_time": "2022-06-07T16:29:25.191Z"
   },
   {
    "duration": 172,
    "start_time": "2022-06-07T16:29:36.342Z"
   },
   {
    "duration": 199,
    "start_time": "2022-06-07T16:30:01.753Z"
   },
   {
    "duration": 19,
    "start_time": "2022-06-07T16:30:07.553Z"
   },
   {
    "duration": 166,
    "start_time": "2022-06-07T16:30:13.840Z"
   },
   {
    "duration": 19,
    "start_time": "2022-06-07T16:31:08.388Z"
   },
   {
    "duration": 19,
    "start_time": "2022-06-07T16:31:13.807Z"
   },
   {
    "duration": 192,
    "start_time": "2022-06-07T16:31:20.496Z"
   },
   {
    "duration": 163,
    "start_time": "2022-06-07T16:31:37.736Z"
   },
   {
    "duration": 9,
    "start_time": "2022-06-07T16:31:42.753Z"
   },
   {
    "duration": 191,
    "start_time": "2022-06-07T16:31:57.716Z"
   },
   {
    "duration": 19,
    "start_time": "2022-06-07T16:32:39.611Z"
   },
   {
    "duration": 184,
    "start_time": "2022-06-07T16:32:47.285Z"
   },
   {
    "duration": 160,
    "start_time": "2022-06-07T16:32:59.800Z"
   },
   {
    "duration": 175,
    "start_time": "2022-06-07T16:33:03.944Z"
   },
   {
    "duration": 183,
    "start_time": "2022-06-07T16:36:13.234Z"
   },
   {
    "duration": 260,
    "start_time": "2022-06-07T16:36:32.414Z"
   },
   {
    "duration": 180,
    "start_time": "2022-06-07T16:36:38.382Z"
   },
   {
    "duration": 193,
    "start_time": "2022-06-07T16:37:01.638Z"
   },
   {
    "duration": 24,
    "start_time": "2022-06-07T16:37:19.661Z"
   },
   {
    "duration": 23,
    "start_time": "2022-06-07T16:37:38.401Z"
   },
   {
    "duration": 24,
    "start_time": "2022-06-07T16:37:56.820Z"
   },
   {
    "duration": 23,
    "start_time": "2022-06-07T16:38:32.845Z"
   },
   {
    "duration": 29,
    "start_time": "2022-06-07T16:38:38.201Z"
   },
   {
    "duration": 27,
    "start_time": "2022-06-07T16:38:43.120Z"
   },
   {
    "duration": 225,
    "start_time": "2022-06-07T16:38:55.949Z"
   },
   {
    "duration": 216,
    "start_time": "2022-06-07T16:39:14.425Z"
   },
   {
    "duration": 228,
    "start_time": "2022-06-07T16:40:30.344Z"
   },
   {
    "duration": 782,
    "start_time": "2022-06-07T16:40:35.405Z"
   },
   {
    "duration": 224,
    "start_time": "2022-06-07T16:41:17.469Z"
   },
   {
    "duration": 26,
    "start_time": "2022-06-07T16:41:42.110Z"
   },
   {
    "duration": 185,
    "start_time": "2022-06-07T16:41:49.230Z"
   },
   {
    "duration": 262,
    "start_time": "2022-06-07T16:44:44.481Z"
   },
   {
    "duration": 229,
    "start_time": "2022-06-07T16:45:18.520Z"
   },
   {
    "duration": 23,
    "start_time": "2022-06-07T16:46:19.034Z"
   },
   {
    "duration": 215,
    "start_time": "2022-06-07T16:46:23.051Z"
   },
   {
    "duration": 234,
    "start_time": "2022-06-07T16:46:40.747Z"
   },
   {
    "duration": 6,
    "start_time": "2022-06-07T16:50:39.150Z"
   },
   {
    "duration": 9,
    "start_time": "2022-06-07T17:25:58.462Z"
   },
   {
    "duration": 9,
    "start_time": "2022-06-07T17:26:03.235Z"
   },
   {
    "duration": 20,
    "start_time": "2022-06-07T17:26:06.723Z"
   },
   {
    "duration": 9,
    "start_time": "2022-06-07T17:45:56.931Z"
   },
   {
    "duration": 14,
    "start_time": "2022-06-07T17:46:01.197Z"
   },
   {
    "duration": 13,
    "start_time": "2022-06-07T17:46:16.947Z"
   },
   {
    "duration": 14,
    "start_time": "2022-06-07T17:46:25.546Z"
   },
   {
    "duration": 18,
    "start_time": "2022-06-07T17:47:01.410Z"
   },
   {
    "duration": 305,
    "start_time": "2022-06-07T17:47:12.539Z"
   },
   {
    "duration": 298,
    "start_time": "2022-06-07T17:47:40.291Z"
   },
   {
    "duration": 485,
    "start_time": "2022-06-07T17:48:22.549Z"
   },
   {
    "duration": 313,
    "start_time": "2022-06-07T17:48:40.496Z"
   },
   {
    "duration": 31,
    "start_time": "2022-06-07T17:48:50.993Z"
   },
   {
    "duration": 28,
    "start_time": "2022-06-07T17:49:37.995Z"
   },
   {
    "duration": 21,
    "start_time": "2022-06-07T17:49:43.506Z"
   },
   {
    "duration": 29,
    "start_time": "2022-06-07T17:49:53.033Z"
   },
   {
    "duration": 307,
    "start_time": "2022-06-07T17:50:03.971Z"
   },
   {
    "duration": 38,
    "start_time": "2022-06-07T17:53:49.072Z"
   },
   {
    "duration": 245,
    "start_time": "2022-06-07T17:53:53.236Z"
   },
   {
    "duration": 246,
    "start_time": "2022-06-07T17:54:07.988Z"
   },
   {
    "duration": 239,
    "start_time": "2022-06-07T17:54:19.358Z"
   },
   {
    "duration": 99,
    "start_time": "2022-06-07T17:54:24.566Z"
   },
   {
    "duration": 107,
    "start_time": "2022-06-07T17:54:31.455Z"
   },
   {
    "duration": 190,
    "start_time": "2022-06-07T17:55:41.808Z"
   },
   {
    "duration": 29,
    "start_time": "2022-06-07T17:56:53.863Z"
   },
   {
    "duration": 270,
    "start_time": "2022-06-07T17:58:15.695Z"
   },
   {
    "duration": 266,
    "start_time": "2022-06-07T17:58:20.224Z"
   },
   {
    "duration": 349,
    "start_time": "2022-06-07T17:58:25.777Z"
   },
   {
    "duration": 256,
    "start_time": "2022-06-07T17:58:33.920Z"
   },
   {
    "duration": 271,
    "start_time": "2022-06-07T17:58:42.564Z"
   },
   {
    "duration": 275,
    "start_time": "2022-06-07T17:59:37.907Z"
   },
   {
    "duration": 242,
    "start_time": "2022-06-07T18:00:36.168Z"
   },
   {
    "duration": 289,
    "start_time": "2022-06-07T18:27:17.650Z"
   },
   {
    "duration": 276,
    "start_time": "2022-06-07T18:28:18.366Z"
   },
   {
    "duration": 267,
    "start_time": "2022-06-07T18:32:06.498Z"
   },
   {
    "duration": 19,
    "start_time": "2022-06-07T18:34:41.250Z"
   },
   {
    "duration": 145,
    "start_time": "2022-06-07T18:34:49.436Z"
   },
   {
    "duration": 199,
    "start_time": "2022-06-07T18:34:56.580Z"
   },
   {
    "duration": 196,
    "start_time": "2022-06-07T18:35:19.638Z"
   },
   {
    "duration": 185,
    "start_time": "2022-06-07T18:35:27.290Z"
   },
   {
    "duration": 197,
    "start_time": "2022-06-07T18:35:34.535Z"
   },
   {
    "duration": 202,
    "start_time": "2022-06-07T18:35:48.972Z"
   },
   {
    "duration": 174,
    "start_time": "2022-06-07T18:36:06.371Z"
   },
   {
    "duration": 12,
    "start_time": "2022-06-07T18:40:15.463Z"
   },
   {
    "duration": 184,
    "start_time": "2022-06-07T18:50:14.250Z"
   },
   {
    "duration": 227,
    "start_time": "2022-06-07T18:55:15.872Z"
   },
   {
    "duration": 245,
    "start_time": "2022-06-07T18:57:21.098Z"
   },
   {
    "duration": 226,
    "start_time": "2022-06-07T18:58:06.504Z"
   },
   {
    "duration": 139,
    "start_time": "2022-06-07T19:01:05.868Z"
   },
   {
    "duration": 26,
    "start_time": "2022-06-07T19:04:07.682Z"
   },
   {
    "duration": 16,
    "start_time": "2022-06-07T19:04:13.543Z"
   },
   {
    "duration": 11,
    "start_time": "2022-06-07T19:05:27.363Z"
   },
   {
    "duration": 9,
    "start_time": "2022-06-07T19:06:56.589Z"
   },
   {
    "duration": 208,
    "start_time": "2022-06-07T19:08:35.480Z"
   },
   {
    "duration": 28,
    "start_time": "2022-06-07T19:09:45.645Z"
   },
   {
    "duration": 220,
    "start_time": "2022-06-07T19:13:42.719Z"
   },
   {
    "duration": 452,
    "start_time": "2022-06-07T19:13:54.672Z"
   },
   {
    "duration": 21,
    "start_time": "2022-06-07T19:16:25.452Z"
   },
   {
    "duration": 10,
    "start_time": "2022-06-07T19:16:31.383Z"
   },
   {
    "duration": 400,
    "start_time": "2022-06-07T19:31:42.204Z"
   },
   {
    "duration": 244,
    "start_time": "2022-06-07T19:34:50.144Z"
   },
   {
    "duration": 1198,
    "start_time": "2022-06-07T19:39:50.469Z"
   },
   {
    "duration": 80,
    "start_time": "2022-06-07T19:40:13.428Z"
   },
   {
    "duration": 587,
    "start_time": "2022-06-07T19:40:22.865Z"
   },
   {
    "duration": 284,
    "start_time": "2022-06-07T19:40:45.195Z"
   },
   {
    "duration": 41,
    "start_time": "2022-06-07T19:41:12.403Z"
   },
   {
    "duration": 573,
    "start_time": "2022-06-07T19:41:44.731Z"
   },
   {
    "duration": 820,
    "start_time": "2022-06-07T19:42:41.061Z"
   },
   {
    "duration": 598,
    "start_time": "2022-06-07T19:42:48.769Z"
   },
   {
    "duration": 685,
    "start_time": "2022-06-07T19:43:17.993Z"
   },
   {
    "duration": 10,
    "start_time": "2022-06-07T19:43:44.417Z"
   },
   {
    "duration": 15,
    "start_time": "2022-06-07T19:43:57.113Z"
   },
   {
    "duration": 14,
    "start_time": "2022-06-07T19:44:08.263Z"
   },
   {
    "duration": 10,
    "start_time": "2022-06-07T19:44:26.099Z"
   },
   {
    "duration": 7,
    "start_time": "2022-06-07T19:44:34.209Z"
   },
   {
    "duration": 14,
    "start_time": "2022-06-07T19:44:43.999Z"
   },
   {
    "duration": 4,
    "start_time": "2022-06-07T19:44:51.478Z"
   },
   {
    "duration": 10,
    "start_time": "2022-06-07T19:45:27.403Z"
   },
   {
    "duration": 12,
    "start_time": "2022-06-07T19:45:32.090Z"
   },
   {
    "duration": 15,
    "start_time": "2022-06-07T19:46:11.290Z"
   },
   {
    "duration": 10,
    "start_time": "2022-06-07T19:46:47.885Z"
   },
   {
    "duration": 16,
    "start_time": "2022-06-07T19:47:06.792Z"
   },
   {
    "duration": 16,
    "start_time": "2022-06-07T19:47:14.603Z"
   },
   {
    "duration": 10,
    "start_time": "2022-06-07T19:47:40.611Z"
   },
   {
    "duration": 13,
    "start_time": "2022-06-07T19:47:56.377Z"
   },
   {
    "duration": 82,
    "start_time": "2022-06-07T19:48:10.705Z"
   },
   {
    "duration": 684,
    "start_time": "2022-06-07T19:48:15.508Z"
   },
   {
    "duration": 200,
    "start_time": "2022-06-07T19:49:16.260Z"
   },
   {
    "duration": 359,
    "start_time": "2022-06-07T19:49:26.057Z"
   },
   {
    "duration": 511,
    "start_time": "2022-06-07T19:49:34.882Z"
   },
   {
    "duration": 524,
    "start_time": "2022-06-07T19:50:08.551Z"
   },
   {
    "duration": 465,
    "start_time": "2022-06-07T19:50:46.602Z"
   },
   {
    "duration": 392,
    "start_time": "2022-06-07T19:50:51.769Z"
   },
   {
    "duration": 20,
    "start_time": "2022-06-07T19:51:19.181Z"
   },
   {
    "duration": 16,
    "start_time": "2022-06-07T19:51:22.301Z"
   },
   {
    "duration": 16,
    "start_time": "2022-06-07T19:51:33.666Z"
   },
   {
    "duration": 18,
    "start_time": "2022-06-07T19:51:41.463Z"
   },
   {
    "duration": 15,
    "start_time": "2022-06-07T19:51:51.011Z"
   },
   {
    "duration": 364,
    "start_time": "2022-06-07T19:53:19.011Z"
   },
   {
    "duration": 360,
    "start_time": "2022-06-07T19:53:28.906Z"
   },
   {
    "duration": 361,
    "start_time": "2022-06-07T19:53:37.053Z"
   },
   {
    "duration": 345,
    "start_time": "2022-06-07T19:53:42.673Z"
   },
   {
    "duration": 360,
    "start_time": "2022-06-07T19:53:48.258Z"
   },
   {
    "duration": 449,
    "start_time": "2022-06-07T19:53:58.468Z"
   },
   {
    "duration": 5,
    "start_time": "2022-06-07T19:55:59.061Z"
   },
   {
    "duration": 261,
    "start_time": "2022-06-07T19:56:59.896Z"
   },
   {
    "duration": 444,
    "start_time": "2022-06-07T19:57:07.890Z"
   },
   {
    "duration": 341,
    "start_time": "2022-06-07T19:58:55.661Z"
   },
   {
    "duration": 3,
    "start_time": "2022-06-07T19:59:00.998Z"
   },
   {
    "duration": 115,
    "start_time": "2022-06-07T19:59:01.003Z"
   },
   {
    "duration": 31,
    "start_time": "2022-06-07T19:59:01.119Z"
   },
   {
    "duration": 3,
    "start_time": "2022-06-07T19:59:01.151Z"
   },
   {
    "duration": 41,
    "start_time": "2022-06-07T19:59:01.156Z"
   },
   {
    "duration": 12,
    "start_time": "2022-06-07T19:59:01.199Z"
   },
   {
    "duration": 13,
    "start_time": "2022-06-07T19:59:01.213Z"
   },
   {
    "duration": 18,
    "start_time": "2022-06-07T19:59:01.227Z"
   },
   {
    "duration": 13,
    "start_time": "2022-06-07T19:59:01.247Z"
   },
   {
    "duration": 37,
    "start_time": "2022-06-07T19:59:01.262Z"
   },
   {
    "duration": 51,
    "start_time": "2022-06-07T19:59:01.300Z"
   },
   {
    "duration": 49,
    "start_time": "2022-06-07T19:59:01.352Z"
   },
   {
    "duration": 58,
    "start_time": "2022-06-07T19:59:01.403Z"
   },
   {
    "duration": 52,
    "start_time": "2022-06-07T19:59:01.465Z"
   },
   {
    "duration": 17,
    "start_time": "2022-06-07T19:59:01.519Z"
   },
   {
    "duration": 24,
    "start_time": "2022-06-07T19:59:01.538Z"
   },
   {
    "duration": 36,
    "start_time": "2022-06-07T19:59:01.563Z"
   },
   {
    "duration": 249,
    "start_time": "2022-06-07T19:59:01.600Z"
   },
   {
    "duration": 306,
    "start_time": "2022-06-07T19:59:01.850Z"
   },
   {
    "duration": 5,
    "start_time": "2022-06-07T19:59:02.157Z"
   },
   {
    "duration": 38,
    "start_time": "2022-06-07T19:59:02.164Z"
   },
   {
    "duration": 273,
    "start_time": "2022-06-07T19:59:02.204Z"
   },
   {
    "duration": 310,
    "start_time": "2022-06-07T19:59:02.479Z"
   },
   {
    "duration": 5,
    "start_time": "2022-06-07T19:59:02.790Z"
   },
   {
    "duration": 290,
    "start_time": "2022-06-07T19:59:02.796Z"
   },
   {
    "duration": 5,
    "start_time": "2022-06-07T19:59:03.087Z"
   },
   {
    "duration": 259,
    "start_time": "2022-06-07T19:59:03.093Z"
   },
   {
    "duration": 5,
    "start_time": "2022-06-07T19:59:03.353Z"
   },
   {
    "duration": 262,
    "start_time": "2022-06-07T19:59:03.359Z"
   },
   {
    "duration": 4,
    "start_time": "2022-06-07T19:59:03.623Z"
   },
   {
    "duration": 6,
    "start_time": "2022-06-07T19:59:03.629Z"
   },
   {
    "duration": 245,
    "start_time": "2022-06-07T19:59:03.636Z"
   },
   {
    "duration": 5,
    "start_time": "2022-06-07T19:59:03.883Z"
   },
   {
    "duration": 6,
    "start_time": "2022-06-07T19:59:03.889Z"
   },
   {
    "duration": 19,
    "start_time": "2022-06-07T19:59:03.897Z"
   },
   {
    "duration": 60,
    "start_time": "2022-06-07T19:59:03.918Z"
   },
   {
    "duration": 4001,
    "start_time": "2022-06-07T19:59:03.979Z"
   },
   {
    "duration": 16,
    "start_time": "2022-06-07T19:59:07.981Z"
   },
   {
    "duration": 2339,
    "start_time": "2022-06-07T19:59:07.999Z"
   },
   {
    "duration": 3,
    "start_time": "2022-06-07T19:59:10.340Z"
   },
   {
    "duration": 385,
    "start_time": "2022-06-07T19:59:10.351Z"
   },
   {
    "duration": 239,
    "start_time": "2022-06-07T19:59:10.738Z"
   },
   {
    "duration": 232,
    "start_time": "2022-06-07T19:59:10.979Z"
   },
   {
    "duration": 359,
    "start_time": "2022-06-07T19:59:11.213Z"
   },
   {
    "duration": 25,
    "start_time": "2022-06-07T19:59:11.573Z"
   },
   {
    "duration": 7,
    "start_time": "2022-06-07T19:59:11.599Z"
   },
   {
    "duration": 14,
    "start_time": "2022-06-07T19:59:11.608Z"
   },
   {
    "duration": 222,
    "start_time": "2022-06-07T19:59:11.624Z"
   },
   {
    "duration": 250,
    "start_time": "2022-06-07T19:59:11.848Z"
   },
   {
    "duration": 18,
    "start_time": "2022-06-07T19:59:12.099Z"
   },
   {
    "duration": 306,
    "start_time": "2022-06-07T19:59:12.119Z"
   },
   {
    "duration": 309,
    "start_time": "2022-06-07T19:59:12.426Z"
   },
   {
    "duration": 375,
    "start_time": "2022-06-07T19:59:12.736Z"
   },
   {
    "duration": 0,
    "start_time": "2022-06-07T19:59:13.112Z"
   },
   {
    "duration": 0,
    "start_time": "2022-06-07T19:59:13.114Z"
   },
   {
    "duration": 354,
    "start_time": "2022-06-07T19:59:36.314Z"
   },
   {
    "duration": 451,
    "start_time": "2022-06-07T20:00:19.796Z"
   },
   {
    "duration": 3,
    "start_time": "2022-06-07T20:00:24.330Z"
   },
   {
    "duration": 49,
    "start_time": "2022-06-07T20:00:24.335Z"
   },
   {
    "duration": 30,
    "start_time": "2022-06-07T20:00:24.385Z"
   },
   {
    "duration": 2,
    "start_time": "2022-06-07T20:00:24.417Z"
   },
   {
    "duration": 17,
    "start_time": "2022-06-07T20:00:24.421Z"
   },
   {
    "duration": 8,
    "start_time": "2022-06-07T20:00:24.452Z"
   },
   {
    "duration": 5,
    "start_time": "2022-06-07T20:00:24.462Z"
   },
   {
    "duration": 7,
    "start_time": "2022-06-07T20:00:24.469Z"
   },
   {
    "duration": 8,
    "start_time": "2022-06-07T20:00:24.478Z"
   },
   {
    "duration": 12,
    "start_time": "2022-06-07T20:00:24.487Z"
   },
   {
    "duration": 9,
    "start_time": "2022-06-07T20:00:24.501Z"
   },
   {
    "duration": 44,
    "start_time": "2022-06-07T20:00:24.512Z"
   },
   {
    "duration": 10,
    "start_time": "2022-06-07T20:00:24.558Z"
   },
   {
    "duration": 25,
    "start_time": "2022-06-07T20:00:24.569Z"
   },
   {
    "duration": 7,
    "start_time": "2022-06-07T20:00:24.596Z"
   },
   {
    "duration": 12,
    "start_time": "2022-06-07T20:00:24.604Z"
   },
   {
    "duration": 7,
    "start_time": "2022-06-07T20:00:24.617Z"
   },
   {
    "duration": 250,
    "start_time": "2022-06-07T20:00:24.626Z"
   },
   {
    "duration": 297,
    "start_time": "2022-06-07T20:00:24.877Z"
   },
   {
    "duration": 7,
    "start_time": "2022-06-07T20:00:25.176Z"
   },
   {
    "duration": 8,
    "start_time": "2022-06-07T20:00:25.184Z"
   },
   {
    "duration": 359,
    "start_time": "2022-06-07T20:00:25.194Z"
   },
   {
    "duration": 283,
    "start_time": "2022-06-07T20:00:25.555Z"
   },
   {
    "duration": 12,
    "start_time": "2022-06-07T20:00:25.840Z"
   },
   {
    "duration": 286,
    "start_time": "2022-06-07T20:00:25.853Z"
   },
   {
    "duration": 11,
    "start_time": "2022-06-07T20:00:26.141Z"
   },
   {
    "duration": 262,
    "start_time": "2022-06-07T20:00:26.154Z"
   },
   {
    "duration": 6,
    "start_time": "2022-06-07T20:00:26.418Z"
   },
   {
    "duration": 274,
    "start_time": "2022-06-07T20:00:26.426Z"
   },
   {
    "duration": 4,
    "start_time": "2022-06-07T20:00:26.702Z"
   },
   {
    "duration": 7,
    "start_time": "2022-06-07T20:00:26.708Z"
   },
   {
    "duration": 250,
    "start_time": "2022-06-07T20:00:26.717Z"
   },
   {
    "duration": 6,
    "start_time": "2022-06-07T20:00:26.968Z"
   },
   {
    "duration": 20,
    "start_time": "2022-06-07T20:00:26.975Z"
   },
   {
    "duration": 38,
    "start_time": "2022-06-07T20:00:26.996Z"
   },
   {
    "duration": 50,
    "start_time": "2022-06-07T20:00:27.035Z"
   },
   {
    "duration": 3285,
    "start_time": "2022-06-07T20:00:27.089Z"
   },
   {
    "duration": 18,
    "start_time": "2022-06-07T20:00:30.376Z"
   },
   {
    "duration": 3069,
    "start_time": "2022-06-07T20:00:30.396Z"
   },
   {
    "duration": 3,
    "start_time": "2022-06-07T20:00:33.467Z"
   },
   {
    "duration": 428,
    "start_time": "2022-06-07T20:00:33.471Z"
   },
   {
    "duration": 262,
    "start_time": "2022-06-07T20:00:33.901Z"
   },
   {
    "duration": 267,
    "start_time": "2022-06-07T20:00:34.165Z"
   },
   {
    "duration": 381,
    "start_time": "2022-06-07T20:00:34.434Z"
   },
   {
    "duration": 42,
    "start_time": "2022-06-07T20:00:34.817Z"
   },
   {
    "duration": 7,
    "start_time": "2022-06-07T20:00:34.861Z"
   },
   {
    "duration": 8,
    "start_time": "2022-06-07T20:00:34.870Z"
   },
   {
    "duration": 253,
    "start_time": "2022-06-07T20:00:34.879Z"
   },
   {
    "duration": 351,
    "start_time": "2022-06-07T20:00:35.134Z"
   },
   {
    "duration": 18,
    "start_time": "2022-06-07T20:00:35.487Z"
   },
   {
    "duration": 295,
    "start_time": "2022-06-07T20:00:35.507Z"
   },
   {
    "duration": 266,
    "start_time": "2022-06-07T20:00:35.803Z"
   },
   {
    "duration": 398,
    "start_time": "2022-06-07T20:00:36.070Z"
   },
   {
    "duration": 0,
    "start_time": "2022-06-07T20:00:36.470Z"
   },
   {
    "duration": 0,
    "start_time": "2022-06-07T20:00:36.471Z"
   },
   {
    "duration": 287,
    "start_time": "2022-06-07T20:01:12.218Z"
   },
   {
    "duration": 267,
    "start_time": "2022-06-07T20:01:21.181Z"
   },
   {
    "duration": 358,
    "start_time": "2022-06-07T20:01:28.657Z"
   },
   {
    "duration": 259,
    "start_time": "2022-06-07T20:01:38.218Z"
   },
   {
    "duration": 273,
    "start_time": "2022-06-07T20:02:07.520Z"
   },
   {
    "duration": 264,
    "start_time": "2022-06-07T20:02:19.299Z"
   },
   {
    "duration": 426,
    "start_time": "2022-06-07T20:02:22.647Z"
   },
   {
    "duration": 451,
    "start_time": "2022-06-07T20:02:29.212Z"
   },
   {
    "duration": 240,
    "start_time": "2022-06-07T20:03:08.357Z"
   },
   {
    "duration": 3,
    "start_time": "2022-06-07T20:04:22.156Z"
   },
   {
    "duration": 294,
    "start_time": "2022-06-07T20:04:52.165Z"
   },
   {
    "duration": 8,
    "start_time": "2022-06-07T20:12:36.556Z"
   },
   {
    "duration": 3,
    "start_time": "2022-06-07T20:12:48.353Z"
   },
   {
    "duration": 10,
    "start_time": "2022-06-07T20:12:52.461Z"
   },
   {
    "duration": 19,
    "start_time": "2022-06-07T20:13:55.316Z"
   },
   {
    "duration": 13,
    "start_time": "2022-06-07T20:14:53.592Z"
   },
   {
    "duration": 15,
    "start_time": "2022-06-07T20:15:33.472Z"
   },
   {
    "duration": 15,
    "start_time": "2022-06-07T20:17:30.597Z"
   },
   {
    "duration": 16,
    "start_time": "2022-06-07T20:17:54.421Z"
   },
   {
    "duration": 3,
    "start_time": "2022-06-07T20:27:01.786Z"
   },
   {
    "duration": 66,
    "start_time": "2022-06-07T20:27:01.791Z"
   },
   {
    "duration": 42,
    "start_time": "2022-06-07T20:27:01.860Z"
   },
   {
    "duration": 3,
    "start_time": "2022-06-07T20:27:01.905Z"
   },
   {
    "duration": 28,
    "start_time": "2022-06-07T20:27:01.910Z"
   },
   {
    "duration": 20,
    "start_time": "2022-06-07T20:27:01.940Z"
   },
   {
    "duration": 38,
    "start_time": "2022-06-07T20:27:01.962Z"
   },
   {
    "duration": 11,
    "start_time": "2022-06-07T20:27:02.002Z"
   },
   {
    "duration": 25,
    "start_time": "2022-06-07T20:27:02.017Z"
   },
   {
    "duration": 24,
    "start_time": "2022-06-07T20:27:02.044Z"
   },
   {
    "duration": 14,
    "start_time": "2022-06-07T20:27:02.070Z"
   },
   {
    "duration": 16,
    "start_time": "2022-06-07T20:27:02.086Z"
   },
   {
    "duration": 6,
    "start_time": "2022-06-07T20:27:02.103Z"
   },
   {
    "duration": 46,
    "start_time": "2022-06-07T20:27:02.111Z"
   },
   {
    "duration": 19,
    "start_time": "2022-06-07T20:27:02.162Z"
   },
   {
    "duration": 14,
    "start_time": "2022-06-07T20:27:02.183Z"
   },
   {
    "duration": 30,
    "start_time": "2022-06-07T20:27:02.199Z"
   },
   {
    "duration": 252,
    "start_time": "2022-06-07T20:27:02.231Z"
   },
   {
    "duration": 316,
    "start_time": "2022-06-07T20:27:02.484Z"
   },
   {
    "duration": 6,
    "start_time": "2022-06-07T20:27:02.801Z"
   },
   {
    "duration": 29,
    "start_time": "2022-06-07T20:27:02.808Z"
   },
   {
    "duration": 285,
    "start_time": "2022-06-07T20:27:02.838Z"
   },
   {
    "duration": 296,
    "start_time": "2022-06-07T20:27:03.125Z"
   },
   {
    "duration": 5,
    "start_time": "2022-06-07T20:27:03.426Z"
   },
   {
    "duration": 292,
    "start_time": "2022-06-07T20:27:03.433Z"
   },
   {
    "duration": 6,
    "start_time": "2022-06-07T20:27:03.727Z"
   },
   {
    "duration": 258,
    "start_time": "2022-06-07T20:27:03.734Z"
   },
   {
    "duration": 5,
    "start_time": "2022-06-07T20:27:03.994Z"
   },
   {
    "duration": 281,
    "start_time": "2022-06-07T20:27:04.001Z"
   },
   {
    "duration": 5,
    "start_time": "2022-06-07T20:27:04.284Z"
   },
   {
    "duration": 9,
    "start_time": "2022-06-07T20:27:04.290Z"
   },
   {
    "duration": 250,
    "start_time": "2022-06-07T20:27:04.300Z"
   },
   {
    "duration": 6,
    "start_time": "2022-06-07T20:27:04.551Z"
   },
   {
    "duration": 10,
    "start_time": "2022-06-07T20:27:04.558Z"
   },
   {
    "duration": 21,
    "start_time": "2022-06-07T20:27:04.570Z"
   },
   {
    "duration": 45,
    "start_time": "2022-06-07T20:27:04.592Z"
   },
   {
    "duration": 3398,
    "start_time": "2022-06-07T20:27:04.652Z"
   },
   {
    "duration": 16,
    "start_time": "2022-06-07T20:27:08.052Z"
   },
   {
    "duration": 2495,
    "start_time": "2022-06-07T20:27:08.070Z"
   },
   {
    "duration": 2,
    "start_time": "2022-06-07T20:27:10.567Z"
   },
   {
    "duration": 429,
    "start_time": "2022-06-07T20:27:10.571Z"
   },
   {
    "duration": 238,
    "start_time": "2022-06-07T20:27:11.001Z"
   },
   {
    "duration": 239,
    "start_time": "2022-06-07T20:27:11.241Z"
   },
   {
    "duration": 342,
    "start_time": "2022-06-07T20:27:11.482Z"
   },
   {
    "duration": 33,
    "start_time": "2022-06-07T20:27:11.826Z"
   },
   {
    "duration": 7,
    "start_time": "2022-06-07T20:27:11.860Z"
   },
   {
    "duration": 7,
    "start_time": "2022-06-07T20:27:11.868Z"
   },
   {
    "duration": 1067,
    "start_time": "2022-06-07T20:27:11.877Z"
   },
   {
    "duration": 290,
    "start_time": "2022-06-07T20:27:12.945Z"
   },
   {
    "duration": 16,
    "start_time": "2022-06-07T20:27:13.237Z"
   },
   {
    "duration": 291,
    "start_time": "2022-06-07T20:27:13.255Z"
   },
   {
    "duration": 290,
    "start_time": "2022-06-07T20:27:13.548Z"
   },
   {
    "duration": 278,
    "start_time": "2022-06-07T20:27:13.839Z"
   },
   {
    "duration": 489,
    "start_time": "2022-06-07T20:27:14.119Z"
   },
   {
    "duration": 17,
    "start_time": "2022-06-07T20:27:14.609Z"
   },
   {
    "duration": 38,
    "start_time": "2022-06-07T20:27:14.627Z"
   },
   {
    "duration": 10,
    "start_time": "2022-06-07T20:28:42.381Z"
   },
   {
    "duration": 3,
    "start_time": "2022-06-07T20:29:04.748Z"
   },
   {
    "duration": 6,
    "start_time": "2022-06-07T20:30:00.666Z"
   },
   {
    "duration": 16,
    "start_time": "2022-06-07T20:30:35.960Z"
   },
   {
    "duration": 8,
    "start_time": "2022-06-07T20:32:29.260Z"
   },
   {
    "duration": 25,
    "start_time": "2022-06-07T20:35:52.731Z"
   },
   {
    "duration": 5,
    "start_time": "2022-06-07T20:37:59.270Z"
   },
   {
    "duration": 4,
    "start_time": "2022-06-07T20:38:21.456Z"
   },
   {
    "duration": 3,
    "start_time": "2022-06-07T20:38:25.731Z"
   },
   {
    "duration": 56,
    "start_time": "2022-06-07T20:38:25.736Z"
   },
   {
    "duration": 27,
    "start_time": "2022-06-07T20:38:25.793Z"
   },
   {
    "duration": 4,
    "start_time": "2022-06-07T20:38:25.822Z"
   },
   {
    "duration": 22,
    "start_time": "2022-06-07T20:38:25.827Z"
   },
   {
    "duration": 13,
    "start_time": "2022-06-07T20:38:25.850Z"
   },
   {
    "duration": 34,
    "start_time": "2022-06-07T20:38:25.864Z"
   },
   {
    "duration": 20,
    "start_time": "2022-06-07T20:38:25.900Z"
   },
   {
    "duration": 24,
    "start_time": "2022-06-07T20:38:25.922Z"
   },
   {
    "duration": 29,
    "start_time": "2022-06-07T20:38:25.947Z"
   },
   {
    "duration": 10,
    "start_time": "2022-06-07T20:38:25.978Z"
   },
   {
    "duration": 38,
    "start_time": "2022-06-07T20:38:25.990Z"
   },
   {
    "duration": 8,
    "start_time": "2022-06-07T20:38:26.030Z"
   },
   {
    "duration": 6,
    "start_time": "2022-06-07T20:38:26.040Z"
   },
   {
    "duration": 9,
    "start_time": "2022-06-07T20:38:26.047Z"
   },
   {
    "duration": 243,
    "start_time": "2022-06-07T20:38:26.057Z"
   },
   {
    "duration": 301,
    "start_time": "2022-06-07T20:38:26.302Z"
   },
   {
    "duration": 6,
    "start_time": "2022-06-07T20:38:26.604Z"
   },
   {
    "duration": 11,
    "start_time": "2022-06-07T20:38:26.611Z"
   },
   {
    "duration": 286,
    "start_time": "2022-06-07T20:38:26.623Z"
   },
   {
    "duration": 286,
    "start_time": "2022-06-07T20:38:26.910Z"
   },
   {
    "duration": 5,
    "start_time": "2022-06-07T20:38:27.198Z"
   },
   {
    "duration": 288,
    "start_time": "2022-06-07T20:38:27.204Z"
   },
   {
    "duration": 6,
    "start_time": "2022-06-07T20:38:27.494Z"
   },
   {
    "duration": 283,
    "start_time": "2022-06-07T20:38:27.501Z"
   },
   {
    "duration": 4,
    "start_time": "2022-06-07T20:38:27.786Z"
   },
   {
    "duration": 268,
    "start_time": "2022-06-07T20:38:27.792Z"
   },
   {
    "duration": 4,
    "start_time": "2022-06-07T20:38:28.062Z"
   },
   {
    "duration": 7,
    "start_time": "2022-06-07T20:38:28.068Z"
   },
   {
    "duration": 254,
    "start_time": "2022-06-07T20:38:28.076Z"
   },
   {
    "duration": 6,
    "start_time": "2022-06-07T20:38:28.331Z"
   },
   {
    "duration": 14,
    "start_time": "2022-06-07T20:38:28.338Z"
   },
   {
    "duration": 19,
    "start_time": "2022-06-07T20:38:28.353Z"
   },
   {
    "duration": 44,
    "start_time": "2022-06-07T20:38:28.373Z"
   },
   {
    "duration": 3451,
    "start_time": "2022-06-07T20:38:28.418Z"
   },
   {
    "duration": 16,
    "start_time": "2022-06-07T20:38:31.871Z"
   },
   {
    "duration": 2498,
    "start_time": "2022-06-07T20:38:31.889Z"
   },
   {
    "duration": 3,
    "start_time": "2022-06-07T20:38:34.388Z"
   },
   {
    "duration": 435,
    "start_time": "2022-06-07T20:38:34.393Z"
   },
   {
    "duration": 250,
    "start_time": "2022-06-07T20:38:34.830Z"
   },
   {
    "duration": 315,
    "start_time": "2022-06-07T20:38:35.083Z"
   },
   {
    "duration": 379,
    "start_time": "2022-06-07T20:38:35.400Z"
   },
   {
    "duration": 23,
    "start_time": "2022-06-07T20:38:35.781Z"
   },
   {
    "duration": 7,
    "start_time": "2022-06-07T20:38:35.806Z"
   },
   {
    "duration": 7,
    "start_time": "2022-06-07T20:38:35.814Z"
   },
   {
    "duration": 238,
    "start_time": "2022-06-07T20:38:35.823Z"
   },
   {
    "duration": 265,
    "start_time": "2022-06-07T20:38:36.064Z"
   },
   {
    "duration": 10,
    "start_time": "2022-06-07T20:38:36.331Z"
   },
   {
    "duration": 306,
    "start_time": "2022-06-07T20:38:36.342Z"
   },
   {
    "duration": 280,
    "start_time": "2022-06-07T20:38:36.649Z"
   },
   {
    "duration": 262,
    "start_time": "2022-06-07T20:38:36.930Z"
   },
   {
    "duration": 463,
    "start_time": "2022-06-07T20:38:37.193Z"
   },
   {
    "duration": 15,
    "start_time": "2022-06-07T20:38:37.657Z"
   },
   {
    "duration": 14,
    "start_time": "2022-06-07T20:38:37.674Z"
   },
   {
    "duration": 3,
    "start_time": "2022-06-07T21:03:10.793Z"
   },
   {
    "duration": 50,
    "start_time": "2022-06-07T21:03:10.798Z"
   },
   {
    "duration": 31,
    "start_time": "2022-06-07T21:03:10.849Z"
   },
   {
    "duration": 3,
    "start_time": "2022-06-07T21:03:10.881Z"
   },
   {
    "duration": 15,
    "start_time": "2022-06-07T21:03:10.886Z"
   },
   {
    "duration": 9,
    "start_time": "2022-06-07T21:03:10.903Z"
   },
   {
    "duration": 8,
    "start_time": "2022-06-07T21:03:10.913Z"
   },
   {
    "duration": 7,
    "start_time": "2022-06-07T21:03:10.923Z"
   },
   {
    "duration": 25,
    "start_time": "2022-06-07T21:03:10.932Z"
   },
   {
    "duration": 18,
    "start_time": "2022-06-07T21:03:10.958Z"
   },
   {
    "duration": 6,
    "start_time": "2022-06-07T21:03:10.977Z"
   },
   {
    "duration": 23,
    "start_time": "2022-06-07T21:03:10.984Z"
   },
   {
    "duration": 6,
    "start_time": "2022-06-07T21:03:11.009Z"
   },
   {
    "duration": 36,
    "start_time": "2022-06-07T21:03:11.017Z"
   },
   {
    "duration": 4,
    "start_time": "2022-06-07T21:03:11.055Z"
   },
   {
    "duration": 246,
    "start_time": "2022-06-07T21:03:11.060Z"
   },
   {
    "duration": 289,
    "start_time": "2022-06-07T21:03:11.307Z"
   },
   {
    "duration": 4,
    "start_time": "2022-06-07T21:03:11.598Z"
   },
   {
    "duration": 8,
    "start_time": "2022-06-07T21:03:11.603Z"
   },
   {
    "duration": 289,
    "start_time": "2022-06-07T21:03:11.613Z"
   },
   {
    "duration": 295,
    "start_time": "2022-06-07T21:03:11.904Z"
   },
   {
    "duration": 4,
    "start_time": "2022-06-07T21:03:12.201Z"
   },
   {
    "duration": 321,
    "start_time": "2022-06-07T21:03:12.207Z"
   },
   {
    "duration": 5,
    "start_time": "2022-06-07T21:03:12.532Z"
   },
   {
    "duration": 302,
    "start_time": "2022-06-07T21:03:12.539Z"
   },
   {
    "duration": 10,
    "start_time": "2022-06-07T21:03:12.842Z"
   },
   {
    "duration": 265,
    "start_time": "2022-06-07T21:03:12.853Z"
   },
   {
    "duration": 5,
    "start_time": "2022-06-07T21:03:13.119Z"
   },
   {
    "duration": 9,
    "start_time": "2022-06-07T21:03:13.126Z"
   },
   {
    "duration": 264,
    "start_time": "2022-06-07T21:03:13.137Z"
   },
   {
    "duration": 5,
    "start_time": "2022-06-07T21:03:13.403Z"
   },
   {
    "duration": 10,
    "start_time": "2022-06-07T21:03:13.409Z"
   },
   {
    "duration": 35,
    "start_time": "2022-06-07T21:03:13.420Z"
   },
   {
    "duration": 53,
    "start_time": "2022-06-07T21:03:13.457Z"
   },
   {
    "duration": 3677,
    "start_time": "2022-06-07T21:03:13.511Z"
   },
   {
    "duration": 16,
    "start_time": "2022-06-07T21:03:17.190Z"
   },
   {
    "duration": 3266,
    "start_time": "2022-06-07T21:03:17.208Z"
   },
   {
    "duration": 424,
    "start_time": "2022-06-07T21:03:20.475Z"
   },
   {
    "duration": 248,
    "start_time": "2022-06-07T21:03:20.901Z"
   },
   {
    "duration": 244,
    "start_time": "2022-06-07T21:03:21.152Z"
   },
   {
    "duration": 357,
    "start_time": "2022-06-07T21:03:21.398Z"
   },
   {
    "duration": 26,
    "start_time": "2022-06-07T21:03:21.757Z"
   },
   {
    "duration": 8,
    "start_time": "2022-06-07T21:03:21.785Z"
   },
   {
    "duration": 6,
    "start_time": "2022-06-07T21:03:21.795Z"
   },
   {
    "duration": 254,
    "start_time": "2022-06-07T21:03:21.803Z"
   },
   {
    "duration": 300,
    "start_time": "2022-06-07T21:03:22.059Z"
   },
   {
    "duration": 13,
    "start_time": "2022-06-07T21:03:22.361Z"
   },
   {
    "duration": 366,
    "start_time": "2022-06-07T21:03:22.375Z"
   },
   {
    "duration": 332,
    "start_time": "2022-06-07T21:03:22.743Z"
   },
   {
    "duration": 283,
    "start_time": "2022-06-07T21:03:23.077Z"
   },
   {
    "duration": 468,
    "start_time": "2022-06-07T21:03:23.361Z"
   },
   {
    "duration": 24,
    "start_time": "2022-06-07T21:03:23.831Z"
   },
   {
    "duration": 15,
    "start_time": "2022-06-07T21:03:23.856Z"
   },
   {
    "duration": 3,
    "start_time": "2022-06-07T21:55:03.866Z"
   },
   {
    "duration": 82,
    "start_time": "2022-06-07T21:55:03.872Z"
   },
   {
    "duration": 44,
    "start_time": "2022-06-07T21:55:03.956Z"
   },
   {
    "duration": 4,
    "start_time": "2022-06-07T21:55:04.002Z"
   },
   {
    "duration": 22,
    "start_time": "2022-06-07T21:55:04.009Z"
   },
   {
    "duration": 26,
    "start_time": "2022-06-07T21:55:04.032Z"
   },
   {
    "duration": 20,
    "start_time": "2022-06-07T21:55:04.060Z"
   },
   {
    "duration": 26,
    "start_time": "2022-06-07T21:55:04.082Z"
   },
   {
    "duration": 32,
    "start_time": "2022-06-07T21:55:04.109Z"
   },
   {
    "duration": 33,
    "start_time": "2022-06-07T21:55:04.144Z"
   },
   {
    "duration": 14,
    "start_time": "2022-06-07T21:55:04.179Z"
   },
   {
    "duration": 26,
    "start_time": "2022-06-07T21:55:04.194Z"
   },
   {
    "duration": 8,
    "start_time": "2022-06-07T21:55:04.222Z"
   },
   {
    "duration": 13,
    "start_time": "2022-06-07T21:55:04.233Z"
   },
   {
    "duration": 22,
    "start_time": "2022-06-07T21:55:04.248Z"
   },
   {
    "duration": 250,
    "start_time": "2022-06-07T21:55:04.272Z"
   },
   {
    "duration": 298,
    "start_time": "2022-06-07T21:55:04.524Z"
   },
   {
    "duration": 6,
    "start_time": "2022-06-07T21:55:04.823Z"
   },
   {
    "duration": 20,
    "start_time": "2022-06-07T21:55:04.831Z"
   },
   {
    "duration": 297,
    "start_time": "2022-06-07T21:55:04.852Z"
   },
   {
    "duration": 388,
    "start_time": "2022-06-07T21:55:05.151Z"
   },
   {
    "duration": 11,
    "start_time": "2022-06-07T21:55:05.541Z"
   },
   {
    "duration": 340,
    "start_time": "2022-06-07T21:55:05.553Z"
   },
   {
    "duration": 5,
    "start_time": "2022-06-07T21:55:05.895Z"
   },
   {
    "duration": 286,
    "start_time": "2022-06-07T21:55:05.901Z"
   },
   {
    "duration": 4,
    "start_time": "2022-06-07T21:55:06.189Z"
   },
   {
    "duration": 269,
    "start_time": "2022-06-07T21:55:06.195Z"
   },
   {
    "duration": 4,
    "start_time": "2022-06-07T21:55:06.466Z"
   },
   {
    "duration": 27,
    "start_time": "2022-06-07T21:55:06.472Z"
   },
   {
    "duration": 248,
    "start_time": "2022-06-07T21:55:06.500Z"
   },
   {
    "duration": 5,
    "start_time": "2022-06-07T21:55:06.751Z"
   },
   {
    "duration": 31,
    "start_time": "2022-06-07T21:55:06.757Z"
   },
   {
    "duration": 27,
    "start_time": "2022-06-07T21:55:06.789Z"
   },
   {
    "duration": 45,
    "start_time": "2022-06-07T21:55:06.817Z"
   },
   {
    "duration": 3820,
    "start_time": "2022-06-07T21:55:06.863Z"
   },
   {
    "duration": 15,
    "start_time": "2022-06-07T21:55:10.684Z"
   },
   {
    "duration": 2471,
    "start_time": "2022-06-07T21:55:10.701Z"
   },
   {
    "duration": 415,
    "start_time": "2022-06-07T21:55:13.173Z"
   },
   {
    "duration": 251,
    "start_time": "2022-06-07T21:55:13.590Z"
   },
   {
    "duration": 242,
    "start_time": "2022-06-07T21:55:13.843Z"
   },
   {
    "duration": 399,
    "start_time": "2022-06-07T21:55:14.089Z"
   },
   {
    "duration": 6,
    "start_time": "2022-06-07T21:55:14.490Z"
   },
   {
    "duration": 237,
    "start_time": "2022-06-07T21:55:14.498Z"
   },
   {
    "duration": 261,
    "start_time": "2022-06-07T21:55:14.737Z"
   },
   {
    "duration": 10,
    "start_time": "2022-06-07T21:55:15.000Z"
   },
   {
    "duration": 344,
    "start_time": "2022-06-07T21:55:15.012Z"
   },
   {
    "duration": 313,
    "start_time": "2022-06-07T21:55:15.359Z"
   },
   {
    "duration": 273,
    "start_time": "2022-06-07T21:55:15.674Z"
   },
   {
    "duration": 491,
    "start_time": "2022-06-07T21:55:15.948Z"
   },
   {
    "duration": 20,
    "start_time": "2022-06-07T21:55:16.440Z"
   },
   {
    "duration": 20,
    "start_time": "2022-06-07T21:55:16.461Z"
   },
   {
    "duration": 1398,
    "start_time": "2022-06-08T19:49:59.620Z"
   },
   {
    "duration": 112,
    "start_time": "2022-06-08T19:50:01.021Z"
   },
   {
    "duration": 41,
    "start_time": "2022-06-08T19:50:01.135Z"
   },
   {
    "duration": 3,
    "start_time": "2022-06-08T19:50:01.178Z"
   },
   {
    "duration": 16,
    "start_time": "2022-06-08T19:50:01.183Z"
   },
   {
    "duration": 4,
    "start_time": "2022-06-08T19:50:01.200Z"
   },
   {
    "duration": 8,
    "start_time": "2022-06-08T19:50:01.206Z"
   },
   {
    "duration": 9,
    "start_time": "2022-06-08T19:50:01.216Z"
   },
   {
    "duration": 40,
    "start_time": "2022-06-08T19:50:01.227Z"
   },
   {
    "duration": 17,
    "start_time": "2022-06-08T19:50:01.269Z"
   },
   {
    "duration": 5,
    "start_time": "2022-06-08T19:50:01.288Z"
   },
   {
    "duration": 22,
    "start_time": "2022-06-08T19:50:01.295Z"
   },
   {
    "duration": 7,
    "start_time": "2022-06-08T19:50:01.319Z"
   },
   {
    "duration": 10,
    "start_time": "2022-06-08T19:50:01.327Z"
   },
   {
    "duration": 6,
    "start_time": "2022-06-08T19:50:01.364Z"
   },
   {
    "duration": 194,
    "start_time": "2022-06-08T19:50:01.372Z"
   },
   {
    "duration": 249,
    "start_time": "2022-06-08T19:50:01.569Z"
   },
   {
    "duration": 6,
    "start_time": "2022-06-08T19:50:01.820Z"
   },
   {
    "duration": 14,
    "start_time": "2022-06-08T19:50:01.828Z"
   },
   {
    "duration": 307,
    "start_time": "2022-06-08T19:50:01.844Z"
   },
   {
    "duration": 305,
    "start_time": "2022-06-08T19:50:02.153Z"
   },
   {
    "duration": 9,
    "start_time": "2022-06-08T19:50:02.464Z"
   },
   {
    "duration": 375,
    "start_time": "2022-06-08T19:50:02.475Z"
   },
   {
    "duration": 8,
    "start_time": "2022-06-08T19:50:02.851Z"
   },
   {
    "duration": 230,
    "start_time": "2022-06-08T19:50:02.860Z"
   },
   {
    "duration": 5,
    "start_time": "2022-06-08T19:50:03.092Z"
   },
   {
    "duration": 247,
    "start_time": "2022-06-08T19:50:03.099Z"
   },
   {
    "duration": 6,
    "start_time": "2022-06-08T19:50:03.351Z"
   },
   {
    "duration": 17,
    "start_time": "2022-06-08T19:50:03.366Z"
   },
   {
    "duration": 232,
    "start_time": "2022-06-08T19:50:03.385Z"
   },
   {
    "duration": 7,
    "start_time": "2022-06-08T19:50:03.619Z"
   },
   {
    "duration": 13,
    "start_time": "2022-06-08T19:50:03.628Z"
   },
   {
    "duration": 38,
    "start_time": "2022-06-08T19:50:03.643Z"
   },
   {
    "duration": 62,
    "start_time": "2022-06-08T19:50:03.683Z"
   },
   {
    "duration": 4604,
    "start_time": "2022-06-08T19:50:03.747Z"
   },
   {
    "duration": 28,
    "start_time": "2022-06-08T19:50:08.353Z"
   },
   {
    "duration": 2761,
    "start_time": "2022-06-08T19:50:08.383Z"
   },
   {
    "duration": 416,
    "start_time": "2022-06-08T19:50:11.146Z"
   },
   {
    "duration": 202,
    "start_time": "2022-06-08T19:50:11.565Z"
   },
   {
    "duration": 188,
    "start_time": "2022-06-08T19:50:11.769Z"
   },
   {
    "duration": 426,
    "start_time": "2022-06-08T19:50:11.959Z"
   },
   {
    "duration": 9,
    "start_time": "2022-06-08T19:50:12.387Z"
   },
   {
    "duration": 218,
    "start_time": "2022-06-08T19:50:12.399Z"
   },
   {
    "duration": 287,
    "start_time": "2022-06-08T19:50:12.618Z"
   },
   {
    "duration": 13,
    "start_time": "2022-06-08T19:50:12.909Z"
   },
   {
    "duration": 441,
    "start_time": "2022-06-08T19:50:12.924Z"
   },
   {
    "duration": 0,
    "start_time": "2022-06-08T19:50:13.369Z"
   },
   {
    "duration": 0,
    "start_time": "2022-06-08T19:50:13.370Z"
   },
   {
    "duration": 0,
    "start_time": "2022-06-08T19:50:13.372Z"
   },
   {
    "duration": 0,
    "start_time": "2022-06-08T19:50:13.374Z"
   },
   {
    "duration": 0,
    "start_time": "2022-06-08T19:50:13.376Z"
   },
   {
    "duration": 145,
    "start_time": "2022-06-08T20:40:16.781Z"
   },
   {
    "duration": 468,
    "start_time": "2022-06-08T20:56:31.624Z"
   },
   {
    "duration": 267,
    "start_time": "2022-06-08T20:56:36.483Z"
   },
   {
    "duration": 706,
    "start_time": "2022-06-08T20:56:36.753Z"
   },
   {
    "duration": 26,
    "start_time": "2022-06-08T20:56:37.461Z"
   },
   {
    "duration": 24,
    "start_time": "2022-06-08T20:56:37.490Z"
   },
   {
    "duration": 1495,
    "start_time": "2022-06-09T06:21:40.898Z"
   },
   {
    "duration": 190,
    "start_time": "2022-06-09T06:21:42.395Z"
   },
   {
    "duration": 43,
    "start_time": "2022-06-09T06:21:42.587Z"
   },
   {
    "duration": 6,
    "start_time": "2022-06-09T06:21:42.632Z"
   },
   {
    "duration": 45,
    "start_time": "2022-06-09T06:21:42.641Z"
   },
   {
    "duration": 22,
    "start_time": "2022-06-09T06:21:42.688Z"
   },
   {
    "duration": 25,
    "start_time": "2022-06-09T06:21:42.712Z"
   },
   {
    "duration": 36,
    "start_time": "2022-06-09T06:21:42.740Z"
   },
   {
    "duration": 15,
    "start_time": "2022-06-09T06:21:42.778Z"
   },
   {
    "duration": 20,
    "start_time": "2022-06-09T06:21:42.795Z"
   },
   {
    "duration": 7,
    "start_time": "2022-06-09T06:21:42.817Z"
   },
   {
    "duration": 28,
    "start_time": "2022-06-09T06:21:42.826Z"
   },
   {
    "duration": 10,
    "start_time": "2022-06-09T06:21:42.856Z"
   },
   {
    "duration": 10,
    "start_time": "2022-06-09T06:21:42.870Z"
   },
   {
    "duration": 14,
    "start_time": "2022-06-09T06:21:42.883Z"
   },
   {
    "duration": 224,
    "start_time": "2022-06-09T06:21:42.899Z"
   },
   {
    "duration": 270,
    "start_time": "2022-06-09T06:21:43.125Z"
   },
   {
    "duration": 7,
    "start_time": "2022-06-09T06:21:43.397Z"
   },
   {
    "duration": 22,
    "start_time": "2022-06-09T06:21:43.406Z"
   },
   {
    "duration": 255,
    "start_time": "2022-06-09T06:21:43.431Z"
   },
   {
    "duration": 266,
    "start_time": "2022-06-09T06:21:43.688Z"
   },
   {
    "duration": 7,
    "start_time": "2022-06-09T06:21:43.957Z"
   },
   {
    "duration": 392,
    "start_time": "2022-06-09T06:21:43.967Z"
   },
   {
    "duration": 6,
    "start_time": "2022-06-09T06:21:44.360Z"
   },
   {
    "duration": 240,
    "start_time": "2022-06-09T06:21:44.368Z"
   },
   {
    "duration": 7,
    "start_time": "2022-06-09T06:21:44.610Z"
   },
   {
    "duration": 253,
    "start_time": "2022-06-09T06:21:44.625Z"
   },
   {
    "duration": 6,
    "start_time": "2022-06-09T06:21:44.880Z"
   },
   {
    "duration": 13,
    "start_time": "2022-06-09T06:21:44.888Z"
   },
   {
    "duration": 223,
    "start_time": "2022-06-09T06:21:44.903Z"
   },
   {
    "duration": 7,
    "start_time": "2022-06-09T06:21:45.128Z"
   },
   {
    "duration": 6,
    "start_time": "2022-06-09T06:21:45.137Z"
   },
   {
    "duration": 30,
    "start_time": "2022-06-09T06:21:45.145Z"
   },
   {
    "duration": 71,
    "start_time": "2022-06-09T06:21:45.177Z"
   },
   {
    "duration": 3969,
    "start_time": "2022-06-09T06:21:45.250Z"
   },
   {
    "duration": 26,
    "start_time": "2022-06-09T06:21:49.221Z"
   },
   {
    "duration": 2531,
    "start_time": "2022-06-09T06:21:49.249Z"
   },
   {
    "duration": 404,
    "start_time": "2022-06-09T06:21:51.782Z"
   },
   {
    "duration": 212,
    "start_time": "2022-06-09T06:21:52.189Z"
   },
   {
    "duration": 202,
    "start_time": "2022-06-09T06:21:52.403Z"
   },
   {
    "duration": 405,
    "start_time": "2022-06-09T06:21:52.609Z"
   },
   {
    "duration": 13,
    "start_time": "2022-06-09T06:21:53.017Z"
   },
   {
    "duration": 202,
    "start_time": "2022-06-09T06:21:53.032Z"
   },
   {
    "duration": 259,
    "start_time": "2022-06-09T06:21:53.236Z"
   },
   {
    "duration": 14,
    "start_time": "2022-06-09T06:21:53.497Z"
   },
   {
    "duration": 446,
    "start_time": "2022-06-09T06:21:53.525Z"
   },
   {
    "duration": 0,
    "start_time": "2022-06-09T06:21:53.974Z"
   },
   {
    "duration": 0,
    "start_time": "2022-06-09T06:21:53.976Z"
   },
   {
    "duration": 0,
    "start_time": "2022-06-09T06:21:53.978Z"
   },
   {
    "duration": 0,
    "start_time": "2022-06-09T06:21:53.980Z"
   },
   {
    "duration": 0,
    "start_time": "2022-06-09T06:21:53.983Z"
   },
   {
    "duration": 4,
    "start_time": "2022-06-09T06:57:31.492Z"
   },
   {
    "duration": 78,
    "start_time": "2022-06-09T06:57:31.499Z"
   },
   {
    "duration": 79,
    "start_time": "2022-06-09T06:57:31.580Z"
   },
   {
    "duration": 5,
    "start_time": "2022-06-09T06:57:31.662Z"
   },
   {
    "duration": 17,
    "start_time": "2022-06-09T06:57:31.670Z"
   },
   {
    "duration": 37,
    "start_time": "2022-06-09T06:57:31.689Z"
   },
   {
    "duration": 10,
    "start_time": "2022-06-09T06:57:31.729Z"
   },
   {
    "duration": 15,
    "start_time": "2022-06-09T06:57:31.742Z"
   },
   {
    "duration": 27,
    "start_time": "2022-06-09T06:57:31.760Z"
   },
   {
    "duration": 48,
    "start_time": "2022-06-09T06:57:31.790Z"
   },
   {
    "duration": 12,
    "start_time": "2022-06-09T06:57:31.842Z"
   },
   {
    "duration": 69,
    "start_time": "2022-06-09T06:57:31.857Z"
   },
   {
    "duration": 17,
    "start_time": "2022-06-09T06:57:31.928Z"
   },
   {
    "duration": 14,
    "start_time": "2022-06-09T06:57:31.950Z"
   },
   {
    "duration": 13,
    "start_time": "2022-06-09T06:57:31.968Z"
   },
   {
    "duration": 263,
    "start_time": "2022-06-09T06:57:31.983Z"
   },
   {
    "duration": 476,
    "start_time": "2022-06-09T06:57:32.249Z"
   },
   {
    "duration": 8,
    "start_time": "2022-06-09T06:57:32.728Z"
   },
   {
    "duration": 13,
    "start_time": "2022-06-09T06:57:32.738Z"
   },
   {
    "duration": 301,
    "start_time": "2022-06-09T06:57:32.753Z"
   },
   {
    "duration": 281,
    "start_time": "2022-06-09T06:57:33.057Z"
   },
   {
    "duration": 9,
    "start_time": "2022-06-09T06:57:33.341Z"
   },
   {
    "duration": 322,
    "start_time": "2022-06-09T06:57:33.353Z"
   },
   {
    "duration": 10,
    "start_time": "2022-06-09T06:57:33.677Z"
   },
   {
    "duration": 326,
    "start_time": "2022-06-09T06:57:33.690Z"
   },
   {
    "duration": 15,
    "start_time": "2022-06-09T06:57:34.019Z"
   },
   {
    "duration": 249,
    "start_time": "2022-06-09T06:57:34.037Z"
   },
   {
    "duration": 6,
    "start_time": "2022-06-09T06:57:34.288Z"
   },
   {
    "duration": 8,
    "start_time": "2022-06-09T06:57:34.297Z"
   },
   {
    "duration": 247,
    "start_time": "2022-06-09T06:57:34.326Z"
   },
   {
    "duration": 9,
    "start_time": "2022-06-09T06:57:34.575Z"
   },
   {
    "duration": 8,
    "start_time": "2022-06-09T06:57:34.587Z"
   },
   {
    "duration": 56,
    "start_time": "2022-06-09T06:57:34.598Z"
   },
   {
    "duration": 53,
    "start_time": "2022-06-09T06:57:34.656Z"
   },
   {
    "duration": 4118,
    "start_time": "2022-06-09T06:57:34.712Z"
   },
   {
    "duration": 32,
    "start_time": "2022-06-09T06:57:38.833Z"
   },
   {
    "duration": 2562,
    "start_time": "2022-06-09T06:57:38.867Z"
   },
   {
    "duration": 425,
    "start_time": "2022-06-09T06:57:41.431Z"
   },
   {
    "duration": 226,
    "start_time": "2022-06-09T06:57:41.858Z"
   },
   {
    "duration": 227,
    "start_time": "2022-06-09T06:57:42.086Z"
   },
   {
    "duration": 373,
    "start_time": "2022-06-09T06:57:42.326Z"
   },
   {
    "duration": 11,
    "start_time": "2022-06-09T06:57:42.702Z"
   },
   {
    "duration": 210,
    "start_time": "2022-06-09T06:57:42.726Z"
   },
   {
    "duration": 267,
    "start_time": "2022-06-09T06:57:42.939Z"
   },
   {
    "duration": 23,
    "start_time": "2022-06-09T06:57:43.208Z"
   },
   {
    "duration": 332,
    "start_time": "2022-06-09T06:57:43.233Z"
   },
   {
    "duration": 0,
    "start_time": "2022-06-09T06:57:43.567Z"
   },
   {
    "duration": 0,
    "start_time": "2022-06-09T06:57:43.569Z"
   },
   {
    "duration": 0,
    "start_time": "2022-06-09T06:57:43.570Z"
   },
   {
    "duration": 0,
    "start_time": "2022-06-09T06:57:43.572Z"
   },
   {
    "duration": 0,
    "start_time": "2022-06-09T06:57:43.573Z"
   },
   {
    "duration": 5,
    "start_time": "2022-06-09T06:58:06.917Z"
   },
   {
    "duration": 80,
    "start_time": "2022-06-09T06:58:06.925Z"
   },
   {
    "duration": 53,
    "start_time": "2022-06-09T06:58:07.007Z"
   },
   {
    "duration": 4,
    "start_time": "2022-06-09T06:58:07.063Z"
   },
   {
    "duration": 22,
    "start_time": "2022-06-09T06:58:07.070Z"
   },
   {
    "duration": 31,
    "start_time": "2022-06-09T06:58:07.095Z"
   },
   {
    "duration": 8,
    "start_time": "2022-06-09T06:58:07.128Z"
   },
   {
    "duration": 15,
    "start_time": "2022-06-09T06:58:07.139Z"
   },
   {
    "duration": 21,
    "start_time": "2022-06-09T06:58:07.156Z"
   },
   {
    "duration": 46,
    "start_time": "2022-06-09T06:58:07.180Z"
   },
   {
    "duration": 8,
    "start_time": "2022-06-09T06:58:07.228Z"
   },
   {
    "duration": 36,
    "start_time": "2022-06-09T06:58:07.239Z"
   },
   {
    "duration": 14,
    "start_time": "2022-06-09T06:58:07.278Z"
   },
   {
    "duration": 38,
    "start_time": "2022-06-09T06:58:07.296Z"
   },
   {
    "duration": 8,
    "start_time": "2022-06-09T06:58:07.336Z"
   },
   {
    "duration": 221,
    "start_time": "2022-06-09T06:58:07.346Z"
   },
   {
    "duration": 281,
    "start_time": "2022-06-09T06:58:07.568Z"
   },
   {
    "duration": 7,
    "start_time": "2022-06-09T06:58:07.851Z"
   },
   {
    "duration": 10,
    "start_time": "2022-06-09T06:58:07.860Z"
   },
   {
    "duration": 288,
    "start_time": "2022-06-09T06:58:07.872Z"
   },
   {
    "duration": 288,
    "start_time": "2022-06-09T06:58:08.163Z"
   },
   {
    "duration": 6,
    "start_time": "2022-06-09T06:58:08.454Z"
   },
   {
    "duration": 656,
    "start_time": "2022-06-09T06:58:08.463Z"
   },
   {
    "duration": 7,
    "start_time": "2022-06-09T06:58:09.122Z"
   },
   {
    "duration": 280,
    "start_time": "2022-06-09T06:58:09.131Z"
   },
   {
    "duration": 16,
    "start_time": "2022-06-09T06:58:09.413Z"
   },
   {
    "duration": 274,
    "start_time": "2022-06-09T06:58:09.432Z"
   },
   {
    "duration": 19,
    "start_time": "2022-06-09T06:58:09.708Z"
   },
   {
    "duration": 9,
    "start_time": "2022-06-09T06:58:09.730Z"
   },
   {
    "duration": 256,
    "start_time": "2022-06-09T06:58:09.742Z"
   },
   {
    "duration": 15,
    "start_time": "2022-06-09T06:58:10.001Z"
   },
   {
    "duration": 24,
    "start_time": "2022-06-09T06:58:10.018Z"
   },
   {
    "duration": 39,
    "start_time": "2022-06-09T06:58:10.045Z"
   },
   {
    "duration": 65,
    "start_time": "2022-06-09T06:58:10.088Z"
   },
   {
    "duration": 4122,
    "start_time": "2022-06-09T06:58:10.155Z"
   },
   {
    "duration": 22,
    "start_time": "2022-06-09T06:58:14.280Z"
   },
   {
    "duration": 2900,
    "start_time": "2022-06-09T06:58:14.305Z"
   },
   {
    "duration": 440,
    "start_time": "2022-06-09T06:58:17.207Z"
   },
   {
    "duration": 210,
    "start_time": "2022-06-09T06:58:17.648Z"
   },
   {
    "duration": 210,
    "start_time": "2022-06-09T06:58:17.860Z"
   },
   {
    "duration": 399,
    "start_time": "2022-06-09T06:58:18.074Z"
   },
   {
    "duration": 7,
    "start_time": "2022-06-09T06:58:18.476Z"
   },
   {
    "duration": 242,
    "start_time": "2022-06-09T06:58:18.485Z"
   },
   {
    "duration": 309,
    "start_time": "2022-06-09T06:58:18.729Z"
   },
   {
    "duration": 18,
    "start_time": "2022-06-09T06:58:19.040Z"
   },
   {
    "duration": 359,
    "start_time": "2022-06-09T06:58:19.061Z"
   },
   {
    "duration": 335,
    "start_time": "2022-06-09T06:58:19.425Z"
   },
   {
    "duration": 325,
    "start_time": "2022-06-09T06:58:19.763Z"
   },
   {
    "duration": 771,
    "start_time": "2022-06-09T06:58:20.091Z"
   },
   {
    "duration": 27,
    "start_time": "2022-06-09T06:58:20.864Z"
   },
   {
    "duration": 49,
    "start_time": "2022-06-09T06:58:20.894Z"
   },
   {
    "duration": 38,
    "start_time": "2022-06-09T07:13:55.758Z"
   },
   {
    "duration": 8,
    "start_time": "2022-06-09T07:14:48.443Z"
   },
   {
    "duration": 19,
    "start_time": "2022-06-09T07:14:55.700Z"
   },
   {
    "duration": 10,
    "start_time": "2022-06-09T07:16:44.811Z"
   },
   {
    "duration": 5,
    "start_time": "2022-06-09T07:16:50.660Z"
   },
   {
    "duration": 86,
    "start_time": "2022-06-09T07:16:50.668Z"
   },
   {
    "duration": 77,
    "start_time": "2022-06-09T07:16:50.756Z"
   },
   {
    "duration": 5,
    "start_time": "2022-06-09T07:16:50.841Z"
   },
   {
    "duration": 29,
    "start_time": "2022-06-09T07:16:50.850Z"
   },
   {
    "duration": 5,
    "start_time": "2022-06-09T07:16:50.882Z"
   },
   {
    "duration": 28,
    "start_time": "2022-06-09T07:16:50.890Z"
   },
   {
    "duration": 28,
    "start_time": "2022-06-09T07:16:50.920Z"
   },
   {
    "duration": 51,
    "start_time": "2022-06-09T07:16:50.951Z"
   },
   {
    "duration": 44,
    "start_time": "2022-06-09T07:16:51.005Z"
   },
   {
    "duration": 14,
    "start_time": "2022-06-09T07:16:51.051Z"
   },
   {
    "duration": 37,
    "start_time": "2022-06-09T07:16:51.067Z"
   },
   {
    "duration": 23,
    "start_time": "2022-06-09T07:16:51.106Z"
   },
   {
    "duration": 20,
    "start_time": "2022-06-09T07:16:51.137Z"
   },
   {
    "duration": 32,
    "start_time": "2022-06-09T07:16:51.159Z"
   },
   {
    "duration": 251,
    "start_time": "2022-06-09T07:16:51.194Z"
   },
   {
    "duration": 271,
    "start_time": "2022-06-09T07:16:51.447Z"
   },
   {
    "duration": 16,
    "start_time": "2022-06-09T07:16:51.720Z"
   },
   {
    "duration": 19,
    "start_time": "2022-06-09T07:16:51.744Z"
   },
   {
    "duration": 315,
    "start_time": "2022-06-09T07:16:51.765Z"
   },
   {
    "duration": 320,
    "start_time": "2022-06-09T07:16:52.084Z"
   },
   {
    "duration": 8,
    "start_time": "2022-06-09T07:16:52.407Z"
   },
   {
    "duration": 310,
    "start_time": "2022-06-09T07:16:52.417Z"
   },
   {
    "duration": 8,
    "start_time": "2022-06-09T07:16:52.736Z"
   },
   {
    "duration": 702,
    "start_time": "2022-06-09T07:16:52.747Z"
   },
   {
    "duration": 7,
    "start_time": "2022-06-09T07:16:53.451Z"
   },
   {
    "duration": 248,
    "start_time": "2022-06-09T07:16:53.460Z"
   },
   {
    "duration": 23,
    "start_time": "2022-06-09T07:16:53.710Z"
   },
   {
    "duration": 20,
    "start_time": "2022-06-09T07:16:53.735Z"
   },
   {
    "duration": 227,
    "start_time": "2022-06-09T07:16:53.757Z"
   },
   {
    "duration": 7,
    "start_time": "2022-06-09T07:16:53.986Z"
   },
   {
    "duration": 16,
    "start_time": "2022-06-09T07:16:53.995Z"
   },
   {
    "duration": 57,
    "start_time": "2022-06-09T07:16:54.014Z"
   },
   {
    "duration": 51,
    "start_time": "2022-06-09T07:16:54.073Z"
   },
   {
    "duration": 4120,
    "start_time": "2022-06-09T07:16:54.126Z"
   },
   {
    "duration": 20,
    "start_time": "2022-06-09T07:16:58.248Z"
   },
   {
    "duration": 2777,
    "start_time": "2022-06-09T07:16:58.270Z"
   },
   {
    "duration": 9,
    "start_time": "2022-06-09T07:17:01.050Z"
   },
   {
    "duration": 487,
    "start_time": "2022-06-09T07:17:01.062Z"
   },
   {
    "duration": 220,
    "start_time": "2022-06-09T07:17:01.551Z"
   },
   {
    "duration": 266,
    "start_time": "2022-06-09T07:17:01.775Z"
   },
   {
    "duration": 870,
    "start_time": "2022-06-09T07:17:02.043Z"
   },
   {
    "duration": 26,
    "start_time": "2022-06-09T07:17:02.915Z"
   },
   {
    "duration": 206,
    "start_time": "2022-06-09T07:17:02.943Z"
   },
   {
    "duration": 268,
    "start_time": "2022-06-09T07:17:03.152Z"
   },
   {
    "duration": 25,
    "start_time": "2022-06-09T07:17:03.425Z"
   },
   {
    "duration": 342,
    "start_time": "2022-06-09T07:17:03.452Z"
   },
   {
    "duration": 375,
    "start_time": "2022-06-09T07:17:03.796Z"
   },
   {
    "duration": 319,
    "start_time": "2022-06-09T07:17:04.173Z"
   },
   {
    "duration": 461,
    "start_time": "2022-06-09T07:17:04.494Z"
   },
   {
    "duration": 18,
    "start_time": "2022-06-09T07:17:04.957Z"
   },
   {
    "duration": 40,
    "start_time": "2022-06-09T07:17:04.977Z"
   },
   {
    "duration": 57,
    "start_time": "2022-06-09T07:22:44.128Z"
   },
   {
    "duration": 436,
    "start_time": "2022-06-09T07:22:49.942Z"
   },
   {
    "duration": 178,
    "start_time": "2022-06-09T07:23:41.667Z"
   },
   {
    "duration": 502,
    "start_time": "2022-06-09T07:23:46.378Z"
   },
   {
    "duration": 60,
    "start_time": "2022-06-09T07:24:02.922Z"
   },
   {
    "duration": 414,
    "start_time": "2022-06-09T07:24:17.690Z"
   },
   {
    "duration": 463,
    "start_time": "2022-06-09T07:25:28.915Z"
   },
   {
    "duration": 416,
    "start_time": "2022-06-09T07:25:54.713Z"
   },
   {
    "duration": 475,
    "start_time": "2022-06-09T07:26:01.573Z"
   },
   {
    "duration": 17,
    "start_time": "2022-06-09T07:26:44.556Z"
   },
   {
    "duration": 426,
    "start_time": "2022-06-09T07:26:54.730Z"
   },
   {
    "duration": 38,
    "start_time": "2022-06-09T07:27:01.553Z"
   },
   {
    "duration": 405,
    "start_time": "2022-06-09T07:28:59.445Z"
   },
   {
    "duration": 448,
    "start_time": "2022-06-09T07:29:32.197Z"
   },
   {
    "duration": 471,
    "start_time": "2022-06-09T07:29:39.375Z"
   },
   {
    "duration": 256,
    "start_time": "2022-06-09T07:30:10.965Z"
   },
   {
    "duration": 4,
    "start_time": "2022-06-09T07:30:18.810Z"
   },
   {
    "duration": 147,
    "start_time": "2022-06-09T07:30:18.818Z"
   },
   {
    "duration": 71,
    "start_time": "2022-06-09T07:30:18.969Z"
   },
   {
    "duration": 5,
    "start_time": "2022-06-09T07:30:19.049Z"
   },
   {
    "duration": 30,
    "start_time": "2022-06-09T07:30:19.056Z"
   },
   {
    "duration": 6,
    "start_time": "2022-06-09T07:30:19.089Z"
   },
   {
    "duration": 13,
    "start_time": "2022-06-09T07:30:19.098Z"
   },
   {
    "duration": 18,
    "start_time": "2022-06-09T07:30:19.127Z"
   },
   {
    "duration": 19,
    "start_time": "2022-06-09T07:30:19.149Z"
   },
   {
    "duration": 30,
    "start_time": "2022-06-09T07:30:19.170Z"
   },
   {
    "duration": 39,
    "start_time": "2022-06-09T07:30:19.203Z"
   },
   {
    "duration": 37,
    "start_time": "2022-06-09T07:30:19.245Z"
   },
   {
    "duration": 10,
    "start_time": "2022-06-09T07:30:19.285Z"
   },
   {
    "duration": 12,
    "start_time": "2022-06-09T07:30:19.298Z"
   },
   {
    "duration": 19,
    "start_time": "2022-06-09T07:30:19.313Z"
   },
   {
    "duration": 245,
    "start_time": "2022-06-09T07:30:19.343Z"
   },
   {
    "duration": 313,
    "start_time": "2022-06-09T07:30:19.590Z"
   },
   {
    "duration": 7,
    "start_time": "2022-06-09T07:30:19.906Z"
   },
   {
    "duration": 31,
    "start_time": "2022-06-09T07:30:19.915Z"
   },
   {
    "duration": 846,
    "start_time": "2022-06-09T07:30:19.949Z"
   },
   {
    "duration": 331,
    "start_time": "2022-06-09T07:30:20.797Z"
   },
   {
    "duration": 7,
    "start_time": "2022-06-09T07:30:21.138Z"
   },
   {
    "duration": 336,
    "start_time": "2022-06-09T07:30:21.147Z"
   },
   {
    "duration": 34,
    "start_time": "2022-06-09T07:30:21.494Z"
   },
   {
    "duration": 447,
    "start_time": "2022-06-09T07:30:21.536Z"
   },
   {
    "duration": 6,
    "start_time": "2022-06-09T07:30:21.986Z"
   },
   {
    "duration": 306,
    "start_time": "2022-06-09T07:30:21.995Z"
   },
   {
    "duration": 25,
    "start_time": "2022-06-09T07:30:22.304Z"
   },
   {
    "duration": 6,
    "start_time": "2022-06-09T07:30:22.332Z"
   },
   {
    "duration": 258,
    "start_time": "2022-06-09T07:30:22.347Z"
   },
   {
    "duration": 32,
    "start_time": "2022-06-09T07:30:22.608Z"
   },
   {
    "duration": 7,
    "start_time": "2022-06-09T07:30:22.646Z"
   },
   {
    "duration": 38,
    "start_time": "2022-06-09T07:30:22.656Z"
   },
   {
    "duration": 71,
    "start_time": "2022-06-09T07:30:22.698Z"
   },
   {
    "duration": 5054,
    "start_time": "2022-06-09T07:30:22.771Z"
   },
   {
    "duration": 22,
    "start_time": "2022-06-09T07:30:27.838Z"
   },
   {
    "duration": 2822,
    "start_time": "2022-06-09T07:30:27.862Z"
   },
   {
    "duration": 9,
    "start_time": "2022-06-09T07:30:30.687Z"
   },
   {
    "duration": 517,
    "start_time": "2022-06-09T07:30:30.699Z"
   },
   {
    "duration": 411,
    "start_time": "2022-06-09T07:30:31.218Z"
   },
   {
    "duration": 334,
    "start_time": "2022-06-09T07:30:31.631Z"
   },
   {
    "duration": 293,
    "start_time": "2022-06-09T07:30:31.968Z"
   },
   {
    "duration": 325,
    "start_time": "2022-06-09T07:30:32.264Z"
   },
   {
    "duration": 413,
    "start_time": "2022-06-09T07:30:32.593Z"
   },
   {
    "duration": 19,
    "start_time": "2022-06-09T07:30:33.008Z"
   },
   {
    "duration": 236,
    "start_time": "2022-06-09T07:30:33.030Z"
   },
   {
    "duration": 419,
    "start_time": "2022-06-09T07:30:33.269Z"
   },
   {
    "duration": 16,
    "start_time": "2022-06-09T07:30:33.691Z"
   },
   {
    "duration": 1047,
    "start_time": "2022-06-09T07:30:33.709Z"
   },
   {
    "duration": 429,
    "start_time": "2022-06-09T07:30:34.759Z"
   },
   {
    "duration": 350,
    "start_time": "2022-06-09T07:30:35.190Z"
   },
   {
    "duration": 488,
    "start_time": "2022-06-09T07:30:35.544Z"
   },
   {
    "duration": 22,
    "start_time": "2022-06-09T07:30:36.041Z"
   },
   {
    "duration": 29,
    "start_time": "2022-06-09T07:30:36.065Z"
   },
   {
    "duration": 20,
    "start_time": "2022-06-09T07:32:10.451Z"
   },
   {
    "duration": 314,
    "start_time": "2022-06-09T07:32:11.986Z"
   },
   {
    "duration": 251,
    "start_time": "2022-06-09T07:32:57.294Z"
   },
   {
    "duration": 289,
    "start_time": "2022-06-09T07:33:08.033Z"
   },
   {
    "duration": 22,
    "start_time": "2022-06-09T07:33:27.297Z"
   },
   {
    "duration": 412,
    "start_time": "2022-06-09T07:36:21.749Z"
   },
   {
    "duration": 32,
    "start_time": "2022-06-09T07:36:31.861Z"
   },
   {
    "duration": 331,
    "start_time": "2022-06-09T07:45:05.038Z"
   },
   {
    "duration": 320,
    "start_time": "2022-06-09T07:45:38.640Z"
   },
   {
    "duration": 14,
    "start_time": "2022-06-09T07:46:03.572Z"
   },
   {
    "duration": 16,
    "start_time": "2022-06-09T07:46:15.692Z"
   },
   {
    "duration": 20,
    "start_time": "2022-06-09T07:47:43.013Z"
   },
   {
    "duration": 13,
    "start_time": "2022-06-09T07:49:33.472Z"
   },
   {
    "duration": 13,
    "start_time": "2022-06-09T07:51:11.699Z"
   },
   {
    "duration": 5,
    "start_time": "2022-06-09T07:53:38.978Z"
   },
   {
    "duration": 63,
    "start_time": "2022-06-09T07:53:55.626Z"
   },
   {
    "duration": 47,
    "start_time": "2022-06-09T07:53:58.768Z"
   },
   {
    "duration": 32,
    "start_time": "2022-06-09T07:54:11.047Z"
   },
   {
    "duration": 21,
    "start_time": "2022-06-09T07:54:41.904Z"
   },
   {
    "duration": 301,
    "start_time": "2022-06-09T07:58:03.521Z"
   },
   {
    "duration": 21,
    "start_time": "2022-06-09T07:59:07.822Z"
   },
   {
    "duration": 171,
    "start_time": "2022-06-09T07:59:26.496Z"
   },
   {
    "duration": 203,
    "start_time": "2022-06-09T07:59:48.925Z"
   },
   {
    "duration": 176,
    "start_time": "2022-06-09T07:59:54.001Z"
   },
   {
    "duration": 345,
    "start_time": "2022-06-09T08:00:15.864Z"
   },
   {
    "duration": 160,
    "start_time": "2022-06-09T08:00:17.409Z"
   },
   {
    "duration": 3,
    "start_time": "2022-06-09T08:00:57.807Z"
   },
   {
    "duration": 59,
    "start_time": "2022-06-09T08:00:57.812Z"
   },
   {
    "duration": 57,
    "start_time": "2022-06-09T08:00:57.873Z"
   },
   {
    "duration": 6,
    "start_time": "2022-06-09T08:00:57.932Z"
   },
   {
    "duration": 17,
    "start_time": "2022-06-09T08:00:57.941Z"
   },
   {
    "duration": 5,
    "start_time": "2022-06-09T08:00:57.960Z"
   },
   {
    "duration": 8,
    "start_time": "2022-06-09T08:00:57.966Z"
   },
   {
    "duration": 11,
    "start_time": "2022-06-09T08:00:57.976Z"
   },
   {
    "duration": 13,
    "start_time": "2022-06-09T08:00:57.988Z"
   },
   {
    "duration": 43,
    "start_time": "2022-06-09T08:00:58.002Z"
   },
   {
    "duration": 6,
    "start_time": "2022-06-09T08:00:58.047Z"
   },
   {
    "duration": 22,
    "start_time": "2022-06-09T08:00:58.055Z"
   },
   {
    "duration": 7,
    "start_time": "2022-06-09T08:00:58.080Z"
   },
   {
    "duration": 46,
    "start_time": "2022-06-09T08:00:58.089Z"
   },
   {
    "duration": 37,
    "start_time": "2022-06-09T08:00:58.137Z"
   },
   {
    "duration": 0,
    "start_time": "2022-06-09T08:00:58.176Z"
   },
   {
    "duration": 0,
    "start_time": "2022-06-09T08:00:58.177Z"
   },
   {
    "duration": 1,
    "start_time": "2022-06-09T08:00:58.178Z"
   },
   {
    "duration": 0,
    "start_time": "2022-06-09T08:00:58.180Z"
   },
   {
    "duration": 0,
    "start_time": "2022-06-09T08:00:58.181Z"
   },
   {
    "duration": 0,
    "start_time": "2022-06-09T08:00:58.182Z"
   },
   {
    "duration": 0,
    "start_time": "2022-06-09T08:00:58.183Z"
   },
   {
    "duration": 0,
    "start_time": "2022-06-09T08:00:58.184Z"
   },
   {
    "duration": 0,
    "start_time": "2022-06-09T08:00:58.185Z"
   },
   {
    "duration": 0,
    "start_time": "2022-06-09T08:00:58.186Z"
   },
   {
    "duration": 0,
    "start_time": "2022-06-09T08:00:58.187Z"
   },
   {
    "duration": 0,
    "start_time": "2022-06-09T08:00:58.188Z"
   },
   {
    "duration": 0,
    "start_time": "2022-06-09T08:00:58.189Z"
   },
   {
    "duration": 0,
    "start_time": "2022-06-09T08:00:58.191Z"
   },
   {
    "duration": 0,
    "start_time": "2022-06-09T08:00:58.191Z"
   },
   {
    "duration": 0,
    "start_time": "2022-06-09T08:00:58.192Z"
   },
   {
    "duration": 0,
    "start_time": "2022-06-09T08:00:58.194Z"
   },
   {
    "duration": 0,
    "start_time": "2022-06-09T08:00:58.195Z"
   },
   {
    "duration": 0,
    "start_time": "2022-06-09T08:00:58.197Z"
   },
   {
    "duration": 0,
    "start_time": "2022-06-09T08:00:58.198Z"
   },
   {
    "duration": 0,
    "start_time": "2022-06-09T08:00:58.200Z"
   },
   {
    "duration": 0,
    "start_time": "2022-06-09T08:00:58.201Z"
   },
   {
    "duration": 0,
    "start_time": "2022-06-09T08:00:58.203Z"
   },
   {
    "duration": 0,
    "start_time": "2022-06-09T08:00:58.204Z"
   },
   {
    "duration": 0,
    "start_time": "2022-06-09T08:00:58.206Z"
   },
   {
    "duration": 0,
    "start_time": "2022-06-09T08:00:58.232Z"
   },
   {
    "duration": 0,
    "start_time": "2022-06-09T08:00:58.241Z"
   },
   {
    "duration": 0,
    "start_time": "2022-06-09T08:00:58.242Z"
   },
   {
    "duration": 0,
    "start_time": "2022-06-09T08:00:58.244Z"
   },
   {
    "duration": 0,
    "start_time": "2022-06-09T08:00:58.246Z"
   },
   {
    "duration": 0,
    "start_time": "2022-06-09T08:00:58.247Z"
   },
   {
    "duration": 0,
    "start_time": "2022-06-09T08:00:58.249Z"
   },
   {
    "duration": 0,
    "start_time": "2022-06-09T08:00:58.251Z"
   },
   {
    "duration": 0,
    "start_time": "2022-06-09T08:00:58.252Z"
   },
   {
    "duration": 0,
    "start_time": "2022-06-09T08:00:58.253Z"
   },
   {
    "duration": 0,
    "start_time": "2022-06-09T08:00:58.255Z"
   },
   {
    "duration": 0,
    "start_time": "2022-06-09T08:00:58.256Z"
   },
   {
    "duration": 0,
    "start_time": "2022-06-09T08:00:58.258Z"
   },
   {
    "duration": 0,
    "start_time": "2022-06-09T08:00:58.259Z"
   },
   {
    "duration": 0,
    "start_time": "2022-06-09T08:00:58.260Z"
   },
   {
    "duration": 0,
    "start_time": "2022-06-09T08:00:58.261Z"
   },
   {
    "duration": 0,
    "start_time": "2022-06-09T08:00:58.263Z"
   },
   {
    "duration": 0,
    "start_time": "2022-06-09T08:00:58.264Z"
   },
   {
    "duration": 0,
    "start_time": "2022-06-09T08:00:58.265Z"
   },
   {
    "duration": 3,
    "start_time": "2022-06-09T08:01:10.912Z"
   },
   {
    "duration": 83,
    "start_time": "2022-06-09T08:01:10.918Z"
   },
   {
    "duration": 42,
    "start_time": "2022-06-09T08:01:11.003Z"
   },
   {
    "duration": 3,
    "start_time": "2022-06-09T08:01:11.048Z"
   },
   {
    "duration": 13,
    "start_time": "2022-06-09T08:01:11.054Z"
   },
   {
    "duration": 6,
    "start_time": "2022-06-09T08:01:11.069Z"
   },
   {
    "duration": 9,
    "start_time": "2022-06-09T08:01:11.077Z"
   },
   {
    "duration": 10,
    "start_time": "2022-06-09T08:01:11.088Z"
   },
   {
    "duration": 37,
    "start_time": "2022-06-09T08:01:11.101Z"
   },
   {
    "duration": 23,
    "start_time": "2022-06-09T08:01:11.143Z"
   },
   {
    "duration": 9,
    "start_time": "2022-06-09T08:01:11.168Z"
   },
   {
    "duration": 29,
    "start_time": "2022-06-09T08:01:11.180Z"
   },
   {
    "duration": 29,
    "start_time": "2022-06-09T08:01:11.210Z"
   },
   {
    "duration": 29,
    "start_time": "2022-06-09T08:01:11.243Z"
   },
   {
    "duration": 28,
    "start_time": "2022-06-09T08:01:11.274Z"
   },
   {
    "duration": 0,
    "start_time": "2022-06-09T08:01:11.304Z"
   },
   {
    "duration": 0,
    "start_time": "2022-06-09T08:01:11.305Z"
   },
   {
    "duration": 0,
    "start_time": "2022-06-09T08:01:11.307Z"
   },
   {
    "duration": 0,
    "start_time": "2022-06-09T08:01:11.308Z"
   },
   {
    "duration": 0,
    "start_time": "2022-06-09T08:01:11.309Z"
   },
   {
    "duration": 0,
    "start_time": "2022-06-09T08:01:11.310Z"
   },
   {
    "duration": 0,
    "start_time": "2022-06-09T08:01:11.311Z"
   },
   {
    "duration": 0,
    "start_time": "2022-06-09T08:01:11.312Z"
   },
   {
    "duration": 0,
    "start_time": "2022-06-09T08:01:11.313Z"
   },
   {
    "duration": 0,
    "start_time": "2022-06-09T08:01:11.313Z"
   },
   {
    "duration": 0,
    "start_time": "2022-06-09T08:01:11.314Z"
   },
   {
    "duration": 0,
    "start_time": "2022-06-09T08:01:11.316Z"
   },
   {
    "duration": 0,
    "start_time": "2022-06-09T08:01:11.317Z"
   },
   {
    "duration": 0,
    "start_time": "2022-06-09T08:01:11.318Z"
   },
   {
    "duration": 0,
    "start_time": "2022-06-09T08:01:11.319Z"
   },
   {
    "duration": 0,
    "start_time": "2022-06-09T08:01:11.321Z"
   },
   {
    "duration": 0,
    "start_time": "2022-06-09T08:01:11.325Z"
   },
   {
    "duration": 0,
    "start_time": "2022-06-09T08:01:11.326Z"
   },
   {
    "duration": 0,
    "start_time": "2022-06-09T08:01:11.327Z"
   },
   {
    "duration": 0,
    "start_time": "2022-06-09T08:01:11.328Z"
   },
   {
    "duration": 0,
    "start_time": "2022-06-09T08:01:11.329Z"
   },
   {
    "duration": 0,
    "start_time": "2022-06-09T08:01:11.331Z"
   },
   {
    "duration": 0,
    "start_time": "2022-06-09T08:01:11.332Z"
   },
   {
    "duration": 0,
    "start_time": "2022-06-09T08:01:11.332Z"
   },
   {
    "duration": 0,
    "start_time": "2022-06-09T08:01:11.333Z"
   },
   {
    "duration": 0,
    "start_time": "2022-06-09T08:01:11.335Z"
   },
   {
    "duration": 0,
    "start_time": "2022-06-09T08:01:11.336Z"
   },
   {
    "duration": 0,
    "start_time": "2022-06-09T08:01:11.336Z"
   },
   {
    "duration": 0,
    "start_time": "2022-06-09T08:01:11.337Z"
   },
   {
    "duration": 0,
    "start_time": "2022-06-09T08:01:11.338Z"
   },
   {
    "duration": 0,
    "start_time": "2022-06-09T08:01:11.339Z"
   },
   {
    "duration": 0,
    "start_time": "2022-06-09T08:01:11.340Z"
   },
   {
    "duration": 0,
    "start_time": "2022-06-09T08:01:11.342Z"
   },
   {
    "duration": 0,
    "start_time": "2022-06-09T08:01:11.343Z"
   },
   {
    "duration": 0,
    "start_time": "2022-06-09T08:01:11.344Z"
   },
   {
    "duration": 0,
    "start_time": "2022-06-09T08:01:11.345Z"
   },
   {
    "duration": 0,
    "start_time": "2022-06-09T08:01:11.346Z"
   },
   {
    "duration": 0,
    "start_time": "2022-06-09T08:01:11.347Z"
   },
   {
    "duration": 0,
    "start_time": "2022-06-09T08:01:11.348Z"
   },
   {
    "duration": 0,
    "start_time": "2022-06-09T08:01:11.349Z"
   },
   {
    "duration": 0,
    "start_time": "2022-06-09T08:01:11.350Z"
   },
   {
    "duration": 0,
    "start_time": "2022-06-09T08:01:11.351Z"
   },
   {
    "duration": 0,
    "start_time": "2022-06-09T08:01:11.352Z"
   },
   {
    "duration": 0,
    "start_time": "2022-06-09T08:01:11.354Z"
   },
   {
    "duration": 3,
    "start_time": "2022-06-09T08:01:34.691Z"
   },
   {
    "duration": 70,
    "start_time": "2022-06-09T08:01:34.696Z"
   },
   {
    "duration": 66,
    "start_time": "2022-06-09T08:01:34.768Z"
   },
   {
    "duration": 4,
    "start_time": "2022-06-09T08:01:34.844Z"
   },
   {
    "duration": 36,
    "start_time": "2022-06-09T08:01:34.851Z"
   },
   {
    "duration": 16,
    "start_time": "2022-06-09T08:01:34.889Z"
   },
   {
    "duration": 40,
    "start_time": "2022-06-09T08:01:34.907Z"
   },
   {
    "duration": 11,
    "start_time": "2022-06-09T08:01:34.949Z"
   },
   {
    "duration": 27,
    "start_time": "2022-06-09T08:01:34.962Z"
   },
   {
    "duration": 31,
    "start_time": "2022-06-09T08:01:34.991Z"
   },
   {
    "duration": 25,
    "start_time": "2022-06-09T08:01:35.024Z"
   },
   {
    "duration": 43,
    "start_time": "2022-06-09T08:01:35.052Z"
   },
   {
    "duration": 12,
    "start_time": "2022-06-09T08:01:35.100Z"
   },
   {
    "duration": 41,
    "start_time": "2022-06-09T08:01:35.114Z"
   },
   {
    "duration": 35,
    "start_time": "2022-06-09T08:01:35.157Z"
   },
   {
    "duration": 27,
    "start_time": "2022-06-09T08:01:35.194Z"
   },
   {
    "duration": 226,
    "start_time": "2022-06-09T08:01:35.223Z"
   },
   {
    "duration": 260,
    "start_time": "2022-06-09T08:01:35.451Z"
   },
   {
    "duration": 6,
    "start_time": "2022-06-09T08:01:35.712Z"
   },
   {
    "duration": 47,
    "start_time": "2022-06-09T08:01:35.727Z"
   },
   {
    "duration": 240,
    "start_time": "2022-06-09T08:01:35.776Z"
   },
   {
    "duration": 244,
    "start_time": "2022-06-09T08:01:36.017Z"
   },
   {
    "duration": 6,
    "start_time": "2022-06-09T08:01:36.263Z"
   },
   {
    "duration": 282,
    "start_time": "2022-06-09T08:01:36.271Z"
   },
   {
    "duration": 6,
    "start_time": "2022-06-09T08:01:36.555Z"
   },
   {
    "duration": 323,
    "start_time": "2022-06-09T08:01:36.563Z"
   },
   {
    "duration": 8,
    "start_time": "2022-06-09T08:01:36.889Z"
   },
   {
    "duration": 257,
    "start_time": "2022-06-09T08:01:36.899Z"
   },
   {
    "duration": 6,
    "start_time": "2022-06-09T08:01:37.158Z"
   },
   {
    "duration": 28,
    "start_time": "2022-06-09T08:01:37.166Z"
   },
   {
    "duration": 215,
    "start_time": "2022-06-09T08:01:37.196Z"
   },
   {
    "duration": 20,
    "start_time": "2022-06-09T08:01:37.413Z"
   },
   {
    "duration": 55,
    "start_time": "2022-06-09T08:01:37.434Z"
   },
   {
    "duration": 45,
    "start_time": "2022-06-09T08:01:37.491Z"
   },
   {
    "duration": 47,
    "start_time": "2022-06-09T08:01:37.538Z"
   },
   {
    "duration": 3376,
    "start_time": "2022-06-09T08:01:37.587Z"
   },
   {
    "duration": 23,
    "start_time": "2022-06-09T08:01:40.968Z"
   },
   {
    "duration": 2807,
    "start_time": "2022-06-09T08:01:40.994Z"
   },
   {
    "duration": 26,
    "start_time": "2022-06-09T08:01:43.802Z"
   },
   {
    "duration": 284,
    "start_time": "2022-06-09T08:01:43.829Z"
   },
   {
    "duration": 238,
    "start_time": "2022-06-09T08:01:44.115Z"
   },
   {
    "duration": 178,
    "start_time": "2022-06-09T08:01:44.354Z"
   },
   {
    "duration": 176,
    "start_time": "2022-06-09T08:01:44.534Z"
   },
   {
    "duration": 366,
    "start_time": "2022-06-09T08:01:44.712Z"
   },
   {
    "duration": 6,
    "start_time": "2022-06-09T08:01:45.080Z"
   },
   {
    "duration": 184,
    "start_time": "2022-06-09T08:01:45.087Z"
   },
   {
    "duration": 217,
    "start_time": "2022-06-09T08:01:45.273Z"
   },
   {
    "duration": 10,
    "start_time": "2022-06-09T08:01:45.491Z"
   },
   {
    "duration": 310,
    "start_time": "2022-06-09T08:01:45.503Z"
   },
   {
    "duration": 316,
    "start_time": "2022-06-09T08:01:45.815Z"
   },
   {
    "duration": 258,
    "start_time": "2022-06-09T08:01:46.135Z"
   },
   {
    "duration": 405,
    "start_time": "2022-06-09T08:01:46.394Z"
   },
   {
    "duration": 200,
    "start_time": "2022-06-09T08:01:46.801Z"
   },
   {
    "duration": 14,
    "start_time": "2022-06-09T08:01:47.003Z"
   },
   {
    "duration": 72,
    "start_time": "2022-06-09T08:01:47.030Z"
   },
   {
    "duration": 62,
    "start_time": "2022-06-09T08:01:47.104Z"
   },
   {
    "duration": 32,
    "start_time": "2022-06-09T08:01:47.168Z"
   },
   {
    "duration": 23,
    "start_time": "2022-06-09T08:01:47.201Z"
   },
   {
    "duration": 156,
    "start_time": "2022-06-09T08:03:55.588Z"
   },
   {
    "duration": 13,
    "start_time": "2022-06-09T08:04:24.979Z"
   },
   {
    "duration": 12,
    "start_time": "2022-06-09T08:04:33.061Z"
   },
   {
    "duration": 112,
    "start_time": "2022-06-09T08:05:11.359Z"
   },
   {
    "duration": 182,
    "start_time": "2022-06-09T08:05:17.894Z"
   },
   {
    "duration": 128,
    "start_time": "2022-06-09T08:05:22.220Z"
   },
   {
    "duration": 18,
    "start_time": "2022-06-09T08:05:31.374Z"
   },
   {
    "duration": 339,
    "start_time": "2022-06-09T08:05:43.026Z"
   },
   {
    "duration": 21,
    "start_time": "2022-06-09T08:05:58.056Z"
   },
   {
    "duration": 345,
    "start_time": "2022-06-09T08:06:03.673Z"
   },
   {
    "duration": 162,
    "start_time": "2022-06-09T08:06:32.356Z"
   },
   {
    "duration": 150,
    "start_time": "2022-06-09T08:06:56.006Z"
   },
   {
    "duration": 171,
    "start_time": "2022-06-09T08:07:03.844Z"
   },
   {
    "duration": 343,
    "start_time": "2022-06-09T08:07:11.973Z"
   },
   {
    "duration": 154,
    "start_time": "2022-06-09T08:07:17.143Z"
   },
   {
    "duration": 199,
    "start_time": "2022-06-09T08:07:23.062Z"
   },
   {
    "duration": 156,
    "start_time": "2022-06-09T08:07:27.710Z"
   },
   {
    "duration": 56,
    "start_time": "2022-06-09T08:07:31.037Z"
   },
   {
    "duration": 166,
    "start_time": "2022-06-09T08:07:38.597Z"
   },
   {
    "duration": 154,
    "start_time": "2022-06-09T08:07:44.541Z"
   },
   {
    "duration": 163,
    "start_time": "2022-06-09T08:07:54.443Z"
   },
   {
    "duration": 166,
    "start_time": "2022-06-09T08:08:05.670Z"
   },
   {
    "duration": 225,
    "start_time": "2022-06-09T08:08:10.904Z"
   },
   {
    "duration": 431,
    "start_time": "2022-06-09T08:08:37.739Z"
   },
   {
    "duration": 191,
    "start_time": "2022-06-09T08:09:00.763Z"
   },
   {
    "duration": 260,
    "start_time": "2022-06-09T08:09:09.145Z"
   },
   {
    "duration": 9,
    "start_time": "2022-06-09T08:10:12.694Z"
   },
   {
    "duration": 14,
    "start_time": "2022-06-09T08:10:17.157Z"
   },
   {
    "duration": 13,
    "start_time": "2022-06-09T08:10:34.005Z"
   },
   {
    "duration": 9,
    "start_time": "2022-06-09T08:10:42.599Z"
   },
   {
    "duration": 9,
    "start_time": "2022-06-09T08:10:47.668Z"
   },
   {
    "duration": 4,
    "start_time": "2022-06-09T08:10:50.394Z"
   },
   {
    "duration": 11,
    "start_time": "2022-06-09T08:10:53.956Z"
   },
   {
    "duration": 4,
    "start_time": "2022-06-09T08:11:47.515Z"
   },
   {
    "duration": 350,
    "start_time": "2022-06-09T08:15:47.659Z"
   },
   {
    "duration": 443,
    "start_time": "2022-06-09T08:16:06.396Z"
   },
   {
    "duration": 195,
    "start_time": "2022-06-09T08:16:11.331Z"
   },
   {
    "duration": 4,
    "start_time": "2022-06-09T08:16:20.586Z"
   },
   {
    "duration": 191,
    "start_time": "2022-06-09T08:16:24.005Z"
   },
   {
    "duration": 399,
    "start_time": "2022-06-09T08:17:26.289Z"
   },
   {
    "duration": 1042,
    "start_time": "2022-06-09T08:17:35.274Z"
   },
   {
    "duration": 365,
    "start_time": "2022-06-09T08:28:00.066Z"
   },
   {
    "duration": 28,
    "start_time": "2022-06-09T08:29:06.873Z"
   },
   {
    "duration": 25,
    "start_time": "2022-06-09T08:29:10.869Z"
   },
   {
    "duration": 22,
    "start_time": "2022-06-09T08:29:15.396Z"
   },
   {
    "duration": 47,
    "start_time": "2022-06-09T08:29:21.818Z"
   },
   {
    "duration": 4,
    "start_time": "2022-06-09T10:08:47.417Z"
   },
   {
    "duration": 91,
    "start_time": "2022-06-09T10:08:47.423Z"
   },
   {
    "duration": 47,
    "start_time": "2022-06-09T10:08:47.517Z"
   },
   {
    "duration": 5,
    "start_time": "2022-06-09T10:08:47.567Z"
   },
   {
    "duration": 14,
    "start_time": "2022-06-09T10:08:47.574Z"
   },
   {
    "duration": 7,
    "start_time": "2022-06-09T10:08:47.590Z"
   },
   {
    "duration": 53,
    "start_time": "2022-06-09T10:08:47.599Z"
   },
   {
    "duration": 17,
    "start_time": "2022-06-09T10:08:47.654Z"
   },
   {
    "duration": 21,
    "start_time": "2022-06-09T10:08:47.674Z"
   },
   {
    "duration": 22,
    "start_time": "2022-06-09T10:08:47.699Z"
   },
   {
    "duration": 16,
    "start_time": "2022-06-09T10:08:47.732Z"
   },
   {
    "duration": 39,
    "start_time": "2022-06-09T10:08:47.751Z"
   },
   {
    "duration": 10,
    "start_time": "2022-06-09T10:08:47.792Z"
   },
   {
    "duration": 30,
    "start_time": "2022-06-09T10:08:47.804Z"
   },
   {
    "duration": 22,
    "start_time": "2022-06-09T10:08:47.840Z"
   },
   {
    "duration": 8,
    "start_time": "2022-06-09T10:08:47.864Z"
   },
   {
    "duration": 294,
    "start_time": "2022-06-09T10:08:47.874Z"
   },
   {
    "duration": 292,
    "start_time": "2022-06-09T10:08:48.170Z"
   },
   {
    "duration": 9,
    "start_time": "2022-06-09T10:08:48.464Z"
   },
   {
    "duration": 16,
    "start_time": "2022-06-09T10:08:48.475Z"
   },
   {
    "duration": 295,
    "start_time": "2022-06-09T10:08:48.493Z"
   },
   {
    "duration": 303,
    "start_time": "2022-06-09T10:08:48.803Z"
   },
   {
    "duration": 7,
    "start_time": "2022-06-09T10:08:49.108Z"
   },
   {
    "duration": 269,
    "start_time": "2022-06-09T10:08:49.135Z"
   },
   {
    "duration": 23,
    "start_time": "2022-06-09T10:08:49.406Z"
   },
   {
    "duration": 243,
    "start_time": "2022-06-09T10:08:49.434Z"
   },
   {
    "duration": 8,
    "start_time": "2022-06-09T10:08:49.680Z"
   },
   {
    "duration": 260,
    "start_time": "2022-06-09T10:08:49.692Z"
   },
   {
    "duration": 8,
    "start_time": "2022-06-09T10:08:49.954Z"
   },
   {
    "duration": 7,
    "start_time": "2022-06-09T10:08:49.965Z"
   },
   {
    "duration": 269,
    "start_time": "2022-06-09T10:08:49.974Z"
   },
   {
    "duration": 7,
    "start_time": "2022-06-09T10:08:50.249Z"
   },
   {
    "duration": 13,
    "start_time": "2022-06-09T10:08:50.258Z"
   },
   {
    "duration": 29,
    "start_time": "2022-06-09T10:08:50.273Z"
   },
   {
    "duration": 62,
    "start_time": "2022-06-09T10:08:50.304Z"
   },
   {
    "duration": 4198,
    "start_time": "2022-06-09T10:08:50.368Z"
   },
   {
    "duration": 18,
    "start_time": "2022-06-09T10:08:54.568Z"
   },
   {
    "duration": 2570,
    "start_time": "2022-06-09T10:08:54.588Z"
   },
   {
    "duration": 21,
    "start_time": "2022-06-09T10:08:57.160Z"
   },
   {
    "duration": 305,
    "start_time": "2022-06-09T10:08:57.183Z"
   },
   {
    "duration": 269,
    "start_time": "2022-06-09T10:08:57.490Z"
   },
   {
    "duration": 198,
    "start_time": "2022-06-09T10:08:57.761Z"
   },
   {
    "duration": 211,
    "start_time": "2022-06-09T10:08:57.961Z"
   },
   {
    "duration": 409,
    "start_time": "2022-06-09T10:08:58.174Z"
   },
   {
    "duration": 9,
    "start_time": "2022-06-09T10:08:58.585Z"
   },
   {
    "duration": 213,
    "start_time": "2022-06-09T10:08:58.597Z"
   },
   {
    "duration": 303,
    "start_time": "2022-06-09T10:08:58.813Z"
   },
   {
    "duration": 22,
    "start_time": "2022-06-09T10:08:59.119Z"
   },
   {
    "duration": 308,
    "start_time": "2022-06-09T10:08:59.146Z"
   },
   {
    "duration": 341,
    "start_time": "2022-06-09T10:08:59.456Z"
   },
   {
    "duration": 305,
    "start_time": "2022-06-09T10:08:59.799Z"
   },
   {
    "duration": 380,
    "start_time": "2022-06-09T10:09:00.107Z"
   },
   {
    "duration": 16,
    "start_time": "2022-06-09T10:09:00.489Z"
   },
   {
    "duration": 37,
    "start_time": "2022-06-09T10:09:00.508Z"
   },
   {
    "duration": 31,
    "start_time": "2022-06-09T10:09:00.547Z"
   },
   {
    "duration": 24,
    "start_time": "2022-06-09T10:09:00.580Z"
   },
   {
    "duration": 38,
    "start_time": "2022-06-09T10:09:00.606Z"
   },
   {
    "duration": 17,
    "start_time": "2022-06-09T10:20:02.046Z"
   },
   {
    "duration": 12,
    "start_time": "2022-06-09T10:20:06.079Z"
   },
   {
    "duration": 9,
    "start_time": "2022-06-09T10:20:15.680Z"
   },
   {
    "duration": 29,
    "start_time": "2022-06-09T10:20:17.414Z"
   },
   {
    "duration": 539,
    "start_time": "2022-06-09T10:20:33.595Z"
   },
   {
    "duration": 4,
    "start_time": "2022-06-09T10:20:42.199Z"
   },
   {
    "duration": 9,
    "start_time": "2022-06-09T10:20:46.276Z"
   },
   {
    "duration": 5,
    "start_time": "2022-06-09T10:20:51.605Z"
   },
   {
    "duration": 14,
    "start_time": "2022-06-09T10:22:05.844Z"
   },
   {
    "duration": 5,
    "start_time": "2022-06-09T10:22:10.752Z"
   },
   {
    "duration": 9,
    "start_time": "2022-06-09T10:22:16.107Z"
   },
   {
    "duration": 46,
    "start_time": "2022-06-09T10:23:44.690Z"
   },
   {
    "duration": 8,
    "start_time": "2022-06-09T10:23:49.790Z"
   },
   {
    "duration": 9,
    "start_time": "2022-06-09T10:23:53.210Z"
   },
   {
    "duration": 9,
    "start_time": "2022-06-09T10:23:59.684Z"
   },
   {
    "duration": 4,
    "start_time": "2022-06-09T10:24:02.250Z"
   },
   {
    "duration": 12,
    "start_time": "2022-06-09T10:24:06.478Z"
   },
   {
    "duration": 7,
    "start_time": "2022-06-09T10:24:23.878Z"
   },
   {
    "duration": 37,
    "start_time": "2022-06-09T10:24:57.609Z"
   },
   {
    "duration": 45,
    "start_time": "2022-06-09T10:25:23.177Z"
   },
   {
    "duration": 18,
    "start_time": "2022-06-09T10:25:26.549Z"
   },
   {
    "duration": 24,
    "start_time": "2022-06-09T10:25:41.819Z"
   },
   {
    "duration": 32,
    "start_time": "2022-06-09T10:27:35.754Z"
   },
   {
    "duration": 7,
    "start_time": "2022-06-09T10:28:01.655Z"
   },
   {
    "duration": 5,
    "start_time": "2022-06-09T10:28:05.662Z"
   },
   {
    "duration": 16,
    "start_time": "2022-06-09T10:28:06.163Z"
   },
   {
    "duration": 27,
    "start_time": "2022-06-09T10:28:39.964Z"
   },
   {
    "duration": 17,
    "start_time": "2022-06-09T10:28:40.258Z"
   },
   {
    "duration": 9,
    "start_time": "2022-06-09T10:28:49.837Z"
   },
   {
    "duration": 17,
    "start_time": "2022-06-09T10:28:50.508Z"
   },
   {
    "duration": 34,
    "start_time": "2022-06-09T10:30:59.216Z"
   },
   {
    "duration": 19,
    "start_time": "2022-06-09T10:32:26.993Z"
   },
   {
    "duration": 5,
    "start_time": "2022-06-09T10:33:22.903Z"
   },
   {
    "duration": 420,
    "start_time": "2022-06-09T10:33:23.416Z"
   },
   {
    "duration": 460,
    "start_time": "2022-06-09T10:34:14.077Z"
   },
   {
    "duration": 3572,
    "start_time": "2022-06-09T10:35:09.098Z"
   },
   {
    "duration": 2244,
    "start_time": "2022-06-09T10:35:17.070Z"
   },
   {
    "duration": 1201,
    "start_time": "2022-06-09T10:35:31.412Z"
   },
   {
    "duration": 12,
    "start_time": "2022-06-09T10:35:41.450Z"
   },
   {
    "duration": 792,
    "start_time": "2022-06-09T10:36:01.191Z"
   },
   {
    "duration": 5,
    "start_time": "2022-06-09T10:36:12.553Z"
   },
   {
    "duration": 775,
    "start_time": "2022-06-09T10:36:13.242Z"
   },
   {
    "duration": 546,
    "start_time": "2022-06-09T10:36:22.198Z"
   },
   {
    "duration": 615,
    "start_time": "2022-06-09T10:36:48.079Z"
   },
   {
    "duration": 710,
    "start_time": "2022-06-09T10:36:54.194Z"
   },
   {
    "duration": 4,
    "start_time": "2022-06-09T10:37:48.193Z"
   },
   {
    "duration": 468,
    "start_time": "2022-06-09T10:37:48.593Z"
   },
   {
    "duration": 20,
    "start_time": "2022-06-09T10:38:04.321Z"
   },
   {
    "duration": 11,
    "start_time": "2022-06-09T10:38:04.749Z"
   },
   {
    "duration": 474,
    "start_time": "2022-06-09T10:38:18.710Z"
   },
   {
    "duration": 628,
    "start_time": "2022-06-09T10:39:00.397Z"
   },
   {
    "duration": 7,
    "start_time": "2022-06-09T10:39:14.702Z"
   },
   {
    "duration": 487,
    "start_time": "2022-06-09T10:39:27.899Z"
   },
   {
    "duration": 6,
    "start_time": "2022-06-09T10:39:46.253Z"
   },
   {
    "duration": 12,
    "start_time": "2022-06-09T10:39:50.202Z"
   },
   {
    "duration": 1070,
    "start_time": "2022-06-09T10:40:16.977Z"
   },
   {
    "duration": 26,
    "start_time": "2022-06-09T10:40:59.159Z"
   },
   {
    "duration": 35,
    "start_time": "2022-06-09T10:41:03.648Z"
   },
   {
    "duration": 9,
    "start_time": "2022-06-09T10:41:15.162Z"
   },
   {
    "duration": 637,
    "start_time": "2022-06-09T10:46:54.255Z"
   },
   {
    "duration": 532,
    "start_time": "2022-06-09T10:46:58.962Z"
   },
   {
    "duration": 6,
    "start_time": "2022-06-09T10:47:44.677Z"
   },
   {
    "duration": 5,
    "start_time": "2022-06-09T10:47:47.010Z"
   },
   {
    "duration": 424,
    "start_time": "2022-06-09T10:47:47.479Z"
   },
   {
    "duration": 431,
    "start_time": "2022-06-09T10:48:14.364Z"
   },
   {
    "duration": 12,
    "start_time": "2022-06-09T10:50:18.449Z"
   },
   {
    "duration": 648,
    "start_time": "2022-06-09T10:51:52.401Z"
   },
   {
    "duration": 35,
    "start_time": "2022-06-09T10:52:29.155Z"
   },
   {
    "duration": 5,
    "start_time": "2022-06-09T10:53:32.547Z"
   },
   {
    "duration": 54,
    "start_time": "2022-06-09T10:53:32.916Z"
   },
   {
    "duration": 59,
    "start_time": "2022-06-09T10:54:01.392Z"
   },
   {
    "duration": 6,
    "start_time": "2022-06-09T10:54:19.445Z"
   },
   {
    "duration": 57,
    "start_time": "2022-06-09T10:54:19.452Z"
   },
   {
    "duration": 41,
    "start_time": "2022-06-09T10:54:19.510Z"
   },
   {
    "duration": 6,
    "start_time": "2022-06-09T10:54:19.553Z"
   },
   {
    "duration": 12,
    "start_time": "2022-06-09T10:54:19.562Z"
   },
   {
    "duration": 4,
    "start_time": "2022-06-09T10:54:19.575Z"
   },
   {
    "duration": 7,
    "start_time": "2022-06-09T10:54:19.580Z"
   },
   {
    "duration": 10,
    "start_time": "2022-06-09T10:54:19.588Z"
   },
   {
    "duration": 11,
    "start_time": "2022-06-09T10:54:19.600Z"
   },
   {
    "duration": 36,
    "start_time": "2022-06-09T10:54:19.613Z"
   },
   {
    "duration": 11,
    "start_time": "2022-06-09T10:54:19.654Z"
   },
   {
    "duration": 26,
    "start_time": "2022-06-09T10:54:19.667Z"
   },
   {
    "duration": 7,
    "start_time": "2022-06-09T10:54:19.694Z"
   },
   {
    "duration": 31,
    "start_time": "2022-06-09T10:54:19.704Z"
   },
   {
    "duration": 21,
    "start_time": "2022-06-09T10:54:19.751Z"
   },
   {
    "duration": 12,
    "start_time": "2022-06-09T10:54:19.773Z"
   },
   {
    "duration": 205,
    "start_time": "2022-06-09T10:54:19.787Z"
   },
   {
    "duration": 274,
    "start_time": "2022-06-09T10:54:19.993Z"
   },
   {
    "duration": 6,
    "start_time": "2022-06-09T10:54:20.269Z"
   },
   {
    "duration": 21,
    "start_time": "2022-06-09T10:54:20.276Z"
   },
   {
    "duration": 288,
    "start_time": "2022-06-09T10:54:20.299Z"
   },
   {
    "duration": 262,
    "start_time": "2022-06-09T10:54:20.589Z"
   },
   {
    "duration": 5,
    "start_time": "2022-06-09T10:54:20.856Z"
   },
   {
    "duration": 243,
    "start_time": "2022-06-09T10:54:20.863Z"
   },
   {
    "duration": 5,
    "start_time": "2022-06-09T10:54:21.108Z"
   },
   {
    "duration": 213,
    "start_time": "2022-06-09T10:54:21.114Z"
   },
   {
    "duration": 6,
    "start_time": "2022-06-09T10:54:21.338Z"
   },
   {
    "duration": 1343,
    "start_time": "2022-06-09T10:54:21.356Z"
   },
   {
    "duration": 6,
    "start_time": "2022-06-09T10:54:22.701Z"
   },
   {
    "duration": 33,
    "start_time": "2022-06-09T10:54:22.709Z"
   },
   {
    "duration": 263,
    "start_time": "2022-06-09T10:54:22.744Z"
   },
   {
    "duration": 20,
    "start_time": "2022-06-09T10:54:23.009Z"
   },
   {
    "duration": 34,
    "start_time": "2022-06-09T10:54:23.030Z"
   },
   {
    "duration": 27,
    "start_time": "2022-06-09T10:54:23.066Z"
   },
   {
    "duration": 64,
    "start_time": "2022-06-09T10:54:23.095Z"
   },
   {
    "duration": 4169,
    "start_time": "2022-06-09T10:54:23.162Z"
   },
   {
    "duration": 22,
    "start_time": "2022-06-09T10:54:27.332Z"
   },
   {
    "duration": 2396,
    "start_time": "2022-06-09T10:54:27.357Z"
   },
   {
    "duration": 18,
    "start_time": "2022-06-09T10:54:29.754Z"
   },
   {
    "duration": 295,
    "start_time": "2022-06-09T10:54:29.773Z"
   },
   {
    "duration": 267,
    "start_time": "2022-06-09T10:54:30.074Z"
   },
   {
    "duration": 194,
    "start_time": "2022-06-09T10:54:30.342Z"
   },
   {
    "duration": 202,
    "start_time": "2022-06-09T10:54:30.538Z"
   },
   {
    "duration": 403,
    "start_time": "2022-06-09T10:54:30.743Z"
   },
   {
    "duration": 4,
    "start_time": "2022-06-09T10:54:31.148Z"
   },
   {
    "duration": 56,
    "start_time": "2022-06-09T10:54:31.153Z"
   },
   {
    "duration": 78,
    "start_time": "2022-06-09T10:54:31.211Z"
   },
   {
    "duration": 6,
    "start_time": "2022-06-09T10:54:31.290Z"
   },
   {
    "duration": 180,
    "start_time": "2022-06-09T10:54:31.297Z"
   },
   {
    "duration": 234,
    "start_time": "2022-06-09T10:54:31.479Z"
   },
   {
    "duration": 23,
    "start_time": "2022-06-09T10:54:31.715Z"
   },
   {
    "duration": 319,
    "start_time": "2022-06-09T10:54:31.743Z"
   },
   {
    "duration": 333,
    "start_time": "2022-06-09T10:54:32.063Z"
   },
   {
    "duration": 282,
    "start_time": "2022-06-09T10:54:32.397Z"
   },
   {
    "duration": 389,
    "start_time": "2022-06-09T10:54:32.682Z"
   },
   {
    "duration": 15,
    "start_time": "2022-06-09T10:54:33.073Z"
   },
   {
    "duration": 29,
    "start_time": "2022-06-09T10:54:33.089Z"
   },
   {
    "duration": 35,
    "start_time": "2022-06-09T10:54:33.120Z"
   },
   {
    "duration": 22,
    "start_time": "2022-06-09T10:54:33.157Z"
   },
   {
    "duration": 19,
    "start_time": "2022-06-09T10:54:33.181Z"
   },
   {
    "duration": 11,
    "start_time": "2022-06-09T10:59:15.760Z"
   },
   {
    "duration": 13,
    "start_time": "2022-06-09T10:59:27.055Z"
   },
   {
    "duration": 364,
    "start_time": "2022-06-09T11:00:00.792Z"
   },
   {
    "duration": 300,
    "start_time": "2022-06-09T11:01:01.108Z"
   },
   {
    "duration": 285,
    "start_time": "2022-06-09T11:01:14.159Z"
   },
   {
    "duration": 3,
    "start_time": "2022-06-09T11:06:03.021Z"
   },
   {
    "duration": 120,
    "start_time": "2022-06-09T11:06:03.025Z"
   },
   {
    "duration": 33,
    "start_time": "2022-06-09T11:06:03.152Z"
   },
   {
    "duration": 3,
    "start_time": "2022-06-09T11:06:03.186Z"
   },
   {
    "duration": 15,
    "start_time": "2022-06-09T11:06:03.191Z"
   },
   {
    "duration": 10,
    "start_time": "2022-06-09T11:06:03.207Z"
   },
   {
    "duration": 47,
    "start_time": "2022-06-09T11:06:03.220Z"
   },
   {
    "duration": 54,
    "start_time": "2022-06-09T11:06:03.269Z"
   },
   {
    "duration": 53,
    "start_time": "2022-06-09T11:06:03.325Z"
   },
   {
    "duration": 87,
    "start_time": "2022-06-09T11:06:03.380Z"
   },
   {
    "duration": 6,
    "start_time": "2022-06-09T11:06:03.468Z"
   },
   {
    "duration": 24,
    "start_time": "2022-06-09T11:06:03.476Z"
   },
   {
    "duration": 12,
    "start_time": "2022-06-09T11:06:03.502Z"
   },
   {
    "duration": 21,
    "start_time": "2022-06-09T11:06:03.517Z"
   },
   {
    "duration": 27,
    "start_time": "2022-06-09T11:06:03.542Z"
   },
   {
    "duration": 9,
    "start_time": "2022-06-09T11:06:03.571Z"
   },
   {
    "duration": 199,
    "start_time": "2022-06-09T11:06:03.582Z"
   },
   {
    "duration": 354,
    "start_time": "2022-06-09T11:06:03.783Z"
   },
   {
    "duration": 7,
    "start_time": "2022-06-09T11:06:04.141Z"
   },
   {
    "duration": 27,
    "start_time": "2022-06-09T11:06:04.150Z"
   },
   {
    "duration": 326,
    "start_time": "2022-06-09T11:06:04.179Z"
   },
   {
    "duration": 277,
    "start_time": "2022-06-09T11:06:04.507Z"
   },
   {
    "duration": 6,
    "start_time": "2022-06-09T11:06:04.785Z"
   },
   {
    "duration": 292,
    "start_time": "2022-06-09T11:06:04.792Z"
   },
   {
    "duration": 7,
    "start_time": "2022-06-09T11:06:05.086Z"
   },
   {
    "duration": 289,
    "start_time": "2022-06-09T11:06:05.094Z"
   },
   {
    "duration": 5,
    "start_time": "2022-06-09T11:06:05.386Z"
   },
   {
    "duration": 267,
    "start_time": "2022-06-09T11:06:05.393Z"
   },
   {
    "duration": 5,
    "start_time": "2022-06-09T11:06:05.666Z"
   },
   {
    "duration": 10,
    "start_time": "2022-06-09T11:06:05.673Z"
   },
   {
    "duration": 253,
    "start_time": "2022-06-09T11:06:05.685Z"
   },
   {
    "duration": 12,
    "start_time": "2022-06-09T11:06:05.941Z"
   },
   {
    "duration": 24,
    "start_time": "2022-06-09T11:06:05.955Z"
   },
   {
    "duration": 38,
    "start_time": "2022-06-09T11:06:05.981Z"
   },
   {
    "duration": 88,
    "start_time": "2022-06-09T11:06:06.021Z"
   },
   {
    "duration": 4319,
    "start_time": "2022-06-09T11:06:06.111Z"
   },
   {
    "duration": 23,
    "start_time": "2022-06-09T11:06:10.432Z"
   },
   {
    "duration": 3221,
    "start_time": "2022-06-09T11:06:10.458Z"
   },
   {
    "duration": 17,
    "start_time": "2022-06-09T11:06:13.681Z"
   },
   {
    "duration": 290,
    "start_time": "2022-06-09T11:06:13.700Z"
   },
   {
    "duration": 273,
    "start_time": "2022-06-09T11:06:13.994Z"
   },
   {
    "duration": 202,
    "start_time": "2022-06-09T11:06:14.269Z"
   },
   {
    "duration": 212,
    "start_time": "2022-06-09T11:06:14.474Z"
   },
   {
    "duration": 372,
    "start_time": "2022-06-09T11:06:14.687Z"
   },
   {
    "duration": 41,
    "start_time": "2022-06-09T11:06:15.061Z"
   },
   {
    "duration": 81,
    "start_time": "2022-06-09T11:06:15.104Z"
   },
   {
    "duration": 362,
    "start_time": "2022-06-09T11:06:15.187Z"
   },
   {
    "duration": 9,
    "start_time": "2022-06-09T11:06:15.550Z"
   },
   {
    "duration": 242,
    "start_time": "2022-06-09T11:06:15.564Z"
   },
   {
    "duration": 327,
    "start_time": "2022-06-09T11:06:15.808Z"
   },
   {
    "duration": 12,
    "start_time": "2022-06-09T11:06:16.138Z"
   },
   {
    "duration": 290,
    "start_time": "2022-06-09T11:06:16.151Z"
   },
   {
    "duration": 366,
    "start_time": "2022-06-09T11:06:16.443Z"
   },
   {
    "duration": 310,
    "start_time": "2022-06-09T11:06:16.810Z"
   },
   {
    "duration": 328,
    "start_time": "2022-06-09T11:06:17.130Z"
   },
   {
    "duration": 16,
    "start_time": "2022-06-09T11:06:17.460Z"
   },
   {
    "duration": 16,
    "start_time": "2022-06-09T11:06:17.477Z"
   },
   {
    "duration": 36,
    "start_time": "2022-06-09T11:06:17.495Z"
   },
   {
    "duration": 18,
    "start_time": "2022-06-09T11:06:17.534Z"
   },
   {
    "duration": 19,
    "start_time": "2022-06-09T11:06:17.560Z"
   },
   {
    "duration": 3,
    "start_time": "2022-06-09T11:15:39.553Z"
   },
   {
    "duration": 54,
    "start_time": "2022-06-09T11:15:39.558Z"
   },
   {
    "duration": 39,
    "start_time": "2022-06-09T11:15:39.613Z"
   },
   {
    "duration": 10,
    "start_time": "2022-06-09T11:15:39.653Z"
   },
   {
    "duration": 10,
    "start_time": "2022-06-09T11:15:39.665Z"
   },
   {
    "duration": 4,
    "start_time": "2022-06-09T11:15:39.676Z"
   },
   {
    "duration": 6,
    "start_time": "2022-06-09T11:15:39.681Z"
   },
   {
    "duration": 9,
    "start_time": "2022-06-09T11:15:39.688Z"
   },
   {
    "duration": 13,
    "start_time": "2022-06-09T11:15:39.698Z"
   },
   {
    "duration": 27,
    "start_time": "2022-06-09T11:15:39.713Z"
   },
   {
    "duration": 11,
    "start_time": "2022-06-09T11:15:39.749Z"
   },
   {
    "duration": 21,
    "start_time": "2022-06-09T11:15:39.762Z"
   },
   {
    "duration": 7,
    "start_time": "2022-06-09T11:15:39.784Z"
   },
   {
    "duration": 14,
    "start_time": "2022-06-09T11:15:39.794Z"
   },
   {
    "duration": 5,
    "start_time": "2022-06-09T11:15:39.810Z"
   },
   {
    "duration": 8,
    "start_time": "2022-06-09T11:15:39.827Z"
   },
   {
    "duration": 197,
    "start_time": "2022-06-09T11:15:39.838Z"
   },
   {
    "duration": 243,
    "start_time": "2022-06-09T11:15:40.037Z"
   },
   {
    "duration": 4,
    "start_time": "2022-06-09T11:15:40.282Z"
   },
   {
    "duration": 8,
    "start_time": "2022-06-09T11:15:40.288Z"
   },
   {
    "duration": 257,
    "start_time": "2022-06-09T11:15:40.297Z"
   },
   {
    "duration": 254,
    "start_time": "2022-06-09T11:15:40.559Z"
   },
   {
    "duration": 11,
    "start_time": "2022-06-09T11:15:40.815Z"
   },
   {
    "duration": 260,
    "start_time": "2022-06-09T11:15:40.828Z"
   },
   {
    "duration": 5,
    "start_time": "2022-06-09T11:15:41.089Z"
   },
   {
    "duration": 215,
    "start_time": "2022-06-09T11:15:41.096Z"
   },
   {
    "duration": 5,
    "start_time": "2022-06-09T11:15:41.312Z"
   },
   {
    "duration": 228,
    "start_time": "2022-06-09T11:15:41.318Z"
   },
   {
    "duration": 10,
    "start_time": "2022-06-09T11:15:41.547Z"
   },
   {
    "duration": 5,
    "start_time": "2022-06-09T11:15:41.559Z"
   },
   {
    "duration": 190,
    "start_time": "2022-06-09T11:15:41.566Z"
   },
   {
    "duration": 5,
    "start_time": "2022-06-09T11:15:41.758Z"
   },
   {
    "duration": 8,
    "start_time": "2022-06-09T11:15:41.765Z"
   },
   {
    "duration": 18,
    "start_time": "2022-06-09T11:15:41.775Z"
   },
   {
    "duration": 72,
    "start_time": "2022-06-09T11:15:41.795Z"
   },
   {
    "duration": 3933,
    "start_time": "2022-06-09T11:15:41.869Z"
   },
   {
    "duration": 48,
    "start_time": "2022-06-09T11:15:45.804Z"
   },
   {
    "duration": 2736,
    "start_time": "2022-06-09T11:15:45.858Z"
   },
   {
    "duration": 17,
    "start_time": "2022-06-09T11:15:48.596Z"
   },
   {
    "duration": 348,
    "start_time": "2022-06-09T11:15:48.615Z"
   },
   {
    "duration": 252,
    "start_time": "2022-06-09T11:15:48.968Z"
   },
   {
    "duration": 191,
    "start_time": "2022-06-09T11:15:49.228Z"
   },
   {
    "duration": 218,
    "start_time": "2022-06-09T11:15:49.420Z"
   },
   {
    "duration": 363,
    "start_time": "2022-06-09T11:15:49.639Z"
   },
   {
    "duration": 63,
    "start_time": "2022-06-09T11:15:50.004Z"
   },
   {
    "duration": 56,
    "start_time": "2022-06-09T11:15:50.070Z"
   },
   {
    "duration": 350,
    "start_time": "2022-06-09T11:15:50.128Z"
   },
   {
    "duration": 6,
    "start_time": "2022-06-09T11:15:50.480Z"
   },
   {
    "duration": 197,
    "start_time": "2022-06-09T11:15:50.487Z"
   },
   {
    "duration": 263,
    "start_time": "2022-06-09T11:15:50.686Z"
   },
   {
    "duration": 16,
    "start_time": "2022-06-09T11:15:50.950Z"
   },
   {
    "duration": 308,
    "start_time": "2022-06-09T11:15:50.970Z"
   },
   {
    "duration": 330,
    "start_time": "2022-06-09T11:15:51.280Z"
   },
   {
    "duration": 281,
    "start_time": "2022-06-09T11:15:51.611Z"
   },
   {
    "duration": 323,
    "start_time": "2022-06-09T11:15:51.894Z"
   },
   {
    "duration": 38,
    "start_time": "2022-06-09T11:15:52.219Z"
   },
   {
    "duration": 14,
    "start_time": "2022-06-09T11:15:52.259Z"
   },
   {
    "duration": 23,
    "start_time": "2022-06-09T11:15:52.275Z"
   },
   {
    "duration": 12,
    "start_time": "2022-06-09T11:15:52.300Z"
   },
   {
    "duration": 19,
    "start_time": "2022-06-09T11:15:52.314Z"
   },
   {
    "duration": 1232,
    "start_time": "2022-06-10T09:53:09.266Z"
   },
   {
    "duration": 102,
    "start_time": "2022-06-10T09:53:10.500Z"
   },
   {
    "duration": 33,
    "start_time": "2022-06-10T09:53:10.606Z"
   },
   {
    "duration": 3,
    "start_time": "2022-06-10T09:53:10.640Z"
   },
   {
    "duration": 14,
    "start_time": "2022-06-10T09:53:10.644Z"
   },
   {
    "duration": 12,
    "start_time": "2022-06-10T09:53:10.659Z"
   },
   {
    "duration": 7,
    "start_time": "2022-06-10T09:53:10.672Z"
   },
   {
    "duration": 13,
    "start_time": "2022-06-10T09:53:10.681Z"
   },
   {
    "duration": 12,
    "start_time": "2022-06-10T09:53:10.696Z"
   },
   {
    "duration": 28,
    "start_time": "2022-06-10T09:53:10.709Z"
   },
   {
    "duration": 5,
    "start_time": "2022-06-10T09:53:10.739Z"
   },
   {
    "duration": 23,
    "start_time": "2022-06-10T09:53:10.745Z"
   },
   {
    "duration": 7,
    "start_time": "2022-06-10T09:53:10.769Z"
   },
   {
    "duration": 13,
    "start_time": "2022-06-10T09:53:10.777Z"
   },
   {
    "duration": 4,
    "start_time": "2022-06-10T09:53:10.792Z"
   },
   {
    "duration": 31,
    "start_time": "2022-06-10T09:53:10.797Z"
   },
   {
    "duration": 174,
    "start_time": "2022-06-10T09:53:10.829Z"
   },
   {
    "duration": 221,
    "start_time": "2022-06-10T09:53:11.005Z"
   },
   {
    "duration": 5,
    "start_time": "2022-06-10T09:53:11.228Z"
   },
   {
    "duration": 6,
    "start_time": "2022-06-10T09:53:11.234Z"
   },
   {
    "duration": 230,
    "start_time": "2022-06-10T09:53:11.242Z"
   },
   {
    "duration": 221,
    "start_time": "2022-06-10T09:53:11.474Z"
   },
   {
    "duration": 6,
    "start_time": "2022-06-10T09:53:11.697Z"
   },
   {
    "duration": 279,
    "start_time": "2022-06-10T09:53:11.704Z"
   },
   {
    "duration": 5,
    "start_time": "2022-06-10T09:53:11.985Z"
   },
   {
    "duration": 191,
    "start_time": "2022-06-10T09:53:11.992Z"
   },
   {
    "duration": 5,
    "start_time": "2022-06-10T09:53:12.186Z"
   },
   {
    "duration": 190,
    "start_time": "2022-06-10T09:53:12.192Z"
   },
   {
    "duration": 4,
    "start_time": "2022-06-10T09:53:12.384Z"
   },
   {
    "duration": 6,
    "start_time": "2022-06-10T09:53:12.389Z"
   },
   {
    "duration": 165,
    "start_time": "2022-06-10T09:53:12.397Z"
   },
   {
    "duration": 5,
    "start_time": "2022-06-10T09:53:12.563Z"
   },
   {
    "duration": 7,
    "start_time": "2022-06-10T09:53:12.570Z"
   },
   {
    "duration": 21,
    "start_time": "2022-06-10T09:53:12.578Z"
   },
   {
    "duration": 61,
    "start_time": "2022-06-10T09:53:12.601Z"
   },
   {
    "duration": 2798,
    "start_time": "2022-06-10T09:53:12.664Z"
   },
   {
    "duration": 15,
    "start_time": "2022-06-10T09:53:15.464Z"
   },
   {
    "duration": 1948,
    "start_time": "2022-06-10T09:53:15.481Z"
   },
   {
    "duration": 15,
    "start_time": "2022-06-10T09:53:17.431Z"
   },
   {
    "duration": 247,
    "start_time": "2022-06-10T09:53:17.447Z"
   },
   {
    "duration": 220,
    "start_time": "2022-06-10T09:53:17.695Z"
   },
   {
    "duration": 161,
    "start_time": "2022-06-10T09:53:17.917Z"
   },
   {
    "duration": 165,
    "start_time": "2022-06-10T09:53:18.080Z"
   },
   {
    "duration": 336,
    "start_time": "2022-06-10T09:53:18.247Z"
   },
   {
    "duration": 45,
    "start_time": "2022-06-10T09:53:18.585Z"
   },
   {
    "duration": 56,
    "start_time": "2022-06-10T09:53:18.631Z"
   },
   {
    "duration": 319,
    "start_time": "2022-06-10T09:53:18.689Z"
   },
   {
    "duration": 6,
    "start_time": "2022-06-10T09:53:19.009Z"
   },
   {
    "duration": 154,
    "start_time": "2022-06-10T09:53:19.016Z"
   },
   {
    "duration": 233,
    "start_time": "2022-06-10T09:53:19.171Z"
   },
   {
    "duration": 10,
    "start_time": "2022-06-10T09:53:19.405Z"
   },
   {
    "duration": 265,
    "start_time": "2022-06-10T09:53:19.416Z"
   },
   {
    "duration": 406,
    "start_time": "2022-06-10T09:53:19.683Z"
   },
   {
    "duration": 244,
    "start_time": "2022-06-10T09:53:20.091Z"
   },
   {
    "duration": 282,
    "start_time": "2022-06-10T09:53:20.336Z"
   },
   {
    "duration": 17,
    "start_time": "2022-06-10T09:53:20.619Z"
   },
   {
    "duration": 17,
    "start_time": "2022-06-10T09:53:20.637Z"
   },
   {
    "duration": 23,
    "start_time": "2022-06-10T09:53:20.656Z"
   },
   {
    "duration": 13,
    "start_time": "2022-06-10T09:53:20.680Z"
   },
   {
    "duration": 12,
    "start_time": "2022-06-10T09:53:20.694Z"
   },
   {
    "duration": 49,
    "start_time": "2022-06-10T11:55:39.763Z"
   },
   {
    "duration": 1462,
    "start_time": "2022-06-10T11:55:42.971Z"
   },
   {
    "duration": 201,
    "start_time": "2022-06-10T11:55:44.435Z"
   },
   {
    "duration": 42,
    "start_time": "2022-06-10T11:55:44.640Z"
   },
   {
    "duration": 3,
    "start_time": "2022-06-10T11:55:44.685Z"
   },
   {
    "duration": 31,
    "start_time": "2022-06-10T11:55:44.690Z"
   },
   {
    "duration": 14,
    "start_time": "2022-06-10T11:55:44.724Z"
   },
   {
    "duration": 22,
    "start_time": "2022-06-10T11:55:44.740Z"
   },
   {
    "duration": 18,
    "start_time": "2022-06-10T11:55:44.764Z"
   },
   {
    "duration": 25,
    "start_time": "2022-06-10T11:55:44.784Z"
   },
   {
    "duration": 18,
    "start_time": "2022-06-10T11:55:44.812Z"
   },
   {
    "duration": 16,
    "start_time": "2022-06-10T11:55:44.832Z"
   },
   {
    "duration": 31,
    "start_time": "2022-06-10T11:55:44.850Z"
   },
   {
    "duration": 11,
    "start_time": "2022-06-10T11:55:44.883Z"
   },
   {
    "duration": 30,
    "start_time": "2022-06-10T11:55:44.896Z"
   },
   {
    "duration": 6,
    "start_time": "2022-06-10T11:55:44.928Z"
   },
   {
    "duration": 28,
    "start_time": "2022-06-10T11:55:44.935Z"
   },
   {
    "duration": 216,
    "start_time": "2022-06-10T11:55:44.965Z"
   },
   {
    "duration": 277,
    "start_time": "2022-06-10T11:55:45.184Z"
   },
   {
    "duration": 7,
    "start_time": "2022-06-10T11:55:45.463Z"
   },
   {
    "duration": 25,
    "start_time": "2022-06-10T11:55:45.472Z"
   },
   {
    "duration": 257,
    "start_time": "2022-06-10T11:55:45.499Z"
   },
   {
    "duration": 268,
    "start_time": "2022-06-10T11:55:45.758Z"
   },
   {
    "duration": 6,
    "start_time": "2022-06-10T11:55:46.028Z"
   },
   {
    "duration": 393,
    "start_time": "2022-06-10T11:55:46.036Z"
   },
   {
    "duration": 6,
    "start_time": "2022-06-10T11:55:46.431Z"
   },
   {
    "duration": 285,
    "start_time": "2022-06-10T11:55:46.440Z"
   },
   {
    "duration": 9,
    "start_time": "2022-06-10T11:55:46.727Z"
   },
   {
    "duration": 277,
    "start_time": "2022-06-10T11:55:46.742Z"
   },
   {
    "duration": 6,
    "start_time": "2022-06-10T11:55:47.021Z"
   },
   {
    "duration": 10,
    "start_time": "2022-06-10T11:55:47.029Z"
   },
   {
    "duration": 221,
    "start_time": "2022-06-10T11:55:47.041Z"
   },
   {
    "duration": 7,
    "start_time": "2022-06-10T11:55:47.263Z"
   },
   {
    "duration": 6,
    "start_time": "2022-06-10T11:55:47.271Z"
   },
   {
    "duration": 26,
    "start_time": "2022-06-10T11:55:47.279Z"
   },
   {
    "duration": 89,
    "start_time": "2022-06-10T11:55:47.306Z"
   },
   {
    "duration": 3342,
    "start_time": "2022-06-10T11:55:47.397Z"
   },
   {
    "duration": 20,
    "start_time": "2022-06-10T11:55:50.741Z"
   },
   {
    "duration": 2284,
    "start_time": "2022-06-10T11:55:50.763Z"
   },
   {
    "duration": 23,
    "start_time": "2022-06-10T11:55:53.049Z"
   },
   {
    "duration": 286,
    "start_time": "2022-06-10T11:55:53.074Z"
   },
   {
    "duration": 253,
    "start_time": "2022-06-10T11:55:53.362Z"
   },
   {
    "duration": 210,
    "start_time": "2022-06-10T11:55:53.616Z"
   },
   {
    "duration": 185,
    "start_time": "2022-06-10T11:55:53.828Z"
   },
   {
    "duration": 428,
    "start_time": "2022-06-10T11:55:54.014Z"
   },
   {
    "duration": 52,
    "start_time": "2022-06-10T11:55:54.444Z"
   },
   {
    "duration": 76,
    "start_time": "2022-06-10T11:55:54.498Z"
   },
   {
    "duration": 316,
    "start_time": "2022-06-10T11:55:54.575Z"
   },
   {
    "duration": 6,
    "start_time": "2022-06-10T11:55:54.892Z"
   },
   {
    "duration": 179,
    "start_time": "2022-06-10T11:55:54.900Z"
   },
   {
    "duration": 245,
    "start_time": "2022-06-10T11:55:55.081Z"
   },
   {
    "duration": 11,
    "start_time": "2022-06-10T11:55:55.327Z"
   },
   {
    "duration": 310,
    "start_time": "2022-06-10T11:55:55.339Z"
   },
   {
    "duration": 436,
    "start_time": "2022-06-10T11:55:55.650Z"
   },
   {
    "duration": 318,
    "start_time": "2022-06-10T11:55:56.089Z"
   },
   {
    "duration": 340,
    "start_time": "2022-06-10T11:55:56.409Z"
   },
   {
    "duration": 17,
    "start_time": "2022-06-10T11:55:56.751Z"
   },
   {
    "duration": 17,
    "start_time": "2022-06-10T11:55:56.769Z"
   },
   {
    "duration": 26,
    "start_time": "2022-06-10T11:55:56.788Z"
   },
   {
    "duration": 42,
    "start_time": "2022-06-10T11:55:56.816Z"
   },
   {
    "duration": 17,
    "start_time": "2022-06-10T11:55:56.860Z"
   },
   {
    "duration": 21,
    "start_time": "2022-06-10T11:55:56.878Z"
   },
   {
    "duration": 185,
    "start_time": "2022-06-10T11:56:17.148Z"
   },
   {
    "duration": 20,
    "start_time": "2022-06-10T11:56:25.685Z"
   },
   {
    "duration": 128,
    "start_time": "2022-06-10T11:56:45.487Z"
   },
   {
    "duration": 190,
    "start_time": "2022-06-10T11:56:56.654Z"
   },
   {
    "duration": 146,
    "start_time": "2022-06-10T11:57:05.830Z"
   },
   {
    "duration": 145,
    "start_time": "2022-06-10T11:58:03.619Z"
   },
   {
    "duration": 182,
    "start_time": "2022-06-10T11:59:51.834Z"
   },
   {
    "duration": 20,
    "start_time": "2022-06-10T12:04:04.774Z"
   },
   {
    "duration": 18,
    "start_time": "2022-06-10T12:04:08.467Z"
   },
   {
    "duration": 172,
    "start_time": "2022-06-10T12:04:24.091Z"
   },
   {
    "duration": 113,
    "start_time": "2022-06-10T12:04:43.886Z"
   },
   {
    "duration": 140,
    "start_time": "2022-06-10T12:05:15.287Z"
   },
   {
    "duration": 199,
    "start_time": "2022-06-10T12:06:11.952Z"
   },
   {
    "duration": 5,
    "start_time": "2022-06-10T12:12:16.631Z"
   },
   {
    "duration": 161,
    "start_time": "2022-06-10T12:14:43.127Z"
   },
   {
    "duration": 143,
    "start_time": "2022-06-10T12:14:44.158Z"
   },
   {
    "duration": 1205,
    "start_time": "2022-06-11T02:32:47.602Z"
   },
   {
    "duration": 88,
    "start_time": "2022-06-11T02:32:48.809Z"
   },
   {
    "duration": 30,
    "start_time": "2022-06-11T02:32:48.898Z"
   },
   {
    "duration": 3,
    "start_time": "2022-06-11T02:32:48.930Z"
   },
   {
    "duration": 11,
    "start_time": "2022-06-11T02:32:48.934Z"
   },
   {
    "duration": 3,
    "start_time": "2022-06-11T02:32:48.947Z"
   },
   {
    "duration": 7,
    "start_time": "2022-06-11T02:32:48.952Z"
   },
   {
    "duration": 10,
    "start_time": "2022-06-11T02:32:48.961Z"
   },
   {
    "duration": 10,
    "start_time": "2022-06-11T02:32:48.972Z"
   },
   {
    "duration": 14,
    "start_time": "2022-06-11T02:32:48.984Z"
   },
   {
    "duration": 30,
    "start_time": "2022-06-11T02:32:49.000Z"
   },
   {
    "duration": 28,
    "start_time": "2022-06-11T02:32:49.032Z"
   },
   {
    "duration": 7,
    "start_time": "2022-06-11T02:32:49.062Z"
   },
   {
    "duration": 15,
    "start_time": "2022-06-11T02:32:49.070Z"
   },
   {
    "duration": 5,
    "start_time": "2022-06-11T02:32:49.086Z"
   },
   {
    "duration": 11,
    "start_time": "2022-06-11T02:32:49.092Z"
   },
   {
    "duration": 181,
    "start_time": "2022-06-11T02:32:49.104Z"
   },
   {
    "duration": 225,
    "start_time": "2022-06-11T02:32:49.287Z"
   },
   {
    "duration": 6,
    "start_time": "2022-06-11T02:32:49.514Z"
   },
   {
    "duration": 25,
    "start_time": "2022-06-11T02:32:49.521Z"
   },
   {
    "duration": 244,
    "start_time": "2022-06-11T02:32:49.547Z"
   },
   {
    "duration": 243,
    "start_time": "2022-06-11T02:32:49.793Z"
   },
   {
    "duration": 6,
    "start_time": "2022-06-11T02:32:50.037Z"
   },
   {
    "duration": 307,
    "start_time": "2022-06-11T02:32:50.044Z"
   },
   {
    "duration": 5,
    "start_time": "2022-06-11T02:32:50.353Z"
   },
   {
    "duration": 195,
    "start_time": "2022-06-11T02:32:50.360Z"
   },
   {
    "duration": 5,
    "start_time": "2022-06-11T02:32:50.557Z"
   },
   {
    "duration": 181,
    "start_time": "2022-06-11T02:32:50.566Z"
   },
   {
    "duration": 5,
    "start_time": "2022-06-11T02:32:50.749Z"
   },
   {
    "duration": 5,
    "start_time": "2022-06-11T02:32:50.756Z"
   },
   {
    "duration": 168,
    "start_time": "2022-06-11T02:32:50.762Z"
   },
   {
    "duration": 6,
    "start_time": "2022-06-11T02:32:50.932Z"
   },
   {
    "duration": 9,
    "start_time": "2022-06-11T02:32:50.939Z"
   },
   {
    "duration": 34,
    "start_time": "2022-06-11T02:32:50.950Z"
   },
   {
    "duration": 41,
    "start_time": "2022-06-11T02:32:50.985Z"
   },
   {
    "duration": 2651,
    "start_time": "2022-06-11T02:32:51.027Z"
   },
   {
    "duration": 14,
    "start_time": "2022-06-11T02:32:53.680Z"
   },
   {
    "duration": 1766,
    "start_time": "2022-06-11T02:32:53.696Z"
   },
   {
    "duration": 17,
    "start_time": "2022-06-11T02:32:55.464Z"
   },
   {
    "duration": 239,
    "start_time": "2022-06-11T02:32:55.482Z"
   },
   {
    "duration": 208,
    "start_time": "2022-06-11T02:32:55.723Z"
   },
   {
    "duration": 149,
    "start_time": "2022-06-11T02:32:55.932Z"
   },
   {
    "duration": 170,
    "start_time": "2022-06-11T02:32:56.082Z"
   },
   {
    "duration": 318,
    "start_time": "2022-06-11T02:32:56.254Z"
   },
   {
    "duration": 37,
    "start_time": "2022-06-11T02:32:56.574Z"
   },
   {
    "duration": 60,
    "start_time": "2022-06-11T02:32:56.612Z"
   },
   {
    "duration": 260,
    "start_time": "2022-06-11T02:32:56.674Z"
   },
   {
    "duration": 5,
    "start_time": "2022-06-11T02:32:56.936Z"
   },
   {
    "duration": 149,
    "start_time": "2022-06-11T02:32:56.943Z"
   },
   {
    "duration": 200,
    "start_time": "2022-06-11T02:32:57.093Z"
   },
   {
    "duration": 9,
    "start_time": "2022-06-11T02:32:57.295Z"
   },
   {
    "duration": 259,
    "start_time": "2022-06-11T02:32:57.305Z"
   },
   {
    "duration": 370,
    "start_time": "2022-06-11T02:32:57.566Z"
   },
   {
    "duration": 224,
    "start_time": "2022-06-11T02:32:57.938Z"
   },
   {
    "duration": 282,
    "start_time": "2022-06-11T02:32:58.164Z"
   },
   {
    "duration": 13,
    "start_time": "2022-06-11T02:32:58.448Z"
   },
   {
    "duration": 16,
    "start_time": "2022-06-11T02:32:58.462Z"
   },
   {
    "duration": 24,
    "start_time": "2022-06-11T02:32:58.479Z"
   },
   {
    "duration": 124,
    "start_time": "2022-06-11T02:32:58.504Z"
   },
   {
    "duration": 117,
    "start_time": "2022-06-11T02:32:58.630Z"
   },
   {
    "duration": 12,
    "start_time": "2022-06-11T02:32:58.749Z"
   },
   {
    "duration": 13,
    "start_time": "2022-06-11T02:32:58.762Z"
   }
  ],
  "kernelspec": {
   "display_name": "Python 3 (ipykernel)",
   "language": "python",
   "name": "python3"
  },
  "language_info": {
   "codemirror_mode": {
    "name": "ipython",
    "version": 3
   },
   "file_extension": ".py",
   "mimetype": "text/x-python",
   "name": "python",
   "nbconvert_exporter": "python",
   "pygments_lexer": "ipython3",
   "version": "3.9.5"
  },
  "toc": {
   "base_numbering": 1,
   "nav_menu": {
    "height": "567.76px",
    "width": "408.75px"
   },
   "number_sections": true,
   "sideBar": true,
   "skip_h1_title": false,
   "title_cell": "Table of Contents",
   "title_sidebar": "Contents",
   "toc_cell": false,
   "toc_position": {
    "height": "calc(100% - 180px)",
    "left": "10px",
    "top": "150px",
    "width": "184.094px"
   },
   "toc_section_display": true,
   "toc_window_display": true
  }
 },
 "nbformat": 4,
 "nbformat_minor": 2
}
