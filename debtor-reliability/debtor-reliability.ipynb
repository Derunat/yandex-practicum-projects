{
 "cells": [
  {
   "cell_type": "markdown",
   "id": "76a3cc74",
   "metadata": {},
   "source": [
    "# Исследование надежности заемщиков."
   ]
  },
  {
   "cell_type": "markdown",
   "id": "fb60e26e",
   "metadata": {},
   "source": [
    "Кредитный отдел банка хочет разобраться, влияет ли семейное положение и количество детей клиента на факт погашения кредита в срок для построения модели кредитного скоринга. Задача - проанализировать статистику о платёжеспособности клиентов и выяснить:\n",
    " - Есть ли зависимость между количеством детей и возвратом кредита в срок\n",
    " - Есть ли зависимость между семейным положением и возвратом кредита в срок\n",
    " - Есть ли зависимость между уровнем дохода и возвратом кредита в срок\n",
    " - Как разные цели кредита влияют на его возврат в срок"
   ]
  },
  {
   "cell_type": "markdown",
   "id": "da44d73b",
   "metadata": {},
   "source": [
    "### Шаг 1. Обзор данных"
   ]
  },
  {
   "cell_type": "code",
   "execution_count": 1,
   "id": "d70c0211",
   "metadata": {},
   "outputs": [
    {
     "name": "stdout",
     "output_type": "stream",
     "text": [
      "<class 'pandas.core.frame.DataFrame'>\n",
      "RangeIndex: 21525 entries, 0 to 21524\n",
      "Data columns (total 12 columns):\n",
      " #   Column            Non-Null Count  Dtype  \n",
      "---  ------            --------------  -----  \n",
      " 0   children          21525 non-null  int64  \n",
      " 1   days_employed     19351 non-null  float64\n",
      " 2   dob_years         21525 non-null  int64  \n",
      " 3   education         21525 non-null  object \n",
      " 4   education_id      21525 non-null  int64  \n",
      " 5   family_status     21525 non-null  object \n",
      " 6   family_status_id  21525 non-null  int64  \n",
      " 7   gender            21525 non-null  object \n",
      " 8   income_type       21525 non-null  object \n",
      " 9   debt              21525 non-null  int64  \n",
      " 10  total_income      19351 non-null  float64\n",
      " 11  purpose           21525 non-null  object \n",
      "dtypes: float64(2), int64(5), object(5)\n",
      "memory usage: 2.0+ MB\n"
     ]
    },
    {
     "data": {
      "text/html": [
       "<div>\n",
       "<style scoped>\n",
       "    .dataframe tbody tr th:only-of-type {\n",
       "        vertical-align: middle;\n",
       "    }\n",
       "\n",
       "    .dataframe tbody tr th {\n",
       "        vertical-align: top;\n",
       "    }\n",
       "\n",
       "    .dataframe thead th {\n",
       "        text-align: right;\n",
       "    }\n",
       "</style>\n",
       "<table border=\"1\" class=\"dataframe\">\n",
       "  <thead>\n",
       "    <tr style=\"text-align: right;\">\n",
       "      <th></th>\n",
       "      <th>children</th>\n",
       "      <th>days_employed</th>\n",
       "      <th>dob_years</th>\n",
       "      <th>education</th>\n",
       "      <th>education_id</th>\n",
       "      <th>family_status</th>\n",
       "      <th>family_status_id</th>\n",
       "      <th>gender</th>\n",
       "      <th>income_type</th>\n",
       "      <th>debt</th>\n",
       "      <th>total_income</th>\n",
       "      <th>purpose</th>\n",
       "    </tr>\n",
       "  </thead>\n",
       "  <tbody>\n",
       "    <tr>\n",
       "      <th>0</th>\n",
       "      <td>1</td>\n",
       "      <td>-8437.673028</td>\n",
       "      <td>42</td>\n",
       "      <td>высшее</td>\n",
       "      <td>0</td>\n",
       "      <td>женат / замужем</td>\n",
       "      <td>0</td>\n",
       "      <td>F</td>\n",
       "      <td>сотрудник</td>\n",
       "      <td>0</td>\n",
       "      <td>253875.639453</td>\n",
       "      <td>покупка жилья</td>\n",
       "    </tr>\n",
       "    <tr>\n",
       "      <th>1</th>\n",
       "      <td>1</td>\n",
       "      <td>-4024.803754</td>\n",
       "      <td>36</td>\n",
       "      <td>среднее</td>\n",
       "      <td>1</td>\n",
       "      <td>женат / замужем</td>\n",
       "      <td>0</td>\n",
       "      <td>F</td>\n",
       "      <td>сотрудник</td>\n",
       "      <td>0</td>\n",
       "      <td>112080.014102</td>\n",
       "      <td>приобретение автомобиля</td>\n",
       "    </tr>\n",
       "    <tr>\n",
       "      <th>2</th>\n",
       "      <td>0</td>\n",
       "      <td>-5623.422610</td>\n",
       "      <td>33</td>\n",
       "      <td>Среднее</td>\n",
       "      <td>1</td>\n",
       "      <td>женат / замужем</td>\n",
       "      <td>0</td>\n",
       "      <td>M</td>\n",
       "      <td>сотрудник</td>\n",
       "      <td>0</td>\n",
       "      <td>145885.952297</td>\n",
       "      <td>покупка жилья</td>\n",
       "    </tr>\n",
       "    <tr>\n",
       "      <th>3</th>\n",
       "      <td>3</td>\n",
       "      <td>-4124.747207</td>\n",
       "      <td>32</td>\n",
       "      <td>среднее</td>\n",
       "      <td>1</td>\n",
       "      <td>женат / замужем</td>\n",
       "      <td>0</td>\n",
       "      <td>M</td>\n",
       "      <td>сотрудник</td>\n",
       "      <td>0</td>\n",
       "      <td>267628.550329</td>\n",
       "      <td>дополнительное образование</td>\n",
       "    </tr>\n",
       "    <tr>\n",
       "      <th>4</th>\n",
       "      <td>0</td>\n",
       "      <td>340266.072047</td>\n",
       "      <td>53</td>\n",
       "      <td>среднее</td>\n",
       "      <td>1</td>\n",
       "      <td>гражданский брак</td>\n",
       "      <td>1</td>\n",
       "      <td>F</td>\n",
       "      <td>пенсионер</td>\n",
       "      <td>0</td>\n",
       "      <td>158616.077870</td>\n",
       "      <td>сыграть свадьбу</td>\n",
       "    </tr>\n",
       "  </tbody>\n",
       "</table>\n",
       "</div>"
      ],
      "text/plain": [
       "   children  days_employed  dob_years education  education_id  \\\n",
       "0         1   -8437.673028         42    высшее             0   \n",
       "1         1   -4024.803754         36   среднее             1   \n",
       "2         0   -5623.422610         33   Среднее             1   \n",
       "3         3   -4124.747207         32   среднее             1   \n",
       "4         0  340266.072047         53   среднее             1   \n",
       "\n",
       "      family_status  family_status_id gender income_type  debt   total_income  \\\n",
       "0   женат / замужем                 0      F   сотрудник     0  253875.639453   \n",
       "1   женат / замужем                 0      F   сотрудник     0  112080.014102   \n",
       "2   женат / замужем                 0      M   сотрудник     0  145885.952297   \n",
       "3   женат / замужем                 0      M   сотрудник     0  267628.550329   \n",
       "4  гражданский брак                 1      F   пенсионер     0  158616.077870   \n",
       "\n",
       "                      purpose  \n",
       "0               покупка жилья  \n",
       "1     приобретение автомобиля  \n",
       "2               покупка жилья  \n",
       "3  дополнительное образование  \n",
       "4             сыграть свадьбу  "
      ]
     },
     "metadata": {},
     "output_type": "display_data"
    }
   ],
   "source": [
    "import pandas as pd\n",
    "df = pd.read_csv('/datasets/data.csv')\n",
    "df.info()\n",
    "display(df.head())"
   ]
  },
  {
   "cell_type": "markdown",
   "id": "19ece82a",
   "metadata": {},
   "source": [
    "Из первого взгляда на данные можно сделать следующие выводы:\n",
    " - в двух столбцах пропущены значения (days_employed и total_income)\n",
    " - непонятно что такое dob_years (date of birth?)\n",
    " - нужно проверить соотвествие education_id и  family_id\n",
    " - дни занятости выражены в странном формате. Есть минусовые значения, очень большие и все они не целые\n",
    " - неизвестны единицы измерения total_income"
   ]
  },
  {
   "cell_type": "markdown",
   "id": "90ff6b3d",
   "metadata": {},
   "source": [
    "### Шаг 2.1 Заполнение пропусков"
   ]
  },
  {
   "cell_type": "code",
   "execution_count": 2,
   "id": "e84e3534",
   "metadata": {},
   "outputs": [
    {
     "data": {
      "text/plain": [
       "0.11234561521368405"
      ]
     },
     "execution_count": 2,
     "metadata": {},
     "output_type": "execute_result"
    }
   ],
   "source": [
    "df['total_income'].isna().sum()/df['total_income'].count() #считаем долю пропущенных значений в столбце total_income\n"
   ]
  },
  {
   "cell_type": "markdown",
   "id": "d5cff587",
   "metadata": {},
   "source": [
    "Пропущено 11% значений в столбце. Если бы стояла задача выяснить, влияет ли доход на погашение кредита в срок, заполнять пропуски какими-то значениями было бы нельзя, но в данном случае заполним пропуски медианным значением. Медиана в данном случае лучшее приближение, так как уровень доходов распределен неравномерно -- могут быть резко выделяющиеся значения. "
   ]
  },
  {
   "cell_type": "code",
   "execution_count": 3,
   "id": "4bf180fd",
   "metadata": {},
   "outputs": [
    {
     "data": {
      "text/plain": [
       "0"
      ]
     },
     "execution_count": 3,
     "metadata": {},
     "output_type": "execute_result"
    }
   ],
   "source": [
    "df['total_income'] = df['total_income'].fillna(df['total_income'].median()) #заменяем все пропуски на медианное значение\n",
    "df['total_income'].isna().sum() #проверяем, что все пропущенные значения заменились\n"
   ]
  },
  {
   "cell_type": "markdown",
   "id": "e9ea3c6f",
   "metadata": {},
   "source": [
    "В столбце days_employed тоже есть пропущенные значения. Так как их ровно столько же, скольки и для столбца total_income, можно предположить, что этот блок данных пропал из таблицы вместе, в результате какой-либо ошибки. Прежде чем заполнять пропуски в days_employed, разберемся с форматом записи"
   ]
  },
  {
   "cell_type": "markdown",
   "id": "0f527063",
   "metadata": {},
   "source": [
    "### Шаг 2.2 Проверка данных на аномалии и исправления."
   ]
  },
  {
   "cell_type": "markdown",
   "id": "795d5ea8",
   "metadata": {},
   "source": [
    "Проверим значения в столбце dob_years"
   ]
  },
  {
   "cell_type": "code",
   "execution_count": 4,
   "id": "3f862a2e",
   "metadata": {},
   "outputs": [
    {
     "data": {
      "text/plain": [
       "0     101\n",
       "19     14\n",
       "20     51\n",
       "21    111\n",
       "22    183\n",
       "23    254\n",
       "24    264\n",
       "25    357\n",
       "26    408\n",
       "27    493\n",
       "28    503\n",
       "29    545\n",
       "30    540\n",
       "31    560\n",
       "32    510\n",
       "33    581\n",
       "34    603\n",
       "35    617\n",
       "36    555\n",
       "37    537\n",
       "38    598\n",
       "39    573\n",
       "40    609\n",
       "41    607\n",
       "42    597\n",
       "43    513\n",
       "44    547\n",
       "45    497\n",
       "46    475\n",
       "47    480\n",
       "48    538\n",
       "49    508\n",
       "50    514\n",
       "51    448\n",
       "52    484\n",
       "53    459\n",
       "54    479\n",
       "55    443\n",
       "56    487\n",
       "57    460\n",
       "58    461\n",
       "59    444\n",
       "60    377\n",
       "61    355\n",
       "62    352\n",
       "63    269\n",
       "64    265\n",
       "65    194\n",
       "66    183\n",
       "67    167\n",
       "68     99\n",
       "69     85\n",
       "70     65\n",
       "71     58\n",
       "72     33\n",
       "73      8\n",
       "74      6\n",
       "75      1\n",
       "Name: dob_years, dtype: int64"
      ]
     },
     "execution_count": 4,
     "metadata": {},
     "output_type": "execute_result"
    }
   ],
   "source": [
    "df['dob_years'].value_counts().sort_index() "
   ]
  },
  {
   "cell_type": "markdown",
   "id": "110b7712",
   "metadata": {},
   "source": [
    "У 101 человека указан возраст 0. Это, очевидно, ошибка, но пока неизвестно чем заменить нулевое значение. Пока посмотрим на столбец days_employed и затем попробуем проанализировать эти два столбца вместе, так как они связаны"
   ]
  },
  {
   "cell_type": "code",
   "execution_count": 5,
   "id": "72da4ae9",
   "metadata": {},
   "outputs": [
    {
     "data": {
      "text/plain": [
       "15906"
      ]
     },
     "execution_count": 5,
     "metadata": {},
     "output_type": "execute_result"
    }
   ],
   "source": [
    "df.loc[df['days_employed']<0,'days_employed'].count()"
   ]
  },
  {
   "cell_type": "markdown",
   "id": "d78ce223",
   "metadata": {},
   "source": [
    "Б**о**льшая часть значений в столбце со стажем отрицательная. К тому же, положительное значение в пятой строке -- 340266 дней, а это 932 года. Значит это не просто ошибка ввода, а какая-то другая логика данных"
   ]
  },
  {
   "cell_type": "code",
   "execution_count": 6,
   "id": "5acc0fe7",
   "metadata": {},
   "outputs": [
    {
     "data": {
      "text/plain": [
       "<AxesSubplot:xlabel='dob_years', ylabel='days_employed'>"
      ]
     },
     "execution_count": 6,
     "metadata": {},
     "output_type": "execute_result"
    },
    {
     "data": {
      "image/png": "[encoded data removed]",
      "text/plain": [
       "<Figure size 432x288 with 1 Axes>"
      ]
     },
     "metadata": {
      "needs_background": "light"
     },
     "output_type": "display_data"
    }
   ],
   "source": [
    "import seaborn as sns\n",
    "sns.scatterplot(x=df['dob_years'], y= df['days_employed'])"
   ]
  },
  {
   "cell_type": "markdown",
   "id": "6fb9ce8e",
   "metadata": {},
   "source": [
    "На графике выделяется нижняя аномальная полоса значений ниже нуля. Замена их на модули аномалию не уберет. Можно предположить, что отрицательные значения появились случайно, поднять их на 350 000 и растянуть до ширины основной полосы"
   ]
  },
  {
   "cell_type": "code",
   "execution_count": 7,
   "id": "17fc7bc7",
   "metadata": {},
   "outputs": [
    {
     "data": {
      "text/plain": [
       "<AxesSubplot:xlabel='dob_years', ylabel='days_employed'>"
      ]
     },
     "execution_count": 7,
     "metadata": {},
     "output_type": "execute_result"
    },
    {
     "data": {
      "image/png": "[encoded data removed]",
      "text/plain": [
       "<Figure size 432x288 with 1 Axes>"
      ]
     },
     "metadata": {
      "needs_background": "light"
     },
     "output_type": "display_data"
    }
   ],
   "source": [
    "#расчет множителя для нормировки\n",
    "multiplier = (df.loc[df['days_employed']<0, 'days_employed'].max()-df.loc[df['days_employed']<0, 'days_employed'].min())/(df.loc[df['days_employed']>0, 'days_employed'].max()-df.loc[df['days_employed']>0, 'days_employed'].min())\n",
    "\n",
    "\n",
    "df.loc[df['days_employed']<0, 'days_employed'] *= -1/multiplier #переворот и растягивание аномальных значений\n",
    "df.loc[df['days_employed']<100000, 'days_employed'] += 330000 #подъем аномальных значений вверх\n",
    "sns.scatterplot(x=df['dob_years'], y= df['days_employed'])"
   ]
  },
  {
   "cell_type": "markdown",
   "id": "7eb649c1",
   "metadata": {},
   "source": [
    "Стало лучше, даже появилась заметная заивисимость стажа от возраста. Но значение цифр остается непонятным. Так как значения days_employed  в данной работе не используются, оставим попытки расшифровать их значения и заменим пропущенные значения на медиану. \n",
    "\n",
    "Строки таблицы с возрастом 0 в реальной работе, вероятно, следовало бы выкинуть (так как их меньше 1%), но в данной работе не будем делать с ними ничего, так как возраст заемщиков не используется. "
   ]
  },
  {
   "cell_type": "code",
   "execution_count": 8,
   "id": "f8f2756e",
   "metadata": {},
   "outputs": [
    {
     "data": {
      "text/plain": [
       "0"
      ]
     },
     "execution_count": 8,
     "metadata": {},
     "output_type": "execute_result"
    }
   ],
   "source": [
    "df['days_employed'] = df['days_employed'].fillna(df['days_employed'].median()) #заполним пропуски медианой\n",
    "df['days_employed'].isna().sum() #проверяем, что пропусков не осталось\n"
   ]
  },
  {
   "cell_type": "markdown",
   "id": "83606413",
   "metadata": {},
   "source": [
    "Проверим данные в столбце children"
   ]
  },
  {
   "cell_type": "code",
   "execution_count": 9,
   "id": "0021ab51",
   "metadata": {},
   "outputs": [
    {
     "data": {
      "text/plain": [
       " 0     14149\n",
       " 1      4818\n",
       " 2      2055\n",
       " 3       330\n",
       " 20       76\n",
       "-1        47\n",
       " 4        41\n",
       " 5         9\n",
       "Name: children, dtype: int64"
      ]
     },
     "execution_count": 9,
     "metadata": {},
     "output_type": "execute_result"
    }
   ],
   "source": [
    "df['children'].value_counts()"
   ]
  },
  {
   "cell_type": "markdown",
   "id": "2137447b",
   "metadata": {},
   "source": [
    "У 47 людей -1 ребенок. Будем считать, что минус случайный и уберем его. У 76 людей 20 детей. Будем считать, что это тоже ошибка и заменим на 2"
   ]
  },
  {
   "cell_type": "code",
   "execution_count": 10,
   "id": "f416501a",
   "metadata": {},
   "outputs": [
    {
     "data": {
      "text/plain": [
       "0    14149\n",
       "1     4865\n",
       "2     2131\n",
       "3      330\n",
       "4       41\n",
       "5        9\n",
       "Name: children, dtype: int64"
      ]
     },
     "execution_count": 10,
     "metadata": {},
     "output_type": "execute_result"
    }
   ],
   "source": [
    "df.loc[df['children'] == -1,'children'] = 1\n",
    "df.loc[df['children'] == 20,'children'] = 2\n",
    "\n",
    "df['children'].value_counts() #проверяем, что замена произошла успешно"
   ]
  },
  {
   "cell_type": "markdown",
   "id": "8280c7bd",
   "metadata": {},
   "source": [
    "Проверяем значения в столбцах education_id и family_status_id"
   ]
  },
  {
   "cell_type": "code",
   "execution_count": 11,
   "id": "75641b30",
   "metadata": {},
   "outputs": [
    {
     "data": {
      "text/plain": [
       "1    15233\n",
       "0     5260\n",
       "2      744\n",
       "3      282\n",
       "4        6\n",
       "Name: education_id, dtype: int64"
      ]
     },
     "execution_count": 11,
     "metadata": {},
     "output_type": "execute_result"
    }
   ],
   "source": [
    "df['education_id'].value_counts()"
   ]
  },
  {
   "cell_type": "code",
   "execution_count": 12,
   "id": "791ae30e",
   "metadata": {},
   "outputs": [
    {
     "data": {
      "text/plain": [
       "0    12380\n",
       "1     4177\n",
       "4     2813\n",
       "3     1195\n",
       "2      960\n",
       "Name: family_status_id, dtype: int64"
      ]
     },
     "execution_count": 12,
     "metadata": {},
     "output_type": "execute_result"
    }
   ],
   "source": [
    "df['family_status_id'].value_counts()\n"
   ]
  },
  {
   "cell_type": "markdown",
   "id": "c9ce5670",
   "metadata": {},
   "source": [
    "В этих столбцах значения выглядят адекватно, соотвествуют количеству категорий образования и семейного положения (проверка этих столбцов -- ниже, в пункте 0.5).\n",
    "\n",
    "Проверим значения столбца gender"
   ]
  },
  {
   "cell_type": "code",
   "execution_count": 13,
   "id": "7fc491e9",
   "metadata": {},
   "outputs": [
    {
     "data": {
      "text/plain": [
       "F      14236\n",
       "M       7288\n",
       "XNA        1\n",
       "Name: gender, dtype: int64"
      ]
     },
     "execution_count": 13,
     "metadata": {},
     "output_type": "execute_result"
    }
   ],
   "source": [
    "df['gender'].value_counts()\n"
   ]
  },
  {
   "cell_type": "markdown",
   "id": "6b452264",
   "metadata": {},
   "source": [
    "Есть значение XNA, но вряд ли это ошибка. Исправлять не будем.\n",
    "\n",
    "Проверим значения столбцов income_type и debt"
   ]
  },
  {
   "cell_type": "code",
   "execution_count": 14,
   "id": "ae790598",
   "metadata": {},
   "outputs": [
    {
     "data": {
      "text/plain": [
       "сотрудник          11119\n",
       "компаньон           5085\n",
       "пенсионер           3856\n",
       "госслужащий         1459\n",
       "предприниматель        2\n",
       "безработный            2\n",
       "в декрете              1\n",
       "студент                1\n",
       "Name: income_type, dtype: int64"
      ]
     },
     "execution_count": 14,
     "metadata": {},
     "output_type": "execute_result"
    }
   ],
   "source": [
    "df['income_type'].value_counts()"
   ]
  },
  {
   "cell_type": "code",
   "execution_count": 15,
   "id": "2babb498",
   "metadata": {},
   "outputs": [
    {
     "data": {
      "text/plain": [
       "0    19784\n",
       "1     1741\n",
       "Name: debt, dtype: int64"
      ]
     },
     "execution_count": 15,
     "metadata": {},
     "output_type": "execute_result"
    }
   ],
   "source": [
    "df['debt'].value_counts()"
   ]
  },
  {
   "cell_type": "markdown",
   "id": "fe55aa43",
   "metadata": {},
   "source": [
    "Аномалий в этих столбцах не обнаружено"
   ]
  },
  {
   "cell_type": "markdown",
   "id": "28641a1b",
   "metadata": {},
   "source": [
    "### Шаг 2.3. Изменение типов данных."
   ]
  },
  {
   "cell_type": "code",
   "execution_count": 16,
   "id": "b049172b",
   "metadata": {
    "scrolled": true
   },
   "outputs": [
    {
     "name": "stdout",
     "output_type": "stream",
     "text": [
      "<class 'pandas.core.frame.DataFrame'>\n",
      "RangeIndex: 21525 entries, 0 to 21524\n",
      "Data columns (total 12 columns):\n",
      " #   Column            Non-Null Count  Dtype  \n",
      "---  ------            --------------  -----  \n",
      " 0   children          21525 non-null  int64  \n",
      " 1   days_employed     21525 non-null  float64\n",
      " 2   dob_years         21525 non-null  int64  \n",
      " 3   education         21525 non-null  object \n",
      " 4   education_id      21525 non-null  int64  \n",
      " 5   family_status     21525 non-null  object \n",
      " 6   family_status_id  21525 non-null  int64  \n",
      " 7   gender            21525 non-null  object \n",
      " 8   income_type       21525 non-null  object \n",
      " 9   debt              21525 non-null  int64  \n",
      " 10  total_income      21525 non-null  int64  \n",
      " 11  purpose           21525 non-null  object \n",
      "dtypes: float64(1), int64(6), object(5)\n",
      "memory usage: 2.0+ MB\n"
     ]
    }
   ],
   "source": [
    "df['total_income'] = df['total_income'].astype('int') #замена типа значений total_income на целочисленный\n",
    "df.info() #проверяем, что замена прошла успешно"
   ]
  },
  {
   "cell_type": "markdown",
   "id": "e5cff71f",
   "metadata": {},
   "source": [
    "### Шаг 2.4. Удаление дубликатов."
   ]
  },
  {
   "cell_type": "markdown",
   "id": "c1781cb5",
   "metadata": {},
   "source": [
    "Проверяем таблицу на наличие явных дубликатов"
   ]
  },
  {
   "cell_type": "code",
   "execution_count": 17,
   "id": "fa60d887",
   "metadata": {
    "scrolled": false
   },
   "outputs": [
    {
     "data": {
      "text/plain": [
       "54"
      ]
     },
     "execution_count": 17,
     "metadata": {},
     "output_type": "execute_result"
    }
   ],
   "source": [
    "df.duplicated().sum() #подсчет дубликатов"
   ]
  },
  {
   "cell_type": "code",
   "execution_count": 18,
   "id": "4ede1caa",
   "metadata": {},
   "outputs": [
    {
     "data": {
      "text/html": [
       "<div>\n",
       "<style scoped>\n",
       "    .dataframe tbody tr th:only-of-type {\n",
       "        vertical-align: middle;\n",
       "    }\n",
       "\n",
       "    .dataframe tbody tr th {\n",
       "        vertical-align: top;\n",
       "    }\n",
       "\n",
       "    .dataframe thead th {\n",
       "        text-align: right;\n",
       "    }\n",
       "</style>\n",
       "<table border=\"1\" class=\"dataframe\">\n",
       "  <thead>\n",
       "    <tr style=\"text-align: right;\">\n",
       "      <th></th>\n",
       "      <th>children</th>\n",
       "      <th>days_employed</th>\n",
       "      <th>dob_years</th>\n",
       "      <th>education</th>\n",
       "      <th>education_id</th>\n",
       "      <th>family_status</th>\n",
       "      <th>family_status_id</th>\n",
       "      <th>gender</th>\n",
       "      <th>income_type</th>\n",
       "      <th>debt</th>\n",
       "      <th>total_income</th>\n",
       "      <th>purpose</th>\n",
       "    </tr>\n",
       "  </thead>\n",
       "  <tbody>\n",
       "    <tr>\n",
       "      <th>19321</th>\n",
       "      <td>0</td>\n",
       "      <td>338042.686782</td>\n",
       "      <td>23</td>\n",
       "      <td>среднее</td>\n",
       "      <td>1</td>\n",
       "      <td>Не женат / не замужем</td>\n",
       "      <td>4</td>\n",
       "      <td>F</td>\n",
       "      <td>сотрудник</td>\n",
       "      <td>0</td>\n",
       "      <td>145017</td>\n",
       "      <td>сделка с подержанным автомобилем</td>\n",
       "    </tr>\n",
       "    <tr>\n",
       "      <th>18328</th>\n",
       "      <td>0</td>\n",
       "      <td>338042.686782</td>\n",
       "      <td>29</td>\n",
       "      <td>высшее</td>\n",
       "      <td>0</td>\n",
       "      <td>женат / замужем</td>\n",
       "      <td>0</td>\n",
       "      <td>M</td>\n",
       "      <td>сотрудник</td>\n",
       "      <td>0</td>\n",
       "      <td>145017</td>\n",
       "      <td>покупка жилой недвижимости</td>\n",
       "    </tr>\n",
       "    <tr>\n",
       "      <th>21281</th>\n",
       "      <td>1</td>\n",
       "      <td>338042.686782</td>\n",
       "      <td>30</td>\n",
       "      <td>высшее</td>\n",
       "      <td>0</td>\n",
       "      <td>женат / замужем</td>\n",
       "      <td>0</td>\n",
       "      <td>F</td>\n",
       "      <td>сотрудник</td>\n",
       "      <td>0</td>\n",
       "      <td>145017</td>\n",
       "      <td>покупка коммерческой недвижимости</td>\n",
       "    </tr>\n",
       "    <tr>\n",
       "      <th>18349</th>\n",
       "      <td>1</td>\n",
       "      <td>338042.686782</td>\n",
       "      <td>30</td>\n",
       "      <td>высшее</td>\n",
       "      <td>0</td>\n",
       "      <td>женат / замужем</td>\n",
       "      <td>0</td>\n",
       "      <td>F</td>\n",
       "      <td>госслужащий</td>\n",
       "      <td>0</td>\n",
       "      <td>145017</td>\n",
       "      <td>покупка жилья для семьи</td>\n",
       "    </tr>\n",
       "    <tr>\n",
       "      <th>13878</th>\n",
       "      <td>1</td>\n",
       "      <td>338042.686782</td>\n",
       "      <td>31</td>\n",
       "      <td>среднее</td>\n",
       "      <td>1</td>\n",
       "      <td>женат / замужем</td>\n",
       "      <td>0</td>\n",
       "      <td>F</td>\n",
       "      <td>компаньон</td>\n",
       "      <td>0</td>\n",
       "      <td>145017</td>\n",
       "      <td>покупка жилья</td>\n",
       "    </tr>\n",
       "    <tr>\n",
       "      <th>16904</th>\n",
       "      <td>1</td>\n",
       "      <td>338042.686782</td>\n",
       "      <td>32</td>\n",
       "      <td>высшее</td>\n",
       "      <td>0</td>\n",
       "      <td>женат / замужем</td>\n",
       "      <td>0</td>\n",
       "      <td>F</td>\n",
       "      <td>сотрудник</td>\n",
       "      <td>0</td>\n",
       "      <td>145017</td>\n",
       "      <td>на покупку подержанного автомобиля</td>\n",
       "    </tr>\n",
       "    <tr>\n",
       "      <th>4182</th>\n",
       "      <td>1</td>\n",
       "      <td>338042.686782</td>\n",
       "      <td>34</td>\n",
       "      <td>ВЫСШЕЕ</td>\n",
       "      <td>0</td>\n",
       "      <td>гражданский брак</td>\n",
       "      <td>1</td>\n",
       "      <td>F</td>\n",
       "      <td>сотрудник</td>\n",
       "      <td>0</td>\n",
       "      <td>145017</td>\n",
       "      <td>свадьба</td>\n",
       "    </tr>\n",
       "    <tr>\n",
       "      <th>9238</th>\n",
       "      <td>2</td>\n",
       "      <td>338042.686782</td>\n",
       "      <td>34</td>\n",
       "      <td>среднее</td>\n",
       "      <td>1</td>\n",
       "      <td>женат / замужем</td>\n",
       "      <td>0</td>\n",
       "      <td>F</td>\n",
       "      <td>сотрудник</td>\n",
       "      <td>0</td>\n",
       "      <td>145017</td>\n",
       "      <td>покупка жилья для сдачи</td>\n",
       "    </tr>\n",
       "    <tr>\n",
       "      <th>13773</th>\n",
       "      <td>0</td>\n",
       "      <td>338042.686782</td>\n",
       "      <td>35</td>\n",
       "      <td>среднее</td>\n",
       "      <td>1</td>\n",
       "      <td>гражданский брак</td>\n",
       "      <td>1</td>\n",
       "      <td>F</td>\n",
       "      <td>сотрудник</td>\n",
       "      <td>0</td>\n",
       "      <td>145017</td>\n",
       "      <td>сыграть свадьбу</td>\n",
       "    </tr>\n",
       "    <tr>\n",
       "      <th>14432</th>\n",
       "      <td>2</td>\n",
       "      <td>338042.686782</td>\n",
       "      <td>36</td>\n",
       "      <td>высшее</td>\n",
       "      <td>0</td>\n",
       "      <td>женат / замужем</td>\n",
       "      <td>0</td>\n",
       "      <td>F</td>\n",
       "      <td>госслужащий</td>\n",
       "      <td>0</td>\n",
       "      <td>145017</td>\n",
       "      <td>получение образования</td>\n",
       "    </tr>\n",
       "    <tr>\n",
       "      <th>12375</th>\n",
       "      <td>1</td>\n",
       "      <td>338042.686782</td>\n",
       "      <td>37</td>\n",
       "      <td>среднее</td>\n",
       "      <td>1</td>\n",
       "      <td>женат / замужем</td>\n",
       "      <td>0</td>\n",
       "      <td>F</td>\n",
       "      <td>сотрудник</td>\n",
       "      <td>0</td>\n",
       "      <td>145017</td>\n",
       "      <td>покупка недвижимости</td>\n",
       "    </tr>\n",
       "    <tr>\n",
       "      <th>19387</th>\n",
       "      <td>0</td>\n",
       "      <td>338042.686782</td>\n",
       "      <td>38</td>\n",
       "      <td>высшее</td>\n",
       "      <td>0</td>\n",
       "      <td>гражданский брак</td>\n",
       "      <td>1</td>\n",
       "      <td>F</td>\n",
       "      <td>компаньон</td>\n",
       "      <td>0</td>\n",
       "      <td>145017</td>\n",
       "      <td>на проведение свадьбы</td>\n",
       "    </tr>\n",
       "    <tr>\n",
       "      <th>16902</th>\n",
       "      <td>2</td>\n",
       "      <td>338042.686782</td>\n",
       "      <td>39</td>\n",
       "      <td>среднее</td>\n",
       "      <td>1</td>\n",
       "      <td>гражданский брак</td>\n",
       "      <td>1</td>\n",
       "      <td>F</td>\n",
       "      <td>сотрудник</td>\n",
       "      <td>0</td>\n",
       "      <td>145017</td>\n",
       "      <td>сыграть свадьбу</td>\n",
       "    </tr>\n",
       "    <tr>\n",
       "      <th>17774</th>\n",
       "      <td>1</td>\n",
       "      <td>338042.686782</td>\n",
       "      <td>40</td>\n",
       "      <td>среднее</td>\n",
       "      <td>1</td>\n",
       "      <td>гражданский брак</td>\n",
       "      <td>1</td>\n",
       "      <td>F</td>\n",
       "      <td>компаньон</td>\n",
       "      <td>0</td>\n",
       "      <td>145017</td>\n",
       "      <td>строительство жилой недвижимости</td>\n",
       "    </tr>\n",
       "    <tr>\n",
       "      <th>10697</th>\n",
       "      <td>0</td>\n",
       "      <td>338042.686782</td>\n",
       "      <td>40</td>\n",
       "      <td>среднее</td>\n",
       "      <td>1</td>\n",
       "      <td>гражданский брак</td>\n",
       "      <td>1</td>\n",
       "      <td>F</td>\n",
       "      <td>компаньон</td>\n",
       "      <td>0</td>\n",
       "      <td>145017</td>\n",
       "      <td>сыграть свадьбу</td>\n",
       "    </tr>\n",
       "    <tr>\n",
       "      <th>2849</th>\n",
       "      <td>0</td>\n",
       "      <td>338042.686782</td>\n",
       "      <td>41</td>\n",
       "      <td>среднее</td>\n",
       "      <td>1</td>\n",
       "      <td>женат / замужем</td>\n",
       "      <td>0</td>\n",
       "      <td>F</td>\n",
       "      <td>сотрудник</td>\n",
       "      <td>0</td>\n",
       "      <td>145017</td>\n",
       "      <td>покупка жилья для семьи</td>\n",
       "    </tr>\n",
       "    <tr>\n",
       "      <th>20165</th>\n",
       "      <td>0</td>\n",
       "      <td>338042.686782</td>\n",
       "      <td>42</td>\n",
       "      <td>среднее</td>\n",
       "      <td>1</td>\n",
       "      <td>женат / замужем</td>\n",
       "      <td>0</td>\n",
       "      <td>F</td>\n",
       "      <td>сотрудник</td>\n",
       "      <td>0</td>\n",
       "      <td>145017</td>\n",
       "      <td>покупка жилья для семьи</td>\n",
       "    </tr>\n",
       "    <tr>\n",
       "      <th>17755</th>\n",
       "      <td>1</td>\n",
       "      <td>338042.686782</td>\n",
       "      <td>43</td>\n",
       "      <td>среднее</td>\n",
       "      <td>1</td>\n",
       "      <td>женат / замужем</td>\n",
       "      <td>0</td>\n",
       "      <td>M</td>\n",
       "      <td>сотрудник</td>\n",
       "      <td>0</td>\n",
       "      <td>145017</td>\n",
       "      <td>заняться образованием</td>\n",
       "    </tr>\n",
       "    <tr>\n",
       "      <th>13025</th>\n",
       "      <td>1</td>\n",
       "      <td>338042.686782</td>\n",
       "      <td>44</td>\n",
       "      <td>среднее</td>\n",
       "      <td>1</td>\n",
       "      <td>женат / замужем</td>\n",
       "      <td>0</td>\n",
       "      <td>F</td>\n",
       "      <td>сотрудник</td>\n",
       "      <td>0</td>\n",
       "      <td>145017</td>\n",
       "      <td>сделка с подержанным автомобилем</td>\n",
       "    </tr>\n",
       "    <tr>\n",
       "      <th>13942</th>\n",
       "      <td>0</td>\n",
       "      <td>338042.686782</td>\n",
       "      <td>44</td>\n",
       "      <td>среднее</td>\n",
       "      <td>1</td>\n",
       "      <td>женат / замужем</td>\n",
       "      <td>0</td>\n",
       "      <td>F</td>\n",
       "      <td>сотрудник</td>\n",
       "      <td>0</td>\n",
       "      <td>145017</td>\n",
       "      <td>приобретение автомобиля</td>\n",
       "    </tr>\n",
       "    <tr>\n",
       "      <th>19184</th>\n",
       "      <td>0</td>\n",
       "      <td>338042.686782</td>\n",
       "      <td>46</td>\n",
       "      <td>среднее</td>\n",
       "      <td>1</td>\n",
       "      <td>женат / замужем</td>\n",
       "      <td>0</td>\n",
       "      <td>F</td>\n",
       "      <td>сотрудник</td>\n",
       "      <td>0</td>\n",
       "      <td>145017</td>\n",
       "      <td>свой автомобиль</td>\n",
       "    </tr>\n",
       "    <tr>\n",
       "      <th>16378</th>\n",
       "      <td>0</td>\n",
       "      <td>338042.686782</td>\n",
       "      <td>46</td>\n",
       "      <td>среднее</td>\n",
       "      <td>1</td>\n",
       "      <td>женат / замужем</td>\n",
       "      <td>0</td>\n",
       "      <td>F</td>\n",
       "      <td>сотрудник</td>\n",
       "      <td>0</td>\n",
       "      <td>145017</td>\n",
       "      <td>высшее образование</td>\n",
       "    </tr>\n",
       "    <tr>\n",
       "      <th>11791</th>\n",
       "      <td>0</td>\n",
       "      <td>338042.686782</td>\n",
       "      <td>47</td>\n",
       "      <td>среднее</td>\n",
       "      <td>1</td>\n",
       "      <td>женат / замужем</td>\n",
       "      <td>0</td>\n",
       "      <td>F</td>\n",
       "      <td>сотрудник</td>\n",
       "      <td>0</td>\n",
       "      <td>145017</td>\n",
       "      <td>строительство недвижимости</td>\n",
       "    </tr>\n",
       "    <tr>\n",
       "      <th>21132</th>\n",
       "      <td>0</td>\n",
       "      <td>338042.686782</td>\n",
       "      <td>47</td>\n",
       "      <td>среднее</td>\n",
       "      <td>1</td>\n",
       "      <td>женат / замужем</td>\n",
       "      <td>0</td>\n",
       "      <td>F</td>\n",
       "      <td>сотрудник</td>\n",
       "      <td>0</td>\n",
       "      <td>145017</td>\n",
       "      <td>ремонт жилью</td>\n",
       "    </tr>\n",
       "    <tr>\n",
       "      <th>16176</th>\n",
       "      <td>0</td>\n",
       "      <td>338042.686782</td>\n",
       "      <td>47</td>\n",
       "      <td>среднее</td>\n",
       "      <td>1</td>\n",
       "      <td>женат / замужем</td>\n",
       "      <td>0</td>\n",
       "      <td>F</td>\n",
       "      <td>сотрудник</td>\n",
       "      <td>0</td>\n",
       "      <td>145017</td>\n",
       "      <td>ремонт жилью</td>\n",
       "    </tr>\n",
       "    <tr>\n",
       "      <th>19832</th>\n",
       "      <td>0</td>\n",
       "      <td>338042.686782</td>\n",
       "      <td>48</td>\n",
       "      <td>среднее</td>\n",
       "      <td>1</td>\n",
       "      <td>женат / замужем</td>\n",
       "      <td>0</td>\n",
       "      <td>F</td>\n",
       "      <td>сотрудник</td>\n",
       "      <td>0</td>\n",
       "      <td>145017</td>\n",
       "      <td>ремонт жилью</td>\n",
       "    </tr>\n",
       "    <tr>\n",
       "      <th>14832</th>\n",
       "      <td>0</td>\n",
       "      <td>338042.686782</td>\n",
       "      <td>50</td>\n",
       "      <td>среднее</td>\n",
       "      <td>1</td>\n",
       "      <td>Не женат / не замужем</td>\n",
       "      <td>4</td>\n",
       "      <td>F</td>\n",
       "      <td>сотрудник</td>\n",
       "      <td>0</td>\n",
       "      <td>145017</td>\n",
       "      <td>недвижимость</td>\n",
       "    </tr>\n",
       "    <tr>\n",
       "      <th>17379</th>\n",
       "      <td>0</td>\n",
       "      <td>338042.686782</td>\n",
       "      <td>54</td>\n",
       "      <td>высшее</td>\n",
       "      <td>0</td>\n",
       "      <td>женат / замужем</td>\n",
       "      <td>0</td>\n",
       "      <td>M</td>\n",
       "      <td>компаньон</td>\n",
       "      <td>0</td>\n",
       "      <td>145017</td>\n",
       "      <td>операции с коммерческой недвижимостью</td>\n",
       "    </tr>\n",
       "    <tr>\n",
       "      <th>18563</th>\n",
       "      <td>0</td>\n",
       "      <td>338042.686782</td>\n",
       "      <td>54</td>\n",
       "      <td>среднее</td>\n",
       "      <td>1</td>\n",
       "      <td>женат / замужем</td>\n",
       "      <td>0</td>\n",
       "      <td>F</td>\n",
       "      <td>сотрудник</td>\n",
       "      <td>0</td>\n",
       "      <td>145017</td>\n",
       "      <td>операции со своей недвижимостью</td>\n",
       "    </tr>\n",
       "    <tr>\n",
       "      <th>21415</th>\n",
       "      <td>0</td>\n",
       "      <td>338042.686782</td>\n",
       "      <td>54</td>\n",
       "      <td>среднее</td>\n",
       "      <td>1</td>\n",
       "      <td>женат / замужем</td>\n",
       "      <td>0</td>\n",
       "      <td>F</td>\n",
       "      <td>пенсионер</td>\n",
       "      <td>0</td>\n",
       "      <td>145017</td>\n",
       "      <td>операции с жильем</td>\n",
       "    </tr>\n",
       "    <tr>\n",
       "      <th>9627</th>\n",
       "      <td>0</td>\n",
       "      <td>338042.686782</td>\n",
       "      <td>56</td>\n",
       "      <td>среднее</td>\n",
       "      <td>1</td>\n",
       "      <td>женат / замужем</td>\n",
       "      <td>0</td>\n",
       "      <td>F</td>\n",
       "      <td>пенсионер</td>\n",
       "      <td>0</td>\n",
       "      <td>145017</td>\n",
       "      <td>операции со своей недвижимостью</td>\n",
       "    </tr>\n",
       "    <tr>\n",
       "      <th>19041</th>\n",
       "      <td>0</td>\n",
       "      <td>338042.686782</td>\n",
       "      <td>56</td>\n",
       "      <td>среднее</td>\n",
       "      <td>1</td>\n",
       "      <td>гражданский брак</td>\n",
       "      <td>1</td>\n",
       "      <td>F</td>\n",
       "      <td>сотрудник</td>\n",
       "      <td>0</td>\n",
       "      <td>145017</td>\n",
       "      <td>на проведение свадьбы</td>\n",
       "    </tr>\n",
       "    <tr>\n",
       "      <th>18521</th>\n",
       "      <td>0</td>\n",
       "      <td>338042.686782</td>\n",
       "      <td>56</td>\n",
       "      <td>среднее</td>\n",
       "      <td>1</td>\n",
       "      <td>гражданский брак</td>\n",
       "      <td>1</td>\n",
       "      <td>F</td>\n",
       "      <td>сотрудник</td>\n",
       "      <td>0</td>\n",
       "      <td>145017</td>\n",
       "      <td>сыграть свадьбу</td>\n",
       "    </tr>\n",
       "    <tr>\n",
       "      <th>20116</th>\n",
       "      <td>0</td>\n",
       "      <td>338042.686782</td>\n",
       "      <td>57</td>\n",
       "      <td>среднее</td>\n",
       "      <td>1</td>\n",
       "      <td>гражданский брак</td>\n",
       "      <td>1</td>\n",
       "      <td>M</td>\n",
       "      <td>пенсионер</td>\n",
       "      <td>0</td>\n",
       "      <td>145017</td>\n",
       "      <td>свадьба</td>\n",
       "    </tr>\n",
       "    <tr>\n",
       "      <th>19946</th>\n",
       "      <td>0</td>\n",
       "      <td>338042.686782</td>\n",
       "      <td>57</td>\n",
       "      <td>среднее</td>\n",
       "      <td>1</td>\n",
       "      <td>женат / замужем</td>\n",
       "      <td>0</td>\n",
       "      <td>F</td>\n",
       "      <td>сотрудник</td>\n",
       "      <td>0</td>\n",
       "      <td>145017</td>\n",
       "      <td>сделка с подержанным автомобилем</td>\n",
       "    </tr>\n",
       "    <tr>\n",
       "      <th>7808</th>\n",
       "      <td>0</td>\n",
       "      <td>338042.686782</td>\n",
       "      <td>57</td>\n",
       "      <td>среднее</td>\n",
       "      <td>1</td>\n",
       "      <td>гражданский брак</td>\n",
       "      <td>1</td>\n",
       "      <td>F</td>\n",
       "      <td>пенсионер</td>\n",
       "      <td>0</td>\n",
       "      <td>145017</td>\n",
       "      <td>на проведение свадьбы</td>\n",
       "    </tr>\n",
       "    <tr>\n",
       "      <th>15273</th>\n",
       "      <td>0</td>\n",
       "      <td>338042.686782</td>\n",
       "      <td>57</td>\n",
       "      <td>среднее</td>\n",
       "      <td>1</td>\n",
       "      <td>гражданский брак</td>\n",
       "      <td>1</td>\n",
       "      <td>F</td>\n",
       "      <td>пенсионер</td>\n",
       "      <td>0</td>\n",
       "      <td>145017</td>\n",
       "      <td>свадьба</td>\n",
       "    </tr>\n",
       "    <tr>\n",
       "      <th>12373</th>\n",
       "      <td>0</td>\n",
       "      <td>338042.686782</td>\n",
       "      <td>58</td>\n",
       "      <td>среднее</td>\n",
       "      <td>1</td>\n",
       "      <td>женат / замужем</td>\n",
       "      <td>0</td>\n",
       "      <td>M</td>\n",
       "      <td>сотрудник</td>\n",
       "      <td>0</td>\n",
       "      <td>145017</td>\n",
       "      <td>покупка недвижимости</td>\n",
       "    </tr>\n",
       "    <tr>\n",
       "      <th>5557</th>\n",
       "      <td>0</td>\n",
       "      <td>338042.686782</td>\n",
       "      <td>58</td>\n",
       "      <td>среднее</td>\n",
       "      <td>1</td>\n",
       "      <td>гражданский брак</td>\n",
       "      <td>1</td>\n",
       "      <td>F</td>\n",
       "      <td>пенсионер</td>\n",
       "      <td>0</td>\n",
       "      <td>145017</td>\n",
       "      <td>сыграть свадьбу</td>\n",
       "    </tr>\n",
       "    <tr>\n",
       "      <th>8583</th>\n",
       "      <td>0</td>\n",
       "      <td>338042.686782</td>\n",
       "      <td>58</td>\n",
       "      <td>высшее</td>\n",
       "      <td>0</td>\n",
       "      <td>Не женат / не замужем</td>\n",
       "      <td>4</td>\n",
       "      <td>F</td>\n",
       "      <td>пенсионер</td>\n",
       "      <td>0</td>\n",
       "      <td>145017</td>\n",
       "      <td>дополнительное образование</td>\n",
       "    </tr>\n",
       "    <tr>\n",
       "      <th>15091</th>\n",
       "      <td>0</td>\n",
       "      <td>338042.686782</td>\n",
       "      <td>58</td>\n",
       "      <td>среднее</td>\n",
       "      <td>1</td>\n",
       "      <td>гражданский брак</td>\n",
       "      <td>1</td>\n",
       "      <td>M</td>\n",
       "      <td>сотрудник</td>\n",
       "      <td>0</td>\n",
       "      <td>145017</td>\n",
       "      <td>на проведение свадьбы</td>\n",
       "    </tr>\n",
       "    <tr>\n",
       "      <th>18755</th>\n",
       "      <td>0</td>\n",
       "      <td>338042.686782</td>\n",
       "      <td>58</td>\n",
       "      <td>среднее</td>\n",
       "      <td>1</td>\n",
       "      <td>женат / замужем</td>\n",
       "      <td>0</td>\n",
       "      <td>F</td>\n",
       "      <td>пенсионер</td>\n",
       "      <td>0</td>\n",
       "      <td>145017</td>\n",
       "      <td>заняться образованием</td>\n",
       "    </tr>\n",
       "    <tr>\n",
       "      <th>12736</th>\n",
       "      <td>0</td>\n",
       "      <td>338042.686782</td>\n",
       "      <td>59</td>\n",
       "      <td>среднее</td>\n",
       "      <td>1</td>\n",
       "      <td>женат / замужем</td>\n",
       "      <td>0</td>\n",
       "      <td>F</td>\n",
       "      <td>пенсионер</td>\n",
       "      <td>0</td>\n",
       "      <td>145017</td>\n",
       "      <td>заняться образованием</td>\n",
       "    </tr>\n",
       "    <tr>\n",
       "      <th>15188</th>\n",
       "      <td>0</td>\n",
       "      <td>338042.686782</td>\n",
       "      <td>60</td>\n",
       "      <td>среднее</td>\n",
       "      <td>1</td>\n",
       "      <td>женат / замужем</td>\n",
       "      <td>0</td>\n",
       "      <td>M</td>\n",
       "      <td>сотрудник</td>\n",
       "      <td>0</td>\n",
       "      <td>145017</td>\n",
       "      <td>покупка недвижимости</td>\n",
       "    </tr>\n",
       "    <tr>\n",
       "      <th>21032</th>\n",
       "      <td>0</td>\n",
       "      <td>338042.686782</td>\n",
       "      <td>60</td>\n",
       "      <td>среднее</td>\n",
       "      <td>1</td>\n",
       "      <td>женат / замужем</td>\n",
       "      <td>0</td>\n",
       "      <td>F</td>\n",
       "      <td>пенсионер</td>\n",
       "      <td>0</td>\n",
       "      <td>145017</td>\n",
       "      <td>заняться образованием</td>\n",
       "    </tr>\n",
       "    <tr>\n",
       "      <th>4851</th>\n",
       "      <td>0</td>\n",
       "      <td>338042.686782</td>\n",
       "      <td>60</td>\n",
       "      <td>среднее</td>\n",
       "      <td>1</td>\n",
       "      <td>гражданский брак</td>\n",
       "      <td>1</td>\n",
       "      <td>F</td>\n",
       "      <td>пенсионер</td>\n",
       "      <td>0</td>\n",
       "      <td>145017</td>\n",
       "      <td>свадьба</td>\n",
       "    </tr>\n",
       "    <tr>\n",
       "      <th>19688</th>\n",
       "      <td>0</td>\n",
       "      <td>338042.686782</td>\n",
       "      <td>61</td>\n",
       "      <td>среднее</td>\n",
       "      <td>1</td>\n",
       "      <td>женат / замужем</td>\n",
       "      <td>0</td>\n",
       "      <td>F</td>\n",
       "      <td>пенсионер</td>\n",
       "      <td>0</td>\n",
       "      <td>145017</td>\n",
       "      <td>операции с недвижимостью</td>\n",
       "    </tr>\n",
       "    <tr>\n",
       "      <th>10462</th>\n",
       "      <td>0</td>\n",
       "      <td>338042.686782</td>\n",
       "      <td>62</td>\n",
       "      <td>среднее</td>\n",
       "      <td>1</td>\n",
       "      <td>женат / замужем</td>\n",
       "      <td>0</td>\n",
       "      <td>F</td>\n",
       "      <td>пенсионер</td>\n",
       "      <td>0</td>\n",
       "      <td>145017</td>\n",
       "      <td>покупка коммерческой недвижимости</td>\n",
       "    </tr>\n",
       "    <tr>\n",
       "      <th>10994</th>\n",
       "      <td>0</td>\n",
       "      <td>338042.686782</td>\n",
       "      <td>62</td>\n",
       "      <td>среднее</td>\n",
       "      <td>1</td>\n",
       "      <td>женат / замужем</td>\n",
       "      <td>0</td>\n",
       "      <td>F</td>\n",
       "      <td>пенсионер</td>\n",
       "      <td>0</td>\n",
       "      <td>145017</td>\n",
       "      <td>ремонт жилью</td>\n",
       "    </tr>\n",
       "    <tr>\n",
       "      <th>10864</th>\n",
       "      <td>0</td>\n",
       "      <td>338042.686782</td>\n",
       "      <td>62</td>\n",
       "      <td>среднее</td>\n",
       "      <td>1</td>\n",
       "      <td>женат / замужем</td>\n",
       "      <td>0</td>\n",
       "      <td>F</td>\n",
       "      <td>пенсионер</td>\n",
       "      <td>0</td>\n",
       "      <td>145017</td>\n",
       "      <td>ремонт жилью</td>\n",
       "    </tr>\n",
       "    <tr>\n",
       "      <th>18428</th>\n",
       "      <td>0</td>\n",
       "      <td>338042.686782</td>\n",
       "      <td>64</td>\n",
       "      <td>среднее</td>\n",
       "      <td>1</td>\n",
       "      <td>женат / замужем</td>\n",
       "      <td>0</td>\n",
       "      <td>F</td>\n",
       "      <td>пенсионер</td>\n",
       "      <td>0</td>\n",
       "      <td>145017</td>\n",
       "      <td>жилье</td>\n",
       "    </tr>\n",
       "    <tr>\n",
       "      <th>13639</th>\n",
       "      <td>0</td>\n",
       "      <td>338042.686782</td>\n",
       "      <td>64</td>\n",
       "      <td>среднее</td>\n",
       "      <td>1</td>\n",
       "      <td>женат / замужем</td>\n",
       "      <td>0</td>\n",
       "      <td>F</td>\n",
       "      <td>пенсионер</td>\n",
       "      <td>0</td>\n",
       "      <td>145017</td>\n",
       "      <td>автомобиль</td>\n",
       "    </tr>\n",
       "    <tr>\n",
       "      <th>20702</th>\n",
       "      <td>0</td>\n",
       "      <td>338042.686782</td>\n",
       "      <td>64</td>\n",
       "      <td>среднее</td>\n",
       "      <td>1</td>\n",
       "      <td>женат / замужем</td>\n",
       "      <td>0</td>\n",
       "      <td>F</td>\n",
       "      <td>пенсионер</td>\n",
       "      <td>0</td>\n",
       "      <td>145017</td>\n",
       "      <td>дополнительное образование</td>\n",
       "    </tr>\n",
       "    <tr>\n",
       "      <th>9528</th>\n",
       "      <td>0</td>\n",
       "      <td>338042.686782</td>\n",
       "      <td>66</td>\n",
       "      <td>среднее</td>\n",
       "      <td>1</td>\n",
       "      <td>вдовец / вдова</td>\n",
       "      <td>2</td>\n",
       "      <td>F</td>\n",
       "      <td>пенсионер</td>\n",
       "      <td>0</td>\n",
       "      <td>145017</td>\n",
       "      <td>операции со своей недвижимостью</td>\n",
       "    </tr>\n",
       "  </tbody>\n",
       "</table>\n",
       "</div>"
      ],
      "text/plain": [
       "       children  days_employed  dob_years education  education_id  \\\n",
       "19321         0  338042.686782         23   среднее             1   \n",
       "18328         0  338042.686782         29    высшее             0   \n",
       "21281         1  338042.686782         30    высшее             0   \n",
       "18349         1  338042.686782         30    высшее             0   \n",
       "13878         1  338042.686782         31   среднее             1   \n",
       "16904         1  338042.686782         32    высшее             0   \n",
       "4182          1  338042.686782         34    ВЫСШЕЕ             0   \n",
       "9238          2  338042.686782         34   среднее             1   \n",
       "13773         0  338042.686782         35   среднее             1   \n",
       "14432         2  338042.686782         36    высшее             0   \n",
       "12375         1  338042.686782         37   среднее             1   \n",
       "19387         0  338042.686782         38    высшее             0   \n",
       "16902         2  338042.686782         39   среднее             1   \n",
       "17774         1  338042.686782         40   среднее             1   \n",
       "10697         0  338042.686782         40   среднее             1   \n",
       "2849          0  338042.686782         41   среднее             1   \n",
       "20165         0  338042.686782         42   среднее             1   \n",
       "17755         1  338042.686782         43   среднее             1   \n",
       "13025         1  338042.686782         44   среднее             1   \n",
       "13942         0  338042.686782         44   среднее             1   \n",
       "19184         0  338042.686782         46   среднее             1   \n",
       "16378         0  338042.686782         46   среднее             1   \n",
       "11791         0  338042.686782         47   среднее             1   \n",
       "21132         0  338042.686782         47   среднее             1   \n",
       "16176         0  338042.686782         47   среднее             1   \n",
       "19832         0  338042.686782         48   среднее             1   \n",
       "14832         0  338042.686782         50   среднее             1   \n",
       "17379         0  338042.686782         54    высшее             0   \n",
       "18563         0  338042.686782         54   среднее             1   \n",
       "21415         0  338042.686782         54   среднее             1   \n",
       "9627          0  338042.686782         56   среднее             1   \n",
       "19041         0  338042.686782         56   среднее             1   \n",
       "18521         0  338042.686782         56   среднее             1   \n",
       "20116         0  338042.686782         57   среднее             1   \n",
       "19946         0  338042.686782         57   среднее             1   \n",
       "7808          0  338042.686782         57   среднее             1   \n",
       "15273         0  338042.686782         57   среднее             1   \n",
       "12373         0  338042.686782         58   среднее             1   \n",
       "5557          0  338042.686782         58   среднее             1   \n",
       "8583          0  338042.686782         58    высшее             0   \n",
       "15091         0  338042.686782         58   среднее             1   \n",
       "18755         0  338042.686782         58   среднее             1   \n",
       "12736         0  338042.686782         59   среднее             1   \n",
       "15188         0  338042.686782         60   среднее             1   \n",
       "21032         0  338042.686782         60   среднее             1   \n",
       "4851          0  338042.686782         60   среднее             1   \n",
       "19688         0  338042.686782         61   среднее             1   \n",
       "10462         0  338042.686782         62   среднее             1   \n",
       "10994         0  338042.686782         62   среднее             1   \n",
       "10864         0  338042.686782         62   среднее             1   \n",
       "18428         0  338042.686782         64   среднее             1   \n",
       "13639         0  338042.686782         64   среднее             1   \n",
       "20702         0  338042.686782         64   среднее             1   \n",
       "9528          0  338042.686782         66   среднее             1   \n",
       "\n",
       "               family_status  family_status_id gender  income_type  debt  \\\n",
       "19321  Не женат / не замужем                 4      F    сотрудник     0   \n",
       "18328        женат / замужем                 0      M    сотрудник     0   \n",
       "21281        женат / замужем                 0      F    сотрудник     0   \n",
       "18349        женат / замужем                 0      F  госслужащий     0   \n",
       "13878        женат / замужем                 0      F    компаньон     0   \n",
       "16904        женат / замужем                 0      F    сотрудник     0   \n",
       "4182        гражданский брак                 1      F    сотрудник     0   \n",
       "9238         женат / замужем                 0      F    сотрудник     0   \n",
       "13773       гражданский брак                 1      F    сотрудник     0   \n",
       "14432        женат / замужем                 0      F  госслужащий     0   \n",
       "12375        женат / замужем                 0      F    сотрудник     0   \n",
       "19387       гражданский брак                 1      F    компаньон     0   \n",
       "16902       гражданский брак                 1      F    сотрудник     0   \n",
       "17774       гражданский брак                 1      F    компаньон     0   \n",
       "10697       гражданский брак                 1      F    компаньон     0   \n",
       "2849         женат / замужем                 0      F    сотрудник     0   \n",
       "20165        женат / замужем                 0      F    сотрудник     0   \n",
       "17755        женат / замужем                 0      M    сотрудник     0   \n",
       "13025        женат / замужем                 0      F    сотрудник     0   \n",
       "13942        женат / замужем                 0      F    сотрудник     0   \n",
       "19184        женат / замужем                 0      F    сотрудник     0   \n",
       "16378        женат / замужем                 0      F    сотрудник     0   \n",
       "11791        женат / замужем                 0      F    сотрудник     0   \n",
       "21132        женат / замужем                 0      F    сотрудник     0   \n",
       "16176        женат / замужем                 0      F    сотрудник     0   \n",
       "19832        женат / замужем                 0      F    сотрудник     0   \n",
       "14832  Не женат / не замужем                 4      F    сотрудник     0   \n",
       "17379        женат / замужем                 0      M    компаньон     0   \n",
       "18563        женат / замужем                 0      F    сотрудник     0   \n",
       "21415        женат / замужем                 0      F    пенсионер     0   \n",
       "9627         женат / замужем                 0      F    пенсионер     0   \n",
       "19041       гражданский брак                 1      F    сотрудник     0   \n",
       "18521       гражданский брак                 1      F    сотрудник     0   \n",
       "20116       гражданский брак                 1      M    пенсионер     0   \n",
       "19946        женат / замужем                 0      F    сотрудник     0   \n",
       "7808        гражданский брак                 1      F    пенсионер     0   \n",
       "15273       гражданский брак                 1      F    пенсионер     0   \n",
       "12373        женат / замужем                 0      M    сотрудник     0   \n",
       "5557        гражданский брак                 1      F    пенсионер     0   \n",
       "8583   Не женат / не замужем                 4      F    пенсионер     0   \n",
       "15091       гражданский брак                 1      M    сотрудник     0   \n",
       "18755        женат / замужем                 0      F    пенсионер     0   \n",
       "12736        женат / замужем                 0      F    пенсионер     0   \n",
       "15188        женат / замужем                 0      M    сотрудник     0   \n",
       "21032        женат / замужем                 0      F    пенсионер     0   \n",
       "4851        гражданский брак                 1      F    пенсионер     0   \n",
       "19688        женат / замужем                 0      F    пенсионер     0   \n",
       "10462        женат / замужем                 0      F    пенсионер     0   \n",
       "10994        женат / замужем                 0      F    пенсионер     0   \n",
       "10864        женат / замужем                 0      F    пенсионер     0   \n",
       "18428        женат / замужем                 0      F    пенсионер     0   \n",
       "13639        женат / замужем                 0      F    пенсионер     0   \n",
       "20702        женат / замужем                 0      F    пенсионер     0   \n",
       "9528          вдовец / вдова                 2      F    пенсионер     0   \n",
       "\n",
       "       total_income                                purpose  \n",
       "19321        145017       сделка с подержанным автомобилем  \n",
       "18328        145017             покупка жилой недвижимости  \n",
       "21281        145017      покупка коммерческой недвижимости  \n",
       "18349        145017                покупка жилья для семьи  \n",
       "13878        145017                          покупка жилья  \n",
       "16904        145017     на покупку подержанного автомобиля  \n",
       "4182         145017                                свадьба  \n",
       "9238         145017                покупка жилья для сдачи  \n",
       "13773        145017                        сыграть свадьбу  \n",
       "14432        145017                  получение образования  \n",
       "12375        145017                   покупка недвижимости  \n",
       "19387        145017                  на проведение свадьбы  \n",
       "16902        145017                        сыграть свадьбу  \n",
       "17774        145017       строительство жилой недвижимости  \n",
       "10697        145017                        сыграть свадьбу  \n",
       "2849         145017                покупка жилья для семьи  \n",
       "20165        145017                покупка жилья для семьи  \n",
       "17755        145017                  заняться образованием  \n",
       "13025        145017       сделка с подержанным автомобилем  \n",
       "13942        145017                приобретение автомобиля  \n",
       "19184        145017                        свой автомобиль  \n",
       "16378        145017                     высшее образование  \n",
       "11791        145017             строительство недвижимости  \n",
       "21132        145017                           ремонт жилью  \n",
       "16176        145017                           ремонт жилью  \n",
       "19832        145017                           ремонт жилью  \n",
       "14832        145017                           недвижимость  \n",
       "17379        145017  операции с коммерческой недвижимостью  \n",
       "18563        145017        операции со своей недвижимостью  \n",
       "21415        145017                      операции с жильем  \n",
       "9627         145017        операции со своей недвижимостью  \n",
       "19041        145017                  на проведение свадьбы  \n",
       "18521        145017                        сыграть свадьбу  \n",
       "20116        145017                                свадьба  \n",
       "19946        145017       сделка с подержанным автомобилем  \n",
       "7808         145017                  на проведение свадьбы  \n",
       "15273        145017                                свадьба  \n",
       "12373        145017                   покупка недвижимости  \n",
       "5557         145017                        сыграть свадьбу  \n",
       "8583         145017             дополнительное образование  \n",
       "15091        145017                  на проведение свадьбы  \n",
       "18755        145017                  заняться образованием  \n",
       "12736        145017                  заняться образованием  \n",
       "15188        145017                   покупка недвижимости  \n",
       "21032        145017                  заняться образованием  \n",
       "4851         145017                                свадьба  \n",
       "19688        145017               операции с недвижимостью  \n",
       "10462        145017      покупка коммерческой недвижимости  \n",
       "10994        145017                           ремонт жилью  \n",
       "10864        145017                           ремонт жилью  \n",
       "18428        145017                                  жилье  \n",
       "13639        145017                             автомобиль  \n",
       "20702        145017             дополнительное образование  \n",
       "9528         145017        операции со своей недвижимостью  "
      ]
     },
     "execution_count": 18,
     "metadata": {},
     "output_type": "execute_result"
    }
   ],
   "source": [
    "df.loc[df.duplicated()].sort_values(by='dob_years')"
   ]
  },
  {
   "cell_type": "markdown",
   "id": "6f9ddc0a",
   "metadata": {},
   "source": [
    "Pandas насчитал 54 дубликата, но видно, что среди них всего несколько полных совпадений (например строки с индексами 21132 и 16176). Несмотря на это, удаляем все дубликаты в соотвествие с заданием"
   ]
  },
  {
   "cell_type": "code",
   "execution_count": 19,
   "id": "cc28c5da",
   "metadata": {},
   "outputs": [
    {
     "data": {
      "text/plain": [
       "0"
      ]
     },
     "execution_count": 19,
     "metadata": {},
     "output_type": "execute_result"
    }
   ],
   "source": [
    "df = df.drop_duplicates().reset_index(drop=True) #удаление дубликатов с присваиванием новых индексов\n",
    "df.duplicated().sum() #проверка, что удаление прошло успешно"
   ]
  },
  {
   "cell_type": "markdown",
   "id": "53617a42",
   "metadata": {},
   "source": [
    "Поверим данные в столбце education"
   ]
  },
  {
   "cell_type": "code",
   "execution_count": 20,
   "id": "bff5ac6a",
   "metadata": {},
   "outputs": [
    {
     "data": {
      "text/plain": [
       "среднее                13705\n",
       "высшее                  4710\n",
       "СРЕДНЕЕ                  772\n",
       "Среднее                  711\n",
       "неоконченное высшее      668\n",
       "ВЫСШЕЕ                   273\n",
       "Высшее                   268\n",
       "начальное                250\n",
       "Неоконченное высшее       47\n",
       "НЕОКОНЧЕННОЕ ВЫСШЕЕ       29\n",
       "НАЧАЛЬНОЕ                 17\n",
       "Начальное                 15\n",
       "ученая степень             4\n",
       "Ученая степень             1\n",
       "УЧЕНАЯ СТЕПЕНЬ             1\n",
       "Name: education, dtype: int64"
      ]
     },
     "execution_count": 20,
     "metadata": {},
     "output_type": "execute_result"
    }
   ],
   "source": [
    "df['education'].value_counts()"
   ]
  },
  {
   "cell_type": "markdown",
   "id": "9b94cf85",
   "metadata": {},
   "source": [
    "Есть много неявных дубликатов, которые возникли из-за записи в разных регистрах. Чтобы привести в порядок, приведем все к нижнему регистру"
   ]
  },
  {
   "cell_type": "code",
   "execution_count": 21,
   "id": "05503aae",
   "metadata": {},
   "outputs": [
    {
     "data": {
      "text/plain": [
       "среднее                15188\n",
       "высшее                  5251\n",
       "неоконченное высшее      744\n",
       "начальное                282\n",
       "ученая степень             6\n",
       "Name: education, dtype: int64"
      ]
     },
     "execution_count": 21,
     "metadata": {},
     "output_type": "execute_result"
    }
   ],
   "source": [
    "df['education']=df['education'].str.lower() #замена регистра\n",
    "df['education'].value_counts() #проверка, что замена прошла успешно"
   ]
  },
  {
   "cell_type": "markdown",
   "id": "3c56cd17",
   "metadata": {},
   "source": [
    "Поверим данные в столбце family_status"
   ]
  },
  {
   "cell_type": "code",
   "execution_count": 22,
   "id": "f3058c10",
   "metadata": {},
   "outputs": [
    {
     "data": {
      "text/plain": [
       "женат / замужем          12344\n",
       "гражданский брак          4163\n",
       "Не женат / не замужем     2810\n",
       "в разводе                 1195\n",
       "вдовец / вдова             959\n",
       "Name: family_status, dtype: int64"
      ]
     },
     "execution_count": 22,
     "metadata": {},
     "output_type": "execute_result"
    }
   ],
   "source": [
    "df['family_status'].value_counts()\n"
   ]
  },
  {
   "cell_type": "markdown",
   "id": "1263ac9d",
   "metadata": {},
   "source": [
    "Неявных дубликатов нет, но есть лишняя заглавная буква"
   ]
  },
  {
   "cell_type": "code",
   "execution_count": 23,
   "id": "0671f5eb",
   "metadata": {},
   "outputs": [
    {
     "data": {
      "text/plain": [
       "женат / замужем          12344\n",
       "гражданский брак          4163\n",
       "не женат / не замужем     2810\n",
       "в разводе                 1195\n",
       "вдовец / вдова             959\n",
       "Name: family_status, dtype: int64"
      ]
     },
     "execution_count": 23,
     "metadata": {},
     "output_type": "execute_result"
    }
   ],
   "source": [
    "df['family_status']=df['family_status'].str.lower()#замена регистра\n",
    "df['family_status'].value_counts()#проверка, что замена прошла успешно"
   ]
  },
  {
   "cell_type": "markdown",
   "id": "2af10981",
   "metadata": {},
   "source": [
    "После удаления неявных дубликатов в столбцах могли появиться новые дубликаты"
   ]
  },
  {
   "cell_type": "code",
   "execution_count": 24,
   "id": "d2f05904",
   "metadata": {},
   "outputs": [
    {
     "data": {
      "text/plain": [
       "17"
      ]
     },
     "execution_count": 24,
     "metadata": {},
     "output_type": "execute_result"
    }
   ],
   "source": [
    "df.duplicated().sum() #подсчет дубликатов"
   ]
  },
  {
   "cell_type": "code",
   "execution_count": 25,
   "id": "b077607e",
   "metadata": {},
   "outputs": [
    {
     "data": {
      "text/plain": [
       "0"
      ]
     },
     "execution_count": 25,
     "metadata": {},
     "output_type": "execute_result"
    }
   ],
   "source": [
    "df = df.drop_duplicates().reset_index(drop=True) #удаление дубликатов с присваиванием новых индексов\n",
    "df.duplicated().sum() #проверка, что удаление прошло успешно"
   ]
  },
  {
   "cell_type": "markdown",
   "id": "b939bde8",
   "metadata": {},
   "source": [
    "### Шаг 2.5. Формирование дополнительных датафреймов словарей, декомпозиция исходного датафрейма."
   ]
  },
  {
   "cell_type": "code",
   "execution_count": 26,
   "id": "f501d26c",
   "metadata": {},
   "outputs": [],
   "source": [
    "#Cоздание датафрейма, в котором каждому уникальному значению из education соответствует уникальное значение education_id\n",
    "education_dict = df[['education', 'education_id']].drop_duplicates().reset_index(drop=True)\n",
    "\n",
    "#Cоздание датафрейма, в котором каждому уникальному значению из family_status соответствует уникальное значение family_status_id\n",
    "family_dict = df[['family_status', 'family_status_id']].drop_duplicates().reset_index(drop=True)\n"
   ]
  },
  {
   "cell_type": "code",
   "execution_count": 27,
   "id": "0b28f5b1",
   "metadata": {},
   "outputs": [
    {
     "data": {
      "text/html": [
       "<div>\n",
       "<style scoped>\n",
       "    .dataframe tbody tr th:only-of-type {\n",
       "        vertical-align: middle;\n",
       "    }\n",
       "\n",
       "    .dataframe tbody tr th {\n",
       "        vertical-align: top;\n",
       "    }\n",
       "\n",
       "    .dataframe thead th {\n",
       "        text-align: right;\n",
       "    }\n",
       "</style>\n",
       "<table border=\"1\" class=\"dataframe\">\n",
       "  <thead>\n",
       "    <tr style=\"text-align: right;\">\n",
       "      <th></th>\n",
       "      <th>children</th>\n",
       "      <th>days_employed</th>\n",
       "      <th>dob_years</th>\n",
       "      <th>education_id</th>\n",
       "      <th>family_status_id</th>\n",
       "      <th>gender</th>\n",
       "      <th>income_type</th>\n",
       "      <th>debt</th>\n",
       "      <th>total_income</th>\n",
       "      <th>purpose</th>\n",
       "    </tr>\n",
       "  </thead>\n",
       "  <tbody>\n",
       "    <tr>\n",
       "      <th>0</th>\n",
       "      <td>1</td>\n",
       "      <td>363551.956442</td>\n",
       "      <td>42</td>\n",
       "      <td>0</td>\n",
       "      <td>0</td>\n",
       "      <td>F</td>\n",
       "      <td>сотрудник</td>\n",
       "      <td>0</td>\n",
       "      <td>253875</td>\n",
       "      <td>покупка жилья</td>\n",
       "    </tr>\n",
       "    <tr>\n",
       "      <th>1</th>\n",
       "      <td>1</td>\n",
       "      <td>346004.417307</td>\n",
       "      <td>36</td>\n",
       "      <td>1</td>\n",
       "      <td>0</td>\n",
       "      <td>F</td>\n",
       "      <td>сотрудник</td>\n",
       "      <td>0</td>\n",
       "      <td>112080</td>\n",
       "      <td>приобретение автомобиля</td>\n",
       "    </tr>\n",
       "    <tr>\n",
       "      <th>2</th>\n",
       "      <td>0</td>\n",
       "      <td>352361.239865</td>\n",
       "      <td>33</td>\n",
       "      <td>1</td>\n",
       "      <td>0</td>\n",
       "      <td>M</td>\n",
       "      <td>сотрудник</td>\n",
       "      <td>0</td>\n",
       "      <td>145885</td>\n",
       "      <td>покупка жилья</td>\n",
       "    </tr>\n",
       "    <tr>\n",
       "      <th>3</th>\n",
       "      <td>3</td>\n",
       "      <td>346401.837112</td>\n",
       "      <td>32</td>\n",
       "      <td>1</td>\n",
       "      <td>0</td>\n",
       "      <td>M</td>\n",
       "      <td>сотрудник</td>\n",
       "      <td>0</td>\n",
       "      <td>267628</td>\n",
       "      <td>дополнительное образование</td>\n",
       "    </tr>\n",
       "    <tr>\n",
       "      <th>4</th>\n",
       "      <td>0</td>\n",
       "      <td>340266.072047</td>\n",
       "      <td>53</td>\n",
       "      <td>1</td>\n",
       "      <td>1</td>\n",
       "      <td>F</td>\n",
       "      <td>пенсионер</td>\n",
       "      <td>0</td>\n",
       "      <td>158616</td>\n",
       "      <td>сыграть свадьбу</td>\n",
       "    </tr>\n",
       "  </tbody>\n",
       "</table>\n",
       "</div>"
      ],
      "text/plain": [
       "   children  days_employed  dob_years  education_id  family_status_id gender  \\\n",
       "0         1  363551.956442         42             0                 0      F   \n",
       "1         1  346004.417307         36             1                 0      F   \n",
       "2         0  352361.239865         33             1                 0      M   \n",
       "3         3  346401.837112         32             1                 0      M   \n",
       "4         0  340266.072047         53             1                 1      F   \n",
       "\n",
       "  income_type  debt  total_income                     purpose  \n",
       "0   сотрудник     0        253875               покупка жилья  \n",
       "1   сотрудник     0        112080     приобретение автомобиля  \n",
       "2   сотрудник     0        145885               покупка жилья  \n",
       "3   сотрудник     0        267628  дополнительное образование  \n",
       "4   пенсионер     0        158616             сыграть свадьбу  "
      ]
     },
     "metadata": {},
     "output_type": "display_data"
    }
   ],
   "source": [
    "df = df.drop(columns=['education', 'family_status']) #удаление из исходной таблицы столбцов education и family_status\n",
    "\n",
    "display(df.head())\n"
   ]
  },
  {
   "cell_type": "markdown",
   "id": "66aae822",
   "metadata": {},
   "source": [
    "### Шаг 2.6. Категоризация дохода."
   ]
  },
  {
   "cell_type": "code",
   "execution_count": 28,
   "id": "4afa3a07",
   "metadata": {},
   "outputs": [
    {
     "data": {
      "text/html": [
       "<div>\n",
       "<style scoped>\n",
       "    .dataframe tbody tr th:only-of-type {\n",
       "        vertical-align: middle;\n",
       "    }\n",
       "\n",
       "    .dataframe tbody tr th {\n",
       "        vertical-align: top;\n",
       "    }\n",
       "\n",
       "    .dataframe thead th {\n",
       "        text-align: right;\n",
       "    }\n",
       "</style>\n",
       "<table border=\"1\" class=\"dataframe\">\n",
       "  <thead>\n",
       "    <tr style=\"text-align: right;\">\n",
       "      <th></th>\n",
       "      <th>children</th>\n",
       "      <th>days_employed</th>\n",
       "      <th>dob_years</th>\n",
       "      <th>education_id</th>\n",
       "      <th>family_status_id</th>\n",
       "      <th>gender</th>\n",
       "      <th>income_type</th>\n",
       "      <th>debt</th>\n",
       "      <th>total_income</th>\n",
       "      <th>purpose</th>\n",
       "      <th>total_income_category</th>\n",
       "    </tr>\n",
       "  </thead>\n",
       "  <tbody>\n",
       "    <tr>\n",
       "      <th>0</th>\n",
       "      <td>1</td>\n",
       "      <td>363551.956442</td>\n",
       "      <td>42</td>\n",
       "      <td>0</td>\n",
       "      <td>0</td>\n",
       "      <td>F</td>\n",
       "      <td>сотрудник</td>\n",
       "      <td>0</td>\n",
       "      <td>253875</td>\n",
       "      <td>покупка жилья</td>\n",
       "      <td>B</td>\n",
       "    </tr>\n",
       "    <tr>\n",
       "      <th>1</th>\n",
       "      <td>1</td>\n",
       "      <td>346004.417307</td>\n",
       "      <td>36</td>\n",
       "      <td>1</td>\n",
       "      <td>0</td>\n",
       "      <td>F</td>\n",
       "      <td>сотрудник</td>\n",
       "      <td>0</td>\n",
       "      <td>112080</td>\n",
       "      <td>приобретение автомобиля</td>\n",
       "      <td>C</td>\n",
       "    </tr>\n",
       "    <tr>\n",
       "      <th>2</th>\n",
       "      <td>0</td>\n",
       "      <td>352361.239865</td>\n",
       "      <td>33</td>\n",
       "      <td>1</td>\n",
       "      <td>0</td>\n",
       "      <td>M</td>\n",
       "      <td>сотрудник</td>\n",
       "      <td>0</td>\n",
       "      <td>145885</td>\n",
       "      <td>покупка жилья</td>\n",
       "      <td>C</td>\n",
       "    </tr>\n",
       "    <tr>\n",
       "      <th>3</th>\n",
       "      <td>3</td>\n",
       "      <td>346401.837112</td>\n",
       "      <td>32</td>\n",
       "      <td>1</td>\n",
       "      <td>0</td>\n",
       "      <td>M</td>\n",
       "      <td>сотрудник</td>\n",
       "      <td>0</td>\n",
       "      <td>267628</td>\n",
       "      <td>дополнительное образование</td>\n",
       "      <td>B</td>\n",
       "    </tr>\n",
       "    <tr>\n",
       "      <th>4</th>\n",
       "      <td>0</td>\n",
       "      <td>340266.072047</td>\n",
       "      <td>53</td>\n",
       "      <td>1</td>\n",
       "      <td>1</td>\n",
       "      <td>F</td>\n",
       "      <td>пенсионер</td>\n",
       "      <td>0</td>\n",
       "      <td>158616</td>\n",
       "      <td>сыграть свадьбу</td>\n",
       "      <td>C</td>\n",
       "    </tr>\n",
       "  </tbody>\n",
       "</table>\n",
       "</div>"
      ],
      "text/plain": [
       "   children  days_employed  dob_years  education_id  family_status_id gender  \\\n",
       "0         1  363551.956442         42             0                 0      F   \n",
       "1         1  346004.417307         36             1                 0      F   \n",
       "2         0  352361.239865         33             1                 0      M   \n",
       "3         3  346401.837112         32             1                 0      M   \n",
       "4         0  340266.072047         53             1                 1      F   \n",
       "\n",
       "  income_type  debt  total_income                     purpose  \\\n",
       "0   сотрудник     0        253875               покупка жилья   \n",
       "1   сотрудник     0        112080     приобретение автомобиля   \n",
       "2   сотрудник     0        145885               покупка жилья   \n",
       "3   сотрудник     0        267628  дополнительное образование   \n",
       "4   пенсионер     0        158616             сыграть свадьбу   \n",
       "\n",
       "  total_income_category  \n",
       "0                     B  \n",
       "1                     C  \n",
       "2                     C  \n",
       "3                     B  \n",
       "4                     C  "
      ]
     },
     "metadata": {},
     "output_type": "display_data"
    }
   ],
   "source": [
    "#функция для присваивания категории доходов\n",
    "def income_category(income): \n",
    "    if income <= 30000:\n",
    "        return 'E'\n",
    "    if 30001 <= income <= 50000:\n",
    "        return 'D'\n",
    "    if 50001 <= income <= 200000:\n",
    "        return 'C'\n",
    "    if 200001 <= income <= 1000000:\n",
    "        return 'B'\n",
    "    if income >= 1000001:\n",
    "        return 'A'\n",
    "    \n",
    "df['total_income_category'] = df['total_income'].apply(income_category) #создание нового столбца с указанием категории доходов\n",
    "display(df.head())"
   ]
  },
  {
   "cell_type": "markdown",
   "id": "528ce202",
   "metadata": {},
   "source": [
    "### Шаг 2.7. Категоризация целей кредита."
   ]
  },
  {
   "cell_type": "markdown",
   "id": "12bb9146",
   "metadata": {},
   "source": [
    "Посмотрим на значения столбца purpose"
   ]
  },
  {
   "cell_type": "code",
   "execution_count": 29,
   "id": "bd381771",
   "metadata": {},
   "outputs": [
    {
     "data": {
      "text/plain": [
       "array(['покупка жилья', 'приобретение автомобиля',\n",
       "       'дополнительное образование', 'сыграть свадьбу',\n",
       "       'операции с жильем', 'образование', 'на проведение свадьбы',\n",
       "       'покупка жилья для семьи', 'покупка недвижимости',\n",
       "       'покупка коммерческой недвижимости', 'покупка жилой недвижимости',\n",
       "       'строительство собственной недвижимости', 'недвижимость',\n",
       "       'строительство недвижимости', 'на покупку подержанного автомобиля',\n",
       "       'на покупку своего автомобиля',\n",
       "       'операции с коммерческой недвижимостью',\n",
       "       'строительство жилой недвижимости', 'жилье',\n",
       "       'операции со своей недвижимостью', 'автомобили',\n",
       "       'заняться образованием', 'сделка с подержанным автомобилем',\n",
       "       'получение образования', 'автомобиль', 'свадьба',\n",
       "       'получение дополнительного образования', 'покупка своего жилья',\n",
       "       'операции с недвижимостью', 'получение высшего образования',\n",
       "       'свой автомобиль', 'сделка с автомобилем',\n",
       "       'профильное образование', 'высшее образование',\n",
       "       'покупка жилья для сдачи', 'на покупку автомобиля', 'ремонт жилью',\n",
       "       'заняться высшим образованием'], dtype=object)"
      ]
     },
     "execution_count": 29,
     "metadata": {},
     "output_type": "execute_result"
    }
   ],
   "source": [
    "df['purpose'].unique()"
   ]
  },
  {
   "cell_type": "markdown",
   "id": "c367f2cd",
   "metadata": {},
   "source": [
    "Много неявных дубликатов. Преобразуем их в новый столбец с ограниченным числом категорий"
   ]
  },
  {
   "cell_type": "code",
   "execution_count": 30,
   "id": "e71a6b8a",
   "metadata": {},
   "outputs": [
    {
     "data": {
      "text/plain": [
       "операции с недвижимостью    10811\n",
       "операции с автомобилем       4306\n",
       "получение образования        4013\n",
       "проведение свадьбы           2324\n",
       "Name: purpose_category, dtype: int64"
      ]
     },
     "metadata": {},
     "output_type": "display_data"
    }
   ],
   "source": [
    "#функция для присваивания категории \n",
    "def purpose_category(purpose):\n",
    "    if 'свадьб' in purpose:\n",
    "        return 'проведение свадьбы'\n",
    "    elif ('автомобил' in purpose):\n",
    "        return 'операции с автомобилем'\n",
    "    elif ('жиль' in purpose)|('недвижимост' in purpose):\n",
    "        return 'операции с недвижимостью'\n",
    "    elif 'образовани' in purpose:\n",
    "        return 'получение образования'\n",
    "    else:\n",
    "        return 'ошибка'\n",
    "df['purpose_category'] = df['purpose'].apply(purpose_category)#создание нового столбца с указанием категории\n",
    "display(df['purpose_category'].value_counts())"
   ]
  },
  {
   "cell_type": "markdown",
   "id": "8587dd63",
   "metadata": {},
   "source": [
    "### Ответы на вопросы."
   ]
  },
  {
   "cell_type": "markdown",
   "id": "6f7f8104",
   "metadata": {},
   "source": [
    "##### Вопрос 1: Есть ли зависимость между количеством детей и возвратом кредита в срок?"
   ]
  },
  {
   "cell_type": "code",
   "execution_count": 31,
   "id": "5bf08c2a",
   "metadata": {},
   "outputs": [
    {
     "data": {
      "text/html": [
       "<div>\n",
       "<style scoped>\n",
       "    .dataframe tbody tr th:only-of-type {\n",
       "        vertical-align: middle;\n",
       "    }\n",
       "\n",
       "    .dataframe tbody tr th {\n",
       "        vertical-align: top;\n",
       "    }\n",
       "\n",
       "    .dataframe thead tr th {\n",
       "        text-align: left;\n",
       "    }\n",
       "\n",
       "    .dataframe thead tr:last-of-type th {\n",
       "        text-align: right;\n",
       "    }\n",
       "</style>\n",
       "<table border=\"1\" class=\"dataframe\">\n",
       "  <thead>\n",
       "    <tr>\n",
       "      <th></th>\n",
       "      <th colspan=\"2\" halign=\"left\">debt</th>\n",
       "      <th>rate</th>\n",
       "    </tr>\n",
       "    <tr>\n",
       "      <th></th>\n",
       "      <th>count</th>\n",
       "      <th>sum</th>\n",
       "      <th></th>\n",
       "    </tr>\n",
       "    <tr>\n",
       "      <th>children</th>\n",
       "      <th></th>\n",
       "      <th></th>\n",
       "      <th></th>\n",
       "    </tr>\n",
       "  </thead>\n",
       "  <tbody>\n",
       "    <tr>\n",
       "      <th>0</th>\n",
       "      <td>14091</td>\n",
       "      <td>1063</td>\n",
       "      <td>0.075438</td>\n",
       "    </tr>\n",
       "    <tr>\n",
       "      <th>1</th>\n",
       "      <td>4855</td>\n",
       "      <td>445</td>\n",
       "      <td>0.091658</td>\n",
       "    </tr>\n",
       "    <tr>\n",
       "      <th>2</th>\n",
       "      <td>2128</td>\n",
       "      <td>202</td>\n",
       "      <td>0.094925</td>\n",
       "    </tr>\n",
       "    <tr>\n",
       "      <th>3</th>\n",
       "      <td>330</td>\n",
       "      <td>27</td>\n",
       "      <td>0.081818</td>\n",
       "    </tr>\n",
       "    <tr>\n",
       "      <th>4</th>\n",
       "      <td>41</td>\n",
       "      <td>4</td>\n",
       "      <td>0.097561</td>\n",
       "    </tr>\n",
       "    <tr>\n",
       "      <th>5</th>\n",
       "      <td>9</td>\n",
       "      <td>0</td>\n",
       "      <td>0.000000</td>\n",
       "    </tr>\n",
       "  </tbody>\n",
       "</table>\n",
       "</div>"
      ],
      "text/plain": [
       "           debt            rate\n",
       "          count   sum          \n",
       "children                       \n",
       "0         14091  1063  0.075438\n",
       "1          4855   445  0.091658\n",
       "2          2128   202  0.094925\n",
       "3           330    27  0.081818\n",
       "4            41     4  0.097561\n",
       "5             9     0  0.000000"
      ]
     },
     "metadata": {},
     "output_type": "display_data"
    }
   ],
   "source": [
    "#подсчет числа долгов и общего числа кредитов, сгруппированных по количеству детей\n",
    "grouped_by_children = df.groupby('children').agg({'debt': ['count', 'sum']}) \n",
    "#подсчет доли должников \n",
    "grouped_by_children['rate'] = grouped_by_children['debt']['sum']/grouped_by_children['debt']['count']\n",
    "display(grouped_by_children)"
   ]
  },
  {
   "cell_type": "markdown",
   "id": "bc760475",
   "metadata": {},
   "source": [
    "##### Вывод 1:"
   ]
  },
  {
   "cell_type": "markdown",
   "id": "9d7557b4",
   "metadata": {},
   "source": [
    "Связь между возвратом кредита в срок и количеством детей наблюдается, хотя и не очень значительная. \n",
    "\n",
    "Разница в доле должников среди бездетных и имеющих детей составляет 1,5-2%. Количество детей практически не влияет на надежность заемщика (разница составляет десятые процента). \n",
    "\n",
    "Наблюдается небольшой \"провал\" у людей, имеющих 3 ребенка, но это вряд ли говорит о какой-либо закономерности. Скорее всего, это объясняется тем, что таких заемщиков на порядок меньше, чем заемщиков с 2 или 1 ребенком. По той же причине нулевой процент должников среди заемщиков с 5 детьми не позволяет говорить об абсолютной надежности таких клиентов. "
   ]
  },
  {
   "cell_type": "markdown",
   "id": "9a03af76",
   "metadata": {},
   "source": [
    "##### Вопрос 2: Есть ли зависимость между семейным положением и возвратом кредита в срок?"
   ]
  },
  {
   "cell_type": "code",
   "execution_count": 32,
   "id": "d00dae5e",
   "metadata": {},
   "outputs": [
    {
     "data": {
      "text/html": [
       "<div>\n",
       "<style scoped>\n",
       "    .dataframe tbody tr th:only-of-type {\n",
       "        vertical-align: middle;\n",
       "    }\n",
       "\n",
       "    .dataframe tbody tr th {\n",
       "        vertical-align: top;\n",
       "    }\n",
       "\n",
       "    .dataframe thead tr th {\n",
       "        text-align: left;\n",
       "    }\n",
       "\n",
       "    .dataframe thead tr:last-of-type th {\n",
       "        text-align: right;\n",
       "    }\n",
       "</style>\n",
       "<table border=\"1\" class=\"dataframe\">\n",
       "  <thead>\n",
       "    <tr>\n",
       "      <th></th>\n",
       "      <th colspan=\"2\" halign=\"left\">debt</th>\n",
       "      <th>rate</th>\n",
       "    </tr>\n",
       "    <tr>\n",
       "      <th></th>\n",
       "      <th>count</th>\n",
       "      <th>sum</th>\n",
       "      <th></th>\n",
       "    </tr>\n",
       "    <tr>\n",
       "      <th>family_status_id</th>\n",
       "      <th></th>\n",
       "      <th></th>\n",
       "      <th></th>\n",
       "    </tr>\n",
       "  </thead>\n",
       "  <tbody>\n",
       "    <tr>\n",
       "      <th>0</th>\n",
       "      <td>12339</td>\n",
       "      <td>931</td>\n",
       "      <td>0.075452</td>\n",
       "    </tr>\n",
       "    <tr>\n",
       "      <th>1</th>\n",
       "      <td>4151</td>\n",
       "      <td>388</td>\n",
       "      <td>0.093471</td>\n",
       "    </tr>\n",
       "    <tr>\n",
       "      <th>2</th>\n",
       "      <td>959</td>\n",
       "      <td>63</td>\n",
       "      <td>0.065693</td>\n",
       "    </tr>\n",
       "    <tr>\n",
       "      <th>3</th>\n",
       "      <td>1195</td>\n",
       "      <td>85</td>\n",
       "      <td>0.071130</td>\n",
       "    </tr>\n",
       "    <tr>\n",
       "      <th>4</th>\n",
       "      <td>2810</td>\n",
       "      <td>274</td>\n",
       "      <td>0.097509</td>\n",
       "    </tr>\n",
       "  </tbody>\n",
       "</table>\n",
       "</div>"
      ],
      "text/plain": [
       "                   debt           rate\n",
       "                  count  sum          \n",
       "family_status_id                      \n",
       "0                 12339  931  0.075452\n",
       "1                  4151  388  0.093471\n",
       "2                   959   63  0.065693\n",
       "3                  1195   85  0.071130\n",
       "4                  2810  274  0.097509"
      ]
     },
     "metadata": {},
     "output_type": "display_data"
    }
   ],
   "source": [
    "#подсчет числа долгов и общего числа кредитов, сгруппированных по семейному положению\n",
    "grouped_by_family = df.groupby('family_status_id').agg({'debt': ['count', 'sum']}) \n",
    "#подсчет доли должников \n",
    "grouped_by_family['rate'] = grouped_by_family['debt']['sum']/grouped_by_family['debt']['count']\n",
    "display(grouped_by_family)"
   ]
  },
  {
   "cell_type": "markdown",
   "id": "52b3eb8e",
   "metadata": {},
   "source": [
    "##### Вывод 2:"
   ]
  },
  {
   "cell_type": "markdown",
   "id": "2f566c95",
   "metadata": {},
   "source": [
    "Наблюдается зависимость между семейным положением и возвратом кредита в срок. Самыми надежными оказались вдовцы/вдовы (6,6% должников). Самыми ненадежными -- состоящие \"в гражданском браке\" и холостяки. Причем среди последних доля должников составляет почти 10% "
   ]
  },
  {
   "cell_type": "markdown",
   "id": "ffb4b0c7",
   "metadata": {},
   "source": [
    "##### Вопрос 3: Есть ли зависимость между уровнем дохода и возвратом кредита в срок?"
   ]
  },
  {
   "cell_type": "code",
   "execution_count": 33,
   "id": "48c05f82",
   "metadata": {},
   "outputs": [
    {
     "data": {
      "text/html": [
       "<div>\n",
       "<style scoped>\n",
       "    .dataframe tbody tr th:only-of-type {\n",
       "        vertical-align: middle;\n",
       "    }\n",
       "\n",
       "    .dataframe tbody tr th {\n",
       "        vertical-align: top;\n",
       "    }\n",
       "\n",
       "    .dataframe thead tr th {\n",
       "        text-align: left;\n",
       "    }\n",
       "\n",
       "    .dataframe thead tr:last-of-type th {\n",
       "        text-align: right;\n",
       "    }\n",
       "</style>\n",
       "<table border=\"1\" class=\"dataframe\">\n",
       "  <thead>\n",
       "    <tr>\n",
       "      <th></th>\n",
       "      <th colspan=\"2\" halign=\"left\">debt</th>\n",
       "      <th>rate</th>\n",
       "    </tr>\n",
       "    <tr>\n",
       "      <th></th>\n",
       "      <th>count</th>\n",
       "      <th>sum</th>\n",
       "      <th></th>\n",
       "    </tr>\n",
       "    <tr>\n",
       "      <th>total_income_category</th>\n",
       "      <th></th>\n",
       "      <th></th>\n",
       "      <th></th>\n",
       "    </tr>\n",
       "  </thead>\n",
       "  <tbody>\n",
       "    <tr>\n",
       "      <th>A</th>\n",
       "      <td>25</td>\n",
       "      <td>2</td>\n",
       "      <td>0.080000</td>\n",
       "    </tr>\n",
       "    <tr>\n",
       "      <th>B</th>\n",
       "      <td>5041</td>\n",
       "      <td>356</td>\n",
       "      <td>0.070621</td>\n",
       "    </tr>\n",
       "    <tr>\n",
       "      <th>C</th>\n",
       "      <td>16016</td>\n",
       "      <td>1360</td>\n",
       "      <td>0.084915</td>\n",
       "    </tr>\n",
       "    <tr>\n",
       "      <th>D</th>\n",
       "      <td>350</td>\n",
       "      <td>21</td>\n",
       "      <td>0.060000</td>\n",
       "    </tr>\n",
       "    <tr>\n",
       "      <th>E</th>\n",
       "      <td>22</td>\n",
       "      <td>2</td>\n",
       "      <td>0.090909</td>\n",
       "    </tr>\n",
       "  </tbody>\n",
       "</table>\n",
       "</div>"
      ],
      "text/plain": [
       "                        debt            rate\n",
       "                       count   sum          \n",
       "total_income_category                       \n",
       "A                         25     2  0.080000\n",
       "B                       5041   356  0.070621\n",
       "C                      16016  1360  0.084915\n",
       "D                        350    21  0.060000\n",
       "E                         22     2  0.090909"
      ]
     },
     "metadata": {},
     "output_type": "display_data"
    }
   ],
   "source": [
    "#подсчет числа долгов и общего числа кредитов, сгруппированных по уровню дохода\n",
    "grouped_by_income = df.groupby('total_income_category').agg({'debt': ['count', 'sum']}) \n",
    "\n",
    "#подсчет доли должников \n",
    "grouped_by_income['rate'] = grouped_by_income['debt']['sum']/grouped_by_income['debt']['count']\n",
    "display(grouped_by_income)"
   ]
  },
  {
   "cell_type": "markdown",
   "id": "aefa8216",
   "metadata": {},
   "source": [
    "##### Вывод 3:"
   ]
  },
  {
   "cell_type": "markdown",
   "id": "5ab0e69a",
   "metadata": {},
   "source": [
    "Наблюдается зависимость между уровнем дохода и возвратом кредита в срок. Самыми надежными заемщиками оказываются люди с доходами \"ниже среднего\" -- D (6% должников). Самыми ненадежными -- люди с самым низким доходом и со средним доходом. \n",
    "\n",
    "Однако делать строгие выводы нельзя, так как количество заемщиков с разной категорией дохода отличается на несколько порядков. "
   ]
  },
  {
   "cell_type": "markdown",
   "id": "e8d61235",
   "metadata": {},
   "source": [
    "##### Вопрос 4: Как разные цели кредита влияют на его возврат в срок?"
   ]
  },
  {
   "cell_type": "code",
   "execution_count": 34,
   "id": "5dfac65e",
   "metadata": {},
   "outputs": [
    {
     "data": {
      "text/html": [
       "<div>\n",
       "<style scoped>\n",
       "    .dataframe tbody tr th:only-of-type {\n",
       "        vertical-align: middle;\n",
       "    }\n",
       "\n",
       "    .dataframe tbody tr th {\n",
       "        vertical-align: top;\n",
       "    }\n",
       "\n",
       "    .dataframe thead tr th {\n",
       "        text-align: left;\n",
       "    }\n",
       "\n",
       "    .dataframe thead tr:last-of-type th {\n",
       "        text-align: right;\n",
       "    }\n",
       "</style>\n",
       "<table border=\"1\" class=\"dataframe\">\n",
       "  <thead>\n",
       "    <tr>\n",
       "      <th></th>\n",
       "      <th colspan=\"2\" halign=\"left\">debt</th>\n",
       "      <th>rate</th>\n",
       "    </tr>\n",
       "    <tr>\n",
       "      <th></th>\n",
       "      <th>count</th>\n",
       "      <th>sum</th>\n",
       "      <th></th>\n",
       "    </tr>\n",
       "    <tr>\n",
       "      <th>purpose_category</th>\n",
       "      <th></th>\n",
       "      <th></th>\n",
       "      <th></th>\n",
       "    </tr>\n",
       "  </thead>\n",
       "  <tbody>\n",
       "    <tr>\n",
       "      <th>операции с автомобилем</th>\n",
       "      <td>4306</td>\n",
       "      <td>403</td>\n",
       "      <td>0.093590</td>\n",
       "    </tr>\n",
       "    <tr>\n",
       "      <th>операции с недвижимостью</th>\n",
       "      <td>10811</td>\n",
       "      <td>782</td>\n",
       "      <td>0.072334</td>\n",
       "    </tr>\n",
       "    <tr>\n",
       "      <th>получение образования</th>\n",
       "      <td>4013</td>\n",
       "      <td>370</td>\n",
       "      <td>0.092200</td>\n",
       "    </tr>\n",
       "    <tr>\n",
       "      <th>проведение свадьбы</th>\n",
       "      <td>2324</td>\n",
       "      <td>186</td>\n",
       "      <td>0.080034</td>\n",
       "    </tr>\n",
       "  </tbody>\n",
       "</table>\n",
       "</div>"
      ],
      "text/plain": [
       "                           debt           rate\n",
       "                          count  sum          \n",
       "purpose_category                              \n",
       "операции с автомобилем     4306  403  0.093590\n",
       "операции с недвижимостью  10811  782  0.072334\n",
       "получение образования      4013  370  0.092200\n",
       "проведение свадьбы         2324  186  0.080034"
      ]
     },
     "metadata": {},
     "output_type": "display_data"
    }
   ],
   "source": [
    "#подсчет числа долгов и общего числа кредитов, сгруппированных по назначению кредита\n",
    "grouped_by_purpose = df.groupby('purpose_category').agg({'debt': ['count', 'sum']}) \n",
    "\n",
    "#подсчет доли должников \n",
    "grouped_by_purpose['rate'] = grouped_by_purpose['debt']['sum']/grouped_by_purpose['debt']['count']\n",
    "display(grouped_by_purpose)"
   ]
  },
  {
   "cell_type": "markdown",
   "id": "5ded89c2",
   "metadata": {},
   "source": [
    "##### Вывод 4:"
   ]
  },
  {
   "cell_type": "markdown",
   "id": "304f6358",
   "metadata": {},
   "source": [
    "Цель кредита влияет на его возврат в срок (разброс доли должников в зависимости от цели -- 2,1%). Чаще всего кредит закрывают в срок те, кто взял его для операций с недвижимостью. Самая \"ненадежная\" цель — операции с автомобилем и получение образования (более 9% должников)"
   ]
  },
  {
   "cell_type": "markdown",
   "id": "c97ea21c",
   "metadata": {},
   "source": [
    "## Общий вывод:"
   ]
  },
  {
   "cell_type": "markdown",
   "id": "65851607",
   "metadata": {},
   "source": [
    "- семейное положение и количество детей у клиента оказывают небольшое влияние на возврат кредита в срок\n",
    "\n",
    "- наличие хотя бы одного ребенка важнее, чем количество детей\n",
    " \n",
    "- уровень дохода потенциально может влияет на надежность заемщика. Для изучения этого вопроса необходимо собрать больше данных\n",
    "\n",
    "- цель кредита влияет на возврат кредита в срок в той же степени, что семейное положение и наличие детей"
   ]
  }
 ],
 "metadata": {
  "ExecuteTimeLog": [
   {
    "duration": 586,
    "start_time": "2022-04-27T15:38:27.225Z"
   },
   {
    "duration": 64,
    "start_time": "2022-04-27T15:38:33.411Z"
   },
   {
    "duration": 99,
    "start_time": "2022-04-27T15:38:36.733Z"
   },
   {
    "duration": 149,
    "start_time": "2022-04-27T15:39:44.449Z"
   },
   {
    "duration": 77,
    "start_time": "2022-04-27T15:39:51.943Z"
   },
   {
    "duration": 82,
    "start_time": "2022-04-27T15:40:06.374Z"
   },
   {
    "duration": 95,
    "start_time": "2022-04-27T15:40:29.803Z"
   },
   {
    "duration": 8,
    "start_time": "2022-04-27T16:20:30.001Z"
   },
   {
    "duration": 6,
    "start_time": "2022-04-27T16:20:50.162Z"
   },
   {
    "duration": 8,
    "start_time": "2022-04-27T16:21:01.406Z"
   },
   {
    "duration": 6,
    "start_time": "2022-04-27T16:21:06.913Z"
   },
   {
    "duration": 9,
    "start_time": "2022-04-27T16:22:38.880Z"
   },
   {
    "duration": 8,
    "start_time": "2022-04-27T16:23:39.928Z"
   },
   {
    "duration": 6,
    "start_time": "2022-04-27T16:24:40.111Z"
   },
   {
    "duration": 16,
    "start_time": "2022-04-27T16:25:01.319Z"
   },
   {
    "duration": 13,
    "start_time": "2022-04-27T16:26:13.050Z"
   },
   {
    "duration": 14,
    "start_time": "2022-04-27T16:26:19.920Z"
   },
   {
    "duration": 14,
    "start_time": "2022-04-27T16:26:42.958Z"
   },
   {
    "duration": 13,
    "start_time": "2022-04-27T16:26:47.338Z"
   },
   {
    "duration": 12,
    "start_time": "2022-04-27T16:26:58.920Z"
   },
   {
    "duration": 12,
    "start_time": "2022-04-27T16:27:36.422Z"
   },
   {
    "duration": 4,
    "start_time": "2022-04-27T16:27:54.724Z"
   },
   {
    "duration": 12,
    "start_time": "2022-04-27T16:28:00.002Z"
   },
   {
    "duration": 101,
    "start_time": "2022-04-27T16:28:03.454Z"
   },
   {
    "duration": 97,
    "start_time": "2022-04-27T16:28:13.344Z"
   },
   {
    "duration": 10,
    "start_time": "2022-04-27T16:28:13.443Z"
   },
   {
    "duration": 13,
    "start_time": "2022-04-27T16:28:18.272Z"
   },
   {
    "duration": 91,
    "start_time": "2022-04-27T16:28:27.633Z"
   },
   {
    "duration": 5,
    "start_time": "2022-04-27T16:28:30.541Z"
   },
   {
    "duration": 95,
    "start_time": "2022-04-27T16:28:41.564Z"
   },
   {
    "duration": 14,
    "start_time": "2022-04-27T16:28:41.661Z"
   },
   {
    "duration": 94,
    "start_time": "2022-04-27T16:28:47.104Z"
   },
   {
    "duration": 12,
    "start_time": "2022-04-27T16:28:49.141Z"
   },
   {
    "duration": 14,
    "start_time": "2022-04-27T16:29:03.483Z"
   },
   {
    "duration": 13,
    "start_time": "2022-04-27T16:29:16.474Z"
   },
   {
    "duration": 96,
    "start_time": "2022-04-27T16:29:18.633Z"
   },
   {
    "duration": 21,
    "start_time": "2022-04-27T16:29:20.612Z"
   },
   {
    "duration": 97,
    "start_time": "2022-04-27T16:29:36.845Z"
   },
   {
    "duration": 23,
    "start_time": "2022-04-27T16:29:36.945Z"
   },
   {
    "duration": 21,
    "start_time": "2022-04-27T16:30:00.453Z"
   },
   {
    "duration": 8,
    "start_time": "2022-04-27T16:30:38.674Z"
   },
   {
    "duration": 11,
    "start_time": "2022-04-27T16:55:07.747Z"
   },
   {
    "duration": 8,
    "start_time": "2022-04-27T16:55:14.523Z"
   },
   {
    "duration": 12,
    "start_time": "2022-04-27T16:56:48.424Z"
   },
   {
    "duration": 22,
    "start_time": "2022-04-27T17:00:28.933Z"
   },
   {
    "duration": 11,
    "start_time": "2022-04-27T17:00:32.497Z"
   },
   {
    "duration": 8,
    "start_time": "2022-04-27T17:04:32.531Z"
   },
   {
    "duration": 97,
    "start_time": "2022-04-27T17:04:46.096Z"
   },
   {
    "duration": 7,
    "start_time": "2022-04-27T17:04:46.196Z"
   },
   {
    "duration": 10,
    "start_time": "2022-04-27T17:04:46.206Z"
   },
   {
    "duration": 13,
    "start_time": "2022-04-27T17:14:11.626Z"
   },
   {
    "duration": 9,
    "start_time": "2022-04-27T17:14:20.775Z"
   },
   {
    "duration": 7,
    "start_time": "2022-04-27T17:14:42.016Z"
   },
   {
    "duration": 11,
    "start_time": "2022-04-27T17:18:06.348Z"
   },
   {
    "duration": 31,
    "start_time": "2022-04-27T17:18:49.279Z"
   },
   {
    "duration": 18,
    "start_time": "2022-04-27T17:19:01.099Z"
   },
   {
    "duration": 6,
    "start_time": "2022-04-27T17:19:21.918Z"
   },
   {
    "duration": 115,
    "start_time": "2022-04-27T17:22:52.163Z"
   },
   {
    "duration": 95,
    "start_time": "2022-04-27T17:27:30.595Z"
   },
   {
    "duration": 7,
    "start_time": "2022-04-27T17:27:30.692Z"
   },
   {
    "duration": 24,
    "start_time": "2022-04-27T17:27:30.701Z"
   },
   {
    "duration": 32,
    "start_time": "2022-04-27T17:27:30.727Z"
   },
   {
    "duration": 10,
    "start_time": "2022-04-27T17:28:43.226Z"
   },
   {
    "duration": 14,
    "start_time": "2022-04-27T17:29:38.216Z"
   },
   {
    "duration": 16,
    "start_time": "2022-04-27T17:30:23.219Z"
   },
   {
    "duration": 17,
    "start_time": "2022-04-27T17:30:32.997Z"
   },
   {
    "duration": 17,
    "start_time": "2022-04-27T17:31:29.128Z"
   },
   {
    "duration": 0,
    "start_time": "2022-04-27T17:31:37.131Z"
   },
   {
    "duration": 8,
    "start_time": "2022-04-27T17:31:40.527Z"
   },
   {
    "duration": 38,
    "start_time": "2022-04-27T17:36:23.192Z"
   },
   {
    "duration": 3177,
    "start_time": "2022-04-27T18:10:05.387Z"
   },
   {
    "duration": 114,
    "start_time": "2022-04-27T18:10:30.759Z"
   },
   {
    "duration": 1943,
    "start_time": "2022-04-27T18:10:36.940Z"
   },
   {
    "duration": 1963,
    "start_time": "2022-04-27T18:10:39.008Z"
   },
   {
    "duration": 1953,
    "start_time": "2022-04-27T18:11:27.280Z"
   },
   {
    "duration": 1895,
    "start_time": "2022-04-27T18:11:58.279Z"
   },
   {
    "duration": 36,
    "start_time": "2022-04-27T18:14:42.738Z"
   },
   {
    "duration": 2,
    "start_time": "2022-04-27T18:14:49.156Z"
   },
   {
    "duration": 8,
    "start_time": "2022-04-27T18:16:50.266Z"
   },
   {
    "duration": 5,
    "start_time": "2022-04-27T18:16:58.635Z"
   },
   {
    "duration": 6,
    "start_time": "2022-04-27T18:17:20.595Z"
   },
   {
    "duration": 22,
    "start_time": "2022-04-27T18:17:29.804Z"
   },
   {
    "duration": 25,
    "start_time": "2022-04-27T18:17:34.394Z"
   },
   {
    "duration": 99,
    "start_time": "2022-04-27T18:17:41.175Z"
   },
   {
    "duration": 7,
    "start_time": "2022-04-27T18:17:41.277Z"
   },
   {
    "duration": 10,
    "start_time": "2022-04-27T18:17:41.286Z"
   },
   {
    "duration": 7,
    "start_time": "2022-04-27T18:17:41.298Z"
   },
   {
    "duration": 59,
    "start_time": "2022-04-27T18:17:41.308Z"
   },
   {
    "duration": 8,
    "start_time": "2022-04-27T18:18:51.588Z"
   },
   {
    "duration": 12,
    "start_time": "2022-04-27T18:19:15.616Z"
   },
   {
    "duration": 9,
    "start_time": "2022-04-27T18:19:29.266Z"
   },
   {
    "duration": 11,
    "start_time": "2022-04-27T18:19:49.185Z"
   },
   {
    "duration": 11,
    "start_time": "2022-04-27T18:19:57.481Z"
   },
   {
    "duration": 10,
    "start_time": "2022-04-27T18:20:22.666Z"
   },
   {
    "duration": 98,
    "start_time": "2022-04-27T18:20:52.043Z"
   },
   {
    "duration": 17,
    "start_time": "2022-04-27T18:22:27.019Z"
   },
   {
    "duration": 11,
    "start_time": "2022-04-27T18:23:00.777Z"
   },
   {
    "duration": 10,
    "start_time": "2022-04-27T18:23:02.539Z"
   },
   {
    "duration": 96,
    "start_time": "2022-04-27T18:24:15.783Z"
   },
   {
    "duration": 7,
    "start_time": "2022-04-27T18:24:15.882Z"
   },
   {
    "duration": 25,
    "start_time": "2022-04-27T18:24:15.891Z"
   },
   {
    "duration": 10,
    "start_time": "2022-04-27T18:24:15.919Z"
   },
   {
    "duration": 11,
    "start_time": "2022-04-27T18:24:15.951Z"
   },
   {
    "duration": 9,
    "start_time": "2022-04-27T18:24:15.964Z"
   },
   {
    "duration": 85,
    "start_time": "2022-04-27T18:24:15.975Z"
   },
   {
    "duration": 11,
    "start_time": "2022-04-27T18:25:36.230Z"
   },
   {
    "duration": 10,
    "start_time": "2022-04-27T18:27:22.194Z"
   },
   {
    "duration": 10,
    "start_time": "2022-04-27T18:27:29.721Z"
   },
   {
    "duration": 15,
    "start_time": "2022-04-27T18:27:33.983Z"
   },
   {
    "duration": 14,
    "start_time": "2022-04-27T18:27:41.842Z"
   },
   {
    "duration": 11,
    "start_time": "2022-04-27T18:28:37.253Z"
   },
   {
    "duration": 12,
    "start_time": "2022-04-27T18:28:53.393Z"
   },
   {
    "duration": 16,
    "start_time": "2022-04-27T18:29:12.591Z"
   },
   {
    "duration": 23,
    "start_time": "2022-04-27T18:29:17.753Z"
   },
   {
    "duration": 99,
    "start_time": "2022-04-27T18:29:24.326Z"
   },
   {
    "duration": 6,
    "start_time": "2022-04-27T18:29:24.427Z"
   },
   {
    "duration": 20,
    "start_time": "2022-04-27T18:29:24.435Z"
   },
   {
    "duration": 8,
    "start_time": "2022-04-27T18:29:24.457Z"
   },
   {
    "duration": 12,
    "start_time": "2022-04-27T18:29:24.468Z"
   },
   {
    "duration": 9,
    "start_time": "2022-04-27T18:29:24.481Z"
   },
   {
    "duration": 60,
    "start_time": "2022-04-27T18:29:24.493Z"
   },
   {
    "duration": 9,
    "start_time": "2022-04-27T18:29:49.044Z"
   },
   {
    "duration": 5,
    "start_time": "2022-04-27T18:32:05.997Z"
   },
   {
    "duration": 7,
    "start_time": "2022-04-27T18:32:14.724Z"
   },
   {
    "duration": 10,
    "start_time": "2022-04-27T18:32:18.986Z"
   },
   {
    "duration": 10,
    "start_time": "2022-04-27T18:32:49.585Z"
   },
   {
    "duration": 8,
    "start_time": "2022-04-27T18:33:02.126Z"
   },
   {
    "duration": 9,
    "start_time": "2022-04-27T18:34:37.408Z"
   },
   {
    "duration": 19,
    "start_time": "2022-04-27T18:34:47.426Z"
   },
   {
    "duration": 21,
    "start_time": "2022-04-27T18:35:04.380Z"
   },
   {
    "duration": 10,
    "start_time": "2022-04-27T18:35:06.878Z"
   },
   {
    "duration": 97,
    "start_time": "2022-04-27T18:35:08.841Z"
   },
   {
    "duration": 16,
    "start_time": "2022-04-27T18:35:08.941Z"
   },
   {
    "duration": 16,
    "start_time": "2022-04-27T18:35:08.960Z"
   },
   {
    "duration": 9,
    "start_time": "2022-04-27T18:35:08.978Z"
   },
   {
    "duration": 13,
    "start_time": "2022-04-27T18:35:08.990Z"
   },
   {
    "duration": 9,
    "start_time": "2022-04-27T18:35:09.005Z"
   },
   {
    "duration": 24,
    "start_time": "2022-04-27T18:35:09.053Z"
   },
   {
    "duration": 7,
    "start_time": "2022-04-27T18:35:09.079Z"
   },
   {
    "duration": 11,
    "start_time": "2022-04-27T18:35:09.089Z"
   },
   {
    "duration": 7,
    "start_time": "2022-04-27T18:35:09.102Z"
   },
   {
    "duration": 48,
    "start_time": "2022-04-27T18:35:09.111Z"
   },
   {
    "duration": 26,
    "start_time": "2022-04-27T18:35:09.161Z"
   },
   {
    "duration": 24,
    "start_time": "2022-04-27T18:35:32.547Z"
   },
   {
    "duration": 25,
    "start_time": "2022-04-27T18:36:01.738Z"
   },
   {
    "duration": 24,
    "start_time": "2022-04-27T18:36:19.288Z"
   },
   {
    "duration": 10,
    "start_time": "2022-04-27T18:36:37.648Z"
   },
   {
    "duration": 62,
    "start_time": "2022-04-27T18:37:08.099Z"
   },
   {
    "duration": 9,
    "start_time": "2022-04-27T18:37:20.275Z"
   },
   {
    "duration": 11,
    "start_time": "2022-04-27T18:38:09.416Z"
   },
   {
    "duration": 13,
    "start_time": "2022-04-27T18:38:25.379Z"
   },
   {
    "duration": 7,
    "start_time": "2022-04-27T18:38:52.169Z"
   },
   {
    "duration": 10,
    "start_time": "2022-04-27T18:39:07.619Z"
   },
   {
    "duration": 99,
    "start_time": "2022-04-27T18:40:17.575Z"
   },
   {
    "duration": 6,
    "start_time": "2022-04-27T18:40:17.676Z"
   },
   {
    "duration": 12,
    "start_time": "2022-04-27T18:40:17.684Z"
   },
   {
    "duration": 7,
    "start_time": "2022-04-27T18:40:17.699Z"
   },
   {
    "duration": 51,
    "start_time": "2022-04-27T18:40:17.708Z"
   },
   {
    "duration": 9,
    "start_time": "2022-04-27T18:40:17.761Z"
   },
   {
    "duration": 25,
    "start_time": "2022-04-27T18:40:17.772Z"
   },
   {
    "duration": 7,
    "start_time": "2022-04-27T18:40:17.799Z"
   },
   {
    "duration": 10,
    "start_time": "2022-04-27T18:40:17.853Z"
   },
   {
    "duration": 9,
    "start_time": "2022-04-27T18:40:17.866Z"
   },
   {
    "duration": 33,
    "start_time": "2022-04-27T18:40:17.877Z"
   },
   {
    "duration": 32,
    "start_time": "2022-04-27T18:40:17.912Z"
   },
   {
    "duration": 8,
    "start_time": "2022-04-27T18:40:17.952Z"
   },
   {
    "duration": 14,
    "start_time": "2022-04-27T18:40:17.962Z"
   },
   {
    "duration": 12,
    "start_time": "2022-04-27T18:40:17.978Z"
   },
   {
    "duration": 8,
    "start_time": "2022-04-27T18:40:17.993Z"
   },
   {
    "duration": 53,
    "start_time": "2022-04-27T18:40:18.004Z"
   },
   {
    "duration": 10,
    "start_time": "2022-04-27T18:40:38.671Z"
   },
   {
    "duration": 7,
    "start_time": "2022-04-27T18:40:46.712Z"
   },
   {
    "duration": 100,
    "start_time": "2022-04-27T18:40:51.022Z"
   },
   {
    "duration": 9,
    "start_time": "2022-04-27T18:40:51.126Z"
   },
   {
    "duration": 8,
    "start_time": "2022-04-27T18:40:51.152Z"
   },
   {
    "duration": 9,
    "start_time": "2022-04-27T18:40:51.162Z"
   },
   {
    "duration": 12,
    "start_time": "2022-04-27T18:40:51.174Z"
   },
   {
    "duration": 9,
    "start_time": "2022-04-27T18:40:51.188Z"
   },
   {
    "duration": 64,
    "start_time": "2022-04-27T18:40:51.199Z"
   },
   {
    "duration": 6,
    "start_time": "2022-04-27T18:40:51.266Z"
   },
   {
    "duration": 12,
    "start_time": "2022-04-27T18:40:51.275Z"
   },
   {
    "duration": 7,
    "start_time": "2022-04-27T18:40:51.289Z"
   },
   {
    "duration": 11,
    "start_time": "2022-04-27T18:40:51.298Z"
   },
   {
    "duration": 62,
    "start_time": "2022-04-27T18:40:51.312Z"
   },
   {
    "duration": 17,
    "start_time": "2022-04-27T18:40:51.377Z"
   },
   {
    "duration": 11,
    "start_time": "2022-04-27T18:40:51.398Z"
   },
   {
    "duration": 19,
    "start_time": "2022-04-27T18:40:51.411Z"
   },
   {
    "duration": 8,
    "start_time": "2022-04-27T18:40:51.452Z"
   },
   {
    "duration": 11,
    "start_time": "2022-04-27T18:40:51.462Z"
   },
   {
    "duration": 6,
    "start_time": "2022-04-27T18:41:21.632Z"
   },
   {
    "duration": 5,
    "start_time": "2022-04-27T18:41:26.553Z"
   },
   {
    "duration": 21,
    "start_time": "2022-04-27T18:41:42.514Z"
   },
   {
    "duration": 12,
    "start_time": "2022-04-27T18:42:25.053Z"
   },
   {
    "duration": 198,
    "start_time": "2022-04-27T18:43:11.611Z"
   },
   {
    "duration": 23,
    "start_time": "2022-04-27T18:43:55.175Z"
   },
   {
    "duration": 549,
    "start_time": "2022-04-27T18:44:05.735Z"
   },
   {
    "duration": 1868,
    "start_time": "2022-04-27T18:44:30.575Z"
   },
   {
    "duration": 11,
    "start_time": "2022-04-27T18:44:37.145Z"
   },
   {
    "duration": 13,
    "start_time": "2022-04-27T18:45:26.945Z"
   },
   {
    "duration": 6,
    "start_time": "2022-04-27T18:46:33.665Z"
   },
   {
    "duration": 16,
    "start_time": "2022-04-27T18:46:45.635Z"
   },
   {
    "duration": 12,
    "start_time": "2022-04-27T18:46:49.146Z"
   },
   {
    "duration": 15,
    "start_time": "2022-04-27T18:47:04.026Z"
   },
   {
    "duration": 16,
    "start_time": "2022-04-27T18:47:26.046Z"
   },
   {
    "duration": 17,
    "start_time": "2022-04-27T18:47:36.005Z"
   },
   {
    "duration": 100,
    "start_time": "2022-04-27T18:48:04.211Z"
   },
   {
    "duration": 7,
    "start_time": "2022-04-27T18:48:04.314Z"
   },
   {
    "duration": 29,
    "start_time": "2022-04-27T18:48:04.324Z"
   },
   {
    "duration": 10,
    "start_time": "2022-04-27T18:48:04.355Z"
   },
   {
    "duration": 14,
    "start_time": "2022-04-27T18:48:04.369Z"
   },
   {
    "duration": 20,
    "start_time": "2022-04-27T18:48:04.386Z"
   },
   {
    "duration": 67,
    "start_time": "2022-04-27T18:48:04.408Z"
   },
   {
    "duration": 7,
    "start_time": "2022-04-27T18:48:04.477Z"
   },
   {
    "duration": 20,
    "start_time": "2022-04-27T18:48:04.486Z"
   },
   {
    "duration": 14,
    "start_time": "2022-04-27T18:48:04.509Z"
   },
   {
    "duration": 30,
    "start_time": "2022-04-27T18:48:04.525Z"
   },
   {
    "duration": 54,
    "start_time": "2022-04-27T18:48:04.557Z"
   },
   {
    "duration": 9,
    "start_time": "2022-04-27T18:48:04.614Z"
   },
   {
    "duration": 24,
    "start_time": "2022-04-27T18:48:04.627Z"
   },
   {
    "duration": 25,
    "start_time": "2022-04-27T18:48:04.653Z"
   },
   {
    "duration": 17,
    "start_time": "2022-04-27T18:48:04.681Z"
   },
   {
    "duration": 28,
    "start_time": "2022-04-27T18:48:04.700Z"
   },
   {
    "duration": 144,
    "start_time": "2022-04-27T18:48:13.059Z"
   },
   {
    "duration": 8,
    "start_time": "2022-04-27T18:48:13.205Z"
   },
   {
    "duration": 38,
    "start_time": "2022-04-27T18:48:13.215Z"
   },
   {
    "duration": 7,
    "start_time": "2022-04-27T18:48:13.255Z"
   },
   {
    "duration": 14,
    "start_time": "2022-04-27T18:48:13.266Z"
   },
   {
    "duration": 11,
    "start_time": "2022-04-27T18:48:13.283Z"
   },
   {
    "duration": 66,
    "start_time": "2022-04-27T18:48:13.297Z"
   },
   {
    "duration": 9,
    "start_time": "2022-04-27T18:48:13.365Z"
   },
   {
    "duration": 13,
    "start_time": "2022-04-27T18:48:13.377Z"
   },
   {
    "duration": 9,
    "start_time": "2022-04-27T18:48:13.393Z"
   },
   {
    "duration": 63,
    "start_time": "2022-04-27T18:48:13.405Z"
   },
   {
    "duration": 38,
    "start_time": "2022-04-27T18:48:13.471Z"
   },
   {
    "duration": 14,
    "start_time": "2022-04-27T18:48:13.512Z"
   },
   {
    "duration": 26,
    "start_time": "2022-04-27T18:48:13.530Z"
   },
   {
    "duration": 14,
    "start_time": "2022-04-27T18:48:13.559Z"
   },
   {
    "duration": 10,
    "start_time": "2022-04-27T18:48:13.575Z"
   },
   {
    "duration": 7,
    "start_time": "2022-04-27T18:49:33.077Z"
   },
   {
    "duration": 22,
    "start_time": "2022-04-27T18:49:39.156Z"
   },
   {
    "duration": 34,
    "start_time": "2022-04-27T19:04:04.590Z"
   },
   {
    "duration": 144,
    "start_time": "2022-04-27T19:04:29.963Z"
   },
   {
    "duration": 12,
    "start_time": "2022-04-27T19:04:30.110Z"
   },
   {
    "duration": 30,
    "start_time": "2022-04-27T19:04:30.124Z"
   },
   {
    "duration": 22,
    "start_time": "2022-04-27T19:04:30.156Z"
   },
   {
    "duration": 22,
    "start_time": "2022-04-27T19:04:30.183Z"
   },
   {
    "duration": 66,
    "start_time": "2022-04-27T19:04:30.208Z"
   },
   {
    "duration": 40,
    "start_time": "2022-04-27T19:04:30.277Z"
   },
   {
    "duration": 11,
    "start_time": "2022-04-27T19:04:30.320Z"
   },
   {
    "duration": 35,
    "start_time": "2022-04-27T19:04:30.352Z"
   },
   {
    "duration": 21,
    "start_time": "2022-04-27T19:04:30.389Z"
   },
   {
    "duration": 26,
    "start_time": "2022-04-27T19:04:30.412Z"
   },
   {
    "duration": 13,
    "start_time": "2022-04-27T19:04:30.440Z"
   },
   {
    "duration": 50,
    "start_time": "2022-04-27T19:04:30.456Z"
   },
   {
    "duration": 52,
    "start_time": "2022-04-27T19:04:30.510Z"
   },
   {
    "duration": 16,
    "start_time": "2022-04-27T19:04:30.564Z"
   },
   {
    "duration": 15,
    "start_time": "2022-04-27T19:04:30.582Z"
   },
   {
    "duration": 22,
    "start_time": "2022-04-27T19:04:30.599Z"
   },
   {
    "duration": 28,
    "start_time": "2022-04-27T19:04:30.624Z"
   },
   {
    "duration": 40,
    "start_time": "2022-04-27T19:04:30.654Z"
   },
   {
    "duration": 78,
    "start_time": "2022-04-27T19:04:42.596Z"
   },
   {
    "duration": 151,
    "start_time": "2022-04-27T19:04:47.784Z"
   },
   {
    "duration": 18,
    "start_time": "2022-04-27T19:04:47.939Z"
   },
   {
    "duration": 12,
    "start_time": "2022-04-27T19:04:47.961Z"
   },
   {
    "duration": 9,
    "start_time": "2022-04-27T19:04:47.977Z"
   },
   {
    "duration": 17,
    "start_time": "2022-04-27T19:04:47.989Z"
   },
   {
    "duration": 64,
    "start_time": "2022-04-27T19:04:48.008Z"
   },
   {
    "duration": 50,
    "start_time": "2022-04-27T19:04:48.074Z"
   },
   {
    "duration": 30,
    "start_time": "2022-04-27T19:04:48.127Z"
   },
   {
    "duration": 30,
    "start_time": "2022-04-27T19:04:48.159Z"
   },
   {
    "duration": 7,
    "start_time": "2022-04-27T19:04:48.192Z"
   },
   {
    "duration": 20,
    "start_time": "2022-04-27T19:04:48.201Z"
   },
   {
    "duration": 31,
    "start_time": "2022-04-27T19:04:48.223Z"
   },
   {
    "duration": 20,
    "start_time": "2022-04-27T19:04:48.256Z"
   },
   {
    "duration": 38,
    "start_time": "2022-04-27T19:04:48.279Z"
   },
   {
    "duration": 10,
    "start_time": "2022-04-27T19:04:48.319Z"
   },
   {
    "duration": 34,
    "start_time": "2022-04-27T19:04:48.331Z"
   },
   {
    "duration": 18,
    "start_time": "2022-04-27T19:04:48.367Z"
   },
   {
    "duration": 13,
    "start_time": "2022-04-27T19:04:48.387Z"
   },
   {
    "duration": 24,
    "start_time": "2022-04-27T19:04:48.403Z"
   },
   {
    "duration": 27,
    "start_time": "2022-04-27T19:05:34.585Z"
   },
   {
    "duration": 25,
    "start_time": "2022-04-27T19:05:37.554Z"
   },
   {
    "duration": 107,
    "start_time": "2022-04-27T19:05:40.323Z"
   },
   {
    "duration": 20,
    "start_time": "2022-04-27T19:05:40.432Z"
   },
   {
    "duration": 11,
    "start_time": "2022-04-27T19:05:40.454Z"
   },
   {
    "duration": 15,
    "start_time": "2022-04-27T19:05:40.469Z"
   },
   {
    "duration": 17,
    "start_time": "2022-04-27T19:05:40.486Z"
   },
   {
    "duration": 47,
    "start_time": "2022-04-27T19:05:40.506Z"
   },
   {
    "duration": 51,
    "start_time": "2022-04-27T19:05:40.555Z"
   },
   {
    "duration": 9,
    "start_time": "2022-04-27T19:05:40.608Z"
   },
   {
    "duration": 49,
    "start_time": "2022-04-27T19:05:40.620Z"
   },
   {
    "duration": 7,
    "start_time": "2022-04-27T19:05:40.674Z"
   },
   {
    "duration": 14,
    "start_time": "2022-04-27T19:05:40.683Z"
   },
   {
    "duration": 7,
    "start_time": "2022-04-27T19:05:40.699Z"
   },
   {
    "duration": 45,
    "start_time": "2022-04-27T19:05:40.708Z"
   },
   {
    "duration": 24,
    "start_time": "2022-04-27T19:05:40.755Z"
   },
   {
    "duration": 8,
    "start_time": "2022-04-27T19:05:40.782Z"
   },
   {
    "duration": 9,
    "start_time": "2022-04-27T19:05:40.792Z"
   },
   {
    "duration": 14,
    "start_time": "2022-04-27T19:05:40.802Z"
   },
   {
    "duration": 8,
    "start_time": "2022-04-27T19:05:40.851Z"
   },
   {
    "duration": 26,
    "start_time": "2022-04-27T19:05:40.861Z"
   },
   {
    "duration": 101,
    "start_time": "2022-04-27T19:05:58.827Z"
   },
   {
    "duration": 7,
    "start_time": "2022-04-27T19:05:58.931Z"
   },
   {
    "duration": 8,
    "start_time": "2022-04-27T19:05:58.952Z"
   },
   {
    "duration": 6,
    "start_time": "2022-04-27T19:05:58.962Z"
   },
   {
    "duration": 17,
    "start_time": "2022-04-27T19:05:58.972Z"
   },
   {
    "duration": 10,
    "start_time": "2022-04-27T19:05:58.992Z"
   },
   {
    "duration": 63,
    "start_time": "2022-04-27T19:05:59.004Z"
   },
   {
    "duration": 8,
    "start_time": "2022-04-27T19:05:59.069Z"
   },
   {
    "duration": 13,
    "start_time": "2022-04-27T19:05:59.079Z"
   },
   {
    "duration": 11,
    "start_time": "2022-04-27T19:05:59.094Z"
   },
   {
    "duration": 50,
    "start_time": "2022-04-27T19:05:59.107Z"
   },
   {
    "duration": 46,
    "start_time": "2022-04-27T19:05:59.159Z"
   },
   {
    "duration": 11,
    "start_time": "2022-04-27T19:05:59.207Z"
   },
   {
    "duration": 29,
    "start_time": "2022-04-27T19:05:59.222Z"
   },
   {
    "duration": 13,
    "start_time": "2022-04-27T19:05:59.254Z"
   },
   {
    "duration": 12,
    "start_time": "2022-04-27T19:05:59.269Z"
   },
   {
    "duration": 22,
    "start_time": "2022-04-27T19:05:59.284Z"
   },
   {
    "duration": 102,
    "start_time": "2022-04-27T19:06:15.982Z"
   },
   {
    "duration": 7,
    "start_time": "2022-04-27T19:06:16.086Z"
   },
   {
    "duration": 14,
    "start_time": "2022-04-27T19:06:16.095Z"
   },
   {
    "duration": 8,
    "start_time": "2022-04-27T19:06:16.111Z"
   },
   {
    "duration": 12,
    "start_time": "2022-04-27T19:06:16.154Z"
   },
   {
    "duration": 25,
    "start_time": "2022-04-27T19:06:16.168Z"
   },
   {
    "duration": 76,
    "start_time": "2022-04-27T19:06:16.196Z"
   },
   {
    "duration": 9,
    "start_time": "2022-04-27T19:06:16.274Z"
   },
   {
    "duration": 26,
    "start_time": "2022-04-27T19:06:16.285Z"
   },
   {
    "duration": 9,
    "start_time": "2022-04-27T19:06:16.313Z"
   },
   {
    "duration": 10,
    "start_time": "2022-04-27T19:06:16.352Z"
   },
   {
    "duration": 6,
    "start_time": "2022-04-27T19:06:16.364Z"
   },
   {
    "duration": 17,
    "start_time": "2022-04-27T19:06:16.373Z"
   },
   {
    "duration": 60,
    "start_time": "2022-04-27T19:06:16.396Z"
   },
   {
    "duration": 10,
    "start_time": "2022-04-27T19:06:16.459Z"
   },
   {
    "duration": 17,
    "start_time": "2022-04-27T19:06:16.471Z"
   },
   {
    "duration": 12,
    "start_time": "2022-04-27T19:06:16.490Z"
   },
   {
    "duration": 10,
    "start_time": "2022-04-27T19:06:16.504Z"
   },
   {
    "duration": 55,
    "start_time": "2022-04-27T19:06:16.516Z"
   },
   {
    "duration": 7,
    "start_time": "2022-04-27T19:33:39.085Z"
   },
   {
    "duration": 14,
    "start_time": "2022-04-27T19:33:45.865Z"
   },
   {
    "duration": 18,
    "start_time": "2022-04-27T19:34:30.842Z"
   },
   {
    "duration": 19,
    "start_time": "2022-04-27T19:35:04.677Z"
   },
   {
    "duration": 22,
    "start_time": "2022-04-27T19:35:10.857Z"
   },
   {
    "duration": 17,
    "start_time": "2022-04-27T19:36:34.980Z"
   },
   {
    "duration": 8,
    "start_time": "2022-04-27T19:36:57.928Z"
   },
   {
    "duration": 17,
    "start_time": "2022-04-27T19:37:00.567Z"
   },
   {
    "duration": 16,
    "start_time": "2022-04-27T19:37:05.128Z"
   },
   {
    "duration": 16,
    "start_time": "2022-04-27T19:37:12.028Z"
   },
   {
    "duration": 24,
    "start_time": "2022-04-27T19:37:26.158Z"
   },
   {
    "duration": 104,
    "start_time": "2022-04-27T19:37:29.228Z"
   },
   {
    "duration": 18,
    "start_time": "2022-04-27T19:37:29.335Z"
   },
   {
    "duration": 9,
    "start_time": "2022-04-27T19:37:29.355Z"
   },
   {
    "duration": 11,
    "start_time": "2022-04-27T19:37:29.366Z"
   },
   {
    "duration": 12,
    "start_time": "2022-04-27T19:37:29.380Z"
   },
   {
    "duration": 63,
    "start_time": "2022-04-27T19:37:29.394Z"
   },
   {
    "duration": 53,
    "start_time": "2022-04-27T19:37:29.460Z"
   },
   {
    "duration": 9,
    "start_time": "2022-04-27T19:37:29.515Z"
   },
   {
    "duration": 50,
    "start_time": "2022-04-27T19:37:29.526Z"
   },
   {
    "duration": 7,
    "start_time": "2022-04-27T19:37:29.579Z"
   },
   {
    "duration": 12,
    "start_time": "2022-04-27T19:37:29.588Z"
   },
   {
    "duration": 8,
    "start_time": "2022-04-27T19:37:29.602Z"
   },
   {
    "duration": 51,
    "start_time": "2022-04-27T19:37:29.613Z"
   },
   {
    "duration": 28,
    "start_time": "2022-04-27T19:37:29.668Z"
   },
   {
    "duration": 7,
    "start_time": "2022-04-27T19:37:29.699Z"
   },
   {
    "duration": 9,
    "start_time": "2022-04-27T19:37:29.708Z"
   },
   {
    "duration": 41,
    "start_time": "2022-04-27T19:37:29.719Z"
   },
   {
    "duration": 13,
    "start_time": "2022-04-27T19:37:29.762Z"
   },
   {
    "duration": 25,
    "start_time": "2022-04-27T19:37:29.778Z"
   },
   {
    "duration": 51,
    "start_time": "2022-04-27T19:37:29.805Z"
   },
   {
    "duration": 20,
    "start_time": "2022-04-27T19:37:29.859Z"
   },
   {
    "duration": 17,
    "start_time": "2022-04-27T19:38:08.765Z"
   },
   {
    "duration": 103,
    "start_time": "2022-04-27T19:38:37.978Z"
   },
   {
    "duration": 7,
    "start_time": "2022-04-27T19:38:38.084Z"
   },
   {
    "duration": 9,
    "start_time": "2022-04-27T19:38:38.093Z"
   },
   {
    "duration": 6,
    "start_time": "2022-04-27T19:38:38.105Z"
   },
   {
    "duration": 20,
    "start_time": "2022-04-27T19:38:38.151Z"
   },
   {
    "duration": 28,
    "start_time": "2022-04-27T19:38:38.174Z"
   },
   {
    "duration": 75,
    "start_time": "2022-04-27T19:38:38.204Z"
   },
   {
    "duration": 10,
    "start_time": "2022-04-27T19:38:38.281Z"
   },
   {
    "duration": 24,
    "start_time": "2022-04-27T19:38:38.294Z"
   },
   {
    "duration": 33,
    "start_time": "2022-04-27T19:38:38.320Z"
   },
   {
    "duration": 16,
    "start_time": "2022-04-27T19:38:38.360Z"
   },
   {
    "duration": 9,
    "start_time": "2022-04-27T19:38:38.379Z"
   },
   {
    "duration": 9,
    "start_time": "2022-04-27T19:38:38.390Z"
   },
   {
    "duration": 59,
    "start_time": "2022-04-27T19:38:38.402Z"
   },
   {
    "duration": 10,
    "start_time": "2022-04-27T19:38:38.463Z"
   },
   {
    "duration": 14,
    "start_time": "2022-04-27T19:38:38.475Z"
   },
   {
    "duration": 15,
    "start_time": "2022-04-27T19:38:38.491Z"
   },
   {
    "duration": 8,
    "start_time": "2022-04-27T19:38:38.508Z"
   },
   {
    "duration": 50,
    "start_time": "2022-04-27T19:38:38.519Z"
   },
   {
    "duration": 21,
    "start_time": "2022-04-27T19:38:38.573Z"
   },
   {
    "duration": 16,
    "start_time": "2022-04-27T19:38:38.596Z"
   },
   {
    "duration": 17,
    "start_time": "2022-04-27T19:38:46.565Z"
   },
   {
    "duration": 620,
    "start_time": "2022-04-28T05:47:10.217Z"
   },
   {
    "duration": 105,
    "start_time": "2022-04-28T05:47:10.839Z"
   },
   {
    "duration": 0,
    "start_time": "2022-04-28T05:47:10.947Z"
   },
   {
    "duration": 0,
    "start_time": "2022-04-28T05:47:10.948Z"
   },
   {
    "duration": 0,
    "start_time": "2022-04-28T05:47:10.950Z"
   },
   {
    "duration": 0,
    "start_time": "2022-04-28T05:47:10.951Z"
   },
   {
    "duration": 0,
    "start_time": "2022-04-28T05:47:10.952Z"
   },
   {
    "duration": 0,
    "start_time": "2022-04-28T05:47:10.954Z"
   },
   {
    "duration": 0,
    "start_time": "2022-04-28T05:47:10.955Z"
   },
   {
    "duration": 0,
    "start_time": "2022-04-28T05:47:10.956Z"
   },
   {
    "duration": 0,
    "start_time": "2022-04-28T05:47:10.957Z"
   },
   {
    "duration": 0,
    "start_time": "2022-04-28T05:47:10.958Z"
   },
   {
    "duration": 0,
    "start_time": "2022-04-28T05:47:10.961Z"
   },
   {
    "duration": 0,
    "start_time": "2022-04-28T05:47:10.962Z"
   },
   {
    "duration": 0,
    "start_time": "2022-04-28T05:47:10.983Z"
   },
   {
    "duration": 0,
    "start_time": "2022-04-28T05:47:10.984Z"
   },
   {
    "duration": 0,
    "start_time": "2022-04-28T05:47:10.986Z"
   },
   {
    "duration": 0,
    "start_time": "2022-04-28T05:47:10.987Z"
   },
   {
    "duration": 0,
    "start_time": "2022-04-28T05:47:10.988Z"
   },
   {
    "duration": 0,
    "start_time": "2022-04-28T05:47:10.990Z"
   },
   {
    "duration": 0,
    "start_time": "2022-04-28T05:47:10.991Z"
   },
   {
    "duration": 0,
    "start_time": "2022-04-28T05:47:10.993Z"
   },
   {
    "duration": 1962,
    "start_time": "2022-04-28T05:48:06.101Z"
   },
   {
    "duration": 122,
    "start_time": "2022-04-28T05:52:27.880Z"
   },
   {
    "duration": 3,
    "start_time": "2022-04-28T05:54:55.946Z"
   },
   {
    "duration": 30,
    "start_time": "2022-04-28T05:55:41.603Z"
   },
   {
    "duration": 34,
    "start_time": "2022-04-28T05:57:34.570Z"
   },
   {
    "duration": 108,
    "start_time": "2022-04-28T05:58:09.018Z"
   },
   {
    "duration": 10,
    "start_time": "2022-04-28T05:58:09.129Z"
   },
   {
    "duration": 0,
    "start_time": "2022-04-28T05:58:09.142Z"
   },
   {
    "duration": 1,
    "start_time": "2022-04-28T05:58:09.144Z"
   },
   {
    "duration": 0,
    "start_time": "2022-04-28T05:58:09.146Z"
   },
   {
    "duration": 0,
    "start_time": "2022-04-28T05:58:09.147Z"
   },
   {
    "duration": 0,
    "start_time": "2022-04-28T05:58:09.149Z"
   },
   {
    "duration": 0,
    "start_time": "2022-04-28T05:58:09.151Z"
   },
   {
    "duration": 0,
    "start_time": "2022-04-28T05:58:09.153Z"
   },
   {
    "duration": 0,
    "start_time": "2022-04-28T05:58:09.182Z"
   },
   {
    "duration": 1,
    "start_time": "2022-04-28T05:58:09.183Z"
   },
   {
    "duration": 0,
    "start_time": "2022-04-28T05:58:09.185Z"
   },
   {
    "duration": 0,
    "start_time": "2022-04-28T05:58:09.187Z"
   },
   {
    "duration": 0,
    "start_time": "2022-04-28T05:58:09.188Z"
   },
   {
    "duration": 0,
    "start_time": "2022-04-28T05:58:09.189Z"
   },
   {
    "duration": 0,
    "start_time": "2022-04-28T05:58:09.190Z"
   },
   {
    "duration": 0,
    "start_time": "2022-04-28T05:58:09.192Z"
   },
   {
    "duration": 0,
    "start_time": "2022-04-28T05:58:09.194Z"
   },
   {
    "duration": 0,
    "start_time": "2022-04-28T05:58:09.195Z"
   },
   {
    "duration": 0,
    "start_time": "2022-04-28T05:58:09.196Z"
   },
   {
    "duration": 0,
    "start_time": "2022-04-28T05:58:09.198Z"
   },
   {
    "duration": 0,
    "start_time": "2022-04-28T05:58:09.199Z"
   },
   {
    "duration": 22,
    "start_time": "2022-04-28T05:58:21.642Z"
   },
   {
    "duration": 17,
    "start_time": "2022-04-28T05:58:28.719Z"
   },
   {
    "duration": 102,
    "start_time": "2022-04-28T05:58:38.864Z"
   },
   {
    "duration": 10,
    "start_time": "2022-04-28T05:58:40.968Z"
   },
   {
    "duration": 8,
    "start_time": "2022-04-28T05:58:49.691Z"
   },
   {
    "duration": 11,
    "start_time": "2022-04-28T05:58:51.473Z"
   },
   {
    "duration": 12,
    "start_time": "2022-04-28T05:58:52.335Z"
   },
   {
    "duration": 1730,
    "start_time": "2022-04-28T05:58:53.062Z"
   },
   {
    "duration": 37,
    "start_time": "2022-04-28T05:58:54.795Z"
   },
   {
    "duration": 94,
    "start_time": "2022-04-28T05:58:54.834Z"
   },
   {
    "duration": 13,
    "start_time": "2022-04-28T05:58:55.566Z"
   },
   {
    "duration": 101,
    "start_time": "2022-04-28T05:58:58.732Z"
   },
   {
    "duration": 7,
    "start_time": "2022-04-28T05:58:58.835Z"
   },
   {
    "duration": 11,
    "start_time": "2022-04-28T05:58:58.845Z"
   },
   {
    "duration": 81,
    "start_time": "2022-04-28T05:58:58.858Z"
   },
   {
    "duration": 0,
    "start_time": "2022-04-28T05:58:58.942Z"
   },
   {
    "duration": 0,
    "start_time": "2022-04-28T05:58:58.943Z"
   },
   {
    "duration": 0,
    "start_time": "2022-04-28T05:58:58.945Z"
   },
   {
    "duration": 0,
    "start_time": "2022-04-28T05:58:58.946Z"
   },
   {
    "duration": 0,
    "start_time": "2022-04-28T05:58:58.947Z"
   },
   {
    "duration": 0,
    "start_time": "2022-04-28T05:58:58.948Z"
   },
   {
    "duration": 0,
    "start_time": "2022-04-28T05:58:58.950Z"
   },
   {
    "duration": 0,
    "start_time": "2022-04-28T05:58:58.952Z"
   },
   {
    "duration": 0,
    "start_time": "2022-04-28T05:58:58.982Z"
   },
   {
    "duration": 0,
    "start_time": "2022-04-28T05:58:58.983Z"
   },
   {
    "duration": 0,
    "start_time": "2022-04-28T05:58:58.984Z"
   },
   {
    "duration": 0,
    "start_time": "2022-04-28T05:58:58.986Z"
   },
   {
    "duration": 0,
    "start_time": "2022-04-28T05:58:58.987Z"
   },
   {
    "duration": 0,
    "start_time": "2022-04-28T05:58:58.988Z"
   },
   {
    "duration": 0,
    "start_time": "2022-04-28T05:58:58.990Z"
   },
   {
    "duration": 0,
    "start_time": "2022-04-28T05:58:58.991Z"
   },
   {
    "duration": 0,
    "start_time": "2022-04-28T05:58:58.993Z"
   },
   {
    "duration": 0,
    "start_time": "2022-04-28T05:58:58.994Z"
   },
   {
    "duration": 101,
    "start_time": "2022-04-28T05:59:17.602Z"
   },
   {
    "duration": 7,
    "start_time": "2022-04-28T05:59:17.706Z"
   },
   {
    "duration": 17,
    "start_time": "2022-04-28T05:59:17.715Z"
   },
   {
    "duration": 11,
    "start_time": "2022-04-28T05:59:17.735Z"
   },
   {
    "duration": 36,
    "start_time": "2022-04-28T05:59:17.749Z"
   },
   {
    "duration": 27,
    "start_time": "2022-04-28T05:59:17.787Z"
   },
   {
    "duration": 71,
    "start_time": "2022-04-28T05:59:17.816Z"
   },
   {
    "duration": 10,
    "start_time": "2022-04-28T05:59:17.889Z"
   },
   {
    "duration": 26,
    "start_time": "2022-04-28T05:59:17.901Z"
   },
   {
    "duration": 10,
    "start_time": "2022-04-28T05:59:17.929Z"
   },
   {
    "duration": 42,
    "start_time": "2022-04-28T05:59:17.941Z"
   },
   {
    "duration": 8,
    "start_time": "2022-04-28T05:59:17.986Z"
   },
   {
    "duration": 12,
    "start_time": "2022-04-28T05:59:17.997Z"
   },
   {
    "duration": 71,
    "start_time": "2022-04-28T05:59:18.012Z"
   },
   {
    "duration": 9,
    "start_time": "2022-04-28T05:59:18.085Z"
   },
   {
    "duration": 12,
    "start_time": "2022-04-28T05:59:18.097Z"
   },
   {
    "duration": 24,
    "start_time": "2022-04-28T05:59:18.111Z"
   },
   {
    "duration": 14,
    "start_time": "2022-04-28T05:59:18.137Z"
   },
   {
    "duration": 51,
    "start_time": "2022-04-28T05:59:18.153Z"
   },
   {
    "duration": 22,
    "start_time": "2022-04-28T05:59:18.206Z"
   },
   {
    "duration": 19,
    "start_time": "2022-04-28T05:59:18.230Z"
   },
   {
    "duration": 58,
    "start_time": "2022-04-28T05:59:18.251Z"
   },
   {
    "duration": 28,
    "start_time": "2022-04-28T06:00:45.813Z"
   },
   {
    "duration": 30,
    "start_time": "2022-04-28T06:01:21.266Z"
   },
   {
    "duration": 12,
    "start_time": "2022-04-28T06:11:01.902Z"
   },
   {
    "duration": 26,
    "start_time": "2022-04-28T06:11:10.841Z"
   },
   {
    "duration": 10,
    "start_time": "2022-04-28T06:11:42.445Z"
   },
   {
    "duration": 30,
    "start_time": "2022-04-28T06:14:48.837Z"
   },
   {
    "duration": 1942,
    "start_time": "2022-04-28T06:16:06.119Z"
   },
   {
    "duration": 2111,
    "start_time": "2022-04-28T06:16:08.790Z"
   },
   {
    "duration": 20,
    "start_time": "2022-04-28T06:16:32.570Z"
   },
   {
    "duration": 21,
    "start_time": "2022-04-28T06:16:47.223Z"
   },
   {
    "duration": 19,
    "start_time": "2022-04-28T06:17:17.935Z"
   },
   {
    "duration": 18,
    "start_time": "2022-04-28T06:17:24.079Z"
   },
   {
    "duration": 18,
    "start_time": "2022-04-28T06:17:37.172Z"
   },
   {
    "duration": 115,
    "start_time": "2022-04-28T06:17:44.083Z"
   },
   {
    "duration": 8,
    "start_time": "2022-04-28T06:17:44.200Z"
   },
   {
    "duration": 14,
    "start_time": "2022-04-28T06:17:44.210Z"
   },
   {
    "duration": 7,
    "start_time": "2022-04-28T06:17:44.226Z"
   },
   {
    "duration": 46,
    "start_time": "2022-04-28T06:17:44.236Z"
   },
   {
    "duration": 27,
    "start_time": "2022-04-28T06:17:44.284Z"
   },
   {
    "duration": 70,
    "start_time": "2022-04-28T06:17:44.313Z"
   },
   {
    "duration": 10,
    "start_time": "2022-04-28T06:17:44.385Z"
   },
   {
    "duration": 23,
    "start_time": "2022-04-28T06:17:44.397Z"
   },
   {
    "duration": 7,
    "start_time": "2022-04-28T06:17:44.422Z"
   },
   {
    "duration": 13,
    "start_time": "2022-04-28T06:17:44.432Z"
   },
   {
    "duration": 37,
    "start_time": "2022-04-28T06:17:44.447Z"
   },
   {
    "duration": 16,
    "start_time": "2022-04-28T06:17:44.487Z"
   },
   {
    "duration": 28,
    "start_time": "2022-04-28T06:17:44.507Z"
   },
   {
    "duration": 8,
    "start_time": "2022-04-28T06:17:44.536Z"
   },
   {
    "duration": 38,
    "start_time": "2022-04-28T06:17:44.546Z"
   },
   {
    "duration": 22,
    "start_time": "2022-04-28T06:17:44.586Z"
   },
   {
    "duration": 8,
    "start_time": "2022-04-28T06:17:44.610Z"
   },
   {
    "duration": 23,
    "start_time": "2022-04-28T06:17:44.620Z"
   },
   {
    "duration": 50,
    "start_time": "2022-04-28T06:17:44.645Z"
   },
   {
    "duration": 35,
    "start_time": "2022-04-28T06:17:44.697Z"
   },
   {
    "duration": 46,
    "start_time": "2022-04-28T06:17:44.734Z"
   },
   {
    "duration": 8,
    "start_time": "2022-04-28T06:17:44.783Z"
   },
   {
    "duration": 22,
    "start_time": "2022-04-28T06:17:44.793Z"
   },
   {
    "duration": 159,
    "start_time": "2022-04-28T06:18:03.601Z"
   },
   {
    "duration": 22,
    "start_time": "2022-04-28T06:18:06.780Z"
   },
   {
    "duration": 238,
    "start_time": "2022-04-28T06:19:33.598Z"
   },
   {
    "duration": 12,
    "start_time": "2022-04-28T06:19:41.894Z"
   },
   {
    "duration": 21,
    "start_time": "2022-04-28T06:19:50.802Z"
   },
   {
    "duration": 3,
    "start_time": "2022-04-28T06:31:05.952Z"
   },
   {
    "duration": 24,
    "start_time": "2022-04-28T06:40:02.729Z"
   },
   {
    "duration": 16,
    "start_time": "2022-04-28T06:40:19.723Z"
   },
   {
    "duration": 14,
    "start_time": "2022-04-28T06:40:27.299Z"
   },
   {
    "duration": 2018,
    "start_time": "2022-04-28T06:41:52.927Z"
   },
   {
    "duration": 21,
    "start_time": "2022-04-28T06:42:01.677Z"
   },
   {
    "duration": 31,
    "start_time": "2022-04-28T06:42:19.742Z"
   },
   {
    "duration": 15,
    "start_time": "2022-04-28T06:42:56.457Z"
   },
   {
    "duration": 15,
    "start_time": "2022-04-28T06:43:07.715Z"
   },
   {
    "duration": 13,
    "start_time": "2022-04-28T06:43:10.964Z"
   },
   {
    "duration": 16,
    "start_time": "2022-04-28T06:43:32.199Z"
   },
   {
    "duration": 13,
    "start_time": "2022-04-28T06:43:46.788Z"
   },
   {
    "duration": 9,
    "start_time": "2022-04-28T06:44:35.746Z"
   },
   {
    "duration": 8,
    "start_time": "2022-04-28T06:44:39.871Z"
   },
   {
    "duration": 121,
    "start_time": "2022-04-28T06:44:51.877Z"
   },
   {
    "duration": 8,
    "start_time": "2022-04-28T06:44:55.950Z"
   },
   {
    "duration": 8,
    "start_time": "2022-04-28T06:45:04.995Z"
   },
   {
    "duration": 11,
    "start_time": "2022-04-28T06:48:53.049Z"
   },
   {
    "duration": 13,
    "start_time": "2022-04-28T06:49:28.881Z"
   },
   {
    "duration": 17,
    "start_time": "2022-04-28T06:59:05.099Z"
   },
   {
    "duration": 19,
    "start_time": "2022-04-28T06:59:13.397Z"
   },
   {
    "duration": 16,
    "start_time": "2022-04-28T06:59:25.864Z"
   },
   {
    "duration": 0,
    "start_time": "2022-04-28T07:30:35.274Z"
   },
   {
    "duration": 2073,
    "start_time": "2022-04-28T07:34:14.882Z"
   },
   {
    "duration": 2660,
    "start_time": "2022-04-28T07:34:17.976Z"
   },
   {
    "duration": 2410,
    "start_time": "2022-04-28T07:35:03.732Z"
   },
   {
    "duration": 2299,
    "start_time": "2022-04-28T07:35:54.957Z"
   },
   {
    "duration": 2215,
    "start_time": "2022-04-28T07:38:02.401Z"
   },
   {
    "duration": 2045,
    "start_time": "2022-04-28T07:38:21.160Z"
   },
   {
    "duration": 11,
    "start_time": "2022-04-28T07:38:33.526Z"
   },
   {
    "duration": 844,
    "start_time": "2022-04-28T16:49:41.191Z"
   },
   {
    "duration": 15,
    "start_time": "2022-04-28T16:49:42.038Z"
   },
   {
    "duration": 16,
    "start_time": "2022-04-28T16:49:42.055Z"
   },
   {
    "duration": 30,
    "start_time": "2022-04-28T16:49:42.075Z"
   },
   {
    "duration": 1871,
    "start_time": "2022-04-28T16:49:42.108Z"
   },
   {
    "duration": 49,
    "start_time": "2022-04-28T16:49:43.982Z"
   },
   {
    "duration": 74,
    "start_time": "2022-04-28T16:49:44.034Z"
   },
   {
    "duration": 24,
    "start_time": "2022-04-28T16:49:44.118Z"
   },
   {
    "duration": 32,
    "start_time": "2022-04-28T16:49:44.145Z"
   },
   {
    "duration": 17,
    "start_time": "2022-04-28T16:49:44.180Z"
   },
   {
    "duration": 50,
    "start_time": "2022-04-28T16:49:44.199Z"
   },
   {
    "duration": 8,
    "start_time": "2022-04-28T16:49:44.252Z"
   },
   {
    "duration": 14,
    "start_time": "2022-04-28T16:49:44.262Z"
   },
   {
    "duration": 42,
    "start_time": "2022-04-28T16:49:44.278Z"
   },
   {
    "duration": 8,
    "start_time": "2022-04-28T16:49:44.322Z"
   },
   {
    "duration": 27,
    "start_time": "2022-04-28T16:49:44.332Z"
   },
   {
    "duration": 15,
    "start_time": "2022-04-28T16:49:44.361Z"
   },
   {
    "duration": 33,
    "start_time": "2022-04-28T16:49:44.378Z"
   },
   {
    "duration": 31,
    "start_time": "2022-04-28T16:49:44.414Z"
   },
   {
    "duration": 22,
    "start_time": "2022-04-28T16:49:44.448Z"
   },
   {
    "duration": 46,
    "start_time": "2022-04-28T16:49:44.472Z"
   },
   {
    "duration": 57,
    "start_time": "2022-04-28T16:49:44.521Z"
   },
   {
    "duration": 9,
    "start_time": "2022-04-28T16:49:44.581Z"
   },
   {
    "duration": 39,
    "start_time": "2022-04-28T16:49:44.592Z"
   },
   {
    "duration": 27,
    "start_time": "2022-04-28T16:49:44.633Z"
   },
   {
    "duration": 9,
    "start_time": "2022-04-28T16:49:44.662Z"
   },
   {
    "duration": 35,
    "start_time": "2022-04-28T16:49:44.674Z"
   },
   {
    "duration": 46,
    "start_time": "2022-04-28T16:49:44.715Z"
   },
   {
    "duration": 16,
    "start_time": "2022-04-28T16:49:50.385Z"
   },
   {
    "duration": 0,
    "start_time": "2022-04-28T16:51:30.441Z"
   },
   {
    "duration": 0,
    "start_time": "2022-04-28T16:51:42.376Z"
   },
   {
    "duration": 32,
    "start_time": "2022-04-28T16:51:57.718Z"
   },
   {
    "duration": 29,
    "start_time": "2022-04-28T16:52:30.131Z"
   },
   {
    "duration": 207,
    "start_time": "2022-04-28T16:52:41.441Z"
   },
   {
    "duration": 21,
    "start_time": "2022-04-28T16:52:43.951Z"
   },
   {
    "duration": 22,
    "start_time": "2022-04-28T16:52:48.198Z"
   },
   {
    "duration": 21,
    "start_time": "2022-04-28T16:52:53.230Z"
   },
   {
    "duration": 24,
    "start_time": "2022-04-28T16:53:13.515Z"
   },
   {
    "duration": 28,
    "start_time": "2022-04-28T16:53:36.293Z"
   },
   {
    "duration": 20,
    "start_time": "2022-04-28T16:53:42.324Z"
   },
   {
    "duration": 27,
    "start_time": "2022-04-28T16:54:23.750Z"
   },
   {
    "duration": 20,
    "start_time": "2022-04-28T16:54:30.166Z"
   },
   {
    "duration": 12,
    "start_time": "2022-04-28T16:54:40.269Z"
   },
   {
    "duration": 11,
    "start_time": "2022-04-28T16:54:42.277Z"
   },
   {
    "duration": 20,
    "start_time": "2022-04-28T16:54:44.722Z"
   },
   {
    "duration": 12,
    "start_time": "2022-04-28T16:55:11.001Z"
   },
   {
    "duration": 14,
    "start_time": "2022-04-28T16:55:13.609Z"
   },
   {
    "duration": 24,
    "start_time": "2022-04-28T16:55:52.725Z"
   },
   {
    "duration": 32,
    "start_time": "2022-04-28T16:57:01.304Z"
   },
   {
    "duration": 27,
    "start_time": "2022-04-28T16:57:53.926Z"
   },
   {
    "duration": 22,
    "start_time": "2022-04-28T16:58:13.248Z"
   },
   {
    "duration": 163,
    "start_time": "2022-04-28T17:09:25.737Z"
   },
   {
    "duration": 112,
    "start_time": "2022-04-28T17:09:29.323Z"
   },
   {
    "duration": 7,
    "start_time": "2022-04-28T17:09:29.438Z"
   },
   {
    "duration": 12,
    "start_time": "2022-04-28T17:09:29.447Z"
   },
   {
    "duration": 36,
    "start_time": "2022-04-28T17:09:29.462Z"
   },
   {
    "duration": 15,
    "start_time": "2022-04-28T17:09:29.506Z"
   },
   {
    "duration": 45,
    "start_time": "2022-04-28T17:09:29.525Z"
   },
   {
    "duration": 61,
    "start_time": "2022-04-28T17:09:29.573Z"
   },
   {
    "duration": 9,
    "start_time": "2022-04-28T17:09:29.636Z"
   },
   {
    "duration": 54,
    "start_time": "2022-04-28T17:09:29.647Z"
   },
   {
    "duration": 18,
    "start_time": "2022-04-28T17:09:29.704Z"
   },
   {
    "duration": 31,
    "start_time": "2022-04-28T17:09:29.724Z"
   },
   {
    "duration": 8,
    "start_time": "2022-04-28T17:09:29.757Z"
   },
   {
    "duration": 9,
    "start_time": "2022-04-28T17:09:29.767Z"
   },
   {
    "duration": 50,
    "start_time": "2022-04-28T17:09:29.780Z"
   },
   {
    "duration": 11,
    "start_time": "2022-04-28T17:09:29.832Z"
   },
   {
    "duration": 11,
    "start_time": "2022-04-28T17:09:29.846Z"
   },
   {
    "duration": 45,
    "start_time": "2022-04-28T17:09:29.859Z"
   },
   {
    "duration": 32,
    "start_time": "2022-04-28T17:09:29.906Z"
   },
   {
    "duration": 22,
    "start_time": "2022-04-28T17:09:29.941Z"
   },
   {
    "duration": 22,
    "start_time": "2022-04-28T17:09:29.965Z"
   },
   {
    "duration": 38,
    "start_time": "2022-04-28T17:09:29.989Z"
   },
   {
    "duration": 38,
    "start_time": "2022-04-28T17:09:30.029Z"
   },
   {
    "duration": 12,
    "start_time": "2022-04-28T17:09:30.069Z"
   },
   {
    "duration": 48,
    "start_time": "2022-04-28T17:09:30.083Z"
   },
   {
    "duration": 28,
    "start_time": "2022-04-28T17:09:30.134Z"
   },
   {
    "duration": 47,
    "start_time": "2022-04-28T17:09:30.165Z"
   },
   {
    "duration": 26,
    "start_time": "2022-04-28T17:09:30.215Z"
   },
   {
    "duration": 24,
    "start_time": "2022-04-28T17:09:30.243Z"
   },
   {
    "duration": 7,
    "start_time": "2022-04-28T17:16:56.290Z"
   },
   {
    "duration": 7,
    "start_time": "2022-04-28T17:16:58.320Z"
   },
   {
    "duration": 124,
    "start_time": "2022-04-28T17:17:04.534Z"
   },
   {
    "duration": 10,
    "start_time": "2022-04-28T17:17:04.662Z"
   },
   {
    "duration": 30,
    "start_time": "2022-04-28T17:17:04.675Z"
   },
   {
    "duration": 28,
    "start_time": "2022-04-28T17:17:04.711Z"
   },
   {
    "duration": 13,
    "start_time": "2022-04-28T17:17:04.742Z"
   },
   {
    "duration": 47,
    "start_time": "2022-04-28T17:17:04.757Z"
   },
   {
    "duration": 80,
    "start_time": "2022-04-28T17:17:04.807Z"
   },
   {
    "duration": 19,
    "start_time": "2022-04-28T17:17:04.893Z"
   },
   {
    "duration": 58,
    "start_time": "2022-04-28T17:17:04.915Z"
   },
   {
    "duration": 9,
    "start_time": "2022-04-28T17:17:04.975Z"
   },
   {
    "duration": 14,
    "start_time": "2022-04-28T17:17:04.992Z"
   },
   {
    "duration": 32,
    "start_time": "2022-04-28T17:17:05.011Z"
   },
   {
    "duration": 14,
    "start_time": "2022-04-28T17:17:05.047Z"
   },
   {
    "duration": 51,
    "start_time": "2022-04-28T17:17:05.066Z"
   },
   {
    "duration": 22,
    "start_time": "2022-04-28T17:17:05.121Z"
   },
   {
    "duration": 11,
    "start_time": "2022-04-28T17:17:05.145Z"
   },
   {
    "duration": 13,
    "start_time": "2022-04-28T17:17:05.158Z"
   },
   {
    "duration": 29,
    "start_time": "2022-04-28T17:17:05.173Z"
   },
   {
    "duration": 39,
    "start_time": "2022-04-28T17:17:05.206Z"
   },
   {
    "duration": 22,
    "start_time": "2022-04-28T17:17:05.247Z"
   },
   {
    "duration": 24,
    "start_time": "2022-04-28T17:17:05.298Z"
   },
   {
    "duration": 41,
    "start_time": "2022-04-28T17:17:05.324Z"
   },
   {
    "duration": 30,
    "start_time": "2022-04-28T17:17:05.368Z"
   },
   {
    "duration": 31,
    "start_time": "2022-04-28T17:17:05.403Z"
   },
   {
    "duration": 31,
    "start_time": "2022-04-28T17:17:05.437Z"
   },
   {
    "duration": 58,
    "start_time": "2022-04-28T17:17:05.470Z"
   },
   {
    "duration": 36,
    "start_time": "2022-04-28T17:17:05.533Z"
   },
   {
    "duration": 41,
    "start_time": "2022-04-28T17:17:05.571Z"
   },
   {
    "duration": 10,
    "start_time": "2022-04-28T17:19:25.328Z"
   },
   {
    "duration": 13,
    "start_time": "2022-04-28T18:02:56.951Z"
   },
   {
    "duration": 20,
    "start_time": "2022-04-28T18:03:46.993Z"
   },
   {
    "duration": 18,
    "start_time": "2022-04-28T18:04:02.027Z"
   },
   {
    "duration": 163,
    "start_time": "2022-04-28T18:04:17.624Z"
   },
   {
    "duration": 15,
    "start_time": "2022-04-28T18:04:17.792Z"
   },
   {
    "duration": 48,
    "start_time": "2022-04-28T18:04:17.816Z"
   },
   {
    "duration": 9,
    "start_time": "2022-04-28T18:04:17.866Z"
   },
   {
    "duration": 6,
    "start_time": "2022-04-28T18:04:17.879Z"
   },
   {
    "duration": 57,
    "start_time": "2022-04-28T18:04:17.888Z"
   },
   {
    "duration": 37,
    "start_time": "2022-04-28T18:04:17.950Z"
   },
   {
    "duration": 100,
    "start_time": "2022-04-28T18:04:17.990Z"
   },
   {
    "duration": 20,
    "start_time": "2022-04-28T18:04:18.093Z"
   },
   {
    "duration": 85,
    "start_time": "2022-04-28T18:04:18.116Z"
   },
   {
    "duration": 13,
    "start_time": "2022-04-28T18:04:18.207Z"
   },
   {
    "duration": 61,
    "start_time": "2022-04-28T18:04:18.223Z"
   },
   {
    "duration": 10,
    "start_time": "2022-04-28T18:04:18.288Z"
   },
   {
    "duration": 60,
    "start_time": "2022-04-28T18:04:18.309Z"
   },
   {
    "duration": 67,
    "start_time": "2022-04-28T18:04:18.373Z"
   },
   {
    "duration": 15,
    "start_time": "2022-04-28T18:04:18.442Z"
   },
   {
    "duration": 17,
    "start_time": "2022-04-28T18:04:18.460Z"
   },
   {
    "duration": 21,
    "start_time": "2022-04-28T18:04:18.480Z"
   },
   {
    "duration": 65,
    "start_time": "2022-04-28T18:04:18.504Z"
   },
   {
    "duration": 37,
    "start_time": "2022-04-28T18:04:18.571Z"
   },
   {
    "duration": 45,
    "start_time": "2022-04-28T18:04:18.613Z"
   },
   {
    "duration": 40,
    "start_time": "2022-04-28T18:04:18.662Z"
   },
   {
    "duration": 87,
    "start_time": "2022-04-28T18:04:18.707Z"
   },
   {
    "duration": 12,
    "start_time": "2022-04-28T18:04:18.796Z"
   },
   {
    "duration": 81,
    "start_time": "2022-04-28T18:04:18.810Z"
   },
   {
    "duration": 78,
    "start_time": "2022-04-28T18:04:18.906Z"
   },
   {
    "duration": 41,
    "start_time": "2022-04-28T18:04:18.987Z"
   },
   {
    "duration": 49,
    "start_time": "2022-04-28T18:04:19.040Z"
   },
   {
    "duration": 36,
    "start_time": "2022-04-28T18:04:19.091Z"
   },
   {
    "duration": 148,
    "start_time": "2022-04-28T18:04:46.809Z"
   },
   {
    "duration": 15,
    "start_time": "2022-04-28T18:04:46.968Z"
   },
   {
    "duration": 34,
    "start_time": "2022-04-28T18:04:46.987Z"
   },
   {
    "duration": 63,
    "start_time": "2022-04-28T18:04:47.026Z"
   },
   {
    "duration": 19,
    "start_time": "2022-04-28T18:04:49.644Z"
   },
   {
    "duration": 2608,
    "start_time": "2022-04-28T18:05:14.273Z"
   },
   {
    "duration": 3413,
    "start_time": "2022-04-28T18:05:38.105Z"
   },
   {
    "duration": 3168,
    "start_time": "2022-04-28T18:05:57.272Z"
   },
   {
    "duration": 1853,
    "start_time": "2022-04-28T18:06:37.354Z"
   },
   {
    "duration": 3100,
    "start_time": "2022-04-28T18:06:52.658Z"
   },
   {
    "duration": 205,
    "start_time": "2022-04-28T18:24:58.819Z"
   },
   {
    "duration": 193,
    "start_time": "2022-04-28T18:26:32.782Z"
   },
   {
    "duration": 12,
    "start_time": "2022-04-28T18:27:04.016Z"
   },
   {
    "duration": 10,
    "start_time": "2022-04-28T18:27:24.166Z"
   },
   {
    "duration": 40,
    "start_time": "2022-04-28T18:27:55.795Z"
   },
   {
    "duration": 13,
    "start_time": "2022-04-28T18:28:22.207Z"
   },
   {
    "duration": 15,
    "start_time": "2022-04-28T18:28:26.102Z"
   },
   {
    "duration": 7,
    "start_time": "2022-04-28T18:28:40.853Z"
   },
   {
    "duration": 8,
    "start_time": "2022-04-28T18:28:59.617Z"
   },
   {
    "duration": 12,
    "start_time": "2022-04-28T18:29:14.721Z"
   },
   {
    "duration": 17,
    "start_time": "2022-04-28T18:29:22.424Z"
   },
   {
    "duration": 14,
    "start_time": "2022-04-28T18:29:31.642Z"
   },
   {
    "duration": 20,
    "start_time": "2022-04-28T18:31:12.527Z"
   },
   {
    "duration": 9,
    "start_time": "2022-04-28T18:31:55.550Z"
   },
   {
    "duration": 8,
    "start_time": "2022-04-28T18:32:00.837Z"
   },
   {
    "duration": 12,
    "start_time": "2022-04-28T18:32:18.636Z"
   },
   {
    "duration": 11,
    "start_time": "2022-04-28T18:32:37.553Z"
   },
   {
    "duration": 36,
    "start_time": "2022-04-28T18:33:10.110Z"
   },
   {
    "duration": 19,
    "start_time": "2022-04-28T18:33:17.207Z"
   },
   {
    "duration": 21,
    "start_time": "2022-04-28T18:33:26.425Z"
   },
   {
    "duration": 14,
    "start_time": "2022-04-28T18:33:30.375Z"
   },
   {
    "duration": 17,
    "start_time": "2022-04-28T18:33:38.833Z"
   },
   {
    "duration": 19,
    "start_time": "2022-04-28T18:33:42.531Z"
   },
   {
    "duration": 16,
    "start_time": "2022-04-28T18:37:00.788Z"
   },
   {
    "duration": 14,
    "start_time": "2022-04-28T18:37:48.093Z"
   },
   {
    "duration": 9,
    "start_time": "2022-04-28T18:37:52.821Z"
   },
   {
    "duration": 3103,
    "start_time": "2022-04-28T18:46:29.362Z"
   },
   {
    "duration": 3198,
    "start_time": "2022-04-28T18:46:40.551Z"
   },
   {
    "duration": 3289,
    "start_time": "2022-04-28T18:46:51.530Z"
   },
   {
    "duration": 31,
    "start_time": "2022-04-28T18:47:10.838Z"
   },
   {
    "duration": 10,
    "start_time": "2022-04-28T18:52:19.445Z"
   },
   {
    "duration": 9,
    "start_time": "2022-04-28T18:52:21.937Z"
   },
   {
    "duration": 33,
    "start_time": "2022-04-28T18:52:27.407Z"
   },
   {
    "duration": 281,
    "start_time": "2022-04-28T18:53:46.316Z"
   },
   {
    "duration": 157,
    "start_time": "2022-04-28T19:01:26.413Z"
   },
   {
    "duration": 20,
    "start_time": "2022-04-28T19:01:26.573Z"
   },
   {
    "duration": 13,
    "start_time": "2022-04-28T19:01:26.596Z"
   },
   {
    "duration": 10,
    "start_time": "2022-04-28T19:01:26.612Z"
   },
   {
    "duration": 9,
    "start_time": "2022-04-28T19:01:26.625Z"
   },
   {
    "duration": 281,
    "start_time": "2022-04-28T19:01:30.524Z"
   },
   {
    "duration": 7,
    "start_time": "2022-04-28T19:03:28.813Z"
   },
   {
    "duration": 412,
    "start_time": "2022-04-28T19:03:34.802Z"
   },
   {
    "duration": 294,
    "start_time": "2022-04-28T19:04:09.822Z"
   },
   {
    "duration": 282,
    "start_time": "2022-04-28T19:04:13.656Z"
   },
   {
    "duration": 120,
    "start_time": "2022-04-28T19:04:19.396Z"
   },
   {
    "duration": 9,
    "start_time": "2022-04-28T19:04:19.520Z"
   },
   {
    "duration": 12,
    "start_time": "2022-04-28T19:04:19.531Z"
   },
   {
    "duration": 10,
    "start_time": "2022-04-28T19:04:19.546Z"
   },
   {
    "duration": 8,
    "start_time": "2022-04-28T19:04:19.594Z"
   },
   {
    "duration": 360,
    "start_time": "2022-04-28T19:04:19.604Z"
   },
   {
    "duration": 306,
    "start_time": "2022-04-28T19:04:19.967Z"
   },
   {
    "duration": 26,
    "start_time": "2022-04-28T19:04:20.275Z"
   },
   {
    "duration": 9,
    "start_time": "2022-04-28T19:04:20.304Z"
   },
   {
    "duration": 12,
    "start_time": "2022-04-28T19:04:20.319Z"
   },
   {
    "duration": 9,
    "start_time": "2022-04-28T19:04:20.333Z"
   },
   {
    "duration": 54,
    "start_time": "2022-04-28T19:04:20.344Z"
   },
   {
    "duration": 15,
    "start_time": "2022-04-28T19:04:20.402Z"
   },
   {
    "duration": 15,
    "start_time": "2022-04-28T19:04:20.419Z"
   },
   {
    "duration": 13,
    "start_time": "2022-04-28T19:04:20.436Z"
   },
   {
    "duration": 56,
    "start_time": "2022-04-28T19:04:20.452Z"
   },
   {
    "duration": 27,
    "start_time": "2022-04-28T19:04:20.510Z"
   },
   {
    "duration": 87,
    "start_time": "2022-04-28T19:04:20.539Z"
   },
   {
    "duration": 10,
    "start_time": "2022-04-28T19:04:20.629Z"
   },
   {
    "duration": 28,
    "start_time": "2022-04-28T19:04:20.641Z"
   },
   {
    "duration": 11,
    "start_time": "2022-04-28T19:04:20.694Z"
   },
   {
    "duration": 41,
    "start_time": "2022-04-28T19:04:20.708Z"
   },
   {
    "duration": 47,
    "start_time": "2022-04-28T19:04:20.752Z"
   },
   {
    "duration": 18,
    "start_time": "2022-04-28T19:04:20.801Z"
   },
   {
    "duration": 29,
    "start_time": "2022-04-28T19:04:20.822Z"
   },
   {
    "duration": 47,
    "start_time": "2022-04-28T19:04:20.853Z"
   },
   {
    "duration": 21,
    "start_time": "2022-04-28T19:04:20.903Z"
   },
   {
    "duration": 22,
    "start_time": "2022-04-28T19:04:20.929Z"
   },
   {
    "duration": 58,
    "start_time": "2022-04-28T19:04:20.954Z"
   },
   {
    "duration": 24,
    "start_time": "2022-04-28T19:04:21.014Z"
   },
   {
    "duration": 55,
    "start_time": "2022-04-28T19:04:21.040Z"
   },
   {
    "duration": 297,
    "start_time": "2022-04-28T19:09:11.732Z"
   },
   {
    "duration": 113,
    "start_time": "2022-04-28T19:09:18.405Z"
   },
   {
    "duration": 9,
    "start_time": "2022-04-28T19:09:18.522Z"
   },
   {
    "duration": 15,
    "start_time": "2022-04-28T19:09:18.534Z"
   },
   {
    "duration": 41,
    "start_time": "2022-04-28T19:09:18.552Z"
   },
   {
    "duration": 9,
    "start_time": "2022-04-28T19:09:18.598Z"
   },
   {
    "duration": 317,
    "start_time": "2022-04-28T19:09:18.609Z"
   },
   {
    "duration": 421,
    "start_time": "2022-04-28T19:09:18.928Z"
   },
   {
    "duration": 314,
    "start_time": "2022-04-28T19:09:19.351Z"
   },
   {
    "duration": 10,
    "start_time": "2022-04-28T19:09:19.668Z"
   },
   {
    "duration": 25,
    "start_time": "2022-04-28T19:09:19.679Z"
   },
   {
    "duration": 7,
    "start_time": "2022-04-28T19:09:19.706Z"
   },
   {
    "duration": 8,
    "start_time": "2022-04-28T19:09:19.715Z"
   },
   {
    "duration": 13,
    "start_time": "2022-04-28T19:09:19.725Z"
   },
   {
    "duration": 13,
    "start_time": "2022-04-28T19:09:19.792Z"
   },
   {
    "duration": 11,
    "start_time": "2022-04-28T19:09:19.808Z"
   },
   {
    "duration": 23,
    "start_time": "2022-04-28T19:09:19.822Z"
   },
   {
    "duration": 63,
    "start_time": "2022-04-28T19:09:19.848Z"
   },
   {
    "duration": 51,
    "start_time": "2022-04-28T19:09:19.914Z"
   },
   {
    "duration": 9,
    "start_time": "2022-04-28T19:09:19.992Z"
   },
   {
    "duration": 28,
    "start_time": "2022-04-28T19:09:20.003Z"
   },
   {
    "duration": 10,
    "start_time": "2022-04-28T19:09:20.033Z"
   },
   {
    "duration": 74,
    "start_time": "2022-04-28T19:09:20.046Z"
   },
   {
    "duration": 30,
    "start_time": "2022-04-28T19:09:20.123Z"
   },
   {
    "duration": 43,
    "start_time": "2022-04-28T19:09:20.156Z"
   },
   {
    "duration": 43,
    "start_time": "2022-04-28T19:09:20.202Z"
   },
   {
    "duration": 17,
    "start_time": "2022-04-28T19:09:20.248Z"
   },
   {
    "duration": 32,
    "start_time": "2022-04-28T19:09:20.294Z"
   },
   {
    "duration": 27,
    "start_time": "2022-04-28T19:09:20.329Z"
   },
   {
    "duration": 52,
    "start_time": "2022-04-28T19:09:20.359Z"
   },
   {
    "duration": 24,
    "start_time": "2022-04-28T19:09:20.414Z"
   },
   {
    "duration": 66,
    "start_time": "2022-04-28T19:09:20.441Z"
   },
   {
    "duration": 110,
    "start_time": "2022-04-28T19:09:36.521Z"
   },
   {
    "duration": 8,
    "start_time": "2022-04-28T19:09:36.634Z"
   },
   {
    "duration": 11,
    "start_time": "2022-04-28T19:09:36.645Z"
   },
   {
    "duration": 37,
    "start_time": "2022-04-28T19:09:36.658Z"
   },
   {
    "duration": 6,
    "start_time": "2022-04-28T19:09:36.699Z"
   },
   {
    "duration": 290,
    "start_time": "2022-04-28T19:09:36.707Z"
   },
   {
    "duration": 3,
    "start_time": "2022-04-28T19:09:36.999Z"
   },
   {
    "duration": 307,
    "start_time": "2022-04-28T19:09:37.006Z"
   },
   {
    "duration": 9,
    "start_time": "2022-04-28T19:09:37.316Z"
   },
   {
    "duration": 17,
    "start_time": "2022-04-28T19:09:37.327Z"
   },
   {
    "duration": 45,
    "start_time": "2022-04-28T19:09:37.347Z"
   },
   {
    "duration": 8,
    "start_time": "2022-04-28T19:09:37.395Z"
   },
   {
    "duration": 18,
    "start_time": "2022-04-28T19:09:37.405Z"
   },
   {
    "duration": 11,
    "start_time": "2022-04-28T19:09:37.427Z"
   },
   {
    "duration": 9,
    "start_time": "2022-04-28T19:09:37.441Z"
   },
   {
    "duration": 21,
    "start_time": "2022-04-28T19:09:37.452Z"
   },
   {
    "duration": 34,
    "start_time": "2022-04-28T19:09:37.476Z"
   },
   {
    "duration": 67,
    "start_time": "2022-04-28T19:09:37.512Z"
   },
   {
    "duration": 17,
    "start_time": "2022-04-28T19:09:37.582Z"
   },
   {
    "duration": 38,
    "start_time": "2022-04-28T19:09:37.602Z"
   },
   {
    "duration": 12,
    "start_time": "2022-04-28T19:09:37.643Z"
   },
   {
    "duration": 46,
    "start_time": "2022-04-28T19:09:37.658Z"
   },
   {
    "duration": 28,
    "start_time": "2022-04-28T19:09:37.707Z"
   },
   {
    "duration": 25,
    "start_time": "2022-04-28T19:09:37.738Z"
   },
   {
    "duration": 37,
    "start_time": "2022-04-28T19:09:37.765Z"
   },
   {
    "duration": 8,
    "start_time": "2022-04-28T19:09:37.805Z"
   },
   {
    "duration": 31,
    "start_time": "2022-04-28T19:09:37.815Z"
   },
   {
    "duration": 27,
    "start_time": "2022-04-28T19:09:37.848Z"
   },
   {
    "duration": 39,
    "start_time": "2022-04-28T19:09:37.877Z"
   },
   {
    "duration": 28,
    "start_time": "2022-04-28T19:09:37.918Z"
   },
   {
    "duration": 29,
    "start_time": "2022-04-28T19:09:37.949Z"
   },
   {
    "duration": 411,
    "start_time": "2022-04-28T19:10:08.110Z"
   },
   {
    "duration": 292,
    "start_time": "2022-04-28T19:10:28.271Z"
   },
   {
    "duration": 108,
    "start_time": "2022-04-28T19:10:31.734Z"
   },
   {
    "duration": 8,
    "start_time": "2022-04-28T19:10:31.846Z"
   },
   {
    "duration": 9,
    "start_time": "2022-04-28T19:10:31.857Z"
   },
   {
    "duration": 31,
    "start_time": "2022-04-28T19:10:31.869Z"
   },
   {
    "duration": 8,
    "start_time": "2022-04-28T19:10:31.904Z"
   },
   {
    "duration": 518,
    "start_time": "2022-04-28T19:10:31.915Z"
   },
   {
    "duration": 294,
    "start_time": "2022-04-28T19:10:32.436Z"
   },
   {
    "duration": 14,
    "start_time": "2022-04-28T19:10:32.732Z"
   },
   {
    "duration": 45,
    "start_time": "2022-04-28T19:10:32.748Z"
   },
   {
    "duration": 11,
    "start_time": "2022-04-28T19:10:32.796Z"
   },
   {
    "duration": 7,
    "start_time": "2022-04-28T19:10:32.809Z"
   },
   {
    "duration": 8,
    "start_time": "2022-04-28T19:10:32.818Z"
   },
   {
    "duration": 13,
    "start_time": "2022-04-28T19:10:32.829Z"
   },
   {
    "duration": 10,
    "start_time": "2022-04-28T19:10:32.893Z"
   },
   {
    "duration": 9,
    "start_time": "2022-04-28T19:10:32.906Z"
   },
   {
    "duration": 22,
    "start_time": "2022-04-28T19:10:32.918Z"
   },
   {
    "duration": 67,
    "start_time": "2022-04-28T19:10:32.942Z"
   },
   {
    "duration": 51,
    "start_time": "2022-04-28T19:10:33.012Z"
   },
   {
    "duration": 30,
    "start_time": "2022-04-28T19:10:33.065Z"
   },
   {
    "duration": 37,
    "start_time": "2022-04-28T19:10:33.099Z"
   },
   {
    "duration": 13,
    "start_time": "2022-04-28T19:10:33.139Z"
   },
   {
    "duration": 71,
    "start_time": "2022-04-28T19:10:33.155Z"
   },
   {
    "duration": 30,
    "start_time": "2022-04-28T19:10:33.229Z"
   },
   {
    "duration": 48,
    "start_time": "2022-04-28T19:10:33.262Z"
   },
   {
    "duration": 43,
    "start_time": "2022-04-28T19:10:33.313Z"
   },
   {
    "duration": 38,
    "start_time": "2022-04-28T19:10:33.359Z"
   },
   {
    "duration": 39,
    "start_time": "2022-04-28T19:10:33.400Z"
   },
   {
    "duration": 20,
    "start_time": "2022-04-28T19:10:33.441Z"
   },
   {
    "duration": 47,
    "start_time": "2022-04-28T19:10:33.463Z"
   },
   {
    "duration": 22,
    "start_time": "2022-04-28T19:10:33.512Z"
   },
   {
    "duration": 67,
    "start_time": "2022-04-28T19:10:33.537Z"
   },
   {
    "duration": 383,
    "start_time": "2022-04-28T19:11:30.510Z"
   },
   {
    "duration": 306,
    "start_time": "2022-04-28T19:12:30.681Z"
   },
   {
    "duration": 453,
    "start_time": "2022-04-28T19:12:41.549Z"
   },
   {
    "duration": 309,
    "start_time": "2022-04-28T19:12:50.378Z"
   },
   {
    "duration": 288,
    "start_time": "2022-04-28T19:13:28.469Z"
   },
   {
    "duration": 294,
    "start_time": "2022-04-28T19:13:34.414Z"
   },
   {
    "duration": 118,
    "start_time": "2022-04-28T19:13:51.198Z"
   },
   {
    "duration": 7,
    "start_time": "2022-04-28T19:13:51.319Z"
   },
   {
    "duration": 13,
    "start_time": "2022-04-28T19:13:51.328Z"
   },
   {
    "duration": 13,
    "start_time": "2022-04-28T19:13:51.343Z"
   },
   {
    "duration": 9,
    "start_time": "2022-04-28T19:13:51.392Z"
   },
   {
    "duration": 275,
    "start_time": "2022-04-28T19:13:51.404Z"
   },
   {
    "duration": 303,
    "start_time": "2022-04-28T19:13:51.681Z"
   },
   {
    "duration": 17,
    "start_time": "2022-04-28T19:13:51.986Z"
   },
   {
    "duration": 8,
    "start_time": "2022-04-28T19:13:52.005Z"
   },
   {
    "duration": 11,
    "start_time": "2022-04-28T19:13:52.015Z"
   },
   {
    "duration": 6,
    "start_time": "2022-04-28T19:13:52.028Z"
   },
   {
    "duration": 58,
    "start_time": "2022-04-28T19:13:52.036Z"
   },
   {
    "duration": 13,
    "start_time": "2022-04-28T19:13:52.097Z"
   },
   {
    "duration": 13,
    "start_time": "2022-04-28T19:13:52.116Z"
   },
   {
    "duration": 9,
    "start_time": "2022-04-28T19:13:52.132Z"
   },
   {
    "duration": 74,
    "start_time": "2022-04-28T19:13:52.144Z"
   },
   {
    "duration": 35,
    "start_time": "2022-04-28T19:13:52.221Z"
   },
   {
    "duration": 94,
    "start_time": "2022-04-28T19:13:52.258Z"
   },
   {
    "duration": 13,
    "start_time": "2022-04-28T19:13:52.355Z"
   },
   {
    "duration": 39,
    "start_time": "2022-04-28T19:13:52.370Z"
   },
   {
    "duration": 9,
    "start_time": "2022-04-28T19:13:52.412Z"
   },
   {
    "duration": 70,
    "start_time": "2022-04-28T19:13:52.424Z"
   },
   {
    "duration": 22,
    "start_time": "2022-04-28T19:13:52.497Z"
   },
   {
    "duration": 20,
    "start_time": "2022-04-28T19:13:52.521Z"
   },
   {
    "duration": 67,
    "start_time": "2022-04-28T19:13:52.544Z"
   },
   {
    "duration": 11,
    "start_time": "2022-04-28T19:13:52.613Z"
   },
   {
    "duration": 25,
    "start_time": "2022-04-28T19:13:52.626Z"
   },
   {
    "duration": 52,
    "start_time": "2022-04-28T19:13:52.653Z"
   },
   {
    "duration": 21,
    "start_time": "2022-04-28T19:13:52.708Z"
   },
   {
    "duration": 22,
    "start_time": "2022-04-28T19:13:52.732Z"
   },
   {
    "duration": 55,
    "start_time": "2022-04-28T19:13:52.757Z"
   },
   {
    "duration": 155,
    "start_time": "2022-04-28T19:14:06.929Z"
   },
   {
    "duration": 11,
    "start_time": "2022-04-28T19:14:07.087Z"
   },
   {
    "duration": 14,
    "start_time": "2022-04-28T19:14:07.101Z"
   },
   {
    "duration": 10,
    "start_time": "2022-04-28T19:14:07.118Z"
   },
   {
    "duration": 9,
    "start_time": "2022-04-28T19:14:07.132Z"
   },
   {
    "duration": 351,
    "start_time": "2022-04-28T19:14:07.144Z"
   },
   {
    "duration": 378,
    "start_time": "2022-04-28T19:14:07.498Z"
   },
   {
    "duration": 20,
    "start_time": "2022-04-28T19:14:07.878Z"
   },
   {
    "duration": 13,
    "start_time": "2022-04-28T19:14:07.900Z"
   },
   {
    "duration": 12,
    "start_time": "2022-04-28T19:14:07.916Z"
   },
   {
    "duration": 11,
    "start_time": "2022-04-28T19:14:07.931Z"
   },
   {
    "duration": 55,
    "start_time": "2022-04-28T19:14:07.945Z"
   },
   {
    "duration": 19,
    "start_time": "2022-04-28T19:14:08.003Z"
   },
   {
    "duration": 14,
    "start_time": "2022-04-28T19:14:08.029Z"
   },
   {
    "duration": 56,
    "start_time": "2022-04-28T19:14:08.045Z"
   },
   {
    "duration": 24,
    "start_time": "2022-04-28T19:14:08.103Z"
   },
   {
    "duration": 27,
    "start_time": "2022-04-28T19:14:08.129Z"
   },
   {
    "duration": 76,
    "start_time": "2022-04-28T19:14:08.158Z"
   },
   {
    "duration": 10,
    "start_time": "2022-04-28T19:14:08.236Z"
   },
   {
    "duration": 65,
    "start_time": "2022-04-28T19:14:08.249Z"
   },
   {
    "duration": 16,
    "start_time": "2022-04-28T19:14:08.317Z"
   },
   {
    "duration": 28,
    "start_time": "2022-04-28T19:14:08.336Z"
   },
   {
    "duration": 67,
    "start_time": "2022-04-28T19:14:08.366Z"
   },
   {
    "duration": 24,
    "start_time": "2022-04-28T19:14:08.437Z"
   },
   {
    "duration": 66,
    "start_time": "2022-04-28T19:14:08.464Z"
   },
   {
    "duration": 9,
    "start_time": "2022-04-28T19:14:08.533Z"
   },
   {
    "duration": 24,
    "start_time": "2022-04-28T19:14:08.544Z"
   },
   {
    "duration": 49,
    "start_time": "2022-04-28T19:14:08.571Z"
   },
   {
    "duration": 21,
    "start_time": "2022-04-28T19:14:08.623Z"
   },
   {
    "duration": 59,
    "start_time": "2022-04-28T19:14:08.646Z"
   },
   {
    "duration": 24,
    "start_time": "2022-04-28T19:14:08.708Z"
   },
   {
    "duration": 296,
    "start_time": "2022-04-28T19:14:39.251Z"
   },
   {
    "duration": 102,
    "start_time": "2022-04-28T19:14:42.351Z"
   },
   {
    "duration": 7,
    "start_time": "2022-04-28T19:14:42.456Z"
   },
   {
    "duration": 9,
    "start_time": "2022-04-28T19:14:42.465Z"
   },
   {
    "duration": 24,
    "start_time": "2022-04-28T19:14:42.476Z"
   },
   {
    "duration": 9,
    "start_time": "2022-04-28T19:14:42.503Z"
   },
   {
    "duration": 290,
    "start_time": "2022-04-28T19:14:42.514Z"
   },
   {
    "duration": 395,
    "start_time": "2022-04-28T19:14:42.806Z"
   },
   {
    "duration": 14,
    "start_time": "2022-04-28T19:14:43.203Z"
   },
   {
    "duration": 10,
    "start_time": "2022-04-28T19:14:43.219Z"
   },
   {
    "duration": 10,
    "start_time": "2022-04-28T19:14:43.231Z"
   },
   {
    "duration": 50,
    "start_time": "2022-04-28T19:14:43.244Z"
   },
   {
    "duration": 9,
    "start_time": "2022-04-28T19:14:43.297Z"
   },
   {
    "duration": 15,
    "start_time": "2022-04-28T19:14:43.309Z"
   },
   {
    "duration": 12,
    "start_time": "2022-04-28T19:14:43.328Z"
   },
   {
    "duration": 11,
    "start_time": "2022-04-28T19:14:43.342Z"
   },
   {
    "duration": 23,
    "start_time": "2022-04-28T19:14:43.394Z"
   },
   {
    "duration": 28,
    "start_time": "2022-04-28T19:14:43.420Z"
   },
   {
    "duration": 83,
    "start_time": "2022-04-28T19:14:43.450Z"
   },
   {
    "duration": 13,
    "start_time": "2022-04-28T19:14:43.536Z"
   },
   {
    "duration": 48,
    "start_time": "2022-04-28T19:14:43.551Z"
   },
   {
    "duration": 10,
    "start_time": "2022-04-28T19:14:43.601Z"
   },
   {
    "duration": 28,
    "start_time": "2022-04-28T19:14:43.613Z"
   },
   {
    "duration": 50,
    "start_time": "2022-04-28T19:14:43.643Z"
   },
   {
    "duration": 21,
    "start_time": "2022-04-28T19:14:43.696Z"
   },
   {
    "duration": 29,
    "start_time": "2022-04-28T19:14:43.720Z"
   },
   {
    "duration": 43,
    "start_time": "2022-04-28T19:14:43.751Z"
   },
   {
    "duration": 20,
    "start_time": "2022-04-28T19:14:43.797Z"
   },
   {
    "duration": 21,
    "start_time": "2022-04-28T19:14:43.820Z"
   },
   {
    "duration": 61,
    "start_time": "2022-04-28T19:14:43.843Z"
   },
   {
    "duration": 23,
    "start_time": "2022-04-28T19:14:43.906Z"
   },
   {
    "duration": 23,
    "start_time": "2022-04-28T19:14:43.931Z"
   },
   {
    "duration": 328,
    "start_time": "2022-04-28T19:15:00.240Z"
   },
   {
    "duration": 119,
    "start_time": "2022-04-28T19:15:03.895Z"
   },
   {
    "duration": 7,
    "start_time": "2022-04-28T19:15:04.017Z"
   },
   {
    "duration": 11,
    "start_time": "2022-04-28T19:15:04.026Z"
   },
   {
    "duration": 9,
    "start_time": "2022-04-28T19:15:04.040Z"
   },
   {
    "duration": 47,
    "start_time": "2022-04-28T19:15:04.051Z"
   },
   {
    "duration": 396,
    "start_time": "2022-04-28T19:15:04.100Z"
   },
   {
    "duration": 292,
    "start_time": "2022-04-28T19:15:04.498Z"
   },
   {
    "duration": 15,
    "start_time": "2022-04-28T19:15:04.794Z"
   },
   {
    "duration": 9,
    "start_time": "2022-04-28T19:15:04.812Z"
   },
   {
    "duration": 15,
    "start_time": "2022-04-28T19:15:04.827Z"
   },
   {
    "duration": 48,
    "start_time": "2022-04-28T19:15:04.845Z"
   },
   {
    "duration": 8,
    "start_time": "2022-04-28T19:15:04.897Z"
   },
   {
    "duration": 13,
    "start_time": "2022-04-28T19:15:04.908Z"
   },
   {
    "duration": 13,
    "start_time": "2022-04-28T19:15:04.924Z"
   },
   {
    "duration": 11,
    "start_time": "2022-04-28T19:15:04.939Z"
   },
   {
    "duration": 24,
    "start_time": "2022-04-28T19:15:04.992Z"
   },
   {
    "duration": 28,
    "start_time": "2022-04-28T19:15:05.018Z"
   },
   {
    "duration": 103,
    "start_time": "2022-04-28T19:15:05.048Z"
   },
   {
    "duration": 10,
    "start_time": "2022-04-28T19:15:05.153Z"
   },
   {
    "duration": 37,
    "start_time": "2022-04-28T19:15:05.165Z"
   },
   {
    "duration": 10,
    "start_time": "2022-04-28T19:15:05.204Z"
   },
   {
    "duration": 44,
    "start_time": "2022-04-28T19:15:05.216Z"
   },
   {
    "duration": 30,
    "start_time": "2022-04-28T19:15:05.294Z"
   },
   {
    "duration": 24,
    "start_time": "2022-04-28T19:15:05.327Z"
   },
   {
    "duration": 60,
    "start_time": "2022-04-28T19:15:05.354Z"
   },
   {
    "duration": 18,
    "start_time": "2022-04-28T19:15:05.417Z"
   },
   {
    "duration": 21,
    "start_time": "2022-04-28T19:15:05.437Z"
   },
   {
    "duration": 51,
    "start_time": "2022-04-28T19:15:05.463Z"
   },
   {
    "duration": 20,
    "start_time": "2022-04-28T19:15:05.517Z"
   },
   {
    "duration": 21,
    "start_time": "2022-04-28T19:15:05.540Z"
   },
   {
    "duration": 30,
    "start_time": "2022-04-28T19:15:05.593Z"
   },
   {
    "duration": 285,
    "start_time": "2022-04-28T19:15:50.401Z"
   },
   {
    "duration": 119,
    "start_time": "2022-04-28T19:15:52.854Z"
   },
   {
    "duration": 16,
    "start_time": "2022-04-28T19:15:52.977Z"
   },
   {
    "duration": 15,
    "start_time": "2022-04-28T19:15:52.996Z"
   },
   {
    "duration": 10,
    "start_time": "2022-04-28T19:15:53.015Z"
   },
   {
    "duration": 8,
    "start_time": "2022-04-28T19:15:53.028Z"
   },
   {
    "duration": 292,
    "start_time": "2022-04-28T19:15:53.039Z"
   },
   {
    "duration": 306,
    "start_time": "2022-04-28T19:15:53.334Z"
   },
   {
    "duration": 15,
    "start_time": "2022-04-28T19:15:53.642Z"
   },
   {
    "duration": 34,
    "start_time": "2022-04-28T19:15:53.660Z"
   },
   {
    "duration": 15,
    "start_time": "2022-04-28T19:15:53.700Z"
   },
   {
    "duration": 8,
    "start_time": "2022-04-28T19:15:53.717Z"
   },
   {
    "duration": 8,
    "start_time": "2022-04-28T19:15:53.728Z"
   },
   {
    "duration": 14,
    "start_time": "2022-04-28T19:15:53.738Z"
   },
   {
    "duration": 46,
    "start_time": "2022-04-28T19:15:53.754Z"
   },
   {
    "duration": 10,
    "start_time": "2022-04-28T19:15:53.802Z"
   },
   {
    "duration": 22,
    "start_time": "2022-04-28T19:15:53.814Z"
   },
   {
    "duration": 58,
    "start_time": "2022-04-28T19:15:53.839Z"
   },
   {
    "duration": 50,
    "start_time": "2022-04-28T19:15:53.900Z"
   },
   {
    "duration": 9,
    "start_time": "2022-04-28T19:15:53.952Z"
   },
   {
    "duration": 24,
    "start_time": "2022-04-28T19:15:53.992Z"
   },
   {
    "duration": 17,
    "start_time": "2022-04-28T19:15:54.018Z"
   },
   {
    "duration": 55,
    "start_time": "2022-04-28T19:15:54.039Z"
   },
   {
    "duration": 23,
    "start_time": "2022-04-28T19:15:54.097Z"
   },
   {
    "duration": 18,
    "start_time": "2022-04-28T19:15:54.123Z"
   },
   {
    "duration": 63,
    "start_time": "2022-04-28T19:15:54.145Z"
   },
   {
    "duration": 9,
    "start_time": "2022-04-28T19:15:54.210Z"
   },
   {
    "duration": 34,
    "start_time": "2022-04-28T19:15:54.221Z"
   },
   {
    "duration": 23,
    "start_time": "2022-04-28T19:15:54.293Z"
   },
   {
    "duration": 21,
    "start_time": "2022-04-28T19:15:54.318Z"
   },
   {
    "duration": 63,
    "start_time": "2022-04-28T19:15:54.342Z"
   },
   {
    "duration": 32,
    "start_time": "2022-04-28T19:15:54.407Z"
   },
   {
    "duration": 101,
    "start_time": "2022-04-28T19:16:38.043Z"
   },
   {
    "duration": 7,
    "start_time": "2022-04-28T19:16:38.146Z"
   },
   {
    "duration": 17,
    "start_time": "2022-04-28T19:16:38.155Z"
   },
   {
    "duration": 10,
    "start_time": "2022-04-28T19:16:38.195Z"
   },
   {
    "duration": 9,
    "start_time": "2022-04-28T19:16:38.207Z"
   },
   {
    "duration": 288,
    "start_time": "2022-04-28T19:16:38.218Z"
   },
   {
    "duration": 291,
    "start_time": "2022-04-28T19:16:38.508Z"
   },
   {
    "duration": 17,
    "start_time": "2022-04-28T19:16:38.801Z"
   },
   {
    "duration": 9,
    "start_time": "2022-04-28T19:16:38.821Z"
   },
   {
    "duration": 19,
    "start_time": "2022-04-28T19:16:38.834Z"
   },
   {
    "duration": 46,
    "start_time": "2022-04-28T19:16:38.856Z"
   },
   {
    "duration": 16,
    "start_time": "2022-04-28T19:16:38.905Z"
   },
   {
    "duration": 10,
    "start_time": "2022-04-28T19:16:38.924Z"
   },
   {
    "duration": 16,
    "start_time": "2022-04-28T19:16:38.936Z"
   },
   {
    "duration": 16,
    "start_time": "2022-04-28T19:16:38.955Z"
   },
   {
    "duration": 31,
    "start_time": "2022-04-28T19:16:38.994Z"
   },
   {
    "duration": 31,
    "start_time": "2022-04-28T19:16:39.028Z"
   },
   {
    "duration": 95,
    "start_time": "2022-04-28T19:16:39.062Z"
   },
   {
    "duration": 10,
    "start_time": "2022-04-28T19:16:39.159Z"
   },
   {
    "duration": 24,
    "start_time": "2022-04-28T19:16:39.193Z"
   },
   {
    "duration": 21,
    "start_time": "2022-04-28T19:16:39.220Z"
   },
   {
    "duration": 60,
    "start_time": "2022-04-28T19:16:39.244Z"
   },
   {
    "duration": 28,
    "start_time": "2022-04-28T19:16:39.307Z"
   },
   {
    "duration": 22,
    "start_time": "2022-04-28T19:16:39.338Z"
   },
   {
    "duration": 54,
    "start_time": "2022-04-28T19:16:39.362Z"
   },
   {
    "duration": 9,
    "start_time": "2022-04-28T19:16:39.418Z"
   },
   {
    "duration": 21,
    "start_time": "2022-04-28T19:16:39.429Z"
   },
   {
    "duration": 22,
    "start_time": "2022-04-28T19:16:39.493Z"
   },
   {
    "duration": 19,
    "start_time": "2022-04-28T19:16:39.517Z"
   },
   {
    "duration": 20,
    "start_time": "2022-04-28T19:16:39.538Z"
   },
   {
    "duration": 51,
    "start_time": "2022-04-28T19:16:39.560Z"
   },
   {
    "duration": 153,
    "start_time": "2022-04-28T19:16:51.701Z"
   },
   {
    "duration": 8,
    "start_time": "2022-04-28T19:16:51.857Z"
   },
   {
    "duration": 26,
    "start_time": "2022-04-28T19:16:51.868Z"
   },
   {
    "duration": 9,
    "start_time": "2022-04-28T19:16:51.896Z"
   },
   {
    "duration": 10,
    "start_time": "2022-04-28T19:16:51.909Z"
   },
   {
    "duration": 406,
    "start_time": "2022-04-28T19:16:51.921Z"
   },
   {
    "duration": 321,
    "start_time": "2022-04-28T19:16:52.330Z"
   },
   {
    "duration": 16,
    "start_time": "2022-04-28T19:16:52.653Z"
   },
   {
    "duration": 27,
    "start_time": "2022-04-28T19:16:52.671Z"
   },
   {
    "duration": 12,
    "start_time": "2022-04-28T19:16:52.700Z"
   },
   {
    "duration": 9,
    "start_time": "2022-04-28T19:16:52.715Z"
   },
   {
    "duration": 8,
    "start_time": "2022-04-28T19:16:52.726Z"
   },
   {
    "duration": 58,
    "start_time": "2022-04-28T19:16:52.737Z"
   },
   {
    "duration": 10,
    "start_time": "2022-04-28T19:16:52.799Z"
   },
   {
    "duration": 11,
    "start_time": "2022-04-28T19:16:52.812Z"
   },
   {
    "duration": 26,
    "start_time": "2022-04-28T19:16:52.826Z"
   },
   {
    "duration": 66,
    "start_time": "2022-04-28T19:16:52.854Z"
   },
   {
    "duration": 50,
    "start_time": "2022-04-28T19:16:52.923Z"
   },
   {
    "duration": 20,
    "start_time": "2022-04-28T19:16:52.975Z"
   },
   {
    "duration": 25,
    "start_time": "2022-04-28T19:16:52.997Z"
   },
   {
    "duration": 10,
    "start_time": "2022-04-28T19:16:53.025Z"
   },
   {
    "duration": 61,
    "start_time": "2022-04-28T19:16:53.037Z"
   },
   {
    "duration": 26,
    "start_time": "2022-04-28T19:16:53.100Z"
   },
   {
    "duration": 25,
    "start_time": "2022-04-28T19:16:53.129Z"
   },
   {
    "duration": 59,
    "start_time": "2022-04-28T19:16:53.156Z"
   },
   {
    "duration": 13,
    "start_time": "2022-04-28T19:16:53.218Z"
   },
   {
    "duration": 22,
    "start_time": "2022-04-28T19:16:53.233Z"
   },
   {
    "duration": 52,
    "start_time": "2022-04-28T19:16:53.257Z"
   },
   {
    "duration": 20,
    "start_time": "2022-04-28T19:16:53.312Z"
   },
   {
    "duration": 23,
    "start_time": "2022-04-28T19:16:53.334Z"
   },
   {
    "duration": 50,
    "start_time": "2022-04-28T19:16:53.359Z"
   },
   {
    "duration": 142,
    "start_time": "2022-04-28T19:17:14.061Z"
   },
   {
    "duration": 8,
    "start_time": "2022-04-28T19:17:14.206Z"
   },
   {
    "duration": 12,
    "start_time": "2022-04-28T19:17:14.216Z"
   },
   {
    "duration": 11,
    "start_time": "2022-04-28T19:17:14.233Z"
   },
   {
    "duration": 48,
    "start_time": "2022-04-28T19:17:14.247Z"
   },
   {
    "duration": 354,
    "start_time": "2022-04-28T19:17:14.302Z"
   },
   {
    "duration": 448,
    "start_time": "2022-04-28T19:17:14.660Z"
   },
   {
    "duration": 14,
    "start_time": "2022-04-28T19:17:15.111Z"
   },
   {
    "duration": 10,
    "start_time": "2022-04-28T19:17:15.128Z"
   },
   {
    "duration": 55,
    "start_time": "2022-04-28T19:17:15.141Z"
   },
   {
    "duration": 21,
    "start_time": "2022-04-28T19:17:15.199Z"
   },
   {
    "duration": 148,
    "start_time": "2022-04-28T19:17:15.233Z"
   },
   {
    "duration": 39,
    "start_time": "2022-04-28T19:17:15.385Z"
   },
   {
    "duration": 20,
    "start_time": "2022-04-28T19:17:15.430Z"
   },
   {
    "duration": 11,
    "start_time": "2022-04-28T19:17:15.453Z"
   },
   {
    "duration": 41,
    "start_time": "2022-04-28T19:17:15.467Z"
   },
   {
    "duration": 27,
    "start_time": "2022-04-28T19:17:15.511Z"
   },
   {
    "duration": 77,
    "start_time": "2022-04-28T19:17:15.541Z"
   },
   {
    "duration": 12,
    "start_time": "2022-04-28T19:17:15.621Z"
   },
   {
    "duration": 28,
    "start_time": "2022-04-28T19:17:15.637Z"
   },
   {
    "duration": 30,
    "start_time": "2022-04-28T19:17:15.669Z"
   },
   {
    "duration": 26,
    "start_time": "2022-04-28T19:17:15.701Z"
   },
   {
    "duration": 21,
    "start_time": "2022-04-28T19:17:15.730Z"
   },
   {
    "duration": 63,
    "start_time": "2022-04-28T19:17:15.754Z"
   },
   {
    "duration": 40,
    "start_time": "2022-04-28T19:17:15.819Z"
   },
   {
    "duration": 34,
    "start_time": "2022-04-28T19:17:15.861Z"
   },
   {
    "duration": 23,
    "start_time": "2022-04-28T19:17:15.897Z"
   },
   {
    "duration": 24,
    "start_time": "2022-04-28T19:17:15.922Z"
   },
   {
    "duration": 71,
    "start_time": "2022-04-28T19:17:15.950Z"
   },
   {
    "duration": 30,
    "start_time": "2022-04-28T19:17:16.024Z"
   },
   {
    "duration": 44,
    "start_time": "2022-04-28T19:17:16.057Z"
   },
   {
    "duration": 152,
    "start_time": "2022-04-28T19:17:49.267Z"
   },
   {
    "duration": 9,
    "start_time": "2022-04-28T19:17:49.422Z"
   },
   {
    "duration": 23,
    "start_time": "2022-04-28T19:17:49.433Z"
   },
   {
    "duration": 18,
    "start_time": "2022-04-28T19:17:49.458Z"
   },
   {
    "duration": 7,
    "start_time": "2022-04-28T19:17:49.495Z"
   },
   {
    "duration": 388,
    "start_time": "2022-04-28T19:17:49.505Z"
   },
   {
    "duration": 424,
    "start_time": "2022-04-28T19:17:49.896Z"
   },
   {
    "duration": 17,
    "start_time": "2022-04-28T19:17:50.323Z"
   },
   {
    "duration": 20,
    "start_time": "2022-04-28T19:17:50.342Z"
   },
   {
    "duration": 39,
    "start_time": "2022-04-28T19:17:50.366Z"
   },
   {
    "duration": 11,
    "start_time": "2022-04-28T19:17:50.408Z"
   },
   {
    "duration": 10,
    "start_time": "2022-04-28T19:17:50.421Z"
   },
   {
    "duration": 10,
    "start_time": "2022-04-28T19:17:50.433Z"
   },
   {
    "duration": 57,
    "start_time": "2022-04-28T19:17:50.447Z"
   },
   {
    "duration": 10,
    "start_time": "2022-04-28T19:17:50.507Z"
   },
   {
    "duration": 30,
    "start_time": "2022-04-28T19:17:50.519Z"
   },
   {
    "duration": 65,
    "start_time": "2022-04-28T19:17:50.552Z"
   },
   {
    "duration": 92,
    "start_time": "2022-04-28T19:17:50.619Z"
   },
   {
    "duration": 9,
    "start_time": "2022-04-28T19:17:50.714Z"
   },
   {
    "duration": 35,
    "start_time": "2022-04-28T19:17:50.726Z"
   },
   {
    "duration": 37,
    "start_time": "2022-04-28T19:17:50.764Z"
   },
   {
    "duration": 41,
    "start_time": "2022-04-28T19:17:50.804Z"
   },
   {
    "duration": 58,
    "start_time": "2022-04-28T19:17:50.848Z"
   },
   {
    "duration": 22,
    "start_time": "2022-04-28T19:17:50.909Z"
   },
   {
    "duration": 59,
    "start_time": "2022-04-28T19:17:50.934Z"
   },
   {
    "duration": 11,
    "start_time": "2022-04-28T19:17:50.996Z"
   },
   {
    "duration": 24,
    "start_time": "2022-04-28T19:17:51.011Z"
   },
   {
    "duration": 60,
    "start_time": "2022-04-28T19:17:51.039Z"
   },
   {
    "duration": 21,
    "start_time": "2022-04-28T19:17:51.102Z"
   },
   {
    "duration": 22,
    "start_time": "2022-04-28T19:17:51.125Z"
   },
   {
    "duration": 56,
    "start_time": "2022-04-28T19:17:51.150Z"
   },
   {
    "duration": 149,
    "start_time": "2022-04-28T19:18:03.172Z"
   },
   {
    "duration": 7,
    "start_time": "2022-04-28T19:18:03.325Z"
   },
   {
    "duration": 10,
    "start_time": "2022-04-28T19:18:03.335Z"
   },
   {
    "duration": 9,
    "start_time": "2022-04-28T19:18:03.347Z"
   },
   {
    "duration": 14,
    "start_time": "2022-04-28T19:18:03.395Z"
   },
   {
    "duration": 342,
    "start_time": "2022-04-28T19:18:03.415Z"
   },
   {
    "duration": 326,
    "start_time": "2022-04-28T19:18:03.759Z"
   },
   {
    "duration": 15,
    "start_time": "2022-04-28T19:18:04.093Z"
   },
   {
    "duration": 9,
    "start_time": "2022-04-28T19:18:04.110Z"
   },
   {
    "duration": 14,
    "start_time": "2022-04-28T19:18:04.122Z"
   },
   {
    "duration": 13,
    "start_time": "2022-04-28T19:18:04.138Z"
   },
   {
    "duration": 48,
    "start_time": "2022-04-28T19:18:04.153Z"
   },
   {
    "duration": 14,
    "start_time": "2022-04-28T19:18:04.203Z"
   },
   {
    "duration": 13,
    "start_time": "2022-04-28T19:18:04.223Z"
   },
   {
    "duration": 13,
    "start_time": "2022-04-28T19:18:04.238Z"
   },
   {
    "duration": 30,
    "start_time": "2022-04-28T19:18:04.299Z"
   },
   {
    "duration": 26,
    "start_time": "2022-04-28T19:18:04.331Z"
   },
   {
    "duration": 71,
    "start_time": "2022-04-28T19:18:04.359Z"
   },
   {
    "duration": 10,
    "start_time": "2022-04-28T19:18:04.433Z"
   },
   {
    "duration": 54,
    "start_time": "2022-04-28T19:18:04.446Z"
   },
   {
    "duration": 13,
    "start_time": "2022-04-28T19:18:04.503Z"
   },
   {
    "duration": 42,
    "start_time": "2022-04-28T19:18:04.518Z"
   },
   {
    "duration": 48,
    "start_time": "2022-04-28T19:18:04.563Z"
   },
   {
    "duration": 24,
    "start_time": "2022-04-28T19:18:04.614Z"
   },
   {
    "duration": 70,
    "start_time": "2022-04-28T19:18:04.641Z"
   },
   {
    "duration": 11,
    "start_time": "2022-04-28T19:18:04.714Z"
   },
   {
    "duration": 64,
    "start_time": "2022-04-28T19:18:04.728Z"
   },
   {
    "duration": 29,
    "start_time": "2022-04-28T19:18:04.796Z"
   },
   {
    "duration": 22,
    "start_time": "2022-04-28T19:18:04.828Z"
   },
   {
    "duration": 57,
    "start_time": "2022-04-28T19:18:04.852Z"
   },
   {
    "duration": 22,
    "start_time": "2022-04-28T19:18:04.911Z"
   },
   {
    "duration": 100,
    "start_time": "2022-04-28T19:18:24.319Z"
   },
   {
    "duration": 7,
    "start_time": "2022-04-28T19:18:24.422Z"
   },
   {
    "duration": 15,
    "start_time": "2022-04-28T19:18:24.432Z"
   },
   {
    "duration": 44,
    "start_time": "2022-04-28T19:18:24.450Z"
   },
   {
    "duration": 8,
    "start_time": "2022-04-28T19:18:24.498Z"
   },
   {
    "duration": 420,
    "start_time": "2022-04-28T19:18:24.509Z"
   },
   {
    "duration": 344,
    "start_time": "2022-04-28T19:18:24.932Z"
   },
   {
    "duration": 22,
    "start_time": "2022-04-28T19:18:25.278Z"
   },
   {
    "duration": 10,
    "start_time": "2022-04-28T19:18:25.303Z"
   },
   {
    "duration": 14,
    "start_time": "2022-04-28T19:18:25.317Z"
   },
   {
    "duration": 8,
    "start_time": "2022-04-28T19:18:25.334Z"
   },
   {
    "duration": 57,
    "start_time": "2022-04-28T19:18:25.344Z"
   },
   {
    "duration": 14,
    "start_time": "2022-04-28T19:18:25.403Z"
   },
   {
    "duration": 13,
    "start_time": "2022-04-28T19:18:25.423Z"
   },
   {
    "duration": 53,
    "start_time": "2022-04-28T19:18:25.439Z"
   },
   {
    "duration": 34,
    "start_time": "2022-04-28T19:18:25.494Z"
   },
   {
    "duration": 35,
    "start_time": "2022-04-28T19:18:25.531Z"
   },
   {
    "duration": 72,
    "start_time": "2022-04-28T19:18:25.593Z"
   },
   {
    "duration": 32,
    "start_time": "2022-04-28T19:18:25.668Z"
   },
   {
    "duration": 38,
    "start_time": "2022-04-28T19:18:25.703Z"
   },
   {
    "duration": 15,
    "start_time": "2022-04-28T19:18:25.744Z"
   },
   {
    "duration": 55,
    "start_time": "2022-04-28T19:18:25.761Z"
   },
   {
    "duration": 32,
    "start_time": "2022-04-28T19:18:25.821Z"
   },
   {
    "duration": 53,
    "start_time": "2022-04-28T19:18:25.856Z"
   },
   {
    "duration": 29,
    "start_time": "2022-04-28T19:18:25.911Z"
   },
   {
    "duration": 11,
    "start_time": "2022-04-28T19:18:25.943Z"
   },
   {
    "duration": 66,
    "start_time": "2022-04-28T19:18:25.957Z"
   },
   {
    "duration": 25,
    "start_time": "2022-04-28T19:18:26.026Z"
   },
   {
    "duration": 62,
    "start_time": "2022-04-28T19:18:26.054Z"
   },
   {
    "duration": 24,
    "start_time": "2022-04-28T19:18:26.120Z"
   },
   {
    "duration": 56,
    "start_time": "2022-04-28T19:18:26.146Z"
   },
   {
    "duration": 116,
    "start_time": "2022-04-28T19:19:02.482Z"
   },
   {
    "duration": 6,
    "start_time": "2022-04-28T19:19:02.601Z"
   },
   {
    "duration": 14,
    "start_time": "2022-04-28T19:19:02.609Z"
   },
   {
    "duration": 8,
    "start_time": "2022-04-28T19:19:02.626Z"
   },
   {
    "duration": 8,
    "start_time": "2022-04-28T19:19:02.638Z"
   },
   {
    "duration": 323,
    "start_time": "2022-04-28T19:19:02.693Z"
   },
   {
    "duration": 307,
    "start_time": "2022-04-28T19:19:03.019Z"
   },
   {
    "duration": 15,
    "start_time": "2022-04-28T19:19:03.330Z"
   },
   {
    "duration": 10,
    "start_time": "2022-04-28T19:19:03.347Z"
   },
   {
    "duration": 44,
    "start_time": "2022-04-28T19:19:03.359Z"
   },
   {
    "duration": 27,
    "start_time": "2022-04-28T19:19:03.405Z"
   },
   {
    "duration": 27,
    "start_time": "2022-04-28T19:19:03.435Z"
   },
   {
    "duration": 17,
    "start_time": "2022-04-28T19:19:03.465Z"
   },
   {
    "duration": 14,
    "start_time": "2022-04-28T19:19:03.501Z"
   },
   {
    "duration": 14,
    "start_time": "2022-04-28T19:19:03.518Z"
   },
   {
    "duration": 40,
    "start_time": "2022-04-28T19:19:03.535Z"
   },
   {
    "duration": 50,
    "start_time": "2022-04-28T19:19:03.579Z"
   },
   {
    "duration": 71,
    "start_time": "2022-04-28T19:19:03.631Z"
   },
   {
    "duration": 18,
    "start_time": "2022-04-28T19:19:03.705Z"
   },
   {
    "duration": 213,
    "start_time": "2022-04-28T19:19:03.726Z"
   },
   {
    "duration": 15,
    "start_time": "2022-04-28T19:19:03.942Z"
   },
   {
    "duration": 72,
    "start_time": "2022-04-28T19:19:03.960Z"
   },
   {
    "duration": 23,
    "start_time": "2022-04-28T19:19:04.035Z"
   },
   {
    "duration": 55,
    "start_time": "2022-04-28T19:19:04.061Z"
   },
   {
    "duration": 42,
    "start_time": "2022-04-28T19:19:04.120Z"
   },
   {
    "duration": 29,
    "start_time": "2022-04-28T19:19:04.165Z"
   },
   {
    "duration": 26,
    "start_time": "2022-04-28T19:19:04.197Z"
   },
   {
    "duration": 32,
    "start_time": "2022-04-28T19:19:04.227Z"
   },
   {
    "duration": 27,
    "start_time": "2022-04-28T19:19:04.295Z"
   },
   {
    "duration": 31,
    "start_time": "2022-04-28T19:19:04.326Z"
   },
   {
    "duration": 62,
    "start_time": "2022-04-28T19:19:04.360Z"
   },
   {
    "duration": 164,
    "start_time": "2022-04-28T19:19:17.131Z"
   },
   {
    "duration": 11,
    "start_time": "2022-04-28T19:19:17.299Z"
   },
   {
    "duration": 26,
    "start_time": "2022-04-28T19:19:17.313Z"
   },
   {
    "duration": 37,
    "start_time": "2022-04-28T19:19:17.342Z"
   },
   {
    "duration": 25,
    "start_time": "2022-04-28T19:19:17.383Z"
   },
   {
    "duration": 309,
    "start_time": "2022-04-28T19:19:17.411Z"
   },
   {
    "duration": 329,
    "start_time": "2022-04-28T19:19:17.723Z"
   },
   {
    "duration": 14,
    "start_time": "2022-04-28T19:19:18.055Z"
   },
   {
    "duration": 26,
    "start_time": "2022-04-28T19:19:18.072Z"
   },
   {
    "duration": 11,
    "start_time": "2022-04-28T19:19:18.100Z"
   },
   {
    "duration": 7,
    "start_time": "2022-04-28T19:19:18.114Z"
   },
   {
    "duration": 14,
    "start_time": "2022-04-28T19:19:18.124Z"
   },
   {
    "duration": 52,
    "start_time": "2022-04-28T19:19:18.141Z"
   },
   {
    "duration": 17,
    "start_time": "2022-04-28T19:19:18.200Z"
   },
   {
    "duration": 11,
    "start_time": "2022-04-28T19:19:18.219Z"
   },
   {
    "duration": 24,
    "start_time": "2022-04-28T19:19:18.232Z"
   },
   {
    "duration": 65,
    "start_time": "2022-04-28T19:19:18.259Z"
   },
   {
    "duration": 78,
    "start_time": "2022-04-28T19:19:18.327Z"
   },
   {
    "duration": 9,
    "start_time": "2022-04-28T19:19:18.408Z"
   },
   {
    "duration": 33,
    "start_time": "2022-04-28T19:19:18.420Z"
   },
   {
    "duration": 9,
    "start_time": "2022-04-28T19:19:18.455Z"
   },
   {
    "duration": 51,
    "start_time": "2022-04-28T19:19:18.466Z"
   },
   {
    "duration": 23,
    "start_time": "2022-04-28T19:19:18.521Z"
   },
   {
    "duration": 50,
    "start_time": "2022-04-28T19:19:18.546Z"
   },
   {
    "duration": 32,
    "start_time": "2022-04-28T19:19:18.598Z"
   },
   {
    "duration": 9,
    "start_time": "2022-04-28T19:19:18.632Z"
   },
   {
    "duration": 53,
    "start_time": "2022-04-28T19:19:18.643Z"
   },
   {
    "duration": 30,
    "start_time": "2022-04-28T19:19:18.698Z"
   },
   {
    "duration": 22,
    "start_time": "2022-04-28T19:19:18.731Z"
   },
   {
    "duration": 68,
    "start_time": "2022-04-28T19:19:18.756Z"
   },
   {
    "duration": 28,
    "start_time": "2022-04-28T19:19:18.827Z"
   },
   {
    "duration": 104,
    "start_time": "2022-04-28T19:19:35.472Z"
   },
   {
    "duration": 16,
    "start_time": "2022-04-28T19:19:35.580Z"
   },
   {
    "duration": 10,
    "start_time": "2022-04-28T19:19:35.598Z"
   },
   {
    "duration": 9,
    "start_time": "2022-04-28T19:19:35.611Z"
   },
   {
    "duration": 10,
    "start_time": "2022-04-28T19:19:35.623Z"
   },
   {
    "duration": 292,
    "start_time": "2022-04-28T19:19:35.636Z"
   },
   {
    "duration": 299,
    "start_time": "2022-04-28T19:19:35.930Z"
   },
   {
    "duration": 12,
    "start_time": "2022-04-28T19:19:36.231Z"
   },
   {
    "duration": 15,
    "start_time": "2022-04-28T19:19:36.246Z"
   },
   {
    "duration": 32,
    "start_time": "2022-04-28T19:19:36.263Z"
   },
   {
    "duration": 7,
    "start_time": "2022-04-28T19:19:36.298Z"
   },
   {
    "duration": 16,
    "start_time": "2022-04-28T19:19:36.307Z"
   },
   {
    "duration": 10,
    "start_time": "2022-04-28T19:19:36.325Z"
   },
   {
    "duration": 12,
    "start_time": "2022-04-28T19:19:36.340Z"
   },
   {
    "duration": 44,
    "start_time": "2022-04-28T19:19:36.354Z"
   },
   {
    "duration": 22,
    "start_time": "2022-04-28T19:19:36.400Z"
   },
   {
    "duration": 25,
    "start_time": "2022-04-28T19:19:36.425Z"
   },
   {
    "duration": 81,
    "start_time": "2022-04-28T19:19:36.452Z"
   },
   {
    "duration": 10,
    "start_time": "2022-04-28T19:19:36.535Z"
   },
   {
    "duration": 46,
    "start_time": "2022-04-28T19:19:36.547Z"
   },
   {
    "duration": 12,
    "start_time": "2022-04-28T19:19:36.595Z"
   },
   {
    "duration": 31,
    "start_time": "2022-04-28T19:19:36.609Z"
   },
   {
    "duration": 21,
    "start_time": "2022-04-28T19:19:36.642Z"
   },
   {
    "duration": 45,
    "start_time": "2022-04-28T19:19:36.666Z"
   },
   {
    "duration": 30,
    "start_time": "2022-04-28T19:19:36.713Z"
   },
   {
    "duration": 8,
    "start_time": "2022-04-28T19:19:36.745Z"
   },
   {
    "duration": 56,
    "start_time": "2022-04-28T19:19:36.755Z"
   },
   {
    "duration": 20,
    "start_time": "2022-04-28T19:19:36.813Z"
   },
   {
    "duration": 20,
    "start_time": "2022-04-28T19:19:36.836Z"
   },
   {
    "duration": 54,
    "start_time": "2022-04-28T19:19:36.858Z"
   },
   {
    "duration": 22,
    "start_time": "2022-04-28T19:19:36.914Z"
   },
   {
    "duration": 423,
    "start_time": "2022-04-28T19:19:53.850Z"
   },
   {
    "duration": 447,
    "start_time": "2022-04-28T19:20:06.814Z"
   },
   {
    "duration": 162,
    "start_time": "2022-04-28T19:20:09.798Z"
   },
   {
    "duration": 8,
    "start_time": "2022-04-28T19:20:09.964Z"
   },
   {
    "duration": 27,
    "start_time": "2022-04-28T19:20:09.975Z"
   },
   {
    "duration": 17,
    "start_time": "2022-04-28T19:20:10.004Z"
   },
   {
    "duration": 11,
    "start_time": "2022-04-28T19:20:10.025Z"
   },
   {
    "duration": 276,
    "start_time": "2022-04-28T19:20:10.039Z"
   },
   {
    "duration": 279,
    "start_time": "2022-04-28T19:20:10.317Z"
   },
   {
    "duration": 13,
    "start_time": "2022-04-28T19:20:10.600Z"
   },
   {
    "duration": 9,
    "start_time": "2022-04-28T19:20:10.615Z"
   },
   {
    "duration": 13,
    "start_time": "2022-04-28T19:20:10.626Z"
   },
   {
    "duration": 53,
    "start_time": "2022-04-28T19:20:10.641Z"
   },
   {
    "duration": 9,
    "start_time": "2022-04-28T19:20:10.697Z"
   },
   {
    "duration": 13,
    "start_time": "2022-04-28T19:20:10.709Z"
   },
   {
    "duration": 14,
    "start_time": "2022-04-28T19:20:10.728Z"
   },
   {
    "duration": 52,
    "start_time": "2022-04-28T19:20:10.745Z"
   },
   {
    "duration": 32,
    "start_time": "2022-04-28T19:20:10.800Z"
   },
   {
    "duration": 29,
    "start_time": "2022-04-28T19:20:10.834Z"
   },
   {
    "duration": 51,
    "start_time": "2022-04-28T19:20:10.892Z"
   },
   {
    "duration": 10,
    "start_time": "2022-04-28T19:20:10.946Z"
   },
   {
    "duration": 52,
    "start_time": "2022-04-28T19:20:10.959Z"
   },
   {
    "duration": 10,
    "start_time": "2022-04-28T19:20:11.014Z"
   },
   {
    "duration": 25,
    "start_time": "2022-04-28T19:20:11.027Z"
   },
   {
    "duration": 49,
    "start_time": "2022-04-28T19:20:11.054Z"
   },
   {
    "duration": 18,
    "start_time": "2022-04-28T19:20:11.105Z"
   },
   {
    "duration": 73,
    "start_time": "2022-04-28T19:20:11.125Z"
   },
   {
    "duration": 11,
    "start_time": "2022-04-28T19:20:11.201Z"
   },
   {
    "duration": 30,
    "start_time": "2022-04-28T19:20:11.215Z"
   },
   {
    "duration": 50,
    "start_time": "2022-04-28T19:20:11.248Z"
   },
   {
    "duration": 22,
    "start_time": "2022-04-28T19:20:11.301Z"
   },
   {
    "duration": 23,
    "start_time": "2022-04-28T19:20:11.326Z"
   },
   {
    "duration": 61,
    "start_time": "2022-04-28T19:20:11.352Z"
   },
   {
    "duration": 105,
    "start_time": "2022-04-28T19:20:27.318Z"
   },
   {
    "duration": 8,
    "start_time": "2022-04-28T19:20:27.427Z"
   },
   {
    "duration": 17,
    "start_time": "2022-04-28T19:20:27.438Z"
   },
   {
    "duration": 38,
    "start_time": "2022-04-28T19:20:27.459Z"
   },
   {
    "duration": 12,
    "start_time": "2022-04-28T19:20:27.500Z"
   },
   {
    "duration": 412,
    "start_time": "2022-04-28T19:20:27.514Z"
   },
   {
    "duration": 460,
    "start_time": "2022-04-28T19:20:27.929Z"
   },
   {
    "duration": 17,
    "start_time": "2022-04-28T19:20:28.392Z"
   },
   {
    "duration": 9,
    "start_time": "2022-04-28T19:20:28.412Z"
   },
   {
    "duration": 13,
    "start_time": "2022-04-28T19:20:28.427Z"
   },
   {
    "duration": 53,
    "start_time": "2022-04-28T19:20:28.442Z"
   },
   {
    "duration": 10,
    "start_time": "2022-04-28T19:20:28.497Z"
   },
   {
    "duration": 14,
    "start_time": "2022-04-28T19:20:28.509Z"
   },
   {
    "duration": 17,
    "start_time": "2022-04-28T19:20:28.526Z"
   },
   {
    "duration": 10,
    "start_time": "2022-04-28T19:20:28.545Z"
   },
   {
    "duration": 26,
    "start_time": "2022-04-28T19:20:28.592Z"
   },
   {
    "duration": 27,
    "start_time": "2022-04-28T19:20:28.621Z"
   },
   {
    "duration": 81,
    "start_time": "2022-04-28T19:20:28.651Z"
   },
   {
    "duration": 11,
    "start_time": "2022-04-28T19:20:28.735Z"
   },
   {
    "duration": 46,
    "start_time": "2022-04-28T19:20:28.748Z"
   },
   {
    "duration": 13,
    "start_time": "2022-04-28T19:20:28.797Z"
   },
   {
    "duration": 29,
    "start_time": "2022-04-28T19:20:28.813Z"
   },
   {
    "duration": 50,
    "start_time": "2022-04-28T19:20:28.845Z"
   },
   {
    "duration": 18,
    "start_time": "2022-04-28T19:20:28.897Z"
   },
   {
    "duration": 42,
    "start_time": "2022-04-28T19:20:28.917Z"
   },
   {
    "duration": 36,
    "start_time": "2022-04-28T19:20:28.961Z"
   },
   {
    "duration": 21,
    "start_time": "2022-04-28T19:20:29.000Z"
   },
   {
    "duration": 21,
    "start_time": "2022-04-28T19:20:29.026Z"
   },
   {
    "duration": 56,
    "start_time": "2022-04-28T19:20:29.049Z"
   },
   {
    "duration": 23,
    "start_time": "2022-04-28T19:20:29.108Z"
   },
   {
    "duration": 60,
    "start_time": "2022-04-28T19:20:29.134Z"
   },
   {
    "duration": 8,
    "start_time": "2022-04-28T19:28:25.506Z"
   },
   {
    "duration": 287,
    "start_time": "2022-04-28T19:28:49.836Z"
   },
   {
    "duration": 108,
    "start_time": "2022-04-28T19:29:00.780Z"
   },
   {
    "duration": 9,
    "start_time": "2022-04-28T19:29:00.894Z"
   },
   {
    "duration": 30,
    "start_time": "2022-04-28T19:29:00.905Z"
   },
   {
    "duration": 17,
    "start_time": "2022-04-28T19:29:00.938Z"
   },
   {
    "duration": 23,
    "start_time": "2022-04-28T19:29:00.958Z"
   },
   {
    "duration": 267,
    "start_time": "2022-04-28T19:29:00.993Z"
   },
   {
    "duration": 322,
    "start_time": "2022-04-28T19:29:01.262Z"
   },
   {
    "duration": 14,
    "start_time": "2022-04-28T19:29:01.587Z"
   },
   {
    "duration": 26,
    "start_time": "2022-04-28T19:29:01.604Z"
   },
   {
    "duration": 27,
    "start_time": "2022-04-28T19:29:01.636Z"
   },
   {
    "duration": 33,
    "start_time": "2022-04-28T19:29:01.666Z"
   },
   {
    "duration": 37,
    "start_time": "2022-04-28T19:29:01.702Z"
   },
   {
    "duration": 22,
    "start_time": "2022-04-28T19:29:01.742Z"
   },
   {
    "duration": 13,
    "start_time": "2022-04-28T19:29:01.767Z"
   },
   {
    "duration": 40,
    "start_time": "2022-04-28T19:29:01.782Z"
   },
   {
    "duration": 54,
    "start_time": "2022-04-28T19:29:01.824Z"
   },
   {
    "duration": 30,
    "start_time": "2022-04-28T19:29:01.881Z"
   },
   {
    "duration": 53,
    "start_time": "2022-04-28T19:29:01.913Z"
   },
   {
    "duration": 25,
    "start_time": "2022-04-28T19:29:01.968Z"
   },
   {
    "duration": 42,
    "start_time": "2022-04-28T19:29:01.995Z"
   },
   {
    "duration": 18,
    "start_time": "2022-04-28T19:29:02.041Z"
   },
   {
    "duration": 60,
    "start_time": "2022-04-28T19:29:02.062Z"
   },
   {
    "duration": 23,
    "start_time": "2022-04-28T19:29:02.124Z"
   },
   {
    "duration": 33,
    "start_time": "2022-04-28T19:29:02.149Z"
   },
   {
    "duration": 50,
    "start_time": "2022-04-28T19:29:02.186Z"
   },
   {
    "duration": 9,
    "start_time": "2022-04-28T19:29:02.239Z"
   },
   {
    "duration": 44,
    "start_time": "2022-04-28T19:29:02.250Z"
   },
   {
    "duration": 32,
    "start_time": "2022-04-28T19:29:02.298Z"
   },
   {
    "duration": 19,
    "start_time": "2022-04-28T19:29:02.332Z"
   },
   {
    "duration": 43,
    "start_time": "2022-04-28T19:29:02.353Z"
   },
   {
    "duration": 21,
    "start_time": "2022-04-28T19:29:02.399Z"
   },
   {
    "duration": 10,
    "start_time": "2022-04-28T19:31:09.021Z"
   },
   {
    "duration": 19,
    "start_time": "2022-04-28T19:37:41.599Z"
   },
   {
    "duration": 104,
    "start_time": "2022-04-28T19:37:46.518Z"
   },
   {
    "duration": 7,
    "start_time": "2022-04-28T19:37:46.624Z"
   },
   {
    "duration": 13,
    "start_time": "2022-04-28T19:37:46.633Z"
   },
   {
    "duration": 44,
    "start_time": "2022-04-28T19:37:46.649Z"
   },
   {
    "duration": 7,
    "start_time": "2022-04-28T19:37:46.696Z"
   },
   {
    "duration": 284,
    "start_time": "2022-04-28T19:37:46.705Z"
   },
   {
    "duration": 305,
    "start_time": "2022-04-28T19:37:46.992Z"
   },
   {
    "duration": 9,
    "start_time": "2022-04-28T19:37:47.300Z"
   },
   {
    "duration": 17,
    "start_time": "2022-04-28T19:37:47.311Z"
   },
   {
    "duration": 12,
    "start_time": "2022-04-28T19:37:47.335Z"
   },
   {
    "duration": 45,
    "start_time": "2022-04-28T19:37:47.349Z"
   },
   {
    "duration": 7,
    "start_time": "2022-04-28T19:37:47.397Z"
   },
   {
    "duration": 11,
    "start_time": "2022-04-28T19:37:47.406Z"
   },
   {
    "duration": 12,
    "start_time": "2022-04-28T19:37:47.419Z"
   },
   {
    "duration": 8,
    "start_time": "2022-04-28T19:37:47.433Z"
   },
   {
    "duration": 65,
    "start_time": "2022-04-28T19:37:47.444Z"
   },
   {
    "duration": 27,
    "start_time": "2022-04-28T19:37:47.512Z"
   },
   {
    "duration": 75,
    "start_time": "2022-04-28T19:37:47.541Z"
   },
   {
    "duration": 10,
    "start_time": "2022-04-28T19:37:47.619Z"
   },
   {
    "duration": 24,
    "start_time": "2022-04-28T19:37:47.631Z"
   },
   {
    "duration": 44,
    "start_time": "2022-04-28T19:37:47.657Z"
   },
   {
    "duration": 46,
    "start_time": "2022-04-28T19:37:47.704Z"
   },
   {
    "duration": 44,
    "start_time": "2022-04-28T19:37:47.753Z"
   },
   {
    "duration": 24,
    "start_time": "2022-04-28T19:37:47.800Z"
   },
   {
    "duration": 69,
    "start_time": "2022-04-28T19:37:47.826Z"
   },
   {
    "duration": 10,
    "start_time": "2022-04-28T19:37:47.898Z"
   },
   {
    "duration": 32,
    "start_time": "2022-04-28T19:37:47.911Z"
   },
   {
    "duration": 63,
    "start_time": "2022-04-28T19:37:47.949Z"
   },
   {
    "duration": 27,
    "start_time": "2022-04-28T19:37:48.015Z"
   },
   {
    "duration": 51,
    "start_time": "2022-04-28T19:37:48.044Z"
   },
   {
    "duration": 23,
    "start_time": "2022-04-28T19:37:48.097Z"
   },
   {
    "duration": 27,
    "start_time": "2022-04-28T19:38:59.727Z"
   },
   {
    "duration": 28,
    "start_time": "2022-04-28T19:40:34.729Z"
   },
   {
    "duration": 27,
    "start_time": "2022-04-28T19:41:09.559Z"
   },
   {
    "duration": 42,
    "start_time": "2022-04-28T19:41:21.527Z"
   },
   {
    "duration": 63,
    "start_time": "2022-04-28T19:42:17.327Z"
   },
   {
    "duration": 25,
    "start_time": "2022-04-28T19:45:33.021Z"
   },
   {
    "duration": 49,
    "start_time": "2022-04-28T19:45:35.552Z"
   },
   {
    "duration": 50,
    "start_time": "2022-04-28T19:45:38.118Z"
   },
   {
    "duration": 100,
    "start_time": "2022-04-28T19:45:41.325Z"
   },
   {
    "duration": 7,
    "start_time": "2022-04-28T19:45:41.428Z"
   },
   {
    "duration": 18,
    "start_time": "2022-04-28T19:45:41.437Z"
   },
   {
    "duration": 12,
    "start_time": "2022-04-28T19:45:41.458Z"
   },
   {
    "duration": 24,
    "start_time": "2022-04-28T19:45:41.472Z"
   },
   {
    "duration": 275,
    "start_time": "2022-04-28T19:45:41.498Z"
   },
   {
    "duration": 307,
    "start_time": "2022-04-28T19:45:41.775Z"
   },
   {
    "duration": 15,
    "start_time": "2022-04-28T19:45:42.084Z"
   },
   {
    "duration": 30,
    "start_time": "2022-04-28T19:45:42.101Z"
   },
   {
    "duration": 15,
    "start_time": "2022-04-28T19:45:42.135Z"
   },
   {
    "duration": 11,
    "start_time": "2022-04-28T19:45:42.153Z"
   },
   {
    "duration": 8,
    "start_time": "2022-04-28T19:45:42.167Z"
   },
   {
    "duration": 25,
    "start_time": "2022-04-28T19:45:42.178Z"
   },
   {
    "duration": 26,
    "start_time": "2022-04-28T19:45:42.205Z"
   },
   {
    "duration": 14,
    "start_time": "2022-04-28T19:45:42.234Z"
   },
   {
    "duration": 50,
    "start_time": "2022-04-28T19:45:42.251Z"
   },
   {
    "duration": 53,
    "start_time": "2022-04-28T19:45:51.697Z"
   },
   {
    "duration": 77,
    "start_time": "2022-04-28T19:46:57.997Z"
   },
   {
    "duration": 25,
    "start_time": "2022-04-28T19:50:38.525Z"
   },
   {
    "duration": 104,
    "start_time": "2022-04-28T19:50:40.925Z"
   },
   {
    "duration": 7,
    "start_time": "2022-04-28T19:50:41.032Z"
   },
   {
    "duration": 12,
    "start_time": "2022-04-28T19:50:41.041Z"
   },
   {
    "duration": 9,
    "start_time": "2022-04-28T19:50:41.055Z"
   },
   {
    "duration": 7,
    "start_time": "2022-04-28T19:50:41.095Z"
   },
   {
    "duration": 261,
    "start_time": "2022-04-28T19:50:41.104Z"
   },
   {
    "duration": 302,
    "start_time": "2022-04-28T19:50:41.367Z"
   },
   {
    "duration": 9,
    "start_time": "2022-04-28T19:50:41.671Z"
   },
   {
    "duration": 16,
    "start_time": "2022-04-28T19:50:41.682Z"
   },
   {
    "duration": 16,
    "start_time": "2022-04-28T19:50:41.701Z"
   },
   {
    "duration": 7,
    "start_time": "2022-04-28T19:50:41.719Z"
   },
   {
    "duration": 11,
    "start_time": "2022-04-28T19:50:41.728Z"
   },
   {
    "duration": 53,
    "start_time": "2022-04-28T19:50:41.741Z"
   },
   {
    "duration": 9,
    "start_time": "2022-04-28T19:50:41.799Z"
   },
   {
    "duration": 10,
    "start_time": "2022-04-28T19:50:41.810Z"
   },
   {
    "duration": 27,
    "start_time": "2022-04-28T19:50:41.822Z"
   },
   {
    "duration": 53,
    "start_time": "2022-04-28T19:50:41.852Z"
   },
   {
    "duration": 53,
    "start_time": "2022-04-28T19:50:41.907Z"
   },
   {
    "duration": 75,
    "start_time": "2022-04-28T19:50:41.962Z"
   },
   {
    "duration": 11,
    "start_time": "2022-04-28T19:50:42.039Z"
   },
   {
    "duration": 43,
    "start_time": "2022-04-28T19:50:42.052Z"
   },
   {
    "duration": 10,
    "start_time": "2022-04-28T19:50:42.097Z"
   },
   {
    "duration": 27,
    "start_time": "2022-04-28T19:50:42.110Z"
   },
   {
    "duration": 178,
    "start_time": "2022-04-28T19:50:42.139Z"
   },
   {
    "duration": 0,
    "start_time": "2022-04-28T19:50:42.320Z"
   },
   {
    "duration": 0,
    "start_time": "2022-04-28T19:50:42.321Z"
   },
   {
    "duration": 0,
    "start_time": "2022-04-28T19:50:42.323Z"
   },
   {
    "duration": 0,
    "start_time": "2022-04-28T19:50:42.326Z"
   },
   {
    "duration": 0,
    "start_time": "2022-04-28T19:50:42.328Z"
   },
   {
    "duration": 1,
    "start_time": "2022-04-28T19:50:42.330Z"
   },
   {
    "duration": 0,
    "start_time": "2022-04-28T19:50:42.333Z"
   },
   {
    "duration": 0,
    "start_time": "2022-04-28T19:50:42.335Z"
   },
   {
    "duration": 0,
    "start_time": "2022-04-28T19:50:42.338Z"
   },
   {
    "duration": 0,
    "start_time": "2022-04-28T19:50:42.340Z"
   },
   {
    "duration": 0,
    "start_time": "2022-04-28T19:50:42.343Z"
   },
   {
    "duration": 105,
    "start_time": "2022-04-28T19:50:51.560Z"
   },
   {
    "duration": 7,
    "start_time": "2022-04-28T19:50:51.668Z"
   },
   {
    "duration": 23,
    "start_time": "2022-04-28T19:50:51.677Z"
   },
   {
    "duration": 12,
    "start_time": "2022-04-28T19:50:51.703Z"
   },
   {
    "duration": 10,
    "start_time": "2022-04-28T19:50:51.717Z"
   },
   {
    "duration": 279,
    "start_time": "2022-04-28T19:50:51.730Z"
   },
   {
    "duration": 296,
    "start_time": "2022-04-28T19:50:52.011Z"
   },
   {
    "duration": 9,
    "start_time": "2022-04-28T19:50:52.309Z"
   },
   {
    "duration": 8,
    "start_time": "2022-04-28T19:50:52.320Z"
   },
   {
    "duration": 14,
    "start_time": "2022-04-28T19:50:52.334Z"
   },
   {
    "duration": 50,
    "start_time": "2022-04-28T19:50:52.351Z"
   },
   {
    "duration": 8,
    "start_time": "2022-04-28T19:50:52.404Z"
   },
   {
    "duration": 9,
    "start_time": "2022-04-28T19:50:52.414Z"
   },
   {
    "duration": 9,
    "start_time": "2022-04-28T19:50:52.426Z"
   },
   {
    "duration": 8,
    "start_time": "2022-04-28T19:50:52.437Z"
   },
   {
    "duration": 67,
    "start_time": "2022-04-28T19:50:52.447Z"
   },
   {
    "duration": 27,
    "start_time": "2022-04-28T19:50:52.516Z"
   },
   {
    "duration": 101,
    "start_time": "2022-04-28T19:50:52.546Z"
   },
   {
    "duration": 71,
    "start_time": "2022-04-28T19:50:52.650Z"
   },
   {
    "duration": 10,
    "start_time": "2022-04-28T19:50:52.723Z"
   },
   {
    "duration": 21,
    "start_time": "2022-04-28T19:50:52.735Z"
   },
   {
    "duration": 42,
    "start_time": "2022-04-28T19:50:52.759Z"
   },
   {
    "duration": 27,
    "start_time": "2022-04-28T19:50:52.803Z"
   },
   {
    "duration": 30,
    "start_time": "2022-04-28T19:50:52.832Z"
   },
   {
    "duration": 42,
    "start_time": "2022-04-28T19:50:52.864Z"
   },
   {
    "duration": 18,
    "start_time": "2022-04-28T19:50:52.908Z"
   },
   {
    "duration": 32,
    "start_time": "2022-04-28T19:50:52.929Z"
   },
   {
    "duration": 9,
    "start_time": "2022-04-28T19:50:52.992Z"
   },
   {
    "duration": 167,
    "start_time": "2022-04-28T19:50:53.003Z"
   },
   {
    "duration": 0,
    "start_time": "2022-04-28T19:50:53.172Z"
   },
   {
    "duration": 0,
    "start_time": "2022-04-28T19:50:53.174Z"
   },
   {
    "duration": 0,
    "start_time": "2022-04-28T19:50:53.176Z"
   },
   {
    "duration": 0,
    "start_time": "2022-04-28T19:50:53.178Z"
   },
   {
    "duration": 0,
    "start_time": "2022-04-28T19:50:53.180Z"
   },
   {
    "duration": 109,
    "start_time": "2022-04-28T19:51:45.301Z"
   },
   {
    "duration": 7,
    "start_time": "2022-04-28T19:51:45.413Z"
   },
   {
    "duration": 15,
    "start_time": "2022-04-28T19:51:45.422Z"
   },
   {
    "duration": 13,
    "start_time": "2022-04-28T19:51:45.440Z"
   },
   {
    "duration": 40,
    "start_time": "2022-04-28T19:51:45.455Z"
   },
   {
    "duration": 263,
    "start_time": "2022-04-28T19:51:45.498Z"
   },
   {
    "duration": 298,
    "start_time": "2022-04-28T19:51:45.763Z"
   },
   {
    "duration": 10,
    "start_time": "2022-04-28T19:51:46.063Z"
   },
   {
    "duration": 23,
    "start_time": "2022-04-28T19:51:46.075Z"
   },
   {
    "duration": 11,
    "start_time": "2022-04-28T19:51:46.103Z"
   },
   {
    "duration": 7,
    "start_time": "2022-04-28T19:51:46.116Z"
   },
   {
    "duration": 9,
    "start_time": "2022-04-28T19:51:46.126Z"
   },
   {
    "duration": 54,
    "start_time": "2022-04-28T19:51:46.138Z"
   },
   {
    "duration": 14,
    "start_time": "2022-04-28T19:51:46.195Z"
   },
   {
    "duration": 9,
    "start_time": "2022-04-28T19:51:46.212Z"
   },
   {
    "duration": 220,
    "start_time": "2022-04-28T19:51:46.224Z"
   },
   {
    "duration": 26,
    "start_time": "2022-04-28T19:51:46.446Z"
   },
   {
    "duration": 70,
    "start_time": "2022-04-28T19:51:46.475Z"
   },
   {
    "duration": 70,
    "start_time": "2022-04-28T19:51:46.547Z"
   },
   {
    "duration": 9,
    "start_time": "2022-04-28T19:51:46.619Z"
   },
   {
    "duration": 23,
    "start_time": "2022-04-28T19:51:46.632Z"
   },
   {
    "duration": 37,
    "start_time": "2022-04-28T19:51:46.657Z"
   },
   {
    "duration": 24,
    "start_time": "2022-04-28T19:51:46.697Z"
   },
   {
    "duration": 33,
    "start_time": "2022-04-28T19:51:46.724Z"
   },
   {
    "duration": 21,
    "start_time": "2022-04-28T19:51:46.792Z"
   },
   {
    "duration": 21,
    "start_time": "2022-04-28T19:51:46.815Z"
   },
   {
    "duration": 63,
    "start_time": "2022-04-28T19:51:46.839Z"
   },
   {
    "duration": 8,
    "start_time": "2022-04-28T19:51:46.909Z"
   },
   {
    "duration": 198,
    "start_time": "2022-04-28T19:51:46.919Z"
   },
   {
    "duration": 0,
    "start_time": "2022-04-28T19:51:47.120Z"
   },
   {
    "duration": 0,
    "start_time": "2022-04-28T19:51:47.121Z"
   },
   {
    "duration": 0,
    "start_time": "2022-04-28T19:51:47.123Z"
   },
   {
    "duration": 0,
    "start_time": "2022-04-28T19:51:47.124Z"
   },
   {
    "duration": 0,
    "start_time": "2022-04-28T19:51:47.125Z"
   },
   {
    "duration": 46,
    "start_time": "2022-04-28T19:52:13.774Z"
   },
   {
    "duration": 36,
    "start_time": "2022-04-28T19:54:02.984Z"
   },
   {
    "duration": 31,
    "start_time": "2022-04-28T19:55:56.643Z"
   },
   {
    "duration": 22,
    "start_time": "2022-04-28T20:07:04.473Z"
   },
   {
    "duration": 25,
    "start_time": "2022-04-28T20:16:51.167Z"
   },
   {
    "duration": 130,
    "start_time": "2022-04-28T20:16:57.591Z"
   },
   {
    "duration": 8,
    "start_time": "2022-04-28T20:16:57.725Z"
   },
   {
    "duration": 15,
    "start_time": "2022-04-28T20:16:57.735Z"
   },
   {
    "duration": 9,
    "start_time": "2022-04-28T20:16:57.752Z"
   },
   {
    "duration": 8,
    "start_time": "2022-04-28T20:16:57.792Z"
   },
   {
    "duration": 375,
    "start_time": "2022-04-28T20:16:57.803Z"
   },
   {
    "duration": 426,
    "start_time": "2022-04-28T20:16:58.180Z"
   },
   {
    "duration": 9,
    "start_time": "2022-04-28T20:16:58.608Z"
   },
   {
    "duration": 14,
    "start_time": "2022-04-28T20:16:58.619Z"
   },
   {
    "duration": 20,
    "start_time": "2022-04-28T20:16:58.636Z"
   },
   {
    "duration": 43,
    "start_time": "2022-04-28T20:16:58.659Z"
   },
   {
    "duration": 10,
    "start_time": "2022-04-28T20:16:58.705Z"
   },
   {
    "duration": 11,
    "start_time": "2022-04-28T20:16:58.718Z"
   },
   {
    "duration": 10,
    "start_time": "2022-04-28T20:16:58.734Z"
   },
   {
    "duration": 11,
    "start_time": "2022-04-28T20:16:58.746Z"
   },
   {
    "duration": 31,
    "start_time": "2022-04-28T20:16:58.795Z"
   },
   {
    "duration": 26,
    "start_time": "2022-04-28T20:16:58.829Z"
   },
   {
    "duration": 90,
    "start_time": "2022-04-28T20:16:58.857Z"
   },
   {
    "duration": 76,
    "start_time": "2022-04-28T20:16:58.949Z"
   },
   {
    "duration": 9,
    "start_time": "2022-04-28T20:16:59.027Z"
   },
   {
    "duration": 26,
    "start_time": "2022-04-28T20:16:59.038Z"
   },
   {
    "duration": 30,
    "start_time": "2022-04-28T20:16:59.066Z"
   },
   {
    "duration": 32,
    "start_time": "2022-04-28T20:16:59.100Z"
   },
   {
    "duration": 47,
    "start_time": "2022-04-28T20:16:59.134Z"
   },
   {
    "duration": 64,
    "start_time": "2022-04-28T20:16:59.183Z"
   },
   {
    "duration": 17,
    "start_time": "2022-04-28T20:16:59.250Z"
   },
   {
    "duration": 39,
    "start_time": "2022-04-28T20:16:59.270Z"
   },
   {
    "duration": 33,
    "start_time": "2022-04-28T20:16:59.311Z"
   },
   {
    "duration": 9,
    "start_time": "2022-04-28T20:16:59.346Z"
   },
   {
    "duration": 53,
    "start_time": "2022-04-28T20:16:59.357Z"
   },
   {
    "duration": 24,
    "start_time": "2022-04-28T20:16:59.413Z"
   },
   {
    "duration": 56,
    "start_time": "2022-04-28T20:16:59.439Z"
   },
   {
    "duration": 27,
    "start_time": "2022-04-28T20:16:59.499Z"
   },
   {
    "duration": 24,
    "start_time": "2022-04-28T20:16:59.528Z"
   },
   {
    "duration": 19,
    "start_time": "2022-04-28T20:29:21.602Z"
   },
   {
    "duration": 19,
    "start_time": "2022-04-28T20:29:25.024Z"
   },
   {
    "duration": 19,
    "start_time": "2022-04-28T20:29:31.054Z"
   },
   {
    "duration": 109,
    "start_time": "2022-04-28T20:29:43.343Z"
   },
   {
    "duration": 7,
    "start_time": "2022-04-28T20:29:43.456Z"
   },
   {
    "duration": 30,
    "start_time": "2022-04-28T20:29:43.465Z"
   },
   {
    "duration": 9,
    "start_time": "2022-04-28T20:29:43.497Z"
   },
   {
    "duration": 8,
    "start_time": "2022-04-28T20:29:43.509Z"
   },
   {
    "duration": 323,
    "start_time": "2022-04-28T20:29:43.520Z"
   },
   {
    "duration": 300,
    "start_time": "2022-04-28T20:29:43.845Z"
   },
   {
    "duration": 9,
    "start_time": "2022-04-28T20:29:44.147Z"
   },
   {
    "duration": 8,
    "start_time": "2022-04-28T20:29:44.158Z"
   },
   {
    "duration": 35,
    "start_time": "2022-04-28T20:29:44.168Z"
   },
   {
    "duration": 13,
    "start_time": "2022-04-28T20:29:44.208Z"
   },
   {
    "duration": 18,
    "start_time": "2022-04-28T20:29:44.226Z"
   },
   {
    "duration": 9,
    "start_time": "2022-04-28T20:29:44.247Z"
   },
   {
    "duration": 14,
    "start_time": "2022-04-28T20:29:44.296Z"
   },
   {
    "duration": 12,
    "start_time": "2022-04-28T20:29:44.312Z"
   },
   {
    "duration": 22,
    "start_time": "2022-04-28T20:29:44.327Z"
   },
   {
    "duration": 69,
    "start_time": "2022-04-28T20:29:44.352Z"
   },
   {
    "duration": 100,
    "start_time": "2022-04-28T20:29:44.424Z"
   },
   {
    "duration": 87,
    "start_time": "2022-04-28T20:29:44.527Z"
   },
   {
    "duration": 11,
    "start_time": "2022-04-28T20:29:44.616Z"
   },
   {
    "duration": 35,
    "start_time": "2022-04-28T20:29:44.630Z"
   },
   {
    "duration": 9,
    "start_time": "2022-04-28T20:29:44.694Z"
   },
   {
    "duration": 40,
    "start_time": "2022-04-28T20:29:44.706Z"
   },
   {
    "duration": 65,
    "start_time": "2022-04-28T20:29:44.749Z"
   },
   {
    "duration": 80,
    "start_time": "2022-04-28T20:29:44.817Z"
   },
   {
    "duration": 24,
    "start_time": "2022-04-28T20:29:44.900Z"
   },
   {
    "duration": 19,
    "start_time": "2022-04-28T20:29:44.927Z"
   },
   {
    "duration": 0,
    "start_time": "2022-04-28T20:29:44.949Z"
   },
   {
    "duration": 0,
    "start_time": "2022-04-28T20:29:44.951Z"
   },
   {
    "duration": 0,
    "start_time": "2022-04-28T20:29:44.953Z"
   },
   {
    "duration": 0,
    "start_time": "2022-04-28T20:29:44.955Z"
   },
   {
    "duration": 0,
    "start_time": "2022-04-28T20:29:44.994Z"
   },
   {
    "duration": 0,
    "start_time": "2022-04-28T20:29:44.996Z"
   },
   {
    "duration": 0,
    "start_time": "2022-04-28T20:29:44.998Z"
   },
   {
    "duration": 19,
    "start_time": "2022-04-28T20:30:00.627Z"
   },
   {
    "duration": 19,
    "start_time": "2022-04-28T20:30:07.263Z"
   },
   {
    "duration": 129,
    "start_time": "2022-04-28T20:30:15.590Z"
   },
   {
    "duration": 7,
    "start_time": "2022-04-28T20:30:15.722Z"
   },
   {
    "duration": 12,
    "start_time": "2022-04-28T20:30:15.731Z"
   },
   {
    "duration": 9,
    "start_time": "2022-04-28T20:30:15.745Z"
   },
   {
    "duration": 39,
    "start_time": "2022-04-28T20:30:15.758Z"
   },
   {
    "duration": 307,
    "start_time": "2022-04-28T20:30:15.800Z"
   },
   {
    "duration": 318,
    "start_time": "2022-04-28T20:30:16.110Z"
   },
   {
    "duration": 10,
    "start_time": "2022-04-28T20:30:16.431Z"
   },
   {
    "duration": 9,
    "start_time": "2022-04-28T20:30:16.443Z"
   },
   {
    "duration": 48,
    "start_time": "2022-04-28T20:30:16.455Z"
   },
   {
    "duration": 11,
    "start_time": "2022-04-28T20:30:16.507Z"
   },
   {
    "duration": 10,
    "start_time": "2022-04-28T20:30:16.521Z"
   },
   {
    "duration": 11,
    "start_time": "2022-04-28T20:30:16.535Z"
   },
   {
    "duration": 47,
    "start_time": "2022-04-28T20:30:16.552Z"
   },
   {
    "duration": 17,
    "start_time": "2022-04-28T20:30:16.603Z"
   },
   {
    "duration": 25,
    "start_time": "2022-04-28T20:30:16.622Z"
   },
   {
    "duration": 67,
    "start_time": "2022-04-28T20:30:16.649Z"
   },
   {
    "duration": 57,
    "start_time": "2022-04-28T20:30:16.719Z"
   },
   {
    "duration": 61,
    "start_time": "2022-04-28T20:30:16.793Z"
   },
   {
    "duration": 10,
    "start_time": "2022-04-28T20:30:16.856Z"
   },
   {
    "duration": 53,
    "start_time": "2022-04-28T20:30:16.869Z"
   },
   {
    "duration": 10,
    "start_time": "2022-04-28T20:30:16.926Z"
   },
   {
    "duration": 57,
    "start_time": "2022-04-28T20:30:16.938Z"
   },
   {
    "duration": 31,
    "start_time": "2022-04-28T20:30:16.998Z"
   },
   {
    "duration": 75,
    "start_time": "2022-04-28T20:30:17.032Z"
   },
   {
    "duration": 19,
    "start_time": "2022-04-28T20:30:17.109Z"
   },
   {
    "duration": 36,
    "start_time": "2022-04-28T20:30:17.130Z"
   },
   {
    "duration": 59,
    "start_time": "2022-04-28T20:30:17.168Z"
   },
   {
    "duration": 8,
    "start_time": "2022-04-28T20:30:17.230Z"
   },
   {
    "duration": 32,
    "start_time": "2022-04-28T20:30:17.241Z"
   },
   {
    "duration": 28,
    "start_time": "2022-04-28T20:30:17.294Z"
   },
   {
    "duration": 26,
    "start_time": "2022-04-28T20:30:17.324Z"
   },
   {
    "duration": 71,
    "start_time": "2022-04-28T20:30:17.352Z"
   },
   {
    "duration": 22,
    "start_time": "2022-04-28T20:30:17.425Z"
   },
   {
    "duration": 534,
    "start_time": "2022-05-03T11:53:16.972Z"
   },
   {
    "duration": 6,
    "start_time": "2022-05-03T11:53:17.508Z"
   },
   {
    "duration": 18,
    "start_time": "2022-05-03T11:53:17.516Z"
   },
   {
    "duration": 9,
    "start_time": "2022-05-03T11:53:17.536Z"
   },
   {
    "duration": 12,
    "start_time": "2022-05-03T11:53:17.548Z"
   },
   {
    "duration": 1048,
    "start_time": "2022-05-03T11:53:17.563Z"
   },
   {
    "duration": 249,
    "start_time": "2022-05-03T11:53:18.613Z"
   },
   {
    "duration": 7,
    "start_time": "2022-05-03T11:53:18.864Z"
   },
   {
    "duration": 7,
    "start_time": "2022-05-03T11:53:18.873Z"
   },
   {
    "duration": 15,
    "start_time": "2022-05-03T11:53:18.882Z"
   },
   {
    "duration": 7,
    "start_time": "2022-05-03T11:53:18.899Z"
   },
   {
    "duration": 11,
    "start_time": "2022-05-03T11:53:18.908Z"
   },
   {
    "duration": 19,
    "start_time": "2022-05-03T11:53:18.921Z"
   },
   {
    "duration": 11,
    "start_time": "2022-05-03T11:53:18.944Z"
   },
   {
    "duration": 11,
    "start_time": "2022-05-03T11:53:18.957Z"
   },
   {
    "duration": 22,
    "start_time": "2022-05-03T11:53:18.970Z"
   },
   {
    "duration": 48,
    "start_time": "2022-05-03T11:53:18.994Z"
   },
   {
    "duration": 46,
    "start_time": "2022-05-03T11:53:19.044Z"
   },
   {
    "duration": 71,
    "start_time": "2022-05-03T11:53:19.092Z"
   },
   {
    "duration": 11,
    "start_time": "2022-05-03T11:53:19.165Z"
   },
   {
    "duration": 27,
    "start_time": "2022-05-03T11:53:19.177Z"
   },
   {
    "duration": 9,
    "start_time": "2022-05-03T11:53:19.206Z"
   },
   {
    "duration": 21,
    "start_time": "2022-05-03T11:53:19.234Z"
   },
   {
    "duration": 21,
    "start_time": "2022-05-03T11:53:19.257Z"
   },
   {
    "duration": 78,
    "start_time": "2022-05-03T11:53:19.280Z"
   },
   {
    "duration": 17,
    "start_time": "2022-05-03T11:53:19.360Z"
   },
   {
    "duration": 13,
    "start_time": "2022-05-03T11:53:19.379Z"
   },
   {
    "duration": 45,
    "start_time": "2022-05-03T11:53:19.394Z"
   },
   {
    "duration": 10,
    "start_time": "2022-05-03T11:53:19.441Z"
   },
   {
    "duration": 17,
    "start_time": "2022-05-03T11:53:19.453Z"
   },
   {
    "duration": 21,
    "start_time": "2022-05-03T11:53:19.472Z"
   },
   {
    "duration": 48,
    "start_time": "2022-05-03T11:53:19.495Z"
   },
   {
    "duration": 21,
    "start_time": "2022-05-03T11:53:19.545Z"
   },
   {
    "duration": 22,
    "start_time": "2022-05-03T11:53:19.568Z"
   }
  ],
  "kernelspec": {
   "display_name": "Python 3 (ipykernel)",
   "language": "python",
   "name": "python3"
  },
  "language_info": {
   "codemirror_mode": {
    "name": "ipython",
    "version": 3
   },
   "file_extension": ".py",
   "mimetype": "text/x-python",
   "name": "python",
   "nbconvert_exporter": "python",
   "pygments_lexer": "ipython3",
   "version": "3.9.5"
  },
  "toc": {
   "base_numbering": 1,
   "nav_menu": {},
   "number_sections": true,
   "sideBar": true,
   "skip_h1_title": true,
   "title_cell": "Table of Contents",
   "title_sidebar": "Contents",
   "toc_cell": false,
   "toc_position": {
    "height": "calc(100% - 180px)",
    "left": "10px",
    "top": "150px",
    "width": "394.861px"
   },
   "toc_section_display": true,
   "toc_window_display": true
  }
 },
 "nbformat": 4,
 "nbformat_minor": 5
}
