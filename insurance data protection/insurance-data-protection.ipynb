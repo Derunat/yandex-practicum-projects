{
 "cells": [
  {
   "cell_type": "markdown",
   "metadata": {},
   "source": [
    "<div style=\"border:solid green 2px; padding: 20px\">\n",
    "<b>Привет, Наталья!</b>\n",
    "\n",
    "Меня зовут Александр Пономаренко, и я буду проверять твой проект. Предлагаю общаться на «ты» :) Но если это не удобно - дай знать, и мы перейдем на \"вы\". \n",
    "\n",
    "Моя основная цель — не указать на совершенные тобою ошибки, а поделиться своим опытом и помочь тебе стать data science. Ты уже проделал большую работу над проектом, но давай сделаем его еще лучше. Ниже ты найдешь мои комментарии - **пожалуйста, не перемещай, не изменяй и не удаляй их**. Увидев у тебя ошибку, в первый раз я лишь укажу на ее наличие и дам тебе возможность самой найти и исправить ее. На реальной работе твой начальник будет поступать так же, а я пытаюсь подготовить тебя именно к работе аналитиком. Но если ты пока не справишься с такой задачей - при следующей проверке я дам более точную подсказку. Я буду использовать цветовую разметку:\n",
    "\n",
    "<div class=\"alert alert-danger\">\n",
    "<b>Комментарий ревьюера ❌:</b> Так выделены самые важные замечания. Без их отработки проект не будет принят. </div>\n",
    "\n",
    "<div class=\"alert alert-warning\">\n",
    "<b>Комментарий ревьюера ⚠️:</b> Так выделены небольшие замечания. Я надеюсь, что их ты тоже учтешь - твой проект от этого станет только лучше. Но настаивать на их отработке не буду.\n",
    "\n",
    "</div>\n",
    "\n",
    "<div class=\"alert alert-success\">\n",
    "<b>Комментарий ревьюера ✔️:</b> Так я выделяю все остальные комментарии.</div>\n",
    "\n",
    "Давай работать над проектом в диалоге: **если ты что-то меняешь в проекте или отвечаешь на мои комменатри — пиши об этом.** Мне будет легче отследить изменения, если ты выделишь свои комментарии:\n",
    "<div class=\"alert alert-info\"> <b>Комментарий студента:</b> Например, вот так.</div>\n",
    "\n",
    "Всё это поможет выполнить повторную проверку твоего проекта оперативнее. "
   ]
  },
  {
   "cell_type": "markdown",
   "metadata": {
    "toc": true
   },
   "source": [
    "<h1>Содержание<span class=\"tocSkip\"></span></h1>\n",
    "<div class=\"toc\"><ul class=\"toc-item\"><li><span><a href=\"#Загрузка-данных\" data-toc-modified-id=\"Загрузка-данных-1\"><span class=\"toc-item-num\">1&nbsp;&nbsp;</span>Загрузка данных</a></span></li><li><span><a href=\"#Умножение-матриц\" data-toc-modified-id=\"Умножение-матриц-2\"><span class=\"toc-item-num\">2&nbsp;&nbsp;</span>Умножение матриц</a></span></li><li><span><a href=\"#Алгоритм-преобразования\" data-toc-modified-id=\"Алгоритм-преобразования-3\"><span class=\"toc-item-num\">3&nbsp;&nbsp;</span>Алгоритм преобразования</a></span></li><li><span><a href=\"#Проверка-алгоритма\" data-toc-modified-id=\"Проверка-алгоритма-4\"><span class=\"toc-item-num\">4&nbsp;&nbsp;</span>Проверка алгоритма</a></span></li><li><span><a href=\"#Чек-лист-проверки\" data-toc-modified-id=\"Чек-лист-проверки-5\"><span class=\"toc-item-num\">5&nbsp;&nbsp;</span>Чек-лист проверки</a></span></li></ul></div>"
   ]
  },
  {
   "cell_type": "markdown",
   "metadata": {},
   "source": [
    "# Защита персональных данных клиентов"
   ]
  },
  {
   "cell_type": "markdown",
   "metadata": {},
   "source": [
    "Вам нужно защитить данные клиентов страховой компании «Хоть потоп». Разработайте такой метод преобразования данных, чтобы по ним было сложно восстановить персональную информацию. Обоснуйте корректность его работы.\n",
    "\n",
    "Нужно защитить данные, чтобы при преобразовании качество моделей машинного обучения не ухудшилось. Подбирать наилучшую модель не требуется."
   ]
  },
  {
   "cell_type": "markdown",
   "metadata": {},
   "source": [
    "## Загрузка данных"
   ]
  },
  {
   "cell_type": "code",
   "execution_count": 2,
   "metadata": {},
   "outputs": [],
   "source": [
    "import pandas as pd\n",
    "import numpy as np\n",
    "\n",
    "from sklearn.linear_model import LinearRegression\n",
    "from sklearn.model_selection import train_test_split\n",
    "from sklearn.metrics import r2_score"
   ]
  },
  {
   "cell_type": "code",
   "execution_count": 3,
   "metadata": {},
   "outputs": [],
   "source": [
    "insurance = pd.read_csv('/datasets/insurance.csv')"
   ]
  },
  {
   "cell_type": "markdown",
   "metadata": {},
   "source": [
    "<div class=\"alert alert-success\">\n",
    "<b>Комментарий ревьюера ✔️:</b>Данные на месте:)\n",
    "</div>"
   ]
  },
  {
   "cell_type": "code",
   "execution_count": 4,
   "metadata": {},
   "outputs": [
    {
     "name": "stdout",
     "output_type": "stream",
     "text": [
      "<class 'pandas.core.frame.DataFrame'>\n",
      "RangeIndex: 5000 entries, 0 to 4999\n",
      "Data columns (total 5 columns):\n",
      " #   Column             Non-Null Count  Dtype  \n",
      "---  ------             --------------  -----  \n",
      " 0   Пол                5000 non-null   int64  \n",
      " 1   Возраст            5000 non-null   float64\n",
      " 2   Зарплата           5000 non-null   float64\n",
      " 3   Члены семьи        5000 non-null   int64  \n",
      " 4   Страховые выплаты  5000 non-null   int64  \n",
      "dtypes: float64(2), int64(3)\n",
      "memory usage: 195.4 KB\n"
     ]
    }
   ],
   "source": [
    "insurance.info()"
   ]
  },
  {
   "cell_type": "code",
   "execution_count": 5,
   "metadata": {},
   "outputs": [
    {
     "data": {
      "text/html": [
       "<div>\n",
       "<style scoped>\n",
       "    .dataframe tbody tr th:only-of-type {\n",
       "        vertical-align: middle;\n",
       "    }\n",
       "\n",
       "    .dataframe tbody tr th {\n",
       "        vertical-align: top;\n",
       "    }\n",
       "\n",
       "    .dataframe thead th {\n",
       "        text-align: right;\n",
       "    }\n",
       "</style>\n",
       "<table border=\"1\" class=\"dataframe\">\n",
       "  <thead>\n",
       "    <tr style=\"text-align: right;\">\n",
       "      <th></th>\n",
       "      <th>Пол</th>\n",
       "      <th>Возраст</th>\n",
       "      <th>Зарплата</th>\n",
       "      <th>Члены семьи</th>\n",
       "      <th>Страховые выплаты</th>\n",
       "    </tr>\n",
       "  </thead>\n",
       "  <tbody>\n",
       "    <tr>\n",
       "      <th>0</th>\n",
       "      <td>1</td>\n",
       "      <td>41.0</td>\n",
       "      <td>49600.0</td>\n",
       "      <td>1</td>\n",
       "      <td>0</td>\n",
       "    </tr>\n",
       "    <tr>\n",
       "      <th>1</th>\n",
       "      <td>0</td>\n",
       "      <td>46.0</td>\n",
       "      <td>38000.0</td>\n",
       "      <td>1</td>\n",
       "      <td>1</td>\n",
       "    </tr>\n",
       "    <tr>\n",
       "      <th>2</th>\n",
       "      <td>0</td>\n",
       "      <td>29.0</td>\n",
       "      <td>21000.0</td>\n",
       "      <td>0</td>\n",
       "      <td>0</td>\n",
       "    </tr>\n",
       "    <tr>\n",
       "      <th>3</th>\n",
       "      <td>0</td>\n",
       "      <td>21.0</td>\n",
       "      <td>41700.0</td>\n",
       "      <td>2</td>\n",
       "      <td>0</td>\n",
       "    </tr>\n",
       "    <tr>\n",
       "      <th>4</th>\n",
       "      <td>1</td>\n",
       "      <td>28.0</td>\n",
       "      <td>26100.0</td>\n",
       "      <td>0</td>\n",
       "      <td>0</td>\n",
       "    </tr>\n",
       "  </tbody>\n",
       "</table>\n",
       "</div>"
      ],
      "text/plain": [
       "   Пол  Возраст  Зарплата  Члены семьи  Страховые выплаты\n",
       "0    1     41.0   49600.0            1                  0\n",
       "1    0     46.0   38000.0            1                  1\n",
       "2    0     29.0   21000.0            0                  0\n",
       "3    0     21.0   41700.0            2                  0\n",
       "4    1     28.0   26100.0            0                  0"
      ]
     },
     "execution_count": 5,
     "metadata": {},
     "output_type": "execute_result"
    }
   ],
   "source": [
    "insurance.head()"
   ]
  },
  {
   "cell_type": "markdown",
   "metadata": {},
   "source": [
    "Выводы:\n",
    " - пропусков или ошибок в даннных нет\n",
    " - также нет проблем с типом данных\n",
    " - есть 5000 объектов и пять признаков, один из них целевой"
   ]
  },
  {
   "cell_type": "markdown",
   "metadata": {},
   "source": [
    "## Умножение матриц"
   ]
  },
  {
   "cell_type": "markdown",
   "metadata": {},
   "source": [
    "В этом задании вы можете записывать формулы в *Jupyter Notebook.*\n",
    "\n",
    "Чтобы записать формулу внутри текста, окружите её символами доллара \\\\$; если снаружи —  двойными символами \\\\$\\\\$. Эти формулы записываются на языке вёрстки *LaTeX.* \n",
    "\n",
    "Для примера мы записали формулы линейной регрессии. Можете их скопировать и отредактировать, чтобы решить задачу.\n",
    "\n",
    "Работать в *LaTeX* необязательно."
   ]
  },
  {
   "cell_type": "markdown",
   "metadata": {},
   "source": [
    "Обозначения:\n",
    "\n",
    "- $X$ — матрица признаков (нулевой столбец состоит из единиц)\n",
    "\n",
    "- $y$ — вектор целевого признака\n",
    "\n",
    "- $P$ — матрица, на которую умножаются признаки\n",
    "\n",
    "- $w$ — вектор весов линейной регрессии (нулевой элемент равен сдвигу)"
   ]
  },
  {
   "cell_type": "markdown",
   "metadata": {},
   "source": [
    "Предсказания:\n",
    "\n",
    "$$\n",
    "a = Xw\n",
    "$$\n",
    "\n",
    "Задача обучения:\n",
    "\n",
    "$$\n",
    "w = \\arg\\min_w MSE(Xw, y)\n",
    "$$\n",
    "\n",
    "Формула обучения:\n",
    "\n",
    "$$\n",
    "w = (X^T X)^{-1} X^T y\n",
    "$$"
   ]
  },
  {
   "cell_type": "markdown",
   "metadata": {},
   "source": [
    "**Вопрос:** Признаки умножают на обратимую матрицу. Изменится ли качество линейной регрессии? (Её можно обучить заново.)"
   ]
  },
  {
   "cell_type": "markdown",
   "metadata": {},
   "source": [
    "**Ответ:** Не изменится\n",
    "\n",
    "**Обоснование:** была матрица признаков $X$ размером $(n\\times m)$ ($n$ объектов и $m$ признаков). По условию ее умножают на обратимую матрицу, значит на матрицу размером $(m\\times m)$. Теперь модель будет обучаться на признаках $\\tilde X = X\\cdot P$ c той же размерностью $(n\\times m)$. Каждый элемент в новой матрице $\\tilde X$ будет линейной комбинацией элементов старой матрицы.\n",
    "\n",
    "Можно бояться ухудшения работы модели, если происходит потеря признаков (например, если целая строка в матрице  $P$ оказывается нулевой или если в ней есть линейно зависимые строки). Однако в таком случае $\\det(P)=0$ и матрица не будет обратимой.\n",
    "\n",
    "Новый вектор параметров регрессии связан со старым следующим соотношением:\n",
    "$$\n",
    "\\tilde w = (P^TX^TXP)^{-1}(X^TXw - X^Ty - P^TX^Ty)\n",
    "$$\n",
    "\n",
    "Получим выражение для нового вектора параметров\n",
    "\n",
    "$$\\tilde w = ((XP)^T XP)^{-1} (XP)^T y =  (P^TX^TXP)^{-1} P^T X^T y$$\n",
    "\n",
    "$$ \\tilde w  = P^{-1}(X^TX)^{-1}(P^T)^{-1}P^TX^Ty$$\n",
    "\n",
    "$$\\tilde w = P^{-1}(X^TX)^{-1}X^Ty$$\n",
    "\n",
    "$$\\tilde w = P^{-1} w $$"
   ]
  },
  {
   "attachments": {
    "image.png": {
     "image/png": "[encoded data removed]"
    }
   },
   "cell_type": "markdown",
   "metadata": {},
   "source": [
    "<div class=\"alert alert-danger\">\n",
    "<b>Комментарий ревьюера ❌:</b> Рассуждения верные:) но я не понял, откуда\n",
    "\n",
    "![image.png](attachment:image.png) \n",
    "    \n",
    "$\\tilde w = ((XP)^T XP)^{-1} (XP)^T y =  (P^TX^TXP)^{-1} P^T X^T y$\n",
    "    \n",
    "+  У нас есть ряд свойств:\n",
    "    $$\n",
    "(AB)^T=B^T A^T\n",
    "$$\n",
    "$$\n",
    "(AB)^{-1} = B^{-1} A^{-1}\n",
    "$$\n",
    "$$\n",
    "A A^{-1} = A^{-1} A = E\n",
    "$$\n",
    "$$\n",
    "AE = EA = A\n",
    "$$\n",
    "     \n",
    "+  Для начала раскроем $(XP)^T$, и получим $(P^T X^T X P)^{-1}$\n",
    "+  Потом можем воспользоваться свойством, что: $(ABC)^{-1} = C^{-1} B^{-1} A^{-1}$, где $A = P^T$, $B = X^T X$, $C = P$\n",
    "    \n",
    "    \n",
    "</div>\n",
    "\n"
   ]
  },
  {
   "cell_type": "markdown",
   "metadata": {},
   "source": [
    "\n",
    "<div class=\"alert alert-info\"> <b>Комментарий студента:</b> Это я неправильно поняла задание. Подумала, что нужно именно связь с парамтерами для исходной модели, поэтому выражала через $w$. Исправила - добавила получение выражения для $\\tilde w$</div>\n"
   ]
  },
  {
   "attachments": {
    "image.png": {
     "image/png": "[encoded data removed]"
    }
   },
   "cell_type": "markdown",
   "metadata": {},
   "source": [
    "<div class=\"alert alert-danger\">\n",
    "<b>Комментарий ревьюера V2❌:</b> \n",
    "$ (X^T)^{-1}$ и $ X^{-1} y $ - некорректно, так как для неквадратных матриц ($X$ и $X^T$) обратных матриц не существует.\n",
    "\n",
    "![image.png](attachment:image.png)\n",
    "    \n",
    "    \n",
    "Тут просто подставить $w = (X^T X)^{-1} X^T y$ и все:) \n",
    "</div>\n",
    "\n"
   ]
  },
  {
   "cell_type": "markdown",
   "metadata": {},
   "source": [
    "\n",
    "<div class=\"alert alert-info\"> <b>Комментарий студента V2:</b> Исправила:) "
   ]
  },
  {
   "cell_type": "markdown",
   "metadata": {},
   "source": [
    "<div class=\"alert alert-success\">\n",
    "<b>Комментарий ревьюера V3✔️:</b>Да, теперь все огонь:)\n",
    "</div>"
   ]
  },
  {
   "cell_type": "markdown",
   "metadata": {},
   "source": [
    "## Алгоритм преобразования"
   ]
  },
  {
   "cell_type": "markdown",
   "metadata": {},
   "source": [
    "**Алгоритм**\n",
    "\n",
    "Для преобразования данных клиентов достаточно умножить матрицу признаков на обратимую матрицу. "
   ]
  },
  {
   "cell_type": "code",
   "execution_count": 6,
   "metadata": {},
   "outputs": [],
   "source": [
    "# функция для преобразования данных\n",
    "\n",
    "def modification (X,P):\n",
    "    return X@P"
   ]
  },
  {
   "cell_type": "markdown",
   "metadata": {},
   "source": [
    "**Обоснование**\n",
    "\n",
    "Как было показано выше, домножение на обратимую матрицу не изменяет работу предсказывающей модели. Рассшифровать данные обратно можно будет домножением на обратную матрицу, но для этого надо знать саму матрицу-ключ."
   ]
  },
  {
   "cell_type": "markdown",
   "metadata": {},
   "source": [
    "## Проверка алгоритма"
   ]
  },
  {
   "cell_type": "code",
   "execution_count": 7,
   "metadata": {},
   "outputs": [],
   "source": [
    "y = insurance['Страховые выплаты']\n",
    "X = insurance.drop(columns = 'Страховые выплаты')"
   ]
  },
  {
   "cell_type": "code",
   "execution_count": 8,
   "metadata": {},
   "outputs": [],
   "source": [
    "#создание случайной матрицы-ключа для защиты данных\n",
    "\n",
    "while True:\n",
    "    \n",
    "    P = np.random.rand(X.shape[1],X.shape[1]) #матрица должна быть квадратной, соответсвующей количеству признаков\n",
    "    \n",
    "    if np.linalg.det(P) == 0: #проверяем чтобы случайно не получилось (необратимой) матрицы с нулевым определителем\n",
    "        continue\n",
    "    else:\n",
    "        break\n"
   ]
  },
  {
   "cell_type": "markdown",
   "metadata": {},
   "source": [
    "<div class=\"alert alert-success\">\n",
    "<b>Комментарий ревьюера ✔️:</b>Да, верно проверяешь на обратимость:)\n",
    "</div>"
   ]
  },
  {
   "cell_type": "code",
   "execution_count": 9,
   "metadata": {},
   "outputs": [],
   "source": [
    "X_new = modification(X,P) # новая матрица признаков "
   ]
  },
  {
   "cell_type": "code",
   "execution_count": 10,
   "metadata": {},
   "outputs": [],
   "source": [
    "X_new_train, X_new_test, y_train, y_test = train_test_split(X_new, y, test_size=0.2, random_state=1)"
   ]
  },
  {
   "cell_type": "code",
   "execution_count": 11,
   "metadata": {},
   "outputs": [
    {
     "data": {
      "text/plain": [
       "0.3624972935290748"
      ]
     },
     "execution_count": 11,
     "metadata": {},
     "output_type": "execute_result"
    }
   ],
   "source": [
    "model = LinearRegression(normalize = True)\n",
    "model.fit(X_new_train,y_train)\n",
    "y_pred = model.predict(X_new_test)\n",
    "r2_score(y_test, y_pred)\n"
   ]
  },
  {
   "cell_type": "markdown",
   "metadata": {},
   "source": [
    "Проверим, что метрика модели остается одинаковой для преобразованных и исходных признаков"
   ]
  },
  {
   "cell_type": "code",
   "execution_count": 12,
   "metadata": {},
   "outputs": [
    {
     "data": {
      "text/plain": [
       "0.36249729353277294"
      ]
     },
     "execution_count": 12,
     "metadata": {},
     "output_type": "execute_result"
    }
   ],
   "source": [
    "X_train, X_test, y_train, y_test = train_test_split(X, y, test_size=0.2, random_state=1)\n",
    "y_pred = model.fit(X_train,y_train).predict(X_test) #обучение и тест модели на исходных признаках\n",
    "r2_score(y_test, y_pred)"
   ]
  },
  {
   "cell_type": "markdown",
   "metadata": {},
   "source": [
    "<div class=\"alert alert-success\">\n",
    "<b>Комментарий ревьюера ✔️:</b>Супер! Хорошо:)\n",
    "\n",
    "\n",
    "Оставлю немного полезного материала:\n",
    "\n",
    "+  https://ml-handbook.ru/chapters/linear_models/intro\n",
    "+  https://habr.com/ru/post/595281/\n",
    "</div>"
   ]
  },
  {
   "cell_type": "markdown",
   "metadata": {},
   "source": [
    "**Выводы:**\n",
    "\n",
    " - умножение на обратимую матрицу не меняет качества модели\n",
    " - умножение на обратимую матрицу можно использовать для шифрования данных\n",
    " - расшифровать данные можно с помощью матрицы-ключа\n",
    " - в проверке алгоритма R_2 изменился только в пределах вычислительной погрешности"
   ]
  },
  {
   "cell_type": "markdown",
   "metadata": {},
   "source": [
    "## Чек-лист проверки"
   ]
  },
  {
   "cell_type": "markdown",
   "metadata": {},
   "source": [
    "Поставьте 'x' в выполненных пунктах. Далее нажмите Shift+Enter."
   ]
  },
  {
   "cell_type": "markdown",
   "metadata": {},
   "source": [
    "- [x]  Jupyter Notebook открыт\n",
    "- [x]  Весь код выполняется без ошибок\n",
    "- [x]  Ячейки с кодом расположены в порядке исполнения\n",
    "- [x]  Выполнен шаг 1: данные загружены\n",
    "- [x]  Выполнен шаг 2: получен ответ на вопрос об умножении матриц\n",
    "    - [x]  Указан правильный вариант ответа\n",
    "    - [x]  Вариант обоснован\n",
    "- [x]  Выполнен шаг 3: предложен алгоритм преобразования\n",
    "    - [x]  Алгоритм описан\n",
    "    - [x]  Алгоритм обоснован\n",
    "- [x]  Выполнен шаг 4: алгоритм проверен\n",
    "    - [x]  Алгоритм реализован\n",
    "    - [x]  Проведено сравнение качества моделей до и после преобразования"
   ]
  },
  {
   "cell_type": "markdown",
   "metadata": {},
   "source": [
    "<font color='blue'><b>Итоговый комментарий ревьюера</b></font>\n",
    "<div class=\"alert alert-success\">\n",
    "<b>Комментарий ревьюера ✔️:</b>Наталья, получился хороший проект! \n",
    "    \n",
    "Если есть  если есть какие либо вопросы я с удовольствием на них отвечу:) <br> Исправь, пожалуйста, замечания и жду проект на следующую проверку:) </div>\n"
   ]
  },
  {
   "attachments": {
    "image.png": {
     "image/png": "[encoded data removed]"
    }
   },
   "cell_type": "markdown",
   "metadata": {},
   "source": [
    "<div class=\"alert alert-success\">\n",
    "<b>Комментарий ревьюера V3✔️:</b>Удачи в следующих проектах!!!\n",
    "    \n",
    "    \n",
    "![image.png](attachment:image.png)\n",
    "</div>"
   ]
  }
 ],
 "metadata": {
  "ExecuteTimeLog": [
   {
    "duration": 372,
    "start_time": "2022-08-14T14:46:50.633Z"
   },
   {
    "duration": 3,
    "start_time": "2022-08-14T14:46:59.120Z"
   },
   {
    "duration": 104,
    "start_time": "2022-08-14T14:47:19.333Z"
   },
   {
    "duration": 62,
    "start_time": "2022-08-14T14:47:32.915Z"
   },
   {
    "duration": 24,
    "start_time": "2022-08-14T14:47:37.121Z"
   },
   {
    "duration": 10,
    "start_time": "2022-08-14T14:48:52.017Z"
   },
   {
    "duration": 9,
    "start_time": "2022-08-14T14:50:33.113Z"
   },
   {
    "duration": 118,
    "start_time": "2022-08-14T14:59:09.524Z"
   },
   {
    "duration": 692,
    "start_time": "2022-08-14T17:29:35.219Z"
   },
   {
    "duration": 3,
    "start_time": "2022-08-14T17:30:04.397Z"
   },
   {
    "duration": 4,
    "start_time": "2022-08-14T17:32:12.595Z"
   },
   {
    "duration": 12,
    "start_time": "2022-08-14T17:32:19.517Z"
   },
   {
    "duration": 41,
    "start_time": "2022-08-14T17:34:59.066Z"
   },
   {
    "duration": 3,
    "start_time": "2022-08-14T17:35:14.727Z"
   },
   {
    "duration": 15,
    "start_time": "2022-08-14T17:35:17.235Z"
   },
   {
    "duration": 5,
    "start_time": "2022-08-14T17:35:31.187Z"
   },
   {
    "duration": 13,
    "start_time": "2022-08-14T17:35:42.055Z"
   },
   {
    "duration": 5,
    "start_time": "2022-08-14T17:35:53.493Z"
   },
   {
    "duration": 8,
    "start_time": "2022-08-14T17:36:23.944Z"
   },
   {
    "duration": 8,
    "start_time": "2022-08-14T17:36:41.796Z"
   },
   {
    "duration": 6,
    "start_time": "2022-08-14T17:37:08.397Z"
   },
   {
    "duration": 9,
    "start_time": "2022-08-14T17:37:09.222Z"
   },
   {
    "duration": 8,
    "start_time": "2022-08-14T17:37:13.115Z"
   },
   {
    "duration": 15,
    "start_time": "2022-08-14T17:37:24.418Z"
   },
   {
    "duration": 57,
    "start_time": "2022-08-14T17:37:31.842Z"
   },
   {
    "duration": 9,
    "start_time": "2022-08-14T17:37:36.575Z"
   },
   {
    "duration": 9,
    "start_time": "2022-08-14T17:37:56.596Z"
   },
   {
    "duration": 12,
    "start_time": "2022-08-14T17:37:59.575Z"
   },
   {
    "duration": 10,
    "start_time": "2022-08-14T17:38:17.306Z"
   },
   {
    "duration": 3,
    "start_time": "2022-08-14T17:38:59.196Z"
   },
   {
    "duration": 3,
    "start_time": "2022-08-14T17:39:34.833Z"
   },
   {
    "duration": 3,
    "start_time": "2022-08-14T17:40:24.165Z"
   },
   {
    "duration": 3,
    "start_time": "2022-08-14T17:40:41.736Z"
   },
   {
    "duration": 4,
    "start_time": "2022-08-14T17:40:43.375Z"
   },
   {
    "duration": 3,
    "start_time": "2022-08-14T17:40:43.588Z"
   },
   {
    "duration": 5,
    "start_time": "2022-08-14T17:40:43.980Z"
   },
   {
    "duration": 5,
    "start_time": "2022-08-14T17:40:44.841Z"
   },
   {
    "duration": 9,
    "start_time": "2022-08-14T17:40:45.351Z"
   },
   {
    "duration": 3,
    "start_time": "2022-08-14T17:41:39.315Z"
   },
   {
    "duration": 3,
    "start_time": "2022-08-14T17:41:40.067Z"
   },
   {
    "duration": 6,
    "start_time": "2022-08-14T17:41:40.415Z"
   },
   {
    "duration": 12,
    "start_time": "2022-08-14T17:41:40.805Z"
   },
   {
    "duration": 3,
    "start_time": "2022-08-14T17:42:19.871Z"
   },
   {
    "duration": 8,
    "start_time": "2022-08-14T17:43:09.715Z"
   },
   {
    "duration": 60,
    "start_time": "2022-08-14T17:43:14.255Z"
   },
   {
    "duration": 5,
    "start_time": "2022-08-14T17:43:21.396Z"
   },
   {
    "duration": 3,
    "start_time": "2022-08-14T17:43:21.695Z"
   },
   {
    "duration": 3,
    "start_time": "2022-08-14T17:43:21.996Z"
   },
   {
    "duration": 5,
    "start_time": "2022-08-14T17:43:30.028Z"
   },
   {
    "duration": 4,
    "start_time": "2022-08-14T17:43:54.595Z"
   },
   {
    "duration": 4,
    "start_time": "2022-08-14T17:44:00.816Z"
   },
   {
    "duration": 3,
    "start_time": "2022-08-14T17:48:47.239Z"
   },
   {
    "duration": 6,
    "start_time": "2022-08-14T17:48:47.895Z"
   },
   {
    "duration": 5,
    "start_time": "2022-08-14T17:48:53.015Z"
   },
   {
    "duration": 3,
    "start_time": "2022-08-14T17:48:53.335Z"
   },
   {
    "duration": 4,
    "start_time": "2022-08-14T17:48:53.710Z"
   },
   {
    "duration": 6,
    "start_time": "2022-08-14T17:48:54.096Z"
   },
   {
    "duration": 5,
    "start_time": "2022-08-14T17:48:57.495Z"
   },
   {
    "duration": 7,
    "start_time": "2022-08-14T17:49:00.195Z"
   },
   {
    "duration": 6,
    "start_time": "2022-08-14T17:49:03.870Z"
   },
   {
    "duration": 5,
    "start_time": "2022-08-14T17:49:05.196Z"
   },
   {
    "duration": 3,
    "start_time": "2022-08-14T17:52:14.935Z"
   },
   {
    "duration": 4,
    "start_time": "2022-08-14T17:52:16.195Z"
   },
   {
    "duration": 3,
    "start_time": "2022-08-14T17:52:16.515Z"
   },
   {
    "duration": 3,
    "start_time": "2022-08-14T17:52:17.035Z"
   },
   {
    "duration": 5,
    "start_time": "2022-08-14T17:52:17.674Z"
   },
   {
    "duration": 5,
    "start_time": "2022-08-14T17:52:18.726Z"
   },
   {
    "duration": 3,
    "start_time": "2022-08-14T17:52:52.116Z"
   },
   {
    "duration": 3,
    "start_time": "2022-08-14T17:53:04.255Z"
   },
   {
    "duration": 3,
    "start_time": "2022-08-14T17:53:06.544Z"
   },
   {
    "duration": 3,
    "start_time": "2022-08-14T17:53:06.877Z"
   },
   {
    "duration": 70,
    "start_time": "2022-08-14T17:53:07.335Z"
   },
   {
    "duration": 3,
    "start_time": "2022-08-14T17:53:25.597Z"
   },
   {
    "duration": 4,
    "start_time": "2022-08-14T17:53:26.395Z"
   },
   {
    "duration": 2,
    "start_time": "2022-08-14T17:53:26.724Z"
   },
   {
    "duration": 58,
    "start_time": "2022-08-14T17:53:27.275Z"
   },
   {
    "duration": 3,
    "start_time": "2022-08-14T18:03:51.669Z"
   },
   {
    "duration": 5,
    "start_time": "2022-08-14T18:03:52.269Z"
   },
   {
    "duration": 3,
    "start_time": "2022-08-14T18:03:52.509Z"
   },
   {
    "duration": 4,
    "start_time": "2022-08-14T18:03:53.009Z"
   },
   {
    "duration": 12,
    "start_time": "2022-08-14T18:04:02.070Z"
   },
   {
    "duration": 9,
    "start_time": "2022-08-14T18:04:12.416Z"
   },
   {
    "duration": 14,
    "start_time": "2022-08-14T18:04:18.986Z"
   },
   {
    "duration": 12,
    "start_time": "2022-08-14T18:04:41.769Z"
   },
   {
    "duration": 46,
    "start_time": "2022-08-18T04:59:14.366Z"
   },
   {
    "duration": 1108,
    "start_time": "2022-08-18T04:59:18.376Z"
   },
   {
    "duration": 80,
    "start_time": "2022-08-18T04:59:19.485Z"
   },
   {
    "duration": 14,
    "start_time": "2022-08-18T04:59:19.566Z"
   },
   {
    "duration": 17,
    "start_time": "2022-08-18T04:59:19.582Z"
   },
   {
    "duration": 3,
    "start_time": "2022-08-18T04:59:19.601Z"
   },
   {
    "duration": 8,
    "start_time": "2022-08-18T04:59:19.606Z"
   },
   {
    "duration": 7,
    "start_time": "2022-08-18T04:59:19.615Z"
   },
   {
    "duration": 6,
    "start_time": "2022-08-18T04:59:19.623Z"
   },
   {
    "duration": 16,
    "start_time": "2022-08-18T04:59:19.630Z"
   },
   {
    "duration": 10,
    "start_time": "2022-08-18T04:59:19.648Z"
   },
   {
    "duration": 12,
    "start_time": "2022-08-18T04:59:19.659Z"
   },
   {
    "duration": 3,
    "start_time": "2022-08-18T05:00:27.246Z"
   },
   {
    "duration": 41,
    "start_time": "2022-08-18T05:00:27.252Z"
   },
   {
    "duration": 14,
    "start_time": "2022-08-18T05:00:27.295Z"
   },
   {
    "duration": 19,
    "start_time": "2022-08-18T05:00:27.311Z"
   },
   {
    "duration": 21,
    "start_time": "2022-08-18T05:00:27.332Z"
   },
   {
    "duration": 19,
    "start_time": "2022-08-18T05:00:27.355Z"
   },
   {
    "duration": 16,
    "start_time": "2022-08-18T05:00:27.375Z"
   },
   {
    "duration": 23,
    "start_time": "2022-08-18T05:00:27.393Z"
   },
   {
    "duration": 29,
    "start_time": "2022-08-18T05:00:27.418Z"
   },
   {
    "duration": 11,
    "start_time": "2022-08-18T05:00:27.449Z"
   },
   {
    "duration": 14,
    "start_time": "2022-08-18T05:00:27.461Z"
   },
   {
    "duration": 3,
    "start_time": "2022-08-18T05:01:03.722Z"
   },
   {
    "duration": 39,
    "start_time": "2022-08-18T05:01:03.726Z"
   },
   {
    "duration": 11,
    "start_time": "2022-08-18T05:01:03.766Z"
   },
   {
    "duration": 12,
    "start_time": "2022-08-18T05:01:03.779Z"
   },
   {
    "duration": 6,
    "start_time": "2022-08-18T05:01:03.792Z"
   },
   {
    "duration": 9,
    "start_time": "2022-08-18T05:01:03.800Z"
   },
   {
    "duration": 8,
    "start_time": "2022-08-18T05:01:03.811Z"
   },
   {
    "duration": 5,
    "start_time": "2022-08-18T05:01:03.820Z"
   },
   {
    "duration": 63,
    "start_time": "2022-08-18T05:01:03.827Z"
   },
   {
    "duration": 0,
    "start_time": "2022-08-18T05:01:03.891Z"
   },
   {
    "duration": 0,
    "start_time": "2022-08-18T05:01:03.892Z"
   },
   {
    "duration": 10,
    "start_time": "2022-08-18T05:01:22.213Z"
   },
   {
    "duration": 6,
    "start_time": "2022-08-18T05:01:22.834Z"
   },
   {
    "duration": 9,
    "start_time": "2022-08-18T05:01:23.435Z"
   },
   {
    "duration": 8,
    "start_time": "2022-08-18T05:02:03.326Z"
   },
   {
    "duration": 9,
    "start_time": "2022-08-18T05:02:08.297Z"
   },
   {
    "duration": 3,
    "start_time": "2022-08-18T05:03:15.059Z"
   },
   {
    "duration": 37,
    "start_time": "2022-08-18T05:03:15.064Z"
   },
   {
    "duration": 11,
    "start_time": "2022-08-18T05:03:15.103Z"
   },
   {
    "duration": 13,
    "start_time": "2022-08-18T05:03:15.115Z"
   },
   {
    "duration": 4,
    "start_time": "2022-08-18T05:03:15.130Z"
   },
   {
    "duration": 7,
    "start_time": "2022-08-18T05:03:15.135Z"
   },
   {
    "duration": 9,
    "start_time": "2022-08-18T05:03:15.143Z"
   },
   {
    "duration": 6,
    "start_time": "2022-08-18T05:03:15.153Z"
   },
   {
    "duration": 12,
    "start_time": "2022-08-18T05:03:15.160Z"
   },
   {
    "duration": 16,
    "start_time": "2022-08-18T05:03:15.174Z"
   },
   {
    "duration": 14,
    "start_time": "2022-08-18T05:03:15.192Z"
   },
   {
    "duration": 13,
    "start_time": "2022-08-18T05:03:15.208Z"
   },
   {
    "duration": 127,
    "start_time": "2022-08-18T05:12:47.290Z"
   },
   {
    "duration": 9,
    "start_time": "2022-08-18T05:13:08.043Z"
   },
   {
    "duration": 4,
    "start_time": "2022-08-18T05:13:18.239Z"
   },
   {
    "duration": 6,
    "start_time": "2022-08-18T05:13:19.509Z"
   },
   {
    "duration": 3,
    "start_time": "2022-08-18T05:13:23.579Z"
   },
   {
    "duration": 4,
    "start_time": "2022-08-18T05:13:24.049Z"
   },
   {
    "duration": 4,
    "start_time": "2022-08-18T05:13:26.257Z"
   },
   {
    "duration": 5,
    "start_time": "2022-08-18T05:13:26.479Z"
   },
   {
    "duration": 4,
    "start_time": "2022-08-18T05:13:28.078Z"
   },
   {
    "duration": 5,
    "start_time": "2022-08-18T05:13:28.328Z"
   },
   {
    "duration": 3,
    "start_time": "2022-08-18T05:13:30.117Z"
   },
   {
    "duration": 4,
    "start_time": "2022-08-18T05:13:30.379Z"
   },
   {
    "duration": 4,
    "start_time": "2022-08-18T05:13:32.180Z"
   },
   {
    "duration": 4,
    "start_time": "2022-08-18T05:13:32.439Z"
   },
   {
    "duration": 3,
    "start_time": "2022-08-18T05:13:34.359Z"
   },
   {
    "duration": 5,
    "start_time": "2022-08-18T05:13:34.760Z"
   },
   {
    "duration": 5,
    "start_time": "2022-08-18T05:15:28.503Z"
   },
   {
    "duration": 11,
    "start_time": "2022-08-18T05:16:06.059Z"
   },
   {
    "duration": 6,
    "start_time": "2022-08-18T05:16:14.159Z"
   },
   {
    "duration": 5,
    "start_time": "2022-08-18T05:16:30.527Z"
   },
   {
    "duration": 5,
    "start_time": "2022-08-18T05:19:18.847Z"
   },
   {
    "duration": 2,
    "start_time": "2022-08-18T05:29:13.960Z"
   },
   {
    "duration": 3,
    "start_time": "2022-08-18T05:30:33.610Z"
   },
   {
    "duration": 4,
    "start_time": "2022-08-18T05:31:53.248Z"
   },
   {
    "duration": 5,
    "start_time": "2022-08-18T05:31:57.049Z"
   },
   {
    "duration": 5,
    "start_time": "2022-08-18T05:32:00.379Z"
   },
   {
    "duration": 6,
    "start_time": "2022-08-18T05:32:02.465Z"
   },
   {
    "duration": 5,
    "start_time": "2022-08-18T05:33:46.587Z"
   },
   {
    "duration": 10,
    "start_time": "2022-08-18T05:35:14.178Z"
   },
   {
    "duration": 3,
    "start_time": "2022-08-18T05:37:26.441Z"
   },
   {
    "duration": 48,
    "start_time": "2022-08-18T05:37:26.447Z"
   },
   {
    "duration": 9,
    "start_time": "2022-08-18T05:37:26.497Z"
   },
   {
    "duration": 13,
    "start_time": "2022-08-18T05:37:26.507Z"
   },
   {
    "duration": 4,
    "start_time": "2022-08-18T05:37:26.522Z"
   },
   {
    "duration": 6,
    "start_time": "2022-08-18T05:37:26.527Z"
   },
   {
    "duration": 5,
    "start_time": "2022-08-18T05:37:26.535Z"
   },
   {
    "duration": 8,
    "start_time": "2022-08-18T05:37:26.541Z"
   },
   {
    "duration": 8,
    "start_time": "2022-08-18T05:37:26.550Z"
   },
   {
    "duration": 16,
    "start_time": "2022-08-18T05:37:26.560Z"
   },
   {
    "duration": 11,
    "start_time": "2022-08-18T05:37:26.588Z"
   },
   {
    "duration": 3,
    "start_time": "2022-08-18T05:38:22.939Z"
   },
   {
    "duration": 30,
    "start_time": "2022-08-18T05:38:22.947Z"
   },
   {
    "duration": 13,
    "start_time": "2022-08-18T05:38:22.979Z"
   },
   {
    "duration": 10,
    "start_time": "2022-08-18T05:38:22.993Z"
   },
   {
    "duration": 4,
    "start_time": "2022-08-18T05:38:23.004Z"
   },
   {
    "duration": 5,
    "start_time": "2022-08-18T05:38:23.010Z"
   },
   {
    "duration": 5,
    "start_time": "2022-08-18T05:38:23.016Z"
   },
   {
    "duration": 5,
    "start_time": "2022-08-18T05:38:23.023Z"
   },
   {
    "duration": 7,
    "start_time": "2022-08-18T05:38:23.030Z"
   },
   {
    "duration": 10,
    "start_time": "2022-08-18T05:38:23.038Z"
   },
   {
    "duration": 41,
    "start_time": "2022-08-18T05:38:23.049Z"
   },
   {
    "duration": 3,
    "start_time": "2022-08-18T05:46:08.416Z"
   },
   {
    "duration": 5,
    "start_time": "2022-08-18T05:47:10.912Z"
   },
   {
    "duration": 10,
    "start_time": "2022-08-18T05:47:11.730Z"
   },
   {
    "duration": 10,
    "start_time": "2022-08-18T05:47:13.092Z"
   },
   {
    "duration": 2086,
    "start_time": "2022-08-18T10:26:33.417Z"
   },
   {
    "duration": 86,
    "start_time": "2022-08-18T10:26:35.505Z"
   },
   {
    "duration": 10,
    "start_time": "2022-08-18T10:26:35.592Z"
   },
   {
    "duration": 23,
    "start_time": "2022-08-18T10:26:35.604Z"
   },
   {
    "duration": 6,
    "start_time": "2022-08-18T10:26:35.628Z"
   },
   {
    "duration": 6,
    "start_time": "2022-08-18T10:26:35.635Z"
   },
   {
    "duration": 5,
    "start_time": "2022-08-18T10:26:35.643Z"
   },
   {
    "duration": 10,
    "start_time": "2022-08-18T10:26:35.650Z"
   },
   {
    "duration": 6,
    "start_time": "2022-08-18T10:26:35.661Z"
   },
   {
    "duration": 11,
    "start_time": "2022-08-18T10:26:35.669Z"
   },
   {
    "duration": 15,
    "start_time": "2022-08-18T10:26:35.681Z"
   },
   {
    "duration": 13,
    "start_time": "2022-08-18T10:26:42.591Z"
   },
   {
    "duration": 1160,
    "start_time": "2022-08-21T03:23:47.546Z"
   },
   {
    "duration": 98,
    "start_time": "2022-08-21T03:23:48.713Z"
   },
   {
    "duration": 15,
    "start_time": "2022-08-21T03:23:48.812Z"
   },
   {
    "duration": 15,
    "start_time": "2022-08-21T03:23:48.829Z"
   },
   {
    "duration": 5,
    "start_time": "2022-08-21T03:23:48.847Z"
   },
   {
    "duration": 12,
    "start_time": "2022-08-21T03:23:48.854Z"
   },
   {
    "duration": 7,
    "start_time": "2022-08-21T03:23:48.868Z"
   },
   {
    "duration": 9,
    "start_time": "2022-08-21T03:23:48.876Z"
   },
   {
    "duration": 6,
    "start_time": "2022-08-21T03:23:48.886Z"
   },
   {
    "duration": 13,
    "start_time": "2022-08-21T03:23:48.899Z"
   },
   {
    "duration": 22,
    "start_time": "2022-08-21T03:23:48.913Z"
   },
   {
    "duration": 57,
    "start_time": "2022-08-24T13:42:01.200Z"
   },
   {
    "duration": 989,
    "start_time": "2022-08-24T13:42:07.365Z"
   },
   {
    "duration": 87,
    "start_time": "2022-08-24T13:42:08.356Z"
   },
   {
    "duration": 10,
    "start_time": "2022-08-24T13:42:08.445Z"
   },
   {
    "duration": 17,
    "start_time": "2022-08-24T13:42:08.456Z"
   },
   {
    "duration": 19,
    "start_time": "2022-08-24T13:42:08.474Z"
   },
   {
    "duration": 13,
    "start_time": "2022-08-24T13:42:08.494Z"
   },
   {
    "duration": 23,
    "start_time": "2022-08-24T13:42:08.508Z"
   },
   {
    "duration": 19,
    "start_time": "2022-08-24T13:42:08.533Z"
   },
   {
    "duration": 22,
    "start_time": "2022-08-24T13:42:08.553Z"
   },
   {
    "duration": 18,
    "start_time": "2022-08-24T13:42:08.577Z"
   },
   {
    "duration": 26,
    "start_time": "2022-08-24T13:42:08.596Z"
   }
  ],
  "kernelspec": {
   "display_name": "Python 3 (ipykernel)",
   "language": "python",
   "name": "python3"
  },
  "language_info": {
   "codemirror_mode": {
    "name": "ipython",
    "version": 3
   },
   "file_extension": ".py",
   "mimetype": "text/x-python",
   "name": "python",
   "nbconvert_exporter": "python",
   "pygments_lexer": "ipython3",
   "version": "3.9.5"
  },
  "toc": {
   "base_numbering": 1,
   "nav_menu": {},
   "number_sections": true,
   "sideBar": true,
   "skip_h1_title": true,
   "title_cell": "Содержание",
   "title_sidebar": "Contents",
   "toc_cell": true,
   "toc_position": {},
   "toc_section_display": true,
   "toc_window_display": true
  }
 },
 "nbformat": 4,
 "nbformat_minor": 2
}
