{
 "cells": [
  {
   "cell_type": "markdown",
   "metadata": {},
   "source": [
    "# Классификация клиентов телеком компании. Рекомендация тарифов"
   ]
  },
  {
   "cell_type": "markdown",
   "metadata": {},
   "source": [
    "В нашем распоряжении данные о поведении клиентов телеком компании. Нужно построить модель для задачи классификации, которая будет предлагать пользователю перейти на более подходящий тариф. В проекте telecom-best-tariff уже проведена предобработка данных"
   ]
  },
  {
   "cell_type": "markdown",
   "metadata": {},
   "source": [
    "## Изучение датасета"
   ]
  },
  {
   "cell_type": "code",
   "execution_count": 42,
   "metadata": {},
   "outputs": [],
   "source": [
    "import pandas as pd\n",
    "from sklearn.tree import DecisionTreeClassifier\n",
    "from sklearn.ensemble import RandomForestClassifier\n",
    "from sklearn.linear_model import LogisticRegression \n",
    "from sklearn.model_selection import train_test_split\n",
    "from sklearn.metrics import accuracy_score\n",
    "from sklearn.dummy import DummyClassifier\n",
    "import numpy"
   ]
  },
  {
   "cell_type": "code",
   "execution_count": 43,
   "metadata": {},
   "outputs": [],
   "source": [
    "data = pd.read_csv('/datasets/users_behavior.csv')"
   ]
  },
  {
   "cell_type": "code",
   "execution_count": 44,
   "metadata": {},
   "outputs": [
    {
     "name": "stdout",
     "output_type": "stream",
     "text": [
      "<class 'pandas.core.frame.DataFrame'>\n",
      "RangeIndex: 3214 entries, 0 to 3213\n",
      "Data columns (total 5 columns):\n",
      " #   Column    Non-Null Count  Dtype  \n",
      "---  ------    --------------  -----  \n",
      " 0   calls     3214 non-null   float64\n",
      " 1   minutes   3214 non-null   float64\n",
      " 2   messages  3214 non-null   float64\n",
      " 3   mb_used   3214 non-null   float64\n",
      " 4   is_ultra  3214 non-null   int64  \n",
      "dtypes: float64(4), int64(1)\n",
      "memory usage: 125.7 KB\n"
     ]
    }
   ],
   "source": [
    "data.info()"
   ]
  },
  {
   "cell_type": "code",
   "execution_count": 45,
   "metadata": {},
   "outputs": [
    {
     "data": {
      "text/html": [
       "<div>\n",
       "<style scoped>\n",
       "    .dataframe tbody tr th:only-of-type {\n",
       "        vertical-align: middle;\n",
       "    }\n",
       "\n",
       "    .dataframe tbody tr th {\n",
       "        vertical-align: top;\n",
       "    }\n",
       "\n",
       "    .dataframe thead th {\n",
       "        text-align: right;\n",
       "    }\n",
       "</style>\n",
       "<table border=\"1\" class=\"dataframe\">\n",
       "  <thead>\n",
       "    <tr style=\"text-align: right;\">\n",
       "      <th></th>\n",
       "      <th>calls</th>\n",
       "      <th>minutes</th>\n",
       "      <th>messages</th>\n",
       "      <th>mb_used</th>\n",
       "      <th>is_ultra</th>\n",
       "    </tr>\n",
       "  </thead>\n",
       "  <tbody>\n",
       "    <tr>\n",
       "      <th>0</th>\n",
       "      <td>40.0</td>\n",
       "      <td>311.90</td>\n",
       "      <td>83.0</td>\n",
       "      <td>19915.42</td>\n",
       "      <td>0</td>\n",
       "    </tr>\n",
       "    <tr>\n",
       "      <th>1</th>\n",
       "      <td>85.0</td>\n",
       "      <td>516.75</td>\n",
       "      <td>56.0</td>\n",
       "      <td>22696.96</td>\n",
       "      <td>0</td>\n",
       "    </tr>\n",
       "    <tr>\n",
       "      <th>2</th>\n",
       "      <td>77.0</td>\n",
       "      <td>467.66</td>\n",
       "      <td>86.0</td>\n",
       "      <td>21060.45</td>\n",
       "      <td>0</td>\n",
       "    </tr>\n",
       "    <tr>\n",
       "      <th>3</th>\n",
       "      <td>106.0</td>\n",
       "      <td>745.53</td>\n",
       "      <td>81.0</td>\n",
       "      <td>8437.39</td>\n",
       "      <td>1</td>\n",
       "    </tr>\n",
       "    <tr>\n",
       "      <th>4</th>\n",
       "      <td>66.0</td>\n",
       "      <td>418.74</td>\n",
       "      <td>1.0</td>\n",
       "      <td>14502.75</td>\n",
       "      <td>0</td>\n",
       "    </tr>\n",
       "  </tbody>\n",
       "</table>\n",
       "</div>"
      ],
      "text/plain": [
       "   calls  minutes  messages   mb_used  is_ultra\n",
       "0   40.0   311.90      83.0  19915.42         0\n",
       "1   85.0   516.75      56.0  22696.96         0\n",
       "2   77.0   467.66      86.0  21060.45         0\n",
       "3  106.0   745.53      81.0   8437.39         1\n",
       "4   66.0   418.74       1.0  14502.75         0"
      ]
     },
     "execution_count": 45,
     "metadata": {},
     "output_type": "execute_result"
    }
   ],
   "source": [
    "data.head()"
   ]
  },
  {
   "cell_type": "markdown",
   "metadata": {},
   "source": [
    "## Формирование выборок"
   ]
  },
  {
   "cell_type": "code",
   "execution_count": 46,
   "metadata": {},
   "outputs": [],
   "source": [
    "features = data.drop(['is_ultra'], axis=1)\n",
    "target = data.is_ultra"
   ]
  },
  {
   "cell_type": "markdown",
   "metadata": {},
   "source": [
    "Разобьем данные на три выборки: обучающая-валидационная-тестовая в соотношении 60-20-20"
   ]
  },
  {
   "cell_type": "code",
   "execution_count": 47,
   "metadata": {},
   "outputs": [],
   "source": [
    "features_train, features_valid,  target_train, target_valid = train_test_split(\n",
    "    features, target, test_size=0.4, random_state=12345)\n",
    "\n",
    "features_valid, features_test,  target_valid, target_test = train_test_split(\n",
    "    features_valid, target_valid, test_size=0.5, random_state=12345)"
   ]
  },
  {
   "cell_type": "markdown",
   "metadata": {},
   "source": [
    "Проверка, что доля выборок правильная"
   ]
  },
  {
   "cell_type": "code",
   "execution_count": 48,
   "metadata": {
    "scrolled": true
   },
   "outputs": [
    {
     "data": {
      "text/plain": [
       "0.5998755444928439"
      ]
     },
     "metadata": {},
     "output_type": "display_data"
    },
    {
     "data": {
      "text/plain": [
       "0.2000622277535781"
      ]
     },
     "metadata": {},
     "output_type": "display_data"
    },
    {
     "data": {
      "text/plain": [
       "0.2000622277535781"
      ]
     },
     "metadata": {},
     "output_type": "display_data"
    }
   ],
   "source": [
    "display(features_train.shape[0]/data.shape[0])\n",
    "display(features_valid.shape[0]/data.shape[0])\n",
    "display(features_test.shape[0]/data.shape[0])"
   ]
  },
  {
   "cell_type": "markdown",
   "metadata": {},
   "source": [
    "## Исследование модели"
   ]
  },
  {
   "cell_type": "code",
   "execution_count": 49,
   "metadata": {},
   "outputs": [],
   "source": [
    "#таблица для записи полученной точности, чтобы можно было посмотреть как она меняется\n",
    "tree_accuracy_results = pd.DataFrame(columns=['depth', 'accuracy']) \n",
    "\n",
    "best_tree_model = None\n",
    "best_result = 0\n",
    "\n",
    "for depth in range(1, 16):\n",
    "    model = DecisionTreeClassifier(random_state=12345, max_depth=depth) \n",
    "    model.fit(features_train, target_train) \n",
    "    predictions = model.predict(features_valid) \n",
    "    result = accuracy_score(target_valid, predictions)\n",
    "    tree_accuracy_results = tree_accuracy_results.append({'depth':depth,'accuracy':result}, ignore_index=True)\n",
    "    if result > best_result:\n",
    "        best_tree_model = model \n",
    "        best_result = result\n",
    "     "
   ]
  },
  {
   "cell_type": "markdown",
   "metadata": {},
   "source": [
    "Лучшая модель выбрана, но для интереса посмотрим как менялась точность"
   ]
  },
  {
   "cell_type": "code",
   "execution_count": 50,
   "metadata": {},
   "outputs": [
    {
     "data": {
      "text/html": [
       "<div>\n",
       "<style scoped>\n",
       "    .dataframe tbody tr th:only-of-type {\n",
       "        vertical-align: middle;\n",
       "    }\n",
       "\n",
       "    .dataframe tbody tr th {\n",
       "        vertical-align: top;\n",
       "    }\n",
       "\n",
       "    .dataframe thead th {\n",
       "        text-align: right;\n",
       "    }\n",
       "</style>\n",
       "<table border=\"1\" class=\"dataframe\">\n",
       "  <thead>\n",
       "    <tr style=\"text-align: right;\">\n",
       "      <th></th>\n",
       "      <th>depth</th>\n",
       "      <th>accuracy</th>\n",
       "    </tr>\n",
       "  </thead>\n",
       "  <tbody>\n",
       "    <tr>\n",
       "      <th>0</th>\n",
       "      <td>1.0</td>\n",
       "      <td>0.754277</td>\n",
       "    </tr>\n",
       "    <tr>\n",
       "      <th>1</th>\n",
       "      <td>2.0</td>\n",
       "      <td>0.782271</td>\n",
       "    </tr>\n",
       "    <tr>\n",
       "      <th>2</th>\n",
       "      <td>3.0</td>\n",
       "      <td>0.785381</td>\n",
       "    </tr>\n",
       "    <tr>\n",
       "      <th>3</th>\n",
       "      <td>4.0</td>\n",
       "      <td>0.779160</td>\n",
       "    </tr>\n",
       "    <tr>\n",
       "      <th>4</th>\n",
       "      <td>5.0</td>\n",
       "      <td>0.779160</td>\n",
       "    </tr>\n",
       "    <tr>\n",
       "      <th>5</th>\n",
       "      <td>6.0</td>\n",
       "      <td>0.783826</td>\n",
       "    </tr>\n",
       "    <tr>\n",
       "      <th>6</th>\n",
       "      <td>7.0</td>\n",
       "      <td>0.782271</td>\n",
       "    </tr>\n",
       "    <tr>\n",
       "      <th>7</th>\n",
       "      <td>8.0</td>\n",
       "      <td>0.779160</td>\n",
       "    </tr>\n",
       "    <tr>\n",
       "      <th>8</th>\n",
       "      <td>9.0</td>\n",
       "      <td>0.782271</td>\n",
       "    </tr>\n",
       "    <tr>\n",
       "      <th>9</th>\n",
       "      <td>10.0</td>\n",
       "      <td>0.774495</td>\n",
       "    </tr>\n",
       "    <tr>\n",
       "      <th>10</th>\n",
       "      <td>11.0</td>\n",
       "      <td>0.762053</td>\n",
       "    </tr>\n",
       "    <tr>\n",
       "      <th>11</th>\n",
       "      <td>12.0</td>\n",
       "      <td>0.762053</td>\n",
       "    </tr>\n",
       "    <tr>\n",
       "      <th>12</th>\n",
       "      <td>13.0</td>\n",
       "      <td>0.755832</td>\n",
       "    </tr>\n",
       "    <tr>\n",
       "      <th>13</th>\n",
       "      <td>14.0</td>\n",
       "      <td>0.758942</td>\n",
       "    </tr>\n",
       "    <tr>\n",
       "      <th>14</th>\n",
       "      <td>15.0</td>\n",
       "      <td>0.746501</td>\n",
       "    </tr>\n",
       "  </tbody>\n",
       "</table>\n",
       "</div>"
      ],
      "text/plain": [
       "    depth  accuracy\n",
       "0     1.0  0.754277\n",
       "1     2.0  0.782271\n",
       "2     3.0  0.785381\n",
       "3     4.0  0.779160\n",
       "4     5.0  0.779160\n",
       "5     6.0  0.783826\n",
       "6     7.0  0.782271\n",
       "7     8.0  0.779160\n",
       "8     9.0  0.782271\n",
       "9    10.0  0.774495\n",
       "10   11.0  0.762053\n",
       "11   12.0  0.762053\n",
       "12   13.0  0.755832\n",
       "13   14.0  0.758942\n",
       "14   15.0  0.746501"
      ]
     },
     "execution_count": 50,
     "metadata": {},
     "output_type": "execute_result"
    }
   ],
   "source": [
    "tree_accuracy_results"
   ]
  },
  {
   "cell_type": "code",
   "execution_count": 51,
   "metadata": {},
   "outputs": [
    {
     "data": {
      "text/plain": [
       "<AxesSubplot:>"
      ]
     },
     "execution_count": 51,
     "metadata": {},
     "output_type": "execute_result"
    },
    {
     "data": {
      "image/png": "[encoded data removed]",
      "text/plain": [
       "<Figure size 432x288 with 1 Axes>"
      ]
     },
     "metadata": {
      "needs_background": "light"
     },
     "output_type": "display_data"
    }
   ],
   "source": [
    "tree_accuracy_results['accuracy'].plot()"
   ]
  },
  {
   "cell_type": "code",
   "execution_count": 52,
   "metadata": {},
   "outputs": [],
   "source": [
    "forest_accuracy_results = pd.DataFrame(columns=['number', 'max_depth','accuracy'])\n",
    "\n",
    "best_forest_model = None\n",
    "best_result = 0\n",
    "\n",
    "for est in range(10, 61, 10):\n",
    "    for depth in range (1, 11):\n",
    "        model = RandomForestClassifier(random_state=12345, n_estimators=est, max_depth=depth)\n",
    "        model.fit(features_train,target_train)\n",
    "        predictions = model.predict(features_valid) \n",
    "        result = accuracy_score(target_valid, predictions)\n",
    "        forest_accuracy_results = forest_accuracy_results.append({'max_depth':depth,'number':est,'accuracy':result}, ignore_index=True)\n",
    "        \n",
    "        if result > best_result:\n",
    "            best_forest_model = model \n",
    "            best_result = result"
   ]
  },
  {
   "cell_type": "code",
   "execution_count": 53,
   "metadata": {},
   "outputs": [
    {
     "data": {
      "text/plain": [
       "<AxesSubplot:>"
      ]
     },
     "execution_count": 53,
     "metadata": {},
     "output_type": "execute_result"
    },
    {
     "data": {
      "image/png": "[encoded data removed]",
      "text/plain": [
       "<Figure size 432x288 with 1 Axes>"
      ]
     },
     "metadata": {
      "needs_background": "light"
     },
     "output_type": "display_data"
    }
   ],
   "source": [
    "forest_accuracy_results['accuracy'].plot()"
   ]
  },
  {
   "cell_type": "code",
   "execution_count": 54,
   "metadata": {},
   "outputs": [
    {
     "data": {
      "text/html": [
       "<div>\n",
       "<style scoped>\n",
       "    .dataframe tbody tr th:only-of-type {\n",
       "        vertical-align: middle;\n",
       "    }\n",
       "\n",
       "    .dataframe tbody tr th {\n",
       "        vertical-align: top;\n",
       "    }\n",
       "\n",
       "    .dataframe thead th {\n",
       "        text-align: right;\n",
       "    }\n",
       "</style>\n",
       "<table border=\"1\" class=\"dataframe\">\n",
       "  <thead>\n",
       "    <tr style=\"text-align: right;\">\n",
       "      <th></th>\n",
       "      <th>number</th>\n",
       "      <th>max_depth</th>\n",
       "      <th>accuracy</th>\n",
       "    </tr>\n",
       "  </thead>\n",
       "  <tbody>\n",
       "    <tr>\n",
       "      <th>37</th>\n",
       "      <td>40.0</td>\n",
       "      <td>8.0</td>\n",
       "      <td>0.808709</td>\n",
       "    </tr>\n",
       "    <tr>\n",
       "      <th>47</th>\n",
       "      <td>50.0</td>\n",
       "      <td>8.0</td>\n",
       "      <td>0.807154</td>\n",
       "    </tr>\n",
       "    <tr>\n",
       "      <th>46</th>\n",
       "      <td>50.0</td>\n",
       "      <td>7.0</td>\n",
       "      <td>0.802488</td>\n",
       "    </tr>\n",
       "    <tr>\n",
       "      <th>36</th>\n",
       "      <td>40.0</td>\n",
       "      <td>7.0</td>\n",
       "      <td>0.802488</td>\n",
       "    </tr>\n",
       "    <tr>\n",
       "      <th>35</th>\n",
       "      <td>40.0</td>\n",
       "      <td>6.0</td>\n",
       "      <td>0.802488</td>\n",
       "    </tr>\n",
       "  </tbody>\n",
       "</table>\n",
       "</div>"
      ],
      "text/plain": [
       "    number  max_depth  accuracy\n",
       "37    40.0        8.0  0.808709\n",
       "47    50.0        8.0  0.807154\n",
       "46    50.0        7.0  0.802488\n",
       "36    40.0        7.0  0.802488\n",
       "35    40.0        6.0  0.802488"
      ]
     },
     "execution_count": 54,
     "metadata": {},
     "output_type": "execute_result"
    }
   ],
   "source": [
    "forest_accuracy_results.sort_values(by='accuracy', ascending=False).head(5)"
   ]
  },
  {
   "cell_type": "markdown",
   "metadata": {},
   "source": [
    "Вывод\n",
    "\n",
    "Лучше всего сработала модель с 40 деревьми максимальной глубины 8"
   ]
  },
  {
   "cell_type": "code",
   "execution_count": 55,
   "metadata": {},
   "outputs": [],
   "source": [
    "logreg_accuracy_results = pd.DataFrame(columns=['solver', 'accuracy'])\n",
    "\n",
    "solvers = ['lbfgs', 'sag', 'liblinear', 'saga'] #переберем возможные солверы, кроме newton-cg, так как он не сходится\n",
    "best_logreg_model = None\n",
    "best_result = 0\n",
    "\n",
    "for solver in solvers:\n",
    "    model = LogisticRegression(random_state=12345, solver= solver, max_iter=10000)\n",
    "    model.fit(features_train,target_train)\n",
    "    predictions = model.predict(features_valid) \n",
    "    result = accuracy_score(target_valid, predictions)\n",
    "    logreg_accuracy_results = logreg_accuracy_results.append({'solver':solver,'accuracy':result}, ignore_index=True)\n",
    "    if result > best_result:\n",
    "        best_logreg_model = model \n",
    "        best_result = result"
   ]
  },
  {
   "cell_type": "code",
   "execution_count": 56,
   "metadata": {},
   "outputs": [
    {
     "data": {
      "text/html": [
       "<div>\n",
       "<style scoped>\n",
       "    .dataframe tbody tr th:only-of-type {\n",
       "        vertical-align: middle;\n",
       "    }\n",
       "\n",
       "    .dataframe tbody tr th {\n",
       "        vertical-align: top;\n",
       "    }\n",
       "\n",
       "    .dataframe thead th {\n",
       "        text-align: right;\n",
       "    }\n",
       "</style>\n",
       "<table border=\"1\" class=\"dataframe\">\n",
       "  <thead>\n",
       "    <tr style=\"text-align: right;\">\n",
       "      <th></th>\n",
       "      <th>solver</th>\n",
       "      <th>accuracy</th>\n",
       "    </tr>\n",
       "  </thead>\n",
       "  <tbody>\n",
       "    <tr>\n",
       "      <th>0</th>\n",
       "      <td>lbfgs</td>\n",
       "      <td>0.710731</td>\n",
       "    </tr>\n",
       "    <tr>\n",
       "      <th>1</th>\n",
       "      <td>sag</td>\n",
       "      <td>0.707621</td>\n",
       "    </tr>\n",
       "    <tr>\n",
       "      <th>2</th>\n",
       "      <td>liblinear</td>\n",
       "      <td>0.709176</td>\n",
       "    </tr>\n",
       "    <tr>\n",
       "      <th>3</th>\n",
       "      <td>saga</td>\n",
       "      <td>0.707621</td>\n",
       "    </tr>\n",
       "  </tbody>\n",
       "</table>\n",
       "</div>"
      ],
      "text/plain": [
       "      solver  accuracy\n",
       "0      lbfgs  0.710731\n",
       "1        sag  0.707621\n",
       "2  liblinear  0.709176\n",
       "3       saga  0.707621"
      ]
     },
     "execution_count": 56,
     "metadata": {},
     "output_type": "execute_result"
    }
   ],
   "source": [
    "logreg_accuracy_results"
   ]
  },
  {
   "cell_type": "markdown",
   "metadata": {},
   "source": [
    "Метод newton-cg не сходится даже при большом количестве итераций"
   ]
  },
  {
   "cell_type": "markdown",
   "metadata": {},
   "source": [
    "Вывод\n",
    "\n",
    "Лучшим методом для модели логистической регрессии оказался lbfgs"
   ]
  },
  {
   "cell_type": "markdown",
   "metadata": {},
   "source": [
    "## Проверка на тестовой выборке"
   ]
  },
  {
   "cell_type": "code",
   "execution_count": 57,
   "metadata": {},
   "outputs": [],
   "source": [
    "accuracy = pd.DataFrame(columns=['model','accuracy'])\n",
    "\n",
    "models = [best_tree_model, best_forest_model,best_logreg_model]\n",
    "dummy_predictions = DummyClassifier().fit(features_train,target_train).predict(features_test) \n",
    "random_predictions = numpy.random.randint(2, size=len(dummy_predictions))\n",
    "\n",
    "for model in models:\n",
    "    predictions = model.predict(features_test) \n",
    "    result = accuracy_score(target_test, predictions)\n",
    "    adequacy_dummy = accuracy_score(random_predictions, predictions)\n",
    "    adequacy_random = accuracy_score(random_predictions, predictions)\n",
    "    accuracy = accuracy.append({'model': model, 'accuracy':result}, ignore_index=True)\n",
    "    \n"
   ]
  },
  {
   "cell_type": "code",
   "execution_count": 58,
   "metadata": {},
   "outputs": [
    {
     "data": {
      "text/html": [
       "<div>\n",
       "<style scoped>\n",
       "    .dataframe tbody tr th:only-of-type {\n",
       "        vertical-align: middle;\n",
       "    }\n",
       "\n",
       "    .dataframe tbody tr th {\n",
       "        vertical-align: top;\n",
       "    }\n",
       "\n",
       "    .dataframe thead th {\n",
       "        text-align: right;\n",
       "    }\n",
       "</style>\n",
       "<table border=\"1\" class=\"dataframe\">\n",
       "  <thead>\n",
       "    <tr style=\"text-align: right;\">\n",
       "      <th></th>\n",
       "      <th>model</th>\n",
       "      <th>accuracy</th>\n",
       "    </tr>\n",
       "  </thead>\n",
       "  <tbody>\n",
       "    <tr>\n",
       "      <th>0</th>\n",
       "      <td>DecisionTreeClassifier(max_depth=3, random_sta...</td>\n",
       "      <td>0.779160</td>\n",
       "    </tr>\n",
       "    <tr>\n",
       "      <th>1</th>\n",
       "      <td>(DecisionTreeClassifier(max_depth=8, max_featu...</td>\n",
       "      <td>0.796267</td>\n",
       "    </tr>\n",
       "    <tr>\n",
       "      <th>2</th>\n",
       "      <td>LogisticRegression(max_iter=10000, random_stat...</td>\n",
       "      <td>0.684292</td>\n",
       "    </tr>\n",
       "  </tbody>\n",
       "</table>\n",
       "</div>"
      ],
      "text/plain": [
       "                                               model  accuracy\n",
       "0  DecisionTreeClassifier(max_depth=3, random_sta...  0.779160\n",
       "1  (DecisionTreeClassifier(max_depth=8, max_featu...  0.796267\n",
       "2  LogisticRegression(max_iter=10000, random_stat...  0.684292"
      ]
     },
     "execution_count": 58,
     "metadata": {},
     "output_type": "execute_result"
    }
   ],
   "source": [
    "accuracy"
   ]
  },
  {
   "cell_type": "markdown",
   "metadata": {},
   "source": [
    "Вывод\n",
    "\n",
    "Лучше всего справилась модель случайного леса, хуже всех — логистическая регрессия"
   ]
  },
  {
   "cell_type": "markdown",
   "metadata": {},
   "source": [
    "##  Проверка модели на адекватность"
   ]
  },
  {
   "cell_type": "markdown",
   "metadata": {},
   "source": [
    "Сравним результаты с DummyClassifier и со случайной последовательностью"
   ]
  },
  {
   "cell_type": "code",
   "execution_count": 59,
   "metadata": {},
   "outputs": [],
   "source": [
    "dummy_predictions = DummyClassifier().fit(features_train,target_train).predict(features_test) \n",
    "random_predictions = numpy.random.randint(2, size=len(dummy_predictions))\n",
    "\n",
    "accuracy_dummy = accuracy_score(target_test, dummy_predictions)\n",
    "accuracy_random = accuracy_score(random_predictions, predictions)\n",
    "\n",
    "accuracy = accuracy.append({'model': \"dummy\", 'accuracy':accuracy_dummy}, ignore_index=True)\n",
    "accuracy = accuracy.append({'model': \"random\", 'accuracy':accuracy_random}, ignore_index=True)  "
   ]
  },
  {
   "cell_type": "code",
   "execution_count": 60,
   "metadata": {},
   "outputs": [
    {
     "data": {
      "text/html": [
       "<div>\n",
       "<style scoped>\n",
       "    .dataframe tbody tr th:only-of-type {\n",
       "        vertical-align: middle;\n",
       "    }\n",
       "\n",
       "    .dataframe tbody tr th {\n",
       "        vertical-align: top;\n",
       "    }\n",
       "\n",
       "    .dataframe thead th {\n",
       "        text-align: right;\n",
       "    }\n",
       "</style>\n",
       "<table border=\"1\" class=\"dataframe\">\n",
       "  <thead>\n",
       "    <tr style=\"text-align: right;\">\n",
       "      <th></th>\n",
       "      <th>model</th>\n",
       "      <th>accuracy</th>\n",
       "    </tr>\n",
       "  </thead>\n",
       "  <tbody>\n",
       "    <tr>\n",
       "      <th>0</th>\n",
       "      <td>DecisionTreeClassifier(max_depth=3, random_sta...</td>\n",
       "      <td>0.779160</td>\n",
       "    </tr>\n",
       "    <tr>\n",
       "      <th>1</th>\n",
       "      <td>(DecisionTreeClassifier(max_depth=8, max_featu...</td>\n",
       "      <td>0.796267</td>\n",
       "    </tr>\n",
       "    <tr>\n",
       "      <th>2</th>\n",
       "      <td>LogisticRegression(max_iter=10000, random_stat...</td>\n",
       "      <td>0.684292</td>\n",
       "    </tr>\n",
       "    <tr>\n",
       "      <th>3</th>\n",
       "      <td>dummy</td>\n",
       "      <td>0.684292</td>\n",
       "    </tr>\n",
       "    <tr>\n",
       "      <th>4</th>\n",
       "      <td>random</td>\n",
       "      <td>0.488336</td>\n",
       "    </tr>\n",
       "  </tbody>\n",
       "</table>\n",
       "</div>"
      ],
      "text/plain": [
       "                                               model  accuracy\n",
       "0  DecisionTreeClassifier(max_depth=3, random_sta...  0.779160\n",
       "1  (DecisionTreeClassifier(max_depth=8, max_featu...  0.796267\n",
       "2  LogisticRegression(max_iter=10000, random_stat...  0.684292\n",
       "3                                              dummy  0.684292\n",
       "4                                             random  0.488336"
      ]
     },
     "execution_count": 60,
     "metadata": {},
     "output_type": "execute_result"
    }
   ],
   "source": [
    "accuracy"
   ]
  },
  {
   "cell_type": "markdown",
   "metadata": {},
   "source": [
    "Вывод\n",
    "\n",
    "Логистическая регрессия работает не лучше Dummy Classifier, поэтому вменяемой ее назвать нельзя. Остальные адекватны. "
   ]
  }
 ],
 "metadata": {
  "ExecuteTimeLog": [
   {
    "duration": 44,
    "start_time": "2022-06-22T18:53:12.655Z"
   },
   {
    "duration": 361,
    "start_time": "2022-06-22T18:53:15.288Z"
   },
   {
    "duration": 111,
    "start_time": "2022-06-22T18:53:15.651Z"
   },
   {
    "duration": 13,
    "start_time": "2022-06-22T18:53:29.677Z"
   },
   {
    "duration": 15,
    "start_time": "2022-06-22T18:53:42.608Z"
   },
   {
    "duration": 13,
    "start_time": "2022-06-22T18:58:48.040Z"
   },
   {
    "duration": 29,
    "start_time": "2022-06-22T19:00:40.751Z"
   },
   {
    "duration": 833,
    "start_time": "2022-06-22T19:00:44.326Z"
   },
   {
    "duration": 32,
    "start_time": "2022-06-22T19:00:46.356Z"
   },
   {
    "duration": 12,
    "start_time": "2022-06-22T19:00:46.489Z"
   },
   {
    "duration": 10,
    "start_time": "2022-06-22T19:00:46.810Z"
   },
   {
    "duration": 48,
    "start_time": "2022-06-22T19:00:47.175Z"
   },
   {
    "duration": 9,
    "start_time": "2022-06-22T19:00:47.468Z"
   },
   {
    "duration": 4,
    "start_time": "2022-06-22T19:01:03.068Z"
   },
   {
    "duration": 7,
    "start_time": "2022-06-22T19:01:03.724Z"
   },
   {
    "duration": 24,
    "start_time": "2022-06-22T19:01:26.018Z"
   },
   {
    "duration": 3,
    "start_time": "2022-06-22T19:01:36.245Z"
   },
   {
    "duration": 15,
    "start_time": "2022-06-22T19:01:39.601Z"
   },
   {
    "duration": 43,
    "start_time": "2022-06-22T19:01:43.397Z"
   },
   {
    "duration": 16,
    "start_time": "2022-06-22T19:01:46.907Z"
   },
   {
    "duration": 29,
    "start_time": "2022-06-22T19:01:49.472Z"
   },
   {
    "duration": 28,
    "start_time": "2022-06-22T19:01:51.696Z"
   },
   {
    "duration": 44,
    "start_time": "2022-06-22T19:01:54.435Z"
   },
   {
    "duration": 44,
    "start_time": "2022-06-22T19:01:57.738Z"
   },
   {
    "duration": 36,
    "start_time": "2022-06-22T19:02:00.579Z"
   },
   {
    "duration": 6,
    "start_time": "2022-06-22T19:03:44.765Z"
   },
   {
    "duration": 4,
    "start_time": "2022-06-22T19:05:59.154Z"
   },
   {
    "duration": 4,
    "start_time": "2022-06-22T19:06:16.674Z"
   },
   {
    "duration": 5,
    "start_time": "2022-06-22T19:06:19.528Z"
   },
   {
    "duration": 58,
    "start_time": "2022-06-22T19:06:29.025Z"
   },
   {
    "duration": 4,
    "start_time": "2022-06-22T19:06:43.017Z"
   },
   {
    "duration": 18,
    "start_time": "2022-06-22T19:07:06.252Z"
   },
   {
    "duration": 61,
    "start_time": "2022-06-22T19:07:22.689Z"
   },
   {
    "duration": 8,
    "start_time": "2022-06-22T19:07:31.713Z"
   },
   {
    "duration": 71,
    "start_time": "2022-06-22T19:07:42.509Z"
   },
   {
    "duration": 9,
    "start_time": "2022-06-22T19:07:43.068Z"
   },
   {
    "duration": 72,
    "start_time": "2022-06-22T19:07:45.143Z"
   },
   {
    "duration": 5,
    "start_time": "2022-06-22T19:07:48.586Z"
   },
   {
    "duration": 67,
    "start_time": "2022-06-22T19:07:49.041Z"
   },
   {
    "duration": 8,
    "start_time": "2022-06-22T19:07:49.469Z"
   },
   {
    "duration": 70,
    "start_time": "2022-06-22T19:08:25.610Z"
   },
   {
    "duration": 8,
    "start_time": "2022-06-22T19:08:25.876Z"
   },
   {
    "duration": 107,
    "start_time": "2022-06-22T19:08:30.908Z"
   },
   {
    "duration": 10,
    "start_time": "2022-06-22T19:08:31.215Z"
   },
   {
    "duration": 170,
    "start_time": "2022-06-22T19:08:36.642Z"
   },
   {
    "duration": 7,
    "start_time": "2022-06-22T19:08:36.910Z"
   },
   {
    "duration": 259,
    "start_time": "2022-06-22T19:08:41.784Z"
   },
   {
    "duration": 9,
    "start_time": "2022-06-22T19:08:42.139Z"
   },
   {
    "duration": 205,
    "start_time": "2022-06-22T19:09:26.983Z"
   },
   {
    "duration": 9,
    "start_time": "2022-06-22T19:09:27.312Z"
   },
   {
    "duration": 152,
    "start_time": "2022-06-22T19:09:40.049Z"
   },
   {
    "duration": 8,
    "start_time": "2022-06-22T19:09:40.386Z"
   },
   {
    "duration": 651,
    "start_time": "2022-06-22T19:09:48.514Z"
   },
   {
    "duration": 8,
    "start_time": "2022-06-22T19:09:52.652Z"
   },
   {
    "duration": 3,
    "start_time": "2022-06-22T19:14:30.645Z"
   },
   {
    "duration": 59,
    "start_time": "2022-06-22T19:14:30.651Z"
   },
   {
    "duration": 12,
    "start_time": "2022-06-22T19:14:30.711Z"
   },
   {
    "duration": 17,
    "start_time": "2022-06-22T19:14:30.725Z"
   },
   {
    "duration": 19,
    "start_time": "2022-06-22T19:14:30.744Z"
   },
   {
    "duration": 24,
    "start_time": "2022-06-22T19:14:30.764Z"
   },
   {
    "duration": 143,
    "start_time": "2022-06-22T19:14:30.789Z"
   },
   {
    "duration": 8,
    "start_time": "2022-06-22T19:14:30.934Z"
   },
   {
    "duration": 10,
    "start_time": "2022-06-22T19:14:41.793Z"
   },
   {
    "duration": 6,
    "start_time": "2022-06-22T19:16:01.197Z"
   },
   {
    "duration": 10,
    "start_time": "2022-06-22T19:16:02.666Z"
   },
   {
    "duration": 7,
    "start_time": "2022-06-22T19:16:13.024Z"
   },
   {
    "duration": 10,
    "start_time": "2022-06-22T19:16:13.877Z"
   },
   {
    "duration": 3,
    "start_time": "2022-06-22T19:16:38.520Z"
   },
   {
    "duration": 4,
    "start_time": "2022-06-22T19:16:48.338Z"
   },
   {
    "duration": 5,
    "start_time": "2022-06-22T19:17:07.123Z"
   },
   {
    "duration": 6,
    "start_time": "2022-06-22T19:17:13.869Z"
   },
   {
    "duration": 157,
    "start_time": "2022-06-22T19:19:17.724Z"
   },
   {
    "duration": 10,
    "start_time": "2022-06-22T19:19:32.580Z"
   },
   {
    "duration": 153,
    "start_time": "2022-06-22T19:19:40.286Z"
   },
   {
    "duration": 140,
    "start_time": "2022-06-22T19:19:43.541Z"
   },
   {
    "duration": 9,
    "start_time": "2022-06-22T19:19:45.693Z"
   },
   {
    "duration": 8,
    "start_time": "2022-06-22T19:19:56.563Z"
   },
   {
    "duration": 116,
    "start_time": "2022-06-22T19:20:10.806Z"
   },
   {
    "duration": 8,
    "start_time": "2022-06-22T19:20:24.866Z"
   },
   {
    "duration": 5,
    "start_time": "2022-06-22T19:21:49.932Z"
   },
   {
    "duration": 25,
    "start_time": "2022-06-22T19:23:53.865Z"
   },
   {
    "duration": 3975,
    "start_time": "2022-06-22T19:24:14.188Z"
   },
   {
    "duration": 11,
    "start_time": "2022-06-22T19:24:21.110Z"
   },
   {
    "duration": 13234,
    "start_time": "2022-06-22T19:24:52.050Z"
   },
   {
    "duration": 0,
    "start_time": "2022-06-22T19:25:05.286Z"
   },
   {
    "duration": 313,
    "start_time": "2022-06-22T19:25:15.407Z"
   },
   {
    "duration": 4182,
    "start_time": "2022-06-22T19:25:47.252Z"
   },
   {
    "duration": 16,
    "start_time": "2022-06-22T19:25:51.438Z"
   },
   {
    "duration": 4314,
    "start_time": "2022-06-22T19:26:49.545Z"
   },
   {
    "duration": 12,
    "start_time": "2022-06-22T19:26:53.861Z"
   },
   {
    "duration": 3979,
    "start_time": "2022-06-22T19:27:21.568Z"
   },
   {
    "duration": 11,
    "start_time": "2022-06-22T19:27:25.549Z"
   },
   {
    "duration": 3961,
    "start_time": "2022-06-22T19:27:45.706Z"
   },
   {
    "duration": 18,
    "start_time": "2022-06-22T19:27:50.649Z"
   },
   {
    "duration": 151,
    "start_time": "2022-06-22T19:28:04.939Z"
   },
   {
    "duration": 128,
    "start_time": "2022-06-22T19:28:09.224Z"
   },
   {
    "duration": 5323,
    "start_time": "2022-06-22T19:28:18.260Z"
   },
   {
    "duration": 136,
    "start_time": "2022-06-22T19:28:23.585Z"
   },
   {
    "duration": 19,
    "start_time": "2022-06-22T19:28:45.638Z"
   },
   {
    "duration": 10,
    "start_time": "2022-06-22T19:29:03.414Z"
   },
   {
    "duration": 20,
    "start_time": "2022-06-22T19:29:15.721Z"
   },
   {
    "duration": 135,
    "start_time": "2022-06-22T19:29:35.725Z"
   },
   {
    "duration": 6,
    "start_time": "2022-06-22T19:34:34.757Z"
   },
   {
    "duration": 104,
    "start_time": "2022-06-22T19:34:40.324Z"
   },
   {
    "duration": 65,
    "start_time": "2022-06-22T19:34:59.515Z"
   },
   {
    "duration": 55,
    "start_time": "2022-06-22T19:35:06.346Z"
   },
   {
    "duration": 12,
    "start_time": "2022-06-22T19:36:18.049Z"
   },
   {
    "duration": 629,
    "start_time": "2022-06-22T19:36:23.842Z"
   },
   {
    "duration": 594,
    "start_time": "2022-06-22T19:36:55.477Z"
   },
   {
    "duration": 413,
    "start_time": "2022-06-22T19:37:17.332Z"
   },
   {
    "duration": 207,
    "start_time": "2022-06-22T19:37:21.796Z"
   },
   {
    "duration": 37,
    "start_time": "2022-06-22T19:37:24.914Z"
   },
   {
    "duration": 14,
    "start_time": "2022-06-22T19:37:32.690Z"
   },
   {
    "duration": 30,
    "start_time": "2022-06-22T19:37:42.637Z"
   },
   {
    "duration": 11,
    "start_time": "2022-06-22T19:37:43.526Z"
   },
   {
    "duration": 230,
    "start_time": "2022-06-22T19:38:01.360Z"
   },
   {
    "duration": 200,
    "start_time": "2022-06-22T19:38:10.090Z"
   },
   {
    "duration": 15,
    "start_time": "2022-06-22T19:38:11.155Z"
   },
   {
    "duration": 213,
    "start_time": "2022-06-22T19:38:27.241Z"
   },
   {
    "duration": 7,
    "start_time": "2022-06-22T19:38:27.888Z"
   },
   {
    "duration": 235,
    "start_time": "2022-06-22T19:38:35.812Z"
   },
   {
    "duration": 388,
    "start_time": "2022-06-22T19:38:38.704Z"
   },
   {
    "duration": 8,
    "start_time": "2022-06-22T19:38:39.440Z"
   },
   {
    "duration": 687,
    "start_time": "2022-06-22T19:38:52.497Z"
   },
   {
    "duration": 973,
    "start_time": "2022-06-22T19:39:13.426Z"
   },
   {
    "duration": 1154,
    "start_time": "2022-06-22T19:39:17.391Z"
   },
   {
    "duration": 1165,
    "start_time": "2022-06-22T19:39:22.658Z"
   },
   {
    "duration": 271,
    "start_time": "2022-06-22T19:39:40.243Z"
   },
   {
    "duration": 7,
    "start_time": "2022-06-22T19:39:41.110Z"
   },
   {
    "duration": 187,
    "start_time": "2022-06-22T19:42:59.004Z"
   },
   {
    "duration": 7,
    "start_time": "2022-06-22T19:42:59.704Z"
   },
   {
    "duration": 247,
    "start_time": "2022-06-22T19:43:04.295Z"
   },
   {
    "duration": 7,
    "start_time": "2022-06-22T19:43:05.245Z"
   },
   {
    "duration": 250,
    "start_time": "2022-06-22T19:44:06.414Z"
   },
   {
    "duration": 1187,
    "start_time": "2022-06-22T19:44:10.788Z"
   },
   {
    "duration": 1177,
    "start_time": "2022-06-22T19:44:14.946Z"
   },
   {
    "duration": 20,
    "start_time": "2022-06-22T19:44:16.125Z"
   },
   {
    "duration": 30,
    "start_time": "2022-06-22T19:45:50.988Z"
   },
   {
    "duration": 7,
    "start_time": "2022-06-22T19:45:51.993Z"
   },
   {
    "duration": 190,
    "start_time": "2022-06-22T19:45:57.826Z"
   },
   {
    "duration": 719,
    "start_time": "2022-06-22T19:46:07.359Z"
   },
   {
    "duration": 8,
    "start_time": "2022-06-22T19:46:08.861Z"
   },
   {
    "duration": 628,
    "start_time": "2022-06-22T19:46:11.643Z"
   },
   {
    "duration": 8,
    "start_time": "2022-06-22T19:46:12.273Z"
   },
   {
    "duration": 692,
    "start_time": "2022-06-22T19:46:14.115Z"
   },
   {
    "duration": 7,
    "start_time": "2022-06-22T19:46:14.809Z"
   },
   {
    "duration": 653,
    "start_time": "2022-06-22T19:46:17.248Z"
   },
   {
    "duration": 650,
    "start_time": "2022-06-22T19:46:19.041Z"
   },
   {
    "duration": 7,
    "start_time": "2022-06-22T19:46:19.693Z"
   },
   {
    "duration": 224,
    "start_time": "2022-06-22T19:46:22.147Z"
   },
   {
    "duration": 405,
    "start_time": "2022-06-22T19:46:26.951Z"
   },
   {
    "duration": 8,
    "start_time": "2022-06-22T19:46:28.073Z"
   },
   {
    "duration": 420,
    "start_time": "2022-06-22T19:46:57.119Z"
   },
   {
    "duration": 8,
    "start_time": "2022-06-22T19:46:59.244Z"
   },
   {
    "duration": 1025,
    "start_time": "2022-06-22T19:47:13.091Z"
   },
   {
    "duration": 7,
    "start_time": "2022-06-22T19:47:14.118Z"
   },
   {
    "duration": 426,
    "start_time": "2022-06-22T19:47:51.596Z"
   },
   {
    "duration": 8,
    "start_time": "2022-06-22T19:47:52.084Z"
   },
   {
    "duration": 1008,
    "start_time": "2022-06-22T19:47:55.212Z"
   },
   {
    "duration": 18,
    "start_time": "2022-06-22T19:47:56.222Z"
   },
   {
    "duration": 10,
    "start_time": "2022-06-22T19:53:16.862Z"
   },
   {
    "duration": 4,
    "start_time": "2022-06-22T19:53:20.425Z"
   },
   {
    "duration": 58,
    "start_time": "2022-06-22T19:53:20.436Z"
   },
   {
    "duration": 10,
    "start_time": "2022-06-22T19:53:20.496Z"
   },
   {
    "duration": 34,
    "start_time": "2022-06-22T19:53:20.508Z"
   },
   {
    "duration": 22,
    "start_time": "2022-06-22T19:53:20.544Z"
   },
   {
    "duration": 18,
    "start_time": "2022-06-22T19:53:20.569Z"
   },
   {
    "duration": 15,
    "start_time": "2022-06-22T19:53:20.589Z"
   },
   {
    "duration": 145,
    "start_time": "2022-06-22T19:53:20.605Z"
   },
   {
    "duration": 9,
    "start_time": "2022-06-22T19:53:20.753Z"
   },
   {
    "duration": 141,
    "start_time": "2022-06-22T19:53:20.763Z"
   },
   {
    "duration": 6445,
    "start_time": "2022-06-22T19:53:20.906Z"
   },
   {
    "duration": 291,
    "start_time": "2022-06-22T19:53:27.354Z"
   },
   {
    "duration": 9,
    "start_time": "2022-06-22T19:53:27.649Z"
   },
   {
    "duration": 1160,
    "start_time": "2022-06-22T19:53:27.660Z"
   },
   {
    "duration": 24,
    "start_time": "2022-06-22T19:53:28.822Z"
   },
   {
    "duration": 24,
    "start_time": "2022-06-22T19:53:28.854Z"
   },
   {
    "duration": 4,
    "start_time": "2022-06-22T20:16:58.661Z"
   },
   {
    "duration": 32,
    "start_time": "2022-06-22T20:16:58.666Z"
   },
   {
    "duration": 10,
    "start_time": "2022-06-22T20:16:58.699Z"
   },
   {
    "duration": 27,
    "start_time": "2022-06-22T20:16:58.711Z"
   },
   {
    "duration": 35,
    "start_time": "2022-06-22T20:16:58.740Z"
   },
   {
    "duration": 12,
    "start_time": "2022-06-22T20:16:58.776Z"
   },
   {
    "duration": 9,
    "start_time": "2022-06-22T20:16:58.789Z"
   },
   {
    "duration": 153,
    "start_time": "2022-06-22T20:16:58.800Z"
   },
   {
    "duration": 8,
    "start_time": "2022-06-22T20:16:58.954Z"
   },
   {
    "duration": 147,
    "start_time": "2022-06-22T20:16:58.963Z"
   },
   {
    "duration": 5455,
    "start_time": "2022-06-22T20:16:59.111Z"
   },
   {
    "duration": 159,
    "start_time": "2022-06-22T20:17:04.569Z"
   },
   {
    "duration": 15,
    "start_time": "2022-06-22T20:17:04.731Z"
   },
   {
    "duration": 1140,
    "start_time": "2022-06-22T20:17:04.752Z"
   },
   {
    "duration": 7,
    "start_time": "2022-06-22T20:17:05.893Z"
   },
   {
    "duration": 69,
    "start_time": "2022-06-22T20:17:05.902Z"
   },
   {
    "duration": 47,
    "start_time": "2022-06-22T20:17:41.667Z"
   },
   {
    "duration": 22,
    "start_time": "2022-06-22T20:17:47.596Z"
   },
   {
    "duration": 40,
    "start_time": "2022-06-22T20:19:43.185Z"
   },
   {
    "duration": 103,
    "start_time": "2022-06-22T20:21:23.716Z"
   },
   {
    "duration": 19,
    "start_time": "2022-06-22T20:21:32.126Z"
   },
   {
    "duration": 29,
    "start_time": "2022-06-22T20:23:00.987Z"
   },
   {
    "duration": 39,
    "start_time": "2022-06-22T20:23:07.189Z"
   },
   {
    "duration": 4,
    "start_time": "2022-06-22T20:23:21.005Z"
   },
   {
    "duration": 10,
    "start_time": "2022-06-22T20:23:26.850Z"
   },
   {
    "duration": 11,
    "start_time": "2022-06-22T20:23:29.441Z"
   },
   {
    "duration": 44,
    "start_time": "2022-06-22T20:23:49.951Z"
   },
   {
    "duration": 35,
    "start_time": "2022-06-22T20:23:55.070Z"
   },
   {
    "duration": 3,
    "start_time": "2022-06-22T20:25:08.696Z"
   },
   {
    "duration": 61,
    "start_time": "2022-06-22T20:25:08.702Z"
   },
   {
    "duration": 11,
    "start_time": "2022-06-22T20:25:08.764Z"
   },
   {
    "duration": 11,
    "start_time": "2022-06-22T20:25:08.777Z"
   },
   {
    "duration": 8,
    "start_time": "2022-06-22T20:25:08.790Z"
   },
   {
    "duration": 8,
    "start_time": "2022-06-22T20:25:08.800Z"
   },
   {
    "duration": 6,
    "start_time": "2022-06-22T20:25:08.810Z"
   },
   {
    "duration": 140,
    "start_time": "2022-06-22T20:25:08.818Z"
   },
   {
    "duration": 8,
    "start_time": "2022-06-22T20:25:08.960Z"
   },
   {
    "duration": 147,
    "start_time": "2022-06-22T20:25:08.970Z"
   },
   {
    "duration": 5490,
    "start_time": "2022-06-22T20:25:09.118Z"
   },
   {
    "duration": 165,
    "start_time": "2022-06-22T20:25:14.610Z"
   },
   {
    "duration": 12,
    "start_time": "2022-06-22T20:25:14.777Z"
   },
   {
    "duration": 1114,
    "start_time": "2022-06-22T20:25:14.791Z"
   },
   {
    "duration": 7,
    "start_time": "2022-06-22T20:25:15.907Z"
   },
   {
    "duration": 39,
    "start_time": "2022-06-22T20:25:15.916Z"
   },
   {
    "duration": 36,
    "start_time": "2022-06-22T20:25:15.957Z"
   },
   {
    "duration": 9,
    "start_time": "2022-06-22T20:26:20.610Z"
   },
   {
    "duration": 8,
    "start_time": "2022-06-22T20:26:47.101Z"
   },
   {
    "duration": 10,
    "start_time": "2022-06-22T20:26:50.247Z"
   },
   {
    "duration": 48,
    "start_time": "2022-06-22T20:27:40.600Z"
   },
   {
    "duration": 19,
    "start_time": "2022-06-22T20:27:44.050Z"
   },
   {
    "duration": 49,
    "start_time": "2022-06-22T20:27:48.604Z"
   },
   {
    "duration": 40,
    "start_time": "2022-06-22T20:28:40.758Z"
   },
   {
    "duration": 58,
    "start_time": "2022-06-22T20:28:44.614Z"
   },
   {
    "duration": 37,
    "start_time": "2022-06-22T20:28:52.648Z"
   },
   {
    "duration": 39,
    "start_time": "2022-06-22T20:29:06.953Z"
   },
   {
    "duration": 3,
    "start_time": "2022-06-22T20:30:32.418Z"
   },
   {
    "duration": 4,
    "start_time": "2022-06-22T20:30:40.361Z"
   },
   {
    "duration": 46,
    "start_time": "2022-06-22T20:30:57.522Z"
   },
   {
    "duration": 38,
    "start_time": "2022-06-22T20:31:05.123Z"
   },
   {
    "duration": 41,
    "start_time": "2022-06-22T20:31:05.584Z"
   },
   {
    "duration": 27,
    "start_time": "2022-06-22T20:31:09.882Z"
   },
   {
    "duration": 46,
    "start_time": "2022-06-22T20:31:10.505Z"
   },
   {
    "duration": 3,
    "start_time": "2022-06-22T20:31:12.664Z"
   },
   {
    "duration": 34,
    "start_time": "2022-06-22T20:31:12.668Z"
   },
   {
    "duration": 13,
    "start_time": "2022-06-22T20:31:12.704Z"
   },
   {
    "duration": 13,
    "start_time": "2022-06-22T20:31:12.719Z"
   },
   {
    "duration": 27,
    "start_time": "2022-06-22T20:31:12.735Z"
   },
   {
    "duration": 9,
    "start_time": "2022-06-22T20:31:12.764Z"
   },
   {
    "duration": 16,
    "start_time": "2022-06-22T20:31:12.774Z"
   },
   {
    "duration": 130,
    "start_time": "2022-06-22T20:31:12.791Z"
   },
   {
    "duration": 19,
    "start_time": "2022-06-22T20:31:12.923Z"
   },
   {
    "duration": 151,
    "start_time": "2022-06-22T20:31:12.944Z"
   },
   {
    "duration": 5461,
    "start_time": "2022-06-22T20:31:13.097Z"
   },
   {
    "duration": 147,
    "start_time": "2022-06-22T20:31:18.560Z"
   },
   {
    "duration": 13,
    "start_time": "2022-06-22T20:31:18.709Z"
   },
   {
    "duration": 1159,
    "start_time": "2022-06-22T20:31:18.725Z"
   },
   {
    "duration": 8,
    "start_time": "2022-06-22T20:31:19.885Z"
   },
   {
    "duration": 44,
    "start_time": "2022-06-22T20:31:19.894Z"
   },
   {
    "duration": 45,
    "start_time": "2022-06-22T20:31:19.942Z"
   },
   {
    "duration": 3,
    "start_time": "2022-06-22T20:31:47.655Z"
   },
   {
    "duration": 32,
    "start_time": "2022-06-22T20:31:47.660Z"
   },
   {
    "duration": 11,
    "start_time": "2022-06-22T20:31:47.693Z"
   },
   {
    "duration": 19,
    "start_time": "2022-06-22T20:31:47.705Z"
   },
   {
    "duration": 33,
    "start_time": "2022-06-22T20:31:47.726Z"
   },
   {
    "duration": 8,
    "start_time": "2022-06-22T20:31:47.761Z"
   },
   {
    "duration": 8,
    "start_time": "2022-06-22T20:31:47.770Z"
   },
   {
    "duration": 231,
    "start_time": "2022-06-22T20:31:47.779Z"
   },
   {
    "duration": 9,
    "start_time": "2022-06-22T20:31:48.012Z"
   },
   {
    "duration": 176,
    "start_time": "2022-06-22T20:31:48.029Z"
   },
   {
    "duration": 6268,
    "start_time": "2022-06-22T20:31:48.207Z"
   },
   {
    "duration": 146,
    "start_time": "2022-06-22T20:31:54.478Z"
   },
   {
    "duration": 9,
    "start_time": "2022-06-22T20:31:54.630Z"
   },
   {
    "duration": 1194,
    "start_time": "2022-06-22T20:31:54.642Z"
   },
   {
    "duration": 18,
    "start_time": "2022-06-22T20:31:55.838Z"
   },
   {
    "duration": 33,
    "start_time": "2022-06-22T20:31:55.861Z"
   },
   {
    "duration": 53,
    "start_time": "2022-06-22T20:31:55.896Z"
   },
   {
    "duration": 149,
    "start_time": "2022-06-22T20:33:16.574Z"
   },
   {
    "duration": 4,
    "start_time": "2022-06-22T20:33:27.389Z"
   },
   {
    "duration": 54,
    "start_time": "2022-06-22T20:33:27.396Z"
   },
   {
    "duration": 21,
    "start_time": "2022-06-22T20:33:27.452Z"
   },
   {
    "duration": 13,
    "start_time": "2022-06-22T20:33:27.476Z"
   },
   {
    "duration": 10,
    "start_time": "2022-06-22T20:33:27.492Z"
   },
   {
    "duration": 10,
    "start_time": "2022-06-22T20:33:27.505Z"
   },
   {
    "duration": 44,
    "start_time": "2022-06-22T20:33:27.518Z"
   },
   {
    "duration": 142,
    "start_time": "2022-06-22T20:33:27.564Z"
   },
   {
    "duration": 10,
    "start_time": "2022-06-22T20:33:27.707Z"
   },
   {
    "duration": 186,
    "start_time": "2022-06-22T20:33:27.719Z"
   },
   {
    "duration": 5,
    "start_time": "2022-06-22T20:33:34.574Z"
   },
   {
    "duration": 88,
    "start_time": "2022-06-22T20:33:34.581Z"
   },
   {
    "duration": 14,
    "start_time": "2022-06-22T20:33:34.671Z"
   },
   {
    "duration": 18,
    "start_time": "2022-06-22T20:33:34.687Z"
   },
   {
    "duration": 17,
    "start_time": "2022-06-22T20:33:34.708Z"
   },
   {
    "duration": 45,
    "start_time": "2022-06-22T20:33:34.733Z"
   },
   {
    "duration": 21,
    "start_time": "2022-06-22T20:33:34.780Z"
   },
   {
    "duration": 188,
    "start_time": "2022-06-22T20:33:34.802Z"
   },
   {
    "duration": 13,
    "start_time": "2022-06-22T20:33:34.993Z"
   },
   {
    "duration": 166,
    "start_time": "2022-06-22T20:33:35.008Z"
   },
   {
    "duration": 5913,
    "start_time": "2022-06-22T20:33:35.176Z"
   },
   {
    "duration": 183,
    "start_time": "2022-06-22T20:33:41.091Z"
   },
   {
    "duration": 14,
    "start_time": "2022-06-22T20:33:41.277Z"
   },
   {
    "duration": 1142,
    "start_time": "2022-06-22T20:33:41.293Z"
   },
   {
    "duration": 23,
    "start_time": "2022-06-22T20:33:42.438Z"
   },
   {
    "duration": 35,
    "start_time": "2022-06-22T20:33:42.465Z"
   },
   {
    "duration": 47,
    "start_time": "2022-06-22T20:33:42.502Z"
   },
   {
    "duration": 5,
    "start_time": "2022-06-22T20:34:31.455Z"
   },
   {
    "duration": 65,
    "start_time": "2022-06-22T20:35:20.281Z"
   },
   {
    "duration": 22,
    "start_time": "2022-06-22T20:35:25.766Z"
   },
   {
    "duration": 53,
    "start_time": "2022-06-22T20:35:35.693Z"
   },
   {
    "duration": 4,
    "start_time": "2022-06-22T20:36:12.453Z"
   },
   {
    "duration": 3,
    "start_time": "2022-06-22T20:36:22.706Z"
   },
   {
    "duration": 3,
    "start_time": "2022-06-22T20:36:25.161Z"
   },
   {
    "duration": 33,
    "start_time": "2022-06-22T20:36:25.166Z"
   },
   {
    "duration": 9,
    "start_time": "2022-06-22T20:36:25.201Z"
   },
   {
    "duration": 37,
    "start_time": "2022-06-22T20:36:25.212Z"
   },
   {
    "duration": 5,
    "start_time": "2022-06-22T20:36:25.252Z"
   },
   {
    "duration": 9,
    "start_time": "2022-06-22T20:36:25.259Z"
   },
   {
    "duration": 9,
    "start_time": "2022-06-22T20:36:25.270Z"
   },
   {
    "duration": 161,
    "start_time": "2022-06-22T20:36:25.281Z"
   },
   {
    "duration": 13,
    "start_time": "2022-06-22T20:36:25.447Z"
   },
   {
    "duration": 154,
    "start_time": "2022-06-22T20:36:25.461Z"
   },
   {
    "duration": 5642,
    "start_time": "2022-06-22T20:36:25.617Z"
   },
   {
    "duration": 145,
    "start_time": "2022-06-22T20:36:31.261Z"
   },
   {
    "duration": 10,
    "start_time": "2022-06-22T20:36:31.408Z"
   },
   {
    "duration": 1156,
    "start_time": "2022-06-22T20:36:31.426Z"
   },
   {
    "duration": 7,
    "start_time": "2022-06-22T20:36:32.584Z"
   },
   {
    "duration": 44,
    "start_time": "2022-06-22T20:36:32.593Z"
   },
   {
    "duration": 3,
    "start_time": "2022-06-22T20:36:32.643Z"
   },
   {
    "duration": 48,
    "start_time": "2022-06-22T20:36:46.623Z"
   },
   {
    "duration": 75,
    "start_time": "2022-06-22T20:52:08.675Z"
   },
   {
    "duration": 14,
    "start_time": "2022-06-22T20:52:20.750Z"
   },
   {
    "duration": 3,
    "start_time": "2022-06-22T20:52:29.496Z"
   },
   {
    "duration": 18,
    "start_time": "2022-06-22T20:53:00.053Z"
   },
   {
    "duration": 6,
    "start_time": "2022-06-22T20:53:06.558Z"
   },
   {
    "duration": 7,
    "start_time": "2022-06-22T20:53:10.389Z"
   },
   {
    "duration": 13,
    "start_time": "2022-06-22T20:56:27.993Z"
   },
   {
    "duration": 4,
    "start_time": "2022-06-22T20:56:36.500Z"
   },
   {
    "duration": 34,
    "start_time": "2022-06-22T20:56:45.324Z"
   },
   {
    "duration": 76,
    "start_time": "2022-06-22T20:58:32.490Z"
   },
   {
    "duration": 28,
    "start_time": "2022-06-22T20:58:37.270Z"
   },
   {
    "duration": 39,
    "start_time": "2022-06-22T20:58:39.676Z"
   },
   {
    "duration": 14,
    "start_time": "2022-06-22T20:59:30.664Z"
   },
   {
    "duration": 39,
    "start_time": "2022-06-22T20:59:46.520Z"
   },
   {
    "duration": 38,
    "start_time": "2022-06-22T21:00:02.079Z"
   },
   {
    "duration": 40,
    "start_time": "2022-06-22T21:00:02.456Z"
   },
   {
    "duration": 45,
    "start_time": "2022-06-22T21:00:05.405Z"
   },
   {
    "duration": 55,
    "start_time": "2022-06-22T21:00:06.809Z"
   },
   {
    "duration": 31,
    "start_time": "2022-06-22T21:00:12.475Z"
   },
   {
    "duration": 38,
    "start_time": "2022-06-22T21:00:13.355Z"
   },
   {
    "duration": 45,
    "start_time": "2022-06-22T21:02:16.992Z"
   },
   {
    "duration": 74,
    "start_time": "2022-06-22T21:02:17.781Z"
   },
   {
    "duration": 29,
    "start_time": "2022-06-22T21:02:20.456Z"
   },
   {
    "duration": 41,
    "start_time": "2022-06-22T21:02:28.055Z"
   },
   {
    "duration": 46,
    "start_time": "2022-06-22T21:02:39.354Z"
   },
   {
    "duration": 45,
    "start_time": "2022-06-22T21:02:39.796Z"
   },
   {
    "duration": 31,
    "start_time": "2022-06-22T21:03:29.484Z"
   },
   {
    "duration": 75,
    "start_time": "2022-06-22T21:03:30.007Z"
   },
   {
    "duration": 14,
    "start_time": "2022-06-22T21:05:14.603Z"
   },
   {
    "duration": 18,
    "start_time": "2022-06-22T21:05:25.130Z"
   },
   {
    "duration": 69,
    "start_time": "2022-06-22T21:05:25.621Z"
   },
   {
    "duration": 33,
    "start_time": "2022-06-22T21:05:30.974Z"
   },
   {
    "duration": 75,
    "start_time": "2022-06-22T21:05:31.307Z"
   },
   {
    "duration": 10,
    "start_time": "2022-06-22T21:05:32.565Z"
   },
   {
    "duration": 17,
    "start_time": "2022-06-22T21:05:46.916Z"
   },
   {
    "duration": 46,
    "start_time": "2022-06-22T21:05:47.456Z"
   },
   {
    "duration": 32,
    "start_time": "2022-06-22T21:05:53.455Z"
   },
   {
    "duration": 45,
    "start_time": "2022-06-22T21:05:53.754Z"
   },
   {
    "duration": 11,
    "start_time": "2022-06-22T21:05:56.058Z"
   },
   {
    "duration": 9,
    "start_time": "2022-06-22T21:06:02.802Z"
   },
   {
    "duration": 58,
    "start_time": "2022-06-22T21:06:03.409Z"
   },
   {
    "duration": 18,
    "start_time": "2022-06-22T21:06:09.324Z"
   },
   {
    "duration": 51,
    "start_time": "2022-06-22T21:06:09.744Z"
   },
   {
    "duration": 4,
    "start_time": "2022-06-22T21:06:12.418Z"
   },
   {
    "duration": 79,
    "start_time": "2022-06-22T21:06:12.424Z"
   },
   {
    "duration": 11,
    "start_time": "2022-06-22T21:06:12.505Z"
   },
   {
    "duration": 15,
    "start_time": "2022-06-22T21:06:12.517Z"
   },
   {
    "duration": 40,
    "start_time": "2022-06-22T21:06:12.535Z"
   },
   {
    "duration": 10,
    "start_time": "2022-06-22T21:06:12.576Z"
   },
   {
    "duration": 11,
    "start_time": "2022-06-22T21:06:12.587Z"
   },
   {
    "duration": 141,
    "start_time": "2022-06-22T21:06:12.600Z"
   },
   {
    "duration": 11,
    "start_time": "2022-06-22T21:06:12.754Z"
   },
   {
    "duration": 151,
    "start_time": "2022-06-22T21:06:12.768Z"
   },
   {
    "duration": 6014,
    "start_time": "2022-06-22T21:06:12.926Z"
   },
   {
    "duration": 128,
    "start_time": "2022-06-22T21:06:18.943Z"
   },
   {
    "duration": 8,
    "start_time": "2022-06-22T21:06:19.073Z"
   },
   {
    "duration": 1148,
    "start_time": "2022-06-22T21:06:19.084Z"
   },
   {
    "duration": 12,
    "start_time": "2022-06-22T21:06:20.233Z"
   },
   {
    "duration": 84,
    "start_time": "2022-06-22T21:06:20.248Z"
   },
   {
    "duration": 58,
    "start_time": "2022-06-22T21:06:20.334Z"
   },
   {
    "duration": 8,
    "start_time": "2022-06-22T21:06:20.393Z"
   },
   {
    "duration": 73,
    "start_time": "2022-06-22T21:06:20.402Z"
   },
   {
    "duration": 12,
    "start_time": "2022-06-22T21:06:33.359Z"
   },
   {
    "duration": 60,
    "start_time": "2022-06-22T21:06:33.819Z"
   },
   {
    "duration": 6,
    "start_time": "2022-06-22T21:06:53.558Z"
   },
   {
    "duration": 36,
    "start_time": "2022-06-22T21:06:53.566Z"
   },
   {
    "duration": 11,
    "start_time": "2022-06-22T21:06:53.603Z"
   },
   {
    "duration": 19,
    "start_time": "2022-06-22T21:06:53.616Z"
   },
   {
    "duration": 41,
    "start_time": "2022-06-22T21:06:53.636Z"
   },
   {
    "duration": 13,
    "start_time": "2022-06-22T21:06:53.678Z"
   },
   {
    "duration": 11,
    "start_time": "2022-06-22T21:06:53.692Z"
   },
   {
    "duration": 156,
    "start_time": "2022-06-22T21:06:53.705Z"
   },
   {
    "duration": 12,
    "start_time": "2022-06-22T21:06:53.866Z"
   },
   {
    "duration": 164,
    "start_time": "2022-06-22T21:06:53.880Z"
   },
   {
    "duration": 6002,
    "start_time": "2022-06-22T21:06:54.049Z"
   },
   {
    "duration": 141,
    "start_time": "2022-06-22T21:07:00.060Z"
   },
   {
    "duration": 9,
    "start_time": "2022-06-22T21:07:00.203Z"
   },
   {
    "duration": 1163,
    "start_time": "2022-06-22T21:07:00.213Z"
   },
   {
    "duration": 8,
    "start_time": "2022-06-22T21:07:01.379Z"
   },
   {
    "duration": 100,
    "start_time": "2022-06-22T21:07:01.389Z"
   },
   {
    "duration": 85,
    "start_time": "2022-06-22T21:07:01.494Z"
   },
   {
    "duration": 61,
    "start_time": "2022-06-22T21:07:01.585Z"
   },
   {
    "duration": 0,
    "start_time": "2022-06-22T21:07:01.647Z"
   },
   {
    "duration": 12,
    "start_time": "2022-06-22T21:07:09.246Z"
   },
   {
    "duration": 37,
    "start_time": "2022-06-22T21:07:10.976Z"
   },
   {
    "duration": 409,
    "start_time": "2022-06-22T21:08:47.077Z"
   },
   {
    "duration": 8,
    "start_time": "2022-06-22T21:08:47.986Z"
   },
   {
    "duration": 406,
    "start_time": "2022-06-22T21:08:56.906Z"
   },
   {
    "duration": 216,
    "start_time": "2022-06-22T21:09:02.852Z"
   },
   {
    "duration": 8,
    "start_time": "2022-06-22T21:09:04.100Z"
   },
   {
    "duration": 27,
    "start_time": "2022-06-22T21:09:08.457Z"
   },
   {
    "duration": 7,
    "start_time": "2022-06-22T21:09:09.076Z"
   },
   {
    "duration": 29,
    "start_time": "2022-06-22T21:09:10.978Z"
   },
   {
    "duration": 37,
    "start_time": "2022-06-22T21:09:11.448Z"
   },
   {
    "duration": 9,
    "start_time": "2022-06-22T21:09:14.361Z"
   },
   {
    "duration": 39,
    "start_time": "2022-06-22T21:09:14.780Z"
   },
   {
    "duration": 418,
    "start_time": "2022-06-22T21:09:19.649Z"
   },
   {
    "duration": 1015,
    "start_time": "2022-06-22T21:09:22.557Z"
   },
   {
    "duration": 6,
    "start_time": "2022-06-22T21:09:23.574Z"
   },
   {
    "duration": 29,
    "start_time": "2022-06-22T21:09:35.368Z"
   },
   {
    "duration": 35,
    "start_time": "2022-06-22T21:09:36.362Z"
   },
   {
    "duration": 3,
    "start_time": "2022-06-22T21:10:02.151Z"
   },
   {
    "duration": 53,
    "start_time": "2022-06-22T21:10:02.157Z"
   },
   {
    "duration": 10,
    "start_time": "2022-06-22T21:10:02.212Z"
   },
   {
    "duration": 68,
    "start_time": "2022-06-22T21:10:02.224Z"
   },
   {
    "duration": 10,
    "start_time": "2022-06-22T21:10:02.294Z"
   },
   {
    "duration": 27,
    "start_time": "2022-06-22T21:10:02.305Z"
   },
   {
    "duration": 36,
    "start_time": "2022-06-22T21:10:02.339Z"
   },
   {
    "duration": 138,
    "start_time": "2022-06-22T21:10:02.377Z"
   },
   {
    "duration": 18,
    "start_time": "2022-06-22T21:10:02.517Z"
   },
   {
    "duration": 159,
    "start_time": "2022-06-22T21:10:02.536Z"
   },
   {
    "duration": 5687,
    "start_time": "2022-06-22T21:10:02.697Z"
   },
   {
    "duration": 129,
    "start_time": "2022-06-22T21:10:08.385Z"
   },
   {
    "duration": 27,
    "start_time": "2022-06-22T21:10:08.516Z"
   },
   {
    "duration": 1069,
    "start_time": "2022-06-22T21:10:08.546Z"
   },
   {
    "duration": 15,
    "start_time": "2022-06-22T21:10:09.617Z"
   },
   {
    "duration": 52,
    "start_time": "2022-06-22T21:10:09.635Z"
   },
   {
    "duration": 67,
    "start_time": "2022-06-22T21:10:09.689Z"
   },
   {
    "duration": 31,
    "start_time": "2022-06-22T21:10:09.757Z"
   },
   {
    "duration": 41,
    "start_time": "2022-06-22T21:10:09.789Z"
   },
   {
    "duration": 48,
    "start_time": "2022-06-23T07:29:16.007Z"
   },
   {
    "duration": 1155,
    "start_time": "2022-06-23T07:29:26.567Z"
   },
   {
    "duration": 104,
    "start_time": "2022-06-23T07:29:27.724Z"
   },
   {
    "duration": 13,
    "start_time": "2022-06-23T07:29:27.829Z"
   },
   {
    "duration": 32,
    "start_time": "2022-06-23T07:29:27.844Z"
   },
   {
    "duration": 3,
    "start_time": "2022-06-23T07:29:27.879Z"
   },
   {
    "duration": 10,
    "start_time": "2022-06-23T07:29:27.884Z"
   },
   {
    "duration": 16,
    "start_time": "2022-06-23T07:29:27.896Z"
   },
   {
    "duration": 158,
    "start_time": "2022-06-23T07:29:27.914Z"
   },
   {
    "duration": 10,
    "start_time": "2022-06-23T07:29:28.074Z"
   },
   {
    "duration": 642,
    "start_time": "2022-06-23T07:29:28.085Z"
   },
   {
    "duration": 114,
    "start_time": "2022-06-23T07:29:28.728Z"
   },
   {
    "duration": 0,
    "start_time": "2022-06-23T07:29:28.845Z"
   },
   {
    "duration": 0,
    "start_time": "2022-06-23T07:29:28.846Z"
   },
   {
    "duration": 0,
    "start_time": "2022-06-23T07:29:28.852Z"
   },
   {
    "duration": 0,
    "start_time": "2022-06-23T07:29:28.854Z"
   },
   {
    "duration": 0,
    "start_time": "2022-06-23T07:29:28.855Z"
   },
   {
    "duration": 0,
    "start_time": "2022-06-23T07:29:28.857Z"
   },
   {
    "duration": 0,
    "start_time": "2022-06-23T07:29:28.859Z"
   },
   {
    "duration": 0,
    "start_time": "2022-06-23T07:29:28.860Z"
   },
   {
    "duration": 9,
    "start_time": "2022-06-23T07:29:37.232Z"
   },
   {
    "duration": 10,
    "start_time": "2022-06-23T07:30:22.069Z"
   },
   {
    "duration": 12,
    "start_time": "2022-06-23T07:30:35.227Z"
   },
   {
    "duration": 144,
    "start_time": "2022-06-23T07:30:35.930Z"
   },
   {
    "duration": 48,
    "start_time": "2022-06-23T07:30:56.429Z"
   },
   {
    "duration": 4,
    "start_time": "2022-06-23T07:31:00.995Z"
   },
   {
    "duration": 44,
    "start_time": "2022-06-23T07:31:01.001Z"
   },
   {
    "duration": 12,
    "start_time": "2022-06-23T07:31:01.047Z"
   },
   {
    "duration": 22,
    "start_time": "2022-06-23T07:31:01.060Z"
   },
   {
    "duration": 35,
    "start_time": "2022-06-23T07:31:01.084Z"
   },
   {
    "duration": 35,
    "start_time": "2022-06-23T07:31:01.121Z"
   },
   {
    "duration": 61,
    "start_time": "2022-06-23T07:31:01.158Z"
   },
   {
    "duration": 186,
    "start_time": "2022-06-23T07:31:01.220Z"
   },
   {
    "duration": 8,
    "start_time": "2022-06-23T07:31:01.408Z"
   },
   {
    "duration": 188,
    "start_time": "2022-06-23T07:31:01.418Z"
   },
   {
    "duration": 44,
    "start_time": "2022-06-23T07:31:01.608Z"
   },
   {
    "duration": 0,
    "start_time": "2022-06-23T07:31:01.654Z"
   },
   {
    "duration": 0,
    "start_time": "2022-06-23T07:31:01.656Z"
   },
   {
    "duration": 0,
    "start_time": "2022-06-23T07:31:01.657Z"
   },
   {
    "duration": 0,
    "start_time": "2022-06-23T07:31:01.659Z"
   },
   {
    "duration": 0,
    "start_time": "2022-06-23T07:31:01.661Z"
   },
   {
    "duration": 0,
    "start_time": "2022-06-23T07:31:01.661Z"
   },
   {
    "duration": 0,
    "start_time": "2022-06-23T07:31:01.663Z"
   },
   {
    "duration": 0,
    "start_time": "2022-06-23T07:31:01.665Z"
   },
   {
    "duration": 5455,
    "start_time": "2022-06-23T07:31:19.718Z"
   },
   {
    "duration": 192,
    "start_time": "2022-06-23T07:31:25.176Z"
   },
   {
    "duration": 13,
    "start_time": "2022-06-23T07:32:21.781Z"
   },
   {
    "duration": 1015,
    "start_time": "2022-06-23T07:32:22.790Z"
   },
   {
    "duration": 8,
    "start_time": "2022-06-23T07:32:23.807Z"
   },
   {
    "duration": 10,
    "start_time": "2022-06-23T07:32:53.595Z"
   },
   {
    "duration": 1019,
    "start_time": "2022-06-23T07:33:36.573Z"
   },
   {
    "duration": 8,
    "start_time": "2022-06-23T07:33:38.280Z"
   },
   {
    "duration": 27,
    "start_time": "2022-06-23T07:34:09.068Z"
   },
   {
    "duration": 29,
    "start_time": "2022-06-23T07:34:09.349Z"
   },
   {
    "duration": 53,
    "start_time": "2022-06-23T07:34:32.700Z"
   },
   {
    "duration": 10,
    "start_time": "2022-06-23T07:35:21.334Z"
   },
   {
    "duration": 26,
    "start_time": "2022-06-23T07:35:23.602Z"
   },
   {
    "duration": 5,
    "start_time": "2022-06-23T07:37:11.438Z"
   },
   {
    "duration": 32,
    "start_time": "2022-06-23T07:37:11.445Z"
   },
   {
    "duration": 12,
    "start_time": "2022-06-23T07:37:11.479Z"
   },
   {
    "duration": 15,
    "start_time": "2022-06-23T07:37:11.493Z"
   },
   {
    "duration": 11,
    "start_time": "2022-06-23T07:37:11.511Z"
   },
   {
    "duration": 12,
    "start_time": "2022-06-23T07:37:11.523Z"
   },
   {
    "duration": 12,
    "start_time": "2022-06-23T07:37:11.537Z"
   },
   {
    "duration": 150,
    "start_time": "2022-06-23T07:37:11.551Z"
   },
   {
    "duration": 8,
    "start_time": "2022-06-23T07:37:11.703Z"
   },
   {
    "duration": 156,
    "start_time": "2022-06-23T07:37:11.713Z"
   },
   {
    "duration": 5664,
    "start_time": "2022-06-23T07:37:11.871Z"
   },
   {
    "duration": 146,
    "start_time": "2022-06-23T07:37:17.537Z"
   },
   {
    "duration": 10,
    "start_time": "2022-06-23T07:37:17.685Z"
   },
   {
    "duration": 1046,
    "start_time": "2022-06-23T07:37:17.698Z"
   },
   {
    "duration": 9,
    "start_time": "2022-06-23T07:37:18.746Z"
   },
   {
    "duration": 50,
    "start_time": "2022-06-23T07:37:18.757Z"
   },
   {
    "duration": 32,
    "start_time": "2022-06-23T07:37:18.809Z"
   },
   {
    "duration": 16,
    "start_time": "2022-06-23T07:37:18.852Z"
   },
   {
    "duration": 33,
    "start_time": "2022-06-23T07:37:18.870Z"
   }
  ],
  "kernelspec": {
   "display_name": "Python 3 (ipykernel)",
   "language": "python",
   "name": "python3"
  },
  "language_info": {
   "codemirror_mode": {
    "name": "ipython",
    "version": 3
   },
   "file_extension": ".py",
   "mimetype": "text/x-python",
   "name": "python",
   "nbconvert_exporter": "python",
   "pygments_lexer": "ipython3",
   "version": "3.9.5"
  },
  "toc": {
   "base_numbering": 1,
   "nav_menu": {},
   "number_sections": true,
   "sideBar": true,
   "skip_h1_title": true,
   "title_cell": "Table of Contents",
   "title_sidebar": "Contents",
   "toc_cell": false,
   "toc_position": {
    "height": "calc(100% - 180px)",
    "left": "10px",
    "top": "150px",
    "width": "165px"
   },
   "toc_section_display": true,
   "toc_window_display": false
  }
 },
 "nbformat": 4,
 "nbformat_minor": 2
}
