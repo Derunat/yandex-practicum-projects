{
 "cells": [
  {
   "cell_type": "markdown",
   "metadata": {},
   "source": [
    "# Выбор локации для скважины"
   ]
  },
  {
   "cell_type": "markdown",
   "metadata": {},
   "source": [
    "Нужно решить, где бурить новую скважину.\n",
    "\n",
    "Предоставлены пробы нефти в трёх регионах: в каждом 10 000 месторождений, где измерили качество нефти и объём её запасов. Нужно построить модель машинного обучения, которая поможет определить регион, где добыча принесёт наибольшую прибыль. \n",
    "\n",
    "Шаги для выбора локации:\n",
    "\n",
    "- В избранном регионе ищут месторождения, для каждого определяют значения признаков;\n",
    "- Строят модель и оценивают объём запасов;\n",
    "- Выбирают месторождения с самым высокими оценками значений. Количество месторождений зависит от бюджета компании и стоимости разработки одной скважины;\n",
    "- Прибыль равна суммарной прибыли отобранных месторождений."
   ]
  },
  {
   "cell_type": "markdown",
   "metadata": {},
   "source": [
    "## Загрузка и подготовка данных"
   ]
  },
  {
   "cell_type": "code",
   "execution_count": 1,
   "metadata": {},
   "outputs": [],
   "source": [
    "import pandas as pd\n",
    "from sklearn.model_selection import train_test_split\n",
    "from sklearn.linear_model import LinearRegression\n",
    "from sklearn.metrics import mean_squared_error\n",
    "import numpy as np"
   ]
  },
  {
   "cell_type": "code",
   "execution_count": 2,
   "metadata": {},
   "outputs": [],
   "source": [
    "data_0 = pd.read_csv('/datasets/geo_data_0.csv')\n",
    "data_1 = pd.read_csv('/datasets/geo_data_1.csv')\n",
    "data_2 = pd.read_csv('/datasets/geo_data_2.csv')"
   ]
  },
  {
   "cell_type": "markdown",
   "metadata": {},
   "source": [
    "Первичный осмотр данных"
   ]
  },
  {
   "cell_type": "code",
   "execution_count": 3,
   "metadata": {},
   "outputs": [
    {
     "name": "stdout",
     "output_type": "stream",
     "text": [
      "<class 'pandas.core.frame.DataFrame'>\n",
      "RangeIndex: 100000 entries, 0 to 99999\n",
      "Data columns (total 5 columns):\n",
      " #   Column   Non-Null Count   Dtype  \n",
      "---  ------   --------------   -----  \n",
      " 0   id       100000 non-null  object \n",
      " 1   f0       100000 non-null  float64\n",
      " 2   f1       100000 non-null  float64\n",
      " 3   f2       100000 non-null  float64\n",
      " 4   product  100000 non-null  float64\n",
      "dtypes: float64(4), object(1)\n",
      "memory usage: 3.8+ MB\n"
     ]
    },
    {
     "data": {
      "text/html": [
       "<div>\n",
       "<style scoped>\n",
       "    .dataframe tbody tr th:only-of-type {\n",
       "        vertical-align: middle;\n",
       "    }\n",
       "\n",
       "    .dataframe tbody tr th {\n",
       "        vertical-align: top;\n",
       "    }\n",
       "\n",
       "    .dataframe thead th {\n",
       "        text-align: right;\n",
       "    }\n",
       "</style>\n",
       "<table border=\"1\" class=\"dataframe\">\n",
       "  <thead>\n",
       "    <tr style=\"text-align: right;\">\n",
       "      <th></th>\n",
       "      <th>id</th>\n",
       "      <th>f0</th>\n",
       "      <th>f1</th>\n",
       "      <th>f2</th>\n",
       "      <th>product</th>\n",
       "    </tr>\n",
       "  </thead>\n",
       "  <tbody>\n",
       "    <tr>\n",
       "      <th>0</th>\n",
       "      <td>txEyH</td>\n",
       "      <td>0.705745</td>\n",
       "      <td>-0.497823</td>\n",
       "      <td>1.221170</td>\n",
       "      <td>105.280062</td>\n",
       "    </tr>\n",
       "    <tr>\n",
       "      <th>1</th>\n",
       "      <td>2acmU</td>\n",
       "      <td>1.334711</td>\n",
       "      <td>-0.340164</td>\n",
       "      <td>4.365080</td>\n",
       "      <td>73.037750</td>\n",
       "    </tr>\n",
       "    <tr>\n",
       "      <th>2</th>\n",
       "      <td>409Wp</td>\n",
       "      <td>1.022732</td>\n",
       "      <td>0.151990</td>\n",
       "      <td>1.419926</td>\n",
       "      <td>85.265647</td>\n",
       "    </tr>\n",
       "    <tr>\n",
       "      <th>3</th>\n",
       "      <td>iJLyR</td>\n",
       "      <td>-0.032172</td>\n",
       "      <td>0.139033</td>\n",
       "      <td>2.978566</td>\n",
       "      <td>168.620776</td>\n",
       "    </tr>\n",
       "    <tr>\n",
       "      <th>4</th>\n",
       "      <td>Xdl7t</td>\n",
       "      <td>1.988431</td>\n",
       "      <td>0.155413</td>\n",
       "      <td>4.751769</td>\n",
       "      <td>154.036647</td>\n",
       "    </tr>\n",
       "  </tbody>\n",
       "</table>\n",
       "</div>"
      ],
      "text/plain": [
       "      id        f0        f1        f2     product\n",
       "0  txEyH  0.705745 -0.497823  1.221170  105.280062\n",
       "1  2acmU  1.334711 -0.340164  4.365080   73.037750\n",
       "2  409Wp  1.022732  0.151990  1.419926   85.265647\n",
       "3  iJLyR -0.032172  0.139033  2.978566  168.620776\n",
       "4  Xdl7t  1.988431  0.155413  4.751769  154.036647"
      ]
     },
     "execution_count": 3,
     "metadata": {},
     "output_type": "execute_result"
    }
   ],
   "source": [
    "data_0.info()\n",
    "data_0.head()"
   ]
  },
  {
   "cell_type": "code",
   "execution_count": 4,
   "metadata": {},
   "outputs": [
    {
     "name": "stdout",
     "output_type": "stream",
     "text": [
      "<class 'pandas.core.frame.DataFrame'>\n",
      "RangeIndex: 100000 entries, 0 to 99999\n",
      "Data columns (total 5 columns):\n",
      " #   Column   Non-Null Count   Dtype  \n",
      "---  ------   --------------   -----  \n",
      " 0   id       100000 non-null  object \n",
      " 1   f0       100000 non-null  float64\n",
      " 2   f1       100000 non-null  float64\n",
      " 3   f2       100000 non-null  float64\n",
      " 4   product  100000 non-null  float64\n",
      "dtypes: float64(4), object(1)\n",
      "memory usage: 3.8+ MB\n"
     ]
    },
    {
     "data": {
      "text/html": [
       "<div>\n",
       "<style scoped>\n",
       "    .dataframe tbody tr th:only-of-type {\n",
       "        vertical-align: middle;\n",
       "    }\n",
       "\n",
       "    .dataframe tbody tr th {\n",
       "        vertical-align: top;\n",
       "    }\n",
       "\n",
       "    .dataframe thead th {\n",
       "        text-align: right;\n",
       "    }\n",
       "</style>\n",
       "<table border=\"1\" class=\"dataframe\">\n",
       "  <thead>\n",
       "    <tr style=\"text-align: right;\">\n",
       "      <th></th>\n",
       "      <th>id</th>\n",
       "      <th>f0</th>\n",
       "      <th>f1</th>\n",
       "      <th>f2</th>\n",
       "      <th>product</th>\n",
       "    </tr>\n",
       "  </thead>\n",
       "  <tbody>\n",
       "    <tr>\n",
       "      <th>0</th>\n",
       "      <td>kBEdx</td>\n",
       "      <td>-15.001348</td>\n",
       "      <td>-8.276000</td>\n",
       "      <td>-0.005876</td>\n",
       "      <td>3.179103</td>\n",
       "    </tr>\n",
       "    <tr>\n",
       "      <th>1</th>\n",
       "      <td>62mP7</td>\n",
       "      <td>14.272088</td>\n",
       "      <td>-3.475083</td>\n",
       "      <td>0.999183</td>\n",
       "      <td>26.953261</td>\n",
       "    </tr>\n",
       "    <tr>\n",
       "      <th>2</th>\n",
       "      <td>vyE1P</td>\n",
       "      <td>6.263187</td>\n",
       "      <td>-5.948386</td>\n",
       "      <td>5.001160</td>\n",
       "      <td>134.766305</td>\n",
       "    </tr>\n",
       "    <tr>\n",
       "      <th>3</th>\n",
       "      <td>KcrkZ</td>\n",
       "      <td>-13.081196</td>\n",
       "      <td>-11.506057</td>\n",
       "      <td>4.999415</td>\n",
       "      <td>137.945408</td>\n",
       "    </tr>\n",
       "    <tr>\n",
       "      <th>4</th>\n",
       "      <td>AHL4O</td>\n",
       "      <td>12.702195</td>\n",
       "      <td>-8.147433</td>\n",
       "      <td>5.004363</td>\n",
       "      <td>134.766305</td>\n",
       "    </tr>\n",
       "  </tbody>\n",
       "</table>\n",
       "</div>"
      ],
      "text/plain": [
       "      id         f0         f1        f2     product\n",
       "0  kBEdx -15.001348  -8.276000 -0.005876    3.179103\n",
       "1  62mP7  14.272088  -3.475083  0.999183   26.953261\n",
       "2  vyE1P   6.263187  -5.948386  5.001160  134.766305\n",
       "3  KcrkZ -13.081196 -11.506057  4.999415  137.945408\n",
       "4  AHL4O  12.702195  -8.147433  5.004363  134.766305"
      ]
     },
     "execution_count": 4,
     "metadata": {},
     "output_type": "execute_result"
    }
   ],
   "source": [
    "data_1.info()\n",
    "data_1.head()"
   ]
  },
  {
   "cell_type": "code",
   "execution_count": 5,
   "metadata": {},
   "outputs": [
    {
     "name": "stdout",
     "output_type": "stream",
     "text": [
      "<class 'pandas.core.frame.DataFrame'>\n",
      "RangeIndex: 100000 entries, 0 to 99999\n",
      "Data columns (total 5 columns):\n",
      " #   Column   Non-Null Count   Dtype  \n",
      "---  ------   --------------   -----  \n",
      " 0   id       100000 non-null  object \n",
      " 1   f0       100000 non-null  float64\n",
      " 2   f1       100000 non-null  float64\n",
      " 3   f2       100000 non-null  float64\n",
      " 4   product  100000 non-null  float64\n",
      "dtypes: float64(4), object(1)\n",
      "memory usage: 3.8+ MB\n"
     ]
    },
    {
     "data": {
      "text/html": [
       "<div>\n",
       "<style scoped>\n",
       "    .dataframe tbody tr th:only-of-type {\n",
       "        vertical-align: middle;\n",
       "    }\n",
       "\n",
       "    .dataframe tbody tr th {\n",
       "        vertical-align: top;\n",
       "    }\n",
       "\n",
       "    .dataframe thead th {\n",
       "        text-align: right;\n",
       "    }\n",
       "</style>\n",
       "<table border=\"1\" class=\"dataframe\">\n",
       "  <thead>\n",
       "    <tr style=\"text-align: right;\">\n",
       "      <th></th>\n",
       "      <th>id</th>\n",
       "      <th>f0</th>\n",
       "      <th>f1</th>\n",
       "      <th>f2</th>\n",
       "      <th>product</th>\n",
       "    </tr>\n",
       "  </thead>\n",
       "  <tbody>\n",
       "    <tr>\n",
       "      <th>0</th>\n",
       "      <td>fwXo0</td>\n",
       "      <td>-1.146987</td>\n",
       "      <td>0.963328</td>\n",
       "      <td>-0.828965</td>\n",
       "      <td>27.758673</td>\n",
       "    </tr>\n",
       "    <tr>\n",
       "      <th>1</th>\n",
       "      <td>WJtFt</td>\n",
       "      <td>0.262778</td>\n",
       "      <td>0.269839</td>\n",
       "      <td>-2.530187</td>\n",
       "      <td>56.069697</td>\n",
       "    </tr>\n",
       "    <tr>\n",
       "      <th>2</th>\n",
       "      <td>ovLUW</td>\n",
       "      <td>0.194587</td>\n",
       "      <td>0.289035</td>\n",
       "      <td>-5.586433</td>\n",
       "      <td>62.871910</td>\n",
       "    </tr>\n",
       "    <tr>\n",
       "      <th>3</th>\n",
       "      <td>q6cA6</td>\n",
       "      <td>2.236060</td>\n",
       "      <td>-0.553760</td>\n",
       "      <td>0.930038</td>\n",
       "      <td>114.572842</td>\n",
       "    </tr>\n",
       "    <tr>\n",
       "      <th>4</th>\n",
       "      <td>WPMUX</td>\n",
       "      <td>-0.515993</td>\n",
       "      <td>1.716266</td>\n",
       "      <td>5.899011</td>\n",
       "      <td>149.600746</td>\n",
       "    </tr>\n",
       "  </tbody>\n",
       "</table>\n",
       "</div>"
      ],
      "text/plain": [
       "      id        f0        f1        f2     product\n",
       "0  fwXo0 -1.146987  0.963328 -0.828965   27.758673\n",
       "1  WJtFt  0.262778  0.269839 -2.530187   56.069697\n",
       "2  ovLUW  0.194587  0.289035 -5.586433   62.871910\n",
       "3  q6cA6  2.236060 -0.553760  0.930038  114.572842\n",
       "4  WPMUX -0.515993  1.716266  5.899011  149.600746"
      ]
     },
     "execution_count": 5,
     "metadata": {},
     "output_type": "execute_result"
    }
   ],
   "source": [
    "data_2.info()\n",
    "data_2.head()"
   ]
  },
  {
   "cell_type": "code",
   "execution_count": 6,
   "metadata": {},
   "outputs": [
    {
     "data": {
      "text/plain": [
       "0"
      ]
     },
     "metadata": {},
     "output_type": "display_data"
    },
    {
     "data": {
      "text/plain": [
       "0"
      ]
     },
     "metadata": {},
     "output_type": "display_data"
    },
    {
     "data": {
      "text/plain": [
       "0"
      ]
     },
     "metadata": {},
     "output_type": "display_data"
    },
    {
     "data": {
      "text/plain": [
       "10"
      ]
     },
     "metadata": {},
     "output_type": "display_data"
    },
    {
     "data": {
      "text/plain": [
       "4"
      ]
     },
     "metadata": {},
     "output_type": "display_data"
    },
    {
     "data": {
      "text/plain": [
       "4"
      ]
     },
     "metadata": {},
     "output_type": "display_data"
    }
   ],
   "source": [
    "#проверка на повторы \n",
    "\n",
    "display(data_0.duplicated().sum())\n",
    "display(data_1.duplicated().sum())\n",
    "display(data_2.duplicated().sum())\n",
    "\n",
    "#проверка на повторы по id объекта\n",
    "display(data_0['id'].duplicated().sum())\n",
    "display(data_1['id'].duplicated().sum())\n",
    "display(data_2['id'].duplicated().sum())"
   ]
  },
  {
   "cell_type": "markdown",
   "metadata": {},
   "source": [
    "**Выводы:**\n",
    "\n",
    " - Для каждого региона есть по 100 000 объектов\n",
    " -  с типом данных и пропусками проблем нет\n",
    " - полностью ни одна строка не повторяется, но есть незначительное число повторов по id объектов. Это могут быть или ошибочные данные, или \"перезапись\" с обновленными данными. В любом случае, их очень мало и повторы можно отбросить"
   ]
  },
  {
   "cell_type": "markdown",
   "metadata": {},
   "source": [
    "Данные по трем регионам будем исследовать отдельно. Поэтому, чтобы трижды не повторять все блоки, создаем один общий датафрейм с дополнительным признаком 'region'"
   ]
  },
  {
   "cell_type": "code",
   "execution_count": 7,
   "metadata": {},
   "outputs": [],
   "source": [
    "#создаем дополнительный столбец с индексом региона\n",
    "data_0['region']=0\n",
    "data_1['region']=1\n",
    "data_2['region']=2\n",
    "\n",
    "#объедиение в один датафрейм\n",
    "data = data_0.append(data_1).append(data_2)"
   ]
  },
  {
   "cell_type": "code",
   "execution_count": 8,
   "metadata": {},
   "outputs": [],
   "source": [
    "data.drop_duplicates(subset = ['id'],inplace = True) #убираем дубликаты"
   ]
  },
  {
   "cell_type": "markdown",
   "metadata": {},
   "source": [
    "## Обучение и проверка модели"
   ]
  },
  {
   "cell_type": "markdown",
   "metadata": {},
   "source": [
    "Чтобы не плодить переменные, все результаты будем записывать в датафреймы. Предсказанный средний запас и RMSE записываем в массив mean_RMSE. В дальнейшем нам пригодятся реальные и предсказанные значения для валидационных выборок для всех трех регионов. Поэтому эти данные записываем в отдельный массив - results"
   ]
  },
  {
   "cell_type": "code",
   "execution_count": 9,
   "metadata": {},
   "outputs": [
    {
     "data": {
      "text/html": [
       "<div>\n",
       "<style scoped>\n",
       "    .dataframe tbody tr th:only-of-type {\n",
       "        vertical-align: middle;\n",
       "    }\n",
       "\n",
       "    .dataframe tbody tr th {\n",
       "        vertical-align: top;\n",
       "    }\n",
       "\n",
       "    .dataframe thead th {\n",
       "        text-align: right;\n",
       "    }\n",
       "</style>\n",
       "<table border=\"1\" class=\"dataframe\">\n",
       "  <thead>\n",
       "    <tr style=\"text-align: right;\">\n",
       "      <th></th>\n",
       "      <th>RMSE</th>\n",
       "      <th>средний запас</th>\n",
       "    </tr>\n",
       "  </thead>\n",
       "  <tbody>\n",
       "    <tr>\n",
       "      <th>0</th>\n",
       "      <td>37.526919</td>\n",
       "      <td>92.546292</td>\n",
       "    </tr>\n",
       "    <tr>\n",
       "      <th>1</th>\n",
       "      <td>0.892727</td>\n",
       "      <td>68.601247</td>\n",
       "    </tr>\n",
       "    <tr>\n",
       "      <th>2</th>\n",
       "      <td>39.846444</td>\n",
       "      <td>94.998673</td>\n",
       "    </tr>\n",
       "  </tbody>\n",
       "</table>\n",
       "</div>"
      ],
      "text/plain": [
       "        RMSE  средний запас\n",
       "0  37.526919      92.546292\n",
       "1   0.892727      68.601247\n",
       "2  39.846444      94.998673"
      ]
     },
     "execution_count": 9,
     "metadata": {},
     "output_type": "execute_result"
    }
   ],
   "source": [
    "mean_RMSE = pd.DataFrame()\n",
    "results =pd.DataFrame()\n",
    "\n",
    "for i in range(0,3):\n",
    "    \n",
    "    features = data.loc[data['region']==i].drop(columns = ['product','id', 'region'], axis =1)\n",
    "    target = data.loc[data['region']==i]['product']   \n",
    "    features_train, features_valid,  target_train, target_valid = train_test_split(\n",
    "        features, target, test_size=0.25, random_state=1)\n",
    "    \n",
    "    model = LinearRegression()\n",
    "    model.fit(features_train, target_train)\n",
    "    \n",
    "    predicted_valid = model.predict(features_valid)\n",
    "    mse = mean_squared_error(target_valid, predicted_valid)\n",
    "    \n",
    "    results = results.append({'predicted':predicted_valid.tolist(),'real':target_valid.tolist()}, ignore_index = True)\n",
    "    \n",
    "    mean_RMSE = mean_RMSE.append({'RMSE': mse**.5, 'средний запас':predicted_valid.mean()}, ignore_index=True)\n",
    "    \n",
    "mean_RMSE"
   ]
  },
  {
   "cell_type": "code",
   "execution_count": 10,
   "metadata": {},
   "outputs": [
    {
     "data": {
      "text/plain": [
       "<AxesSubplot:>"
      ]
     },
     "execution_count": 10,
     "metadata": {},
     "output_type": "execute_result"
    },
    {
     "data": {
      "image/png": "[encoded data removed]",
      "text/plain": [
       "<Figure size 432x288 with 1 Axes>"
      ]
     },
     "metadata": {
      "needs_background": "light"
     },
     "output_type": "display_data"
    }
   ],
   "source": [
    "mean_RMSE['средний запас'].plot(kind='bar')"
   ]
  },
  {
   "cell_type": "markdown",
   "metadata": {},
   "source": [
    "**Выводы:**\n",
    "\n",
    " - в регионе с индексом 1 самый низкий средний запас, зато самый маленький RMSE. Получается, что регрессия сработала лучше всего именно для этого региона\n",
    " - средний запас и RMSE в регионах 0 и 2 очень близки\n"
   ]
  },
  {
   "cell_type": "markdown",
   "metadata": {},
   "source": [
    "## Подготовка к расчёту прибыли"
   ]
  },
  {
   "cell_type": "code",
   "execution_count": 11,
   "metadata": {},
   "outputs": [],
   "source": [
    "#запись ключевых значений в переменные\n",
    "\n",
    "buget = 10000000000\n",
    "barrel_price =  450\n",
    "top_amount = 200\n",
    "new_mines_amount = 500"
   ]
  },
  {
   "cell_type": "markdown",
   "metadata": {},
   "source": [
    "Найдем минимальный объем скважины, который будет как минимум компенсировать расходы"
   ]
  },
  {
   "cell_type": "code",
   "execution_count": 12,
   "metadata": {},
   "outputs": [
    {
     "data": {
      "text/plain": [
       "111.11111111111111"
      ]
     },
     "execution_count": 12,
     "metadata": {},
     "output_type": "execute_result"
    }
   ],
   "source": [
    "min_volume = buget/top_amount/barrel_price/1000\n",
    "min_volume"
   ]
  },
  {
   "cell_type": "markdown",
   "metadata": {},
   "source": [
    "**Выводы**\n",
    "\n",
    " - для всех трех регионов средний запас ниже минимального неубыточного\n",
    " - дальше всего от необходимого минимума регион 2"
   ]
  },
  {
   "cell_type": "markdown",
   "metadata": {},
   "source": [
    "## Расчёт прибыли и рисков "
   ]
  },
  {
   "cell_type": "code",
   "execution_count": 13,
   "metadata": {},
   "outputs": [],
   "source": [
    "#функция для расчета прибыли \n",
    "\n",
    "def profit(real, predicted, count):\n",
    "    predicted = predicted.sort_values(ascending=False)\n",
    "    selected = real[predicted.index][:count]\n",
    "    return (barrel_price*1000*selected.sum()-10**10)/1_000_000_000  #здесь делим на миллиард, чтобы цифры отображались удобнее"
   ]
  },
  {
   "cell_type": "code",
   "execution_count": 14,
   "metadata": {},
   "outputs": [],
   "source": [
    "#функция, реализующая бутстреп\n",
    "\n",
    "def bootstrap(real,predicted,count):\n",
    "    \n",
    "    state = np.random.RandomState(1)\n",
    "    \n",
    "    real = pd.Series(real)\n",
    "    predicted = pd.Series(predicted)\n",
    "    count = 0\n",
    "    revenues_bs = []\n",
    "    bs_iterations = 1000\n",
    "    \n",
    "    for i in range(bs_iterations):\n",
    "       \n",
    "        real_subsample = real.sample(n=new_mines_amount, random_state=state,  replace=True)\n",
    "        predicted_subsample = predicted[real_subsample.index] \n",
    "        revenue = profit(real_subsample,predicted_subsample,top_amount)\n",
    "        revenues_bs.append(revenue)\n",
    "        \n",
    "        if revenue < 0:\n",
    "        #if revenue < buget/1000000000:\n",
    "            count+=1\n",
    "\n",
    "    revenues_bs = pd.Series(revenues_bs)\n",
    "    \n",
    "    lower = revenues_bs.quantile(q=0.025) #расчет нижнего квантиля \n",
    "    upper = revenues_bs.quantile(q=0.975) #расчет верхнего квантиля\n",
    "    mean = revenues_bs.mean() #расчет среднего дохода\n",
    "    loss_prob = count/bs_iterations  # вероятность того, что выбранные 200 скважин окажутся убыточными\n",
    "    \n",
    "    return mean,lower,upper, loss_prob"
   ]
  },
  {
   "cell_type": "code",
   "execution_count": 15,
   "metadata": {
    "scrolled": true
   },
   "outputs": [
    {
     "data": {
      "text/html": [
       "<div>\n",
       "<style scoped>\n",
       "    .dataframe tbody tr th:only-of-type {\n",
       "        vertical-align: middle;\n",
       "    }\n",
       "\n",
       "    .dataframe tbody tr th {\n",
       "        vertical-align: top;\n",
       "    }\n",
       "\n",
       "    .dataframe thead th {\n",
       "        text-align: right;\n",
       "    }\n",
       "</style>\n",
       "<table border=\"1\" class=\"dataframe\">\n",
       "  <thead>\n",
       "    <tr style=\"text-align: right;\">\n",
       "      <th></th>\n",
       "      <th>loss_probability</th>\n",
       "      <th>lower</th>\n",
       "      <th>mean_revenue</th>\n",
       "      <th>upper</th>\n",
       "    </tr>\n",
       "  </thead>\n",
       "  <tbody>\n",
       "    <tr>\n",
       "      <th>0</th>\n",
       "      <td>0.062</td>\n",
       "      <td>-0.140001</td>\n",
       "      <td>0.456085</td>\n",
       "      <td>0.993285</td>\n",
       "    </tr>\n",
       "    <tr>\n",
       "      <th>1</th>\n",
       "      <td>0.015</td>\n",
       "      <td>0.046517</td>\n",
       "      <td>0.475111</td>\n",
       "      <td>0.897198</td>\n",
       "    </tr>\n",
       "    <tr>\n",
       "      <th>2</th>\n",
       "      <td>0.046</td>\n",
       "      <td>-0.105032</td>\n",
       "      <td>0.472886</td>\n",
       "      <td>1.027246</td>\n",
       "    </tr>\n",
       "  </tbody>\n",
       "</table>\n",
       "</div>"
      ],
      "text/plain": [
       "   loss_probability     lower  mean_revenue     upper\n",
       "0             0.062 -0.140001      0.456085  0.993285\n",
       "1             0.015  0.046517      0.475111  0.897198\n",
       "2             0.046 -0.105032      0.472886  1.027246"
      ]
     },
     "execution_count": 15,
     "metadata": {},
     "output_type": "execute_result"
    }
   ],
   "source": [
    "#применение функций для всех трех регионов\n",
    "\n",
    "revenues = pd.DataFrame()\n",
    "\n",
    "for i in range(0,3):\n",
    "    \n",
    "    bs_result = bootstrap(pd.Series(results['real'][i]),\n",
    "                          pd.Series(results['predicted'][i]),top_amount)\n",
    "    \n",
    "    revenues = revenues.append({'mean_revenue': bs_result[0],\n",
    "                                'lower': bs_result[1], \n",
    "                                'upper':bs_result[2],\n",
    "                                'loss_probability':bs_result[3]}, ignore_index=True)\n",
    "    \n",
    "revenues"
   ]
  },
  {
   "cell_type": "markdown",
   "metadata": {},
   "source": [
    "**Выводы:**\n",
    "\n",
    " - В регионах с индексами 0 и 2 вероятность получить убыточный набор скважин больше 2,5% \n",
    " - Только в регионе с индексом 1 доверительный интервал прибыли не уходит в минус\n",
    " - При этом средняя прибыль оказывается примерно одинаковой во всех регионах\n",
    " - несмотря на то, что в регионе 1 самый низкий средний запас, распределение скважин таково, что лишь с вероятность 1,5% набор из 200 скважин окажется убыточным\n",
    "\n",
    " \n",
    "**Для дальнейшей разработки рекомендуется регион с индексом 1**"
   ]
  }
 ],
 "metadata": {
  "ExecuteTimeLog": [
   {
    "duration": 46,
    "start_time": "2022-07-24T12:33:03.950Z"
   },
   {
    "duration": 379,
    "start_time": "2022-07-24T12:33:30.616Z"
   },
   {
    "duration": 765,
    "start_time": "2022-07-24T12:33:31.169Z"
   },
   {
    "duration": 18,
    "start_time": "2022-07-24T12:33:50.561Z"
   },
   {
    "duration": 28,
    "start_time": "2022-07-24T12:34:14.353Z"
   },
   {
    "duration": 21,
    "start_time": "2022-07-24T12:34:35.277Z"
   },
   {
    "duration": 20,
    "start_time": "2022-07-24T12:34:45.073Z"
   },
   {
    "duration": 6,
    "start_time": "2022-07-24T12:46:55.006Z"
   },
   {
    "duration": 51,
    "start_time": "2022-07-24T13:15:55.940Z"
   },
   {
    "duration": 46,
    "start_time": "2022-07-24T13:16:02.807Z"
   },
   {
    "duration": 52,
    "start_time": "2022-07-24T13:16:05.299Z"
   },
   {
    "duration": 75,
    "start_time": "2022-07-24T13:17:07.174Z"
   },
   {
    "duration": 73,
    "start_time": "2022-07-24T13:22:16.157Z"
   },
   {
    "duration": 14,
    "start_time": "2022-07-24T13:22:22.414Z"
   },
   {
    "duration": 58,
    "start_time": "2022-07-24T13:23:31.381Z"
   },
   {
    "duration": 54,
    "start_time": "2022-07-24T13:23:37.032Z"
   },
   {
    "duration": 50,
    "start_time": "2022-07-24T13:23:39.096Z"
   },
   {
    "duration": 67,
    "start_time": "2022-07-24T13:25:16.259Z"
   },
   {
    "duration": 48,
    "start_time": "2022-07-24T13:25:19.992Z"
   },
   {
    "duration": 51,
    "start_time": "2022-07-24T13:25:22.077Z"
   },
   {
    "duration": 54,
    "start_time": "2022-07-24T13:25:33.223Z"
   },
   {
    "duration": 6,
    "start_time": "2022-07-24T13:26:05.703Z"
   },
   {
    "duration": 694,
    "start_time": "2022-07-24T13:36:07.161Z"
   },
   {
    "duration": 18,
    "start_time": "2022-07-24T13:36:11.254Z"
   },
   {
    "duration": 3,
    "start_time": "2022-07-24T13:36:16.549Z"
   },
   {
    "duration": 379,
    "start_time": "2022-07-24T13:36:16.554Z"
   },
   {
    "duration": 21,
    "start_time": "2022-07-24T13:36:16.934Z"
   },
   {
    "duration": 20,
    "start_time": "2022-07-24T13:36:16.964Z"
   },
   {
    "duration": 19,
    "start_time": "2022-07-24T13:36:16.985Z"
   },
   {
    "duration": 4,
    "start_time": "2022-07-24T13:36:17.005Z"
   },
   {
    "duration": 6,
    "start_time": "2022-07-24T13:36:19.582Z"
   },
   {
    "duration": 15,
    "start_time": "2022-07-24T13:36:19.896Z"
   },
   {
    "duration": 39,
    "start_time": "2022-07-24T13:36:36.369Z"
   },
   {
    "duration": 22,
    "start_time": "2022-07-24T13:36:51.523Z"
   },
   {
    "duration": 12,
    "start_time": "2022-07-24T13:36:57.303Z"
   },
   {
    "duration": 17,
    "start_time": "2022-07-24T13:38:09.485Z"
   },
   {
    "duration": 12,
    "start_time": "2022-07-24T13:40:58.681Z"
   },
   {
    "duration": 19,
    "start_time": "2022-07-24T13:41:06.365Z"
   },
   {
    "duration": 15,
    "start_time": "2022-07-24T13:41:57.909Z"
   },
   {
    "duration": 10,
    "start_time": "2022-07-24T13:42:28.324Z"
   },
   {
    "duration": 10,
    "start_time": "2022-07-24T13:43:05.937Z"
   },
   {
    "duration": 15,
    "start_time": "2022-07-24T13:44:10.872Z"
   },
   {
    "duration": 9,
    "start_time": "2022-07-24T13:52:02.886Z"
   },
   {
    "duration": 111,
    "start_time": "2022-07-24T13:52:15.016Z"
   },
   {
    "duration": 6,
    "start_time": "2022-07-24T13:52:24.650Z"
   },
   {
    "duration": 5,
    "start_time": "2022-07-24T13:52:36.188Z"
   },
   {
    "duration": 5,
    "start_time": "2022-07-24T13:52:42.404Z"
   },
   {
    "duration": 4,
    "start_time": "2022-07-24T13:53:03.206Z"
   },
   {
    "duration": 3,
    "start_time": "2022-07-24T13:54:49.281Z"
   },
   {
    "duration": 25,
    "start_time": "2022-07-24T13:54:54.685Z"
   },
   {
    "duration": 6,
    "start_time": "2022-07-24T13:55:10.641Z"
   },
   {
    "duration": 13,
    "start_time": "2022-07-24T13:55:11.542Z"
   },
   {
    "duration": 14,
    "start_time": "2022-07-24T13:58:14.826Z"
   },
   {
    "duration": 11,
    "start_time": "2022-07-24T14:00:36.648Z"
   },
   {
    "duration": 33,
    "start_time": "2022-07-24T14:00:54.680Z"
   },
   {
    "duration": 876,
    "start_time": "2022-07-24T14:00:55.705Z"
   },
   {
    "duration": 18,
    "start_time": "2022-07-24T14:01:22.580Z"
   },
   {
    "duration": 1043,
    "start_time": "2022-07-24T14:01:37.326Z"
   },
   {
    "duration": 50,
    "start_time": "2022-07-24T14:01:40.386Z"
   },
   {
    "duration": 85,
    "start_time": "2022-07-24T14:01:46.824Z"
   },
   {
    "duration": 1171,
    "start_time": "2022-07-24T14:01:49.893Z"
   },
   {
    "duration": 4,
    "start_time": "2022-07-24T14:02:10.680Z"
   },
   {
    "duration": 25,
    "start_time": "2022-07-24T14:02:12.745Z"
   },
   {
    "duration": 518,
    "start_time": "2022-07-24T14:02:22.946Z"
   },
   {
    "duration": 377,
    "start_time": "2022-07-24T14:02:46.408Z"
   },
   {
    "duration": 441,
    "start_time": "2022-07-24T14:05:06.035Z"
   },
   {
    "duration": 114,
    "start_time": "2022-07-24T14:07:47.356Z"
   },
   {
    "duration": 592,
    "start_time": "2022-07-24T14:08:00.577Z"
   },
   {
    "duration": 492,
    "start_time": "2022-07-24T14:08:07.875Z"
   },
   {
    "duration": 50,
    "start_time": "2022-07-24T14:08:27.956Z"
   },
   {
    "duration": 51,
    "start_time": "2022-07-24T14:08:32.171Z"
   },
   {
    "duration": 493,
    "start_time": "2022-07-24T14:08:36.071Z"
   },
   {
    "duration": 4,
    "start_time": "2022-07-24T14:09:49.305Z"
   },
   {
    "duration": 7,
    "start_time": "2022-07-24T14:09:55.878Z"
   },
   {
    "duration": 1081,
    "start_time": "2022-07-24T14:10:25.698Z"
   },
   {
    "duration": 430,
    "start_time": "2022-07-24T14:10:59.650Z"
   },
   {
    "duration": 6,
    "start_time": "2022-07-24T14:11:07.280Z"
   },
   {
    "duration": 372,
    "start_time": "2022-07-24T14:13:26.329Z"
   },
   {
    "duration": 10,
    "start_time": "2022-07-24T14:13:27.985Z"
   },
   {
    "duration": 392,
    "start_time": "2022-07-24T14:14:19.286Z"
   },
   {
    "duration": 12,
    "start_time": "2022-07-24T14:14:20.280Z"
   },
   {
    "duration": 4,
    "start_time": "2022-07-24T14:14:37.777Z"
   },
   {
    "duration": 419,
    "start_time": "2022-07-24T14:14:37.783Z"
   },
   {
    "duration": 101,
    "start_time": "2022-07-24T14:14:38.204Z"
   },
   {
    "duration": 23,
    "start_time": "2022-07-24T14:14:38.307Z"
   },
   {
    "duration": 5,
    "start_time": "2022-07-24T14:14:38.332Z"
   },
   {
    "duration": 19,
    "start_time": "2022-07-24T14:14:38.338Z"
   },
   {
    "duration": 423,
    "start_time": "2022-07-24T14:14:38.370Z"
   },
   {
    "duration": 71,
    "start_time": "2022-07-24T14:14:38.796Z"
   },
   {
    "duration": 3,
    "start_time": "2022-07-24T14:14:52.849Z"
   },
   {
    "duration": 419,
    "start_time": "2022-07-24T14:14:52.855Z"
   },
   {
    "duration": 111,
    "start_time": "2022-07-24T14:14:53.276Z"
   },
   {
    "duration": 36,
    "start_time": "2022-07-24T14:14:53.389Z"
   },
   {
    "duration": 3,
    "start_time": "2022-07-24T14:14:53.428Z"
   },
   {
    "duration": 18,
    "start_time": "2022-07-24T14:14:53.432Z"
   },
   {
    "duration": 427,
    "start_time": "2022-07-24T14:14:53.451Z"
   },
   {
    "duration": 86,
    "start_time": "2022-07-24T14:14:53.880Z"
   },
   {
    "duration": 400,
    "start_time": "2022-07-24T14:15:38.481Z"
   },
   {
    "duration": 9,
    "start_time": "2022-07-24T14:15:42.770Z"
   },
   {
    "duration": 507,
    "start_time": "2022-07-24T14:15:51.057Z"
   },
   {
    "duration": 570,
    "start_time": "2022-07-24T14:16:51.895Z"
   },
   {
    "duration": 508,
    "start_time": "2022-07-24T14:16:56.757Z"
   },
   {
    "duration": 501,
    "start_time": "2022-07-24T14:17:11.070Z"
   },
   {
    "duration": 330,
    "start_time": "2022-07-24T14:19:03.048Z"
   },
   {
    "duration": 444,
    "start_time": "2022-07-24T14:19:05.944Z"
   },
   {
    "duration": 67,
    "start_time": "2022-07-24T14:23:16.814Z"
   },
   {
    "duration": 3,
    "start_time": "2022-07-24T14:23:22.897Z"
   },
   {
    "duration": 3,
    "start_time": "2022-07-24T14:24:31.924Z"
   },
   {
    "duration": 3,
    "start_time": "2022-07-24T14:27:32.405Z"
   },
   {
    "duration": 5,
    "start_time": "2022-07-24T14:27:39.404Z"
   },
   {
    "duration": 3,
    "start_time": "2022-07-24T14:34:39.552Z"
   },
   {
    "duration": 3,
    "start_time": "2022-07-24T14:37:19.491Z"
   },
   {
    "duration": 3,
    "start_time": "2022-07-24T14:37:29.080Z"
   },
   {
    "duration": 3,
    "start_time": "2022-07-24T14:38:10.734Z"
   },
   {
    "duration": 4,
    "start_time": "2022-07-24T14:38:11.062Z"
   },
   {
    "duration": 3,
    "start_time": "2022-07-24T14:38:12.130Z"
   },
   {
    "duration": 2,
    "start_time": "2022-07-24T14:47:47.501Z"
   },
   {
    "duration": 613,
    "start_time": "2022-07-24T14:52:28.455Z"
   },
   {
    "duration": 10,
    "start_time": "2022-07-24T14:52:37.895Z"
   },
   {
    "duration": 522,
    "start_time": "2022-07-24T14:52:49.553Z"
   },
   {
    "duration": 9,
    "start_time": "2022-07-24T14:52:53.127Z"
   },
   {
    "duration": 460,
    "start_time": "2022-07-24T14:53:16.210Z"
   },
   {
    "duration": 100,
    "start_time": "2022-07-24T14:53:16.672Z"
   },
   {
    "duration": 120,
    "start_time": "2022-07-24T14:53:55.345Z"
   },
   {
    "duration": 155,
    "start_time": "2022-07-24T14:55:23.709Z"
   },
   {
    "duration": 933,
    "start_time": "2022-07-24T14:55:52.150Z"
   },
   {
    "duration": 91,
    "start_time": "2022-07-24T14:57:58.774Z"
   },
   {
    "duration": 496,
    "start_time": "2022-07-24T15:00:50.373Z"
   },
   {
    "duration": 8,
    "start_time": "2022-07-24T15:00:52.056Z"
   },
   {
    "duration": 26,
    "start_time": "2022-07-24T15:01:34.044Z"
   },
   {
    "duration": 45,
    "start_time": "2022-07-24T15:03:37.826Z"
   },
   {
    "duration": 7,
    "start_time": "2022-07-24T15:03:37.965Z"
   },
   {
    "duration": 573,
    "start_time": "2022-07-24T15:03:49.095Z"
   },
   {
    "duration": 15,
    "start_time": "2022-07-24T15:03:50.916Z"
   },
   {
    "duration": 503,
    "start_time": "2022-07-24T15:04:34.964Z"
   },
   {
    "duration": 9,
    "start_time": "2022-07-24T15:04:37.294Z"
   },
   {
    "duration": 48,
    "start_time": "2022-07-24T15:07:33.717Z"
   },
   {
    "duration": 164,
    "start_time": "2022-07-24T15:07:38.405Z"
   },
   {
    "duration": 1163,
    "start_time": "2022-07-24T15:07:46.315Z"
   },
   {
    "duration": 5,
    "start_time": "2022-07-24T15:07:47.748Z"
   },
   {
    "duration": 500,
    "start_time": "2022-07-24T15:07:58.872Z"
   },
   {
    "duration": 9,
    "start_time": "2022-07-24T15:08:01.845Z"
   },
   {
    "duration": 513,
    "start_time": "2022-07-24T15:23:03.459Z"
   },
   {
    "duration": 9,
    "start_time": "2022-07-24T15:23:05.082Z"
   },
   {
    "duration": 57,
    "start_time": "2022-07-24T15:26:02.205Z"
   },
   {
    "duration": 50,
    "start_time": "2022-07-24T15:26:08.906Z"
   },
   {
    "duration": 25,
    "start_time": "2022-07-24T15:26:15.658Z"
   },
   {
    "duration": 16,
    "start_time": "2022-07-24T15:26:18.492Z"
   },
   {
    "duration": 16,
    "start_time": "2022-07-24T15:26:22.107Z"
   },
   {
    "duration": 96,
    "start_time": "2022-07-24T15:27:24.854Z"
   },
   {
    "duration": 95,
    "start_time": "2022-07-24T15:27:48.825Z"
   },
   {
    "duration": 30,
    "start_time": "2022-07-24T15:27:55.612Z"
   },
   {
    "duration": 33,
    "start_time": "2022-07-24T15:28:30.827Z"
   },
   {
    "duration": 49,
    "start_time": "2022-07-24T15:28:37.473Z"
   },
   {
    "duration": 91,
    "start_time": "2022-07-24T15:28:43.706Z"
   },
   {
    "duration": 60,
    "start_time": "2022-07-24T15:28:49.526Z"
   },
   {
    "duration": 527,
    "start_time": "2022-07-24T15:29:42.658Z"
   },
   {
    "duration": 4,
    "start_time": "2022-07-24T15:29:46.525Z"
   },
   {
    "duration": 399,
    "start_time": "2022-07-24T15:29:46.531Z"
   },
   {
    "duration": 96,
    "start_time": "2022-07-24T15:29:46.932Z"
   },
   {
    "duration": 25,
    "start_time": "2022-07-24T15:29:47.030Z"
   },
   {
    "duration": 85,
    "start_time": "2022-07-24T15:29:47.057Z"
   },
   {
    "duration": 35,
    "start_time": "2022-07-24T15:29:47.144Z"
   },
   {
    "duration": 402,
    "start_time": "2022-07-24T15:29:47.183Z"
   },
   {
    "duration": 80,
    "start_time": "2022-07-24T15:29:47.587Z"
   },
   {
    "duration": 96,
    "start_time": "2022-07-24T15:29:47.678Z"
   },
   {
    "duration": 18,
    "start_time": "2022-07-24T15:29:47.776Z"
   },
   {
    "duration": 12,
    "start_time": "2022-07-24T15:29:47.795Z"
   },
   {
    "duration": 51,
    "start_time": "2022-07-24T15:30:28.215Z"
   },
   {
    "duration": 494,
    "start_time": "2022-07-24T15:30:31.473Z"
   },
   {
    "duration": 9,
    "start_time": "2022-07-24T15:30:36.633Z"
   },
   {
    "duration": 521,
    "start_time": "2022-07-24T15:31:45.752Z"
   },
   {
    "duration": 11,
    "start_time": "2022-07-24T15:31:47.014Z"
   },
   {
    "duration": 3,
    "start_time": "2022-07-24T15:33:32.406Z"
   },
   {
    "duration": 1023,
    "start_time": "2022-07-24T15:33:33.092Z"
   },
   {
    "duration": 4,
    "start_time": "2022-07-24T15:34:50.584Z"
   },
   {
    "duration": 4,
    "start_time": "2022-07-24T15:35:04.015Z"
   },
   {
    "duration": 1179,
    "start_time": "2022-07-24T15:35:04.696Z"
   },
   {
    "duration": 1172,
    "start_time": "2022-07-24T15:35:26.404Z"
   },
   {
    "duration": 1090,
    "start_time": "2022-07-24T15:35:30.541Z"
   },
   {
    "duration": 6,
    "start_time": "2022-07-24T15:35:41.305Z"
   },
   {
    "duration": 25,
    "start_time": "2022-07-24T15:35:45.568Z"
   },
   {
    "duration": 4,
    "start_time": "2022-07-24T15:36:10.694Z"
   },
   {
    "duration": 18,
    "start_time": "2022-07-24T15:36:20.724Z"
   },
   {
    "duration": 43,
    "start_time": "2022-07-24T15:37:11.042Z"
   },
   {
    "duration": 28,
    "start_time": "2022-07-24T15:37:34.487Z"
   },
   {
    "duration": 30,
    "start_time": "2022-07-24T15:38:32.257Z"
   },
   {
    "duration": 25,
    "start_time": "2022-07-24T15:39:11.537Z"
   },
   {
    "duration": 37,
    "start_time": "2022-07-24T15:39:36.585Z"
   },
   {
    "duration": 52,
    "start_time": "2022-07-24T15:39:42.422Z"
   },
   {
    "duration": 47,
    "start_time": "2022-07-24T15:40:36.186Z"
   },
   {
    "duration": 40,
    "start_time": "2022-07-24T15:40:49.193Z"
   },
   {
    "duration": 11,
    "start_time": "2022-07-24T15:51:23.848Z"
   },
   {
    "duration": 10,
    "start_time": "2022-07-24T15:51:34.313Z"
   },
   {
    "duration": 9,
    "start_time": "2022-07-24T15:51:44.753Z"
   },
   {
    "duration": 4,
    "start_time": "2022-07-24T15:51:48.162Z"
   },
   {
    "duration": 11,
    "start_time": "2022-07-24T15:52:14.346Z"
   },
   {
    "duration": 12,
    "start_time": "2022-07-24T15:52:21.895Z"
   },
   {
    "duration": 3,
    "start_time": "2022-07-24T15:52:42.306Z"
   },
   {
    "duration": 11,
    "start_time": "2022-07-24T15:52:47.226Z"
   },
   {
    "duration": 23,
    "start_time": "2022-07-24T15:53:47.147Z"
   },
   {
    "duration": 15,
    "start_time": "2022-07-24T15:54:03.622Z"
   },
   {
    "duration": 3,
    "start_time": "2022-07-24T15:57:14.900Z"
   },
   {
    "duration": 37,
    "start_time": "2022-07-24T15:57:16.025Z"
   },
   {
    "duration": 4,
    "start_time": "2022-07-24T16:00:38.517Z"
   },
   {
    "duration": 6,
    "start_time": "2022-07-24T16:01:32.376Z"
   },
   {
    "duration": 23,
    "start_time": "2022-07-24T16:01:33.702Z"
   },
   {
    "duration": 3,
    "start_time": "2022-07-24T16:01:40.478Z"
   },
   {
    "duration": 6,
    "start_time": "2022-07-24T16:01:42.703Z"
   },
   {
    "duration": 19,
    "start_time": "2022-07-24T16:01:43.125Z"
   },
   {
    "duration": 14,
    "start_time": "2022-07-24T16:01:52.333Z"
   },
   {
    "duration": 24,
    "start_time": "2022-07-24T16:01:52.812Z"
   },
   {
    "duration": 4,
    "start_time": "2022-07-24T16:02:00.996Z"
   },
   {
    "duration": 1457,
    "start_time": "2022-07-24T16:02:01.605Z"
   },
   {
    "duration": 4056,
    "start_time": "2022-07-24T16:07:33.854Z"
   },
   {
    "duration": 4,
    "start_time": "2022-07-24T16:11:24.011Z"
   },
   {
    "duration": 4093,
    "start_time": "2022-07-24T16:11:25.741Z"
   },
   {
    "duration": 1415,
    "start_time": "2022-07-24T16:11:43.489Z"
   },
   {
    "duration": 1393,
    "start_time": "2022-07-24T16:11:50.630Z"
   },
   {
    "duration": 1423,
    "start_time": "2022-07-24T16:11:56.322Z"
   },
   {
    "duration": 1487,
    "start_time": "2022-07-24T16:12:12.162Z"
   },
   {
    "duration": 1338,
    "start_time": "2022-07-24T16:13:17.642Z"
   },
   {
    "duration": 4110,
    "start_time": "2022-07-24T16:13:24.288Z"
   },
   {
    "duration": 4258,
    "start_time": "2022-07-24T16:14:39.822Z"
   },
   {
    "duration": 3,
    "start_time": "2022-07-24T16:15:09.108Z"
   },
   {
    "duration": 4,
    "start_time": "2022-07-24T16:15:09.949Z"
   },
   {
    "duration": 4379,
    "start_time": "2022-07-24T16:15:10.707Z"
   },
   {
    "duration": 5,
    "start_time": "2022-07-24T16:30:11.796Z"
   },
   {
    "duration": 1366,
    "start_time": "2022-07-24T16:30:40.084Z"
   },
   {
    "duration": 6,
    "start_time": "2022-07-24T16:30:46.902Z"
   },
   {
    "duration": 4126,
    "start_time": "2022-07-24T16:30:47.881Z"
   },
   {
    "duration": 6,
    "start_time": "2022-07-24T16:38:17.376Z"
   },
   {
    "duration": 400,
    "start_time": "2022-07-24T16:38:17.384Z"
   },
   {
    "duration": 29,
    "start_time": "2022-07-24T16:38:17.785Z"
   },
   {
    "duration": 85,
    "start_time": "2022-07-24T16:38:17.816Z"
   },
   {
    "duration": 25,
    "start_time": "2022-07-24T16:38:17.903Z"
   },
   {
    "duration": 439,
    "start_time": "2022-07-24T16:38:17.929Z"
   },
   {
    "duration": 6,
    "start_time": "2022-07-24T16:38:18.370Z"
   },
   {
    "duration": 104,
    "start_time": "2022-07-24T16:38:18.378Z"
   },
   {
    "duration": 7,
    "start_time": "2022-07-24T16:38:18.484Z"
   },
   {
    "duration": 5,
    "start_time": "2022-07-24T16:38:18.493Z"
   },
   {
    "duration": 4128,
    "start_time": "2022-07-24T16:38:18.499Z"
   },
   {
    "duration": 3,
    "start_time": "2022-07-24T17:13:49.324Z"
   },
   {
    "duration": 415,
    "start_time": "2022-07-24T17:13:49.328Z"
   },
   {
    "duration": 37,
    "start_time": "2022-07-24T17:13:49.745Z"
   },
   {
    "duration": 84,
    "start_time": "2022-07-24T17:13:49.783Z"
   },
   {
    "duration": 26,
    "start_time": "2022-07-24T17:13:49.873Z"
   },
   {
    "duration": 386,
    "start_time": "2022-07-24T17:13:49.900Z"
   },
   {
    "duration": 78,
    "start_time": "2022-07-24T17:13:50.290Z"
   },
   {
    "duration": 110,
    "start_time": "2022-07-24T17:13:50.370Z"
   },
   {
    "duration": 11,
    "start_time": "2022-07-24T17:13:50.482Z"
   },
   {
    "duration": 10,
    "start_time": "2022-07-24T17:13:50.494Z"
   },
   {
    "duration": 4083,
    "start_time": "2022-07-24T17:13:50.506Z"
   },
   {
    "duration": 23,
    "start_time": "2022-07-24T17:16:08.914Z"
   },
   {
    "duration": 21,
    "start_time": "2022-07-24T17:16:18.283Z"
   },
   {
    "duration": 25,
    "start_time": "2022-07-24T17:16:33.403Z"
   },
   {
    "duration": 60,
    "start_time": "2022-07-24T17:18:23.755Z"
   },
   {
    "duration": 25,
    "start_time": "2022-07-24T17:18:32.752Z"
   },
   {
    "duration": 42,
    "start_time": "2022-07-24T17:18:46.603Z"
   },
   {
    "duration": 152,
    "start_time": "2022-07-24T17:18:58.708Z"
   },
   {
    "duration": 82,
    "start_time": "2022-07-24T17:21:50.229Z"
   },
   {
    "duration": 577,
    "start_time": "2022-07-24T17:43:14.039Z"
   },
   {
    "duration": 101,
    "start_time": "2022-07-24T17:43:40.311Z"
   },
   {
    "duration": 3995,
    "start_time": "2022-07-24T17:49:01.083Z"
   },
   {
    "duration": 4,
    "start_time": "2022-07-24T17:54:10.192Z"
   },
   {
    "duration": 407,
    "start_time": "2022-07-24T17:54:10.197Z"
   },
   {
    "duration": 21,
    "start_time": "2022-07-24T17:54:10.606Z"
   },
   {
    "duration": 23,
    "start_time": "2022-07-24T17:54:10.628Z"
   },
   {
    "duration": 21,
    "start_time": "2022-07-24T17:54:10.664Z"
   },
   {
    "duration": 188,
    "start_time": "2022-07-24T17:54:10.687Z"
   },
   {
    "duration": 35,
    "start_time": "2022-07-24T17:54:10.877Z"
   },
   {
    "duration": 87,
    "start_time": "2022-07-24T17:54:10.914Z"
   },
   {
    "duration": 570,
    "start_time": "2022-07-24T17:54:11.003Z"
   },
   {
    "duration": 102,
    "start_time": "2022-07-24T17:54:11.664Z"
   },
   {
    "duration": 3,
    "start_time": "2022-07-24T17:54:11.768Z"
   },
   {
    "duration": 10,
    "start_time": "2022-07-24T17:54:11.772Z"
   },
   {
    "duration": 6,
    "start_time": "2022-07-24T17:54:11.784Z"
   },
   {
    "duration": 7,
    "start_time": "2022-07-24T17:54:11.792Z"
   },
   {
    "duration": 4007,
    "start_time": "2022-07-24T17:54:11.800Z"
   },
   {
    "duration": 3,
    "start_time": "2022-07-24T17:55:00.814Z"
   },
   {
    "duration": 403,
    "start_time": "2022-07-24T17:55:00.819Z"
   },
   {
    "duration": 19,
    "start_time": "2022-07-24T17:55:01.224Z"
   },
   {
    "duration": 30,
    "start_time": "2022-07-24T17:55:01.245Z"
   },
   {
    "duration": 20,
    "start_time": "2022-07-24T17:55:01.277Z"
   },
   {
    "duration": 200,
    "start_time": "2022-07-24T17:55:01.299Z"
   },
   {
    "duration": 28,
    "start_time": "2022-07-24T17:55:01.501Z"
   },
   {
    "duration": 108,
    "start_time": "2022-07-24T17:55:01.531Z"
   },
   {
    "duration": 527,
    "start_time": "2022-07-24T17:55:01.641Z"
   },
   {
    "duration": 181,
    "start_time": "2022-07-24T17:55:02.169Z"
   },
   {
    "duration": 14,
    "start_time": "2022-07-24T17:55:02.351Z"
   },
   {
    "duration": 9,
    "start_time": "2022-07-24T17:55:02.366Z"
   },
   {
    "duration": 12,
    "start_time": "2022-07-24T17:55:02.377Z"
   },
   {
    "duration": 6,
    "start_time": "2022-07-24T17:55:02.391Z"
   },
   {
    "duration": 3906,
    "start_time": "2022-07-24T17:55:02.398Z"
   },
   {
    "duration": 2479,
    "start_time": "2022-07-25T14:08:05.278Z"
   },
   {
    "duration": 1432,
    "start_time": "2022-07-25T14:08:07.758Z"
   },
   {
    "duration": 25,
    "start_time": "2022-07-25T14:08:09.191Z"
   },
   {
    "duration": 17,
    "start_time": "2022-07-25T14:08:09.217Z"
   },
   {
    "duration": 16,
    "start_time": "2022-07-25T14:08:09.236Z"
   },
   {
    "duration": 167,
    "start_time": "2022-07-25T14:08:09.254Z"
   },
   {
    "duration": 28,
    "start_time": "2022-07-25T14:08:09.422Z"
   },
   {
    "duration": 105,
    "start_time": "2022-07-25T14:08:09.452Z"
   },
   {
    "duration": 449,
    "start_time": "2022-07-25T14:08:09.559Z"
   },
   {
    "duration": 573,
    "start_time": "2022-07-25T14:08:10.012Z"
   },
   {
    "duration": 3,
    "start_time": "2022-07-25T14:08:10.587Z"
   },
   {
    "duration": 59,
    "start_time": "2022-07-25T14:08:10.591Z"
   },
   {
    "duration": 18,
    "start_time": "2022-07-25T14:08:10.651Z"
   },
   {
    "duration": 26,
    "start_time": "2022-07-25T14:08:10.671Z"
   },
   {
    "duration": 3550,
    "start_time": "2022-07-25T14:08:10.699Z"
   },
   {
    "duration": 147,
    "start_time": "2022-07-25T14:08:34.632Z"
   },
   {
    "duration": 3,
    "start_time": "2022-07-25T14:08:36.948Z"
   },
   {
    "duration": 6,
    "start_time": "2022-07-25T14:08:37.532Z"
   },
   {
    "duration": 3515,
    "start_time": "2022-07-25T14:08:38.278Z"
   },
   {
    "duration": 3,
    "start_time": "2022-07-25T14:09:05.245Z"
   },
   {
    "duration": 5,
    "start_time": "2022-07-25T14:09:05.682Z"
   },
   {
    "duration": 110,
    "start_time": "2022-07-25T14:09:06.472Z"
   },
   {
    "duration": 3,
    "start_time": "2022-07-25T14:09:12.534Z"
   },
   {
    "duration": 5,
    "start_time": "2022-07-25T14:09:12.791Z"
   },
   {
    "duration": 24,
    "start_time": "2022-07-25T14:09:13.254Z"
   },
   {
    "duration": 3,
    "start_time": "2022-07-25T14:09:18.320Z"
   },
   {
    "duration": 5,
    "start_time": "2022-07-25T14:09:18.536Z"
   },
   {
    "duration": 3545,
    "start_time": "2022-07-25T14:09:18.732Z"
   },
   {
    "duration": 3,
    "start_time": "2022-07-25T14:09:30.578Z"
   },
   {
    "duration": 5,
    "start_time": "2022-07-25T14:09:30.729Z"
   },
   {
    "duration": 3558,
    "start_time": "2022-07-25T14:09:30.878Z"
   },
   {
    "duration": 11,
    "start_time": "2022-07-25T14:44:02.550Z"
   },
   {
    "duration": 8,
    "start_time": "2022-07-25T14:44:04.000Z"
   },
   {
    "duration": 5,
    "start_time": "2022-07-25T15:01:03.043Z"
   },
   {
    "duration": 45,
    "start_time": "2022-07-25T15:01:04.983Z"
   },
   {
    "duration": 1256,
    "start_time": "2022-07-25T15:01:09.692Z"
   },
   {
    "duration": 877,
    "start_time": "2022-07-25T15:01:10.950Z"
   },
   {
    "duration": 33,
    "start_time": "2022-07-25T15:01:11.829Z"
   },
   {
    "duration": 31,
    "start_time": "2022-07-25T15:01:11.865Z"
   },
   {
    "duration": 21,
    "start_time": "2022-07-25T15:01:11.898Z"
   },
   {
    "duration": 230,
    "start_time": "2022-07-25T15:01:11.921Z"
   },
   {
    "duration": 37,
    "start_time": "2022-07-25T15:01:12.165Z"
   },
   {
    "duration": 108,
    "start_time": "2022-07-25T15:01:12.203Z"
   },
   {
    "duration": 457,
    "start_time": "2022-07-25T15:01:12.313Z"
   },
   {
    "duration": 652,
    "start_time": "2022-07-25T15:01:12.778Z"
   },
   {
    "duration": 4,
    "start_time": "2022-07-25T15:01:13.433Z"
   },
   {
    "duration": 7,
    "start_time": "2022-07-25T15:01:13.439Z"
   },
   {
    "duration": 16,
    "start_time": "2022-07-25T15:01:13.447Z"
   },
   {
    "duration": 20,
    "start_time": "2022-07-25T15:01:13.467Z"
   },
   {
    "duration": 4226,
    "start_time": "2022-07-25T15:01:13.489Z"
   },
   {
    "duration": 3,
    "start_time": "2022-07-25T15:03:40.440Z"
   },
   {
    "duration": 5,
    "start_time": "2022-07-25T15:03:41.155Z"
   },
   {
    "duration": 4119,
    "start_time": "2022-07-25T15:03:41.885Z"
   },
   {
    "duration": 44,
    "start_time": "2022-07-25T15:05:24.349Z"
   },
   {
    "duration": 6,
    "start_time": "2022-07-25T15:06:23.244Z"
   },
   {
    "duration": 4079,
    "start_time": "2022-07-25T15:06:24.537Z"
   },
   {
    "duration": 3,
    "start_time": "2022-07-25T15:52:25.398Z"
   },
   {
    "duration": 346,
    "start_time": "2022-07-25T15:52:25.403Z"
   },
   {
    "duration": 18,
    "start_time": "2022-07-25T15:52:25.750Z"
   },
   {
    "duration": 17,
    "start_time": "2022-07-25T15:52:25.769Z"
   },
   {
    "duration": 27,
    "start_time": "2022-07-25T15:52:25.787Z"
   },
   {
    "duration": 155,
    "start_time": "2022-07-25T15:52:25.815Z"
   },
   {
    "duration": 46,
    "start_time": "2022-07-25T15:52:25.971Z"
   },
   {
    "duration": 73,
    "start_time": "2022-07-25T15:52:26.019Z"
   },
   {
    "duration": 601,
    "start_time": "2022-07-25T15:52:26.102Z"
   },
   {
    "duration": 171,
    "start_time": "2022-07-25T15:52:26.704Z"
   },
   {
    "duration": 3,
    "start_time": "2022-07-25T15:52:26.877Z"
   },
   {
    "duration": 24,
    "start_time": "2022-07-25T15:52:26.881Z"
   },
   {
    "duration": 6,
    "start_time": "2022-07-25T15:52:26.906Z"
   },
   {
    "duration": 12,
    "start_time": "2022-07-25T15:52:26.914Z"
   },
   {
    "duration": 3539,
    "start_time": "2022-07-25T15:52:26.928Z"
   },
   {
    "duration": 8,
    "start_time": "2022-07-25T15:56:19.843Z"
   },
   {
    "duration": 11,
    "start_time": "2022-07-25T15:56:29.647Z"
   },
   {
    "duration": 2003,
    "start_time": "2022-07-25T15:56:38.345Z"
   },
   {
    "duration": 5,
    "start_time": "2022-07-25T15:56:45.492Z"
   },
   {
    "duration": 11,
    "start_time": "2022-07-25T15:56:47.094Z"
   },
   {
    "duration": 3,
    "start_time": "2022-07-25T15:56:51.643Z"
   },
   {
    "duration": 3,
    "start_time": "2022-07-25T15:56:55.600Z"
   },
   {
    "duration": 3,
    "start_time": "2022-07-25T15:56:56.647Z"
   },
   {
    "duration": 4,
    "start_time": "2022-07-25T15:56:58.219Z"
   },
   {
    "duration": 7,
    "start_time": "2022-07-25T15:58:32.847Z"
   },
   {
    "duration": 6,
    "start_time": "2022-07-25T15:59:35.002Z"
   },
   {
    "duration": 12,
    "start_time": "2022-07-25T15:59:37.403Z"
   },
   {
    "duration": 7,
    "start_time": "2022-07-25T15:59:42.479Z"
   },
   {
    "duration": 9,
    "start_time": "2022-07-25T15:59:45.492Z"
   },
   {
    "duration": 7,
    "start_time": "2022-07-25T15:59:47.194Z"
   },
   {
    "duration": 7,
    "start_time": "2022-07-25T16:02:34.549Z"
   },
   {
    "duration": 7,
    "start_time": "2022-07-25T16:02:38.988Z"
   },
   {
    "duration": 7,
    "start_time": "2022-07-25T16:02:42.401Z"
   },
   {
    "duration": 3,
    "start_time": "2022-07-25T16:02:49.887Z"
   },
   {
    "duration": 350,
    "start_time": "2022-07-25T16:02:49.891Z"
   },
   {
    "duration": 19,
    "start_time": "2022-07-25T16:02:50.243Z"
   },
   {
    "duration": 18,
    "start_time": "2022-07-25T16:02:50.263Z"
   },
   {
    "duration": 36,
    "start_time": "2022-07-25T16:02:50.282Z"
   },
   {
    "duration": 153,
    "start_time": "2022-07-25T16:02:50.320Z"
   },
   {
    "duration": 40,
    "start_time": "2022-07-25T16:02:50.475Z"
   },
   {
    "duration": 69,
    "start_time": "2022-07-25T16:02:50.517Z"
   },
   {
    "duration": 517,
    "start_time": "2022-07-25T16:02:50.587Z"
   },
   {
    "duration": 178,
    "start_time": "2022-07-25T16:02:51.105Z"
   },
   {
    "duration": 17,
    "start_time": "2022-07-25T16:02:51.285Z"
   },
   {
    "duration": 5,
    "start_time": "2022-07-25T16:02:51.304Z"
   },
   {
    "duration": 7,
    "start_time": "2022-07-25T16:02:51.311Z"
   },
   {
    "duration": 9,
    "start_time": "2022-07-25T16:02:51.320Z"
   },
   {
    "duration": 3608,
    "start_time": "2022-07-25T16:02:51.331Z"
   },
   {
    "duration": 11,
    "start_time": "2022-07-25T16:03:09.341Z"
   },
   {
    "duration": 3,
    "start_time": "2022-07-25T16:03:25.605Z"
   },
   {
    "duration": 338,
    "start_time": "2022-07-25T16:03:25.610Z"
   },
   {
    "duration": 19,
    "start_time": "2022-07-25T16:03:25.949Z"
   },
   {
    "duration": 37,
    "start_time": "2022-07-25T16:03:25.970Z"
   },
   {
    "duration": 16,
    "start_time": "2022-07-25T16:03:26.009Z"
   },
   {
    "duration": 157,
    "start_time": "2022-07-25T16:03:26.026Z"
   },
   {
    "duration": 36,
    "start_time": "2022-07-25T16:03:26.184Z"
   },
   {
    "duration": 2,
    "start_time": "2022-07-25T16:03:26.222Z"
   },
   {
    "duration": 477,
    "start_time": "2022-07-25T16:03:26.226Z"
   },
   {
    "duration": 169,
    "start_time": "2022-07-25T16:03:26.705Z"
   },
   {
    "duration": 2,
    "start_time": "2022-07-25T16:03:26.876Z"
   },
   {
    "duration": 7,
    "start_time": "2022-07-25T16:03:26.879Z"
   },
   {
    "duration": 3,
    "start_time": "2022-07-25T16:03:26.902Z"
   },
   {
    "duration": 14,
    "start_time": "2022-07-25T16:03:26.907Z"
   },
   {
    "duration": 3581,
    "start_time": "2022-07-25T16:03:26.923Z"
   },
   {
    "duration": 126,
    "start_time": "2022-07-25T16:04:06.783Z"
   },
   {
    "duration": 132,
    "start_time": "2022-07-25T16:04:10.072Z"
   },
   {
    "duration": 16,
    "start_time": "2022-07-25T16:04:12.913Z"
   },
   {
    "duration": 4,
    "start_time": "2022-07-25T16:04:36.322Z"
   },
   {
    "duration": 26,
    "start_time": "2022-07-25T16:04:46.816Z"
   },
   {
    "duration": 3,
    "start_time": "2022-07-25T16:04:53.330Z"
   },
   {
    "duration": 27,
    "start_time": "2022-07-25T16:04:53.518Z"
   },
   {
    "duration": 27,
    "start_time": "2022-07-25T16:05:01.616Z"
   },
   {
    "duration": 3,
    "start_time": "2022-07-25T16:49:04.212Z"
   },
   {
    "duration": 26,
    "start_time": "2022-07-25T16:49:04.484Z"
   },
   {
    "duration": 3,
    "start_time": "2022-07-25T16:49:09.771Z"
   },
   {
    "duration": 26,
    "start_time": "2022-07-25T16:49:09.956Z"
   },
   {
    "duration": 9,
    "start_time": "2022-07-25T16:49:16.916Z"
   },
   {
    "duration": 9,
    "start_time": "2022-07-25T16:49:28.161Z"
   },
   {
    "duration": 442,
    "start_time": "2022-07-25T16:50:10.762Z"
   },
   {
    "duration": 530,
    "start_time": "2022-07-25T16:50:21.873Z"
   },
   {
    "duration": 541,
    "start_time": "2022-07-25T16:51:08.062Z"
   },
   {
    "duration": 1875,
    "start_time": "2022-07-25T16:52:01.263Z"
   },
   {
    "duration": 1507,
    "start_time": "2022-07-25T16:52:03.787Z"
   },
   {
    "duration": 9,
    "start_time": "2022-07-25T16:52:09.327Z"
   },
   {
    "duration": 8,
    "start_time": "2022-07-25T16:52:25.175Z"
   },
   {
    "duration": 13,
    "start_time": "2022-07-25T16:52:28.527Z"
   },
   {
    "duration": 8,
    "start_time": "2022-07-25T16:52:34.672Z"
   },
   {
    "duration": 9,
    "start_time": "2022-07-25T16:52:47.332Z"
   },
   {
    "duration": 7,
    "start_time": "2022-07-25T16:52:52.895Z"
   },
   {
    "duration": 25,
    "start_time": "2022-07-25T16:53:32.708Z"
   },
   {
    "duration": 27,
    "start_time": "2022-07-25T16:53:34.058Z"
   },
   {
    "duration": 207,
    "start_time": "2022-07-25T16:54:14.299Z"
   },
   {
    "duration": 133,
    "start_time": "2022-07-25T16:54:30.472Z"
   },
   {
    "duration": 4,
    "start_time": "2022-07-25T16:54:35.063Z"
   },
   {
    "duration": 5,
    "start_time": "2022-07-25T16:54:45.532Z"
   },
   {
    "duration": 5,
    "start_time": "2022-07-25T16:54:50.269Z"
   },
   {
    "duration": 43,
    "start_time": "2022-07-25T16:55:00.661Z"
   },
   {
    "duration": 16,
    "start_time": "2022-07-25T16:55:33.803Z"
   },
   {
    "duration": 1751,
    "start_time": "2022-07-25T16:55:43.459Z"
   },
   {
    "duration": 10,
    "start_time": "2022-07-25T16:55:47.157Z"
   },
   {
    "duration": 224,
    "start_time": "2022-07-25T16:55:54.250Z"
   },
   {
    "duration": 36,
    "start_time": "2022-07-25T16:56:14.167Z"
   },
   {
    "duration": 12,
    "start_time": "2022-07-25T16:56:21.451Z"
   },
   {
    "duration": 9,
    "start_time": "2022-07-25T16:56:27.069Z"
   },
   {
    "duration": 5,
    "start_time": "2022-07-25T16:56:32.348Z"
   },
   {
    "duration": 78,
    "start_time": "2022-07-25T16:57:09.125Z"
   },
   {
    "duration": 25,
    "start_time": "2022-07-25T16:57:12.969Z"
   },
   {
    "duration": 27,
    "start_time": "2022-07-25T16:57:15.287Z"
   },
   {
    "duration": 3,
    "start_time": "2022-07-25T16:57:21.849Z"
   },
   {
    "duration": 122,
    "start_time": "2022-07-25T16:57:23.379Z"
   },
   {
    "duration": 3,
    "start_time": "2022-07-25T16:57:25.863Z"
   },
   {
    "duration": 25,
    "start_time": "2022-07-25T16:57:26.017Z"
   },
   {
    "duration": 3,
    "start_time": "2022-07-25T16:57:28.968Z"
   },
   {
    "duration": 28,
    "start_time": "2022-07-25T16:57:29.167Z"
   },
   {
    "duration": 95,
    "start_time": "2022-07-25T16:57:51.273Z"
   },
   {
    "duration": 25,
    "start_time": "2022-07-25T16:57:53.963Z"
   },
   {
    "duration": 2293,
    "start_time": "2022-07-25T16:58:07.076Z"
   },
   {
    "duration": 325,
    "start_time": "2022-07-25T16:58:09.371Z"
   },
   {
    "duration": 25,
    "start_time": "2022-07-25T16:58:09.697Z"
   },
   {
    "duration": 17,
    "start_time": "2022-07-25T16:58:09.723Z"
   },
   {
    "duration": 16,
    "start_time": "2022-07-25T16:58:09.742Z"
   },
   {
    "duration": 178,
    "start_time": "2022-07-25T16:58:09.759Z"
   },
   {
    "duration": 31,
    "start_time": "2022-07-25T16:58:09.939Z"
   },
   {
    "duration": 101,
    "start_time": "2022-07-25T16:58:09.971Z"
   },
   {
    "duration": 529,
    "start_time": "2022-07-25T16:58:10.074Z"
   },
   {
    "duration": 410,
    "start_time": "2022-07-25T16:58:10.604Z"
   },
   {
    "duration": 2,
    "start_time": "2022-07-25T16:58:11.015Z"
   },
   {
    "duration": 6,
    "start_time": "2022-07-25T16:58:11.019Z"
   },
   {
    "duration": 5,
    "start_time": "2022-07-25T16:58:11.026Z"
   },
   {
    "duration": 7,
    "start_time": "2022-07-25T16:58:11.034Z"
   },
   {
    "duration": 3524,
    "start_time": "2022-07-25T16:58:11.043Z"
   },
   {
    "duration": 1096,
    "start_time": "2022-07-26T12:30:25.582Z"
   },
   {
    "duration": 754,
    "start_time": "2022-07-26T12:30:26.680Z"
   },
   {
    "duration": 28,
    "start_time": "2022-07-26T12:30:27.436Z"
   },
   {
    "duration": 27,
    "start_time": "2022-07-26T12:30:27.466Z"
   },
   {
    "duration": 47,
    "start_time": "2022-07-26T12:30:27.495Z"
   },
   {
    "duration": 191,
    "start_time": "2022-07-26T12:30:27.543Z"
   },
   {
    "duration": 37,
    "start_time": "2022-07-26T12:30:27.736Z"
   },
   {
    "duration": 105,
    "start_time": "2022-07-26T12:30:27.774Z"
   },
   {
    "duration": 554,
    "start_time": "2022-07-26T12:30:27.881Z"
   },
   {
    "duration": 598,
    "start_time": "2022-07-26T12:30:28.438Z"
   },
   {
    "duration": 3,
    "start_time": "2022-07-26T12:30:29.038Z"
   },
   {
    "duration": 9,
    "start_time": "2022-07-26T12:30:29.042Z"
   },
   {
    "duration": 6,
    "start_time": "2022-07-26T12:30:29.052Z"
   },
   {
    "duration": 8,
    "start_time": "2022-07-26T12:30:29.060Z"
   },
   {
    "duration": 3378,
    "start_time": "2022-07-26T12:30:29.069Z"
   },
   {
    "duration": 127,
    "start_time": "2022-07-26T12:31:44.965Z"
   }
  ],
  "kernelspec": {
   "display_name": "Python 3 (ipykernel)",
   "language": "python",
   "name": "python3"
  },
  "language_info": {
   "codemirror_mode": {
    "name": "ipython",
    "version": 3
   },
   "file_extension": ".py",
   "mimetype": "text/x-python",
   "name": "python",
   "nbconvert_exporter": "python",
   "pygments_lexer": "ipython3",
   "version": "3.9.5"
  },
  "toc": {
   "base_numbering": 1,
   "nav_menu": {},
   "number_sections": true,
   "sideBar": true,
   "skip_h1_title": true,
   "title_cell": "Table of Contents",
   "title_sidebar": "Contents",
   "toc_cell": false,
   "toc_position": {},
   "toc_section_display": true,
   "toc_window_display": true
  }
 },
 "nbformat": 4,
 "nbformat_minor": 2
}
